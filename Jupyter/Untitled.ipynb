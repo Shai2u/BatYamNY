{
 "cells": [
  {
   "cell_type": "code",
   "execution_count": 1,
   "metadata": {},
   "outputs": [
    {
     "name": "stdout",
     "output_type": "stream",
     "text": [
      "{\"name\": \"messenger\", \"playstore\": true, \"company\": \"Facebook\", \"price\": 100}\n"
     ]
    }
   ],
   "source": [
    "import json\n",
    "\n",
    "appDict = {\n",
    "  'name': 'messenger',\n",
    "  'playstore': True,\n",
    "  'company': 'Facebook',\n",
    "  'price': 100\n",
    "}\n",
    "app_json = json.dumps(appDict)\n",
    "print(app_json)"
   ]
  },
  {
   "cell_type": "code",
   "execution_count": null,
   "metadata": {},
   "outputs": [],
   "source": [
    "import json\n",
    "\n",
    "personDict = {\n",
    "  'bill': 'tech',\n",
    "  'federer': 'tennis',\n",
    "  'ronaldo': 'football',\n",
    "  'woods': 'golf',\n",
    "  'ali': 'boxing'\n",
    "}\n",
    "app_json = json.dumps(personDict, sort_keys=True)\n",
    "print(app_json)"
   ]
  }
 ],
 "metadata": {
  "kernelspec": {
   "display_name": "Python 3",
   "language": "python",
   "name": "python3"
  },
  "language_info": {
   "codemirror_mode": {
    "name": "ipython",
    "version": 3
   },
   "file_extension": ".py",
   "mimetype": "text/x-python",
   "name": "python",
   "nbconvert_exporter": "python",
   "pygments_lexer": "ipython3",
   "version": "3.7.3"
  }
 },
 "nbformat": 4,
 "nbformat_minor": 2
}
