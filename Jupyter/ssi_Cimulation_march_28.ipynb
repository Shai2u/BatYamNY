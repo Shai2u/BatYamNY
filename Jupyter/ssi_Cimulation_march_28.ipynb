{
 "cells": [
  {
   "cell_type": "markdown",
   "metadata": {
    "colab_type": "text",
    "id": "Q43wP1cVUeRv"
   },
   "source": [
    "## <h1>Simulation Simple Iteration \"Cimulation\" Israel Bat Yam Version March 6 (update march 28)</h1>\n",
    "this is a proof of concept that the simulation works and that it's solid.\n",
    "this simultation doesn't hold all the correct data, as the data is fautlty and rework is needed to it\n",
    "what this simulation has is 5 iterations\n",
    "the first 3 iterations are Tama 38/1\n",
    "the 4th iteration is Tama 38/2\n",
    "and the 5th iteration is an example of a Taba Planning"
   ]
  },
  {
   "cell_type": "markdown",
   "metadata": {
    "colab": {},
    "colab_type": "code",
    "id": "OjgN6wCzUXEJ"
   },
   "source": [
    "<h1>step 1: Loading the files</h1>"
   ]
  },
  {
   "cell_type": "code",
   "execution_count": 14,
   "metadata": {
    "colab": {},
    "colab_type": "code",
    "id": "ZUi_sjanPia9"
   },
   "outputs": [],
   "source": [
    "from ssi_GEOPACKAGE_march_28 import SSI"
   ]
  },
  {
   "cell_type": "code",
   "execution_count": 15,
   "metadata": {},
   "outputs": [
    {
     "data": {
      "application/vnd.jupyter.widget-view+json": {
       "model_id": "453bf956981e40449802505e20076e3f",
       "version_major": 2,
       "version_minor": 0
      },
      "text/plain": [
       "Text(value='cim_0326_1234', description='Folder:')"
      ]
     },
     "metadata": {},
     "output_type": "display_data"
    }
   ],
   "source": [
    "ssi = SSI()\n",
    "display(ssi.simulation_folder)"
   ]
  },
  {
   "cell_type": "markdown",
   "metadata": {
    "colab_type": "text",
    "id": "cKOBoJ4wUx7w"
   },
   "source": [
    "## Reference to the dictionary File\n",
    "### Initiate GIS files load old buildings, background buildings and new updated buildings\n",
    "### Dictionary File is important to keep a reference of the main files for the simulation"
   ]
  },
  {
   "cell_type": "code",
   "execution_count": 16,
   "metadata": {},
   "outputs": [
    {
     "data": {
      "application/vnd.jupyter.widget-view+json": {
       "model_id": "daf4aa3e5b8d42ab80191504daeb7c15",
       "version_major": 2,
       "version_minor": 0
      },
      "text/plain": [
       "Text(value='agents.xlsx', description='Agent File')"
      ]
     },
     "metadata": {},
     "output_type": "display_data"
    }
   ],
   "source": [
    "display(ssi.agents_name)"
   ]
  },
  {
   "cell_type": "code",
   "execution_count": 17,
   "metadata": {},
   "outputs": [],
   "source": [
    "ssi.init_gis()\n",
    "ssi.init_db()"
   ]
  },
  {
   "cell_type": "markdown",
   "metadata": {},
   "source": [
    "<h2>Files have been loaded</h2> \n",
    "<h1>step 2:Displyaing the the original buildings Using Folium and displaying statistics to them</h1>"
   ]
  },
  {
   "cell_type": "code",
   "execution_count": 18,
   "metadata": {},
   "outputs": [
    {
     "data": {
      "application/vnd.jupyter.widget-view+json": {
       "model_id": "d2472290a8cf47fca16d177c75bf6d92",
       "version_major": 2,
       "version_minor": 0
      },
      "text/plain": [
       "Checkbox(value=False, description='Display Before Map?', indent=False)"
      ]
     },
     "metadata": {},
     "output_type": "display_data"
    }
   ],
   "source": [
    "display (ssi.before_map)"
   ]
  },
  {
   "cell_type": "code",
   "execution_count": 19,
   "metadata": {},
   "outputs": [],
   "source": [
    "if (ssi.before_map.value):\n",
    "    fmap = ssi.prepare_old_bldgs_map()\n",
    "    display(fmap)\n",
    "    fmap2 = ssi.prepare_agents_statistics_map_0()\n",
    "    display(fmap2)"
   ]
  },
  {
   "cell_type": "code",
   "execution_count": 20,
   "metadata": {},
   "outputs": [],
   "source": [
    "if (ssi.before_map.value):\n",
    "    fmap2.save('map_march_28_itr_0.html')\n",
    "    fmap.save('map_march_28_itr_0_bld_info.html')"
   ]
  },
  {
   "cell_type": "markdown",
   "metadata": {},
   "source": [
    "<h1>step 3: setting up first iteration of simulation</h1>\n",
    "<h2>Adding Threshold ability to stay for each agent and initalStatus<h2/>\n",
    "    <h2>Here I am initating datsets for referncing the differnet excel sheets in each iteration</h2>\n",
    "    <h2>lets give a name to this simulation and control the iteration</h2>"
   ]
  },
  {
   "cell_type": "markdown",
   "metadata": {},
   "source": [
    "<h2>controlling iteration</h2>"
   ]
  },
  {
   "cell_type": "code",
   "execution_count": 21,
   "metadata": {},
   "outputs": [],
   "source": [
    "ssi.set_up_first_iteration()\n"
   ]
  },
  {
   "cell_type": "code",
   "execution_count": 22,
   "metadata": {},
   "outputs": [
    {
     "data": {
      "application/vnd.jupyter.widget-view+json": {
       "model_id": "21e0d08e0d42444cb5b40d7160a6ec50",
       "version_major": 2,
       "version_minor": 0
      },
      "text/plain": [
       "Checkbox(value=False, description='Auto Name Simulation?', indent=False)"
      ]
     },
     "metadata": {},
     "output_type": "display_data"
    }
   ],
   "source": [
    "display(ssi.AutoNameSimulation)"
   ]
  },
  {
   "cell_type": "code",
   "execution_count": 23,
   "metadata": {},
   "outputs": [],
   "source": [
    "if ssi.AutoNameSimulation.value:\n",
    "    pass\n",
    "else:\n",
    "    display(ssi.simulation_name)"
   ]
  },
  {
   "cell_type": "code",
   "execution_count": 24,
   "metadata": {},
   "outputs": [
    {
     "data": {
      "application/vnd.jupyter.widget-view+json": {
       "model_id": "fa54685d169e4f728e38bd2e74eb48c3",
       "version_major": 2,
       "version_minor": 0
      },
      "text/plain": [
       "IntSlider(value=0, max=24)"
      ]
     },
     "metadata": {},
     "output_type": "display_data"
    }
   ],
   "source": [
    "display(ssi.itr_slider)"
   ]
  },
  {
   "cell_type": "code",
   "execution_count": 25,
   "metadata": {
    "scrolled": true
   },
   "outputs": [
    {
     "data": {
      "application/vnd.jupyter.widget-view+json": {
       "model_id": "4c0a70e40e4d4b3987578245d5a3c1a0",
       "version_major": 2,
       "version_minor": 0
      },
      "text/plain": [
       "Textarea(value='', placeholder='')"
      ]
     },
     "metadata": {},
     "output_type": "display_data"
    }
   ],
   "source": [
    "display(ssi.infoText)\n"
   ]
  },
  {
   "cell_type": "code",
   "execution_count": 26,
   "metadata": {},
   "outputs": [],
   "source": [
    "ssi.iterateAll()"
   ]
  },
  {
   "cell_type": "markdown",
   "metadata": {},
   "source": [
    "<h1>step 4: starting iteration</h1>"
   ]
  },
  {
   "cell_type": "code",
   "execution_count": 32,
   "metadata": {},
   "outputs": [],
   "source": [
    "# need to save in excel\n",
    "# need to do smart iteration statistics\n",
    "#https://towardsdatascience.com/interactive-controls-for-jupyter-notebooks-f5c94829aee6\n",
    "#alternative to Plotly Dash"
   ]
  },
  {
   "cell_type": "code",
   "execution_count": null,
   "metadata": {},
   "outputs": [],
   "source": []
  },
  {
   "cell_type": "code",
   "execution_count": null,
   "metadata": {},
   "outputs": [],
   "source": []
  },
  {
   "cell_type": "code",
   "execution_count": null,
   "metadata": {},
   "outputs": [],
   "source": []
  },
  {
   "cell_type": "code",
   "execution_count": null,
   "metadata": {},
   "outputs": [],
   "source": []
  },
  {
   "cell_type": "code",
   "execution_count": null,
   "metadata": {},
   "outputs": [],
   "source": []
  },
  {
   "cell_type": "code",
   "execution_count": null,
   "metadata": {},
   "outputs": [],
   "source": []
  },
  {
   "cell_type": "code",
   "execution_count": null,
   "metadata": {},
   "outputs": [],
   "source": []
  },
  {
   "cell_type": "code",
   "execution_count": null,
   "metadata": {},
   "outputs": [],
   "source": []
  },
  {
   "cell_type": "markdown",
   "metadata": {},
   "source": [
    "<h1>step 4.1: grabing the next row in script file, and getting a refenrence of the excel file</h1>\n",
    "<h2>Units ifnromation of the updated building:</h2>\n",
    "<h1>step 2.2: duplicating the agent file</h1>\n",
    "<h1>step 2.3: merging the building details with the agent details</h1>\n",
    "<h1>step 4.2: Have a refernece of the active rows</h1>\n",
    "<h1>step 4.3 set the simplest descion tree possible</h1>\n",
    "\n",
    "## 1. if the agent is renting he will leave in all cases\n",
    "## 2. if the agent is not renting, he will leave if he cannot pay monthly bills and maintances\n",
    "<h1>step 4.5: getting refernece of avilable appartments and generating new agents (or grabing them from other sources)</h1>\n",
    "<h1>step 5. Saving the excel to a file and appending it into a a new dataset</h2>"
   ]
  },
  {
   "cell_type": "code",
   "execution_count": 119,
   "metadata": {},
   "outputs": [],
   "source": [
    "ssi.agent_i['ones'] = 1\n",
    "pivot_status = ssi.agent_i.pivot(index='AgentID',columns='Agent_status',values='ones')\n",
    "\n",
    "del pivot_status.index.name\n",
    "\n",
    "\n",
    "agent_i_export = ssi.agent_i.copy()\n",
    "agent_i_export[['laeving','new comers','staying']] = pivot_status\n",
    "#remeber to remove this pivot before next iteration\n",
    "#agent_i_export['iteration']=str(i)"
   ]
  },
  {
   "cell_type": "markdown",
   "metadata": {},
   "source": [
    "## save the agents file to a new folder the project folder"
   ]
  },
  {
   "cell_type": "code",
   "execution_count": 124,
   "metadata": {},
   "outputs": [
    {
     "data": {
      "text/plain": [
       "'cim_0326_1234'"
      ]
     },
     "execution_count": 124,
     "metadata": {},
     "output_type": "execute_result"
    }
   ],
   "source": [
    "ssi.simulation_folder.value"
   ]
  },
  {
   "cell_type": "code",
   "execution_count": 128,
   "metadata": {},
   "outputs": [],
   "source": [
    "simulation_path = ssi.sim_folder+ssi.simulation_name.value+\"/\"\n",
    "if (ssi.i==0):\n",
    "  os.mkdir(simulation_path)\n",
    "\n",
    "save_iteration = 'agents_itr_'+str(ssi.i)+'.xlsx'\n",
    "excel_path = simulation_path+save_iteration\n",
    "agent_i_export.to_excel(excel_path)\n",
    "\n",
    "if (ssi.i==0):\n",
    "    #save a copy of Agents 0 for statistics\n",
    "    ssi.agent_0.to_excel(simulation_path + 'agent_0.xlsx')\n"
   ]
  },
  {
   "cell_type": "markdown",
   "metadata": {},
   "source": [
    "<h1>Step 6. calcualting otther sattistics and saving them to excel files</h1>"
   ]
  },
  {
   "cell_type": "code",
   "execution_count": 707,
   "metadata": {},
   "outputs": [],
   "source": [
    "#itr_agents_excel_ds.loc[i,'Excel_File']=excel_path\n",
    "#itr_agents_excel_ds.loc[i,'Bldg Project or Address']=bld_add_or_complex"
   ]
  },
  {
   "cell_type": "code",
   "execution_count": null,
   "metadata": {},
   "outputs": [],
   "source": []
  },
  {
   "cell_type": "code",
   "execution_count": 133,
   "metadata": {},
   "outputs": [],
   "source": [
    "gb = agent_i_export.groupby('AgentBldAdd')\n",
    "agg1_p = gb.agg({'laeving':'count','new comers':'count','staying':'count'})\n",
    "agg1_p = agg1_p.reset_index()\n",
    "agg1_p.loc[i,'iteration']=i\n",
    "# statistics needs to be added on who leaves\n",
    "# the aggrgation needs to be made on the ssi level, this is incorrect"
   ]
  },
  {
   "cell_type": "code",
   "execution_count": 134,
   "metadata": {},
   "outputs": [
    {
     "data": {
      "text/html": [
       "<div>\n",
       "<style scoped>\n",
       "    .dataframe tbody tr th:only-of-type {\n",
       "        vertical-align: middle;\n",
       "    }\n",
       "\n",
       "    .dataframe tbody tr th {\n",
       "        vertical-align: top;\n",
       "    }\n",
       "\n",
       "    .dataframe thead th {\n",
       "        text-align: right;\n",
       "    }\n",
       "</style>\n",
       "<table border=\"1\" class=\"dataframe\">\n",
       "  <thead>\n",
       "    <tr style=\"text-align: right;\">\n",
       "      <th></th>\n",
       "      <th>AgentBldAdd</th>\n",
       "      <th>laeving</th>\n",
       "      <th>new comers</th>\n",
       "      <th>staying</th>\n",
       "      <th>iteration</th>\n",
       "    </tr>\n",
       "  </thead>\n",
       "  <tbody>\n",
       "    <tr>\n",
       "      <th>0</th>\n",
       "      <td>102_3</td>\n",
       "      <td>0</td>\n",
       "      <td>0</td>\n",
       "      <td>25</td>\n",
       "      <td>0.0</td>\n",
       "    </tr>\n",
       "    <tr>\n",
       "      <th>1</th>\n",
       "      <td>208_12</td>\n",
       "      <td>0</td>\n",
       "      <td>0</td>\n",
       "      <td>24</td>\n",
       "      <td>NaN</td>\n",
       "    </tr>\n",
       "    <tr>\n",
       "      <th>2</th>\n",
       "      <td>209_29</td>\n",
       "      <td>0</td>\n",
       "      <td>0</td>\n",
       "      <td>11</td>\n",
       "      <td>NaN</td>\n",
       "    </tr>\n",
       "    <tr>\n",
       "      <th>3</th>\n",
       "      <td>209_33c</td>\n",
       "      <td>0</td>\n",
       "      <td>0</td>\n",
       "      <td>5</td>\n",
       "      <td>NaN</td>\n",
       "    </tr>\n",
       "    <tr>\n",
       "      <th>4</th>\n",
       "      <td>209_4</td>\n",
       "      <td>0</td>\n",
       "      <td>0</td>\n",
       "      <td>21</td>\n",
       "      <td>NaN</td>\n",
       "    </tr>\n",
       "    <tr>\n",
       "      <th>5</th>\n",
       "      <td>209_6</td>\n",
       "      <td>0</td>\n",
       "      <td>0</td>\n",
       "      <td>6</td>\n",
       "      <td>NaN</td>\n",
       "    </tr>\n",
       "    <tr>\n",
       "      <th>6</th>\n",
       "      <td>209_8</td>\n",
       "      <td>0</td>\n",
       "      <td>0</td>\n",
       "      <td>40</td>\n",
       "      <td>NaN</td>\n",
       "    </tr>\n",
       "    <tr>\n",
       "      <th>7</th>\n",
       "      <td>210_11</td>\n",
       "      <td>0</td>\n",
       "      <td>0</td>\n",
       "      <td>12</td>\n",
       "      <td>NaN</td>\n",
       "    </tr>\n",
       "    <tr>\n",
       "      <th>8</th>\n",
       "      <td>210_16</td>\n",
       "      <td>0</td>\n",
       "      <td>0</td>\n",
       "      <td>19</td>\n",
       "      <td>NaN</td>\n",
       "    </tr>\n",
       "    <tr>\n",
       "      <th>9</th>\n",
       "      <td>210_18</td>\n",
       "      <td>0</td>\n",
       "      <td>0</td>\n",
       "      <td>12</td>\n",
       "      <td>NaN</td>\n",
       "    </tr>\n",
       "    <tr>\n",
       "      <th>10</th>\n",
       "      <td>210_56</td>\n",
       "      <td>0</td>\n",
       "      <td>0</td>\n",
       "      <td>10</td>\n",
       "      <td>NaN</td>\n",
       "    </tr>\n",
       "    <tr>\n",
       "      <th>11</th>\n",
       "      <td>210_8</td>\n",
       "      <td>0</td>\n",
       "      <td>0</td>\n",
       "      <td>42</td>\n",
       "      <td>NaN</td>\n",
       "    </tr>\n",
       "    <tr>\n",
       "      <th>12</th>\n",
       "      <td>211_11</td>\n",
       "      <td>0</td>\n",
       "      <td>0</td>\n",
       "      <td>12</td>\n",
       "      <td>NaN</td>\n",
       "    </tr>\n",
       "    <tr>\n",
       "      <th>13</th>\n",
       "      <td>211_7</td>\n",
       "      <td>0</td>\n",
       "      <td>0</td>\n",
       "      <td>2</td>\n",
       "      <td>NaN</td>\n",
       "    </tr>\n",
       "    <tr>\n",
       "      <th>14</th>\n",
       "      <td>211_9</td>\n",
       "      <td>0</td>\n",
       "      <td>0</td>\n",
       "      <td>1</td>\n",
       "      <td>NaN</td>\n",
       "    </tr>\n",
       "    <tr>\n",
       "      <th>15</th>\n",
       "      <td>212_53</td>\n",
       "      <td>0</td>\n",
       "      <td>0</td>\n",
       "      <td>33</td>\n",
       "      <td>NaN</td>\n",
       "    </tr>\n",
       "    <tr>\n",
       "      <th>16</th>\n",
       "      <td>215_12a</td>\n",
       "      <td>0</td>\n",
       "      <td>0</td>\n",
       "      <td>7</td>\n",
       "      <td>NaN</td>\n",
       "    </tr>\n",
       "    <tr>\n",
       "      <th>17</th>\n",
       "      <td>215_12c</td>\n",
       "      <td>0</td>\n",
       "      <td>0</td>\n",
       "      <td>12</td>\n",
       "      <td>NaN</td>\n",
       "    </tr>\n",
       "    <tr>\n",
       "      <th>18</th>\n",
       "      <td>215_14</td>\n",
       "      <td>0</td>\n",
       "      <td>0</td>\n",
       "      <td>7</td>\n",
       "      <td>NaN</td>\n",
       "    </tr>\n",
       "    <tr>\n",
       "      <th>19</th>\n",
       "      <td>215_15</td>\n",
       "      <td>0</td>\n",
       "      <td>0</td>\n",
       "      <td>12</td>\n",
       "      <td>NaN</td>\n",
       "    </tr>\n",
       "    <tr>\n",
       "      <th>20</th>\n",
       "      <td>215_18</td>\n",
       "      <td>0</td>\n",
       "      <td>0</td>\n",
       "      <td>18</td>\n",
       "      <td>NaN</td>\n",
       "    </tr>\n",
       "    <tr>\n",
       "      <th>21</th>\n",
       "      <td>215_22</td>\n",
       "      <td>6</td>\n",
       "      <td>21</td>\n",
       "      <td>12</td>\n",
       "      <td>NaN</td>\n",
       "    </tr>\n",
       "    <tr>\n",
       "      <th>22</th>\n",
       "      <td>215_24</td>\n",
       "      <td>0</td>\n",
       "      <td>0</td>\n",
       "      <td>18</td>\n",
       "      <td>NaN</td>\n",
       "    </tr>\n",
       "    <tr>\n",
       "      <th>23</th>\n",
       "      <td>215_6</td>\n",
       "      <td>0</td>\n",
       "      <td>0</td>\n",
       "      <td>12</td>\n",
       "      <td>NaN</td>\n",
       "    </tr>\n",
       "    <tr>\n",
       "      <th>24</th>\n",
       "      <td>216_10</td>\n",
       "      <td>0</td>\n",
       "      <td>0</td>\n",
       "      <td>12</td>\n",
       "      <td>NaN</td>\n",
       "    </tr>\n",
       "    <tr>\n",
       "      <th>25</th>\n",
       "      <td>216_3</td>\n",
       "      <td>0</td>\n",
       "      <td>0</td>\n",
       "      <td>18</td>\n",
       "      <td>NaN</td>\n",
       "    </tr>\n",
       "    <tr>\n",
       "      <th>26</th>\n",
       "      <td>216_4</td>\n",
       "      <td>0</td>\n",
       "      <td>0</td>\n",
       "      <td>12</td>\n",
       "      <td>NaN</td>\n",
       "    </tr>\n",
       "    <tr>\n",
       "      <th>27</th>\n",
       "      <td>216_7</td>\n",
       "      <td>0</td>\n",
       "      <td>0</td>\n",
       "      <td>18</td>\n",
       "      <td>NaN</td>\n",
       "    </tr>\n",
       "    <tr>\n",
       "      <th>28</th>\n",
       "      <td>217_5</td>\n",
       "      <td>0</td>\n",
       "      <td>0</td>\n",
       "      <td>17</td>\n",
       "      <td>NaN</td>\n",
       "    </tr>\n",
       "    <tr>\n",
       "      <th>29</th>\n",
       "      <td>220_4</td>\n",
       "      <td>0</td>\n",
       "      <td>0</td>\n",
       "      <td>16</td>\n",
       "      <td>NaN</td>\n",
       "    </tr>\n",
       "    <tr>\n",
       "      <th>30</th>\n",
       "      <td>225_6</td>\n",
       "      <td>0</td>\n",
       "      <td>0</td>\n",
       "      <td>18</td>\n",
       "      <td>NaN</td>\n",
       "    </tr>\n",
       "    <tr>\n",
       "      <th>31</th>\n",
       "      <td>225_6a</td>\n",
       "      <td>0</td>\n",
       "      <td>0</td>\n",
       "      <td>18</td>\n",
       "      <td>NaN</td>\n",
       "    </tr>\n",
       "    <tr>\n",
       "      <th>32</th>\n",
       "      <td>225_8</td>\n",
       "      <td>0</td>\n",
       "      <td>0</td>\n",
       "      <td>36</td>\n",
       "      <td>NaN</td>\n",
       "    </tr>\n",
       "    <tr>\n",
       "      <th>33</th>\n",
       "      <td>﻿215_2</td>\n",
       "      <td>0</td>\n",
       "      <td>0</td>\n",
       "      <td>24</td>\n",
       "      <td>NaN</td>\n",
       "    </tr>\n",
       "  </tbody>\n",
       "</table>\n",
       "</div>"
      ],
      "text/plain": [
       "   AgentBldAdd  laeving  new comers  staying  iteration\n",
       "0        102_3        0           0       25        0.0\n",
       "1       208_12        0           0       24        NaN\n",
       "2       209_29        0           0       11        NaN\n",
       "3      209_33c        0           0        5        NaN\n",
       "4        209_4        0           0       21        NaN\n",
       "5        209_6        0           0        6        NaN\n",
       "6        209_8        0           0       40        NaN\n",
       "7       210_11        0           0       12        NaN\n",
       "8       210_16        0           0       19        NaN\n",
       "9       210_18        0           0       12        NaN\n",
       "10      210_56        0           0       10        NaN\n",
       "11       210_8        0           0       42        NaN\n",
       "12      211_11        0           0       12        NaN\n",
       "13       211_7        0           0        2        NaN\n",
       "14       211_9        0           0        1        NaN\n",
       "15      212_53        0           0       33        NaN\n",
       "16     215_12a        0           0        7        NaN\n",
       "17     215_12c        0           0       12        NaN\n",
       "18      215_14        0           0        7        NaN\n",
       "19      215_15        0           0       12        NaN\n",
       "20      215_18        0           0       18        NaN\n",
       "21      215_22        6          21       12        NaN\n",
       "22      215_24        0           0       18        NaN\n",
       "23       215_6        0           0       12        NaN\n",
       "24      216_10        0           0       12        NaN\n",
       "25       216_3        0           0       18        NaN\n",
       "26       216_4        0           0       12        NaN\n",
       "27       216_7        0           0       18        NaN\n",
       "28       217_5        0           0       17        NaN\n",
       "29       220_4        0           0       16        NaN\n",
       "30       225_6        0           0       18        NaN\n",
       "31      225_6a        0           0       18        NaN\n",
       "32       225_8        0           0       36        NaN\n",
       "33      ﻿215_2        0           0       24        NaN"
      ]
     },
     "execution_count": 134,
     "metadata": {},
     "output_type": "execute_result"
    }
   ],
   "source": [
    "agg1_p"
   ]
  },
  {
   "cell_type": "code",
   "execution_count": 709,
   "metadata": {},
   "outputs": [],
   "source": [
    "#agg1 = agg1[agg1['AgentBldAdd'] == bld_add_or_complex] # need to fix to take care of complex projects"
   ]
  },
  {
   "cell_type": "code",
   "execution_count": 135,
   "metadata": {},
   "outputs": [],
   "source": [
    "agg1_p['New Total Residence'] = agg1_p['new comers'] + agg1_p['staying']\n",
    "agg1_p['Old Total Residence'] = agg1_p['laeving'] + agg1_p['staying']\n",
    "agg1_p['Renewd'] = agg1_p['New Total Residence']>agg1_p['Old Total Residence'] \n",
    "agg1_p['Type of Project'] = ssi.typeProject #incorrect!!!! need to convert to list\n",
    "agg1_p['Percent Left'] = agg1_p['laeving'] /agg1_p['Old Total Residence']\n",
    "agg1_p['Percent New Comers'] = agg1_p['new comers'] /agg1_p['New Total Residence']\n",
    "agg1 = agg1_p[agg1_p['Renewd']==True]\n",
    "agg1.reset_index(inplace=True)\n"
   ]
  },
  {
   "cell_type": "code",
   "execution_count": 136,
   "metadata": {},
   "outputs": [
    {
     "data": {
      "text/html": [
       "<div>\n",
       "<style scoped>\n",
       "    .dataframe tbody tr th:only-of-type {\n",
       "        vertical-align: middle;\n",
       "    }\n",
       "\n",
       "    .dataframe tbody tr th {\n",
       "        vertical-align: top;\n",
       "    }\n",
       "\n",
       "    .dataframe thead th {\n",
       "        text-align: right;\n",
       "    }\n",
       "</style>\n",
       "<table border=\"1\" class=\"dataframe\">\n",
       "  <thead>\n",
       "    <tr style=\"text-align: right;\">\n",
       "      <th></th>\n",
       "      <th>index</th>\n",
       "      <th>AgentBldAdd</th>\n",
       "      <th>laeving</th>\n",
       "      <th>new comers</th>\n",
       "      <th>staying</th>\n",
       "      <th>iteration</th>\n",
       "      <th>New Total Residence</th>\n",
       "      <th>Old Total Residence</th>\n",
       "      <th>Renewd</th>\n",
       "      <th>Type of Project</th>\n",
       "      <th>Percent Left</th>\n",
       "      <th>Percent New Comers</th>\n",
       "    </tr>\n",
       "  </thead>\n",
       "  <tbody>\n",
       "    <tr>\n",
       "      <th>0</th>\n",
       "      <td>21</td>\n",
       "      <td>215_22</td>\n",
       "      <td>6</td>\n",
       "      <td>21</td>\n",
       "      <td>12</td>\n",
       "      <td>NaN</td>\n",
       "      <td>33</td>\n",
       "      <td>18</td>\n",
       "      <td>True</td>\n",
       "      <td>תמ״א 38/1</td>\n",
       "      <td>0.333333</td>\n",
       "      <td>0.636364</td>\n",
       "    </tr>\n",
       "  </tbody>\n",
       "</table>\n",
       "</div>"
      ],
      "text/plain": [
       "   index AgentBldAdd  laeving  new comers  staying  iteration  \\\n",
       "0     21      215_22        6          21       12        NaN   \n",
       "\n",
       "   New Total Residence  Old Total Residence  Renewd Type of Project  \\\n",
       "0                   33                   18    True       תמ״א 38/1   \n",
       "\n",
       "   Percent Left  Percent New Comers  \n",
       "0      0.333333            0.636364  "
      ]
     },
     "execution_count": 136,
     "metadata": {},
     "output_type": "execute_result"
    }
   ],
   "source": [
    "agg1"
   ]
  },
  {
   "cell_type": "code",
   "execution_count": 137,
   "metadata": {},
   "outputs": [],
   "source": [
    "temp = (agg1[['laeving','new comers','staying','New Total Residence','Old Total Residence']].sum())"
   ]
  },
  {
   "cell_type": "code",
   "execution_count": 138,
   "metadata": {},
   "outputs": [
    {
     "data": {
      "text/plain": [
       "laeving                 6\n",
       "new comers             21\n",
       "staying                12\n",
       "New Total Residence    33\n",
       "Old Total Residence    18\n",
       "dtype: int64"
      ]
     },
     "execution_count": 138,
     "metadata": {},
     "output_type": "execute_result"
    }
   ],
   "source": [
    "temp"
   ]
  },
  {
   "cell_type": "code",
   "execution_count": 139,
   "metadata": {},
   "outputs": [],
   "source": [
    " newsum = pd.DataFrame(temp).transpose()"
   ]
  },
  {
   "cell_type": "code",
   "execution_count": 140,
   "metadata": {},
   "outputs": [],
   "source": [
    "newsum['itr'] = i\n",
    "newsum['Percent Left'] = newsum['laeving'] /newsum['Old Total Residence']\n",
    "newsum['Percent New Comers'] = newsum['new comers'] /newsum['New Total Residence']"
   ]
  },
  {
   "cell_type": "code",
   "execution_count": 141,
   "metadata": {},
   "outputs": [],
   "source": [
    "if (i==0):\n",
    "    agg2 = newsum\n",
    "else:\n",
    "    agg2.loc[i] = newsum.loc[0]    #agg2.loc[i,['itr']]=i\n",
    "    #agg2.loc[i,'itr'] =i\n",
    "    #agg2.loc[i,'Percent Left']] = newsum['laeving'] /newsum['Old Total Residence']\n",
    "    #newsum['Percent New Comers'] = newsum['new comers'] /newsum['New Total Residence']\n",
    "\n"
   ]
  },
  {
   "cell_type": "code",
   "execution_count": 717,
   "metadata": {},
   "outputs": [
    {
     "name": "stdout",
     "output_type": "stream",
     "text": [
      "17\n"
     ]
    }
   ],
   "source": [
    "\n",
    "# save_iteration = 'bldg_itr_'+str(i)+'.xlsx'\n",
    "\n",
    "# excel_path = simulation_path+save_iteration\n",
    "# agg1.to_excel(excel_path)\n",
    "# itr_bldg_excel_ds.loc[i,'Excel_File']=excel_path\n",
    "# itr_bldg_excel_ds.loc[i,'BldgOrProjectName']=bld_add_or_complex\n",
    "\n",
    "# save_iteration = 'accumulated_'+save_iteration\n",
    "# accumulated_excel_path=simulation_path+save_iteration\n",
    "# agg2.to_excel(accumulated_excel_path)\n",
    "\n",
    "\n",
    "# if (i>0):\n",
    "#   print(i)\n",
    "#   itr_bldg_excel_ds.loc[i,'Excel_File']=accumulated_excel_path\n",
    "#   itr_bldg_excel_ds.loc[i,'BldgOrProjectName']=bld_add_or_complex\n",
    "# else:\n",
    "#   itr_accumulated_bldg_excel_ds = itr_bldg_excel_ds"
   ]
  },
  {
   "cell_type": "markdown",
   "metadata": {},
   "source": [
    "## Need to Add Geographic Representation and saving\n",
    "## Need to Add Plotly"
   ]
  },
  {
   "cell_type": "code",
   "execution_count": 129,
   "metadata": {},
   "outputs": [
    {
     "ename": "NameError",
     "evalue": "name 'itr_accumulated_bldg_excel_ds' is not defined",
     "output_type": "error",
     "traceback": [
      "\u001b[0;31m---------------------------------------------------------------------------\u001b[0m",
      "\u001b[0;31mNameError\u001b[0m                                 Traceback (most recent call last)",
      "\u001b[0;32m<ipython-input-129-08e9686f7119>\u001b[0m in \u001b[0;36m<module>\u001b[0;34m\u001b[0m\n\u001b[1;32m      6\u001b[0m \u001b[0;31m#itr_agents_excel_ds.to_excel(itr_agent_path)\u001b[0m\u001b[0;34m\u001b[0m\u001b[0;34m\u001b[0m\u001b[0;34m\u001b[0m\u001b[0m\n\u001b[1;32m      7\u001b[0m \u001b[0;31m#itr_geokpackage_ds.to_excel(itr_geopacakge_path)\u001b[0m\u001b[0;34m\u001b[0m\u001b[0;34m\u001b[0m\u001b[0;34m\u001b[0m\u001b[0m\n\u001b[0;32m----> 8\u001b[0;31m \u001b[0mitr_accumulated_bldg_excel_ds\u001b[0m\u001b[0;34m.\u001b[0m\u001b[0mto_excel\u001b[0m\u001b[0;34m(\u001b[0m\u001b[0maccum_path\u001b[0m\u001b[0;34m)\u001b[0m\u001b[0;34m\u001b[0m\u001b[0;34m\u001b[0m\u001b[0m\n\u001b[0m",
      "\u001b[0;31mNameError\u001b[0m: name 'itr_accumulated_bldg_excel_ds' is not defined"
     ]
    }
   ],
   "source": [
    "itr_agent_path = simulation_path+'agents_iteration_excels.xlsx'\n",
    "itr_bldg_path = simulation_path+'bldg_iteration_excels.xlsx'\n",
    "#itr_geopacakge_path = simulation_path+'iteration_geopackage.xlsx'\n",
    "accum_path = simulation_path+'itr_accumnulated_bldg.xlsx'\n",
    "#itr_bldg_excel_ds.to_excel(itr_bldg_path)\n",
    "#itr_agents_excel_ds.to_excel(itr_agent_path)\n",
    "#itr_geokpackage_ds.to_excel(itr_geopacakge_path)\n",
    "itr_accumulated_bldg_excel_ds.to_excel(accum_path)"
   ]
  },
  {
   "cell_type": "code",
   "execution_count": null,
   "metadata": {},
   "outputs": [],
   "source": []
  },
  {
   "cell_type": "code",
   "execution_count": null,
   "metadata": {},
   "outputs": [],
   "source": []
  },
  {
   "cell_type": "markdown",
   "metadata": {},
   "source": [
    "<h1 >TODO 1. !!! Need to create a flat file with a description of all the projects for each building</h1>"
   ]
  },
  {
   "cell_type": "code",
   "execution_count": null,
   "metadata": {},
   "outputs": [],
   "source": []
  },
  {
   "cell_type": "code",
   "execution_count": null,
   "metadata": {},
   "outputs": [],
   "source": []
  },
  {
   "cell_type": "code",
   "execution_count": null,
   "metadata": {},
   "outputs": [],
   "source": []
  },
  {
   "cell_type": "code",
   "execution_count": null,
   "metadata": {},
   "outputs": [],
   "source": []
  },
  {
   "cell_type": "code",
   "execution_count": null,
   "metadata": {},
   "outputs": [],
   "source": []
  },
  {
   "cell_type": "code",
   "execution_count": null,
   "metadata": {},
   "outputs": [],
   "source": []
  },
  {
   "cell_type": "code",
   "execution_count": null,
   "metadata": {},
   "outputs": [],
   "source": []
  },
  {
   "cell_type": "code",
   "execution_count": null,
   "metadata": {},
   "outputs": [],
   "source": []
  },
  {
   "cell_type": "code",
   "execution_count": null,
   "metadata": {},
   "outputs": [],
   "source": []
  },
  {
   "cell_type": "code",
   "execution_count": 99,
   "metadata": {},
   "outputs": [],
   "source": [
    "def generateAgensts(thisDS):\n",
    "    #this function recievs data from new building dataset and returns new renters or owners\n",
    "    nUnits = len(thisDS['appUnits'])\n",
    "\n",
    "    rand_income_rent = np.random.randint(0, high=5000, size=nUnits, dtype='l') #monthly income\n",
    "    rand_inc_sr_rent =  pd.Series(rand_income_rent) #turning this into series\n",
    "\n",
    "    rand_income_own = np.random.randint(3000, high=15000, size=nUnits, dtype='l') #monthly income\n",
    "    rand_inc_sr_own =  pd.Series(rand_income_own) #into series\n",
    "    \n",
    "    rand_wealth = np.random.randint(0, high=5000000, size=nUnits, dtype='l') #wealth\n",
    "    age = np.random.randint(25, high=110, size=nUnits, dtype='l') #wealth\n",
    "    ownership = np.random.randint(0, high=2, size=nUnits, dtype='l') #0 rent 1 owns\n",
    "    \n",
    "    ds = pd.DataFrame()\n",
    "    \n",
    "    ds['OwnerShip'] = pd.Series(ownership)\n",
    "    ds['AgentAppUnit'] = thisDS['appUnits'] #what unit does the agent live in\n",
    "    ds['AgentBldAdd'] = thisDS['bldAdd'] # in what bld address does the Agent live in\n",
    "\n",
    " \n",
    "    ds['AgentWealth'] = pd.Series(rand_wealth)\n",
    "    \n",
    "    ds['AgentPurchaseThreshold'] = (ds['AgentWealth'] * 0.3).astype(int) # 30% of wealth, Agent can buy a house without Mortgage\n",
    "    ds['Age'] = pd.Series(age)\n",
    "    \n",
    "    ds['AgeGroup'] = ds['Age'].apply(lambda x: 0 if x < 65 else 1)\n",
    "    ds['Native_Seniority'] = 0\n",
    "    ds['Native_Group'] = ds['Native_Seniority'].apply(lambda x: 0 if x < 10 else 1) # 0 Native, 1 NewComer\n",
    "    \n",
    "    # for renters take the rent price\n",
    "    ds.loc[ds['OwnerShip']==0,'AgentIncome'] = (thisDS[ds['OwnerShip']==0]['rentPerMonth'])/0.3 + rand_inc_sr_rent[ds['OwnerShip']==0]\n",
    "    ds.loc[ds['OwnerShip']==1,'AgentIncome'] = (thisDS[ds['OwnerShip']==1]['newMaintenace&Tax'])/0.3 + rand_inc_sr_own[ds['OwnerShip']==1]\n",
    "    ds['AgentIncome'] = ds['AgentIncome'].astype(int)\n",
    "    ds['AgentRentThreshold'] = (ds['AgentIncome'] * 0.3).astype(int) # 30% of income\n",
    "    \n",
    "    #Age Formating\n",
    "    ds['AgeGroupDesc'] = ds['Age'].apply(lambda x: 'Young' if x < 65 else 'Old')\n",
    "    #Native Formating\n",
    "    ds['NativeDesc'] = ds['Native_Group'].apply(lambda x: 'Native' if x == 1 else 'New Comers')\n",
    "    #Ownership Formating\n",
    "    ds['OwnershipDesc'] = ds['OwnerShip'].apply(lambda x: 'Owner' if x == 1 else 'Rent')\n",
    "    \n",
    "    LowInc = int(ssi.rules['Income']['Low']['0'])\n",
    "    MediumInc = int(ssi.rules['Income']['Medium']['1'])\n",
    "    HighInc = int(ssi.rules['Income']['High']['2'])\n",
    "    \n",
    "    ds['IncomeNum'] = ds['AgentIncome'].apply(lambda x: \"0\" if x < LowInc else \"1\" if x < MediumInc else \"2\")\n",
    "    ds['IncomeDesc'] = ds['AgentIncome'].apply(lambda x: 'Low Income' if x < LowInc else 'Medium Income' if x < MediumInc else \"High Income\")\n",
    "    ds = updateAgentsThresholdData(ds,'new comers')\n",
    "\n",
    "    return ds\n",
    "\n",
    "\n"
   ]
  },
  {
   "cell_type": "code",
   "execution_count": 109,
   "metadata": {},
   "outputs": [],
   "source": [
    "def updateAgentsThresholdData(ds,status):\n",
    "    #This function recieves a Agent Dataset\n",
    "    #The function returns the agents ability to live in a certain building as column data\n",
    "    ds['TaxAndMainTreshold'] = ds['AgentIncome']*0.3\n",
    "    ds['RentTreshold'] = ds['AgentIncome']*0.3\n",
    "    ds['BuyTreshold'] = ds['AgentWealth']*0.3\n",
    "    ds['Agent_status'] = status #staying, leaving,newComers buying always starts with staying\n",
    "    return ds"
   ]
  },
  {
   "cell_type": "code",
   "execution_count": null,
   "metadata": {},
   "outputs": [],
   "source": []
  },
  {
   "cell_type": "code",
   "execution_count": null,
   "metadata": {},
   "outputs": [],
   "source": []
  },
  {
   "cell_type": "code",
   "execution_count": null,
   "metadata": {},
   "outputs": [],
   "source": []
  },
  {
   "cell_type": "code",
   "execution_count": null,
   "metadata": {},
   "outputs": [],
   "source": []
  },
  {
   "cell_type": "code",
   "execution_count": null,
   "metadata": {},
   "outputs": [],
   "source": []
  },
  {
   "cell_type": "code",
   "execution_count": null,
   "metadata": {},
   "outputs": [],
   "source": []
  },
  {
   "cell_type": "code",
   "execution_count": null,
   "metadata": {},
   "outputs": [],
   "source": []
  },
  {
   "cell_type": "code",
   "execution_count": null,
   "metadata": {},
   "outputs": [],
   "source": []
  },
  {
   "cell_type": "code",
   "execution_count": null,
   "metadata": {},
   "outputs": [],
   "source": []
  },
  {
   "cell_type": "code",
   "execution_count": null,
   "metadata": {},
   "outputs": [],
   "source": []
  },
  {
   "cell_type": "code",
   "execution_count": null,
   "metadata": {},
   "outputs": [],
   "source": []
  },
  {
   "cell_type": "code",
   "execution_count": null,
   "metadata": {},
   "outputs": [],
   "source": []
  },
  {
   "cell_type": "code",
   "execution_count": null,
   "metadata": {},
   "outputs": [],
   "source": []
  },
  {
   "cell_type": "code",
   "execution_count": null,
   "metadata": {},
   "outputs": [],
   "source": []
  },
  {
   "cell_type": "code",
   "execution_count": null,
   "metadata": {},
   "outputs": [],
   "source": []
  },
  {
   "cell_type": "code",
   "execution_count": null,
   "metadata": {},
   "outputs": [],
   "source": []
  },
  {
   "cell_type": "code",
   "execution_count": null,
   "metadata": {},
   "outputs": [],
   "source": []
  },
  {
   "cell_type": "code",
   "execution_count": null,
   "metadata": {},
   "outputs": [],
   "source": []
  },
  {
   "cell_type": "code",
   "execution_count": null,
   "metadata": {},
   "outputs": [],
   "source": []
  },
  {
   "cell_type": "markdown",
   "metadata": {},
   "source": [
    "# Useful Pivot Operations (Reference)"
   ]
  },
  {
   "cell_type": "code",
   "execution_count": 412,
   "metadata": {},
   "outputs": [
    {
     "data": {
      "text/html": [
       "<div>\n",
       "<style scoped>\n",
       "    .dataframe tbody tr th:only-of-type {\n",
       "        vertical-align: middle;\n",
       "    }\n",
       "\n",
       "    .dataframe tbody tr th {\n",
       "        vertical-align: top;\n",
       "    }\n",
       "\n",
       "    .dataframe thead th {\n",
       "        text-align: right;\n",
       "    }\n",
       "</style>\n",
       "<table border=\"1\" class=\"dataframe\">\n",
       "  <thead>\n",
       "    <tr style=\"text-align: right;\">\n",
       "      <th></th>\n",
       "      <th>Unnamed: 0</th>\n",
       "      <th>AgentAppUnit</th>\n",
       "      <th>AgentBldAdd</th>\n",
       "      <th>AgentIncome</th>\n",
       "      <th>AgentWealth</th>\n",
       "      <th>AgentPurchaseThreshold</th>\n",
       "      <th>AgentRentThreshold</th>\n",
       "      <th>Age</th>\n",
       "      <th>OwnerShip</th>\n",
       "      <th>AgeGroup</th>\n",
       "      <th>Native_Seniority</th>\n",
       "      <th>Native_Group</th>\n",
       "      <th>AgentID</th>\n",
       "      <th>AgeGroupDesc</th>\n",
       "      <th>NativeDesc</th>\n",
       "      <th>OwnershipDesc</th>\n",
       "      <th>IncomeNum</th>\n",
       "      <th>IncomeDesc</th>\n",
       "    </tr>\n",
       "  </thead>\n",
       "  <tbody>\n",
       "    <tr>\n",
       "      <th>0</th>\n",
       "      <td>0</td>\n",
       "      <td>0</td>\n",
       "      <td>215_22</td>\n",
       "      <td>13842</td>\n",
       "      <td>697698</td>\n",
       "      <td>209309.4</td>\n",
       "      <td>4152.8504</td>\n",
       "      <td>98</td>\n",
       "      <td>1</td>\n",
       "      <td>1</td>\n",
       "      <td>37</td>\n",
       "      <td>1</td>\n",
       "      <td>0</td>\n",
       "      <td>Old</td>\n",
       "      <td>Native</td>\n",
       "      <td>Owner</td>\n",
       "      <td>1</td>\n",
       "      <td>Medium Income</td>\n",
       "    </tr>\n",
       "    <tr>\n",
       "      <th>1</th>\n",
       "      <td>1</td>\n",
       "      <td>1</td>\n",
       "      <td>215_22</td>\n",
       "      <td>7319</td>\n",
       "      <td>431148</td>\n",
       "      <td>129344.4</td>\n",
       "      <td>2195.9504</td>\n",
       "      <td>53</td>\n",
       "      <td>1</td>\n",
       "      <td>0</td>\n",
       "      <td>45</td>\n",
       "      <td>1</td>\n",
       "      <td>1</td>\n",
       "      <td>Young</td>\n",
       "      <td>Native</td>\n",
       "      <td>Owner</td>\n",
       "      <td>0</td>\n",
       "      <td>Low Income</td>\n",
       "    </tr>\n",
       "    <tr>\n",
       "      <th>2</th>\n",
       "      <td>2</td>\n",
       "      <td>2</td>\n",
       "      <td>215_22</td>\n",
       "      <td>14488</td>\n",
       "      <td>2666059</td>\n",
       "      <td>799817.7</td>\n",
       "      <td>4346.6504</td>\n",
       "      <td>73</td>\n",
       "      <td>1</td>\n",
       "      <td>1</td>\n",
       "      <td>30</td>\n",
       "      <td>1</td>\n",
       "      <td>2</td>\n",
       "      <td>Old</td>\n",
       "      <td>Native</td>\n",
       "      <td>Owner</td>\n",
       "      <td>1</td>\n",
       "      <td>Medium Income</td>\n",
       "    </tr>\n",
       "    <tr>\n",
       "      <th>3</th>\n",
       "      <td>3</td>\n",
       "      <td>3</td>\n",
       "      <td>215_22</td>\n",
       "      <td>7655</td>\n",
       "      <td>4475813</td>\n",
       "      <td>1342743.9</td>\n",
       "      <td>2296.7504</td>\n",
       "      <td>108</td>\n",
       "      <td>1</td>\n",
       "      <td>1</td>\n",
       "      <td>39</td>\n",
       "      <td>1</td>\n",
       "      <td>3</td>\n",
       "      <td>Old</td>\n",
       "      <td>Native</td>\n",
       "      <td>Owner</td>\n",
       "      <td>0</td>\n",
       "      <td>Low Income</td>\n",
       "    </tr>\n",
       "  </tbody>\n",
       "</table>\n",
       "</div>"
      ],
      "text/plain": [
       "   Unnamed: 0  AgentAppUnit AgentBldAdd  AgentIncome  AgentWealth  \\\n",
       "0           0             0      215_22        13842       697698   \n",
       "1           1             1      215_22         7319       431148   \n",
       "2           2             2      215_22        14488      2666059   \n",
       "3           3             3      215_22         7655      4475813   \n",
       "\n",
       "   AgentPurchaseThreshold  AgentRentThreshold  Age  OwnerShip  AgeGroup  \\\n",
       "0                209309.4           4152.8504   98          1         1   \n",
       "1                129344.4           2195.9504   53          1         0   \n",
       "2                799817.7           4346.6504   73          1         1   \n",
       "3               1342743.9           2296.7504  108          1         1   \n",
       "\n",
       "   Native_Seniority  Native_Group  AgentID AgeGroupDesc NativeDesc  \\\n",
       "0                37             1        0          Old     Native   \n",
       "1                45             1        1        Young     Native   \n",
       "2                30             1        2          Old     Native   \n",
       "3                39             1        3          Old     Native   \n",
       "\n",
       "  OwnershipDesc  IncomeNum     IncomeDesc  \n",
       "0         Owner          1  Medium Income  \n",
       "1         Owner          0     Low Income  \n",
       "2         Owner          1  Medium Income  \n",
       "3         Owner          0     Low Income  "
      ]
     },
     "execution_count": 412,
     "metadata": {},
     "output_type": "execute_result"
    }
   ],
   "source": [
    "ssi.agent_ref.head(4)"
   ]
  },
  {
   "cell_type": "code",
   "execution_count": 446,
   "metadata": {},
   "outputs": [
    {
     "data": {
      "text/html": [
       "<div>\n",
       "<style scoped>\n",
       "    .dataframe tbody tr th:only-of-type {\n",
       "        vertical-align: middle;\n",
       "    }\n",
       "\n",
       "    .dataframe tbody tr th {\n",
       "        vertical-align: top;\n",
       "    }\n",
       "\n",
       "    .dataframe thead th {\n",
       "        text-align: right;\n",
       "    }\n",
       "</style>\n",
       "<table border=\"1\" class=\"dataframe\">\n",
       "  <thead>\n",
       "    <tr style=\"text-align: right;\">\n",
       "      <th>IncomeDesc</th>\n",
       "      <th>High Income</th>\n",
       "      <th>Low Income</th>\n",
       "      <th>Medium Income</th>\n",
       "    </tr>\n",
       "    <tr>\n",
       "      <th>AgentBldAdd</th>\n",
       "      <th></th>\n",
       "      <th></th>\n",
       "      <th></th>\n",
       "    </tr>\n",
       "  </thead>\n",
       "  <tbody>\n",
       "    <tr>\n",
       "      <th>209_6</th>\n",
       "      <td>3.0</td>\n",
       "      <td>NaN</td>\n",
       "      <td>3.0</td>\n",
       "    </tr>\n",
       "    <tr>\n",
       "      <th>210_16</th>\n",
       "      <td>NaN</td>\n",
       "      <td>4.0</td>\n",
       "      <td>15.0</td>\n",
       "    </tr>\n",
       "    <tr>\n",
       "      <th>210_18</th>\n",
       "      <td>3.0</td>\n",
       "      <td>1.0</td>\n",
       "      <td>8.0</td>\n",
       "    </tr>\n",
       "    <tr>\n",
       "      <th>211_11</th>\n",
       "      <td>9.0</td>\n",
       "      <td>1.0</td>\n",
       "      <td>2.0</td>\n",
       "    </tr>\n",
       "    <tr>\n",
       "      <th>211_7</th>\n",
       "      <td>1.0</td>\n",
       "      <td>NaN</td>\n",
       "      <td>1.0</td>\n",
       "    </tr>\n",
       "  </tbody>\n",
       "</table>\n",
       "</div>"
      ],
      "text/plain": [
       "IncomeDesc   High Income  Low Income  Medium Income\n",
       "AgentBldAdd                                        \n",
       "209_6                3.0         NaN            3.0\n",
       "210_16               NaN         4.0           15.0\n",
       "210_18               3.0         1.0            8.0\n",
       "211_11               9.0         1.0            2.0\n",
       "211_7                1.0         NaN            1.0"
      ]
     },
     "execution_count": 446,
     "metadata": {},
     "output_type": "execute_result"
    }
   ],
   "source": [
    "agg_by_bldg = ssi.agent_ref.pivot_table(index=['AgentBldAdd'],columns='IncomeDesc',values='AgentIncome',aggfunc='count')\n",
    "agg_by_bldg.head()"
   ]
  },
  {
   "cell_type": "code",
   "execution_count": 447,
   "metadata": {},
   "outputs": [],
   "source": [
    "agg_by_bldg.reset_index(inplace=True)"
   ]
  },
  {
   "cell_type": "code",
   "execution_count": 448,
   "metadata": {},
   "outputs": [
    {
     "data": {
      "text/plain": [
       "Index(['AgentBldAdd', 'High Income', 'Low Income', 'Medium Income'], dtype='object', name='IncomeDesc')"
      ]
     },
     "execution_count": 448,
     "metadata": {},
     "output_type": "execute_result"
    }
   ],
   "source": [
    "agg_by_bldg.columns"
   ]
  },
  {
   "cell_type": "code",
   "execution_count": 449,
   "metadata": {},
   "outputs": [],
   "source": [
    "agg_by_bldg.columns.rename(\"row\",inplace=True)"
   ]
  },
  {
   "cell_type": "code",
   "execution_count": 450,
   "metadata": {},
   "outputs": [
    {
     "data": {
      "text/html": [
       "<div>\n",
       "<style scoped>\n",
       "    .dataframe tbody tr th:only-of-type {\n",
       "        vertical-align: middle;\n",
       "    }\n",
       "\n",
       "    .dataframe tbody tr th {\n",
       "        vertical-align: top;\n",
       "    }\n",
       "\n",
       "    .dataframe thead th {\n",
       "        text-align: right;\n",
       "    }\n",
       "</style>\n",
       "<table border=\"1\" class=\"dataframe\">\n",
       "  <thead>\n",
       "    <tr style=\"text-align: right;\">\n",
       "      <th>row</th>\n",
       "      <th>AgentBldAdd</th>\n",
       "      <th>High Income</th>\n",
       "      <th>Low Income</th>\n",
       "      <th>Medium Income</th>\n",
       "    </tr>\n",
       "  </thead>\n",
       "  <tbody>\n",
       "    <tr>\n",
       "      <th>0</th>\n",
       "      <td>209_6</td>\n",
       "      <td>3.0</td>\n",
       "      <td>NaN</td>\n",
       "      <td>3.0</td>\n",
       "    </tr>\n",
       "    <tr>\n",
       "      <th>1</th>\n",
       "      <td>210_16</td>\n",
       "      <td>NaN</td>\n",
       "      <td>4.0</td>\n",
       "      <td>15.0</td>\n",
       "    </tr>\n",
       "    <tr>\n",
       "      <th>2</th>\n",
       "      <td>210_18</td>\n",
       "      <td>3.0</td>\n",
       "      <td>1.0</td>\n",
       "      <td>8.0</td>\n",
       "    </tr>\n",
       "    <tr>\n",
       "      <th>3</th>\n",
       "      <td>211_11</td>\n",
       "      <td>9.0</td>\n",
       "      <td>1.0</td>\n",
       "      <td>2.0</td>\n",
       "    </tr>\n",
       "    <tr>\n",
       "      <th>4</th>\n",
       "      <td>211_7</td>\n",
       "      <td>1.0</td>\n",
       "      <td>NaN</td>\n",
       "      <td>1.0</td>\n",
       "    </tr>\n",
       "  </tbody>\n",
       "</table>\n",
       "</div>"
      ],
      "text/plain": [
       "row AgentBldAdd  High Income  Low Income  Medium Income\n",
       "0         209_6          3.0         NaN            3.0\n",
       "1        210_16          NaN         4.0           15.0\n",
       "2        210_18          3.0         1.0            8.0\n",
       "3        211_11          9.0         1.0            2.0\n",
       "4         211_7          1.0         NaN            1.0"
      ]
     },
     "execution_count": 450,
     "metadata": {},
     "output_type": "execute_result"
    }
   ],
   "source": [
    "agg_by_bldg.head()"
   ]
  },
  {
   "cell_type": "code",
   "execution_count": 451,
   "metadata": {},
   "outputs": [],
   "source": [
    "agg_by_bldg.set_index('AgentBldAdd', inplace=True)"
   ]
  },
  {
   "cell_type": "code",
   "execution_count": 452,
   "metadata": {},
   "outputs": [
    {
     "data": {
      "text/html": [
       "<div>\n",
       "<style scoped>\n",
       "    .dataframe tbody tr th:only-of-type {\n",
       "        vertical-align: middle;\n",
       "    }\n",
       "\n",
       "    .dataframe tbody tr th {\n",
       "        vertical-align: top;\n",
       "    }\n",
       "\n",
       "    .dataframe thead th {\n",
       "        text-align: right;\n",
       "    }\n",
       "</style>\n",
       "<table border=\"1\" class=\"dataframe\">\n",
       "  <thead>\n",
       "    <tr style=\"text-align: right;\">\n",
       "      <th>row</th>\n",
       "      <th>High Income</th>\n",
       "      <th>Low Income</th>\n",
       "      <th>Medium Income</th>\n",
       "    </tr>\n",
       "    <tr>\n",
       "      <th>AgentBldAdd</th>\n",
       "      <th></th>\n",
       "      <th></th>\n",
       "      <th></th>\n",
       "    </tr>\n",
       "  </thead>\n",
       "  <tbody>\n",
       "    <tr>\n",
       "      <th>209_6</th>\n",
       "      <td>3.0</td>\n",
       "      <td>NaN</td>\n",
       "      <td>3.0</td>\n",
       "    </tr>\n",
       "    <tr>\n",
       "      <th>210_16</th>\n",
       "      <td>NaN</td>\n",
       "      <td>4.0</td>\n",
       "      <td>15.0</td>\n",
       "    </tr>\n",
       "    <tr>\n",
       "      <th>210_18</th>\n",
       "      <td>3.0</td>\n",
       "      <td>1.0</td>\n",
       "      <td>8.0</td>\n",
       "    </tr>\n",
       "    <tr>\n",
       "      <th>211_11</th>\n",
       "      <td>9.0</td>\n",
       "      <td>1.0</td>\n",
       "      <td>2.0</td>\n",
       "    </tr>\n",
       "    <tr>\n",
       "      <th>211_7</th>\n",
       "      <td>1.0</td>\n",
       "      <td>NaN</td>\n",
       "      <td>1.0</td>\n",
       "    </tr>\n",
       "  </tbody>\n",
       "</table>\n",
       "</div>"
      ],
      "text/plain": [
       "row          High Income  Low Income  Medium Income\n",
       "AgentBldAdd                                        \n",
       "209_6                3.0         NaN            3.0\n",
       "210_16               NaN         4.0           15.0\n",
       "210_18               3.0         1.0            8.0\n",
       "211_11               9.0         1.0            2.0\n",
       "211_7                1.0         NaN            1.0"
      ]
     },
     "execution_count": 452,
     "metadata": {},
     "output_type": "execute_result"
    }
   ],
   "source": [
    "agg_by_bldg.head()"
   ]
  },
  {
   "cell_type": "code",
   "execution_count": 453,
   "metadata": {},
   "outputs": [],
   "source": [
    "del agg_by_bldg.index.name"
   ]
  },
  {
   "cell_type": "code",
   "execution_count": 454,
   "metadata": {},
   "outputs": [
    {
     "data": {
      "text/html": [
       "<div>\n",
       "<style scoped>\n",
       "    .dataframe tbody tr th:only-of-type {\n",
       "        vertical-align: middle;\n",
       "    }\n",
       "\n",
       "    .dataframe tbody tr th {\n",
       "        vertical-align: top;\n",
       "    }\n",
       "\n",
       "    .dataframe thead th {\n",
       "        text-align: right;\n",
       "    }\n",
       "</style>\n",
       "<table border=\"1\" class=\"dataframe\">\n",
       "  <thead>\n",
       "    <tr style=\"text-align: right;\">\n",
       "      <th>row</th>\n",
       "      <th>High Income</th>\n",
       "      <th>Low Income</th>\n",
       "      <th>Medium Income</th>\n",
       "    </tr>\n",
       "  </thead>\n",
       "  <tbody>\n",
       "    <tr>\n",
       "      <th>209_6</th>\n",
       "      <td>3.0</td>\n",
       "      <td>NaN</td>\n",
       "      <td>3.0</td>\n",
       "    </tr>\n",
       "    <tr>\n",
       "      <th>210_16</th>\n",
       "      <td>NaN</td>\n",
       "      <td>4.0</td>\n",
       "      <td>15.0</td>\n",
       "    </tr>\n",
       "    <tr>\n",
       "      <th>210_18</th>\n",
       "      <td>3.0</td>\n",
       "      <td>1.0</td>\n",
       "      <td>8.0</td>\n",
       "    </tr>\n",
       "    <tr>\n",
       "      <th>211_11</th>\n",
       "      <td>9.0</td>\n",
       "      <td>1.0</td>\n",
       "      <td>2.0</td>\n",
       "    </tr>\n",
       "    <tr>\n",
       "      <th>211_7</th>\n",
       "      <td>1.0</td>\n",
       "      <td>NaN</td>\n",
       "      <td>1.0</td>\n",
       "    </tr>\n",
       "    <tr>\n",
       "      <th>211_9</th>\n",
       "      <td>NaN</td>\n",
       "      <td>NaN</td>\n",
       "      <td>1.0</td>\n",
       "    </tr>\n",
       "    <tr>\n",
       "      <th>215_22</th>\n",
       "      <td>5.0</td>\n",
       "      <td>4.0</td>\n",
       "      <td>9.0</td>\n",
       "    </tr>\n",
       "    <tr>\n",
       "      <th>216_10</th>\n",
       "      <td>4.0</td>\n",
       "      <td>2.0</td>\n",
       "      <td>6.0</td>\n",
       "    </tr>\n",
       "    <tr>\n",
       "      <th>216_4</th>\n",
       "      <td>4.0</td>\n",
       "      <td>6.0</td>\n",
       "      <td>2.0</td>\n",
       "    </tr>\n",
       "  </tbody>\n",
       "</table>\n",
       "</div>"
      ],
      "text/plain": [
       "row     High Income  Low Income  Medium Income\n",
       "209_6           3.0         NaN            3.0\n",
       "210_16          NaN         4.0           15.0\n",
       "210_18          3.0         1.0            8.0\n",
       "211_11          9.0         1.0            2.0\n",
       "211_7           1.0         NaN            1.0\n",
       "211_9           NaN         NaN            1.0\n",
       "215_22          5.0         4.0            9.0\n",
       "216_10          4.0         2.0            6.0\n",
       "216_4           4.0         6.0            2.0"
      ]
     },
     "execution_count": 454,
     "metadata": {},
     "output_type": "execute_result"
    }
   ],
   "source": [
    "agg_by_bldg"
   ]
  },
  {
   "cell_type": "code",
   "execution_count": null,
   "metadata": {},
   "outputs": [],
   "source": []
  },
  {
   "cell_type": "code",
   "execution_count": 455,
   "metadata": {},
   "outputs": [],
   "source": [
    "agg_by_bldg1 = ssi.agent_ref.pivot(index='AgentID',columns='IncomeDesc',values='AgentIncome')\n",
    "\n"
   ]
  },
  {
   "cell_type": "code",
   "execution_count": 458,
   "metadata": {},
   "outputs": [
    {
     "data": {
      "text/html": [
       "<div>\n",
       "<style scoped>\n",
       "    .dataframe tbody tr th:only-of-type {\n",
       "        vertical-align: middle;\n",
       "    }\n",
       "\n",
       "    .dataframe tbody tr th {\n",
       "        vertical-align: top;\n",
       "    }\n",
       "\n",
       "    .dataframe thead th {\n",
       "        text-align: right;\n",
       "    }\n",
       "</style>\n",
       "<table border=\"1\" class=\"dataframe\">\n",
       "  <thead>\n",
       "    <tr style=\"text-align: right;\">\n",
       "      <th>IncomeDesc</th>\n",
       "      <th>High Income</th>\n",
       "      <th>Low Income</th>\n",
       "      <th>Medium Income</th>\n",
       "    </tr>\n",
       "    <tr>\n",
       "      <th>AgentID</th>\n",
       "      <th></th>\n",
       "      <th></th>\n",
       "      <th></th>\n",
       "    </tr>\n",
       "  </thead>\n",
       "  <tbody>\n",
       "    <tr>\n",
       "      <th>0</th>\n",
       "      <td>NaN</td>\n",
       "      <td>NaN</td>\n",
       "      <td>13842.0</td>\n",
       "    </tr>\n",
       "    <tr>\n",
       "      <th>1</th>\n",
       "      <td>NaN</td>\n",
       "      <td>7319.0</td>\n",
       "      <td>NaN</td>\n",
       "    </tr>\n",
       "    <tr>\n",
       "      <th>2</th>\n",
       "      <td>NaN</td>\n",
       "      <td>NaN</td>\n",
       "      <td>14488.0</td>\n",
       "    </tr>\n",
       "    <tr>\n",
       "      <th>3</th>\n",
       "      <td>NaN</td>\n",
       "      <td>7655.0</td>\n",
       "      <td>NaN</td>\n",
       "    </tr>\n",
       "    <tr>\n",
       "      <th>4</th>\n",
       "      <td>NaN</td>\n",
       "      <td>5067.0</td>\n",
       "      <td>NaN</td>\n",
       "    </tr>\n",
       "  </tbody>\n",
       "</table>\n",
       "</div>"
      ],
      "text/plain": [
       "IncomeDesc  High Income  Low Income  Medium Income\n",
       "AgentID                                           \n",
       "0                   NaN         NaN        13842.0\n",
       "1                   NaN      7319.0            NaN\n",
       "2                   NaN         NaN        14488.0\n",
       "3                   NaN      7655.0            NaN\n",
       "4                   NaN      5067.0            NaN"
      ]
     },
     "execution_count": 458,
     "metadata": {},
     "output_type": "execute_result"
    }
   ],
   "source": [
    "agg_by_bldg1.head()"
   ]
  },
  {
   "cell_type": "code",
   "execution_count": 460,
   "metadata": {
    "collapsed": true
   },
   "outputs": [
    {
     "ename": "AttributeError",
     "evalue": "name",
     "output_type": "error",
     "traceback": [
      "\u001b[0;31m---------------------------------------------------------------------------\u001b[0m",
      "\u001b[0;31mAttributeError\u001b[0m                            Traceback (most recent call last)",
      "\u001b[0;32m<ipython-input-460-bc41cb070356>\u001b[0m in \u001b[0;36m<module>\u001b[0;34m\u001b[0m\n\u001b[0;32m----> 1\u001b[0;31m \u001b[0;32mdel\u001b[0m \u001b[0magg_by_bldg1\u001b[0m\u001b[0;34m.\u001b[0m\u001b[0mindex\u001b[0m\u001b[0;34m.\u001b[0m\u001b[0mname\u001b[0m\u001b[0;34m\u001b[0m\u001b[0;34m\u001b[0m\u001b[0m\n\u001b[0m",
      "\u001b[0;31mAttributeError\u001b[0m: name"
     ]
    }
   ],
   "source": [
    "del agg_by_bldg1.index.name"
   ]
  },
  {
   "cell_type": "code",
   "execution_count": 462,
   "metadata": {},
   "outputs": [
    {
     "data": {
      "text/html": [
       "<div>\n",
       "<style scoped>\n",
       "    .dataframe tbody tr th:only-of-type {\n",
       "        vertical-align: middle;\n",
       "    }\n",
       "\n",
       "    .dataframe tbody tr th {\n",
       "        vertical-align: top;\n",
       "    }\n",
       "\n",
       "    .dataframe thead th {\n",
       "        text-align: right;\n",
       "    }\n",
       "</style>\n",
       "<table border=\"1\" class=\"dataframe\">\n",
       "  <thead>\n",
       "    <tr style=\"text-align: right;\">\n",
       "      <th>IncomeDesc</th>\n",
       "      <th>High Income</th>\n",
       "      <th>Low Income</th>\n",
       "      <th>Medium Income</th>\n",
       "    </tr>\n",
       "  </thead>\n",
       "  <tbody>\n",
       "    <tr>\n",
       "      <th>0</th>\n",
       "      <td>NaN</td>\n",
       "      <td>NaN</td>\n",
       "      <td>13842.0</td>\n",
       "    </tr>\n",
       "    <tr>\n",
       "      <th>1</th>\n",
       "      <td>NaN</td>\n",
       "      <td>7319.0</td>\n",
       "      <td>NaN</td>\n",
       "    </tr>\n",
       "    <tr>\n",
       "      <th>2</th>\n",
       "      <td>NaN</td>\n",
       "      <td>NaN</td>\n",
       "      <td>14488.0</td>\n",
       "    </tr>\n",
       "    <tr>\n",
       "      <th>3</th>\n",
       "      <td>NaN</td>\n",
       "      <td>7655.0</td>\n",
       "      <td>NaN</td>\n",
       "    </tr>\n",
       "    <tr>\n",
       "      <th>4</th>\n",
       "      <td>NaN</td>\n",
       "      <td>5067.0</td>\n",
       "      <td>NaN</td>\n",
       "    </tr>\n",
       "  </tbody>\n",
       "</table>\n",
       "</div>"
      ],
      "text/plain": [
       "IncomeDesc  High Income  Low Income  Medium Income\n",
       "0                   NaN         NaN        13842.0\n",
       "1                   NaN      7319.0            NaN\n",
       "2                   NaN         NaN        14488.0\n",
       "3                   NaN      7655.0            NaN\n",
       "4                   NaN      5067.0            NaN"
      ]
     },
     "execution_count": 462,
     "metadata": {},
     "output_type": "execute_result"
    }
   ],
   "source": [
    "agg_by_bldg1.head()"
   ]
  },
  {
   "cell_type": "code",
   "execution_count": null,
   "metadata": {},
   "outputs": [],
   "source": []
  }
 ],
 "metadata": {
  "colab": {
   "authorship_tag": "ABX9TyMf+hvtexfjLwqDGjGJHUT/",
   "collapsed_sections": [],
   "mount_file_id": "1sRHRJ7W9I4P_LKgKleGrmrxOiDr7Cpni",
   "name": "ssi_Cimulation_march_6_907pm",
   "provenance": []
  },
  "kernelspec": {
   "display_name": "Python 3",
   "language": "python",
   "name": "python3"
  },
  "language_info": {
   "codemirror_mode": {
    "name": "ipython",
    "version": 3
   },
   "file_extension": ".py",
   "mimetype": "text/x-python",
   "name": "python",
   "nbconvert_exporter": "python",
   "pygments_lexer": "ipython3",
   "version": "3.7.3"
  },
  "widgets": {
   "application/vnd.jupyter.widget-state+json": {
    "state": {
     "017388449c2f41ab8eb663bb59e41570": {
      "model_module": "@jupyter-widgets/controls",
      "model_module_version": "1.5.0",
      "model_name": "DescriptionStyleModel",
      "state": {
       "description_width": ""
      }
     },
     "0a8a8b2c1aea480694b65f54e24a2a98": {
      "model_module": "@jupyter-widgets/controls",
      "model_module_version": "1.5.0",
      "model_name": "DescriptionStyleModel",
      "state": {
       "description_width": ""
      }
     },
     "0b453774faa34f11967b5b5da4e3ebec": {
      "model_module": "@jupyter-widgets/base",
      "model_module_version": "1.2.0",
      "model_name": "LayoutModel",
      "state": {}
     },
     "0c9f831e8961414ab776b5b479d96927": {
      "model_module": "@jupyter-widgets/controls",
      "model_module_version": "1.5.0",
      "model_name": "SliderStyleModel",
      "state": {
       "description_width": ""
      }
     },
     "15d6a8d9463e491e988a1ca1f5ec6020": {
      "model_module": "@jupyter-widgets/base",
      "model_module_version": "1.2.0",
      "model_name": "LayoutModel",
      "state": {}
     },
     "1b8f8e4b0b37411baf5ad4e5296a519b": {
      "model_module": "@jupyter-widgets/base",
      "model_module_version": "1.2.0",
      "model_name": "LayoutModel",
      "state": {}
     },
     "1f19ce8927d546cca4417e5baa60287b": {
      "model_module": "@jupyter-widgets/controls",
      "model_module_version": "1.5.0",
      "model_name": "TextModel",
      "state": {
       "description": "Folder:",
       "layout": "IPY_MODEL_a96fd299748b4aad86cd8698803a7dd5",
       "style": "IPY_MODEL_b572ea348306457286d78195d2935e98",
       "value": "cim_0326_1234"
      }
     },
     "21e0d08e0d42444cb5b40d7160a6ec50": {
      "model_module": "@jupyter-widgets/controls",
      "model_module_version": "1.5.0",
      "model_name": "CheckboxModel",
      "state": {
       "description": "Auto Name Simulation?",
       "disabled": false,
       "indent": false,
       "layout": "IPY_MODEL_1b8f8e4b0b37411baf5ad4e5296a519b",
       "style": "IPY_MODEL_8e70de51da0946bb92e4b6ef7a1eef26",
       "value": true
      }
     },
     "251c7b3064dd4e4da8f8fba71435fb4a": {
      "model_module": "@jupyter-widgets/base",
      "model_module_version": "1.2.0",
      "model_name": "LayoutModel",
      "state": {}
     },
     "2c1ad74a10594c4aa8abad3b9ca3a302": {
      "model_module": "@jupyter-widgets/base",
      "model_module_version": "1.2.0",
      "model_name": "LayoutModel",
      "state": {}
     },
     "3775b3c8421d4e11be4d4bbbb922a85f": {
      "model_module": "@jupyter-widgets/controls",
      "model_module_version": "1.5.0",
      "model_name": "DescriptionStyleModel",
      "state": {
       "description_width": ""
      }
     },
     "39e07ddda30144fb87710063368eef61": {
      "model_module": "@jupyter-widgets/base",
      "model_module_version": "1.2.0",
      "model_name": "LayoutModel",
      "state": {}
     },
     "3c66f1e28be94acfaefd1112deb31426": {
      "model_module": "@jupyter-widgets/controls",
      "model_module_version": "1.5.0",
      "model_name": "CheckboxModel",
      "state": {
       "description": "Display Before Map?",
       "disabled": false,
       "indent": false,
       "layout": "IPY_MODEL_6068dd3dd77747cfb252e3234aab7c62",
       "style": "IPY_MODEL_785a9973d0ae4d6cadb9645518b36961",
       "value": false
      }
     },
     "3ea37157593a43b5bc0b8533f1e8a572": {
      "model_module": "@jupyter-widgets/controls",
      "model_module_version": "1.5.0",
      "model_name": "TextareaModel",
      "state": {
       "layout": "IPY_MODEL_bb4782d405c74f4cbb76b5f9cfddc767",
       "placeholder": "",
       "style": "IPY_MODEL_3775b3c8421d4e11be4d4bbbb922a85f",
       "value": "\n Iteration Number: 0\n Address or complex: 215_22\n Type of project תמ״א 38/1\n\n operation 1 or 2\n Iteration Number: 1\n Address or complex: 216_10\n Type of project תמ״א 38/1\n\n operation 1 or 2\n Iteration Number: 2\n Address or complex: 216_4\n Type of project תמ״א 38/1\n\n operation 1 or 2\n Iteration Number: 3\n Address or complex: 216_7\n Type of project תמ״א 38/1\n\n operation 1 or 2\n Iteration Number: 4\n Address or complex: 215_15\n Type of project תמ״א 38/1\n\n operation 1 or 2\n Iteration Number: 5\n Address or complex: 209_6\n Type of project תמ״א 38/2\n\n operation 1 or 2\n Iteration Number: 6\n Address or complex: 209_8\n Type of project תמ״א 38/1\n\n operation 1 or 2\n Iteration Number: 7\n Address or complex: 208_12\n Type of project תמ״א 38/1\n\n operation 1 or 2\n Iteration Number: 8\n Address or complex: 210_56\n Type of project תמ״א 38/2\n\n operation 1 or 2\n Iteration Number: 9\n Address or complex: 210_11\n Type of project תמ״א 38/1\n\n operation 1 or 2\n Iteration Number: 10\n Address or complex: 216_3\n Type of project תמ״א 38/1\n\n operation 1 or 2\n Iteration Number: 11\n Address or complex: 215_18\n Type of project תמ״א 38/1\n\n operation 1 or 2\n Iteration Number: 12\n Address or complex: 215_24\n Type of project תמ״א 38/1\n\n operation 1 or 2\n Iteration Number: 13\n Address or complex: 220_4\n Type of project תמ״א 38/1\n\n operation 1 or 2\n Iteration Number: 14\n Address or complex: complex_215_2\n Type of project תב״ע פינוי בינוי\n\n operation 3\n Iteration Number: 15\n Address or complex: complex_16\n Type of project תב״ע פינוי בינוי\n\n operation 3\n Iteration Number: 16\n Address or complex: 212_53\n Type of project תמ״א 38/1\n\n operation 1 or 2\n Iteration Number: 17\n Address or complex: complex_17\n Type of project תב״ע פינוי בינוי\n\n operation 3\n Iteration Number: 18\n Address or complex: ﻿215_14n\n Type of project תב״ע פינוי בינוי\n\n operation 3\n Iteration Number: 19\n Address or complex: 209_33c\n Type of project תמ״א 38/2\n\n operation 1 or 2\n Iteration Number: 20\n Address or complex: 215_6\n Type of project תמ״א 38/2\n\n operation 1 or 2\n Iteration Number: 21\n Address or complex: 209_29\n Type of project תמ״א 38/1\n\n operation 1 or 2\n Iteration Number: 22\n Address or complex: 209_4\n Type of project תמ״א 38/1\n\n operation 1 or 2\n Iteration Number: 23\n Address or complex: 217_5\n Type of project תמ״א 38/1\n\n operation 1 or 2"
      }
     },
     "453bf956981e40449802505e20076e3f": {
      "model_module": "@jupyter-widgets/controls",
      "model_module_version": "1.5.0",
      "model_name": "TextModel",
      "state": {
       "description": "Folder:",
       "layout": "IPY_MODEL_39e07ddda30144fb87710063368eef61",
       "style": "IPY_MODEL_017388449c2f41ab8eb663bb59e41570",
       "value": "cim_0326_1234"
      }
     },
     "4c0a70e40e4d4b3987578245d5a3c1a0": {
      "model_module": "@jupyter-widgets/controls",
      "model_module_version": "1.5.0",
      "model_name": "TextareaModel",
      "state": {
       "layout": "IPY_MODEL_6f09e204a60b498db7c17bb0d4db9580",
       "placeholder": "",
       "style": "IPY_MODEL_a19afe75f6f2436fbc4692a5e9acd3ec",
       "value": "\n Iteration Number: 0\n Address or complex: 215_22\n Type of project תמ״א 38/1\n\n operation 1 or 2\n Iteration Number: 1\n Address or complex: 216_10\n Type of project תמ״א 38/1\n\n operation 1 or 2\n Iteration Number: 2\n Address or complex: 216_4\n Type of project תמ״א 38/1\n\n operation 1 or 2\n Iteration Number: 3\n Address or complex: 216_7\n Type of project תמ״א 38/1\n\n operation 1 or 2\n Iteration Number: 4\n Address or complex: 215_15\n Type of project תמ״א 38/1\n\n operation 1 or 2\n Iteration Number: 5\n Address or complex: 209_6\n Type of project תמ״א 38/2\n\n operation 1 or 2\n Iteration Number: 6\n Address or complex: 209_8\n Type of project תמ״א 38/1\n\n operation 1 or 2\n Iteration Number: 7\n Address or complex: 208_12\n Type of project תמ״א 38/1\n\n operation 1 or 2\n Iteration Number: 8\n Address or complex: 210_56\n Type of project תמ״א 38/2\n\n operation 1 or 2\n Iteration Number: 9\n Address or complex: 210_11\n Type of project תמ״א 38/1\n\n operation 1 or 2\n Iteration Number: 10\n Address or complex: 216_3\n Type of project תמ״א 38/1\n\n operation 1 or 2\n Iteration Number: 11\n Address or complex: 215_18\n Type of project תמ״א 38/1\n\n operation 1 or 2\n Iteration Number: 12\n Address or complex: 215_24\n Type of project תמ״א 38/1\n\n operation 1 or 2\n Iteration Number: 13\n Address or complex: 220_4\n Type of project תמ״א 38/1\n\n operation 1 or 2\n Iteration Number: 14\n Address or complex: complex_215_2\n Type of project תב״ע פינוי בינוי\n\n operation 3\n Iteration Number: 15\n Address or complex: complex_16\n Type of project תב״ע פינוי בינוי\n\n operation 3\n Iteration Number: 16\n Address or complex: 212_53\n Type of project תמ״א 38/1\n\n operation 1 or 2\n Iteration Number: 17\n Address or complex: complex_17\n Type of project תב״ע פינוי בינוי\n\n operation 3\n Iteration Number: 18\n Address or complex: ﻿215_14n\n Type of project תב״ע פינוי בינוי\n\n operation 3\n Iteration Number: 19\n Address or complex: 209_33c\n Type of project תמ״א 38/2\n\n operation 1 or 2\n Iteration Number: 20\n Address or complex: 215_6\n Type of project תמ״א 38/2\n\n operation 1 or 2\n Iteration Number: 21\n Address or complex: 209_29\n Type of project תמ״א 38/1\n\n operation 1 or 2\n Iteration Number: 22\n Address or complex: 209_4\n Type of project תמ״א 38/1\n\n operation 1 or 2\n Iteration Number: 23\n Address or complex: 217_5\n Type of project תמ״א 38/1\n\n operation 1 or 2"
      }
     },
     "51cacf26474745cc921d7410731c9fc0": {
      "model_module": "@jupyter-widgets/base",
      "model_module_version": "1.2.0",
      "model_name": "LayoutModel",
      "state": {}
     },
     "5a10444b16144f60b7b57847a9a28fa3": {
      "model_module": "@jupyter-widgets/controls",
      "model_module_version": "1.5.0",
      "model_name": "DescriptionStyleModel",
      "state": {
       "description_width": ""
      }
     },
     "6068dd3dd77747cfb252e3234aab7c62": {
      "model_module": "@jupyter-widgets/base",
      "model_module_version": "1.2.0",
      "model_name": "LayoutModel",
      "state": {}
     },
     "689696c9d9004b62b0f3bc3ef2959a76": {
      "model_module": "@jupyter-widgets/controls",
      "model_module_version": "1.5.0",
      "model_name": "SliderStyleModel",
      "state": {
       "description_width": ""
      }
     },
     "6f09e204a60b498db7c17bb0d4db9580": {
      "model_module": "@jupyter-widgets/base",
      "model_module_version": "1.2.0",
      "model_name": "LayoutModel",
      "state": {}
     },
     "722f57fba686491eaac6f770f6945363": {
      "model_module": "@jupyter-widgets/base",
      "model_module_version": "1.2.0",
      "model_name": "LayoutModel",
      "state": {}
     },
     "785a9973d0ae4d6cadb9645518b36961": {
      "model_module": "@jupyter-widgets/controls",
      "model_module_version": "1.5.0",
      "model_name": "DescriptionStyleModel",
      "state": {
       "description_width": ""
      }
     },
     "837f5606c0d744eb8035e66169d19953": {
      "model_module": "@jupyter-widgets/controls",
      "model_module_version": "1.5.0",
      "model_name": "DescriptionStyleModel",
      "state": {
       "description_width": ""
      }
     },
     "8cf7559ee806491ba9188260879e9b85": {
      "model_module": "@jupyter-widgets/controls",
      "model_module_version": "1.5.0",
      "model_name": "DescriptionStyleModel",
      "state": {
       "description_width": ""
      }
     },
     "8e70de51da0946bb92e4b6ef7a1eef26": {
      "model_module": "@jupyter-widgets/controls",
      "model_module_version": "1.5.0",
      "model_name": "DescriptionStyleModel",
      "state": {
       "description_width": ""
      }
     },
     "9c29060ca9dd4c32b4209f7e09ee608d": {
      "model_module": "@jupyter-widgets/base",
      "model_module_version": "1.2.0",
      "model_name": "LayoutModel",
      "state": {}
     },
     "9e969f0e6b1e4b648fb6a4b9e1a99b6a": {
      "model_module": "@jupyter-widgets/controls",
      "model_module_version": "1.5.0",
      "model_name": "TextModel",
      "state": {
       "description": "Agent File",
       "layout": "IPY_MODEL_2c1ad74a10594c4aa8abad3b9ca3a302",
       "style": "IPY_MODEL_dee50b6344f445759d44841c2533c3e1",
       "value": "agents.xlsx"
      }
     },
     "a19afe75f6f2436fbc4692a5e9acd3ec": {
      "model_module": "@jupyter-widgets/controls",
      "model_module_version": "1.5.0",
      "model_name": "DescriptionStyleModel",
      "state": {
       "description_width": ""
      }
     },
     "a96fd299748b4aad86cd8698803a7dd5": {
      "model_module": "@jupyter-widgets/base",
      "model_module_version": "1.2.0",
      "model_name": "LayoutModel",
      "state": {}
     },
     "b572ea348306457286d78195d2935e98": {
      "model_module": "@jupyter-widgets/controls",
      "model_module_version": "1.5.0",
      "model_name": "DescriptionStyleModel",
      "state": {
       "description_width": ""
      }
     },
     "b99251a2d35a408bb05aba9ad565f4f0": {
      "model_module": "@jupyter-widgets/controls",
      "model_module_version": "1.5.0",
      "model_name": "CheckboxModel",
      "state": {
       "description": "Auto Name Simulation?",
       "disabled": false,
       "indent": false,
       "layout": "IPY_MODEL_722f57fba686491eaac6f770f6945363",
       "style": "IPY_MODEL_0a8a8b2c1aea480694b65f54e24a2a98",
       "value": true
      }
     },
     "bb4782d405c74f4cbb76b5f9cfddc767": {
      "model_module": "@jupyter-widgets/base",
      "model_module_version": "1.2.0",
      "model_name": "LayoutModel",
      "state": {}
     },
     "bdb9378f4703405cbea1fc219193ec5e": {
      "model_module": "@jupyter-widgets/controls",
      "model_module_version": "1.5.0",
      "model_name": "TextModel",
      "state": {
       "description": "Simulation Name",
       "layout": "IPY_MODEL_251c7b3064dd4e4da8f8fba71435fb4a",
       "style": "IPY_MODEL_837f5606c0d744eb8035e66169d19953",
       "value": "agents_cim_0331_1000"
      }
     },
     "c3556caef7b94fbeba38288da3761314": {
      "model_module": "@jupyter-widgets/controls",
      "model_module_version": "1.5.0",
      "model_name": "DescriptionStyleModel",
      "state": {
       "description_width": ""
      }
     },
     "d2472290a8cf47fca16d177c75bf6d92": {
      "model_module": "@jupyter-widgets/controls",
      "model_module_version": "1.5.0",
      "model_name": "CheckboxModel",
      "state": {
       "description": "Display Before Map?",
       "disabled": false,
       "indent": false,
       "layout": "IPY_MODEL_0b453774faa34f11967b5b5da4e3ebec",
       "style": "IPY_MODEL_5a10444b16144f60b7b57847a9a28fa3",
       "value": false
      }
     },
     "dac52f5ed9b44d9b89eb4bdec9d5ee86": {
      "model_module": "@jupyter-widgets/controls",
      "model_module_version": "1.5.0",
      "model_name": "TextModel",
      "state": {
       "description": "Simulation Name",
       "layout": "IPY_MODEL_51cacf26474745cc921d7410731c9fc0",
       "style": "IPY_MODEL_8cf7559ee806491ba9188260879e9b85",
       "value": "agents_cim_0331_0958"
      }
     },
     "daf4aa3e5b8d42ab80191504daeb7c15": {
      "model_module": "@jupyter-widgets/controls",
      "model_module_version": "1.5.0",
      "model_name": "TextModel",
      "state": {
       "description": "Agent File",
       "layout": "IPY_MODEL_15d6a8d9463e491e988a1ca1f5ec6020",
       "style": "IPY_MODEL_c3556caef7b94fbeba38288da3761314",
       "value": "agents.xlsx"
      }
     },
     "dee50b6344f445759d44841c2533c3e1": {
      "model_module": "@jupyter-widgets/controls",
      "model_module_version": "1.5.0",
      "model_name": "DescriptionStyleModel",
      "state": {
       "description_width": ""
      }
     },
     "e404f4a34f5341be917ea7831ad086f4": {
      "model_module": "@jupyter-widgets/controls",
      "model_module_version": "1.5.0",
      "model_name": "IntSliderModel",
      "state": {
       "layout": "IPY_MODEL_ea62a58389124f379b2037d8d38ce8b4",
       "max": 24,
       "style": "IPY_MODEL_689696c9d9004b62b0f3bc3ef2959a76",
       "value": 23
      }
     },
     "ea62a58389124f379b2037d8d38ce8b4": {
      "model_module": "@jupyter-widgets/base",
      "model_module_version": "1.2.0",
      "model_name": "LayoutModel",
      "state": {}
     },
     "fa54685d169e4f728e38bd2e74eb48c3": {
      "model_module": "@jupyter-widgets/controls",
      "model_module_version": "1.5.0",
      "model_name": "IntSliderModel",
      "state": {
       "layout": "IPY_MODEL_9c29060ca9dd4c32b4209f7e09ee608d",
       "max": 24,
       "style": "IPY_MODEL_0c9f831e8961414ab776b5b479d96927",
       "value": 23
      }
     }
    },
    "version_major": 2,
    "version_minor": 0
   }
  }
 },
 "nbformat": 4,
 "nbformat_minor": 1
}
