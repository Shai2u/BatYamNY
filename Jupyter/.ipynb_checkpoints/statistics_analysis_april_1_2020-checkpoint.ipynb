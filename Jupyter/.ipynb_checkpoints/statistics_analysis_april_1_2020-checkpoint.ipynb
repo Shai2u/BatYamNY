{
 "cells": [
  {
   "cell_type": "markdown",
   "metadata": {},
   "source": [
    "## Statistic Analysis for Population Change Israel Bat Yam (update April 1st)\n"
   ]
  },
  {
   "cell_type": "markdown",
   "metadata": {},
   "source": [
    "## Step 1 Loading Files"
   ]
  },
  {
   "cell_type": "code",
   "execution_count": 1,
   "metadata": {},
   "outputs": [],
   "source": [
    "from statistics_ssi_analysis_april_1 import SSA\n",
    "import cufflinks as cf\n",
    "import pandas as pd\n",
    "import numpy as np\n",
    "import plotly.graph_objects as go\n",
    "from ipywidgets import interact, interactive, fixed, interact_manual\n",
    "from ipywidgets import widgets\n",
    "import geopandas as gpd\n",
    "#webmap\n",
    "from gis_local_webmap import GIS_local_webmap\n",
    "from gis_operations import GIS_operations"
   ]
  },
  {
   "cell_type": "markdown",
   "metadata": {},
   "source": [
    "## Step 2 creating a statistics object"
   ]
  },
  {
   "cell_type": "code",
   "execution_count": 2,
   "metadata": {},
   "outputs": [
    {
     "data": {
      "application/vnd.jupyter.widget-view+json": {
       "model_id": "f5978d04982243e48ccf864e4e07f39c",
       "version_major": 2,
       "version_minor": 0
      },
      "text/plain": [
       "Text(value='cim_0326_1234', description='Folder:')"
      ]
     },
     "metadata": {},
     "output_type": "display_data"
    },
    {
     "data": {
      "application/vnd.jupyter.widget-view+json": {
       "model_id": "c49e1cbe7a9d4f738c46c66d6ac7d390",
       "version_major": 2,
       "version_minor": 0
      },
      "text/plain": [
       "Text(value='agents_cim_0331_1000', description='Simulation Name')"
      ]
     },
     "metadata": {},
     "output_type": "display_data"
    },
    {
     "data": {
      "application/vnd.jupyter.widget-view+json": {
       "model_id": "d96b19877fca44a4bc2250251b622dec",
       "version_major": 2,
       "version_minor": 0
      },
      "text/plain": [
       "Text(value='agents_ssi.xlsx', description='Agent File')"
      ]
     },
     "metadata": {},
     "output_type": "display_data"
    }
   ],
   "source": [
    "ssa = SSA()\n",
    "display(ssa.simulation_folder)\n",
    "display(ssa.simulation_name)\n",
    "display(ssa.agents_name)"
   ]
  },
  {
   "cell_type": "code",
   "execution_count": 3,
   "metadata": {},
   "outputs": [],
   "source": [
    "ssa.load_files()\n",
    "ssa.init_gis()"
   ]
  },
  {
   "cell_type": "code",
   "execution_count": 4,
   "metadata": {},
   "outputs": [],
   "source": [
    "ssa.pivot_stay_leave_project()"
   ]
  },
  {
   "cell_type": "code",
   "execution_count": 5,
   "metadata": {},
   "outputs": [
    {
     "name": "stderr",
     "output_type": "stream",
     "text": [
      "/Users/shai/Google Drive/BatYam NY DRIVE/Simulations/March 14 GitHUB/BatYamNY/Jupyter/statistics_ssi_analysis_april_1.py:243: UserWarning:\n",
      "\n",
      "Boolean Series key will be reindexed to match DataFrame index.\n",
      "\n",
      "/Users/shai/Google Drive/BatYam NY DRIVE/Simulations/March 14 GitHUB/BatYamNY/Jupyter/statistics_ssi_analysis_april_1.py:249: UserWarning:\n",
      "\n",
      "Boolean Series key will be reindexed to match DataFrame index.\n",
      "\n",
      "/Users/shai/Google Drive/BatYam NY DRIVE/Simulations/March 14 GitHUB/BatYamNY/Jupyter/statistics_ssi_analysis_april_1.py:252: UserWarning:\n",
      "\n",
      "Boolean Series key will be reindexed to match DataFrame index.\n",
      "\n",
      "/Users/shai/Google Drive/BatYam NY DRIVE/Simulations/March 14 GitHUB/BatYamNY/Jupyter/statistics_ssi_analysis_april_1.py:255: UserWarning:\n",
      "\n",
      "Boolean Series key will be reindexed to match DataFrame index.\n",
      "\n"
     ]
    }
   ],
   "source": [
    "ssa.pivot_staying_agents_project()"
   ]
  },
  {
   "cell_type": "code",
   "execution_count": 6,
   "metadata": {},
   "outputs": [],
   "source": [
    "ssa.pivot_accumulation()"
   ]
  },
  {
   "cell_type": "code",
   "execution_count": 7,
   "metadata": {},
   "outputs": [
    {
     "data": {
      "application/vnd.jupyter.widget-view+json": {
       "model_id": "4de4d7f6f936450bbf95b74adb6f608e",
       "version_major": 2,
       "version_minor": 0
      },
      "text/plain": [
       "Checkbox(value=False, description='Display Before Map?', indent=False)"
      ]
     },
     "metadata": {},
     "output_type": "display_data"
    }
   ],
   "source": [
    "display (ssa.before_map)"
   ]
  },
  {
   "cell_type": "code",
   "execution_count": 9,
   "metadata": {},
   "outputs": [],
   "source": [
    "if (ssa.before_map.value):\n",
    "    fmap = ssa.prepare_old_bldgs_map()\n",
    "    #display(fmap)\n",
    "    #fmap2 = ssa.prepare_agents_statistics_map_0()\n",
    "    #display(fmap2)"
   ]
  },
  {
   "cell_type": "code",
   "execution_count": 10,
   "metadata": {},
   "outputs": [
    {
     "data": {
      "application/vnd.jupyter.widget-view+json": {
       "model_id": "0c9365179aa444d2b687fd7c946d436a",
       "version_major": 2,
       "version_minor": 0
      },
      "text/plain": [
       "interactive(children=(IntSlider(value=0, description='Iteration', max=23), Dropdown(description='options', opt…"
      ]
     },
     "metadata": {},
     "output_type": "display_data"
    }
   ],
   "source": [
    "l = ssa.num_of_iterations\n",
    "@interact\n",
    "\n",
    "def scatter_plot(x = ssa.itr_slider, \n",
    "                 options=['Age','Ownership','New Comers','Income'],\n",
    "                 percent=True):\n",
    "    ssa.scatter_plot_helper(x, options,percent,950,350)\n",
    "    fmap2 = ssa.add_specific_building(x,fmap)\n",
    "    fmap2 = ssa.display_map_point(x,fmap2)\n",
    "    display(fmap2)"
   ]
  },
  {
   "cell_type": "code",
   "execution_count": 37,
   "metadata": {},
   "outputs": [],
   "source": [
    "ssa.itr_slider.value = ssa.itr_slider.value+1"
   ]
  },
  {
   "cell_type": "code",
   "execution_count": null,
   "metadata": {},
   "outputs": [],
   "source": []
  },
  {
   "cell_type": "code",
   "execution_count": null,
   "metadata": {},
   "outputs": [],
   "source": []
  },
  {
   "cell_type": "code",
   "execution_count": null,
   "metadata": {},
   "outputs": [],
   "source": []
  },
  {
   "cell_type": "code",
   "execution_count": null,
   "metadata": {},
   "outputs": [],
   "source": []
  },
  {
   "cell_type": "markdown",
   "metadata": {},
   "source": [
    "https://github.com/WillKoehrsen/Data-Analysis/blob/master/widgets/Widgets-Overview.ipynb\n",
    "https://towardsdatascience.com/interactive-controls-for-jupyter-notebooks-f5c94829aee6"
   ]
  },
  {
   "cell_type": "code",
   "execution_count": null,
   "metadata": {},
   "outputs": [],
   "source": []
  },
  {
   "cell_type": "markdown",
   "metadata": {},
   "source": [
    "https://ipywidgets.readthedocs.io/en/latest/examples/Using%20Interact.html"
   ]
  },
  {
   "cell_type": "code",
   "execution_count": 22,
   "metadata": {},
   "outputs": [
    {
     "data": {
      "application/vnd.jupyter.widget-view+json": {
       "model_id": "c1292f3ce534454f8f1a2bd7b205b0bb",
       "version_major": 2,
       "version_minor": 0
      },
      "text/plain": [
       "FigureWidget({\n",
       "    'data': [{'type': 'scatter', 'uid': '4024c601-512e-4b86-9b37-1a44426225ab'}], 'layout': {'t…"
      ]
     },
     "metadata": {},
     "output_type": "display_data"
    }
   ],
   "source": [
    "import plotly.graph_objs as go\n",
    "\n",
    "import numpy as np\n",
    "from ipywidgets import interact\n",
    "\n",
    "fig = go.FigureWidget()\n",
    "scatt = fig.add_scatter()\n",
    "fig"
   ]
  },
  {
   "cell_type": "code",
   "execution_count": 24,
   "metadata": {},
   "outputs": [
    {
     "data": {
      "application/vnd.jupyter.widget-view+json": {
       "model_id": "5beceeb71c2c4c618b52f4cb99c3de28",
       "version_major": 2,
       "version_minor": 0
      },
      "text/plain": [
       "interactive(children=(FloatSlider(value=3.6, description='a', max=4.0, min=1.0, step=0.01), FloatSlider(value=…"
      ]
     },
     "metadata": {},
     "output_type": "display_data"
    }
   ],
   "source": [
    "#https://plotly.com/python/v3/interact-decorator/\n",
    "xs=np.linspace(0, 6, 100)\n",
    "\n",
    "@interact(a=(1.0, 4.0, 0.01), b=(0, 10.0, 0.01), color=['red', 'green', 'blue'])\n",
    "def update(a=3.6, b=4.3, color='blue'):\n",
    "    with fig.batch_update():\n",
    "        scatt.x=xs\n",
    "        scatt.y=np.sin(a*xs-b)\n",
    "        scatt.line.color=color"
   ]
  },
  {
   "cell_type": "code",
   "execution_count": 20,
   "metadata": {},
   "outputs": [
    {
     "data": {
      "text/plain": [
       "(Scatter({\n",
       "     'uid': 'c8c4f585-734c-4fa1-b6e1-7c33dc07eb6c'\n",
       " }),)"
      ]
     },
     "execution_count": 20,
     "metadata": {},
     "output_type": "execute_result"
    }
   ],
   "source": [
    "scatt.data"
   ]
  },
  {
   "cell_type": "code",
   "execution_count": null,
   "metadata": {},
   "outputs": [],
   "source": []
  },
  {
   "cell_type": "code",
   "execution_count": null,
   "metadata": {},
   "outputs": [],
   "source": [
    "w = interactive(f, a=10, b=20)\n",
    "w2 = interactive(f, a=20, b=30)\n",
    "HBox([w, w2])"
   ]
  },
  {
   "cell_type": "code",
   "execution_count": null,
   "metadata": {},
   "outputs": [],
   "source": [
    "#https://stackoverflow.com/questions/50399321/how-to-update-plotly-plot-in-offline-mode-jupyter-notebook\n",
    "import pandas as pd\n",
    "import plotly.graph_objs as go\n",
    "import ipywidgets as widgets\n",
    "\n",
    "df = pd.DataFrame({'cmdty' : ['beans', 'beans', 'beans', 'corn', 'corn', 'corn'],\n",
    "                'month' : [1, 2, 3, 1, 2, 3],\n",
    "                'value' : [10.5, 3.5, 8.0, 5.0, 8.75, 5.75]})\n",
    "\n",
    "items = df.cmdty.unique().tolist()\n",
    "\n",
    "cmdty = widgets.Dropdown(options=items,\n",
    "                    description='Commodity')\n",
    "\n",
    "def response(change):\n",
    "    c = cmdty.value\n",
    "    df_tmp = df[df.cmdty == c]\n",
    "    x0 = df_tmp['month'] # Useless here as x is equal for the 2 commodities\n",
    "    x1 = df_tmp['value']\n",
    "    fig.data[0].x = x0 # Useless here as x is equal for the 2 commodities\n",
    "    fig.data[0].y = x1\n",
    "\n",
    "fig = go.FigureWidget(data=[{'type' : 'scatter'}])\n",
    "\n",
    "cmdty.observe(response, names='value')\n",
    "display(widgets.VBox([cmdty, fig]))"
   ]
  },
  {
   "cell_type": "code",
   "execution_count": null,
   "metadata": {},
   "outputs": [],
   "source": [
    "#https://github.com/5agado\n",
    "#Fit bit github - good example"
   ]
  },
  {
   "cell_type": "code",
   "execution_count": 10,
   "metadata": {},
   "outputs": [
    {
     "data": {
      "application/vnd.jupyter.widget-view+json": {
       "model_id": "b818687298a746f889aeb9a92e26fd4e",
       "version_major": 2,
       "version_minor": 0
      },
      "text/plain": [
       "HBox(children=(IntSlider(value=0, description='Simulation Name', max=10), IntSlider(value=0), IntSlider(value=…"
      ]
     },
     "metadata": {},
     "output_type": "display_data"
    },
    {
     "data": {
      "application/vnd.jupyter.widget-view+json": {
       "model_id": "74dffe2e4f794dab89e1d20d123d3a42",
       "version_major": 2,
       "version_minor": 0
      },
      "text/plain": [
       "Output()"
      ]
     },
     "metadata": {},
     "output_type": "display_data"
    }
   ],
   "source": [
    "\n",
    "a = widgets.IntSlider(\n",
    "    value=0,\n",
    "    description='Simulation Name',\n",
    "    min=0,\n",
    "    max=10)\n",
    "b = widgets.IntSlider()\n",
    "c = widgets.IntSlider()\n",
    "ui = widgets.HBox([a, b, c])\n",
    "def f(a, b, c):\n",
    "    print((a, b, c))\n",
    "\n",
    "out = widgets.interactive_output(f, {'a': a, 'b': b, 'c': c})\n",
    "\n",
    "display(ui, out)"
   ]
  },
  {
   "cell_type": "code",
   "execution_count": null,
   "metadata": {},
   "outputs": [],
   "source": []
  }
 ],
 "metadata": {
  "kernelspec": {
   "display_name": "Python 3",
   "language": "python",
   "name": "python3"
  },
  "language_info": {
   "codemirror_mode": {
    "name": "ipython",
    "version": 3
   },
   "file_extension": ".py",
   "mimetype": "text/x-python",
   "name": "python",
   "nbconvert_exporter": "python",
   "pygments_lexer": "ipython3",
   "version": "3.7.3"
  }
 },
 "nbformat": 4,
 "nbformat_minor": 2
}
