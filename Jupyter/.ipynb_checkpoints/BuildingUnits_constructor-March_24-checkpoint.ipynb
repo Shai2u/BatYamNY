{
 "cells": [
  {
   "cell_type": "markdown",
   "metadata": {},
   "source": [
    "# Constructor for buildings Units Base"
   ]
  },
  {
   "cell_type": "markdown",
   "metadata": {},
   "source": [
    "# Algorithm\n",
    "1. loop every building in script file and in future script file\n",
    "2. create a list of number of original units\n",
    "3. set the number of buidling\n",
    "4. set the number of Iteration (if the file will be appneded with the rest of the buildings\n",
    "5. set the size of appartments (according to the average that was decided upon)\n",
    "6. set the price according to the data\n",
    "7. set the buy price according to the data\n",
    "8. set number of floors according to data\n",
    "9. set status \"old buidling\"\n",
    "10. save the file as a seperate Excel file (in the future this will be one file)\n"
   ]
  },
  {
   "cell_type": "markdown",
   "metadata": {},
   "source": [
    "## loading dictionary and libraries"
   ]
  },
  {
   "cell_type": "code",
   "execution_count": 1,
   "metadata": {},
   "outputs": [],
   "source": [
    "import pandas as pd\n",
    "import numpy as np\n",
    "import geopandas as gpd\n",
    "import json\n",
    "import os\n",
    "import ipywidgets as widgets\n",
    "import numpy as np\n",
    "from dataCollection_march_24 import DC"
   ]
  },
  {
   "cell_type": "code",
   "execution_count": 2,
   "metadata": {},
   "outputs": [],
   "source": [
    "#iniating the class for dealing with data collection\n",
    "# Loads library and rules files\n",
    "# initate widget GUI\n",
    "# loading the essential excel files\n",
    "dc = DC()"
   ]
  },
  {
   "cell_type": "markdown",
   "metadata": {},
   "source": [
    "## loading script files"
   ]
  },
  {
   "cell_type": "code",
   "execution_count": 3,
   "metadata": {},
   "outputs": [
    {
     "data": {
      "application/vnd.jupyter.widget-view+json": {
       "model_id": "bb134a0d08a14b51b6b3dac40bc5eede",
       "version_major": 2,
       "version_minor": 0
      },
      "text/plain": [
       "Text(value='cim_0324_0620', description='Simulation Name:')"
      ]
     },
     "metadata": {},
     "output_type": "display_data"
    }
   ],
   "source": [
    "display(dc.cim_name)"
   ]
  },
  {
   "cell_type": "code",
   "execution_count": 4,
   "metadata": {},
   "outputs": [
    {
     "name": "stdout",
     "output_type": "stream",
     "text": [
      "simulationID/cim_0324_0620/data/FutureBldgs_Tama_38.xlsx\n",
      "simulationID/cim_0324_0620/data/script_ssi.xlsx\n"
     ]
    }
   ],
   "source": [
    "dc.setup_cim_path_and_load_scripts()"
   ]
  },
  {
   "cell_type": "markdown",
   "metadata": {},
   "source": [
    "## initating iteration"
   ]
  },
  {
   "cell_type": "code",
   "execution_count": 5,
   "metadata": {},
   "outputs": [
    {
     "data": {
      "application/vnd.jupyter.widget-view+json": {
       "model_id": "ca5474e58263414898c198b64e23b02a",
       "version_major": 2,
       "version_minor": 0
      },
      "text/plain": [
       "Text(value='agents.xlsx', description='Agents File Name:')"
      ]
     },
     "metadata": {},
     "output_type": "display_data"
    },
    {
     "data": {
      "application/vnd.jupyter.widget-view+json": {
       "model_id": "679ef73779eb4362b62d76c504bba93b",
       "version_major": 2,
       "version_minor": 0
      },
      "text/plain": [
       "IntSlider(value=0, description='Iteration', max=18)"
      ]
     },
     "metadata": {},
     "output_type": "display_data"
    }
   ],
   "source": [
    "dc.initiating_agents() #gets the name of the agents file\n",
    "display(dc.agents_name)\n",
    "display(dc.i_slider)"
   ]
  },
  {
   "cell_type": "code",
   "execution_count": 10,
   "metadata": {},
   "outputs": [
    {
     "name": "stdout",
     "output_type": "stream",
     "text": [
      "Iteration 18\n"
     ]
    },
    {
     "ename": "KeyError",
     "evalue": "18",
     "output_type": "error",
     "traceback": [
      "\u001b[0;31m---------------------------------------------------------------------------\u001b[0m",
      "\u001b[0;31mKeyError\u001b[0m                                  Traceback (most recent call last)",
      "\u001b[0;32m~/anaconda3/lib/python3.7/site-packages/pandas/core/indexes/base.py\u001b[0m in \u001b[0;36mget_loc\u001b[0;34m(self, key, method, tolerance)\u001b[0m\n\u001b[1;32m   2655\u001b[0m             \u001b[0;32mtry\u001b[0m\u001b[0;34m:\u001b[0m\u001b[0;34m\u001b[0m\u001b[0;34m\u001b[0m\u001b[0m\n\u001b[0;32m-> 2656\u001b[0;31m                 \u001b[0;32mreturn\u001b[0m \u001b[0mself\u001b[0m\u001b[0;34m.\u001b[0m\u001b[0m_engine\u001b[0m\u001b[0;34m.\u001b[0m\u001b[0mget_loc\u001b[0m\u001b[0;34m(\u001b[0m\u001b[0mkey\u001b[0m\u001b[0;34m)\u001b[0m\u001b[0;34m\u001b[0m\u001b[0;34m\u001b[0m\u001b[0m\n\u001b[0m\u001b[1;32m   2657\u001b[0m             \u001b[0;32mexcept\u001b[0m \u001b[0mKeyError\u001b[0m\u001b[0;34m:\u001b[0m\u001b[0;34m\u001b[0m\u001b[0;34m\u001b[0m\u001b[0m\n",
      "\u001b[0;32mpandas/_libs/index.pyx\u001b[0m in \u001b[0;36mpandas._libs.index.IndexEngine.get_loc\u001b[0;34m()\u001b[0m\n",
      "\u001b[0;32mpandas/_libs/index.pyx\u001b[0m in \u001b[0;36mpandas._libs.index.IndexEngine.get_loc\u001b[0;34m()\u001b[0m\n",
      "\u001b[0;32mpandas/_libs/hashtable_class_helper.pxi\u001b[0m in \u001b[0;36mpandas._libs.hashtable.Int64HashTable.get_item\u001b[0;34m()\u001b[0m\n",
      "\u001b[0;32mpandas/_libs/hashtable_class_helper.pxi\u001b[0m in \u001b[0;36mpandas._libs.hashtable.Int64HashTable.get_item\u001b[0;34m()\u001b[0m\n",
      "\u001b[0;31mKeyError\u001b[0m: 18",
      "\nDuring handling of the above exception, another exception occurred:\n",
      "\u001b[0;31mKeyError\u001b[0m                                  Traceback (most recent call last)",
      "\u001b[0;32m<ipython-input-10-2ba6dc0c08b6>\u001b[0m in \u001b[0;36m<module>\u001b[0;34m\u001b[0m\n\u001b[0;32m----> 1\u001b[0;31m \u001b[0mdc\u001b[0m\u001b[0;34m.\u001b[0m\u001b[0miterate\u001b[0m\u001b[0;34m(\u001b[0m\u001b[0;34m)\u001b[0m\u001b[0;34m\u001b[0m\u001b[0;34m\u001b[0m\u001b[0m\n\u001b[0m",
      "\u001b[0;32m~/Google Drive/BatYam NY DRIVE/Simulations/March 14 GitHUB/BatYamNY/Jupyter/dataCollection_march_24.py\u001b[0m in \u001b[0;36miterate\u001b[0;34m(self)\u001b[0m\n\u001b[1;32m     73\u001b[0m         \u001b[0mi\u001b[0m \u001b[0;34m=\u001b[0m \u001b[0mself\u001b[0m\u001b[0;34m.\u001b[0m\u001b[0mi_slider\u001b[0m\u001b[0;34m.\u001b[0m\u001b[0mvalue\u001b[0m\u001b[0;34m\u001b[0m\u001b[0;34m\u001b[0m\u001b[0m\n\u001b[1;32m     74\u001b[0m         \u001b[0mprint\u001b[0m\u001b[0;34m(\u001b[0m\u001b[0;34m'Iteration '\u001b[0m\u001b[0;34m+\u001b[0m \u001b[0mstr\u001b[0m\u001b[0;34m(\u001b[0m\u001b[0mi\u001b[0m\u001b[0;34m)\u001b[0m\u001b[0;34m)\u001b[0m\u001b[0;34m\u001b[0m\u001b[0;34m\u001b[0m\u001b[0m\n\u001b[0;32m---> 75\u001b[0;31m         \u001b[0mcurrentBldg\u001b[0m \u001b[0;34m=\u001b[0m \u001b[0mself\u001b[0m\u001b[0;34m.\u001b[0m\u001b[0mscript\u001b[0m\u001b[0;34m.\u001b[0m\u001b[0mloc\u001b[0m\u001b[0;34m[\u001b[0m\u001b[0mi\u001b[0m\u001b[0;34m]\u001b[0m\u001b[0;34m\u001b[0m\u001b[0;34m\u001b[0m\u001b[0m\n\u001b[0m\u001b[1;32m     76\u001b[0m         \u001b[0magents_path\u001b[0m \u001b[0;34m=\u001b[0m\u001b[0mself\u001b[0m\u001b[0;34m.\u001b[0m\u001b[0mcim_specific_path\u001b[0m\u001b[0;34m+\u001b[0m\u001b[0mself\u001b[0m\u001b[0;34m.\u001b[0m\u001b[0magents_name\u001b[0m\u001b[0;34m.\u001b[0m\u001b[0mvalue\u001b[0m\u001b[0;34m\u001b[0m\u001b[0;34m\u001b[0m\u001b[0m\n\u001b[1;32m     77\u001b[0m \u001b[0;34m\u001b[0m\u001b[0m\n",
      "\u001b[0;32m~/anaconda3/lib/python3.7/site-packages/pandas/core/indexing.py\u001b[0m in \u001b[0;36m__getitem__\u001b[0;34m(self, key)\u001b[0m\n\u001b[1;32m   1498\u001b[0m \u001b[0;34m\u001b[0m\u001b[0m\n\u001b[1;32m   1499\u001b[0m             \u001b[0mmaybe_callable\u001b[0m \u001b[0;34m=\u001b[0m \u001b[0mcom\u001b[0m\u001b[0;34m.\u001b[0m\u001b[0mapply_if_callable\u001b[0m\u001b[0;34m(\u001b[0m\u001b[0mkey\u001b[0m\u001b[0;34m,\u001b[0m \u001b[0mself\u001b[0m\u001b[0;34m.\u001b[0m\u001b[0mobj\u001b[0m\u001b[0;34m)\u001b[0m\u001b[0;34m\u001b[0m\u001b[0;34m\u001b[0m\u001b[0m\n\u001b[0;32m-> 1500\u001b[0;31m             \u001b[0;32mreturn\u001b[0m \u001b[0mself\u001b[0m\u001b[0;34m.\u001b[0m\u001b[0m_getitem_axis\u001b[0m\u001b[0;34m(\u001b[0m\u001b[0mmaybe_callable\u001b[0m\u001b[0;34m,\u001b[0m \u001b[0maxis\u001b[0m\u001b[0;34m=\u001b[0m\u001b[0maxis\u001b[0m\u001b[0;34m)\u001b[0m\u001b[0;34m\u001b[0m\u001b[0;34m\u001b[0m\u001b[0m\n\u001b[0m\u001b[1;32m   1501\u001b[0m \u001b[0;34m\u001b[0m\u001b[0m\n\u001b[1;32m   1502\u001b[0m     \u001b[0;32mdef\u001b[0m \u001b[0m_is_scalar_access\u001b[0m\u001b[0;34m(\u001b[0m\u001b[0mself\u001b[0m\u001b[0;34m,\u001b[0m \u001b[0mkey\u001b[0m\u001b[0;34m)\u001b[0m\u001b[0;34m:\u001b[0m\u001b[0;34m\u001b[0m\u001b[0;34m\u001b[0m\u001b[0m\n",
      "\u001b[0;32m~/anaconda3/lib/python3.7/site-packages/pandas/core/indexing.py\u001b[0m in \u001b[0;36m_getitem_axis\u001b[0;34m(self, key, axis)\u001b[0m\n\u001b[1;32m   1911\u001b[0m         \u001b[0;31m# fall thru to straight lookup\u001b[0m\u001b[0;34m\u001b[0m\u001b[0;34m\u001b[0m\u001b[0;34m\u001b[0m\u001b[0m\n\u001b[1;32m   1912\u001b[0m         \u001b[0mself\u001b[0m\u001b[0;34m.\u001b[0m\u001b[0m_validate_key\u001b[0m\u001b[0;34m(\u001b[0m\u001b[0mkey\u001b[0m\u001b[0;34m,\u001b[0m \u001b[0maxis\u001b[0m\u001b[0;34m)\u001b[0m\u001b[0;34m\u001b[0m\u001b[0;34m\u001b[0m\u001b[0m\n\u001b[0;32m-> 1913\u001b[0;31m         \u001b[0;32mreturn\u001b[0m \u001b[0mself\u001b[0m\u001b[0;34m.\u001b[0m\u001b[0m_get_label\u001b[0m\u001b[0;34m(\u001b[0m\u001b[0mkey\u001b[0m\u001b[0;34m,\u001b[0m \u001b[0maxis\u001b[0m\u001b[0;34m=\u001b[0m\u001b[0maxis\u001b[0m\u001b[0;34m)\u001b[0m\u001b[0;34m\u001b[0m\u001b[0;34m\u001b[0m\u001b[0m\n\u001b[0m\u001b[1;32m   1914\u001b[0m \u001b[0;34m\u001b[0m\u001b[0m\n\u001b[1;32m   1915\u001b[0m \u001b[0;34m\u001b[0m\u001b[0m\n",
      "\u001b[0;32m~/anaconda3/lib/python3.7/site-packages/pandas/core/indexing.py\u001b[0m in \u001b[0;36m_get_label\u001b[0;34m(self, label, axis)\u001b[0m\n\u001b[1;32m    139\u001b[0m             \u001b[0;32mraise\u001b[0m \u001b[0mIndexingError\u001b[0m\u001b[0;34m(\u001b[0m\u001b[0;34m'no slices here, handle elsewhere'\u001b[0m\u001b[0;34m)\u001b[0m\u001b[0;34m\u001b[0m\u001b[0;34m\u001b[0m\u001b[0m\n\u001b[1;32m    140\u001b[0m \u001b[0;34m\u001b[0m\u001b[0m\n\u001b[0;32m--> 141\u001b[0;31m         \u001b[0;32mreturn\u001b[0m \u001b[0mself\u001b[0m\u001b[0;34m.\u001b[0m\u001b[0mobj\u001b[0m\u001b[0;34m.\u001b[0m\u001b[0m_xs\u001b[0m\u001b[0;34m(\u001b[0m\u001b[0mlabel\u001b[0m\u001b[0;34m,\u001b[0m \u001b[0maxis\u001b[0m\u001b[0;34m=\u001b[0m\u001b[0maxis\u001b[0m\u001b[0;34m)\u001b[0m\u001b[0;34m\u001b[0m\u001b[0;34m\u001b[0m\u001b[0m\n\u001b[0m\u001b[1;32m    142\u001b[0m \u001b[0;34m\u001b[0m\u001b[0m\n\u001b[1;32m    143\u001b[0m     \u001b[0;32mdef\u001b[0m \u001b[0m_get_loc\u001b[0m\u001b[0;34m(\u001b[0m\u001b[0mself\u001b[0m\u001b[0;34m,\u001b[0m \u001b[0mkey\u001b[0m\u001b[0;34m,\u001b[0m \u001b[0maxis\u001b[0m\u001b[0;34m=\u001b[0m\u001b[0;32mNone\u001b[0m\u001b[0;34m)\u001b[0m\u001b[0;34m:\u001b[0m\u001b[0;34m\u001b[0m\u001b[0;34m\u001b[0m\u001b[0m\n",
      "\u001b[0;32m~/anaconda3/lib/python3.7/site-packages/pandas/core/generic.py\u001b[0m in \u001b[0;36mxs\u001b[0;34m(self, key, axis, level, drop_level)\u001b[0m\n\u001b[1;32m   3583\u001b[0m                                                       drop_level=drop_level)\n\u001b[1;32m   3584\u001b[0m         \u001b[0;32melse\u001b[0m\u001b[0;34m:\u001b[0m\u001b[0;34m\u001b[0m\u001b[0;34m\u001b[0m\u001b[0m\n\u001b[0;32m-> 3585\u001b[0;31m             \u001b[0mloc\u001b[0m \u001b[0;34m=\u001b[0m \u001b[0mself\u001b[0m\u001b[0;34m.\u001b[0m\u001b[0mindex\u001b[0m\u001b[0;34m.\u001b[0m\u001b[0mget_loc\u001b[0m\u001b[0;34m(\u001b[0m\u001b[0mkey\u001b[0m\u001b[0;34m)\u001b[0m\u001b[0;34m\u001b[0m\u001b[0;34m\u001b[0m\u001b[0m\n\u001b[0m\u001b[1;32m   3586\u001b[0m \u001b[0;34m\u001b[0m\u001b[0m\n\u001b[1;32m   3587\u001b[0m             \u001b[0;32mif\u001b[0m \u001b[0misinstance\u001b[0m\u001b[0;34m(\u001b[0m\u001b[0mloc\u001b[0m\u001b[0;34m,\u001b[0m \u001b[0mnp\u001b[0m\u001b[0;34m.\u001b[0m\u001b[0mndarray\u001b[0m\u001b[0;34m)\u001b[0m\u001b[0;34m:\u001b[0m\u001b[0;34m\u001b[0m\u001b[0;34m\u001b[0m\u001b[0m\n",
      "\u001b[0;32m~/anaconda3/lib/python3.7/site-packages/pandas/core/indexes/base.py\u001b[0m in \u001b[0;36mget_loc\u001b[0;34m(self, key, method, tolerance)\u001b[0m\n\u001b[1;32m   2656\u001b[0m                 \u001b[0;32mreturn\u001b[0m \u001b[0mself\u001b[0m\u001b[0;34m.\u001b[0m\u001b[0m_engine\u001b[0m\u001b[0;34m.\u001b[0m\u001b[0mget_loc\u001b[0m\u001b[0;34m(\u001b[0m\u001b[0mkey\u001b[0m\u001b[0;34m)\u001b[0m\u001b[0;34m\u001b[0m\u001b[0;34m\u001b[0m\u001b[0m\n\u001b[1;32m   2657\u001b[0m             \u001b[0;32mexcept\u001b[0m \u001b[0mKeyError\u001b[0m\u001b[0;34m:\u001b[0m\u001b[0;34m\u001b[0m\u001b[0;34m\u001b[0m\u001b[0m\n\u001b[0;32m-> 2658\u001b[0;31m                 \u001b[0;32mreturn\u001b[0m \u001b[0mself\u001b[0m\u001b[0;34m.\u001b[0m\u001b[0m_engine\u001b[0m\u001b[0;34m.\u001b[0m\u001b[0mget_loc\u001b[0m\u001b[0;34m(\u001b[0m\u001b[0mself\u001b[0m\u001b[0;34m.\u001b[0m\u001b[0m_maybe_cast_indexer\u001b[0m\u001b[0;34m(\u001b[0m\u001b[0mkey\u001b[0m\u001b[0;34m)\u001b[0m\u001b[0;34m)\u001b[0m\u001b[0;34m\u001b[0m\u001b[0;34m\u001b[0m\u001b[0m\n\u001b[0m\u001b[1;32m   2659\u001b[0m         \u001b[0mindexer\u001b[0m \u001b[0;34m=\u001b[0m \u001b[0mself\u001b[0m\u001b[0;34m.\u001b[0m\u001b[0mget_indexer\u001b[0m\u001b[0;34m(\u001b[0m\u001b[0;34m[\u001b[0m\u001b[0mkey\u001b[0m\u001b[0;34m]\u001b[0m\u001b[0;34m,\u001b[0m \u001b[0mmethod\u001b[0m\u001b[0;34m=\u001b[0m\u001b[0mmethod\u001b[0m\u001b[0;34m,\u001b[0m \u001b[0mtolerance\u001b[0m\u001b[0;34m=\u001b[0m\u001b[0mtolerance\u001b[0m\u001b[0;34m)\u001b[0m\u001b[0;34m\u001b[0m\u001b[0;34m\u001b[0m\u001b[0m\n\u001b[1;32m   2660\u001b[0m         \u001b[0;32mif\u001b[0m \u001b[0mindexer\u001b[0m\u001b[0;34m.\u001b[0m\u001b[0mndim\u001b[0m \u001b[0;34m>\u001b[0m \u001b[0;36m1\u001b[0m \u001b[0;32mor\u001b[0m \u001b[0mindexer\u001b[0m\u001b[0;34m.\u001b[0m\u001b[0msize\u001b[0m \u001b[0;34m>\u001b[0m \u001b[0;36m1\u001b[0m\u001b[0;34m:\u001b[0m\u001b[0;34m\u001b[0m\u001b[0;34m\u001b[0m\u001b[0m\n",
      "\u001b[0;32mpandas/_libs/index.pyx\u001b[0m in \u001b[0;36mpandas._libs.index.IndexEngine.get_loc\u001b[0;34m()\u001b[0m\n",
      "\u001b[0;32mpandas/_libs/index.pyx\u001b[0m in \u001b[0;36mpandas._libs.index.IndexEngine.get_loc\u001b[0;34m()\u001b[0m\n",
      "\u001b[0;32mpandas/_libs/hashtable_class_helper.pxi\u001b[0m in \u001b[0;36mpandas._libs.hashtable.Int64HashTable.get_item\u001b[0;34m()\u001b[0m\n",
      "\u001b[0;32mpandas/_libs/hashtable_class_helper.pxi\u001b[0m in \u001b[0;36mpandas._libs.hashtable.Int64HashTable.get_item\u001b[0;34m()\u001b[0m\n",
      "\u001b[0;31mKeyError\u001b[0m: 18"
     ]
    }
   ],
   "source": [
    "dc.iterate()"
   ]
  },
  {
   "cell_type": "code",
   "execution_count": 11,
   "metadata": {},
   "outputs": [
    {
     "data": {
      "text/html": [
       "<div>\n",
       "<style scoped>\n",
       "    .dataframe tbody tr th:only-of-type {\n",
       "        vertical-align: middle;\n",
       "    }\n",
       "\n",
       "    .dataframe tbody tr th {\n",
       "        vertical-align: top;\n",
       "    }\n",
       "\n",
       "    .dataframe thead th {\n",
       "        text-align: right;\n",
       "    }\n",
       "</style>\n",
       "<table border=\"1\" class=\"dataframe\">\n",
       "  <thead>\n",
       "    <tr style=\"text-align: right;\">\n",
       "      <th></th>\n",
       "      <th>index</th>\n",
       "      <th>bld_address</th>\n",
       "      <th>OriginalUnits</th>\n",
       "      <th>OriginalFloors</th>\n",
       "      <th>originalRentPercent</th>\n",
       "      <th>OriginalHouseSize</th>\n",
       "      <th>purchase_p</th>\n",
       "      <th>rent_price</th>\n",
       "      <th>Maintenace</th>\n",
       "      <th>ArnonaPerMeter</th>\n",
       "      <th>...</th>\n",
       "      <th>bld_operation</th>\n",
       "      <th>pointPolygon</th>\n",
       "      <th>ParcelChange</th>\n",
       "      <th>FuturePlanID</th>\n",
       "      <th>ExcelBefore</th>\n",
       "      <th>ExcelChange</th>\n",
       "      <th>ExcelPolygon</th>\n",
       "      <th>GIS_files</th>\n",
       "      <th>Address Title</th>\n",
       "      <th>TypeTitle</th>\n",
       "    </tr>\n",
       "  </thead>\n",
       "  <tbody>\n",
       "    <tr>\n",
       "      <th>0</th>\n",
       "      <td>0</td>\n",
       "      <td>215_22</td>\n",
       "      <td>18</td>\n",
       "      <td>3.0</td>\n",
       "      <td>0.212121</td>\n",
       "      <td>88</td>\n",
       "      <td>19108.333333</td>\n",
       "      <td>62</td>\n",
       "      <td>100</td>\n",
       "      <td>5.4358</td>\n",
       "      <td>...</td>\n",
       "      <td>1</td>\n",
       "      <td>Point</td>\n",
       "      <td>No</td>\n",
       "      <td>20140882</td>\n",
       "      <td>before_215_22.xlsx</td>\n",
       "      <td>after_215_22.xlsx</td>\n",
       "      <td>NaN</td>\n",
       "      <td>bldgs_1a</td>\n",
       "      <td>סוקולוב 22, בת ים</td>\n",
       "      <td>תמ״א 38/1</td>\n",
       "    </tr>\n",
       "    <tr>\n",
       "      <th>1</th>\n",
       "      <td>1</td>\n",
       "      <td>216_10</td>\n",
       "      <td>12</td>\n",
       "      <td>3.0</td>\n",
       "      <td>0.300000</td>\n",
       "      <td>100</td>\n",
       "      <td>20313.333333</td>\n",
       "      <td>68</td>\n",
       "      <td>100</td>\n",
       "      <td>5.4358</td>\n",
       "      <td>...</td>\n",
       "      <td>1</td>\n",
       "      <td>Point</td>\n",
       "      <td>No</td>\n",
       "      <td>20120398</td>\n",
       "      <td>before_216_10.xlsx</td>\n",
       "      <td>after_216_10.xlsx</td>\n",
       "      <td>NaN</td>\n",
       "      <td>bldgs_2a</td>\n",
       "      <td>מסריק 10, בת ים</td>\n",
       "      <td>תמ״א 38/1</td>\n",
       "    </tr>\n",
       "    <tr>\n",
       "      <th>2</th>\n",
       "      <td>2</td>\n",
       "      <td>216_4</td>\n",
       "      <td>12</td>\n",
       "      <td>3.0</td>\n",
       "      <td>0.631579</td>\n",
       "      <td>94</td>\n",
       "      <td>19459.166667</td>\n",
       "      <td>67</td>\n",
       "      <td>100</td>\n",
       "      <td>5.4358</td>\n",
       "      <td>...</td>\n",
       "      <td>1</td>\n",
       "      <td>Point</td>\n",
       "      <td>No</td>\n",
       "      <td>20141086</td>\n",
       "      <td>before_216_4.xlsx</td>\n",
       "      <td>after_216_4.xlsx</td>\n",
       "      <td>NaN</td>\n",
       "      <td>bldgs_3a</td>\n",
       "      <td>מסריק 4, בת ים</td>\n",
       "      <td>תמ״א 38/1</td>\n",
       "    </tr>\n",
       "    <tr>\n",
       "      <th>3</th>\n",
       "      <td>3</td>\n",
       "      <td>216_7</td>\n",
       "      <td>18</td>\n",
       "      <td>3.0</td>\n",
       "      <td>0.320000</td>\n",
       "      <td>75</td>\n",
       "      <td>2083.333333</td>\n",
       "      <td>60</td>\n",
       "      <td>100</td>\n",
       "      <td>5.4358</td>\n",
       "      <td>...</td>\n",
       "      <td>1</td>\n",
       "      <td>Point</td>\n",
       "      <td>No</td>\n",
       "      <td>20160636</td>\n",
       "      <td>before_216_7.xlsx</td>\n",
       "      <td>after_216_7.xlsx</td>\n",
       "      <td>NaN</td>\n",
       "      <td>bldgs_4a</td>\n",
       "      <td>מסריק 7, בת ים</td>\n",
       "      <td>תמ״א 38/1</td>\n",
       "    </tr>\n",
       "    <tr>\n",
       "      <th>4</th>\n",
       "      <td>4</td>\n",
       "      <td>215_15</td>\n",
       "      <td>12</td>\n",
       "      <td>3.0</td>\n",
       "      <td>0.500000</td>\n",
       "      <td>80</td>\n",
       "      <td>18109.445833</td>\n",
       "      <td>60</td>\n",
       "      <td>100</td>\n",
       "      <td>5.4358</td>\n",
       "      <td>...</td>\n",
       "      <td>1</td>\n",
       "      <td>Point</td>\n",
       "      <td>No</td>\n",
       "      <td>20140449</td>\n",
       "      <td>before_215_15.xlsx</td>\n",
       "      <td>after_215_15.xlsx</td>\n",
       "      <td>NaN</td>\n",
       "      <td>bldgs_5a</td>\n",
       "      <td>סוקולוב 15, בת ים</td>\n",
       "      <td>תמ״א 38/1</td>\n",
       "    </tr>\n",
       "    <tr>\n",
       "      <th>5</th>\n",
       "      <td>5</td>\n",
       "      <td>209_6</td>\n",
       "      <td>6</td>\n",
       "      <td>3.0</td>\n",
       "      <td>0.000000</td>\n",
       "      <td>94</td>\n",
       "      <td>19101.666667</td>\n",
       "      <td>50</td>\n",
       "      <td>100</td>\n",
       "      <td>5.4358</td>\n",
       "      <td>...</td>\n",
       "      <td>2</td>\n",
       "      <td>Point</td>\n",
       "      <td>No</td>\n",
       "      <td>20140231</td>\n",
       "      <td>before_209_6.xlsx</td>\n",
       "      <td>after_209_6.xlsx</td>\n",
       "      <td>NaN</td>\n",
       "      <td>bldgs_6a</td>\n",
       "      <td>ארלוזורוב 6, בת ים</td>\n",
       "      <td>תמ״א 38/2</td>\n",
       "    </tr>\n",
       "    <tr>\n",
       "      <th>6</th>\n",
       "      <td>6</td>\n",
       "      <td>209_8</td>\n",
       "      <td>40</td>\n",
       "      <td>4.0</td>\n",
       "      <td>0.275000</td>\n",
       "      <td>75</td>\n",
       "      <td>19890.833333</td>\n",
       "      <td>71</td>\n",
       "      <td>100</td>\n",
       "      <td>5.4358</td>\n",
       "      <td>...</td>\n",
       "      <td>1</td>\n",
       "      <td>Point</td>\n",
       "      <td>No</td>\n",
       "      <td>20120894</td>\n",
       "      <td>before_209_8.xlsx</td>\n",
       "      <td>after_209_8.xlsx</td>\n",
       "      <td>NaN</td>\n",
       "      <td>bldgs_7a</td>\n",
       "      <td>ארלוזורוב 8, בת ים</td>\n",
       "      <td>תמ״א 38/1</td>\n",
       "    </tr>\n",
       "    <tr>\n",
       "      <th>7</th>\n",
       "      <td>7</td>\n",
       "      <td>208_12</td>\n",
       "      <td>24</td>\n",
       "      <td>3.0</td>\n",
       "      <td>0.291667</td>\n",
       "      <td>85</td>\n",
       "      <td>18357.298000</td>\n",
       "      <td>62</td>\n",
       "      <td>100</td>\n",
       "      <td>5.4358</td>\n",
       "      <td>...</td>\n",
       "      <td>1</td>\n",
       "      <td>Point</td>\n",
       "      <td>No</td>\n",
       "      <td>20181295</td>\n",
       "      <td>before_208_12.xlsx</td>\n",
       "      <td>after_208_12.xlsx</td>\n",
       "      <td>NaN</td>\n",
       "      <td>bldgs_8a</td>\n",
       "      <td>הלפר 12, בת ים</td>\n",
       "      <td>תמ״א 38/1</td>\n",
       "    </tr>\n",
       "    <tr>\n",
       "      <th>8</th>\n",
       "      <td>8</td>\n",
       "      <td>210_56</td>\n",
       "      <td>10</td>\n",
       "      <td>2.0</td>\n",
       "      <td>0.000000</td>\n",
       "      <td>65</td>\n",
       "      <td>18328.990833</td>\n",
       "      <td>67</td>\n",
       "      <td>100</td>\n",
       "      <td>5.4358</td>\n",
       "      <td>...</td>\n",
       "      <td>2</td>\n",
       "      <td>Point</td>\n",
       "      <td>No</td>\n",
       "      <td>20180335</td>\n",
       "      <td>before_210_56.xlsx</td>\n",
       "      <td>after_210_56.xlsx</td>\n",
       "      <td>NaN</td>\n",
       "      <td>bldgs_9a</td>\n",
       "      <td>הרצל 56, בת ים</td>\n",
       "      <td>תמ״א 38/2</td>\n",
       "    </tr>\n",
       "    <tr>\n",
       "      <th>9</th>\n",
       "      <td>9</td>\n",
       "      <td>210_11</td>\n",
       "      <td>12</td>\n",
       "      <td>3.0</td>\n",
       "      <td>0.333333</td>\n",
       "      <td>85</td>\n",
       "      <td>19858.653000</td>\n",
       "      <td>65</td>\n",
       "      <td>100</td>\n",
       "      <td>5.4358</td>\n",
       "      <td>...</td>\n",
       "      <td>1</td>\n",
       "      <td>Point</td>\n",
       "      <td>No</td>\n",
       "      <td>20150274</td>\n",
       "      <td>before_210_11.xlsx</td>\n",
       "      <td>after_210_11.xlsx</td>\n",
       "      <td>NaN</td>\n",
       "      <td>bldgs_10a</td>\n",
       "      <td>הרצל 11, בת ים</td>\n",
       "      <td>תמ״א 38/1</td>\n",
       "    </tr>\n",
       "    <tr>\n",
       "      <th>10</th>\n",
       "      <td>10</td>\n",
       "      <td>216_3</td>\n",
       "      <td>18</td>\n",
       "      <td>3.0</td>\n",
       "      <td>0.270270</td>\n",
       "      <td>78</td>\n",
       "      <td>20676.289000</td>\n",
       "      <td>62</td>\n",
       "      <td>100</td>\n",
       "      <td>5.4358</td>\n",
       "      <td>...</td>\n",
       "      <td>1</td>\n",
       "      <td>Point</td>\n",
       "      <td>No</td>\n",
       "      <td>20141190</td>\n",
       "      <td>before_216_3.xlsx</td>\n",
       "      <td>after_216_3.xlsx</td>\n",
       "      <td>NaN</td>\n",
       "      <td>bldgs_11a</td>\n",
       "      <td>מסריק 3, בת ים</td>\n",
       "      <td>תמ״א 38/1</td>\n",
       "    </tr>\n",
       "    <tr>\n",
       "      <th>11</th>\n",
       "      <td>11</td>\n",
       "      <td>215_18</td>\n",
       "      <td>18</td>\n",
       "      <td>3.0</td>\n",
       "      <td>0.400000</td>\n",
       "      <td>83</td>\n",
       "      <td>19130.119167</td>\n",
       "      <td>53</td>\n",
       "      <td>100</td>\n",
       "      <td>5.4358</td>\n",
       "      <td>...</td>\n",
       "      <td>1</td>\n",
       "      <td>Point</td>\n",
       "      <td>No</td>\n",
       "      <td>20140060</td>\n",
       "      <td>before_215_18.xlsx</td>\n",
       "      <td>after_215_18.xlsx</td>\n",
       "      <td>NaN</td>\n",
       "      <td>bldgs_12a</td>\n",
       "      <td>סוקולוב 18, בת ים</td>\n",
       "      <td>תמ״א 38/1</td>\n",
       "    </tr>\n",
       "    <tr>\n",
       "      <th>12</th>\n",
       "      <td>12</td>\n",
       "      <td>215_24</td>\n",
       "      <td>18</td>\n",
       "      <td>3.0</td>\n",
       "      <td>0.277778</td>\n",
       "      <td>74</td>\n",
       "      <td>19441.906667</td>\n",
       "      <td>65</td>\n",
       "      <td>100</td>\n",
       "      <td>5.4358</td>\n",
       "      <td>...</td>\n",
       "      <td>1</td>\n",
       "      <td>Point</td>\n",
       "      <td>No</td>\n",
       "      <td>20110270</td>\n",
       "      <td>before_215_24.xlsx</td>\n",
       "      <td>after_215_24.xlsx</td>\n",
       "      <td>NaN</td>\n",
       "      <td>bldgs_13a</td>\n",
       "      <td>סוקולוב 24, בת ים</td>\n",
       "      <td>תמ״א 38/1</td>\n",
       "    </tr>\n",
       "    <tr>\n",
       "      <th>13</th>\n",
       "      <td>13</td>\n",
       "      <td>220_4</td>\n",
       "      <td>16</td>\n",
       "      <td>3.0</td>\n",
       "      <td>0.125000</td>\n",
       "      <td>81</td>\n",
       "      <td>19110.503000</td>\n",
       "      <td>65</td>\n",
       "      <td>100</td>\n",
       "      <td>5.4358</td>\n",
       "      <td>...</td>\n",
       "      <td>1</td>\n",
       "      <td>Point</td>\n",
       "      <td>No</td>\n",
       "      <td>20131419</td>\n",
       "      <td>before_220_4.xlsx</td>\n",
       "      <td>after_220_4.xlsx</td>\n",
       "      <td>NaN</td>\n",
       "      <td>bldgs_14a</td>\n",
       "      <td>רוטשילד 4, בת ים</td>\n",
       "      <td>תמ״א 38/1</td>\n",
       "    </tr>\n",
       "    <tr>\n",
       "      <th>14</th>\n",
       "      <td>14</td>\n",
       "      <td>complex_215_2</td>\n",
       "      <td>24</td>\n",
       "      <td>4.0</td>\n",
       "      <td>0.000000</td>\n",
       "      <td>80</td>\n",
       "      <td>23570.736000</td>\n",
       "      <td>65</td>\n",
       "      <td>100</td>\n",
       "      <td>5.4358</td>\n",
       "      <td>...</td>\n",
       "      <td>3</td>\n",
       "      <td>Polygon</td>\n",
       "      <td>Yes</td>\n",
       "      <td>502-0147678</td>\n",
       "      <td>before_complex_215_2.xlsx</td>\n",
       "      <td>after_complex_215_2.xlsx</td>\n",
       "      <td>polygon_502_0147678.xlsx</td>\n",
       "      <td>bldgs_15a</td>\n",
       "      <td>רוטשילד2 וסוקלוב 2, בת ים</td>\n",
       "      <td>תב״ע פינוי בינוי</td>\n",
       "    </tr>\n",
       "    <tr>\n",
       "      <th>15</th>\n",
       "      <td>15</td>\n",
       "      <td>complex_16</td>\n",
       "      <td>118</td>\n",
       "      <td>3.0</td>\n",
       "      <td>0.491525</td>\n",
       "      <td>65</td>\n",
       "      <td>23800.000000</td>\n",
       "      <td>63</td>\n",
       "      <td>100</td>\n",
       "      <td>5.4358</td>\n",
       "      <td>...</td>\n",
       "      <td>3</td>\n",
       "      <td>Polygon</td>\n",
       "      <td>YES</td>\n",
       "      <td>502-0178285</td>\n",
       "      <td>before_complex_16.xlsx</td>\n",
       "      <td>after_complex_16.xlsx</td>\n",
       "      <td>polygon_502_0178285.xlsx</td>\n",
       "      <td>bldgs_16a</td>\n",
       "      <td>דוד מסיקה 6,8 והרצל 8</td>\n",
       "      <td>תב״ע פינוי בינוי</td>\n",
       "    </tr>\n",
       "    <tr>\n",
       "      <th>16</th>\n",
       "      <td>16</td>\n",
       "      <td>212_53</td>\n",
       "      <td>33</td>\n",
       "      <td>6.0</td>\n",
       "      <td>0.212121</td>\n",
       "      <td>85</td>\n",
       "      <td>21195.800909</td>\n",
       "      <td>65</td>\n",
       "      <td>100</td>\n",
       "      <td>5.4358</td>\n",
       "      <td>...</td>\n",
       "      <td>1</td>\n",
       "      <td>Point</td>\n",
       "      <td>No</td>\n",
       "      <td>20160319</td>\n",
       "      <td>before_212_53.xlsx</td>\n",
       "      <td>after_212_53.xlsx</td>\n",
       "      <td>NaN</td>\n",
       "      <td>bldgs_17a</td>\n",
       "      <td>בן גוריון 53, בת ים</td>\n",
       "      <td>תמ״א 38/1</td>\n",
       "    </tr>\n",
       "    <tr>\n",
       "      <th>17</th>\n",
       "      <td>17</td>\n",
       "      <td>complex_17</td>\n",
       "      <td>46</td>\n",
       "      <td>2.5</td>\n",
       "      <td>NaN</td>\n",
       "      <td>72</td>\n",
       "      <td>21336.000000</td>\n",
       "      <td>62</td>\n",
       "      <td>100</td>\n",
       "      <td>5.4358</td>\n",
       "      <td>...</td>\n",
       "      <td>3</td>\n",
       "      <td>Polygon</td>\n",
       "      <td>Yes</td>\n",
       "      <td>502-0317495</td>\n",
       "      <td>before_complex_17.xlsx</td>\n",
       "      <td>after_complex_17.xlsx</td>\n",
       "      <td>polygon_502_0317495.xlsx</td>\n",
       "      <td>bldgs_45a</td>\n",
       "      <td>הרצל 16,18 וחנה סנש 11, 9, 7, בת ים</td>\n",
       "      <td>תב״ע פינוי בינוי</td>\n",
       "    </tr>\n",
       "  </tbody>\n",
       "</table>\n",
       "<p>18 rows × 26 columns</p>\n",
       "</div>"
      ],
      "text/plain": [
       "    index    bld_address  OriginalUnits  OriginalFloors  originalRentPercent  \\\n",
       "0       0         215_22             18             3.0             0.212121   \n",
       "1       1         216_10             12             3.0             0.300000   \n",
       "2       2          216_4             12             3.0             0.631579   \n",
       "3       3          216_7             18             3.0             0.320000   \n",
       "4       4         215_15             12             3.0             0.500000   \n",
       "5       5          209_6              6             3.0             0.000000   \n",
       "6       6          209_8             40             4.0             0.275000   \n",
       "7       7         208_12             24             3.0             0.291667   \n",
       "8       8         210_56             10             2.0             0.000000   \n",
       "9       9         210_11             12             3.0             0.333333   \n",
       "10     10          216_3             18             3.0             0.270270   \n",
       "11     11         215_18             18             3.0             0.400000   \n",
       "12     12         215_24             18             3.0             0.277778   \n",
       "13     13          220_4             16             3.0             0.125000   \n",
       "14     14  complex_215_2             24             4.0             0.000000   \n",
       "15     15     complex_16            118             3.0             0.491525   \n",
       "16     16         212_53             33             6.0             0.212121   \n",
       "17     17     complex_17             46             2.5                  NaN   \n",
       "\n",
       "    OriginalHouseSize    purchase_p  rent_price  Maintenace  ArnonaPerMeter  \\\n",
       "0                  88  19108.333333          62         100          5.4358   \n",
       "1                 100  20313.333333          68         100          5.4358   \n",
       "2                  94  19459.166667          67         100          5.4358   \n",
       "3                  75   2083.333333          60         100          5.4358   \n",
       "4                  80  18109.445833          60         100          5.4358   \n",
       "5                  94  19101.666667          50         100          5.4358   \n",
       "6                  75  19890.833333          71         100          5.4358   \n",
       "7                  85  18357.298000          62         100          5.4358   \n",
       "8                  65  18328.990833          67         100          5.4358   \n",
       "9                  85  19858.653000          65         100          5.4358   \n",
       "10                 78  20676.289000          62         100          5.4358   \n",
       "11                 83  19130.119167          53         100          5.4358   \n",
       "12                 74  19441.906667          65         100          5.4358   \n",
       "13                 81  19110.503000          65         100          5.4358   \n",
       "14                 80  23570.736000          65         100          5.4358   \n",
       "15                 65  23800.000000          63         100          5.4358   \n",
       "16                 85  21195.800909          65         100          5.4358   \n",
       "17                 72  21336.000000          62         100          5.4358   \n",
       "\n",
       "    ...  bld_operation  pointPolygon  ParcelChange  FuturePlanID  \\\n",
       "0   ...              1         Point            No      20140882   \n",
       "1   ...              1         Point            No      20120398   \n",
       "2   ...              1         Point            No      20141086   \n",
       "3   ...              1         Point            No      20160636   \n",
       "4   ...              1         Point            No      20140449   \n",
       "5   ...              2         Point            No      20140231   \n",
       "6   ...              1         Point            No      20120894   \n",
       "7   ...              1         Point            No      20181295   \n",
       "8   ...              2         Point            No      20180335   \n",
       "9   ...              1         Point            No      20150274   \n",
       "10  ...              1         Point            No      20141190   \n",
       "11  ...              1         Point            No      20140060   \n",
       "12  ...              1         Point            No      20110270   \n",
       "13  ...              1         Point            No      20131419   \n",
       "14  ...              3       Polygon           Yes   502-0147678   \n",
       "15  ...              3       Polygon           YES   502-0178285   \n",
       "16  ...              1         Point            No      20160319   \n",
       "17  ...              3       Polygon           Yes   502-0317495   \n",
       "\n",
       "                  ExcelBefore               ExcelChange  \\\n",
       "0          before_215_22.xlsx         after_215_22.xlsx   \n",
       "1          before_216_10.xlsx         after_216_10.xlsx   \n",
       "2           before_216_4.xlsx          after_216_4.xlsx   \n",
       "3           before_216_7.xlsx          after_216_7.xlsx   \n",
       "4          before_215_15.xlsx         after_215_15.xlsx   \n",
       "5           before_209_6.xlsx          after_209_6.xlsx   \n",
       "6           before_209_8.xlsx          after_209_8.xlsx   \n",
       "7          before_208_12.xlsx         after_208_12.xlsx   \n",
       "8          before_210_56.xlsx         after_210_56.xlsx   \n",
       "9          before_210_11.xlsx         after_210_11.xlsx   \n",
       "10          before_216_3.xlsx          after_216_3.xlsx   \n",
       "11         before_215_18.xlsx         after_215_18.xlsx   \n",
       "12         before_215_24.xlsx         after_215_24.xlsx   \n",
       "13          before_220_4.xlsx          after_220_4.xlsx   \n",
       "14  before_complex_215_2.xlsx  after_complex_215_2.xlsx   \n",
       "15     before_complex_16.xlsx     after_complex_16.xlsx   \n",
       "16         before_212_53.xlsx         after_212_53.xlsx   \n",
       "17     before_complex_17.xlsx     after_complex_17.xlsx   \n",
       "\n",
       "                ExcelPolygon  GIS_files                        Address Title  \\\n",
       "0                        NaN   bldgs_1a                    סוקולוב 22, בת ים   \n",
       "1                        NaN   bldgs_2a                      מסריק 10, בת ים   \n",
       "2                        NaN   bldgs_3a                       מסריק 4, בת ים   \n",
       "3                        NaN   bldgs_4a                       מסריק 7, בת ים   \n",
       "4                        NaN   bldgs_5a                    סוקולוב 15, בת ים   \n",
       "5                        NaN   bldgs_6a                   ארלוזורוב 6, בת ים   \n",
       "6                        NaN   bldgs_7a                   ארלוזורוב 8, בת ים   \n",
       "7                        NaN   bldgs_8a                       הלפר 12, בת ים   \n",
       "8                        NaN   bldgs_9a                       הרצל 56, בת ים   \n",
       "9                        NaN  bldgs_10a                       הרצל 11, בת ים   \n",
       "10                       NaN  bldgs_11a                       מסריק 3, בת ים   \n",
       "11                       NaN  bldgs_12a                    סוקולוב 18, בת ים   \n",
       "12                       NaN  bldgs_13a                    סוקולוב 24, בת ים   \n",
       "13                       NaN  bldgs_14a                     רוטשילד 4, בת ים   \n",
       "14  polygon_502_0147678.xlsx  bldgs_15a            רוטשילד2 וסוקלוב 2, בת ים   \n",
       "15  polygon_502_0178285.xlsx  bldgs_16a                דוד מסיקה 6,8 והרצל 8   \n",
       "16                       NaN  bldgs_17a                  בן גוריון 53, בת ים   \n",
       "17  polygon_502_0317495.xlsx  bldgs_45a  הרצל 16,18 וחנה סנש 11, 9, 7, בת ים   \n",
       "\n",
       "           TypeTitle  \n",
       "0          תמ״א 38/1  \n",
       "1          תמ״א 38/1  \n",
       "2          תמ״א 38/1  \n",
       "3          תמ״א 38/1  \n",
       "4          תמ״א 38/1  \n",
       "5          תמ״א 38/2  \n",
       "6          תמ״א 38/1  \n",
       "7          תמ״א 38/1  \n",
       "8          תמ״א 38/2  \n",
       "9          תמ״א 38/1  \n",
       "10         תמ״א 38/1  \n",
       "11         תמ״א 38/1  \n",
       "12         תמ״א 38/1  \n",
       "13         תמ״א 38/1  \n",
       "14  תב״ע פינוי בינוי  \n",
       "15  תב״ע פינוי בינוי  \n",
       "16         תמ״א 38/1  \n",
       "17  תב״ע פינוי בינוי  \n",
       "\n",
       "[18 rows x 26 columns]"
      ]
     },
     "execution_count": 11,
     "metadata": {},
     "output_type": "execute_result"
    }
   ],
   "source": [
    "dc.script"
   ]
  },
  {
   "cell_type": "code",
   "execution_count": 9,
   "metadata": {},
   "outputs": [
    {
     "data": {
      "text/html": [
       "<div>\n",
       "<style scoped>\n",
       "    .dataframe tbody tr th:only-of-type {\n",
       "        vertical-align: middle;\n",
       "    }\n",
       "\n",
       "    .dataframe tbody tr th {\n",
       "        vertical-align: top;\n",
       "    }\n",
       "\n",
       "    .dataframe thead th {\n",
       "        text-align: right;\n",
       "    }\n",
       "</style>\n",
       "<table border=\"1\" class=\"dataframe\">\n",
       "  <thead>\n",
       "    <tr style=\"text-align: right;\">\n",
       "      <th></th>\n",
       "      <th>index</th>\n",
       "      <th>bld_address</th>\n",
       "      <th>OriginalUnits</th>\n",
       "      <th>OriginalFloors</th>\n",
       "      <th>OriginalHouseSize</th>\n",
       "      <th>purchase_p</th>\n",
       "      <th>rent_price</th>\n",
       "      <th>Maintenace</th>\n",
       "      <th>ArnonaPerMeter</th>\n",
       "      <th>Arnona</th>\n",
       "      <th>...</th>\n",
       "      <th>newMaintenace</th>\n",
       "      <th>Purchase</th>\n",
       "      <th>Rent</th>\n",
       "      <th>East</th>\n",
       "      <th>North</th>\n",
       "      <th>bld_operation</th>\n",
       "      <th>pointPolygon</th>\n",
       "      <th>ParcelChange</th>\n",
       "      <th>FuturePlanID</th>\n",
       "      <th>status</th>\n",
       "    </tr>\n",
       "  </thead>\n",
       "  <tbody>\n",
       "    <tr>\n",
       "      <th>0</th>\n",
       "      <td>0</td>\n",
       "      <td>﻿215_2</td>\n",
       "      <td>24</td>\n",
       "      <td>4</td>\n",
       "      <td>80</td>\n",
       "      <td>23570.736</td>\n",
       "      <td>65</td>\n",
       "      <td>100</td>\n",
       "      <td>5.4358</td>\n",
       "      <td>434</td>\n",
       "      <td>...</td>\n",
       "      <td>NaN</td>\n",
       "      <td>NaN</td>\n",
       "      <td>NaN</td>\n",
       "      <td>175866</td>\n",
       "      <td>659635</td>\n",
       "      <td>3</td>\n",
       "      <td>Polygon</td>\n",
       "      <td>Yes</td>\n",
       "      <td>502-0147678</td>\n",
       "      <td>destroyed</td>\n",
       "    </tr>\n",
       "  </tbody>\n",
       "</table>\n",
       "<p>1 rows × 28 columns</p>\n",
       "</div>"
      ],
      "text/plain": [
       "   index bld_address  OriginalUnits  OriginalFloors  OriginalHouseSize  \\\n",
       "0      0      ﻿215_2             24               4                 80   \n",
       "\n",
       "   purchase_p  rent_price  Maintenace  ArnonaPerMeter  Arnona  ...  \\\n",
       "0   23570.736          65         100          5.4358     434  ...   \n",
       "\n",
       "   newMaintenace  Purchase  Rent    East   North  bld_operation  pointPolygon  \\\n",
       "0            NaN       NaN   NaN  175866  659635              3       Polygon   \n",
       "\n",
       "   ParcelChange  FuturePlanID     status  \n",
       "0           Yes   502-0147678  destroyed  \n",
       "\n",
       "[1 rows x 28 columns]"
      ]
     },
     "execution_count": 9,
     "metadata": {},
     "output_type": "execute_result"
    }
   ],
   "source": [
    "dc.before_dem"
   ]
  },
  {
   "cell_type": "code",
   "execution_count": null,
   "metadata": {},
   "outputs": [],
   "source": []
  },
  {
   "cell_type": "code",
   "execution_count": null,
   "metadata": {},
   "outputs": [],
   "source": []
  },
  {
   "cell_type": "code",
   "execution_count": null,
   "metadata": {},
   "outputs": [],
   "source": []
  },
  {
   "cell_type": "code",
   "execution_count": null,
   "metadata": {},
   "outputs": [],
   "source": []
  },
  {
   "cell_type": "code",
   "execution_count": null,
   "metadata": {},
   "outputs": [],
   "source": []
  },
  {
   "cell_type": "code",
   "execution_count": null,
   "metadata": {},
   "outputs": [],
   "source": []
  },
  {
   "cell_type": "code",
   "execution_count": null,
   "metadata": {},
   "outputs": [],
   "source": []
  },
  {
   "cell_type": "code",
   "execution_count": null,
   "metadata": {},
   "outputs": [],
   "source": []
  },
  {
   "cell_type": "code",
   "execution_count": null,
   "metadata": {},
   "outputs": [],
   "source": []
  },
  {
   "cell_type": "code",
   "execution_count": 7,
   "metadata": {},
   "outputs": [
    {
     "name": "stdout",
     "output_type": "stream",
     "text": [
      "Iteration 0\n"
     ]
    }
   ],
   "source": [
    "i = dc.i_slider.value\n",
    "print('Iteration '+ str(i))\n",
    "currentBldg = dc.script.loc[i]"
   ]
  },
  {
   "cell_type": "code",
   "execution_count": 551,
   "metadata": {
    "scrolled": true
   },
   "outputs": [],
   "source": [
    "\n",
    "if (currentBldg.bld_operation < 3):\n",
    "    current_bldg_ds = pd.DataFrame()\n",
    "    Future_bldg_ds = pd.DataFrame()\n",
    "    subAgents_ds = pd.DataFrame()\n",
    "    \n",
    "    #original building\n",
    " \n",
    "    cb = def_currentBld_op12_ds(currentBldg)\n",
    "    bldg_path = dc.library['bldg_path']\n",
    "    sp_bldg_before_path = dc.cim_specific_path + bldg_path + currentBldg.ExcelBefore\n",
    "    cb.to_excel(sp_bldg_before_path)\n",
    "    \n",
    "    #Future building or construction\n",
    "    futureBldg = dc.script_ft[dc.script_ft['bld_address']==currentBldg['bld_address']]\n",
    "    fb = def_futureBld_op12_ds(futureBldg)\n",
    "    bldg_path = dc.library['bldg_path']\n",
    "    sp_bldg_after_path = dc.cim_specific_path + bldg_path + currentBldg.ExcelChange\n",
    "    fb.to_excel(sp_bldg_after_path)\n",
    "    \n",
    "    #Update Agents\n",
    "    rent_percent = currentBldg['originalRentPercent']\n",
    "    ng = generateAgensts(cb,rent_percent)\n",
    "    dc.Agents = dc.Agents.append(ng)\n",
    "    dc.Agents.reset_index(inplace=True)\n",
    "    dc.Agents['AgentID'] = dc.Agents.index\n",
    "    dc.Agents = dc.Agents[['AgentAppUnit', 'AgentBldAdd', 'AgentIncome', 'AgentWealth','AgentPurchaseThreshold', 'AgentRentThreshold', 'Age',\n",
    "           'OwnerShip', 'AgeGroup', 'Native_Seniority', 'Native_Group', 'AgentID']]\n",
    "    agents_path =dc.cim_specific_path+dc.agents_name.value\n",
    "    dc.Agents.to_excel(agents_path)\n",
    "    \n",
    "else:\n",
    "    print('oh oh operation 3!')\n",
    "    #operation 3 means that it's a Polygon not a single building\n",
    "    get_complex_xlsx = currentBldg.ExcelPolygon\n",
    "    sp_bldg_folder_path = dc.cim_specific_path + bldg_path\n",
    "    bldg_path_xlsx= sp_bldg_folder_path+get_complex_xlsx\n",
    "    inside_script = pd.read_excel(bldg_path_xlsx)\n",
    "    before_dem = inside_script[inside_script.status=='destroyed']\n",
    "    after_dem = inside_script[inside_script.status=='New Building']\n",
    "\n"
   ]
  },
  {
   "cell_type": "code",
   "execution_count": null,
   "metadata": {},
   "outputs": [],
   "source": []
  },
  {
   "cell_type": "code",
   "execution_count": 499,
   "metadata": {},
   "outputs": [
    {
     "name": "stdout",
     "output_type": "stream",
     "text": [
      "[0, 1, 2, 3, 4]\n",
      "[0, 1]\n",
      "Operation 3\n"
     ]
    }
   ],
   "source": [
    "if (currentBldg.bld_operation < 3):\n",
    "    print(currentBldg.bld_operation)\n",
    "#     current_bldg_ds['appUnits'] = unitNumber\n",
    "#     current_bldg_ds['bldAdd'] = currentBldg.bld_address\n",
    "#     current_bldg_ds['AppSize'] = currentBldg.OriginalHouseSize\n",
    "#     current_bldg_ds['sellPerMeter'] = currentBldg.purchase_p\n",
    "#     current_bldg_ds['rentPerMeter'] = currentBldg.rent_price\n",
    "#     current_bldg_ds['sellPrice'] = current_bldg_ds['AppSize'] * current_bldg_ds['sellPerMeter']\n",
    "#     current_bldg_ds['rentPerMonth'] = current_bldg_ds['AppSize'] * current_bldg_ds['rentPerMeter'] + currentBldg.Maintenace\n",
    "#     current_bldg_ds['maintenace'] = currentBldg.Maintenace\n",
    "#     if (currentBldg.bld_operation == 1):\n",
    "#         current_bldg_ds['status'] = 'Old Building'\n",
    "#     else:\n",
    "#         current_bldg_ds['status'] = 'Demolished'\n",
    "else:\n",
    "    print(before_dem.index.tolist())\n",
    "    after_dem.reset_index(inplace=True)\n",
    "    print(after_dem.index.tolist())\n",
    "    print('Operation 3')\n",
    "    last_line1 = len(before_dem.index)-1\n",
    "    last_line2 = len(after_dem.index)-1"
   ]
  },
  {
   "cell_type": "code",
   "execution_count": 500,
   "metadata": {},
   "outputs": [
    {
     "data": {
      "application/vnd.jupyter.widget-view+json": {
       "model_id": "1cce608631b94cbb8d02af8446971215",
       "version_major": 2,
       "version_minor": 0
      },
      "text/plain": [
       "IntSlider(value=0, max=5)"
      ]
     },
     "metadata": {},
     "output_type": "display_data"
    }
   ],
   "source": [
    "j_slider = widgets.IntSlider(min=0, max =last_line1+1)\n",
    "display(j_slider)"
   ]
  },
  {
   "cell_type": "code",
   "execution_count": 501,
   "metadata": {},
   "outputs": [],
   "source": [
    "    agents_path =dc.cim_specific_path+dc.agents_name.value\n",
    "    #Agents.to_excel(agents_path)"
   ]
  },
  {
   "cell_type": "code",
   "execution_count": 502,
   "metadata": {},
   "outputs": [
    {
     "data": {
      "text/plain": [
       "'simulationID/cim_0315_1240/data/bldg/before_complex_17.xlsx'"
      ]
     },
     "execution_count": 502,
     "metadata": {},
     "output_type": "execute_result"
    }
   ],
   "source": [
    "bldg_path_before_xlsx"
   ]
  },
  {
   "cell_type": "code",
   "execution_count": 503,
   "metadata": {},
   "outputs": [],
   "source": [
    "bldg_path = dc.library['bldg_path']"
   ]
  },
  {
   "cell_type": "code",
   "execution_count": 492,
   "metadata": {},
   "outputs": [],
   "source": [
    "dc.Agents = pd.read_excel(agents_path)"
   ]
  },
  {
   "cell_type": "code",
   "execution_count": null,
   "metadata": {},
   "outputs": [],
   "source": []
  },
  {
   "cell_type": "code",
   "execution_count": 509,
   "metadata": {},
   "outputs": [
    {
     "name": "stdout",
     "output_type": "stream",
     "text": [
      "last line!\n"
     ]
    }
   ],
   "source": [
    "j = j_slider.value \n",
    "\n",
    "if (j==0):\n",
    "    current_bldg_ds = pd.DataFrame()\n",
    "    #Future_bldg_ds = pd.DataFrame()\n",
    "    subAgents_ds = pd.DataFrame()\n",
    "    #after_dem.reset_index(inplace=True)\n",
    "before_line = before_dem.loc[j]\n",
    "current_bldg_ds = current_bldg_ds.append(def_currentBld_op3_ds(before_line))\n",
    "\n",
    "if (j==last_line1):\n",
    "    print('last line!')\n",
    "    #bldg_path = data['bldg_path']\n",
    "    \n",
    "    bldg_path_before_xlsx = dc.cim_specific_path + bldg_path + currentBldg.ExcelBefore\n",
    "    \n",
    "    #sp_bldg_path = bldg_path + currentBldg.ExcelBefore\n",
    "    current_bldg_ds.reset_index(inplace=True)\n",
    "    current_bldg_ds.to_excel(bldg_path_before_xlsx)\n",
    "    subAgents_ds = generateAgensts(current_bldg_ds)\n",
    "\n",
    "    dc.Agents = dc.Agents.append(subAgents_ds)\n",
    "    dc.Agents.reset_index(inplace=True)\n",
    "    dc.Agents['AgentID'] = dc.Agents.index\n",
    "    dc.Agents = dc.Agents[['AgentAppUnit', 'AgentBldAdd', 'AgentIncome', 'AgentWealth','AgentPurchaseThreshold', 'AgentRentThreshold', 'Age',\n",
    "           'OwnerShip', 'AgeGroup', 'Native_Seniority', 'Native_Group', 'AgentID']]\n",
    "    #path =\"Source/\"+agents_name.value\n",
    "    dc.Agents.to_excel(agents_path)\n",
    "#after_line = after_dem.loc[j]\n",
    "#Future_bldg_ds = Future_bldg_ds.append(def_FutureBld_op3_ds(after_line))\n"
   ]
  },
  {
   "cell_type": "code",
   "execution_count": 513,
   "metadata": {},
   "outputs": [
    {
     "name": "stdout",
     "output_type": "stream",
     "text": [
      "1\n"
     ]
    }
   ],
   "source": [
    "last_line2 = len(after_dem.index)-1\n",
    "print(last_line2)\n",
    "#after_dem.reset_index(inplace=True)"
   ]
  },
  {
   "cell_type": "code",
   "execution_count": 511,
   "metadata": {},
   "outputs": [
    {
     "data": {
      "text/plain": [
       "'simulationID/cim_0315_1240/agents.xlsx'"
      ]
     },
     "execution_count": 511,
     "metadata": {},
     "output_type": "execute_result"
    }
   ],
   "source": [
    "agents_path"
   ]
  },
  {
   "cell_type": "code",
   "execution_count": 518,
   "metadata": {},
   "outputs": [
    {
     "data": {
      "application/vnd.jupyter.widget-view+json": {
       "model_id": "366e81c535084a70ae52e39888d57709",
       "version_major": 2,
       "version_minor": 0
      },
      "text/plain": [
       "IntSlider(value=0, max=2)"
      ]
     },
     "metadata": {},
     "output_type": "display_data"
    }
   ],
   "source": [
    "j_slider = widgets.IntSlider(min=0, max =last_line2+1)\n",
    "display(j_slider)\n",
    "\n",
    "\n"
   ]
  },
  {
   "cell_type": "code",
   "execution_count": null,
   "metadata": {},
   "outputs": [],
   "source": []
  },
  {
   "cell_type": "code",
   "execution_count": 521,
   "metadata": {},
   "outputs": [],
   "source": [
    "j=j_slider.value\n",
    "if (j==0):\n",
    "    Future_bldg_ds = pd.DataFrame()\n",
    "after_line = after_dem.loc[j]\n",
    "Future_bldg_ds = Future_bldg_ds.append(def_FutureBld_op3_ds(after_line))\n",
    "if (j==last_line2):\n",
    "    bldg_path_after_xlsx = dc.cim_specific_path + bldg_path + currentBldg.ExcelChange\n",
    "    #bldg_path = data['bldg_path']\n",
    "    #sp_bldg_path = bldg_path + currentBldg.ExcelChange\n",
    "    Future_bldg_ds.reset_index(inplace=True)\n",
    "    Future_bldg_ds.to_excel(bldg_path_after_xlsx)\n"
   ]
  },
  {
   "cell_type": "code",
   "execution_count": 305,
   "metadata": {},
   "outputs": [],
   "source": [
    "def def_currentBld_op12_ds(this_line):\n",
    "    ds = pd.DataFrame()\n",
    "    \n",
    "    nUnits = this_line.OriginalUnits\n",
    "    unitNumber = [k for k in range(nUnits)]\n",
    "    \n",
    "    ds['appUnits'] = unitNumber\n",
    "    ds['bldAdd'] = this_line.bld_address\n",
    "    ds['AppSize'] = this_line.OriginalHouseSize\n",
    "    ds['sellPerMeter'] = this_line.purchase_p\n",
    "    ds['rentPerMeter'] = this_line.rent_price\n",
    "    \n",
    "    ds['ArnonaTarif'] = float(dc.rules['ArnonaTax'])\n",
    "    ds['ArnonaTax'] = ds['ArnonaTarif'] * ds['AppSize']\n",
    "    \n",
    "    ds['sellPrice'] = ds['AppSize'] * ds['sellPerMeter']\n",
    "    ds['rentPerMonth'] = ds['AppSize'] * ds['rentPerMeter'] + this_line.Maintenace +  ds['ArnonaTax']\n",
    "    ds['maintenace&Tax'] = this_line.Maintenace + ds['ArnonaTax']\n",
    "    \n",
    "    \n",
    "    if (this_line.bld_operation == 1):\n",
    "        ds['status'] = 'Old Building'\n",
    "    else:\n",
    "        ds['status'] = 'Demolished'\n",
    "    return ds"
   ]
  },
  {
   "cell_type": "code",
   "execution_count": 549,
   "metadata": {},
   "outputs": [],
   "source": [
    "def def_futureBld_op12_ds(this_line):\n",
    "    ds = pd.DataFrame()\n",
    "    nUnits = int(this_line.TotalUnits)\n",
    "    unitNewNumber = [k for k in range(nUnits)]\n",
    "    ds['appUnits'] = unitNewNumber\n",
    "    ds['bldAdd'] = this_line.bld_address\n",
    "    ds['AppSize'] = this_line.AvrgTotaalArea\n",
    "    ds['sellPerMeter'] = this_line.purchase_p * ( 1 + this_line.priceIncrease )\n",
    "    ds['rentPerMeter'] = this_line.rent_price * ( 1 + this_line.rentIncrease )\n",
    "    \n",
    "    ds['ArnonaTarif'] = float(dc.rules['ArnonaTax'])\n",
    "    ds['ArnonaTax'] = ds['ArnonaTarif'] * ds['AppSize']\n",
    "    \n",
    "    ds['sellPrice'] = ds['AppSize'] * ds['sellPerMeter']\n",
    "    ds['rentPerMonth'] = ds['AppSize'] * ds['rentPerMeter'] + this_line.newMaintenace + ds['ArnonaTax'] \n",
    "    \n",
    "    ds['newMaintenace&Tax'] = this_line.newMaintenace + ds['ArnonaTax']\n",
    "    \n",
    "    if (currentBldg.bld_operation ==1 ):\n",
    "        ds['status'] = 'Tama 38_1'\n",
    "    else:\n",
    "        ds['status'] = 'Tama 38_2'\n",
    "    return ds"
   ]
  },
  {
   "cell_type": "code",
   "execution_count": 307,
   "metadata": {},
   "outputs": [],
   "source": [
    "def def_currentBld_op3_ds(before_line):\n",
    "    ds = pd.DataFrame()\n",
    "    \n",
    "    nUnits = before_line.OriginalUnits\n",
    "    unitNumber = [k for k in range(nUnits)]\n",
    "    \n",
    "    ds['appUnits'] = unitNumber\n",
    "    ds['bldAdd'] = before_line.bld_address\n",
    "    ds['AppSize'] = before_line.OriginalHouseSize\n",
    "    ds['sellPerMeter'] = before_line.purchase_p\n",
    "    ds['rentPerMeter'] = before_line.rent_price\n",
    "\n",
    "    ds['ArnonaTarif'] = float(dc.rules['ArnonaTax'])\n",
    "    ds['ArnonaTax'] = ds['ArnonaTarif'] * ds['AppSize']\n",
    "    \n",
    "    ds['sellPrice'] = ds['AppSize'] * ds['sellPerMeter']\n",
    "    ds['rentPerMonth'] = ds['AppSize'] * ds['rentPerMeter'] + before_line.Maintenace +  ds['ArnonaTax']\n",
    "    ds['maintenace&Tax'] = before_line.Maintenace +  ds['ArnonaTax']\n",
    "    ds['status'] = 'Demolished'\n",
    "    return ds"
   ]
  },
  {
   "cell_type": "code",
   "execution_count": 308,
   "metadata": {},
   "outputs": [],
   "source": [
    "def def_FutureBld_op3_ds(after_line):\n",
    "    ds = pd.DataFrame()\n",
    "    nUnits = int(after_line.TotalUnits)\n",
    "    unitNewNumber = [k for k in range(nUnits)]\n",
    "    ds['appUnits'] = unitNewNumber\n",
    "    ds['bldAdd'] = after_line.bld_address\n",
    "    ds['AppSize'] = after_line.AvrgTotaalArea\n",
    "    ds['sellPerMeter'] = after_line.purchase_p * ( 1 + after_line.priceIncrease )\n",
    "    ds['rentPerMeter'] = after_line.rent_price * ( 1 + after_line.rentIncrease )\n",
    "\n",
    "    \n",
    "    ds['ArnonaTarif'] = float(dc.rules['ArnonaTax'])\n",
    "    ds['ArnonaTax'] = ds['ArnonaTarif'] * ds['AppSize']\n",
    "    \n",
    "    ds['sellPrice'] = ds['AppSize'] * ds['sellPerMeter']\n",
    "    ds['rentPerMonth'] = ds['AppSize'] * ds['rentPerMeter'] + after_line.newMaintenace + ds['ArnonaTax'] \n",
    "    \n",
    "    ds['newMaintenace&Tax'] = after_line.newMaintenace + ds['ArnonaTax'] \n",
    "    ds['status'] = 'New Building'\n",
    "    return ds\n",
    "        "
   ]
  },
  {
   "cell_type": "code",
   "execution_count": 309,
   "metadata": {},
   "outputs": [],
   "source": [
    "def generateAgensts(thisDS, per = 0.5):\n",
    "    nUnits = len(thisDS['appUnits'])\n",
    "    #unitNumber = [k for k in range(nUnits)]\n",
    "    \n",
    "    rand_income_rent = np.random.randint(0, high=5000, size=nUnits, dtype='l') #monthly income\n",
    "    rand_inc_sr_rent =  pd.Series(rand_income_rent)\n",
    "\n",
    "    rand_income_own = np.random.randint(3000, high=15000, size=nUnits, dtype='l') #monthly income\n",
    "    rand_inc_sr_own =  pd.Series(rand_income_own)\n",
    "    \n",
    "    rand_wealth = np.random.randint(0, high=5000000, size=nUnits, dtype='l') #wealth\n",
    "    age = np.random.randint(25, high=110, size=nUnits, dtype='l') #wealth\n",
    "    \n",
    "    #ownership!\n",
    "    P=[per,1-per]\n",
    "    ownership = np.random.choice(2,size = nUnits,p=P)\n",
    "    #ownership = np.random.randint(0, high=2, size=nUnits, dtype='l') #0 rent 1 owns\n",
    "    \n",
    "    ds = pd.DataFrame()\n",
    "    \n",
    "    ds['OwnerShip'] = pd.Series(ownership)\n",
    "    ds['AgentAppUnit'] = thisDS['appUnits'] #what unit does the agent live in\n",
    "    ds['AgentBldAdd'] = thisDS['bldAdd'] # in what bld address does the Agent live in\n",
    "    \n",
    "    #ds['AgentIncome'] = (thisDS['rentPerMonth'])/0.3 + pd.Series(rand_income) #Income for One\n",
    "    \n",
    "    #ds['AgentIncome'] = (thisDS['rentPerMonth'])/0.3 + pd.Series(rand_income) #Income for One\n",
    " \n",
    "    ds['AgentWealth'] = pd.Series(rand_wealth)\n",
    "    \n",
    "    ds['AgentPurchaseThreshold'] = ds['AgentWealth'] * 0.3 # 30% of wealth, Agent can buy a house without Mortgage\n",
    "    ds['Age'] = pd.Series(age)\n",
    "    \n",
    "    ds['AgeGroup'] = ds['Age'].apply(lambda x: 0 if x < 65 else 1)\n",
    "    ds['Native_Seniority'] = ds['Age'].apply(getRandomSeniority)\n",
    "    ds['Native_Group'] = ds['Native_Seniority'].apply(lambda x: 0 if x < 10 else 1) # 0 Native, 1 NewComer\n",
    "    \n",
    "    # for renters take the rent price\n",
    "    ds.loc[ds['OwnerShip']==0,'AgentIncome'] = (thisDS[ds['OwnerShip']==0]['rentPerMonth'])/0.3 + rand_inc_sr_rent[ds['OwnerShip']==0]\n",
    "    ds.loc[ds['OwnerShip']==1,'AgentIncome'] = (thisDS[ds['OwnerShip']==1]['maintenace&Tax'])/0.3 + rand_inc_sr_own[ds['OwnerShip']==1]\n",
    "    ds['AgentRentThreshold'] = ds['AgentIncome'] * 0.3 # 30% of income\n",
    "    \n",
    "    return ds\n",
    "\n"
   ]
  },
  {
   "cell_type": "code",
   "execution_count": null,
   "metadata": {},
   "outputs": [],
   "source": []
  },
  {
   "cell_type": "code",
   "execution_count": 310,
   "metadata": {},
   "outputs": [],
   "source": [
    "def getRandomSeniority(age):\n",
    "    max_seniority = 50\n",
    "    min_seniority = 10\n",
    "    if age > 50:\n",
    "        max_seniority = 50\n",
    "        min_seniority = 10\n",
    "    else:\n",
    "        max_seniority = age\n",
    "        min_seniority = 10\n",
    "    return np.random.randint(min_seniority, high=max_seniority, size=1, dtype='l')[0]\n",
    "        "
   ]
  },
  {
   "cell_type": "code",
   "execution_count": null,
   "metadata": {},
   "outputs": [],
   "source": []
  },
  {
   "cell_type": "code",
   "execution_count": null,
   "metadata": {},
   "outputs": [],
   "source": []
  },
  {
   "cell_type": "code",
   "execution_count": null,
   "metadata": {},
   "outputs": [],
   "source": []
  },
  {
   "cell_type": "code",
   "execution_count": null,
   "metadata": {},
   "outputs": [],
   "source": []
  },
  {
   "cell_type": "code",
   "execution_count": null,
   "metadata": {},
   "outputs": [],
   "source": []
  },
  {
   "cell_type": "code",
   "execution_count": null,
   "metadata": {},
   "outputs": [],
   "source": []
  },
  {
   "cell_type": "code",
   "execution_count": null,
   "metadata": {},
   "outputs": [],
   "source": []
  },
  {
   "cell_type": "markdown",
   "metadata": {},
   "source": [
    "# Data Formating\n",
    "doing some formating to the Agents file to make it more clear for statistical purposes."
   ]
  },
  {
   "cell_type": "code",
   "execution_count": 552,
   "metadata": {},
   "outputs": [],
   "source": [
    "dc.Agents = dc.Agents[['AgentAppUnit', 'AgentBldAdd', 'AgentIncome', 'AgentWealth','AgentPurchaseThreshold', 'AgentRentThreshold', 'Age',\n",
    "           'OwnerShip', 'AgeGroup', 'Native_Seniority', 'Native_Group', 'AgentID']]\n",
    "#path =\"Source/\"+agents_name.value\n",
    "#Agents.to_excel(path)"
   ]
  },
  {
   "cell_type": "code",
   "execution_count": 553,
   "metadata": {
    "scrolled": false
   },
   "outputs": [
    {
     "data": {
      "text/html": [
       "<div>\n",
       "<style scoped>\n",
       "    .dataframe tbody tr th:only-of-type {\n",
       "        vertical-align: middle;\n",
       "    }\n",
       "\n",
       "    .dataframe tbody tr th {\n",
       "        vertical-align: top;\n",
       "    }\n",
       "\n",
       "    .dataframe thead th {\n",
       "        text-align: right;\n",
       "    }\n",
       "</style>\n",
       "<table border=\"1\" class=\"dataframe\">\n",
       "  <thead>\n",
       "    <tr style=\"text-align: right;\">\n",
       "      <th></th>\n",
       "      <th>AgentAppUnit</th>\n",
       "      <th>AgentBldAdd</th>\n",
       "      <th>AgentIncome</th>\n",
       "      <th>AgentWealth</th>\n",
       "      <th>AgentPurchaseThreshold</th>\n",
       "      <th>AgentRentThreshold</th>\n",
       "      <th>Age</th>\n",
       "      <th>OwnerShip</th>\n",
       "      <th>AgeGroup</th>\n",
       "      <th>Native_Seniority</th>\n",
       "      <th>Native_Group</th>\n",
       "      <th>AgentID</th>\n",
       "    </tr>\n",
       "  </thead>\n",
       "  <tbody>\n",
       "    <tr>\n",
       "      <th>446</th>\n",
       "      <td>28</td>\n",
       "      <td>212_53</td>\n",
       "      <td>6332.476667</td>\n",
       "      <td>1932619</td>\n",
       "      <td>579785.7</td>\n",
       "      <td>1899.743</td>\n",
       "      <td>28</td>\n",
       "      <td>1</td>\n",
       "      <td>0</td>\n",
       "      <td>21</td>\n",
       "      <td>1</td>\n",
       "      <td>446</td>\n",
       "    </tr>\n",
       "    <tr>\n",
       "      <th>447</th>\n",
       "      <td>29</td>\n",
       "      <td>212_53</td>\n",
       "      <td>15738.476667</td>\n",
       "      <td>4054617</td>\n",
       "      <td>1216385.1</td>\n",
       "      <td>4721.543</td>\n",
       "      <td>107</td>\n",
       "      <td>1</td>\n",
       "      <td>1</td>\n",
       "      <td>46</td>\n",
       "      <td>1</td>\n",
       "      <td>447</td>\n",
       "    </tr>\n",
       "    <tr>\n",
       "      <th>448</th>\n",
       "      <td>30</td>\n",
       "      <td>212_53</td>\n",
       "      <td>11622.476667</td>\n",
       "      <td>4396565</td>\n",
       "      <td>1318969.5</td>\n",
       "      <td>3486.743</td>\n",
       "      <td>87</td>\n",
       "      <td>1</td>\n",
       "      <td>1</td>\n",
       "      <td>34</td>\n",
       "      <td>1</td>\n",
       "      <td>448</td>\n",
       "    </tr>\n",
       "    <tr>\n",
       "      <th>449</th>\n",
       "      <td>31</td>\n",
       "      <td>212_53</td>\n",
       "      <td>14629.476667</td>\n",
       "      <td>3271362</td>\n",
       "      <td>981408.6</td>\n",
       "      <td>4388.843</td>\n",
       "      <td>40</td>\n",
       "      <td>1</td>\n",
       "      <td>0</td>\n",
       "      <td>22</td>\n",
       "      <td>1</td>\n",
       "      <td>449</td>\n",
       "    </tr>\n",
       "    <tr>\n",
       "      <th>450</th>\n",
       "      <td>32</td>\n",
       "      <td>212_53</td>\n",
       "      <td>13084.476667</td>\n",
       "      <td>4842072</td>\n",
       "      <td>1452621.6</td>\n",
       "      <td>3925.343</td>\n",
       "      <td>104</td>\n",
       "      <td>1</td>\n",
       "      <td>1</td>\n",
       "      <td>12</td>\n",
       "      <td>1</td>\n",
       "      <td>450</td>\n",
       "    </tr>\n",
       "  </tbody>\n",
       "</table>\n",
       "</div>"
      ],
      "text/plain": [
       "     AgentAppUnit AgentBldAdd   AgentIncome  AgentWealth  \\\n",
       "446            28      212_53   6332.476667      1932619   \n",
       "447            29      212_53  15738.476667      4054617   \n",
       "448            30      212_53  11622.476667      4396565   \n",
       "449            31      212_53  14629.476667      3271362   \n",
       "450            32      212_53  13084.476667      4842072   \n",
       "\n",
       "     AgentPurchaseThreshold  AgentRentThreshold  Age  OwnerShip  AgeGroup  \\\n",
       "446                579785.7            1899.743   28          1         0   \n",
       "447               1216385.1            4721.543  107          1         1   \n",
       "448               1318969.5            3486.743   87          1         1   \n",
       "449                981408.6            4388.843   40          1         0   \n",
       "450               1452621.6            3925.343  104          1         1   \n",
       "\n",
       "     Native_Seniority  Native_Group  AgentID  \n",
       "446                21             1      446  \n",
       "447                46             1      447  \n",
       "448                34             1      448  \n",
       "449                22             1      449  \n",
       "450                12             1      450  "
      ]
     },
     "execution_count": 553,
     "metadata": {},
     "output_type": "execute_result"
    }
   ],
   "source": [
    "dc.Agents.tail(5)"
   ]
  },
  {
   "cell_type": "code",
   "execution_count": null,
   "metadata": {},
   "outputs": [],
   "source": []
  },
  {
   "cell_type": "code",
   "execution_count": null,
   "metadata": {},
   "outputs": [],
   "source": []
  },
  {
   "cell_type": "code",
   "execution_count": null,
   "metadata": {},
   "outputs": [],
   "source": []
  },
  {
   "cell_type": "code",
   "execution_count": 554,
   "metadata": {},
   "outputs": [],
   "source": [
    "dc.Agents['AgentIncome'] = dc.Agents['AgentIncome'].astype(int)"
   ]
  },
  {
   "cell_type": "code",
   "execution_count": 555,
   "metadata": {},
   "outputs": [],
   "source": [
    "#Age Formating\n",
    "dc.Agents['AgeGroupDesc'] = dc.Agents['Age'].apply(lambda x: 'Young' if x < 65 else 'Old')\n",
    "#Native Formating\n",
    "dc.Agents['NativeDesc'] = dc.Agents['Native_Group'].apply(lambda x: 'Native' if x == 1 else 'New Comers')\n",
    "#Ownership Formating\n",
    "dc.Agents['OwnershipDesc'] = dc.Agents['OwnerShip'].apply(lambda x: 'Owner' if x == 1 else 'Rent')"
   ]
  },
  {
   "cell_type": "code",
   "execution_count": 556,
   "metadata": {},
   "outputs": [],
   "source": [
    "LowInc = int(dc.rules['Income']['Low']['0'])\n",
    "MediumInc = int(dc.rules['Income']['Medium']['1'])\n",
    "HighInc = int(dc.rules['Income']['High']['2'])\n",
    "dc.Agents['IncomeNum'] = dc.Agents['AgentIncome'].apply(lambda x: \"0\" if x < LowInc else \"1\" if x < MediumInc else \"2\")\n",
    "dc.Agents['IncomeDesc'] = dc.Agents['AgentIncome'].apply(lambda x: 'Low Income' if x < LowInc else 'Medium Income' if x < MediumInc else \"High Income\")"
   ]
  },
  {
   "cell_type": "code",
   "execution_count": 557,
   "metadata": {},
   "outputs": [],
   "source": [
    "dc.Agents.to_excel(agents_path)"
   ]
  },
  {
   "cell_type": "code",
   "execution_count": 558,
   "metadata": {},
   "outputs": [
    {
     "data": {
      "text/html": [
       "<div>\n",
       "<style scoped>\n",
       "    .dataframe tbody tr th:only-of-type {\n",
       "        vertical-align: middle;\n",
       "    }\n",
       "\n",
       "    .dataframe tbody tr th {\n",
       "        vertical-align: top;\n",
       "    }\n",
       "\n",
       "    .dataframe thead th {\n",
       "        text-align: right;\n",
       "    }\n",
       "</style>\n",
       "<table border=\"1\" class=\"dataframe\">\n",
       "  <thead>\n",
       "    <tr style=\"text-align: right;\">\n",
       "      <th></th>\n",
       "      <th>AgentAppUnit</th>\n",
       "      <th>AgentBldAdd</th>\n",
       "      <th>AgentIncome</th>\n",
       "      <th>AgentWealth</th>\n",
       "      <th>AgentPurchaseThreshold</th>\n",
       "      <th>AgentRentThreshold</th>\n",
       "      <th>Age</th>\n",
       "      <th>OwnerShip</th>\n",
       "      <th>AgeGroup</th>\n",
       "      <th>Native_Seniority</th>\n",
       "      <th>Native_Group</th>\n",
       "      <th>AgentID</th>\n",
       "      <th>AgeGroupDesc</th>\n",
       "      <th>NativeDesc</th>\n",
       "      <th>OwnershipDesc</th>\n",
       "      <th>IncomeNum</th>\n",
       "      <th>IncomeDesc</th>\n",
       "    </tr>\n",
       "  </thead>\n",
       "  <tbody>\n",
       "    <tr>\n",
       "      <th>446</th>\n",
       "      <td>28</td>\n",
       "      <td>212_53</td>\n",
       "      <td>6332</td>\n",
       "      <td>1932619</td>\n",
       "      <td>579785.7</td>\n",
       "      <td>1899.743</td>\n",
       "      <td>28</td>\n",
       "      <td>1</td>\n",
       "      <td>0</td>\n",
       "      <td>21</td>\n",
       "      <td>1</td>\n",
       "      <td>446</td>\n",
       "      <td>Young</td>\n",
       "      <td>Native</td>\n",
       "      <td>Owner</td>\n",
       "      <td>0</td>\n",
       "      <td>Low Income</td>\n",
       "    </tr>\n",
       "    <tr>\n",
       "      <th>447</th>\n",
       "      <td>29</td>\n",
       "      <td>212_53</td>\n",
       "      <td>15738</td>\n",
       "      <td>4054617</td>\n",
       "      <td>1216385.1</td>\n",
       "      <td>4721.543</td>\n",
       "      <td>107</td>\n",
       "      <td>1</td>\n",
       "      <td>1</td>\n",
       "      <td>46</td>\n",
       "      <td>1</td>\n",
       "      <td>447</td>\n",
       "      <td>Old</td>\n",
       "      <td>Native</td>\n",
       "      <td>Owner</td>\n",
       "      <td>1</td>\n",
       "      <td>Medium Income</td>\n",
       "    </tr>\n",
       "    <tr>\n",
       "      <th>448</th>\n",
       "      <td>30</td>\n",
       "      <td>212_53</td>\n",
       "      <td>11622</td>\n",
       "      <td>4396565</td>\n",
       "      <td>1318969.5</td>\n",
       "      <td>3486.743</td>\n",
       "      <td>87</td>\n",
       "      <td>1</td>\n",
       "      <td>1</td>\n",
       "      <td>34</td>\n",
       "      <td>1</td>\n",
       "      <td>448</td>\n",
       "      <td>Old</td>\n",
       "      <td>Native</td>\n",
       "      <td>Owner</td>\n",
       "      <td>1</td>\n",
       "      <td>Medium Income</td>\n",
       "    </tr>\n",
       "    <tr>\n",
       "      <th>449</th>\n",
       "      <td>31</td>\n",
       "      <td>212_53</td>\n",
       "      <td>14629</td>\n",
       "      <td>3271362</td>\n",
       "      <td>981408.6</td>\n",
       "      <td>4388.843</td>\n",
       "      <td>40</td>\n",
       "      <td>1</td>\n",
       "      <td>0</td>\n",
       "      <td>22</td>\n",
       "      <td>1</td>\n",
       "      <td>449</td>\n",
       "      <td>Young</td>\n",
       "      <td>Native</td>\n",
       "      <td>Owner</td>\n",
       "      <td>1</td>\n",
       "      <td>Medium Income</td>\n",
       "    </tr>\n",
       "    <tr>\n",
       "      <th>450</th>\n",
       "      <td>32</td>\n",
       "      <td>212_53</td>\n",
       "      <td>13084</td>\n",
       "      <td>4842072</td>\n",
       "      <td>1452621.6</td>\n",
       "      <td>3925.343</td>\n",
       "      <td>104</td>\n",
       "      <td>1</td>\n",
       "      <td>1</td>\n",
       "      <td>12</td>\n",
       "      <td>1</td>\n",
       "      <td>450</td>\n",
       "      <td>Old</td>\n",
       "      <td>Native</td>\n",
       "      <td>Owner</td>\n",
       "      <td>1</td>\n",
       "      <td>Medium Income</td>\n",
       "    </tr>\n",
       "  </tbody>\n",
       "</table>\n",
       "</div>"
      ],
      "text/plain": [
       "     AgentAppUnit AgentBldAdd  AgentIncome  AgentWealth  \\\n",
       "446            28      212_53         6332      1932619   \n",
       "447            29      212_53        15738      4054617   \n",
       "448            30      212_53        11622      4396565   \n",
       "449            31      212_53        14629      3271362   \n",
       "450            32      212_53        13084      4842072   \n",
       "\n",
       "     AgentPurchaseThreshold  AgentRentThreshold  Age  OwnerShip  AgeGroup  \\\n",
       "446                579785.7            1899.743   28          1         0   \n",
       "447               1216385.1            4721.543  107          1         1   \n",
       "448               1318969.5            3486.743   87          1         1   \n",
       "449                981408.6            4388.843   40          1         0   \n",
       "450               1452621.6            3925.343  104          1         1   \n",
       "\n",
       "     Native_Seniority  Native_Group  AgentID AgeGroupDesc NativeDesc  \\\n",
       "446                21             1      446        Young     Native   \n",
       "447                46             1      447          Old     Native   \n",
       "448                34             1      448          Old     Native   \n",
       "449                22             1      449        Young     Native   \n",
       "450                12             1      450          Old     Native   \n",
       "\n",
       "    OwnershipDesc IncomeNum     IncomeDesc  \n",
       "446         Owner         0     Low Income  \n",
       "447         Owner         1  Medium Income  \n",
       "448         Owner         1  Medium Income  \n",
       "449         Owner         1  Medium Income  \n",
       "450         Owner         1  Medium Income  "
      ]
     },
     "execution_count": 558,
     "metadata": {},
     "output_type": "execute_result"
    }
   ],
   "source": [
    "dc.Agents.tail()"
   ]
  },
  {
   "cell_type": "code",
   "execution_count": null,
   "metadata": {},
   "outputs": [],
   "source": []
  },
  {
   "cell_type": "code",
   "execution_count": null,
   "metadata": {},
   "outputs": [],
   "source": []
  },
  {
   "cell_type": "code",
   "execution_count": null,
   "metadata": {},
   "outputs": [],
   "source": []
  },
  {
   "cell_type": "code",
   "execution_count": null,
   "metadata": {},
   "outputs": [],
   "source": []
  },
  {
   "cell_type": "code",
   "execution_count": null,
   "metadata": {},
   "outputs": [],
   "source": []
  },
  {
   "cell_type": "code",
   "execution_count": null,
   "metadata": {},
   "outputs": [],
   "source": []
  },
  {
   "cell_type": "code",
   "execution_count": null,
   "metadata": {},
   "outputs": [],
   "source": []
  },
  {
   "cell_type": "markdown",
   "metadata": {},
   "source": [
    "# Experiments"
   ]
  },
  {
   "cell_type": "code",
   "execution_count": 160,
   "metadata": {},
   "outputs": [],
   "source": [
    "    #roei method - for random choice\n",
    "    #ownership!\n",
    "    per = 0.2\n",
    "    nUnits = 1000\n",
    "    P=[per,1-per]\n",
    "    owner_renter_rows = np.random.choice(2,size = nUnits,p=P)\n",
    "    n_d = pd.DataFrame()\n",
    "    n_d['owners'] = owner_renter_rows\n",
    "    n_d.reset_index(inplace=True,drop=True)\n",
    "    len_0 = len(n_d[n_d['owners']==0])"
   ]
  },
  {
   "cell_type": "code",
   "execution_count": 161,
   "metadata": {},
   "outputs": [
    {
     "data": {
      "text/plain": [
       "182"
      ]
     },
     "execution_count": 161,
     "metadata": {},
     "output_type": "execute_result"
    }
   ],
   "source": [
    "len_0"
   ]
  },
  {
   "cell_type": "code",
   "execution_count": 170,
   "metadata": {},
   "outputs": [],
   "source": [
    "selected_rows = np.random.choice(2,size = 20,p=[0.6,0.4])"
   ]
  },
  {
   "cell_type": "code",
   "execution_count": 171,
   "metadata": {},
   "outputs": [
    {
     "data": {
      "text/plain": [
       "array([0, 0, 1, 0, 1, 0, 0, 0, 0, 0, 1, 0, 1, 1, 0, 0, 0, 0, 1, 0])"
      ]
     },
     "execution_count": 171,
     "metadata": {},
     "output_type": "execute_result"
    }
   ],
   "source": [
    "selected_rows"
   ]
  },
  {
   "cell_type": "code",
   "execution_count": 176,
   "metadata": {},
   "outputs": [],
   "source": [
    "selected_rows2 = selected_rows.tolist()"
   ]
  },
  {
   "cell_type": "code",
   "execution_count": 184,
   "metadata": {},
   "outputs": [
    {
     "data": {
      "text/plain": [
       "[0, 0, 1, 0, 1, 0, 0, 0, 0, 0, 1, 0, 1, 1, 0, 0, 0, 0, 1, 0]"
      ]
     },
     "execution_count": 184,
     "metadata": {},
     "output_type": "execute_result"
    }
   ],
   "source": [
    "selected_rows2"
   ]
  },
  {
   "cell_type": "code",
   "execution_count": 185,
   "metadata": {},
   "outputs": [
    {
     "data": {
      "text/plain": [
       "False"
      ]
     },
     "execution_count": 185,
     "metadata": {},
     "output_type": "execute_result"
    }
   ],
   "source": [
    "selected_rows2==1"
   ]
  },
  {
   "cell_type": "code",
   "execution_count": 180,
   "metadata": {},
   "outputs": [],
   "source": [
    "nd = pd.DataFrame()"
   ]
  },
  {
   "cell_type": "code",
   "execution_count": 181,
   "metadata": {},
   "outputs": [],
   "source": [
    "nd['test'] = range(0,20)"
   ]
  },
  {
   "cell_type": "code",
   "execution_count": 182,
   "metadata": {},
   "outputs": [
    {
     "data": {
      "text/plain": [
       "0      0\n",
       "1      1\n",
       "2      2\n",
       "3      3\n",
       "4      4\n",
       "5      5\n",
       "6      6\n",
       "7      7\n",
       "8      8\n",
       "9      9\n",
       "10    10\n",
       "11    11\n",
       "12    12\n",
       "13    13\n",
       "14    14\n",
       "15    15\n",
       "16    16\n",
       "17    17\n",
       "18    18\n",
       "19    19\n",
       "Name: test, dtype: int64"
      ]
     },
     "execution_count": 182,
     "metadata": {},
     "output_type": "execute_result"
    }
   ],
   "source": [
    "nd['test']"
   ]
  },
  {
   "cell_type": "code",
   "execution_count": 183,
   "metadata": {},
   "outputs": [
    {
     "data": {
      "text/plain": [
       "0    0\n",
       "0    0\n",
       "1    1\n",
       "0    0\n",
       "1    1\n",
       "0    0\n",
       "0    0\n",
       "0    0\n",
       "0    0\n",
       "0    0\n",
       "1    1\n",
       "0    0\n",
       "1    1\n",
       "1    1\n",
       "0    0\n",
       "0    0\n",
       "0    0\n",
       "0    0\n",
       "1    1\n",
       "0    0\n",
       "Name: test, dtype: int64"
      ]
     },
     "execution_count": 183,
     "metadata": {},
     "output_type": "execute_result"
    }
   ],
   "source": [
    "nd['test'].iloc[selected_rows2]"
   ]
  },
  {
   "cell_type": "code",
   "execution_count": 186,
   "metadata": {},
   "outputs": [],
   "source": [
    "nd['test2'] = selected_rows2"
   ]
  },
  {
   "cell_type": "code",
   "execution_count": 187,
   "metadata": {},
   "outputs": [
    {
     "data": {
      "text/html": [
       "<div>\n",
       "<style scoped>\n",
       "    .dataframe tbody tr th:only-of-type {\n",
       "        vertical-align: middle;\n",
       "    }\n",
       "\n",
       "    .dataframe tbody tr th {\n",
       "        vertical-align: top;\n",
       "    }\n",
       "\n",
       "    .dataframe thead th {\n",
       "        text-align: right;\n",
       "    }\n",
       "</style>\n",
       "<table border=\"1\" class=\"dataframe\">\n",
       "  <thead>\n",
       "    <tr style=\"text-align: right;\">\n",
       "      <th></th>\n",
       "      <th>test</th>\n",
       "      <th>test2</th>\n",
       "    </tr>\n",
       "  </thead>\n",
       "  <tbody>\n",
       "    <tr>\n",
       "      <th>0</th>\n",
       "      <td>0</td>\n",
       "      <td>0</td>\n",
       "    </tr>\n",
       "    <tr>\n",
       "      <th>1</th>\n",
       "      <td>1</td>\n",
       "      <td>0</td>\n",
       "    </tr>\n",
       "    <tr>\n",
       "      <th>2</th>\n",
       "      <td>2</td>\n",
       "      <td>1</td>\n",
       "    </tr>\n",
       "    <tr>\n",
       "      <th>3</th>\n",
       "      <td>3</td>\n",
       "      <td>0</td>\n",
       "    </tr>\n",
       "    <tr>\n",
       "      <th>4</th>\n",
       "      <td>4</td>\n",
       "      <td>1</td>\n",
       "    </tr>\n",
       "    <tr>\n",
       "      <th>5</th>\n",
       "      <td>5</td>\n",
       "      <td>0</td>\n",
       "    </tr>\n",
       "    <tr>\n",
       "      <th>6</th>\n",
       "      <td>6</td>\n",
       "      <td>0</td>\n",
       "    </tr>\n",
       "    <tr>\n",
       "      <th>7</th>\n",
       "      <td>7</td>\n",
       "      <td>0</td>\n",
       "    </tr>\n",
       "    <tr>\n",
       "      <th>8</th>\n",
       "      <td>8</td>\n",
       "      <td>0</td>\n",
       "    </tr>\n",
       "    <tr>\n",
       "      <th>9</th>\n",
       "      <td>9</td>\n",
       "      <td>0</td>\n",
       "    </tr>\n",
       "    <tr>\n",
       "      <th>10</th>\n",
       "      <td>10</td>\n",
       "      <td>1</td>\n",
       "    </tr>\n",
       "    <tr>\n",
       "      <th>11</th>\n",
       "      <td>11</td>\n",
       "      <td>0</td>\n",
       "    </tr>\n",
       "    <tr>\n",
       "      <th>12</th>\n",
       "      <td>12</td>\n",
       "      <td>1</td>\n",
       "    </tr>\n",
       "    <tr>\n",
       "      <th>13</th>\n",
       "      <td>13</td>\n",
       "      <td>1</td>\n",
       "    </tr>\n",
       "    <tr>\n",
       "      <th>14</th>\n",
       "      <td>14</td>\n",
       "      <td>0</td>\n",
       "    </tr>\n",
       "    <tr>\n",
       "      <th>15</th>\n",
       "      <td>15</td>\n",
       "      <td>0</td>\n",
       "    </tr>\n",
       "    <tr>\n",
       "      <th>16</th>\n",
       "      <td>16</td>\n",
       "      <td>0</td>\n",
       "    </tr>\n",
       "    <tr>\n",
       "      <th>17</th>\n",
       "      <td>17</td>\n",
       "      <td>0</td>\n",
       "    </tr>\n",
       "    <tr>\n",
       "      <th>18</th>\n",
       "      <td>18</td>\n",
       "      <td>1</td>\n",
       "    </tr>\n",
       "    <tr>\n",
       "      <th>19</th>\n",
       "      <td>19</td>\n",
       "      <td>0</td>\n",
       "    </tr>\n",
       "  </tbody>\n",
       "</table>\n",
       "</div>"
      ],
      "text/plain": [
       "    test  test2\n",
       "0      0      0\n",
       "1      1      0\n",
       "2      2      1\n",
       "3      3      0\n",
       "4      4      1\n",
       "5      5      0\n",
       "6      6      0\n",
       "7      7      0\n",
       "8      8      0\n",
       "9      9      0\n",
       "10    10      1\n",
       "11    11      0\n",
       "12    12      1\n",
       "13    13      1\n",
       "14    14      0\n",
       "15    15      0\n",
       "16    16      0\n",
       "17    17      0\n",
       "18    18      1\n",
       "19    19      0"
      ]
     },
     "execution_count": 187,
     "metadata": {},
     "output_type": "execute_result"
    }
   ],
   "source": [
    "nd"
   ]
  },
  {
   "cell_type": "code",
   "execution_count": null,
   "metadata": {},
   "outputs": [],
   "source": []
  }
 ],
 "metadata": {
  "kernelspec": {
   "display_name": "Python 3",
   "language": "python",
   "name": "python3"
  },
  "language_info": {
   "codemirror_mode": {
    "name": "ipython",
    "version": 3
   },
   "file_extension": ".py",
   "mimetype": "text/x-python",
   "name": "python",
   "nbconvert_exporter": "python",
   "pygments_lexer": "ipython3",
   "version": "3.7.3"
  }
 },
 "nbformat": 4,
 "nbformat_minor": 2
}
