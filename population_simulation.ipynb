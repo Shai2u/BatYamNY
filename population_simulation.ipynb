{
  "nbformat": 4,
  "nbformat_minor": 0,
  "metadata": {
    "colab": {
      "name": "population_simulation.ipynb",
      "provenance": [],
      "collapsed_sections": [],
      "toc_visible": true,
      "include_colab_link": true
    },
    "kernelspec": {
      "name": "python3",
      "display_name": "Python 3"
    },
    "language_info": {
      "name": "python"
    }
  },
  "cells": [
    {
      "cell_type": "markdown",
      "metadata": {
        "id": "view-in-github",
        "colab_type": "text"
      },
      "source": [
        "<a href=\"https://colab.research.google.com/github/Shai2u/BatYamNY/blob/master/population_simulation.ipynb\" target=\"_parent\"><img src=\"https://colab.research.google.com/assets/colab-badge.svg\" alt=\"Open In Colab\"/></a>"
      ]
    },
    {
      "cell_type": "code",
      "execution_count": 9,
      "metadata": {
        "colab": {
          "base_uri": "https://localhost:8080/"
        },
        "id": "xAk4sIdNEtYQ",
        "outputId": "db0e2c70-e8c1-4578-96ff-65acc7200379"
      },
      "outputs": [
        {
          "output_type": "stream",
          "name": "stdout",
          "text": [
            "\u001b[31mERROR: Invalid requirement: '=='\u001b[0m\n",
            "Collecting jupyter_dash\n",
            "  Downloading jupyter_dash-0.4.2-py3-none-any.whl (23 kB)\n",
            "Requirement already satisfied: ipython in /usr/local/lib/python3.7/dist-packages (from jupyter_dash) (5.5.0)\n",
            "Collecting ansi2html\n",
            "  Downloading ansi2html-1.7.0-py3-none-any.whl (15 kB)\n",
            "Requirement already satisfied: nest-asyncio in /usr/local/lib/python3.7/dist-packages (from jupyter_dash) (1.5.5)\n",
            "Requirement already satisfied: ipykernel in /usr/local/lib/python3.7/dist-packages (from jupyter_dash) (4.10.1)\n",
            "Requirement already satisfied: flask in /usr/local/lib/python3.7/dist-packages (from jupyter_dash) (1.1.4)\n",
            "Requirement already satisfied: requests in /usr/local/lib/python3.7/dist-packages (from jupyter_dash) (2.23.0)\n",
            "Collecting retrying\n",
            "  Downloading retrying-1.3.3.tar.gz (10 kB)\n",
            "Collecting dash\n",
            "  Downloading dash-2.3.1-py3-none-any.whl (9.6 MB)\n",
            "\u001b[K     |████████████████████████████████| 9.6 MB 6.7 MB/s \n",
            "\u001b[?25hRequirement already satisfied: importlib-metadata in /usr/local/lib/python3.7/dist-packages (from ansi2html->jupyter_dash) (4.11.3)\n",
            "Collecting flask-compress\n",
            "  Downloading Flask_Compress-1.12-py3-none-any.whl (7.9 kB)\n",
            "Collecting dash-table==5.0.0\n",
            "  Downloading dash_table-5.0.0-py3-none-any.whl (3.9 kB)\n",
            "Requirement already satisfied: plotly>=5.0.0 in /usr/local/lib/python3.7/dist-packages (from dash->jupyter_dash) (5.5.0)\n",
            "Collecting dash-html-components==2.0.0\n",
            "  Downloading dash_html_components-2.0.0-py3-none-any.whl (4.1 kB)\n",
            "Collecting dash-core-components==2.0.0\n",
            "  Downloading dash_core_components-2.0.0-py3-none-any.whl (3.8 kB)\n",
            "Requirement already satisfied: itsdangerous<2.0,>=0.24 in /usr/local/lib/python3.7/dist-packages (from flask->jupyter_dash) (1.1.0)\n",
            "Requirement already satisfied: click<8.0,>=5.1 in /usr/local/lib/python3.7/dist-packages (from flask->jupyter_dash) (7.1.2)\n",
            "Requirement already satisfied: Werkzeug<2.0,>=0.15 in /usr/local/lib/python3.7/dist-packages (from flask->jupyter_dash) (1.0.1)\n",
            "Requirement already satisfied: Jinja2<3.0,>=2.10.1 in /usr/local/lib/python3.7/dist-packages (from flask->jupyter_dash) (2.11.3)\n",
            "Requirement already satisfied: MarkupSafe>=0.23 in /usr/local/lib/python3.7/dist-packages (from Jinja2<3.0,>=2.10.1->flask->jupyter_dash) (2.0.1)\n",
            "Requirement already satisfied: six in /usr/local/lib/python3.7/dist-packages (from plotly>=5.0.0->dash->jupyter_dash) (1.15.0)\n",
            "Requirement already satisfied: tenacity>=6.2.0 in /usr/local/lib/python3.7/dist-packages (from plotly>=5.0.0->dash->jupyter_dash) (8.0.1)\n",
            "Collecting brotli\n",
            "  Downloading Brotli-1.0.9-cp37-cp37m-manylinux1_x86_64.whl (357 kB)\n",
            "\u001b[K     |████████████████████████████████| 357 kB 50.3 MB/s \n",
            "\u001b[?25hRequirement already satisfied: typing-extensions>=3.6.4 in /usr/local/lib/python3.7/dist-packages (from importlib-metadata->ansi2html->jupyter_dash) (4.2.0)\n",
            "Requirement already satisfied: zipp>=0.5 in /usr/local/lib/python3.7/dist-packages (from importlib-metadata->ansi2html->jupyter_dash) (3.8.0)\n",
            "Requirement already satisfied: tornado>=4.0 in /usr/local/lib/python3.7/dist-packages (from ipykernel->jupyter_dash) (5.1.1)\n",
            "Requirement already satisfied: traitlets>=4.1.0 in /usr/local/lib/python3.7/dist-packages (from ipykernel->jupyter_dash) (5.1.1)\n",
            "Requirement already satisfied: jupyter-client in /usr/local/lib/python3.7/dist-packages (from ipykernel->jupyter_dash) (5.3.5)\n",
            "Requirement already satisfied: pygments in /usr/local/lib/python3.7/dist-packages (from ipython->jupyter_dash) (2.6.1)\n",
            "Requirement already satisfied: pickleshare in /usr/local/lib/python3.7/dist-packages (from ipython->jupyter_dash) (0.7.5)\n",
            "Requirement already satisfied: prompt-toolkit<2.0.0,>=1.0.4 in /usr/local/lib/python3.7/dist-packages (from ipython->jupyter_dash) (1.0.18)\n",
            "Requirement already satisfied: simplegeneric>0.8 in /usr/local/lib/python3.7/dist-packages (from ipython->jupyter_dash) (0.8.1)\n",
            "Requirement already satisfied: decorator in /usr/local/lib/python3.7/dist-packages (from ipython->jupyter_dash) (4.4.2)\n",
            "Requirement already satisfied: setuptools>=18.5 in /usr/local/lib/python3.7/dist-packages (from ipython->jupyter_dash) (57.4.0)\n",
            "Requirement already satisfied: pexpect in /usr/local/lib/python3.7/dist-packages (from ipython->jupyter_dash) (4.8.0)\n",
            "Requirement already satisfied: wcwidth in /usr/local/lib/python3.7/dist-packages (from prompt-toolkit<2.0.0,>=1.0.4->ipython->jupyter_dash) (0.2.5)\n",
            "Requirement already satisfied: python-dateutil>=2.1 in /usr/local/lib/python3.7/dist-packages (from jupyter-client->ipykernel->jupyter_dash) (2.8.2)\n",
            "Requirement already satisfied: pyzmq>=13 in /usr/local/lib/python3.7/dist-packages (from jupyter-client->ipykernel->jupyter_dash) (22.3.0)\n",
            "Requirement already satisfied: jupyter-core>=4.6.0 in /usr/local/lib/python3.7/dist-packages (from jupyter-client->ipykernel->jupyter_dash) (4.10.0)\n",
            "Requirement already satisfied: ptyprocess>=0.5 in /usr/local/lib/python3.7/dist-packages (from pexpect->ipython->jupyter_dash) (0.7.0)\n",
            "Requirement already satisfied: certifi>=2017.4.17 in /usr/local/lib/python3.7/dist-packages (from requests->jupyter_dash) (2021.10.8)\n",
            "Requirement already satisfied: urllib3!=1.25.0,!=1.25.1,<1.26,>=1.21.1 in /usr/local/lib/python3.7/dist-packages (from requests->jupyter_dash) (1.24.3)\n",
            "Requirement already satisfied: chardet<4,>=3.0.2 in /usr/local/lib/python3.7/dist-packages (from requests->jupyter_dash) (3.0.4)\n",
            "Requirement already satisfied: idna<3,>=2.5 in /usr/local/lib/python3.7/dist-packages (from requests->jupyter_dash) (2.10)\n",
            "Building wheels for collected packages: retrying\n",
            "  Building wheel for retrying (setup.py) ... \u001b[?25l\u001b[?25hdone\n",
            "  Created wheel for retrying: filename=retrying-1.3.3-py3-none-any.whl size=11447 sha256=dd50e941fcb491ab7d33d5df9ea4dc2850c18a6ebe5a399c647173f212ed5336\n",
            "  Stored in directory: /root/.cache/pip/wheels/f9/8d/8d/f6af3f7f9eea3553bc2fe6d53e4b287dad18b06a861ac56ddf\n",
            "Successfully built retrying\n",
            "Installing collected packages: brotli, flask-compress, dash-table, dash-html-components, dash-core-components, retrying, dash, ansi2html, jupyter-dash\n",
            "Successfully installed ansi2html-1.7.0 brotli-1.0.9 dash-2.3.1 dash-core-components-2.0.0 dash-html-components-2.0.0 dash-table-5.0.0 flask-compress-1.12 jupyter-dash-0.4.2 retrying-1.3.3\n",
            "Collecting geopandas\n",
            "  Downloading geopandas-0.10.2-py2.py3-none-any.whl (1.0 MB)\n",
            "\u001b[K     |████████████████████████████████| 1.0 MB 5.2 MB/s \n",
            "\u001b[?25hCollecting pyproj>=2.2.0\n",
            "  Downloading pyproj-3.2.1-cp37-cp37m-manylinux2010_x86_64.whl (6.3 MB)\n",
            "\u001b[K     |████████████████████████████████| 6.3 MB 47.3 MB/s \n",
            "\u001b[?25hRequirement already satisfied: pandas>=0.25.0 in /usr/local/lib/python3.7/dist-packages (from geopandas) (1.3.5)\n",
            "Requirement already satisfied: shapely>=1.6 in /usr/local/lib/python3.7/dist-packages (from geopandas) (1.8.1.post1)\n",
            "Collecting fiona>=1.8\n",
            "  Downloading Fiona-1.8.21-cp37-cp37m-manylinux2014_x86_64.whl (16.7 MB)\n",
            "\u001b[K     |████████████████████████████████| 16.7 MB 47.2 MB/s \n",
            "\u001b[?25hCollecting munch\n",
            "  Downloading munch-2.5.0-py2.py3-none-any.whl (10 kB)\n",
            "Collecting click-plugins>=1.0\n",
            "  Downloading click_plugins-1.1.1-py2.py3-none-any.whl (7.5 kB)\n",
            "Requirement already satisfied: six>=1.7 in /usr/local/lib/python3.7/dist-packages (from fiona>=1.8->geopandas) (1.15.0)\n",
            "Collecting cligj>=0.5\n",
            "  Downloading cligj-0.7.2-py3-none-any.whl (7.1 kB)\n",
            "Requirement already satisfied: certifi in /usr/local/lib/python3.7/dist-packages (from fiona>=1.8->geopandas) (2021.10.8)\n",
            "Requirement already satisfied: setuptools in /usr/local/lib/python3.7/dist-packages (from fiona>=1.8->geopandas) (57.4.0)\n",
            "Requirement already satisfied: attrs>=17 in /usr/local/lib/python3.7/dist-packages (from fiona>=1.8->geopandas) (21.4.0)\n",
            "Requirement already satisfied: click>=4.0 in /usr/local/lib/python3.7/dist-packages (from fiona>=1.8->geopandas) (7.1.2)\n",
            "Requirement already satisfied: pytz>=2017.3 in /usr/local/lib/python3.7/dist-packages (from pandas>=0.25.0->geopandas) (2022.1)\n",
            "Requirement already satisfied: numpy>=1.17.3 in /usr/local/lib/python3.7/dist-packages (from pandas>=0.25.0->geopandas) (1.21.6)\n",
            "Requirement already satisfied: python-dateutil>=2.7.3 in /usr/local/lib/python3.7/dist-packages (from pandas>=0.25.0->geopandas) (2.8.2)\n",
            "Installing collected packages: munch, cligj, click-plugins, pyproj, fiona, geopandas\n",
            "Successfully installed click-plugins-1.1.1 cligj-0.7.2 fiona-1.8.21 geopandas-0.10.2 munch-2.5.0 pyproj-3.2.1\n",
            "Collecting dash-leaflet==0.1.23\n",
            "  Downloading dash_leaflet-0.1.23-py3-none-any.whl (1.9 MB)\n",
            "\u001b[K     |████████████████████████████████| 1.9 MB 5.1 MB/s \n",
            "\u001b[?25hCollecting geobuf\n",
            "  Downloading geobuf-1.1.1-py3-none-any.whl (13 kB)\n",
            "Requirement already satisfied: click in /usr/local/lib/python3.7/dist-packages (from geobuf->dash-leaflet==0.1.23) (7.1.2)\n",
            "Requirement already satisfied: protobuf in /usr/local/lib/python3.7/dist-packages (from geobuf->dash-leaflet==0.1.23) (3.17.3)\n",
            "Requirement already satisfied: six in /usr/local/lib/python3.7/dist-packages (from geobuf->dash-leaflet==0.1.23) (1.15.0)\n",
            "Installing collected packages: geobuf, dash-leaflet\n",
            "Successfully installed dash-leaflet-0.1.23 geobuf-1.1.1\n",
            "Collecting dash-extensions==0.0.65\n",
            "  Downloading dash_extensions-0.0.65-py3-none-any.whl (1.8 MB)\n",
            "\u001b[K     |████████████████████████████████| 1.8 MB 5.1 MB/s \n",
            "\u001b[?25hRequirement already satisfied: dash in /usr/local/lib/python3.7/dist-packages (from dash-extensions==0.0.65) (2.3.1)\n",
            "Collecting jsbeautifier\n",
            "  Downloading jsbeautifier-1.14.3.tar.gz (73 kB)\n",
            "\u001b[K     |████████████████████████████████| 73 kB 2.3 MB/s \n",
            "\u001b[?25h  Installing build dependencies ... \u001b[?25l\u001b[?25hdone\n",
            "  Getting requirements to build wheel ... \u001b[?25l\u001b[?25hdone\n",
            "    Preparing wheel metadata ... \u001b[?25l\u001b[?25hdone\n",
            "Collecting Flask-Caching\n",
            "  Downloading Flask_Caching-1.10.1-py3-none-any.whl (34 kB)\n",
            "Requirement already satisfied: more-itertools in /usr/local/lib/python3.7/dist-packages (from dash-extensions==0.0.65) (8.12.0)\n",
            "Requirement already satisfied: dash-core-components==2.0.0 in /usr/local/lib/python3.7/dist-packages (from dash->dash-extensions==0.0.65) (2.0.0)\n",
            "Requirement already satisfied: flask-compress in /usr/local/lib/python3.7/dist-packages (from dash->dash-extensions==0.0.65) (1.12)\n",
            "Requirement already satisfied: Flask>=1.0.4 in /usr/local/lib/python3.7/dist-packages (from dash->dash-extensions==0.0.65) (1.1.4)\n",
            "Requirement already satisfied: dash-table==5.0.0 in /usr/local/lib/python3.7/dist-packages (from dash->dash-extensions==0.0.65) (5.0.0)\n",
            "Requirement already satisfied: plotly>=5.0.0 in /usr/local/lib/python3.7/dist-packages (from dash->dash-extensions==0.0.65) (5.5.0)\n",
            "Requirement already satisfied: dash-html-components==2.0.0 in /usr/local/lib/python3.7/dist-packages (from dash->dash-extensions==0.0.65) (2.0.0)\n",
            "Requirement already satisfied: Jinja2<3.0,>=2.10.1 in /usr/local/lib/python3.7/dist-packages (from Flask>=1.0.4->dash->dash-extensions==0.0.65) (2.11.3)\n",
            "Requirement already satisfied: Werkzeug<2.0,>=0.15 in /usr/local/lib/python3.7/dist-packages (from Flask>=1.0.4->dash->dash-extensions==0.0.65) (1.0.1)\n",
            "Requirement already satisfied: itsdangerous<2.0,>=0.24 in /usr/local/lib/python3.7/dist-packages (from Flask>=1.0.4->dash->dash-extensions==0.0.65) (1.1.0)\n",
            "Requirement already satisfied: click<8.0,>=5.1 in /usr/local/lib/python3.7/dist-packages (from Flask>=1.0.4->dash->dash-extensions==0.0.65) (7.1.2)\n",
            "Requirement already satisfied: MarkupSafe>=0.23 in /usr/local/lib/python3.7/dist-packages (from Jinja2<3.0,>=2.10.1->Flask>=1.0.4->dash->dash-extensions==0.0.65) (2.0.1)\n",
            "Requirement already satisfied: tenacity>=6.2.0 in /usr/local/lib/python3.7/dist-packages (from plotly>=5.0.0->dash->dash-extensions==0.0.65) (8.0.1)\n",
            "Requirement already satisfied: six in /usr/local/lib/python3.7/dist-packages (from plotly>=5.0.0->dash->dash-extensions==0.0.65) (1.15.0)\n",
            "Requirement already satisfied: brotli in /usr/local/lib/python3.7/dist-packages (from flask-compress->dash->dash-extensions==0.0.65) (1.0.9)\n",
            "Collecting editorconfig>=0.12.2\n",
            "  Downloading EditorConfig-0.12.3-py3-none-any.whl (16 kB)\n",
            "Building wheels for collected packages: jsbeautifier\n",
            "  Building wheel for jsbeautifier (PEP 517) ... \u001b[?25l\u001b[?25hdone\n",
            "  Created wheel for jsbeautifier: filename=jsbeautifier-1.14.3-py3-none-any.whl size=92544 sha256=b608418801e5feefd3c41644de2660342c366e182c546b3b1479e717bc592e90\n",
            "  Stored in directory: /root/.cache/pip/wheels/1e/88/0d/6da3bd96c85766cb52c8282c836743de139d6cd63b4abe1be6\n",
            "Successfully built jsbeautifier\n",
            "Installing collected packages: editorconfig, jsbeautifier, Flask-Caching, dash-extensions\n",
            "Successfully installed Flask-Caching-1.10.1 dash-extensions-0.0.65 editorconfig-0.12.3 jsbeautifier-1.14.3\n",
            "Collecting dash_daq\n",
            "  Downloading dash_daq-0.5.0.tar.gz (642 kB)\n",
            "\u001b[K     |████████████████████████████████| 642 kB 5.0 MB/s \n",
            "\u001b[?25hRequirement already satisfied: dash>=1.6.1 in /usr/local/lib/python3.7/dist-packages (from dash_daq) (2.3.1)\n",
            "Requirement already satisfied: Flask>=1.0.4 in /usr/local/lib/python3.7/dist-packages (from dash>=1.6.1->dash_daq) (1.1.4)\n",
            "Requirement already satisfied: dash-table==5.0.0 in /usr/local/lib/python3.7/dist-packages (from dash>=1.6.1->dash_daq) (5.0.0)\n",
            "Requirement already satisfied: plotly>=5.0.0 in /usr/local/lib/python3.7/dist-packages (from dash>=1.6.1->dash_daq) (5.5.0)\n",
            "Requirement already satisfied: dash-core-components==2.0.0 in /usr/local/lib/python3.7/dist-packages (from dash>=1.6.1->dash_daq) (2.0.0)\n",
            "Requirement already satisfied: flask-compress in /usr/local/lib/python3.7/dist-packages (from dash>=1.6.1->dash_daq) (1.12)\n",
            "Requirement already satisfied: dash-html-components==2.0.0 in /usr/local/lib/python3.7/dist-packages (from dash>=1.6.1->dash_daq) (2.0.0)\n",
            "Requirement already satisfied: click<8.0,>=5.1 in /usr/local/lib/python3.7/dist-packages (from Flask>=1.0.4->dash>=1.6.1->dash_daq) (7.1.2)\n",
            "Requirement already satisfied: Jinja2<3.0,>=2.10.1 in /usr/local/lib/python3.7/dist-packages (from Flask>=1.0.4->dash>=1.6.1->dash_daq) (2.11.3)\n",
            "Requirement already satisfied: itsdangerous<2.0,>=0.24 in /usr/local/lib/python3.7/dist-packages (from Flask>=1.0.4->dash>=1.6.1->dash_daq) (1.1.0)\n",
            "Requirement already satisfied: Werkzeug<2.0,>=0.15 in /usr/local/lib/python3.7/dist-packages (from Flask>=1.0.4->dash>=1.6.1->dash_daq) (1.0.1)\n",
            "Requirement already satisfied: MarkupSafe>=0.23 in /usr/local/lib/python3.7/dist-packages (from Jinja2<3.0,>=2.10.1->Flask>=1.0.4->dash>=1.6.1->dash_daq) (2.0.1)\n",
            "Requirement already satisfied: tenacity>=6.2.0 in /usr/local/lib/python3.7/dist-packages (from plotly>=5.0.0->dash>=1.6.1->dash_daq) (8.0.1)\n",
            "Requirement already satisfied: six in /usr/local/lib/python3.7/dist-packages (from plotly>=5.0.0->dash>=1.6.1->dash_daq) (1.15.0)\n",
            "Requirement already satisfied: brotli in /usr/local/lib/python3.7/dist-packages (from flask-compress->dash>=1.6.1->dash_daq) (1.0.9)\n",
            "Building wheels for collected packages: dash-daq\n",
            "  Building wheel for dash-daq (setup.py) ... \u001b[?25l\u001b[?25hdone\n",
            "  Created wheel for dash-daq: filename=dash_daq-0.5.0-py3-none-any.whl size=669714 sha256=dd08dc8abaf57a965decfe0922c93c0c76d2dad68b25f6fdbfcffb186ca368c7\n",
            "  Stored in directory: /root/.cache/pip/wheels/fe/54/53/a8d448db5592874db4313240571ca2c069e55f6a6b29bf5847\n",
            "Successfully built dash-daq\n",
            "Installing collected packages: dash-daq\n",
            "Successfully installed dash-daq-0.5.0\n",
            "Collecting dash_bootstrap_components\n",
            "  Downloading dash_bootstrap_components-1.1.0-py3-none-any.whl (210 kB)\n",
            "\u001b[K     |████████████████████████████████| 210 kB 5.2 MB/s \n",
            "\u001b[?25hRequirement already satisfied: dash>=2.0.0 in /usr/local/lib/python3.7/dist-packages (from dash_bootstrap_components) (2.3.1)\n",
            "Requirement already satisfied: flask-compress in /usr/local/lib/python3.7/dist-packages (from dash>=2.0.0->dash_bootstrap_components) (1.12)\n",
            "Requirement already satisfied: dash-html-components==2.0.0 in /usr/local/lib/python3.7/dist-packages (from dash>=2.0.0->dash_bootstrap_components) (2.0.0)\n",
            "Requirement already satisfied: dash-table==5.0.0 in /usr/local/lib/python3.7/dist-packages (from dash>=2.0.0->dash_bootstrap_components) (5.0.0)\n",
            "Requirement already satisfied: Flask>=1.0.4 in /usr/local/lib/python3.7/dist-packages (from dash>=2.0.0->dash_bootstrap_components) (1.1.4)\n",
            "Requirement already satisfied: plotly>=5.0.0 in /usr/local/lib/python3.7/dist-packages (from dash>=2.0.0->dash_bootstrap_components) (5.5.0)\n",
            "Requirement already satisfied: dash-core-components==2.0.0 in /usr/local/lib/python3.7/dist-packages (from dash>=2.0.0->dash_bootstrap_components) (2.0.0)\n",
            "Requirement already satisfied: Jinja2<3.0,>=2.10.1 in /usr/local/lib/python3.7/dist-packages (from Flask>=1.0.4->dash>=2.0.0->dash_bootstrap_components) (2.11.3)\n",
            "Requirement already satisfied: itsdangerous<2.0,>=0.24 in /usr/local/lib/python3.7/dist-packages (from Flask>=1.0.4->dash>=2.0.0->dash_bootstrap_components) (1.1.0)\n",
            "Requirement already satisfied: click<8.0,>=5.1 in /usr/local/lib/python3.7/dist-packages (from Flask>=1.0.4->dash>=2.0.0->dash_bootstrap_components) (7.1.2)\n",
            "Requirement already satisfied: Werkzeug<2.0,>=0.15 in /usr/local/lib/python3.7/dist-packages (from Flask>=1.0.4->dash>=2.0.0->dash_bootstrap_components) (1.0.1)\n",
            "Requirement already satisfied: MarkupSafe>=0.23 in /usr/local/lib/python3.7/dist-packages (from Jinja2<3.0,>=2.10.1->Flask>=1.0.4->dash>=2.0.0->dash_bootstrap_components) (2.0.1)\n",
            "Requirement already satisfied: tenacity>=6.2.0 in /usr/local/lib/python3.7/dist-packages (from plotly>=5.0.0->dash>=2.0.0->dash_bootstrap_components) (8.0.1)\n",
            "Requirement already satisfied: six in /usr/local/lib/python3.7/dist-packages (from plotly>=5.0.0->dash>=2.0.0->dash_bootstrap_components) (1.15.0)\n",
            "Requirement already satisfied: brotli in /usr/local/lib/python3.7/dist-packages (from flask-compress->dash>=2.0.0->dash_bootstrap_components) (1.0.9)\n",
            "Installing collected packages: dash-bootstrap-components\n",
            "Successfully installed dash-bootstrap-components-1.1.0\n"
          ]
        }
      ],
      "source": [
        "#Installing specific packages.\n",
        "#!pip install arcgis==1.9.1\n",
        "#!pip install dash==2.0.0\n",
        "!pip install dash == 2.3.1\n",
        "!pip install jupyter_dash\n",
        "!pip install geopandas\n",
        "!pip install dash-leaflet==0.1.23\n",
        "!pip install dash-extensions==0.0.65\n",
        "!pip install dash_daq\n",
        "!pip install dash_bootstrap_components\n",
        "\n",
        "# !pip install tornado==6.1.0\n",
        "# !pip install Jinja2==3.0.3"
      ]
    },
    {
      "cell_type": "code",
      "source": [
        "import requests\n",
        "\n",
        "from dash import Dash, html, dcc, Input, Output\n",
        "from dash_extensions.javascript import  assign\n",
        "import dash_daq as daq\n",
        "import dash_bootstrap_components as dbc\n",
        "\n",
        "from plotly.subplots import make_subplots\n",
        "\n",
        "import dash_leaflet.express as dlx\n",
        "import plotly.express as px\n",
        "import plotly.graph_objects as go\n",
        "import dash_leaflet as dl\n",
        "import pandas as pd\n",
        "import numpy as np\n",
        "import json\n",
        "import geopandas as gpd\n",
        "from jupyter_dash import JupyterDash\n",
        "import datetime\n",
        "#from arcgis.gis import GIS\n",
        "import requests\n",
        "from dash_extensions.javascript import Namespace\n",
        "\n",
        "ns = Namespace(\"someNamespace\", \"someSubNamespace\")\n"
      ],
      "metadata": {
        "id": "MO9L2oHaE4qH"
      },
      "execution_count": 10,
      "outputs": []
    },
    {
      "cell_type": "code",
      "source": [
        "#pandas configuration\n",
        "pd.options.display.max_columns=100"
      ],
      "metadata": {
        "id": "Fw9RvdnrvVv_"
      },
      "execution_count": 11,
      "outputs": []
    },
    {
      "cell_type": "code",
      "source": [
        "#globals\n",
        "contextual_width_global = 1200\n",
        "contextual_height_global = 275\n"
      ],
      "metadata": {
        "id": "3DHJc6c-y3EI"
      },
      "execution_count": 12,
      "outputs": []
    },
    {
      "cell_type": "markdown",
      "source": [
        "# Loading Files"
      ],
      "metadata": {
        "id": "hD4IsUjlwzNZ"
      }
    },
    {
      "cell_type": "code",
      "source": [
        "\n",
        "#Statistical Stats\n",
        "statisticalStatsGdf = gpd.read_file('https://raw.githubusercontent.com/Shai2u/demographic_estimation_dashboard_article/main/dashboard/data/statistical_tract_4326.geojson')\n",
        "statisticalStatsJson = json.loads(statisticalStatsGdf.to_json())\n",
        "#building simulation\n",
        "simulatedBldgsGdf = gpd.read_file('https://raw.githubusercontent.com/Shai2u/demographic_estimation_dashboard_article/main/dashboard/data/buildings_for_dashboard_4326.geojson')\n",
        "simulatedBldgsJson = json.loads(simulatedBldgsGdf.to_json())\n",
        "simulatedBldgsGdf['start_date'] = pd.to_datetime(simulatedBldgsGdf['start_date'])\n",
        "simulatedBldgsGdf['end_date'] = pd.to_datetime(simulatedBldgsGdf['end_date'])\n",
        "#agents track\n",
        "agents_track_status = pd.read_csv('https://raw.githubusercontent.com/Shai2u/demographic_estimation_dashboard_article/main/dashboard/data/agents_track_status.csv')\n",
        "agents_track_status.drop(columns='Unnamed: 0',inplace=True)\n",
        "\n",
        "agents_stat_summary_by_year = pd.read_csv('https://raw.githubusercontent.com/Shai2u/demographic_estimation_dashboard_article/main/dashboard/data/yearly_stats_for_dashboard.csv')\n",
        "\n",
        "year_ranges = agents_stat_summary_by_year['year']\n",
        "\n",
        "color_labels = pd.read_excel(\n",
        "    'https://raw.githubusercontent.com/Shai2u/demographic_estimation_dashboard_article/main/assets/color_labels.xlsx')\n",
        "colorDict = dict(zip(color_labels['label'], color_labels['colors_']))\n",
        "\n",
        "\n",
        "attribution = '© OpenStreetMap contributors, © CARTO'\n",
        "cartoUrl = 'http://basemaps.cartocdn.com/light_all/{z}/{x}/{y}.png'\n",
        "\n",
        "# style =   color: 'red',\n",
        "#                 weight: 10,\n",
        "#                 opacity: .7,\n",
        "#                 dashArray: '20,15',\n",
        "#                 lineJoin: 'round'\n",
        "\n"
      ],
      "metadata": {
        "id": "GLAjUe6hFC_Z"
      },
      "execution_count": 13,
      "outputs": []
    },
    {
      "cell_type": "code",
      "source": [
        "url = 'https://shai2u.github.io/demographic_estimation_dashboard_article/BatYam_maplibre/map.html'\n",
        "r = requests.get(url, allow_redirects=True)\n",
        "open('/content/map.html', 'wb').write(r.content)\n"
      ],
      "metadata": {
        "colab": {
          "base_uri": "https://localhost:8080/"
        },
        "id": "dLcpudDKRNoB",
        "outputId": "09242065-2ba6-4bd3-cccb-0a4a31252f26"
      },
      "execution_count": 14,
      "outputs": [
        {
          "output_type": "execute_result",
          "data": {
            "text/plain": [
              "8581"
            ]
          },
          "metadata": {},
          "execution_count": 14
        }
      ]
    },
    {
      "cell_type": "code",
      "source": [
        ""
      ],
      "metadata": {
        "id": "rao6ZcKoH2eX"
      },
      "execution_count": 14,
      "outputs": []
    },
    {
      "cell_type": "markdown",
      "source": [
        "## variables and parameters"
      ],
      "metadata": {
        "id": "euiUKZdVH23n"
      }
    },
    {
      "cell_type": "code",
      "source": [
        "status_graph_categories = ['Building before','Construction','Building after']\n",
        "status_graph_color = ['rgba(230,230,230, 0.65)','rgba(249,199,15, 0.65)','rgba(68,115,197, 0.65)']"
      ],
      "metadata": {
        "id": "pRgsdKkXH6C2"
      },
      "execution_count": 15,
      "outputs": []
    },
    {
      "cell_type": "code",
      "source": [
        "status_grpah_color_discrete_map = dict(zip(status_graph_categories,status_graph_color))"
      ],
      "metadata": {
        "id": "aqLMJ7AFI4m0"
      },
      "execution_count": 16,
      "outputs": []
    },
    {
      "cell_type": "code",
      "source": [
        "status_grpah_color_discrete_map"
      ],
      "metadata": {
        "colab": {
          "base_uri": "https://localhost:8080/"
        },
        "id": "GnBZkrFzJA51",
        "outputId": "4b5be52d-682e-4165-f26c-5773f41974aa"
      },
      "execution_count": 17,
      "outputs": [
        {
          "output_type": "execute_result",
          "data": {
            "text/plain": [
              "{'Building after': 'rgba(68,115,197, 0.65)',\n",
              " 'Building before': 'rgba(230,230,230, 0.65)',\n",
              " 'Construction': 'rgba(249,199,15, 0.65)'}"
            ]
          },
          "metadata": {},
          "execution_count": 17
        }
      ]
    },
    {
      "cell_type": "code",
      "source": [
        ""
      ],
      "metadata": {
        "id": "QsiXX_AAJBxJ"
      },
      "execution_count": 17,
      "outputs": []
    },
    {
      "cell_type": "code",
      "source": [
        ""
      ],
      "metadata": {
        "id": "7-JzhjVEIU1X"
      },
      "execution_count": 17,
      "outputs": []
    },
    {
      "cell_type": "markdown",
      "source": [
        "# Agents Non Agregated preprocessing"
      ],
      "metadata": {
        "id": "NyUc2YNHyv_y"
      }
    },
    {
      "cell_type": "code",
      "source": [
        "incomeDict = {9000:'Low',19500:'Medium', 1000000:'High'}\n",
        "agents_track_status['income_cat'] = pd.cut(agents_track_status['income'], [0,9000,19500,1000000],right=True, labels=['Low','Medium','High'],ordered=True)\n",
        "\n",
        "agents_track_status.loc[agents_track_status['rent']==1,'rent_own']='Rent'\n",
        "agents_track_status.loc[agents_track_status['rent']==0,'rent_own']='Own'"
      ],
      "metadata": {
        "id": "AO7CEnLqyyy2"
      },
      "execution_count": 18,
      "outputs": []
    },
    {
      "cell_type": "markdown",
      "source": [
        "## Pre-processing"
      ],
      "metadata": {
        "id": "XU6gCvAj58tQ"
      }
    },
    {
      "cell_type": "code",
      "source": [
        "\n",
        "agents_stat_summary_by_year['New Comers'] = agents_stat_summary_by_year['New Comers_income_low'] + agents_stat_summary_by_year['New Comers_income_medium'] +  + agents_stat_summary_by_year['New Comers_income_high']\n",
        "agents_stat_summary_by_year['stay'] = agents_stat_summary_by_year['stay_income_low'] + agents_stat_summary_by_year['stay_income_medium'] +  + agents_stat_summary_by_year['stay_income_high']\n",
        "agents_stat_summary_by_year['total_pop'] = agents_stat_summary_by_year['New Comers'] + agents_stat_summary_by_year['stay']\n",
        "agents_stat_summary_by_year['New Comers_income_low_ratio'] = agents_stat_summary_by_year['New Comers_income_low']/agents_stat_summary_by_year['total_pop']\n",
        "agents_stat_summary_by_year['New Comers_income_medium_ratio'] = agents_stat_summary_by_year['New Comers_income_medium']/agents_stat_summary_by_year['total_pop']\n",
        "agents_stat_summary_by_year['New Comers_income_high_ratio'] = agents_stat_summary_by_year['New Comers_income_high']/agents_stat_summary_by_year['total_pop']\n",
        "\n",
        "agents_stat_summary_by_year['stay_income_low_ratio'] = agents_stat_summary_by_year['stay_income_low']/agents_stat_summary_by_year['total_pop']\n",
        "agents_stat_summary_by_year['stay_income_medium_ratio'] = agents_stat_summary_by_year['stay_income_medium']/agents_stat_summary_by_year['total_pop']\n",
        "agents_stat_summary_by_year['stay_income_high_ratio'] = agents_stat_summary_by_year['stay_income_high']/agents_stat_summary_by_year['total_pop']\n"
      ],
      "metadata": {
        "id": "8VgSw56U5-OD"
      },
      "execution_count": 19,
      "outputs": []
    },
    {
      "cell_type": "markdown",
      "source": [
        "# status graph"
      ],
      "metadata": {
        "id": "R14zxZ0oJo-E"
      }
    },
    {
      "cell_type": "code",
      "source": [
        "# Generate count status graph\n",
        "def get_status_graph(bldg_status):\n",
        "  #\"status\"\n",
        "  fig = px.bar(bldg_status, x='status', y=\"count\",width=600,height=250,color='status',color_discrete_map=status_grpah_color_discrete_map,template='plotly_white',category_orders={'status':['Building before', 'Construction', 'Building after']})\n",
        "  #, pattern_shape_sequence=[\"+\"]\n",
        "  fig.update_layout(margin={\"r\":0,\"t\":0,\"l\":0,\"b\":0,\"pad\":0},\n",
        "  showlegend=False,\n",
        "\n",
        "  # font=dict(\n",
        "  #     size=15,\n",
        "  # )\n",
        "  )\n",
        "  fig.update_yaxes(automargin=True)\n",
        "  fig.update_yaxes(range=[0, 70])\n",
        "    # Add images\n",
        "  fig.add_layout_image(\n",
        "      dict(\n",
        "          source=\"https://raw.githubusercontent.com/Shai2u/demographic_estimation_dashboard_article/main/assets/graphics/Status_Graph.jpg\",\n",
        "           xref=\"paper\", yref=\"paper\",\n",
        "           x=0, y=0,\n",
        "           sizex=1, sizey=1,\n",
        "           xanchor=\"left\", yanchor=\"bottom\",\n",
        "           layer=\"below\"))\n",
        "  fig.update_yaxes(showticklabels=False,visible=False)\n",
        "  fig.update_xaxes(showticklabels=False,visible=False)\n",
        "  fig.update_traces(\n",
        "    #marker=dict(line_color=\"grey\", pattern_fillmode=\"replace\") #excellent!!\n",
        "    marker=dict(line_color=\"black\")\n",
        "  )\n",
        "\n",
        "          \n",
        "  return fig\n"
      ],
      "metadata": {
        "id": "FSJLOhg7OHOt"
      },
      "execution_count": 75,
      "outputs": []
    },
    {
      "cell_type": "markdown",
      "source": [
        "# Dot Matrix"
      ],
      "metadata": {
        "id": "zmxdMbor41Au"
      }
    },
    {
      "cell_type": "code",
      "source": [
        "\n",
        "def exportFigure_sq(list_,date_,MatrixPlot):\n",
        "\n",
        "    # Use column names of df for the different parameters x, y, color, ...\n",
        "    MatrixPlot['Who'] = list_\n",
        "    fig = px.scatter(MatrixPlot, x=\"x\", y=\"y\", color=\"Who\",\n",
        "                     title=f'Staying vs Leaving Snapshot {date_}',\n",
        "                     labels={\"Who\":\"Legend\"}, # customize axis label\n",
        "                     template='simple_white',color_discrete_map={\n",
        "                         \"Staying\": \"orange\",\n",
        "                         \"New Comers\": \"blue\",\n",
        "                         \"Future Units\": \"hsv(0,0%,95%)\"})\n",
        "    fig.update_layout(width=550,height=450,margin=dict(l=0, r=0, t=50, b=0),legend=dict(orientation=\"h\", yanchor=\"top\",y=0.99,xanchor=\"left\",x=0.01))\n",
        "    fig.update_yaxes(showticklabels=False,visible=False)\n",
        "    fig.update_xaxes(showticklabels=False,visible=False)\n",
        "    fig.update_traces(marker=dict(size=6))\n",
        "\n",
        "    return fig"
      ],
      "metadata": {
        "id": "3_Aurtp648xs"
      },
      "execution_count": 67,
      "outputs": []
    },
    {
      "cell_type": "code",
      "source": [
        "\n",
        "#fig.write_image(f'matrixPlot_{ticNumber}.png')\n",
        "\n",
        "#create an empty dataset with agent coutn\n",
        "num_of_agents = 3481\n",
        "MatrixPlot = pd.DataFrame({'AgentID':range(0,num_of_agents)})\n",
        "#Number of Columns choose:\n",
        "numOfColumns=59\n",
        "numOfRows = 59\n",
        "# set the columns to display the column number\n",
        "MatrixPlot['x'] = list(range(1,numOfColumns+1))*numOfRows\n",
        "#prepare the y column (row number)\n",
        "y = [[i]*numOfColumns for i in range(1,numOfRows+1)]\n",
        "temp = []\n",
        "for i in range(0,numOfRows):\n",
        "    temp +=y[i]\n",
        "y = temp\n",
        "MatrixPlot['y'] = y\n",
        "\n",
        "agents_time_new_Comers_stay = agents_stat_summary_by_year[['year','New Comers','stay']].fillna(0)\n",
        "agents_time_new_Comers_stay['emptyPalces'] = num_of_agents -(agents_time_new_Comers_stay['stay'] +agents_time_new_Comers_stay['New Comers'])\n",
        "\n",
        "list_ = ['Staying']* agents_time_new_Comers_stay.loc[20,'stay'].astype(int)\n",
        "list_ = list_ + ['New Comers']*agents_time_new_Comers_stay.loc[20,'New Comers'].astype(int)\n",
        "list_ = list_ + ['Future Units']*agents_time_new_Comers_stay.loc[20,'emptyPalces'].astype(int)\n",
        "dotMAtrixFig1 = exportFigure_sq(list_,('temp'),MatrixPlot)\n",
        "\n"
      ],
      "metadata": {
        "id": "mPSGKKzw42H6"
      },
      "execution_count": 68,
      "outputs": []
    },
    {
      "cell_type": "code",
      "source": [
        ""
      ],
      "metadata": {
        "id": "LEFvuFwSuNXb"
      },
      "execution_count": 68,
      "outputs": []
    },
    {
      "cell_type": "code",
      "source": [
        ""
      ],
      "metadata": {
        "id": "dqK_ViN1uDHQ"
      },
      "execution_count": 68,
      "outputs": []
    },
    {
      "cell_type": "code",
      "source": [
        ""
      ],
      "metadata": {
        "id": "dKMkPMiGt_p_"
      },
      "execution_count": 68,
      "outputs": []
    },
    {
      "cell_type": "markdown",
      "source": [
        "# Contextual Time Series"
      ],
      "metadata": {
        "id": "1VXtP-Hgt3IM"
      }
    },
    {
      "cell_type": "markdown",
      "source": [
        "## renters_owners_graph"
      ],
      "metadata": {
        "id": "sG3ATXWG-kLP"
      }
    },
    {
      "cell_type": "code",
      "source": [
        ""
      ],
      "metadata": {
        "id": "UJPoOKnH-jmS"
      },
      "execution_count": 68,
      "outputs": []
    },
    {
      "cell_type": "code",
      "source": [
        "#fig = px.line(agents_stat_summary_by_year, x=\"year\"})\n",
        "def renters_owners_graph(year_q,q_date):\n",
        "  rent_own_new_stay = agents_stat_summary_by_year[['year','New Comers_rent','New Comers_own','stay_rent','stay_own']].copy().fillna(0)\n",
        "  end_index = rent_own_new_stay[rent_own_new_stay['year']==year_q].index.values[0]\n",
        "  selected_indexes = range(0,end_index+1)\n",
        "  rent_own_new_stayselected = rent_own_new_stay[rent_own_new_stay.index.isin(selected_indexes)]\n",
        "\n",
        "  fig = go.Figure()\n",
        "\n",
        "  fig.add_trace(go.Scatter(\n",
        "      x=year_ranges,\n",
        "      y=rent_own_new_stayselected['New Comers_rent'],\n",
        "      legendgroup=\"New Comers\",  # this can be any string, not just \"group\"\n",
        "      legendgrouptitle_text=\"New Comers\",\n",
        "      name=\"Renters\",\n",
        "      mode=\"lines\",\n",
        "      line=dict(color='royalblue', width=1)\n",
        "  ))\n",
        "\n",
        "\n",
        "  fig.add_trace(go.Scatter(\n",
        "      x=year_ranges,\n",
        "      y=rent_own_new_stayselected['New Comers_own'],\n",
        "      legendgroup=\"New Comers\",  # this can be any string, not just \"group\"\n",
        "      legendgrouptitle_text=\"New Comers\",\n",
        "      name=\"Owners\",\n",
        "      mode=\"lines\",\n",
        "      line=dict(color='royalblue', width=3)\n",
        "  ))\n",
        "\n",
        "\n",
        "  fig.add_trace(go.Scatter(\n",
        "      x=year_ranges,\n",
        "      y=rent_own_new_stayselected['stay_rent'],\n",
        "      legendgroup=\"Staying\",  # this can be any string, not just \"group\"\n",
        "      legendgrouptitle_text=\"Staying\",\n",
        "      name=\"Renters\",\n",
        "      mode=\"lines\",\n",
        "      line=dict(color='firebrick', width=1)\n",
        "  ))\n",
        "\n",
        "\n",
        "  fig.add_trace(go.Scatter(\n",
        "      x=year_ranges,\n",
        "      y=rent_own_new_stayselected['stay_own'],\n",
        "      legendgroup=\"Staying\",  # this can be any string, not just \"group\"\n",
        "      legendgrouptitle_text=\"Staying\",\n",
        "      name=\"Owners\",\n",
        "      mode=\"lines\",\n",
        "      line=dict(color='firebrick', width=5)\n",
        "  ))\n",
        "\n",
        "  fig.add_trace(go.Scatter(x=[q_date, q_date], y=[0,2100],\n",
        "                name=q_date,\n",
        "                legendgroup=\"Reference\",\n",
        "                legendgrouptitle_text=\"Reference\",\n",
        "                mode=\"lines\",\n",
        "                line=dict(color=\"LightSeaGreen\", width=2,dash=\"dashdot\")))\n",
        "  # fig.add_shape(type=\"line\",\n",
        "  #   x0=q_date, y0=0, x1=q_date, y1=2100,\n",
        "  #   line=dict(\n",
        "  #       color=\"LightSeaGreen\",\n",
        "  #       width=2,\n",
        "  #       dash=\"dashdot\",\n",
        "  #   ),\n",
        "  #   name=f\"{q_date} \",\n",
        "  # )\n",
        "\n",
        "  \n",
        "\n",
        "  fig.update_layout(title=\"Staying Laving and Owenrship\",template='plotly_white',yaxis = {'title' : \"Absolute Numbers\"},margin={\"r\":0,\"t\":35,\"l\":0,\"b\":35,\"pad\":0},\n",
        "                    width=contextual_width_global,height=contextual_height_global,legend=dict(orientation=\"h\", yanchor=\"top\",y=0.99,xanchor=\"left\",x=0.01))\n",
        "  fig.update_layout(hovermode=\"x unified\")\n",
        "  fig.update_xaxes(range = [0,len(year_ranges)])\n",
        "  fig.update_yaxes(range = [0,2100])\n",
        "  return fig\n",
        "\n",
        "# set range\n",
        "renters_owners_fig = renters_owners_graph('2015 Q1','2015 Q1')"
      ],
      "metadata": {
        "id": "Gq6DMHAOz3Yw"
      },
      "execution_count": 69,
      "outputs": []
    },
    {
      "cell_type": "code",
      "source": [
        ""
      ],
      "metadata": {
        "id": "DhOlj996-g-6"
      },
      "execution_count": 69,
      "outputs": []
    },
    {
      "cell_type": "markdown",
      "source": [
        "## apartment_graph"
      ],
      "metadata": {
        "id": "G3su9VJk-iHz"
      }
    },
    {
      "cell_type": "code",
      "source": [
        "#fig = px.line(agents_stat_summary_by_year, x=\"year\"})\n",
        "def apartment_graph(year_q,q_date):\n",
        "  df_less_columns = agents_stat_summary_by_year[['year','New Comers_apartment_size_q1','New Comers_apartment_size_q2','New Comers_apartment_size_q3','stay_apartment_size_q1','stay_apartment_size_q2','stay_apartment_size_q3']].copy()\n",
        "  end_index = df_less_columns[df_less_columns['year']==year_q].index.values[0]\n",
        "  selected_indexes = range(0,end_index+1)\n",
        "  df_for_graph = df_less_columns[df_less_columns.index.isin(selected_indexes)]\n",
        "\n",
        "  fig = go.Figure()\n",
        "\n",
        "\n",
        "  #start modification\n",
        "\n",
        "\n",
        "\n",
        "  fig.add_trace(go.Scatter(\n",
        "      x=year_ranges,\n",
        "      y=df_for_graph['New Comers_apartment_size_q1'],\n",
        "      legendgroup=\"New Comers\",  # this can be any string, not just \"group\"\n",
        "      legendgrouptitle_text=\"New Comers\",\n",
        "      name=\"Apartment Size Q1 (25%)\",\n",
        "      mode=\"lines\",\n",
        "      line=dict(color='royalblue', width=1)\n",
        "  ))\n",
        "\n",
        "\n",
        "  fig.add_trace(go.Scatter(\n",
        "      x=year_ranges,\n",
        "      y=df_for_graph['New Comers_apartment_size_q2'],\n",
        "      legendgroup=\"New Comers\",  # this can be any string, not just \"group\"\n",
        "      legendgrouptitle_text=\"New Comers\",\n",
        "      name=\"Apartment Size Q2 (50%)\",\n",
        "      mode=\"lines\",\n",
        "      line=dict(color='royalblue', width=3)\n",
        "  ))\n",
        "\n",
        "\n",
        "  fig.add_trace(go.Scatter(\n",
        "      x=year_ranges,\n",
        "      y=df_for_graph['New Comers_apartment_size_q3'],\n",
        "      legendgroup=\"New Comers\",  # this can be any string, not just \"group\"\n",
        "      legendgrouptitle_text=\"New Comers\",\n",
        "      name=\"Apartment Size Q3 (75%)\",\n",
        "      mode=\"lines\",\n",
        "      line=dict(color='royalblue', width=4)\n",
        "      \n",
        "  ))\n",
        "\n",
        "  fig.add_trace(go.Scatter(\n",
        "      x=year_ranges,\n",
        "      y=df_for_graph['stay_apartment_size_q1'],\n",
        "      legendgroup=\"Staying\",  # this can be any string, not just \"group\"\n",
        "      legendgrouptitle_text=\"Staying\",\n",
        "      name=\"Apartment Size Q1 (25%)\",\n",
        "      mode=\"lines\",\n",
        "      line=dict(color='firebrick', width=1)\n",
        "  ))\n",
        "\n",
        "\n",
        "  fig.add_trace(go.Scatter(\n",
        "      x=year_ranges,\n",
        "      y=df_for_graph['stay_apartment_size_q2'],\n",
        "      legendgroup=\"Staying\",  # this can be any string, not just \"group\"\n",
        "      legendgrouptitle_text=\"Staying\",\n",
        "      name=\"Apartment Size Q2 (50%)\",\n",
        "      mode=\"lines\",\n",
        "      line=dict(color='firebrick', width=3)\n",
        "  ))\n",
        "\n",
        "\n",
        "  fig.add_trace(go.Scatter(\n",
        "      x=year_ranges,\n",
        "      y=df_for_graph['stay_apartment_size_q3'],\n",
        "      legendgroup=\"Staying\",  # this can be any string, not just \"group\"\n",
        "      legendgrouptitle_text=\"Staying\",\n",
        "      name=\"Apartment Size Q3 (75%)\",\n",
        "      mode=\"lines\",\n",
        "      line=dict(color='firebrick', width=4)\n",
        "      \n",
        "  ))\n",
        "\n",
        "  fig.add_trace(go.Scatter(x=[q_date, q_date], y=[50,140],\n",
        "              name=q_date,\n",
        "              legendgroup=\"Reference\",\n",
        "              legendgrouptitle_text=\"Reference\",\n",
        "              mode=\"lines\",\n",
        "              line=dict(color=\"LightSeaGreen\", width=2,dash=\"dashdot\")))\n",
        "\n",
        "  # fig.update_layout(title=\"Apartment Size  (q1-q3) vs Staying or New Comers\",template='plotly_white',yaxis = {'title' : \"m<sup>2</sup>\"})\n",
        "  \n",
        "  fig.update_layout(title=\"Apartment Size quarter distribution for Staying vs New Comers\",template='plotly_white',yaxis = {'title' : \"m<sup>2</sup>\"},margin={\"r\":0,\"t\":35,\"l\":0,\"b\":35,\"pad\":0},\n",
        "                    width=contextual_width_global,height=contextual_height_global,legend=dict(orientation=\"h\", yanchor=\"top\",y=0.99,xanchor=\"left\",x=0.01))\n",
        "\n",
        "  fig.update_layout(hovermode=\"x unified\")\n",
        "\n",
        "  #end modification\n",
        "\n",
        "  fig.update_xaxes(range = [0,len(year_ranges)])\n",
        "  fig.update_yaxes(range = [50,160])\n",
        "  return fig\n",
        "\n",
        "# set range\n",
        "#renters_owners_fig = renters_owners_graph('2015 Q1','2015 Q1')"
      ],
      "metadata": {
        "id": "tMvoIpJw-f_p"
      },
      "execution_count": 70,
      "outputs": []
    },
    {
      "cell_type": "markdown",
      "source": [
        "## change_age_distribution_graph"
      ],
      "metadata": {
        "id": "GRcJNwCbCI8b"
      }
    },
    {
      "cell_type": "code",
      "source": [
        "#fig = px.line(agents_stat_summary_by_year, x=\"year\"})\n",
        "def change_age_distribution_graph(year_q,q_date):\n",
        "  df_less_columns = agents_stat_summary_by_year[['year','New Comers_age_q1','New Comers_age_q2','New Comers_age_q3','stay_age_q1','stay_age_q2','stay_age_q3']].copy()\n",
        "  end_index = df_less_columns[df_less_columns['year']==year_q].index.values[0]\n",
        "  selected_indexes = range(0,end_index+1)\n",
        "  df_for_graph = df_less_columns[df_less_columns.index.isin(selected_indexes)]\n",
        "\n",
        "  fig = go.Figure()\n",
        "\n",
        "\n",
        "  # start modification\n",
        "\n",
        "\n",
        "  fig.add_trace(go.Scatter(\n",
        "      x=year_ranges,\n",
        "      y=df_for_graph['New Comers_age_q1'],\n",
        "      legendgroup=\"New Comers\",  # this can be any string, not just \"group\"\n",
        "      legendgrouptitle_text=\"New Comers\",\n",
        "      name=\"Average age in q1 (25%)\",\n",
        "      mode=\"lines\",\n",
        "      line=dict(color='royalblue', width=1)\n",
        "  ))\n",
        "\n",
        "\n",
        "  fig.add_trace(go.Scatter(\n",
        "      x=year_ranges,\n",
        "      y=df_for_graph['New Comers_age_q2'],\n",
        "      legendgroup=\"New Comers\",  # this can be any string, not just \"group\"\n",
        "      legendgrouptitle_text=\"New Comers\",\n",
        "      name=\"Average age in q2 (50%)\",\n",
        "      mode=\"lines\",\n",
        "      line=dict(color='royalblue', width=3)\n",
        "  ))\n",
        "\n",
        "\n",
        "  fig.add_trace(go.Scatter(\n",
        "      x=year_ranges,\n",
        "      y=df_for_graph['New Comers_age_q3'],\n",
        "      legendgroup=\"New Comers\",  # this can be any string, not just \"group\"\n",
        "      legendgrouptitle_text=\"New Comers\",\n",
        "      name=\"Average age in q3 (75%)\",\n",
        "      mode=\"lines\",\n",
        "      line=dict(color='royalblue', width=4)\n",
        "      \n",
        "  ))\n",
        "\n",
        "  fig.add_trace(go.Scatter(\n",
        "      x=year_ranges,\n",
        "      y=df_for_graph['stay_age_q1'],\n",
        "      legendgroup=\"Staying\",  # this can be any string, not just \"group\"\n",
        "      legendgrouptitle_text=\"Staying\",\n",
        "      name=\"Average age in q1 (25%)\",\n",
        "      mode=\"lines\",\n",
        "      line=dict(color='firebrick', width=1)\n",
        "  ))\n",
        "\n",
        "\n",
        "  fig.add_trace(go.Scatter(\n",
        "      x=year_ranges,\n",
        "      y=df_for_graph['stay_age_q2'],\n",
        "      legendgroup=\"Staying\",  # this can be any string, not just \"group\"\n",
        "      legendgrouptitle_text=\"Staying\",\n",
        "      name=\"Average age in q2 (50%)\",\n",
        "      mode=\"lines\",\n",
        "      line=dict(color='firebrick', width=3)\n",
        "  ))\n",
        "\n",
        "\n",
        "  fig.add_trace(go.Scatter(\n",
        "      x=year_ranges,\n",
        "      y=df_for_graph['stay_age_q3'],\n",
        "      legendgroup=\"Staying\",  # this can be any string, not just \"group\"\n",
        "      legendgrouptitle_text=\"Staying\",\n",
        "      name=\"Average age in q2 (75%)\",\n",
        "      mode=\"lines\",\n",
        "      line=dict(color='firebrick', width=4)\n",
        "      \n",
        "  ))\n",
        "\n",
        "  \n",
        "\n",
        "  fig.add_trace(go.Scatter(x=[q_date, q_date], y=[20,100],\n",
        "              name=q_date,\n",
        "              legendgroup=\"Reference\",\n",
        "              legendgrouptitle_text=\"Reference\",\n",
        "              mode=\"lines\",\n",
        "              line=dict(color=\"LightSeaGreen\", width=2,dash=\"dashdot\")))\n",
        "  \n",
        "  fig.update_layout(title=\"Age quarter distribution for Staying vs New Comers\",template='plotly_white',yaxis = {'title' : \"Average Age\"},margin={\"r\":0,\"t\":35,\"l\":0,\"b\":35,\"pad\":0},\n",
        "                    width=contextual_width_global,height=contextual_height_global,legend=dict(orientation=\"h\", yanchor=\"top\",y=0.99,xanchor=\"left\",x=0.01))\n",
        "  fig.update_layout(hovermode=\"x unified\")\n",
        "\n",
        "  fig.update_xaxes(range = [0,len(year_ranges)])\n",
        "  fig.update_yaxes(range = [20,110])\n",
        "  #end modification\n",
        "\n",
        "  return fig\n",
        "\n",
        "# set range\n",
        "graph = change_age_distribution_graph('2025 Q1','2015 Q1')"
      ],
      "metadata": {
        "id": "_I3v8pKyCHJJ"
      },
      "execution_count": 71,
      "outputs": []
    },
    {
      "cell_type": "code",
      "source": [
        ""
      ],
      "metadata": {
        "id": "O0cPwYy3GECq"
      },
      "execution_count": 71,
      "outputs": []
    },
    {
      "cell_type": "markdown",
      "source": [
        "## income_distribution_graph"
      ],
      "metadata": {
        "id": "J9-9IHikGGFT"
      }
    },
    {
      "cell_type": "code",
      "source": [
        "#fig = px.line(agents_stat_summary_by_year, x=\"year\"})\n",
        "def income_distribution_graph(year_q,q_date):\n",
        "  df_less_columns = agents_stat_summary_by_year[['year','New Comers_income_q1','New Comers_income_q2','New Comers_income_q3','stay_income_q1','stay_income_q2','stay_income_q3']].copy()\n",
        "  end_index = df_less_columns[df_less_columns['year']==year_q].index.values[0]\n",
        "  selected_indexes = range(0,end_index+1)\n",
        "  df_for_graph = df_less_columns[df_less_columns.index.isin(selected_indexes)]\n",
        "\n",
        "  fig = go.Figure()\n",
        "\n",
        "\n",
        "\n",
        "\n",
        "  #start modification\n",
        "\n",
        "\n",
        "\n",
        "  fig.add_trace(go.Scatter(\n",
        "      x=year_ranges,\n",
        "      y=df_for_graph['New Comers_income_q1'],\n",
        "      legendgroup=\"New Comers\",  # this can be any string, not just \"group\"\n",
        "      legendgrouptitle_text=\"New Comers\",\n",
        "      name=\"Income Q1 (25%)\",\n",
        "      mode=\"lines\",\n",
        "      line=dict(color='royalblue', width=1)\n",
        "  ))\n",
        "\n",
        "\n",
        "  fig.add_trace(go.Scatter(\n",
        "      x=year_ranges,\n",
        "      y=df_for_graph['New Comers_income_q2'],\n",
        "      legendgroup=\"New Comers\",  # this can be any string, not just \"group\"\n",
        "      legendgrouptitle_text=\"New Comers\",\n",
        "      name=\"Income Q2 (50%)\",\n",
        "      mode=\"lines\",\n",
        "      line=dict(color='royalblue', width=3)\n",
        "  ))\n",
        "\n",
        "\n",
        "  fig.add_trace(go.Scatter(\n",
        "      x=year_ranges,\n",
        "      y=df_for_graph['New Comers_income_q3'],\n",
        "      legendgroup=\"New Comers\",  # this can be any string, not just \"group\"\n",
        "      legendgrouptitle_text=\"New Comers\",\n",
        "      name=\"Income Q3 (75%)\",\n",
        "      mode=\"lines\",\n",
        "      line=dict(color='royalblue', width=4)\n",
        "      \n",
        "  ))\n",
        "\n",
        "  fig.add_trace(go.Scatter(\n",
        "      x=year_ranges,\n",
        "      y=df_for_graph['stay_income_q1'],\n",
        "      legendgroup=\"Staying\",  # this can be any string, not just \"group\"\n",
        "      legendgrouptitle_text=\"Staying\",\n",
        "      name=\"Icome Q1 (25%)\",\n",
        "      mode=\"lines\",\n",
        "      line=dict(color='firebrick', width=1)\n",
        "  ))\n",
        "\n",
        "\n",
        "  fig.add_trace(go.Scatter(\n",
        "      x=year_ranges,\n",
        "      y=df_for_graph['stay_income_q2'],\n",
        "      legendgroup=\"Staying\",  # this can be any string, not just \"group\"\n",
        "      legendgrouptitle_text=\"Staying\",\n",
        "      name=\"Income Q2 (50%)\",\n",
        "      mode=\"lines\",\n",
        "      line=dict(color='firebrick', width=3)\n",
        "  ))\n",
        "\n",
        "\n",
        "  fig.add_trace(go.Scatter(\n",
        "      x=year_ranges,\n",
        "      y=df_for_graph['stay_income_q3'],\n",
        "      legendgroup=\"Staying\",  # this can be any string, not just \"group\"\n",
        "      legendgrouptitle_text=\"Staying\",\n",
        "      name=\"Income Q3 (75%)\",\n",
        "      mode=\"lines\",\n",
        "      line=dict(color='firebrick', width=4)\n",
        "      \n",
        "  ))\n",
        "\n",
        "\n",
        "\n",
        "  fig.add_trace(go.Scatter(x=[q_date, q_date], y=[0,40000],\n",
        "              name=q_date,\n",
        "              legendgroup=\"Reference\",\n",
        "              legendgrouptitle_text=\"Reference\",\n",
        "              mode=\"lines\",\n",
        "              line=dict(color=\"LightSeaGreen\", width=2,dash=\"dashdot\")))\n",
        "  \n",
        "\n",
        "  fig.update_layout(title=\"Income quarter distribution for Staying vs New Comers\",template='plotly_white',yaxis = {'title' : \"Inocme (New Israeli Shekels)\"},margin={\"r\":0,\"t\":35,\"l\":0,\"b\":35,\"pad\":0},\n",
        "                    width=contextual_width_global,height=contextual_height_global,legend=dict(orientation=\"h\", yanchor=\"top\",y=0.99,xanchor=\"left\",x=0.01))\n",
        "  fig.update_layout(hovermode=\"x unified\")\n",
        "\n",
        "\n",
        "  fig.update_xaxes(range = [0,len(year_ranges)])\n",
        "  fig.update_yaxes(range = [0,40000])\n",
        "\n",
        "  #end modification\n",
        "\n",
        "  return fig\n",
        "\n",
        "# set range\n",
        "graph = income_distribution_graph('2025 Q1','2015 Q1')"
      ],
      "metadata": {
        "id": "Ea7yQTtaGEF7"
      },
      "execution_count": 72,
      "outputs": []
    },
    {
      "cell_type": "code",
      "source": [
        "renters_owners_fig"
      ],
      "metadata": {
        "id": "SR-wCK-qaJPA",
        "colab": {
          "base_uri": "https://localhost:8080/",
          "height": 292
        },
        "outputId": "83748bf1-7fe7-49c8-87ea-26da8dd5e234"
      },
      "execution_count": 73,
      "outputs": [
        {
          "output_type": "display_data",
          "data": {
            "text/html": [
              "<html>\n",
              "<head><meta charset=\"utf-8\" /></head>\n",
              "<body>\n",
              "    <div>            <script src=\"https://cdnjs.cloudflare.com/ajax/libs/mathjax/2.7.5/MathJax.js?config=TeX-AMS-MML_SVG\"></script><script type=\"text/javascript\">if (window.MathJax) {MathJax.Hub.Config({SVG: {font: \"STIX-Web\"}});}</script>                <script type=\"text/javascript\">window.PlotlyConfig = {MathJaxConfig: 'local'};</script>\n",
              "        <script src=\"https://cdn.plot.ly/plotly-2.8.3.min.js\"></script>                <div id=\"edc97a75-f3fc-43a1-bac4-92f2eb64837c\" class=\"plotly-graph-div\" style=\"height:275px; width:1200px;\"></div>            <script type=\"text/javascript\">                                    window.PLOTLYENV=window.PLOTLYENV || {};                                    if (document.getElementById(\"edc97a75-f3fc-43a1-bac4-92f2eb64837c\")) {                    Plotly.newPlot(                        \"edc97a75-f3fc-43a1-bac4-92f2eb64837c\",                        [{\"legendgroup\":\"New Comers\",\"legendgrouptitle\":{\"text\":\"New Comers\"},\"line\":{\"color\":\"royalblue\",\"width\":1},\"mode\":\"lines\",\"name\":\"Renters\",\"x\":[\"2015 Q1\",\"2015 Q3\",\"2016 Q1\",\"2016 Q3\",\"2017 Q1\",\"2017 Q3\",\"2018 Q1\",\"2018 Q3\",\"2019 Q1\",\"2019 Q3\",\"2020 Q1\",\"2020 Q3\",\"2021 Q1\",\"2021 Q3\",\"2022 Q1\",\"2022 Q3\",\"2023 Q1\",\"2023 Q3\",\"2024 Q1\",\"2024 Q3\",\"2025 Q1\",\"2025 Q3\",\"2026 Q1\",\"2026 Q3\",\"2027 Q1\",\"2027 Q3\",\"2028 Q1\",\"2028 Q3\",\"2029 Q1\",\"2029 Q3\",\"2030 Q1\",\"2030 Q3\"],\"y\":[0.0],\"type\":\"scatter\"},{\"legendgroup\":\"New Comers\",\"legendgrouptitle\":{\"text\":\"New Comers\"},\"line\":{\"color\":\"royalblue\",\"width\":3},\"mode\":\"lines\",\"name\":\"Owners\",\"x\":[\"2015 Q1\",\"2015 Q3\",\"2016 Q1\",\"2016 Q3\",\"2017 Q1\",\"2017 Q3\",\"2018 Q1\",\"2018 Q3\",\"2019 Q1\",\"2019 Q3\",\"2020 Q1\",\"2020 Q3\",\"2021 Q1\",\"2021 Q3\",\"2022 Q1\",\"2022 Q3\",\"2023 Q1\",\"2023 Q3\",\"2024 Q1\",\"2024 Q3\",\"2025 Q1\",\"2025 Q3\",\"2026 Q1\",\"2026 Q3\",\"2027 Q1\",\"2027 Q3\",\"2028 Q1\",\"2028 Q3\",\"2029 Q1\",\"2029 Q3\",\"2030 Q1\",\"2030 Q3\"],\"y\":[0.0],\"type\":\"scatter\"},{\"legendgroup\":\"Staying\",\"legendgrouptitle\":{\"text\":\"Staying\"},\"line\":{\"color\":\"firebrick\",\"width\":1},\"mode\":\"lines\",\"name\":\"Renters\",\"x\":[\"2015 Q1\",\"2015 Q3\",\"2016 Q1\",\"2016 Q3\",\"2017 Q1\",\"2017 Q3\",\"2018 Q1\",\"2018 Q3\",\"2019 Q1\",\"2019 Q3\",\"2020 Q1\",\"2020 Q3\",\"2021 Q1\",\"2021 Q3\",\"2022 Q1\",\"2022 Q3\",\"2023 Q1\",\"2023 Q3\",\"2024 Q1\",\"2024 Q3\",\"2025 Q1\",\"2025 Q3\",\"2026 Q1\",\"2026 Q3\",\"2027 Q1\",\"2027 Q3\",\"2028 Q1\",\"2028 Q3\",\"2029 Q1\",\"2029 Q3\",\"2030 Q1\",\"2030 Q3\"],\"y\":[318],\"type\":\"scatter\"},{\"legendgroup\":\"Staying\",\"legendgrouptitle\":{\"text\":\"Staying\"},\"line\":{\"color\":\"firebrick\",\"width\":5},\"mode\":\"lines\",\"name\":\"Owners\",\"x\":[\"2015 Q1\",\"2015 Q3\",\"2016 Q1\",\"2016 Q3\",\"2017 Q1\",\"2017 Q3\",\"2018 Q1\",\"2018 Q3\",\"2019 Q1\",\"2019 Q3\",\"2020 Q1\",\"2020 Q3\",\"2021 Q1\",\"2021 Q3\",\"2022 Q1\",\"2022 Q3\",\"2023 Q1\",\"2023 Q3\",\"2024 Q1\",\"2024 Q3\",\"2025 Q1\",\"2025 Q3\",\"2026 Q1\",\"2026 Q3\",\"2027 Q1\",\"2027 Q3\",\"2028 Q1\",\"2028 Q3\",\"2029 Q1\",\"2029 Q3\",\"2030 Q1\",\"2030 Q3\"],\"y\":[579],\"type\":\"scatter\"},{\"legendgroup\":\"Reference\",\"legendgrouptitle\":{\"text\":\"Reference\"},\"line\":{\"color\":\"LightSeaGreen\",\"dash\":\"dashdot\",\"width\":2},\"mode\":\"lines\",\"name\":\"2015 Q1\",\"x\":[\"2015 Q1\",\"2015 Q1\"],\"y\":[0,2100],\"type\":\"scatter\"}],                        {\"template\":{\"data\":{\"barpolar\":[{\"marker\":{\"line\":{\"color\":\"white\",\"width\":0.5},\"pattern\":{\"fillmode\":\"overlay\",\"size\":10,\"solidity\":0.2}},\"type\":\"barpolar\"}],\"bar\":[{\"error_x\":{\"color\":\"#2a3f5f\"},\"error_y\":{\"color\":\"#2a3f5f\"},\"marker\":{\"line\":{\"color\":\"white\",\"width\":0.5},\"pattern\":{\"fillmode\":\"overlay\",\"size\":10,\"solidity\":0.2}},\"type\":\"bar\"}],\"carpet\":[{\"aaxis\":{\"endlinecolor\":\"#2a3f5f\",\"gridcolor\":\"#C8D4E3\",\"linecolor\":\"#C8D4E3\",\"minorgridcolor\":\"#C8D4E3\",\"startlinecolor\":\"#2a3f5f\"},\"baxis\":{\"endlinecolor\":\"#2a3f5f\",\"gridcolor\":\"#C8D4E3\",\"linecolor\":\"#C8D4E3\",\"minorgridcolor\":\"#C8D4E3\",\"startlinecolor\":\"#2a3f5f\"},\"type\":\"carpet\"}],\"choropleth\":[{\"colorbar\":{\"outlinewidth\":0,\"ticks\":\"\"},\"type\":\"choropleth\"}],\"contourcarpet\":[{\"colorbar\":{\"outlinewidth\":0,\"ticks\":\"\"},\"type\":\"contourcarpet\"}],\"contour\":[{\"colorbar\":{\"outlinewidth\":0,\"ticks\":\"\"},\"colorscale\":[[0.0,\"#0d0887\"],[0.1111111111111111,\"#46039f\"],[0.2222222222222222,\"#7201a8\"],[0.3333333333333333,\"#9c179e\"],[0.4444444444444444,\"#bd3786\"],[0.5555555555555556,\"#d8576b\"],[0.6666666666666666,\"#ed7953\"],[0.7777777777777778,\"#fb9f3a\"],[0.8888888888888888,\"#fdca26\"],[1.0,\"#f0f921\"]],\"type\":\"contour\"}],\"heatmapgl\":[{\"colorbar\":{\"outlinewidth\":0,\"ticks\":\"\"},\"colorscale\":[[0.0,\"#0d0887\"],[0.1111111111111111,\"#46039f\"],[0.2222222222222222,\"#7201a8\"],[0.3333333333333333,\"#9c179e\"],[0.4444444444444444,\"#bd3786\"],[0.5555555555555556,\"#d8576b\"],[0.6666666666666666,\"#ed7953\"],[0.7777777777777778,\"#fb9f3a\"],[0.8888888888888888,\"#fdca26\"],[1.0,\"#f0f921\"]],\"type\":\"heatmapgl\"}],\"heatmap\":[{\"colorbar\":{\"outlinewidth\":0,\"ticks\":\"\"},\"colorscale\":[[0.0,\"#0d0887\"],[0.1111111111111111,\"#46039f\"],[0.2222222222222222,\"#7201a8\"],[0.3333333333333333,\"#9c179e\"],[0.4444444444444444,\"#bd3786\"],[0.5555555555555556,\"#d8576b\"],[0.6666666666666666,\"#ed7953\"],[0.7777777777777778,\"#fb9f3a\"],[0.8888888888888888,\"#fdca26\"],[1.0,\"#f0f921\"]],\"type\":\"heatmap\"}],\"histogram2dcontour\":[{\"colorbar\":{\"outlinewidth\":0,\"ticks\":\"\"},\"colorscale\":[[0.0,\"#0d0887\"],[0.1111111111111111,\"#46039f\"],[0.2222222222222222,\"#7201a8\"],[0.3333333333333333,\"#9c179e\"],[0.4444444444444444,\"#bd3786\"],[0.5555555555555556,\"#d8576b\"],[0.6666666666666666,\"#ed7953\"],[0.7777777777777778,\"#fb9f3a\"],[0.8888888888888888,\"#fdca26\"],[1.0,\"#f0f921\"]],\"type\":\"histogram2dcontour\"}],\"histogram2d\":[{\"colorbar\":{\"outlinewidth\":0,\"ticks\":\"\"},\"colorscale\":[[0.0,\"#0d0887\"],[0.1111111111111111,\"#46039f\"],[0.2222222222222222,\"#7201a8\"],[0.3333333333333333,\"#9c179e\"],[0.4444444444444444,\"#bd3786\"],[0.5555555555555556,\"#d8576b\"],[0.6666666666666666,\"#ed7953\"],[0.7777777777777778,\"#fb9f3a\"],[0.8888888888888888,\"#fdca26\"],[1.0,\"#f0f921\"]],\"type\":\"histogram2d\"}],\"histogram\":[{\"marker\":{\"pattern\":{\"fillmode\":\"overlay\",\"size\":10,\"solidity\":0.2}},\"type\":\"histogram\"}],\"mesh3d\":[{\"colorbar\":{\"outlinewidth\":0,\"ticks\":\"\"},\"type\":\"mesh3d\"}],\"parcoords\":[{\"line\":{\"colorbar\":{\"outlinewidth\":0,\"ticks\":\"\"}},\"type\":\"parcoords\"}],\"pie\":[{\"automargin\":true,\"type\":\"pie\"}],\"scatter3d\":[{\"line\":{\"colorbar\":{\"outlinewidth\":0,\"ticks\":\"\"}},\"marker\":{\"colorbar\":{\"outlinewidth\":0,\"ticks\":\"\"}},\"type\":\"scatter3d\"}],\"scattercarpet\":[{\"marker\":{\"colorbar\":{\"outlinewidth\":0,\"ticks\":\"\"}},\"type\":\"scattercarpet\"}],\"scattergeo\":[{\"marker\":{\"colorbar\":{\"outlinewidth\":0,\"ticks\":\"\"}},\"type\":\"scattergeo\"}],\"scattergl\":[{\"marker\":{\"colorbar\":{\"outlinewidth\":0,\"ticks\":\"\"}},\"type\":\"scattergl\"}],\"scattermapbox\":[{\"marker\":{\"colorbar\":{\"outlinewidth\":0,\"ticks\":\"\"}},\"type\":\"scattermapbox\"}],\"scatterpolargl\":[{\"marker\":{\"colorbar\":{\"outlinewidth\":0,\"ticks\":\"\"}},\"type\":\"scatterpolargl\"}],\"scatterpolar\":[{\"marker\":{\"colorbar\":{\"outlinewidth\":0,\"ticks\":\"\"}},\"type\":\"scatterpolar\"}],\"scatter\":[{\"marker\":{\"colorbar\":{\"outlinewidth\":0,\"ticks\":\"\"}},\"type\":\"scatter\"}],\"scatterternary\":[{\"marker\":{\"colorbar\":{\"outlinewidth\":0,\"ticks\":\"\"}},\"type\":\"scatterternary\"}],\"surface\":[{\"colorbar\":{\"outlinewidth\":0,\"ticks\":\"\"},\"colorscale\":[[0.0,\"#0d0887\"],[0.1111111111111111,\"#46039f\"],[0.2222222222222222,\"#7201a8\"],[0.3333333333333333,\"#9c179e\"],[0.4444444444444444,\"#bd3786\"],[0.5555555555555556,\"#d8576b\"],[0.6666666666666666,\"#ed7953\"],[0.7777777777777778,\"#fb9f3a\"],[0.8888888888888888,\"#fdca26\"],[1.0,\"#f0f921\"]],\"type\":\"surface\"}],\"table\":[{\"cells\":{\"fill\":{\"color\":\"#EBF0F8\"},\"line\":{\"color\":\"white\"}},\"header\":{\"fill\":{\"color\":\"#C8D4E3\"},\"line\":{\"color\":\"white\"}},\"type\":\"table\"}]},\"layout\":{\"annotationdefaults\":{\"arrowcolor\":\"#2a3f5f\",\"arrowhead\":0,\"arrowwidth\":1},\"autotypenumbers\":\"strict\",\"coloraxis\":{\"colorbar\":{\"outlinewidth\":0,\"ticks\":\"\"}},\"colorscale\":{\"diverging\":[[0,\"#8e0152\"],[0.1,\"#c51b7d\"],[0.2,\"#de77ae\"],[0.3,\"#f1b6da\"],[0.4,\"#fde0ef\"],[0.5,\"#f7f7f7\"],[0.6,\"#e6f5d0\"],[0.7,\"#b8e186\"],[0.8,\"#7fbc41\"],[0.9,\"#4d9221\"],[1,\"#276419\"]],\"sequential\":[[0.0,\"#0d0887\"],[0.1111111111111111,\"#46039f\"],[0.2222222222222222,\"#7201a8\"],[0.3333333333333333,\"#9c179e\"],[0.4444444444444444,\"#bd3786\"],[0.5555555555555556,\"#d8576b\"],[0.6666666666666666,\"#ed7953\"],[0.7777777777777778,\"#fb9f3a\"],[0.8888888888888888,\"#fdca26\"],[1.0,\"#f0f921\"]],\"sequentialminus\":[[0.0,\"#0d0887\"],[0.1111111111111111,\"#46039f\"],[0.2222222222222222,\"#7201a8\"],[0.3333333333333333,\"#9c179e\"],[0.4444444444444444,\"#bd3786\"],[0.5555555555555556,\"#d8576b\"],[0.6666666666666666,\"#ed7953\"],[0.7777777777777778,\"#fb9f3a\"],[0.8888888888888888,\"#fdca26\"],[1.0,\"#f0f921\"]]},\"colorway\":[\"#636efa\",\"#EF553B\",\"#00cc96\",\"#ab63fa\",\"#FFA15A\",\"#19d3f3\",\"#FF6692\",\"#B6E880\",\"#FF97FF\",\"#FECB52\"],\"font\":{\"color\":\"#2a3f5f\"},\"geo\":{\"bgcolor\":\"white\",\"lakecolor\":\"white\",\"landcolor\":\"white\",\"showlakes\":true,\"showland\":true,\"subunitcolor\":\"#C8D4E3\"},\"hoverlabel\":{\"align\":\"left\"},\"hovermode\":\"closest\",\"mapbox\":{\"style\":\"light\"},\"paper_bgcolor\":\"white\",\"plot_bgcolor\":\"white\",\"polar\":{\"angularaxis\":{\"gridcolor\":\"#EBF0F8\",\"linecolor\":\"#EBF0F8\",\"ticks\":\"\"},\"bgcolor\":\"white\",\"radialaxis\":{\"gridcolor\":\"#EBF0F8\",\"linecolor\":\"#EBF0F8\",\"ticks\":\"\"}},\"scene\":{\"xaxis\":{\"backgroundcolor\":\"white\",\"gridcolor\":\"#DFE8F3\",\"gridwidth\":2,\"linecolor\":\"#EBF0F8\",\"showbackground\":true,\"ticks\":\"\",\"zerolinecolor\":\"#EBF0F8\"},\"yaxis\":{\"backgroundcolor\":\"white\",\"gridcolor\":\"#DFE8F3\",\"gridwidth\":2,\"linecolor\":\"#EBF0F8\",\"showbackground\":true,\"ticks\":\"\",\"zerolinecolor\":\"#EBF0F8\"},\"zaxis\":{\"backgroundcolor\":\"white\",\"gridcolor\":\"#DFE8F3\",\"gridwidth\":2,\"linecolor\":\"#EBF0F8\",\"showbackground\":true,\"ticks\":\"\",\"zerolinecolor\":\"#EBF0F8\"}},\"shapedefaults\":{\"line\":{\"color\":\"#2a3f5f\"}},\"ternary\":{\"aaxis\":{\"gridcolor\":\"#DFE8F3\",\"linecolor\":\"#A2B1C6\",\"ticks\":\"\"},\"baxis\":{\"gridcolor\":\"#DFE8F3\",\"linecolor\":\"#A2B1C6\",\"ticks\":\"\"},\"bgcolor\":\"white\",\"caxis\":{\"gridcolor\":\"#DFE8F3\",\"linecolor\":\"#A2B1C6\",\"ticks\":\"\"}},\"title\":{\"x\":0.05},\"xaxis\":{\"automargin\":true,\"gridcolor\":\"#EBF0F8\",\"linecolor\":\"#EBF0F8\",\"ticks\":\"\",\"title\":{\"standoff\":15},\"zerolinecolor\":\"#EBF0F8\",\"zerolinewidth\":2},\"yaxis\":{\"automargin\":true,\"gridcolor\":\"#EBF0F8\",\"linecolor\":\"#EBF0F8\",\"ticks\":\"\",\"title\":{\"standoff\":15},\"zerolinecolor\":\"#EBF0F8\",\"zerolinewidth\":2}}},\"margin\":{\"r\":0,\"t\":35,\"l\":0,\"b\":35,\"pad\":0},\"legend\":{\"orientation\":\"h\",\"yanchor\":\"top\",\"y\":0.99,\"xanchor\":\"left\",\"x\":0.01},\"title\":{\"text\":\"Staying Laving and Owenrship\"},\"yaxis\":{\"title\":{\"text\":\"Absolute Numbers\"},\"range\":[0,2100]},\"width\":1200,\"height\":275,\"hovermode\":\"x unified\",\"xaxis\":{\"range\":[0,32]}},                        {\"responsive\": true}                    ).then(function(){\n",
              "                            \n",
              "var gd = document.getElementById('edc97a75-f3fc-43a1-bac4-92f2eb64837c');\n",
              "var x = new MutationObserver(function (mutations, observer) {{\n",
              "        var display = window.getComputedStyle(gd).display;\n",
              "        if (!display || display === 'none') {{\n",
              "            console.log([gd, 'removed!']);\n",
              "            Plotly.purge(gd);\n",
              "            observer.disconnect();\n",
              "        }}\n",
              "}});\n",
              "\n",
              "// Listen for the removal of the full notebook cells\n",
              "var notebookContainer = gd.closest('#notebook-container');\n",
              "if (notebookContainer) {{\n",
              "    x.observe(notebookContainer, {childList: true});\n",
              "}}\n",
              "\n",
              "// Listen for the clearing of the current output cell\n",
              "var outputEl = gd.closest('.output');\n",
              "if (outputEl) {{\n",
              "    x.observe(outputEl, {childList: true});\n",
              "}}\n",
              "\n",
              "                        })                };                            </script>        </div>\n",
              "</body>\n",
              "</html>"
            ]
          },
          "metadata": {}
        }
      ]
    },
    {
      "cell_type": "markdown",
      "source": [
        "## income_category_graph"
      ],
      "metadata": {
        "id": "Uzhg9Vm8Ie7Q"
      }
    },
    {
      "cell_type": "code",
      "source": [
        "#fig = px.line(agents_stat_summary_by_year, x=\"year\"})\n",
        "def income_category_graph(year_q,q_date):\n",
        "  df_less_columns = agents_stat_summary_by_year[['year','New Comers_income_low_ratio','New Comers_income_medium_ratio','New Comers_income_high_ratio','stay_income_low_ratio','stay_income_medium_ratio','stay_income_high_ratio']].copy()\n",
        "  end_index = df_less_columns[df_less_columns['year']==year_q].index.values[0]\n",
        "  selected_indexes = range(0,end_index+1)\n",
        "  df_for_graph = df_less_columns[df_less_columns.index.isin(selected_indexes)]\n",
        "\n",
        "  fig = go.Figure()\n",
        "\n",
        "\n",
        "  #start modification\n",
        "\n",
        "\n",
        "\n",
        "  fig.add_trace(go.Scatter(\n",
        "      x=year_ranges,\n",
        "      y=df_for_graph['New Comers_income_low_ratio'],\n",
        "      legendgroup=\"New Comers\",  # this can be any string, not just \"group\"\n",
        "      legendgrouptitle_text=\"New Comers\",\n",
        "      name=\"Low Inocme\",\n",
        "      mode=\"lines\",\n",
        "      line=dict(color='royalblue', width=1)\n",
        "  ))\n",
        "\n",
        "\n",
        "  fig.add_trace(go.Scatter(\n",
        "      x=year_ranges,\n",
        "      y=df_for_graph['New Comers_income_medium_ratio'],\n",
        "      legendgroup=\"New Comers\",  # this can be any string, not just \"group\"\n",
        "      legendgrouptitle_text=\"New Comers\",\n",
        "      name=\"Medium Income\",\n",
        "      mode=\"lines\",\n",
        "      line=dict(color='royalblue', width=3)\n",
        "  ))\n",
        "\n",
        "\n",
        "\n",
        "  fig.add_trace(go.Scatter(\n",
        "      x=year_ranges,\n",
        "      y=df_for_graph['New Comers_income_high_ratio'],\n",
        "      legendgroup=\"New Comers\",  # this can be any string, not just \"group\"\n",
        "      legendgrouptitle_text=\"New Comers\",\n",
        "      name=\"High Income\",\n",
        "      mode=\"lines\",\n",
        "      line=dict(color='royalblue', width=5)\n",
        "  ))\n",
        "\n",
        "  fig.add_trace(go.Scatter(\n",
        "      x=year_ranges,\n",
        "      y=df_for_graph['stay_income_low_ratio'],\n",
        "      legendgroup=\"Staying\",  # this can be any string, not just \"group\"\n",
        "      legendgrouptitle_text=\"Staying\",\n",
        "      name=\"Low Income\",\n",
        "      mode=\"lines\",\n",
        "      line=dict(color='firebrick', width=1)\n",
        "  ))\n",
        "\n",
        "\n",
        "  fig.add_trace(go.Scatter(\n",
        "      x=year_ranges,\n",
        "      y=df_for_graph['stay_income_medium_ratio'],\n",
        "      legendgroup=\"Staying\",  # this can be any string, not just \"group\"\n",
        "      legendgrouptitle_text=\"Staying\",\n",
        "      name=\"Medium Income\",\n",
        "      mode=\"lines\",\n",
        "      line=dict(color='firebrick', width=3)\n",
        "  ))\n",
        "\n",
        "\n",
        "  fig.add_trace(go.Scatter(\n",
        "      x=year_ranges,\n",
        "      y=df_for_graph['stay_income_high_ratio'],\n",
        "      legendgroup=\"Staying\",  # this can be any string, not just \"group\"\n",
        "      legendgrouptitle_text=\"Staying\",\n",
        "      name=\"High Income\",\n",
        "      mode=\"lines\",\n",
        "      line=dict(color='firebrick', width=5)\n",
        "  ))\n",
        "\n",
        "\n",
        "\n",
        "\n",
        "  fig.add_trace(go.Scatter(x=[q_date, q_date], y=[0,1],\n",
        "              name=q_date,\n",
        "              legendgroup=\"Reference\",\n",
        "              legendgrouptitle_text=\"Reference\",\n",
        "              mode=\"lines\",\n",
        "              line=dict(color=\"LightSeaGreen\", width=2,dash=\"dashdot\")))\n",
        "  \n",
        "\n",
        "  fig.update_layout(title=\"Income by class for Staying vs New Comers\",template='plotly_white',yaxis = {'title' : \"ratio\"},margin={\"r\":0,\"t\":35,\"l\":0,\"b\":35,\"pad\":0},\n",
        "                    width=contextual_width_global,height=contextual_height_global,legend=dict(orientation=\"h\", yanchor=\"top\",y=0.99,xanchor=\"left\",x=0.01))\n",
        "  fig.update_layout(hovermode=\"x unified\")\n",
        "\n",
        "\n",
        "  fig.update_xaxes(range = [0,len(year_ranges)])\n",
        "  fig.update_yaxes(range = [0,1])\n",
        "\n",
        "\n",
        "  #end modification\n",
        "\n",
        "  return fig\n",
        "\n",
        "# set range\n",
        "graph = income_category_graph('2025 Q1','2015 Q1')"
      ],
      "metadata": {
        "id": "TsDkvE_mIcJH"
      },
      "execution_count": 51,
      "outputs": []
    },
    {
      "cell_type": "markdown",
      "source": [
        "# Construction"
      ],
      "metadata": {
        "id": "sd9xLBgrsB-h"
      }
    },
    {
      "cell_type": "code",
      "source": [
        "\n",
        "\n",
        "\n",
        "def construction_typo_graph_generator(construction_typo_v,construction_typo_d):\n",
        "\n",
        "  try:\n",
        "    v_a = construction_typo_v[construction_typo_v['project_ty']==1]['count'].values[0]\n",
        "  except:\n",
        "    v_a = 0\n",
        "  try:\n",
        "    v_r = construction_typo_v[construction_typo_v['project_ty']==2]['count'].values[0]\n",
        "  except:\n",
        "    v_r = 0\n",
        "  try:\n",
        "    v_rr = construction_typo_v[construction_typo_v['project_ty']==3]['count'].values[0]\n",
        "  except:\n",
        "    v_rr = 0\n",
        "\n",
        "  try:\n",
        "    d_a = construction_typo_d[construction_typo_d['project_ty']==1]['count'].values[0]\n",
        "  except:\n",
        "    d_a = 0\n",
        "  try:\n",
        "    d_r = construction_typo_d[construction_typo_d['project_ty']==2]['count'].values[0]\n",
        "  except:\n",
        "    d_r = 0\n",
        "  try:\n",
        "    d_rr = construction_typo_d[construction_typo_d['project_ty']==3]['count'].values[0]\n",
        "  except:\n",
        "    d_rr = 0\n",
        "  fig = go.Figure()\n",
        "\n",
        "  fig.add_trace(go.Indicator(\n",
        "      mode = \"number+delta\",\n",
        "      value = v_a,\n",
        "      domain = {'x': [0.05, 0.25], 'y': [0.75, 0.9]},\n",
        "      number_font_color=\"#2052a7\",\n",
        "      \n",
        "      delta = {'reference': d_a, 'relative': True,'valueformat':'.2%'}))\n",
        "\n",
        "  fig.add_trace(go.Indicator(\n",
        "      mode = \"number+delta\",\n",
        "      value = v_r,\n",
        "      domain = {'x': [0.3, 0.5], 'y': [0.75, 0.9]},\n",
        "      number_font_color=\"#4c84cb\",\n",
        "      delta = {'reference': d_r, 'relative': True,'valueformat':'.2%'}))\n",
        "\n",
        "  fig.add_trace(go.Indicator(\n",
        "      mode = \"number+delta\",\n",
        "      value = v_rr,\n",
        "      domain = {'x': [0.6, 0.80], 'y': [0.75, 0.9]},\n",
        "      number_font_color=\"#87b1eb\",\n",
        "      delta = {'reference': d_rr, 'relative': True,'valueformat':'.2%'}))\n",
        "\n",
        "\n",
        "  # Add images\n",
        "  fig.add_layout_image(\n",
        "          dict(\n",
        "              source=\"https://raw.githubusercontent.com/Shai2u/demographic_estimation_dashboard_article/main/assets/graphics/Building_Typology_png.png\",\n",
        "              xref=\"paper\", yref=\"paper\",\n",
        "              x=0, y=0,\n",
        "              sizex=1, sizey=1,\n",
        "              xanchor=\"left\", yanchor=\"bottom\",\n",
        "              layer=\"below\")\n",
        "  )\n",
        "\n",
        "  fig.update_layout(template=\"plotly_white\",margin={\"r\":0,\"t\":0,\"l\":0,\"b\":0,\"pad\":0},width=600,height=250)\n",
        "  return fig\n"
      ],
      "metadata": {
        "id": "Ltdhi9CHrJYS"
      },
      "execution_count": 140,
      "outputs": []
    },
    {
      "cell_type": "code",
      "source": [
        "d = pd.to_datetime('2015-01-01')\n",
        "d2 = d - datetime.timedelta(days=180)\n",
        "bldgs1 = simulatedBldgsGdf[(simulatedBldgsGdf['start_date']< d ) & (simulatedBldgsGdf['end_date']> d )].copy().reset_index(drop=True)\n",
        "\n",
        "bldgs_constr = bldgs1[bldgs1['status']=='Construction'].reset_index()\n",
        "#Add all columns\n",
        "# bldg_status = bldgs1['status'].value_counts().to_frame().reset_index()\n",
        "# bldg_status.rename(columns={'index':'status','status':'count'},inplace=True)\n",
        "\n",
        "# if len(bldg_status)<3:\n",
        "#   if len(bldg_status[bldg_status['status'].isin(['Building before'])])==0:\n",
        "#     bldg_status = pd.concat([bldg_status,pd.DataFrame({'status':['Building before'],'count':[0]})]).reset_index(drop=True)\n",
        "#   if len(bldg_status[bldg_status['status'].isin(['Construction'])])==0:\n",
        "#     bldg_status = pd.concat([bldg_status,pd.DataFrame({'status':['Construction'],'count':[0]})]).reset_index(drop=True)\n",
        "#   if len(bldg_status[bldg_status['status'].isin(['Building after'])])==0:\n",
        "#     bldg_status = pd.concat([bldg_status,pd.DataFrame({'status':['Building after'],'count':[0]})]).reset_index(drop=True)\n",
        "\n",
        "construction_typo_v = bldgs_constr['project_ty'].value_counts().to_frame().reset_index()\n",
        "construction_typo_v.rename(columns={'index':'project_ty','project_ty':'count'},inplace=True)\n",
        "bldgs2 = simulatedBldgsGdf[(simulatedBldgsGdf['start_date']< d2 ) & (simulatedBldgsGdf['end_date']> d2 )].copy().reset_index(drop=True)\n",
        "\n",
        "bldgs_constr = bldgs2[bldgs2['status']=='Construction'].reset_index()\n",
        "\n",
        "construction_typo_d = bldgs_constr['project_ty'].value_counts().to_frame().reset_index()\n",
        "construction_typo_d.rename(columns={'index':'project_ty','project_ty':'count'},inplace=True)\n",
        "construction_typo_graph = construction_typo_graph_generator(construction_typo_v,construction_typo_d)"
      ],
      "metadata": {
        "id": "sjpShjKJ2bKb"
      },
      "execution_count": 141,
      "outputs": []
    },
    {
      "cell_type": "code",
      "source": [
        "construction_typo_graph"
      ],
      "metadata": {
        "colab": {
          "base_uri": "https://localhost:8080/",
          "height": 267
        },
        "id": "xVdapDZ3hEHE",
        "outputId": "6a859ed7-df9c-4aad-ea21-dc7d6a0a6ee7"
      },
      "execution_count": 142,
      "outputs": [
        {
          "output_type": "display_data",
          "data": {
            "text/html": [
              "<html>\n",
              "<head><meta charset=\"utf-8\" /></head>\n",
              "<body>\n",
              "    <div>            <script src=\"https://cdnjs.cloudflare.com/ajax/libs/mathjax/2.7.5/MathJax.js?config=TeX-AMS-MML_SVG\"></script><script type=\"text/javascript\">if (window.MathJax) {MathJax.Hub.Config({SVG: {font: \"STIX-Web\"}});}</script>                <script type=\"text/javascript\">window.PlotlyConfig = {MathJaxConfig: 'local'};</script>\n",
              "        <script src=\"https://cdn.plot.ly/plotly-2.8.3.min.js\"></script>                <div id=\"3ef8b6f0-f773-458c-8288-262ef30ff55f\" class=\"plotly-graph-div\" style=\"height:250px; width:600px;\"></div>            <script type=\"text/javascript\">                                    window.PLOTLYENV=window.PLOTLYENV || {};                                    if (document.getElementById(\"3ef8b6f0-f773-458c-8288-262ef30ff55f\")) {                    Plotly.newPlot(                        \"3ef8b6f0-f773-458c-8288-262ef30ff55f\",                        [{\"delta\":{\"reference\":0,\"relative\":true,\"valueformat\":\".2%\"},\"domain\":{\"x\":[0.05,0.25],\"y\":[0.75,0.9]},\"mode\":\"number+delta\",\"number\":{\"font\":{\"color\":\"#2052a7\"}},\"value\":0,\"type\":\"indicator\"},{\"delta\":{\"reference\":0,\"relative\":true,\"valueformat\":\".2%\"},\"domain\":{\"x\":[0.3,0.5],\"y\":[0.75,0.9]},\"mode\":\"number+delta\",\"number\":{\"font\":{\"color\":\"#4c84cb\"}},\"value\":0,\"type\":\"indicator\"},{\"delta\":{\"reference\":0,\"relative\":true,\"valueformat\":\".2%\"},\"domain\":{\"x\":[0.6,0.8],\"y\":[0.75,0.9]},\"mode\":\"number+delta\",\"number\":{\"font\":{\"color\":\"#87b1eb\"}},\"value\":0,\"type\":\"indicator\"}],                        {\"template\":{\"data\":{\"barpolar\":[{\"marker\":{\"line\":{\"color\":\"white\",\"width\":0.5},\"pattern\":{\"fillmode\":\"overlay\",\"size\":10,\"solidity\":0.2}},\"type\":\"barpolar\"}],\"bar\":[{\"error_x\":{\"color\":\"#2a3f5f\"},\"error_y\":{\"color\":\"#2a3f5f\"},\"marker\":{\"line\":{\"color\":\"white\",\"width\":0.5},\"pattern\":{\"fillmode\":\"overlay\",\"size\":10,\"solidity\":0.2}},\"type\":\"bar\"}],\"carpet\":[{\"aaxis\":{\"endlinecolor\":\"#2a3f5f\",\"gridcolor\":\"#C8D4E3\",\"linecolor\":\"#C8D4E3\",\"minorgridcolor\":\"#C8D4E3\",\"startlinecolor\":\"#2a3f5f\"},\"baxis\":{\"endlinecolor\":\"#2a3f5f\",\"gridcolor\":\"#C8D4E3\",\"linecolor\":\"#C8D4E3\",\"minorgridcolor\":\"#C8D4E3\",\"startlinecolor\":\"#2a3f5f\"},\"type\":\"carpet\"}],\"choropleth\":[{\"colorbar\":{\"outlinewidth\":0,\"ticks\":\"\"},\"type\":\"choropleth\"}],\"contourcarpet\":[{\"colorbar\":{\"outlinewidth\":0,\"ticks\":\"\"},\"type\":\"contourcarpet\"}],\"contour\":[{\"colorbar\":{\"outlinewidth\":0,\"ticks\":\"\"},\"colorscale\":[[0.0,\"#0d0887\"],[0.1111111111111111,\"#46039f\"],[0.2222222222222222,\"#7201a8\"],[0.3333333333333333,\"#9c179e\"],[0.4444444444444444,\"#bd3786\"],[0.5555555555555556,\"#d8576b\"],[0.6666666666666666,\"#ed7953\"],[0.7777777777777778,\"#fb9f3a\"],[0.8888888888888888,\"#fdca26\"],[1.0,\"#f0f921\"]],\"type\":\"contour\"}],\"heatmapgl\":[{\"colorbar\":{\"outlinewidth\":0,\"ticks\":\"\"},\"colorscale\":[[0.0,\"#0d0887\"],[0.1111111111111111,\"#46039f\"],[0.2222222222222222,\"#7201a8\"],[0.3333333333333333,\"#9c179e\"],[0.4444444444444444,\"#bd3786\"],[0.5555555555555556,\"#d8576b\"],[0.6666666666666666,\"#ed7953\"],[0.7777777777777778,\"#fb9f3a\"],[0.8888888888888888,\"#fdca26\"],[1.0,\"#f0f921\"]],\"type\":\"heatmapgl\"}],\"heatmap\":[{\"colorbar\":{\"outlinewidth\":0,\"ticks\":\"\"},\"colorscale\":[[0.0,\"#0d0887\"],[0.1111111111111111,\"#46039f\"],[0.2222222222222222,\"#7201a8\"],[0.3333333333333333,\"#9c179e\"],[0.4444444444444444,\"#bd3786\"],[0.5555555555555556,\"#d8576b\"],[0.6666666666666666,\"#ed7953\"],[0.7777777777777778,\"#fb9f3a\"],[0.8888888888888888,\"#fdca26\"],[1.0,\"#f0f921\"]],\"type\":\"heatmap\"}],\"histogram2dcontour\":[{\"colorbar\":{\"outlinewidth\":0,\"ticks\":\"\"},\"colorscale\":[[0.0,\"#0d0887\"],[0.1111111111111111,\"#46039f\"],[0.2222222222222222,\"#7201a8\"],[0.3333333333333333,\"#9c179e\"],[0.4444444444444444,\"#bd3786\"],[0.5555555555555556,\"#d8576b\"],[0.6666666666666666,\"#ed7953\"],[0.7777777777777778,\"#fb9f3a\"],[0.8888888888888888,\"#fdca26\"],[1.0,\"#f0f921\"]],\"type\":\"histogram2dcontour\"}],\"histogram2d\":[{\"colorbar\":{\"outlinewidth\":0,\"ticks\":\"\"},\"colorscale\":[[0.0,\"#0d0887\"],[0.1111111111111111,\"#46039f\"],[0.2222222222222222,\"#7201a8\"],[0.3333333333333333,\"#9c179e\"],[0.4444444444444444,\"#bd3786\"],[0.5555555555555556,\"#d8576b\"],[0.6666666666666666,\"#ed7953\"],[0.7777777777777778,\"#fb9f3a\"],[0.8888888888888888,\"#fdca26\"],[1.0,\"#f0f921\"]],\"type\":\"histogram2d\"}],\"histogram\":[{\"marker\":{\"pattern\":{\"fillmode\":\"overlay\",\"size\":10,\"solidity\":0.2}},\"type\":\"histogram\"}],\"mesh3d\":[{\"colorbar\":{\"outlinewidth\":0,\"ticks\":\"\"},\"type\":\"mesh3d\"}],\"parcoords\":[{\"line\":{\"colorbar\":{\"outlinewidth\":0,\"ticks\":\"\"}},\"type\":\"parcoords\"}],\"pie\":[{\"automargin\":true,\"type\":\"pie\"}],\"scatter3d\":[{\"line\":{\"colorbar\":{\"outlinewidth\":0,\"ticks\":\"\"}},\"marker\":{\"colorbar\":{\"outlinewidth\":0,\"ticks\":\"\"}},\"type\":\"scatter3d\"}],\"scattercarpet\":[{\"marker\":{\"colorbar\":{\"outlinewidth\":0,\"ticks\":\"\"}},\"type\":\"scattercarpet\"}],\"scattergeo\":[{\"marker\":{\"colorbar\":{\"outlinewidth\":0,\"ticks\":\"\"}},\"type\":\"scattergeo\"}],\"scattergl\":[{\"marker\":{\"colorbar\":{\"outlinewidth\":0,\"ticks\":\"\"}},\"type\":\"scattergl\"}],\"scattermapbox\":[{\"marker\":{\"colorbar\":{\"outlinewidth\":0,\"ticks\":\"\"}},\"type\":\"scattermapbox\"}],\"scatterpolargl\":[{\"marker\":{\"colorbar\":{\"outlinewidth\":0,\"ticks\":\"\"}},\"type\":\"scatterpolargl\"}],\"scatterpolar\":[{\"marker\":{\"colorbar\":{\"outlinewidth\":0,\"ticks\":\"\"}},\"type\":\"scatterpolar\"}],\"scatter\":[{\"marker\":{\"colorbar\":{\"outlinewidth\":0,\"ticks\":\"\"}},\"type\":\"scatter\"}],\"scatterternary\":[{\"marker\":{\"colorbar\":{\"outlinewidth\":0,\"ticks\":\"\"}},\"type\":\"scatterternary\"}],\"surface\":[{\"colorbar\":{\"outlinewidth\":0,\"ticks\":\"\"},\"colorscale\":[[0.0,\"#0d0887\"],[0.1111111111111111,\"#46039f\"],[0.2222222222222222,\"#7201a8\"],[0.3333333333333333,\"#9c179e\"],[0.4444444444444444,\"#bd3786\"],[0.5555555555555556,\"#d8576b\"],[0.6666666666666666,\"#ed7953\"],[0.7777777777777778,\"#fb9f3a\"],[0.8888888888888888,\"#fdca26\"],[1.0,\"#f0f921\"]],\"type\":\"surface\"}],\"table\":[{\"cells\":{\"fill\":{\"color\":\"#EBF0F8\"},\"line\":{\"color\":\"white\"}},\"header\":{\"fill\":{\"color\":\"#C8D4E3\"},\"line\":{\"color\":\"white\"}},\"type\":\"table\"}]},\"layout\":{\"annotationdefaults\":{\"arrowcolor\":\"#2a3f5f\",\"arrowhead\":0,\"arrowwidth\":1},\"autotypenumbers\":\"strict\",\"coloraxis\":{\"colorbar\":{\"outlinewidth\":0,\"ticks\":\"\"}},\"colorscale\":{\"diverging\":[[0,\"#8e0152\"],[0.1,\"#c51b7d\"],[0.2,\"#de77ae\"],[0.3,\"#f1b6da\"],[0.4,\"#fde0ef\"],[0.5,\"#f7f7f7\"],[0.6,\"#e6f5d0\"],[0.7,\"#b8e186\"],[0.8,\"#7fbc41\"],[0.9,\"#4d9221\"],[1,\"#276419\"]],\"sequential\":[[0.0,\"#0d0887\"],[0.1111111111111111,\"#46039f\"],[0.2222222222222222,\"#7201a8\"],[0.3333333333333333,\"#9c179e\"],[0.4444444444444444,\"#bd3786\"],[0.5555555555555556,\"#d8576b\"],[0.6666666666666666,\"#ed7953\"],[0.7777777777777778,\"#fb9f3a\"],[0.8888888888888888,\"#fdca26\"],[1.0,\"#f0f921\"]],\"sequentialminus\":[[0.0,\"#0d0887\"],[0.1111111111111111,\"#46039f\"],[0.2222222222222222,\"#7201a8\"],[0.3333333333333333,\"#9c179e\"],[0.4444444444444444,\"#bd3786\"],[0.5555555555555556,\"#d8576b\"],[0.6666666666666666,\"#ed7953\"],[0.7777777777777778,\"#fb9f3a\"],[0.8888888888888888,\"#fdca26\"],[1.0,\"#f0f921\"]]},\"colorway\":[\"#636efa\",\"#EF553B\",\"#00cc96\",\"#ab63fa\",\"#FFA15A\",\"#19d3f3\",\"#FF6692\",\"#B6E880\",\"#FF97FF\",\"#FECB52\"],\"font\":{\"color\":\"#2a3f5f\"},\"geo\":{\"bgcolor\":\"white\",\"lakecolor\":\"white\",\"landcolor\":\"white\",\"showlakes\":true,\"showland\":true,\"subunitcolor\":\"#C8D4E3\"},\"hoverlabel\":{\"align\":\"left\"},\"hovermode\":\"closest\",\"mapbox\":{\"style\":\"light\"},\"paper_bgcolor\":\"white\",\"plot_bgcolor\":\"white\",\"polar\":{\"angularaxis\":{\"gridcolor\":\"#EBF0F8\",\"linecolor\":\"#EBF0F8\",\"ticks\":\"\"},\"bgcolor\":\"white\",\"radialaxis\":{\"gridcolor\":\"#EBF0F8\",\"linecolor\":\"#EBF0F8\",\"ticks\":\"\"}},\"scene\":{\"xaxis\":{\"backgroundcolor\":\"white\",\"gridcolor\":\"#DFE8F3\",\"gridwidth\":2,\"linecolor\":\"#EBF0F8\",\"showbackground\":true,\"ticks\":\"\",\"zerolinecolor\":\"#EBF0F8\"},\"yaxis\":{\"backgroundcolor\":\"white\",\"gridcolor\":\"#DFE8F3\",\"gridwidth\":2,\"linecolor\":\"#EBF0F8\",\"showbackground\":true,\"ticks\":\"\",\"zerolinecolor\":\"#EBF0F8\"},\"zaxis\":{\"backgroundcolor\":\"white\",\"gridcolor\":\"#DFE8F3\",\"gridwidth\":2,\"linecolor\":\"#EBF0F8\",\"showbackground\":true,\"ticks\":\"\",\"zerolinecolor\":\"#EBF0F8\"}},\"shapedefaults\":{\"line\":{\"color\":\"#2a3f5f\"}},\"ternary\":{\"aaxis\":{\"gridcolor\":\"#DFE8F3\",\"linecolor\":\"#A2B1C6\",\"ticks\":\"\"},\"baxis\":{\"gridcolor\":\"#DFE8F3\",\"linecolor\":\"#A2B1C6\",\"ticks\":\"\"},\"bgcolor\":\"white\",\"caxis\":{\"gridcolor\":\"#DFE8F3\",\"linecolor\":\"#A2B1C6\",\"ticks\":\"\"}},\"title\":{\"x\":0.05},\"xaxis\":{\"automargin\":true,\"gridcolor\":\"#EBF0F8\",\"linecolor\":\"#EBF0F8\",\"ticks\":\"\",\"title\":{\"standoff\":15},\"zerolinecolor\":\"#EBF0F8\",\"zerolinewidth\":2},\"yaxis\":{\"automargin\":true,\"gridcolor\":\"#EBF0F8\",\"linecolor\":\"#EBF0F8\",\"ticks\":\"\",\"title\":{\"standoff\":15},\"zerolinecolor\":\"#EBF0F8\",\"zerolinewidth\":2}}},\"images\":[{\"layer\":\"below\",\"sizex\":1,\"sizey\":1,\"source\":\"https://raw.githubusercontent.com/Shai2u/demographic_estimation_dashboard_article/main/assets/graphics/Building_Typology_png.png\",\"x\":0,\"xanchor\":\"left\",\"xref\":\"paper\",\"y\":0,\"yanchor\":\"bottom\",\"yref\":\"paper\"}],\"margin\":{\"r\":0,\"t\":0,\"l\":0,\"b\":0,\"pad\":0},\"width\":600,\"height\":250},                        {\"responsive\": true}                    ).then(function(){\n",
              "                            \n",
              "var gd = document.getElementById('3ef8b6f0-f773-458c-8288-262ef30ff55f');\n",
              "var x = new MutationObserver(function (mutations, observer) {{\n",
              "        var display = window.getComputedStyle(gd).display;\n",
              "        if (!display || display === 'none') {{\n",
              "            console.log([gd, 'removed!']);\n",
              "            Plotly.purge(gd);\n",
              "            observer.disconnect();\n",
              "        }}\n",
              "}});\n",
              "\n",
              "// Listen for the removal of the full notebook cells\n",
              "var notebookContainer = gd.closest('#notebook-container');\n",
              "if (notebookContainer) {{\n",
              "    x.observe(notebookContainer, {childList: true});\n",
              "}}\n",
              "\n",
              "// Listen for the clearing of the current output cell\n",
              "var outputEl = gd.closest('.output');\n",
              "if (outputEl) {{\n",
              "    x.observe(outputEl, {childList: true});\n",
              "}}\n",
              "\n",
              "                        })                };                            </script>        </div>\n",
              "</body>\n",
              "</html>"
            ]
          },
          "metadata": {}
        }
      ]
    },
    {
      "cell_type": "code",
      "source": [
        ""
      ],
      "metadata": {
        "id": "BM76xwYbhFtA"
      },
      "execution_count": 142,
      "outputs": []
    },
    {
      "cell_type": "code",
      "source": [
        ""
      ],
      "metadata": {
        "id": "XjEYngbf4owr"
      },
      "execution_count": 142,
      "outputs": []
    },
    {
      "cell_type": "markdown",
      "source": [
        "# Suburst"
      ],
      "metadata": {
        "id": "HL42yCjd4qs6"
      }
    },
    {
      "cell_type": "code",
      "source": [
        "def demographic_sunburst(year_q,agents_stay_age_income,colorDict):\n",
        "  title_ = f'{year_q} : Population composition snapshot'\n",
        "  # color_discrete_map = color_group_map_\n",
        "  fig = px.sunburst(agents_stay_age_income, path=['Stay or leave','Age group','Income category'], title=title_)\n",
        "\n",
        "  labels_text = fig.data[0].labels.tolist()\n",
        "  colorLabels = tuple(colorDict[item] for item in labels_text)\n",
        "  fig.data[0].marker.colors = colorLabels\n",
        "  fig.update_traces(textinfo=\"label+percent entry\")\n",
        "  fig.update_layout(showlegend=False, margin=dict(l=0, r=0, t=50, b=0), width=500, height=450)\n",
        "  return fig\n"
      ],
      "metadata": {
        "id": "2ZSlyt2lu3cV"
      },
      "execution_count": 143,
      "outputs": []
    },
    {
      "cell_type": "code",
      "source": [
        "\n",
        "year_makrs = [year for year in np.arange(2015,2031,0.5)]\n",
        "years_with_q2_makrs = []\n",
        "for year in year_makrs:\n",
        "    d = pd.to_datetime(f'{int(year)}-07-01')\n",
        "    if year % 1 == 0:\n",
        "        d = pd.to_datetime(f'{int(year)}-01-01')\n",
        "    years_with_q2_makrs.append(d)\n",
        "    \n",
        "d = pd.to_datetime('2015-01-01')\n",
        "bldgs  = simulatedBldgsGdf[(simulatedBldgsGdf['start_date']< d ) & (simulatedBldgsGdf['end_date']> d )].copy().reset_index(drop=True)\n",
        "bldgs1 = bldgs.copy()\n",
        "agents_synced_buildings_to_date = pd.merge(agents_track_status,bldgs1[['project_nu','status','start_date']],left_on=['ProjNumber','bld_status'], right_on=['project_nu','status'])\n",
        "agents_synced_buildings_to_date_stay_new = agents_synced_buildings_to_date[agents_synced_buildings_to_date['status_x']!='Leave'].drop_duplicates().reset_index(drop=True)\n",
        "\n",
        "age_grown1 = d.year-years_with_q2_makrs[0].year\n",
        "agents_synced_buildings_to_date_stay_new.loc[agents_synced_buildings_to_date_stay_new['status_x']=='stay','age'] = agents_synced_buildings_to_date_stay_new.loc[agents_synced_buildings_to_date_stay_new['status_x']=='stay','age'] + age_grown1\n",
        "agents_synced_buildings_to_date_stay_new.loc[agents_synced_buildings_to_date_stay_new['status_x']=='New Comers','age'] = agents_synced_buildings_to_date_stay_new.loc[agents_synced_buildings_to_date_stay_new['status_x']=='New Comers'].apply(lambda p: p['age'] + (d.year - p['start_date'].year),axis=1)\n",
        "\n",
        "agents_synced_buildings_to_date_stay_new['age_group'] = pd.cut(agents_synced_buildings_to_date_stay_new['age'], [0,44,64,84,130],right=True, labels=[\"18-44\", \"45-64\", \"65-84\", \"85+\"],ordered=True)\n",
        "agents_stay_age_income =agents_synced_buildings_to_date_stay_new[['status_x','age_group','income_cat']].reset_index(drop=True).rename(columns={'status_x':'Stay or leave','age_group':'Age group','income_cat':'Income category'})"
      ],
      "metadata": {
        "id": "6gLAdhHq38ZQ"
      },
      "execution_count": 144,
      "outputs": []
    },
    {
      "cell_type": "code",
      "source": [
        "population_sunburst_graph_init = demographic_sunburst(2019,agents_stay_age_income,colorDict)"
      ],
      "metadata": {
        "id": "DWf3XdJL2mvw"
      },
      "execution_count": 145,
      "outputs": []
    },
    {
      "cell_type": "markdown",
      "source": [
        "# Bubble Figure"
      ],
      "metadata": {
        "id": "6cn9yXeNgrgp"
      }
    },
    {
      "cell_type": "code",
      "source": [
        "def bubble_age_income_stay_time(StayAgeIncome_ReftedDate,NewComersAgeIncome_RefDate,StayAgeIncome_SelectedDate,NewComersAgeIncome_SelectedDate,ref_date_,date_):\n",
        "  #Reference plot\n",
        "  fig = make_subplots(rows=1, cols=2,subplot_titles=(f\"Reference Date {ref_date_}\", f\"Current Date {date_}\"))\n",
        "  fig.add_trace(\n",
        "      go.Scatter(x=NewComersAgeIncome_RefDate['Income category'], y=NewComersAgeIncome_RefDate['Age group'], mode=\"markers\",name='New Comers',marker=dict(size=NewComersAgeIncome_RefDate['ratio']*250,opacity=0.5,color='blue'),showlegend=True,hovertemplate='Households %{text}',text = list(NewComersAgeIncome_RefDate['units'])),\n",
        "      row=1, col=1\n",
        "  )\n",
        "  fig.add_trace(\n",
        "      go.Scatter(x=StayAgeIncome_ReftedDate['Income category'], y=StayAgeIncome_ReftedDate['Age group'], mode=\"markers\",name='Staying',marker=dict(size=StayAgeIncome_ReftedDate['ratio']*250,opacity=0.5,color='red'),showlegend=True,hovertemplate='%Households {text}',text = list(StayAgeIncome_ReftedDate['units'])),\n",
        "      row=1, col=1\n",
        "  )\n",
        "  \n",
        "  fig.add_trace(\n",
        "      go.Scatter(x=NewComersAgeIncome_SelectedDate['Income category'], y=NewComersAgeIncome_SelectedDate['Age group'], mode=\"markers\",name='New Comers',marker=dict(size=NewComersAgeIncome_SelectedDate['ratio']*250,opacity=0.5,color='blue'),showlegend=True,hovertemplate='Households %{text}',text = list(NewComersAgeIncome_SelectedDate['units'])),\n",
        "      row=1, col=2\n",
        "  )\n",
        "  fig.add_trace(\n",
        "      go.Scatter(x=StayAgeIncome_SelectedDate['Income category'], y=StayAgeIncome_SelectedDate['Age group'], mode=\"markers\",name='Staying',marker=dict(size=StayAgeIncome_SelectedDate['ratio']*250,opacity=0.5,color='red'),showlegend=True,hovertemplate='%Households {text}',text = list(StayAgeIncome_SelectedDate['units'])),\n",
        "      row=1, col=2\n",
        "  )\n",
        "  # text = list(StayAgeIncome_SelectedDate['units'])\n",
        "  # hover_text = '%{text}'\n",
        "\n",
        "\n",
        "  #hovertemplate=\"name: %{y}%{x}<br>number: %{marker.symbol}<extra></extra>\")\n",
        "\n",
        "\n",
        "  fig.update_layout(height=475, width=450, title_text=\"Side By Side Subplots\", margin=dict(l=0, r=0, t=50, b=0),legend=dict(orientation=\"h\", yanchor=\"top\",y=0.99,xanchor=\"left\",x=0.01),template='plotly_white')\n",
        "  return fig\n",
        "\n",
        "# get date from function\n",
        "d = pd.to_datetime('2015-01-01')\n",
        "bldgs  = simulatedBldgsGdf[(simulatedBldgsGdf['start_date']< d ) & (simulatedBldgsGdf['end_date']> d )].copy().reset_index(drop=True)\n",
        "bldgs1 = bldgs.copy()\n",
        "\n",
        "agents_synced_buildings_to_date = pd.merge(agents_track_status,bldgs1[['project_nu','status','start_date']],left_on=['ProjNumber','bld_status'], right_on=['project_nu','status'])\n",
        "agents_synced_buildings_to_date_stay_new = agents_synced_buildings_to_date[agents_synced_buildings_to_date['status_x']!='Leave'].drop_duplicates().reset_index(drop=True)\n",
        "\n",
        "#age the agents\n",
        "age_grown1 = d.year-years_with_q2_makrs[0].year\n",
        "agents_synced_buildings_to_date_stay_new.loc[agents_synced_buildings_to_date_stay_new['status_x']=='stay','age'] = agents_synced_buildings_to_date_stay_new.loc[agents_synced_buildings_to_date_stay_new['status_x']=='stay','age'] + age_grown1\n",
        "agents_synced_buildings_to_date_stay_new.loc[agents_synced_buildings_to_date_stay_new['status_x']=='New Comers','age'] = agents_synced_buildings_to_date_stay_new.loc[agents_synced_buildings_to_date_stay_new['status_x']=='New Comers'].apply(lambda p: p['age'] + (d.year - p['start_date'].year),axis=1)\n",
        "\n",
        "#set categories to agents ages\n",
        "agents_synced_buildings_to_date_stay_new['age_group'] = pd.cut(agents_synced_buildings_to_date_stay_new['age'], [0,44,64,84,130],right=True, labels=[\"18-44\", \"45-64\", \"65-84\", \"85+\"],ordered=True)\n",
        "agents_stay_age_income =agents_synced_buildings_to_date_stay_new[['status_x','age_group','income_cat']].reset_index(drop=True).rename(columns={'status_x':'Stay or leave','age_group':'Age group','income_cat':'Income category'})\n",
        "#population_sunburst_graph = demographic_sunburst(2019,agents_stay_age_income,colorDict)\n",
        "agents_stay_age_income['units'] = 1\n",
        "agents_stay_age_income_count = agents_stay_age_income.groupby(['Stay or leave','Age group','Income category']).agg({'units':'count'}).reset_index()\n",
        "new_comers_age_income_count = agents_stay_age_income_count[agents_stay_age_income_count['Stay or leave']=='New Comers'].reset_index(drop=True)\n",
        "stay_age_income_count = agents_stay_age_income_count[agents_stay_age_income_count['Stay or leave']=='stay'].reset_index(drop=True)\n",
        "total = new_comers_age_income_count['units'].sum()+ stay_age_income_count['units'].sum()\n",
        "new_comers_age_income_count['ratio'] = new_comers_age_income_count['units']/total\n",
        "stay_age_income_count['ratio'] = stay_age_income_count['units']/total\n",
        "\n",
        "d_ref = pd.to_datetime('2015-01-01')\n",
        "bldgs  = simulatedBldgsGdf[(simulatedBldgsGdf['start_date']< d_ref ) & (simulatedBldgsGdf['end_date']> d_ref )].copy().reset_index(drop=True)\n",
        "bldgs1 = bldgs.copy()\n",
        "\n",
        "agents_synced_buildings_ref_date = pd.merge(agents_track_status,bldgs1[['project_nu','status','start_date']],left_on=['ProjNumber','bld_status'], right_on=['project_nu','status'])\n",
        "agents_synced_buildings_ref_date_stay_new = agents_synced_buildings_ref_date[agents_synced_buildings_ref_date['status_x']!='Leave'].drop_duplicates().reset_index(drop=True)\n",
        "\n",
        "#age the agents\n",
        "age_grown1 = d_ref.year-years_with_q2_makrs[0].year\n",
        "agents_synced_buildings_ref_date_stay_new.loc[agents_synced_buildings_ref_date_stay_new['status_x']=='stay','age'] = agents_synced_buildings_ref_date_stay_new.loc[agents_synced_buildings_ref_date_stay_new['status_x']=='stay','age'] + age_grown1\n",
        "agents_synced_buildings_ref_date_stay_new.loc[agents_synced_buildings_ref_date_stay_new['status_x']=='New Comers','age'] = agents_synced_buildings_ref_date_stay_new.loc[agents_synced_buildings_ref_date_stay_new['status_x']=='New Comers'].apply(lambda p: p['age'] + (d_ref.year - p['start_date'].year),axis=1)\n",
        "\n",
        "#set categories to agents ages\n",
        "agents_synced_buildings_ref_date_stay_new['age_group'] = pd.cut(agents_synced_buildings_ref_date_stay_new['age'], [0,44,64,84,130],right=True, labels=[\"18-44\", \"45-64\", \"65-84\", \"85+\"],ordered=True)\n",
        "agents_stay_age_income_ref =agents_synced_buildings_ref_date_stay_new[['status_x','age_group','income_cat']].reset_index(drop=True).rename(columns={'status_x':'Stay or leave','age_group':'Age group','income_cat':'Income category'})\n",
        "#population_sunburst_graph = demographic_sunburst(2019,agents_stay_age_income,colorDict)\n",
        "agents_stay_age_income_ref['units'] = 1\n",
        "agents_stay_age_income_ref = agents_stay_age_income_ref.groupby(['Stay or leave','Age group','Income category']).agg({'units':'count'}).reset_index()\n",
        "new_comers_age_income_count_ref = agents_stay_age_income_ref[agents_stay_age_income_ref['Stay or leave']=='New Comers'].reset_index(drop=True)\n",
        "stay_age_income_count_ref = agents_stay_age_income_ref[agents_stay_age_income_ref['Stay or leave']=='stay'].reset_index(drop=True)\n",
        "total_ref = new_comers_age_income_count_ref['units'].sum()+ stay_age_income_count_ref['units'].sum()\n",
        "new_comers_age_income_count_ref['ratio'] = new_comers_age_income_count_ref['units']/total_ref\n",
        "stay_age_income_count_ref['ratio'] = stay_age_income_count_ref['units']/total_ref\n",
        "bubble_age_income = bubble_age_income_stay_time(stay_age_income_count_ref,new_comers_age_income_count_ref,stay_age_income_count,new_comers_age_income_count,'2015 Q1','2015 Q1')\n"
      ],
      "metadata": {
        "id": "-9-5i7qKiAqk"
      },
      "execution_count": 146,
      "outputs": []
    },
    {
      "cell_type": "code",
      "source": [
        "agents_stay_age_income_ref"
      ],
      "metadata": {
        "colab": {
          "base_uri": "https://localhost:8080/",
          "height": 426
        },
        "id": "pFefP7RGp8jE",
        "outputId": "2a519257-697d-4d9f-fdb2-c630751b9b0b"
      },
      "execution_count": 147,
      "outputs": [
        {
          "output_type": "execute_result",
          "data": {
            "text/plain": [
              "   Stay or leave Age group Income category  units\n",
              "0           stay     18-44             Low    266\n",
              "1           stay     18-44          Medium    225\n",
              "2           stay     18-44            High      0\n",
              "3           stay     45-64             Low     89\n",
              "4           stay     45-64          Medium     85\n",
              "5           stay     45-64            High      0\n",
              "6           stay     65-84             Low     75\n",
              "7           stay     65-84          Medium     85\n",
              "8           stay     65-84            High      0\n",
              "9           stay       85+             Low     40\n",
              "10          stay       85+          Medium     32\n",
              "11          stay       85+            High      0"
            ],
            "text/html": [
              "\n",
              "  <div id=\"df-d75c4e78-fd30-4d2e-8b38-e52045ae6bf9\">\n",
              "    <div class=\"colab-df-container\">\n",
              "      <div>\n",
              "<style scoped>\n",
              "    .dataframe tbody tr th:only-of-type {\n",
              "        vertical-align: middle;\n",
              "    }\n",
              "\n",
              "    .dataframe tbody tr th {\n",
              "        vertical-align: top;\n",
              "    }\n",
              "\n",
              "    .dataframe thead th {\n",
              "        text-align: right;\n",
              "    }\n",
              "</style>\n",
              "<table border=\"1\" class=\"dataframe\">\n",
              "  <thead>\n",
              "    <tr style=\"text-align: right;\">\n",
              "      <th></th>\n",
              "      <th>Stay or leave</th>\n",
              "      <th>Age group</th>\n",
              "      <th>Income category</th>\n",
              "      <th>units</th>\n",
              "    </tr>\n",
              "  </thead>\n",
              "  <tbody>\n",
              "    <tr>\n",
              "      <th>0</th>\n",
              "      <td>stay</td>\n",
              "      <td>18-44</td>\n",
              "      <td>Low</td>\n",
              "      <td>266</td>\n",
              "    </tr>\n",
              "    <tr>\n",
              "      <th>1</th>\n",
              "      <td>stay</td>\n",
              "      <td>18-44</td>\n",
              "      <td>Medium</td>\n",
              "      <td>225</td>\n",
              "    </tr>\n",
              "    <tr>\n",
              "      <th>2</th>\n",
              "      <td>stay</td>\n",
              "      <td>18-44</td>\n",
              "      <td>High</td>\n",
              "      <td>0</td>\n",
              "    </tr>\n",
              "    <tr>\n",
              "      <th>3</th>\n",
              "      <td>stay</td>\n",
              "      <td>45-64</td>\n",
              "      <td>Low</td>\n",
              "      <td>89</td>\n",
              "    </tr>\n",
              "    <tr>\n",
              "      <th>4</th>\n",
              "      <td>stay</td>\n",
              "      <td>45-64</td>\n",
              "      <td>Medium</td>\n",
              "      <td>85</td>\n",
              "    </tr>\n",
              "    <tr>\n",
              "      <th>5</th>\n",
              "      <td>stay</td>\n",
              "      <td>45-64</td>\n",
              "      <td>High</td>\n",
              "      <td>0</td>\n",
              "    </tr>\n",
              "    <tr>\n",
              "      <th>6</th>\n",
              "      <td>stay</td>\n",
              "      <td>65-84</td>\n",
              "      <td>Low</td>\n",
              "      <td>75</td>\n",
              "    </tr>\n",
              "    <tr>\n",
              "      <th>7</th>\n",
              "      <td>stay</td>\n",
              "      <td>65-84</td>\n",
              "      <td>Medium</td>\n",
              "      <td>85</td>\n",
              "    </tr>\n",
              "    <tr>\n",
              "      <th>8</th>\n",
              "      <td>stay</td>\n",
              "      <td>65-84</td>\n",
              "      <td>High</td>\n",
              "      <td>0</td>\n",
              "    </tr>\n",
              "    <tr>\n",
              "      <th>9</th>\n",
              "      <td>stay</td>\n",
              "      <td>85+</td>\n",
              "      <td>Low</td>\n",
              "      <td>40</td>\n",
              "    </tr>\n",
              "    <tr>\n",
              "      <th>10</th>\n",
              "      <td>stay</td>\n",
              "      <td>85+</td>\n",
              "      <td>Medium</td>\n",
              "      <td>32</td>\n",
              "    </tr>\n",
              "    <tr>\n",
              "      <th>11</th>\n",
              "      <td>stay</td>\n",
              "      <td>85+</td>\n",
              "      <td>High</td>\n",
              "      <td>0</td>\n",
              "    </tr>\n",
              "  </tbody>\n",
              "</table>\n",
              "</div>\n",
              "      <button class=\"colab-df-convert\" onclick=\"convertToInteractive('df-d75c4e78-fd30-4d2e-8b38-e52045ae6bf9')\"\n",
              "              title=\"Convert this dataframe to an interactive table.\"\n",
              "              style=\"display:none;\">\n",
              "        \n",
              "  <svg xmlns=\"http://www.w3.org/2000/svg\" height=\"24px\"viewBox=\"0 0 24 24\"\n",
              "       width=\"24px\">\n",
              "    <path d=\"M0 0h24v24H0V0z\" fill=\"none\"/>\n",
              "    <path d=\"M18.56 5.44l.94 2.06.94-2.06 2.06-.94-2.06-.94-.94-2.06-.94 2.06-2.06.94zm-11 1L8.5 8.5l.94-2.06 2.06-.94-2.06-.94L8.5 2.5l-.94 2.06-2.06.94zm10 10l.94 2.06.94-2.06 2.06-.94-2.06-.94-.94-2.06-.94 2.06-2.06.94z\"/><path d=\"M17.41 7.96l-1.37-1.37c-.4-.4-.92-.59-1.43-.59-.52 0-1.04.2-1.43.59L10.3 9.45l-7.72 7.72c-.78.78-.78 2.05 0 2.83L4 21.41c.39.39.9.59 1.41.59.51 0 1.02-.2 1.41-.59l7.78-7.78 2.81-2.81c.8-.78.8-2.07 0-2.86zM5.41 20L4 18.59l7.72-7.72 1.47 1.35L5.41 20z\"/>\n",
              "  </svg>\n",
              "      </button>\n",
              "      \n",
              "  <style>\n",
              "    .colab-df-container {\n",
              "      display:flex;\n",
              "      flex-wrap:wrap;\n",
              "      gap: 12px;\n",
              "    }\n",
              "\n",
              "    .colab-df-convert {\n",
              "      background-color: #E8F0FE;\n",
              "      border: none;\n",
              "      border-radius: 50%;\n",
              "      cursor: pointer;\n",
              "      display: none;\n",
              "      fill: #1967D2;\n",
              "      height: 32px;\n",
              "      padding: 0 0 0 0;\n",
              "      width: 32px;\n",
              "    }\n",
              "\n",
              "    .colab-df-convert:hover {\n",
              "      background-color: #E2EBFA;\n",
              "      box-shadow: 0px 1px 2px rgba(60, 64, 67, 0.3), 0px 1px 3px 1px rgba(60, 64, 67, 0.15);\n",
              "      fill: #174EA6;\n",
              "    }\n",
              "\n",
              "    [theme=dark] .colab-df-convert {\n",
              "      background-color: #3B4455;\n",
              "      fill: #D2E3FC;\n",
              "    }\n",
              "\n",
              "    [theme=dark] .colab-df-convert:hover {\n",
              "      background-color: #434B5C;\n",
              "      box-shadow: 0px 1px 3px 1px rgba(0, 0, 0, 0.15);\n",
              "      filter: drop-shadow(0px 1px 2px rgba(0, 0, 0, 0.3));\n",
              "      fill: #FFFFFF;\n",
              "    }\n",
              "  </style>\n",
              "\n",
              "      <script>\n",
              "        const buttonEl =\n",
              "          document.querySelector('#df-d75c4e78-fd30-4d2e-8b38-e52045ae6bf9 button.colab-df-convert');\n",
              "        buttonEl.style.display =\n",
              "          google.colab.kernel.accessAllowed ? 'block' : 'none';\n",
              "\n",
              "        async function convertToInteractive(key) {\n",
              "          const element = document.querySelector('#df-d75c4e78-fd30-4d2e-8b38-e52045ae6bf9');\n",
              "          const dataTable =\n",
              "            await google.colab.kernel.invokeFunction('convertToInteractive',\n",
              "                                                     [key], {});\n",
              "          if (!dataTable) return;\n",
              "\n",
              "          const docLinkHtml = 'Like what you see? Visit the ' +\n",
              "            '<a target=\"_blank\" href=https://colab.research.google.com/notebooks/data_table.ipynb>data table notebook</a>'\n",
              "            + ' to learn more about interactive tables.';\n",
              "          element.innerHTML = '';\n",
              "          dataTable['output_type'] = 'display_data';\n",
              "          await google.colab.output.renderOutput(dataTable, element);\n",
              "          const docLink = document.createElement('div');\n",
              "          docLink.innerHTML = docLinkHtml;\n",
              "          element.appendChild(docLink);\n",
              "        }\n",
              "      </script>\n",
              "    </div>\n",
              "  </div>\n",
              "  "
            ]
          },
          "metadata": {},
          "execution_count": 147
        }
      ]
    },
    {
      "cell_type": "code",
      "source": [
        ""
      ],
      "metadata": {
        "id": "kdPiOeBlqFD9"
      },
      "execution_count": 147,
      "outputs": []
    },
    {
      "cell_type": "code",
      "source": [
        ""
      ],
      "metadata": {
        "id": "0yurLLYnqCgV"
      },
      "execution_count": 147,
      "outputs": []
    },
    {
      "cell_type": "code",
      "source": [
        ""
      ],
      "metadata": {
        "id": "D52TQFxKp-gf"
      },
      "execution_count": 147,
      "outputs": []
    },
    {
      "cell_type": "markdown",
      "source": [
        "# Dash"
      ],
      "metadata": {
        "id": "jqCXjmp2xNSs"
      }
    },
    {
      "cell_type": "code",
      "source": [
        "#authenticate arcgis\n",
        "#gis = GIS(\"https://technion-gis.maps.arcgis.com\",client_id='wI3SgTPXnv2N3B4P')"
      ],
      "metadata": {
        "id": "Y8Kmvq_l6Aau"
      },
      "execution_count": 148,
      "outputs": []
    },
    {
      "cell_type": "code",
      "source": [
        "#!pip install flask_ngrok"
      ],
      "metadata": {
        "id": "SjH9zQVHa-Oa"
      },
      "execution_count": 149,
      "outputs": []
    },
    {
      "cell_type": "code",
      "source": [
        "#from flask_ngrok import run_with_ngrok\n"
      ],
      "metadata": {
        "id": "knCxOKC83Dhl"
      },
      "execution_count": 150,
      "outputs": []
    },
    {
      "cell_type": "code",
      "source": [
        "bldg_status_count"
      ],
      "metadata": {
        "id": "mq6WuaIha8vR",
        "colab": {
          "base_uri": "https://localhost:8080/",
          "height": 267
        },
        "outputId": "8a941eaa-07d1-4611-c341-14a2f4084361"
      },
      "execution_count": 151,
      "outputs": [
        {
          "output_type": "display_data",
          "data": {
            "text/html": [
              "<html>\n",
              "<head><meta charset=\"utf-8\" /></head>\n",
              "<body>\n",
              "    <div>            <script src=\"https://cdnjs.cloudflare.com/ajax/libs/mathjax/2.7.5/MathJax.js?config=TeX-AMS-MML_SVG\"></script><script type=\"text/javascript\">if (window.MathJax) {MathJax.Hub.Config({SVG: {font: \"STIX-Web\"}});}</script>                <script type=\"text/javascript\">window.PlotlyConfig = {MathJaxConfig: 'local'};</script>\n",
              "        <script src=\"https://cdn.plot.ly/plotly-2.8.3.min.js\"></script>                <div id=\"be01a12a-45a2-44a9-bd96-168b8cdd3b37\" class=\"plotly-graph-div\" style=\"height:250px; width:600px;\"></div>            <script type=\"text/javascript\">                                    window.PLOTLYENV=window.PLOTLYENV || {};                                    if (document.getElementById(\"be01a12a-45a2-44a9-bd96-168b8cdd3b37\")) {                    Plotly.newPlot(                        \"be01a12a-45a2-44a9-bd96-168b8cdd3b37\",                        [{\"alignmentgroup\":\"True\",\"hovertemplate\":\"status=%{x}<br>count=%{y}<extra></extra>\",\"legendgroup\":\"Building before\",\"marker\":{\"color\":\"rgba(230,230,230, 0.65)\",\"pattern\":{\"shape\":\"\"},\"line\":{\"color\":\"black\"}},\"name\":\"Building before\",\"offsetgroup\":\"Building before\",\"orientation\":\"v\",\"showlegend\":true,\"textposition\":\"auto\",\"x\":[\"Building before\"],\"xaxis\":\"x\",\"y\":[71],\"yaxis\":\"y\",\"type\":\"bar\"},{\"alignmentgroup\":\"True\",\"hovertemplate\":\"status=%{x}<br>count=%{y}<extra></extra>\",\"legendgroup\":\"Construction\",\"marker\":{\"color\":\"rgba(249,199,15, 0.65)\",\"pattern\":{\"shape\":\"\"},\"line\":{\"color\":\"black\"}},\"name\":\"Construction\",\"offsetgroup\":\"Construction\",\"orientation\":\"v\",\"showlegend\":true,\"textposition\":\"auto\",\"x\":[\"Construction\"],\"xaxis\":\"x\",\"y\":[0],\"yaxis\":\"y\",\"type\":\"bar\"},{\"alignmentgroup\":\"True\",\"hovertemplate\":\"status=%{x}<br>count=%{y}<extra></extra>\",\"legendgroup\":\"Building after\",\"marker\":{\"color\":\"rgba(68,115,197, 0.65)\",\"pattern\":{\"shape\":\"\"},\"line\":{\"color\":\"black\"}},\"name\":\"Building after\",\"offsetgroup\":\"Building after\",\"orientation\":\"v\",\"showlegend\":true,\"textposition\":\"auto\",\"x\":[\"Building after\"],\"xaxis\":\"x\",\"y\":[0],\"yaxis\":\"y\",\"type\":\"bar\"}],                        {\"template\":{\"data\":{\"barpolar\":[{\"marker\":{\"line\":{\"color\":\"white\",\"width\":0.5},\"pattern\":{\"fillmode\":\"overlay\",\"size\":10,\"solidity\":0.2}},\"type\":\"barpolar\"}],\"bar\":[{\"error_x\":{\"color\":\"#2a3f5f\"},\"error_y\":{\"color\":\"#2a3f5f\"},\"marker\":{\"line\":{\"color\":\"white\",\"width\":0.5},\"pattern\":{\"fillmode\":\"overlay\",\"size\":10,\"solidity\":0.2}},\"type\":\"bar\"}],\"carpet\":[{\"aaxis\":{\"endlinecolor\":\"#2a3f5f\",\"gridcolor\":\"#C8D4E3\",\"linecolor\":\"#C8D4E3\",\"minorgridcolor\":\"#C8D4E3\",\"startlinecolor\":\"#2a3f5f\"},\"baxis\":{\"endlinecolor\":\"#2a3f5f\",\"gridcolor\":\"#C8D4E3\",\"linecolor\":\"#C8D4E3\",\"minorgridcolor\":\"#C8D4E3\",\"startlinecolor\":\"#2a3f5f\"},\"type\":\"carpet\"}],\"choropleth\":[{\"colorbar\":{\"outlinewidth\":0,\"ticks\":\"\"},\"type\":\"choropleth\"}],\"contourcarpet\":[{\"colorbar\":{\"outlinewidth\":0,\"ticks\":\"\"},\"type\":\"contourcarpet\"}],\"contour\":[{\"colorbar\":{\"outlinewidth\":0,\"ticks\":\"\"},\"colorscale\":[[0.0,\"#0d0887\"],[0.1111111111111111,\"#46039f\"],[0.2222222222222222,\"#7201a8\"],[0.3333333333333333,\"#9c179e\"],[0.4444444444444444,\"#bd3786\"],[0.5555555555555556,\"#d8576b\"],[0.6666666666666666,\"#ed7953\"],[0.7777777777777778,\"#fb9f3a\"],[0.8888888888888888,\"#fdca26\"],[1.0,\"#f0f921\"]],\"type\":\"contour\"}],\"heatmapgl\":[{\"colorbar\":{\"outlinewidth\":0,\"ticks\":\"\"},\"colorscale\":[[0.0,\"#0d0887\"],[0.1111111111111111,\"#46039f\"],[0.2222222222222222,\"#7201a8\"],[0.3333333333333333,\"#9c179e\"],[0.4444444444444444,\"#bd3786\"],[0.5555555555555556,\"#d8576b\"],[0.6666666666666666,\"#ed7953\"],[0.7777777777777778,\"#fb9f3a\"],[0.8888888888888888,\"#fdca26\"],[1.0,\"#f0f921\"]],\"type\":\"heatmapgl\"}],\"heatmap\":[{\"colorbar\":{\"outlinewidth\":0,\"ticks\":\"\"},\"colorscale\":[[0.0,\"#0d0887\"],[0.1111111111111111,\"#46039f\"],[0.2222222222222222,\"#7201a8\"],[0.3333333333333333,\"#9c179e\"],[0.4444444444444444,\"#bd3786\"],[0.5555555555555556,\"#d8576b\"],[0.6666666666666666,\"#ed7953\"],[0.7777777777777778,\"#fb9f3a\"],[0.8888888888888888,\"#fdca26\"],[1.0,\"#f0f921\"]],\"type\":\"heatmap\"}],\"histogram2dcontour\":[{\"colorbar\":{\"outlinewidth\":0,\"ticks\":\"\"},\"colorscale\":[[0.0,\"#0d0887\"],[0.1111111111111111,\"#46039f\"],[0.2222222222222222,\"#7201a8\"],[0.3333333333333333,\"#9c179e\"],[0.4444444444444444,\"#bd3786\"],[0.5555555555555556,\"#d8576b\"],[0.6666666666666666,\"#ed7953\"],[0.7777777777777778,\"#fb9f3a\"],[0.8888888888888888,\"#fdca26\"],[1.0,\"#f0f921\"]],\"type\":\"histogram2dcontour\"}],\"histogram2d\":[{\"colorbar\":{\"outlinewidth\":0,\"ticks\":\"\"},\"colorscale\":[[0.0,\"#0d0887\"],[0.1111111111111111,\"#46039f\"],[0.2222222222222222,\"#7201a8\"],[0.3333333333333333,\"#9c179e\"],[0.4444444444444444,\"#bd3786\"],[0.5555555555555556,\"#d8576b\"],[0.6666666666666666,\"#ed7953\"],[0.7777777777777778,\"#fb9f3a\"],[0.8888888888888888,\"#fdca26\"],[1.0,\"#f0f921\"]],\"type\":\"histogram2d\"}],\"histogram\":[{\"marker\":{\"pattern\":{\"fillmode\":\"overlay\",\"size\":10,\"solidity\":0.2}},\"type\":\"histogram\"}],\"mesh3d\":[{\"colorbar\":{\"outlinewidth\":0,\"ticks\":\"\"},\"type\":\"mesh3d\"}],\"parcoords\":[{\"line\":{\"colorbar\":{\"outlinewidth\":0,\"ticks\":\"\"}},\"type\":\"parcoords\"}],\"pie\":[{\"automargin\":true,\"type\":\"pie\"}],\"scatter3d\":[{\"line\":{\"colorbar\":{\"outlinewidth\":0,\"ticks\":\"\"}},\"marker\":{\"colorbar\":{\"outlinewidth\":0,\"ticks\":\"\"}},\"type\":\"scatter3d\"}],\"scattercarpet\":[{\"marker\":{\"colorbar\":{\"outlinewidth\":0,\"ticks\":\"\"}},\"type\":\"scattercarpet\"}],\"scattergeo\":[{\"marker\":{\"colorbar\":{\"outlinewidth\":0,\"ticks\":\"\"}},\"type\":\"scattergeo\"}],\"scattergl\":[{\"marker\":{\"colorbar\":{\"outlinewidth\":0,\"ticks\":\"\"}},\"type\":\"scattergl\"}],\"scattermapbox\":[{\"marker\":{\"colorbar\":{\"outlinewidth\":0,\"ticks\":\"\"}},\"type\":\"scattermapbox\"}],\"scatterpolargl\":[{\"marker\":{\"colorbar\":{\"outlinewidth\":0,\"ticks\":\"\"}},\"type\":\"scatterpolargl\"}],\"scatterpolar\":[{\"marker\":{\"colorbar\":{\"outlinewidth\":0,\"ticks\":\"\"}},\"type\":\"scatterpolar\"}],\"scatter\":[{\"marker\":{\"colorbar\":{\"outlinewidth\":0,\"ticks\":\"\"}},\"type\":\"scatter\"}],\"scatterternary\":[{\"marker\":{\"colorbar\":{\"outlinewidth\":0,\"ticks\":\"\"}},\"type\":\"scatterternary\"}],\"surface\":[{\"colorbar\":{\"outlinewidth\":0,\"ticks\":\"\"},\"colorscale\":[[0.0,\"#0d0887\"],[0.1111111111111111,\"#46039f\"],[0.2222222222222222,\"#7201a8\"],[0.3333333333333333,\"#9c179e\"],[0.4444444444444444,\"#bd3786\"],[0.5555555555555556,\"#d8576b\"],[0.6666666666666666,\"#ed7953\"],[0.7777777777777778,\"#fb9f3a\"],[0.8888888888888888,\"#fdca26\"],[1.0,\"#f0f921\"]],\"type\":\"surface\"}],\"table\":[{\"cells\":{\"fill\":{\"color\":\"#EBF0F8\"},\"line\":{\"color\":\"white\"}},\"header\":{\"fill\":{\"color\":\"#C8D4E3\"},\"line\":{\"color\":\"white\"}},\"type\":\"table\"}]},\"layout\":{\"annotationdefaults\":{\"arrowcolor\":\"#2a3f5f\",\"arrowhead\":0,\"arrowwidth\":1},\"autotypenumbers\":\"strict\",\"coloraxis\":{\"colorbar\":{\"outlinewidth\":0,\"ticks\":\"\"}},\"colorscale\":{\"diverging\":[[0,\"#8e0152\"],[0.1,\"#c51b7d\"],[0.2,\"#de77ae\"],[0.3,\"#f1b6da\"],[0.4,\"#fde0ef\"],[0.5,\"#f7f7f7\"],[0.6,\"#e6f5d0\"],[0.7,\"#b8e186\"],[0.8,\"#7fbc41\"],[0.9,\"#4d9221\"],[1,\"#276419\"]],\"sequential\":[[0.0,\"#0d0887\"],[0.1111111111111111,\"#46039f\"],[0.2222222222222222,\"#7201a8\"],[0.3333333333333333,\"#9c179e\"],[0.4444444444444444,\"#bd3786\"],[0.5555555555555556,\"#d8576b\"],[0.6666666666666666,\"#ed7953\"],[0.7777777777777778,\"#fb9f3a\"],[0.8888888888888888,\"#fdca26\"],[1.0,\"#f0f921\"]],\"sequentialminus\":[[0.0,\"#0d0887\"],[0.1111111111111111,\"#46039f\"],[0.2222222222222222,\"#7201a8\"],[0.3333333333333333,\"#9c179e\"],[0.4444444444444444,\"#bd3786\"],[0.5555555555555556,\"#d8576b\"],[0.6666666666666666,\"#ed7953\"],[0.7777777777777778,\"#fb9f3a\"],[0.8888888888888888,\"#fdca26\"],[1.0,\"#f0f921\"]]},\"colorway\":[\"#636efa\",\"#EF553B\",\"#00cc96\",\"#ab63fa\",\"#FFA15A\",\"#19d3f3\",\"#FF6692\",\"#B6E880\",\"#FF97FF\",\"#FECB52\"],\"font\":{\"color\":\"#2a3f5f\"},\"geo\":{\"bgcolor\":\"white\",\"lakecolor\":\"white\",\"landcolor\":\"white\",\"showlakes\":true,\"showland\":true,\"subunitcolor\":\"#C8D4E3\"},\"hoverlabel\":{\"align\":\"left\"},\"hovermode\":\"closest\",\"mapbox\":{\"style\":\"light\"},\"paper_bgcolor\":\"white\",\"plot_bgcolor\":\"white\",\"polar\":{\"angularaxis\":{\"gridcolor\":\"#EBF0F8\",\"linecolor\":\"#EBF0F8\",\"ticks\":\"\"},\"bgcolor\":\"white\",\"radialaxis\":{\"gridcolor\":\"#EBF0F8\",\"linecolor\":\"#EBF0F8\",\"ticks\":\"\"}},\"scene\":{\"xaxis\":{\"backgroundcolor\":\"white\",\"gridcolor\":\"#DFE8F3\",\"gridwidth\":2,\"linecolor\":\"#EBF0F8\",\"showbackground\":true,\"ticks\":\"\",\"zerolinecolor\":\"#EBF0F8\"},\"yaxis\":{\"backgroundcolor\":\"white\",\"gridcolor\":\"#DFE8F3\",\"gridwidth\":2,\"linecolor\":\"#EBF0F8\",\"showbackground\":true,\"ticks\":\"\",\"zerolinecolor\":\"#EBF0F8\"},\"zaxis\":{\"backgroundcolor\":\"white\",\"gridcolor\":\"#DFE8F3\",\"gridwidth\":2,\"linecolor\":\"#EBF0F8\",\"showbackground\":true,\"ticks\":\"\",\"zerolinecolor\":\"#EBF0F8\"}},\"shapedefaults\":{\"line\":{\"color\":\"#2a3f5f\"}},\"ternary\":{\"aaxis\":{\"gridcolor\":\"#DFE8F3\",\"linecolor\":\"#A2B1C6\",\"ticks\":\"\"},\"baxis\":{\"gridcolor\":\"#DFE8F3\",\"linecolor\":\"#A2B1C6\",\"ticks\":\"\"},\"bgcolor\":\"white\",\"caxis\":{\"gridcolor\":\"#DFE8F3\",\"linecolor\":\"#A2B1C6\",\"ticks\":\"\"}},\"title\":{\"x\":0.05},\"xaxis\":{\"automargin\":true,\"gridcolor\":\"#EBF0F8\",\"linecolor\":\"#EBF0F8\",\"ticks\":\"\",\"title\":{\"standoff\":15},\"zerolinecolor\":\"#EBF0F8\",\"zerolinewidth\":2},\"yaxis\":{\"automargin\":true,\"gridcolor\":\"#EBF0F8\",\"linecolor\":\"#EBF0F8\",\"ticks\":\"\",\"title\":{\"standoff\":15},\"zerolinecolor\":\"#EBF0F8\",\"zerolinewidth\":2}}},\"xaxis\":{\"anchor\":\"y\",\"domain\":[0.0,1.0],\"title\":{\"text\":\"status\"},\"categoryorder\":\"array\",\"categoryarray\":[\"Building before\",\"Construction\",\"Building after\"],\"showticklabels\":false,\"visible\":false},\"yaxis\":{\"anchor\":\"x\",\"domain\":[0.0,1.0],\"title\":{\"text\":\"count\"},\"automargin\":true,\"range\":[0,70],\"showticklabels\":false,\"visible\":false},\"legend\":{\"title\":{\"text\":\"status\"},\"tracegroupgap\":0},\"margin\":{\"t\":0,\"r\":0,\"l\":0,\"b\":0,\"pad\":0},\"barmode\":\"relative\",\"height\":250,\"width\":600,\"showlegend\":false,\"images\":[{\"layer\":\"below\",\"sizex\":1,\"sizey\":1,\"source\":\"https://raw.githubusercontent.com/Shai2u/demographic_estimation_dashboard_article/main/assets/graphics/Status_Graph.jpg\",\"x\":0,\"xanchor\":\"left\",\"xref\":\"paper\",\"y\":0,\"yanchor\":\"bottom\",\"yref\":\"paper\"}]},                        {\"responsive\": true}                    ).then(function(){\n",
              "                            \n",
              "var gd = document.getElementById('be01a12a-45a2-44a9-bd96-168b8cdd3b37');\n",
              "var x = new MutationObserver(function (mutations, observer) {{\n",
              "        var display = window.getComputedStyle(gd).display;\n",
              "        if (!display || display === 'none') {{\n",
              "            console.log([gd, 'removed!']);\n",
              "            Plotly.purge(gd);\n",
              "            observer.disconnect();\n",
              "        }}\n",
              "}});\n",
              "\n",
              "// Listen for the removal of the full notebook cells\n",
              "var notebookContainer = gd.closest('#notebook-container');\n",
              "if (notebookContainer) {{\n",
              "    x.observe(notebookContainer, {childList: true});\n",
              "}}\n",
              "\n",
              "// Listen for the clearing of the current output cell\n",
              "var outputEl = gd.closest('.output');\n",
              "if (outputEl) {{\n",
              "    x.observe(outputEl, {childList: true});\n",
              "}}\n",
              "\n",
              "                        })                };                            </script>        </div>\n",
              "</body>\n",
              "</html>"
            ]
          },
          "metadata": {}
        }
      ]
    },
    {
      "cell_type": "code",
      "source": [
        ""
      ],
      "metadata": {
        "id": "4Vye18D7LWPv"
      },
      "execution_count": 151,
      "outputs": []
    },
    {
      "cell_type": "code",
      "source": [
        "\n",
        "def prepare_dot_matrix(q_date_for_dot_matrix):\n",
        "    # #agents_stat_summary_by_year = pd.read_csv('https://raw.githubusercontent.com/Shai2u/demographic_estimation_dashboard_article/main/dashboard/data/yearly_stats_for_dashboard.csv')\n",
        "\n",
        "    # agents_stat_summary_by_year['New Comers'] = agents_stat_summary_by_year['New Comers_income_low'] + agents_stat_summary_by_year['New Comers_income_medium'] +  + agents_stat_summary_by_year['New Comers_income_high']\n",
        "    # agents_stat_summary_by_year['stay'] = agents_stat_summary_by_year['stay_income_low'] + agents_stat_summary_by_year['stay_income_medium'] +  + agents_stat_summary_by_year['stay_income_high']\n",
        "    # agents_stat_summary_by_year['total_pop'] = agents_stat_summary_by_year['New Comers'] + agents_stat_summary_by_year['stay']\n",
        "    # agents_stat_summary_by_year['New Comers_income_low_ratio'] = agents_stat_summary_by_year['New Comers_income_low']/agents_stat_summary_by_year['total_pop']\n",
        "    # agents_stat_summary_by_year['New Comers_income_medium_ratio'] = agents_stat_summary_by_year['New Comers_income_medium']/agents_stat_summary_by_year['total_pop']\n",
        "    # agents_stat_summary_by_year['New Comers_income_high_ratio'] = agents_stat_summary_by_year['New Comers_income_high']/agents_stat_summary_by_year['total_pop']\n",
        "\n",
        "    # agents_stat_summary_by_year['stay_income_low_ratio'] = agents_stat_summary_by_year['stay_income_low']/agents_stat_summary_by_year['total_pop']\n",
        "    # agents_stat_summary_by_year['stay_income_medium_ratio'] = agents_stat_summary_by_year['stay_income_medium']/agents_stat_summary_by_year['total_pop']\n",
        "    # agents_stat_summary_by_year['stay_income_high_ratio'] = agents_stat_summary_by_year['stay_income_high']/agents_stat_summary_by_year['total_pop']\n",
        "\n",
        "    #create an empty dataset with agent coutn\n",
        "    num_of_agents = 3481\n",
        "    MatrixPlot = pd.DataFrame({'AgentID':range(0,num_of_agents)})\n",
        "    #Number of Columns choose:\n",
        "    numOfColumns=59\n",
        "    numOfRows = 59\n",
        "    # set the columns to display the column number\n",
        "    MatrixPlot['x'] = list(range(1,numOfColumns+1))*numOfRows\n",
        "    #prepare the y column (row number)\n",
        "    y = [[i]*numOfColumns for i in range(1,numOfRows+1)]\n",
        "    temp = []\n",
        "    for i in range(0,numOfRows):\n",
        "        temp +=y[i]\n",
        "    y = temp\n",
        "    MatrixPlot['y'] = y\n",
        "    agents_stat_short = agents_stat_summary_by_year[['year','New Comers','stay']].copy().fillna(0)\n",
        "    agents_stat_short['emptyPalces'] =agents_stat_short.apply(lambda p:num_of_agents-(p['stay']+p['New Comers']), axis=1)\n",
        "    stay_count = int(agents_stat_short.loc[agents_stat_short['year']==q_date_for_dot_matrix,'stay'].values[0])\n",
        "    new_comers = int(agents_stat_short.loc[agents_stat_short['year']==q_date_for_dot_matrix,'New Comers'].values[0])\n",
        "    empty_space = int(agents_stat_short.loc[agents_stat_short['year']==q_date_for_dot_matrix,'emptyPalces'].values[0])\n",
        "    list_ = ['Staying']* stay_count\n",
        "    list_ = list_ + ['New Comers'] * new_comers\n",
        "    list_ = list_ + ['Future Units'] * empty_space\n",
        "    dotMAtrixFig = exportFigure_sq(list_,(q_date_for_dot_matrix),MatrixPlot)\n",
        "    return dotMAtrixFig\n",
        "    #dotMAtrixFig = dotMAtrixFig1\n",
        "\n",
        "line_style = dict(weight=2, opacity=1, color='blue', fillOpacity=0,dashArray=\"10 10\")\n",
        "\n",
        "classes = ['Building before', 'Construction', 'Building after']\n",
        "colorscale = ['#808080', '#F9C70F', '#4473C5']\n",
        "style = dict(weight=2, opacity=1, color='grey', fillOpacity=0.7)\n",
        "colorbar = dlx.categorical_colorbar(categories=classes, colorscale=colorscale, width=300, height=30, position=\"bottomright\")\n",
        "\n",
        "#globals \n",
        "contextual_width_global = 1200\n",
        "contextual_height_global = 275\n",
        "map_height = '735px'\n",
        "lower_fig_height = 450\n",
        "\n",
        "style_handle = assign(\"\"\"function(feature, context){\n",
        "    const {classes, colorscale, style, colorProp} = context.props.hideout;  // get props from hideout\n",
        "    const value = feature.properties[colorProp];  // get value the determines the color\n",
        "    for (let i = 0; i < classes.length; ++i) {\n",
        "        if (value == classes[i]) {\n",
        "            style.fillColor = colorscale[i];  // set the fill color according to the class\n",
        "        }\n",
        "    }\n",
        "    return style;\n",
        "}\"\"\")\n",
        "\n",
        "\n",
        "#dl.Map()\n",
        "\n",
        "#geojson = dl.GeoJSON(data=data, options=dict(onEachFeature=ns(\"bindPopup\")))\n",
        "\n",
        "mapObj = dl.Map([dl.TileLayer(url=cartoUrl, maxZoom=20, attribution=attribution),dl.GeoJSON(data=statisticalStatsJson, options={'style':line_style},),\n",
        "                 dl.GeoJSON(data = simulatedBldgsJson,options = {'style':style_handle, 'onEachFeature':ns(\"bindPopup\")}, id='simulatedBldgs',hideout=dict(colorscale=colorscale, classes=classes, style=style, colorProp=\"status\")),colorbar],center=[32.0272,34.7444], zoom=16, style={'width': '100%', 'height': map_height})\n",
        "\n",
        "url = 'https://shai2u.github.io/demographic_estimation_dashboard_article/assets/popup.js'\n",
        "r = requests.get(url, allow_redirects=True)\n",
        "open('/content/assets/popup.js', 'wb').write(r.content)\n",
        "\n",
        "# map3d = html.Iframe(id='ifame-cell', height=map_height, width=\"100%\",\n",
        "#                                                        src=\"https://technion-gis.maps.arcgis.com/apps/instant/3dviewer/index.html?appid=73d48240324e45eea139ea9e0c2fe6e1\")\n",
        "\n",
        "d = pd.to_datetime('2015-01-01')\n",
        "bldgs1 = simulatedBldgsGdf[(simulatedBldgsGdf['start_date']< d ) & (simulatedBldgsGdf['end_date']> d )].copy().reset_index(drop=True)\n",
        "bldg_status = bldgs1['status'].value_counts().to_frame().reset_index()\n",
        "bldg_status.rename(columns={'index':'status','status':'count'},inplace=True)\n",
        "\n",
        "if len(bldg_status)<3:\n",
        "  if len(bldg_status[bldg_status['status'].isin(['Building before'])])==0:\n",
        "    bldg_status = pd.concat([bldg_status,pd.DataFrame({'status':['Building before'],'count':[0]})]).reset_index(drop=True)\n",
        "  if len(bldg_status[bldg_status['status'].isin(['Construction'])])==0:\n",
        "    bldg_status = pd.concat([bldg_status,pd.DataFrame({'status':['Construction'],'count':[0]})]).reset_index(drop=True)\n",
        "  if len(bldg_status[bldg_status['status'].isin(['Building after'])])==0:\n",
        "    bldg_status = pd.concat([bldg_status,pd.DataFrame({'status':['Building after'],'count':[0]})]).reset_index(drop=True)\n",
        "    \n",
        "bldg_status_count = get_status_graph(bldg_status)\n",
        "\n",
        "\n",
        "#create an empty dataset with agent coutn\n",
        "num_of_agents = 3481\n",
        "MatrixPlot = pd.DataFrame({'AgentID':range(0,num_of_agents)})\n",
        "#Number of Columns choose:\n",
        "numOfColumns=59\n",
        "numOfRows = 59\n",
        "# set the columns to display the column number\n",
        "MatrixPlot['x'] = list(range(1,numOfColumns+1))*numOfRows\n",
        "#prepare the y column (row number)\n",
        "y = [[i]*numOfColumns for i in range(1,numOfRows+1)]\n",
        "temp = []\n",
        "for i in range(0,numOfRows):\n",
        "    temp +=y[i]\n",
        "y = temp\n",
        "MatrixPlot['y'] = y\n",
        "\n",
        "agents_time_new_Comers_stay = agents_stat_summary_by_year[['year','New Comers','stay']].fillna(0)\n",
        "agents_time_new_Comers_stay['emptyPalces'] = num_of_agents -(agents_time_new_Comers_stay['stay'] +agents_time_new_Comers_stay['New Comers'])\n",
        "\n",
        "\n",
        "dashboard_page =  html.Div([\n",
        "  html.Div([\n",
        "    html.Div([\n",
        "              #To Do Add static legend, that won't chnaged based on years and statistical stats\n",
        "                  dbc.Card(\n",
        "        children=[\n",
        "            dbc.CardHeader(\"Map of the study area\"),\n",
        "            dbc.CardBody([html.Div(mapObj,id='map_2d',style={'display':'block'}),\n",
        "                        html.Div(\n",
        "                            []\n",
        "                            ,id='map_3d')])]),\n",
        "                  \n",
        "              # html.Div([\n",
        "              \n",
        "              # ])\n",
        "            ],style={'width': '34%', 'display': 'inline-block'}),\n",
        "        \n",
        "        html.Div([dbc.Card(\n",
        "        children=[\n",
        "            dbc.CardHeader(\"Controller\"),\n",
        "            dbc.CardBody([html.Div(\n",
        "                      daq.BooleanSwitch(\n",
        "                            on=False,\n",
        "                            label=\"3D\",\n",
        "                            labelPosition=\"top\",id='3d_map_switch'),style={'width':'10%', 'display': 'inline-block'}),\n",
        "                    html.Div([dcc.Dropdown( id='select_context',options=[\n",
        "                                                                             {'label': 'Owners Renters Count', 'value': 'Owners Renters Count'},\n",
        "                                                                             {'label': 'Chnage Apartment Size', 'value': 'Chnage Apartment Size'},\n",
        "                                                                             {'label': 'Change in Age Distribution', 'value': 'Change in Age Distribution'},\n",
        "                                                                             {'label': 'Change in Income Distribution', 'value': 'Change in Income Distribution'},\n",
        "                                                                             {'label': 'Change in Income Category', 'value': 'Change in Income Category'},\n",
        "\n",
        "\n",
        "\n",
        "                                  ], value='NYC')],style={'width':'25%', 'display': 'inline-block'}),\n",
        "                  html.Div([dcc.RangeSlider(id='years-slider',\n",
        "             min=2015,\n",
        "             max=2030,\n",
        "             value=[2015,2015],\n",
        "             marks={str(year):str(year) for year in np.arange(2015,2030,1)},\n",
        "                                                    step=0.5\n",
        "                                                    )],style={'width':'65%', 'display': 'inline-block'})\n",
        "                          ]),\n",
        "\n",
        "\n",
        "                    \n",
        "                  ]),\n",
        "                  dbc.Card(\n",
        "        children=[\n",
        "            dbc.CardHeader(\"Time series graph with context\"),\n",
        "            dbc.CardBody(html.Div([dcc.Graph(id='time_seiries_graph',figure=renters_owners_fig)]))])\n",
        "                  ,\n",
        "\n",
        "             html.Div([\n",
        "                                          dbc.Card(\n",
        "        children=[\n",
        "            dbc.CardHeader(\"Current construction typologies\"),\n",
        "            dbc.CardBody([\n",
        "                         dcc.Graph(id='typo_count', figure=construction_typo_graph),\n",
        "                          \n",
        "            ])])],style={'width': '50%', 'display': 'inline-block'}),\n",
        "              html.Div([\n",
        "                        dbc.Card(\n",
        "        children=[ dbc.CardHeader(\"Building status count\"),\n",
        "            dbc.CardBody([dcc.Graph(id='status_count',figure=bldg_status_count)]\n",
        "                         )])\n",
        "                        ],style={'width': '50%', 'display': 'inline-block'})\n",
        "            ], style={'width': '66%', 'float': 'right', 'display': 'inline-block'}),\n",
        "              html.Div([\n",
        "                            html.Div([\n",
        "                                #To Do Add static legend, that won't chnaged based on years and statistical stats\n",
        "                                html.Div([\n",
        "                                          dbc.Card(\n",
        "        children=[\n",
        "            dbc.CardHeader(\"2 Variables bubble graph\"),\n",
        "            dbc.CardBody( dcc.Graph(id='bubble_graph',figure=bubble_age_income))])])],style={'width': '34%', 'display': 'inline-block'}),\n",
        "                      html.Div([\n",
        "                                #To Do Add static legend, that won't chnaged based on years and statistical stats\n",
        "                                dbc.Card(\n",
        "        children=[\n",
        "            dbc.CardHeader(\"Population Sunburst\"),\n",
        "            dbc.CardBody(dcc.Graph(id='population_sunburst_fig',figure= population_sunburst_graph_init))])],style={'width': '33%', 'display': 'inline-block'}),\n",
        "                      html.Div([\n",
        "                                \n",
        "                                #To Do Add static legend, that won't chnaged based on years and statistical stats\n",
        "                                dbc.Card(\n",
        "        children=[\n",
        "            dbc.CardHeader(\"Population Sunburst\"),\n",
        "            dbc.CardBody(dcc.Graph(id='dot_matrix_fig',figure=dotMAtrixFig1))])],style={'width': '33%', 'display': 'inline-block'}),\n",
        "            html.Div(id='test',children='test')\n",
        "            ])\n",
        "  ], style={\n",
        "        'borderBottom': 'thin lightgrey solid',\n",
        "        'backgroundColor': 'rgb(250, 250, 250)',\n",
        "        'padding': '10px 5px'})\n",
        "        #dcc.Store(id='eng_heb_data')\n",
        "])\n",
        "external_stylesheets = [dbc.themes.BOOTSTRAP, \"https://raw.githubusercontent.com/Shai2u/demographic_estimation_dashboard_article/main/assets/style.css\"]\n",
        "app = JupyterDash(__name__,suppress_callback_exceptions=True,prevent_initial_callbacks=True, external_stylesheets=external_stylesheets)\n",
        "\n",
        "\n",
        "app.title = \"Population Dashboard\"\n",
        "\n",
        "#run_with_ngrok(app)\n",
        "\n",
        "app.layout = html.Div([\n",
        "\n",
        "    dashboard_page\n",
        "])\n",
        "\n",
        "@app.callback(\n",
        "    Output('simulatedBldgs', 'data'),\n",
        "    Output('status_count','figure'),\n",
        "    Output('dot_matrix_fig','figure'),\n",
        "    Output('time_seiries_graph','figure'),\n",
        "    Output('typo_count','figure'),\n",
        "    Output('population_sunburst_fig','figure'),\n",
        "    Output('bubble_graph','figure'),\n",
        "    Output('map_2d','style'),\n",
        "    Output('map_3d','children'),\n",
        "    Input('years-slider', 'value'),\n",
        "    Input('select_context','value'),\n",
        "    Input('3d_map_switch','on')\n",
        "    # Output('test','children'),\n",
        "    #Output('dot_matrix_fig','figure'),\n",
        "\n",
        ")\n",
        "def update_output_div(input_value,input_select_context,d3_map_switch):\n",
        "    #simulatedBldgsGdf\n",
        "    ref_year = int(input_value[0])\n",
        "    selected_year = int(input_value[1])\n",
        "    date_return = f'Q3 {selected_year}'\n",
        "    q_date_for_dot_matrix = f'{selected_year} Q3'\n",
        "    d = pd.to_datetime(f'{selected_year}-07-01')\n",
        "    map_libre_date = int(f'{selected_year}0701')\n",
        "    if input_value[1] % 1 == 0:\n",
        "        d = pd.to_datetime(f'{selected_year}-01-01')\n",
        "        date_return = f'Q1 {selected_year}'\n",
        "        q_date_for_dot_matrix = f'{selected_year} Q1'\n",
        "        map_libre_date = int(f'{selected_year}0101')\n",
        "    #reference date\n",
        "    d_ref = pd.to_datetime(f'{ref_year}-07-01')\n",
        "    ref_q_date = f'Q3 {ref_year}'\n",
        "    ref_q_date_e = f'{ref_year} Q3'\n",
        "    if input_value[0] % 1 == 0:\n",
        "          d_ref = pd.to_datetime(f'{ref_year}-01-01')\n",
        "          ref_q_date = f'Q1 {ref_year}'\n",
        "          ref_q_date_e = f'{ref_year} Q1'\n",
        "\n",
        "    date_for_js_site = q_date_for_dot_matrix.replace(' ','_')\n",
        "\n",
        "    bldgs  = simulatedBldgsGdf[(simulatedBldgsGdf['start_date']< d ) & (simulatedBldgsGdf['end_date']> d )].copy().reset_index(drop=True)\n",
        "    bldgs1 = bldgs.copy()\n",
        "    bldgs['start_date'] = bldgs['start_date'].astype(str)\n",
        "    bldgs['end_date'] = bldgs['end_date'].astype(str)\n",
        "\n",
        "    if d3_map_switch:\n",
        "      bldgsJson=None\n",
        "      #display 2D/3D Map\n",
        "      map_2d_display = {'display':'none'}\n",
        "      #item = gis.content.get(\"732b15ecf0f848df9ab4d8c8f059ea56\")\n",
        "      #layer = item.layers[0]\n",
        "      #new_def = {\"DefinitionQuery\" :f\"start_date_int<= {arcgis_date}\"}\n",
        "      #layer.manager.update_definition(new_def)\n",
        "      rand_id = random_int = np.random.randint(0,10) #to refresh 3d\n",
        "      # map3d = html.Iframe(id=f'ifame-cell-{rand_id}', height=map_height, width=\"100%\",\n",
        "      #                                                  src=\"https://technion-gis.maps.arcgis.com/apps/instant/3dviewer/index.html?appid=73d48240324e45eea139ea9e0c2fe6e1\")\n",
        "      #map_3d_display = {'display':'block'}\n",
        "      # #/content/scene_batyam.html\n",
        "      # map3d = html.Iframe(id=f'ifame-cell-{rand_id}', height=map_height, width=\"100%\",\n",
        "      #                                             src=f\"https://shai2u.github.io/demographic_estimation_dashboard_article/dashboard/js_maps/scene_batyam_{date_for_js_site}.html\")\n",
        "      map3d = html.Iframe(id=f'ifame-cell-{rand_id}', height=map_height, width=\"100%\",\n",
        "                                                  src=f\"https://shai2u.github.io/demographic_estimation_dashboard_article/BatYam_maplibre/{map_libre_date}.html\")\n",
        "\n",
        "      #map_3d_display = {'display':'block'}\n",
        "    else:\n",
        "      bldgsJson = json.loads(bldgs.to_json())\n",
        "      #display 2D/3D Map\n",
        "      map_2d_display = {'display':'block'}\n",
        "      map3d = ''\n",
        "      #map_3d_display = {'display':'none'}\n",
        "\n",
        "    #construction\n",
        "    bldg_status = bldgs1['status'].value_counts().to_frame().reset_index()\n",
        "    bldg_status.rename(columns={'index':'status','status':'count'},inplace=True)\n",
        "    if len(bldg_status)<3:\n",
        "      if len(bldg_status[bldg_status['status'].isin(['Building before'])])==0:\n",
        "        bldg_status = pd.concat([bldg_status,pd.DataFrame({'status':['Building before'],'count':[0]})]).reset_index(drop=True)\n",
        "      if len(bldg_status[bldg_status['status'].isin(['Construction'])])==0:\n",
        "        bldg_status = pd.concat([bldg_status,pd.DataFrame({'status':['Construction'],'count':[0]})]).reset_index(drop=True)\n",
        "      if len(bldg_status[bldg_status['status'].isin(['Building after'])])==0:\n",
        "        bldg_status = pd.concat([bldg_status,pd.DataFrame({'status':['Building after'],'count':[0]})]).reset_index(drop=True)\n",
        "    bldg_status_count = get_status_graph(bldg_status)\n",
        "    \n",
        "    d2 = d - datetime.timedelta(days=180)\n",
        "    bldgs2 = simulatedBldgsGdf[(simulatedBldgsGdf['start_date']< d ) & (simulatedBldgsGdf['end_date']> d )].copy().reset_index(drop=True)\n",
        "\n",
        "    bldgs_constr = bldgs2[bldgs2['status']=='Construction'].reset_index()\n",
        "\n",
        "    construction_typo_v = bldgs_constr['project_ty'].value_counts().to_frame().reset_index()\n",
        "    construction_typo_v.rename(columns={'index':'project_ty','project_ty':'count'},inplace=True)\n",
        "\n",
        "    bldgs3 = simulatedBldgsGdf[(simulatedBldgsGdf['start_date']< d2 ) & (simulatedBldgsGdf['end_date']> d2 )].copy().reset_index(drop=True)\n",
        "    bldgs_constr = bldgs3[bldgs3['status']=='Construction'].reset_index()\n",
        "\n",
        "    construction_typo_d = bldgs_constr['project_ty'].value_counts().to_frame().reset_index()\n",
        "    construction_typo_d.rename(columns={'index':'project_ty','project_ty':'count'},inplace=True)\n",
        "    construction_typo_graph = construction_typo_graph_generator(construction_typo_v,construction_typo_d)\n",
        "    #bldg_status_count = get_status_graph(bldg_status)\n",
        "\n",
        "\n",
        "    # Dot Matrix\n",
        "\n",
        "    dotMAtrixFig1 = prepare_dot_matrix(q_date_for_dot_matrix)\n",
        "\n",
        "    #time context\n",
        "    #renters Owners\n",
        "    if input_select_context == 'Owners Renters Count':\n",
        "      context_fig = renters_owners_graph(q_date_for_dot_matrix,ref_q_date_e)\n",
        "    elif input_select_context == 'Chnage Apartment Size':\n",
        "      context_fig = apartment_graph(q_date_for_dot_matrix,ref_q_date_e)\n",
        "    elif input_select_context == 'Change in Age Distribution':\n",
        "      context_fig = change_age_distribution_graph(q_date_for_dot_matrix,ref_q_date_e)                                                                             \n",
        "    elif input_select_context == 'Change in Income Distribution':\n",
        "      context_fig = income_distribution_graph(q_date_for_dot_matrix,ref_q_date_e)\n",
        "    elif input_select_context == 'Change in Income Category':\n",
        "      context_fig = income_category_graph(q_date_for_dot_matrix,ref_q_date_e)                                                                           \n",
        "    else:\n",
        "      context_fig = renters_owners_graph(q_date_for_dot_matrix,ref_q_date_e)\n",
        "\n",
        "    #sunburst\n",
        "\n",
        "    bldgs  = simulatedBldgsGdf[(simulatedBldgsGdf['start_date']< d ) & (simulatedBldgsGdf['end_date']> d )].copy().reset_index(drop=True)\n",
        "    bldgs1 = bldgs.copy()\n",
        "    agents_synced_buildings_to_date = pd.merge(agents_track_status,bldgs1[['project_nu','status','start_date']],left_on=['ProjNumber','bld_status'], right_on=['project_nu','status'])\n",
        "    agents_synced_buildings_to_date_stay_new = agents_synced_buildings_to_date[agents_synced_buildings_to_date['status_x']!='Leave'].drop_duplicates().reset_index(drop=True)\n",
        "\n",
        "    age_grown1 = d.year-years_with_q2_makrs[0].year\n",
        "    agents_synced_buildings_to_date_stay_new.loc[agents_synced_buildings_to_date_stay_new['status_x']=='stay','age'] = agents_synced_buildings_to_date_stay_new.loc[agents_synced_buildings_to_date_stay_new['status_x']=='stay','age'] + age_grown1\n",
        "    agents_synced_buildings_to_date_stay_new.loc[agents_synced_buildings_to_date_stay_new['status_x']=='New Comers','age'] = agents_synced_buildings_to_date_stay_new.loc[agents_synced_buildings_to_date_stay_new['status_x']=='New Comers'].apply(lambda p: p['age'] + (d.year - p['start_date'].year),axis=1)\n",
        "\n",
        "    agents_synced_buildings_to_date_stay_new['age_group'] = pd.cut(agents_synced_buildings_to_date_stay_new['age'], [0,44,64,84,130],right=True, labels=[\"18-44\", \"45-64\", \"65-84\", \"85+\"],ordered=True)\n",
        "    agents_stay_age_income =agents_synced_buildings_to_date_stay_new[['status_x','age_group','income_cat']].reset_index(drop=True).rename(columns={'status_x':'Stay or leave','age_group':'Age group','income_cat':'Income category'})\n",
        "    population_sunburst_graph = demographic_sunburst(date_return,agents_stay_age_income,colorDict)\n",
        "\n",
        "\n",
        "    #bubble graphs Selected\n",
        "    bldgs  = simulatedBldgsGdf[(simulatedBldgsGdf['start_date']< d ) & (simulatedBldgsGdf['end_date']> d )].copy().reset_index(drop=True)\n",
        "    bldgs1 = bldgs.copy()\n",
        "\n",
        "    agents_synced_buildings_to_date = pd.merge(agents_track_status,bldgs1[['project_nu','status','start_date']],left_on=['ProjNumber','bld_status'], right_on=['project_nu','status'])\n",
        "    agents_synced_buildings_to_date_stay_new = agents_synced_buildings_to_date[agents_synced_buildings_to_date['status_x']!='Leave'].drop_duplicates().reset_index(drop=True)\n",
        "\n",
        "    #age the agents\n",
        "    age_grown1 = d.year-years_with_q2_makrs[0].year\n",
        "    agents_synced_buildings_to_date_stay_new.loc[agents_synced_buildings_to_date_stay_new['status_x']=='stay','age'] = agents_synced_buildings_to_date_stay_new.loc[agents_synced_buildings_to_date_stay_new['status_x']=='stay','age'] + age_grown1\n",
        "    agents_synced_buildings_to_date_stay_new.loc[agents_synced_buildings_to_date_stay_new['status_x']=='New Comers','age'] = agents_synced_buildings_to_date_stay_new.loc[agents_synced_buildings_to_date_stay_new['status_x']=='New Comers'].apply(lambda p: p['age'] + (d.year - p['start_date'].year),axis=1)\n",
        "\n",
        "    #set categories to agents ages\n",
        "    agents_synced_buildings_to_date_stay_new['age_group'] = pd.cut(agents_synced_buildings_to_date_stay_new['age'], [0,44,64,84,130],right=True, labels=[\"18-44\", \"45-64\", \"65-84\", \"85+\"],ordered=True)\n",
        "    agents_stay_age_income =agents_synced_buildings_to_date_stay_new[['status_x','age_group','income_cat']].reset_index(drop=True).rename(columns={'status_x':'Stay or leave','age_group':'Age group','income_cat':'Income category'})\n",
        "    #population_sunburst_graph = demographic_sunburst(2019,agents_stay_age_income,colorDict)\n",
        "    agents_stay_age_income['units'] = 1\n",
        "    agents_stay_age_income_count = agents_stay_age_income.groupby(['Stay or leave','Age group','Income category']).agg({'units':'count'}).reset_index()\n",
        "    new_comers_age_income_count = agents_stay_age_income_count[agents_stay_age_income_count['Stay or leave']=='New Comers'].reset_index(drop=True)\n",
        "    stay_age_income_count = agents_stay_age_income_count[agents_stay_age_income_count['Stay or leave']=='stay'].reset_index(drop=True)\n",
        "    total = new_comers_age_income_count['units'].sum()+ stay_age_income_count['units'].sum()\n",
        "    new_comers_age_income_count['ratio'] = new_comers_age_income_count['units']/total\n",
        "    stay_age_income_count['ratio'] = stay_age_income_count['units']/total\n",
        "\n",
        "    #reference selection\n",
        "    bldgs  = simulatedBldgsGdf[(simulatedBldgsGdf['start_date']< d_ref ) & (simulatedBldgsGdf['end_date']> d_ref )].copy().reset_index(drop=True)\n",
        "    bldgs1 = bldgs.copy()\n",
        "\n",
        "    agents_synced_buildings_ref_date = pd.merge(agents_track_status,bldgs1[['project_nu','status','start_date']],left_on=['ProjNumber','bld_status'], right_on=['project_nu','status'])\n",
        "    agents_synced_buildings_ref_date_stay_new = agents_synced_buildings_ref_date[agents_synced_buildings_ref_date['status_x']!='Leave'].drop_duplicates().reset_index(drop=True)\n",
        "\n",
        "    #age the agents\n",
        "    age_grown1 = d_ref.year-years_with_q2_makrs[0].year\n",
        "    agents_synced_buildings_ref_date_stay_new.loc[agents_synced_buildings_ref_date_stay_new['status_x']=='stay','age'] = agents_synced_buildings_ref_date_stay_new.loc[agents_synced_buildings_ref_date_stay_new['status_x']=='stay','age'] + age_grown1\n",
        "    agents_synced_buildings_ref_date_stay_new.loc[agents_synced_buildings_ref_date_stay_new['status_x']=='New Comers','age'] = agents_synced_buildings_ref_date_stay_new.loc[agents_synced_buildings_ref_date_stay_new['status_x']=='New Comers'].apply(lambda p: p['age'] + (d_ref.year - p['start_date'].year),axis=1)\n",
        "\n",
        "    #set categories to agents ages\n",
        "    agents_synced_buildings_ref_date_stay_new['age_group'] = pd.cut(agents_synced_buildings_ref_date_stay_new['age'], [0,44,64,84,130],right=True, labels=[\"18-44\", \"45-64\", \"65-84\", \"85+\"],ordered=True)\n",
        "    agents_stay_age_income_ref =agents_synced_buildings_ref_date_stay_new[['status_x','age_group','income_cat']].reset_index(drop=True).rename(columns={'status_x':'Stay or leave','age_group':'Age group','income_cat':'Income category'})\n",
        "    #population_sunburst_graph = demographic_sunburst(2019,agents_stay_age_income,colorDict)\n",
        "    agents_stay_age_income_ref['units'] = 1\n",
        "    agents_stay_age_income_ref = agents_stay_age_income_ref.groupby(['Stay or leave','Age group','Income category']).agg({'units':'count'}).reset_index()\n",
        "    new_comers_age_income_count_ref = agents_stay_age_income_ref[agents_stay_age_income_ref['Stay or leave']=='New Comers'].reset_index(drop=True)\n",
        "    stay_age_income_count_ref = agents_stay_age_income_ref[agents_stay_age_income_ref['Stay or leave']=='stay'].reset_index(drop=True)\n",
        "    total_ref = new_comers_age_income_count_ref['units'].sum()+ stay_age_income_count_ref['units'].sum()\n",
        "    new_comers_age_income_count_ref['ratio'] = new_comers_age_income_count_ref['units']/total_ref\n",
        "    stay_age_income_count_ref['ratio'] = stay_age_income_count_ref['units']/total_ref\n",
        "    bubble_age_income = bubble_age_income_stay_time(stay_age_income_count_ref,new_comers_age_income_count_ref,stay_age_income_count,new_comers_age_income_count,ref_q_date,date_return)\n",
        "\n",
        "    # f = open(\"filter_date.js\", \"a\")\n",
        "    # f.write(f'date_ = \"{arcgis_date}\"')\n",
        "    # f.close()\n",
        "\n",
        "    # get Javascript filename instead\n",
        "    #https://befused.com/javascript/get-filename-url\n",
        "    return bldgsJson,bldg_status_count,dotMAtrixFig1,context_fig,construction_typo_graph,population_sunburst_graph,bubble_age_income,map_2d_display,map3d\n",
        "\n",
        "## To dos\n",
        "## Add Tama 38 Construction Current Coutner\n",
        "\n",
        "app.run_server(mode='External',host='0.0.0.0',debug=False,port=8050)"
      ],
      "metadata": {
        "colab": {
          "base_uri": "https://localhost:8080/",
          "height": 86
        },
        "id": "wfw2RR7UFF-7",
        "outputId": "abefb8e4-c9f2-460d-d626-2f655a25a11b"
      },
      "execution_count": 155,
      "outputs": [
        {
          "output_type": "stream",
          "name": "stderr",
          "text": [
            " * Running on http://0.0.0.0:8050/ (Press CTRL+C to quit)\n",
            "127.0.0.1 - - [02/May/2022 05:44:47] \"\u001b[37mGET /_alive_3ba88a42-920c-42ca-a1e7-bed7a2d71dba HTTP/1.1\u001b[0m\" 200 -\n"
          ]
        },
        {
          "output_type": "stream",
          "name": "stdout",
          "text": [
            "Dash app running on:\n"
          ]
        },
        {
          "output_type": "display_data",
          "data": {
            "text/plain": [
              "<IPython.core.display.Javascript object>"
            ],
            "application/javascript": [
              "(async (port, path, text, element) => {\n",
              "    if (!google.colab.kernel.accessAllowed) {\n",
              "      return;\n",
              "    }\n",
              "    element.appendChild(document.createTextNode(''));\n",
              "    const url = await google.colab.kernel.proxyPort(port);\n",
              "    const anchor = document.createElement('a');\n",
              "    anchor.href = new URL(path, url).toString();\n",
              "    anchor.target = '_blank';\n",
              "    anchor.setAttribute('data-href', url + path);\n",
              "    anchor.textContent = text;\n",
              "    element.appendChild(anchor);\n",
              "  })(8050, \"/\", \"http://0.0.0.0:8050/\", window.element)"
            ]
          },
          "metadata": {}
        }
      ]
    },
    {
      "cell_type": "code",
      "source": [
        "app.logger"
      ],
      "metadata": {
        "colab": {
          "base_uri": "https://localhost:8080/"
        },
        "id": "XHy8mv-24uhW",
        "outputId": "0fec453c-e326-476e-decd-dc6911d42414"
      },
      "execution_count": null,
      "outputs": [
        {
          "output_type": "execute_result",
          "data": {
            "text/plain": [
              "<Logger __main__ (INFO)>"
            ]
          },
          "metadata": {},
          "execution_count": 70
        }
      ]
    },
    {
      "cell_type": "code",
      "source": [
        "import socket\n",
        "host = socket.gethostbyname(socket.gethostname())"
      ],
      "metadata": {
        "id": "ry0mZTRG7rTO"
      },
      "execution_count": null,
      "outputs": []
    },
    {
      "cell_type": "code",
      "source": [
        "host"
      ],
      "metadata": {
        "colab": {
          "base_uri": "https://localhost:8080/",
          "height": 35
        },
        "id": "KuqVFUfZ-Nhh",
        "outputId": "2bf687d1-1ff1-4213-8a7d-f4c4d408df0d"
      },
      "execution_count": null,
      "outputs": [
        {
          "output_type": "execute_result",
          "data": {
            "text/plain": [
              "'172.28.0.2'"
            ],
            "application/vnd.google.colaboratory.intrinsic+json": {
              "type": "string"
            }
          },
          "metadata": {},
          "execution_count": 40
        }
      ]
    },
    {
      "cell_type": "code",
      "source": [
        ""
      ],
      "metadata": {
        "id": "uHljbKZx7VhT"
      },
      "execution_count": null,
      "outputs": []
    },
    {
      "cell_type": "code",
      "source": [
        "\n",
        "fig = px.colors.qualitative.swatches()\n",
        "fig.show()"
      ],
      "metadata": {
        "id": "h4bxgDsZcxwp"
      },
      "execution_count": null,
      "outputs": []
    },
    {
      "cell_type": "code",
      "source": [
        "px.colors.qualitative.Bold_r"
      ],
      "metadata": {
        "id": "HL9e9zjPcuNs",
        "colab": {
          "base_uri": "https://localhost:8080/"
        },
        "outputId": "e5a99211-0238-443f-edfd-e94ec5842510"
      },
      "execution_count": null,
      "outputs": [
        {
          "output_type": "execute_result",
          "data": {
            "text/plain": [
              "['rgb(165, 170, 153)',\n",
              " 'rgb(249, 123, 114)',\n",
              " 'rgb(207, 28, 144)',\n",
              " 'rgb(0, 134, 149)',\n",
              " 'rgb(230, 131, 16)',\n",
              " 'rgb(128, 186, 90)',\n",
              " 'rgb(231, 63, 116)',\n",
              " 'rgb(242, 183, 1)',\n",
              " 'rgb(57, 105, 172)',\n",
              " 'rgb(17, 165, 121)',\n",
              " 'rgb(127, 60, 141)']"
            ]
          },
          "metadata": {},
          "execution_count": 56
        }
      ]
    },
    {
      "cell_type": "code",
      "source": [
        ""
      ],
      "metadata": {
        "id": "5ATPpv0HHSMe"
      },
      "execution_count": null,
      "outputs": []
    },
    {
      "cell_type": "code",
      "source": [
        "!pip install pyngrok"
      ],
      "metadata": {
        "colab": {
          "base_uri": "https://localhost:8080/"
        },
        "id": "Z0CarG00cOC1",
        "outputId": "e87ddada-3ed9-460c-8acc-7493979b0cd4"
      },
      "execution_count": null,
      "outputs": [
        {
          "output_type": "stream",
          "name": "stdout",
          "text": [
            "Collecting pyngrok\n",
            "  Downloading pyngrok-5.1.0.tar.gz (745 kB)\n",
            "\u001b[K     |████████████████████████████████| 745 kB 4.2 MB/s \n",
            "\u001b[?25hRequirement already satisfied: PyYAML in /usr/local/lib/python3.7/dist-packages (from pyngrok) (3.13)\n",
            "Building wheels for collected packages: pyngrok\n",
            "  Building wheel for pyngrok (setup.py) ... \u001b[?25l\u001b[?25hdone\n",
            "  Created wheel for pyngrok: filename=pyngrok-5.1.0-py3-none-any.whl size=19007 sha256=c979f7413aed8688ae8345731b45bdfde2797afb1b47bc66c7ab6d50d4e8f3ce\n",
            "  Stored in directory: /root/.cache/pip/wheels/bf/e6/af/ccf6598ecefecd44104069371795cb9b3afbcd16987f6ccfb3\n",
            "Successfully built pyngrok\n",
            "Installing collected packages: pyngrok\n",
            "Successfully installed pyngrok-5.1.0\n"
          ]
        }
      ]
    },
    {
      "cell_type": "code",
      "source": [
        "from pyngrok import ngrok\n",
        "\n"
      ],
      "metadata": {
        "id": "iEuv2dorcNgl"
      },
      "execution_count": null,
      "outputs": []
    },
    {
      "cell_type": "code",
      "source": [
        ""
      ],
      "metadata": {
        "id": "8h7uV1AJcTzI"
      },
      "execution_count": null,
      "outputs": []
    },
    {
      "cell_type": "code",
      "source": [
        ""
      ],
      "metadata": {
        "id": "ebGO7GCtcSGT"
      },
      "execution_count": null,
      "outputs": []
    },
    {
      "cell_type": "code",
      "source": [
        "    bldgs  = simulatedBldgsGdf[(simulatedBldgsGdf['start_date']< d ) & (simulatedBldgsGdf['end_date']> d )].copy().reset_index(drop=True)\n",
        "    bldgs1 = bldgs.copy()\n",
        "    bldgs['start_date'] = bldgs['start_date'].astype(str)\n",
        "    bldgs['end_date'] = bldgs['end_date'].astype(str)\n",
        "    bldgsJson = json.loads(bldgs.to_json())"
      ],
      "metadata": {
        "id": "jNLkRTNA-XOn"
      },
      "execution_count": null,
      "outputs": []
    },
    {
      "cell_type": "code",
      "source": [
        "date_for_js_site = '2015 Q1'.replace(' ','_')"
      ],
      "metadata": {
        "id": "YWS1FuFhuHgY"
      },
      "execution_count": null,
      "outputs": []
    },
    {
      "cell_type": "code",
      "source": [
        "date_for_js_site"
      ],
      "metadata": {
        "colab": {
          "base_uri": "https://localhost:8080/",
          "height": 35
        },
        "id": "ssKI7GQXuJXc",
        "outputId": "99e1b0a8-b092-4ef1-d279-b3479950af02"
      },
      "execution_count": null,
      "outputs": [
        {
          "output_type": "execute_result",
          "data": {
            "text/plain": [
              "'2015_Q1'"
            ],
            "application/vnd.google.colaboratory.intrinsic+json": {
              "type": "string"
            }
          },
          "metadata": {},
          "execution_count": 36
        }
      ]
    },
    {
      "cell_type": "code",
      "source": [
        ""
      ],
      "metadata": {
        "id": "Q9divJy9uJlC"
      },
      "execution_count": null,
      "outputs": []
    },
    {
      "cell_type": "code",
      "source": [
        "url = 'https://shai2u.github.io/demographic_estimation_dashboard_article/BatYam_maplibre/map.html'\n",
        "r = requests.get(url, allow_redirects=True)\n",
        "open('/content/map.html', 'wb').write(r.content)\n"
      ],
      "metadata": {
        "colab": {
          "base_uri": "https://localhost:8080/"
        },
        "id": "gsNpCMCvdNU-",
        "outputId": "d202118a-ed80-4eab-f75e-338ecb23c94e"
      },
      "execution_count": null,
      "outputs": [
        {
          "output_type": "execute_result",
          "data": {
            "text/plain": [
              "8375"
            ]
          },
          "metadata": {},
          "execution_count": 54
        }
      ]
    },
    {
      "cell_type": "code",
      "source": [
        ""
      ],
      "metadata": {
        "id": "0CPlk25hU8r8"
      },
      "execution_count": null,
      "outputs": []
    },
    {
      "cell_type": "code",
      "source": [
        ""
      ],
      "metadata": {
        "id": "R4iY8lIFJ-ue"
      },
      "execution_count": null,
      "outputs": []
    },
    {
      "cell_type": "code",
      "source": [
        ""
      ],
      "metadata": {
        "id": "cnz0xb6_Jy2-"
      },
      "execution_count": null,
      "outputs": []
    },
    {
      "cell_type": "code",
      "source": [
        ""
      ],
      "metadata": {
        "id": "bq99fCFKdOB-"
      },
      "execution_count": null,
      "outputs": []
    },
    {
      "cell_type": "code",
      "source": [
        ""
      ],
      "metadata": {
        "id": "uZtdjFok-Uyu"
      },
      "execution_count": null,
      "outputs": []
    },
    {
      "cell_type": "code",
      "source": [
        ""
      ],
      "metadata": {
        "id": "-EriR92POROr"
      },
      "execution_count": null,
      "outputs": []
    },
    {
      "cell_type": "markdown",
      "source": [
        "# After Dash"
      ],
      "metadata": {
        "id": "uLthPiQmxSnb"
      }
    },
    {
      "cell_type": "code",
      "source": [
        ""
      ],
      "metadata": {
        "id": "dR4lgcgI7oEd"
      },
      "execution_count": null,
      "outputs": []
    },
    {
      "cell_type": "code",
      "source": [
        "contextual_height_global = 275\n",
        "apartment_graph('2025 Q3','2015 Q1')"
      ],
      "metadata": {
        "colab": {
          "base_uri": "https://localhost:8080/",
          "height": 292
        },
        "id": "ojux5ax19hy1",
        "outputId": "ea109203-94c2-402e-9c23-9905c3c21657"
      },
      "execution_count": null,
      "outputs": [
        {
          "output_type": "display_data",
          "data": {
            "text/html": [
              "<html>\n",
              "<head><meta charset=\"utf-8\" /></head>\n",
              "<body>\n",
              "    <div>            <script src=\"https://cdnjs.cloudflare.com/ajax/libs/mathjax/2.7.5/MathJax.js?config=TeX-AMS-MML_SVG\"></script><script type=\"text/javascript\">if (window.MathJax) {MathJax.Hub.Config({SVG: {font: \"STIX-Web\"}});}</script>                <script type=\"text/javascript\">window.PlotlyConfig = {MathJaxConfig: 'local'};</script>\n",
              "        <script src=\"https://cdn.plot.ly/plotly-2.8.3.min.js\"></script>                <div id=\"522d9c25-b761-422b-86f6-218b03b026d5\" class=\"plotly-graph-div\" style=\"height:275px; width:1200px;\"></div>            <script type=\"text/javascript\">                                    window.PLOTLYENV=window.PLOTLYENV || {};                                    if (document.getElementById(\"522d9c25-b761-422b-86f6-218b03b026d5\")) {                    Plotly.newPlot(                        \"522d9c25-b761-422b-86f6-218b03b026d5\",                        [{\"legendgroup\":\"New Comers\",\"legendgrouptitle\":{\"text\":\"New Comers\"},\"line\":{\"color\":\"royalblue\",\"width\":1},\"mode\":\"lines\",\"name\":\"Apartment Size Q1 (25%)\",\"x\":[\"2015 Q1\",\"2015 Q3\",\"2016 Q1\",\"2016 Q3\",\"2017 Q1\",\"2017 Q3\",\"2018 Q1\",\"2018 Q3\",\"2019 Q1\",\"2019 Q3\",\"2020 Q1\",\"2020 Q3\",\"2021 Q1\",\"2021 Q3\",\"2022 Q1\",\"2022 Q3\",\"2023 Q1\",\"2023 Q3\",\"2024 Q1\",\"2024 Q3\",\"2025 Q1\",\"2025 Q3\",\"2026 Q1\",\"2026 Q3\",\"2027 Q1\",\"2027 Q3\",\"2028 Q1\",\"2028 Q3\",\"2029 Q1\",\"2029 Q3\",\"2030 Q1\",\"2030 Q3\"],\"y\":[null,null,null,null,82.0,82.0,82.0,72.0,82.0,82.0,82.0,82.0,82.0,75.0,82.0,82.0,85.0,85.0,85.0,85.0,85.0,85.0],\"type\":\"scatter\"},{\"legendgroup\":\"New Comers\",\"legendgrouptitle\":{\"text\":\"New Comers\"},\"line\":{\"color\":\"royalblue\",\"width\":3},\"mode\":\"lines\",\"name\":\"Apartment Size Q2 (50%)\",\"x\":[\"2015 Q1\",\"2015 Q3\",\"2016 Q1\",\"2016 Q3\",\"2017 Q1\",\"2017 Q3\",\"2018 Q1\",\"2018 Q3\",\"2019 Q1\",\"2019 Q3\",\"2020 Q1\",\"2020 Q3\",\"2021 Q1\",\"2021 Q3\",\"2022 Q1\",\"2022 Q3\",\"2023 Q1\",\"2023 Q3\",\"2024 Q1\",\"2024 Q3\",\"2025 Q1\",\"2025 Q3\",\"2026 Q1\",\"2026 Q3\",\"2027 Q1\",\"2027 Q3\",\"2028 Q1\",\"2028 Q3\",\"2029 Q1\",\"2029 Q3\",\"2030 Q1\",\"2030 Q3\"],\"y\":[null,null,null,null,82.0,82.0,82.0,82.0,82.0,82.0,92.0,92.0,92.0,82.0,92.0,92.0,92.0,92.0,92.0,93.0,92.0,92.0],\"type\":\"scatter\"},{\"legendgroup\":\"New Comers\",\"legendgrouptitle\":{\"text\":\"New Comers\"},\"line\":{\"color\":\"royalblue\",\"width\":4},\"mode\":\"lines\",\"name\":\"Apartment Size Q3 (75%)\",\"x\":[\"2015 Q1\",\"2015 Q3\",\"2016 Q1\",\"2016 Q3\",\"2017 Q1\",\"2017 Q3\",\"2018 Q1\",\"2018 Q3\",\"2019 Q1\",\"2019 Q3\",\"2020 Q1\",\"2020 Q3\",\"2021 Q1\",\"2021 Q3\",\"2022 Q1\",\"2022 Q3\",\"2023 Q1\",\"2023 Q3\",\"2024 Q1\",\"2024 Q3\",\"2025 Q1\",\"2025 Q3\",\"2026 Q1\",\"2026 Q3\",\"2027 Q1\",\"2027 Q3\",\"2028 Q1\",\"2028 Q3\",\"2029 Q1\",\"2029 Q3\",\"2030 Q1\",\"2030 Q3\"],\"y\":[null,null,null,null,82.0,82.0,92.0,92.0,102.0,102.0,102.0,102.0,102.0,102.0,115.0,115.0,108.0,108.0,108.0,108.0,108.0,108.0],\"type\":\"scatter\"},{\"legendgroup\":\"Staying\",\"legendgrouptitle\":{\"text\":\"Staying\"},\"line\":{\"color\":\"firebrick\",\"width\":1},\"mode\":\"lines\",\"name\":\"Apartment Size Q1 (25%)\",\"x\":[\"2015 Q1\",\"2015 Q3\",\"2016 Q1\",\"2016 Q3\",\"2017 Q1\",\"2017 Q3\",\"2018 Q1\",\"2018 Q3\",\"2019 Q1\",\"2019 Q3\",\"2020 Q1\",\"2020 Q3\",\"2021 Q1\",\"2021 Q3\",\"2022 Q1\",\"2022 Q3\",\"2023 Q1\",\"2023 Q3\",\"2024 Q1\",\"2024 Q3\",\"2025 Q1\",\"2025 Q3\",\"2026 Q1\",\"2026 Q3\",\"2027 Q1\",\"2027 Q3\",\"2028 Q1\",\"2028 Q3\",\"2029 Q1\",\"2029 Q3\",\"2030 Q1\",\"2030 Q3\"],\"y\":[66.0,68.0,68.0,66.0,66.0,66.0,66.0,66.0,66.0,66.0,70.0,70.0,68.0,73.0,73.0,73.0,66.0,66.0,66.0,66.0,85.0,85.0],\"type\":\"scatter\"},{\"legendgroup\":\"Staying\",\"legendgrouptitle\":{\"text\":\"Staying\"},\"line\":{\"color\":\"firebrick\",\"width\":3},\"mode\":\"lines\",\"name\":\"Apartment Size Q2 (50%)\",\"x\":[\"2015 Q1\",\"2015 Q3\",\"2016 Q1\",\"2016 Q3\",\"2017 Q1\",\"2017 Q3\",\"2018 Q1\",\"2018 Q3\",\"2019 Q1\",\"2019 Q3\",\"2020 Q1\",\"2020 Q3\",\"2021 Q1\",\"2021 Q3\",\"2022 Q1\",\"2022 Q3\",\"2023 Q1\",\"2023 Q3\",\"2024 Q1\",\"2024 Q3\",\"2025 Q1\",\"2025 Q3\",\"2026 Q1\",\"2026 Q3\",\"2027 Q1\",\"2027 Q3\",\"2028 Q1\",\"2028 Q3\",\"2029 Q1\",\"2029 Q3\",\"2030 Q1\",\"2030 Q3\"],\"y\":[73.0,73.0,73.0,73.0,73.0,73.0,73.0,73.0,73.0,73.0,73.0,73.0,73.0,73.0,73.0,73.0,87.0,87.0,87.0,83.5,92.0,92.0],\"type\":\"scatter\"},{\"legendgroup\":\"Staying\",\"legendgrouptitle\":{\"text\":\"Staying\"},\"line\":{\"color\":\"firebrick\",\"width\":4},\"mode\":\"lines\",\"name\":\"Apartment Size Q3 (75%)\",\"x\":[\"2015 Q1\",\"2015 Q3\",\"2016 Q1\",\"2016 Q3\",\"2017 Q1\",\"2017 Q3\",\"2018 Q1\",\"2018 Q3\",\"2019 Q1\",\"2019 Q3\",\"2020 Q1\",\"2020 Q3\",\"2021 Q1\",\"2021 Q3\",\"2022 Q1\",\"2022 Q3\",\"2023 Q1\",\"2023 Q3\",\"2024 Q1\",\"2024 Q3\",\"2025 Q1\",\"2025 Q3\",\"2026 Q1\",\"2026 Q3\",\"2027 Q1\",\"2027 Q3\",\"2028 Q1\",\"2028 Q3\",\"2029 Q1\",\"2029 Q3\",\"2030 Q1\",\"2030 Q3\"],\"y\":[83.0,83.0,83.0,83.0,83.0,83.0,83.0,83.0,80.0,80.0,83.0,80.0,87.0,90.0,90.0,90.0,90.0,90.0,90.0,93.0,100.0,98.0],\"type\":\"scatter\"},{\"legendgroup\":\"Reference\",\"legendgrouptitle\":{\"text\":\"Reference\"},\"line\":{\"color\":\"LightSeaGreen\",\"dash\":\"dashdot\",\"width\":2},\"mode\":\"lines\",\"name\":\"2015 Q1\",\"x\":[\"2015 Q1\",\"2015 Q1\"],\"y\":[50,140],\"type\":\"scatter\"}],                        {\"template\":{\"data\":{\"barpolar\":[{\"marker\":{\"line\":{\"color\":\"white\",\"width\":0.5},\"pattern\":{\"fillmode\":\"overlay\",\"size\":10,\"solidity\":0.2}},\"type\":\"barpolar\"}],\"bar\":[{\"error_x\":{\"color\":\"#2a3f5f\"},\"error_y\":{\"color\":\"#2a3f5f\"},\"marker\":{\"line\":{\"color\":\"white\",\"width\":0.5},\"pattern\":{\"fillmode\":\"overlay\",\"size\":10,\"solidity\":0.2}},\"type\":\"bar\"}],\"carpet\":[{\"aaxis\":{\"endlinecolor\":\"#2a3f5f\",\"gridcolor\":\"#C8D4E3\",\"linecolor\":\"#C8D4E3\",\"minorgridcolor\":\"#C8D4E3\",\"startlinecolor\":\"#2a3f5f\"},\"baxis\":{\"endlinecolor\":\"#2a3f5f\",\"gridcolor\":\"#C8D4E3\",\"linecolor\":\"#C8D4E3\",\"minorgridcolor\":\"#C8D4E3\",\"startlinecolor\":\"#2a3f5f\"},\"type\":\"carpet\"}],\"choropleth\":[{\"colorbar\":{\"outlinewidth\":0,\"ticks\":\"\"},\"type\":\"choropleth\"}],\"contourcarpet\":[{\"colorbar\":{\"outlinewidth\":0,\"ticks\":\"\"},\"type\":\"contourcarpet\"}],\"contour\":[{\"colorbar\":{\"outlinewidth\":0,\"ticks\":\"\"},\"colorscale\":[[0.0,\"#0d0887\"],[0.1111111111111111,\"#46039f\"],[0.2222222222222222,\"#7201a8\"],[0.3333333333333333,\"#9c179e\"],[0.4444444444444444,\"#bd3786\"],[0.5555555555555556,\"#d8576b\"],[0.6666666666666666,\"#ed7953\"],[0.7777777777777778,\"#fb9f3a\"],[0.8888888888888888,\"#fdca26\"],[1.0,\"#f0f921\"]],\"type\":\"contour\"}],\"heatmapgl\":[{\"colorbar\":{\"outlinewidth\":0,\"ticks\":\"\"},\"colorscale\":[[0.0,\"#0d0887\"],[0.1111111111111111,\"#46039f\"],[0.2222222222222222,\"#7201a8\"],[0.3333333333333333,\"#9c179e\"],[0.4444444444444444,\"#bd3786\"],[0.5555555555555556,\"#d8576b\"],[0.6666666666666666,\"#ed7953\"],[0.7777777777777778,\"#fb9f3a\"],[0.8888888888888888,\"#fdca26\"],[1.0,\"#f0f921\"]],\"type\":\"heatmapgl\"}],\"heatmap\":[{\"colorbar\":{\"outlinewidth\":0,\"ticks\":\"\"},\"colorscale\":[[0.0,\"#0d0887\"],[0.1111111111111111,\"#46039f\"],[0.2222222222222222,\"#7201a8\"],[0.3333333333333333,\"#9c179e\"],[0.4444444444444444,\"#bd3786\"],[0.5555555555555556,\"#d8576b\"],[0.6666666666666666,\"#ed7953\"],[0.7777777777777778,\"#fb9f3a\"],[0.8888888888888888,\"#fdca26\"],[1.0,\"#f0f921\"]],\"type\":\"heatmap\"}],\"histogram2dcontour\":[{\"colorbar\":{\"outlinewidth\":0,\"ticks\":\"\"},\"colorscale\":[[0.0,\"#0d0887\"],[0.1111111111111111,\"#46039f\"],[0.2222222222222222,\"#7201a8\"],[0.3333333333333333,\"#9c179e\"],[0.4444444444444444,\"#bd3786\"],[0.5555555555555556,\"#d8576b\"],[0.6666666666666666,\"#ed7953\"],[0.7777777777777778,\"#fb9f3a\"],[0.8888888888888888,\"#fdca26\"],[1.0,\"#f0f921\"]],\"type\":\"histogram2dcontour\"}],\"histogram2d\":[{\"colorbar\":{\"outlinewidth\":0,\"ticks\":\"\"},\"colorscale\":[[0.0,\"#0d0887\"],[0.1111111111111111,\"#46039f\"],[0.2222222222222222,\"#7201a8\"],[0.3333333333333333,\"#9c179e\"],[0.4444444444444444,\"#bd3786\"],[0.5555555555555556,\"#d8576b\"],[0.6666666666666666,\"#ed7953\"],[0.7777777777777778,\"#fb9f3a\"],[0.8888888888888888,\"#fdca26\"],[1.0,\"#f0f921\"]],\"type\":\"histogram2d\"}],\"histogram\":[{\"marker\":{\"pattern\":{\"fillmode\":\"overlay\",\"size\":10,\"solidity\":0.2}},\"type\":\"histogram\"}],\"mesh3d\":[{\"colorbar\":{\"outlinewidth\":0,\"ticks\":\"\"},\"type\":\"mesh3d\"}],\"parcoords\":[{\"line\":{\"colorbar\":{\"outlinewidth\":0,\"ticks\":\"\"}},\"type\":\"parcoords\"}],\"pie\":[{\"automargin\":true,\"type\":\"pie\"}],\"scatter3d\":[{\"line\":{\"colorbar\":{\"outlinewidth\":0,\"ticks\":\"\"}},\"marker\":{\"colorbar\":{\"outlinewidth\":0,\"ticks\":\"\"}},\"type\":\"scatter3d\"}],\"scattercarpet\":[{\"marker\":{\"colorbar\":{\"outlinewidth\":0,\"ticks\":\"\"}},\"type\":\"scattercarpet\"}],\"scattergeo\":[{\"marker\":{\"colorbar\":{\"outlinewidth\":0,\"ticks\":\"\"}},\"type\":\"scattergeo\"}],\"scattergl\":[{\"marker\":{\"colorbar\":{\"outlinewidth\":0,\"ticks\":\"\"}},\"type\":\"scattergl\"}],\"scattermapbox\":[{\"marker\":{\"colorbar\":{\"outlinewidth\":0,\"ticks\":\"\"}},\"type\":\"scattermapbox\"}],\"scatterpolargl\":[{\"marker\":{\"colorbar\":{\"outlinewidth\":0,\"ticks\":\"\"}},\"type\":\"scatterpolargl\"}],\"scatterpolar\":[{\"marker\":{\"colorbar\":{\"outlinewidth\":0,\"ticks\":\"\"}},\"type\":\"scatterpolar\"}],\"scatter\":[{\"marker\":{\"colorbar\":{\"outlinewidth\":0,\"ticks\":\"\"}},\"type\":\"scatter\"}],\"scatterternary\":[{\"marker\":{\"colorbar\":{\"outlinewidth\":0,\"ticks\":\"\"}},\"type\":\"scatterternary\"}],\"surface\":[{\"colorbar\":{\"outlinewidth\":0,\"ticks\":\"\"},\"colorscale\":[[0.0,\"#0d0887\"],[0.1111111111111111,\"#46039f\"],[0.2222222222222222,\"#7201a8\"],[0.3333333333333333,\"#9c179e\"],[0.4444444444444444,\"#bd3786\"],[0.5555555555555556,\"#d8576b\"],[0.6666666666666666,\"#ed7953\"],[0.7777777777777778,\"#fb9f3a\"],[0.8888888888888888,\"#fdca26\"],[1.0,\"#f0f921\"]],\"type\":\"surface\"}],\"table\":[{\"cells\":{\"fill\":{\"color\":\"#EBF0F8\"},\"line\":{\"color\":\"white\"}},\"header\":{\"fill\":{\"color\":\"#C8D4E3\"},\"line\":{\"color\":\"white\"}},\"type\":\"table\"}]},\"layout\":{\"annotationdefaults\":{\"arrowcolor\":\"#2a3f5f\",\"arrowhead\":0,\"arrowwidth\":1},\"autotypenumbers\":\"strict\",\"coloraxis\":{\"colorbar\":{\"outlinewidth\":0,\"ticks\":\"\"}},\"colorscale\":{\"diverging\":[[0,\"#8e0152\"],[0.1,\"#c51b7d\"],[0.2,\"#de77ae\"],[0.3,\"#f1b6da\"],[0.4,\"#fde0ef\"],[0.5,\"#f7f7f7\"],[0.6,\"#e6f5d0\"],[0.7,\"#b8e186\"],[0.8,\"#7fbc41\"],[0.9,\"#4d9221\"],[1,\"#276419\"]],\"sequential\":[[0.0,\"#0d0887\"],[0.1111111111111111,\"#46039f\"],[0.2222222222222222,\"#7201a8\"],[0.3333333333333333,\"#9c179e\"],[0.4444444444444444,\"#bd3786\"],[0.5555555555555556,\"#d8576b\"],[0.6666666666666666,\"#ed7953\"],[0.7777777777777778,\"#fb9f3a\"],[0.8888888888888888,\"#fdca26\"],[1.0,\"#f0f921\"]],\"sequentialminus\":[[0.0,\"#0d0887\"],[0.1111111111111111,\"#46039f\"],[0.2222222222222222,\"#7201a8\"],[0.3333333333333333,\"#9c179e\"],[0.4444444444444444,\"#bd3786\"],[0.5555555555555556,\"#d8576b\"],[0.6666666666666666,\"#ed7953\"],[0.7777777777777778,\"#fb9f3a\"],[0.8888888888888888,\"#fdca26\"],[1.0,\"#f0f921\"]]},\"colorway\":[\"#636efa\",\"#EF553B\",\"#00cc96\",\"#ab63fa\",\"#FFA15A\",\"#19d3f3\",\"#FF6692\",\"#B6E880\",\"#FF97FF\",\"#FECB52\"],\"font\":{\"color\":\"#2a3f5f\"},\"geo\":{\"bgcolor\":\"white\",\"lakecolor\":\"white\",\"landcolor\":\"white\",\"showlakes\":true,\"showland\":true,\"subunitcolor\":\"#C8D4E3\"},\"hoverlabel\":{\"align\":\"left\"},\"hovermode\":\"closest\",\"mapbox\":{\"style\":\"light\"},\"paper_bgcolor\":\"white\",\"plot_bgcolor\":\"white\",\"polar\":{\"angularaxis\":{\"gridcolor\":\"#EBF0F8\",\"linecolor\":\"#EBF0F8\",\"ticks\":\"\"},\"bgcolor\":\"white\",\"radialaxis\":{\"gridcolor\":\"#EBF0F8\",\"linecolor\":\"#EBF0F8\",\"ticks\":\"\"}},\"scene\":{\"xaxis\":{\"backgroundcolor\":\"white\",\"gridcolor\":\"#DFE8F3\",\"gridwidth\":2,\"linecolor\":\"#EBF0F8\",\"showbackground\":true,\"ticks\":\"\",\"zerolinecolor\":\"#EBF0F8\"},\"yaxis\":{\"backgroundcolor\":\"white\",\"gridcolor\":\"#DFE8F3\",\"gridwidth\":2,\"linecolor\":\"#EBF0F8\",\"showbackground\":true,\"ticks\":\"\",\"zerolinecolor\":\"#EBF0F8\"},\"zaxis\":{\"backgroundcolor\":\"white\",\"gridcolor\":\"#DFE8F3\",\"gridwidth\":2,\"linecolor\":\"#EBF0F8\",\"showbackground\":true,\"ticks\":\"\",\"zerolinecolor\":\"#EBF0F8\"}},\"shapedefaults\":{\"line\":{\"color\":\"#2a3f5f\"}},\"ternary\":{\"aaxis\":{\"gridcolor\":\"#DFE8F3\",\"linecolor\":\"#A2B1C6\",\"ticks\":\"\"},\"baxis\":{\"gridcolor\":\"#DFE8F3\",\"linecolor\":\"#A2B1C6\",\"ticks\":\"\"},\"bgcolor\":\"white\",\"caxis\":{\"gridcolor\":\"#DFE8F3\",\"linecolor\":\"#A2B1C6\",\"ticks\":\"\"}},\"title\":{\"x\":0.05},\"xaxis\":{\"automargin\":true,\"gridcolor\":\"#EBF0F8\",\"linecolor\":\"#EBF0F8\",\"ticks\":\"\",\"title\":{\"standoff\":15},\"zerolinecolor\":\"#EBF0F8\",\"zerolinewidth\":2},\"yaxis\":{\"automargin\":true,\"gridcolor\":\"#EBF0F8\",\"linecolor\":\"#EBF0F8\",\"ticks\":\"\",\"title\":{\"standoff\":15},\"zerolinecolor\":\"#EBF0F8\",\"zerolinewidth\":2}}},\"margin\":{\"r\":0,\"t\":35,\"l\":0,\"b\":35,\"pad\":0},\"legend\":{\"orientation\":\"h\",\"yanchor\":\"top\",\"y\":0.99,\"xanchor\":\"left\",\"x\":0.01},\"title\":{\"text\":\"Apartment Size quarter distribution for Staying vs New Comers\"},\"yaxis\":{\"title\":{\"text\":\"m<sup>2</sup>\"},\"range\":[50,160]},\"width\":1200,\"height\":275,\"hovermode\":\"x unified\",\"xaxis\":{\"range\":[0,32]}},                        {\"responsive\": true}                    ).then(function(){\n",
              "                            \n",
              "var gd = document.getElementById('522d9c25-b761-422b-86f6-218b03b026d5');\n",
              "var x = new MutationObserver(function (mutations, observer) {{\n",
              "        var display = window.getComputedStyle(gd).display;\n",
              "        if (!display || display === 'none') {{\n",
              "            console.log([gd, 'removed!']);\n",
              "            Plotly.purge(gd);\n",
              "            observer.disconnect();\n",
              "        }}\n",
              "}});\n",
              "\n",
              "// Listen for the removal of the full notebook cells\n",
              "var notebookContainer = gd.closest('#notebook-container');\n",
              "if (notebookContainer) {{\n",
              "    x.observe(notebookContainer, {childList: true});\n",
              "}}\n",
              "\n",
              "// Listen for the clearing of the current output cell\n",
              "var outputEl = gd.closest('.output');\n",
              "if (outputEl) {{\n",
              "    x.observe(outputEl, {childList: true});\n",
              "}}\n",
              "\n",
              "                        })                };                            </script>        </div>\n",
              "</body>\n",
              "</html>"
            ]
          },
          "metadata": {}
        }
      ]
    },
    {
      "cell_type": "code",
      "source": [
        "df_less_columns = agents_stat_summary_by_year[['year','New Comers_apartment_size_q1','New Comers_apartment_size_q2','New Comers_apartment_size_q3','stay_apartment_size_q1','stay_apartment_size_q2','stay_apartment_size_q3']].copy().fillna(0)\n"
      ],
      "metadata": {
        "id": "r5yL4Q-g9xZZ"
      },
      "execution_count": null,
      "outputs": []
    },
    {
      "cell_type": "code",
      "source": [
        "agents_stat_summary_by_year"
      ],
      "metadata": {
        "id": "IVQLERW693Z6",
        "colab": {
          "base_uri": "https://localhost:8080/",
          "height": 1000
        },
        "outputId": "782ac3b1-01b7-434d-c633-ebd07a896e33"
      },
      "execution_count": null,
      "outputs": [
        {
          "output_type": "execute_result",
          "data": {
            "text/plain": [
              "    Unnamed: 0     year  New Comers_apartment_size_q1  stay_apartment_size_q1  \\\n",
              "0            0  2015 Q1                           NaN                    66.0   \n",
              "1            0  2015 Q3                           NaN                    68.0   \n",
              "2            0  2016 Q1                           NaN                    68.0   \n",
              "3            0  2016 Q3                           NaN                    66.0   \n",
              "4            0  2017 Q1                          82.0                    66.0   \n",
              "5            0  2017 Q3                          82.0                    66.0   \n",
              "6            0  2018 Q1                          82.0                    66.0   \n",
              "7            0  2018 Q3                          72.0                    66.0   \n",
              "8            0  2019 Q1                          82.0                    66.0   \n",
              "9            0  2019 Q3                          82.0                    66.0   \n",
              "10           0  2020 Q1                          82.0                    70.0   \n",
              "11           0  2020 Q3                          82.0                    70.0   \n",
              "12           0  2021 Q1                          82.0                    68.0   \n",
              "13           0  2021 Q3                          75.0                    73.0   \n",
              "14           0  2022 Q1                          82.0                    73.0   \n",
              "15           0  2022 Q3                          82.0                    73.0   \n",
              "16           0  2023 Q1                          85.0                    66.0   \n",
              "17           0  2023 Q3                          85.0                    66.0   \n",
              "18           0  2024 Q1                          85.0                    66.0   \n",
              "19           0  2024 Q3                          85.0                    66.0   \n",
              "20           0  2025 Q1                          85.0                    85.0   \n",
              "21           0  2025 Q3                          85.0                    85.0   \n",
              "22           0  2026 Q1                          89.0                    85.0   \n",
              "23           0  2026 Q3                          89.0                    85.0   \n",
              "24           0  2027 Q1                          89.0                    85.0   \n",
              "25           0  2027 Q3                          89.0                    88.0   \n",
              "26           0  2028 Q1                          89.0                    89.0   \n",
              "27           0  2028 Q3                          91.0                    90.0   \n",
              "28           0  2029 Q1                          91.0                    90.0   \n",
              "29           0  2029 Q3                          91.0                    90.0   \n",
              "30           0  2030 Q1                          91.0                    90.0   \n",
              "31           0  2030 Q3                          91.0                    90.0   \n",
              "\n",
              "    New Comers_apartment_size_q2  stay_apartment_size_q2  \\\n",
              "0                            NaN                    73.0   \n",
              "1                            NaN                    73.0   \n",
              "2                            NaN                    73.0   \n",
              "3                            NaN                    73.0   \n",
              "4                           82.0                    73.0   \n",
              "5                           82.0                    73.0   \n",
              "6                           82.0                    73.0   \n",
              "7                           82.0                    73.0   \n",
              "8                           82.0                    73.0   \n",
              "9                           82.0                    73.0   \n",
              "10                          92.0                    73.0   \n",
              "11                          92.0                    73.0   \n",
              "12                          92.0                    73.0   \n",
              "13                          82.0                    73.0   \n",
              "14                          92.0                    73.0   \n",
              "15                          92.0                    73.0   \n",
              "16                          92.0                    87.0   \n",
              "17                          92.0                    87.0   \n",
              "18                          92.0                    87.0   \n",
              "19                          93.0                    83.5   \n",
              "20                          92.0                    92.0   \n",
              "21                          92.0                    92.0   \n",
              "22                          98.0                    98.0   \n",
              "23                          98.0                    98.0   \n",
              "24                          98.0                    98.0   \n",
              "25                          98.0                    98.0   \n",
              "26                          98.0                    93.0   \n",
              "27                          98.0                    98.0   \n",
              "28                          98.0                    98.0   \n",
              "29                          98.0                    98.0   \n",
              "30                          98.0                    98.0   \n",
              "31                          98.0                    98.0   \n",
              "\n",
              "    New Comers_apartment_size_q3  stay_apartment_size_q3  New Comers_age_q1  \\\n",
              "0                            NaN                    83.0                NaN   \n",
              "1                            NaN                    83.0                NaN   \n",
              "2                            NaN                    83.0                NaN   \n",
              "3                            NaN                    83.0                NaN   \n",
              "4                           82.0                    83.0              32.00   \n",
              "5                           82.0                    83.0              32.00   \n",
              "6                           92.0                    83.0              31.75   \n",
              "7                           92.0                    83.0              31.00   \n",
              "8                          102.0                    80.0              32.00   \n",
              "9                          102.0                    80.0              32.00   \n",
              "10                         102.0                    83.0              33.50   \n",
              "11                         102.0                    80.0              33.50   \n",
              "12                         102.0                    87.0              34.50   \n",
              "13                         102.0                    90.0              34.00   \n",
              "14                         115.0                    90.0              35.00   \n",
              "15                         115.0                    90.0              34.00   \n",
              "16                         108.0                    90.0              34.00   \n",
              "17                         108.0                    90.0              34.00   \n",
              "18                         108.0                    90.0              35.00   \n",
              "19                         108.0                    93.0              35.00   \n",
              "20                         108.0                   100.0              36.00   \n",
              "21                         108.0                    98.0              36.00   \n",
              "22                         108.0                    98.0              36.00   \n",
              "23                         108.0                    98.0              36.00   \n",
              "24                         108.0                    98.0              36.00   \n",
              "25                         112.0                    98.0              36.00   \n",
              "26                         112.0                    98.0              37.00   \n",
              "27                         112.0                    98.0              37.00   \n",
              "28                         112.0                    98.0              38.00   \n",
              "29                         112.0                    98.0              38.00   \n",
              "30                         112.0                    98.0              39.00   \n",
              "31                         112.0                    98.0              39.00   \n",
              "\n",
              "    stay_age_q1  New Comers_age_q2  stay_age_q2  New Comers_age_q3  \\\n",
              "0         30.00                NaN         42.0                NaN   \n",
              "1         30.00                NaN         42.0                NaN   \n",
              "2         31.00                NaN         43.0                NaN   \n",
              "3         31.00                NaN         43.0                NaN   \n",
              "4         32.00               47.0         44.0              60.00   \n",
              "5         32.00               47.0         44.0              60.00   \n",
              "6         33.00               42.0         45.0              60.25   \n",
              "7         33.00               44.0         45.0              59.00   \n",
              "8         34.00               46.0         46.5              62.00   \n",
              "9         34.00               46.0         46.5              62.00   \n",
              "10        35.75               47.0         48.0              64.50   \n",
              "11        35.00               47.0         48.0              64.50   \n",
              "12        37.00               48.0         48.0              65.50   \n",
              "13        37.00               47.0         49.0              64.00   \n",
              "14        38.00               47.5         50.0              64.00   \n",
              "15        38.00               47.0         50.0              64.00   \n",
              "16        38.00               47.5         50.0              65.00   \n",
              "17        38.00               47.5         50.0              65.00   \n",
              "18        39.00               48.0         51.0              65.00   \n",
              "19        37.75               49.0         49.0              65.00   \n",
              "20        38.50               49.0         47.0              66.00   \n",
              "21        38.25               49.0         48.0              66.00   \n",
              "22        40.00               49.0         49.5              65.00   \n",
              "23        40.00               49.0         49.5              65.00   \n",
              "24        41.50               49.0         52.0              66.00   \n",
              "25        41.75               49.0         52.0              66.00   \n",
              "26        42.00               50.0         53.0              66.00   \n",
              "27        42.00               50.0         53.0              66.00   \n",
              "28        43.00               51.0         54.0              67.00   \n",
              "29        43.00               51.0         54.0              67.00   \n",
              "30        44.00               52.0         55.0              68.00   \n",
              "31        44.00               52.0         55.0              68.00   \n",
              "\n",
              "    stay_age_q3  New Comers_income_q1  stay_income_q1  New Comers_income_q2  \\\n",
              "0         65.00                   NaN         6403.00                   NaN   \n",
              "1         65.00                   NaN         6413.50                   NaN   \n",
              "2         66.00                   NaN         6413.50                   NaN   \n",
              "3         65.25                   NaN         6427.00                   NaN   \n",
              "4         66.75          18838.105263         6496.00          21097.105263   \n",
              "5         66.75          18838.105263         6496.00          21097.105263   \n",
              "6         68.00          19619.105263         6497.00          21099.868421   \n",
              "7         68.00          18584.605263         6497.00          20230.421053   \n",
              "8         69.00          19415.105263         6503.75          21815.473684   \n",
              "9         69.00          19415.105263         6503.75          21815.473684   \n",
              "10        70.00          19647.500000         6559.75          21859.789474   \n",
              "11        70.00          19647.500000         6555.25          21859.789474   \n",
              "12        70.00          19647.500000         6657.50          21859.789474   \n",
              "13        70.00          19106.513158         6657.50          21248.105263   \n",
              "14        71.00          20189.197368         6674.00          23657.960526   \n",
              "15        70.00          20163.289474         6676.00          23013.315789   \n",
              "16        66.00          20239.059211         8092.50          22924.026316   \n",
              "17        66.00          20239.059211         8092.50          22924.026316   \n",
              "18        64.00          20541.664474         8090.00          23178.907895   \n",
              "19        60.25          20689.427632         8547.00          23073.894737   \n",
              "20        57.50          20607.381579        11098.00          22880.210526   \n",
              "21        57.00          20607.381579        11157.25          22880.210526   \n",
              "22        58.00          21203.355263         8837.25          23268.526316   \n",
              "23        58.00          21203.355263         8837.25          23268.526316   \n",
              "24        59.00          21519.263158         8828.50          23674.605263   \n",
              "25        59.25          21648.565789         8866.25          23874.171053   \n",
              "26        61.00          21614.210526         8543.00          23763.236842   \n",
              "27        60.50          21655.315789         8566.00          23851.210526   \n",
              "28        61.50          21655.315789         8566.00          23851.210526   \n",
              "29        61.50          21655.315789         8566.00          23851.210526   \n",
              "30        62.50          21655.315789         8566.00          23851.210526   \n",
              "31        62.50          21655.315789         8566.00          23851.210526   \n",
              "\n",
              "    stay_income_q2  New Comers_income_q3  stay_income_q3  New Comers_rent  \\\n",
              "0           8771.0                   NaN        11667.00              NaN   \n",
              "1           8804.0                   NaN        11669.00              NaN   \n",
              "2           8804.0                   NaN        11669.00              NaN   \n",
              "3           8833.5                   NaN        11729.75              NaN   \n",
              "4           8934.5          22033.947368        11806.25             11.0   \n",
              "5           8934.5          22033.947368        11806.25             11.0   \n",
              "6           8933.0          22017.447368        11867.50             31.0   \n",
              "7           8933.0          22263.842105        11867.50             69.0   \n",
              "8           8965.0          25173.131579        11886.75             90.0   \n",
              "9           8965.0          25173.131579        11886.75             90.0   \n",
              "10          9029.5          24520.421053        11914.50            104.0   \n",
              "11          8934.5          24520.421053        11853.00            104.0   \n",
              "12          8950.0          24520.421053        11787.75            104.0   \n",
              "13          8856.5          24477.657895        11670.00            152.0   \n",
              "14          8932.0          26538.348684        11741.50            251.0   \n",
              "15          8930.0          26325.611842        11698.50            288.0   \n",
              "16         10995.0          25811.611842        13069.50            481.0   \n",
              "17         10995.0          25811.611842        13069.50            481.0   \n",
              "18         10995.0          25911.526316        13071.00            521.0   \n",
              "19         11499.5          25555.763158        13281.00            570.0   \n",
              "20         12540.0          25270.328947        13866.00            629.0   \n",
              "21         12568.0          25270.328947        13809.00            629.0   \n",
              "22         11536.0          25387.657895        13119.25            822.0   \n",
              "23         11536.0          25387.657895        13119.25            822.0   \n",
              "24         11557.0          26065.052632        13255.50            921.0   \n",
              "25         11666.0          26217.782895        13425.50            962.0   \n",
              "26         11512.0          26014.894737        13356.00           1045.0   \n",
              "27         11515.0          26217.210526        13384.00           1068.0   \n",
              "28         11515.0          26217.210526        13384.00           1068.0   \n",
              "29         11515.0          26217.210526        13384.00           1068.0   \n",
              "30         11515.0          26217.210526        13384.00           1068.0   \n",
              "31         11515.0          26217.210526        13384.00           1068.0   \n",
              "\n",
              "    stay_rent  New Comers_own  stay_own  New Comers_income_low  \\\n",
              "0         318             NaN       579                    NaN   \n",
              "1         310             NaN       565                    NaN   \n",
              "2         310             NaN       565                    NaN   \n",
              "3         294             NaN       542                    NaN   \n",
              "4         282            14.0       520                    0.0   \n",
              "5         282            14.0       520                    0.0   \n",
              "6         278            53.0       517                    0.0   \n",
              "7         278           134.0       517                    0.0   \n",
              "8         271           195.0       493                    0.0   \n",
              "9         271           195.0       493                    0.0   \n",
              "10        229           219.0       435                    0.0   \n",
              "11        219           219.0       415                    0.0   \n",
              "12        180           219.0       358                    0.0   \n",
              "13        155           315.0       315                    0.0   \n",
              "14        155           481.0       321                    0.0   \n",
              "15        141           542.0       306                    0.0   \n",
              "16         51           883.0       220                    0.0   \n",
              "17         51           883.0       220                    0.0   \n",
              "18         51           941.0       222                    0.0   \n",
              "19         27          1052.0       161                    0.0   \n",
              "20          2          1174.0       121                    0.0   \n",
              "21          0          1174.0       114                    0.0   \n",
              "22          0          1561.0       164                    0.0   \n",
              "23          0          1561.0       164                    0.0   \n",
              "24          0          1740.0       171                    0.0   \n",
              "25          0          1824.0       176                    0.0   \n",
              "26          0          1944.0       193                    0.0   \n",
              "27          0          1989.0       195                    0.0   \n",
              "28          0          1989.0       195                    0.0   \n",
              "29          0          1989.0       195                    0.0   \n",
              "30          0          1989.0       195                    0.0   \n",
              "31          0          1989.0       195                    0.0   \n",
              "\n",
              "    stay_income_low  New Comers_income_medium  stay_income_medium  \\\n",
              "0             470.0                       NaN               427.0   \n",
              "1             454.0                       NaN               421.0   \n",
              "2             454.0                       NaN               421.0   \n",
              "3             432.0                       NaN               404.0   \n",
              "4             405.0                      11.0               397.0   \n",
              "5             405.0                      11.0               397.0   \n",
              "6             402.0                      20.0               393.0   \n",
              "7             402.0                      75.0               393.0   \n",
              "8             384.0                      75.0               380.0   \n",
              "9             384.0                      75.0               380.0   \n",
              "10            331.0                      76.0               333.0   \n",
              "11            320.0                      76.0               314.0   \n",
              "12            271.0                      76.0               267.0   \n",
              "13            242.0                     139.0               228.0   \n",
              "14            242.0                     139.0               234.0   \n",
              "15            229.0                     152.0               218.0   \n",
              "16             84.0                     235.0               187.0   \n",
              "17             84.0                     235.0               187.0   \n",
              "18             85.0                     235.0               188.0   \n",
              "19             55.0                     237.0               133.0   \n",
              "20             17.0                     244.0               106.0   \n",
              "21             14.0                     244.0               100.0   \n",
              "22             50.0                     244.0               114.0   \n",
              "23             50.0                     244.0               114.0   \n",
              "24             52.0                     244.0               119.0   \n",
              "25             52.0                     244.0               124.0   \n",
              "26             63.0                     248.0               130.0   \n",
              "27             63.0                     248.0               132.0   \n",
              "28             63.0                     248.0               132.0   \n",
              "29             63.0                     248.0               132.0   \n",
              "30             63.0                     248.0               132.0   \n",
              "31             63.0                     248.0               132.0   \n",
              "\n",
              "    New Comers_income_high  stay_income_high  New Comers   stay  total_pop  \\\n",
              "0                      NaN               0.0         NaN  897.0        NaN   \n",
              "1                      NaN               0.0         NaN  875.0        NaN   \n",
              "2                      NaN               0.0         NaN  875.0        NaN   \n",
              "3                      NaN               0.0         NaN  836.0        NaN   \n",
              "4                     14.0               0.0        25.0  802.0      827.0   \n",
              "5                     14.0               0.0        25.0  802.0      827.0   \n",
              "6                     64.0               0.0        84.0  795.0      879.0   \n",
              "7                    128.0               0.0       203.0  795.0      998.0   \n",
              "8                    210.0               0.0       285.0  764.0     1049.0   \n",
              "9                    210.0               0.0       285.0  764.0     1049.0   \n",
              "10                   247.0               0.0       323.0  664.0      987.0   \n",
              "11                   247.0               0.0       323.0  634.0      957.0   \n",
              "12                   247.0               0.0       323.0  538.0      861.0   \n",
              "13                   328.0               0.0       467.0  470.0      937.0   \n",
              "14                   593.0               0.0       732.0  476.0     1208.0   \n",
              "15                   678.0               0.0       830.0  447.0     1277.0   \n",
              "16                  1129.0               0.0      1364.0  271.0     1635.0   \n",
              "17                  1129.0               0.0      1364.0  271.0     1635.0   \n",
              "18                  1227.0               0.0      1462.0  273.0     1735.0   \n",
              "19                  1385.0               0.0      1622.0  188.0     1810.0   \n",
              "20                  1559.0               0.0      1803.0  123.0     1926.0   \n",
              "21                  1559.0               0.0      1803.0  114.0     1917.0   \n",
              "22                  2139.0               0.0      2383.0  164.0     2547.0   \n",
              "23                  2139.0               0.0      2383.0  164.0     2547.0   \n",
              "24                  2417.0               0.0      2661.0  171.0     2832.0   \n",
              "25                  2542.0               0.0      2786.0  176.0     2962.0   \n",
              "26                  2741.0               0.0      2989.0  193.0     3182.0   \n",
              "27                  2809.0               0.0      3057.0  195.0     3252.0   \n",
              "28                  2809.0               0.0      3057.0  195.0     3252.0   \n",
              "29                  2809.0               0.0      3057.0  195.0     3252.0   \n",
              "30                  2809.0               0.0      3057.0  195.0     3252.0   \n",
              "31                  2809.0               0.0      3057.0  195.0     3252.0   \n",
              "\n",
              "    New Comers_income_low_ratio  New Comers_income_medium_ratio  \\\n",
              "0                           NaN                             NaN   \n",
              "1                           NaN                             NaN   \n",
              "2                           NaN                             NaN   \n",
              "3                           NaN                             NaN   \n",
              "4                           0.0                        0.013301   \n",
              "5                           0.0                        0.013301   \n",
              "6                           0.0                        0.022753   \n",
              "7                           0.0                        0.075150   \n",
              "8                           0.0                        0.071497   \n",
              "9                           0.0                        0.071497   \n",
              "10                          0.0                        0.077001   \n",
              "11                          0.0                        0.079415   \n",
              "12                          0.0                        0.088269   \n",
              "13                          0.0                        0.148346   \n",
              "14                          0.0                        0.115066   \n",
              "15                          0.0                        0.119029   \n",
              "16                          0.0                        0.143731   \n",
              "17                          0.0                        0.143731   \n",
              "18                          0.0                        0.135447   \n",
              "19                          0.0                        0.130939   \n",
              "20                          0.0                        0.126687   \n",
              "21                          0.0                        0.127282   \n",
              "22                          0.0                        0.095799   \n",
              "23                          0.0                        0.095799   \n",
              "24                          0.0                        0.086158   \n",
              "25                          0.0                        0.082377   \n",
              "26                          0.0                        0.077938   \n",
              "27                          0.0                        0.076261   \n",
              "28                          0.0                        0.076261   \n",
              "29                          0.0                        0.076261   \n",
              "30                          0.0                        0.076261   \n",
              "31                          0.0                        0.076261   \n",
              "\n",
              "    New Comers_income_high_ratio  stay_income_low_ratio  \\\n",
              "0                            NaN                    NaN   \n",
              "1                            NaN                    NaN   \n",
              "2                            NaN                    NaN   \n",
              "3                            NaN                    NaN   \n",
              "4                       0.016929               0.489722   \n",
              "5                       0.016929               0.489722   \n",
              "6                       0.072810               0.457338   \n",
              "7                       0.128257               0.402806   \n",
              "8                       0.200191               0.366063   \n",
              "9                       0.200191               0.366063   \n",
              "10                      0.250253               0.335360   \n",
              "11                      0.258098               0.334378   \n",
              "12                      0.286876               0.314750   \n",
              "13                      0.350053               0.258271   \n",
              "14                      0.490894               0.200331   \n",
              "15                      0.530932               0.179327   \n",
              "16                      0.690520               0.051376   \n",
              "17                      0.690520               0.051376   \n",
              "18                      0.707205               0.048991   \n",
              "19                      0.765193               0.030387   \n",
              "20                      0.809450               0.008827   \n",
              "21                      0.813250               0.007303   \n",
              "22                      0.839812               0.019631   \n",
              "23                      0.839812               0.019631   \n",
              "24                      0.853460               0.018362   \n",
              "25                      0.858204               0.017556   \n",
              "26                      0.861408               0.019799   \n",
              "27                      0.863776               0.019373   \n",
              "28                      0.863776               0.019373   \n",
              "29                      0.863776               0.019373   \n",
              "30                      0.863776               0.019373   \n",
              "31                      0.863776               0.019373   \n",
              "\n",
              "    stay_income_medium_ratio  stay_income_high_ratio  \n",
              "0                        NaN                     NaN  \n",
              "1                        NaN                     NaN  \n",
              "2                        NaN                     NaN  \n",
              "3                        NaN                     NaN  \n",
              "4                   0.480048                     0.0  \n",
              "5                   0.480048                     0.0  \n",
              "6                   0.447099                     0.0  \n",
              "7                   0.393788                     0.0  \n",
              "8                   0.362250                     0.0  \n",
              "9                   0.362250                     0.0  \n",
              "10                  0.337386                     0.0  \n",
              "11                  0.328109                     0.0  \n",
              "12                  0.310105                     0.0  \n",
              "13                  0.243330                     0.0  \n",
              "14                  0.193709                     0.0  \n",
              "15                  0.170713                     0.0  \n",
              "16                  0.114373                     0.0  \n",
              "17                  0.114373                     0.0  \n",
              "18                  0.108357                     0.0  \n",
              "19                  0.073481                     0.0  \n",
              "20                  0.055036                     0.0  \n",
              "21                  0.052165                     0.0  \n",
              "22                  0.044759                     0.0  \n",
              "23                  0.044759                     0.0  \n",
              "24                  0.042020                     0.0  \n",
              "25                  0.041864                     0.0  \n",
              "26                  0.040855                     0.0  \n",
              "27                  0.040590                     0.0  \n",
              "28                  0.040590                     0.0  \n",
              "29                  0.040590                     0.0  \n",
              "30                  0.040590                     0.0  \n",
              "31                  0.040590                     0.0  "
            ],
            "text/html": [
              "\n",
              "  <div id=\"df-72bb74c6-b978-4357-b6d0-1ddf20418404\">\n",
              "    <div class=\"colab-df-container\">\n",
              "      <div>\n",
              "<style scoped>\n",
              "    .dataframe tbody tr th:only-of-type {\n",
              "        vertical-align: middle;\n",
              "    }\n",
              "\n",
              "    .dataframe tbody tr th {\n",
              "        vertical-align: top;\n",
              "    }\n",
              "\n",
              "    .dataframe thead th {\n",
              "        text-align: right;\n",
              "    }\n",
              "</style>\n",
              "<table border=\"1\" class=\"dataframe\">\n",
              "  <thead>\n",
              "    <tr style=\"text-align: right;\">\n",
              "      <th></th>\n",
              "      <th>Unnamed: 0</th>\n",
              "      <th>year</th>\n",
              "      <th>New Comers_apartment_size_q1</th>\n",
              "      <th>stay_apartment_size_q1</th>\n",
              "      <th>New Comers_apartment_size_q2</th>\n",
              "      <th>stay_apartment_size_q2</th>\n",
              "      <th>New Comers_apartment_size_q3</th>\n",
              "      <th>stay_apartment_size_q3</th>\n",
              "      <th>New Comers_age_q1</th>\n",
              "      <th>stay_age_q1</th>\n",
              "      <th>New Comers_age_q2</th>\n",
              "      <th>stay_age_q2</th>\n",
              "      <th>New Comers_age_q3</th>\n",
              "      <th>stay_age_q3</th>\n",
              "      <th>New Comers_income_q1</th>\n",
              "      <th>stay_income_q1</th>\n",
              "      <th>New Comers_income_q2</th>\n",
              "      <th>stay_income_q2</th>\n",
              "      <th>New Comers_income_q3</th>\n",
              "      <th>stay_income_q3</th>\n",
              "      <th>New Comers_rent</th>\n",
              "      <th>stay_rent</th>\n",
              "      <th>New Comers_own</th>\n",
              "      <th>stay_own</th>\n",
              "      <th>New Comers_income_low</th>\n",
              "      <th>stay_income_low</th>\n",
              "      <th>New Comers_income_medium</th>\n",
              "      <th>stay_income_medium</th>\n",
              "      <th>New Comers_income_high</th>\n",
              "      <th>stay_income_high</th>\n",
              "      <th>New Comers</th>\n",
              "      <th>stay</th>\n",
              "      <th>total_pop</th>\n",
              "      <th>New Comers_income_low_ratio</th>\n",
              "      <th>New Comers_income_medium_ratio</th>\n",
              "      <th>New Comers_income_high_ratio</th>\n",
              "      <th>stay_income_low_ratio</th>\n",
              "      <th>stay_income_medium_ratio</th>\n",
              "      <th>stay_income_high_ratio</th>\n",
              "    </tr>\n",
              "  </thead>\n",
              "  <tbody>\n",
              "    <tr>\n",
              "      <th>0</th>\n",
              "      <td>0</td>\n",
              "      <td>2015 Q1</td>\n",
              "      <td>NaN</td>\n",
              "      <td>66.0</td>\n",
              "      <td>NaN</td>\n",
              "      <td>73.0</td>\n",
              "      <td>NaN</td>\n",
              "      <td>83.0</td>\n",
              "      <td>NaN</td>\n",
              "      <td>30.00</td>\n",
              "      <td>NaN</td>\n",
              "      <td>42.0</td>\n",
              "      <td>NaN</td>\n",
              "      <td>65.00</td>\n",
              "      <td>NaN</td>\n",
              "      <td>6403.00</td>\n",
              "      <td>NaN</td>\n",
              "      <td>8771.0</td>\n",
              "      <td>NaN</td>\n",
              "      <td>11667.00</td>\n",
              "      <td>NaN</td>\n",
              "      <td>318</td>\n",
              "      <td>NaN</td>\n",
              "      <td>579</td>\n",
              "      <td>NaN</td>\n",
              "      <td>470.0</td>\n",
              "      <td>NaN</td>\n",
              "      <td>427.0</td>\n",
              "      <td>NaN</td>\n",
              "      <td>0.0</td>\n",
              "      <td>NaN</td>\n",
              "      <td>897.0</td>\n",
              "      <td>NaN</td>\n",
              "      <td>NaN</td>\n",
              "      <td>NaN</td>\n",
              "      <td>NaN</td>\n",
              "      <td>NaN</td>\n",
              "      <td>NaN</td>\n",
              "      <td>NaN</td>\n",
              "    </tr>\n",
              "    <tr>\n",
              "      <th>1</th>\n",
              "      <td>0</td>\n",
              "      <td>2015 Q3</td>\n",
              "      <td>NaN</td>\n",
              "      <td>68.0</td>\n",
              "      <td>NaN</td>\n",
              "      <td>73.0</td>\n",
              "      <td>NaN</td>\n",
              "      <td>83.0</td>\n",
              "      <td>NaN</td>\n",
              "      <td>30.00</td>\n",
              "      <td>NaN</td>\n",
              "      <td>42.0</td>\n",
              "      <td>NaN</td>\n",
              "      <td>65.00</td>\n",
              "      <td>NaN</td>\n",
              "      <td>6413.50</td>\n",
              "      <td>NaN</td>\n",
              "      <td>8804.0</td>\n",
              "      <td>NaN</td>\n",
              "      <td>11669.00</td>\n",
              "      <td>NaN</td>\n",
              "      <td>310</td>\n",
              "      <td>NaN</td>\n",
              "      <td>565</td>\n",
              "      <td>NaN</td>\n",
              "      <td>454.0</td>\n",
              "      <td>NaN</td>\n",
              "      <td>421.0</td>\n",
              "      <td>NaN</td>\n",
              "      <td>0.0</td>\n",
              "      <td>NaN</td>\n",
              "      <td>875.0</td>\n",
              "      <td>NaN</td>\n",
              "      <td>NaN</td>\n",
              "      <td>NaN</td>\n",
              "      <td>NaN</td>\n",
              "      <td>NaN</td>\n",
              "      <td>NaN</td>\n",
              "      <td>NaN</td>\n",
              "    </tr>\n",
              "    <tr>\n",
              "      <th>2</th>\n",
              "      <td>0</td>\n",
              "      <td>2016 Q1</td>\n",
              "      <td>NaN</td>\n",
              "      <td>68.0</td>\n",
              "      <td>NaN</td>\n",
              "      <td>73.0</td>\n",
              "      <td>NaN</td>\n",
              "      <td>83.0</td>\n",
              "      <td>NaN</td>\n",
              "      <td>31.00</td>\n",
              "      <td>NaN</td>\n",
              "      <td>43.0</td>\n",
              "      <td>NaN</td>\n",
              "      <td>66.00</td>\n",
              "      <td>NaN</td>\n",
              "      <td>6413.50</td>\n",
              "      <td>NaN</td>\n",
              "      <td>8804.0</td>\n",
              "      <td>NaN</td>\n",
              "      <td>11669.00</td>\n",
              "      <td>NaN</td>\n",
              "      <td>310</td>\n",
              "      <td>NaN</td>\n",
              "      <td>565</td>\n",
              "      <td>NaN</td>\n",
              "      <td>454.0</td>\n",
              "      <td>NaN</td>\n",
              "      <td>421.0</td>\n",
              "      <td>NaN</td>\n",
              "      <td>0.0</td>\n",
              "      <td>NaN</td>\n",
              "      <td>875.0</td>\n",
              "      <td>NaN</td>\n",
              "      <td>NaN</td>\n",
              "      <td>NaN</td>\n",
              "      <td>NaN</td>\n",
              "      <td>NaN</td>\n",
              "      <td>NaN</td>\n",
              "      <td>NaN</td>\n",
              "    </tr>\n",
              "    <tr>\n",
              "      <th>3</th>\n",
              "      <td>0</td>\n",
              "      <td>2016 Q3</td>\n",
              "      <td>NaN</td>\n",
              "      <td>66.0</td>\n",
              "      <td>NaN</td>\n",
              "      <td>73.0</td>\n",
              "      <td>NaN</td>\n",
              "      <td>83.0</td>\n",
              "      <td>NaN</td>\n",
              "      <td>31.00</td>\n",
              "      <td>NaN</td>\n",
              "      <td>43.0</td>\n",
              "      <td>NaN</td>\n",
              "      <td>65.25</td>\n",
              "      <td>NaN</td>\n",
              "      <td>6427.00</td>\n",
              "      <td>NaN</td>\n",
              "      <td>8833.5</td>\n",
              "      <td>NaN</td>\n",
              "      <td>11729.75</td>\n",
              "      <td>NaN</td>\n",
              "      <td>294</td>\n",
              "      <td>NaN</td>\n",
              "      <td>542</td>\n",
              "      <td>NaN</td>\n",
              "      <td>432.0</td>\n",
              "      <td>NaN</td>\n",
              "      <td>404.0</td>\n",
              "      <td>NaN</td>\n",
              "      <td>0.0</td>\n",
              "      <td>NaN</td>\n",
              "      <td>836.0</td>\n",
              "      <td>NaN</td>\n",
              "      <td>NaN</td>\n",
              "      <td>NaN</td>\n",
              "      <td>NaN</td>\n",
              "      <td>NaN</td>\n",
              "      <td>NaN</td>\n",
              "      <td>NaN</td>\n",
              "    </tr>\n",
              "    <tr>\n",
              "      <th>4</th>\n",
              "      <td>0</td>\n",
              "      <td>2017 Q1</td>\n",
              "      <td>82.0</td>\n",
              "      <td>66.0</td>\n",
              "      <td>82.0</td>\n",
              "      <td>73.0</td>\n",
              "      <td>82.0</td>\n",
              "      <td>83.0</td>\n",
              "      <td>32.00</td>\n",
              "      <td>32.00</td>\n",
              "      <td>47.0</td>\n",
              "      <td>44.0</td>\n",
              "      <td>60.00</td>\n",
              "      <td>66.75</td>\n",
              "      <td>18838.105263</td>\n",
              "      <td>6496.00</td>\n",
              "      <td>21097.105263</td>\n",
              "      <td>8934.5</td>\n",
              "      <td>22033.947368</td>\n",
              "      <td>11806.25</td>\n",
              "      <td>11.0</td>\n",
              "      <td>282</td>\n",
              "      <td>14.0</td>\n",
              "      <td>520</td>\n",
              "      <td>0.0</td>\n",
              "      <td>405.0</td>\n",
              "      <td>11.0</td>\n",
              "      <td>397.0</td>\n",
              "      <td>14.0</td>\n",
              "      <td>0.0</td>\n",
              "      <td>25.0</td>\n",
              "      <td>802.0</td>\n",
              "      <td>827.0</td>\n",
              "      <td>0.0</td>\n",
              "      <td>0.013301</td>\n",
              "      <td>0.016929</td>\n",
              "      <td>0.489722</td>\n",
              "      <td>0.480048</td>\n",
              "      <td>0.0</td>\n",
              "    </tr>\n",
              "    <tr>\n",
              "      <th>5</th>\n",
              "      <td>0</td>\n",
              "      <td>2017 Q3</td>\n",
              "      <td>82.0</td>\n",
              "      <td>66.0</td>\n",
              "      <td>82.0</td>\n",
              "      <td>73.0</td>\n",
              "      <td>82.0</td>\n",
              "      <td>83.0</td>\n",
              "      <td>32.00</td>\n",
              "      <td>32.00</td>\n",
              "      <td>47.0</td>\n",
              "      <td>44.0</td>\n",
              "      <td>60.00</td>\n",
              "      <td>66.75</td>\n",
              "      <td>18838.105263</td>\n",
              "      <td>6496.00</td>\n",
              "      <td>21097.105263</td>\n",
              "      <td>8934.5</td>\n",
              "      <td>22033.947368</td>\n",
              "      <td>11806.25</td>\n",
              "      <td>11.0</td>\n",
              "      <td>282</td>\n",
              "      <td>14.0</td>\n",
              "      <td>520</td>\n",
              "      <td>0.0</td>\n",
              "      <td>405.0</td>\n",
              "      <td>11.0</td>\n",
              "      <td>397.0</td>\n",
              "      <td>14.0</td>\n",
              "      <td>0.0</td>\n",
              "      <td>25.0</td>\n",
              "      <td>802.0</td>\n",
              "      <td>827.0</td>\n",
              "      <td>0.0</td>\n",
              "      <td>0.013301</td>\n",
              "      <td>0.016929</td>\n",
              "      <td>0.489722</td>\n",
              "      <td>0.480048</td>\n",
              "      <td>0.0</td>\n",
              "    </tr>\n",
              "    <tr>\n",
              "      <th>6</th>\n",
              "      <td>0</td>\n",
              "      <td>2018 Q1</td>\n",
              "      <td>82.0</td>\n",
              "      <td>66.0</td>\n",
              "      <td>82.0</td>\n",
              "      <td>73.0</td>\n",
              "      <td>92.0</td>\n",
              "      <td>83.0</td>\n",
              "      <td>31.75</td>\n",
              "      <td>33.00</td>\n",
              "      <td>42.0</td>\n",
              "      <td>45.0</td>\n",
              "      <td>60.25</td>\n",
              "      <td>68.00</td>\n",
              "      <td>19619.105263</td>\n",
              "      <td>6497.00</td>\n",
              "      <td>21099.868421</td>\n",
              "      <td>8933.0</td>\n",
              "      <td>22017.447368</td>\n",
              "      <td>11867.50</td>\n",
              "      <td>31.0</td>\n",
              "      <td>278</td>\n",
              "      <td>53.0</td>\n",
              "      <td>517</td>\n",
              "      <td>0.0</td>\n",
              "      <td>402.0</td>\n",
              "      <td>20.0</td>\n",
              "      <td>393.0</td>\n",
              "      <td>64.0</td>\n",
              "      <td>0.0</td>\n",
              "      <td>84.0</td>\n",
              "      <td>795.0</td>\n",
              "      <td>879.0</td>\n",
              "      <td>0.0</td>\n",
              "      <td>0.022753</td>\n",
              "      <td>0.072810</td>\n",
              "      <td>0.457338</td>\n",
              "      <td>0.447099</td>\n",
              "      <td>0.0</td>\n",
              "    </tr>\n",
              "    <tr>\n",
              "      <th>7</th>\n",
              "      <td>0</td>\n",
              "      <td>2018 Q3</td>\n",
              "      <td>72.0</td>\n",
              "      <td>66.0</td>\n",
              "      <td>82.0</td>\n",
              "      <td>73.0</td>\n",
              "      <td>92.0</td>\n",
              "      <td>83.0</td>\n",
              "      <td>31.00</td>\n",
              "      <td>33.00</td>\n",
              "      <td>44.0</td>\n",
              "      <td>45.0</td>\n",
              "      <td>59.00</td>\n",
              "      <td>68.00</td>\n",
              "      <td>18584.605263</td>\n",
              "      <td>6497.00</td>\n",
              "      <td>20230.421053</td>\n",
              "      <td>8933.0</td>\n",
              "      <td>22263.842105</td>\n",
              "      <td>11867.50</td>\n",
              "      <td>69.0</td>\n",
              "      <td>278</td>\n",
              "      <td>134.0</td>\n",
              "      <td>517</td>\n",
              "      <td>0.0</td>\n",
              "      <td>402.0</td>\n",
              "      <td>75.0</td>\n",
              "      <td>393.0</td>\n",
              "      <td>128.0</td>\n",
              "      <td>0.0</td>\n",
              "      <td>203.0</td>\n",
              "      <td>795.0</td>\n",
              "      <td>998.0</td>\n",
              "      <td>0.0</td>\n",
              "      <td>0.075150</td>\n",
              "      <td>0.128257</td>\n",
              "      <td>0.402806</td>\n",
              "      <td>0.393788</td>\n",
              "      <td>0.0</td>\n",
              "    </tr>\n",
              "    <tr>\n",
              "      <th>8</th>\n",
              "      <td>0</td>\n",
              "      <td>2019 Q1</td>\n",
              "      <td>82.0</td>\n",
              "      <td>66.0</td>\n",
              "      <td>82.0</td>\n",
              "      <td>73.0</td>\n",
              "      <td>102.0</td>\n",
              "      <td>80.0</td>\n",
              "      <td>32.00</td>\n",
              "      <td>34.00</td>\n",
              "      <td>46.0</td>\n",
              "      <td>46.5</td>\n",
              "      <td>62.00</td>\n",
              "      <td>69.00</td>\n",
              "      <td>19415.105263</td>\n",
              "      <td>6503.75</td>\n",
              "      <td>21815.473684</td>\n",
              "      <td>8965.0</td>\n",
              "      <td>25173.131579</td>\n",
              "      <td>11886.75</td>\n",
              "      <td>90.0</td>\n",
              "      <td>271</td>\n",
              "      <td>195.0</td>\n",
              "      <td>493</td>\n",
              "      <td>0.0</td>\n",
              "      <td>384.0</td>\n",
              "      <td>75.0</td>\n",
              "      <td>380.0</td>\n",
              "      <td>210.0</td>\n",
              "      <td>0.0</td>\n",
              "      <td>285.0</td>\n",
              "      <td>764.0</td>\n",
              "      <td>1049.0</td>\n",
              "      <td>0.0</td>\n",
              "      <td>0.071497</td>\n",
              "      <td>0.200191</td>\n",
              "      <td>0.366063</td>\n",
              "      <td>0.362250</td>\n",
              "      <td>0.0</td>\n",
              "    </tr>\n",
              "    <tr>\n",
              "      <th>9</th>\n",
              "      <td>0</td>\n",
              "      <td>2019 Q3</td>\n",
              "      <td>82.0</td>\n",
              "      <td>66.0</td>\n",
              "      <td>82.0</td>\n",
              "      <td>73.0</td>\n",
              "      <td>102.0</td>\n",
              "      <td>80.0</td>\n",
              "      <td>32.00</td>\n",
              "      <td>34.00</td>\n",
              "      <td>46.0</td>\n",
              "      <td>46.5</td>\n",
              "      <td>62.00</td>\n",
              "      <td>69.00</td>\n",
              "      <td>19415.105263</td>\n",
              "      <td>6503.75</td>\n",
              "      <td>21815.473684</td>\n",
              "      <td>8965.0</td>\n",
              "      <td>25173.131579</td>\n",
              "      <td>11886.75</td>\n",
              "      <td>90.0</td>\n",
              "      <td>271</td>\n",
              "      <td>195.0</td>\n",
              "      <td>493</td>\n",
              "      <td>0.0</td>\n",
              "      <td>384.0</td>\n",
              "      <td>75.0</td>\n",
              "      <td>380.0</td>\n",
              "      <td>210.0</td>\n",
              "      <td>0.0</td>\n",
              "      <td>285.0</td>\n",
              "      <td>764.0</td>\n",
              "      <td>1049.0</td>\n",
              "      <td>0.0</td>\n",
              "      <td>0.071497</td>\n",
              "      <td>0.200191</td>\n",
              "      <td>0.366063</td>\n",
              "      <td>0.362250</td>\n",
              "      <td>0.0</td>\n",
              "    </tr>\n",
              "    <tr>\n",
              "      <th>10</th>\n",
              "      <td>0</td>\n",
              "      <td>2020 Q1</td>\n",
              "      <td>82.0</td>\n",
              "      <td>70.0</td>\n",
              "      <td>92.0</td>\n",
              "      <td>73.0</td>\n",
              "      <td>102.0</td>\n",
              "      <td>83.0</td>\n",
              "      <td>33.50</td>\n",
              "      <td>35.75</td>\n",
              "      <td>47.0</td>\n",
              "      <td>48.0</td>\n",
              "      <td>64.50</td>\n",
              "      <td>70.00</td>\n",
              "      <td>19647.500000</td>\n",
              "      <td>6559.75</td>\n",
              "      <td>21859.789474</td>\n",
              "      <td>9029.5</td>\n",
              "      <td>24520.421053</td>\n",
              "      <td>11914.50</td>\n",
              "      <td>104.0</td>\n",
              "      <td>229</td>\n",
              "      <td>219.0</td>\n",
              "      <td>435</td>\n",
              "      <td>0.0</td>\n",
              "      <td>331.0</td>\n",
              "      <td>76.0</td>\n",
              "      <td>333.0</td>\n",
              "      <td>247.0</td>\n",
              "      <td>0.0</td>\n",
              "      <td>323.0</td>\n",
              "      <td>664.0</td>\n",
              "      <td>987.0</td>\n",
              "      <td>0.0</td>\n",
              "      <td>0.077001</td>\n",
              "      <td>0.250253</td>\n",
              "      <td>0.335360</td>\n",
              "      <td>0.337386</td>\n",
              "      <td>0.0</td>\n",
              "    </tr>\n",
              "    <tr>\n",
              "      <th>11</th>\n",
              "      <td>0</td>\n",
              "      <td>2020 Q3</td>\n",
              "      <td>82.0</td>\n",
              "      <td>70.0</td>\n",
              "      <td>92.0</td>\n",
              "      <td>73.0</td>\n",
              "      <td>102.0</td>\n",
              "      <td>80.0</td>\n",
              "      <td>33.50</td>\n",
              "      <td>35.00</td>\n",
              "      <td>47.0</td>\n",
              "      <td>48.0</td>\n",
              "      <td>64.50</td>\n",
              "      <td>70.00</td>\n",
              "      <td>19647.500000</td>\n",
              "      <td>6555.25</td>\n",
              "      <td>21859.789474</td>\n",
              "      <td>8934.5</td>\n",
              "      <td>24520.421053</td>\n",
              "      <td>11853.00</td>\n",
              "      <td>104.0</td>\n",
              "      <td>219</td>\n",
              "      <td>219.0</td>\n",
              "      <td>415</td>\n",
              "      <td>0.0</td>\n",
              "      <td>320.0</td>\n",
              "      <td>76.0</td>\n",
              "      <td>314.0</td>\n",
              "      <td>247.0</td>\n",
              "      <td>0.0</td>\n",
              "      <td>323.0</td>\n",
              "      <td>634.0</td>\n",
              "      <td>957.0</td>\n",
              "      <td>0.0</td>\n",
              "      <td>0.079415</td>\n",
              "      <td>0.258098</td>\n",
              "      <td>0.334378</td>\n",
              "      <td>0.328109</td>\n",
              "      <td>0.0</td>\n",
              "    </tr>\n",
              "    <tr>\n",
              "      <th>12</th>\n",
              "      <td>0</td>\n",
              "      <td>2021 Q1</td>\n",
              "      <td>82.0</td>\n",
              "      <td>68.0</td>\n",
              "      <td>92.0</td>\n",
              "      <td>73.0</td>\n",
              "      <td>102.0</td>\n",
              "      <td>87.0</td>\n",
              "      <td>34.50</td>\n",
              "      <td>37.00</td>\n",
              "      <td>48.0</td>\n",
              "      <td>48.0</td>\n",
              "      <td>65.50</td>\n",
              "      <td>70.00</td>\n",
              "      <td>19647.500000</td>\n",
              "      <td>6657.50</td>\n",
              "      <td>21859.789474</td>\n",
              "      <td>8950.0</td>\n",
              "      <td>24520.421053</td>\n",
              "      <td>11787.75</td>\n",
              "      <td>104.0</td>\n",
              "      <td>180</td>\n",
              "      <td>219.0</td>\n",
              "      <td>358</td>\n",
              "      <td>0.0</td>\n",
              "      <td>271.0</td>\n",
              "      <td>76.0</td>\n",
              "      <td>267.0</td>\n",
              "      <td>247.0</td>\n",
              "      <td>0.0</td>\n",
              "      <td>323.0</td>\n",
              "      <td>538.0</td>\n",
              "      <td>861.0</td>\n",
              "      <td>0.0</td>\n",
              "      <td>0.088269</td>\n",
              "      <td>0.286876</td>\n",
              "      <td>0.314750</td>\n",
              "      <td>0.310105</td>\n",
              "      <td>0.0</td>\n",
              "    </tr>\n",
              "    <tr>\n",
              "      <th>13</th>\n",
              "      <td>0</td>\n",
              "      <td>2021 Q3</td>\n",
              "      <td>75.0</td>\n",
              "      <td>73.0</td>\n",
              "      <td>82.0</td>\n",
              "      <td>73.0</td>\n",
              "      <td>102.0</td>\n",
              "      <td>90.0</td>\n",
              "      <td>34.00</td>\n",
              "      <td>37.00</td>\n",
              "      <td>47.0</td>\n",
              "      <td>49.0</td>\n",
              "      <td>64.00</td>\n",
              "      <td>70.00</td>\n",
              "      <td>19106.513158</td>\n",
              "      <td>6657.50</td>\n",
              "      <td>21248.105263</td>\n",
              "      <td>8856.5</td>\n",
              "      <td>24477.657895</td>\n",
              "      <td>11670.00</td>\n",
              "      <td>152.0</td>\n",
              "      <td>155</td>\n",
              "      <td>315.0</td>\n",
              "      <td>315</td>\n",
              "      <td>0.0</td>\n",
              "      <td>242.0</td>\n",
              "      <td>139.0</td>\n",
              "      <td>228.0</td>\n",
              "      <td>328.0</td>\n",
              "      <td>0.0</td>\n",
              "      <td>467.0</td>\n",
              "      <td>470.0</td>\n",
              "      <td>937.0</td>\n",
              "      <td>0.0</td>\n",
              "      <td>0.148346</td>\n",
              "      <td>0.350053</td>\n",
              "      <td>0.258271</td>\n",
              "      <td>0.243330</td>\n",
              "      <td>0.0</td>\n",
              "    </tr>\n",
              "    <tr>\n",
              "      <th>14</th>\n",
              "      <td>0</td>\n",
              "      <td>2022 Q1</td>\n",
              "      <td>82.0</td>\n",
              "      <td>73.0</td>\n",
              "      <td>92.0</td>\n",
              "      <td>73.0</td>\n",
              "      <td>115.0</td>\n",
              "      <td>90.0</td>\n",
              "      <td>35.00</td>\n",
              "      <td>38.00</td>\n",
              "      <td>47.5</td>\n",
              "      <td>50.0</td>\n",
              "      <td>64.00</td>\n",
              "      <td>71.00</td>\n",
              "      <td>20189.197368</td>\n",
              "      <td>6674.00</td>\n",
              "      <td>23657.960526</td>\n",
              "      <td>8932.0</td>\n",
              "      <td>26538.348684</td>\n",
              "      <td>11741.50</td>\n",
              "      <td>251.0</td>\n",
              "      <td>155</td>\n",
              "      <td>481.0</td>\n",
              "      <td>321</td>\n",
              "      <td>0.0</td>\n",
              "      <td>242.0</td>\n",
              "      <td>139.0</td>\n",
              "      <td>234.0</td>\n",
              "      <td>593.0</td>\n",
              "      <td>0.0</td>\n",
              "      <td>732.0</td>\n",
              "      <td>476.0</td>\n",
              "      <td>1208.0</td>\n",
              "      <td>0.0</td>\n",
              "      <td>0.115066</td>\n",
              "      <td>0.490894</td>\n",
              "      <td>0.200331</td>\n",
              "      <td>0.193709</td>\n",
              "      <td>0.0</td>\n",
              "    </tr>\n",
              "    <tr>\n",
              "      <th>15</th>\n",
              "      <td>0</td>\n",
              "      <td>2022 Q3</td>\n",
              "      <td>82.0</td>\n",
              "      <td>73.0</td>\n",
              "      <td>92.0</td>\n",
              "      <td>73.0</td>\n",
              "      <td>115.0</td>\n",
              "      <td>90.0</td>\n",
              "      <td>34.00</td>\n",
              "      <td>38.00</td>\n",
              "      <td>47.0</td>\n",
              "      <td>50.0</td>\n",
              "      <td>64.00</td>\n",
              "      <td>70.00</td>\n",
              "      <td>20163.289474</td>\n",
              "      <td>6676.00</td>\n",
              "      <td>23013.315789</td>\n",
              "      <td>8930.0</td>\n",
              "      <td>26325.611842</td>\n",
              "      <td>11698.50</td>\n",
              "      <td>288.0</td>\n",
              "      <td>141</td>\n",
              "      <td>542.0</td>\n",
              "      <td>306</td>\n",
              "      <td>0.0</td>\n",
              "      <td>229.0</td>\n",
              "      <td>152.0</td>\n",
              "      <td>218.0</td>\n",
              "      <td>678.0</td>\n",
              "      <td>0.0</td>\n",
              "      <td>830.0</td>\n",
              "      <td>447.0</td>\n",
              "      <td>1277.0</td>\n",
              "      <td>0.0</td>\n",
              "      <td>0.119029</td>\n",
              "      <td>0.530932</td>\n",
              "      <td>0.179327</td>\n",
              "      <td>0.170713</td>\n",
              "      <td>0.0</td>\n",
              "    </tr>\n",
              "    <tr>\n",
              "      <th>16</th>\n",
              "      <td>0</td>\n",
              "      <td>2023 Q1</td>\n",
              "      <td>85.0</td>\n",
              "      <td>66.0</td>\n",
              "      <td>92.0</td>\n",
              "      <td>87.0</td>\n",
              "      <td>108.0</td>\n",
              "      <td>90.0</td>\n",
              "      <td>34.00</td>\n",
              "      <td>38.00</td>\n",
              "      <td>47.5</td>\n",
              "      <td>50.0</td>\n",
              "      <td>65.00</td>\n",
              "      <td>66.00</td>\n",
              "      <td>20239.059211</td>\n",
              "      <td>8092.50</td>\n",
              "      <td>22924.026316</td>\n",
              "      <td>10995.0</td>\n",
              "      <td>25811.611842</td>\n",
              "      <td>13069.50</td>\n",
              "      <td>481.0</td>\n",
              "      <td>51</td>\n",
              "      <td>883.0</td>\n",
              "      <td>220</td>\n",
              "      <td>0.0</td>\n",
              "      <td>84.0</td>\n",
              "      <td>235.0</td>\n",
              "      <td>187.0</td>\n",
              "      <td>1129.0</td>\n",
              "      <td>0.0</td>\n",
              "      <td>1364.0</td>\n",
              "      <td>271.0</td>\n",
              "      <td>1635.0</td>\n",
              "      <td>0.0</td>\n",
              "      <td>0.143731</td>\n",
              "      <td>0.690520</td>\n",
              "      <td>0.051376</td>\n",
              "      <td>0.114373</td>\n",
              "      <td>0.0</td>\n",
              "    </tr>\n",
              "    <tr>\n",
              "      <th>17</th>\n",
              "      <td>0</td>\n",
              "      <td>2023 Q3</td>\n",
              "      <td>85.0</td>\n",
              "      <td>66.0</td>\n",
              "      <td>92.0</td>\n",
              "      <td>87.0</td>\n",
              "      <td>108.0</td>\n",
              "      <td>90.0</td>\n",
              "      <td>34.00</td>\n",
              "      <td>38.00</td>\n",
              "      <td>47.5</td>\n",
              "      <td>50.0</td>\n",
              "      <td>65.00</td>\n",
              "      <td>66.00</td>\n",
              "      <td>20239.059211</td>\n",
              "      <td>8092.50</td>\n",
              "      <td>22924.026316</td>\n",
              "      <td>10995.0</td>\n",
              "      <td>25811.611842</td>\n",
              "      <td>13069.50</td>\n",
              "      <td>481.0</td>\n",
              "      <td>51</td>\n",
              "      <td>883.0</td>\n",
              "      <td>220</td>\n",
              "      <td>0.0</td>\n",
              "      <td>84.0</td>\n",
              "      <td>235.0</td>\n",
              "      <td>187.0</td>\n",
              "      <td>1129.0</td>\n",
              "      <td>0.0</td>\n",
              "      <td>1364.0</td>\n",
              "      <td>271.0</td>\n",
              "      <td>1635.0</td>\n",
              "      <td>0.0</td>\n",
              "      <td>0.143731</td>\n",
              "      <td>0.690520</td>\n",
              "      <td>0.051376</td>\n",
              "      <td>0.114373</td>\n",
              "      <td>0.0</td>\n",
              "    </tr>\n",
              "    <tr>\n",
              "      <th>18</th>\n",
              "      <td>0</td>\n",
              "      <td>2024 Q1</td>\n",
              "      <td>85.0</td>\n",
              "      <td>66.0</td>\n",
              "      <td>92.0</td>\n",
              "      <td>87.0</td>\n",
              "      <td>108.0</td>\n",
              "      <td>90.0</td>\n",
              "      <td>35.00</td>\n",
              "      <td>39.00</td>\n",
              "      <td>48.0</td>\n",
              "      <td>51.0</td>\n",
              "      <td>65.00</td>\n",
              "      <td>64.00</td>\n",
              "      <td>20541.664474</td>\n",
              "      <td>8090.00</td>\n",
              "      <td>23178.907895</td>\n",
              "      <td>10995.0</td>\n",
              "      <td>25911.526316</td>\n",
              "      <td>13071.00</td>\n",
              "      <td>521.0</td>\n",
              "      <td>51</td>\n",
              "      <td>941.0</td>\n",
              "      <td>222</td>\n",
              "      <td>0.0</td>\n",
              "      <td>85.0</td>\n",
              "      <td>235.0</td>\n",
              "      <td>188.0</td>\n",
              "      <td>1227.0</td>\n",
              "      <td>0.0</td>\n",
              "      <td>1462.0</td>\n",
              "      <td>273.0</td>\n",
              "      <td>1735.0</td>\n",
              "      <td>0.0</td>\n",
              "      <td>0.135447</td>\n",
              "      <td>0.707205</td>\n",
              "      <td>0.048991</td>\n",
              "      <td>0.108357</td>\n",
              "      <td>0.0</td>\n",
              "    </tr>\n",
              "    <tr>\n",
              "      <th>19</th>\n",
              "      <td>0</td>\n",
              "      <td>2024 Q3</td>\n",
              "      <td>85.0</td>\n",
              "      <td>66.0</td>\n",
              "      <td>93.0</td>\n",
              "      <td>83.5</td>\n",
              "      <td>108.0</td>\n",
              "      <td>93.0</td>\n",
              "      <td>35.00</td>\n",
              "      <td>37.75</td>\n",
              "      <td>49.0</td>\n",
              "      <td>49.0</td>\n",
              "      <td>65.00</td>\n",
              "      <td>60.25</td>\n",
              "      <td>20689.427632</td>\n",
              "      <td>8547.00</td>\n",
              "      <td>23073.894737</td>\n",
              "      <td>11499.5</td>\n",
              "      <td>25555.763158</td>\n",
              "      <td>13281.00</td>\n",
              "      <td>570.0</td>\n",
              "      <td>27</td>\n",
              "      <td>1052.0</td>\n",
              "      <td>161</td>\n",
              "      <td>0.0</td>\n",
              "      <td>55.0</td>\n",
              "      <td>237.0</td>\n",
              "      <td>133.0</td>\n",
              "      <td>1385.0</td>\n",
              "      <td>0.0</td>\n",
              "      <td>1622.0</td>\n",
              "      <td>188.0</td>\n",
              "      <td>1810.0</td>\n",
              "      <td>0.0</td>\n",
              "      <td>0.130939</td>\n",
              "      <td>0.765193</td>\n",
              "      <td>0.030387</td>\n",
              "      <td>0.073481</td>\n",
              "      <td>0.0</td>\n",
              "    </tr>\n",
              "    <tr>\n",
              "      <th>20</th>\n",
              "      <td>0</td>\n",
              "      <td>2025 Q1</td>\n",
              "      <td>85.0</td>\n",
              "      <td>85.0</td>\n",
              "      <td>92.0</td>\n",
              "      <td>92.0</td>\n",
              "      <td>108.0</td>\n",
              "      <td>100.0</td>\n",
              "      <td>36.00</td>\n",
              "      <td>38.50</td>\n",
              "      <td>49.0</td>\n",
              "      <td>47.0</td>\n",
              "      <td>66.00</td>\n",
              "      <td>57.50</td>\n",
              "      <td>20607.381579</td>\n",
              "      <td>11098.00</td>\n",
              "      <td>22880.210526</td>\n",
              "      <td>12540.0</td>\n",
              "      <td>25270.328947</td>\n",
              "      <td>13866.00</td>\n",
              "      <td>629.0</td>\n",
              "      <td>2</td>\n",
              "      <td>1174.0</td>\n",
              "      <td>121</td>\n",
              "      <td>0.0</td>\n",
              "      <td>17.0</td>\n",
              "      <td>244.0</td>\n",
              "      <td>106.0</td>\n",
              "      <td>1559.0</td>\n",
              "      <td>0.0</td>\n",
              "      <td>1803.0</td>\n",
              "      <td>123.0</td>\n",
              "      <td>1926.0</td>\n",
              "      <td>0.0</td>\n",
              "      <td>0.126687</td>\n",
              "      <td>0.809450</td>\n",
              "      <td>0.008827</td>\n",
              "      <td>0.055036</td>\n",
              "      <td>0.0</td>\n",
              "    </tr>\n",
              "    <tr>\n",
              "      <th>21</th>\n",
              "      <td>0</td>\n",
              "      <td>2025 Q3</td>\n",
              "      <td>85.0</td>\n",
              "      <td>85.0</td>\n",
              "      <td>92.0</td>\n",
              "      <td>92.0</td>\n",
              "      <td>108.0</td>\n",
              "      <td>98.0</td>\n",
              "      <td>36.00</td>\n",
              "      <td>38.25</td>\n",
              "      <td>49.0</td>\n",
              "      <td>48.0</td>\n",
              "      <td>66.00</td>\n",
              "      <td>57.00</td>\n",
              "      <td>20607.381579</td>\n",
              "      <td>11157.25</td>\n",
              "      <td>22880.210526</td>\n",
              "      <td>12568.0</td>\n",
              "      <td>25270.328947</td>\n",
              "      <td>13809.00</td>\n",
              "      <td>629.0</td>\n",
              "      <td>0</td>\n",
              "      <td>1174.0</td>\n",
              "      <td>114</td>\n",
              "      <td>0.0</td>\n",
              "      <td>14.0</td>\n",
              "      <td>244.0</td>\n",
              "      <td>100.0</td>\n",
              "      <td>1559.0</td>\n",
              "      <td>0.0</td>\n",
              "      <td>1803.0</td>\n",
              "      <td>114.0</td>\n",
              "      <td>1917.0</td>\n",
              "      <td>0.0</td>\n",
              "      <td>0.127282</td>\n",
              "      <td>0.813250</td>\n",
              "      <td>0.007303</td>\n",
              "      <td>0.052165</td>\n",
              "      <td>0.0</td>\n",
              "    </tr>\n",
              "    <tr>\n",
              "      <th>22</th>\n",
              "      <td>0</td>\n",
              "      <td>2026 Q1</td>\n",
              "      <td>89.0</td>\n",
              "      <td>85.0</td>\n",
              "      <td>98.0</td>\n",
              "      <td>98.0</td>\n",
              "      <td>108.0</td>\n",
              "      <td>98.0</td>\n",
              "      <td>36.00</td>\n",
              "      <td>40.00</td>\n",
              "      <td>49.0</td>\n",
              "      <td>49.5</td>\n",
              "      <td>65.00</td>\n",
              "      <td>58.00</td>\n",
              "      <td>21203.355263</td>\n",
              "      <td>8837.25</td>\n",
              "      <td>23268.526316</td>\n",
              "      <td>11536.0</td>\n",
              "      <td>25387.657895</td>\n",
              "      <td>13119.25</td>\n",
              "      <td>822.0</td>\n",
              "      <td>0</td>\n",
              "      <td>1561.0</td>\n",
              "      <td>164</td>\n",
              "      <td>0.0</td>\n",
              "      <td>50.0</td>\n",
              "      <td>244.0</td>\n",
              "      <td>114.0</td>\n",
              "      <td>2139.0</td>\n",
              "      <td>0.0</td>\n",
              "      <td>2383.0</td>\n",
              "      <td>164.0</td>\n",
              "      <td>2547.0</td>\n",
              "      <td>0.0</td>\n",
              "      <td>0.095799</td>\n",
              "      <td>0.839812</td>\n",
              "      <td>0.019631</td>\n",
              "      <td>0.044759</td>\n",
              "      <td>0.0</td>\n",
              "    </tr>\n",
              "    <tr>\n",
              "      <th>23</th>\n",
              "      <td>0</td>\n",
              "      <td>2026 Q3</td>\n",
              "      <td>89.0</td>\n",
              "      <td>85.0</td>\n",
              "      <td>98.0</td>\n",
              "      <td>98.0</td>\n",
              "      <td>108.0</td>\n",
              "      <td>98.0</td>\n",
              "      <td>36.00</td>\n",
              "      <td>40.00</td>\n",
              "      <td>49.0</td>\n",
              "      <td>49.5</td>\n",
              "      <td>65.00</td>\n",
              "      <td>58.00</td>\n",
              "      <td>21203.355263</td>\n",
              "      <td>8837.25</td>\n",
              "      <td>23268.526316</td>\n",
              "      <td>11536.0</td>\n",
              "      <td>25387.657895</td>\n",
              "      <td>13119.25</td>\n",
              "      <td>822.0</td>\n",
              "      <td>0</td>\n",
              "      <td>1561.0</td>\n",
              "      <td>164</td>\n",
              "      <td>0.0</td>\n",
              "      <td>50.0</td>\n",
              "      <td>244.0</td>\n",
              "      <td>114.0</td>\n",
              "      <td>2139.0</td>\n",
              "      <td>0.0</td>\n",
              "      <td>2383.0</td>\n",
              "      <td>164.0</td>\n",
              "      <td>2547.0</td>\n",
              "      <td>0.0</td>\n",
              "      <td>0.095799</td>\n",
              "      <td>0.839812</td>\n",
              "      <td>0.019631</td>\n",
              "      <td>0.044759</td>\n",
              "      <td>0.0</td>\n",
              "    </tr>\n",
              "    <tr>\n",
              "      <th>24</th>\n",
              "      <td>0</td>\n",
              "      <td>2027 Q1</td>\n",
              "      <td>89.0</td>\n",
              "      <td>85.0</td>\n",
              "      <td>98.0</td>\n",
              "      <td>98.0</td>\n",
              "      <td>108.0</td>\n",
              "      <td>98.0</td>\n",
              "      <td>36.00</td>\n",
              "      <td>41.50</td>\n",
              "      <td>49.0</td>\n",
              "      <td>52.0</td>\n",
              "      <td>66.00</td>\n",
              "      <td>59.00</td>\n",
              "      <td>21519.263158</td>\n",
              "      <td>8828.50</td>\n",
              "      <td>23674.605263</td>\n",
              "      <td>11557.0</td>\n",
              "      <td>26065.052632</td>\n",
              "      <td>13255.50</td>\n",
              "      <td>921.0</td>\n",
              "      <td>0</td>\n",
              "      <td>1740.0</td>\n",
              "      <td>171</td>\n",
              "      <td>0.0</td>\n",
              "      <td>52.0</td>\n",
              "      <td>244.0</td>\n",
              "      <td>119.0</td>\n",
              "      <td>2417.0</td>\n",
              "      <td>0.0</td>\n",
              "      <td>2661.0</td>\n",
              "      <td>171.0</td>\n",
              "      <td>2832.0</td>\n",
              "      <td>0.0</td>\n",
              "      <td>0.086158</td>\n",
              "      <td>0.853460</td>\n",
              "      <td>0.018362</td>\n",
              "      <td>0.042020</td>\n",
              "      <td>0.0</td>\n",
              "    </tr>\n",
              "    <tr>\n",
              "      <th>25</th>\n",
              "      <td>0</td>\n",
              "      <td>2027 Q3</td>\n",
              "      <td>89.0</td>\n",
              "      <td>88.0</td>\n",
              "      <td>98.0</td>\n",
              "      <td>98.0</td>\n",
              "      <td>112.0</td>\n",
              "      <td>98.0</td>\n",
              "      <td>36.00</td>\n",
              "      <td>41.75</td>\n",
              "      <td>49.0</td>\n",
              "      <td>52.0</td>\n",
              "      <td>66.00</td>\n",
              "      <td>59.25</td>\n",
              "      <td>21648.565789</td>\n",
              "      <td>8866.25</td>\n",
              "      <td>23874.171053</td>\n",
              "      <td>11666.0</td>\n",
              "      <td>26217.782895</td>\n",
              "      <td>13425.50</td>\n",
              "      <td>962.0</td>\n",
              "      <td>0</td>\n",
              "      <td>1824.0</td>\n",
              "      <td>176</td>\n",
              "      <td>0.0</td>\n",
              "      <td>52.0</td>\n",
              "      <td>244.0</td>\n",
              "      <td>124.0</td>\n",
              "      <td>2542.0</td>\n",
              "      <td>0.0</td>\n",
              "      <td>2786.0</td>\n",
              "      <td>176.0</td>\n",
              "      <td>2962.0</td>\n",
              "      <td>0.0</td>\n",
              "      <td>0.082377</td>\n",
              "      <td>0.858204</td>\n",
              "      <td>0.017556</td>\n",
              "      <td>0.041864</td>\n",
              "      <td>0.0</td>\n",
              "    </tr>\n",
              "    <tr>\n",
              "      <th>26</th>\n",
              "      <td>0</td>\n",
              "      <td>2028 Q1</td>\n",
              "      <td>89.0</td>\n",
              "      <td>89.0</td>\n",
              "      <td>98.0</td>\n",
              "      <td>93.0</td>\n",
              "      <td>112.0</td>\n",
              "      <td>98.0</td>\n",
              "      <td>37.00</td>\n",
              "      <td>42.00</td>\n",
              "      <td>50.0</td>\n",
              "      <td>53.0</td>\n",
              "      <td>66.00</td>\n",
              "      <td>61.00</td>\n",
              "      <td>21614.210526</td>\n",
              "      <td>8543.00</td>\n",
              "      <td>23763.236842</td>\n",
              "      <td>11512.0</td>\n",
              "      <td>26014.894737</td>\n",
              "      <td>13356.00</td>\n",
              "      <td>1045.0</td>\n",
              "      <td>0</td>\n",
              "      <td>1944.0</td>\n",
              "      <td>193</td>\n",
              "      <td>0.0</td>\n",
              "      <td>63.0</td>\n",
              "      <td>248.0</td>\n",
              "      <td>130.0</td>\n",
              "      <td>2741.0</td>\n",
              "      <td>0.0</td>\n",
              "      <td>2989.0</td>\n",
              "      <td>193.0</td>\n",
              "      <td>3182.0</td>\n",
              "      <td>0.0</td>\n",
              "      <td>0.077938</td>\n",
              "      <td>0.861408</td>\n",
              "      <td>0.019799</td>\n",
              "      <td>0.040855</td>\n",
              "      <td>0.0</td>\n",
              "    </tr>\n",
              "    <tr>\n",
              "      <th>27</th>\n",
              "      <td>0</td>\n",
              "      <td>2028 Q3</td>\n",
              "      <td>91.0</td>\n",
              "      <td>90.0</td>\n",
              "      <td>98.0</td>\n",
              "      <td>98.0</td>\n",
              "      <td>112.0</td>\n",
              "      <td>98.0</td>\n",
              "      <td>37.00</td>\n",
              "      <td>42.00</td>\n",
              "      <td>50.0</td>\n",
              "      <td>53.0</td>\n",
              "      <td>66.00</td>\n",
              "      <td>60.50</td>\n",
              "      <td>21655.315789</td>\n",
              "      <td>8566.00</td>\n",
              "      <td>23851.210526</td>\n",
              "      <td>11515.0</td>\n",
              "      <td>26217.210526</td>\n",
              "      <td>13384.00</td>\n",
              "      <td>1068.0</td>\n",
              "      <td>0</td>\n",
              "      <td>1989.0</td>\n",
              "      <td>195</td>\n",
              "      <td>0.0</td>\n",
              "      <td>63.0</td>\n",
              "      <td>248.0</td>\n",
              "      <td>132.0</td>\n",
              "      <td>2809.0</td>\n",
              "      <td>0.0</td>\n",
              "      <td>3057.0</td>\n",
              "      <td>195.0</td>\n",
              "      <td>3252.0</td>\n",
              "      <td>0.0</td>\n",
              "      <td>0.076261</td>\n",
              "      <td>0.863776</td>\n",
              "      <td>0.019373</td>\n",
              "      <td>0.040590</td>\n",
              "      <td>0.0</td>\n",
              "    </tr>\n",
              "    <tr>\n",
              "      <th>28</th>\n",
              "      <td>0</td>\n",
              "      <td>2029 Q1</td>\n",
              "      <td>91.0</td>\n",
              "      <td>90.0</td>\n",
              "      <td>98.0</td>\n",
              "      <td>98.0</td>\n",
              "      <td>112.0</td>\n",
              "      <td>98.0</td>\n",
              "      <td>38.00</td>\n",
              "      <td>43.00</td>\n",
              "      <td>51.0</td>\n",
              "      <td>54.0</td>\n",
              "      <td>67.00</td>\n",
              "      <td>61.50</td>\n",
              "      <td>21655.315789</td>\n",
              "      <td>8566.00</td>\n",
              "      <td>23851.210526</td>\n",
              "      <td>11515.0</td>\n",
              "      <td>26217.210526</td>\n",
              "      <td>13384.00</td>\n",
              "      <td>1068.0</td>\n",
              "      <td>0</td>\n",
              "      <td>1989.0</td>\n",
              "      <td>195</td>\n",
              "      <td>0.0</td>\n",
              "      <td>63.0</td>\n",
              "      <td>248.0</td>\n",
              "      <td>132.0</td>\n",
              "      <td>2809.0</td>\n",
              "      <td>0.0</td>\n",
              "      <td>3057.0</td>\n",
              "      <td>195.0</td>\n",
              "      <td>3252.0</td>\n",
              "      <td>0.0</td>\n",
              "      <td>0.076261</td>\n",
              "      <td>0.863776</td>\n",
              "      <td>0.019373</td>\n",
              "      <td>0.040590</td>\n",
              "      <td>0.0</td>\n",
              "    </tr>\n",
              "    <tr>\n",
              "      <th>29</th>\n",
              "      <td>0</td>\n",
              "      <td>2029 Q3</td>\n",
              "      <td>91.0</td>\n",
              "      <td>90.0</td>\n",
              "      <td>98.0</td>\n",
              "      <td>98.0</td>\n",
              "      <td>112.0</td>\n",
              "      <td>98.0</td>\n",
              "      <td>38.00</td>\n",
              "      <td>43.00</td>\n",
              "      <td>51.0</td>\n",
              "      <td>54.0</td>\n",
              "      <td>67.00</td>\n",
              "      <td>61.50</td>\n",
              "      <td>21655.315789</td>\n",
              "      <td>8566.00</td>\n",
              "      <td>23851.210526</td>\n",
              "      <td>11515.0</td>\n",
              "      <td>26217.210526</td>\n",
              "      <td>13384.00</td>\n",
              "      <td>1068.0</td>\n",
              "      <td>0</td>\n",
              "      <td>1989.0</td>\n",
              "      <td>195</td>\n",
              "      <td>0.0</td>\n",
              "      <td>63.0</td>\n",
              "      <td>248.0</td>\n",
              "      <td>132.0</td>\n",
              "      <td>2809.0</td>\n",
              "      <td>0.0</td>\n",
              "      <td>3057.0</td>\n",
              "      <td>195.0</td>\n",
              "      <td>3252.0</td>\n",
              "      <td>0.0</td>\n",
              "      <td>0.076261</td>\n",
              "      <td>0.863776</td>\n",
              "      <td>0.019373</td>\n",
              "      <td>0.040590</td>\n",
              "      <td>0.0</td>\n",
              "    </tr>\n",
              "    <tr>\n",
              "      <th>30</th>\n",
              "      <td>0</td>\n",
              "      <td>2030 Q1</td>\n",
              "      <td>91.0</td>\n",
              "      <td>90.0</td>\n",
              "      <td>98.0</td>\n",
              "      <td>98.0</td>\n",
              "      <td>112.0</td>\n",
              "      <td>98.0</td>\n",
              "      <td>39.00</td>\n",
              "      <td>44.00</td>\n",
              "      <td>52.0</td>\n",
              "      <td>55.0</td>\n",
              "      <td>68.00</td>\n",
              "      <td>62.50</td>\n",
              "      <td>21655.315789</td>\n",
              "      <td>8566.00</td>\n",
              "      <td>23851.210526</td>\n",
              "      <td>11515.0</td>\n",
              "      <td>26217.210526</td>\n",
              "      <td>13384.00</td>\n",
              "      <td>1068.0</td>\n",
              "      <td>0</td>\n",
              "      <td>1989.0</td>\n",
              "      <td>195</td>\n",
              "      <td>0.0</td>\n",
              "      <td>63.0</td>\n",
              "      <td>248.0</td>\n",
              "      <td>132.0</td>\n",
              "      <td>2809.0</td>\n",
              "      <td>0.0</td>\n",
              "      <td>3057.0</td>\n",
              "      <td>195.0</td>\n",
              "      <td>3252.0</td>\n",
              "      <td>0.0</td>\n",
              "      <td>0.076261</td>\n",
              "      <td>0.863776</td>\n",
              "      <td>0.019373</td>\n",
              "      <td>0.040590</td>\n",
              "      <td>0.0</td>\n",
              "    </tr>\n",
              "    <tr>\n",
              "      <th>31</th>\n",
              "      <td>0</td>\n",
              "      <td>2030 Q3</td>\n",
              "      <td>91.0</td>\n",
              "      <td>90.0</td>\n",
              "      <td>98.0</td>\n",
              "      <td>98.0</td>\n",
              "      <td>112.0</td>\n",
              "      <td>98.0</td>\n",
              "      <td>39.00</td>\n",
              "      <td>44.00</td>\n",
              "      <td>52.0</td>\n",
              "      <td>55.0</td>\n",
              "      <td>68.00</td>\n",
              "      <td>62.50</td>\n",
              "      <td>21655.315789</td>\n",
              "      <td>8566.00</td>\n",
              "      <td>23851.210526</td>\n",
              "      <td>11515.0</td>\n",
              "      <td>26217.210526</td>\n",
              "      <td>13384.00</td>\n",
              "      <td>1068.0</td>\n",
              "      <td>0</td>\n",
              "      <td>1989.0</td>\n",
              "      <td>195</td>\n",
              "      <td>0.0</td>\n",
              "      <td>63.0</td>\n",
              "      <td>248.0</td>\n",
              "      <td>132.0</td>\n",
              "      <td>2809.0</td>\n",
              "      <td>0.0</td>\n",
              "      <td>3057.0</td>\n",
              "      <td>195.0</td>\n",
              "      <td>3252.0</td>\n",
              "      <td>0.0</td>\n",
              "      <td>0.076261</td>\n",
              "      <td>0.863776</td>\n",
              "      <td>0.019373</td>\n",
              "      <td>0.040590</td>\n",
              "      <td>0.0</td>\n",
              "    </tr>\n",
              "  </tbody>\n",
              "</table>\n",
              "</div>\n",
              "      <button class=\"colab-df-convert\" onclick=\"convertToInteractive('df-72bb74c6-b978-4357-b6d0-1ddf20418404')\"\n",
              "              title=\"Convert this dataframe to an interactive table.\"\n",
              "              style=\"display:none;\">\n",
              "        \n",
              "  <svg xmlns=\"http://www.w3.org/2000/svg\" height=\"24px\"viewBox=\"0 0 24 24\"\n",
              "       width=\"24px\">\n",
              "    <path d=\"M0 0h24v24H0V0z\" fill=\"none\"/>\n",
              "    <path d=\"M18.56 5.44l.94 2.06.94-2.06 2.06-.94-2.06-.94-.94-2.06-.94 2.06-2.06.94zm-11 1L8.5 8.5l.94-2.06 2.06-.94-2.06-.94L8.5 2.5l-.94 2.06-2.06.94zm10 10l.94 2.06.94-2.06 2.06-.94-2.06-.94-.94-2.06-.94 2.06-2.06.94z\"/><path d=\"M17.41 7.96l-1.37-1.37c-.4-.4-.92-.59-1.43-.59-.52 0-1.04.2-1.43.59L10.3 9.45l-7.72 7.72c-.78.78-.78 2.05 0 2.83L4 21.41c.39.39.9.59 1.41.59.51 0 1.02-.2 1.41-.59l7.78-7.78 2.81-2.81c.8-.78.8-2.07 0-2.86zM5.41 20L4 18.59l7.72-7.72 1.47 1.35L5.41 20z\"/>\n",
              "  </svg>\n",
              "      </button>\n",
              "      \n",
              "  <style>\n",
              "    .colab-df-container {\n",
              "      display:flex;\n",
              "      flex-wrap:wrap;\n",
              "      gap: 12px;\n",
              "    }\n",
              "\n",
              "    .colab-df-convert {\n",
              "      background-color: #E8F0FE;\n",
              "      border: none;\n",
              "      border-radius: 50%;\n",
              "      cursor: pointer;\n",
              "      display: none;\n",
              "      fill: #1967D2;\n",
              "      height: 32px;\n",
              "      padding: 0 0 0 0;\n",
              "      width: 32px;\n",
              "    }\n",
              "\n",
              "    .colab-df-convert:hover {\n",
              "      background-color: #E2EBFA;\n",
              "      box-shadow: 0px 1px 2px rgba(60, 64, 67, 0.3), 0px 1px 3px 1px rgba(60, 64, 67, 0.15);\n",
              "      fill: #174EA6;\n",
              "    }\n",
              "\n",
              "    [theme=dark] .colab-df-convert {\n",
              "      background-color: #3B4455;\n",
              "      fill: #D2E3FC;\n",
              "    }\n",
              "\n",
              "    [theme=dark] .colab-df-convert:hover {\n",
              "      background-color: #434B5C;\n",
              "      box-shadow: 0px 1px 3px 1px rgba(0, 0, 0, 0.15);\n",
              "      filter: drop-shadow(0px 1px 2px rgba(0, 0, 0, 0.3));\n",
              "      fill: #FFFFFF;\n",
              "    }\n",
              "  </style>\n",
              "\n",
              "      <script>\n",
              "        const buttonEl =\n",
              "          document.querySelector('#df-72bb74c6-b978-4357-b6d0-1ddf20418404 button.colab-df-convert');\n",
              "        buttonEl.style.display =\n",
              "          google.colab.kernel.accessAllowed ? 'block' : 'none';\n",
              "\n",
              "        async function convertToInteractive(key) {\n",
              "          const element = document.querySelector('#df-72bb74c6-b978-4357-b6d0-1ddf20418404');\n",
              "          const dataTable =\n",
              "            await google.colab.kernel.invokeFunction('convertToInteractive',\n",
              "                                                     [key], {});\n",
              "          if (!dataTable) return;\n",
              "\n",
              "          const docLinkHtml = 'Like what you see? Visit the ' +\n",
              "            '<a target=\"_blank\" href=https://colab.research.google.com/notebooks/data_table.ipynb>data table notebook</a>'\n",
              "            + ' to learn more about interactive tables.';\n",
              "          element.innerHTML = '';\n",
              "          dataTable['output_type'] = 'display_data';\n",
              "          await google.colab.output.renderOutput(dataTable, element);\n",
              "          const docLink = document.createElement('div');\n",
              "          docLink.innerHTML = docLinkHtml;\n",
              "          element.appendChild(docLink);\n",
              "        }\n",
              "      </script>\n",
              "    </div>\n",
              "  </div>\n",
              "  "
            ]
          },
          "metadata": {},
          "execution_count": 124
        }
      ]
    },
    {
      "cell_type": "code",
      "source": [
        ""
      ],
      "metadata": {
        "id": "8X25KI-G9xkZ"
      },
      "execution_count": null,
      "outputs": []
    },
    {
      "cell_type": "code",
      "source": [
        ""
      ],
      "metadata": {
        "id": "LKv-UYZP_WaE"
      },
      "execution_count": null,
      "outputs": []
    },
    {
      "cell_type": "code",
      "source": [
        ""
      ],
      "metadata": {
        "id": "zQj54peS_Wc-"
      },
      "execution_count": null,
      "outputs": []
    },
    {
      "cell_type": "code",
      "source": [
        "#fig = px.line(agents_stat_summary_by_year, x=\"year\"})\n",
        "import plotly.graph_objects as go\n",
        "\n",
        "fig = go.Figure()\n",
        "\n",
        "\n",
        "\n",
        "fig.add_trace(go.Scatter(\n",
        "    x=year_ranges,\n",
        "    y=agents_stat_summary_by_year['New Comers_apartment_size_q1'],\n",
        "    legendgroup=\"New Comers\",  # this can be any string, not just \"group\"\n",
        "    legendgrouptitle_text=\"New Comers\",\n",
        "    name=\"Apartment Size Q1\",\n",
        "    mode=\"lines\",\n",
        "    line=dict(color='royalblue', width=1)\n",
        "))\n",
        "\n",
        "\n",
        "fig.add_trace(go.Scatter(\n",
        "    x=year_ranges,\n",
        "    y=agents_stat_summary_by_year['New Comers_apartment_size_q2'],\n",
        "    legendgroup=\"New Comers\",  # this can be any string, not just \"group\"\n",
        "    legendgrouptitle_text=\"New Comers\",\n",
        "    name=\"Apartment Size Q2\",\n",
        "    mode=\"lines\",\n",
        "    line=dict(color='royalblue', width=3)\n",
        "))\n",
        "\n",
        "\n",
        "fig.add_trace(go.Scatter(\n",
        "    x=year_ranges,\n",
        "    y=agents_stat_summary_by_year['New Comers_apartment_size_q3'],\n",
        "    legendgroup=\"New Comers\",  # this can be any string, not just \"group\"\n",
        "    legendgrouptitle_text=\"New Comers\",\n",
        "    name=\"Apartment Size Q3\",\n",
        "    mode=\"lines\",\n",
        "    line=dict(color='royalblue', width=4)\n",
        "    \n",
        "))\n",
        "\n",
        "fig.add_trace(go.Scatter(\n",
        "    x=year_ranges,\n",
        "    y=agents_stat_summary_by_year['stay_apartment_size_q1'],\n",
        "    legendgroup=\"Staying\",  # this can be any string, not just \"group\"\n",
        "    legendgrouptitle_text=\"Staying\",\n",
        "    name=\"Apartment Size Q1\",\n",
        "    mode=\"lines\",\n",
        "    line=dict(color='firebrick', width=1)\n",
        "))\n",
        "\n",
        "\n",
        "fig.add_trace(go.Scatter(\n",
        "    x=year_ranges,\n",
        "    y=agents_stat_summary_by_year['stay_apartment_size_q2'],\n",
        "    legendgroup=\"Staying\",  # this can be any string, not just \"group\"\n",
        "    legendgrouptitle_text=\"Staying\",\n",
        "    name=\"Apartment Size Q2\",\n",
        "    mode=\"lines\",\n",
        "    line=dict(color='firebrick', width=3)\n",
        "))\n",
        "\n",
        "\n",
        "fig.add_trace(go.Scatter(\n",
        "    x=year_ranges,\n",
        "    y=agents_stat_summary_by_year['stay_apartment_size_q3'],\n",
        "    legendgroup=\"Staying\",  # this can be any string, not just \"group\"\n",
        "    legendgrouptitle_text=\"Staying\",\n",
        "    name=\"Apartment Size Q3\",\n",
        "    mode=\"lines\",\n",
        "    line=dict(color='firebrick', width=4)\n",
        "    \n",
        "))\n",
        "\n",
        "fig.update_layout(title=\"Apartment Size  (q1-q3) vs Staying or New Comers\",template='plotly_white',yaxis = {'title' : \"m<sup>2</sup>\"})\n",
        "\n",
        "fig.show()\n",
        "\n",
        "# set range"
      ],
      "metadata": {
        "id": "TMnTe3GUrAjz",
        "colab": {
          "base_uri": "https://localhost:8080/",
          "height": 542
        },
        "outputId": "b89ad6cd-9ca9-4cfc-d64a-22ee53a56c7d"
      },
      "execution_count": null,
      "outputs": [
        {
          "output_type": "display_data",
          "data": {
            "text/html": [
              "<html>\n",
              "<head><meta charset=\"utf-8\" /></head>\n",
              "<body>\n",
              "    <div>            <script src=\"https://cdnjs.cloudflare.com/ajax/libs/mathjax/2.7.5/MathJax.js?config=TeX-AMS-MML_SVG\"></script><script type=\"text/javascript\">if (window.MathJax) {MathJax.Hub.Config({SVG: {font: \"STIX-Web\"}});}</script>                <script type=\"text/javascript\">window.PlotlyConfig = {MathJaxConfig: 'local'};</script>\n",
              "        <script src=\"https://cdn.plot.ly/plotly-2.8.3.min.js\"></script>                <div id=\"4b640fc2-8ca3-444e-a64d-b99fccfd7416\" class=\"plotly-graph-div\" style=\"height:525px; width:100%;\"></div>            <script type=\"text/javascript\">                                    window.PLOTLYENV=window.PLOTLYENV || {};                                    if (document.getElementById(\"4b640fc2-8ca3-444e-a64d-b99fccfd7416\")) {                    Plotly.newPlot(                        \"4b640fc2-8ca3-444e-a64d-b99fccfd7416\",                        [{\"legendgroup\":\"New Comers\",\"legendgrouptitle\":{\"text\":\"New Comers\"},\"line\":{\"color\":\"royalblue\",\"width\":1},\"mode\":\"lines\",\"name\":\"Apartment Size Q1\",\"x\":[\"2015 Q1\",\"2015 Q3\",\"2016 Q1\",\"2016 Q3\",\"2017 Q1\",\"2017 Q3\",\"2018 Q1\",\"2018 Q3\",\"2019 Q1\",\"2019 Q3\",\"2020 Q1\",\"2020 Q3\",\"2021 Q1\",\"2021 Q3\",\"2022 Q1\",\"2022 Q3\",\"2023 Q1\",\"2023 Q3\",\"2024 Q1\",\"2024 Q3\",\"2025 Q1\",\"2025 Q3\",\"2026 Q1\",\"2026 Q3\",\"2027 Q1\",\"2027 Q3\",\"2028 Q1\",\"2028 Q3\",\"2029 Q1\",\"2029 Q3\",\"2030 Q1\",\"2030 Q3\"],\"y\":[null,null,null,null,82.0,82.0,82.0,72.0,82.0,82.0,82.0,82.0,82.0,75.0,82.0,82.0,85.0,85.0,85.0,85.0,85.0,85.0,89.0,89.0,89.0,89.0,89.0,91.0,91.0,91.0,91.0,91.0],\"type\":\"scatter\"},{\"legendgroup\":\"New Comers\",\"legendgrouptitle\":{\"text\":\"New Comers\"},\"line\":{\"color\":\"royalblue\",\"width\":3},\"mode\":\"lines\",\"name\":\"Apartment Size Q2\",\"x\":[\"2015 Q1\",\"2015 Q3\",\"2016 Q1\",\"2016 Q3\",\"2017 Q1\",\"2017 Q3\",\"2018 Q1\",\"2018 Q3\",\"2019 Q1\",\"2019 Q3\",\"2020 Q1\",\"2020 Q3\",\"2021 Q1\",\"2021 Q3\",\"2022 Q1\",\"2022 Q3\",\"2023 Q1\",\"2023 Q3\",\"2024 Q1\",\"2024 Q3\",\"2025 Q1\",\"2025 Q3\",\"2026 Q1\",\"2026 Q3\",\"2027 Q1\",\"2027 Q3\",\"2028 Q1\",\"2028 Q3\",\"2029 Q1\",\"2029 Q3\",\"2030 Q1\",\"2030 Q3\"],\"y\":[null,null,null,null,82.0,82.0,82.0,82.0,82.0,82.0,92.0,92.0,92.0,82.0,92.0,92.0,92.0,92.0,92.0,93.0,92.0,92.0,98.0,98.0,98.0,98.0,98.0,98.0,98.0,98.0,98.0,98.0],\"type\":\"scatter\"},{\"legendgroup\":\"New Comers\",\"legendgrouptitle\":{\"text\":\"New Comers\"},\"line\":{\"color\":\"royalblue\",\"width\":4},\"mode\":\"lines\",\"name\":\"Apartment Size Q3\",\"x\":[\"2015 Q1\",\"2015 Q3\",\"2016 Q1\",\"2016 Q3\",\"2017 Q1\",\"2017 Q3\",\"2018 Q1\",\"2018 Q3\",\"2019 Q1\",\"2019 Q3\",\"2020 Q1\",\"2020 Q3\",\"2021 Q1\",\"2021 Q3\",\"2022 Q1\",\"2022 Q3\",\"2023 Q1\",\"2023 Q3\",\"2024 Q1\",\"2024 Q3\",\"2025 Q1\",\"2025 Q3\",\"2026 Q1\",\"2026 Q3\",\"2027 Q1\",\"2027 Q3\",\"2028 Q1\",\"2028 Q3\",\"2029 Q1\",\"2029 Q3\",\"2030 Q1\",\"2030 Q3\"],\"y\":[null,null,null,null,82.0,82.0,92.0,92.0,102.0,102.0,102.0,102.0,102.0,102.0,115.0,115.0,108.0,108.0,108.0,108.0,108.0,108.0,108.0,108.0,108.0,112.0,112.0,112.0,112.0,112.0,112.0,112.0],\"type\":\"scatter\"},{\"legendgroup\":\"Staying\",\"legendgrouptitle\":{\"text\":\"Staying\"},\"line\":{\"color\":\"firebrick\",\"width\":1},\"mode\":\"lines\",\"name\":\"Apartment Size Q1\",\"x\":[\"2015 Q1\",\"2015 Q3\",\"2016 Q1\",\"2016 Q3\",\"2017 Q1\",\"2017 Q3\",\"2018 Q1\",\"2018 Q3\",\"2019 Q1\",\"2019 Q3\",\"2020 Q1\",\"2020 Q3\",\"2021 Q1\",\"2021 Q3\",\"2022 Q1\",\"2022 Q3\",\"2023 Q1\",\"2023 Q3\",\"2024 Q1\",\"2024 Q3\",\"2025 Q1\",\"2025 Q3\",\"2026 Q1\",\"2026 Q3\",\"2027 Q1\",\"2027 Q3\",\"2028 Q1\",\"2028 Q3\",\"2029 Q1\",\"2029 Q3\",\"2030 Q1\",\"2030 Q3\"],\"y\":[66.0,68.0,68.0,66.0,66.0,66.0,66.0,66.0,66.0,66.0,70.0,70.0,68.0,73.0,73.0,73.0,66.0,66.0,66.0,66.0,85.0,85.0,85.0,85.0,85.0,88.0,89.0,90.0,90.0,90.0,90.0,90.0],\"type\":\"scatter\"},{\"legendgroup\":\"Staying\",\"legendgrouptitle\":{\"text\":\"Staying\"},\"line\":{\"color\":\"firebrick\",\"width\":3},\"mode\":\"lines\",\"name\":\"Apartment Size Q2\",\"x\":[\"2015 Q1\",\"2015 Q3\",\"2016 Q1\",\"2016 Q3\",\"2017 Q1\",\"2017 Q3\",\"2018 Q1\",\"2018 Q3\",\"2019 Q1\",\"2019 Q3\",\"2020 Q1\",\"2020 Q3\",\"2021 Q1\",\"2021 Q3\",\"2022 Q1\",\"2022 Q3\",\"2023 Q1\",\"2023 Q3\",\"2024 Q1\",\"2024 Q3\",\"2025 Q1\",\"2025 Q3\",\"2026 Q1\",\"2026 Q3\",\"2027 Q1\",\"2027 Q3\",\"2028 Q1\",\"2028 Q3\",\"2029 Q1\",\"2029 Q3\",\"2030 Q1\",\"2030 Q3\"],\"y\":[73.0,73.0,73.0,73.0,73.0,73.0,73.0,73.0,73.0,73.0,73.0,73.0,73.0,73.0,73.0,73.0,87.0,87.0,87.0,83.5,92.0,92.0,98.0,98.0,98.0,98.0,93.0,98.0,98.0,98.0,98.0,98.0],\"type\":\"scatter\"},{\"legendgroup\":\"Staying\",\"legendgrouptitle\":{\"text\":\"Staying\"},\"line\":{\"color\":\"firebrick\",\"width\":4},\"mode\":\"lines\",\"name\":\"Apartment Size Q3\",\"x\":[\"2015 Q1\",\"2015 Q3\",\"2016 Q1\",\"2016 Q3\",\"2017 Q1\",\"2017 Q3\",\"2018 Q1\",\"2018 Q3\",\"2019 Q1\",\"2019 Q3\",\"2020 Q1\",\"2020 Q3\",\"2021 Q1\",\"2021 Q3\",\"2022 Q1\",\"2022 Q3\",\"2023 Q1\",\"2023 Q3\",\"2024 Q1\",\"2024 Q3\",\"2025 Q1\",\"2025 Q3\",\"2026 Q1\",\"2026 Q3\",\"2027 Q1\",\"2027 Q3\",\"2028 Q1\",\"2028 Q3\",\"2029 Q1\",\"2029 Q3\",\"2030 Q1\",\"2030 Q3\"],\"y\":[83.0,83.0,83.0,83.0,83.0,83.0,83.0,83.0,80.0,80.0,83.0,80.0,87.0,90.0,90.0,90.0,90.0,90.0,90.0,93.0,100.0,98.0,98.0,98.0,98.0,98.0,98.0,98.0,98.0,98.0,98.0,98.0],\"type\":\"scatter\"}],                        {\"template\":{\"data\":{\"barpolar\":[{\"marker\":{\"line\":{\"color\":\"white\",\"width\":0.5},\"pattern\":{\"fillmode\":\"overlay\",\"size\":10,\"solidity\":0.2}},\"type\":\"barpolar\"}],\"bar\":[{\"error_x\":{\"color\":\"#2a3f5f\"},\"error_y\":{\"color\":\"#2a3f5f\"},\"marker\":{\"line\":{\"color\":\"white\",\"width\":0.5},\"pattern\":{\"fillmode\":\"overlay\",\"size\":10,\"solidity\":0.2}},\"type\":\"bar\"}],\"carpet\":[{\"aaxis\":{\"endlinecolor\":\"#2a3f5f\",\"gridcolor\":\"#C8D4E3\",\"linecolor\":\"#C8D4E3\",\"minorgridcolor\":\"#C8D4E3\",\"startlinecolor\":\"#2a3f5f\"},\"baxis\":{\"endlinecolor\":\"#2a3f5f\",\"gridcolor\":\"#C8D4E3\",\"linecolor\":\"#C8D4E3\",\"minorgridcolor\":\"#C8D4E3\",\"startlinecolor\":\"#2a3f5f\"},\"type\":\"carpet\"}],\"choropleth\":[{\"colorbar\":{\"outlinewidth\":0,\"ticks\":\"\"},\"type\":\"choropleth\"}],\"contourcarpet\":[{\"colorbar\":{\"outlinewidth\":0,\"ticks\":\"\"},\"type\":\"contourcarpet\"}],\"contour\":[{\"colorbar\":{\"outlinewidth\":0,\"ticks\":\"\"},\"colorscale\":[[0.0,\"#0d0887\"],[0.1111111111111111,\"#46039f\"],[0.2222222222222222,\"#7201a8\"],[0.3333333333333333,\"#9c179e\"],[0.4444444444444444,\"#bd3786\"],[0.5555555555555556,\"#d8576b\"],[0.6666666666666666,\"#ed7953\"],[0.7777777777777778,\"#fb9f3a\"],[0.8888888888888888,\"#fdca26\"],[1.0,\"#f0f921\"]],\"type\":\"contour\"}],\"heatmapgl\":[{\"colorbar\":{\"outlinewidth\":0,\"ticks\":\"\"},\"colorscale\":[[0.0,\"#0d0887\"],[0.1111111111111111,\"#46039f\"],[0.2222222222222222,\"#7201a8\"],[0.3333333333333333,\"#9c179e\"],[0.4444444444444444,\"#bd3786\"],[0.5555555555555556,\"#d8576b\"],[0.6666666666666666,\"#ed7953\"],[0.7777777777777778,\"#fb9f3a\"],[0.8888888888888888,\"#fdca26\"],[1.0,\"#f0f921\"]],\"type\":\"heatmapgl\"}],\"heatmap\":[{\"colorbar\":{\"outlinewidth\":0,\"ticks\":\"\"},\"colorscale\":[[0.0,\"#0d0887\"],[0.1111111111111111,\"#46039f\"],[0.2222222222222222,\"#7201a8\"],[0.3333333333333333,\"#9c179e\"],[0.4444444444444444,\"#bd3786\"],[0.5555555555555556,\"#d8576b\"],[0.6666666666666666,\"#ed7953\"],[0.7777777777777778,\"#fb9f3a\"],[0.8888888888888888,\"#fdca26\"],[1.0,\"#f0f921\"]],\"type\":\"heatmap\"}],\"histogram2dcontour\":[{\"colorbar\":{\"outlinewidth\":0,\"ticks\":\"\"},\"colorscale\":[[0.0,\"#0d0887\"],[0.1111111111111111,\"#46039f\"],[0.2222222222222222,\"#7201a8\"],[0.3333333333333333,\"#9c179e\"],[0.4444444444444444,\"#bd3786\"],[0.5555555555555556,\"#d8576b\"],[0.6666666666666666,\"#ed7953\"],[0.7777777777777778,\"#fb9f3a\"],[0.8888888888888888,\"#fdca26\"],[1.0,\"#f0f921\"]],\"type\":\"histogram2dcontour\"}],\"histogram2d\":[{\"colorbar\":{\"outlinewidth\":0,\"ticks\":\"\"},\"colorscale\":[[0.0,\"#0d0887\"],[0.1111111111111111,\"#46039f\"],[0.2222222222222222,\"#7201a8\"],[0.3333333333333333,\"#9c179e\"],[0.4444444444444444,\"#bd3786\"],[0.5555555555555556,\"#d8576b\"],[0.6666666666666666,\"#ed7953\"],[0.7777777777777778,\"#fb9f3a\"],[0.8888888888888888,\"#fdca26\"],[1.0,\"#f0f921\"]],\"type\":\"histogram2d\"}],\"histogram\":[{\"marker\":{\"pattern\":{\"fillmode\":\"overlay\",\"size\":10,\"solidity\":0.2}},\"type\":\"histogram\"}],\"mesh3d\":[{\"colorbar\":{\"outlinewidth\":0,\"ticks\":\"\"},\"type\":\"mesh3d\"}],\"parcoords\":[{\"line\":{\"colorbar\":{\"outlinewidth\":0,\"ticks\":\"\"}},\"type\":\"parcoords\"}],\"pie\":[{\"automargin\":true,\"type\":\"pie\"}],\"scatter3d\":[{\"line\":{\"colorbar\":{\"outlinewidth\":0,\"ticks\":\"\"}},\"marker\":{\"colorbar\":{\"outlinewidth\":0,\"ticks\":\"\"}},\"type\":\"scatter3d\"}],\"scattercarpet\":[{\"marker\":{\"colorbar\":{\"outlinewidth\":0,\"ticks\":\"\"}},\"type\":\"scattercarpet\"}],\"scattergeo\":[{\"marker\":{\"colorbar\":{\"outlinewidth\":0,\"ticks\":\"\"}},\"type\":\"scattergeo\"}],\"scattergl\":[{\"marker\":{\"colorbar\":{\"outlinewidth\":0,\"ticks\":\"\"}},\"type\":\"scattergl\"}],\"scattermapbox\":[{\"marker\":{\"colorbar\":{\"outlinewidth\":0,\"ticks\":\"\"}},\"type\":\"scattermapbox\"}],\"scatterpolargl\":[{\"marker\":{\"colorbar\":{\"outlinewidth\":0,\"ticks\":\"\"}},\"type\":\"scatterpolargl\"}],\"scatterpolar\":[{\"marker\":{\"colorbar\":{\"outlinewidth\":0,\"ticks\":\"\"}},\"type\":\"scatterpolar\"}],\"scatter\":[{\"marker\":{\"colorbar\":{\"outlinewidth\":0,\"ticks\":\"\"}},\"type\":\"scatter\"}],\"scatterternary\":[{\"marker\":{\"colorbar\":{\"outlinewidth\":0,\"ticks\":\"\"}},\"type\":\"scatterternary\"}],\"surface\":[{\"colorbar\":{\"outlinewidth\":0,\"ticks\":\"\"},\"colorscale\":[[0.0,\"#0d0887\"],[0.1111111111111111,\"#46039f\"],[0.2222222222222222,\"#7201a8\"],[0.3333333333333333,\"#9c179e\"],[0.4444444444444444,\"#bd3786\"],[0.5555555555555556,\"#d8576b\"],[0.6666666666666666,\"#ed7953\"],[0.7777777777777778,\"#fb9f3a\"],[0.8888888888888888,\"#fdca26\"],[1.0,\"#f0f921\"]],\"type\":\"surface\"}],\"table\":[{\"cells\":{\"fill\":{\"color\":\"#EBF0F8\"},\"line\":{\"color\":\"white\"}},\"header\":{\"fill\":{\"color\":\"#C8D4E3\"},\"line\":{\"color\":\"white\"}},\"type\":\"table\"}]},\"layout\":{\"annotationdefaults\":{\"arrowcolor\":\"#2a3f5f\",\"arrowhead\":0,\"arrowwidth\":1},\"autotypenumbers\":\"strict\",\"coloraxis\":{\"colorbar\":{\"outlinewidth\":0,\"ticks\":\"\"}},\"colorscale\":{\"diverging\":[[0,\"#8e0152\"],[0.1,\"#c51b7d\"],[0.2,\"#de77ae\"],[0.3,\"#f1b6da\"],[0.4,\"#fde0ef\"],[0.5,\"#f7f7f7\"],[0.6,\"#e6f5d0\"],[0.7,\"#b8e186\"],[0.8,\"#7fbc41\"],[0.9,\"#4d9221\"],[1,\"#276419\"]],\"sequential\":[[0.0,\"#0d0887\"],[0.1111111111111111,\"#46039f\"],[0.2222222222222222,\"#7201a8\"],[0.3333333333333333,\"#9c179e\"],[0.4444444444444444,\"#bd3786\"],[0.5555555555555556,\"#d8576b\"],[0.6666666666666666,\"#ed7953\"],[0.7777777777777778,\"#fb9f3a\"],[0.8888888888888888,\"#fdca26\"],[1.0,\"#f0f921\"]],\"sequentialminus\":[[0.0,\"#0d0887\"],[0.1111111111111111,\"#46039f\"],[0.2222222222222222,\"#7201a8\"],[0.3333333333333333,\"#9c179e\"],[0.4444444444444444,\"#bd3786\"],[0.5555555555555556,\"#d8576b\"],[0.6666666666666666,\"#ed7953\"],[0.7777777777777778,\"#fb9f3a\"],[0.8888888888888888,\"#fdca26\"],[1.0,\"#f0f921\"]]},\"colorway\":[\"#636efa\",\"#EF553B\",\"#00cc96\",\"#ab63fa\",\"#FFA15A\",\"#19d3f3\",\"#FF6692\",\"#B6E880\",\"#FF97FF\",\"#FECB52\"],\"font\":{\"color\":\"#2a3f5f\"},\"geo\":{\"bgcolor\":\"white\",\"lakecolor\":\"white\",\"landcolor\":\"white\",\"showlakes\":true,\"showland\":true,\"subunitcolor\":\"#C8D4E3\"},\"hoverlabel\":{\"align\":\"left\"},\"hovermode\":\"closest\",\"mapbox\":{\"style\":\"light\"},\"paper_bgcolor\":\"white\",\"plot_bgcolor\":\"white\",\"polar\":{\"angularaxis\":{\"gridcolor\":\"#EBF0F8\",\"linecolor\":\"#EBF0F8\",\"ticks\":\"\"},\"bgcolor\":\"white\",\"radialaxis\":{\"gridcolor\":\"#EBF0F8\",\"linecolor\":\"#EBF0F8\",\"ticks\":\"\"}},\"scene\":{\"xaxis\":{\"backgroundcolor\":\"white\",\"gridcolor\":\"#DFE8F3\",\"gridwidth\":2,\"linecolor\":\"#EBF0F8\",\"showbackground\":true,\"ticks\":\"\",\"zerolinecolor\":\"#EBF0F8\"},\"yaxis\":{\"backgroundcolor\":\"white\",\"gridcolor\":\"#DFE8F3\",\"gridwidth\":2,\"linecolor\":\"#EBF0F8\",\"showbackground\":true,\"ticks\":\"\",\"zerolinecolor\":\"#EBF0F8\"},\"zaxis\":{\"backgroundcolor\":\"white\",\"gridcolor\":\"#DFE8F3\",\"gridwidth\":2,\"linecolor\":\"#EBF0F8\",\"showbackground\":true,\"ticks\":\"\",\"zerolinecolor\":\"#EBF0F8\"}},\"shapedefaults\":{\"line\":{\"color\":\"#2a3f5f\"}},\"ternary\":{\"aaxis\":{\"gridcolor\":\"#DFE8F3\",\"linecolor\":\"#A2B1C6\",\"ticks\":\"\"},\"baxis\":{\"gridcolor\":\"#DFE8F3\",\"linecolor\":\"#A2B1C6\",\"ticks\":\"\"},\"bgcolor\":\"white\",\"caxis\":{\"gridcolor\":\"#DFE8F3\",\"linecolor\":\"#A2B1C6\",\"ticks\":\"\"}},\"title\":{\"x\":0.05},\"xaxis\":{\"automargin\":true,\"gridcolor\":\"#EBF0F8\",\"linecolor\":\"#EBF0F8\",\"ticks\":\"\",\"title\":{\"standoff\":15},\"zerolinecolor\":\"#EBF0F8\",\"zerolinewidth\":2},\"yaxis\":{\"automargin\":true,\"gridcolor\":\"#EBF0F8\",\"linecolor\":\"#EBF0F8\",\"ticks\":\"\",\"title\":{\"standoff\":15},\"zerolinecolor\":\"#EBF0F8\",\"zerolinewidth\":2}}},\"title\":{\"text\":\"Apartment Size  (q1-q3) vs Staying or New Comers\"},\"yaxis\":{\"title\":{\"text\":\"m<sup>2</sup>\"}}},                        {\"responsive\": true}                    ).then(function(){\n",
              "                            \n",
              "var gd = document.getElementById('4b640fc2-8ca3-444e-a64d-b99fccfd7416');\n",
              "var x = new MutationObserver(function (mutations, observer) {{\n",
              "        var display = window.getComputedStyle(gd).display;\n",
              "        if (!display || display === 'none') {{\n",
              "            console.log([gd, 'removed!']);\n",
              "            Plotly.purge(gd);\n",
              "            observer.disconnect();\n",
              "        }}\n",
              "}});\n",
              "\n",
              "// Listen for the removal of the full notebook cells\n",
              "var notebookContainer = gd.closest('#notebook-container');\n",
              "if (notebookContainer) {{\n",
              "    x.observe(notebookContainer, {childList: true});\n",
              "}}\n",
              "\n",
              "// Listen for the clearing of the current output cell\n",
              "var outputEl = gd.closest('.output');\n",
              "if (outputEl) {{\n",
              "    x.observe(outputEl, {childList: true});\n",
              "}}\n",
              "\n",
              "                        })                };                            </script>        </div>\n",
              "</body>\n",
              "</html>"
            ]
          },
          "metadata": {}
        }
      ]
    },
    {
      "cell_type": "code",
      "source": [
        "#fig = px.line(agents_stat_summary_by_year, x=\"year\"})\n",
        "import plotly.graph_objects as go\n",
        "\n",
        "fig = go.Figure()\n",
        "\n",
        "\n",
        "\n",
        "fig.add_trace(go.Scatter(\n",
        "    x=year_ranges,\n",
        "    y=agents_stat_summary_by_year['New Comers_age_q1'],\n",
        "    legendgroup=\"New Comers\",  # this can be any string, not just \"group\"\n",
        "    legendgrouptitle_text=\"New Comers\",\n",
        "    name=\"Age Q1\",\n",
        "    mode=\"lines\",\n",
        "    line=dict(color='royalblue', width=1)\n",
        "))\n",
        "\n",
        "\n",
        "fig.add_trace(go.Scatter(\n",
        "    x=year_ranges,\n",
        "    y=agents_stat_summary_by_year['New Comers_age_q2'],\n",
        "    legendgroup=\"New Comers\",  # this can be any string, not just \"group\"\n",
        "    legendgrouptitle_text=\"New Comers\",\n",
        "    name=\"Age Q2\",\n",
        "    mode=\"lines\",\n",
        "    line=dict(color='royalblue', width=3)\n",
        "))\n",
        "\n",
        "\n",
        "fig.add_trace(go.Scatter(\n",
        "    x=year_ranges,\n",
        "    y=agents_stat_summary_by_year['New Comers_age_q3'],\n",
        "    legendgroup=\"New Comers\",  # this can be any string, not just \"group\"\n",
        "    legendgrouptitle_text=\"New Comers\",\n",
        "    name=\"Age Q3\",\n",
        "    mode=\"lines\",\n",
        "    line=dict(color='royalblue', width=4)\n",
        "    \n",
        "))\n",
        "\n",
        "fig.add_trace(go.Scatter(\n",
        "    x=year_ranges,\n",
        "    y=agents_stat_summary_by_year['stay_age_q1'],\n",
        "    legendgroup=\"Staying\",  # this can be any string, not just \"group\"\n",
        "    legendgrouptitle_text=\"Staying\",\n",
        "    name=\"Age Q1\",\n",
        "    mode=\"lines\",\n",
        "    line=dict(color='firebrick', width=1)\n",
        "))\n",
        "\n",
        "\n",
        "fig.add_trace(go.Scatter(\n",
        "    x=year_ranges,\n",
        "    y=agents_stat_summary_by_year['stay_age_q2'],\n",
        "    legendgroup=\"Staying\",  # this can be any string, not just \"group\"\n",
        "    legendgrouptitle_text=\"Staying\",\n",
        "    name=\"Age Q2\",\n",
        "    mode=\"lines\",\n",
        "    line=dict(color='firebrick', width=3)\n",
        "))\n",
        "\n",
        "\n",
        "fig.add_trace(go.Scatter(\n",
        "    x=year_ranges,\n",
        "    y=agents_stat_summary_by_year['stay_age_q3'],\n",
        "    legendgroup=\"Staying\",  # this can be any string, not just \"group\"\n",
        "    legendgrouptitle_text=\"Staying\",\n",
        "    name=\"Age Q3\",\n",
        "    mode=\"lines\",\n",
        "    line=dict(color='firebrick', width=4)\n",
        "    \n",
        "))\n",
        "\n",
        "\n",
        "fig.update_layout(title=\"age (q1,q2,q3) of olderst person at household\",template='plotly_white',yaxis = {'title' : \"Average Age\"})\n",
        "\n",
        "fig.show()\n",
        "\n",
        "# set range"
      ],
      "metadata": {
        "id": "Ja96_X-8rZvF",
        "colab": {
          "base_uri": "https://localhost:8080/",
          "height": 542
        },
        "outputId": "9ec03f56-6783-4fee-edd1-711a256e554a"
      },
      "execution_count": null,
      "outputs": [
        {
          "output_type": "display_data",
          "data": {
            "text/html": [
              "<html>\n",
              "<head><meta charset=\"utf-8\" /></head>\n",
              "<body>\n",
              "    <div>            <script src=\"https://cdnjs.cloudflare.com/ajax/libs/mathjax/2.7.5/MathJax.js?config=TeX-AMS-MML_SVG\"></script><script type=\"text/javascript\">if (window.MathJax) {MathJax.Hub.Config({SVG: {font: \"STIX-Web\"}});}</script>                <script type=\"text/javascript\">window.PlotlyConfig = {MathJaxConfig: 'local'};</script>\n",
              "        <script src=\"https://cdn.plot.ly/plotly-2.8.3.min.js\"></script>                <div id=\"c6d9455f-aecf-4673-8788-d4c4a8f84c0d\" class=\"plotly-graph-div\" style=\"height:525px; width:100%;\"></div>            <script type=\"text/javascript\">                                    window.PLOTLYENV=window.PLOTLYENV || {};                                    if (document.getElementById(\"c6d9455f-aecf-4673-8788-d4c4a8f84c0d\")) {                    Plotly.newPlot(                        \"c6d9455f-aecf-4673-8788-d4c4a8f84c0d\",                        [{\"legendgroup\":\"New Comers\",\"legendgrouptitle\":{\"text\":\"New Comers\"},\"line\":{\"color\":\"royalblue\",\"width\":1},\"mode\":\"lines\",\"name\":\"Age Q1\",\"x\":[\"2015 Q1\",\"2015 Q3\",\"2016 Q1\",\"2016 Q3\",\"2017 Q1\",\"2017 Q3\",\"2018 Q1\",\"2018 Q3\",\"2019 Q1\",\"2019 Q3\",\"2020 Q1\",\"2020 Q3\",\"2021 Q1\",\"2021 Q3\",\"2022 Q1\",\"2022 Q3\",\"2023 Q1\",\"2023 Q3\",\"2024 Q1\",\"2024 Q3\",\"2025 Q1\",\"2025 Q3\",\"2026 Q1\",\"2026 Q3\",\"2027 Q1\",\"2027 Q3\",\"2028 Q1\",\"2028 Q3\",\"2029 Q1\",\"2029 Q3\",\"2030 Q1\",\"2030 Q3\"],\"y\":[null,null,null,null,32.0,32.0,31.75,31.0,32.0,32.0,33.5,33.5,34.5,34.0,35.0,34.0,34.0,34.0,35.0,35.0,36.0,36.0,36.0,36.0,36.0,36.0,37.0,37.0,38.0,38.0,39.0,39.0],\"type\":\"scatter\"},{\"legendgroup\":\"New Comers\",\"legendgrouptitle\":{\"text\":\"New Comers\"},\"line\":{\"color\":\"royalblue\",\"width\":3},\"mode\":\"lines\",\"name\":\"Age Q2\",\"x\":[\"2015 Q1\",\"2015 Q3\",\"2016 Q1\",\"2016 Q3\",\"2017 Q1\",\"2017 Q3\",\"2018 Q1\",\"2018 Q3\",\"2019 Q1\",\"2019 Q3\",\"2020 Q1\",\"2020 Q3\",\"2021 Q1\",\"2021 Q3\",\"2022 Q1\",\"2022 Q3\",\"2023 Q1\",\"2023 Q3\",\"2024 Q1\",\"2024 Q3\",\"2025 Q1\",\"2025 Q3\",\"2026 Q1\",\"2026 Q3\",\"2027 Q1\",\"2027 Q3\",\"2028 Q1\",\"2028 Q3\",\"2029 Q1\",\"2029 Q3\",\"2030 Q1\",\"2030 Q3\"],\"y\":[null,null,null,null,47.0,47.0,42.0,44.0,46.0,46.0,47.0,47.0,48.0,47.0,47.5,47.0,47.5,47.5,48.0,49.0,49.0,49.0,49.0,49.0,49.0,49.0,50.0,50.0,51.0,51.0,52.0,52.0],\"type\":\"scatter\"},{\"legendgroup\":\"New Comers\",\"legendgrouptitle\":{\"text\":\"New Comers\"},\"line\":{\"color\":\"royalblue\",\"width\":4},\"mode\":\"lines\",\"name\":\"Age Q3\",\"x\":[\"2015 Q1\",\"2015 Q3\",\"2016 Q1\",\"2016 Q3\",\"2017 Q1\",\"2017 Q3\",\"2018 Q1\",\"2018 Q3\",\"2019 Q1\",\"2019 Q3\",\"2020 Q1\",\"2020 Q3\",\"2021 Q1\",\"2021 Q3\",\"2022 Q1\",\"2022 Q3\",\"2023 Q1\",\"2023 Q3\",\"2024 Q1\",\"2024 Q3\",\"2025 Q1\",\"2025 Q3\",\"2026 Q1\",\"2026 Q3\",\"2027 Q1\",\"2027 Q3\",\"2028 Q1\",\"2028 Q3\",\"2029 Q1\",\"2029 Q3\",\"2030 Q1\",\"2030 Q3\"],\"y\":[null,null,null,null,60.0,60.0,60.25,59.0,62.0,62.0,64.5,64.5,65.5,64.0,64.0,64.0,65.0,65.0,65.0,65.0,66.0,66.0,65.0,65.0,66.0,66.0,66.0,66.0,67.0,67.0,68.0,68.0],\"type\":\"scatter\"},{\"legendgroup\":\"Staying\",\"legendgrouptitle\":{\"text\":\"Staying\"},\"line\":{\"color\":\"firebrick\",\"width\":1},\"mode\":\"lines\",\"name\":\"Age Q1\",\"x\":[\"2015 Q1\",\"2015 Q3\",\"2016 Q1\",\"2016 Q3\",\"2017 Q1\",\"2017 Q3\",\"2018 Q1\",\"2018 Q3\",\"2019 Q1\",\"2019 Q3\",\"2020 Q1\",\"2020 Q3\",\"2021 Q1\",\"2021 Q3\",\"2022 Q1\",\"2022 Q3\",\"2023 Q1\",\"2023 Q3\",\"2024 Q1\",\"2024 Q3\",\"2025 Q1\",\"2025 Q3\",\"2026 Q1\",\"2026 Q3\",\"2027 Q1\",\"2027 Q3\",\"2028 Q1\",\"2028 Q3\",\"2029 Q1\",\"2029 Q3\",\"2030 Q1\",\"2030 Q3\"],\"y\":[30.0,30.0,31.0,31.0,32.0,32.0,33.0,33.0,34.0,34.0,35.75,35.0,37.0,37.0,38.0,38.0,38.0,38.0,39.0,37.75,38.5,38.25,40.0,40.0,41.5,41.75,42.0,42.0,43.0,43.0,44.0,44.0],\"type\":\"scatter\"},{\"legendgroup\":\"Staying\",\"legendgrouptitle\":{\"text\":\"Staying\"},\"line\":{\"color\":\"firebrick\",\"width\":3},\"mode\":\"lines\",\"name\":\"Age Q2\",\"x\":[\"2015 Q1\",\"2015 Q3\",\"2016 Q1\",\"2016 Q3\",\"2017 Q1\",\"2017 Q3\",\"2018 Q1\",\"2018 Q3\",\"2019 Q1\",\"2019 Q3\",\"2020 Q1\",\"2020 Q3\",\"2021 Q1\",\"2021 Q3\",\"2022 Q1\",\"2022 Q3\",\"2023 Q1\",\"2023 Q3\",\"2024 Q1\",\"2024 Q3\",\"2025 Q1\",\"2025 Q3\",\"2026 Q1\",\"2026 Q3\",\"2027 Q1\",\"2027 Q3\",\"2028 Q1\",\"2028 Q3\",\"2029 Q1\",\"2029 Q3\",\"2030 Q1\",\"2030 Q3\"],\"y\":[42.0,42.0,43.0,43.0,44.0,44.0,45.0,45.0,46.5,46.5,48.0,48.0,48.0,49.0,50.0,50.0,50.0,50.0,51.0,49.0,47.0,48.0,49.5,49.5,52.0,52.0,53.0,53.0,54.0,54.0,55.0,55.0],\"type\":\"scatter\"},{\"legendgroup\":\"Staying\",\"legendgrouptitle\":{\"text\":\"Staying\"},\"line\":{\"color\":\"firebrick\",\"width\":4},\"mode\":\"lines\",\"name\":\"Age Q3\",\"x\":[\"2015 Q1\",\"2015 Q3\",\"2016 Q1\",\"2016 Q3\",\"2017 Q1\",\"2017 Q3\",\"2018 Q1\",\"2018 Q3\",\"2019 Q1\",\"2019 Q3\",\"2020 Q1\",\"2020 Q3\",\"2021 Q1\",\"2021 Q3\",\"2022 Q1\",\"2022 Q3\",\"2023 Q1\",\"2023 Q3\",\"2024 Q1\",\"2024 Q3\",\"2025 Q1\",\"2025 Q3\",\"2026 Q1\",\"2026 Q3\",\"2027 Q1\",\"2027 Q3\",\"2028 Q1\",\"2028 Q3\",\"2029 Q1\",\"2029 Q3\",\"2030 Q1\",\"2030 Q3\"],\"y\":[65.0,65.0,66.0,65.25,66.75,66.75,68.0,68.0,69.0,69.0,70.0,70.0,70.0,70.0,71.0,70.0,66.0,66.0,64.0,60.25,57.5,57.0,58.0,58.0,59.0,59.25,61.0,60.5,61.5,61.5,62.5,62.5],\"type\":\"scatter\"}],                        {\"template\":{\"data\":{\"barpolar\":[{\"marker\":{\"line\":{\"color\":\"white\",\"width\":0.5},\"pattern\":{\"fillmode\":\"overlay\",\"size\":10,\"solidity\":0.2}},\"type\":\"barpolar\"}],\"bar\":[{\"error_x\":{\"color\":\"#2a3f5f\"},\"error_y\":{\"color\":\"#2a3f5f\"},\"marker\":{\"line\":{\"color\":\"white\",\"width\":0.5},\"pattern\":{\"fillmode\":\"overlay\",\"size\":10,\"solidity\":0.2}},\"type\":\"bar\"}],\"carpet\":[{\"aaxis\":{\"endlinecolor\":\"#2a3f5f\",\"gridcolor\":\"#C8D4E3\",\"linecolor\":\"#C8D4E3\",\"minorgridcolor\":\"#C8D4E3\",\"startlinecolor\":\"#2a3f5f\"},\"baxis\":{\"endlinecolor\":\"#2a3f5f\",\"gridcolor\":\"#C8D4E3\",\"linecolor\":\"#C8D4E3\",\"minorgridcolor\":\"#C8D4E3\",\"startlinecolor\":\"#2a3f5f\"},\"type\":\"carpet\"}],\"choropleth\":[{\"colorbar\":{\"outlinewidth\":0,\"ticks\":\"\"},\"type\":\"choropleth\"}],\"contourcarpet\":[{\"colorbar\":{\"outlinewidth\":0,\"ticks\":\"\"},\"type\":\"contourcarpet\"}],\"contour\":[{\"colorbar\":{\"outlinewidth\":0,\"ticks\":\"\"},\"colorscale\":[[0.0,\"#0d0887\"],[0.1111111111111111,\"#46039f\"],[0.2222222222222222,\"#7201a8\"],[0.3333333333333333,\"#9c179e\"],[0.4444444444444444,\"#bd3786\"],[0.5555555555555556,\"#d8576b\"],[0.6666666666666666,\"#ed7953\"],[0.7777777777777778,\"#fb9f3a\"],[0.8888888888888888,\"#fdca26\"],[1.0,\"#f0f921\"]],\"type\":\"contour\"}],\"heatmapgl\":[{\"colorbar\":{\"outlinewidth\":0,\"ticks\":\"\"},\"colorscale\":[[0.0,\"#0d0887\"],[0.1111111111111111,\"#46039f\"],[0.2222222222222222,\"#7201a8\"],[0.3333333333333333,\"#9c179e\"],[0.4444444444444444,\"#bd3786\"],[0.5555555555555556,\"#d8576b\"],[0.6666666666666666,\"#ed7953\"],[0.7777777777777778,\"#fb9f3a\"],[0.8888888888888888,\"#fdca26\"],[1.0,\"#f0f921\"]],\"type\":\"heatmapgl\"}],\"heatmap\":[{\"colorbar\":{\"outlinewidth\":0,\"ticks\":\"\"},\"colorscale\":[[0.0,\"#0d0887\"],[0.1111111111111111,\"#46039f\"],[0.2222222222222222,\"#7201a8\"],[0.3333333333333333,\"#9c179e\"],[0.4444444444444444,\"#bd3786\"],[0.5555555555555556,\"#d8576b\"],[0.6666666666666666,\"#ed7953\"],[0.7777777777777778,\"#fb9f3a\"],[0.8888888888888888,\"#fdca26\"],[1.0,\"#f0f921\"]],\"type\":\"heatmap\"}],\"histogram2dcontour\":[{\"colorbar\":{\"outlinewidth\":0,\"ticks\":\"\"},\"colorscale\":[[0.0,\"#0d0887\"],[0.1111111111111111,\"#46039f\"],[0.2222222222222222,\"#7201a8\"],[0.3333333333333333,\"#9c179e\"],[0.4444444444444444,\"#bd3786\"],[0.5555555555555556,\"#d8576b\"],[0.6666666666666666,\"#ed7953\"],[0.7777777777777778,\"#fb9f3a\"],[0.8888888888888888,\"#fdca26\"],[1.0,\"#f0f921\"]],\"type\":\"histogram2dcontour\"}],\"histogram2d\":[{\"colorbar\":{\"outlinewidth\":0,\"ticks\":\"\"},\"colorscale\":[[0.0,\"#0d0887\"],[0.1111111111111111,\"#46039f\"],[0.2222222222222222,\"#7201a8\"],[0.3333333333333333,\"#9c179e\"],[0.4444444444444444,\"#bd3786\"],[0.5555555555555556,\"#d8576b\"],[0.6666666666666666,\"#ed7953\"],[0.7777777777777778,\"#fb9f3a\"],[0.8888888888888888,\"#fdca26\"],[1.0,\"#f0f921\"]],\"type\":\"histogram2d\"}],\"histogram\":[{\"marker\":{\"pattern\":{\"fillmode\":\"overlay\",\"size\":10,\"solidity\":0.2}},\"type\":\"histogram\"}],\"mesh3d\":[{\"colorbar\":{\"outlinewidth\":0,\"ticks\":\"\"},\"type\":\"mesh3d\"}],\"parcoords\":[{\"line\":{\"colorbar\":{\"outlinewidth\":0,\"ticks\":\"\"}},\"type\":\"parcoords\"}],\"pie\":[{\"automargin\":true,\"type\":\"pie\"}],\"scatter3d\":[{\"line\":{\"colorbar\":{\"outlinewidth\":0,\"ticks\":\"\"}},\"marker\":{\"colorbar\":{\"outlinewidth\":0,\"ticks\":\"\"}},\"type\":\"scatter3d\"}],\"scattercarpet\":[{\"marker\":{\"colorbar\":{\"outlinewidth\":0,\"ticks\":\"\"}},\"type\":\"scattercarpet\"}],\"scattergeo\":[{\"marker\":{\"colorbar\":{\"outlinewidth\":0,\"ticks\":\"\"}},\"type\":\"scattergeo\"}],\"scattergl\":[{\"marker\":{\"colorbar\":{\"outlinewidth\":0,\"ticks\":\"\"}},\"type\":\"scattergl\"}],\"scattermapbox\":[{\"marker\":{\"colorbar\":{\"outlinewidth\":0,\"ticks\":\"\"}},\"type\":\"scattermapbox\"}],\"scatterpolargl\":[{\"marker\":{\"colorbar\":{\"outlinewidth\":0,\"ticks\":\"\"}},\"type\":\"scatterpolargl\"}],\"scatterpolar\":[{\"marker\":{\"colorbar\":{\"outlinewidth\":0,\"ticks\":\"\"}},\"type\":\"scatterpolar\"}],\"scatter\":[{\"marker\":{\"colorbar\":{\"outlinewidth\":0,\"ticks\":\"\"}},\"type\":\"scatter\"}],\"scatterternary\":[{\"marker\":{\"colorbar\":{\"outlinewidth\":0,\"ticks\":\"\"}},\"type\":\"scatterternary\"}],\"surface\":[{\"colorbar\":{\"outlinewidth\":0,\"ticks\":\"\"},\"colorscale\":[[0.0,\"#0d0887\"],[0.1111111111111111,\"#46039f\"],[0.2222222222222222,\"#7201a8\"],[0.3333333333333333,\"#9c179e\"],[0.4444444444444444,\"#bd3786\"],[0.5555555555555556,\"#d8576b\"],[0.6666666666666666,\"#ed7953\"],[0.7777777777777778,\"#fb9f3a\"],[0.8888888888888888,\"#fdca26\"],[1.0,\"#f0f921\"]],\"type\":\"surface\"}],\"table\":[{\"cells\":{\"fill\":{\"color\":\"#EBF0F8\"},\"line\":{\"color\":\"white\"}},\"header\":{\"fill\":{\"color\":\"#C8D4E3\"},\"line\":{\"color\":\"white\"}},\"type\":\"table\"}]},\"layout\":{\"annotationdefaults\":{\"arrowcolor\":\"#2a3f5f\",\"arrowhead\":0,\"arrowwidth\":1},\"autotypenumbers\":\"strict\",\"coloraxis\":{\"colorbar\":{\"outlinewidth\":0,\"ticks\":\"\"}},\"colorscale\":{\"diverging\":[[0,\"#8e0152\"],[0.1,\"#c51b7d\"],[0.2,\"#de77ae\"],[0.3,\"#f1b6da\"],[0.4,\"#fde0ef\"],[0.5,\"#f7f7f7\"],[0.6,\"#e6f5d0\"],[0.7,\"#b8e186\"],[0.8,\"#7fbc41\"],[0.9,\"#4d9221\"],[1,\"#276419\"]],\"sequential\":[[0.0,\"#0d0887\"],[0.1111111111111111,\"#46039f\"],[0.2222222222222222,\"#7201a8\"],[0.3333333333333333,\"#9c179e\"],[0.4444444444444444,\"#bd3786\"],[0.5555555555555556,\"#d8576b\"],[0.6666666666666666,\"#ed7953\"],[0.7777777777777778,\"#fb9f3a\"],[0.8888888888888888,\"#fdca26\"],[1.0,\"#f0f921\"]],\"sequentialminus\":[[0.0,\"#0d0887\"],[0.1111111111111111,\"#46039f\"],[0.2222222222222222,\"#7201a8\"],[0.3333333333333333,\"#9c179e\"],[0.4444444444444444,\"#bd3786\"],[0.5555555555555556,\"#d8576b\"],[0.6666666666666666,\"#ed7953\"],[0.7777777777777778,\"#fb9f3a\"],[0.8888888888888888,\"#fdca26\"],[1.0,\"#f0f921\"]]},\"colorway\":[\"#636efa\",\"#EF553B\",\"#00cc96\",\"#ab63fa\",\"#FFA15A\",\"#19d3f3\",\"#FF6692\",\"#B6E880\",\"#FF97FF\",\"#FECB52\"],\"font\":{\"color\":\"#2a3f5f\"},\"geo\":{\"bgcolor\":\"white\",\"lakecolor\":\"white\",\"landcolor\":\"white\",\"showlakes\":true,\"showland\":true,\"subunitcolor\":\"#C8D4E3\"},\"hoverlabel\":{\"align\":\"left\"},\"hovermode\":\"closest\",\"mapbox\":{\"style\":\"light\"},\"paper_bgcolor\":\"white\",\"plot_bgcolor\":\"white\",\"polar\":{\"angularaxis\":{\"gridcolor\":\"#EBF0F8\",\"linecolor\":\"#EBF0F8\",\"ticks\":\"\"},\"bgcolor\":\"white\",\"radialaxis\":{\"gridcolor\":\"#EBF0F8\",\"linecolor\":\"#EBF0F8\",\"ticks\":\"\"}},\"scene\":{\"xaxis\":{\"backgroundcolor\":\"white\",\"gridcolor\":\"#DFE8F3\",\"gridwidth\":2,\"linecolor\":\"#EBF0F8\",\"showbackground\":true,\"ticks\":\"\",\"zerolinecolor\":\"#EBF0F8\"},\"yaxis\":{\"backgroundcolor\":\"white\",\"gridcolor\":\"#DFE8F3\",\"gridwidth\":2,\"linecolor\":\"#EBF0F8\",\"showbackground\":true,\"ticks\":\"\",\"zerolinecolor\":\"#EBF0F8\"},\"zaxis\":{\"backgroundcolor\":\"white\",\"gridcolor\":\"#DFE8F3\",\"gridwidth\":2,\"linecolor\":\"#EBF0F8\",\"showbackground\":true,\"ticks\":\"\",\"zerolinecolor\":\"#EBF0F8\"}},\"shapedefaults\":{\"line\":{\"color\":\"#2a3f5f\"}},\"ternary\":{\"aaxis\":{\"gridcolor\":\"#DFE8F3\",\"linecolor\":\"#A2B1C6\",\"ticks\":\"\"},\"baxis\":{\"gridcolor\":\"#DFE8F3\",\"linecolor\":\"#A2B1C6\",\"ticks\":\"\"},\"bgcolor\":\"white\",\"caxis\":{\"gridcolor\":\"#DFE8F3\",\"linecolor\":\"#A2B1C6\",\"ticks\":\"\"}},\"title\":{\"x\":0.05},\"xaxis\":{\"automargin\":true,\"gridcolor\":\"#EBF0F8\",\"linecolor\":\"#EBF0F8\",\"ticks\":\"\",\"title\":{\"standoff\":15},\"zerolinecolor\":\"#EBF0F8\",\"zerolinewidth\":2},\"yaxis\":{\"automargin\":true,\"gridcolor\":\"#EBF0F8\",\"linecolor\":\"#EBF0F8\",\"ticks\":\"\",\"title\":{\"standoff\":15},\"zerolinecolor\":\"#EBF0F8\",\"zerolinewidth\":2}}},\"title\":{\"text\":\"age (q1,q2,q3) of olderst person at household\"},\"yaxis\":{\"title\":{\"text\":\"Average Age\"}}},                        {\"responsive\": true}                    ).then(function(){\n",
              "                            \n",
              "var gd = document.getElementById('c6d9455f-aecf-4673-8788-d4c4a8f84c0d');\n",
              "var x = new MutationObserver(function (mutations, observer) {{\n",
              "        var display = window.getComputedStyle(gd).display;\n",
              "        if (!display || display === 'none') {{\n",
              "            console.log([gd, 'removed!']);\n",
              "            Plotly.purge(gd);\n",
              "            observer.disconnect();\n",
              "        }}\n",
              "}});\n",
              "\n",
              "// Listen for the removal of the full notebook cells\n",
              "var notebookContainer = gd.closest('#notebook-container');\n",
              "if (notebookContainer) {{\n",
              "    x.observe(notebookContainer, {childList: true});\n",
              "}}\n",
              "\n",
              "// Listen for the clearing of the current output cell\n",
              "var outputEl = gd.closest('.output');\n",
              "if (outputEl) {{\n",
              "    x.observe(outputEl, {childList: true});\n",
              "}}\n",
              "\n",
              "                        })                };                            </script>        </div>\n",
              "</body>\n",
              "</html>"
            ]
          },
          "metadata": {}
        }
      ]
    },
    {
      "cell_type": "code",
      "source": [
        "#fig = px.line(agents_stat_summary_by_year, x=\"year\"})\n",
        "def change_age_distribution_graph(year_q,q_date):\n",
        "  df_less_columns = agents_stat_summary_by_year[['year','New Comers_age_q1','New Comers_age_q2','New Comers_age_q3','stay_age_q1','stay_age_q2','stay_age_q3']].copy().fillna(0)\n",
        "  end_index = df_less_columns[df_less_columns['year']==year_q].index.values[0]\n",
        "  selected_indexes = range(0,end_index+1)\n",
        "  df_for_graph = df_less_columns[df_less_columns.index.isin(selected_indexes)]\n",
        "\n",
        "  fig = go.Figure()\n",
        "\n",
        "\n",
        "  # start modification\n",
        "\n",
        "\n",
        "  fig.add_trace(go.Scatter(\n",
        "      x=year_ranges,\n",
        "      y=df_for_graph['New Comers_age_q1'],\n",
        "      legendgroup=\"New Comers\",  # this can be any string, not just \"group\"\n",
        "      legendgrouptitle_text=\"New Comers\",\n",
        "      name=\"Average age in q1 (25%)\",\n",
        "      mode=\"lines\",\n",
        "      line=dict(color='royalblue', width=1)\n",
        "  ))\n",
        "\n",
        "\n",
        "  fig.add_trace(go.Scatter(\n",
        "      x=year_ranges,\n",
        "      y=df_for_graph['New Comers_age_q2'],\n",
        "      legendgroup=\"New Comers\",  # this can be any string, not just \"group\"\n",
        "      legendgrouptitle_text=\"New Comers\",\n",
        "      name=\"Average age in q2 (50%)\",\n",
        "      mode=\"lines\",\n",
        "      line=dict(color='royalblue', width=3)\n",
        "  ))\n",
        "\n",
        "\n",
        "  fig.add_trace(go.Scatter(\n",
        "      x=year_ranges,\n",
        "      y=df_for_graph['New Comers_age_q3'],\n",
        "      legendgroup=\"New Comers\",  # this can be any string, not just \"group\"\n",
        "      legendgrouptitle_text=\"New Comers\",\n",
        "      name=\"Average age in q3 (75%)\",\n",
        "      mode=\"lines\",\n",
        "      line=dict(color='royalblue', width=4)\n",
        "      \n",
        "  ))\n",
        "\n",
        "  fig.add_trace(go.Scatter(\n",
        "      x=year_ranges,\n",
        "      y=df_for_graph['stay_age_q1'],\n",
        "      legendgroup=\"Staying\",  # this can be any string, not just \"group\"\n",
        "      legendgrouptitle_text=\"Staying\",\n",
        "      name=\"Average age in q1 (25%)\",\n",
        "      mode=\"lines\",\n",
        "      line=dict(color='firebrick', width=1)\n",
        "  ))\n",
        "\n",
        "\n",
        "  fig.add_trace(go.Scatter(\n",
        "      x=year_ranges,\n",
        "      y=df_for_graph['stay_age_q2'],\n",
        "      legendgroup=\"Staying\",  # this can be any string, not just \"group\"\n",
        "      legendgrouptitle_text=\"Staying\",\n",
        "      name=\"Average age in q2 (50%)\",\n",
        "      mode=\"lines\",\n",
        "      line=dict(color='firebrick', width=3)\n",
        "  ))\n",
        "\n",
        "\n",
        "  fig.add_trace(go.Scatter(\n",
        "      x=year_ranges,\n",
        "      y=df_for_graph['stay_age_q3'],\n",
        "      legendgroup=\"Staying\",  # this can be any string, not just \"group\"\n",
        "      legendgrouptitle_text=\"Staying\",\n",
        "      name=\"Average age in q2 (75%)\",\n",
        "      mode=\"lines\",\n",
        "      line=dict(color='firebrick', width=4)\n",
        "      \n",
        "  ))\n",
        "\n",
        "  \n",
        "\n",
        "  fig.add_trace(go.Scatter(x=[q_date, q_date], y=[20,100],\n",
        "              name=q_date,\n",
        "              legendgroup=\"Reference\",\n",
        "              legendgrouptitle_text=\"Reference\",\n",
        "              mode=\"lines\",\n",
        "              line=dict(color=\"LightSeaGreen\", width=2,dash=\"dashdot\")))\n",
        "  \n",
        "  fig.update_layout(title=\"Age quarter distribution for Staying vs New Comers\",template='plotly_white',yaxis = {'title' : \"Average Age\"},margin={\"r\":0,\"t\":35,\"l\":0,\"b\":0,\"pad\":0},\n",
        "                    width=contextual_width_global,height=contextual_height_global,legend=dict(orientation=\"h\", yanchor=\"top\",y=0.99,xanchor=\"left\",x=0.01))\n",
        "\n",
        "\n",
        "\n",
        "  fig.update_xaxes(range = [0,len(year_ranges)])\n",
        "  fig.update_yaxes(range = [20,110])\n",
        "  #end modification\n",
        "\n",
        "  return fig\n",
        "\n",
        "# set range\n",
        "graph = change_age_distribution_graph('2025 Q1','2015 Q1')"
      ],
      "metadata": {
        "id": "xMleoY3b_Wfo"
      },
      "execution_count": null,
      "outputs": []
    },
    {
      "cell_type": "code",
      "source": [
        "graph"
      ],
      "metadata": {
        "id": "AWEXTOBRB2Oe",
        "colab": {
          "base_uri": "https://localhost:8080/",
          "height": 292
        },
        "outputId": "9d24d7ac-8492-45a1-9f54-e89a9a309ec8"
      },
      "execution_count": null,
      "outputs": [
        {
          "output_type": "display_data",
          "data": {
            "text/html": [
              "<html>\n",
              "<head><meta charset=\"utf-8\" /></head>\n",
              "<body>\n",
              "    <div>            <script src=\"https://cdnjs.cloudflare.com/ajax/libs/mathjax/2.7.5/MathJax.js?config=TeX-AMS-MML_SVG\"></script><script type=\"text/javascript\">if (window.MathJax) {MathJax.Hub.Config({SVG: {font: \"STIX-Web\"}});}</script>                <script type=\"text/javascript\">window.PlotlyConfig = {MathJaxConfig: 'local'};</script>\n",
              "        <script src=\"https://cdn.plot.ly/plotly-2.8.3.min.js\"></script>                <div id=\"bb4d8db2-59e5-474c-a456-c1f8494c123d\" class=\"plotly-graph-div\" style=\"height:275px; width:1200px;\"></div>            <script type=\"text/javascript\">                                    window.PLOTLYENV=window.PLOTLYENV || {};                                    if (document.getElementById(\"bb4d8db2-59e5-474c-a456-c1f8494c123d\")) {                    Plotly.newPlot(                        \"bb4d8db2-59e5-474c-a456-c1f8494c123d\",                        [{\"legendgroup\":\"New Comers\",\"legendgrouptitle\":{\"text\":\"New Comers\"},\"line\":{\"color\":\"royalblue\",\"width\":1},\"mode\":\"lines\",\"name\":\"Average age in q1 (25%)\",\"x\":[\"2015 Q1\",\"2015 Q3\",\"2016 Q1\",\"2016 Q3\",\"2017 Q1\",\"2017 Q3\",\"2018 Q1\",\"2018 Q3\",\"2019 Q1\",\"2019 Q3\",\"2020 Q1\",\"2020 Q3\",\"2021 Q1\",\"2021 Q3\",\"2022 Q1\",\"2022 Q3\",\"2023 Q1\",\"2023 Q3\",\"2024 Q1\",\"2024 Q3\",\"2025 Q1\",\"2025 Q3\",\"2026 Q1\",\"2026 Q3\",\"2027 Q1\",\"2027 Q3\",\"2028 Q1\",\"2028 Q3\",\"2029 Q1\",\"2029 Q3\",\"2030 Q1\",\"2030 Q3\"],\"y\":[0.0,0.0,0.0,0.0,32.0,32.0,31.75,31.0,32.0,32.0,33.5,33.5,34.5,34.0,35.0,34.0,34.0,34.0,35.0,35.0,36.0],\"type\":\"scatter\"},{\"legendgroup\":\"New Comers\",\"legendgrouptitle\":{\"text\":\"New Comers\"},\"line\":{\"color\":\"royalblue\",\"width\":3},\"mode\":\"lines\",\"name\":\"Average age in q2 (50%)\",\"x\":[\"2015 Q1\",\"2015 Q3\",\"2016 Q1\",\"2016 Q3\",\"2017 Q1\",\"2017 Q3\",\"2018 Q1\",\"2018 Q3\",\"2019 Q1\",\"2019 Q3\",\"2020 Q1\",\"2020 Q3\",\"2021 Q1\",\"2021 Q3\",\"2022 Q1\",\"2022 Q3\",\"2023 Q1\",\"2023 Q3\",\"2024 Q1\",\"2024 Q3\",\"2025 Q1\",\"2025 Q3\",\"2026 Q1\",\"2026 Q3\",\"2027 Q1\",\"2027 Q3\",\"2028 Q1\",\"2028 Q3\",\"2029 Q1\",\"2029 Q3\",\"2030 Q1\",\"2030 Q3\"],\"y\":[0.0,0.0,0.0,0.0,47.0,47.0,42.0,44.0,46.0,46.0,47.0,47.0,48.0,47.0,47.5,47.0,47.5,47.5,48.0,49.0,49.0],\"type\":\"scatter\"},{\"legendgroup\":\"New Comers\",\"legendgrouptitle\":{\"text\":\"New Comers\"},\"line\":{\"color\":\"royalblue\",\"width\":4},\"mode\":\"lines\",\"name\":\"Average age in q3 (75%)\",\"x\":[\"2015 Q1\",\"2015 Q3\",\"2016 Q1\",\"2016 Q3\",\"2017 Q1\",\"2017 Q3\",\"2018 Q1\",\"2018 Q3\",\"2019 Q1\",\"2019 Q3\",\"2020 Q1\",\"2020 Q3\",\"2021 Q1\",\"2021 Q3\",\"2022 Q1\",\"2022 Q3\",\"2023 Q1\",\"2023 Q3\",\"2024 Q1\",\"2024 Q3\",\"2025 Q1\",\"2025 Q3\",\"2026 Q1\",\"2026 Q3\",\"2027 Q1\",\"2027 Q3\",\"2028 Q1\",\"2028 Q3\",\"2029 Q1\",\"2029 Q3\",\"2030 Q1\",\"2030 Q3\"],\"y\":[0.0,0.0,0.0,0.0,60.0,60.0,60.25,59.0,62.0,62.0,64.5,64.5,65.5,64.0,64.0,64.0,65.0,65.0,65.0,65.0,66.0],\"type\":\"scatter\"},{\"legendgroup\":\"Staying\",\"legendgrouptitle\":{\"text\":\"Staying\"},\"line\":{\"color\":\"firebrick\",\"width\":1},\"mode\":\"lines\",\"name\":\"Average age in q1 (25%)\",\"x\":[\"2015 Q1\",\"2015 Q3\",\"2016 Q1\",\"2016 Q3\",\"2017 Q1\",\"2017 Q3\",\"2018 Q1\",\"2018 Q3\",\"2019 Q1\",\"2019 Q3\",\"2020 Q1\",\"2020 Q3\",\"2021 Q1\",\"2021 Q3\",\"2022 Q1\",\"2022 Q3\",\"2023 Q1\",\"2023 Q3\",\"2024 Q1\",\"2024 Q3\",\"2025 Q1\",\"2025 Q3\",\"2026 Q1\",\"2026 Q3\",\"2027 Q1\",\"2027 Q3\",\"2028 Q1\",\"2028 Q3\",\"2029 Q1\",\"2029 Q3\",\"2030 Q1\",\"2030 Q3\"],\"y\":[30.0,30.0,31.0,31.0,32.0,32.0,33.0,33.0,34.0,34.0,35.75,35.0,37.0,37.0,38.0,38.0,38.0,38.0,39.0,37.75,38.5],\"type\":\"scatter\"},{\"legendgroup\":\"Staying\",\"legendgrouptitle\":{\"text\":\"Staying\"},\"line\":{\"color\":\"firebrick\",\"width\":3},\"mode\":\"lines\",\"name\":\"Average age in q2 (50%)\",\"x\":[\"2015 Q1\",\"2015 Q3\",\"2016 Q1\",\"2016 Q3\",\"2017 Q1\",\"2017 Q3\",\"2018 Q1\",\"2018 Q3\",\"2019 Q1\",\"2019 Q3\",\"2020 Q1\",\"2020 Q3\",\"2021 Q1\",\"2021 Q3\",\"2022 Q1\",\"2022 Q3\",\"2023 Q1\",\"2023 Q3\",\"2024 Q1\",\"2024 Q3\",\"2025 Q1\",\"2025 Q3\",\"2026 Q1\",\"2026 Q3\",\"2027 Q1\",\"2027 Q3\",\"2028 Q1\",\"2028 Q3\",\"2029 Q1\",\"2029 Q3\",\"2030 Q1\",\"2030 Q3\"],\"y\":[42.0,42.0,43.0,43.0,44.0,44.0,45.0,45.0,46.5,46.5,48.0,48.0,48.0,49.0,50.0,50.0,50.0,50.0,51.0,49.0,47.0],\"type\":\"scatter\"},{\"legendgroup\":\"Staying\",\"legendgrouptitle\":{\"text\":\"Staying\"},\"line\":{\"color\":\"firebrick\",\"width\":4},\"mode\":\"lines\",\"name\":\"Average age in q2 (75%)\",\"x\":[\"2015 Q1\",\"2015 Q3\",\"2016 Q1\",\"2016 Q3\",\"2017 Q1\",\"2017 Q3\",\"2018 Q1\",\"2018 Q3\",\"2019 Q1\",\"2019 Q3\",\"2020 Q1\",\"2020 Q3\",\"2021 Q1\",\"2021 Q3\",\"2022 Q1\",\"2022 Q3\",\"2023 Q1\",\"2023 Q3\",\"2024 Q1\",\"2024 Q3\",\"2025 Q1\",\"2025 Q3\",\"2026 Q1\",\"2026 Q3\",\"2027 Q1\",\"2027 Q3\",\"2028 Q1\",\"2028 Q3\",\"2029 Q1\",\"2029 Q3\",\"2030 Q1\",\"2030 Q3\"],\"y\":[65.0,65.0,66.0,65.25,66.75,66.75,68.0,68.0,69.0,69.0,70.0,70.0,70.0,70.0,71.0,70.0,66.0,66.0,64.0,60.25,57.5],\"type\":\"scatter\"},{\"legendgroup\":\"Reference\",\"legendgrouptitle\":{\"text\":\"Reference\"},\"line\":{\"color\":\"LightSeaGreen\",\"dash\":\"dashdot\",\"width\":2},\"mode\":\"lines\",\"name\":\"2015 Q1\",\"x\":[\"2015 Q1\",\"2015 Q1\"],\"y\":[20,100],\"type\":\"scatter\"}],                        {\"template\":{\"data\":{\"barpolar\":[{\"marker\":{\"line\":{\"color\":\"white\",\"width\":0.5},\"pattern\":{\"fillmode\":\"overlay\",\"size\":10,\"solidity\":0.2}},\"type\":\"barpolar\"}],\"bar\":[{\"error_x\":{\"color\":\"#2a3f5f\"},\"error_y\":{\"color\":\"#2a3f5f\"},\"marker\":{\"line\":{\"color\":\"white\",\"width\":0.5},\"pattern\":{\"fillmode\":\"overlay\",\"size\":10,\"solidity\":0.2}},\"type\":\"bar\"}],\"carpet\":[{\"aaxis\":{\"endlinecolor\":\"#2a3f5f\",\"gridcolor\":\"#C8D4E3\",\"linecolor\":\"#C8D4E3\",\"minorgridcolor\":\"#C8D4E3\",\"startlinecolor\":\"#2a3f5f\"},\"baxis\":{\"endlinecolor\":\"#2a3f5f\",\"gridcolor\":\"#C8D4E3\",\"linecolor\":\"#C8D4E3\",\"minorgridcolor\":\"#C8D4E3\",\"startlinecolor\":\"#2a3f5f\"},\"type\":\"carpet\"}],\"choropleth\":[{\"colorbar\":{\"outlinewidth\":0,\"ticks\":\"\"},\"type\":\"choropleth\"}],\"contourcarpet\":[{\"colorbar\":{\"outlinewidth\":0,\"ticks\":\"\"},\"type\":\"contourcarpet\"}],\"contour\":[{\"colorbar\":{\"outlinewidth\":0,\"ticks\":\"\"},\"colorscale\":[[0.0,\"#0d0887\"],[0.1111111111111111,\"#46039f\"],[0.2222222222222222,\"#7201a8\"],[0.3333333333333333,\"#9c179e\"],[0.4444444444444444,\"#bd3786\"],[0.5555555555555556,\"#d8576b\"],[0.6666666666666666,\"#ed7953\"],[0.7777777777777778,\"#fb9f3a\"],[0.8888888888888888,\"#fdca26\"],[1.0,\"#f0f921\"]],\"type\":\"contour\"}],\"heatmapgl\":[{\"colorbar\":{\"outlinewidth\":0,\"ticks\":\"\"},\"colorscale\":[[0.0,\"#0d0887\"],[0.1111111111111111,\"#46039f\"],[0.2222222222222222,\"#7201a8\"],[0.3333333333333333,\"#9c179e\"],[0.4444444444444444,\"#bd3786\"],[0.5555555555555556,\"#d8576b\"],[0.6666666666666666,\"#ed7953\"],[0.7777777777777778,\"#fb9f3a\"],[0.8888888888888888,\"#fdca26\"],[1.0,\"#f0f921\"]],\"type\":\"heatmapgl\"}],\"heatmap\":[{\"colorbar\":{\"outlinewidth\":0,\"ticks\":\"\"},\"colorscale\":[[0.0,\"#0d0887\"],[0.1111111111111111,\"#46039f\"],[0.2222222222222222,\"#7201a8\"],[0.3333333333333333,\"#9c179e\"],[0.4444444444444444,\"#bd3786\"],[0.5555555555555556,\"#d8576b\"],[0.6666666666666666,\"#ed7953\"],[0.7777777777777778,\"#fb9f3a\"],[0.8888888888888888,\"#fdca26\"],[1.0,\"#f0f921\"]],\"type\":\"heatmap\"}],\"histogram2dcontour\":[{\"colorbar\":{\"outlinewidth\":0,\"ticks\":\"\"},\"colorscale\":[[0.0,\"#0d0887\"],[0.1111111111111111,\"#46039f\"],[0.2222222222222222,\"#7201a8\"],[0.3333333333333333,\"#9c179e\"],[0.4444444444444444,\"#bd3786\"],[0.5555555555555556,\"#d8576b\"],[0.6666666666666666,\"#ed7953\"],[0.7777777777777778,\"#fb9f3a\"],[0.8888888888888888,\"#fdca26\"],[1.0,\"#f0f921\"]],\"type\":\"histogram2dcontour\"}],\"histogram2d\":[{\"colorbar\":{\"outlinewidth\":0,\"ticks\":\"\"},\"colorscale\":[[0.0,\"#0d0887\"],[0.1111111111111111,\"#46039f\"],[0.2222222222222222,\"#7201a8\"],[0.3333333333333333,\"#9c179e\"],[0.4444444444444444,\"#bd3786\"],[0.5555555555555556,\"#d8576b\"],[0.6666666666666666,\"#ed7953\"],[0.7777777777777778,\"#fb9f3a\"],[0.8888888888888888,\"#fdca26\"],[1.0,\"#f0f921\"]],\"type\":\"histogram2d\"}],\"histogram\":[{\"marker\":{\"pattern\":{\"fillmode\":\"overlay\",\"size\":10,\"solidity\":0.2}},\"type\":\"histogram\"}],\"mesh3d\":[{\"colorbar\":{\"outlinewidth\":0,\"ticks\":\"\"},\"type\":\"mesh3d\"}],\"parcoords\":[{\"line\":{\"colorbar\":{\"outlinewidth\":0,\"ticks\":\"\"}},\"type\":\"parcoords\"}],\"pie\":[{\"automargin\":true,\"type\":\"pie\"}],\"scatter3d\":[{\"line\":{\"colorbar\":{\"outlinewidth\":0,\"ticks\":\"\"}},\"marker\":{\"colorbar\":{\"outlinewidth\":0,\"ticks\":\"\"}},\"type\":\"scatter3d\"}],\"scattercarpet\":[{\"marker\":{\"colorbar\":{\"outlinewidth\":0,\"ticks\":\"\"}},\"type\":\"scattercarpet\"}],\"scattergeo\":[{\"marker\":{\"colorbar\":{\"outlinewidth\":0,\"ticks\":\"\"}},\"type\":\"scattergeo\"}],\"scattergl\":[{\"marker\":{\"colorbar\":{\"outlinewidth\":0,\"ticks\":\"\"}},\"type\":\"scattergl\"}],\"scattermapbox\":[{\"marker\":{\"colorbar\":{\"outlinewidth\":0,\"ticks\":\"\"}},\"type\":\"scattermapbox\"}],\"scatterpolargl\":[{\"marker\":{\"colorbar\":{\"outlinewidth\":0,\"ticks\":\"\"}},\"type\":\"scatterpolargl\"}],\"scatterpolar\":[{\"marker\":{\"colorbar\":{\"outlinewidth\":0,\"ticks\":\"\"}},\"type\":\"scatterpolar\"}],\"scatter\":[{\"marker\":{\"colorbar\":{\"outlinewidth\":0,\"ticks\":\"\"}},\"type\":\"scatter\"}],\"scatterternary\":[{\"marker\":{\"colorbar\":{\"outlinewidth\":0,\"ticks\":\"\"}},\"type\":\"scatterternary\"}],\"surface\":[{\"colorbar\":{\"outlinewidth\":0,\"ticks\":\"\"},\"colorscale\":[[0.0,\"#0d0887\"],[0.1111111111111111,\"#46039f\"],[0.2222222222222222,\"#7201a8\"],[0.3333333333333333,\"#9c179e\"],[0.4444444444444444,\"#bd3786\"],[0.5555555555555556,\"#d8576b\"],[0.6666666666666666,\"#ed7953\"],[0.7777777777777778,\"#fb9f3a\"],[0.8888888888888888,\"#fdca26\"],[1.0,\"#f0f921\"]],\"type\":\"surface\"}],\"table\":[{\"cells\":{\"fill\":{\"color\":\"#EBF0F8\"},\"line\":{\"color\":\"white\"}},\"header\":{\"fill\":{\"color\":\"#C8D4E3\"},\"line\":{\"color\":\"white\"}},\"type\":\"table\"}]},\"layout\":{\"annotationdefaults\":{\"arrowcolor\":\"#2a3f5f\",\"arrowhead\":0,\"arrowwidth\":1},\"autotypenumbers\":\"strict\",\"coloraxis\":{\"colorbar\":{\"outlinewidth\":0,\"ticks\":\"\"}},\"colorscale\":{\"diverging\":[[0,\"#8e0152\"],[0.1,\"#c51b7d\"],[0.2,\"#de77ae\"],[0.3,\"#f1b6da\"],[0.4,\"#fde0ef\"],[0.5,\"#f7f7f7\"],[0.6,\"#e6f5d0\"],[0.7,\"#b8e186\"],[0.8,\"#7fbc41\"],[0.9,\"#4d9221\"],[1,\"#276419\"]],\"sequential\":[[0.0,\"#0d0887\"],[0.1111111111111111,\"#46039f\"],[0.2222222222222222,\"#7201a8\"],[0.3333333333333333,\"#9c179e\"],[0.4444444444444444,\"#bd3786\"],[0.5555555555555556,\"#d8576b\"],[0.6666666666666666,\"#ed7953\"],[0.7777777777777778,\"#fb9f3a\"],[0.8888888888888888,\"#fdca26\"],[1.0,\"#f0f921\"]],\"sequentialminus\":[[0.0,\"#0d0887\"],[0.1111111111111111,\"#46039f\"],[0.2222222222222222,\"#7201a8\"],[0.3333333333333333,\"#9c179e\"],[0.4444444444444444,\"#bd3786\"],[0.5555555555555556,\"#d8576b\"],[0.6666666666666666,\"#ed7953\"],[0.7777777777777778,\"#fb9f3a\"],[0.8888888888888888,\"#fdca26\"],[1.0,\"#f0f921\"]]},\"colorway\":[\"#636efa\",\"#EF553B\",\"#00cc96\",\"#ab63fa\",\"#FFA15A\",\"#19d3f3\",\"#FF6692\",\"#B6E880\",\"#FF97FF\",\"#FECB52\"],\"font\":{\"color\":\"#2a3f5f\"},\"geo\":{\"bgcolor\":\"white\",\"lakecolor\":\"white\",\"landcolor\":\"white\",\"showlakes\":true,\"showland\":true,\"subunitcolor\":\"#C8D4E3\"},\"hoverlabel\":{\"align\":\"left\"},\"hovermode\":\"closest\",\"mapbox\":{\"style\":\"light\"},\"paper_bgcolor\":\"white\",\"plot_bgcolor\":\"white\",\"polar\":{\"angularaxis\":{\"gridcolor\":\"#EBF0F8\",\"linecolor\":\"#EBF0F8\",\"ticks\":\"\"},\"bgcolor\":\"white\",\"radialaxis\":{\"gridcolor\":\"#EBF0F8\",\"linecolor\":\"#EBF0F8\",\"ticks\":\"\"}},\"scene\":{\"xaxis\":{\"backgroundcolor\":\"white\",\"gridcolor\":\"#DFE8F3\",\"gridwidth\":2,\"linecolor\":\"#EBF0F8\",\"showbackground\":true,\"ticks\":\"\",\"zerolinecolor\":\"#EBF0F8\"},\"yaxis\":{\"backgroundcolor\":\"white\",\"gridcolor\":\"#DFE8F3\",\"gridwidth\":2,\"linecolor\":\"#EBF0F8\",\"showbackground\":true,\"ticks\":\"\",\"zerolinecolor\":\"#EBF0F8\"},\"zaxis\":{\"backgroundcolor\":\"white\",\"gridcolor\":\"#DFE8F3\",\"gridwidth\":2,\"linecolor\":\"#EBF0F8\",\"showbackground\":true,\"ticks\":\"\",\"zerolinecolor\":\"#EBF0F8\"}},\"shapedefaults\":{\"line\":{\"color\":\"#2a3f5f\"}},\"ternary\":{\"aaxis\":{\"gridcolor\":\"#DFE8F3\",\"linecolor\":\"#A2B1C6\",\"ticks\":\"\"},\"baxis\":{\"gridcolor\":\"#DFE8F3\",\"linecolor\":\"#A2B1C6\",\"ticks\":\"\"},\"bgcolor\":\"white\",\"caxis\":{\"gridcolor\":\"#DFE8F3\",\"linecolor\":\"#A2B1C6\",\"ticks\":\"\"}},\"title\":{\"x\":0.05},\"xaxis\":{\"automargin\":true,\"gridcolor\":\"#EBF0F8\",\"linecolor\":\"#EBF0F8\",\"ticks\":\"\",\"title\":{\"standoff\":15},\"zerolinecolor\":\"#EBF0F8\",\"zerolinewidth\":2},\"yaxis\":{\"automargin\":true,\"gridcolor\":\"#EBF0F8\",\"linecolor\":\"#EBF0F8\",\"ticks\":\"\",\"title\":{\"standoff\":15},\"zerolinecolor\":\"#EBF0F8\",\"zerolinewidth\":2}}},\"margin\":{\"r\":0,\"t\":35,\"l\":0,\"b\":0,\"pad\":0},\"legend\":{\"orientation\":\"h\",\"yanchor\":\"top\",\"y\":0.99,\"xanchor\":\"left\",\"x\":0.01},\"title\":{\"text\":\"Age quarter distribution for Staying vs New Comers\"},\"yaxis\":{\"title\":{\"text\":\"Average Age\"},\"range\":[20,110]},\"width\":1200,\"height\":275,\"xaxis\":{\"range\":[0,32]}},                        {\"responsive\": true}                    ).then(function(){\n",
              "                            \n",
              "var gd = document.getElementById('bb4d8db2-59e5-474c-a456-c1f8494c123d');\n",
              "var x = new MutationObserver(function (mutations, observer) {{\n",
              "        var display = window.getComputedStyle(gd).display;\n",
              "        if (!display || display === 'none') {{\n",
              "            console.log([gd, 'removed!']);\n",
              "            Plotly.purge(gd);\n",
              "            observer.disconnect();\n",
              "        }}\n",
              "}});\n",
              "\n",
              "// Listen for the removal of the full notebook cells\n",
              "var notebookContainer = gd.closest('#notebook-container');\n",
              "if (notebookContainer) {{\n",
              "    x.observe(notebookContainer, {childList: true});\n",
              "}}\n",
              "\n",
              "// Listen for the clearing of the current output cell\n",
              "var outputEl = gd.closest('.output');\n",
              "if (outputEl) {{\n",
              "    x.observe(outputEl, {childList: true});\n",
              "}}\n",
              "\n",
              "                        })                };                            </script>        </div>\n",
              "</body>\n",
              "</html>"
            ]
          },
          "metadata": {}
        }
      ]
    },
    {
      "cell_type": "code",
      "source": [
        ""
      ],
      "metadata": {
        "id": "hU8WI6dqB29h"
      },
      "execution_count": null,
      "outputs": []
    },
    {
      "cell_type": "code",
      "source": [
        "#fig = px.line(agents_stat_summary_by_year, x=\"year\"})\n",
        "import plotly.graph_objects as go\n",
        "\n",
        "fig = go.Figure()\n",
        "\n",
        "\n",
        "\n",
        "fig.add_trace(go.Scatter(\n",
        "    x=year_ranges,\n",
        "    y=agents_stat_summary_by_year['New Comers_income_q1'],\n",
        "    legendgroup=\"New Comers\",  # this can be any string, not just \"group\"\n",
        "    legendgrouptitle_text=\"New Comers\",\n",
        "    name=\"Income Q1\",\n",
        "    mode=\"lines\",\n",
        "    line=dict(color='royalblue', width=1)\n",
        "))\n",
        "\n",
        "\n",
        "fig.add_trace(go.Scatter(\n",
        "    x=year_ranges,\n",
        "    y=agents_stat_summary_by_year['New Comers_income_q2'],\n",
        "    legendgroup=\"New Comers\",  # this can be any string, not just \"group\"\n",
        "    legendgrouptitle_text=\"New Comers\",\n",
        "    name=\"Income Q2\",\n",
        "    mode=\"lines\",\n",
        "    line=dict(color='royalblue', width=3)\n",
        "))\n",
        "\n",
        "\n",
        "fig.add_trace(go.Scatter(\n",
        "    x=year_ranges,\n",
        "    y=agents_stat_summary_by_year['New Comers_income_q3'],\n",
        "    legendgroup=\"New Comers\",  # this can be any string, not just \"group\"\n",
        "    legendgrouptitle_text=\"New Comers\",\n",
        "    name=\"Income Q3\",\n",
        "    mode=\"lines\",\n",
        "    line=dict(color='royalblue', width=4)\n",
        "    \n",
        "))\n",
        "\n",
        "fig.add_trace(go.Scatter(\n",
        "    x=year_ranges,\n",
        "    y=agents_stat_summary_by_year['stay_income_q1'],\n",
        "    legendgroup=\"Staying\",  # this can be any string, not just \"group\"\n",
        "    legendgrouptitle_text=\"Staying\",\n",
        "    name=\"Icome Q1\",\n",
        "    mode=\"lines\",\n",
        "    line=dict(color='firebrick', width=1)\n",
        "))\n",
        "\n",
        "\n",
        "fig.add_trace(go.Scatter(\n",
        "    x=year_ranges,\n",
        "    y=agents_stat_summary_by_year['stay_income_q2'],\n",
        "    legendgroup=\"Staying\",  # this can be any string, not just \"group\"\n",
        "    legendgrouptitle_text=\"Staying\",\n",
        "    name=\"Income Q2\",\n",
        "    mode=\"lines\",\n",
        "    line=dict(color='firebrick', width=3)\n",
        "))\n",
        "\n",
        "\n",
        "fig.add_trace(go.Scatter(\n",
        "    x=year_ranges,\n",
        "    y=agents_stat_summary_by_year['stay_income_q3'],\n",
        "    legendgroup=\"Staying\",  # this can be any string, not just \"group\"\n",
        "    legendgrouptitle_text=\"Staying\",\n",
        "    name=\"Income Q3\",\n",
        "    mode=\"lines\",\n",
        "    line=dict(color='firebrick', width=4)\n",
        "    \n",
        "))\n",
        "\n",
        "fig.update_layout(title=\"Income (q1-q3) of olderst person at household\",template='plotly_white',yaxis = {'title' : \"Inocme (New Israeli Shekels)\"})\n",
        "\n",
        "fig.show()\n",
        "\n",
        "# set range"
      ],
      "metadata": {
        "id": "bD5FmRCqrSFa",
        "colab": {
          "base_uri": "https://localhost:8080/",
          "height": 542
        },
        "outputId": "9c1477f9-fca7-4aa4-82ce-420695b1b08f"
      },
      "execution_count": null,
      "outputs": [
        {
          "output_type": "display_data",
          "data": {
            "text/html": [
              "<html>\n",
              "<head><meta charset=\"utf-8\" /></head>\n",
              "<body>\n",
              "    <div>            <script src=\"https://cdnjs.cloudflare.com/ajax/libs/mathjax/2.7.5/MathJax.js?config=TeX-AMS-MML_SVG\"></script><script type=\"text/javascript\">if (window.MathJax) {MathJax.Hub.Config({SVG: {font: \"STIX-Web\"}});}</script>                <script type=\"text/javascript\">window.PlotlyConfig = {MathJaxConfig: 'local'};</script>\n",
              "        <script src=\"https://cdn.plot.ly/plotly-2.8.3.min.js\"></script>                <div id=\"004c0cd6-d81a-4cfd-8759-17aab419f745\" class=\"plotly-graph-div\" style=\"height:525px; width:100%;\"></div>            <script type=\"text/javascript\">                                    window.PLOTLYENV=window.PLOTLYENV || {};                                    if (document.getElementById(\"004c0cd6-d81a-4cfd-8759-17aab419f745\")) {                    Plotly.newPlot(                        \"004c0cd6-d81a-4cfd-8759-17aab419f745\",                        [{\"legendgroup\":\"New Comers\",\"legendgrouptitle\":{\"text\":\"New Comers\"},\"line\":{\"color\":\"royalblue\",\"width\":1},\"mode\":\"lines\",\"name\":\"Income Q1\",\"x\":[\"2015 Q1\",\"2015 Q3\",\"2016 Q1\",\"2016 Q3\",\"2017 Q1\",\"2017 Q3\",\"2018 Q1\",\"2018 Q3\",\"2019 Q1\",\"2019 Q3\",\"2020 Q1\",\"2020 Q3\",\"2021 Q1\",\"2021 Q3\",\"2022 Q1\",\"2022 Q3\",\"2023 Q1\",\"2023 Q3\",\"2024 Q1\",\"2024 Q3\",\"2025 Q1\",\"2025 Q3\",\"2026 Q1\",\"2026 Q3\",\"2027 Q1\",\"2027 Q3\",\"2028 Q1\",\"2028 Q3\",\"2029 Q1\",\"2029 Q3\",\"2030 Q1\",\"2030 Q3\"],\"y\":[null,null,null,null,18838.1052631579,18838.1052631579,19619.10526315789,18584.605263157893,19415.1052631579,19415.1052631579,19647.5,19647.5,19647.5,19106.513157894733,20189.19736842105,20163.289473684206,20239.059210526317,20239.059210526317,20541.66447368421,20689.427631578943,20607.381578947367,20607.381578947367,21203.35526315789,21203.35526315789,21519.26315789474,21648.565789473687,21614.21052631579,21655.31578947368,21655.31578947368,21655.31578947368,21655.31578947368,21655.31578947368],\"type\":\"scatter\"},{\"legendgroup\":\"New Comers\",\"legendgrouptitle\":{\"text\":\"New Comers\"},\"line\":{\"color\":\"royalblue\",\"width\":3},\"mode\":\"lines\",\"name\":\"Income Q2\",\"x\":[\"2015 Q1\",\"2015 Q3\",\"2016 Q1\",\"2016 Q3\",\"2017 Q1\",\"2017 Q3\",\"2018 Q1\",\"2018 Q3\",\"2019 Q1\",\"2019 Q3\",\"2020 Q1\",\"2020 Q3\",\"2021 Q1\",\"2021 Q3\",\"2022 Q1\",\"2022 Q3\",\"2023 Q1\",\"2023 Q3\",\"2024 Q1\",\"2024 Q3\",\"2025 Q1\",\"2025 Q3\",\"2026 Q1\",\"2026 Q3\",\"2027 Q1\",\"2027 Q3\",\"2028 Q1\",\"2028 Q3\",\"2029 Q1\",\"2029 Q3\",\"2030 Q1\",\"2030 Q3\"],\"y\":[null,null,null,null,21097.1052631579,21097.1052631579,21099.868421052637,20230.42105263158,21815.47368421052,21815.47368421052,21859.78947368421,21859.78947368421,21859.78947368421,21248.1052631579,23657.96052631579,23013.31578947368,22924.026315789477,22924.026315789477,23178.90789473684,23073.894736842107,22880.21052631579,22880.21052631579,23268.52631578947,23268.52631578947,23674.6052631579,23874.17105263158,23763.23684210526,23851.21052631579,23851.21052631579,23851.21052631579,23851.21052631579,23851.21052631579],\"type\":\"scatter\"},{\"legendgroup\":\"New Comers\",\"legendgrouptitle\":{\"text\":\"New Comers\"},\"line\":{\"color\":\"royalblue\",\"width\":4},\"mode\":\"lines\",\"name\":\"Income Q3\",\"x\":[\"2015 Q1\",\"2015 Q3\",\"2016 Q1\",\"2016 Q3\",\"2017 Q1\",\"2017 Q3\",\"2018 Q1\",\"2018 Q3\",\"2019 Q1\",\"2019 Q3\",\"2020 Q1\",\"2020 Q3\",\"2021 Q1\",\"2021 Q3\",\"2022 Q1\",\"2022 Q3\",\"2023 Q1\",\"2023 Q3\",\"2024 Q1\",\"2024 Q3\",\"2025 Q1\",\"2025 Q3\",\"2026 Q1\",\"2026 Q3\",\"2027 Q1\",\"2027 Q3\",\"2028 Q1\",\"2028 Q3\",\"2029 Q1\",\"2029 Q3\",\"2030 Q1\",\"2030 Q3\"],\"y\":[null,null,null,null,22033.94736842105,22033.94736842105,22017.44736842105,22263.842105263157,25173.13157894737,25173.13157894737,24520.42105263158,24520.42105263158,24520.42105263158,24477.65789473684,26538.34868421053,26325.611842105263,25811.611842105267,25811.611842105267,25911.526315789477,25555.763157894737,25270.32894736842,25270.32894736842,25387.65789473684,25387.65789473684,26065.05263157895,26217.782894736847,26014.89473684211,26217.21052631579,26217.21052631579,26217.21052631579,26217.21052631579,26217.21052631579],\"type\":\"scatter\"},{\"legendgroup\":\"Staying\",\"legendgrouptitle\":{\"text\":\"Staying\"},\"line\":{\"color\":\"firebrick\",\"width\":1},\"mode\":\"lines\",\"name\":\"Icome Q1\",\"x\":[\"2015 Q1\",\"2015 Q3\",\"2016 Q1\",\"2016 Q3\",\"2017 Q1\",\"2017 Q3\",\"2018 Q1\",\"2018 Q3\",\"2019 Q1\",\"2019 Q3\",\"2020 Q1\",\"2020 Q3\",\"2021 Q1\",\"2021 Q3\",\"2022 Q1\",\"2022 Q3\",\"2023 Q1\",\"2023 Q3\",\"2024 Q1\",\"2024 Q3\",\"2025 Q1\",\"2025 Q3\",\"2026 Q1\",\"2026 Q3\",\"2027 Q1\",\"2027 Q3\",\"2028 Q1\",\"2028 Q3\",\"2029 Q1\",\"2029 Q3\",\"2030 Q1\",\"2030 Q3\"],\"y\":[6403.0,6413.5,6413.5,6427.0,6496.0,6496.0,6497.0,6497.0,6503.75,6503.75,6559.75,6555.25,6657.5,6657.5,6674.0,6676.0,8092.5,8092.5,8090.0,8547.0,11098.0,11157.25,8837.25,8837.25,8828.5,8866.25,8543.0,8566.0,8566.0,8566.0,8566.0,8566.0],\"type\":\"scatter\"},{\"legendgroup\":\"Staying\",\"legendgrouptitle\":{\"text\":\"Staying\"},\"line\":{\"color\":\"firebrick\",\"width\":3},\"mode\":\"lines\",\"name\":\"Income Q2\",\"x\":[\"2015 Q1\",\"2015 Q3\",\"2016 Q1\",\"2016 Q3\",\"2017 Q1\",\"2017 Q3\",\"2018 Q1\",\"2018 Q3\",\"2019 Q1\",\"2019 Q3\",\"2020 Q1\",\"2020 Q3\",\"2021 Q1\",\"2021 Q3\",\"2022 Q1\",\"2022 Q3\",\"2023 Q1\",\"2023 Q3\",\"2024 Q1\",\"2024 Q3\",\"2025 Q1\",\"2025 Q3\",\"2026 Q1\",\"2026 Q3\",\"2027 Q1\",\"2027 Q3\",\"2028 Q1\",\"2028 Q3\",\"2029 Q1\",\"2029 Q3\",\"2030 Q1\",\"2030 Q3\"],\"y\":[8771.0,8804.0,8804.0,8833.5,8934.5,8934.5,8933.0,8933.0,8965.0,8965.0,9029.5,8934.5,8950.0,8856.5,8932.0,8930.0,10995.0,10995.0,10995.0,11499.5,12540.0,12568.0,11536.0,11536.0,11557.0,11666.0,11512.0,11515.0,11515.0,11515.0,11515.0,11515.0],\"type\":\"scatter\"},{\"legendgroup\":\"Staying\",\"legendgrouptitle\":{\"text\":\"Staying\"},\"line\":{\"color\":\"firebrick\",\"width\":4},\"mode\":\"lines\",\"name\":\"Income Q3\",\"x\":[\"2015 Q1\",\"2015 Q3\",\"2016 Q1\",\"2016 Q3\",\"2017 Q1\",\"2017 Q3\",\"2018 Q1\",\"2018 Q3\",\"2019 Q1\",\"2019 Q3\",\"2020 Q1\",\"2020 Q3\",\"2021 Q1\",\"2021 Q3\",\"2022 Q1\",\"2022 Q3\",\"2023 Q1\",\"2023 Q3\",\"2024 Q1\",\"2024 Q3\",\"2025 Q1\",\"2025 Q3\",\"2026 Q1\",\"2026 Q3\",\"2027 Q1\",\"2027 Q3\",\"2028 Q1\",\"2028 Q3\",\"2029 Q1\",\"2029 Q3\",\"2030 Q1\",\"2030 Q3\"],\"y\":[11667.0,11669.0,11669.0,11729.75,11806.25,11806.25,11867.5,11867.5,11886.75,11886.75,11914.5,11853.0,11787.75,11670.0,11741.5,11698.5,13069.5,13069.5,13071.0,13281.0,13866.0,13809.0,13119.25,13119.25,13255.5,13425.5,13356.0,13384.0,13384.0,13384.0,13384.0,13384.0],\"type\":\"scatter\"}],                        {\"template\":{\"data\":{\"barpolar\":[{\"marker\":{\"line\":{\"color\":\"white\",\"width\":0.5},\"pattern\":{\"fillmode\":\"overlay\",\"size\":10,\"solidity\":0.2}},\"type\":\"barpolar\"}],\"bar\":[{\"error_x\":{\"color\":\"#2a3f5f\"},\"error_y\":{\"color\":\"#2a3f5f\"},\"marker\":{\"line\":{\"color\":\"white\",\"width\":0.5},\"pattern\":{\"fillmode\":\"overlay\",\"size\":10,\"solidity\":0.2}},\"type\":\"bar\"}],\"carpet\":[{\"aaxis\":{\"endlinecolor\":\"#2a3f5f\",\"gridcolor\":\"#C8D4E3\",\"linecolor\":\"#C8D4E3\",\"minorgridcolor\":\"#C8D4E3\",\"startlinecolor\":\"#2a3f5f\"},\"baxis\":{\"endlinecolor\":\"#2a3f5f\",\"gridcolor\":\"#C8D4E3\",\"linecolor\":\"#C8D4E3\",\"minorgridcolor\":\"#C8D4E3\",\"startlinecolor\":\"#2a3f5f\"},\"type\":\"carpet\"}],\"choropleth\":[{\"colorbar\":{\"outlinewidth\":0,\"ticks\":\"\"},\"type\":\"choropleth\"}],\"contourcarpet\":[{\"colorbar\":{\"outlinewidth\":0,\"ticks\":\"\"},\"type\":\"contourcarpet\"}],\"contour\":[{\"colorbar\":{\"outlinewidth\":0,\"ticks\":\"\"},\"colorscale\":[[0.0,\"#0d0887\"],[0.1111111111111111,\"#46039f\"],[0.2222222222222222,\"#7201a8\"],[0.3333333333333333,\"#9c179e\"],[0.4444444444444444,\"#bd3786\"],[0.5555555555555556,\"#d8576b\"],[0.6666666666666666,\"#ed7953\"],[0.7777777777777778,\"#fb9f3a\"],[0.8888888888888888,\"#fdca26\"],[1.0,\"#f0f921\"]],\"type\":\"contour\"}],\"heatmapgl\":[{\"colorbar\":{\"outlinewidth\":0,\"ticks\":\"\"},\"colorscale\":[[0.0,\"#0d0887\"],[0.1111111111111111,\"#46039f\"],[0.2222222222222222,\"#7201a8\"],[0.3333333333333333,\"#9c179e\"],[0.4444444444444444,\"#bd3786\"],[0.5555555555555556,\"#d8576b\"],[0.6666666666666666,\"#ed7953\"],[0.7777777777777778,\"#fb9f3a\"],[0.8888888888888888,\"#fdca26\"],[1.0,\"#f0f921\"]],\"type\":\"heatmapgl\"}],\"heatmap\":[{\"colorbar\":{\"outlinewidth\":0,\"ticks\":\"\"},\"colorscale\":[[0.0,\"#0d0887\"],[0.1111111111111111,\"#46039f\"],[0.2222222222222222,\"#7201a8\"],[0.3333333333333333,\"#9c179e\"],[0.4444444444444444,\"#bd3786\"],[0.5555555555555556,\"#d8576b\"],[0.6666666666666666,\"#ed7953\"],[0.7777777777777778,\"#fb9f3a\"],[0.8888888888888888,\"#fdca26\"],[1.0,\"#f0f921\"]],\"type\":\"heatmap\"}],\"histogram2dcontour\":[{\"colorbar\":{\"outlinewidth\":0,\"ticks\":\"\"},\"colorscale\":[[0.0,\"#0d0887\"],[0.1111111111111111,\"#46039f\"],[0.2222222222222222,\"#7201a8\"],[0.3333333333333333,\"#9c179e\"],[0.4444444444444444,\"#bd3786\"],[0.5555555555555556,\"#d8576b\"],[0.6666666666666666,\"#ed7953\"],[0.7777777777777778,\"#fb9f3a\"],[0.8888888888888888,\"#fdca26\"],[1.0,\"#f0f921\"]],\"type\":\"histogram2dcontour\"}],\"histogram2d\":[{\"colorbar\":{\"outlinewidth\":0,\"ticks\":\"\"},\"colorscale\":[[0.0,\"#0d0887\"],[0.1111111111111111,\"#46039f\"],[0.2222222222222222,\"#7201a8\"],[0.3333333333333333,\"#9c179e\"],[0.4444444444444444,\"#bd3786\"],[0.5555555555555556,\"#d8576b\"],[0.6666666666666666,\"#ed7953\"],[0.7777777777777778,\"#fb9f3a\"],[0.8888888888888888,\"#fdca26\"],[1.0,\"#f0f921\"]],\"type\":\"histogram2d\"}],\"histogram\":[{\"marker\":{\"pattern\":{\"fillmode\":\"overlay\",\"size\":10,\"solidity\":0.2}},\"type\":\"histogram\"}],\"mesh3d\":[{\"colorbar\":{\"outlinewidth\":0,\"ticks\":\"\"},\"type\":\"mesh3d\"}],\"parcoords\":[{\"line\":{\"colorbar\":{\"outlinewidth\":0,\"ticks\":\"\"}},\"type\":\"parcoords\"}],\"pie\":[{\"automargin\":true,\"type\":\"pie\"}],\"scatter3d\":[{\"line\":{\"colorbar\":{\"outlinewidth\":0,\"ticks\":\"\"}},\"marker\":{\"colorbar\":{\"outlinewidth\":0,\"ticks\":\"\"}},\"type\":\"scatter3d\"}],\"scattercarpet\":[{\"marker\":{\"colorbar\":{\"outlinewidth\":0,\"ticks\":\"\"}},\"type\":\"scattercarpet\"}],\"scattergeo\":[{\"marker\":{\"colorbar\":{\"outlinewidth\":0,\"ticks\":\"\"}},\"type\":\"scattergeo\"}],\"scattergl\":[{\"marker\":{\"colorbar\":{\"outlinewidth\":0,\"ticks\":\"\"}},\"type\":\"scattergl\"}],\"scattermapbox\":[{\"marker\":{\"colorbar\":{\"outlinewidth\":0,\"ticks\":\"\"}},\"type\":\"scattermapbox\"}],\"scatterpolargl\":[{\"marker\":{\"colorbar\":{\"outlinewidth\":0,\"ticks\":\"\"}},\"type\":\"scatterpolargl\"}],\"scatterpolar\":[{\"marker\":{\"colorbar\":{\"outlinewidth\":0,\"ticks\":\"\"}},\"type\":\"scatterpolar\"}],\"scatter\":[{\"marker\":{\"colorbar\":{\"outlinewidth\":0,\"ticks\":\"\"}},\"type\":\"scatter\"}],\"scatterternary\":[{\"marker\":{\"colorbar\":{\"outlinewidth\":0,\"ticks\":\"\"}},\"type\":\"scatterternary\"}],\"surface\":[{\"colorbar\":{\"outlinewidth\":0,\"ticks\":\"\"},\"colorscale\":[[0.0,\"#0d0887\"],[0.1111111111111111,\"#46039f\"],[0.2222222222222222,\"#7201a8\"],[0.3333333333333333,\"#9c179e\"],[0.4444444444444444,\"#bd3786\"],[0.5555555555555556,\"#d8576b\"],[0.6666666666666666,\"#ed7953\"],[0.7777777777777778,\"#fb9f3a\"],[0.8888888888888888,\"#fdca26\"],[1.0,\"#f0f921\"]],\"type\":\"surface\"}],\"table\":[{\"cells\":{\"fill\":{\"color\":\"#EBF0F8\"},\"line\":{\"color\":\"white\"}},\"header\":{\"fill\":{\"color\":\"#C8D4E3\"},\"line\":{\"color\":\"white\"}},\"type\":\"table\"}]},\"layout\":{\"annotationdefaults\":{\"arrowcolor\":\"#2a3f5f\",\"arrowhead\":0,\"arrowwidth\":1},\"autotypenumbers\":\"strict\",\"coloraxis\":{\"colorbar\":{\"outlinewidth\":0,\"ticks\":\"\"}},\"colorscale\":{\"diverging\":[[0,\"#8e0152\"],[0.1,\"#c51b7d\"],[0.2,\"#de77ae\"],[0.3,\"#f1b6da\"],[0.4,\"#fde0ef\"],[0.5,\"#f7f7f7\"],[0.6,\"#e6f5d0\"],[0.7,\"#b8e186\"],[0.8,\"#7fbc41\"],[0.9,\"#4d9221\"],[1,\"#276419\"]],\"sequential\":[[0.0,\"#0d0887\"],[0.1111111111111111,\"#46039f\"],[0.2222222222222222,\"#7201a8\"],[0.3333333333333333,\"#9c179e\"],[0.4444444444444444,\"#bd3786\"],[0.5555555555555556,\"#d8576b\"],[0.6666666666666666,\"#ed7953\"],[0.7777777777777778,\"#fb9f3a\"],[0.8888888888888888,\"#fdca26\"],[1.0,\"#f0f921\"]],\"sequentialminus\":[[0.0,\"#0d0887\"],[0.1111111111111111,\"#46039f\"],[0.2222222222222222,\"#7201a8\"],[0.3333333333333333,\"#9c179e\"],[0.4444444444444444,\"#bd3786\"],[0.5555555555555556,\"#d8576b\"],[0.6666666666666666,\"#ed7953\"],[0.7777777777777778,\"#fb9f3a\"],[0.8888888888888888,\"#fdca26\"],[1.0,\"#f0f921\"]]},\"colorway\":[\"#636efa\",\"#EF553B\",\"#00cc96\",\"#ab63fa\",\"#FFA15A\",\"#19d3f3\",\"#FF6692\",\"#B6E880\",\"#FF97FF\",\"#FECB52\"],\"font\":{\"color\":\"#2a3f5f\"},\"geo\":{\"bgcolor\":\"white\",\"lakecolor\":\"white\",\"landcolor\":\"white\",\"showlakes\":true,\"showland\":true,\"subunitcolor\":\"#C8D4E3\"},\"hoverlabel\":{\"align\":\"left\"},\"hovermode\":\"closest\",\"mapbox\":{\"style\":\"light\"},\"paper_bgcolor\":\"white\",\"plot_bgcolor\":\"white\",\"polar\":{\"angularaxis\":{\"gridcolor\":\"#EBF0F8\",\"linecolor\":\"#EBF0F8\",\"ticks\":\"\"},\"bgcolor\":\"white\",\"radialaxis\":{\"gridcolor\":\"#EBF0F8\",\"linecolor\":\"#EBF0F8\",\"ticks\":\"\"}},\"scene\":{\"xaxis\":{\"backgroundcolor\":\"white\",\"gridcolor\":\"#DFE8F3\",\"gridwidth\":2,\"linecolor\":\"#EBF0F8\",\"showbackground\":true,\"ticks\":\"\",\"zerolinecolor\":\"#EBF0F8\"},\"yaxis\":{\"backgroundcolor\":\"white\",\"gridcolor\":\"#DFE8F3\",\"gridwidth\":2,\"linecolor\":\"#EBF0F8\",\"showbackground\":true,\"ticks\":\"\",\"zerolinecolor\":\"#EBF0F8\"},\"zaxis\":{\"backgroundcolor\":\"white\",\"gridcolor\":\"#DFE8F3\",\"gridwidth\":2,\"linecolor\":\"#EBF0F8\",\"showbackground\":true,\"ticks\":\"\",\"zerolinecolor\":\"#EBF0F8\"}},\"shapedefaults\":{\"line\":{\"color\":\"#2a3f5f\"}},\"ternary\":{\"aaxis\":{\"gridcolor\":\"#DFE8F3\",\"linecolor\":\"#A2B1C6\",\"ticks\":\"\"},\"baxis\":{\"gridcolor\":\"#DFE8F3\",\"linecolor\":\"#A2B1C6\",\"ticks\":\"\"},\"bgcolor\":\"white\",\"caxis\":{\"gridcolor\":\"#DFE8F3\",\"linecolor\":\"#A2B1C6\",\"ticks\":\"\"}},\"title\":{\"x\":0.05},\"xaxis\":{\"automargin\":true,\"gridcolor\":\"#EBF0F8\",\"linecolor\":\"#EBF0F8\",\"ticks\":\"\",\"title\":{\"standoff\":15},\"zerolinecolor\":\"#EBF0F8\",\"zerolinewidth\":2},\"yaxis\":{\"automargin\":true,\"gridcolor\":\"#EBF0F8\",\"linecolor\":\"#EBF0F8\",\"ticks\":\"\",\"title\":{\"standoff\":15},\"zerolinecolor\":\"#EBF0F8\",\"zerolinewidth\":2}}},\"title\":{\"text\":\"Income (q1-q3) of olderst person at household\"},\"yaxis\":{\"title\":{\"text\":\"Inocme (New Israeli Shekels)\"}}},                        {\"responsive\": true}                    ).then(function(){\n",
              "                            \n",
              "var gd = document.getElementById('004c0cd6-d81a-4cfd-8759-17aab419f745');\n",
              "var x = new MutationObserver(function (mutations, observer) {{\n",
              "        var display = window.getComputedStyle(gd).display;\n",
              "        if (!display || display === 'none') {{\n",
              "            console.log([gd, 'removed!']);\n",
              "            Plotly.purge(gd);\n",
              "            observer.disconnect();\n",
              "        }}\n",
              "}});\n",
              "\n",
              "// Listen for the removal of the full notebook cells\n",
              "var notebookContainer = gd.closest('#notebook-container');\n",
              "if (notebookContainer) {{\n",
              "    x.observe(notebookContainer, {childList: true});\n",
              "}}\n",
              "\n",
              "// Listen for the clearing of the current output cell\n",
              "var outputEl = gd.closest('.output');\n",
              "if (outputEl) {{\n",
              "    x.observe(outputEl, {childList: true});\n",
              "}}\n",
              "\n",
              "                        })                };                            </script>        </div>\n",
              "</body>\n",
              "</html>"
            ]
          },
          "metadata": {}
        }
      ]
    },
    {
      "cell_type": "code",
      "source": [
        ""
      ],
      "metadata": {
        "id": "O_fWNtmsC_Zk"
      },
      "execution_count": null,
      "outputs": []
    },
    {
      "cell_type": "code",
      "source": [
        "graph"
      ],
      "metadata": {
        "colab": {
          "base_uri": "https://localhost:8080/",
          "height": 292
        },
        "id": "hGexqW2NF63z",
        "outputId": "0635fc68-697a-47a1-e39e-1ffab842e524"
      },
      "execution_count": null,
      "outputs": [
        {
          "output_type": "display_data",
          "data": {
            "text/html": [
              "<html>\n",
              "<head><meta charset=\"utf-8\" /></head>\n",
              "<body>\n",
              "    <div>            <script src=\"https://cdnjs.cloudflare.com/ajax/libs/mathjax/2.7.5/MathJax.js?config=TeX-AMS-MML_SVG\"></script><script type=\"text/javascript\">if (window.MathJax) {MathJax.Hub.Config({SVG: {font: \"STIX-Web\"}});}</script>                <script type=\"text/javascript\">window.PlotlyConfig = {MathJaxConfig: 'local'};</script>\n",
              "        <script src=\"https://cdn.plot.ly/plotly-2.8.3.min.js\"></script>                <div id=\"8c102edf-8f5c-4cf8-b3b3-f0f0e01d9bcf\" class=\"plotly-graph-div\" style=\"height:275px; width:1200px;\"></div>            <script type=\"text/javascript\">                                    window.PLOTLYENV=window.PLOTLYENV || {};                                    if (document.getElementById(\"8c102edf-8f5c-4cf8-b3b3-f0f0e01d9bcf\")) {                    Plotly.newPlot(                        \"8c102edf-8f5c-4cf8-b3b3-f0f0e01d9bcf\",                        [{\"legendgroup\":\"New Comers\",\"legendgrouptitle\":{\"text\":\"New Comers\"},\"line\":{\"color\":\"royalblue\",\"width\":1},\"mode\":\"lines\",\"name\":\"Average age in q1 (25%)\",\"x\":[\"2015 Q1\",\"2015 Q3\",\"2016 Q1\",\"2016 Q3\",\"2017 Q1\",\"2017 Q3\",\"2018 Q1\",\"2018 Q3\",\"2019 Q1\",\"2019 Q3\",\"2020 Q1\",\"2020 Q3\",\"2021 Q1\",\"2021 Q3\",\"2022 Q1\",\"2022 Q3\",\"2023 Q1\",\"2023 Q3\",\"2024 Q1\",\"2024 Q3\",\"2025 Q1\",\"2025 Q3\",\"2026 Q1\",\"2026 Q3\",\"2027 Q1\",\"2027 Q3\",\"2028 Q1\",\"2028 Q3\",\"2029 Q1\",\"2029 Q3\",\"2030 Q1\",\"2030 Q3\"],\"y\":[0.0,0.0,0.0,0.0,32.0,32.0,31.75,31.0,32.0,32.0,33.5,33.5,34.5,34.0,35.0,34.0,34.0,34.0,35.0,35.0,36.0],\"type\":\"scatter\"},{\"legendgroup\":\"New Comers\",\"legendgrouptitle\":{\"text\":\"New Comers\"},\"line\":{\"color\":\"royalblue\",\"width\":3},\"mode\":\"lines\",\"name\":\"Average age in q2 (50%)\",\"x\":[\"2015 Q1\",\"2015 Q3\",\"2016 Q1\",\"2016 Q3\",\"2017 Q1\",\"2017 Q3\",\"2018 Q1\",\"2018 Q3\",\"2019 Q1\",\"2019 Q3\",\"2020 Q1\",\"2020 Q3\",\"2021 Q1\",\"2021 Q3\",\"2022 Q1\",\"2022 Q3\",\"2023 Q1\",\"2023 Q3\",\"2024 Q1\",\"2024 Q3\",\"2025 Q1\",\"2025 Q3\",\"2026 Q1\",\"2026 Q3\",\"2027 Q1\",\"2027 Q3\",\"2028 Q1\",\"2028 Q3\",\"2029 Q1\",\"2029 Q3\",\"2030 Q1\",\"2030 Q3\"],\"y\":[0.0,0.0,0.0,0.0,47.0,47.0,42.0,44.0,46.0,46.0,47.0,47.0,48.0,47.0,47.5,47.0,47.5,47.5,48.0,49.0,49.0],\"type\":\"scatter\"},{\"legendgroup\":\"New Comers\",\"legendgrouptitle\":{\"text\":\"New Comers\"},\"line\":{\"color\":\"royalblue\",\"width\":4},\"mode\":\"lines\",\"name\":\"Average age in q3 (75%)\",\"x\":[\"2015 Q1\",\"2015 Q3\",\"2016 Q1\",\"2016 Q3\",\"2017 Q1\",\"2017 Q3\",\"2018 Q1\",\"2018 Q3\",\"2019 Q1\",\"2019 Q3\",\"2020 Q1\",\"2020 Q3\",\"2021 Q1\",\"2021 Q3\",\"2022 Q1\",\"2022 Q3\",\"2023 Q1\",\"2023 Q3\",\"2024 Q1\",\"2024 Q3\",\"2025 Q1\",\"2025 Q3\",\"2026 Q1\",\"2026 Q3\",\"2027 Q1\",\"2027 Q3\",\"2028 Q1\",\"2028 Q3\",\"2029 Q1\",\"2029 Q3\",\"2030 Q1\",\"2030 Q3\"],\"y\":[0.0,0.0,0.0,0.0,60.0,60.0,60.25,59.0,62.0,62.0,64.5,64.5,65.5,64.0,64.0,64.0,65.0,65.0,65.0,65.0,66.0],\"type\":\"scatter\"},{\"legendgroup\":\"Staying\",\"legendgrouptitle\":{\"text\":\"Staying\"},\"line\":{\"color\":\"firebrick\",\"width\":1},\"mode\":\"lines\",\"name\":\"Average age in q1 (25%)\",\"x\":[\"2015 Q1\",\"2015 Q3\",\"2016 Q1\",\"2016 Q3\",\"2017 Q1\",\"2017 Q3\",\"2018 Q1\",\"2018 Q3\",\"2019 Q1\",\"2019 Q3\",\"2020 Q1\",\"2020 Q3\",\"2021 Q1\",\"2021 Q3\",\"2022 Q1\",\"2022 Q3\",\"2023 Q1\",\"2023 Q3\",\"2024 Q1\",\"2024 Q3\",\"2025 Q1\",\"2025 Q3\",\"2026 Q1\",\"2026 Q3\",\"2027 Q1\",\"2027 Q3\",\"2028 Q1\",\"2028 Q3\",\"2029 Q1\",\"2029 Q3\",\"2030 Q1\",\"2030 Q3\"],\"y\":[30.0,30.0,31.0,31.0,32.0,32.0,33.0,33.0,34.0,34.0,35.75,35.0,37.0,37.0,38.0,38.0,38.0,38.0,39.0,37.75,38.5],\"type\":\"scatter\"},{\"legendgroup\":\"Staying\",\"legendgrouptitle\":{\"text\":\"Staying\"},\"line\":{\"color\":\"firebrick\",\"width\":3},\"mode\":\"lines\",\"name\":\"Average age in q2 (50%)\",\"x\":[\"2015 Q1\",\"2015 Q3\",\"2016 Q1\",\"2016 Q3\",\"2017 Q1\",\"2017 Q3\",\"2018 Q1\",\"2018 Q3\",\"2019 Q1\",\"2019 Q3\",\"2020 Q1\",\"2020 Q3\",\"2021 Q1\",\"2021 Q3\",\"2022 Q1\",\"2022 Q3\",\"2023 Q1\",\"2023 Q3\",\"2024 Q1\",\"2024 Q3\",\"2025 Q1\",\"2025 Q3\",\"2026 Q1\",\"2026 Q3\",\"2027 Q1\",\"2027 Q3\",\"2028 Q1\",\"2028 Q3\",\"2029 Q1\",\"2029 Q3\",\"2030 Q1\",\"2030 Q3\"],\"y\":[42.0,42.0,43.0,43.0,44.0,44.0,45.0,45.0,46.5,46.5,48.0,48.0,48.0,49.0,50.0,50.0,50.0,50.0,51.0,49.0,47.0],\"type\":\"scatter\"},{\"legendgroup\":\"Staying\",\"legendgrouptitle\":{\"text\":\"Staying\"},\"line\":{\"color\":\"firebrick\",\"width\":4},\"mode\":\"lines\",\"name\":\"Average age in q2 (75%)\",\"x\":[\"2015 Q1\",\"2015 Q3\",\"2016 Q1\",\"2016 Q3\",\"2017 Q1\",\"2017 Q3\",\"2018 Q1\",\"2018 Q3\",\"2019 Q1\",\"2019 Q3\",\"2020 Q1\",\"2020 Q3\",\"2021 Q1\",\"2021 Q3\",\"2022 Q1\",\"2022 Q3\",\"2023 Q1\",\"2023 Q3\",\"2024 Q1\",\"2024 Q3\",\"2025 Q1\",\"2025 Q3\",\"2026 Q1\",\"2026 Q3\",\"2027 Q1\",\"2027 Q3\",\"2028 Q1\",\"2028 Q3\",\"2029 Q1\",\"2029 Q3\",\"2030 Q1\",\"2030 Q3\"],\"y\":[65.0,65.0,66.0,65.25,66.75,66.75,68.0,68.0,69.0,69.0,70.0,70.0,70.0,70.0,71.0,70.0,66.0,66.0,64.0,60.25,57.5],\"type\":\"scatter\"},{\"legendgroup\":\"Reference\",\"legendgrouptitle\":{\"text\":\"Reference\"},\"line\":{\"color\":\"LightSeaGreen\",\"dash\":\"dashdot\",\"width\":2},\"mode\":\"lines\",\"name\":\"2015 Q1\",\"x\":[\"2015 Q1\",\"2015 Q1\"],\"y\":[20,100],\"type\":\"scatter\"}],                        {\"template\":{\"data\":{\"barpolar\":[{\"marker\":{\"line\":{\"color\":\"white\",\"width\":0.5},\"pattern\":{\"fillmode\":\"overlay\",\"size\":10,\"solidity\":0.2}},\"type\":\"barpolar\"}],\"bar\":[{\"error_x\":{\"color\":\"#2a3f5f\"},\"error_y\":{\"color\":\"#2a3f5f\"},\"marker\":{\"line\":{\"color\":\"white\",\"width\":0.5},\"pattern\":{\"fillmode\":\"overlay\",\"size\":10,\"solidity\":0.2}},\"type\":\"bar\"}],\"carpet\":[{\"aaxis\":{\"endlinecolor\":\"#2a3f5f\",\"gridcolor\":\"#C8D4E3\",\"linecolor\":\"#C8D4E3\",\"minorgridcolor\":\"#C8D4E3\",\"startlinecolor\":\"#2a3f5f\"},\"baxis\":{\"endlinecolor\":\"#2a3f5f\",\"gridcolor\":\"#C8D4E3\",\"linecolor\":\"#C8D4E3\",\"minorgridcolor\":\"#C8D4E3\",\"startlinecolor\":\"#2a3f5f\"},\"type\":\"carpet\"}],\"choropleth\":[{\"colorbar\":{\"outlinewidth\":0,\"ticks\":\"\"},\"type\":\"choropleth\"}],\"contourcarpet\":[{\"colorbar\":{\"outlinewidth\":0,\"ticks\":\"\"},\"type\":\"contourcarpet\"}],\"contour\":[{\"colorbar\":{\"outlinewidth\":0,\"ticks\":\"\"},\"colorscale\":[[0.0,\"#0d0887\"],[0.1111111111111111,\"#46039f\"],[0.2222222222222222,\"#7201a8\"],[0.3333333333333333,\"#9c179e\"],[0.4444444444444444,\"#bd3786\"],[0.5555555555555556,\"#d8576b\"],[0.6666666666666666,\"#ed7953\"],[0.7777777777777778,\"#fb9f3a\"],[0.8888888888888888,\"#fdca26\"],[1.0,\"#f0f921\"]],\"type\":\"contour\"}],\"heatmapgl\":[{\"colorbar\":{\"outlinewidth\":0,\"ticks\":\"\"},\"colorscale\":[[0.0,\"#0d0887\"],[0.1111111111111111,\"#46039f\"],[0.2222222222222222,\"#7201a8\"],[0.3333333333333333,\"#9c179e\"],[0.4444444444444444,\"#bd3786\"],[0.5555555555555556,\"#d8576b\"],[0.6666666666666666,\"#ed7953\"],[0.7777777777777778,\"#fb9f3a\"],[0.8888888888888888,\"#fdca26\"],[1.0,\"#f0f921\"]],\"type\":\"heatmapgl\"}],\"heatmap\":[{\"colorbar\":{\"outlinewidth\":0,\"ticks\":\"\"},\"colorscale\":[[0.0,\"#0d0887\"],[0.1111111111111111,\"#46039f\"],[0.2222222222222222,\"#7201a8\"],[0.3333333333333333,\"#9c179e\"],[0.4444444444444444,\"#bd3786\"],[0.5555555555555556,\"#d8576b\"],[0.6666666666666666,\"#ed7953\"],[0.7777777777777778,\"#fb9f3a\"],[0.8888888888888888,\"#fdca26\"],[1.0,\"#f0f921\"]],\"type\":\"heatmap\"}],\"histogram2dcontour\":[{\"colorbar\":{\"outlinewidth\":0,\"ticks\":\"\"},\"colorscale\":[[0.0,\"#0d0887\"],[0.1111111111111111,\"#46039f\"],[0.2222222222222222,\"#7201a8\"],[0.3333333333333333,\"#9c179e\"],[0.4444444444444444,\"#bd3786\"],[0.5555555555555556,\"#d8576b\"],[0.6666666666666666,\"#ed7953\"],[0.7777777777777778,\"#fb9f3a\"],[0.8888888888888888,\"#fdca26\"],[1.0,\"#f0f921\"]],\"type\":\"histogram2dcontour\"}],\"histogram2d\":[{\"colorbar\":{\"outlinewidth\":0,\"ticks\":\"\"},\"colorscale\":[[0.0,\"#0d0887\"],[0.1111111111111111,\"#46039f\"],[0.2222222222222222,\"#7201a8\"],[0.3333333333333333,\"#9c179e\"],[0.4444444444444444,\"#bd3786\"],[0.5555555555555556,\"#d8576b\"],[0.6666666666666666,\"#ed7953\"],[0.7777777777777778,\"#fb9f3a\"],[0.8888888888888888,\"#fdca26\"],[1.0,\"#f0f921\"]],\"type\":\"histogram2d\"}],\"histogram\":[{\"marker\":{\"pattern\":{\"fillmode\":\"overlay\",\"size\":10,\"solidity\":0.2}},\"type\":\"histogram\"}],\"mesh3d\":[{\"colorbar\":{\"outlinewidth\":0,\"ticks\":\"\"},\"type\":\"mesh3d\"}],\"parcoords\":[{\"line\":{\"colorbar\":{\"outlinewidth\":0,\"ticks\":\"\"}},\"type\":\"parcoords\"}],\"pie\":[{\"automargin\":true,\"type\":\"pie\"}],\"scatter3d\":[{\"line\":{\"colorbar\":{\"outlinewidth\":0,\"ticks\":\"\"}},\"marker\":{\"colorbar\":{\"outlinewidth\":0,\"ticks\":\"\"}},\"type\":\"scatter3d\"}],\"scattercarpet\":[{\"marker\":{\"colorbar\":{\"outlinewidth\":0,\"ticks\":\"\"}},\"type\":\"scattercarpet\"}],\"scattergeo\":[{\"marker\":{\"colorbar\":{\"outlinewidth\":0,\"ticks\":\"\"}},\"type\":\"scattergeo\"}],\"scattergl\":[{\"marker\":{\"colorbar\":{\"outlinewidth\":0,\"ticks\":\"\"}},\"type\":\"scattergl\"}],\"scattermapbox\":[{\"marker\":{\"colorbar\":{\"outlinewidth\":0,\"ticks\":\"\"}},\"type\":\"scattermapbox\"}],\"scatterpolargl\":[{\"marker\":{\"colorbar\":{\"outlinewidth\":0,\"ticks\":\"\"}},\"type\":\"scatterpolargl\"}],\"scatterpolar\":[{\"marker\":{\"colorbar\":{\"outlinewidth\":0,\"ticks\":\"\"}},\"type\":\"scatterpolar\"}],\"scatter\":[{\"marker\":{\"colorbar\":{\"outlinewidth\":0,\"ticks\":\"\"}},\"type\":\"scatter\"}],\"scatterternary\":[{\"marker\":{\"colorbar\":{\"outlinewidth\":0,\"ticks\":\"\"}},\"type\":\"scatterternary\"}],\"surface\":[{\"colorbar\":{\"outlinewidth\":0,\"ticks\":\"\"},\"colorscale\":[[0.0,\"#0d0887\"],[0.1111111111111111,\"#46039f\"],[0.2222222222222222,\"#7201a8\"],[0.3333333333333333,\"#9c179e\"],[0.4444444444444444,\"#bd3786\"],[0.5555555555555556,\"#d8576b\"],[0.6666666666666666,\"#ed7953\"],[0.7777777777777778,\"#fb9f3a\"],[0.8888888888888888,\"#fdca26\"],[1.0,\"#f0f921\"]],\"type\":\"surface\"}],\"table\":[{\"cells\":{\"fill\":{\"color\":\"#EBF0F8\"},\"line\":{\"color\":\"white\"}},\"header\":{\"fill\":{\"color\":\"#C8D4E3\"},\"line\":{\"color\":\"white\"}},\"type\":\"table\"}]},\"layout\":{\"annotationdefaults\":{\"arrowcolor\":\"#2a3f5f\",\"arrowhead\":0,\"arrowwidth\":1},\"autotypenumbers\":\"strict\",\"coloraxis\":{\"colorbar\":{\"outlinewidth\":0,\"ticks\":\"\"}},\"colorscale\":{\"diverging\":[[0,\"#8e0152\"],[0.1,\"#c51b7d\"],[0.2,\"#de77ae\"],[0.3,\"#f1b6da\"],[0.4,\"#fde0ef\"],[0.5,\"#f7f7f7\"],[0.6,\"#e6f5d0\"],[0.7,\"#b8e186\"],[0.8,\"#7fbc41\"],[0.9,\"#4d9221\"],[1,\"#276419\"]],\"sequential\":[[0.0,\"#0d0887\"],[0.1111111111111111,\"#46039f\"],[0.2222222222222222,\"#7201a8\"],[0.3333333333333333,\"#9c179e\"],[0.4444444444444444,\"#bd3786\"],[0.5555555555555556,\"#d8576b\"],[0.6666666666666666,\"#ed7953\"],[0.7777777777777778,\"#fb9f3a\"],[0.8888888888888888,\"#fdca26\"],[1.0,\"#f0f921\"]],\"sequentialminus\":[[0.0,\"#0d0887\"],[0.1111111111111111,\"#46039f\"],[0.2222222222222222,\"#7201a8\"],[0.3333333333333333,\"#9c179e\"],[0.4444444444444444,\"#bd3786\"],[0.5555555555555556,\"#d8576b\"],[0.6666666666666666,\"#ed7953\"],[0.7777777777777778,\"#fb9f3a\"],[0.8888888888888888,\"#fdca26\"],[1.0,\"#f0f921\"]]},\"colorway\":[\"#636efa\",\"#EF553B\",\"#00cc96\",\"#ab63fa\",\"#FFA15A\",\"#19d3f3\",\"#FF6692\",\"#B6E880\",\"#FF97FF\",\"#FECB52\"],\"font\":{\"color\":\"#2a3f5f\"},\"geo\":{\"bgcolor\":\"white\",\"lakecolor\":\"white\",\"landcolor\":\"white\",\"showlakes\":true,\"showland\":true,\"subunitcolor\":\"#C8D4E3\"},\"hoverlabel\":{\"align\":\"left\"},\"hovermode\":\"closest\",\"mapbox\":{\"style\":\"light\"},\"paper_bgcolor\":\"white\",\"plot_bgcolor\":\"white\",\"polar\":{\"angularaxis\":{\"gridcolor\":\"#EBF0F8\",\"linecolor\":\"#EBF0F8\",\"ticks\":\"\"},\"bgcolor\":\"white\",\"radialaxis\":{\"gridcolor\":\"#EBF0F8\",\"linecolor\":\"#EBF0F8\",\"ticks\":\"\"}},\"scene\":{\"xaxis\":{\"backgroundcolor\":\"white\",\"gridcolor\":\"#DFE8F3\",\"gridwidth\":2,\"linecolor\":\"#EBF0F8\",\"showbackground\":true,\"ticks\":\"\",\"zerolinecolor\":\"#EBF0F8\"},\"yaxis\":{\"backgroundcolor\":\"white\",\"gridcolor\":\"#DFE8F3\",\"gridwidth\":2,\"linecolor\":\"#EBF0F8\",\"showbackground\":true,\"ticks\":\"\",\"zerolinecolor\":\"#EBF0F8\"},\"zaxis\":{\"backgroundcolor\":\"white\",\"gridcolor\":\"#DFE8F3\",\"gridwidth\":2,\"linecolor\":\"#EBF0F8\",\"showbackground\":true,\"ticks\":\"\",\"zerolinecolor\":\"#EBF0F8\"}},\"shapedefaults\":{\"line\":{\"color\":\"#2a3f5f\"}},\"ternary\":{\"aaxis\":{\"gridcolor\":\"#DFE8F3\",\"linecolor\":\"#A2B1C6\",\"ticks\":\"\"},\"baxis\":{\"gridcolor\":\"#DFE8F3\",\"linecolor\":\"#A2B1C6\",\"ticks\":\"\"},\"bgcolor\":\"white\",\"caxis\":{\"gridcolor\":\"#DFE8F3\",\"linecolor\":\"#A2B1C6\",\"ticks\":\"\"}},\"title\":{\"x\":0.05},\"xaxis\":{\"automargin\":true,\"gridcolor\":\"#EBF0F8\",\"linecolor\":\"#EBF0F8\",\"ticks\":\"\",\"title\":{\"standoff\":15},\"zerolinecolor\":\"#EBF0F8\",\"zerolinewidth\":2},\"yaxis\":{\"automargin\":true,\"gridcolor\":\"#EBF0F8\",\"linecolor\":\"#EBF0F8\",\"ticks\":\"\",\"title\":{\"standoff\":15},\"zerolinecolor\":\"#EBF0F8\",\"zerolinewidth\":2}}},\"margin\":{\"r\":0,\"t\":35,\"l\":0,\"b\":0,\"pad\":0},\"legend\":{\"orientation\":\"h\",\"yanchor\":\"top\",\"y\":0.99,\"xanchor\":\"left\",\"x\":0.01},\"title\":{\"text\":\"Age quarter distribution for Staying vs New Comers\"},\"yaxis\":{\"title\":{\"text\":\"Average Age\"},\"range\":[20,110]},\"width\":1200,\"height\":275,\"xaxis\":{\"range\":[0,32]}},                        {\"responsive\": true}                    ).then(function(){\n",
              "                            \n",
              "var gd = document.getElementById('8c102edf-8f5c-4cf8-b3b3-f0f0e01d9bcf');\n",
              "var x = new MutationObserver(function (mutations, observer) {{\n",
              "        var display = window.getComputedStyle(gd).display;\n",
              "        if (!display || display === 'none') {{\n",
              "            console.log([gd, 'removed!']);\n",
              "            Plotly.purge(gd);\n",
              "            observer.disconnect();\n",
              "        }}\n",
              "}});\n",
              "\n",
              "// Listen for the removal of the full notebook cells\n",
              "var notebookContainer = gd.closest('#notebook-container');\n",
              "if (notebookContainer) {{\n",
              "    x.observe(notebookContainer, {childList: true});\n",
              "}}\n",
              "\n",
              "// Listen for the clearing of the current output cell\n",
              "var outputEl = gd.closest('.output');\n",
              "if (outputEl) {{\n",
              "    x.observe(outputEl, {childList: true});\n",
              "}}\n",
              "\n",
              "                        })                };                            </script>        </div>\n",
              "</body>\n",
              "</html>"
            ]
          },
          "metadata": {}
        }
      ]
    },
    {
      "cell_type": "code",
      "source": [
        ""
      ],
      "metadata": {
        "id": "MYXx3MmSF7t0"
      },
      "execution_count": null,
      "outputs": []
    },
    {
      "cell_type": "code",
      "source": [
        "rent_own_new_stay = agents_stat_summary_by_year[['year','New Comers_rent','New Comers_own','stay_rent','stay_own']].copy().fillna(0)\n",
        "end_index = rent_own_new_stay[rent_own_new_stay['year']=='2019 Q1'].index.values[0]\n",
        "selected_indexes = range(0,end_index+1)\n",
        "rent_own_new_stayselected = rent_own_new_stay[rent_own_new_stay.index.isin(selected_indexes)]"
      ],
      "metadata": {
        "id": "c9jnYcBzzSJc"
      },
      "execution_count": null,
      "outputs": []
    },
    {
      "cell_type": "code",
      "source": [
        ""
      ],
      "metadata": {
        "id": "Uigb3tiV3-1P"
      },
      "execution_count": null,
      "outputs": []
    },
    {
      "cell_type": "code",
      "source": [
        ""
      ],
      "metadata": {
        "id": "150kINtM3Ujf"
      },
      "execution_count": null,
      "outputs": []
    },
    {
      "cell_type": "code",
      "source": [
        ""
      ],
      "metadata": {
        "id": "UujQTjsa3uR_"
      },
      "execution_count": null,
      "outputs": []
    },
    {
      "cell_type": "code",
      "source": [
        "rent_own_new_stayselected"
      ],
      "metadata": {
        "colab": {
          "base_uri": "https://localhost:8080/",
          "height": 332
        },
        "id": "Ea6YtkUD3sjP",
        "outputId": "dcbfd554-72ec-496e-e841-84a7b85b3359"
      },
      "execution_count": null,
      "outputs": [
        {
          "output_type": "execute_result",
          "data": {
            "text/plain": [
              "      year  New Comers_rent  New Comers_own  stay_rent  stay_own\n",
              "0  2015 Q1              0.0             0.0        318       579\n",
              "1  2015 Q3              0.0             0.0        310       565\n",
              "2  2016 Q1              0.0             0.0        310       565\n",
              "3  2016 Q3              0.0             0.0        294       542\n",
              "4  2017 Q1             11.0            14.0        282       520\n",
              "5  2017 Q3             11.0            14.0        282       520\n",
              "6  2018 Q1             31.0            53.0        278       517\n",
              "7  2018 Q3             69.0           134.0        278       517\n",
              "8  2019 Q1             90.0           195.0        271       493"
            ],
            "text/html": [
              "\n",
              "  <div id=\"df-72d8745d-5fa0-4440-9437-33776e7053b0\">\n",
              "    <div class=\"colab-df-container\">\n",
              "      <div>\n",
              "<style scoped>\n",
              "    .dataframe tbody tr th:only-of-type {\n",
              "        vertical-align: middle;\n",
              "    }\n",
              "\n",
              "    .dataframe tbody tr th {\n",
              "        vertical-align: top;\n",
              "    }\n",
              "\n",
              "    .dataframe thead th {\n",
              "        text-align: right;\n",
              "    }\n",
              "</style>\n",
              "<table border=\"1\" class=\"dataframe\">\n",
              "  <thead>\n",
              "    <tr style=\"text-align: right;\">\n",
              "      <th></th>\n",
              "      <th>year</th>\n",
              "      <th>New Comers_rent</th>\n",
              "      <th>New Comers_own</th>\n",
              "      <th>stay_rent</th>\n",
              "      <th>stay_own</th>\n",
              "    </tr>\n",
              "  </thead>\n",
              "  <tbody>\n",
              "    <tr>\n",
              "      <th>0</th>\n",
              "      <td>2015 Q1</td>\n",
              "      <td>0.0</td>\n",
              "      <td>0.0</td>\n",
              "      <td>318</td>\n",
              "      <td>579</td>\n",
              "    </tr>\n",
              "    <tr>\n",
              "      <th>1</th>\n",
              "      <td>2015 Q3</td>\n",
              "      <td>0.0</td>\n",
              "      <td>0.0</td>\n",
              "      <td>310</td>\n",
              "      <td>565</td>\n",
              "    </tr>\n",
              "    <tr>\n",
              "      <th>2</th>\n",
              "      <td>2016 Q1</td>\n",
              "      <td>0.0</td>\n",
              "      <td>0.0</td>\n",
              "      <td>310</td>\n",
              "      <td>565</td>\n",
              "    </tr>\n",
              "    <tr>\n",
              "      <th>3</th>\n",
              "      <td>2016 Q3</td>\n",
              "      <td>0.0</td>\n",
              "      <td>0.0</td>\n",
              "      <td>294</td>\n",
              "      <td>542</td>\n",
              "    </tr>\n",
              "    <tr>\n",
              "      <th>4</th>\n",
              "      <td>2017 Q1</td>\n",
              "      <td>11.0</td>\n",
              "      <td>14.0</td>\n",
              "      <td>282</td>\n",
              "      <td>520</td>\n",
              "    </tr>\n",
              "    <tr>\n",
              "      <th>5</th>\n",
              "      <td>2017 Q3</td>\n",
              "      <td>11.0</td>\n",
              "      <td>14.0</td>\n",
              "      <td>282</td>\n",
              "      <td>520</td>\n",
              "    </tr>\n",
              "    <tr>\n",
              "      <th>6</th>\n",
              "      <td>2018 Q1</td>\n",
              "      <td>31.0</td>\n",
              "      <td>53.0</td>\n",
              "      <td>278</td>\n",
              "      <td>517</td>\n",
              "    </tr>\n",
              "    <tr>\n",
              "      <th>7</th>\n",
              "      <td>2018 Q3</td>\n",
              "      <td>69.0</td>\n",
              "      <td>134.0</td>\n",
              "      <td>278</td>\n",
              "      <td>517</td>\n",
              "    </tr>\n",
              "    <tr>\n",
              "      <th>8</th>\n",
              "      <td>2019 Q1</td>\n",
              "      <td>90.0</td>\n",
              "      <td>195.0</td>\n",
              "      <td>271</td>\n",
              "      <td>493</td>\n",
              "    </tr>\n",
              "  </tbody>\n",
              "</table>\n",
              "</div>\n",
              "      <button class=\"colab-df-convert\" onclick=\"convertToInteractive('df-72d8745d-5fa0-4440-9437-33776e7053b0')\"\n",
              "              title=\"Convert this dataframe to an interactive table.\"\n",
              "              style=\"display:none;\">\n",
              "        \n",
              "  <svg xmlns=\"http://www.w3.org/2000/svg\" height=\"24px\"viewBox=\"0 0 24 24\"\n",
              "       width=\"24px\">\n",
              "    <path d=\"M0 0h24v24H0V0z\" fill=\"none\"/>\n",
              "    <path d=\"M18.56 5.44l.94 2.06.94-2.06 2.06-.94-2.06-.94-.94-2.06-.94 2.06-2.06.94zm-11 1L8.5 8.5l.94-2.06 2.06-.94-2.06-.94L8.5 2.5l-.94 2.06-2.06.94zm10 10l.94 2.06.94-2.06 2.06-.94-2.06-.94-.94-2.06-.94 2.06-2.06.94z\"/><path d=\"M17.41 7.96l-1.37-1.37c-.4-.4-.92-.59-1.43-.59-.52 0-1.04.2-1.43.59L10.3 9.45l-7.72 7.72c-.78.78-.78 2.05 0 2.83L4 21.41c.39.39.9.59 1.41.59.51 0 1.02-.2 1.41-.59l7.78-7.78 2.81-2.81c.8-.78.8-2.07 0-2.86zM5.41 20L4 18.59l7.72-7.72 1.47 1.35L5.41 20z\"/>\n",
              "  </svg>\n",
              "      </button>\n",
              "      \n",
              "  <style>\n",
              "    .colab-df-container {\n",
              "      display:flex;\n",
              "      flex-wrap:wrap;\n",
              "      gap: 12px;\n",
              "    }\n",
              "\n",
              "    .colab-df-convert {\n",
              "      background-color: #E8F0FE;\n",
              "      border: none;\n",
              "      border-radius: 50%;\n",
              "      cursor: pointer;\n",
              "      display: none;\n",
              "      fill: #1967D2;\n",
              "      height: 32px;\n",
              "      padding: 0 0 0 0;\n",
              "      width: 32px;\n",
              "    }\n",
              "\n",
              "    .colab-df-convert:hover {\n",
              "      background-color: #E2EBFA;\n",
              "      box-shadow: 0px 1px 2px rgba(60, 64, 67, 0.3), 0px 1px 3px 1px rgba(60, 64, 67, 0.15);\n",
              "      fill: #174EA6;\n",
              "    }\n",
              "\n",
              "    [theme=dark] .colab-df-convert {\n",
              "      background-color: #3B4455;\n",
              "      fill: #D2E3FC;\n",
              "    }\n",
              "\n",
              "    [theme=dark] .colab-df-convert:hover {\n",
              "      background-color: #434B5C;\n",
              "      box-shadow: 0px 1px 3px 1px rgba(0, 0, 0, 0.15);\n",
              "      filter: drop-shadow(0px 1px 2px rgba(0, 0, 0, 0.3));\n",
              "      fill: #FFFFFF;\n",
              "    }\n",
              "  </style>\n",
              "\n",
              "      <script>\n",
              "        const buttonEl =\n",
              "          document.querySelector('#df-72d8745d-5fa0-4440-9437-33776e7053b0 button.colab-df-convert');\n",
              "        buttonEl.style.display =\n",
              "          google.colab.kernel.accessAllowed ? 'block' : 'none';\n",
              "\n",
              "        async function convertToInteractive(key) {\n",
              "          const element = document.querySelector('#df-72d8745d-5fa0-4440-9437-33776e7053b0');\n",
              "          const dataTable =\n",
              "            await google.colab.kernel.invokeFunction('convertToInteractive',\n",
              "                                                     [key], {});\n",
              "          if (!dataTable) return;\n",
              "\n",
              "          const docLinkHtml = 'Like what you see? Visit the ' +\n",
              "            '<a target=\"_blank\" href=https://colab.research.google.com/notebooks/data_table.ipynb>data table notebook</a>'\n",
              "            + ' to learn more about interactive tables.';\n",
              "          element.innerHTML = '';\n",
              "          dataTable['output_type'] = 'display_data';\n",
              "          await google.colab.output.renderOutput(dataTable, element);\n",
              "          const docLink = document.createElement('div');\n",
              "          docLink.innerHTML = docLinkHtml;\n",
              "          element.appendChild(docLink);\n",
              "        }\n",
              "      </script>\n",
              "    </div>\n",
              "  </div>\n",
              "  "
            ]
          },
          "metadata": {},
          "execution_count": 132
        }
      ]
    },
    {
      "cell_type": "code",
      "source": [
        ""
      ],
      "metadata": {
        "id": "0u16mbcx4AKi"
      },
      "execution_count": null,
      "outputs": []
    },
    {
      "cell_type": "code",
      "source": [
        ""
      ],
      "metadata": {
        "id": "8TYo5Q4N3qh_"
      },
      "execution_count": null,
      "outputs": []
    },
    {
      "cell_type": "code",
      "source": [
        ""
      ],
      "metadata": {
        "id": "eBFohuU13pn-"
      },
      "execution_count": null,
      "outputs": []
    },
    {
      "cell_type": "code",
      "source": [
        ""
      ],
      "metadata": {
        "id": "himNt9Ac3NqU"
      },
      "execution_count": null,
      "outputs": []
    },
    {
      "cell_type": "code",
      "source": [
        "agents_stat_summary_by_yearæ"
      ],
      "metadata": {
        "colab": {
          "base_uri": "https://localhost:8080/",
          "height": 166
        },
        "id": "0m8RGoNm2RnL",
        "outputId": "5f3ed4d3-2933-4951-8c52-f481d79fc9f8"
      },
      "execution_count": null,
      "outputs": [
        {
          "output_type": "error",
          "ename": "NameError",
          "evalue": "ignored",
          "traceback": [
            "\u001b[0;31m---------------------------------------------------------------------------\u001b[0m",
            "\u001b[0;31mNameError\u001b[0m                                 Traceback (most recent call last)",
            "\u001b[0;32m<ipython-input-133-09312bc2f402>\u001b[0m in \u001b[0;36m<module>\u001b[0;34m()\u001b[0m\n\u001b[0;32m----> 1\u001b[0;31m \u001b[0magents_stat_summary_by_yearæ\u001b[0m\u001b[0;34m\u001b[0m\u001b[0;34m\u001b[0m\u001b[0m\n\u001b[0m",
            "\u001b[0;31mNameError\u001b[0m: name 'agents_stat_summary_by_yearæ' is not defined"
          ]
        }
      ]
    },
    {
      "cell_type": "code",
      "source": [
        ""
      ],
      "metadata": {
        "id": "Q3zrFfKs2XE4"
      },
      "execution_count": null,
      "outputs": []
    },
    {
      "cell_type": "code",
      "source": [
        ""
      ],
      "metadata": {
        "id": "l4mQnzWh6kdB"
      },
      "execution_count": null,
      "outputs": []
    },
    {
      "cell_type": "code",
      "source": [
        ""
      ],
      "metadata": {
        "id": "SlaOK8r74TXs"
      },
      "execution_count": null,
      "outputs": []
    },
    {
      "cell_type": "code",
      "source": [
        "fig"
      ],
      "metadata": {
        "colab": {
          "base_uri": "https://localhost:8080/",
          "height": 542
        },
        "id": "i47rY5QC6saZ",
        "outputId": "98f9050c-58b5-47d4-8fd0-83889b60e9ba"
      },
      "execution_count": null,
      "outputs": [
        {
          "output_type": "display_data",
          "data": {
            "text/html": [
              "<html>\n",
              "<head><meta charset=\"utf-8\" /></head>\n",
              "<body>\n",
              "    <div>            <script src=\"https://cdnjs.cloudflare.com/ajax/libs/mathjax/2.7.5/MathJax.js?config=TeX-AMS-MML_SVG\"></script><script type=\"text/javascript\">if (window.MathJax) {MathJax.Hub.Config({SVG: {font: \"STIX-Web\"}});}</script>                <script type=\"text/javascript\">window.PlotlyConfig = {MathJaxConfig: 'local'};</script>\n",
              "        <script src=\"https://cdn.plot.ly/plotly-2.8.3.min.js\"></script>                <div id=\"ade99147-2327-491e-ac28-4da4745669e3\" class=\"plotly-graph-div\" style=\"height:525px; width:100%;\"></div>            <script type=\"text/javascript\">                                    window.PLOTLYENV=window.PLOTLYENV || {};                                    if (document.getElementById(\"ade99147-2327-491e-ac28-4da4745669e3\")) {                    Plotly.newPlot(                        \"ade99147-2327-491e-ac28-4da4745669e3\",                        [{\"legendgroup\":\"New Comers\",\"legendgrouptitle\":{\"text\":\"New Comers\"},\"line\":{\"color\":\"royalblue\",\"width\":1},\"mode\":\"lines\",\"name\":\"Income Q1\",\"x\":[\"2015 Q1\",\"2015 Q3\",\"2016 Q1\",\"2016 Q3\",\"2017 Q1\",\"2017 Q3\",\"2018 Q1\",\"2018 Q3\",\"2019 Q1\",\"2019 Q3\",\"2020 Q1\",\"2020 Q3\",\"2021 Q1\",\"2021 Q3\",\"2022 Q1\",\"2022 Q3\",\"2023 Q1\",\"2023 Q3\",\"2024 Q1\",\"2024 Q3\",\"2025 Q1\",\"2025 Q3\",\"2026 Q1\",\"2026 Q3\",\"2027 Q1\",\"2027 Q3\",\"2028 Q1\",\"2028 Q3\",\"2029 Q1\",\"2029 Q3\",\"2030 Q1\",\"2030 Q3\"],\"y\":[null,null,null,null,18838.1052631579,18838.1052631579,19619.10526315789,18584.605263157893,19415.1052631579,19415.1052631579,19647.5,19647.5,19647.5,19106.513157894733,20189.19736842105,20163.289473684206,20239.059210526317,20239.059210526317,20541.66447368421,20689.427631578943,20607.381578947367,20607.381578947367,21203.35526315789,21203.35526315789,21519.26315789474,21648.565789473687,21614.21052631579,21655.31578947368,21655.31578947368,21655.31578947368,21655.31578947368,21655.31578947368],\"type\":\"scatter\"},{\"legendgroup\":\"New Comers\",\"legendgrouptitle\":{\"text\":\"New Comers\"},\"line\":{\"color\":\"royalblue\",\"width\":3},\"mode\":\"lines\",\"name\":\"Income Q2\",\"x\":[\"2015 Q1\",\"2015 Q3\",\"2016 Q1\",\"2016 Q3\",\"2017 Q1\",\"2017 Q3\",\"2018 Q1\",\"2018 Q3\",\"2019 Q1\",\"2019 Q3\",\"2020 Q1\",\"2020 Q3\",\"2021 Q1\",\"2021 Q3\",\"2022 Q1\",\"2022 Q3\",\"2023 Q1\",\"2023 Q3\",\"2024 Q1\",\"2024 Q3\",\"2025 Q1\",\"2025 Q3\",\"2026 Q1\",\"2026 Q3\",\"2027 Q1\",\"2027 Q3\",\"2028 Q1\",\"2028 Q3\",\"2029 Q1\",\"2029 Q3\",\"2030 Q1\",\"2030 Q3\"],\"y\":[null,null,null,null,21097.1052631579,21097.1052631579,21099.868421052637,20230.42105263158,21815.47368421052,21815.47368421052,21859.78947368421,21859.78947368421,21859.78947368421,21248.1052631579,23657.96052631579,23013.31578947368,22924.026315789477,22924.026315789477,23178.90789473684,23073.894736842107,22880.21052631579,22880.21052631579,23268.52631578947,23268.52631578947,23674.6052631579,23874.17105263158,23763.23684210526,23851.21052631579,23851.21052631579,23851.21052631579,23851.21052631579,23851.21052631579],\"type\":\"scatter\"},{\"legendgroup\":\"New Comers\",\"legendgrouptitle\":{\"text\":\"New Comers\"},\"line\":{\"color\":\"royalblue\",\"width\":4},\"mode\":\"lines\",\"name\":\"Income Q3\",\"x\":[\"2015 Q1\",\"2015 Q3\",\"2016 Q1\",\"2016 Q3\",\"2017 Q1\",\"2017 Q3\",\"2018 Q1\",\"2018 Q3\",\"2019 Q1\",\"2019 Q3\",\"2020 Q1\",\"2020 Q3\",\"2021 Q1\",\"2021 Q3\",\"2022 Q1\",\"2022 Q3\",\"2023 Q1\",\"2023 Q3\",\"2024 Q1\",\"2024 Q3\",\"2025 Q1\",\"2025 Q3\",\"2026 Q1\",\"2026 Q3\",\"2027 Q1\",\"2027 Q3\",\"2028 Q1\",\"2028 Q3\",\"2029 Q1\",\"2029 Q3\",\"2030 Q1\",\"2030 Q3\"],\"y\":[null,null,null,null,22033.94736842105,22033.94736842105,22017.44736842105,22263.842105263157,25173.13157894737,25173.13157894737,24520.42105263158,24520.42105263158,24520.42105263158,24477.65789473684,26538.34868421053,26325.611842105263,25811.611842105267,25811.611842105267,25911.526315789477,25555.763157894737,25270.32894736842,25270.32894736842,25387.65789473684,25387.65789473684,26065.05263157895,26217.782894736847,26014.89473684211,26217.21052631579,26217.21052631579,26217.21052631579,26217.21052631579,26217.21052631579],\"type\":\"scatter\"},{\"legendgroup\":\"Staying\",\"legendgrouptitle\":{\"text\":\"Staying\"},\"line\":{\"color\":\"firebrick\",\"width\":1},\"mode\":\"lines\",\"name\":\"Icome Q1\",\"x\":[\"2015 Q1\",\"2015 Q3\",\"2016 Q1\",\"2016 Q3\",\"2017 Q1\",\"2017 Q3\",\"2018 Q1\",\"2018 Q3\",\"2019 Q1\",\"2019 Q3\",\"2020 Q1\",\"2020 Q3\",\"2021 Q1\",\"2021 Q3\",\"2022 Q1\",\"2022 Q3\",\"2023 Q1\",\"2023 Q3\",\"2024 Q1\",\"2024 Q3\",\"2025 Q1\",\"2025 Q3\",\"2026 Q1\",\"2026 Q3\",\"2027 Q1\",\"2027 Q3\",\"2028 Q1\",\"2028 Q3\",\"2029 Q1\",\"2029 Q3\",\"2030 Q1\",\"2030 Q3\"],\"y\":[6403.0,6413.5,6413.5,6427.0,6496.0,6496.0,6497.0,6497.0,6503.75,6503.75,6559.75,6555.25,6657.5,6657.5,6674.0,6676.0,8092.5,8092.5,8090.0,8547.0,11098.0,11157.25,8837.25,8837.25,8828.5,8866.25,8543.0,8566.0,8566.0,8566.0,8566.0,8566.0],\"type\":\"scatter\"},{\"legendgroup\":\"Staying\",\"legendgrouptitle\":{\"text\":\"Staying\"},\"line\":{\"color\":\"firebrick\",\"width\":3},\"mode\":\"lines\",\"name\":\"Income Q2\",\"x\":[\"2015 Q1\",\"2015 Q3\",\"2016 Q1\",\"2016 Q3\",\"2017 Q1\",\"2017 Q3\",\"2018 Q1\",\"2018 Q3\",\"2019 Q1\",\"2019 Q3\",\"2020 Q1\",\"2020 Q3\",\"2021 Q1\",\"2021 Q3\",\"2022 Q1\",\"2022 Q3\",\"2023 Q1\",\"2023 Q3\",\"2024 Q1\",\"2024 Q3\",\"2025 Q1\",\"2025 Q3\",\"2026 Q1\",\"2026 Q3\",\"2027 Q1\",\"2027 Q3\",\"2028 Q1\",\"2028 Q3\",\"2029 Q1\",\"2029 Q3\",\"2030 Q1\",\"2030 Q3\"],\"y\":[8771.0,8804.0,8804.0,8833.5,8934.5,8934.5,8933.0,8933.0,8965.0,8965.0,9029.5,8934.5,8950.0,8856.5,8932.0,8930.0,10995.0,10995.0,10995.0,11499.5,12540.0,12568.0,11536.0,11536.0,11557.0,11666.0,11512.0,11515.0,11515.0,11515.0,11515.0,11515.0],\"type\":\"scatter\"},{\"legendgroup\":\"Staying\",\"legendgrouptitle\":{\"text\":\"Staying\"},\"line\":{\"color\":\"firebrick\",\"width\":4},\"mode\":\"lines\",\"name\":\"Income Q3\",\"x\":[\"2015 Q1\",\"2015 Q3\",\"2016 Q1\",\"2016 Q3\",\"2017 Q1\",\"2017 Q3\",\"2018 Q1\",\"2018 Q3\",\"2019 Q1\",\"2019 Q3\",\"2020 Q1\",\"2020 Q3\",\"2021 Q1\",\"2021 Q3\",\"2022 Q1\",\"2022 Q3\",\"2023 Q1\",\"2023 Q3\",\"2024 Q1\",\"2024 Q3\",\"2025 Q1\",\"2025 Q3\",\"2026 Q1\",\"2026 Q3\",\"2027 Q1\",\"2027 Q3\",\"2028 Q1\",\"2028 Q3\",\"2029 Q1\",\"2029 Q3\",\"2030 Q1\",\"2030 Q3\"],\"y\":[11667.0,11669.0,11669.0,11729.75,11806.25,11806.25,11867.5,11867.5,11886.75,11886.75,11914.5,11853.0,11787.75,11670.0,11741.5,11698.5,13069.5,13069.5,13071.0,13281.0,13866.0,13809.0,13119.25,13119.25,13255.5,13425.5,13356.0,13384.0,13384.0,13384.0,13384.0,13384.0],\"type\":\"scatter\"}],                        {\"template\":{\"data\":{\"barpolar\":[{\"marker\":{\"line\":{\"color\":\"white\",\"width\":0.5},\"pattern\":{\"fillmode\":\"overlay\",\"size\":10,\"solidity\":0.2}},\"type\":\"barpolar\"}],\"bar\":[{\"error_x\":{\"color\":\"#2a3f5f\"},\"error_y\":{\"color\":\"#2a3f5f\"},\"marker\":{\"line\":{\"color\":\"white\",\"width\":0.5},\"pattern\":{\"fillmode\":\"overlay\",\"size\":10,\"solidity\":0.2}},\"type\":\"bar\"}],\"carpet\":[{\"aaxis\":{\"endlinecolor\":\"#2a3f5f\",\"gridcolor\":\"#C8D4E3\",\"linecolor\":\"#C8D4E3\",\"minorgridcolor\":\"#C8D4E3\",\"startlinecolor\":\"#2a3f5f\"},\"baxis\":{\"endlinecolor\":\"#2a3f5f\",\"gridcolor\":\"#C8D4E3\",\"linecolor\":\"#C8D4E3\",\"minorgridcolor\":\"#C8D4E3\",\"startlinecolor\":\"#2a3f5f\"},\"type\":\"carpet\"}],\"choropleth\":[{\"colorbar\":{\"outlinewidth\":0,\"ticks\":\"\"},\"type\":\"choropleth\"}],\"contourcarpet\":[{\"colorbar\":{\"outlinewidth\":0,\"ticks\":\"\"},\"type\":\"contourcarpet\"}],\"contour\":[{\"colorbar\":{\"outlinewidth\":0,\"ticks\":\"\"},\"colorscale\":[[0.0,\"#0d0887\"],[0.1111111111111111,\"#46039f\"],[0.2222222222222222,\"#7201a8\"],[0.3333333333333333,\"#9c179e\"],[0.4444444444444444,\"#bd3786\"],[0.5555555555555556,\"#d8576b\"],[0.6666666666666666,\"#ed7953\"],[0.7777777777777778,\"#fb9f3a\"],[0.8888888888888888,\"#fdca26\"],[1.0,\"#f0f921\"]],\"type\":\"contour\"}],\"heatmapgl\":[{\"colorbar\":{\"outlinewidth\":0,\"ticks\":\"\"},\"colorscale\":[[0.0,\"#0d0887\"],[0.1111111111111111,\"#46039f\"],[0.2222222222222222,\"#7201a8\"],[0.3333333333333333,\"#9c179e\"],[0.4444444444444444,\"#bd3786\"],[0.5555555555555556,\"#d8576b\"],[0.6666666666666666,\"#ed7953\"],[0.7777777777777778,\"#fb9f3a\"],[0.8888888888888888,\"#fdca26\"],[1.0,\"#f0f921\"]],\"type\":\"heatmapgl\"}],\"heatmap\":[{\"colorbar\":{\"outlinewidth\":0,\"ticks\":\"\"},\"colorscale\":[[0.0,\"#0d0887\"],[0.1111111111111111,\"#46039f\"],[0.2222222222222222,\"#7201a8\"],[0.3333333333333333,\"#9c179e\"],[0.4444444444444444,\"#bd3786\"],[0.5555555555555556,\"#d8576b\"],[0.6666666666666666,\"#ed7953\"],[0.7777777777777778,\"#fb9f3a\"],[0.8888888888888888,\"#fdca26\"],[1.0,\"#f0f921\"]],\"type\":\"heatmap\"}],\"histogram2dcontour\":[{\"colorbar\":{\"outlinewidth\":0,\"ticks\":\"\"},\"colorscale\":[[0.0,\"#0d0887\"],[0.1111111111111111,\"#46039f\"],[0.2222222222222222,\"#7201a8\"],[0.3333333333333333,\"#9c179e\"],[0.4444444444444444,\"#bd3786\"],[0.5555555555555556,\"#d8576b\"],[0.6666666666666666,\"#ed7953\"],[0.7777777777777778,\"#fb9f3a\"],[0.8888888888888888,\"#fdca26\"],[1.0,\"#f0f921\"]],\"type\":\"histogram2dcontour\"}],\"histogram2d\":[{\"colorbar\":{\"outlinewidth\":0,\"ticks\":\"\"},\"colorscale\":[[0.0,\"#0d0887\"],[0.1111111111111111,\"#46039f\"],[0.2222222222222222,\"#7201a8\"],[0.3333333333333333,\"#9c179e\"],[0.4444444444444444,\"#bd3786\"],[0.5555555555555556,\"#d8576b\"],[0.6666666666666666,\"#ed7953\"],[0.7777777777777778,\"#fb9f3a\"],[0.8888888888888888,\"#fdca26\"],[1.0,\"#f0f921\"]],\"type\":\"histogram2d\"}],\"histogram\":[{\"marker\":{\"pattern\":{\"fillmode\":\"overlay\",\"size\":10,\"solidity\":0.2}},\"type\":\"histogram\"}],\"mesh3d\":[{\"colorbar\":{\"outlinewidth\":0,\"ticks\":\"\"},\"type\":\"mesh3d\"}],\"parcoords\":[{\"line\":{\"colorbar\":{\"outlinewidth\":0,\"ticks\":\"\"}},\"type\":\"parcoords\"}],\"pie\":[{\"automargin\":true,\"type\":\"pie\"}],\"scatter3d\":[{\"line\":{\"colorbar\":{\"outlinewidth\":0,\"ticks\":\"\"}},\"marker\":{\"colorbar\":{\"outlinewidth\":0,\"ticks\":\"\"}},\"type\":\"scatter3d\"}],\"scattercarpet\":[{\"marker\":{\"colorbar\":{\"outlinewidth\":0,\"ticks\":\"\"}},\"type\":\"scattercarpet\"}],\"scattergeo\":[{\"marker\":{\"colorbar\":{\"outlinewidth\":0,\"ticks\":\"\"}},\"type\":\"scattergeo\"}],\"scattergl\":[{\"marker\":{\"colorbar\":{\"outlinewidth\":0,\"ticks\":\"\"}},\"type\":\"scattergl\"}],\"scattermapbox\":[{\"marker\":{\"colorbar\":{\"outlinewidth\":0,\"ticks\":\"\"}},\"type\":\"scattermapbox\"}],\"scatterpolargl\":[{\"marker\":{\"colorbar\":{\"outlinewidth\":0,\"ticks\":\"\"}},\"type\":\"scatterpolargl\"}],\"scatterpolar\":[{\"marker\":{\"colorbar\":{\"outlinewidth\":0,\"ticks\":\"\"}},\"type\":\"scatterpolar\"}],\"scatter\":[{\"marker\":{\"colorbar\":{\"outlinewidth\":0,\"ticks\":\"\"}},\"type\":\"scatter\"}],\"scatterternary\":[{\"marker\":{\"colorbar\":{\"outlinewidth\":0,\"ticks\":\"\"}},\"type\":\"scatterternary\"}],\"surface\":[{\"colorbar\":{\"outlinewidth\":0,\"ticks\":\"\"},\"colorscale\":[[0.0,\"#0d0887\"],[0.1111111111111111,\"#46039f\"],[0.2222222222222222,\"#7201a8\"],[0.3333333333333333,\"#9c179e\"],[0.4444444444444444,\"#bd3786\"],[0.5555555555555556,\"#d8576b\"],[0.6666666666666666,\"#ed7953\"],[0.7777777777777778,\"#fb9f3a\"],[0.8888888888888888,\"#fdca26\"],[1.0,\"#f0f921\"]],\"type\":\"surface\"}],\"table\":[{\"cells\":{\"fill\":{\"color\":\"#EBF0F8\"},\"line\":{\"color\":\"white\"}},\"header\":{\"fill\":{\"color\":\"#C8D4E3\"},\"line\":{\"color\":\"white\"}},\"type\":\"table\"}]},\"layout\":{\"annotationdefaults\":{\"arrowcolor\":\"#2a3f5f\",\"arrowhead\":0,\"arrowwidth\":1},\"autotypenumbers\":\"strict\",\"coloraxis\":{\"colorbar\":{\"outlinewidth\":0,\"ticks\":\"\"}},\"colorscale\":{\"diverging\":[[0,\"#8e0152\"],[0.1,\"#c51b7d\"],[0.2,\"#de77ae\"],[0.3,\"#f1b6da\"],[0.4,\"#fde0ef\"],[0.5,\"#f7f7f7\"],[0.6,\"#e6f5d0\"],[0.7,\"#b8e186\"],[0.8,\"#7fbc41\"],[0.9,\"#4d9221\"],[1,\"#276419\"]],\"sequential\":[[0.0,\"#0d0887\"],[0.1111111111111111,\"#46039f\"],[0.2222222222222222,\"#7201a8\"],[0.3333333333333333,\"#9c179e\"],[0.4444444444444444,\"#bd3786\"],[0.5555555555555556,\"#d8576b\"],[0.6666666666666666,\"#ed7953\"],[0.7777777777777778,\"#fb9f3a\"],[0.8888888888888888,\"#fdca26\"],[1.0,\"#f0f921\"]],\"sequentialminus\":[[0.0,\"#0d0887\"],[0.1111111111111111,\"#46039f\"],[0.2222222222222222,\"#7201a8\"],[0.3333333333333333,\"#9c179e\"],[0.4444444444444444,\"#bd3786\"],[0.5555555555555556,\"#d8576b\"],[0.6666666666666666,\"#ed7953\"],[0.7777777777777778,\"#fb9f3a\"],[0.8888888888888888,\"#fdca26\"],[1.0,\"#f0f921\"]]},\"colorway\":[\"#636efa\",\"#EF553B\",\"#00cc96\",\"#ab63fa\",\"#FFA15A\",\"#19d3f3\",\"#FF6692\",\"#B6E880\",\"#FF97FF\",\"#FECB52\"],\"font\":{\"color\":\"#2a3f5f\"},\"geo\":{\"bgcolor\":\"white\",\"lakecolor\":\"white\",\"landcolor\":\"white\",\"showlakes\":true,\"showland\":true,\"subunitcolor\":\"#C8D4E3\"},\"hoverlabel\":{\"align\":\"left\"},\"hovermode\":\"closest\",\"mapbox\":{\"style\":\"light\"},\"paper_bgcolor\":\"white\",\"plot_bgcolor\":\"white\",\"polar\":{\"angularaxis\":{\"gridcolor\":\"#EBF0F8\",\"linecolor\":\"#EBF0F8\",\"ticks\":\"\"},\"bgcolor\":\"white\",\"radialaxis\":{\"gridcolor\":\"#EBF0F8\",\"linecolor\":\"#EBF0F8\",\"ticks\":\"\"}},\"scene\":{\"xaxis\":{\"backgroundcolor\":\"white\",\"gridcolor\":\"#DFE8F3\",\"gridwidth\":2,\"linecolor\":\"#EBF0F8\",\"showbackground\":true,\"ticks\":\"\",\"zerolinecolor\":\"#EBF0F8\"},\"yaxis\":{\"backgroundcolor\":\"white\",\"gridcolor\":\"#DFE8F3\",\"gridwidth\":2,\"linecolor\":\"#EBF0F8\",\"showbackground\":true,\"ticks\":\"\",\"zerolinecolor\":\"#EBF0F8\"},\"zaxis\":{\"backgroundcolor\":\"white\",\"gridcolor\":\"#DFE8F3\",\"gridwidth\":2,\"linecolor\":\"#EBF0F8\",\"showbackground\":true,\"ticks\":\"\",\"zerolinecolor\":\"#EBF0F8\"}},\"shapedefaults\":{\"line\":{\"color\":\"#2a3f5f\"}},\"ternary\":{\"aaxis\":{\"gridcolor\":\"#DFE8F3\",\"linecolor\":\"#A2B1C6\",\"ticks\":\"\"},\"baxis\":{\"gridcolor\":\"#DFE8F3\",\"linecolor\":\"#A2B1C6\",\"ticks\":\"\"},\"bgcolor\":\"white\",\"caxis\":{\"gridcolor\":\"#DFE8F3\",\"linecolor\":\"#A2B1C6\",\"ticks\":\"\"}},\"title\":{\"x\":0.05},\"xaxis\":{\"automargin\":true,\"gridcolor\":\"#EBF0F8\",\"linecolor\":\"#EBF0F8\",\"ticks\":\"\",\"title\":{\"standoff\":15},\"zerolinecolor\":\"#EBF0F8\",\"zerolinewidth\":2},\"yaxis\":{\"automargin\":true,\"gridcolor\":\"#EBF0F8\",\"linecolor\":\"#EBF0F8\",\"ticks\":\"\",\"title\":{\"standoff\":15},\"zerolinecolor\":\"#EBF0F8\",\"zerolinewidth\":2}}},\"title\":{\"text\":\"Income (q1-q3) of olderst person at household\"},\"yaxis\":{\"title\":{\"text\":\"Inocme (New Israeli Shekels)\"}}},                        {\"responsive\": true}                    ).then(function(){\n",
              "                            \n",
              "var gd = document.getElementById('ade99147-2327-491e-ac28-4da4745669e3');\n",
              "var x = new MutationObserver(function (mutations, observer) {{\n",
              "        var display = window.getComputedStyle(gd).display;\n",
              "        if (!display || display === 'none') {{\n",
              "            console.log([gd, 'removed!']);\n",
              "            Plotly.purge(gd);\n",
              "            observer.disconnect();\n",
              "        }}\n",
              "}});\n",
              "\n",
              "// Listen for the removal of the full notebook cells\n",
              "var notebookContainer = gd.closest('#notebook-container');\n",
              "if (notebookContainer) {{\n",
              "    x.observe(notebookContainer, {childList: true});\n",
              "}}\n",
              "\n",
              "// Listen for the clearing of the current output cell\n",
              "var outputEl = gd.closest('.output');\n",
              "if (outputEl) {{\n",
              "    x.observe(outputEl, {childList: true});\n",
              "}}\n",
              "\n",
              "                        })                };                            </script>        </div>\n",
              "</body>\n",
              "</html>"
            ]
          },
          "metadata": {}
        }
      ]
    },
    {
      "cell_type": "code",
      "source": [
        ""
      ],
      "metadata": {
        "id": "Wy8G0AMF7C5r"
      },
      "execution_count": null,
      "outputs": []
    },
    {
      "cell_type": "code",
      "source": [
        ""
      ],
      "metadata": {
        "id": "VcO7JaYt64Zb"
      },
      "execution_count": null,
      "outputs": []
    },
    {
      "cell_type": "code",
      "source": [
        ""
      ],
      "metadata": {
        "id": "DHHJ_zRl63CS"
      },
      "execution_count": null,
      "outputs": []
    },
    {
      "cell_type": "code",
      "source": [
        ""
      ],
      "metadata": {
        "id": "hSD82YhL60yR"
      },
      "execution_count": null,
      "outputs": []
    },
    {
      "cell_type": "code",
      "source": [
        ""
      ],
      "metadata": {
        "id": "MNvP3M7b6yvI"
      },
      "execution_count": null,
      "outputs": []
    },
    {
      "cell_type": "code",
      "source": [
        ""
      ],
      "metadata": {
        "id": "oDMFM_ld6wA0"
      },
      "execution_count": null,
      "outputs": []
    },
    {
      "cell_type": "code",
      "source": [
        ""
      ],
      "metadata": {
        "id": "wm7tW1uq6umB"
      },
      "execution_count": null,
      "outputs": []
    },
    {
      "cell_type": "code",
      "source": [
        ""
      ],
      "metadata": {
        "id": "FDed8XO16BkD"
      },
      "execution_count": null,
      "outputs": []
    },
    {
      "cell_type": "markdown",
      "source": [
        "Their is a lot of ownown regrading how the population will look like because this is a complex matter"
      ],
      "metadata": {
        "id": "359JgYsb0hxZ"
      }
    },
    {
      "cell_type": "code",
      "source": [
        "\n",
        "agents_stat_summary_by_year['New Comers'] = agents_stat_summary_by_year['New Comers_income_low'] + agents_stat_summary_by_year['New Comers_income_medium'] +  + agents_stat_summary_by_year['New Comers_income_high']\n",
        "agents_stat_summary_by_year['stay'] = agents_stat_summary_by_year['stay_income_low'] + agents_stat_summary_by_year['stay_income_medium'] +  + agents_stat_summary_by_year['stay_income_high']\n",
        "agents_stat_summary_by_year['total_pop'] = agents_stat_summary_by_year['New Comers'] + agents_stat_summary_by_year['stay']\n",
        "agents_stat_summary_by_year['New Comers_income_low_ratio'] = agents_stat_summary_by_year['New Comers_income_low']/agents_stat_summary_by_year['total_pop']\n",
        "agents_stat_summary_by_year['New Comers_income_medium_ratio'] = agents_stat_summary_by_year['New Comers_income_medium']/agents_stat_summary_by_year['total_pop']\n",
        "agents_stat_summary_by_year['New Comers_income_high_ratio'] = agents_stat_summary_by_year['New Comers_income_high']/agents_stat_summary_by_year['total_pop']\n",
        "\n",
        "agents_stat_summary_by_year['stay_income_low_ratio'] = agents_stat_summary_by_year['stay_income_low']/agents_stat_summary_by_year['total_pop']\n",
        "agents_stat_summary_by_year['stay_income_medium_ratio'] = agents_stat_summary_by_year['stay_income_medium']/agents_stat_summary_by_year['total_pop']\n",
        "agents_stat_summary_by_year['stay_income_high_ratio'] = agents_stat_summary_by_year['stay_income_high']/agents_stat_summary_by_year['total_pop']\n"
      ],
      "metadata": {
        "id": "eWFLNhpH4InE"
      },
      "execution_count": null,
      "outputs": []
    },
    {
      "cell_type": "code",
      "source": [
        ""
      ],
      "metadata": {
        "id": "7NOkJM-b4iWq"
      },
      "execution_count": null,
      "outputs": []
    },
    {
      "cell_type": "code",
      "source": [
        "#fig = px.line(agents_stat_summary_by_year, x=\"year\"})\n",
        "import plotly.graph_objects as go\n",
        "\n",
        "fig = go.Figure()\n",
        "\n",
        "\n",
        "fig.add_trace(go.Scatter(\n",
        "    x=year_ranges,\n",
        "    y=agents_stat_summary_by_year['New Comers_income_low_ratio'],\n",
        "    legendgroup=\"New Comers\",  # this can be any string, not just \"group\"\n",
        "    legendgrouptitle_text=\"New Comers\",\n",
        "    name=\"Low Inocme\",\n",
        "    mode=\"lines\",\n",
        "    line=dict(color='royalblue', width=1)\n",
        "))\n",
        "\n",
        "\n",
        "fig.add_trace(go.Scatter(\n",
        "    x=year_ranges,\n",
        "    y=agents_stat_summary_by_year['New Comers_income_medium_ratio'],\n",
        "    legendgroup=\"New Comers\",  # this can be any string, not just \"group\"\n",
        "    legendgrouptitle_text=\"New Comers\",\n",
        "    name=\"Medium Income\",\n",
        "    mode=\"lines\",\n",
        "    line=dict(color='royalblue', width=3)\n",
        "))\n",
        "\n",
        "fig.add_trace(go.Scatter(\n",
        "    x=year_ranges,\n",
        "    y=agents_stat_summary_by_year['New Comers_income_high_ratio'],\n",
        "    legendgroup=\"New Comers\",  # this can be any string, not just \"group\"\n",
        "    legendgrouptitle_text=\"New Comers\",\n",
        "    name=\"High Income\",\n",
        "    mode=\"lines\",\n",
        "    line=dict(color='royalblue', width=5)\n",
        "))\n",
        "\n",
        "\n",
        "fig.add_trace(go.Scatter(\n",
        "    x=year_ranges,\n",
        "    y=agents_stat_summary_by_year['stay_income_low_ratio'],\n",
        "    legendgroup=\"Staying\",  # this can be any string, not just \"group\"\n",
        "    legendgrouptitle_text=\"Staying\",\n",
        "    name=\"Renters\",\n",
        "    mode=\"lines\",\n",
        "    line=dict(color='firebrick', width=1)\n",
        "))\n",
        "\n",
        "\n",
        "fig.add_trace(go.Scatter(\n",
        "    x=year_ranges,\n",
        "    y=agents_stat_summary_by_year['stay_income_medium_ratio'],\n",
        "    legendgroup=\"Staying\",  # this can be any string, not just \"group\"\n",
        "    legendgrouptitle_text=\"Staying\",\n",
        "    name=\"Medium\",\n",
        "    mode=\"lines\",\n",
        "    line=dict(color='firebrick', width=3)\n",
        "))\n",
        "\n",
        "\n",
        "fig.add_trace(go.Scatter(\n",
        "    x=year_ranges,\n",
        "    y=agents_stat_summary_by_year['stay_income_high_ratio'],\n",
        "    legendgroup=\"Staying\",  # this can be any string, not just \"group\"\n",
        "    legendgrouptitle_text=\"Staying\",\n",
        "    name=\"High\",\n",
        "    mode=\"lines\",\n",
        "    line=dict(color='firebrick', width=5)\n",
        "))\n",
        "\n",
        "\n",
        "fig.update_layout(title=\"Income by class\",template='plotly_white',yaxis = {'title' : \"ratio\"})\n",
        "\n",
        "fig.show()\n",
        "\n",
        "# set range"
      ],
      "metadata": {
        "colab": {
          "base_uri": "https://localhost:8080/",
          "height": 542
        },
        "id": "GMZYtx4L0cQG",
        "outputId": "bd8edd32-973c-4b74-e7b0-b4fe1c776a40"
      },
      "execution_count": null,
      "outputs": [
        {
          "output_type": "display_data",
          "data": {
            "text/html": [
              "<html>\n",
              "<head><meta charset=\"utf-8\" /></head>\n",
              "<body>\n",
              "    <div>            <script src=\"https://cdnjs.cloudflare.com/ajax/libs/mathjax/2.7.5/MathJax.js?config=TeX-AMS-MML_SVG\"></script><script type=\"text/javascript\">if (window.MathJax) {MathJax.Hub.Config({SVG: {font: \"STIX-Web\"}});}</script>                <script type=\"text/javascript\">window.PlotlyConfig = {MathJaxConfig: 'local'};</script>\n",
              "        <script src=\"https://cdn.plot.ly/plotly-2.8.3.min.js\"></script>                <div id=\"679cbbca-519f-4037-a577-62b34eddbc6e\" class=\"plotly-graph-div\" style=\"height:525px; width:100%;\"></div>            <script type=\"text/javascript\">                                    window.PLOTLYENV=window.PLOTLYENV || {};                                    if (document.getElementById(\"679cbbca-519f-4037-a577-62b34eddbc6e\")) {                    Plotly.newPlot(                        \"679cbbca-519f-4037-a577-62b34eddbc6e\",                        [{\"legendgroup\":\"New Comers\",\"legendgrouptitle\":{\"text\":\"New Comers\"},\"line\":{\"color\":\"royalblue\",\"width\":1},\"mode\":\"lines\",\"name\":\"Low Inocme\",\"x\":[\"2015 Q1\",\"2015 Q3\",\"2016 Q1\",\"2016 Q3\",\"2017 Q1\",\"2017 Q3\",\"2018 Q1\",\"2018 Q3\",\"2019 Q1\",\"2019 Q3\",\"2020 Q1\",\"2020 Q3\",\"2021 Q1\",\"2021 Q3\",\"2022 Q1\",\"2022 Q3\",\"2023 Q1\",\"2023 Q3\",\"2024 Q1\",\"2024 Q3\",\"2025 Q1\",\"2025 Q3\",\"2026 Q1\",\"2026 Q3\",\"2027 Q1\",\"2027 Q3\",\"2028 Q1\",\"2028 Q3\",\"2029 Q1\",\"2029 Q3\",\"2030 Q1\",\"2030 Q3\"],\"y\":[null,null,null,null,0.0,0.0,0.0,0.0,0.0,0.0,0.0,0.0,0.0,0.0,0.0,0.0,0.0,0.0,0.0,0.0,0.0,0.0,0.0,0.0,0.0,0.0,0.0,0.0,0.0,0.0,0.0,0.0],\"type\":\"scatter\"},{\"legendgroup\":\"New Comers\",\"legendgrouptitle\":{\"text\":\"New Comers\"},\"line\":{\"color\":\"royalblue\",\"width\":3},\"mode\":\"lines\",\"name\":\"Medium Income\",\"x\":[\"2015 Q1\",\"2015 Q3\",\"2016 Q1\",\"2016 Q3\",\"2017 Q1\",\"2017 Q3\",\"2018 Q1\",\"2018 Q3\",\"2019 Q1\",\"2019 Q3\",\"2020 Q1\",\"2020 Q3\",\"2021 Q1\",\"2021 Q3\",\"2022 Q1\",\"2022 Q3\",\"2023 Q1\",\"2023 Q3\",\"2024 Q1\",\"2024 Q3\",\"2025 Q1\",\"2025 Q3\",\"2026 Q1\",\"2026 Q3\",\"2027 Q1\",\"2027 Q3\",\"2028 Q1\",\"2028 Q3\",\"2029 Q1\",\"2029 Q3\",\"2030 Q1\",\"2030 Q3\"],\"y\":[null,null,null,null,0.013301088270858524,0.013301088270858524,0.022753128555176336,0.07515030060120241,0.07149666348903717,0.07149666348903717,0.07700101317122594,0.0794148380355277,0.08826945412311266,0.14834578441835647,0.11506622516556292,0.11902897415818324,0.1437308868501529,0.1437308868501529,0.13544668587896252,0.130939226519337,0.12668743509865005,0.12728221178925403,0.09579897919120534,0.09579897919120534,0.08615819209039548,0.08237677245104659,0.07793840351979887,0.07626076260762607,0.07626076260762607,0.07626076260762607,0.07626076260762607,0.07626076260762607],\"type\":\"scatter\"},{\"legendgroup\":\"New Comers\",\"legendgrouptitle\":{\"text\":\"New Comers\"},\"line\":{\"color\":\"royalblue\",\"width\":5},\"mode\":\"lines\",\"name\":\"High Income\",\"x\":[\"2015 Q1\",\"2015 Q3\",\"2016 Q1\",\"2016 Q3\",\"2017 Q1\",\"2017 Q3\",\"2018 Q1\",\"2018 Q3\",\"2019 Q1\",\"2019 Q3\",\"2020 Q1\",\"2020 Q3\",\"2021 Q1\",\"2021 Q3\",\"2022 Q1\",\"2022 Q3\",\"2023 Q1\",\"2023 Q3\",\"2024 Q1\",\"2024 Q3\",\"2025 Q1\",\"2025 Q3\",\"2026 Q1\",\"2026 Q3\",\"2027 Q1\",\"2027 Q3\",\"2028 Q1\",\"2028 Q3\",\"2029 Q1\",\"2029 Q3\",\"2030 Q1\",\"2030 Q3\"],\"y\":[null,null,null,null,0.016928657799274487,0.016928657799274487,0.07281001137656427,0.1282565130260521,0.2001906577693041,0.2001906577693041,0.2502532928064843,0.258098223615465,0.2868757259001161,0.35005336179295626,0.4908940397350993,0.5309318715740016,0.690519877675841,0.690519877675841,0.7072046109510086,0.7651933701657458,0.8094496365524403,0.8132498695878978,0.839811542991755,0.839811542991755,0.8534604519774012,0.8582039162727887,0.8614079195474544,0.8637761377613776,0.8637761377613776,0.8637761377613776,0.8637761377613776,0.8637761377613776],\"type\":\"scatter\"},{\"legendgroup\":\"Staying\",\"legendgrouptitle\":{\"text\":\"Staying\"},\"line\":{\"color\":\"firebrick\",\"width\":1},\"mode\":\"lines\",\"name\":\"Renters\",\"x\":[\"2015 Q1\",\"2015 Q3\",\"2016 Q1\",\"2016 Q3\",\"2017 Q1\",\"2017 Q3\",\"2018 Q1\",\"2018 Q3\",\"2019 Q1\",\"2019 Q3\",\"2020 Q1\",\"2020 Q3\",\"2021 Q1\",\"2021 Q3\",\"2022 Q1\",\"2022 Q3\",\"2023 Q1\",\"2023 Q3\",\"2024 Q1\",\"2024 Q3\",\"2025 Q1\",\"2025 Q3\",\"2026 Q1\",\"2026 Q3\",\"2027 Q1\",\"2027 Q3\",\"2028 Q1\",\"2028 Q3\",\"2029 Q1\",\"2029 Q3\",\"2030 Q1\",\"2030 Q3\"],\"y\":[null,null,null,null,0.48972188633615477,0.48972188633615477,0.45733788395904434,0.4028056112224449,0.36606291706387034,0.36606291706387034,0.3353596757852077,0.3343782654127482,0.3147502903600465,0.25827107790821774,0.20033112582781457,0.1793265465935787,0.05137614678899083,0.05137614678899083,0.04899135446685879,0.03038674033149171,0.008826583592938734,0.007303077725612937,0.01963093835885355,0.01963093835885355,0.018361581920903956,0.017555705604321403,0.019798868636077938,0.01937269372693727,0.01937269372693727,0.01937269372693727,0.01937269372693727,0.01937269372693727],\"type\":\"scatter\"},{\"legendgroup\":\"Staying\",\"legendgrouptitle\":{\"text\":\"Staying\"},\"line\":{\"color\":\"firebrick\",\"width\":3},\"mode\":\"lines\",\"name\":\"Medium\",\"x\":[\"2015 Q1\",\"2015 Q3\",\"2016 Q1\",\"2016 Q3\",\"2017 Q1\",\"2017 Q3\",\"2018 Q1\",\"2018 Q3\",\"2019 Q1\",\"2019 Q3\",\"2020 Q1\",\"2020 Q3\",\"2021 Q1\",\"2021 Q3\",\"2022 Q1\",\"2022 Q3\",\"2023 Q1\",\"2023 Q3\",\"2024 Q1\",\"2024 Q3\",\"2025 Q1\",\"2025 Q3\",\"2026 Q1\",\"2026 Q3\",\"2027 Q1\",\"2027 Q3\",\"2028 Q1\",\"2028 Q3\",\"2029 Q1\",\"2029 Q3\",\"2030 Q1\",\"2030 Q3\"],\"y\":[null,null,null,null,0.4800483675937122,0.4800483675937122,0.447098976109215,0.3937875751503006,0.3622497616777884,0.3622497616777884,0.3373860182370821,0.3281086729362591,0.31010452961672474,0.24332977588046958,0.19370860927152317,0.1707126076742365,0.11437308868501529,0.11437308868501529,0.10835734870317003,0.07348066298342541,0.055036344755970926,0.05216484089723526,0.0447585394581861,0.0447585394581861,0.042019774011299436,0.04186360567184335,0.04085480829666876,0.04059040590405904,0.04059040590405904,0.04059040590405904,0.04059040590405904,0.04059040590405904],\"type\":\"scatter\"},{\"legendgroup\":\"Staying\",\"legendgrouptitle\":{\"text\":\"Staying\"},\"line\":{\"color\":\"firebrick\",\"width\":5},\"mode\":\"lines\",\"name\":\"High\",\"x\":[\"2015 Q1\",\"2015 Q3\",\"2016 Q1\",\"2016 Q3\",\"2017 Q1\",\"2017 Q3\",\"2018 Q1\",\"2018 Q3\",\"2019 Q1\",\"2019 Q3\",\"2020 Q1\",\"2020 Q3\",\"2021 Q1\",\"2021 Q3\",\"2022 Q1\",\"2022 Q3\",\"2023 Q1\",\"2023 Q3\",\"2024 Q1\",\"2024 Q3\",\"2025 Q1\",\"2025 Q3\",\"2026 Q1\",\"2026 Q3\",\"2027 Q1\",\"2027 Q3\",\"2028 Q1\",\"2028 Q3\",\"2029 Q1\",\"2029 Q3\",\"2030 Q1\",\"2030 Q3\"],\"y\":[null,null,null,null,0.0,0.0,0.0,0.0,0.0,0.0,0.0,0.0,0.0,0.0,0.0,0.0,0.0,0.0,0.0,0.0,0.0,0.0,0.0,0.0,0.0,0.0,0.0,0.0,0.0,0.0,0.0,0.0],\"type\":\"scatter\"}],                        {\"template\":{\"data\":{\"barpolar\":[{\"marker\":{\"line\":{\"color\":\"white\",\"width\":0.5},\"pattern\":{\"fillmode\":\"overlay\",\"size\":10,\"solidity\":0.2}},\"type\":\"barpolar\"}],\"bar\":[{\"error_x\":{\"color\":\"#2a3f5f\"},\"error_y\":{\"color\":\"#2a3f5f\"},\"marker\":{\"line\":{\"color\":\"white\",\"width\":0.5},\"pattern\":{\"fillmode\":\"overlay\",\"size\":10,\"solidity\":0.2}},\"type\":\"bar\"}],\"carpet\":[{\"aaxis\":{\"endlinecolor\":\"#2a3f5f\",\"gridcolor\":\"#C8D4E3\",\"linecolor\":\"#C8D4E3\",\"minorgridcolor\":\"#C8D4E3\",\"startlinecolor\":\"#2a3f5f\"},\"baxis\":{\"endlinecolor\":\"#2a3f5f\",\"gridcolor\":\"#C8D4E3\",\"linecolor\":\"#C8D4E3\",\"minorgridcolor\":\"#C8D4E3\",\"startlinecolor\":\"#2a3f5f\"},\"type\":\"carpet\"}],\"choropleth\":[{\"colorbar\":{\"outlinewidth\":0,\"ticks\":\"\"},\"type\":\"choropleth\"}],\"contourcarpet\":[{\"colorbar\":{\"outlinewidth\":0,\"ticks\":\"\"},\"type\":\"contourcarpet\"}],\"contour\":[{\"colorbar\":{\"outlinewidth\":0,\"ticks\":\"\"},\"colorscale\":[[0.0,\"#0d0887\"],[0.1111111111111111,\"#46039f\"],[0.2222222222222222,\"#7201a8\"],[0.3333333333333333,\"#9c179e\"],[0.4444444444444444,\"#bd3786\"],[0.5555555555555556,\"#d8576b\"],[0.6666666666666666,\"#ed7953\"],[0.7777777777777778,\"#fb9f3a\"],[0.8888888888888888,\"#fdca26\"],[1.0,\"#f0f921\"]],\"type\":\"contour\"}],\"heatmapgl\":[{\"colorbar\":{\"outlinewidth\":0,\"ticks\":\"\"},\"colorscale\":[[0.0,\"#0d0887\"],[0.1111111111111111,\"#46039f\"],[0.2222222222222222,\"#7201a8\"],[0.3333333333333333,\"#9c179e\"],[0.4444444444444444,\"#bd3786\"],[0.5555555555555556,\"#d8576b\"],[0.6666666666666666,\"#ed7953\"],[0.7777777777777778,\"#fb9f3a\"],[0.8888888888888888,\"#fdca26\"],[1.0,\"#f0f921\"]],\"type\":\"heatmapgl\"}],\"heatmap\":[{\"colorbar\":{\"outlinewidth\":0,\"ticks\":\"\"},\"colorscale\":[[0.0,\"#0d0887\"],[0.1111111111111111,\"#46039f\"],[0.2222222222222222,\"#7201a8\"],[0.3333333333333333,\"#9c179e\"],[0.4444444444444444,\"#bd3786\"],[0.5555555555555556,\"#d8576b\"],[0.6666666666666666,\"#ed7953\"],[0.7777777777777778,\"#fb9f3a\"],[0.8888888888888888,\"#fdca26\"],[1.0,\"#f0f921\"]],\"type\":\"heatmap\"}],\"histogram2dcontour\":[{\"colorbar\":{\"outlinewidth\":0,\"ticks\":\"\"},\"colorscale\":[[0.0,\"#0d0887\"],[0.1111111111111111,\"#46039f\"],[0.2222222222222222,\"#7201a8\"],[0.3333333333333333,\"#9c179e\"],[0.4444444444444444,\"#bd3786\"],[0.5555555555555556,\"#d8576b\"],[0.6666666666666666,\"#ed7953\"],[0.7777777777777778,\"#fb9f3a\"],[0.8888888888888888,\"#fdca26\"],[1.0,\"#f0f921\"]],\"type\":\"histogram2dcontour\"}],\"histogram2d\":[{\"colorbar\":{\"outlinewidth\":0,\"ticks\":\"\"},\"colorscale\":[[0.0,\"#0d0887\"],[0.1111111111111111,\"#46039f\"],[0.2222222222222222,\"#7201a8\"],[0.3333333333333333,\"#9c179e\"],[0.4444444444444444,\"#bd3786\"],[0.5555555555555556,\"#d8576b\"],[0.6666666666666666,\"#ed7953\"],[0.7777777777777778,\"#fb9f3a\"],[0.8888888888888888,\"#fdca26\"],[1.0,\"#f0f921\"]],\"type\":\"histogram2d\"}],\"histogram\":[{\"marker\":{\"pattern\":{\"fillmode\":\"overlay\",\"size\":10,\"solidity\":0.2}},\"type\":\"histogram\"}],\"mesh3d\":[{\"colorbar\":{\"outlinewidth\":0,\"ticks\":\"\"},\"type\":\"mesh3d\"}],\"parcoords\":[{\"line\":{\"colorbar\":{\"outlinewidth\":0,\"ticks\":\"\"}},\"type\":\"parcoords\"}],\"pie\":[{\"automargin\":true,\"type\":\"pie\"}],\"scatter3d\":[{\"line\":{\"colorbar\":{\"outlinewidth\":0,\"ticks\":\"\"}},\"marker\":{\"colorbar\":{\"outlinewidth\":0,\"ticks\":\"\"}},\"type\":\"scatter3d\"}],\"scattercarpet\":[{\"marker\":{\"colorbar\":{\"outlinewidth\":0,\"ticks\":\"\"}},\"type\":\"scattercarpet\"}],\"scattergeo\":[{\"marker\":{\"colorbar\":{\"outlinewidth\":0,\"ticks\":\"\"}},\"type\":\"scattergeo\"}],\"scattergl\":[{\"marker\":{\"colorbar\":{\"outlinewidth\":0,\"ticks\":\"\"}},\"type\":\"scattergl\"}],\"scattermapbox\":[{\"marker\":{\"colorbar\":{\"outlinewidth\":0,\"ticks\":\"\"}},\"type\":\"scattermapbox\"}],\"scatterpolargl\":[{\"marker\":{\"colorbar\":{\"outlinewidth\":0,\"ticks\":\"\"}},\"type\":\"scatterpolargl\"}],\"scatterpolar\":[{\"marker\":{\"colorbar\":{\"outlinewidth\":0,\"ticks\":\"\"}},\"type\":\"scatterpolar\"}],\"scatter\":[{\"marker\":{\"colorbar\":{\"outlinewidth\":0,\"ticks\":\"\"}},\"type\":\"scatter\"}],\"scatterternary\":[{\"marker\":{\"colorbar\":{\"outlinewidth\":0,\"ticks\":\"\"}},\"type\":\"scatterternary\"}],\"surface\":[{\"colorbar\":{\"outlinewidth\":0,\"ticks\":\"\"},\"colorscale\":[[0.0,\"#0d0887\"],[0.1111111111111111,\"#46039f\"],[0.2222222222222222,\"#7201a8\"],[0.3333333333333333,\"#9c179e\"],[0.4444444444444444,\"#bd3786\"],[0.5555555555555556,\"#d8576b\"],[0.6666666666666666,\"#ed7953\"],[0.7777777777777778,\"#fb9f3a\"],[0.8888888888888888,\"#fdca26\"],[1.0,\"#f0f921\"]],\"type\":\"surface\"}],\"table\":[{\"cells\":{\"fill\":{\"color\":\"#EBF0F8\"},\"line\":{\"color\":\"white\"}},\"header\":{\"fill\":{\"color\":\"#C8D4E3\"},\"line\":{\"color\":\"white\"}},\"type\":\"table\"}]},\"layout\":{\"annotationdefaults\":{\"arrowcolor\":\"#2a3f5f\",\"arrowhead\":0,\"arrowwidth\":1},\"autotypenumbers\":\"strict\",\"coloraxis\":{\"colorbar\":{\"outlinewidth\":0,\"ticks\":\"\"}},\"colorscale\":{\"diverging\":[[0,\"#8e0152\"],[0.1,\"#c51b7d\"],[0.2,\"#de77ae\"],[0.3,\"#f1b6da\"],[0.4,\"#fde0ef\"],[0.5,\"#f7f7f7\"],[0.6,\"#e6f5d0\"],[0.7,\"#b8e186\"],[0.8,\"#7fbc41\"],[0.9,\"#4d9221\"],[1,\"#276419\"]],\"sequential\":[[0.0,\"#0d0887\"],[0.1111111111111111,\"#46039f\"],[0.2222222222222222,\"#7201a8\"],[0.3333333333333333,\"#9c179e\"],[0.4444444444444444,\"#bd3786\"],[0.5555555555555556,\"#d8576b\"],[0.6666666666666666,\"#ed7953\"],[0.7777777777777778,\"#fb9f3a\"],[0.8888888888888888,\"#fdca26\"],[1.0,\"#f0f921\"]],\"sequentialminus\":[[0.0,\"#0d0887\"],[0.1111111111111111,\"#46039f\"],[0.2222222222222222,\"#7201a8\"],[0.3333333333333333,\"#9c179e\"],[0.4444444444444444,\"#bd3786\"],[0.5555555555555556,\"#d8576b\"],[0.6666666666666666,\"#ed7953\"],[0.7777777777777778,\"#fb9f3a\"],[0.8888888888888888,\"#fdca26\"],[1.0,\"#f0f921\"]]},\"colorway\":[\"#636efa\",\"#EF553B\",\"#00cc96\",\"#ab63fa\",\"#FFA15A\",\"#19d3f3\",\"#FF6692\",\"#B6E880\",\"#FF97FF\",\"#FECB52\"],\"font\":{\"color\":\"#2a3f5f\"},\"geo\":{\"bgcolor\":\"white\",\"lakecolor\":\"white\",\"landcolor\":\"white\",\"showlakes\":true,\"showland\":true,\"subunitcolor\":\"#C8D4E3\"},\"hoverlabel\":{\"align\":\"left\"},\"hovermode\":\"closest\",\"mapbox\":{\"style\":\"light\"},\"paper_bgcolor\":\"white\",\"plot_bgcolor\":\"white\",\"polar\":{\"angularaxis\":{\"gridcolor\":\"#EBF0F8\",\"linecolor\":\"#EBF0F8\",\"ticks\":\"\"},\"bgcolor\":\"white\",\"radialaxis\":{\"gridcolor\":\"#EBF0F8\",\"linecolor\":\"#EBF0F8\",\"ticks\":\"\"}},\"scene\":{\"xaxis\":{\"backgroundcolor\":\"white\",\"gridcolor\":\"#DFE8F3\",\"gridwidth\":2,\"linecolor\":\"#EBF0F8\",\"showbackground\":true,\"ticks\":\"\",\"zerolinecolor\":\"#EBF0F8\"},\"yaxis\":{\"backgroundcolor\":\"white\",\"gridcolor\":\"#DFE8F3\",\"gridwidth\":2,\"linecolor\":\"#EBF0F8\",\"showbackground\":true,\"ticks\":\"\",\"zerolinecolor\":\"#EBF0F8\"},\"zaxis\":{\"backgroundcolor\":\"white\",\"gridcolor\":\"#DFE8F3\",\"gridwidth\":2,\"linecolor\":\"#EBF0F8\",\"showbackground\":true,\"ticks\":\"\",\"zerolinecolor\":\"#EBF0F8\"}},\"shapedefaults\":{\"line\":{\"color\":\"#2a3f5f\"}},\"ternary\":{\"aaxis\":{\"gridcolor\":\"#DFE8F3\",\"linecolor\":\"#A2B1C6\",\"ticks\":\"\"},\"baxis\":{\"gridcolor\":\"#DFE8F3\",\"linecolor\":\"#A2B1C6\",\"ticks\":\"\"},\"bgcolor\":\"white\",\"caxis\":{\"gridcolor\":\"#DFE8F3\",\"linecolor\":\"#A2B1C6\",\"ticks\":\"\"}},\"title\":{\"x\":0.05},\"xaxis\":{\"automargin\":true,\"gridcolor\":\"#EBF0F8\",\"linecolor\":\"#EBF0F8\",\"ticks\":\"\",\"title\":{\"standoff\":15},\"zerolinecolor\":\"#EBF0F8\",\"zerolinewidth\":2},\"yaxis\":{\"automargin\":true,\"gridcolor\":\"#EBF0F8\",\"linecolor\":\"#EBF0F8\",\"ticks\":\"\",\"title\":{\"standoff\":15},\"zerolinecolor\":\"#EBF0F8\",\"zerolinewidth\":2}}},\"title\":{\"text\":\"Income by class\"},\"yaxis\":{\"title\":{\"text\":\"ratio\"}}},                        {\"responsive\": true}                    ).then(function(){\n",
              "                            \n",
              "var gd = document.getElementById('679cbbca-519f-4037-a577-62b34eddbc6e');\n",
              "var x = new MutationObserver(function (mutations, observer) {{\n",
              "        var display = window.getComputedStyle(gd).display;\n",
              "        if (!display || display === 'none') {{\n",
              "            console.log([gd, 'removed!']);\n",
              "            Plotly.purge(gd);\n",
              "            observer.disconnect();\n",
              "        }}\n",
              "}});\n",
              "\n",
              "// Listen for the removal of the full notebook cells\n",
              "var notebookContainer = gd.closest('#notebook-container');\n",
              "if (notebookContainer) {{\n",
              "    x.observe(notebookContainer, {childList: true});\n",
              "}}\n",
              "\n",
              "// Listen for the clearing of the current output cell\n",
              "var outputEl = gd.closest('.output');\n",
              "if (outputEl) {{\n",
              "    x.observe(outputEl, {childList: true});\n",
              "}}\n",
              "\n",
              "                        })                };                            </script>        </div>\n",
              "</body>\n",
              "</html>"
            ]
          },
          "metadata": {}
        }
      ]
    },
    {
      "cell_type": "code",
      "source": [
        ""
      ],
      "metadata": {
        "id": "LrTVKBk2G1EX"
      },
      "execution_count": null,
      "outputs": []
    },
    {
      "cell_type": "code",
      "source": [
        "graph"
      ],
      "metadata": {
        "colab": {
          "base_uri": "https://localhost:8080/",
          "height": 367
        },
        "id": "G_wyNRJ-H1vz",
        "outputId": "7d09d71c-5708-4dd1-f5e9-56235b8b470f"
      },
      "execution_count": null,
      "outputs": [
        {
          "output_type": "display_data",
          "data": {
            "text/html": [
              "<html>\n",
              "<head><meta charset=\"utf-8\" /></head>\n",
              "<body>\n",
              "    <div>            <script src=\"https://cdnjs.cloudflare.com/ajax/libs/mathjax/2.7.5/MathJax.js?config=TeX-AMS-MML_SVG\"></script><script type=\"text/javascript\">if (window.MathJax) {MathJax.Hub.Config({SVG: {font: \"STIX-Web\"}});}</script>                <script type=\"text/javascript\">window.PlotlyConfig = {MathJaxConfig: 'local'};</script>\n",
              "        <script src=\"https://cdn.plot.ly/plotly-2.8.3.min.js\"></script>                <div id=\"73fa866e-d45f-4803-b065-21752da036c4\" class=\"plotly-graph-div\" style=\"height:350px; width:1200px;\"></div>            <script type=\"text/javascript\">                                    window.PLOTLYENV=window.PLOTLYENV || {};                                    if (document.getElementById(\"73fa866e-d45f-4803-b065-21752da036c4\")) {                    Plotly.newPlot(                        \"73fa866e-d45f-4803-b065-21752da036c4\",                        [{\"legendgroup\":\"New Comers\",\"legendgrouptitle\":{\"text\":\"New Comers\"},\"line\":{\"color\":\"royalblue\",\"width\":1},\"mode\":\"lines\",\"name\":\"Low Inocme\",\"x\":[\"2015 Q1\",\"2015 Q3\",\"2016 Q1\",\"2016 Q3\",\"2017 Q1\",\"2017 Q3\",\"2018 Q1\",\"2018 Q3\",\"2019 Q1\",\"2019 Q3\",\"2020 Q1\",\"2020 Q3\",\"2021 Q1\",\"2021 Q3\",\"2022 Q1\",\"2022 Q3\",\"2023 Q1\",\"2023 Q3\",\"2024 Q1\",\"2024 Q3\",\"2025 Q1\",\"2025 Q3\",\"2026 Q1\",\"2026 Q3\",\"2027 Q1\",\"2027 Q3\",\"2028 Q1\",\"2028 Q3\",\"2029 Q1\",\"2029 Q3\",\"2030 Q1\",\"2030 Q3\"],\"y\":[null,null,null,null,0.0,0.0,0.0,0.0,0.0,0.0,0.0,0.0,0.0,0.0,0.0,0.0,0.0,0.0,0.0,0.0,0.0],\"type\":\"scatter\"},{\"legendgroup\":\"New Comers\",\"legendgrouptitle\":{\"text\":\"New Comers\"},\"line\":{\"color\":\"royalblue\",\"width\":3},\"mode\":\"lines\",\"name\":\"Medium Income\",\"x\":[\"2015 Q1\",\"2015 Q3\",\"2016 Q1\",\"2016 Q3\",\"2017 Q1\",\"2017 Q3\",\"2018 Q1\",\"2018 Q3\",\"2019 Q1\",\"2019 Q3\",\"2020 Q1\",\"2020 Q3\",\"2021 Q1\",\"2021 Q3\",\"2022 Q1\",\"2022 Q3\",\"2023 Q1\",\"2023 Q3\",\"2024 Q1\",\"2024 Q3\",\"2025 Q1\",\"2025 Q3\",\"2026 Q1\",\"2026 Q3\",\"2027 Q1\",\"2027 Q3\",\"2028 Q1\",\"2028 Q3\",\"2029 Q1\",\"2029 Q3\",\"2030 Q1\",\"2030 Q3\"],\"y\":[null,null,null,null,0.013301088270858524,0.013301088270858524,0.022753128555176336,0.07515030060120241,0.07149666348903717,0.07149666348903717,0.07700101317122594,0.0794148380355277,0.08826945412311266,0.14834578441835647,0.11506622516556292,0.11902897415818324,0.1437308868501529,0.1437308868501529,0.13544668587896252,0.130939226519337,0.12668743509865005],\"type\":\"scatter\"},{\"legendgroup\":\"New Comers\",\"legendgrouptitle\":{\"text\":\"New Comers\"},\"line\":{\"color\":\"royalblue\",\"width\":5},\"mode\":\"lines\",\"name\":\"High Income\",\"x\":[\"2015 Q1\",\"2015 Q3\",\"2016 Q1\",\"2016 Q3\",\"2017 Q1\",\"2017 Q3\",\"2018 Q1\",\"2018 Q3\",\"2019 Q1\",\"2019 Q3\",\"2020 Q1\",\"2020 Q3\",\"2021 Q1\",\"2021 Q3\",\"2022 Q1\",\"2022 Q3\",\"2023 Q1\",\"2023 Q3\",\"2024 Q1\",\"2024 Q3\",\"2025 Q1\",\"2025 Q3\",\"2026 Q1\",\"2026 Q3\",\"2027 Q1\",\"2027 Q3\",\"2028 Q1\",\"2028 Q3\",\"2029 Q1\",\"2029 Q3\",\"2030 Q1\",\"2030 Q3\"],\"y\":[null,null,null,null,0.016928657799274487,0.016928657799274487,0.07281001137656427,0.1282565130260521,0.2001906577693041,0.2001906577693041,0.2502532928064843,0.258098223615465,0.2868757259001161,0.35005336179295626,0.4908940397350993,0.5309318715740016,0.690519877675841,0.690519877675841,0.7072046109510086,0.7651933701657458,0.8094496365524403],\"type\":\"scatter\"},{\"legendgroup\":\"Staying\",\"legendgrouptitle\":{\"text\":\"Staying\"},\"line\":{\"color\":\"firebrick\",\"width\":1},\"mode\":\"lines\",\"name\":\"Renters\",\"x\":[\"2015 Q1\",\"2015 Q3\",\"2016 Q1\",\"2016 Q3\",\"2017 Q1\",\"2017 Q3\",\"2018 Q1\",\"2018 Q3\",\"2019 Q1\",\"2019 Q3\",\"2020 Q1\",\"2020 Q3\",\"2021 Q1\",\"2021 Q3\",\"2022 Q1\",\"2022 Q3\",\"2023 Q1\",\"2023 Q3\",\"2024 Q1\",\"2024 Q3\",\"2025 Q1\",\"2025 Q3\",\"2026 Q1\",\"2026 Q3\",\"2027 Q1\",\"2027 Q3\",\"2028 Q1\",\"2028 Q3\",\"2029 Q1\",\"2029 Q3\",\"2030 Q1\",\"2030 Q3\"],\"y\":[null,null,null,null,0.48972188633615477,0.48972188633615477,0.45733788395904434,0.4028056112224449,0.36606291706387034,0.36606291706387034,0.3353596757852077,0.3343782654127482,0.3147502903600465,0.25827107790821774,0.20033112582781457,0.1793265465935787,0.05137614678899083,0.05137614678899083,0.04899135446685879,0.03038674033149171,0.008826583592938734],\"type\":\"scatter\"},{\"legendgroup\":\"Staying\",\"legendgrouptitle\":{\"text\":\"Staying\"},\"line\":{\"color\":\"firebrick\",\"width\":3},\"mode\":\"lines\",\"name\":\"Medium\",\"x\":[\"2015 Q1\",\"2015 Q3\",\"2016 Q1\",\"2016 Q3\",\"2017 Q1\",\"2017 Q3\",\"2018 Q1\",\"2018 Q3\",\"2019 Q1\",\"2019 Q3\",\"2020 Q1\",\"2020 Q3\",\"2021 Q1\",\"2021 Q3\",\"2022 Q1\",\"2022 Q3\",\"2023 Q1\",\"2023 Q3\",\"2024 Q1\",\"2024 Q3\",\"2025 Q1\",\"2025 Q3\",\"2026 Q1\",\"2026 Q3\",\"2027 Q1\",\"2027 Q3\",\"2028 Q1\",\"2028 Q3\",\"2029 Q1\",\"2029 Q3\",\"2030 Q1\",\"2030 Q3\"],\"y\":[null,null,null,null,0.4800483675937122,0.4800483675937122,0.447098976109215,0.3937875751503006,0.3622497616777884,0.3622497616777884,0.3373860182370821,0.3281086729362591,0.31010452961672474,0.24332977588046958,0.19370860927152317,0.1707126076742365,0.11437308868501529,0.11437308868501529,0.10835734870317003,0.07348066298342541,0.055036344755970926],\"type\":\"scatter\"},{\"legendgroup\":\"Staying\",\"legendgrouptitle\":{\"text\":\"Staying\"},\"line\":{\"color\":\"firebrick\",\"width\":5},\"mode\":\"lines\",\"name\":\"High\",\"x\":[\"2015 Q1\",\"2015 Q3\",\"2016 Q1\",\"2016 Q3\",\"2017 Q1\",\"2017 Q3\",\"2018 Q1\",\"2018 Q3\",\"2019 Q1\",\"2019 Q3\",\"2020 Q1\",\"2020 Q3\",\"2021 Q1\",\"2021 Q3\",\"2022 Q1\",\"2022 Q3\",\"2023 Q1\",\"2023 Q3\",\"2024 Q1\",\"2024 Q3\",\"2025 Q1\",\"2025 Q3\",\"2026 Q1\",\"2026 Q3\",\"2027 Q1\",\"2027 Q3\",\"2028 Q1\",\"2028 Q3\",\"2029 Q1\",\"2029 Q3\",\"2030 Q1\",\"2030 Q3\"],\"y\":[null,null,null,null,0.0,0.0,0.0,0.0,0.0,0.0,0.0,0.0,0.0,0.0,0.0,0.0,0.0,0.0,0.0,0.0,0.0],\"type\":\"scatter\"},{\"legendgroup\":\"Reference\",\"legendgrouptitle\":{\"text\":\"Reference\"},\"line\":{\"color\":\"LightSeaGreen\",\"dash\":\"dashdot\",\"width\":2},\"mode\":\"lines\",\"name\":\"2015 Q1\",\"x\":[\"2015 Q1\",\"2015 Q1\"],\"y\":[0,1],\"type\":\"scatter\"}],                        {\"template\":{\"data\":{\"barpolar\":[{\"marker\":{\"line\":{\"color\":\"white\",\"width\":0.5},\"pattern\":{\"fillmode\":\"overlay\",\"size\":10,\"solidity\":0.2}},\"type\":\"barpolar\"}],\"bar\":[{\"error_x\":{\"color\":\"#2a3f5f\"},\"error_y\":{\"color\":\"#2a3f5f\"},\"marker\":{\"line\":{\"color\":\"white\",\"width\":0.5},\"pattern\":{\"fillmode\":\"overlay\",\"size\":10,\"solidity\":0.2}},\"type\":\"bar\"}],\"carpet\":[{\"aaxis\":{\"endlinecolor\":\"#2a3f5f\",\"gridcolor\":\"#C8D4E3\",\"linecolor\":\"#C8D4E3\",\"minorgridcolor\":\"#C8D4E3\",\"startlinecolor\":\"#2a3f5f\"},\"baxis\":{\"endlinecolor\":\"#2a3f5f\",\"gridcolor\":\"#C8D4E3\",\"linecolor\":\"#C8D4E3\",\"minorgridcolor\":\"#C8D4E3\",\"startlinecolor\":\"#2a3f5f\"},\"type\":\"carpet\"}],\"choropleth\":[{\"colorbar\":{\"outlinewidth\":0,\"ticks\":\"\"},\"type\":\"choropleth\"}],\"contourcarpet\":[{\"colorbar\":{\"outlinewidth\":0,\"ticks\":\"\"},\"type\":\"contourcarpet\"}],\"contour\":[{\"colorbar\":{\"outlinewidth\":0,\"ticks\":\"\"},\"colorscale\":[[0.0,\"#0d0887\"],[0.1111111111111111,\"#46039f\"],[0.2222222222222222,\"#7201a8\"],[0.3333333333333333,\"#9c179e\"],[0.4444444444444444,\"#bd3786\"],[0.5555555555555556,\"#d8576b\"],[0.6666666666666666,\"#ed7953\"],[0.7777777777777778,\"#fb9f3a\"],[0.8888888888888888,\"#fdca26\"],[1.0,\"#f0f921\"]],\"type\":\"contour\"}],\"heatmapgl\":[{\"colorbar\":{\"outlinewidth\":0,\"ticks\":\"\"},\"colorscale\":[[0.0,\"#0d0887\"],[0.1111111111111111,\"#46039f\"],[0.2222222222222222,\"#7201a8\"],[0.3333333333333333,\"#9c179e\"],[0.4444444444444444,\"#bd3786\"],[0.5555555555555556,\"#d8576b\"],[0.6666666666666666,\"#ed7953\"],[0.7777777777777778,\"#fb9f3a\"],[0.8888888888888888,\"#fdca26\"],[1.0,\"#f0f921\"]],\"type\":\"heatmapgl\"}],\"heatmap\":[{\"colorbar\":{\"outlinewidth\":0,\"ticks\":\"\"},\"colorscale\":[[0.0,\"#0d0887\"],[0.1111111111111111,\"#46039f\"],[0.2222222222222222,\"#7201a8\"],[0.3333333333333333,\"#9c179e\"],[0.4444444444444444,\"#bd3786\"],[0.5555555555555556,\"#d8576b\"],[0.6666666666666666,\"#ed7953\"],[0.7777777777777778,\"#fb9f3a\"],[0.8888888888888888,\"#fdca26\"],[1.0,\"#f0f921\"]],\"type\":\"heatmap\"}],\"histogram2dcontour\":[{\"colorbar\":{\"outlinewidth\":0,\"ticks\":\"\"},\"colorscale\":[[0.0,\"#0d0887\"],[0.1111111111111111,\"#46039f\"],[0.2222222222222222,\"#7201a8\"],[0.3333333333333333,\"#9c179e\"],[0.4444444444444444,\"#bd3786\"],[0.5555555555555556,\"#d8576b\"],[0.6666666666666666,\"#ed7953\"],[0.7777777777777778,\"#fb9f3a\"],[0.8888888888888888,\"#fdca26\"],[1.0,\"#f0f921\"]],\"type\":\"histogram2dcontour\"}],\"histogram2d\":[{\"colorbar\":{\"outlinewidth\":0,\"ticks\":\"\"},\"colorscale\":[[0.0,\"#0d0887\"],[0.1111111111111111,\"#46039f\"],[0.2222222222222222,\"#7201a8\"],[0.3333333333333333,\"#9c179e\"],[0.4444444444444444,\"#bd3786\"],[0.5555555555555556,\"#d8576b\"],[0.6666666666666666,\"#ed7953\"],[0.7777777777777778,\"#fb9f3a\"],[0.8888888888888888,\"#fdca26\"],[1.0,\"#f0f921\"]],\"type\":\"histogram2d\"}],\"histogram\":[{\"marker\":{\"pattern\":{\"fillmode\":\"overlay\",\"size\":10,\"solidity\":0.2}},\"type\":\"histogram\"}],\"mesh3d\":[{\"colorbar\":{\"outlinewidth\":0,\"ticks\":\"\"},\"type\":\"mesh3d\"}],\"parcoords\":[{\"line\":{\"colorbar\":{\"outlinewidth\":0,\"ticks\":\"\"}},\"type\":\"parcoords\"}],\"pie\":[{\"automargin\":true,\"type\":\"pie\"}],\"scatter3d\":[{\"line\":{\"colorbar\":{\"outlinewidth\":0,\"ticks\":\"\"}},\"marker\":{\"colorbar\":{\"outlinewidth\":0,\"ticks\":\"\"}},\"type\":\"scatter3d\"}],\"scattercarpet\":[{\"marker\":{\"colorbar\":{\"outlinewidth\":0,\"ticks\":\"\"}},\"type\":\"scattercarpet\"}],\"scattergeo\":[{\"marker\":{\"colorbar\":{\"outlinewidth\":0,\"ticks\":\"\"}},\"type\":\"scattergeo\"}],\"scattergl\":[{\"marker\":{\"colorbar\":{\"outlinewidth\":0,\"ticks\":\"\"}},\"type\":\"scattergl\"}],\"scattermapbox\":[{\"marker\":{\"colorbar\":{\"outlinewidth\":0,\"ticks\":\"\"}},\"type\":\"scattermapbox\"}],\"scatterpolargl\":[{\"marker\":{\"colorbar\":{\"outlinewidth\":0,\"ticks\":\"\"}},\"type\":\"scatterpolargl\"}],\"scatterpolar\":[{\"marker\":{\"colorbar\":{\"outlinewidth\":0,\"ticks\":\"\"}},\"type\":\"scatterpolar\"}],\"scatter\":[{\"marker\":{\"colorbar\":{\"outlinewidth\":0,\"ticks\":\"\"}},\"type\":\"scatter\"}],\"scatterternary\":[{\"marker\":{\"colorbar\":{\"outlinewidth\":0,\"ticks\":\"\"}},\"type\":\"scatterternary\"}],\"surface\":[{\"colorbar\":{\"outlinewidth\":0,\"ticks\":\"\"},\"colorscale\":[[0.0,\"#0d0887\"],[0.1111111111111111,\"#46039f\"],[0.2222222222222222,\"#7201a8\"],[0.3333333333333333,\"#9c179e\"],[0.4444444444444444,\"#bd3786\"],[0.5555555555555556,\"#d8576b\"],[0.6666666666666666,\"#ed7953\"],[0.7777777777777778,\"#fb9f3a\"],[0.8888888888888888,\"#fdca26\"],[1.0,\"#f0f921\"]],\"type\":\"surface\"}],\"table\":[{\"cells\":{\"fill\":{\"color\":\"#EBF0F8\"},\"line\":{\"color\":\"white\"}},\"header\":{\"fill\":{\"color\":\"#C8D4E3\"},\"line\":{\"color\":\"white\"}},\"type\":\"table\"}]},\"layout\":{\"annotationdefaults\":{\"arrowcolor\":\"#2a3f5f\",\"arrowhead\":0,\"arrowwidth\":1},\"autotypenumbers\":\"strict\",\"coloraxis\":{\"colorbar\":{\"outlinewidth\":0,\"ticks\":\"\"}},\"colorscale\":{\"diverging\":[[0,\"#8e0152\"],[0.1,\"#c51b7d\"],[0.2,\"#de77ae\"],[0.3,\"#f1b6da\"],[0.4,\"#fde0ef\"],[0.5,\"#f7f7f7\"],[0.6,\"#e6f5d0\"],[0.7,\"#b8e186\"],[0.8,\"#7fbc41\"],[0.9,\"#4d9221\"],[1,\"#276419\"]],\"sequential\":[[0.0,\"#0d0887\"],[0.1111111111111111,\"#46039f\"],[0.2222222222222222,\"#7201a8\"],[0.3333333333333333,\"#9c179e\"],[0.4444444444444444,\"#bd3786\"],[0.5555555555555556,\"#d8576b\"],[0.6666666666666666,\"#ed7953\"],[0.7777777777777778,\"#fb9f3a\"],[0.8888888888888888,\"#fdca26\"],[1.0,\"#f0f921\"]],\"sequentialminus\":[[0.0,\"#0d0887\"],[0.1111111111111111,\"#46039f\"],[0.2222222222222222,\"#7201a8\"],[0.3333333333333333,\"#9c179e\"],[0.4444444444444444,\"#bd3786\"],[0.5555555555555556,\"#d8576b\"],[0.6666666666666666,\"#ed7953\"],[0.7777777777777778,\"#fb9f3a\"],[0.8888888888888888,\"#fdca26\"],[1.0,\"#f0f921\"]]},\"colorway\":[\"#636efa\",\"#EF553B\",\"#00cc96\",\"#ab63fa\",\"#FFA15A\",\"#19d3f3\",\"#FF6692\",\"#B6E880\",\"#FF97FF\",\"#FECB52\"],\"font\":{\"color\":\"#2a3f5f\"},\"geo\":{\"bgcolor\":\"white\",\"lakecolor\":\"white\",\"landcolor\":\"white\",\"showlakes\":true,\"showland\":true,\"subunitcolor\":\"#C8D4E3\"},\"hoverlabel\":{\"align\":\"left\"},\"hovermode\":\"closest\",\"mapbox\":{\"style\":\"light\"},\"paper_bgcolor\":\"white\",\"plot_bgcolor\":\"white\",\"polar\":{\"angularaxis\":{\"gridcolor\":\"#EBF0F8\",\"linecolor\":\"#EBF0F8\",\"ticks\":\"\"},\"bgcolor\":\"white\",\"radialaxis\":{\"gridcolor\":\"#EBF0F8\",\"linecolor\":\"#EBF0F8\",\"ticks\":\"\"}},\"scene\":{\"xaxis\":{\"backgroundcolor\":\"white\",\"gridcolor\":\"#DFE8F3\",\"gridwidth\":2,\"linecolor\":\"#EBF0F8\",\"showbackground\":true,\"ticks\":\"\",\"zerolinecolor\":\"#EBF0F8\"},\"yaxis\":{\"backgroundcolor\":\"white\",\"gridcolor\":\"#DFE8F3\",\"gridwidth\":2,\"linecolor\":\"#EBF0F8\",\"showbackground\":true,\"ticks\":\"\",\"zerolinecolor\":\"#EBF0F8\"},\"zaxis\":{\"backgroundcolor\":\"white\",\"gridcolor\":\"#DFE8F3\",\"gridwidth\":2,\"linecolor\":\"#EBF0F8\",\"showbackground\":true,\"ticks\":\"\",\"zerolinecolor\":\"#EBF0F8\"}},\"shapedefaults\":{\"line\":{\"color\":\"#2a3f5f\"}},\"ternary\":{\"aaxis\":{\"gridcolor\":\"#DFE8F3\",\"linecolor\":\"#A2B1C6\",\"ticks\":\"\"},\"baxis\":{\"gridcolor\":\"#DFE8F3\",\"linecolor\":\"#A2B1C6\",\"ticks\":\"\"},\"bgcolor\":\"white\",\"caxis\":{\"gridcolor\":\"#DFE8F3\",\"linecolor\":\"#A2B1C6\",\"ticks\":\"\"}},\"title\":{\"x\":0.05},\"xaxis\":{\"automargin\":true,\"gridcolor\":\"#EBF0F8\",\"linecolor\":\"#EBF0F8\",\"ticks\":\"\",\"title\":{\"standoff\":15},\"zerolinecolor\":\"#EBF0F8\",\"zerolinewidth\":2},\"yaxis\":{\"automargin\":true,\"gridcolor\":\"#EBF0F8\",\"linecolor\":\"#EBF0F8\",\"ticks\":\"\",\"title\":{\"standoff\":15},\"zerolinecolor\":\"#EBF0F8\",\"zerolinewidth\":2}}},\"margin\":{\"r\":0,\"t\":35,\"l\":0,\"b\":10,\"pad\":0},\"legend\":{\"orientation\":\"h\",\"yanchor\":\"top\",\"y\":0.99,\"xanchor\":\"left\",\"x\":0.01},\"title\":{\"text\":\"Income by class for Staying vs New Comers\"},\"yaxis\":{\"title\":{\"text\":\"ratio\"},\"range\":[0,1]},\"width\":1200,\"height\":350,\"xaxis\":{\"range\":[0,32]}},                        {\"responsive\": true}                    ).then(function(){\n",
              "                            \n",
              "var gd = document.getElementById('73fa866e-d45f-4803-b065-21752da036c4');\n",
              "var x = new MutationObserver(function (mutations, observer) {{\n",
              "        var display = window.getComputedStyle(gd).display;\n",
              "        if (!display || display === 'none') {{\n",
              "            console.log([gd, 'removed!']);\n",
              "            Plotly.purge(gd);\n",
              "            observer.disconnect();\n",
              "        }}\n",
              "}});\n",
              "\n",
              "// Listen for the removal of the full notebook cells\n",
              "var notebookContainer = gd.closest('#notebook-container');\n",
              "if (notebookContainer) {{\n",
              "    x.observe(notebookContainer, {childList: true});\n",
              "}}\n",
              "\n",
              "// Listen for the clearing of the current output cell\n",
              "var outputEl = gd.closest('.output');\n",
              "if (outputEl) {{\n",
              "    x.observe(outputEl, {childList: true});\n",
              "}}\n",
              "\n",
              "                        })                };                            </script>        </div>\n",
              "</body>\n",
              "</html>"
            ]
          },
          "metadata": {}
        }
      ]
    },
    {
      "cell_type": "code",
      "source": [
        "#fig = px.line(agents_stat_summary_by_year, x=\"year\"})\n",
        "import plotly.graph_objects as go\n",
        "\n",
        "fig = go.Figure()\n",
        "\n",
        "\n",
        "fig.add_trace(go.Scatter(\n",
        "    x=year_ranges,\n",
        "    y=agents_stat_summary_by_year['New Comers'],\n",
        "    legendgroup=\"New Comers\",  # this can be any string, not just \"group\"\n",
        "    legendgrouptitle_text=\"New Comers\",\n",
        "    name=\"New comers\",\n",
        "    mode=\"lines\",\n",
        "    line=dict(color='royalblue', width=1)\n",
        "))\n",
        "\n",
        "\n",
        "fig.add_trace(go.Scatter(\n",
        "    x=year_ranges,\n",
        "    y=agents_stat_summary_by_year['stay'],\n",
        "    legendgroup=\"Staying\",  # this can be any string, not just \"group\"\n",
        "    legendgrouptitle_text=\"Staying\",\n",
        "    name=\"Staying\",\n",
        "    mode=\"lines\",\n",
        "    line=dict(color='firebrick', width=1)\n",
        "))\n",
        "\n",
        "\n",
        "fig.update_layout(title=\"Number of People\",template='plotly_white',yaxis = {'title' : \"Absolute\"})\n",
        "\n",
        "fig.show()\n",
        "\n",
        "# set range"
      ],
      "metadata": {
        "colab": {
          "base_uri": "https://localhost:8080/",
          "height": 542
        },
        "id": "8s7bJ2yT37V1",
        "outputId": "bbcf3789-3b4d-4b36-e601-ce10d726922b"
      },
      "execution_count": null,
      "outputs": [
        {
          "output_type": "display_data",
          "data": {
            "text/html": [
              "<html>\n",
              "<head><meta charset=\"utf-8\" /></head>\n",
              "<body>\n",
              "    <div>            <script src=\"https://cdnjs.cloudflare.com/ajax/libs/mathjax/2.7.5/MathJax.js?config=TeX-AMS-MML_SVG\"></script><script type=\"text/javascript\">if (window.MathJax) {MathJax.Hub.Config({SVG: {font: \"STIX-Web\"}});}</script>                <script type=\"text/javascript\">window.PlotlyConfig = {MathJaxConfig: 'local'};</script>\n",
              "        <script src=\"https://cdn.plot.ly/plotly-2.8.3.min.js\"></script>                <div id=\"f42f1120-8a05-4a25-8346-b8a60ddaa0f5\" class=\"plotly-graph-div\" style=\"height:525px; width:100%;\"></div>            <script type=\"text/javascript\">                                    window.PLOTLYENV=window.PLOTLYENV || {};                                    if (document.getElementById(\"f42f1120-8a05-4a25-8346-b8a60ddaa0f5\")) {                    Plotly.newPlot(                        \"f42f1120-8a05-4a25-8346-b8a60ddaa0f5\",                        [{\"legendgroup\":\"New Comers\",\"legendgrouptitle\":{\"text\":\"New Comers\"},\"line\":{\"color\":\"royalblue\",\"width\":1},\"mode\":\"lines\",\"name\":\"New comers\",\"x\":[\"2015 Q1\",\"2015 Q3\",\"2016 Q1\",\"2016 Q3\",\"2017 Q1\",\"2017 Q3\",\"2018 Q1\",\"2018 Q3\",\"2019 Q1\",\"2019 Q3\",\"2020 Q1\",\"2020 Q3\",\"2021 Q1\",\"2021 Q3\",\"2022 Q1\",\"2022 Q3\",\"2023 Q1\",\"2023 Q3\",\"2024 Q1\",\"2024 Q3\",\"2025 Q1\",\"2025 Q3\",\"2026 Q1\",\"2026 Q3\",\"2027 Q1\",\"2027 Q3\",\"2028 Q1\",\"2028 Q3\",\"2029 Q1\",\"2029 Q3\",\"2030 Q1\",\"2030 Q3\"],\"y\":[null,null,null,null,25.0,25.0,84.0,203.0,285.0,285.0,323.0,323.0,323.0,467.0,732.0,830.0,1364.0,1364.0,1462.0,1622.0,1803.0,1803.0,2383.0,2383.0,2661.0,2786.0,2989.0,3057.0,3057.0,3057.0,3057.0,3057.0],\"type\":\"scatter\"},{\"legendgroup\":\"Staying\",\"legendgrouptitle\":{\"text\":\"Staying\"},\"line\":{\"color\":\"firebrick\",\"width\":1},\"mode\":\"lines\",\"name\":\"Staying\",\"x\":[\"2015 Q1\",\"2015 Q3\",\"2016 Q1\",\"2016 Q3\",\"2017 Q1\",\"2017 Q3\",\"2018 Q1\",\"2018 Q3\",\"2019 Q1\",\"2019 Q3\",\"2020 Q1\",\"2020 Q3\",\"2021 Q1\",\"2021 Q3\",\"2022 Q1\",\"2022 Q3\",\"2023 Q1\",\"2023 Q3\",\"2024 Q1\",\"2024 Q3\",\"2025 Q1\",\"2025 Q3\",\"2026 Q1\",\"2026 Q3\",\"2027 Q1\",\"2027 Q3\",\"2028 Q1\",\"2028 Q3\",\"2029 Q1\",\"2029 Q3\",\"2030 Q1\",\"2030 Q3\"],\"y\":[897.0,875.0,875.0,836.0,802.0,802.0,795.0,795.0,764.0,764.0,664.0,634.0,538.0,470.0,476.0,447.0,271.0,271.0,273.0,188.0,123.0,114.0,164.0,164.0,171.0,176.0,193.0,195.0,195.0,195.0,195.0,195.0],\"type\":\"scatter\"}],                        {\"template\":{\"data\":{\"barpolar\":[{\"marker\":{\"line\":{\"color\":\"white\",\"width\":0.5},\"pattern\":{\"fillmode\":\"overlay\",\"size\":10,\"solidity\":0.2}},\"type\":\"barpolar\"}],\"bar\":[{\"error_x\":{\"color\":\"#2a3f5f\"},\"error_y\":{\"color\":\"#2a3f5f\"},\"marker\":{\"line\":{\"color\":\"white\",\"width\":0.5},\"pattern\":{\"fillmode\":\"overlay\",\"size\":10,\"solidity\":0.2}},\"type\":\"bar\"}],\"carpet\":[{\"aaxis\":{\"endlinecolor\":\"#2a3f5f\",\"gridcolor\":\"#C8D4E3\",\"linecolor\":\"#C8D4E3\",\"minorgridcolor\":\"#C8D4E3\",\"startlinecolor\":\"#2a3f5f\"},\"baxis\":{\"endlinecolor\":\"#2a3f5f\",\"gridcolor\":\"#C8D4E3\",\"linecolor\":\"#C8D4E3\",\"minorgridcolor\":\"#C8D4E3\",\"startlinecolor\":\"#2a3f5f\"},\"type\":\"carpet\"}],\"choropleth\":[{\"colorbar\":{\"outlinewidth\":0,\"ticks\":\"\"},\"type\":\"choropleth\"}],\"contourcarpet\":[{\"colorbar\":{\"outlinewidth\":0,\"ticks\":\"\"},\"type\":\"contourcarpet\"}],\"contour\":[{\"colorbar\":{\"outlinewidth\":0,\"ticks\":\"\"},\"colorscale\":[[0.0,\"#0d0887\"],[0.1111111111111111,\"#46039f\"],[0.2222222222222222,\"#7201a8\"],[0.3333333333333333,\"#9c179e\"],[0.4444444444444444,\"#bd3786\"],[0.5555555555555556,\"#d8576b\"],[0.6666666666666666,\"#ed7953\"],[0.7777777777777778,\"#fb9f3a\"],[0.8888888888888888,\"#fdca26\"],[1.0,\"#f0f921\"]],\"type\":\"contour\"}],\"heatmapgl\":[{\"colorbar\":{\"outlinewidth\":0,\"ticks\":\"\"},\"colorscale\":[[0.0,\"#0d0887\"],[0.1111111111111111,\"#46039f\"],[0.2222222222222222,\"#7201a8\"],[0.3333333333333333,\"#9c179e\"],[0.4444444444444444,\"#bd3786\"],[0.5555555555555556,\"#d8576b\"],[0.6666666666666666,\"#ed7953\"],[0.7777777777777778,\"#fb9f3a\"],[0.8888888888888888,\"#fdca26\"],[1.0,\"#f0f921\"]],\"type\":\"heatmapgl\"}],\"heatmap\":[{\"colorbar\":{\"outlinewidth\":0,\"ticks\":\"\"},\"colorscale\":[[0.0,\"#0d0887\"],[0.1111111111111111,\"#46039f\"],[0.2222222222222222,\"#7201a8\"],[0.3333333333333333,\"#9c179e\"],[0.4444444444444444,\"#bd3786\"],[0.5555555555555556,\"#d8576b\"],[0.6666666666666666,\"#ed7953\"],[0.7777777777777778,\"#fb9f3a\"],[0.8888888888888888,\"#fdca26\"],[1.0,\"#f0f921\"]],\"type\":\"heatmap\"}],\"histogram2dcontour\":[{\"colorbar\":{\"outlinewidth\":0,\"ticks\":\"\"},\"colorscale\":[[0.0,\"#0d0887\"],[0.1111111111111111,\"#46039f\"],[0.2222222222222222,\"#7201a8\"],[0.3333333333333333,\"#9c179e\"],[0.4444444444444444,\"#bd3786\"],[0.5555555555555556,\"#d8576b\"],[0.6666666666666666,\"#ed7953\"],[0.7777777777777778,\"#fb9f3a\"],[0.8888888888888888,\"#fdca26\"],[1.0,\"#f0f921\"]],\"type\":\"histogram2dcontour\"}],\"histogram2d\":[{\"colorbar\":{\"outlinewidth\":0,\"ticks\":\"\"},\"colorscale\":[[0.0,\"#0d0887\"],[0.1111111111111111,\"#46039f\"],[0.2222222222222222,\"#7201a8\"],[0.3333333333333333,\"#9c179e\"],[0.4444444444444444,\"#bd3786\"],[0.5555555555555556,\"#d8576b\"],[0.6666666666666666,\"#ed7953\"],[0.7777777777777778,\"#fb9f3a\"],[0.8888888888888888,\"#fdca26\"],[1.0,\"#f0f921\"]],\"type\":\"histogram2d\"}],\"histogram\":[{\"marker\":{\"pattern\":{\"fillmode\":\"overlay\",\"size\":10,\"solidity\":0.2}},\"type\":\"histogram\"}],\"mesh3d\":[{\"colorbar\":{\"outlinewidth\":0,\"ticks\":\"\"},\"type\":\"mesh3d\"}],\"parcoords\":[{\"line\":{\"colorbar\":{\"outlinewidth\":0,\"ticks\":\"\"}},\"type\":\"parcoords\"}],\"pie\":[{\"automargin\":true,\"type\":\"pie\"}],\"scatter3d\":[{\"line\":{\"colorbar\":{\"outlinewidth\":0,\"ticks\":\"\"}},\"marker\":{\"colorbar\":{\"outlinewidth\":0,\"ticks\":\"\"}},\"type\":\"scatter3d\"}],\"scattercarpet\":[{\"marker\":{\"colorbar\":{\"outlinewidth\":0,\"ticks\":\"\"}},\"type\":\"scattercarpet\"}],\"scattergeo\":[{\"marker\":{\"colorbar\":{\"outlinewidth\":0,\"ticks\":\"\"}},\"type\":\"scattergeo\"}],\"scattergl\":[{\"marker\":{\"colorbar\":{\"outlinewidth\":0,\"ticks\":\"\"}},\"type\":\"scattergl\"}],\"scattermapbox\":[{\"marker\":{\"colorbar\":{\"outlinewidth\":0,\"ticks\":\"\"}},\"type\":\"scattermapbox\"}],\"scatterpolargl\":[{\"marker\":{\"colorbar\":{\"outlinewidth\":0,\"ticks\":\"\"}},\"type\":\"scatterpolargl\"}],\"scatterpolar\":[{\"marker\":{\"colorbar\":{\"outlinewidth\":0,\"ticks\":\"\"}},\"type\":\"scatterpolar\"}],\"scatter\":[{\"marker\":{\"colorbar\":{\"outlinewidth\":0,\"ticks\":\"\"}},\"type\":\"scatter\"}],\"scatterternary\":[{\"marker\":{\"colorbar\":{\"outlinewidth\":0,\"ticks\":\"\"}},\"type\":\"scatterternary\"}],\"surface\":[{\"colorbar\":{\"outlinewidth\":0,\"ticks\":\"\"},\"colorscale\":[[0.0,\"#0d0887\"],[0.1111111111111111,\"#46039f\"],[0.2222222222222222,\"#7201a8\"],[0.3333333333333333,\"#9c179e\"],[0.4444444444444444,\"#bd3786\"],[0.5555555555555556,\"#d8576b\"],[0.6666666666666666,\"#ed7953\"],[0.7777777777777778,\"#fb9f3a\"],[0.8888888888888888,\"#fdca26\"],[1.0,\"#f0f921\"]],\"type\":\"surface\"}],\"table\":[{\"cells\":{\"fill\":{\"color\":\"#EBF0F8\"},\"line\":{\"color\":\"white\"}},\"header\":{\"fill\":{\"color\":\"#C8D4E3\"},\"line\":{\"color\":\"white\"}},\"type\":\"table\"}]},\"layout\":{\"annotationdefaults\":{\"arrowcolor\":\"#2a3f5f\",\"arrowhead\":0,\"arrowwidth\":1},\"autotypenumbers\":\"strict\",\"coloraxis\":{\"colorbar\":{\"outlinewidth\":0,\"ticks\":\"\"}},\"colorscale\":{\"diverging\":[[0,\"#8e0152\"],[0.1,\"#c51b7d\"],[0.2,\"#de77ae\"],[0.3,\"#f1b6da\"],[0.4,\"#fde0ef\"],[0.5,\"#f7f7f7\"],[0.6,\"#e6f5d0\"],[0.7,\"#b8e186\"],[0.8,\"#7fbc41\"],[0.9,\"#4d9221\"],[1,\"#276419\"]],\"sequential\":[[0.0,\"#0d0887\"],[0.1111111111111111,\"#46039f\"],[0.2222222222222222,\"#7201a8\"],[0.3333333333333333,\"#9c179e\"],[0.4444444444444444,\"#bd3786\"],[0.5555555555555556,\"#d8576b\"],[0.6666666666666666,\"#ed7953\"],[0.7777777777777778,\"#fb9f3a\"],[0.8888888888888888,\"#fdca26\"],[1.0,\"#f0f921\"]],\"sequentialminus\":[[0.0,\"#0d0887\"],[0.1111111111111111,\"#46039f\"],[0.2222222222222222,\"#7201a8\"],[0.3333333333333333,\"#9c179e\"],[0.4444444444444444,\"#bd3786\"],[0.5555555555555556,\"#d8576b\"],[0.6666666666666666,\"#ed7953\"],[0.7777777777777778,\"#fb9f3a\"],[0.8888888888888888,\"#fdca26\"],[1.0,\"#f0f921\"]]},\"colorway\":[\"#636efa\",\"#EF553B\",\"#00cc96\",\"#ab63fa\",\"#FFA15A\",\"#19d3f3\",\"#FF6692\",\"#B6E880\",\"#FF97FF\",\"#FECB52\"],\"font\":{\"color\":\"#2a3f5f\"},\"geo\":{\"bgcolor\":\"white\",\"lakecolor\":\"white\",\"landcolor\":\"white\",\"showlakes\":true,\"showland\":true,\"subunitcolor\":\"#C8D4E3\"},\"hoverlabel\":{\"align\":\"left\"},\"hovermode\":\"closest\",\"mapbox\":{\"style\":\"light\"},\"paper_bgcolor\":\"white\",\"plot_bgcolor\":\"white\",\"polar\":{\"angularaxis\":{\"gridcolor\":\"#EBF0F8\",\"linecolor\":\"#EBF0F8\",\"ticks\":\"\"},\"bgcolor\":\"white\",\"radialaxis\":{\"gridcolor\":\"#EBF0F8\",\"linecolor\":\"#EBF0F8\",\"ticks\":\"\"}},\"scene\":{\"xaxis\":{\"backgroundcolor\":\"white\",\"gridcolor\":\"#DFE8F3\",\"gridwidth\":2,\"linecolor\":\"#EBF0F8\",\"showbackground\":true,\"ticks\":\"\",\"zerolinecolor\":\"#EBF0F8\"},\"yaxis\":{\"backgroundcolor\":\"white\",\"gridcolor\":\"#DFE8F3\",\"gridwidth\":2,\"linecolor\":\"#EBF0F8\",\"showbackground\":true,\"ticks\":\"\",\"zerolinecolor\":\"#EBF0F8\"},\"zaxis\":{\"backgroundcolor\":\"white\",\"gridcolor\":\"#DFE8F3\",\"gridwidth\":2,\"linecolor\":\"#EBF0F8\",\"showbackground\":true,\"ticks\":\"\",\"zerolinecolor\":\"#EBF0F8\"}},\"shapedefaults\":{\"line\":{\"color\":\"#2a3f5f\"}},\"ternary\":{\"aaxis\":{\"gridcolor\":\"#DFE8F3\",\"linecolor\":\"#A2B1C6\",\"ticks\":\"\"},\"baxis\":{\"gridcolor\":\"#DFE8F3\",\"linecolor\":\"#A2B1C6\",\"ticks\":\"\"},\"bgcolor\":\"white\",\"caxis\":{\"gridcolor\":\"#DFE8F3\",\"linecolor\":\"#A2B1C6\",\"ticks\":\"\"}},\"title\":{\"x\":0.05},\"xaxis\":{\"automargin\":true,\"gridcolor\":\"#EBF0F8\",\"linecolor\":\"#EBF0F8\",\"ticks\":\"\",\"title\":{\"standoff\":15},\"zerolinecolor\":\"#EBF0F8\",\"zerolinewidth\":2},\"yaxis\":{\"automargin\":true,\"gridcolor\":\"#EBF0F8\",\"linecolor\":\"#EBF0F8\",\"ticks\":\"\",\"title\":{\"standoff\":15},\"zerolinecolor\":\"#EBF0F8\",\"zerolinewidth\":2}}},\"title\":{\"text\":\"Number of People\"},\"yaxis\":{\"title\":{\"text\":\"Absolute\"}}},                        {\"responsive\": true}                    ).then(function(){\n",
              "                            \n",
              "var gd = document.getElementById('f42f1120-8a05-4a25-8346-b8a60ddaa0f5');\n",
              "var x = new MutationObserver(function (mutations, observer) {{\n",
              "        var display = window.getComputedStyle(gd).display;\n",
              "        if (!display || display === 'none') {{\n",
              "            console.log([gd, 'removed!']);\n",
              "            Plotly.purge(gd);\n",
              "            observer.disconnect();\n",
              "        }}\n",
              "}});\n",
              "\n",
              "// Listen for the removal of the full notebook cells\n",
              "var notebookContainer = gd.closest('#notebook-container');\n",
              "if (notebookContainer) {{\n",
              "    x.observe(notebookContainer, {childList: true});\n",
              "}}\n",
              "\n",
              "// Listen for the clearing of the current output cell\n",
              "var outputEl = gd.closest('.output');\n",
              "if (outputEl) {{\n",
              "    x.observe(outputEl, {childList: true});\n",
              "}}\n",
              "\n",
              "                        })                };                            </script>        </div>\n",
              "</body>\n",
              "</html>"
            ]
          },
          "metadata": {}
        }
      ]
    },
    {
      "cell_type": "code",
      "source": [
        ""
      ],
      "metadata": {
        "id": "LjutOqskcXs5"
      },
      "execution_count": null,
      "outputs": []
    },
    {
      "cell_type": "markdown",
      "source": [
        "# Building Typology"
      ],
      "metadata": {
        "id": "En-aDtZ4q4fa"
      }
    },
    {
      "cell_type": "code",
      "source": [
        "# Generate count status graph\n",
        "def get_construction_typo_graph(construction_typo):\n",
        "  fig = px.bar(bldg_status, x=\"status\", y=\"count\",width=600,height=250,template='plotly_white',title=\"Current Building Status\",category_orders={'status':['Building before', 'Construction', 'Building after']})\n",
        "  fig.update_layout(margin={\"r\":0,\"t\":35,\"l\":0,\"b\":0,\"pad\":0},\n",
        "  showlegend=True,\n",
        "\n",
        "  # font=dict(\n",
        "  #     size=15,\n",
        "  # )\n",
        "  )\n",
        "  fig.update_yaxes(automargin=True)\n",
        "  fig.update_yaxes(range=[0, 70])\n",
        "  return fig"
      ],
      "metadata": {
        "id": "r5mBH7UCrREO"
      },
      "execution_count": 74,
      "outputs": []
    },
    {
      "cell_type": "code",
      "source": [
        "d1 = pd.to_datetime('2022-01-01')\n",
        "d2 = d1 - datetime.timedelta(days=180)\n",
        "bldgs1 = simulatedBldgsGdf[(simulatedBldgsGdf['start_date']< d1 ) & (simulatedBldgsGdf['end_date']> d1 )].copy().reset_index(drop=True)\n",
        "construction_typo_v = bldgs1['project_ty'].value_counts().to_frame().reset_index()\n",
        "construction_typo_v.rename(columns={'index':'project_ty','project_ty':'count'},inplace=True)\n",
        "bldgs1 = simulatedBldgsGdf[(simulatedBldgsGdf['start_date']< d2 ) & (simulatedBldgsGdf['end_date']> d2 )].copy().reset_index(drop=True)\n",
        "construction_typo_d = bldgs1['project_ty'].value_counts().to_frame().reset_index()\n",
        "construction_typo_d.rename(columns={'index':'project_ty','project_ty':'count'},inplace=True)\n",
        "#bldg_status_count = get_status_graph(bldg_status)"
      ],
      "metadata": {
        "id": "kSBBsHjJ-x4K"
      },
      "execution_count": null,
      "outputs": []
    },
    {
      "cell_type": "code",
      "source": [
        "construction_typo"
      ],
      "metadata": {
        "colab": {
          "base_uri": "https://localhost:8080/",
          "height": 165
        },
        "id": "UUOsG1PCrIJy",
        "outputId": "2e6e73d3-1745-44ea-b9da-14c6a6c9d7e0"
      },
      "execution_count": null,
      "outputs": [
        {
          "output_type": "error",
          "ename": "NameError",
          "evalue": "ignored",
          "traceback": [
            "\u001b[0;31m---------------------------------------------------------------------------\u001b[0m",
            "\u001b[0;31mNameError\u001b[0m                                 Traceback (most recent call last)",
            "\u001b[0;32m<ipython-input-31-f30ebc213572>\u001b[0m in \u001b[0;36m<module>\u001b[0;34m()\u001b[0m\n\u001b[0;32m----> 1\u001b[0;31m \u001b[0mconstruction_typo\u001b[0m\u001b[0;34m\u001b[0m\u001b[0;34m\u001b[0m\u001b[0m\n\u001b[0m",
            "\u001b[0;31mNameError\u001b[0m: name 'construction_typo' is not defined"
          ]
        }
      ]
    },
    {
      "cell_type": "code",
      "source": [
        "v_a = construction_typo[construction_typo['project_ty']==1]['count'].values[0]\n",
        "v_r = construction_typo[construction_typo['project_ty']==2]['count'].values[0]\n",
        "v_rr = construction_typo[construction_typo['project_ty']==2]['count'].values[0]"
      ],
      "metadata": {
        "id": "BC1fbxiUyrCW"
      },
      "execution_count": null,
      "outputs": []
    },
    {
      "cell_type": "code",
      "source": [
        "d = pd.to_datetime('2025-01-01')\n",
        "bldgs  = simulatedBldgsGdf[(simulatedBldgsGdf['start_date']< d ) & (simulatedBldgsGdf['end_date']> d )].copy().reset_index(drop=True)\n",
        "bldgs1 = bldgs.copy()\n",
        "agents_synced_buildings_to_date = pd.merge(agents_track_status,bldgs1[['project_nu','status','start_date']],left_on=['ProjNumber','bld_status'], right_on=['project_nu','status'])\n",
        "agents_synced_buildings_to_date_stay_new = agents_synced_buildings_to_date[agents_synced_buildings_to_date['status_x']!='Leave'].drop_duplicates().reset_index(drop=True)"
      ],
      "metadata": {
        "id": "Vt2WpDVQwmbL"
      },
      "execution_count": null,
      "outputs": []
    },
    {
      "cell_type": "code",
      "source": [
        "agents_synced_buildings_to_date_stay_new['status_x']"
      ],
      "metadata": {
        "colab": {
          "base_uri": "https://localhost:8080/"
        },
        "id": "bcCVejE_xPER",
        "outputId": "8bffcb46-af7f-43f6-df4d-5365756512e0"
      },
      "execution_count": null,
      "outputs": [
        {
          "output_type": "execute_result",
          "data": {
            "text/plain": [
              "0             stay\n",
              "1             stay\n",
              "2             stay\n",
              "3             stay\n",
              "4             stay\n",
              "           ...    \n",
              "1921    New Comers\n",
              "1922    New Comers\n",
              "1923    New Comers\n",
              "1924    New Comers\n",
              "1925    New Comers\n",
              "Name: status_x, Length: 1926, dtype: object"
            ]
          },
          "metadata": {},
          "execution_count": 33
        }
      ]
    },
    {
      "cell_type": "code",
      "source": [
        "year_makrs = [year for year in np.arange(2015,2031,0.5)]\n",
        "years_with_q2_makrs = []\n",
        "for year in year_makrs:\n",
        "    d = pd.to_datetime(f'{int(year)}-07-01')\n",
        "    if year % 1 == 0:\n",
        "        d = pd.to_datetime(f'{int(year)}-01-01')\n",
        "    years_with_q2_makrs.append(d)"
      ],
      "metadata": {
        "id": "Hb-7QCH5w2pQ"
      },
      "execution_count": null,
      "outputs": []
    },
    {
      "cell_type": "code",
      "source": [
        "age_grown1 = d.year-years_with_q2_makrs[0].year\n",
        "agents_synced_buildings_to_date_stay_new.loc[agents_synced_buildings_to_date_stay_new['status_x']=='stay','age'] = agents_synced_buildings_to_date_stay_new.loc[agents_synced_buildings_to_date_stay_new['status_x']=='stay','age'] + age_grown1\n",
        "agents_synced_buildings_to_date_stay_new.loc[agents_synced_buildings_to_date_stay_new['status_x']=='New Comers','age'] = agents_synced_buildings_to_date_stay_new.loc[agents_synced_buildings_to_date_stay_new['status_x']=='New Comers'].apply(lambda p: p['age'] + (d.year - p['start_date'].year),axis=1)\n",
        "\n",
        "agents_synced_buildings_to_date_stay_new['age_group'] = pd.cut(agents_synced_buildings_to_date_stay_new['age'], [0,44,64,84,130],right=True, labels=[\"18-44\", \"45-64\", \"65-84\", \"85+\"],ordered=True)\n",
        "agents_stay_age_income =agents_synced_buildings_to_date_stay_new[['status_x','age_group','income_cat']].reset_index(drop=True).rename(columns={'status_x':'Stay or leave','age_group':'Age group','income_cat':'Income category'})"
      ],
      "metadata": {
        "id": "Tzi9BG1WxP_G"
      },
      "execution_count": null,
      "outputs": []
    },
    {
      "cell_type": "code",
      "source": [
        ""
      ],
      "metadata": {
        "id": "fgJ1CveP8s1s"
      },
      "execution_count": null,
      "outputs": []
    },
    {
      "cell_type": "code",
      "source": [
        ""
      ],
      "metadata": {
        "id": "_NVk1tD89db2"
      },
      "execution_count": null,
      "outputs": []
    },
    {
      "cell_type": "code",
      "source": [
        "agents_synced_buildings_to_date_stay_new[['status_x','age_group','income_cat']]"
      ],
      "metadata": {
        "colab": {
          "base_uri": "https://localhost:8080/",
          "height": 424
        },
        "id": "fEEvWw-36CWU",
        "outputId": "d4ec916e-c92d-46d9-8809-1d44d7722313"
      },
      "execution_count": null,
      "outputs": [
        {
          "output_type": "execute_result",
          "data": {
            "text/plain": [
              "        status_x age_group income_cat\n",
              "0           stay     45-64     Medium\n",
              "1           stay     45-64     Medium\n",
              "2           stay     45-64     Medium\n",
              "3           stay     45-64     Medium\n",
              "4           stay     45-64     Medium\n",
              "...          ...       ...        ...\n",
              "1921  New Comers     45-64       High\n",
              "1922  New Comers     45-64       High\n",
              "1923  New Comers     45-64       High\n",
              "1924  New Comers       85+       High\n",
              "1925  New Comers     18-44       High\n",
              "\n",
              "[1926 rows x 3 columns]"
            ],
            "text/html": [
              "\n",
              "  <div id=\"df-252b9664-e25a-4c6c-bcba-50f30f4c2d81\">\n",
              "    <div class=\"colab-df-container\">\n",
              "      <div>\n",
              "<style scoped>\n",
              "    .dataframe tbody tr th:only-of-type {\n",
              "        vertical-align: middle;\n",
              "    }\n",
              "\n",
              "    .dataframe tbody tr th {\n",
              "        vertical-align: top;\n",
              "    }\n",
              "\n",
              "    .dataframe thead th {\n",
              "        text-align: right;\n",
              "    }\n",
              "</style>\n",
              "<table border=\"1\" class=\"dataframe\">\n",
              "  <thead>\n",
              "    <tr style=\"text-align: right;\">\n",
              "      <th></th>\n",
              "      <th>status_x</th>\n",
              "      <th>age_group</th>\n",
              "      <th>income_cat</th>\n",
              "    </tr>\n",
              "  </thead>\n",
              "  <tbody>\n",
              "    <tr>\n",
              "      <th>0</th>\n",
              "      <td>stay</td>\n",
              "      <td>45-64</td>\n",
              "      <td>Medium</td>\n",
              "    </tr>\n",
              "    <tr>\n",
              "      <th>1</th>\n",
              "      <td>stay</td>\n",
              "      <td>45-64</td>\n",
              "      <td>Medium</td>\n",
              "    </tr>\n",
              "    <tr>\n",
              "      <th>2</th>\n",
              "      <td>stay</td>\n",
              "      <td>45-64</td>\n",
              "      <td>Medium</td>\n",
              "    </tr>\n",
              "    <tr>\n",
              "      <th>3</th>\n",
              "      <td>stay</td>\n",
              "      <td>45-64</td>\n",
              "      <td>Medium</td>\n",
              "    </tr>\n",
              "    <tr>\n",
              "      <th>4</th>\n",
              "      <td>stay</td>\n",
              "      <td>45-64</td>\n",
              "      <td>Medium</td>\n",
              "    </tr>\n",
              "    <tr>\n",
              "      <th>...</th>\n",
              "      <td>...</td>\n",
              "      <td>...</td>\n",
              "      <td>...</td>\n",
              "    </tr>\n",
              "    <tr>\n",
              "      <th>1921</th>\n",
              "      <td>New Comers</td>\n",
              "      <td>45-64</td>\n",
              "      <td>High</td>\n",
              "    </tr>\n",
              "    <tr>\n",
              "      <th>1922</th>\n",
              "      <td>New Comers</td>\n",
              "      <td>45-64</td>\n",
              "      <td>High</td>\n",
              "    </tr>\n",
              "    <tr>\n",
              "      <th>1923</th>\n",
              "      <td>New Comers</td>\n",
              "      <td>45-64</td>\n",
              "      <td>High</td>\n",
              "    </tr>\n",
              "    <tr>\n",
              "      <th>1924</th>\n",
              "      <td>New Comers</td>\n",
              "      <td>85+</td>\n",
              "      <td>High</td>\n",
              "    </tr>\n",
              "    <tr>\n",
              "      <th>1925</th>\n",
              "      <td>New Comers</td>\n",
              "      <td>18-44</td>\n",
              "      <td>High</td>\n",
              "    </tr>\n",
              "  </tbody>\n",
              "</table>\n",
              "<p>1926 rows × 3 columns</p>\n",
              "</div>\n",
              "      <button class=\"colab-df-convert\" onclick=\"convertToInteractive('df-252b9664-e25a-4c6c-bcba-50f30f4c2d81')\"\n",
              "              title=\"Convert this dataframe to an interactive table.\"\n",
              "              style=\"display:none;\">\n",
              "        \n",
              "  <svg xmlns=\"http://www.w3.org/2000/svg\" height=\"24px\"viewBox=\"0 0 24 24\"\n",
              "       width=\"24px\">\n",
              "    <path d=\"M0 0h24v24H0V0z\" fill=\"none\"/>\n",
              "    <path d=\"M18.56 5.44l.94 2.06.94-2.06 2.06-.94-2.06-.94-.94-2.06-.94 2.06-2.06.94zm-11 1L8.5 8.5l.94-2.06 2.06-.94-2.06-.94L8.5 2.5l-.94 2.06-2.06.94zm10 10l.94 2.06.94-2.06 2.06-.94-2.06-.94-.94-2.06-.94 2.06-2.06.94z\"/><path d=\"M17.41 7.96l-1.37-1.37c-.4-.4-.92-.59-1.43-.59-.52 0-1.04.2-1.43.59L10.3 9.45l-7.72 7.72c-.78.78-.78 2.05 0 2.83L4 21.41c.39.39.9.59 1.41.59.51 0 1.02-.2 1.41-.59l7.78-7.78 2.81-2.81c.8-.78.8-2.07 0-2.86zM5.41 20L4 18.59l7.72-7.72 1.47 1.35L5.41 20z\"/>\n",
              "  </svg>\n",
              "      </button>\n",
              "      \n",
              "  <style>\n",
              "    .colab-df-container {\n",
              "      display:flex;\n",
              "      flex-wrap:wrap;\n",
              "      gap: 12px;\n",
              "    }\n",
              "\n",
              "    .colab-df-convert {\n",
              "      background-color: #E8F0FE;\n",
              "      border: none;\n",
              "      border-radius: 50%;\n",
              "      cursor: pointer;\n",
              "      display: none;\n",
              "      fill: #1967D2;\n",
              "      height: 32px;\n",
              "      padding: 0 0 0 0;\n",
              "      width: 32px;\n",
              "    }\n",
              "\n",
              "    .colab-df-convert:hover {\n",
              "      background-color: #E2EBFA;\n",
              "      box-shadow: 0px 1px 2px rgba(60, 64, 67, 0.3), 0px 1px 3px 1px rgba(60, 64, 67, 0.15);\n",
              "      fill: #174EA6;\n",
              "    }\n",
              "\n",
              "    [theme=dark] .colab-df-convert {\n",
              "      background-color: #3B4455;\n",
              "      fill: #D2E3FC;\n",
              "    }\n",
              "\n",
              "    [theme=dark] .colab-df-convert:hover {\n",
              "      background-color: #434B5C;\n",
              "      box-shadow: 0px 1px 3px 1px rgba(0, 0, 0, 0.15);\n",
              "      filter: drop-shadow(0px 1px 2px rgba(0, 0, 0, 0.3));\n",
              "      fill: #FFFFFF;\n",
              "    }\n",
              "  </style>\n",
              "\n",
              "      <script>\n",
              "        const buttonEl =\n",
              "          document.querySelector('#df-252b9664-e25a-4c6c-bcba-50f30f4c2d81 button.colab-df-convert');\n",
              "        buttonEl.style.display =\n",
              "          google.colab.kernel.accessAllowed ? 'block' : 'none';\n",
              "\n",
              "        async function convertToInteractive(key) {\n",
              "          const element = document.querySelector('#df-252b9664-e25a-4c6c-bcba-50f30f4c2d81');\n",
              "          const dataTable =\n",
              "            await google.colab.kernel.invokeFunction('convertToInteractive',\n",
              "                                                     [key], {});\n",
              "          if (!dataTable) return;\n",
              "\n",
              "          const docLinkHtml = 'Like what you see? Visit the ' +\n",
              "            '<a target=\"_blank\" href=https://colab.research.google.com/notebooks/data_table.ipynb>data table notebook</a>'\n",
              "            + ' to learn more about interactive tables.';\n",
              "          element.innerHTML = '';\n",
              "          dataTable['output_type'] = 'display_data';\n",
              "          await google.colab.output.renderOutput(dataTable, element);\n",
              "          const docLink = document.createElement('div');\n",
              "          docLink.innerHTML = docLinkHtml;\n",
              "          element.appendChild(docLink);\n",
              "        }\n",
              "      </script>\n",
              "    </div>\n",
              "  </div>\n",
              "  "
            ]
          },
          "metadata": {},
          "execution_count": 36
        }
      ]
    },
    {
      "cell_type": "code",
      "source": [
        ""
      ],
      "metadata": {
        "id": "5W8hCEgh9miK"
      },
      "execution_count": null,
      "outputs": []
    },
    {
      "cell_type": "code",
      "source": [
        "fig = px.sunburst(agents_stay_age_income, path=['Stay or leave','Age group','Income category'])"
      ],
      "metadata": {
        "id": "8Jf8ojBc7-vz"
      },
      "execution_count": null,
      "outputs": []
    },
    {
      "cell_type": "code",
      "source": [
        "fig"
      ],
      "metadata": {
        "colab": {
          "base_uri": "https://localhost:8080/",
          "height": 542
        },
        "id": "4grwKuH3uOzJ",
        "outputId": "891d68cc-f73c-4af3-94f1-0ee5c6033eed"
      },
      "execution_count": null,
      "outputs": [
        {
          "output_type": "display_data",
          "data": {
            "text/html": [
              "<html>\n",
              "<head><meta charset=\"utf-8\" /></head>\n",
              "<body>\n",
              "    <div>            <script src=\"https://cdnjs.cloudflare.com/ajax/libs/mathjax/2.7.5/MathJax.js?config=TeX-AMS-MML_SVG\"></script><script type=\"text/javascript\">if (window.MathJax) {MathJax.Hub.Config({SVG: {font: \"STIX-Web\"}});}</script>                <script type=\"text/javascript\">window.PlotlyConfig = {MathJaxConfig: 'local'};</script>\n",
              "        <script src=\"https://cdn.plot.ly/plotly-2.8.3.min.js\"></script>                <div id=\"6e3ffa8a-b9a0-4bf8-8cbf-e29aa29f48c0\" class=\"plotly-graph-div\" style=\"height:525px; width:100%;\"></div>            <script type=\"text/javascript\">                                    window.PLOTLYENV=window.PLOTLYENV || {};                                    if (document.getElementById(\"6e3ffa8a-b9a0-4bf8-8cbf-e29aa29f48c0\")) {                    Plotly.newPlot(                        \"6e3ffa8a-b9a0-4bf8-8cbf-e29aa29f48c0\",                        [{\"branchvalues\":\"total\",\"domain\":{\"x\":[0.0,1.0],\"y\":[0.0,1.0]},\"hovertemplate\":\"labels=%{label}<br>count=%{value}<br>parent=%{parent}<br>id=%{id}<extra></extra>\",\"ids\":[\"New Comers/18-44/Low\",\"stay/18-44/Low\",\"New Comers/45-64/Low\",\"stay/45-64/Low\",\"New Comers/65-84/Low\",\"stay/65-84/Low\",\"New Comers/85+/Low\",\"stay/85+/Low\",\"New Comers/18-44/Medium\",\"stay/18-44/Medium\",\"New Comers/45-64/Medium\",\"stay/45-64/Medium\",\"New Comers/65-84/Medium\",\"stay/65-84/Medium\",\"New Comers/85+/Medium\",\"stay/85+/Medium\",\"New Comers/18-44/High\",\"stay/18-44/High\",\"New Comers/45-64/High\",\"stay/45-64/High\",\"New Comers/65-84/High\",\"stay/65-84/High\",\"New Comers/85+/High\",\"stay/85+/High\",\"New Comers/18-44\",\"stay/18-44\",\"New Comers/45-64\",\"stay/45-64\",\"New Comers/65-84\",\"stay/65-84\",\"New Comers/85+\",\"stay/85+\",\"New Comers\",\"stay\"],\"labels\":[\"Low\",\"Low\",\"Low\",\"Low\",\"Low\",\"Low\",\"Low\",\"Low\",\"Medium\",\"Medium\",\"Medium\",\"Medium\",\"Medium\",\"Medium\",\"Medium\",\"Medium\",\"High\",\"High\",\"High\",\"High\",\"High\",\"High\",\"High\",\"High\",\"18-44\",\"18-44\",\"45-64\",\"45-64\",\"65-84\",\"65-84\",\"85+\",\"85+\",\"New Comers\",\"stay\"],\"name\":\"\",\"parents\":[\"New Comers/18-44\",\"stay/18-44\",\"New Comers/45-64\",\"stay/45-64\",\"New Comers/65-84\",\"stay/65-84\",\"New Comers/85+\",\"stay/85+\",\"New Comers/18-44\",\"stay/18-44\",\"New Comers/45-64\",\"stay/45-64\",\"New Comers/65-84\",\"stay/65-84\",\"New Comers/85+\",\"stay/85+\",\"New Comers/18-44\",\"stay/18-44\",\"New Comers/45-64\",\"stay/45-64\",\"New Comers/65-84\",\"stay/65-84\",\"New Comers/85+\",\"stay/85+\",\"New Comers\",\"stay\",\"New Comers\",\"stay\",\"New Comers\",\"stay\",\"New Comers\",\"stay\",\"\",\"\"],\"values\":[0,5,0,8,0,4,0,0,79,28,67,54,79,22,19,2,509,0,549,0,374,0,127,0,588,33,616,62,453,26,146,2,1803,123],\"type\":\"sunburst\"}],                        {\"template\":{\"data\":{\"bar\":[{\"error_x\":{\"color\":\"#2a3f5f\"},\"error_y\":{\"color\":\"#2a3f5f\"},\"marker\":{\"line\":{\"color\":\"#E5ECF6\",\"width\":0.5},\"pattern\":{\"fillmode\":\"overlay\",\"size\":10,\"solidity\":0.2}},\"type\":\"bar\"}],\"barpolar\":[{\"marker\":{\"line\":{\"color\":\"#E5ECF6\",\"width\":0.5},\"pattern\":{\"fillmode\":\"overlay\",\"size\":10,\"solidity\":0.2}},\"type\":\"barpolar\"}],\"carpet\":[{\"aaxis\":{\"endlinecolor\":\"#2a3f5f\",\"gridcolor\":\"white\",\"linecolor\":\"white\",\"minorgridcolor\":\"white\",\"startlinecolor\":\"#2a3f5f\"},\"baxis\":{\"endlinecolor\":\"#2a3f5f\",\"gridcolor\":\"white\",\"linecolor\":\"white\",\"minorgridcolor\":\"white\",\"startlinecolor\":\"#2a3f5f\"},\"type\":\"carpet\"}],\"choropleth\":[{\"colorbar\":{\"outlinewidth\":0,\"ticks\":\"\"},\"type\":\"choropleth\"}],\"contour\":[{\"colorbar\":{\"outlinewidth\":0,\"ticks\":\"\"},\"colorscale\":[[0.0,\"#0d0887\"],[0.1111111111111111,\"#46039f\"],[0.2222222222222222,\"#7201a8\"],[0.3333333333333333,\"#9c179e\"],[0.4444444444444444,\"#bd3786\"],[0.5555555555555556,\"#d8576b\"],[0.6666666666666666,\"#ed7953\"],[0.7777777777777778,\"#fb9f3a\"],[0.8888888888888888,\"#fdca26\"],[1.0,\"#f0f921\"]],\"type\":\"contour\"}],\"contourcarpet\":[{\"colorbar\":{\"outlinewidth\":0,\"ticks\":\"\"},\"type\":\"contourcarpet\"}],\"heatmap\":[{\"colorbar\":{\"outlinewidth\":0,\"ticks\":\"\"},\"colorscale\":[[0.0,\"#0d0887\"],[0.1111111111111111,\"#46039f\"],[0.2222222222222222,\"#7201a8\"],[0.3333333333333333,\"#9c179e\"],[0.4444444444444444,\"#bd3786\"],[0.5555555555555556,\"#d8576b\"],[0.6666666666666666,\"#ed7953\"],[0.7777777777777778,\"#fb9f3a\"],[0.8888888888888888,\"#fdca26\"],[1.0,\"#f0f921\"]],\"type\":\"heatmap\"}],\"heatmapgl\":[{\"colorbar\":{\"outlinewidth\":0,\"ticks\":\"\"},\"colorscale\":[[0.0,\"#0d0887\"],[0.1111111111111111,\"#46039f\"],[0.2222222222222222,\"#7201a8\"],[0.3333333333333333,\"#9c179e\"],[0.4444444444444444,\"#bd3786\"],[0.5555555555555556,\"#d8576b\"],[0.6666666666666666,\"#ed7953\"],[0.7777777777777778,\"#fb9f3a\"],[0.8888888888888888,\"#fdca26\"],[1.0,\"#f0f921\"]],\"type\":\"heatmapgl\"}],\"histogram\":[{\"marker\":{\"pattern\":{\"fillmode\":\"overlay\",\"size\":10,\"solidity\":0.2}},\"type\":\"histogram\"}],\"histogram2d\":[{\"colorbar\":{\"outlinewidth\":0,\"ticks\":\"\"},\"colorscale\":[[0.0,\"#0d0887\"],[0.1111111111111111,\"#46039f\"],[0.2222222222222222,\"#7201a8\"],[0.3333333333333333,\"#9c179e\"],[0.4444444444444444,\"#bd3786\"],[0.5555555555555556,\"#d8576b\"],[0.6666666666666666,\"#ed7953\"],[0.7777777777777778,\"#fb9f3a\"],[0.8888888888888888,\"#fdca26\"],[1.0,\"#f0f921\"]],\"type\":\"histogram2d\"}],\"histogram2dcontour\":[{\"colorbar\":{\"outlinewidth\":0,\"ticks\":\"\"},\"colorscale\":[[0.0,\"#0d0887\"],[0.1111111111111111,\"#46039f\"],[0.2222222222222222,\"#7201a8\"],[0.3333333333333333,\"#9c179e\"],[0.4444444444444444,\"#bd3786\"],[0.5555555555555556,\"#d8576b\"],[0.6666666666666666,\"#ed7953\"],[0.7777777777777778,\"#fb9f3a\"],[0.8888888888888888,\"#fdca26\"],[1.0,\"#f0f921\"]],\"type\":\"histogram2dcontour\"}],\"mesh3d\":[{\"colorbar\":{\"outlinewidth\":0,\"ticks\":\"\"},\"type\":\"mesh3d\"}],\"parcoords\":[{\"line\":{\"colorbar\":{\"outlinewidth\":0,\"ticks\":\"\"}},\"type\":\"parcoords\"}],\"pie\":[{\"automargin\":true,\"type\":\"pie\"}],\"scatter\":[{\"marker\":{\"colorbar\":{\"outlinewidth\":0,\"ticks\":\"\"}},\"type\":\"scatter\"}],\"scatter3d\":[{\"line\":{\"colorbar\":{\"outlinewidth\":0,\"ticks\":\"\"}},\"marker\":{\"colorbar\":{\"outlinewidth\":0,\"ticks\":\"\"}},\"type\":\"scatter3d\"}],\"scattercarpet\":[{\"marker\":{\"colorbar\":{\"outlinewidth\":0,\"ticks\":\"\"}},\"type\":\"scattercarpet\"}],\"scattergeo\":[{\"marker\":{\"colorbar\":{\"outlinewidth\":0,\"ticks\":\"\"}},\"type\":\"scattergeo\"}],\"scattergl\":[{\"marker\":{\"colorbar\":{\"outlinewidth\":0,\"ticks\":\"\"}},\"type\":\"scattergl\"}],\"scattermapbox\":[{\"marker\":{\"colorbar\":{\"outlinewidth\":0,\"ticks\":\"\"}},\"type\":\"scattermapbox\"}],\"scatterpolar\":[{\"marker\":{\"colorbar\":{\"outlinewidth\":0,\"ticks\":\"\"}},\"type\":\"scatterpolar\"}],\"scatterpolargl\":[{\"marker\":{\"colorbar\":{\"outlinewidth\":0,\"ticks\":\"\"}},\"type\":\"scatterpolargl\"}],\"scatterternary\":[{\"marker\":{\"colorbar\":{\"outlinewidth\":0,\"ticks\":\"\"}},\"type\":\"scatterternary\"}],\"surface\":[{\"colorbar\":{\"outlinewidth\":0,\"ticks\":\"\"},\"colorscale\":[[0.0,\"#0d0887\"],[0.1111111111111111,\"#46039f\"],[0.2222222222222222,\"#7201a8\"],[0.3333333333333333,\"#9c179e\"],[0.4444444444444444,\"#bd3786\"],[0.5555555555555556,\"#d8576b\"],[0.6666666666666666,\"#ed7953\"],[0.7777777777777778,\"#fb9f3a\"],[0.8888888888888888,\"#fdca26\"],[1.0,\"#f0f921\"]],\"type\":\"surface\"}],\"table\":[{\"cells\":{\"fill\":{\"color\":\"#EBF0F8\"},\"line\":{\"color\":\"white\"}},\"header\":{\"fill\":{\"color\":\"#C8D4E3\"},\"line\":{\"color\":\"white\"}},\"type\":\"table\"}]},\"layout\":{\"annotationdefaults\":{\"arrowcolor\":\"#2a3f5f\",\"arrowhead\":0,\"arrowwidth\":1},\"autotypenumbers\":\"strict\",\"coloraxis\":{\"colorbar\":{\"outlinewidth\":0,\"ticks\":\"\"}},\"colorscale\":{\"diverging\":[[0,\"#8e0152\"],[0.1,\"#c51b7d\"],[0.2,\"#de77ae\"],[0.3,\"#f1b6da\"],[0.4,\"#fde0ef\"],[0.5,\"#f7f7f7\"],[0.6,\"#e6f5d0\"],[0.7,\"#b8e186\"],[0.8,\"#7fbc41\"],[0.9,\"#4d9221\"],[1,\"#276419\"]],\"sequential\":[[0.0,\"#0d0887\"],[0.1111111111111111,\"#46039f\"],[0.2222222222222222,\"#7201a8\"],[0.3333333333333333,\"#9c179e\"],[0.4444444444444444,\"#bd3786\"],[0.5555555555555556,\"#d8576b\"],[0.6666666666666666,\"#ed7953\"],[0.7777777777777778,\"#fb9f3a\"],[0.8888888888888888,\"#fdca26\"],[1.0,\"#f0f921\"]],\"sequentialminus\":[[0.0,\"#0d0887\"],[0.1111111111111111,\"#46039f\"],[0.2222222222222222,\"#7201a8\"],[0.3333333333333333,\"#9c179e\"],[0.4444444444444444,\"#bd3786\"],[0.5555555555555556,\"#d8576b\"],[0.6666666666666666,\"#ed7953\"],[0.7777777777777778,\"#fb9f3a\"],[0.8888888888888888,\"#fdca26\"],[1.0,\"#f0f921\"]]},\"colorway\":[\"#636efa\",\"#EF553B\",\"#00cc96\",\"#ab63fa\",\"#FFA15A\",\"#19d3f3\",\"#FF6692\",\"#B6E880\",\"#FF97FF\",\"#FECB52\"],\"font\":{\"color\":\"#2a3f5f\"},\"geo\":{\"bgcolor\":\"white\",\"lakecolor\":\"white\",\"landcolor\":\"#E5ECF6\",\"showlakes\":true,\"showland\":true,\"subunitcolor\":\"white\"},\"hoverlabel\":{\"align\":\"left\"},\"hovermode\":\"closest\",\"mapbox\":{\"style\":\"light\"},\"paper_bgcolor\":\"white\",\"plot_bgcolor\":\"#E5ECF6\",\"polar\":{\"angularaxis\":{\"gridcolor\":\"white\",\"linecolor\":\"white\",\"ticks\":\"\"},\"bgcolor\":\"#E5ECF6\",\"radialaxis\":{\"gridcolor\":\"white\",\"linecolor\":\"white\",\"ticks\":\"\"}},\"scene\":{\"xaxis\":{\"backgroundcolor\":\"#E5ECF6\",\"gridcolor\":\"white\",\"gridwidth\":2,\"linecolor\":\"white\",\"showbackground\":true,\"ticks\":\"\",\"zerolinecolor\":\"white\"},\"yaxis\":{\"backgroundcolor\":\"#E5ECF6\",\"gridcolor\":\"white\",\"gridwidth\":2,\"linecolor\":\"white\",\"showbackground\":true,\"ticks\":\"\",\"zerolinecolor\":\"white\"},\"zaxis\":{\"backgroundcolor\":\"#E5ECF6\",\"gridcolor\":\"white\",\"gridwidth\":2,\"linecolor\":\"white\",\"showbackground\":true,\"ticks\":\"\",\"zerolinecolor\":\"white\"}},\"shapedefaults\":{\"line\":{\"color\":\"#2a3f5f\"}},\"ternary\":{\"aaxis\":{\"gridcolor\":\"white\",\"linecolor\":\"white\",\"ticks\":\"\"},\"baxis\":{\"gridcolor\":\"white\",\"linecolor\":\"white\",\"ticks\":\"\"},\"bgcolor\":\"#E5ECF6\",\"caxis\":{\"gridcolor\":\"white\",\"linecolor\":\"white\",\"ticks\":\"\"}},\"title\":{\"x\":0.05},\"xaxis\":{\"automargin\":true,\"gridcolor\":\"white\",\"linecolor\":\"white\",\"ticks\":\"\",\"title\":{\"standoff\":15},\"zerolinecolor\":\"white\",\"zerolinewidth\":2},\"yaxis\":{\"automargin\":true,\"gridcolor\":\"white\",\"linecolor\":\"white\",\"ticks\":\"\",\"title\":{\"standoff\":15},\"zerolinecolor\":\"white\",\"zerolinewidth\":2}}},\"legend\":{\"tracegroupgap\":0},\"margin\":{\"t\":60}},                        {\"responsive\": true}                    ).then(function(){\n",
              "                            \n",
              "var gd = document.getElementById('6e3ffa8a-b9a0-4bf8-8cbf-e29aa29f48c0');\n",
              "var x = new MutationObserver(function (mutations, observer) {{\n",
              "        var display = window.getComputedStyle(gd).display;\n",
              "        if (!display || display === 'none') {{\n",
              "            console.log([gd, 'removed!']);\n",
              "            Plotly.purge(gd);\n",
              "            observer.disconnect();\n",
              "        }}\n",
              "}});\n",
              "\n",
              "// Listen for the removal of the full notebook cells\n",
              "var notebookContainer = gd.closest('#notebook-container');\n",
              "if (notebookContainer) {{\n",
              "    x.observe(notebookContainer, {childList: true});\n",
              "}}\n",
              "\n",
              "// Listen for the clearing of the current output cell\n",
              "var outputEl = gd.closest('.output');\n",
              "if (outputEl) {{\n",
              "    x.observe(outputEl, {childList: true});\n",
              "}}\n",
              "\n",
              "                        })                };                            </script>        </div>\n",
              "</body>\n",
              "</html>"
            ]
          },
          "metadata": {}
        }
      ]
    },
    {
      "cell_type": "code",
      "source": [
        "#https://github.com/Shai2u/demographic_estimation_dashboard_article/blob/main/assets/color_labels.xlsx\n",
        "color_labels = pd.read_excel(\n",
        "    'https://raw.githubusercontent.com/Shai2u/demographic_estimation_dashboard_article/main/assets/color_labels.xlsx')\n",
        "colorDict = dict(zip(color_labels['label'], color_labels['colors_']))\n"
      ],
      "metadata": {
        "id": "kJcECM8BxCWb"
      },
      "execution_count": null,
      "outputs": []
    },
    {
      "cell_type": "code",
      "source": [
        "colorDict"
      ],
      "metadata": {
        "colab": {
          "base_uri": "https://localhost:8080/"
        },
        "id": "5ygnPKA2vLzt",
        "outputId": "4541b0cf-5655-40ec-f361-95889337f885"
      },
      "execution_count": null,
      "outputs": [
        {
          "output_type": "execute_result",
          "data": {
            "text/plain": [
              "{'18-44': 'hsv(205,80%,80%)',\n",
              " '45-64': 'hsv(205,60%,90%)',\n",
              " '65-84': 'hsv(205,30%,90%)',\n",
              " '85+': 'hsv(205,10%,90%)',\n",
              " 'High': 'hsv(350,90%,75%)',\n",
              " 'Low': 'hsv(350,25%,100%)',\n",
              " 'Medium': 'hsv(350,50%,95%)',\n",
              " 'New Comers': 'hsv(210,90%,50%)',\n",
              " 'stay': 'hsv(350,90%,50%)'}"
            ]
          },
          "metadata": {},
          "execution_count": 40
        }
      ]
    },
    {
      "cell_type": "code",
      "source": [
        ""
      ],
      "metadata": {
        "id": "JMFAEYPdvNnw"
      },
      "execution_count": null,
      "outputs": []
    },
    {
      "cell_type": "code",
      "source": [
        "d"
      ],
      "metadata": {
        "colab": {
          "base_uri": "https://localhost:8080/"
        },
        "id": "T0IghiTxw9fh",
        "outputId": "e94ba00d-ca2a-41f0-af17-227d6418f899"
      },
      "execution_count": null,
      "outputs": [
        {
          "output_type": "execute_result",
          "data": {
            "text/plain": [
              "Timestamp('2030-07-01 00:00:00')"
            ]
          },
          "metadata": {},
          "execution_count": 41
        }
      ]
    },
    {
      "cell_type": "code",
      "source": [
        "labels_text = fig.data[0].labels.tolist()"
      ],
      "metadata": {
        "id": "mF98MU9o4k9B"
      },
      "execution_count": null,
      "outputs": []
    },
    {
      "cell_type": "code",
      "source": [
        "labels_text"
      ],
      "metadata": {
        "colab": {
          "base_uri": "https://localhost:8080/"
        },
        "id": "J38HJNUfuq6P",
        "outputId": "4d8476bf-4a90-4352-a1aa-2193e2e85bc9"
      },
      "execution_count": null,
      "outputs": [
        {
          "output_type": "execute_result",
          "data": {
            "text/plain": [
              "['Low',\n",
              " 'Low',\n",
              " 'Low',\n",
              " 'Low',\n",
              " 'Low',\n",
              " 'Low',\n",
              " 'Low',\n",
              " 'Low',\n",
              " 'Medium',\n",
              " 'Medium',\n",
              " 'Medium',\n",
              " 'Medium',\n",
              " 'Medium',\n",
              " 'Medium',\n",
              " 'Medium',\n",
              " 'Medium',\n",
              " 'High',\n",
              " 'High',\n",
              " 'High',\n",
              " 'High',\n",
              " 'High',\n",
              " 'High',\n",
              " 'High',\n",
              " 'High',\n",
              " '18-44',\n",
              " '18-44',\n",
              " '45-64',\n",
              " '45-64',\n",
              " '65-84',\n",
              " '65-84',\n",
              " '85+',\n",
              " '85+',\n",
              " 'New Comers',\n",
              " 'stay']"
            ]
          },
          "metadata": {},
          "execution_count": 43
        }
      ]
    },
    {
      "cell_type": "code",
      "source": [
        "fig.data[0].marker.colors"
      ],
      "metadata": {
        "id": "ox90WNTjurrm"
      },
      "execution_count": null,
      "outputs": []
    },
    {
      "cell_type": "code",
      "source": [
        ""
      ],
      "metadata": {
        "id": "Z0QyL1Yv4KUC"
      },
      "execution_count": null,
      "outputs": []
    },
    {
      "cell_type": "code",
      "source": [
        ""
      ],
      "metadata": {
        "id": "PRDh9erC4Ntj"
      },
      "execution_count": null,
      "outputs": []
    },
    {
      "cell_type": "code",
      "source": [
        ""
      ],
      "metadata": {
        "id": "9cZ99yGxwnLi"
      },
      "execution_count": null,
      "outputs": []
    },
    {
      "cell_type": "markdown",
      "source": [
        "# Sunburst"
      ],
      "metadata": {
        "id": "da0Shpfat0LA"
      }
    },
    {
      "cell_type": "code",
      "source": [
        "    def sunburst_graph(r, year_, color_field='raw age', colorDict_=colorDict, group_color_dict=group_color_dict):\n",
        "        title_ = f'{year_} : Market Vs Affordable Units Age/Income in WIRE'\n",
        "        # color_discrete_map = color_group_map_\n",
        "        colors_ = group_color_dict['colors_age'].unique().tolist()\n",
        "        fig = px.sunburst(r, path=['ap_class', 'Age Group', 'Income'],\n",
        "                          color=color_field, color_continuous_scale=colors_, title=title_,)\n",
        "\n",
        "        labels_text = fig.data[0].labels.tolist()\n",
        "        colorLabels = tuple(colorDict_[item] for item in labels_text)\n",
        "        fig.data[0].marker.colors = colorLabels\n",
        "        fig.update_traces(textinfo=\"label+percent entry\")\n",
        "        fig.update_layout(showlegend=False, margin=dict(l=50, r=50, t=100, b=50), legend=dict(\n",
        "            yanchor=\"top\", y=1, xanchor=\"left\", x=1, orientation=\"h\"), width=sim_plot.cont_width, height=sim_plot.tl_height+50,font=dict(size=sim_plot.textSize_))\n",
        "        return fig"
      ],
      "metadata": {
        "colab": {
          "base_uri": "https://localhost:8080/",
          "height": 252
        },
        "id": "tayqzACvq7vN",
        "outputId": "a4aaca7b-80c7-45b1-e62c-0202bdf1af88"
      },
      "execution_count": null,
      "outputs": [
        {
          "output_type": "error",
          "ename": "NameError",
          "evalue": "ignored",
          "traceback": [
            "\u001b[0;31m---------------------------------------------------------------------------\u001b[0m",
            "\u001b[0;31mNameError\u001b[0m                                 Traceback (most recent call last)",
            "\u001b[0;32m<ipython-input-45-2adb31e2ba2a>\u001b[0m in \u001b[0;36m<module>\u001b[0;34m()\u001b[0m\n\u001b[0;32m----> 1\u001b[0;31m \u001b[0;32mdef\u001b[0m \u001b[0msunburst_graph\u001b[0m\u001b[0;34m(\u001b[0m\u001b[0mr\u001b[0m\u001b[0;34m,\u001b[0m \u001b[0myear_\u001b[0m\u001b[0;34m,\u001b[0m \u001b[0mcolor_field\u001b[0m\u001b[0;34m=\u001b[0m\u001b[0;34m'raw age'\u001b[0m\u001b[0;34m,\u001b[0m \u001b[0mcolorDict_\u001b[0m\u001b[0;34m=\u001b[0m\u001b[0mcolorDict\u001b[0m\u001b[0;34m,\u001b[0m \u001b[0mgroup_color_dict\u001b[0m\u001b[0;34m=\u001b[0m\u001b[0mgroup_color_dict\u001b[0m\u001b[0;34m)\u001b[0m\u001b[0;34m:\u001b[0m\u001b[0;34m\u001b[0m\u001b[0;34m\u001b[0m\u001b[0m\n\u001b[0m\u001b[1;32m      2\u001b[0m     \u001b[0mtitle_\u001b[0m \u001b[0;34m=\u001b[0m \u001b[0;34mf'{year_} : Market Vs Affordable Units Age/Income in WIRE'\u001b[0m\u001b[0;34m\u001b[0m\u001b[0;34m\u001b[0m\u001b[0m\n\u001b[1;32m      3\u001b[0m     \u001b[0;31m# color_discrete_map = color_group_map_\u001b[0m\u001b[0;34m\u001b[0m\u001b[0;34m\u001b[0m\u001b[0;34m\u001b[0m\u001b[0m\n\u001b[1;32m      4\u001b[0m     \u001b[0mcolors_\u001b[0m \u001b[0;34m=\u001b[0m \u001b[0mgroup_color_dict\u001b[0m\u001b[0;34m[\u001b[0m\u001b[0;34m'colors_age'\u001b[0m\u001b[0;34m]\u001b[0m\u001b[0;34m.\u001b[0m\u001b[0munique\u001b[0m\u001b[0;34m(\u001b[0m\u001b[0;34m)\u001b[0m\u001b[0;34m.\u001b[0m\u001b[0mtolist\u001b[0m\u001b[0;34m(\u001b[0m\u001b[0;34m)\u001b[0m\u001b[0;34m\u001b[0m\u001b[0;34m\u001b[0m\u001b[0m\n\u001b[1;32m      5\u001b[0m     fig = px.sunburst(r, path=['ap_class', 'Age Group', 'Income'],\n",
            "\u001b[0;31mNameError\u001b[0m: name 'group_color_dict' is not defined"
          ]
        }
      ]
    },
    {
      "cell_type": "code",
      "source": [
        ""
      ],
      "metadata": {
        "id": "fyoOKfNsq9pF"
      },
      "execution_count": null,
      "outputs": []
    },
    {
      "cell_type": "markdown",
      "source": [
        "# Bubble Figure"
      ],
      "metadata": {
        "id": "yy5lwRSTgdaU"
      }
    },
    {
      "cell_type": "code",
      "source": [
        "    def bubbleAgeIncomeClass(r, year_, titleText_):\n",
        "        r2 = r.groupby(['ap_class', 'group_name', 'Age Group', 'Income']).agg(\n",
        "            {'raw age': 'count'}).reset_index().rename(columns={'raw age': 'count', 'ap_class': 'Ap Type'})\n",
        "\n",
        "        title_ = str(year_)+' '+titleText_ + ' Age/Income'\n",
        "\n",
        "        fig = px.scatter(r2, x=\"Age Group\", y=\"Income\",\n",
        "                         size=\"count\", color=\"group_name\", color_discrete_map=colorDictMerge, facet_col='Ap Type', title=title_, size_max=30,\n",
        "                         category_orders={\"Age Group\": [\"18-44\", \"45-64\", \"65-84\", \"85+\"],\n",
        "                                          \"Income\": ['Upper', 'Middle', 'Moderate', 'Low']}, template='ggplot2')\n",
        "        fig.update_layout(showlegend=False, margin=dict(l=50, r=50, t=100, b=50), width=sim_plot.cont_width, height=sim_plot.tl_height,font=dict(size=sim_plot.textSize_))\n",
        "\n",
        "        return fig"
      ],
      "metadata": {
        "id": "eHwE6cNEgeV8"
      },
      "execution_count": null,
      "outputs": []
    },
    {
      "cell_type": "code",
      "source": [
        "fig = make_subplots(rows=1, cols=2,subplot_titles=(\"Reference Date\", \"Current Date\"))\n",
        "\n",
        "fig.add_trace(\n",
        "    go.Scatter(x=[1, 2, 3], y=[4, 5, 6], mode=\"markers\",name='Reference Date',marker=dict(size=20,color='green')),\n",
        "    row=1, col=1)\n",
        "\n",
        "fig.add_trace(\n",
        "    go.Scatter(x=[20, 30, 40], y=[50, 60, 70], mode=\"markers\",name='Current Date'),\n",
        "    row=1, col=2\n",
        ")\n",
        "\n",
        "\n",
        "fig.update_layout(height=600, width=800, title_text=\"Side By Side Subplots\", margin=dict(l=0, r=0, t=50, b=0),legend=dict(orientation=\"h\", yanchor=\"top\",y=0.99,xanchor=\"left\",x=0.01),template='plotly_white')\n",
        "fig.show()"
      ],
      "metadata": {
        "colab": {
          "base_uri": "https://localhost:8080/",
          "height": 617
        },
        "id": "QbeDO9U7h-IZ",
        "outputId": "5fd4f0e5-eb07-48a6-a6b2-76cebbd71301"
      },
      "execution_count": null,
      "outputs": [
        {
          "output_type": "display_data",
          "data": {
            "text/html": [
              "<html>\n",
              "<head><meta charset=\"utf-8\" /></head>\n",
              "<body>\n",
              "    <div>            <script src=\"https://cdnjs.cloudflare.com/ajax/libs/mathjax/2.7.5/MathJax.js?config=TeX-AMS-MML_SVG\"></script><script type=\"text/javascript\">if (window.MathJax) {MathJax.Hub.Config({SVG: {font: \"STIX-Web\"}});}</script>                <script type=\"text/javascript\">window.PlotlyConfig = {MathJaxConfig: 'local'};</script>\n",
              "        <script src=\"https://cdn.plot.ly/plotly-2.8.3.min.js\"></script>                <div id=\"ae470ed0-691a-4491-a0c7-d3f53c32d774\" class=\"plotly-graph-div\" style=\"height:600px; width:800px;\"></div>            <script type=\"text/javascript\">                                    window.PLOTLYENV=window.PLOTLYENV || {};                                    if (document.getElementById(\"ae470ed0-691a-4491-a0c7-d3f53c32d774\")) {                    Plotly.newPlot(                        \"ae470ed0-691a-4491-a0c7-d3f53c32d774\",                        [{\"marker\":{\"color\":\"green\",\"size\":20},\"mode\":\"markers\",\"name\":\"Reference Date\",\"x\":[1,2,3],\"y\":[4,5,6],\"type\":\"scatter\",\"xaxis\":\"x\",\"yaxis\":\"y\"},{\"mode\":\"markers\",\"name\":\"Current Date\",\"x\":[20,30,40],\"y\":[50,60,70],\"type\":\"scatter\",\"xaxis\":\"x2\",\"yaxis\":\"y2\"}],                        {\"template\":{\"data\":{\"barpolar\":[{\"marker\":{\"line\":{\"color\":\"white\",\"width\":0.5},\"pattern\":{\"fillmode\":\"overlay\",\"size\":10,\"solidity\":0.2}},\"type\":\"barpolar\"}],\"bar\":[{\"error_x\":{\"color\":\"#2a3f5f\"},\"error_y\":{\"color\":\"#2a3f5f\"},\"marker\":{\"line\":{\"color\":\"white\",\"width\":0.5},\"pattern\":{\"fillmode\":\"overlay\",\"size\":10,\"solidity\":0.2}},\"type\":\"bar\"}],\"carpet\":[{\"aaxis\":{\"endlinecolor\":\"#2a3f5f\",\"gridcolor\":\"#C8D4E3\",\"linecolor\":\"#C8D4E3\",\"minorgridcolor\":\"#C8D4E3\",\"startlinecolor\":\"#2a3f5f\"},\"baxis\":{\"endlinecolor\":\"#2a3f5f\",\"gridcolor\":\"#C8D4E3\",\"linecolor\":\"#C8D4E3\",\"minorgridcolor\":\"#C8D4E3\",\"startlinecolor\":\"#2a3f5f\"},\"type\":\"carpet\"}],\"choropleth\":[{\"colorbar\":{\"outlinewidth\":0,\"ticks\":\"\"},\"type\":\"choropleth\"}],\"contourcarpet\":[{\"colorbar\":{\"outlinewidth\":0,\"ticks\":\"\"},\"type\":\"contourcarpet\"}],\"contour\":[{\"colorbar\":{\"outlinewidth\":0,\"ticks\":\"\"},\"colorscale\":[[0.0,\"#0d0887\"],[0.1111111111111111,\"#46039f\"],[0.2222222222222222,\"#7201a8\"],[0.3333333333333333,\"#9c179e\"],[0.4444444444444444,\"#bd3786\"],[0.5555555555555556,\"#d8576b\"],[0.6666666666666666,\"#ed7953\"],[0.7777777777777778,\"#fb9f3a\"],[0.8888888888888888,\"#fdca26\"],[1.0,\"#f0f921\"]],\"type\":\"contour\"}],\"heatmapgl\":[{\"colorbar\":{\"outlinewidth\":0,\"ticks\":\"\"},\"colorscale\":[[0.0,\"#0d0887\"],[0.1111111111111111,\"#46039f\"],[0.2222222222222222,\"#7201a8\"],[0.3333333333333333,\"#9c179e\"],[0.4444444444444444,\"#bd3786\"],[0.5555555555555556,\"#d8576b\"],[0.6666666666666666,\"#ed7953\"],[0.7777777777777778,\"#fb9f3a\"],[0.8888888888888888,\"#fdca26\"],[1.0,\"#f0f921\"]],\"type\":\"heatmapgl\"}],\"heatmap\":[{\"colorbar\":{\"outlinewidth\":0,\"ticks\":\"\"},\"colorscale\":[[0.0,\"#0d0887\"],[0.1111111111111111,\"#46039f\"],[0.2222222222222222,\"#7201a8\"],[0.3333333333333333,\"#9c179e\"],[0.4444444444444444,\"#bd3786\"],[0.5555555555555556,\"#d8576b\"],[0.6666666666666666,\"#ed7953\"],[0.7777777777777778,\"#fb9f3a\"],[0.8888888888888888,\"#fdca26\"],[1.0,\"#f0f921\"]],\"type\":\"heatmap\"}],\"histogram2dcontour\":[{\"colorbar\":{\"outlinewidth\":0,\"ticks\":\"\"},\"colorscale\":[[0.0,\"#0d0887\"],[0.1111111111111111,\"#46039f\"],[0.2222222222222222,\"#7201a8\"],[0.3333333333333333,\"#9c179e\"],[0.4444444444444444,\"#bd3786\"],[0.5555555555555556,\"#d8576b\"],[0.6666666666666666,\"#ed7953\"],[0.7777777777777778,\"#fb9f3a\"],[0.8888888888888888,\"#fdca26\"],[1.0,\"#f0f921\"]],\"type\":\"histogram2dcontour\"}],\"histogram2d\":[{\"colorbar\":{\"outlinewidth\":0,\"ticks\":\"\"},\"colorscale\":[[0.0,\"#0d0887\"],[0.1111111111111111,\"#46039f\"],[0.2222222222222222,\"#7201a8\"],[0.3333333333333333,\"#9c179e\"],[0.4444444444444444,\"#bd3786\"],[0.5555555555555556,\"#d8576b\"],[0.6666666666666666,\"#ed7953\"],[0.7777777777777778,\"#fb9f3a\"],[0.8888888888888888,\"#fdca26\"],[1.0,\"#f0f921\"]],\"type\":\"histogram2d\"}],\"histogram\":[{\"marker\":{\"pattern\":{\"fillmode\":\"overlay\",\"size\":10,\"solidity\":0.2}},\"type\":\"histogram\"}],\"mesh3d\":[{\"colorbar\":{\"outlinewidth\":0,\"ticks\":\"\"},\"type\":\"mesh3d\"}],\"parcoords\":[{\"line\":{\"colorbar\":{\"outlinewidth\":0,\"ticks\":\"\"}},\"type\":\"parcoords\"}],\"pie\":[{\"automargin\":true,\"type\":\"pie\"}],\"scatter3d\":[{\"line\":{\"colorbar\":{\"outlinewidth\":0,\"ticks\":\"\"}},\"marker\":{\"colorbar\":{\"outlinewidth\":0,\"ticks\":\"\"}},\"type\":\"scatter3d\"}],\"scattercarpet\":[{\"marker\":{\"colorbar\":{\"outlinewidth\":0,\"ticks\":\"\"}},\"type\":\"scattercarpet\"}],\"scattergeo\":[{\"marker\":{\"colorbar\":{\"outlinewidth\":0,\"ticks\":\"\"}},\"type\":\"scattergeo\"}],\"scattergl\":[{\"marker\":{\"colorbar\":{\"outlinewidth\":0,\"ticks\":\"\"}},\"type\":\"scattergl\"}],\"scattermapbox\":[{\"marker\":{\"colorbar\":{\"outlinewidth\":0,\"ticks\":\"\"}},\"type\":\"scattermapbox\"}],\"scatterpolargl\":[{\"marker\":{\"colorbar\":{\"outlinewidth\":0,\"ticks\":\"\"}},\"type\":\"scatterpolargl\"}],\"scatterpolar\":[{\"marker\":{\"colorbar\":{\"outlinewidth\":0,\"ticks\":\"\"}},\"type\":\"scatterpolar\"}],\"scatter\":[{\"marker\":{\"colorbar\":{\"outlinewidth\":0,\"ticks\":\"\"}},\"type\":\"scatter\"}],\"scatterternary\":[{\"marker\":{\"colorbar\":{\"outlinewidth\":0,\"ticks\":\"\"}},\"type\":\"scatterternary\"}],\"surface\":[{\"colorbar\":{\"outlinewidth\":0,\"ticks\":\"\"},\"colorscale\":[[0.0,\"#0d0887\"],[0.1111111111111111,\"#46039f\"],[0.2222222222222222,\"#7201a8\"],[0.3333333333333333,\"#9c179e\"],[0.4444444444444444,\"#bd3786\"],[0.5555555555555556,\"#d8576b\"],[0.6666666666666666,\"#ed7953\"],[0.7777777777777778,\"#fb9f3a\"],[0.8888888888888888,\"#fdca26\"],[1.0,\"#f0f921\"]],\"type\":\"surface\"}],\"table\":[{\"cells\":{\"fill\":{\"color\":\"#EBF0F8\"},\"line\":{\"color\":\"white\"}},\"header\":{\"fill\":{\"color\":\"#C8D4E3\"},\"line\":{\"color\":\"white\"}},\"type\":\"table\"}]},\"layout\":{\"annotationdefaults\":{\"arrowcolor\":\"#2a3f5f\",\"arrowhead\":0,\"arrowwidth\":1},\"autotypenumbers\":\"strict\",\"coloraxis\":{\"colorbar\":{\"outlinewidth\":0,\"ticks\":\"\"}},\"colorscale\":{\"diverging\":[[0,\"#8e0152\"],[0.1,\"#c51b7d\"],[0.2,\"#de77ae\"],[0.3,\"#f1b6da\"],[0.4,\"#fde0ef\"],[0.5,\"#f7f7f7\"],[0.6,\"#e6f5d0\"],[0.7,\"#b8e186\"],[0.8,\"#7fbc41\"],[0.9,\"#4d9221\"],[1,\"#276419\"]],\"sequential\":[[0.0,\"#0d0887\"],[0.1111111111111111,\"#46039f\"],[0.2222222222222222,\"#7201a8\"],[0.3333333333333333,\"#9c179e\"],[0.4444444444444444,\"#bd3786\"],[0.5555555555555556,\"#d8576b\"],[0.6666666666666666,\"#ed7953\"],[0.7777777777777778,\"#fb9f3a\"],[0.8888888888888888,\"#fdca26\"],[1.0,\"#f0f921\"]],\"sequentialminus\":[[0.0,\"#0d0887\"],[0.1111111111111111,\"#46039f\"],[0.2222222222222222,\"#7201a8\"],[0.3333333333333333,\"#9c179e\"],[0.4444444444444444,\"#bd3786\"],[0.5555555555555556,\"#d8576b\"],[0.6666666666666666,\"#ed7953\"],[0.7777777777777778,\"#fb9f3a\"],[0.8888888888888888,\"#fdca26\"],[1.0,\"#f0f921\"]]},\"colorway\":[\"#636efa\",\"#EF553B\",\"#00cc96\",\"#ab63fa\",\"#FFA15A\",\"#19d3f3\",\"#FF6692\",\"#B6E880\",\"#FF97FF\",\"#FECB52\"],\"font\":{\"color\":\"#2a3f5f\"},\"geo\":{\"bgcolor\":\"white\",\"lakecolor\":\"white\",\"landcolor\":\"white\",\"showlakes\":true,\"showland\":true,\"subunitcolor\":\"#C8D4E3\"},\"hoverlabel\":{\"align\":\"left\"},\"hovermode\":\"closest\",\"mapbox\":{\"style\":\"light\"},\"paper_bgcolor\":\"white\",\"plot_bgcolor\":\"white\",\"polar\":{\"angularaxis\":{\"gridcolor\":\"#EBF0F8\",\"linecolor\":\"#EBF0F8\",\"ticks\":\"\"},\"bgcolor\":\"white\",\"radialaxis\":{\"gridcolor\":\"#EBF0F8\",\"linecolor\":\"#EBF0F8\",\"ticks\":\"\"}},\"scene\":{\"xaxis\":{\"backgroundcolor\":\"white\",\"gridcolor\":\"#DFE8F3\",\"gridwidth\":2,\"linecolor\":\"#EBF0F8\",\"showbackground\":true,\"ticks\":\"\",\"zerolinecolor\":\"#EBF0F8\"},\"yaxis\":{\"backgroundcolor\":\"white\",\"gridcolor\":\"#DFE8F3\",\"gridwidth\":2,\"linecolor\":\"#EBF0F8\",\"showbackground\":true,\"ticks\":\"\",\"zerolinecolor\":\"#EBF0F8\"},\"zaxis\":{\"backgroundcolor\":\"white\",\"gridcolor\":\"#DFE8F3\",\"gridwidth\":2,\"linecolor\":\"#EBF0F8\",\"showbackground\":true,\"ticks\":\"\",\"zerolinecolor\":\"#EBF0F8\"}},\"shapedefaults\":{\"line\":{\"color\":\"#2a3f5f\"}},\"ternary\":{\"aaxis\":{\"gridcolor\":\"#DFE8F3\",\"linecolor\":\"#A2B1C6\",\"ticks\":\"\"},\"baxis\":{\"gridcolor\":\"#DFE8F3\",\"linecolor\":\"#A2B1C6\",\"ticks\":\"\"},\"bgcolor\":\"white\",\"caxis\":{\"gridcolor\":\"#DFE8F3\",\"linecolor\":\"#A2B1C6\",\"ticks\":\"\"}},\"title\":{\"x\":0.05},\"xaxis\":{\"automargin\":true,\"gridcolor\":\"#EBF0F8\",\"linecolor\":\"#EBF0F8\",\"ticks\":\"\",\"title\":{\"standoff\":15},\"zerolinecolor\":\"#EBF0F8\",\"zerolinewidth\":2},\"yaxis\":{\"automargin\":true,\"gridcolor\":\"#EBF0F8\",\"linecolor\":\"#EBF0F8\",\"ticks\":\"\",\"title\":{\"standoff\":15},\"zerolinecolor\":\"#EBF0F8\",\"zerolinewidth\":2}}},\"xaxis\":{\"anchor\":\"y\",\"domain\":[0.0,0.45]},\"yaxis\":{\"anchor\":\"x\",\"domain\":[0.0,1.0]},\"xaxis2\":{\"anchor\":\"y2\",\"domain\":[0.55,1.0]},\"yaxis2\":{\"anchor\":\"x2\",\"domain\":[0.0,1.0]},\"annotations\":[{\"font\":{\"size\":16},\"showarrow\":false,\"text\":\"Reference Date\",\"x\":0.225,\"xanchor\":\"center\",\"xref\":\"paper\",\"y\":1.0,\"yanchor\":\"bottom\",\"yref\":\"paper\"},{\"font\":{\"size\":16},\"showarrow\":false,\"text\":\"Current Date\",\"x\":0.775,\"xanchor\":\"center\",\"xref\":\"paper\",\"y\":1.0,\"yanchor\":\"bottom\",\"yref\":\"paper\"}],\"title\":{\"text\":\"Side By Side Subplots\"},\"margin\":{\"l\":0,\"r\":0,\"t\":50,\"b\":0},\"legend\":{\"orientation\":\"h\",\"yanchor\":\"top\",\"y\":0.99,\"xanchor\":\"left\",\"x\":0.01},\"height\":600,\"width\":800},                        {\"responsive\": true}                    ).then(function(){\n",
              "                            \n",
              "var gd = document.getElementById('ae470ed0-691a-4491-a0c7-d3f53c32d774');\n",
              "var x = new MutationObserver(function (mutations, observer) {{\n",
              "        var display = window.getComputedStyle(gd).display;\n",
              "        if (!display || display === 'none') {{\n",
              "            console.log([gd, 'removed!']);\n",
              "            Plotly.purge(gd);\n",
              "            observer.disconnect();\n",
              "        }}\n",
              "}});\n",
              "\n",
              "// Listen for the removal of the full notebook cells\n",
              "var notebookContainer = gd.closest('#notebook-container');\n",
              "if (notebookContainer) {{\n",
              "    x.observe(notebookContainer, {childList: true});\n",
              "}}\n",
              "\n",
              "// Listen for the clearing of the current output cell\n",
              "var outputEl = gd.closest('.output');\n",
              "if (outputEl) {{\n",
              "    x.observe(outputEl, {childList: true});\n",
              "}}\n",
              "\n",
              "                        })                };                            </script>        </div>\n",
              "</body>\n",
              "</html>"
            ]
          },
          "metadata": {}
        }
      ]
    },
    {
      "cell_type": "code",
      "source": [
        ""
      ],
      "metadata": {
        "id": "1U9icZelm9Rr"
      },
      "execution_count": null,
      "outputs": []
    },
    {
      "cell_type": "markdown",
      "source": [
        "# 3D Controller!"
      ],
      "metadata": {
        "id": "KA8awgizwapn"
      }
    },
    {
      "cell_type": "code",
      "source": [
        "from arcgis.gis import GIS"
      ],
      "metadata": {
        "id": "O9ZtjTCDFXBn"
      },
      "execution_count": null,
      "outputs": []
    },
    {
      "cell_type": "code",
      "source": [
        "#from arcgis.gis import GIS\n",
        "\n",
        "#from arcgis import GIS\n",
        "#gis = GIS(\"home\")\n",
        "#gis = GIS(\"https://technion-gis.maps.arcgis.com\", \"shai@technion\")\n",
        "gis = GIS(\"https://technion-gis.maps.arcgis.com\",client_id='wI3SgTPXnv2N3B4P')\n",
        "item = gis.content.get(\"732b15ecf0f848df9ab4d8c8f059ea56\")\n",
        "new_def = {\"DefinitionQuery\" :\"start_date_int<= 205011\"}\n",
        "layer.manager.update_definition(new_def)\n"
      ],
      "metadata": {
        "colab": {
          "base_uri": "https://localhost:8080/"
        },
        "id": "98yIcfeawcL8",
        "outputId": "3f277ca3-5673-44d7-8e24-835d55ff9115"
      },
      "execution_count": null,
      "outputs": [
        {
          "name": "stdout",
          "output_type": "stream",
          "text": [
            "Please sign in to your GIS and paste the code that is obtained below.\n",
            "If a web browser does not automatically open, please navigate to the URL below yourself instead.\n",
            "Opening web browser to navigate to: https://technion-gis.maps.arcgis.com/sharing/rest//oauth2/authorize?response_type=code&client_id=wI3SgTPXnv2N3B4P&redirect_uri=urn%3Aietf%3Awg%3Aoauth%3A2.0%3Aoob&state=h1689z5AgHHiGE8mnSgfWcsjd6FM2y\n",
            "Enter code obtained on signing in using SAML: ··········\n"
          ]
        },
        {
          "output_type": "stream",
          "name": "stderr",
          "text": [
            "/usr/local/lib/python3.7/dist-packages/urllib3/connectionpool.py:847: InsecureRequestWarning: Unverified HTTPS request is being made. Adding certificate verification is strongly advised. See: https://urllib3.readthedocs.io/en/latest/advanced-usage.html#ssl-warnings\n",
            "  InsecureRequestWarning)\n"
          ]
        }
      ]
    },
    {
      "cell_type": "code",
      "source": [
        "gis = GIS(\"https://technion-gis.maps.arcgis.com\",client_id='wI3SgTPXnv2N3B4P')\n",
        "item = gis.content.get(\"732b15ecf0f848df9ab4d8c8f059ea56\")\n",
        "new_def = {\"DefinitionQuery\" :\"\"}\n",
        "layer = item.layers[0]\n",
        "layer.manager.update_definition(new_def)"
      ],
      "metadata": {
        "id": "nYH1w9-OXLYt",
        "colab": {
          "base_uri": "https://localhost:8080/"
        },
        "outputId": "e240d0a3-d709-44c3-b8aa-991e8b72c8e0"
      },
      "execution_count": null,
      "outputs": [
        {
          "name": "stdout",
          "output_type": "stream",
          "text": [
            "Please sign in to your GIS and paste the code that is obtained below.\n",
            "If a web browser does not automatically open, please navigate to the URL below yourself instead.\n",
            "Opening web browser to navigate to: https://technion-gis.maps.arcgis.com/sharing/rest//oauth2/authorize?response_type=code&client_id=wI3SgTPXnv2N3B4P&redirect_uri=urn%3Aietf%3Awg%3Aoauth%3A2.0%3Aoob&state=n64BpeogNCRUBU5RXtQZPR600phQ6p\n",
            "Enter code obtained on signing in using SAML: ··········\n"
          ]
        },
        {
          "output_type": "stream",
          "name": "stderr",
          "text": [
            "/usr/local/lib/python3.7/dist-packages/urllib3/connectionpool.py:847: InsecureRequestWarning:\n",
            "\n",
            "Unverified HTTPS request is being made. Adding certificate verification is strongly advised. See: https://urllib3.readthedocs.io/en/latest/advanced-usage.html#ssl-warnings\n",
            "\n"
          ]
        },
        {
          "output_type": "execute_result",
          "data": {
            "text/plain": [
              "{'success': True}"
            ]
          },
          "metadata": {},
          "execution_count": 31
        }
      ]
    },
    {
      "cell_type": "code",
      "source": [
        ""
      ],
      "metadata": {
        "id": "kXO3eLhjxjlO"
      },
      "execution_count": null,
      "outputs": []
    },
    {
      "cell_type": "code",
      "source": [
        ""
      ],
      "metadata": {
        "id": "6IWjccUlWx5p"
      },
      "execution_count": null,
      "outputs": []
    },
    {
      "cell_type": "code",
      "source": [
        ""
      ],
      "metadata": {
        "id": "vtaf1IK3WwLy"
      },
      "execution_count": null,
      "outputs": []
    },
    {
      "cell_type": "code",
      "source": [
        ""
      ],
      "metadata": {
        "id": "gsYtSGAVWtux"
      },
      "execution_count": null,
      "outputs": []
    },
    {
      "cell_type": "code",
      "source": [
        ""
      ],
      "metadata": {
        "id": "xAdjnWWSWsB5"
      },
      "execution_count": null,
      "outputs": []
    },
    {
      "cell_type": "code",
      "source": [
        ""
      ],
      "metadata": {
        "id": "KUrBz6bTWnWz"
      },
      "execution_count": null,
      "outputs": []
    },
    {
      "cell_type": "code",
      "source": [
        ""
      ],
      "metadata": {
        "id": "YoTK3kWqTdQ0"
      },
      "execution_count": null,
      "outputs": []
    },
    {
      "cell_type": "code",
      "source": [
        "layer =item.layers[0]"
      ],
      "metadata": {
        "id": "xAHy9j4_QQ23"
      },
      "execution_count": null,
      "outputs": []
    },
    {
      "cell_type": "code",
      "source": [
        "layer"
      ],
      "metadata": {
        "colab": {
          "base_uri": "https://localhost:8080/"
        },
        "id": "6G8jFfcCS6iI",
        "outputId": "06901156-aeba-4f99-8e2c-e164e8f8cb13"
      },
      "execution_count": null,
      "outputs": [
        {
          "output_type": "execute_result",
          "data": {
            "text/plain": [
              "<FeatureLayer url:\"https://services1.arcgis.com/yAQXemoDSgzdfV2A/arcgis/rest/services/ts_test_aug_10/FeatureServer/0\">"
            ]
          },
          "metadata": {},
          "execution_count": 114
        }
      ]
    },
    {
      "cell_type": "code",
      "source": [
        "layer."
      ],
      "metadata": {
        "colab": {
          "base_uri": "https://localhost:8080/"
        },
        "id": "kZ7Ede8CFjZA",
        "outputId": "69d8fc41-3b38-45b1-8f6e-66010902e6e8"
      },
      "execution_count": null,
      "outputs": [
        {
          "output_type": "execute_result",
          "data": {
            "text/plain": [
              "<bound method FeatureLayer.query of <FeatureLayer url:\"https://services1.arcgis.com/yAQXemoDSgzdfV2A/arcgis/rest/services/ts_test_aug_10/FeatureServer/0\">>"
            ]
          },
          "metadata": {},
          "execution_count": 116
        }
      ]
    },
    {
      "cell_type": "code",
      "source": [
        ""
      ],
      "metadata": {
        "id": "Bgd4BdkCWC1h"
      },
      "execution_count": null,
      "outputs": []
    },
    {
      "cell_type": "code",
      "source": [
        "webS = arcgis.mapping.WebScene(item)\n"
      ],
      "metadata": {
        "id": "LRalxEq_qzLL"
      },
      "execution_count": null,
      "outputs": []
    },
    {
      "cell_type": "code",
      "source": [
        "webS['operationalLayers'][3]['layerDefinition']['definitionExpression']"
      ],
      "metadata": {
        "colab": {
          "base_uri": "https://localhost:8080/",
          "height": 35
        },
        "id": "L-8MpqQEFmUE",
        "outputId": "1f826e3d-f8f6-4e36-f3e8-873f106eed23"
      },
      "execution_count": null,
      "outputs": [
        {
          "output_type": "execute_result",
          "data": {
            "text/plain": [
              "\"status IN ('Building after','') OR status IS NULL\""
            ],
            "application/vnd.google.colaboratory.intrinsic+json": {
              "type": "string"
            }
          },
          "metadata": {},
          "execution_count": 67
        }
      ]
    },
    {
      "cell_type": "code",
      "source": [
        "webS['operationalLayers'][14]['layerDefinition']['definitionExpression']"
      ],
      "metadata": {
        "colab": {
          "base_uri": "https://localhost:8080/",
          "height": 35
        },
        "id": "gFR9GQJuNYJL",
        "outputId": "6deae45f-91a2-4ef5-b5ce-4b3f715372ad"
      },
      "execution_count": null,
      "outputs": [
        {
          "output_type": "execute_result",
          "data": {
            "text/plain": [
              "'(end_date_int > 201412) AND (end_date_int <= 202571)'"
            ],
            "application/vnd.google.colaboratory.intrinsic+json": {
              "type": "string"
            }
          },
          "metadata": {},
          "execution_count": 68
        }
      ]
    },
    {
      "cell_type": "code",
      "source": [
        ""
      ],
      "metadata": {
        "id": "SntmpeBPNZx5"
      },
      "execution_count": null,
      "outputs": []
    },
    {
      "cell_type": "code",
      "source": [
        "webS['operationalLayers'][14]['layerDefinition']['definitionExpression'] = \"((end_date_int >= 201412) AND (end_date_int <= 202571)) AND (status IN ('Building after','') OR status IS NULL)\""
      ],
      "metadata": {
        "id": "bTn8gbaNJ_51"
      },
      "execution_count": null,
      "outputs": []
    },
    {
      "cell_type": "code",
      "source": [
        ""
      ],
      "metadata": {
        "id": "H-WzUUT_KAs6"
      },
      "execution_count": null,
      "outputs": []
    },
    {
      "cell_type": "code",
      "source": [
        "webS['operationalLayers'][14]['layerDefinition']['definitionExpression'] = '\"2027-07-01\"< end_date_2'"
      ],
      "metadata": {
        "id": "N6Jcse40GUCe"
      },
      "execution_count": null,
      "outputs": []
    },
    {
      "cell_type": "code",
      "source": [
        "webS.update()"
      ],
      "metadata": {
        "id": "c_iMhmiAJk6k"
      },
      "execution_count": null,
      "outputs": []
    },
    {
      "cell_type": "code",
      "source": [
        ""
      ],
      "metadata": {
        "id": "ZPyw4SYgJnEw"
      },
      "execution_count": null,
      "outputs": []
    },
    {
      "cell_type": "code",
      "source": [
        "d = pd.to_datetime('2027-07-01')"
      ],
      "metadata": {
        "id": "joTLumKCITWT"
      },
      "execution_count": null,
      "outputs": []
    },
    {
      "cell_type": "code",
      "source": [
        "d"
      ],
      "metadata": {
        "colab": {
          "base_uri": "https://localhost:8080/"
        },
        "id": "rwgw2NlCIfHc",
        "outputId": "8b115d1e-d087-434e-fa65-4c1d81480f0e"
      },
      "execution_count": null,
      "outputs": [
        {
          "output_type": "execute_result",
          "data": {
            "text/plain": [
              "Timestamp('2027-07-01 00:00:00')"
            ]
          },
          "metadata": {},
          "execution_count": 32
        }
      ]
    },
    {
      "cell_type": "code",
      "source": [
        ""
      ],
      "metadata": {
        "id": "gC6C0j0cIfYV"
      },
      "execution_count": null,
      "outputs": []
    },
    {
      "cell_type": "code",
      "source": [
        ""
      ],
      "metadata": {
        "id": "IhXs2SI9IVHI"
      },
      "execution_count": null,
      "outputs": []
    },
    {
      "cell_type": "code",
      "source": [
        "webS['operationalLayers'][14]['layerDefinition']['definitionExpression']"
      ],
      "metadata": {
        "colab": {
          "base_uri": "https://localhost:8080/",
          "height": 35
        },
        "id": "aTuNLZ3pHjmZ",
        "outputId": "d8674bd5-e55a-4d43-a348-ed8c48c16eca"
      },
      "execution_count": null,
      "outputs": [
        {
          "output_type": "execute_result",
          "data": {
            "text/plain": [
              "\"end_date_2 IN ('2022-09-28','') OR end_date_2 IS NULL\""
            ],
            "application/vnd.google.colaboratory.intrinsic+json": {
              "type": "string"
            }
          },
          "metadata": {},
          "execution_count": 28
        }
      ]
    },
    {
      "cell_type": "code",
      "source": [
        ""
      ],
      "metadata": {
        "id": "NN8cBVO1HqWT"
      },
      "execution_count": null,
      "outputs": []
    },
    {
      "cell_type": "code",
      "source": [
        "d"
      ],
      "metadata": {
        "colab": {
          "base_uri": "https://localhost:8080/",
          "height": 168
        },
        "id": "xfOeJUeGG-8m",
        "outputId": "40b65544-f1d1-46f5-cd2c-e7f8991d483d"
      },
      "execution_count": null,
      "outputs": [
        {
          "output_type": "error",
          "ename": "NameError",
          "evalue": "ignored",
          "traceback": [
            "\u001b[0;31m---------------------------------------------------------------------------\u001b[0m",
            "\u001b[0;31mNameError\u001b[0m                                 Traceback (most recent call last)",
            "\u001b[0;32m<ipython-input-26-e983f374794d>\u001b[0m in \u001b[0;36m<module>\u001b[0;34m()\u001b[0m\n\u001b[0;32m----> 1\u001b[0;31m \u001b[0md\u001b[0m\u001b[0;34m\u001b[0m\u001b[0;34m\u001b[0m\u001b[0m\n\u001b[0m",
            "\u001b[0;31mNameError\u001b[0m: name 'd' is not defined"
          ]
        }
      ]
    },
    {
      "cell_type": "code",
      "source": [
        ""
      ],
      "metadata": {
        "id": "46XprCZmHGrT"
      },
      "execution_count": null,
      "outputs": []
    },
    {
      "cell_type": "code",
      "source": [
        ""
      ],
      "metadata": {
        "id": "OfC2n0x7G9ra"
      },
      "execution_count": null,
      "outputs": []
    },
    {
      "cell_type": "code",
      "source": [
        ""
      ],
      "metadata": {
        "id": "RSD1l0PHG7-I"
      },
      "execution_count": null,
      "outputs": []
    },
    {
      "cell_type": "code",
      "source": [
        ""
      ],
      "metadata": {
        "id": "-kl_SyY4G7Eg"
      },
      "execution_count": null,
      "outputs": []
    },
    {
      "cell_type": "code",
      "source": [
        ""
      ],
      "metadata": {
        "id": "iwEBe0BdG4W_"
      },
      "execution_count": null,
      "outputs": []
    },
    {
      "cell_type": "code",
      "source": [
        ""
      ],
      "metadata": {
        "id": "HMWFZNd2Gz4w"
      },
      "execution_count": null,
      "outputs": []
    },
    {
      "cell_type": "code",
      "source": [
        ""
      ],
      "metadata": {
        "id": "WyLSeYxlF8aL"
      },
      "execution_count": null,
      "outputs": []
    },
    {
      "cell_type": "code",
      "source": [
        ""
      ],
      "metadata": {
        "id": "iNHnWrrcF2Vi"
      },
      "execution_count": null,
      "outputs": []
    },
    {
      "cell_type": "code",
      "source": [
        ""
      ],
      "metadata": {
        "id": "jHuK7XuJFrHB"
      },
      "execution_count": null,
      "outputs": []
    },
    {
      "cell_type": "code",
      "source": [
        ""
      ],
      "metadata": {
        "id": "jBT2isfbFomX"
      },
      "execution_count": null,
      "outputs": []
    },
    {
      "cell_type": "code",
      "source": [
        "bbl = \"BBL IN ('1013730001','1013737501','1013737502','1013737503','1013737504','1013737505','1013730040','1013730030') OR BBL IS NULL\"\n",
        "webS['operationalLayers'][0]['layerDefinition']['definitionExpression'] = bbl\n",
        "webS.update()"
      ],
      "metadata": {
        "id": "95qMI7cZxgFo"
      },
      "execution_count": null,
      "outputs": []
    },
    {
      "cell_type": "code",
      "source": [
        "['layerDefinition']"
      ],
      "metadata": {
        "id": "aRIAN3YJwIOR"
      },
      "execution_count": null,
      "outputs": []
    },
    {
      "cell_type": "code",
      "source": [
        "\n",
        "#hovertext\n",
        "\n",
        "# fig = go.Figure(go.Scatter(\n",
        "#     x = [1,2,3,4,5],\n",
        "#     y = [2.02825,1.63728,6.83839,4.8485,4.73463],\n",
        "#     hovertemplate =\n",
        "#     '<i>Price</i>: $%{y:.2f}'+\n",
        "#     '<br><b>X</b>: %{x}<br>'+\n",
        "#     '<b>%{text}</b>',\n",
        "#     text = ['Custom text {}'.format(i + 1) for i in range(5)],\n",
        "#     showlegend = False))\n",
        "\n",
        "# fig.add_trace(go.Scatter(\n",
        "#     x = [1,2,3,4,5],\n",
        "#     y = [3.02825,2.63728,4.83839,3.8485,1.73463],\n",
        "#     hovertemplate = 'Price: %{y:$.2f}<extra></extra>',\n",
        "#     showlegend = False))\n",
        "\n",
        "# fig.update_layout(\n",
        "#     hoverlabel_align = 'right',\n",
        "#     title = \"Set hover text with hovertemplate\")\n",
        "\n",
        "# fig.show()"
      ],
      "metadata": {
        "id": "0rMyap_PqG1l"
      },
      "execution_count": null,
      "outputs": []
    },
    {
      "cell_type": "code",
      "source": [
        ""
      ],
      "metadata": {
        "id": "xc1lc2hIpky6"
      },
      "execution_count": null,
      "outputs": []
    },
    {
      "cell_type": "code",
      "source": [
        ""
      ],
      "metadata": {
        "id": "Ovu5K6KImHzZ"
      },
      "execution_count": null,
      "outputs": []
    },
    {
      "cell_type": "code",
      "source": [
        ""
      ],
      "metadata": {
        "id": "vvS40P7EmE3b"
      },
      "execution_count": null,
      "outputs": []
    },
    {
      "cell_type": "code",
      "source": [
        ""
      ],
      "metadata": {
        "id": "uSCXyGBxlwN_"
      },
      "execution_count": null,
      "outputs": []
    },
    {
      "cell_type": "code",
      "source": [
        "d"
      ],
      "metadata": {
        "colab": {
          "base_uri": "https://localhost:8080/"
        },
        "id": "8hD1WWmNlfrT",
        "outputId": "67d75f2b-d6d2-4d44-c7c5-76825e1cc7a7"
      },
      "execution_count": null,
      "outputs": [
        {
          "output_type": "execute_result",
          "data": {
            "text/plain": [
              "Timestamp('2022-01-01 00:00:00')"
            ]
          },
          "metadata": {},
          "execution_count": 62
        }
      ]
    },
    {
      "cell_type": "code",
      "source": [
        ""
      ],
      "metadata": {
        "id": "ZGTBnbaolgT0"
      },
      "execution_count": null,
      "outputs": []
    }
  ]
}