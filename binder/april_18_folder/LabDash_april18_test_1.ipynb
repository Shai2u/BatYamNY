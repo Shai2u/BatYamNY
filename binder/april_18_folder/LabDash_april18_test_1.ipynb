{
 "cells": [
  {
   "cell_type": "code",
   "execution_count": null,
   "metadata": {},
   "outputs": [],
   "source": [
    "!pip install geopandas\n",
    "!pip install arcgis\n",
    "!pip install plotly\n",
    "!pip install openpyxl\n",
    "!pip install xlrd"
   ]
  },
  {
   "cell_type": "code",
   "execution_count": 1,
   "metadata": {},
   "outputs": [],
   "source": [
    "\n",
    "import geopandas as gpd\n",
    "import pandas as pd\n",
    "import numpy as np\n",
    "pd.options.display.max_columns=100\n",
    "import plotly.graph_objects as go\n",
    "import plotly.express as px\n",
    "import ipywidgets as widgets\n",
    "from ipywidgets import Layout,interact,interact_manual,HTML\n",
    "import pyproj\n",
    "pyproj.datadir.set_data_dir('/Users/shai/anaconda3/envs/geo_env/share/proj')\n",
    "from arcgis.gis import GIS\n",
    "from arcgis.mapping import WebScene\n",
    "from arcgis.mapping import WebMap\n",
    "from arcgis.features import FeatureLayer\n"
   ]
  },
  {
   "cell_type": "code",
   "execution_count": 2,
   "metadata": {},
   "outputs": [],
   "source": [
    "incomeDict = {'Low':9000,'Medium':19500,'High':1000000}\n",
    "Age = {'Under 65':65,\n",
    "      'Above 65':65}\n",
    "gridBG = '#f2f2f2'\n",
    "heightD=375\n",
    "projectDict = {1:'Addition',\n",
    "              2:'Reconstruction',\n",
    "              3:'Raze and Rebuild'}"
   ]
  },
  {
   "cell_type": "code",
   "execution_count": 3,
   "metadata": {},
   "outputs": [
    {
     "name": "stdin",
     "output_type": "stream",
     "text": [
      "Enter password:  ·········\n"
     ]
    }
   ],
   "source": [
    "gis = GIS(\"https://technion-gis.maps.arcgis.com\", \"shai@technion\")"
   ]
  },
  {
   "cell_type": "code",
   "execution_count": null,
   "metadata": {},
   "outputs": [],
   "source": []
  },
  {
   "cell_type": "code",
   "execution_count": 4,
   "metadata": {},
   "outputs": [],
   "source": [
    "bldgsInwgs84 = gpd.read_file('SimBldgsWGS84.geojson',driver='GeoJSON')\n",
    "bldDictAddress = dict(zip(geoDF['bld_addres'],geoDF['hebrew_adr']))\n",
    "aggResByTic = pd.read_excel('aggregated_results_by_project_april17.xlsx')\n",
    "agentsFile = 'AgentsTimeSeries_Results_april12_1435.xlsx'\n",
    "res_df = pd.read_excel(agentsFile)\n",
    "colorFile ='colors_dict_April_13_2021.xlsx'\n",
    "colorAgeIncomeExcel='age_income_by_color_april_14.xlsx'\n",
    "colorExcel = pd.read_excel(colorFile)\n",
    "movementsByProject = pd.read_excel('AggByProjectBeforeAfter_april_18.xlsx', header=[0,1])\n",
    "projNumberTicDict = dict(zip(aggResByTic['tic'],aggResByTic['ProjNumber']))\n",
    "projBldNumberDict = dict(zip(geoDF[['project_nu','bld_addres']].groupby('project_nu').agg({'bld_addres':lambda x: x.value_counts().index[0]}).reset_index()['project_nu'],\n",
    "         geoDF[['project_nu','bld_addres']].groupby('project_nu').agg({'bld_addres':lambda x: x.value_counts().index[0]}).reset_index()['bld_addres']))\n",
    "#TICS\n",
    "ticsIndex = aggResByTic['tic']"
   ]
  },
  {
   "cell_type": "code",
   "execution_count": 5,
   "metadata": {},
   "outputs": [],
   "source": [
    "res_df['stay'] = 0\n",
    "res_df['stay'] = res_df['status'].apply(lambda x: 1 if x=='stay' else 0)\n",
    "res_df['leave'] = 0\n",
    "res_df['leave'] = res_df['status'].apply(lambda x: 1 if x=='leave' else 0)\n",
    "res_df['New Comers'] = 0\n",
    "res_df['New Comers'] = res_df['status'].apply(lambda x: 1 if x=='New Comers' else 0)\n",
    "res_df.fillna(0,inplace=True)\n",
    "res_df['Under 65'] = 0\n",
    "res_df['Above 65'] = 0\n",
    "res_df['Low Income'] = 0\n",
    "res_df['Medium Income'] = 0\n",
    "res_df['High Income'] = 0\n",
    "\n",
    "res_df['Under 65'] = res_df['age'].apply(lambda x: 1 if x<65 else 0)\n",
    "res_df['Above 65'] = res_df['age'].apply(lambda x: 1 if x>=65 else 0)\n",
    "res_df['Low Income'] = res_df['income'].apply(lambda x: 1 if (x<incomeDict['Low'])   else 0)\n",
    "res_df['Medium Income'] = res_df['income'].apply(lambda x: 1 if (x>=incomeDict['Low']) & (x<incomeDict['Medium'])  else 0)\n",
    "res_df['High Income'] =  res_df['income'].apply(lambda x: 1 if (x>=incomeDict['Medium'])  else 0)\n",
    "subset_before_after = res_df.copy()\n",
    "subset_before_after = subset_before_after[subset_before_after['status']!='leave']\n",
    "subset_before_after['simulationState'] =subset_before_after['tic'].apply(lambda x: 'Before Renewal' if x==0 else 'After Renewal')"
   ]
  },
  {
   "cell_type": "code",
   "execution_count": 6,
   "metadata": {},
   "outputs": [],
   "source": [
    "ageIncome = subset_before_after[['simulationState','income','age','agentID','tic','ProjNumber']].copy()\n",
    "ageIncome['ageGroup'] = ageIncome['age'].apply(lambda x: 'Under 65' if x<65 else 'Above 65')\n",
    "ageIncome['incomeGroup'] = ageIncome['income'].apply(lambda x: 'High Income' if x>=19500  \n",
    "                                                   else  ('Medium Income' if ((x>=9000)&(x<19500)) else 'Low Income'))\n",
    "\n",
    "ageIncome = ageIncome[['simulationState','incomeGroup','agentID','ageGroup','tic','ProjNumber']].copy()"
   ]
  },
  {
   "cell_type": "code",
   "execution_count": 7,
   "metadata": {},
   "outputs": [],
   "source": [
    "res2 = aggResByTic.loc[1:].copy()\n",
    "res2 = res2[res2.columns[res2.notnull().loc[1].values]].copy()\n",
    "res2['ProjectTypeDesc'] = res2['prjectType'].apply(lambda x:projectDict[x])"
   ]
  },
  {
   "cell_type": "code",
   "execution_count": 8,
   "metadata": {},
   "outputs": [
    {
     "data": {
      "text/html": [
       "<div>\n",
       "<style scoped>\n",
       "    .dataframe tbody tr th:only-of-type {\n",
       "        vertical-align: middle;\n",
       "    }\n",
       "\n",
       "    .dataframe tbody tr th {\n",
       "        vertical-align: top;\n",
       "    }\n",
       "\n",
       "    .dataframe thead th {\n",
       "        text-align: right;\n",
       "    }\n",
       "</style>\n",
       "<table border=\"1\" class=\"dataframe\">\n",
       "  <thead>\n",
       "    <tr style=\"text-align: right;\">\n",
       "      <th></th>\n",
       "      <th>Unnamed: 0</th>\n",
       "      <th>aprtmentSizeMean</th>\n",
       "      <th>ProjNumber</th>\n",
       "      <th>yearsInBldgMean</th>\n",
       "      <th>aprtmentSizeMeanStay</th>\n",
       "      <th>aprtmentSizeNewComer</th>\n",
       "      <th>AgeMean</th>\n",
       "      <th>AgeMeanNew</th>\n",
       "      <th>AgeMeanStay</th>\n",
       "      <th>AgeOldStayNew</th>\n",
       "      <th>AgeYoungStayNew</th>\n",
       "      <th>AgeOldStay</th>\n",
       "      <th>AgeYoungStay</th>\n",
       "      <th>AgeOldNew</th>\n",
       "      <th>AgeYoungNew</th>\n",
       "      <th>IncomeHighStay</th>\n",
       "      <th>IncomeMedStay</th>\n",
       "      <th>IncomeLowStay</th>\n",
       "      <th>IncomeHighNew</th>\n",
       "      <th>IncomeMedNew</th>\n",
       "      <th>IncomeLowNew</th>\n",
       "      <th>IncomeHighStayNew</th>\n",
       "      <th>IncomeMedStayNew</th>\n",
       "      <th>IncomeLowStayNew</th>\n",
       "      <th>meanIncomeStay</th>\n",
       "      <th>meanIncomeNewComers</th>\n",
       "      <th>meanIncomeStay_N_new</th>\n",
       "      <th>rentCount</th>\n",
       "      <th>ownCount</th>\n",
       "      <th>rentStayCount</th>\n",
       "      <th>rentNewCount</th>\n",
       "      <th>ownStayCount</th>\n",
       "      <th>ownNewCount</th>\n",
       "      <th>TotalAgentsCount</th>\n",
       "      <th>prjectType</th>\n",
       "      <th>tic</th>\n",
       "      <th>stay</th>\n",
       "      <th>new comers</th>\n",
       "      <th>CostForStaying</th>\n",
       "      <th>rentPrice</th>\n",
       "      <th>leave</th>\n",
       "      <th>ProjectTypeDesc</th>\n",
       "    </tr>\n",
       "  </thead>\n",
       "  <tbody>\n",
       "    <tr>\n",
       "      <th>1</th>\n",
       "      <td>1</td>\n",
       "      <td>75.337691</td>\n",
       "      <td>20180988</td>\n",
       "      <td>22.810458</td>\n",
       "      <td>75.081448</td>\n",
       "      <td>82.000000</td>\n",
       "      <td>48.409586</td>\n",
       "      <td>48.470588</td>\n",
       "      <td>48.407240</td>\n",
       "      <td>255.0</td>\n",
       "      <td>663.0</td>\n",
       "      <td>248.0</td>\n",
       "      <td>636.0</td>\n",
       "      <td>7.0</td>\n",
       "      <td>27.0</td>\n",
       "      <td>0.0</td>\n",
       "      <td>369.0</td>\n",
       "      <td>515.0</td>\n",
       "      <td>23.0</td>\n",
       "      <td>11.0</td>\n",
       "      <td>0.0</td>\n",
       "      <td>23.0</td>\n",
       "      <td>380.0</td>\n",
       "      <td>515.0</td>\n",
       "      <td>7699.251131</td>\n",
       "      <td>20246.763158</td>\n",
       "      <td>8163.973799</td>\n",
       "      <td>321</td>\n",
       "      <td>597</td>\n",
       "      <td>310.0</td>\n",
       "      <td>11.0</td>\n",
       "      <td>574.0</td>\n",
       "      <td>23.0</td>\n",
       "      <td>918</td>\n",
       "      <td>1</td>\n",
       "      <td>1</td>\n",
       "      <td>884</td>\n",
       "      <td>34.0</td>\n",
       "      <td>255.628170</td>\n",
       "      <td>0</td>\n",
       "      <td>13</td>\n",
       "      <td>Addition</td>\n",
       "    </tr>\n",
       "    <tr>\n",
       "      <th>2</th>\n",
       "      <td>2</td>\n",
       "      <td>75.616379</td>\n",
       "      <td>20100133</td>\n",
       "      <td>22.141164</td>\n",
       "      <td>75.175115</td>\n",
       "      <td>82.000000</td>\n",
       "      <td>48.483836</td>\n",
       "      <td>48.483333</td>\n",
       "      <td>48.483871</td>\n",
       "      <td>256.0</td>\n",
       "      <td>672.0</td>\n",
       "      <td>243.0</td>\n",
       "      <td>625.0</td>\n",
       "      <td>13.0</td>\n",
       "      <td>47.0</td>\n",
       "      <td>0.0</td>\n",
       "      <td>364.0</td>\n",
       "      <td>504.0</td>\n",
       "      <td>40.0</td>\n",
       "      <td>20.0</td>\n",
       "      <td>0.0</td>\n",
       "      <td>40.0</td>\n",
       "      <td>384.0</td>\n",
       "      <td>504.0</td>\n",
       "      <td>7697.449309</td>\n",
       "      <td>20174.978070</td>\n",
       "      <td>8504.186082</td>\n",
       "      <td>325</td>\n",
       "      <td>603</td>\n",
       "      <td>304.0</td>\n",
       "      <td>21.0</td>\n",
       "      <td>564.0</td>\n",
       "      <td>39.0</td>\n",
       "      <td>928</td>\n",
       "      <td>1</td>\n",
       "      <td>2</td>\n",
       "      <td>868</td>\n",
       "      <td>60.0</td>\n",
       "      <td>441.070496</td>\n",
       "      <td>0</td>\n",
       "      <td>29</td>\n",
       "      <td>Addition</td>\n",
       "    </tr>\n",
       "    <tr>\n",
       "      <th>3</th>\n",
       "      <td>3</td>\n",
       "      <td>75.587302</td>\n",
       "      <td>20180812</td>\n",
       "      <td>21.439153</td>\n",
       "      <td>75.629977</td>\n",
       "      <td>75.186813</td>\n",
       "      <td>48.366138</td>\n",
       "      <td>49.307692</td>\n",
       "      <td>48.265808</td>\n",
       "      <td>256.0</td>\n",
       "      <td>689.0</td>\n",
       "      <td>236.0</td>\n",
       "      <td>618.0</td>\n",
       "      <td>20.0</td>\n",
       "      <td>71.0</td>\n",
       "      <td>0.0</td>\n",
       "      <td>356.0</td>\n",
       "      <td>498.0</td>\n",
       "      <td>40.0</td>\n",
       "      <td>51.0</td>\n",
       "      <td>0.0</td>\n",
       "      <td>40.0</td>\n",
       "      <td>407.0</td>\n",
       "      <td>498.0</td>\n",
       "      <td>7658.194379</td>\n",
       "      <td>18781.043378</td>\n",
       "      <td>8729.283542</td>\n",
       "      <td>324</td>\n",
       "      <td>621</td>\n",
       "      <td>297.0</td>\n",
       "      <td>27.0</td>\n",
       "      <td>557.0</td>\n",
       "      <td>64.0</td>\n",
       "      <td>945</td>\n",
       "      <td>1</td>\n",
       "      <td>3</td>\n",
       "      <td>854</td>\n",
       "      <td>91.0</td>\n",
       "      <td>606.108847</td>\n",
       "      <td>0</td>\n",
       "      <td>43</td>\n",
       "      <td>Addition</td>\n",
       "    </tr>\n",
       "    <tr>\n",
       "      <th>4</th>\n",
       "      <td>4</td>\n",
       "      <td>76.027112</td>\n",
       "      <td>20181092</td>\n",
       "      <td>20.617310</td>\n",
       "      <td>75.605232</td>\n",
       "      <td>79.033898</td>\n",
       "      <td>48.442127</td>\n",
       "      <td>50.067797</td>\n",
       "      <td>48.214031</td>\n",
       "      <td>258.0</td>\n",
       "      <td>701.0</td>\n",
       "      <td>231.0</td>\n",
       "      <td>610.0</td>\n",
       "      <td>27.0</td>\n",
       "      <td>91.0</td>\n",
       "      <td>0.0</td>\n",
       "      <td>350.0</td>\n",
       "      <td>491.0</td>\n",
       "      <td>66.0</td>\n",
       "      <td>52.0</td>\n",
       "      <td>0.0</td>\n",
       "      <td>66.0</td>\n",
       "      <td>402.0</td>\n",
       "      <td>491.0</td>\n",
       "      <td>7639.385256</td>\n",
       "      <td>19569.922391</td>\n",
       "      <td>9107.376269</td>\n",
       "      <td>329</td>\n",
       "      <td>630</td>\n",
       "      <td>291.0</td>\n",
       "      <td>38.0</td>\n",
       "      <td>550.0</td>\n",
       "      <td>80.0</td>\n",
       "      <td>959</td>\n",
       "      <td>1</td>\n",
       "      <td>4</td>\n",
       "      <td>841</td>\n",
       "      <td>118.0</td>\n",
       "      <td>810.857831</td>\n",
       "      <td>0</td>\n",
       "      <td>56</td>\n",
       "      <td>Addition</td>\n",
       "    </tr>\n",
       "    <tr>\n",
       "      <th>5</th>\n",
       "      <td>5</td>\n",
       "      <td>76.627907</td>\n",
       "      <td>20171974</td>\n",
       "      <td>19.788675</td>\n",
       "      <td>75.894231</td>\n",
       "      <td>80.515924</td>\n",
       "      <td>48.542973</td>\n",
       "      <td>50.254777</td>\n",
       "      <td>48.219952</td>\n",
       "      <td>264.0</td>\n",
       "      <td>725.0</td>\n",
       "      <td>228.0</td>\n",
       "      <td>604.0</td>\n",
       "      <td>36.0</td>\n",
       "      <td>121.0</td>\n",
       "      <td>0.0</td>\n",
       "      <td>346.0</td>\n",
       "      <td>486.0</td>\n",
       "      <td>98.0</td>\n",
       "      <td>59.0</td>\n",
       "      <td>0.0</td>\n",
       "      <td>98.0</td>\n",
       "      <td>405.0</td>\n",
       "      <td>486.0</td>\n",
       "      <td>7620.582933</td>\n",
       "      <td>19983.318304</td>\n",
       "      <td>9583.120297</td>\n",
       "      <td>339</td>\n",
       "      <td>650</td>\n",
       "      <td>286.0</td>\n",
       "      <td>53.0</td>\n",
       "      <td>546.0</td>\n",
       "      <td>104.0</td>\n",
       "      <td>989</td>\n",
       "      <td>2</td>\n",
       "      <td>5</td>\n",
       "      <td>832</td>\n",
       "      <td>157.0</td>\n",
       "      <td>1067.265228</td>\n",
       "      <td>0</td>\n",
       "      <td>65</td>\n",
       "      <td>Reconstruction</td>\n",
       "    </tr>\n",
       "  </tbody>\n",
       "</table>\n",
       "</div>"
      ],
      "text/plain": [
       "   Unnamed: 0  aprtmentSizeMean ProjNumber  yearsInBldgMean  \\\n",
       "1           1         75.337691   20180988        22.810458   \n",
       "2           2         75.616379   20100133        22.141164   \n",
       "3           3         75.587302   20180812        21.439153   \n",
       "4           4         76.027112   20181092        20.617310   \n",
       "5           5         76.627907   20171974        19.788675   \n",
       "\n",
       "   aprtmentSizeMeanStay  aprtmentSizeNewComer    AgeMean  AgeMeanNew  \\\n",
       "1             75.081448             82.000000  48.409586   48.470588   \n",
       "2             75.175115             82.000000  48.483836   48.483333   \n",
       "3             75.629977             75.186813  48.366138   49.307692   \n",
       "4             75.605232             79.033898  48.442127   50.067797   \n",
       "5             75.894231             80.515924  48.542973   50.254777   \n",
       "\n",
       "   AgeMeanStay  AgeOldStayNew  AgeYoungStayNew  AgeOldStay  AgeYoungStay  \\\n",
       "1    48.407240          255.0            663.0       248.0         636.0   \n",
       "2    48.483871          256.0            672.0       243.0         625.0   \n",
       "3    48.265808          256.0            689.0       236.0         618.0   \n",
       "4    48.214031          258.0            701.0       231.0         610.0   \n",
       "5    48.219952          264.0            725.0       228.0         604.0   \n",
       "\n",
       "   AgeOldNew  AgeYoungNew  IncomeHighStay  IncomeMedStay  IncomeLowStay  \\\n",
       "1        7.0         27.0             0.0          369.0          515.0   \n",
       "2       13.0         47.0             0.0          364.0          504.0   \n",
       "3       20.0         71.0             0.0          356.0          498.0   \n",
       "4       27.0         91.0             0.0          350.0          491.0   \n",
       "5       36.0        121.0             0.0          346.0          486.0   \n",
       "\n",
       "   IncomeHighNew  IncomeMedNew  IncomeLowNew  IncomeHighStayNew  \\\n",
       "1           23.0          11.0           0.0               23.0   \n",
       "2           40.0          20.0           0.0               40.0   \n",
       "3           40.0          51.0           0.0               40.0   \n",
       "4           66.0          52.0           0.0               66.0   \n",
       "5           98.0          59.0           0.0               98.0   \n",
       "\n",
       "   IncomeMedStayNew  IncomeLowStayNew  meanIncomeStay  meanIncomeNewComers  \\\n",
       "1             380.0             515.0     7699.251131         20246.763158   \n",
       "2             384.0             504.0     7697.449309         20174.978070   \n",
       "3             407.0             498.0     7658.194379         18781.043378   \n",
       "4             402.0             491.0     7639.385256         19569.922391   \n",
       "5             405.0             486.0     7620.582933         19983.318304   \n",
       "\n",
       "   meanIncomeStay_N_new  rentCount  ownCount  rentStayCount  rentNewCount  \\\n",
       "1           8163.973799        321       597          310.0          11.0   \n",
       "2           8504.186082        325       603          304.0          21.0   \n",
       "3           8729.283542        324       621          297.0          27.0   \n",
       "4           9107.376269        329       630          291.0          38.0   \n",
       "5           9583.120297        339       650          286.0          53.0   \n",
       "\n",
       "   ownStayCount  ownNewCount  TotalAgentsCount  prjectType  tic  stay  \\\n",
       "1         574.0         23.0               918           1    1   884   \n",
       "2         564.0         39.0               928           1    2   868   \n",
       "3         557.0         64.0               945           1    3   854   \n",
       "4         550.0         80.0               959           1    4   841   \n",
       "5         546.0        104.0               989           2    5   832   \n",
       "\n",
       "   new comers  CostForStaying  rentPrice  leave ProjectTypeDesc  \n",
       "1        34.0      255.628170          0     13        Addition  \n",
       "2        60.0      441.070496          0     29        Addition  \n",
       "3        91.0      606.108847          0     43        Addition  \n",
       "4       118.0      810.857831          0     56        Addition  \n",
       "5       157.0     1067.265228          0     65  Reconstruction  "
      ]
     },
     "execution_count": 8,
     "metadata": {},
     "output_type": "execute_result"
    }
   ],
   "source": [
    "res2.head()"
   ]
  },
  {
   "cell_type": "code",
   "execution_count": 9,
   "metadata": {},
   "outputs": [],
   "source": [
    "class simWidgets:\n",
    "    styled = {'description_width': 'initial'}\n",
    "    def __init__(self):\n",
    "        self.tics =widgets.IntRangeSlider(\n",
    "            value=[0, 1],\n",
    "            min=0,\n",
    "            max=30,\n",
    "            step=1,\n",
    "            description='Simulation Tics:',\n",
    "            disabled=False,\n",
    "            continuous_update=False,\n",
    "            orientation='horizontal',\n",
    "            readout=True,\n",
    "            readout_format='d',\n",
    "            layout=Layout(width='100%'),\n",
    "            style=simWidgets.styled\n",
    "        )\n"
   ]
  },
  {
   "cell_type": "code",
   "execution_count": 10,
   "metadata": {},
   "outputs": [],
   "source": [
    "simWidg = simWidgets()\n",
    "simWidg.tics.min = ticsIndex.values.min()\n",
    "simWidg.tics.max = ticsIndex.values.max()"
   ]
  },
  {
   "cell_type": "code",
   "execution_count": 11,
   "metadata": {},
   "outputs": [],
   "source": [
    "def g(x):\n",
    "    startTic = x[0]\n",
    "    lastTic = x[1]\n",
    "    if lastTic>0:\n",
    "        if startTic==11:\n",
    "            startTic=12\n",
    "        if lastTic==11:\n",
    "            lastTic=12\n",
    "        projectNum = projNumberTicDict[lastTic]\n",
    "        bldNumber = projBldNumberDict[projectNum]\n",
    "        hebAddres = bldDictAddress[bldNumber]\n",
    "        projectTypeDesc = res2.query(f'tic=={lastTic}')['ProjectTypeDesc'].values[0]\n",
    "        h = HTML(value=f\"<h2>Execution: {x[1]} &nbsp; Project Number: {projectNum}<br/> Hebrew Address: {hebAddres}<br/>Project Type: {projectTypeDesc}</h2>\")\n",
    "        display(h)\n",
    "        figure_1(startTic,lastTic)\n",
    "        figure_2(startTic,lastTic)\n",
    "        figure_3(startTic,lastTic)\n",
    "        figure_4(startTic,lastTic)\n",
    "        figure_5(startTic,lastTic)\n",
    "        figure_6(lastTic)\n",
    "        figure_7(lastTic)\n",
    "        figure_9(projectNum)\n",
    "        \n",
    "    else:\n",
    "        h = HTML(value=f\"<h2>Tick: {x[1]}</h2>\")\n",
    "        display(h)\n",
    "    #return (x[0]*2)"
   ]
  },
  {
   "cell_type": "code",
   "execution_count": 12,
   "metadata": {},
   "outputs": [
    {
     "data": {
      "application/vnd.jupyter.widget-view+json": {
       "model_id": "7a19665520944cdbbca3aaf46ce3c409",
       "version_major": 2,
       "version_minor": 0
      },
      "text/plain": [
       "interactive(children=(IntRangeSlider(value=(0, 1), continuous_update=False, description='Simulation Tics:', la…"
      ]
     },
     "metadata": {},
     "output_type": "display_data"
    }
   ],
   "source": [
    "i = interact_manual(g, x=simWidg.tics)\n",
    "i.widget.children[1].description = 'Submit'\n"
   ]
  },
  {
   "cell_type": "code",
   "execution_count": 17,
   "metadata": {},
   "outputs": [],
   "source": [
    "    stayingC = colorExcel.query('label==\"Staying\"')['colors_'].values[0]\n",
    "    leavingC = colorExcel.query('label==\"Leaving\"')['colors_'].values[0]\n",
    "    newComerC = colorExcel.query('label==\"New Comers\"')['colors_'].values[0]\n",
    "    aC = colorExcel.query('label==\"Addition\"')['colors_'].values[0]\n",
    "    rC = colorExcel.query('label==\"Reconstruction\"')['colors_'].values[0]\n",
    "    rrC = colorExcel.query('label==\"Raze and Rebuild\"')['colors_'].values[0]\n",
    "    totalPopC = colorExcel.query('label==\"Total Pop\"')['colors_'].values[0]\n",
    "\n",
    "    lowIncomeC = colorExcel.loc[colorExcel['label']=='Moderate','colors_'].values[0]\n",
    "    medIncomeC = colorExcel.loc[colorExcel['label']=='Middle','colors_'].values[0]\n",
    "    upIncomeC = colorExcel.loc[colorExcel['label']=='Upper','colors_'].values[0]\n"
   ]
  },
  {
   "cell_type": "code",
   "execution_count": 18,
   "metadata": {},
   "outputs": [
    {
     "data": {
      "application/vnd.jupyter.widget-view+json": {
       "model_id": "d2d953b8be574fc586a44cd692c78d5d",
       "version_major": 2,
       "version_minor": 0
      },
      "text/plain": [
       "Output()"
      ]
     },
     "metadata": {},
     "output_type": "display_data"
    }
   ],
   "source": [
    "out1 = widgets.Output()\n",
    "out1"
   ]
  },
  {
   "cell_type": "code",
   "execution_count": 19,
   "metadata": {},
   "outputs": [],
   "source": [
    "def figure_1(start=1,end=1):\n",
    "    widthD=800\n",
    "    genericGraph = res2.query(f\"tic>={start} & tic<={end}\").copy()\n",
    "    genericGraph.loc[genericGraph['prjectType']==1,'Project Type '] = 'Addition'\n",
    "    genericGraph.loc[genericGraph['prjectType']==2,'Project Type '] = 'Reconstruction'\n",
    "    genericGraph.loc[genericGraph['prjectType']==3,'Project Type '] = 'Raze and Rebuild'\n",
    "    genericGraph['y_shift'] =-20\n",
    "    # Change the bar mode\n",
    "    aTics = genericGraph.loc[genericGraph['prjectType'] == 1, 'tic']\n",
    "    aYshift =genericGraph.loc[genericGraph['prjectType'] == 1, 'y_shift']\n",
    "\n",
    "    rTics = genericGraph.loc[genericGraph['prjectType'] == 2, 'tic']\n",
    "    rYshift = genericGraph.loc[genericGraph['prjectType'] == 2, 'y_shift']\n",
    "\n",
    "    rrTics = genericGraph.loc[genericGraph['prjectType'] == 3, 'tic']\n",
    "    rrYshift = genericGraph.loc[genericGraph['prjectType'] == 3, 'y_shift']\n",
    "    titlesList = ['Staying','New Comers','Total (Staying+New Comers)']\n",
    "    colList = ['stay','new comers','TotalAgentsCount']\n",
    "    colorList = [stayingC,newComerC,totalPopC]\n",
    "    styleList = [dict(color=stayingC, width=4), dict(color=newComerC, width=4), dict(color=totalPopC, dash='dash')] \n",
    "\n",
    "\n",
    "    fig = go.Figure()\n",
    "    for i in range(3):\n",
    "        fig.add_trace(go.Scatter(\n",
    "            x=genericGraph['tic'],\n",
    "            y=genericGraph[colList[i]],\n",
    "            line=styleList[i],\n",
    "            name=titlesList[i]\n",
    "        ))\n",
    "\n",
    "\n",
    "    maxY=3300\n",
    "    for xtic in aTics:\n",
    "        fig.add_shape(type=\"line\", x0=xtic, y0=0, x1=xtic, y1=maxY, line=dict(\n",
    "            color=aC, width=1.5, dash=\"dot\"), layer=\"below\")\n",
    "\n",
    "    for xtic in rTics:\n",
    "        fig.add_shape(type=\"line\", x0=xtic, y0=0, x1=xtic, y1=maxY, line=dict(\n",
    "            color=rC, width=1.5, dash=\"dot\"), layer=\"below\")\n",
    "\n",
    "    for xtic in rrTics:\n",
    "        fig.add_shape(type=\"line\", x0=xtic, y0=0, x1=xtic, y1=maxY,\n",
    "                      line=dict(color=rrC, width=1.5, dash=\"dot\"), layer=\"below\")\n",
    "\n",
    "\n",
    "    fig.add_trace(go.Scatter(name='Addition', x=aTics, y=aYshift,\n",
    "                             mode='markers', marker=dict(color=aC)))\n",
    "    fig.add_trace(go.Scatter(name='Reconstruction', x=rTics, y=rYshift,\n",
    "                             mode='markers', marker=dict(color=rC)))\n",
    "    fig.add_trace(go.Scatter(name='Raze and Rebuild', x=rrTics,\n",
    "                             y=rrYshift, mode='markers', marker=dict(color=rrC)))\n",
    "\n",
    "    fig.update_layout(width=widthD,height=heightD, title='Household Absolute change within simulation tics')\n",
    "    fig.update_yaxes(title='Household Count',range=[-100, maxY],gridwidth=1, gridcolor=gridBG,zerolinewidth=1,zerolinecolor='lightgrey')\n",
    "    fig.update_xaxes(title='Simulation tic',gridwidth=1, gridcolor=gridBG,zerolinewidth=1,zerolinecolor='lightgrey')\n",
    "    fig.update_layout(showlegend=True,plot_bgcolor='rgba(0,0,0,0)',legend=dict(yanchor=\"top\", y=0.99, xanchor=\"left\", x=0.01,bgcolor='rgba(255,255,255,0.75)'))\n",
    "    with out1:\n",
    "        out1.clear_output()\n",
    "        fig.show()"
   ]
  },
  {
   "cell_type": "code",
   "execution_count": 20,
   "metadata": {},
   "outputs": [
    {
     "data": {
      "application/vnd.jupyter.widget-view+json": {
       "model_id": "593c1803208f469095d377ad52aa0362",
       "version_major": 2,
       "version_minor": 0
      },
      "text/plain": [
       "Output()"
      ]
     },
     "metadata": {},
     "output_type": "display_data"
    }
   ],
   "source": [
    "out2 = widgets.Output()\n",
    "out2"
   ]
  },
  {
   "cell_type": "code",
   "execution_count": 21,
   "metadata": {},
   "outputs": [],
   "source": [
    "def figure_2(start,end):\n",
    "    widthD=800\n",
    "    genericGraph = res2.query(f\"tic>={start} & tic<={end}\").copy()\n",
    "    title_ ='Percent Income by Group Staying Vs New Comers'\n",
    "    y_title = 'Household Percent'\n",
    "    columnsList = ['IncomeHighStay','IncomeMedStay','IncomeLowStay','IncomeHighNew','IncomeMedNew','IncomeLowNew','IncomeHighStayNew','IncomeMedStayNew','IncomeLowStayNew']\n",
    "    titlesList = ['High Stay','Med Stay','Low Stay','High New Comer','Med New Comer','Low New Comer','High (average)','Medium (average)','Low (average)']\n",
    "    legendGroup =['Staying','Staying','Staying','New Comers','New Comers','New Comers','Average','Average','Average']\n",
    "    styleList = [dict(color=upIncomeC,width=2),\n",
    "                 dict(color=medIncomeC,width=2),\n",
    "                 dict(color=lowIncomeC,width=2),\n",
    "                 dict(color=upIncomeC,width=4),\n",
    "                 dict(color=medIncomeC,width=4),\n",
    "                 dict(color=lowIncomeC,width=4),\n",
    "                 dict(color='hsv(30,50%,100%)',dash='dash'),\n",
    "                 dict(color='hsv(30,75%,100%)', dash='dash'),\n",
    "                 dict(color='hsv(30,100%,50%)', dash='dash')]\n",
    "    percentList=[]\n",
    "    for i in range(9):\n",
    "        percentList.append(f'{columnsList[i]}Percent')\n",
    "        genericGraph[percentList[i]] = genericGraph[columnsList[i]]/genericGraph['TotalAgentsCount']\n",
    "    genericGraph['y_shift'] =-0.02\n",
    "    # Change the bar mode\n",
    "    aTics = genericGraph.loc[genericGraph['prjectType'] == 1, 'tic']\n",
    "    rTics = genericGraph.loc[genericGraph['prjectType'] == 2, 'tic']\n",
    "    rrTics = genericGraph.loc[genericGraph['prjectType'] == 3, 'tic']\n",
    "    \n",
    "    aYshift =genericGraph.loc[genericGraph['prjectType'] == 1, 'y_shift']\n",
    "    rYshift = genericGraph.loc[genericGraph['prjectType'] == 2, 'y_shift']\n",
    "    rrYshift = genericGraph.loc[genericGraph['prjectType'] == 3, 'y_shift']\n",
    "    maxY=1\n",
    "    fig = go.Figure()\n",
    "    for i in range(9):\n",
    "        fig.add_trace(go.Scatter(\n",
    "            x=genericGraph['tic'],\n",
    "            y=genericGraph[percentList[i]],\n",
    "            legendgroup = legendGroup[i],\n",
    "            line=styleList[i],\n",
    "            name=titlesList[i]\n",
    "        ))\n",
    "    for xtic in aTics:\n",
    "        fig.add_shape(type=\"line\", x0=xtic, y0=0, x1=xtic, y1=maxY, line=dict(\n",
    "            color=aC, width=1.5, dash=\"dot\"), layer=\"below\")\n",
    "\n",
    "    for xtic in rTics:\n",
    "        fig.add_shape(type=\"line\", x0=xtic, y0=0, x1=xtic, y1=maxY, line=dict(\n",
    "            color=rC, width=1.5, dash=\"dot\"), layer=\"below\")\n",
    "\n",
    "    for xtic in rrTics:\n",
    "        fig.add_shape(type=\"line\", x0=xtic, y0=0, x1=xtic, y1=maxY,\n",
    "                      line=dict(color=rrC, width=1.5, dash=\"dot\"), layer=\"below\")\n",
    "\n",
    "    fig.add_trace(go.Scatter(name='Addition', x=aTics, y=aYshift,\n",
    "                             mode='markers', legendgroup='Building Type', marker=dict(color=aC)))\n",
    "    fig.add_trace(go.Scatter(name='Reconstruction',legendgroup='Building Type',  x=rTics, y=rYshift,\n",
    "                             mode='markers', marker=dict(color=rC)))\n",
    "    fig.add_trace(go.Scatter(name='Raze and Rebuild',legendgroup='Building Type',  x=rrTics,\n",
    "                             y=rrYshift, mode='markers', marker=dict(color=rrC)))\n",
    "\n",
    "\n",
    "    fig.update_layout(width=widthD,height=heightD, title=title_)\n",
    "    fig.update_yaxes(title=y_title,range=[-0.05, maxY],gridwidth=1, gridcolor=gridBG,zerolinewidth=1,zerolinecolor='lightgrey')\n",
    "\n",
    "    fig.update_xaxes(title='Simulation tic',gridwidth=1, gridcolor=gridBG,zerolinewidth=1,zerolinecolor='lightgrey')\n",
    "    fig.update_layout(showlegend=True,plot_bgcolor='rgba(0,0,0,0)',legend=dict(orientation='h',yanchor=\"top\", y=1.0, xanchor=\"left\", x=0.03,bgcolor='rgba(255,255,255,0.5)'))\n",
    "\n",
    "    with out2:\n",
    "        out2.clear_output()\n",
    "        fig.show()"
   ]
  },
  {
   "cell_type": "code",
   "execution_count": 22,
   "metadata": {},
   "outputs": [
    {
     "data": {
      "application/vnd.jupyter.widget-view+json": {
       "model_id": "edc2173e505b4378b0bfa28b6aa0e1fa",
       "version_major": 2,
       "version_minor": 0
      },
      "text/plain": [
       "Output()"
      ]
     },
     "metadata": {},
     "output_type": "display_data"
    }
   ],
   "source": [
    "out3 = widgets.Output()\n",
    "out3"
   ]
  },
  {
   "cell_type": "code",
   "execution_count": 23,
   "metadata": {},
   "outputs": [],
   "source": [
    "def figure_3(start,end):\n",
    "    widthD=800\n",
    "\n",
    "    genericGraph = res2.query(f\"tic>={start} & tic<={end}\").copy()\n",
    "    above65C = colorExcel.loc[colorExcel['label']=='65-84','colors_'].values[0]\n",
    "    below65C = colorExcel.loc[colorExcel['label']=='18-44','colors_'].values[0]\n",
    "    averageBelowAgeC = colorExcel.loc[colorExcel['label']=='45-64','colors_'].values[0]\n",
    "    averageAboveAgeC = colorExcel.loc[colorExcel['label']=='85+','colors_'].values[0]\n",
    "    \n",
    "    title_ ='Above and Below 65 troughout the simulation'\n",
    "    y_title = 'Household Percent'\n",
    "    #totalPopC\n",
    "    columnsList = ['AgeYoungStay','AgeOldStay','AgeYoungNew','AgeOldNew','AgeYoungStayNew','AgeOldStayNew']\n",
    "    titlesList = ['Under 65 Stay','Above 65 Stay','Under 65 New Comers','Above 65 New Comers','Under 65 (Average)','Above 65 (Average)']\n",
    "    legendGroup =['Staying','Staying','New Comers','New Comers','Average','Average']\n",
    "    styleList = [dict(color=below65C,width=2),\n",
    "                 dict(color=above65C,width=2),\n",
    "                 dict(color=below65C,width=4),\n",
    "                 dict(color=above65C,width=4),\n",
    "                 dict(color=averageBelowAgeC,dash='dash'),\n",
    "                 dict(color=averageAboveAgeC, dash='dash')]\n",
    "    percentList=[]\n",
    "    for i in range(6):\n",
    "        percentList.append(f'{columnsList[i]}Percent')\n",
    "        genericGraph[percentList[i]] = genericGraph[columnsList[i]]/genericGraph['TotalAgentsCount']\n",
    "    genericGraph['y_shift'] =-0.02\n",
    "    # Change the bar mode\n",
    "    aTics = genericGraph.loc[genericGraph['prjectType'] == 1, 'tic']\n",
    "    rTics = genericGraph.loc[genericGraph['prjectType'] == 2, 'tic']\n",
    "    rrTics = genericGraph.loc[genericGraph['prjectType'] == 3, 'tic']\n",
    "    \n",
    "    aYshift =genericGraph.loc[genericGraph['prjectType'] == 1, 'y_shift']\n",
    "    rYshift = genericGraph.loc[genericGraph['prjectType'] == 2, 'y_shift']\n",
    "    rrYshift = genericGraph.loc[genericGraph['prjectType'] == 3, 'y_shift']\n",
    "    maxY=1\n",
    "    fig = go.Figure()\n",
    "    for i in range(6):\n",
    "        fig.add_trace(go.Scatter(\n",
    "            x=genericGraph['tic'],\n",
    "            y=genericGraph[percentList[i]],\n",
    "            legendgroup = legendGroup[i],\n",
    "            line=styleList[i],\n",
    "            name=titlesList[i]\n",
    "        ))\n",
    "    for xtic in aTics:\n",
    "        fig.add_shape(type=\"line\", x0=xtic, y0=0, x1=xtic, y1=maxY, line=dict(\n",
    "            color=aC, width=1.5, dash=\"dot\"), layer=\"below\")\n",
    "\n",
    "    for xtic in rTics:\n",
    "        fig.add_shape(type=\"line\", x0=xtic, y0=0, x1=xtic, y1=maxY, line=dict(\n",
    "            color=rC, width=1.5, dash=\"dot\"), layer=\"below\")\n",
    "\n",
    "    for xtic in rrTics:\n",
    "        fig.add_shape(type=\"line\", x0=xtic, y0=0, x1=xtic, y1=maxY,\n",
    "                      line=dict(color=rrC, width=1.5, dash=\"dot\"), layer=\"below\")\n",
    "\n",
    "    fig.add_trace(go.Scatter(name='Addition', x=aTics, y=aYshift,\n",
    "                             mode='markers', legendgroup='Building Type', marker=dict(color=aC)))\n",
    "    fig.add_trace(go.Scatter(name='Reconstruction',legendgroup='Building Type',  x=rTics, y=rYshift,\n",
    "                             mode='markers', marker=dict(color=rC)))\n",
    "    fig.add_trace(go.Scatter(name='Raze and Rebuild',legendgroup='Building Type',  x=rrTics,\n",
    "                             y=rrYshift, mode='markers', marker=dict(color=rrC)))\n",
    "\n",
    "\n",
    "    fig.update_layout(width=widthD,height=heightD, title=title_)\n",
    "    fig.update_yaxes(title=y_title,range=[-0.05, maxY],gridwidth=1, gridcolor=gridBG,zerolinewidth=1,zerolinecolor='lightgrey')\n",
    "\n",
    "    fig.update_xaxes(title='Simulation tic',gridwidth=1, gridcolor=gridBG,zerolinewidth=1,zerolinecolor='lightgrey')\n",
    "    fig.update_layout(showlegend=True,plot_bgcolor='rgba(0,0,0,0)',legend=dict(orientation='h',yanchor=\"top\", y=1.0, xanchor=\"left\", x=0.03,bgcolor='rgba(255,255,255,0.5)'))\n",
    "\n",
    "    with out3:\n",
    "        out3.clear_output()\n",
    "        fig.show()"
   ]
  },
  {
   "cell_type": "code",
   "execution_count": 24,
   "metadata": {},
   "outputs": [
    {
     "data": {
      "application/vnd.jupyter.widget-view+json": {
       "model_id": "200ed453ef3c4560908ae6014dba7a0a",
       "version_major": 2,
       "version_minor": 0
      },
      "text/plain": [
       "Output()"
      ]
     },
     "metadata": {},
     "output_type": "display_data"
    }
   ],
   "source": [
    "out4 = widgets.Output()\n",
    "out4"
   ]
  },
  {
   "cell_type": "code",
   "execution_count": 25,
   "metadata": {},
   "outputs": [],
   "source": [
    "def figure_4(start,end):\n",
    "    genericGraph = res2.query(f\"tic>={start} & tic<={end}\").copy()\n",
    "    uniProList = genericGraph['ProjNumber'].unique()\n",
    "    ageIncomeCopy = ageIncome[ageIncome['ProjNumber'].isin(uniProList)].copy()\n",
    "    ageIncomeAgg = ageIncomeCopy.groupby(['simulationState','ageGroup','incomeGroup']).agg({'agentID':'count'}).reset_index()\n",
    "    ageIncomeAgg['Age_income'] = ageIncomeAgg['ageGroup'] + \" \" + ageIncomeAgg['incomeGroup']\n",
    "    ageIncomeAgg.rename(columns={'ageGroup':'Age Group','incomeGroup':'Income Group','agentID':'Count'},inplace=True)\n",
    "\n",
    "    ageIncomeColr = pd.read_excel(colorAgeIncomeExcel,usecols=['Age_income','color'])\n",
    "    ageIncomeColorDict = dict(zip(ageIncomeColr['Age_income'],ageIncomeColr['color']))\n",
    "    title_ = 'Age Group Vs Income Before and After Renewal'\n",
    "    fig = px.scatter(ageIncomeAgg, x=\"Age Group\", y=\"Income Group\",\n",
    "                size=\"Count\",facet_col='simulationState', title=title_,size_max=30,\n",
    "                category_orders={\"Age Group\": [\"Under 65\",\"Above 65\"],\"Income Group\": ['High Income', 'Medium Income', 'Low Income'],\"simulationState\":['Before Renewal','After Renewal']},color='Age_income',color_discrete_map=ageIncomeColorDict,width=700,height=heightD)\n",
    "    fig.update_yaxes(gridwidth=1, gridcolor='#d9d9d9',zerolinewidth=1,zerolinecolor='lightgrey',title='')\n",
    "    fig.update_xaxes(gridwidth=1, gridcolor='#d9d9d9',zerolinewidth=1,zerolinecolor='lightgrey',title='')\n",
    "    fig.update_layout(plot_bgcolor='#f2f7ff')\n",
    "    fig.layout['annotations'][0]['text'] = 'Before Renewal'\n",
    "    fig.layout['annotations'][1]['text'] = 'After Renewal'\n",
    "    fig.update_traces(showlegend=False)\n",
    "    with out4:\n",
    "        out4.clear_output()\n",
    "        fig.show()"
   ]
  },
  {
   "cell_type": "code",
   "execution_count": 26,
   "metadata": {},
   "outputs": [
    {
     "data": {
      "application/vnd.jupyter.widget-view+json": {
       "model_id": "8084fe52dca8432cbbd13e3e9dd6847c",
       "version_major": 2,
       "version_minor": 0
      },
      "text/plain": [
       "Output()"
      ]
     },
     "metadata": {},
     "output_type": "display_data"
    }
   ],
   "source": [
    "out5 = widgets.Output()\n",
    "out5"
   ]
  },
  {
   "cell_type": "code",
   "execution_count": 27,
   "metadata": {},
   "outputs": [],
   "source": [
    "def figure_5(start,end):\n",
    "    startLine = aggResByTic.query(f'tic=={start}')\n",
    "    endLine = aggResByTic.query(f'tic=={end}')\n",
    "    statsDict = {'aprtmentSizeMean:':{'before':round(startLine['aprtmentSizeMean'].values[0],1),\n",
    "                       'after':round(endLine['aprtmentSizeMean'].values[0],1),\n",
    "                        'title':'Apartment Size',\n",
    "                         'units':'sq meters'},\n",
    "     'yearsInBldgMean:':{'before':round(startLine['yearsInBldgMean'].values[0],1),\n",
    "                       'after':round(endLine['yearsInBldgMean'].values[0],1),\n",
    "                        'title':'Years in Neighborhood',\n",
    "                         'units':'years'},\n",
    "     'CostForStaying:':{'before':round(startLine['CostForStaying'].values[0],1),\n",
    "                       'after':round(endLine['CostForStaying'].values[0],1),\n",
    "                        'title':'Cost For Staying',\n",
    "                         'units':'₪'},\n",
    "     'meanIncomeStay_N_new:':{'before':round(startLine['meanIncomeStay_N_new'].values[0],1),\n",
    "                       'after':round(endLine['meanIncomeStay_N_new'].values[0],1),\n",
    "                        'title':'Mean Income',\n",
    "                         'units':'₪'}\n",
    "    }\n",
    "    htmlText = \"\"\n",
    "    for key in statsDict.keys():\n",
    "        htmlText+=(\"<span><b>\"+f\"{statsDict[key]['title']}</b></span> Start Marker: <b>{statsDict[key]['before']}  {statsDict[key]['units']} </b> End Marker <b> {statsDict[key]['after']} {statsDict[key]['units']}</b><br/>\")\n",
    "    htmlText = \"<div style='font-size:15px'>\"+htmlText+\"</div>\"\n",
    "    Htats = HTML(value=htmlText)\n",
    "    with out5:\n",
    "        out5.clear_output()\n",
    "        display(Htats)"
   ]
  },
  {
   "cell_type": "code",
   "execution_count": 28,
   "metadata": {},
   "outputs": [
    {
     "data": {
      "application/vnd.jupyter.widget-view+json": {
       "model_id": "32a5da5db921414c939b22776b9de895",
       "version_major": 2,
       "version_minor": 0
      },
      "text/plain": [
       "Output()"
      ]
     },
     "metadata": {},
     "output_type": "display_data"
    }
   ],
   "source": [
    "out6 = widgets.Output()\n",
    "out6"
   ]
  },
  {
   "cell_type": "code",
   "execution_count": 29,
   "metadata": {},
   "outputs": [],
   "source": [
    "def figure_6(end):\n",
    "    projectMovement = movementsByProject[movementsByProject['Tic']['after']==end]\n",
    "    projType = projectMovement['Type of Project']['after'].values[0]\n",
    "    Leaving_Owners = projectMovement['Leaving Owners']['after'].values[0]\n",
    "    Leaving_Renters = projectMovement['Leaving Renters']['after'].values[0]\n",
    "    New_Owners = projectMovement['New Owners']['after'].values[0]\n",
    "    New_Renters = projectMovement['New Renters']['after'].values[0]\n",
    "    Staying = projectMovement['Staying']['after'].values[0]\n",
    "    Total_Households =New_Owners+New_Renters+Staying\n",
    "    Total_Households_before = projectMovement['Total Households']['before'].values[0]\n",
    "\n",
    "\n",
    "    if projType>1:\n",
    "        bldX =5\n",
    "        bldY = 1.5\n",
    "        oldBldX = 2.5\n",
    "        oldBldY =1.5\n",
    "        outOwnX = 1\n",
    "        outOwnY = 1.25\n",
    "        outRentX = 1\n",
    "        outRentY = 1.85\n",
    "        inOwnX = 4\n",
    "        inOwnY = 2.25\n",
    "        inRentX = 2\n",
    "        inRentY = 2.25\n",
    "        df = pd.DataFrame({'x':[outOwnX,outRentX,oldBldX,oldBldX,inRentX,inOwnX,bldX],\n",
    "                           'y':[outOwnY,outRentY,oldBldY,oldBldY,inRentY,inOwnY,bldY],\n",
    "                           'Agents':[Leaving_Owners,Leaving_Renters,Total_Households_before,Staying,New_Renters,New_Owners,Total_Households],\n",
    "                           'who':['Leaving Owners','Leaving Renters','Total Before','Surviving Owners','New Renters','New Owners','Total After'],\n",
    "                           'color':['cornflowerblue','lightgreen','lemonchiffon','lightskyblue','green','deepskyblue','white']})\n",
    "        colorDict = dict(zip(df['who'],df['color']))\n",
    "        fig = px.scatter(df, x='x', y='y', color=\"who\",color_discrete_map=colorDict,size='Agents',size_max=50)\n",
    "        #building to Leaving Owners\n",
    "        fig.add_annotation(x=outOwnX,y=outOwnY,ax=oldBldX,ay=oldBldY,xref='x',yref='y',axref='x',ayref='y',arrowcolor='lightgray',text='',showarrow=True,arrowhead=3,arrowsize=1,arrowwidth=3)\n",
    "        #Building Leaving Renters\n",
    "        fig.add_annotation(x=outRentX,y=outRentY,ax=oldBldX,ay=oldBldY,xref='x',yref='y',axref='x',ayref='y',arrowcolor='lightgray',text='',showarrow=True,arrowhead=3,arrowsize=1,arrowwidth=3)\n",
    "        #Entering Owners\n",
    "        fig.add_annotation(x=bldX,y=bldY,ax=inOwnX,ay=inOwnY,xref='x',yref='y',axref='x',ayref='y',arrowcolor='lightgray',text='',showarrow=True,arrowhead=3,arrowsize=1,arrowwidth=3)\n",
    "        #Entering Renters\n",
    "        fig.add_annotation(x=bldX,y=bldY,ax=inRentX,ay=inRentY,xref='x',yref='y',axref='x',ayref='y',arrowcolor='lightgray',text='',showarrow=True,arrowhead=3,arrowsize=1,arrowwidth=3)\n",
    "        # From Old Building to New Building\n",
    "        fig.add_annotation(x=bldX,y=bldY,ax=oldBldX,ay=oldBldY,xref='x',yref='y',axref='x',ayref='y',arrowcolor='lightgray',text='',showarrow=True,arrowhead=3,arrowsize=1,arrowwidth=3)\n",
    "\n",
    "\n",
    "    else:\n",
    "        bldX =1.3\n",
    "        bldY = 1.3\n",
    "        outOwnX = 1\n",
    "        outOwnY = 1.25\n",
    "        outRentX = 1.1\n",
    "        outRentY = 1.85\n",
    "        inOwnX = 1.25\n",
    "        inOwnY = 2.25\n",
    "        inRentX = 1.1\n",
    "        inRentY = 2.25\n",
    "        df = pd.DataFrame({'x':[outOwnX,outRentX,bldX,bldX,inRentX,inOwnX,bldX],\n",
    "                           'y':[outOwnY,outRentY,bldY,bldY,inRentY,inRentY,bldY],\n",
    "                           'Agents':[Leaving_Owners,Leaving_Renters,Total_Households_before,Staying,New_Renters,New_Owners,Total_Households],\n",
    "                           'who':['Leaving Owners','Leaving Renters','Total Before','Surviving Owners','New Renters','New Owners','Total After'],\n",
    "                           'color':['cornflowerblue','lightgreen','lemonchiffon','lightskyblue','green','deepskyblue','white']})\n",
    "        colorDict = dict(zip(df['who'],df['color']))\n",
    "        fig = px.scatter(df, x='x', y='y', color=\"who\",color_discrete_map=colorDict,size='Agents',size_max=50)\n",
    "        #building to Leaving Owners\n",
    "        fig.add_annotation(x=outOwnX,y=outOwnY,ax=bldX,ay=bldY,xref='x',yref='y',axref='x',ayref='y',arrowcolor='lightgray',text='',showarrow=True,arrowhead=3,arrowsize=1,arrowwidth=3)\n",
    "        #Building Leaving Renters\n",
    "        fig.add_annotation(x=outRentX,y=outRentY,ax=bldX,ay=bldY,xref='x',yref='y',axref='x',ayref='y',arrowcolor='lightgray',text='',showarrow=True,arrowhead=3,arrowsize=1,arrowwidth=3)\n",
    "        #Entering Owners\n",
    "        fig.add_annotation(x=bldX,y=bldY,ax=inOwnX,ay=inOwnY,xref='x',yref='y',axref='x',ayref='y',arrowcolor='lightgray',text='',showarrow=True,arrowhead=3,arrowsize=1,arrowwidth=3)\n",
    "        #Entering Renters\n",
    "        fig.add_annotation(x=bldX,y=bldY,ax=inRentX,ay=inRentY,xref='x',yref='y',axref='x',ayref='y',arrowcolor='lightgray',text='',showarrow=True,arrowhead=3,arrowsize=1,arrowwidth=3)\n",
    "\n",
    "\n",
    "    #old house to displaced owner\n",
    "\n",
    "\n",
    "    fig.add_trace(go.Scatter(x=df['x'],y=df['y'],text=df['Agents'],mode=\"text\"))\n",
    "\n",
    "    fig.update_layout(\n",
    "        margin=dict(l=0, r=0, b=0),\n",
    "        height=400, width=600,\n",
    "        plot_bgcolor=\"white\",\n",
    "        legend=dict(yanchor=\"top\", y=0.95, xanchor=\"left\", x=0.95)\n",
    "    )\n",
    "    fig.update_traces(marker=dict(line=dict(width=2,color='DarkSlateGrey')))\n",
    "    fig.update_yaxes(visible=False, showticklabels=False)\n",
    "    fig.update_xaxes(visible=False, showticklabels=False)\n",
    "    with out6:\n",
    "        out6.clear_output()\n",
    "        fig.show()"
   ]
  },
  {
   "cell_type": "code",
   "execution_count": 30,
   "metadata": {},
   "outputs": [
    {
     "data": {
      "application/vnd.jupyter.widget-view+json": {
       "model_id": "03ae2237122746948b618fb69cf3b60d",
       "version_major": 2,
       "version_minor": 0
      },
      "text/plain": [
       "Output()"
      ]
     },
     "metadata": {},
     "output_type": "display_data"
    }
   ],
   "source": [
    "out7 = widgets.Output()\n",
    "out7"
   ]
  },
  {
   "cell_type": "code",
   "execution_count": 31,
   "metadata": {},
   "outputs": [],
   "source": [
    "def figure_7(end):\n",
    "    projectMovement = movementsByProject[movementsByProject['Tic']['after']==end].copy()\n",
    "    projType = projectMovement['Type of Project']['after'].values[0]\n",
    "    bldBefore = projectMovement['bldCode']['before'].values[0]\n",
    "    bldAfter = projectMovement['bldCode']['after'].values[0]\n",
    "    floorsBefore = projectMovement['Avg Floors']['before'].values[0]\n",
    "    floorsAfter = projectMovement['Avg Floors']['after'].values[0]\n",
    "\n",
    "    bldNumList = [i for i in range(1,int(bldBefore)+1)] + [i for i in range(1,int(bldAfter)+1)]\n",
    "    if projType>1:\n",
    "        floorList = [4 for i in range(1,int(bldBefore)+1)] + [floorsAfter for i in range(1,int(bldAfter)+1)]\n",
    "    else:\n",
    "        floorList = [4 for i in range(1,int(bldBefore)+1)] + [floorsAfter-4 for i in range(1,int(bldAfter)+1)]\n",
    "    beforeAfterList = ['Before' for i in range(1,int(bldBefore)+1)]+ ['after' for i in range(1,int(bldAfter)+1)]\n",
    "    df = pd.DataFrame({'bldCount':bldNumList,'beforeAfter':beforeAfterList,'floors':floorList})\n",
    "    if projType>1:\n",
    "        fig = px.bar(df, x='bldCount', y='floors',color='beforeAfter',facet_col='beforeAfter')\n",
    "    else:\n",
    "        fig = px.bar(df, x='bldCount', y='floors',color='beforeAfter')\n",
    "    fig.update_layout(\n",
    "        margin=dict(l=0, r=0, b=0),\n",
    "        height=300, width=600,\n",
    "        plot_bgcolor=\"oldlace\",\n",
    "        legend=dict(yanchor=\"top\", y=0.95, xanchor=\"left\", x=0.05)\n",
    "    )\n",
    "    fig.update_traces(marker=dict(line=dict(width=2,color='DarkSlateGrey')))\n",
    "\n",
    "    with out7:\n",
    "        out7.clear_output()\n",
    "        fig.show()"
   ]
  },
  {
   "cell_type": "code",
   "execution_count": 32,
   "metadata": {},
   "outputs": [
    {
     "data": {
      "application/vnd.jupyter.widget-view+json": {
       "model_id": "adb548494ea0415ab53e2552855f27d3",
       "version_major": 2,
       "version_minor": 0
      },
      "text/plain": [
       "Output()"
      ]
     },
     "metadata": {},
     "output_type": "display_data"
    }
   ],
   "source": [
    "out8 = widgets.Output()\n",
    "out8"
   ]
  },
  {
   "cell_type": "code",
   "execution_count": 33,
   "metadata": {},
   "outputs": [],
   "source": [
    "    htmlText = '<iframe src=\"https://technion-gis.maps.arcgis.com/apps/instant/3dviewer/index.html?appid=73d48240324e45eea139ea9e0c2fe6e1\" width=\"800\" height=\"450\" frameborder=\"0\" style=\"border:0\" allowfullscreen>iFrames are not supported on this page.</iframe>'\n",
    "    webAppHTML = HTML(value=htmlText)\n",
    "    with out8:\n",
    "        out8.clear_output()\n",
    "        display(webAppHTML)"
   ]
  },
  {
   "cell_type": "code",
   "execution_count": 34,
   "metadata": {},
   "outputs": [],
   "source": [
    "def webmapSetup():\n",
    "    webmap = gis.content.get('8a44060b70d243179d6dbd38513cfd70')\n",
    "    wm = WebMap(webmap)\n",
    "    map1 = gis.map()\n",
    "    map1.zoom=16\n",
    "    map1.center = [32.028, 34.743]\n",
    "    map1.basemap='dark-gray-vector'\n",
    "    for item in wm.layers[2:]:\n",
    "        add_item = gis.content.get(item['itemId'])\n",
    "        map1.add_layer(add_item)\n",
    "    add_item = gis.content.get('49d0351f66e341d388eb086c8e575720')\n",
    "    map1.add_layer(add_item)\n",
    "    return map1"
   ]
  },
  {
   "cell_type": "code",
   "execution_count": 35,
   "metadata": {},
   "outputs": [
    {
     "ename": "NameError",
     "evalue": "name 'gis' is not defined",
     "output_type": "error",
     "traceback": [
      "\u001b[0;31m---------------------------------------------------------------------------\u001b[0m",
      "\u001b[0;31mNameError\u001b[0m                                 Traceback (most recent call last)",
      "\u001b[0;32m<ipython-input-35-91c0016e429d>\u001b[0m in \u001b[0;36m<module>\u001b[0;34m\u001b[0m\n\u001b[0;32m----> 1\u001b[0;31m \u001b[0mmap1\u001b[0m \u001b[0;34m=\u001b[0m \u001b[0mwebmapSetup\u001b[0m\u001b[0;34m(\u001b[0m\u001b[0;34m)\u001b[0m\u001b[0;34m\u001b[0m\u001b[0;34m\u001b[0m\u001b[0m\n\u001b[0m",
      "\u001b[0;32m<ipython-input-34-8ec69288e740>\u001b[0m in \u001b[0;36mwebmapSetup\u001b[0;34m()\u001b[0m\n\u001b[1;32m      1\u001b[0m \u001b[0;32mdef\u001b[0m \u001b[0mwebmapSetup\u001b[0m\u001b[0;34m(\u001b[0m\u001b[0;34m)\u001b[0m\u001b[0;34m:\u001b[0m\u001b[0;34m\u001b[0m\u001b[0;34m\u001b[0m\u001b[0m\n\u001b[0;32m----> 2\u001b[0;31m     \u001b[0mwebmap\u001b[0m \u001b[0;34m=\u001b[0m \u001b[0mgis\u001b[0m\u001b[0;34m.\u001b[0m\u001b[0mcontent\u001b[0m\u001b[0;34m.\u001b[0m\u001b[0mget\u001b[0m\u001b[0;34m(\u001b[0m\u001b[0;34m'8a44060b70d243179d6dbd38513cfd70'\u001b[0m\u001b[0;34m)\u001b[0m\u001b[0;34m\u001b[0m\u001b[0;34m\u001b[0m\u001b[0m\n\u001b[0m\u001b[1;32m      3\u001b[0m     \u001b[0mwm\u001b[0m \u001b[0;34m=\u001b[0m \u001b[0mWebMap\u001b[0m\u001b[0;34m(\u001b[0m\u001b[0mwebmap\u001b[0m\u001b[0;34m)\u001b[0m\u001b[0;34m\u001b[0m\u001b[0;34m\u001b[0m\u001b[0m\n\u001b[1;32m      4\u001b[0m     \u001b[0mmap1\u001b[0m \u001b[0;34m=\u001b[0m \u001b[0mgis\u001b[0m\u001b[0;34m.\u001b[0m\u001b[0mmap\u001b[0m\u001b[0;34m(\u001b[0m\u001b[0;34m)\u001b[0m\u001b[0;34m\u001b[0m\u001b[0;34m\u001b[0m\u001b[0m\n\u001b[1;32m      5\u001b[0m     \u001b[0mmap1\u001b[0m\u001b[0;34m.\u001b[0m\u001b[0mzoom\u001b[0m\u001b[0;34m=\u001b[0m\u001b[0;36m16\u001b[0m\u001b[0;34m\u001b[0m\u001b[0;34m\u001b[0m\u001b[0m\n",
      "\u001b[0;31mNameError\u001b[0m: name 'gis' is not defined"
     ]
    }
   ],
   "source": [
    "map1 = webmapSetup()"
   ]
  },
  {
   "cell_type": "code",
   "execution_count": null,
   "metadata": {},
   "outputs": [],
   "source": [
    "out9 = widgets.Output()\n",
    "out9\n"
   ]
  },
  {
   "cell_type": "code",
   "execution_count": 37,
   "metadata": {},
   "outputs": [],
   "source": [
    "def figure_9(projRef):\n",
    "    geom = bldgsInwgs84.query(f'project_nu==\"{projRef}\"').copy()\n",
    "    geom['x'] = geom['geometry'].apply(lambda x: x.centroid.x)\n",
    "    geom['y'] = geom['geometry'].apply(lambda x: x.centroid.y)\n",
    "    x = geom['x'].mean()\n",
    "    y = geom['y'].mean()\n",
    "    map1.center = [y,x]\n",
    "    map1.zoom = 17\n",
    "    with out9:\n",
    "        out9.clear_output()\n",
    "        display(map1)\n"
   ]
  },
  {
   "cell_type": "code",
   "execution_count": null,
   "metadata": {},
   "outputs": [],
   "source": []
  }
 ],
 "metadata": {
  "kernelspec": {
   "display_name": "geo_env",
   "language": "python",
   "name": "geo_env"
  },
  "language_info": {
   "codemirror_mode": {
    "name": "ipython",
    "version": 3
   },
   "file_extension": ".py",
   "mimetype": "text/x-python",
   "name": "python",
   "nbconvert_exporter": "python",
   "pygments_lexer": "ipython3",
   "version": "3.7.9"
  },
  "widgets": {
   "application/vnd.jupyter.widget-state+json": {
    "state": {
     "03ae2237122746948b618fb69cf3b60d": {
      "model_module": "@jupyter-widgets/output",
      "model_module_version": "1.0.0",
      "model_name": "OutputModel",
      "state": {
       "layout": "IPY_MODEL_bf168991a0774522b5170b42bb0ec0ad"
      }
     },
     "15c165595bd74c9e97e20b1a1ba6f95d": {
      "model_module": "@jupyter-widgets/base",
      "model_module_version": "1.2.0",
      "model_name": "LayoutModel",
      "state": {}
     },
     "200ed453ef3c4560908ae6014dba7a0a": {
      "model_module": "@jupyter-widgets/output",
      "model_module_version": "1.0.0",
      "model_name": "OutputModel",
      "state": {
       "layout": "IPY_MODEL_483b38a49b5041b6add426c403052efd"
      }
     },
     "2bdb88efbd6846e6b804a30a7839c55a": {
      "model_module": "@jupyter-widgets/base",
      "model_module_version": "1.2.0",
      "model_name": "LayoutModel",
      "state": {}
     },
     "2efd5b254ad74494bf262792aeb5a7d0": {
      "model_module": "@jupyter-widgets/controls",
      "model_module_version": "1.5.0",
      "model_name": "DescriptionStyleModel",
      "state": {
       "description_width": ""
      }
     },
     "32a5da5db921414c939b22776b9de895": {
      "model_module": "@jupyter-widgets/output",
      "model_module_version": "1.0.0",
      "model_name": "OutputModel",
      "state": {
       "layout": "IPY_MODEL_a4d91fcf82a3416db9262effb74d8d50"
      }
     },
     "480f7751bf2b4a2cbd3dfbcfb9205cf0": {
      "model_module": "@jupyter-widgets/base",
      "model_module_version": "1.2.0",
      "model_name": "LayoutModel",
      "state": {}
     },
     "483b38a49b5041b6add426c403052efd": {
      "model_module": "@jupyter-widgets/base",
      "model_module_version": "1.2.0",
      "model_name": "LayoutModel",
      "state": {}
     },
     "494f1b53336c4f1c8987fb7cda11e8de": {
      "model_module": "@jupyter-widgets/base",
      "model_module_version": "1.2.0",
      "model_name": "LayoutModel",
      "state": {}
     },
     "593c1803208f469095d377ad52aa0362": {
      "model_module": "@jupyter-widgets/output",
      "model_module_version": "1.0.0",
      "model_name": "OutputModel",
      "state": {
       "layout": "IPY_MODEL_15c165595bd74c9e97e20b1a1ba6f95d"
      }
     },
     "7944525aa7a14160944afa34b0566713": {
      "model_module": "@jupyter-widgets/controls",
      "model_module_version": "1.5.0",
      "model_name": "ButtonStyleModel",
      "state": {}
     },
     "795ca22411404376bc98393591b48932": {
      "model_module": "@jupyter-widgets/base",
      "model_module_version": "1.2.0",
      "model_name": "LayoutModel",
      "state": {}
     },
     "7a19665520944cdbbca3aaf46ce3c409": {
      "model_module": "@jupyter-widgets/controls",
      "model_module_version": "1.5.0",
      "model_name": "VBoxModel",
      "state": {
       "_dom_classes": [
        "widget-interact"
       ],
       "children": [
        "IPY_MODEL_cc06aa2c4d2f4c1c9ebd4c5d0d06d35d",
        "IPY_MODEL_b845880573a343989e9c208df474b47c",
        "IPY_MODEL_eba37454e14844d0b28e18f97dfffa71"
       ],
       "layout": "IPY_MODEL_9d6e732ee00a4fefbc268d290517b64a"
      }
     },
     "7d65825936b044bb8321410649a39a8f": {
      "model_module": "@jupyter-widgets/base",
      "model_module_version": "1.2.0",
      "model_name": "LayoutModel",
      "state": {}
     },
     "8084fe52dca8432cbbd13e3e9dd6847c": {
      "model_module": "@jupyter-widgets/output",
      "model_module_version": "1.0.0",
      "model_name": "OutputModel",
      "state": {
       "layout": "IPY_MODEL_7d65825936b044bb8321410649a39a8f"
      }
     },
     "8aed5ff5979b4ce483e52ba32eed46a5": {
      "model_module": "@jupyter-widgets/controls",
      "model_module_version": "1.5.0",
      "model_name": "HTMLModel",
      "state": {
       "layout": "IPY_MODEL_2bdb88efbd6846e6b804a30a7839c55a",
       "style": "IPY_MODEL_2efd5b254ad74494bf262792aeb5a7d0",
       "value": "<iframe src=\"https://technion-gis.maps.arcgis.com/apps/instant/3dviewer/index.html?appid=73d48240324e45eea139ea9e0c2fe6e1\" width=\"800\" height=\"450\" frameborder=\"0\" style=\"border:0\" allowfullscreen>iFrames are not supported on this page.</iframe>"
      }
     },
     "97c024d771b046e09e6dbd9c8a5576db": {
      "model_module": "@jupyter-widgets/controls",
      "model_module_version": "1.5.0",
      "model_name": "SliderStyleModel",
      "state": {
       "description_width": "initial"
      }
     },
     "9d6e732ee00a4fefbc268d290517b64a": {
      "model_module": "@jupyter-widgets/base",
      "model_module_version": "1.2.0",
      "model_name": "LayoutModel",
      "state": {}
     },
     "a4d91fcf82a3416db9262effb74d8d50": {
      "model_module": "@jupyter-widgets/base",
      "model_module_version": "1.2.0",
      "model_name": "LayoutModel",
      "state": {}
     },
     "adb548494ea0415ab53e2552855f27d3": {
      "model_module": "@jupyter-widgets/output",
      "model_module_version": "1.0.0",
      "model_name": "OutputModel",
      "state": {
       "layout": "IPY_MODEL_494f1b53336c4f1c8987fb7cda11e8de",
       "outputs": [
        {
         "data": {
          "application/vnd.jupyter.widget-view+json": {
           "model_id": "8aed5ff5979b4ce483e52ba32eed46a5",
           "version_major": 2,
           "version_minor": 0
          },
          "text/plain": "HTML(value='<iframe src=\"https://technion-gis.maps.arcgis.com/apps/instant/3dviewer/index.html?appid=73d482403…"
         },
         "metadata": {},
         "output_type": "display_data"
        }
       ]
      }
     },
     "b845880573a343989e9c208df474b47c": {
      "model_module": "@jupyter-widgets/controls",
      "model_module_version": "1.5.0",
      "model_name": "ButtonModel",
      "state": {
       "description": "Submit",
       "layout": "IPY_MODEL_f8a2708ec2ce47dc9e20a11c7df4927b",
       "style": "IPY_MODEL_7944525aa7a14160944afa34b0566713"
      }
     },
     "bf168991a0774522b5170b42bb0ec0ad": {
      "model_module": "@jupyter-widgets/base",
      "model_module_version": "1.2.0",
      "model_name": "LayoutModel",
      "state": {}
     },
     "cc06aa2c4d2f4c1c9ebd4c5d0d06d35d": {
      "model_module": "@jupyter-widgets/controls",
      "model_module_version": "1.5.0",
      "model_name": "IntRangeSliderModel",
      "state": {
       "_model_name": "IntRangeSliderModel",
       "_view_name": "IntRangeSliderView",
       "continuous_update": false,
       "description": "Simulation Tics:",
       "layout": "IPY_MODEL_f76000bb6f9a4c6fb3c30c9aa2ff8f05",
       "max": 32,
       "style": "IPY_MODEL_97c024d771b046e09e6dbd9c8a5576db",
       "value": [
        0,
        1
       ]
      }
     },
     "d2d953b8be574fc586a44cd692c78d5d": {
      "model_module": "@jupyter-widgets/output",
      "model_module_version": "1.0.0",
      "model_name": "OutputModel",
      "state": {
       "layout": "IPY_MODEL_480f7751bf2b4a2cbd3dfbcfb9205cf0"
      }
     },
     "d6cd20b5238941fcbb5b4206d54a50b7": {
      "model_module": "@jupyter-widgets/base",
      "model_module_version": "1.2.0",
      "model_name": "LayoutModel",
      "state": {}
     },
     "eba37454e14844d0b28e18f97dfffa71": {
      "model_module": "@jupyter-widgets/output",
      "model_module_version": "1.0.0",
      "model_name": "OutputModel",
      "state": {
       "layout": "IPY_MODEL_795ca22411404376bc98393591b48932"
      }
     },
     "edc2173e505b4378b0bfa28b6aa0e1fa": {
      "model_module": "@jupyter-widgets/output",
      "model_module_version": "1.0.0",
      "model_name": "OutputModel",
      "state": {
       "layout": "IPY_MODEL_d6cd20b5238941fcbb5b4206d54a50b7"
      }
     },
     "f76000bb6f9a4c6fb3c30c9aa2ff8f05": {
      "model_module": "@jupyter-widgets/base",
      "model_module_version": "1.2.0",
      "model_name": "LayoutModel",
      "state": {
       "width": "100%"
      }
     },
     "f8a2708ec2ce47dc9e20a11c7df4927b": {
      "model_module": "@jupyter-widgets/base",
      "model_module_version": "1.2.0",
      "model_name": "LayoutModel",
      "state": {}
     }
    },
    "version_major": 2,
    "version_minor": 0
   }
  }
 },
 "nbformat": 4,
 "nbformat_minor": 4
}
