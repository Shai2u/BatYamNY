{
 "cells": [
  {
   "cell_type": "code",
   "execution_count": 1,
   "metadata": {},
   "outputs": [],
   "source": [
    "import geopandas as gpd\n",
    "import pandas as pd\n",
    "import numpy as np\n",
    "pd.options.display.max_columns=100\n",
    "import plotly.graph_objects as go\n",
    "import plotly.express as px\n",
    "import ipywidgets as widgets\n",
    "from ipywidgets import Layout,interact,interact_manual,HTML\n",
    "import pyproj\n",
    "pyproj.datadir.set_data_dir('/Users/shai/anaconda3/envs/geo_env/share/proj')\n",
    "from arcgis.gis import GIS\n",
    "from arcgis.mapping import WebScene\n",
    "from arcgis.mapping import WebMap\n",
    "from arcgis.features import FeatureLayer\n"
   ]
  },
  {
   "cell_type": "code",
   "execution_count": 54,
   "metadata": {},
   "outputs": [],
   "source": [
    "incomeDict = {'Low':9000,'Medium':19500,'High':1000000}\n",
    "Age = {'Under 65':65,\n",
    "      'Above 65':65}\n",
    "gridBG = '#f2f2f2'\n",
    "heightD=375\n",
    "projectDict = {1:'Addition',\n",
    "              2:'Reconstruction',\n",
    "              3:'Raze and Rebuild'}"
   ]
  },
  {
   "cell_type": "code",
   "execution_count": 3,
   "metadata": {},
   "outputs": [
    {
     "name": "stdin",
     "output_type": "stream",
     "text": [
      "Enter password:  ·········\n"
     ]
    }
   ],
   "source": [
    "gis = GIS(\"https://technion-gis.maps.arcgis.com\", \"shai@technion\")"
   ]
  },
  {
   "cell_type": "code",
   "execution_count": null,
   "metadata": {},
   "outputs": [],
   "source": []
  },
  {
   "cell_type": "code",
   "execution_count": 61,
   "metadata": {},
   "outputs": [],
   "source": [
    "geoDF = gpd.read_file('simBldgsData09042021.geojson',driver='GeoJSON')\n",
    "bldDictAddress = dict(zip(geoDF['bld_addres'],geoDF['hebrew_adr']))\n",
    "aggResByTic = pd.read_excel('aggregated_results_by_project_april17.xlsx')\n",
    "agentsFile = 'AgentsTimeSeries_Results_april12_1435.xlsx'\n",
    "res_df = pd.read_excel(agentsFile)\n",
    "colorFile ='colors_dict_April_13_2021.xlsx'\n",
    "colorAgeIncomeExcel='age_income_by_color_april_14.xlsx'\n",
    "colorExcel = pd.read_excel(colorFile)\n",
    "movementsByProject = pd.read_excel('AggByProjectBeforeAfter_april_18.xlsx', header=[0,1])\n",
    "projNumberTicDict = dict(zip(aggResByTic['tic'],aggResByTic['ProjNumber']))\n",
    "projBldNumberDict = dict(zip(geoDF[['project_nu','bld_addres']].groupby('project_nu').agg({'bld_addres':lambda x: x.value_counts().index[0]}).reset_index()['project_nu'],\n",
    "         geoDF[['project_nu','bld_addres']].groupby('project_nu').agg({'bld_addres':lambda x: x.value_counts().index[0]}).reset_index()['bld_addres']))\n",
    "#TICS\n",
    "ticsIndex = aggResByTic['tic']"
   ]
  },
  {
   "cell_type": "code",
   "execution_count": 64,
   "metadata": {},
   "outputs": [],
   "source": [
    "#interFeature = geoDF.to_crs(\"+proj=tmerc +lat_0=31.7343936111111 +lon_0=35.2045169444445 +k=1.0000067 +x_0=219529.584 +y_0=626907.39 +ellps=GRS80 +towgs84=-23.772,-17.490,-17.859,-0.31320,-1.85274,1.67299,5.4262 +units=m +no_defs\")\n",
    "crs_4326 =  {'init': 'epsg:4326'}\n",
    "bldgsInwgs84 = geoDF.to_crs(epsg=4326)"
   ]
  },
  {
   "cell_type": "code",
   "execution_count": 65,
   "metadata": {},
   "outputs": [
    {
     "data": {
      "text/html": [
       "<div>\n",
       "<style scoped>\n",
       "    .dataframe tbody tr th:only-of-type {\n",
       "        vertical-align: middle;\n",
       "    }\n",
       "\n",
       "    .dataframe tbody tr th {\n",
       "        vertical-align: top;\n",
       "    }\n",
       "\n",
       "    .dataframe thead th {\n",
       "        text-align: right;\n",
       "    }\n",
       "</style>\n",
       "<table border=\"1\" class=\"dataframe\">\n",
       "  <thead>\n",
       "    <tr style=\"text-align: right;\">\n",
       "      <th></th>\n",
       "      <th>fid</th>\n",
       "      <th>Area</th>\n",
       "      <th>floors</th>\n",
       "      <th>height</th>\n",
       "      <th>bld_num</th>\n",
       "      <th>bld_addres</th>\n",
       "      <th>hebrew_adr</th>\n",
       "      <th>project_nu</th>\n",
       "      <th>units</th>\n",
       "      <th>project_na</th>\n",
       "      <th>project_ty</th>\n",
       "      <th>status</th>\n",
       "      <th>East</th>\n",
       "      <th>North</th>\n",
       "      <th>East_wgs84</th>\n",
       "      <th>North_wgs8</th>\n",
       "      <th>active</th>\n",
       "      <th>start_date</th>\n",
       "      <th>end_date</th>\n",
       "      <th>geometry</th>\n",
       "    </tr>\n",
       "  </thead>\n",
       "  <tbody>\n",
       "    <tr>\n",
       "      <th>0</th>\n",
       "      <td>1</td>\n",
       "      <td>456.624954</td>\n",
       "      <td>3.0</td>\n",
       "      <td>13.0</td>\n",
       "      <td>94.0</td>\n",
       "      <td>215_22</td>\n",
       "      <td>סוקולוב 22, בת ים</td>\n",
       "      <td>20140882</td>\n",
       "      <td>18.0</td>\n",
       "      <td>None</td>\n",
       "      <td>1.0</td>\n",
       "      <td>Building before</td>\n",
       "      <td>175757.206152</td>\n",
       "      <td>658982.882610</td>\n",
       "      <td>34.741942</td>\n",
       "      <td>32.023251</td>\n",
       "      <td>1</td>\n",
       "      <td>2000-01-01</td>\n",
       "      <td>2014-07-28</td>\n",
       "      <td>POLYGON ((175773.498 658979.093, 175773.398 65...</td>\n",
       "    </tr>\n",
       "    <tr>\n",
       "      <th>1</th>\n",
       "      <td>2</td>\n",
       "      <td>265.821715</td>\n",
       "      <td>3.0</td>\n",
       "      <td>13.0</td>\n",
       "      <td>17.0</td>\n",
       "      <td>216_4</td>\n",
       "      <td>מסריק 4, בת ים</td>\n",
       "      <td>20141086</td>\n",
       "      <td>12.0</td>\n",
       "      <td>None</td>\n",
       "      <td>1.0</td>\n",
       "      <td>Building before</td>\n",
       "      <td>175680.060156</td>\n",
       "      <td>659070.929640</td>\n",
       "      <td>34.741121</td>\n",
       "      <td>32.024042</td>\n",
       "      <td>1</td>\n",
       "      <td>2000-01-01</td>\n",
       "      <td>2014-10-08</td>\n",
       "      <td>POLYGON ((175693.328 659073.153, 175690.618 65...</td>\n",
       "    </tr>\n",
       "    <tr>\n",
       "      <th>2</th>\n",
       "      <td>3</td>\n",
       "      <td>158.986180</td>\n",
       "      <td>3.0</td>\n",
       "      <td>13.0</td>\n",
       "      <td>214.0</td>\n",
       "      <td>209_6</td>\n",
       "      <td>ארלוזורוב 6, בת ים</td>\n",
       "      <td>20140231</td>\n",
       "      <td>6.0</td>\n",
       "      <td>None</td>\n",
       "      <td>2.0</td>\n",
       "      <td>Building before</td>\n",
       "      <td>175950.936300</td>\n",
       "      <td>659680.635944</td>\n",
       "      <td>34.743961</td>\n",
       "      <td>32.029550</td>\n",
       "      <td>1</td>\n",
       "      <td>2000-01-01</td>\n",
       "      <td>2014-01-17</td>\n",
       "      <td>POLYGON ((175942.248 659676.573, 175946.218 65...</td>\n",
       "    </tr>\n",
       "    <tr>\n",
       "      <th>3</th>\n",
       "      <td>4</td>\n",
       "      <td>743.350688</td>\n",
       "      <td>4.0</td>\n",
       "      <td>16.0</td>\n",
       "      <td>213.0</td>\n",
       "      <td>209_8_209_10_209_12</td>\n",
       "      <td>ארלוזורוב 8-12, בת ים</td>\n",
       "      <td>20120894</td>\n",
       "      <td>48.0</td>\n",
       "      <td>None</td>\n",
       "      <td>1.0</td>\n",
       "      <td>Building before</td>\n",
       "      <td>175941.019136</td>\n",
       "      <td>659640.557221</td>\n",
       "      <td>34.743858</td>\n",
       "      <td>32.029188</td>\n",
       "      <td>1</td>\n",
       "      <td>2000-01-01</td>\n",
       "      <td>2013-01-20</td>\n",
       "      <td>POLYGON ((175946.698 659615.573, 175946.658 65...</td>\n",
       "    </tr>\n",
       "    <tr>\n",
       "      <th>4</th>\n",
       "      <td>5</td>\n",
       "      <td>391.764026</td>\n",
       "      <td>3.0</td>\n",
       "      <td>13.0</td>\n",
       "      <td>212.0</td>\n",
       "      <td>208_12</td>\n",
       "      <td>הלפר 12, בת ים</td>\n",
       "      <td>20181295</td>\n",
       "      <td>24.0</td>\n",
       "      <td>None</td>\n",
       "      <td>1.0</td>\n",
       "      <td>Building before</td>\n",
       "      <td>175911.943505</td>\n",
       "      <td>659490.282833</td>\n",
       "      <td>34.743557</td>\n",
       "      <td>32.027832</td>\n",
       "      <td>1</td>\n",
       "      <td>2000-01-01</td>\n",
       "      <td>2018-10-01</td>\n",
       "      <td>POLYGON ((175922.908 659499.193, 175923.918 65...</td>\n",
       "    </tr>\n",
       "    <tr>\n",
       "      <th>...</th>\n",
       "      <td>...</td>\n",
       "      <td>...</td>\n",
       "      <td>...</td>\n",
       "      <td>...</td>\n",
       "      <td>...</td>\n",
       "      <td>...</td>\n",
       "      <td>...</td>\n",
       "      <td>...</td>\n",
       "      <td>...</td>\n",
       "      <td>...</td>\n",
       "      <td>...</td>\n",
       "      <td>...</td>\n",
       "      <td>...</td>\n",
       "      <td>...</td>\n",
       "      <td>...</td>\n",
       "      <td>...</td>\n",
       "      <td>...</td>\n",
       "      <td>...</td>\n",
       "      <td>...</td>\n",
       "      <td>...</td>\n",
       "    </tr>\n",
       "    <tr>\n",
       "      <th>117</th>\n",
       "      <td>251</td>\n",
       "      <td>0.000000</td>\n",
       "      <td>30.0</td>\n",
       "      <td>142.0</td>\n",
       "      <td>0.0</td>\n",
       "      <td>215_14_102_3_215_12_rr</td>\n",
       "      <td>ירושלים 3, סוקולוב 12, בת ים</td>\n",
       "      <td>502-0201483</td>\n",
       "      <td>220.0</td>\n",
       "      <td>None</td>\n",
       "      <td>3.0</td>\n",
       "      <td>Building after</td>\n",
       "      <td>175740.592708</td>\n",
       "      <td>659163.285898</td>\n",
       "      <td>34.741758</td>\n",
       "      <td>32.024877</td>\n",
       "      <td>1</td>\n",
       "      <td>2022-08-22</td>\n",
       "      <td>2100-01-01</td>\n",
       "      <td>POLYGON ((175760.106 659148.592, 175722.694 65...</td>\n",
       "    </tr>\n",
       "    <tr>\n",
       "      <th>118</th>\n",
       "      <td>252</td>\n",
       "      <td>0.000000</td>\n",
       "      <td>21.0</td>\n",
       "      <td>104.0</td>\n",
       "      <td>0.0</td>\n",
       "      <td>216_6_rr</td>\n",
       "      <td>בלפור 6, בת ים</td>\n",
       "      <td>502-0316588</td>\n",
       "      <td>84.0</td>\n",
       "      <td>None</td>\n",
       "      <td>3.0</td>\n",
       "      <td>Building after</td>\n",
       "      <td>175925.258295</td>\n",
       "      <td>659934.217361</td>\n",
       "      <td>34.743678</td>\n",
       "      <td>32.031836</td>\n",
       "      <td>1</td>\n",
       "      <td>2024-06-01</td>\n",
       "      <td>2100-01-01</td>\n",
       "      <td>POLYGON ((175932.896 659948.834, 175939.278 65...</td>\n",
       "    </tr>\n",
       "    <tr>\n",
       "      <th>119</th>\n",
       "      <td>253</td>\n",
       "      <td>0.000000</td>\n",
       "      <td>21.0</td>\n",
       "      <td>104.0</td>\n",
       "      <td>0.0</td>\n",
       "      <td>140_1_rr</td>\n",
       "      <td>אוסקר שינדלר 1, בת ים</td>\n",
       "      <td>502-0316588</td>\n",
       "      <td>84.0</td>\n",
       "      <td>None</td>\n",
       "      <td>3.0</td>\n",
       "      <td>Building after</td>\n",
       "      <td>175895.068907</td>\n",
       "      <td>659926.154939</td>\n",
       "      <td>34.743359</td>\n",
       "      <td>32.031762</td>\n",
       "      <td>1</td>\n",
       "      <td>2024-06-01</td>\n",
       "      <td>2100-01-01</td>\n",
       "      <td>POLYGON ((175901.847 659939.347, 175907.711 65...</td>\n",
       "    </tr>\n",
       "    <tr>\n",
       "      <th>120</th>\n",
       "      <td>254</td>\n",
       "      <td>0.000000</td>\n",
       "      <td>4.0</td>\n",
       "      <td>20.0</td>\n",
       "      <td>0.0</td>\n",
       "      <td>300_4_rr</td>\n",
       "      <td>יורדי הים 4, בת ים</td>\n",
       "      <td>502-0316588</td>\n",
       "      <td>0.0</td>\n",
       "      <td>None</td>\n",
       "      <td>3.0</td>\n",
       "      <td>Building after</td>\n",
       "      <td>175881.909237</td>\n",
       "      <td>659959.639984</td>\n",
       "      <td>34.743218</td>\n",
       "      <td>32.032064</td>\n",
       "      <td>1</td>\n",
       "      <td>2024-06-01</td>\n",
       "      <td>2100-01-01</td>\n",
       "      <td>POLYGON ((175868.512 659957.070, 175889.315 65...</td>\n",
       "    </tr>\n",
       "    <tr>\n",
       "      <th>121</th>\n",
       "      <td>255</td>\n",
       "      <td>0.000000</td>\n",
       "      <td>32.0</td>\n",
       "      <td>111.0</td>\n",
       "      <td>380.0</td>\n",
       "      <td>201_75_rr</td>\n",
       "      <td>שדרות העצמאות 75, בת ים</td>\n",
       "      <td>502-0368860</td>\n",
       "      <td>130.0</td>\n",
       "      <td>בי/1/466/מק</td>\n",
       "      <td>3.0</td>\n",
       "      <td>Building after</td>\n",
       "      <td>176414.902811</td>\n",
       "      <td>659597.208947</td>\n",
       "      <td>34.748876</td>\n",
       "      <td>32.028816</td>\n",
       "      <td>1</td>\n",
       "      <td>2027-05-07</td>\n",
       "      <td>2100-01-01</td>\n",
       "      <td>POLYGON ((176427.353 659574.122, 176388.701 65...</td>\n",
       "    </tr>\n",
       "  </tbody>\n",
       "</table>\n",
       "<p>122 rows × 20 columns</p>\n",
       "</div>"
      ],
      "text/plain": [
       "     fid        Area  floors  height  bld_num              bld_addres  \\\n",
       "0      1  456.624954     3.0    13.0     94.0                  215_22   \n",
       "1      2  265.821715     3.0    13.0     17.0                   216_4   \n",
       "2      3  158.986180     3.0    13.0    214.0                   209_6   \n",
       "3      4  743.350688     4.0    16.0    213.0     209_8_209_10_209_12   \n",
       "4      5  391.764026     3.0    13.0    212.0                  208_12   \n",
       "..   ...         ...     ...     ...      ...                     ...   \n",
       "117  251    0.000000    30.0   142.0      0.0  215_14_102_3_215_12_rr   \n",
       "118  252    0.000000    21.0   104.0      0.0                216_6_rr   \n",
       "119  253    0.000000    21.0   104.0      0.0                140_1_rr   \n",
       "120  254    0.000000     4.0    20.0      0.0                300_4_rr   \n",
       "121  255    0.000000    32.0   111.0    380.0               201_75_rr   \n",
       "\n",
       "                       hebrew_adr   project_nu  units   project_na  \\\n",
       "0               סוקולוב 22, בת ים     20140882   18.0         None   \n",
       "1                  מסריק 4, בת ים     20141086   12.0         None   \n",
       "2              ארלוזורוב 6, בת ים     20140231    6.0         None   \n",
       "3           ארלוזורוב 8-12, בת ים     20120894   48.0         None   \n",
       "4                  הלפר 12, בת ים     20181295   24.0         None   \n",
       "..                            ...          ...    ...          ...   \n",
       "117  ירושלים 3, סוקולוב 12, בת ים  502-0201483  220.0         None   \n",
       "118                בלפור 6, בת ים  502-0316588   84.0         None   \n",
       "119         אוסקר שינדלר 1, בת ים  502-0316588   84.0         None   \n",
       "120            יורדי הים 4, בת ים  502-0316588    0.0         None   \n",
       "121       שדרות העצמאות 75, בת ים  502-0368860  130.0  בי/1/466/מק   \n",
       "\n",
       "     project_ty           status           East          North  East_wgs84  \\\n",
       "0           1.0  Building before  175757.206152  658982.882610   34.741942   \n",
       "1           1.0  Building before  175680.060156  659070.929640   34.741121   \n",
       "2           2.0  Building before  175950.936300  659680.635944   34.743961   \n",
       "3           1.0  Building before  175941.019136  659640.557221   34.743858   \n",
       "4           1.0  Building before  175911.943505  659490.282833   34.743557   \n",
       "..          ...              ...            ...            ...         ...   \n",
       "117         3.0   Building after  175740.592708  659163.285898   34.741758   \n",
       "118         3.0   Building after  175925.258295  659934.217361   34.743678   \n",
       "119         3.0   Building after  175895.068907  659926.154939   34.743359   \n",
       "120         3.0   Building after  175881.909237  659959.639984   34.743218   \n",
       "121         3.0   Building after  176414.902811  659597.208947   34.748876   \n",
       "\n",
       "     North_wgs8  active  start_date    end_date  \\\n",
       "0     32.023251       1  2000-01-01  2014-07-28   \n",
       "1     32.024042       1  2000-01-01  2014-10-08   \n",
       "2     32.029550       1  2000-01-01  2014-01-17   \n",
       "3     32.029188       1  2000-01-01  2013-01-20   \n",
       "4     32.027832       1  2000-01-01  2018-10-01   \n",
       "..          ...     ...         ...         ...   \n",
       "117   32.024877       1  2022-08-22  2100-01-01   \n",
       "118   32.031836       1  2024-06-01  2100-01-01   \n",
       "119   32.031762       1  2024-06-01  2100-01-01   \n",
       "120   32.032064       1  2024-06-01  2100-01-01   \n",
       "121   32.028816       1  2027-05-07  2100-01-01   \n",
       "\n",
       "                                              geometry  \n",
       "0    POLYGON ((175773.498 658979.093, 175773.398 65...  \n",
       "1    POLYGON ((175693.328 659073.153, 175690.618 65...  \n",
       "2    POLYGON ((175942.248 659676.573, 175946.218 65...  \n",
       "3    POLYGON ((175946.698 659615.573, 175946.658 65...  \n",
       "4    POLYGON ((175922.908 659499.193, 175923.918 65...  \n",
       "..                                                 ...  \n",
       "117  POLYGON ((175760.106 659148.592, 175722.694 65...  \n",
       "118  POLYGON ((175932.896 659948.834, 175939.278 65...  \n",
       "119  POLYGON ((175901.847 659939.347, 175907.711 65...  \n",
       "120  POLYGON ((175868.512 659957.070, 175889.315 65...  \n",
       "121  POLYGON ((176427.353 659574.122, 176388.701 65...  \n",
       "\n",
       "[122 rows x 20 columns]"
      ]
     },
     "execution_count": 65,
     "metadata": {},
     "output_type": "execute_result"
    }
   ],
   "source": [
    "bldgsInwgs84"
   ]
  },
  {
   "cell_type": "code",
   "execution_count": 6,
   "metadata": {},
   "outputs": [],
   "source": [
    "res_df['stay'] = 0\n",
    "res_df['stay'] = res_df['status'].apply(lambda x: 1 if x=='stay' else 0)\n",
    "res_df['leave'] = 0\n",
    "res_df['leave'] = res_df['status'].apply(lambda x: 1 if x=='leave' else 0)\n",
    "res_df['New Comers'] = 0\n",
    "res_df['New Comers'] = res_df['status'].apply(lambda x: 1 if x=='New Comers' else 0)\n",
    "res_df.fillna(0,inplace=True)\n",
    "res_df['Under 65'] = 0\n",
    "res_df['Above 65'] = 0\n",
    "res_df['Low Income'] = 0\n",
    "res_df['Medium Income'] = 0\n",
    "res_df['High Income'] = 0\n",
    "\n",
    "res_df['Under 65'] = res_df['age'].apply(lambda x: 1 if x<65 else 0)\n",
    "res_df['Above 65'] = res_df['age'].apply(lambda x: 1 if x>=65 else 0)\n",
    "res_df['Low Income'] = res_df['income'].apply(lambda x: 1 if (x<incomeDict['Low'])   else 0)\n",
    "res_df['Medium Income'] = res_df['income'].apply(lambda x: 1 if (x>=incomeDict['Low']) & (x<incomeDict['Medium'])  else 0)\n",
    "res_df['High Income'] =  res_df['income'].apply(lambda x: 1 if (x>=incomeDict['Medium'])  else 0)\n",
    "subset_before_after = res_df.copy()\n",
    "subset_before_after = subset_before_after[subset_before_after['status']!='leave']\n",
    "subset_before_after['simulationState'] =subset_before_after['tic'].apply(lambda x: 'Before Renewal' if x==0 else 'After Renewal')"
   ]
  },
  {
   "cell_type": "code",
   "execution_count": 7,
   "metadata": {},
   "outputs": [],
   "source": [
    "ageIncome = subset_before_after[['simulationState','income','age','agentID','tic','ProjNumber']].copy()\n",
    "ageIncome['ageGroup'] = ageIncome['age'].apply(lambda x: 'Under 65' if x<65 else 'Above 65')\n",
    "ageIncome['incomeGroup'] = ageIncome['income'].apply(lambda x: 'High Income' if x>=19500  \n",
    "                                                   else  ('Medium Income' if ((x>=9000)&(x<19500)) else 'Low Income'))\n",
    "\n",
    "ageIncome = ageIncome[['simulationState','incomeGroup','agentID','ageGroup','tic','ProjNumber']].copy()"
   ]
  },
  {
   "cell_type": "code",
   "execution_count": 8,
   "metadata": {},
   "outputs": [],
   "source": [
    "res2 = aggResByTic.loc[1:].copy()\n",
    "res2 = res2[res2.columns[res2.notnull().loc[1].values]].copy()\n",
    "res2['ProjectTypeDesc'] = res2['prjectType'].apply(lambda x:projectDict[x])"
   ]
  },
  {
   "cell_type": "code",
   "execution_count": 9,
   "metadata": {},
   "outputs": [
    {
     "data": {
      "text/html": [
       "<div>\n",
       "<style scoped>\n",
       "    .dataframe tbody tr th:only-of-type {\n",
       "        vertical-align: middle;\n",
       "    }\n",
       "\n",
       "    .dataframe tbody tr th {\n",
       "        vertical-align: top;\n",
       "    }\n",
       "\n",
       "    .dataframe thead th {\n",
       "        text-align: right;\n",
       "    }\n",
       "</style>\n",
       "<table border=\"1\" class=\"dataframe\">\n",
       "  <thead>\n",
       "    <tr style=\"text-align: right;\">\n",
       "      <th></th>\n",
       "      <th>Unnamed: 0</th>\n",
       "      <th>aprtmentSizeMean</th>\n",
       "      <th>ProjNumber</th>\n",
       "      <th>yearsInBldgMean</th>\n",
       "      <th>aprtmentSizeMeanStay</th>\n",
       "      <th>aprtmentSizeNewComer</th>\n",
       "      <th>AgeMean</th>\n",
       "      <th>AgeMeanNew</th>\n",
       "      <th>AgeMeanStay</th>\n",
       "      <th>AgeOldStayNew</th>\n",
       "      <th>AgeYoungStayNew</th>\n",
       "      <th>AgeOldStay</th>\n",
       "      <th>AgeYoungStay</th>\n",
       "      <th>AgeOldNew</th>\n",
       "      <th>AgeYoungNew</th>\n",
       "      <th>IncomeHighStay</th>\n",
       "      <th>IncomeMedStay</th>\n",
       "      <th>IncomeLowStay</th>\n",
       "      <th>IncomeHighNew</th>\n",
       "      <th>IncomeMedNew</th>\n",
       "      <th>IncomeLowNew</th>\n",
       "      <th>IncomeHighStayNew</th>\n",
       "      <th>IncomeMedStayNew</th>\n",
       "      <th>IncomeLowStayNew</th>\n",
       "      <th>meanIncomeStay</th>\n",
       "      <th>meanIncomeNewComers</th>\n",
       "      <th>meanIncomeStay_N_new</th>\n",
       "      <th>rentCount</th>\n",
       "      <th>ownCount</th>\n",
       "      <th>rentStayCount</th>\n",
       "      <th>rentNewCount</th>\n",
       "      <th>ownStayCount</th>\n",
       "      <th>ownNewCount</th>\n",
       "      <th>TotalAgentsCount</th>\n",
       "      <th>prjectType</th>\n",
       "      <th>tic</th>\n",
       "      <th>stay</th>\n",
       "      <th>new comers</th>\n",
       "      <th>CostForStaying</th>\n",
       "      <th>rentPrice</th>\n",
       "      <th>leave</th>\n",
       "      <th>ProjectTypeDesc</th>\n",
       "    </tr>\n",
       "  </thead>\n",
       "  <tbody>\n",
       "    <tr>\n",
       "      <th>1</th>\n",
       "      <td>1</td>\n",
       "      <td>75.337691</td>\n",
       "      <td>20180988</td>\n",
       "      <td>22.810458</td>\n",
       "      <td>75.081448</td>\n",
       "      <td>82.000000</td>\n",
       "      <td>48.409586</td>\n",
       "      <td>48.470588</td>\n",
       "      <td>48.407240</td>\n",
       "      <td>255.0</td>\n",
       "      <td>663.0</td>\n",
       "      <td>248.0</td>\n",
       "      <td>636.0</td>\n",
       "      <td>7.0</td>\n",
       "      <td>27.0</td>\n",
       "      <td>0.0</td>\n",
       "      <td>369.0</td>\n",
       "      <td>515.0</td>\n",
       "      <td>23.0</td>\n",
       "      <td>11.0</td>\n",
       "      <td>0.0</td>\n",
       "      <td>23.0</td>\n",
       "      <td>380.0</td>\n",
       "      <td>515.0</td>\n",
       "      <td>7699.251131</td>\n",
       "      <td>20246.763158</td>\n",
       "      <td>8163.973799</td>\n",
       "      <td>321</td>\n",
       "      <td>597</td>\n",
       "      <td>310.0</td>\n",
       "      <td>11.0</td>\n",
       "      <td>574.0</td>\n",
       "      <td>23.0</td>\n",
       "      <td>918</td>\n",
       "      <td>1</td>\n",
       "      <td>1</td>\n",
       "      <td>884</td>\n",
       "      <td>34.0</td>\n",
       "      <td>255.628170</td>\n",
       "      <td>0</td>\n",
       "      <td>13</td>\n",
       "      <td>Addition</td>\n",
       "    </tr>\n",
       "    <tr>\n",
       "      <th>2</th>\n",
       "      <td>2</td>\n",
       "      <td>75.616379</td>\n",
       "      <td>20100133</td>\n",
       "      <td>22.141164</td>\n",
       "      <td>75.175115</td>\n",
       "      <td>82.000000</td>\n",
       "      <td>48.483836</td>\n",
       "      <td>48.483333</td>\n",
       "      <td>48.483871</td>\n",
       "      <td>256.0</td>\n",
       "      <td>672.0</td>\n",
       "      <td>243.0</td>\n",
       "      <td>625.0</td>\n",
       "      <td>13.0</td>\n",
       "      <td>47.0</td>\n",
       "      <td>0.0</td>\n",
       "      <td>364.0</td>\n",
       "      <td>504.0</td>\n",
       "      <td>40.0</td>\n",
       "      <td>20.0</td>\n",
       "      <td>0.0</td>\n",
       "      <td>40.0</td>\n",
       "      <td>384.0</td>\n",
       "      <td>504.0</td>\n",
       "      <td>7697.449309</td>\n",
       "      <td>20174.978070</td>\n",
       "      <td>8504.186082</td>\n",
       "      <td>325</td>\n",
       "      <td>603</td>\n",
       "      <td>304.0</td>\n",
       "      <td>21.0</td>\n",
       "      <td>564.0</td>\n",
       "      <td>39.0</td>\n",
       "      <td>928</td>\n",
       "      <td>1</td>\n",
       "      <td>2</td>\n",
       "      <td>868</td>\n",
       "      <td>60.0</td>\n",
       "      <td>441.070496</td>\n",
       "      <td>0</td>\n",
       "      <td>29</td>\n",
       "      <td>Addition</td>\n",
       "    </tr>\n",
       "    <tr>\n",
       "      <th>3</th>\n",
       "      <td>3</td>\n",
       "      <td>75.587302</td>\n",
       "      <td>20180812</td>\n",
       "      <td>21.439153</td>\n",
       "      <td>75.629977</td>\n",
       "      <td>75.186813</td>\n",
       "      <td>48.366138</td>\n",
       "      <td>49.307692</td>\n",
       "      <td>48.265808</td>\n",
       "      <td>256.0</td>\n",
       "      <td>689.0</td>\n",
       "      <td>236.0</td>\n",
       "      <td>618.0</td>\n",
       "      <td>20.0</td>\n",
       "      <td>71.0</td>\n",
       "      <td>0.0</td>\n",
       "      <td>356.0</td>\n",
       "      <td>498.0</td>\n",
       "      <td>40.0</td>\n",
       "      <td>51.0</td>\n",
       "      <td>0.0</td>\n",
       "      <td>40.0</td>\n",
       "      <td>407.0</td>\n",
       "      <td>498.0</td>\n",
       "      <td>7658.194379</td>\n",
       "      <td>18781.043378</td>\n",
       "      <td>8729.283542</td>\n",
       "      <td>324</td>\n",
       "      <td>621</td>\n",
       "      <td>297.0</td>\n",
       "      <td>27.0</td>\n",
       "      <td>557.0</td>\n",
       "      <td>64.0</td>\n",
       "      <td>945</td>\n",
       "      <td>1</td>\n",
       "      <td>3</td>\n",
       "      <td>854</td>\n",
       "      <td>91.0</td>\n",
       "      <td>606.108847</td>\n",
       "      <td>0</td>\n",
       "      <td>43</td>\n",
       "      <td>Addition</td>\n",
       "    </tr>\n",
       "    <tr>\n",
       "      <th>4</th>\n",
       "      <td>4</td>\n",
       "      <td>76.027112</td>\n",
       "      <td>20181092</td>\n",
       "      <td>20.617310</td>\n",
       "      <td>75.605232</td>\n",
       "      <td>79.033898</td>\n",
       "      <td>48.442127</td>\n",
       "      <td>50.067797</td>\n",
       "      <td>48.214031</td>\n",
       "      <td>258.0</td>\n",
       "      <td>701.0</td>\n",
       "      <td>231.0</td>\n",
       "      <td>610.0</td>\n",
       "      <td>27.0</td>\n",
       "      <td>91.0</td>\n",
       "      <td>0.0</td>\n",
       "      <td>350.0</td>\n",
       "      <td>491.0</td>\n",
       "      <td>66.0</td>\n",
       "      <td>52.0</td>\n",
       "      <td>0.0</td>\n",
       "      <td>66.0</td>\n",
       "      <td>402.0</td>\n",
       "      <td>491.0</td>\n",
       "      <td>7639.385256</td>\n",
       "      <td>19569.922391</td>\n",
       "      <td>9107.376269</td>\n",
       "      <td>329</td>\n",
       "      <td>630</td>\n",
       "      <td>291.0</td>\n",
       "      <td>38.0</td>\n",
       "      <td>550.0</td>\n",
       "      <td>80.0</td>\n",
       "      <td>959</td>\n",
       "      <td>1</td>\n",
       "      <td>4</td>\n",
       "      <td>841</td>\n",
       "      <td>118.0</td>\n",
       "      <td>810.857831</td>\n",
       "      <td>0</td>\n",
       "      <td>56</td>\n",
       "      <td>Addition</td>\n",
       "    </tr>\n",
       "    <tr>\n",
       "      <th>5</th>\n",
       "      <td>5</td>\n",
       "      <td>76.627907</td>\n",
       "      <td>20171974</td>\n",
       "      <td>19.788675</td>\n",
       "      <td>75.894231</td>\n",
       "      <td>80.515924</td>\n",
       "      <td>48.542973</td>\n",
       "      <td>50.254777</td>\n",
       "      <td>48.219952</td>\n",
       "      <td>264.0</td>\n",
       "      <td>725.0</td>\n",
       "      <td>228.0</td>\n",
       "      <td>604.0</td>\n",
       "      <td>36.0</td>\n",
       "      <td>121.0</td>\n",
       "      <td>0.0</td>\n",
       "      <td>346.0</td>\n",
       "      <td>486.0</td>\n",
       "      <td>98.0</td>\n",
       "      <td>59.0</td>\n",
       "      <td>0.0</td>\n",
       "      <td>98.0</td>\n",
       "      <td>405.0</td>\n",
       "      <td>486.0</td>\n",
       "      <td>7620.582933</td>\n",
       "      <td>19983.318304</td>\n",
       "      <td>9583.120297</td>\n",
       "      <td>339</td>\n",
       "      <td>650</td>\n",
       "      <td>286.0</td>\n",
       "      <td>53.0</td>\n",
       "      <td>546.0</td>\n",
       "      <td>104.0</td>\n",
       "      <td>989</td>\n",
       "      <td>2</td>\n",
       "      <td>5</td>\n",
       "      <td>832</td>\n",
       "      <td>157.0</td>\n",
       "      <td>1067.265228</td>\n",
       "      <td>0</td>\n",
       "      <td>65</td>\n",
       "      <td>Reconstruction</td>\n",
       "    </tr>\n",
       "  </tbody>\n",
       "</table>\n",
       "</div>"
      ],
      "text/plain": [
       "   Unnamed: 0  aprtmentSizeMean ProjNumber  yearsInBldgMean  \\\n",
       "1           1         75.337691   20180988        22.810458   \n",
       "2           2         75.616379   20100133        22.141164   \n",
       "3           3         75.587302   20180812        21.439153   \n",
       "4           4         76.027112   20181092        20.617310   \n",
       "5           5         76.627907   20171974        19.788675   \n",
       "\n",
       "   aprtmentSizeMeanStay  aprtmentSizeNewComer    AgeMean  AgeMeanNew  \\\n",
       "1             75.081448             82.000000  48.409586   48.470588   \n",
       "2             75.175115             82.000000  48.483836   48.483333   \n",
       "3             75.629977             75.186813  48.366138   49.307692   \n",
       "4             75.605232             79.033898  48.442127   50.067797   \n",
       "5             75.894231             80.515924  48.542973   50.254777   \n",
       "\n",
       "   AgeMeanStay  AgeOldStayNew  AgeYoungStayNew  AgeOldStay  AgeYoungStay  \\\n",
       "1    48.407240          255.0            663.0       248.0         636.0   \n",
       "2    48.483871          256.0            672.0       243.0         625.0   \n",
       "3    48.265808          256.0            689.0       236.0         618.0   \n",
       "4    48.214031          258.0            701.0       231.0         610.0   \n",
       "5    48.219952          264.0            725.0       228.0         604.0   \n",
       "\n",
       "   AgeOldNew  AgeYoungNew  IncomeHighStay  IncomeMedStay  IncomeLowStay  \\\n",
       "1        7.0         27.0             0.0          369.0          515.0   \n",
       "2       13.0         47.0             0.0          364.0          504.0   \n",
       "3       20.0         71.0             0.0          356.0          498.0   \n",
       "4       27.0         91.0             0.0          350.0          491.0   \n",
       "5       36.0        121.0             0.0          346.0          486.0   \n",
       "\n",
       "   IncomeHighNew  IncomeMedNew  IncomeLowNew  IncomeHighStayNew  \\\n",
       "1           23.0          11.0           0.0               23.0   \n",
       "2           40.0          20.0           0.0               40.0   \n",
       "3           40.0          51.0           0.0               40.0   \n",
       "4           66.0          52.0           0.0               66.0   \n",
       "5           98.0          59.0           0.0               98.0   \n",
       "\n",
       "   IncomeMedStayNew  IncomeLowStayNew  meanIncomeStay  meanIncomeNewComers  \\\n",
       "1             380.0             515.0     7699.251131         20246.763158   \n",
       "2             384.0             504.0     7697.449309         20174.978070   \n",
       "3             407.0             498.0     7658.194379         18781.043378   \n",
       "4             402.0             491.0     7639.385256         19569.922391   \n",
       "5             405.0             486.0     7620.582933         19983.318304   \n",
       "\n",
       "   meanIncomeStay_N_new  rentCount  ownCount  rentStayCount  rentNewCount  \\\n",
       "1           8163.973799        321       597          310.0          11.0   \n",
       "2           8504.186082        325       603          304.0          21.0   \n",
       "3           8729.283542        324       621          297.0          27.0   \n",
       "4           9107.376269        329       630          291.0          38.0   \n",
       "5           9583.120297        339       650          286.0          53.0   \n",
       "\n",
       "   ownStayCount  ownNewCount  TotalAgentsCount  prjectType  tic  stay  \\\n",
       "1         574.0         23.0               918           1    1   884   \n",
       "2         564.0         39.0               928           1    2   868   \n",
       "3         557.0         64.0               945           1    3   854   \n",
       "4         550.0         80.0               959           1    4   841   \n",
       "5         546.0        104.0               989           2    5   832   \n",
       "\n",
       "   new comers  CostForStaying  rentPrice  leave ProjectTypeDesc  \n",
       "1        34.0      255.628170          0     13        Addition  \n",
       "2        60.0      441.070496          0     29        Addition  \n",
       "3        91.0      606.108847          0     43        Addition  \n",
       "4       118.0      810.857831          0     56        Addition  \n",
       "5       157.0     1067.265228          0     65  Reconstruction  "
      ]
     },
     "execution_count": 9,
     "metadata": {},
     "output_type": "execute_result"
    }
   ],
   "source": [
    "res2.head()"
   ]
  },
  {
   "cell_type": "code",
   "execution_count": 10,
   "metadata": {},
   "outputs": [],
   "source": [
    "class simWidgets:\n",
    "    styled = {'description_width': 'initial'}\n",
    "    def __init__(self):\n",
    "        self.tics =widgets.IntRangeSlider(\n",
    "            value=[0, 1],\n",
    "            min=0,\n",
    "            max=30,\n",
    "            step=1,\n",
    "            description='Simulation Tics:',\n",
    "            disabled=False,\n",
    "            continuous_update=False,\n",
    "            orientation='horizontal',\n",
    "            readout=True,\n",
    "            readout_format='d',\n",
    "            layout=Layout(width='100%'),\n",
    "            style=simWidgets.styled\n",
    "        )\n"
   ]
  },
  {
   "cell_type": "code",
   "execution_count": 11,
   "metadata": {},
   "outputs": [],
   "source": [
    "simWidg = simWidgets()\n",
    "simWidg.tics.min = ticsIndex.values.min()\n",
    "simWidg.tics.max = ticsIndex.values.max()"
   ]
  },
  {
   "cell_type": "code",
   "execution_count": 66,
   "metadata": {},
   "outputs": [],
   "source": [
    "def g(x):\n",
    "    startTic = x[0]\n",
    "    lastTic = x[1]\n",
    "    if lastTic>0:\n",
    "        if startTic==11:\n",
    "            startTic=12\n",
    "        if lastTic==11:\n",
    "            lastTic=12\n",
    "        projectNum = projNumberTicDict[lastTic]\n",
    "        bldNumber = projBldNumberDict[projectNum]\n",
    "        hebAddres = bldDictAddress[bldNumber]\n",
    "        projectTypeDesc = res2.query(f'tic=={lastTic}')['ProjectTypeDesc'].values[0]\n",
    "        h = HTML(value=f\"<h2>Execution: {x[1]} &nbsp; Project Number: {projectNum}<br/> Hebrew Address: {hebAddres}<br/>Project Type: {projectTypeDesc}</h2>\")\n",
    "        display(h)\n",
    "        figure_1(startTic,lastTic)\n",
    "        figure_2(startTic,lastTic)\n",
    "        figure_3(startTic,lastTic)\n",
    "        figure_4(startTic,lastTic)\n",
    "        figure_5(startTic,lastTic)\n",
    "        figure_6(lastTic)\n",
    "        figure_7(lastTic)\n",
    "        figure_9(projectNum)\n",
    "        \n",
    "    else:\n",
    "        h = HTML(value=f\"<h2>Tick: {x[1]}</h2>\")\n",
    "        display(h)\n",
    "    #return (x[0]*2)"
   ]
  },
  {
   "cell_type": "code",
   "execution_count": 67,
   "metadata": {},
   "outputs": [
    {
     "data": {
      "application/vnd.jupyter.widget-view+json": {
       "model_id": "2c555fce5570459a9ecd6651920e2208",
       "version_major": 2,
       "version_minor": 0
      },
      "text/plain": [
       "interactive(children=(IntRangeSlider(value=(6, 18), continuous_update=False, description='Simulation Tics:', l…"
      ]
     },
     "metadata": {},
     "output_type": "display_data"
    }
   ],
   "source": [
    "i = interact_manual(g, x=simWidg.tics)\n",
    "i.widget.children[1].description = 'Submit'\n"
   ]
  },
  {
   "cell_type": "code",
   "execution_count": 51,
   "metadata": {},
   "outputs": [],
   "source": [
    "geom = bldgsInwgs84.query(f'project_nu==\"20140467\"')"
   ]
  },
  {
   "cell_type": "code",
   "execution_count": 53,
   "metadata": {},
   "outputs": [
    {
     "data": {
      "text/plain": [
       "13    POLYGON ((inf inf, inf inf, inf inf, inf inf, ...\n",
       "73    POLYGON ((inf inf, inf inf, inf inf, inf inf, ...\n",
       "Name: geometry, dtype: geometry"
      ]
     },
     "execution_count": 53,
     "metadata": {},
     "output_type": "execute_result"
    }
   ],
   "source": [
    "geom['geometry']"
   ]
  },
  {
   "cell_type": "code",
   "execution_count": 52,
   "metadata": {},
   "outputs": [
    {
     "ename": "IndexError",
     "evalue": "list index out of range",
     "output_type": "error",
     "traceback": [
      "\u001b[0;31m---------------------------------------------------------------------------\u001b[0m",
      "\u001b[0;31mIndexError\u001b[0m                                Traceback (most recent call last)",
      "\u001b[0;32m<ipython-input-52-b8631c7ba6bd>\u001b[0m in \u001b[0;36m<module>\u001b[0;34m\u001b[0m\n\u001b[0;32m----> 1\u001b[0;31m \u001b[0mgeom\u001b[0m\u001b[0;34m[\u001b[0m\u001b[0;34m'x'\u001b[0m\u001b[0;34m]\u001b[0m \u001b[0;34m=\u001b[0m \u001b[0mgeom\u001b[0m\u001b[0;34m[\u001b[0m\u001b[0;34m'geometry'\u001b[0m\u001b[0;34m]\u001b[0m\u001b[0;34m.\u001b[0m\u001b[0mapply\u001b[0m\u001b[0;34m(\u001b[0m\u001b[0;32mlambda\u001b[0m \u001b[0mx\u001b[0m\u001b[0;34m:\u001b[0m \u001b[0mx\u001b[0m\u001b[0;34m.\u001b[0m\u001b[0mcentroid\u001b[0m\u001b[0;34m.\u001b[0m\u001b[0mx\u001b[0m\u001b[0;34m)\u001b[0m\u001b[0;34m\u001b[0m\u001b[0;34m\u001b[0m\u001b[0m\n\u001b[0m\u001b[1;32m      2\u001b[0m \u001b[0mgeom\u001b[0m\u001b[0;34m[\u001b[0m\u001b[0;34m'y'\u001b[0m\u001b[0;34m]\u001b[0m \u001b[0;34m=\u001b[0m \u001b[0mgeom\u001b[0m\u001b[0;34m[\u001b[0m\u001b[0;34m'geometry'\u001b[0m\u001b[0;34m]\u001b[0m\u001b[0;34m.\u001b[0m\u001b[0mapply\u001b[0m\u001b[0;34m(\u001b[0m\u001b[0;32mlambda\u001b[0m \u001b[0mx\u001b[0m\u001b[0;34m:\u001b[0m \u001b[0mx\u001b[0m\u001b[0;34m.\u001b[0m\u001b[0mcentroid\u001b[0m\u001b[0;34m.\u001b[0m\u001b[0my\u001b[0m\u001b[0;34m)\u001b[0m\u001b[0;34m\u001b[0m\u001b[0;34m\u001b[0m\u001b[0m\n\u001b[1;32m      3\u001b[0m \u001b[0mx\u001b[0m \u001b[0;34m=\u001b[0m \u001b[0mgeom\u001b[0m\u001b[0;34m[\u001b[0m\u001b[0;34m'x'\u001b[0m\u001b[0;34m]\u001b[0m\u001b[0;34m.\u001b[0m\u001b[0mmean\u001b[0m\u001b[0;34m(\u001b[0m\u001b[0;34m)\u001b[0m\u001b[0;34m\u001b[0m\u001b[0;34m\u001b[0m\u001b[0m\n",
      "\u001b[0;32m~/anaconda3/envs/geo_env/lib/python3.7/site-packages/geopandas/geoseries.py\u001b[0m in \u001b[0;36mapply\u001b[0;34m(self, func, args, **kwargs)\u001b[0m\n\u001b[1;32m    317\u001b[0m     \u001b[0;34m@\u001b[0m\u001b[0minherit_doc\u001b[0m\u001b[0;34m(\u001b[0m\u001b[0mpd\u001b[0m\u001b[0;34m.\u001b[0m\u001b[0mSeries\u001b[0m\u001b[0;34m)\u001b[0m\u001b[0;34m\u001b[0m\u001b[0;34m\u001b[0m\u001b[0m\n\u001b[1;32m    318\u001b[0m     \u001b[0;32mdef\u001b[0m \u001b[0mapply\u001b[0m\u001b[0;34m(\u001b[0m\u001b[0mself\u001b[0m\u001b[0;34m,\u001b[0m \u001b[0mfunc\u001b[0m\u001b[0;34m,\u001b[0m \u001b[0margs\u001b[0m\u001b[0;34m=\u001b[0m\u001b[0;34m(\u001b[0m\u001b[0;34m)\u001b[0m\u001b[0;34m,\u001b[0m \u001b[0;34m**\u001b[0m\u001b[0mkwargs\u001b[0m\u001b[0;34m)\u001b[0m\u001b[0;34m:\u001b[0m\u001b[0;34m\u001b[0m\u001b[0;34m\u001b[0m\u001b[0m\n\u001b[0;32m--> 319\u001b[0;31m         \u001b[0mresult\u001b[0m \u001b[0;34m=\u001b[0m \u001b[0msuper\u001b[0m\u001b[0;34m(\u001b[0m\u001b[0;34m)\u001b[0m\u001b[0;34m.\u001b[0m\u001b[0mapply\u001b[0m\u001b[0;34m(\u001b[0m\u001b[0mfunc\u001b[0m\u001b[0;34m,\u001b[0m \u001b[0margs\u001b[0m\u001b[0;34m=\u001b[0m\u001b[0margs\u001b[0m\u001b[0;34m,\u001b[0m \u001b[0;34m**\u001b[0m\u001b[0mkwargs\u001b[0m\u001b[0;34m)\u001b[0m\u001b[0;34m\u001b[0m\u001b[0;34m\u001b[0m\u001b[0m\n\u001b[0m\u001b[1;32m    320\u001b[0m         \u001b[0;32mif\u001b[0m \u001b[0misinstance\u001b[0m\u001b[0;34m(\u001b[0m\u001b[0mresult\u001b[0m\u001b[0;34m,\u001b[0m \u001b[0mGeoSeries\u001b[0m\u001b[0;34m)\u001b[0m\u001b[0;34m:\u001b[0m\u001b[0;34m\u001b[0m\u001b[0;34m\u001b[0m\u001b[0m\n\u001b[1;32m    321\u001b[0m             \u001b[0;32mif\u001b[0m \u001b[0mself\u001b[0m\u001b[0;34m.\u001b[0m\u001b[0mcrs\u001b[0m \u001b[0;32mis\u001b[0m \u001b[0;32mnot\u001b[0m \u001b[0;32mNone\u001b[0m\u001b[0;34m:\u001b[0m\u001b[0;34m\u001b[0m\u001b[0;34m\u001b[0m\u001b[0m\n",
      "\u001b[0;32m~/anaconda3/envs/geo_env/lib/python3.7/site-packages/pandas/core/series.py\u001b[0m in \u001b[0;36mapply\u001b[0;34m(self, func, convert_dtype, args, **kwds)\u001b[0m\n\u001b[1;32m   4106\u001b[0m             \u001b[0;32melse\u001b[0m\u001b[0;34m:\u001b[0m\u001b[0;34m\u001b[0m\u001b[0;34m\u001b[0m\u001b[0m\n\u001b[1;32m   4107\u001b[0m                 \u001b[0mvalues\u001b[0m \u001b[0;34m=\u001b[0m \u001b[0mself\u001b[0m\u001b[0;34m.\u001b[0m\u001b[0mastype\u001b[0m\u001b[0;34m(\u001b[0m\u001b[0mobject\u001b[0m\u001b[0;34m)\u001b[0m\u001b[0;34m.\u001b[0m\u001b[0m_values\u001b[0m\u001b[0;34m\u001b[0m\u001b[0;34m\u001b[0m\u001b[0m\n\u001b[0;32m-> 4108\u001b[0;31m                 \u001b[0mmapped\u001b[0m \u001b[0;34m=\u001b[0m \u001b[0mlib\u001b[0m\u001b[0;34m.\u001b[0m\u001b[0mmap_infer\u001b[0m\u001b[0;34m(\u001b[0m\u001b[0mvalues\u001b[0m\u001b[0;34m,\u001b[0m \u001b[0mf\u001b[0m\u001b[0;34m,\u001b[0m \u001b[0mconvert\u001b[0m\u001b[0;34m=\u001b[0m\u001b[0mconvert_dtype\u001b[0m\u001b[0;34m)\u001b[0m\u001b[0;34m\u001b[0m\u001b[0;34m\u001b[0m\u001b[0m\n\u001b[0m\u001b[1;32m   4109\u001b[0m \u001b[0;34m\u001b[0m\u001b[0m\n\u001b[1;32m   4110\u001b[0m         \u001b[0;32mif\u001b[0m \u001b[0mlen\u001b[0m\u001b[0;34m(\u001b[0m\u001b[0mmapped\u001b[0m\u001b[0;34m)\u001b[0m \u001b[0;32mand\u001b[0m \u001b[0misinstance\u001b[0m\u001b[0;34m(\u001b[0m\u001b[0mmapped\u001b[0m\u001b[0;34m[\u001b[0m\u001b[0;36m0\u001b[0m\u001b[0;34m]\u001b[0m\u001b[0;34m,\u001b[0m \u001b[0mSeries\u001b[0m\u001b[0;34m)\u001b[0m\u001b[0;34m:\u001b[0m\u001b[0;34m\u001b[0m\u001b[0;34m\u001b[0m\u001b[0m\n",
      "\u001b[0;32mpandas/_libs/lib.pyx\u001b[0m in \u001b[0;36mpandas._libs.lib.map_infer\u001b[0;34m()\u001b[0m\n",
      "\u001b[0;32m<ipython-input-52-b8631c7ba6bd>\u001b[0m in \u001b[0;36m<lambda>\u001b[0;34m(x)\u001b[0m\n\u001b[0;32m----> 1\u001b[0;31m \u001b[0mgeom\u001b[0m\u001b[0;34m[\u001b[0m\u001b[0;34m'x'\u001b[0m\u001b[0;34m]\u001b[0m \u001b[0;34m=\u001b[0m \u001b[0mgeom\u001b[0m\u001b[0;34m[\u001b[0m\u001b[0;34m'geometry'\u001b[0m\u001b[0;34m]\u001b[0m\u001b[0;34m.\u001b[0m\u001b[0mapply\u001b[0m\u001b[0;34m(\u001b[0m\u001b[0;32mlambda\u001b[0m \u001b[0mx\u001b[0m\u001b[0;34m:\u001b[0m \u001b[0mx\u001b[0m\u001b[0;34m.\u001b[0m\u001b[0mcentroid\u001b[0m\u001b[0;34m.\u001b[0m\u001b[0mx\u001b[0m\u001b[0;34m)\u001b[0m\u001b[0;34m\u001b[0m\u001b[0;34m\u001b[0m\u001b[0m\n\u001b[0m\u001b[1;32m      2\u001b[0m \u001b[0mgeom\u001b[0m\u001b[0;34m[\u001b[0m\u001b[0;34m'y'\u001b[0m\u001b[0;34m]\u001b[0m \u001b[0;34m=\u001b[0m \u001b[0mgeom\u001b[0m\u001b[0;34m[\u001b[0m\u001b[0;34m'geometry'\u001b[0m\u001b[0;34m]\u001b[0m\u001b[0;34m.\u001b[0m\u001b[0mapply\u001b[0m\u001b[0;34m(\u001b[0m\u001b[0;32mlambda\u001b[0m \u001b[0mx\u001b[0m\u001b[0;34m:\u001b[0m \u001b[0mx\u001b[0m\u001b[0;34m.\u001b[0m\u001b[0mcentroid\u001b[0m\u001b[0;34m.\u001b[0m\u001b[0my\u001b[0m\u001b[0;34m)\u001b[0m\u001b[0;34m\u001b[0m\u001b[0;34m\u001b[0m\u001b[0m\n\u001b[1;32m      3\u001b[0m \u001b[0mx\u001b[0m \u001b[0;34m=\u001b[0m \u001b[0mgeom\u001b[0m\u001b[0;34m[\u001b[0m\u001b[0;34m'x'\u001b[0m\u001b[0;34m]\u001b[0m\u001b[0;34m.\u001b[0m\u001b[0mmean\u001b[0m\u001b[0;34m(\u001b[0m\u001b[0;34m)\u001b[0m\u001b[0;34m\u001b[0m\u001b[0;34m\u001b[0m\u001b[0m\n",
      "\u001b[0;32m~/anaconda3/envs/geo_env/lib/python3.7/site-packages/shapely/geometry/point.py\u001b[0m in \u001b[0;36mx\u001b[0;34m(self)\u001b[0m\n\u001b[1;32m     53\u001b[0m     \u001b[0;32mdef\u001b[0m \u001b[0mx\u001b[0m\u001b[0;34m(\u001b[0m\u001b[0mself\u001b[0m\u001b[0;34m)\u001b[0m\u001b[0;34m:\u001b[0m\u001b[0;34m\u001b[0m\u001b[0;34m\u001b[0m\u001b[0m\n\u001b[1;32m     54\u001b[0m         \u001b[0;34m\"\"\"Return x coordinate.\"\"\"\u001b[0m\u001b[0;34m\u001b[0m\u001b[0;34m\u001b[0m\u001b[0m\n\u001b[0;32m---> 55\u001b[0;31m         \u001b[0;32mreturn\u001b[0m \u001b[0mself\u001b[0m\u001b[0;34m.\u001b[0m\u001b[0mcoords\u001b[0m\u001b[0;34m[\u001b[0m\u001b[0;36m0\u001b[0m\u001b[0;34m]\u001b[0m\u001b[0;34m[\u001b[0m\u001b[0;36m0\u001b[0m\u001b[0;34m]\u001b[0m\u001b[0;34m\u001b[0m\u001b[0;34m\u001b[0m\u001b[0m\n\u001b[0m\u001b[1;32m     56\u001b[0m \u001b[0;34m\u001b[0m\u001b[0m\n\u001b[1;32m     57\u001b[0m     \u001b[0;34m@\u001b[0m\u001b[0mproperty\u001b[0m\u001b[0;34m\u001b[0m\u001b[0;34m\u001b[0m\u001b[0m\n",
      "\u001b[0;31mIndexError\u001b[0m: list index out of range"
     ]
    }
   ],
   "source": [
    "geom['x'] = geom['geometry'].apply(lambda x: x.centroid.x)\n",
    "geom['y'] = geom['geometry'].apply(lambda x: x.centroid.y)\n",
    "x = geom['x'].mean()"
   ]
  },
  {
   "cell_type": "code",
   "execution_count": null,
   "metadata": {},
   "outputs": [],
   "source": []
  },
  {
   "cell_type": "code",
   "execution_count": 50,
   "metadata": {},
   "outputs": [
    {
     "data": {
      "text/plain": [
       "'Reconstruction'"
      ]
     },
     "execution_count": 50,
     "metadata": {},
     "output_type": "execute_result"
    }
   ],
   "source": [
    "res2.query(f'tic=={10}')['ProjectTypeDesc'].values[0]"
   ]
  },
  {
   "cell_type": "code",
   "execution_count": null,
   "metadata": {},
   "outputs": [],
   "source": []
  },
  {
   "cell_type": "code",
   "execution_count": 15,
   "metadata": {},
   "outputs": [
    {
     "data": {
      "text/html": [
       "<div>\n",
       "<style scoped>\n",
       "    .dataframe tbody tr th:only-of-type {\n",
       "        vertical-align: middle;\n",
       "    }\n",
       "\n",
       "    .dataframe tbody tr th {\n",
       "        vertical-align: top;\n",
       "    }\n",
       "\n",
       "    .dataframe thead th {\n",
       "        text-align: right;\n",
       "    }\n",
       "</style>\n",
       "<table border=\"1\" class=\"dataframe\">\n",
       "  <thead>\n",
       "    <tr style=\"text-align: right;\">\n",
       "      <th></th>\n",
       "      <th>Unnamed: 0</th>\n",
       "      <th>aprtmentSizeMean</th>\n",
       "      <th>ProjNumber</th>\n",
       "      <th>yearsInBldgMean</th>\n",
       "      <th>aprtmentSizeMeanStay</th>\n",
       "      <th>aprtmentSizeNewComer</th>\n",
       "      <th>AgeMean</th>\n",
       "      <th>AgeMeanNew</th>\n",
       "      <th>AgeMeanStay</th>\n",
       "      <th>AgeOldStayNew</th>\n",
       "      <th>AgeYoungStayNew</th>\n",
       "      <th>AgeOldStay</th>\n",
       "      <th>AgeYoungStay</th>\n",
       "      <th>AgeOldNew</th>\n",
       "      <th>AgeYoungNew</th>\n",
       "      <th>IncomeHighStay</th>\n",
       "      <th>IncomeMedStay</th>\n",
       "      <th>IncomeLowStay</th>\n",
       "      <th>IncomeHighNew</th>\n",
       "      <th>IncomeMedNew</th>\n",
       "      <th>IncomeLowNew</th>\n",
       "      <th>IncomeHighStayNew</th>\n",
       "      <th>IncomeMedStayNew</th>\n",
       "      <th>IncomeLowStayNew</th>\n",
       "      <th>meanIncomeStay</th>\n",
       "      <th>meanIncomeNewComers</th>\n",
       "      <th>meanIncomeStay_N_new</th>\n",
       "      <th>rentCount</th>\n",
       "      <th>ownCount</th>\n",
       "      <th>rentStayCount</th>\n",
       "      <th>rentNewCount</th>\n",
       "      <th>ownStayCount</th>\n",
       "      <th>ownNewCount</th>\n",
       "      <th>TotalAgentsCount</th>\n",
       "      <th>prjectType</th>\n",
       "      <th>tic</th>\n",
       "      <th>stay</th>\n",
       "      <th>new comers</th>\n",
       "      <th>CostForStaying</th>\n",
       "      <th>rentPrice</th>\n",
       "      <th>leave</th>\n",
       "    </tr>\n",
       "  </thead>\n",
       "  <tbody>\n",
       "    <tr>\n",
       "      <th>0</th>\n",
       "      <td>0</td>\n",
       "      <td>74.914158</td>\n",
       "      <td>NaN</td>\n",
       "      <td>23.526198</td>\n",
       "      <td>NaN</td>\n",
       "      <td>NaN</td>\n",
       "      <td>48.357860</td>\n",
       "      <td>NaN</td>\n",
       "      <td>NaN</td>\n",
       "      <td>NaN</td>\n",
       "      <td>NaN</td>\n",
       "      <td>NaN</td>\n",
       "      <td>NaN</td>\n",
       "      <td>NaN</td>\n",
       "      <td>NaN</td>\n",
       "      <td>NaN</td>\n",
       "      <td>NaN</td>\n",
       "      <td>NaN</td>\n",
       "      <td>NaN</td>\n",
       "      <td>NaN</td>\n",
       "      <td>NaN</td>\n",
       "      <td>NaN</td>\n",
       "      <td>NaN</td>\n",
       "      <td>NaN</td>\n",
       "      <td>NaN</td>\n",
       "      <td>NaN</td>\n",
       "      <td>NaN</td>\n",
       "      <td>318</td>\n",
       "      <td>579</td>\n",
       "      <td>NaN</td>\n",
       "      <td>NaN</td>\n",
       "      <td>NaN</td>\n",
       "      <td>NaN</td>\n",
       "      <td>897</td>\n",
       "      <td>0</td>\n",
       "      <td>0</td>\n",
       "      <td>897</td>\n",
       "      <td>NaN</td>\n",
       "      <td>NaN</td>\n",
       "      <td>0</td>\n",
       "      <td>0</td>\n",
       "    </tr>\n",
       "    <tr>\n",
       "      <th>1</th>\n",
       "      <td>1</td>\n",
       "      <td>75.337691</td>\n",
       "      <td>20180988</td>\n",
       "      <td>22.810458</td>\n",
       "      <td>75.081448</td>\n",
       "      <td>82.000000</td>\n",
       "      <td>48.409586</td>\n",
       "      <td>48.470588</td>\n",
       "      <td>48.407240</td>\n",
       "      <td>255.0</td>\n",
       "      <td>663.0</td>\n",
       "      <td>248.0</td>\n",
       "      <td>636.0</td>\n",
       "      <td>7.0</td>\n",
       "      <td>27.0</td>\n",
       "      <td>0.0</td>\n",
       "      <td>369.0</td>\n",
       "      <td>515.0</td>\n",
       "      <td>23.0</td>\n",
       "      <td>11.0</td>\n",
       "      <td>0.0</td>\n",
       "      <td>23.0</td>\n",
       "      <td>380.0</td>\n",
       "      <td>515.0</td>\n",
       "      <td>7699.251131</td>\n",
       "      <td>20246.763158</td>\n",
       "      <td>8163.973799</td>\n",
       "      <td>321</td>\n",
       "      <td>597</td>\n",
       "      <td>310.0</td>\n",
       "      <td>11.0</td>\n",
       "      <td>574.0</td>\n",
       "      <td>23.0</td>\n",
       "      <td>918</td>\n",
       "      <td>1</td>\n",
       "      <td>1</td>\n",
       "      <td>884</td>\n",
       "      <td>34.0</td>\n",
       "      <td>255.628170</td>\n",
       "      <td>0</td>\n",
       "      <td>13</td>\n",
       "    </tr>\n",
       "    <tr>\n",
       "      <th>2</th>\n",
       "      <td>2</td>\n",
       "      <td>75.616379</td>\n",
       "      <td>20100133</td>\n",
       "      <td>22.141164</td>\n",
       "      <td>75.175115</td>\n",
       "      <td>82.000000</td>\n",
       "      <td>48.483836</td>\n",
       "      <td>48.483333</td>\n",
       "      <td>48.483871</td>\n",
       "      <td>256.0</td>\n",
       "      <td>672.0</td>\n",
       "      <td>243.0</td>\n",
       "      <td>625.0</td>\n",
       "      <td>13.0</td>\n",
       "      <td>47.0</td>\n",
       "      <td>0.0</td>\n",
       "      <td>364.0</td>\n",
       "      <td>504.0</td>\n",
       "      <td>40.0</td>\n",
       "      <td>20.0</td>\n",
       "      <td>0.0</td>\n",
       "      <td>40.0</td>\n",
       "      <td>384.0</td>\n",
       "      <td>504.0</td>\n",
       "      <td>7697.449309</td>\n",
       "      <td>20174.978070</td>\n",
       "      <td>8504.186082</td>\n",
       "      <td>325</td>\n",
       "      <td>603</td>\n",
       "      <td>304.0</td>\n",
       "      <td>21.0</td>\n",
       "      <td>564.0</td>\n",
       "      <td>39.0</td>\n",
       "      <td>928</td>\n",
       "      <td>1</td>\n",
       "      <td>2</td>\n",
       "      <td>868</td>\n",
       "      <td>60.0</td>\n",
       "      <td>441.070496</td>\n",
       "      <td>0</td>\n",
       "      <td>29</td>\n",
       "    </tr>\n",
       "    <tr>\n",
       "      <th>3</th>\n",
       "      <td>3</td>\n",
       "      <td>75.587302</td>\n",
       "      <td>20180812</td>\n",
       "      <td>21.439153</td>\n",
       "      <td>75.629977</td>\n",
       "      <td>75.186813</td>\n",
       "      <td>48.366138</td>\n",
       "      <td>49.307692</td>\n",
       "      <td>48.265808</td>\n",
       "      <td>256.0</td>\n",
       "      <td>689.0</td>\n",
       "      <td>236.0</td>\n",
       "      <td>618.0</td>\n",
       "      <td>20.0</td>\n",
       "      <td>71.0</td>\n",
       "      <td>0.0</td>\n",
       "      <td>356.0</td>\n",
       "      <td>498.0</td>\n",
       "      <td>40.0</td>\n",
       "      <td>51.0</td>\n",
       "      <td>0.0</td>\n",
       "      <td>40.0</td>\n",
       "      <td>407.0</td>\n",
       "      <td>498.0</td>\n",
       "      <td>7658.194379</td>\n",
       "      <td>18781.043378</td>\n",
       "      <td>8729.283542</td>\n",
       "      <td>324</td>\n",
       "      <td>621</td>\n",
       "      <td>297.0</td>\n",
       "      <td>27.0</td>\n",
       "      <td>557.0</td>\n",
       "      <td>64.0</td>\n",
       "      <td>945</td>\n",
       "      <td>1</td>\n",
       "      <td>3</td>\n",
       "      <td>854</td>\n",
       "      <td>91.0</td>\n",
       "      <td>606.108847</td>\n",
       "      <td>0</td>\n",
       "      <td>43</td>\n",
       "    </tr>\n",
       "    <tr>\n",
       "      <th>4</th>\n",
       "      <td>4</td>\n",
       "      <td>76.027112</td>\n",
       "      <td>20181092</td>\n",
       "      <td>20.617310</td>\n",
       "      <td>75.605232</td>\n",
       "      <td>79.033898</td>\n",
       "      <td>48.442127</td>\n",
       "      <td>50.067797</td>\n",
       "      <td>48.214031</td>\n",
       "      <td>258.0</td>\n",
       "      <td>701.0</td>\n",
       "      <td>231.0</td>\n",
       "      <td>610.0</td>\n",
       "      <td>27.0</td>\n",
       "      <td>91.0</td>\n",
       "      <td>0.0</td>\n",
       "      <td>350.0</td>\n",
       "      <td>491.0</td>\n",
       "      <td>66.0</td>\n",
       "      <td>52.0</td>\n",
       "      <td>0.0</td>\n",
       "      <td>66.0</td>\n",
       "      <td>402.0</td>\n",
       "      <td>491.0</td>\n",
       "      <td>7639.385256</td>\n",
       "      <td>19569.922391</td>\n",
       "      <td>9107.376269</td>\n",
       "      <td>329</td>\n",
       "      <td>630</td>\n",
       "      <td>291.0</td>\n",
       "      <td>38.0</td>\n",
       "      <td>550.0</td>\n",
       "      <td>80.0</td>\n",
       "      <td>959</td>\n",
       "      <td>1</td>\n",
       "      <td>4</td>\n",
       "      <td>841</td>\n",
       "      <td>118.0</td>\n",
       "      <td>810.857831</td>\n",
       "      <td>0</td>\n",
       "      <td>56</td>\n",
       "    </tr>\n",
       "  </tbody>\n",
       "</table>\n",
       "</div>"
      ],
      "text/plain": [
       "   Unnamed: 0  aprtmentSizeMean ProjNumber  yearsInBldgMean  \\\n",
       "0           0         74.914158        NaN        23.526198   \n",
       "1           1         75.337691   20180988        22.810458   \n",
       "2           2         75.616379   20100133        22.141164   \n",
       "3           3         75.587302   20180812        21.439153   \n",
       "4           4         76.027112   20181092        20.617310   \n",
       "\n",
       "   aprtmentSizeMeanStay  aprtmentSizeNewComer    AgeMean  AgeMeanNew  \\\n",
       "0                   NaN                   NaN  48.357860         NaN   \n",
       "1             75.081448             82.000000  48.409586   48.470588   \n",
       "2             75.175115             82.000000  48.483836   48.483333   \n",
       "3             75.629977             75.186813  48.366138   49.307692   \n",
       "4             75.605232             79.033898  48.442127   50.067797   \n",
       "\n",
       "   AgeMeanStay  AgeOldStayNew  AgeYoungStayNew  AgeOldStay  AgeYoungStay  \\\n",
       "0          NaN            NaN              NaN         NaN           NaN   \n",
       "1    48.407240          255.0            663.0       248.0         636.0   \n",
       "2    48.483871          256.0            672.0       243.0         625.0   \n",
       "3    48.265808          256.0            689.0       236.0         618.0   \n",
       "4    48.214031          258.0            701.0       231.0         610.0   \n",
       "\n",
       "   AgeOldNew  AgeYoungNew  IncomeHighStay  IncomeMedStay  IncomeLowStay  \\\n",
       "0        NaN          NaN             NaN            NaN            NaN   \n",
       "1        7.0         27.0             0.0          369.0          515.0   \n",
       "2       13.0         47.0             0.0          364.0          504.0   \n",
       "3       20.0         71.0             0.0          356.0          498.0   \n",
       "4       27.0         91.0             0.0          350.0          491.0   \n",
       "\n",
       "   IncomeHighNew  IncomeMedNew  IncomeLowNew  IncomeHighStayNew  \\\n",
       "0            NaN           NaN           NaN                NaN   \n",
       "1           23.0          11.0           0.0               23.0   \n",
       "2           40.0          20.0           0.0               40.0   \n",
       "3           40.0          51.0           0.0               40.0   \n",
       "4           66.0          52.0           0.0               66.0   \n",
       "\n",
       "   IncomeMedStayNew  IncomeLowStayNew  meanIncomeStay  meanIncomeNewComers  \\\n",
       "0               NaN               NaN             NaN                  NaN   \n",
       "1             380.0             515.0     7699.251131         20246.763158   \n",
       "2             384.0             504.0     7697.449309         20174.978070   \n",
       "3             407.0             498.0     7658.194379         18781.043378   \n",
       "4             402.0             491.0     7639.385256         19569.922391   \n",
       "\n",
       "   meanIncomeStay_N_new  rentCount  ownCount  rentStayCount  rentNewCount  \\\n",
       "0                   NaN        318       579            NaN           NaN   \n",
       "1           8163.973799        321       597          310.0          11.0   \n",
       "2           8504.186082        325       603          304.0          21.0   \n",
       "3           8729.283542        324       621          297.0          27.0   \n",
       "4           9107.376269        329       630          291.0          38.0   \n",
       "\n",
       "   ownStayCount  ownNewCount  TotalAgentsCount  prjectType  tic  stay  \\\n",
       "0           NaN          NaN               897           0    0   897   \n",
       "1         574.0         23.0               918           1    1   884   \n",
       "2         564.0         39.0               928           1    2   868   \n",
       "3         557.0         64.0               945           1    3   854   \n",
       "4         550.0         80.0               959           1    4   841   \n",
       "\n",
       "   new comers  CostForStaying  rentPrice  leave  \n",
       "0         NaN             NaN          0      0  \n",
       "1        34.0      255.628170          0     13  \n",
       "2        60.0      441.070496          0     29  \n",
       "3        91.0      606.108847          0     43  \n",
       "4       118.0      810.857831          0     56  "
      ]
     },
     "execution_count": 15,
     "metadata": {},
     "output_type": "execute_result"
    }
   ],
   "source": [
    "aggResByTic.head()"
   ]
  },
  {
   "cell_type": "code",
   "execution_count": 16,
   "metadata": {},
   "outputs": [],
   "source": [
    "    stayingC = colorExcel.query('label==\"Staying\"')['colors_'].values[0]\n",
    "    leavingC = colorExcel.query('label==\"Leaving\"')['colors_'].values[0]\n",
    "    newComerC = colorExcel.query('label==\"New Comers\"')['colors_'].values[0]\n",
    "    aC = colorExcel.query('label==\"Addition\"')['colors_'].values[0]\n",
    "    rC = colorExcel.query('label==\"Reconstruction\"')['colors_'].values[0]\n",
    "    rrC = colorExcel.query('label==\"Raze and Rebuild\"')['colors_'].values[0]\n",
    "    totalPopC = colorExcel.query('label==\"Total Pop\"')['colors_'].values[0]\n",
    "\n",
    "    lowIncomeC = colorExcel.loc[colorExcel['label']=='Moderate','colors_'].values[0]\n",
    "    medIncomeC = colorExcel.loc[colorExcel['label']=='Middle','colors_'].values[0]\n",
    "    upIncomeC = colorExcel.loc[colorExcel['label']=='Upper','colors_'].values[0]\n"
   ]
  },
  {
   "cell_type": "code",
   "execution_count": 18,
   "metadata": {},
   "outputs": [
    {
     "data": {
      "application/vnd.jupyter.widget-view+json": {
       "model_id": "85ef96b0046c4675b917600c5f3762f9",
       "version_major": 2,
       "version_minor": 0
      },
      "text/plain": [
       "Output()"
      ]
     },
     "metadata": {},
     "output_type": "display_data"
    }
   ],
   "source": [
    "out1 = widgets.Output()\n",
    "out1"
   ]
  },
  {
   "cell_type": "code",
   "execution_count": 19,
   "metadata": {},
   "outputs": [],
   "source": [
    "def figure_1(start=1,end=1):\n",
    "    widthD=800\n",
    "    genericGraph = res2.query(f\"tic>={start} & tic<={end}\").copy()\n",
    "    genericGraph.loc[genericGraph['prjectType']==1,'Project Type '] = 'Addition'\n",
    "    genericGraph.loc[genericGraph['prjectType']==2,'Project Type '] = 'Reconstruction'\n",
    "    genericGraph.loc[genericGraph['prjectType']==3,'Project Type '] = 'Raze and Rebuild'\n",
    "    genericGraph['y_shift'] =-20\n",
    "    # Change the bar mode\n",
    "    aTics = genericGraph.loc[genericGraph['prjectType'] == 1, 'tic']\n",
    "    aYshift =genericGraph.loc[genericGraph['prjectType'] == 1, 'y_shift']\n",
    "\n",
    "    rTics = genericGraph.loc[genericGraph['prjectType'] == 2, 'tic']\n",
    "    rYshift = genericGraph.loc[genericGraph['prjectType'] == 2, 'y_shift']\n",
    "\n",
    "    rrTics = genericGraph.loc[genericGraph['prjectType'] == 3, 'tic']\n",
    "    rrYshift = genericGraph.loc[genericGraph['prjectType'] == 3, 'y_shift']\n",
    "    titlesList = ['Staying','New Comers','Total (Staying+New Comers)']\n",
    "    colList = ['stay','new comers','TotalAgentsCount']\n",
    "    colorList = [stayingC,newComerC,totalPopC]\n",
    "    styleList = [dict(color=stayingC, width=4), dict(color=newComerC, width=4), dict(color=totalPopC, dash='dash')] \n",
    "\n",
    "\n",
    "    fig = go.Figure()\n",
    "    for i in range(3):\n",
    "        fig.add_trace(go.Scatter(\n",
    "            x=genericGraph['tic'],\n",
    "            y=genericGraph[colList[i]],\n",
    "            line=styleList[i],\n",
    "            name=titlesList[i]\n",
    "        ))\n",
    "\n",
    "\n",
    "    maxY=3300\n",
    "    for xtic in aTics:\n",
    "        fig.add_shape(type=\"line\", x0=xtic, y0=0, x1=xtic, y1=maxY, line=dict(\n",
    "            color=aC, width=1.5, dash=\"dot\"), layer=\"below\")\n",
    "\n",
    "    for xtic in rTics:\n",
    "        fig.add_shape(type=\"line\", x0=xtic, y0=0, x1=xtic, y1=maxY, line=dict(\n",
    "            color=rC, width=1.5, dash=\"dot\"), layer=\"below\")\n",
    "\n",
    "    for xtic in rrTics:\n",
    "        fig.add_shape(type=\"line\", x0=xtic, y0=0, x1=xtic, y1=maxY,\n",
    "                      line=dict(color=rrC, width=1.5, dash=\"dot\"), layer=\"below\")\n",
    "\n",
    "\n",
    "    fig.add_trace(go.Scatter(name='Addition', x=aTics, y=aYshift,\n",
    "                             mode='markers', marker=dict(color=aC)))\n",
    "    fig.add_trace(go.Scatter(name='Reconstruction', x=rTics, y=rYshift,\n",
    "                             mode='markers', marker=dict(color=rC)))\n",
    "    fig.add_trace(go.Scatter(name='Raze and Rebuild', x=rrTics,\n",
    "                             y=rrYshift, mode='markers', marker=dict(color=rrC)))\n",
    "\n",
    "    fig.update_layout(width=widthD,height=heightD, title='Household Absolute change within simulation tics')\n",
    "    fig.update_yaxes(title='Household Count',range=[-100, maxY],gridwidth=1, gridcolor=gridBG,zerolinewidth=1,zerolinecolor='lightgrey')\n",
    "    fig.update_xaxes(title='Simulation tic',gridwidth=1, gridcolor=gridBG,zerolinewidth=1,zerolinecolor='lightgrey')\n",
    "    fig.update_layout(showlegend=True,plot_bgcolor='rgba(0,0,0,0)',legend=dict(yanchor=\"top\", y=0.99, xanchor=\"left\", x=0.01,bgcolor='rgba(255,255,255,0.75)'))\n",
    "    with out1:\n",
    "        out1.clear_output()\n",
    "        fig.show()"
   ]
  },
  {
   "cell_type": "code",
   "execution_count": 20,
   "metadata": {},
   "outputs": [
    {
     "data": {
      "application/vnd.jupyter.widget-view+json": {
       "model_id": "f6ac29f12d6b4aee858f35c29c5e4b88",
       "version_major": 2,
       "version_minor": 0
      },
      "text/plain": [
       "Output()"
      ]
     },
     "metadata": {},
     "output_type": "display_data"
    }
   ],
   "source": [
    "out2 = widgets.Output()\n",
    "out2"
   ]
  },
  {
   "cell_type": "code",
   "execution_count": 21,
   "metadata": {},
   "outputs": [],
   "source": [
    "def figure_2(start,end):\n",
    "    widthD=800\n",
    "    genericGraph = res2.query(f\"tic>={start} & tic<={end}\").copy()\n",
    "    title_ ='Percent Income by Group Staying Vs New Comers'\n",
    "    y_title = 'Household Percent'\n",
    "    columnsList = ['IncomeHighStay','IncomeMedStay','IncomeLowStay','IncomeHighNew','IncomeMedNew','IncomeLowNew','IncomeHighStayNew','IncomeMedStayNew','IncomeLowStayNew']\n",
    "    titlesList = ['High Stay','Med Stay','Low Stay','High New Comer','Med New Comer','Low New Comer','High (average)','Medium (average)','Low (average)']\n",
    "    legendGroup =['Staying','Staying','Staying','New Comers','New Comers','New Comers','Average','Average','Average']\n",
    "    styleList = [dict(color=upIncomeC,width=2),\n",
    "                 dict(color=medIncomeC,width=2),\n",
    "                 dict(color=lowIncomeC,width=2),\n",
    "                 dict(color=upIncomeC,width=4),\n",
    "                 dict(color=medIncomeC,width=4),\n",
    "                 dict(color=lowIncomeC,width=4),\n",
    "                 dict(color='hsv(30,50%,100%)',dash='dash'),\n",
    "                 dict(color='hsv(30,75%,100%)', dash='dash'),\n",
    "                 dict(color='hsv(30,100%,50%)', dash='dash')]\n",
    "    percentList=[]\n",
    "    for i in range(9):\n",
    "        percentList.append(f'{columnsList[i]}Percent')\n",
    "        genericGraph[percentList[i]] = genericGraph[columnsList[i]]/genericGraph['TotalAgentsCount']\n",
    "    genericGraph['y_shift'] =-0.02\n",
    "    # Change the bar mode\n",
    "    aTics = genericGraph.loc[genericGraph['prjectType'] == 1, 'tic']\n",
    "    rTics = genericGraph.loc[genericGraph['prjectType'] == 2, 'tic']\n",
    "    rrTics = genericGraph.loc[genericGraph['prjectType'] == 3, 'tic']\n",
    "    \n",
    "    aYshift =genericGraph.loc[genericGraph['prjectType'] == 1, 'y_shift']\n",
    "    rYshift = genericGraph.loc[genericGraph['prjectType'] == 2, 'y_shift']\n",
    "    rrYshift = genericGraph.loc[genericGraph['prjectType'] == 3, 'y_shift']\n",
    "    maxY=1\n",
    "    fig = go.Figure()\n",
    "    for i in range(9):\n",
    "        fig.add_trace(go.Scatter(\n",
    "            x=genericGraph['tic'],\n",
    "            y=genericGraph[percentList[i]],\n",
    "            legendgroup = legendGroup[i],\n",
    "            line=styleList[i],\n",
    "            name=titlesList[i]\n",
    "        ))\n",
    "    for xtic in aTics:\n",
    "        fig.add_shape(type=\"line\", x0=xtic, y0=0, x1=xtic, y1=maxY, line=dict(\n",
    "            color=aC, width=1.5, dash=\"dot\"), layer=\"below\")\n",
    "\n",
    "    for xtic in rTics:\n",
    "        fig.add_shape(type=\"line\", x0=xtic, y0=0, x1=xtic, y1=maxY, line=dict(\n",
    "            color=rC, width=1.5, dash=\"dot\"), layer=\"below\")\n",
    "\n",
    "    for xtic in rrTics:\n",
    "        fig.add_shape(type=\"line\", x0=xtic, y0=0, x1=xtic, y1=maxY,\n",
    "                      line=dict(color=rrC, width=1.5, dash=\"dot\"), layer=\"below\")\n",
    "\n",
    "    fig.add_trace(go.Scatter(name='Addition', x=aTics, y=aYshift,\n",
    "                             mode='markers', legendgroup='Building Type', marker=dict(color=aC)))\n",
    "    fig.add_trace(go.Scatter(name='Reconstruction',legendgroup='Building Type',  x=rTics, y=rYshift,\n",
    "                             mode='markers', marker=dict(color=rC)))\n",
    "    fig.add_trace(go.Scatter(name='Raze and Rebuild',legendgroup='Building Type',  x=rrTics,\n",
    "                             y=rrYshift, mode='markers', marker=dict(color=rrC)))\n",
    "\n",
    "\n",
    "    fig.update_layout(width=widthD,height=heightD, title=title_)\n",
    "    fig.update_yaxes(title=y_title,range=[-0.05, maxY],gridwidth=1, gridcolor=gridBG,zerolinewidth=1,zerolinecolor='lightgrey')\n",
    "\n",
    "    fig.update_xaxes(title='Simulation tic',gridwidth=1, gridcolor=gridBG,zerolinewidth=1,zerolinecolor='lightgrey')\n",
    "    fig.update_layout(showlegend=True,plot_bgcolor='rgba(0,0,0,0)',legend=dict(orientation='h',yanchor=\"top\", y=1.0, xanchor=\"left\", x=0.03,bgcolor='rgba(255,255,255,0.5)'))\n",
    "\n",
    "    with out2:\n",
    "        out2.clear_output()\n",
    "        fig.show()"
   ]
  },
  {
   "cell_type": "code",
   "execution_count": 22,
   "metadata": {},
   "outputs": [
    {
     "data": {
      "application/vnd.jupyter.widget-view+json": {
       "model_id": "45adecdec952493487089e49f70a2528",
       "version_major": 2,
       "version_minor": 0
      },
      "text/plain": [
       "Output()"
      ]
     },
     "metadata": {},
     "output_type": "display_data"
    }
   ],
   "source": [
    "out3 = widgets.Output()\n",
    "out3"
   ]
  },
  {
   "cell_type": "code",
   "execution_count": 23,
   "metadata": {},
   "outputs": [],
   "source": [
    "def figure_3(start,end):\n",
    "    widthD=800\n",
    "\n",
    "    genericGraph = res2.query(f\"tic>={start} & tic<={end}\").copy()\n",
    "    above65C = colorExcel.loc[colorExcel['label']=='65-84','colors_'].values[0]\n",
    "    below65C = colorExcel.loc[colorExcel['label']=='18-44','colors_'].values[0]\n",
    "    averageBelowAgeC = colorExcel.loc[colorExcel['label']=='45-64','colors_'].values[0]\n",
    "    averageAboveAgeC = colorExcel.loc[colorExcel['label']=='85+','colors_'].values[0]\n",
    "    \n",
    "    title_ ='Above and Below 65 troughout the simulation'\n",
    "    y_title = 'Household Percent'\n",
    "    #totalPopC\n",
    "    columnsList = ['AgeYoungStay','AgeOldStay','AgeYoungNew','AgeOldNew','AgeYoungStayNew','AgeOldStayNew']\n",
    "    titlesList = ['Under 65 Stay','Above 65 Stay','Under 65 New Comers','Above 65 New Comers','Under 65 (Average)','Above 65 (Average)']\n",
    "    legendGroup =['Staying','Staying','New Comers','New Comers','Average','Average']\n",
    "    styleList = [dict(color=below65C,width=2),\n",
    "                 dict(color=above65C,width=2),\n",
    "                 dict(color=below65C,width=4),\n",
    "                 dict(color=above65C,width=4),\n",
    "                 dict(color=averageBelowAgeC,dash='dash'),\n",
    "                 dict(color=averageAboveAgeC, dash='dash')]\n",
    "    percentList=[]\n",
    "    for i in range(6):\n",
    "        percentList.append(f'{columnsList[i]}Percent')\n",
    "        genericGraph[percentList[i]] = genericGraph[columnsList[i]]/genericGraph['TotalAgentsCount']\n",
    "    genericGraph['y_shift'] =-0.02\n",
    "    # Change the bar mode\n",
    "    aTics = genericGraph.loc[genericGraph['prjectType'] == 1, 'tic']\n",
    "    rTics = genericGraph.loc[genericGraph['prjectType'] == 2, 'tic']\n",
    "    rrTics = genericGraph.loc[genericGraph['prjectType'] == 3, 'tic']\n",
    "    \n",
    "    aYshift =genericGraph.loc[genericGraph['prjectType'] == 1, 'y_shift']\n",
    "    rYshift = genericGraph.loc[genericGraph['prjectType'] == 2, 'y_shift']\n",
    "    rrYshift = genericGraph.loc[genericGraph['prjectType'] == 3, 'y_shift']\n",
    "    maxY=1\n",
    "    fig = go.Figure()\n",
    "    for i in range(6):\n",
    "        fig.add_trace(go.Scatter(\n",
    "            x=genericGraph['tic'],\n",
    "            y=genericGraph[percentList[i]],\n",
    "            legendgroup = legendGroup[i],\n",
    "            line=styleList[i],\n",
    "            name=titlesList[i]\n",
    "        ))\n",
    "    for xtic in aTics:\n",
    "        fig.add_shape(type=\"line\", x0=xtic, y0=0, x1=xtic, y1=maxY, line=dict(\n",
    "            color=aC, width=1.5, dash=\"dot\"), layer=\"below\")\n",
    "\n",
    "    for xtic in rTics:\n",
    "        fig.add_shape(type=\"line\", x0=xtic, y0=0, x1=xtic, y1=maxY, line=dict(\n",
    "            color=rC, width=1.5, dash=\"dot\"), layer=\"below\")\n",
    "\n",
    "    for xtic in rrTics:\n",
    "        fig.add_shape(type=\"line\", x0=xtic, y0=0, x1=xtic, y1=maxY,\n",
    "                      line=dict(color=rrC, width=1.5, dash=\"dot\"), layer=\"below\")\n",
    "\n",
    "    fig.add_trace(go.Scatter(name='Addition', x=aTics, y=aYshift,\n",
    "                             mode='markers', legendgroup='Building Type', marker=dict(color=aC)))\n",
    "    fig.add_trace(go.Scatter(name='Reconstruction',legendgroup='Building Type',  x=rTics, y=rYshift,\n",
    "                             mode='markers', marker=dict(color=rC)))\n",
    "    fig.add_trace(go.Scatter(name='Raze and Rebuild',legendgroup='Building Type',  x=rrTics,\n",
    "                             y=rrYshift, mode='markers', marker=dict(color=rrC)))\n",
    "\n",
    "\n",
    "    fig.update_layout(width=widthD,height=heightD, title=title_)\n",
    "    fig.update_yaxes(title=y_title,range=[-0.05, maxY],gridwidth=1, gridcolor=gridBG,zerolinewidth=1,zerolinecolor='lightgrey')\n",
    "\n",
    "    fig.update_xaxes(title='Simulation tic',gridwidth=1, gridcolor=gridBG,zerolinewidth=1,zerolinecolor='lightgrey')\n",
    "    fig.update_layout(showlegend=True,plot_bgcolor='rgba(0,0,0,0)',legend=dict(orientation='h',yanchor=\"top\", y=1.0, xanchor=\"left\", x=0.03,bgcolor='rgba(255,255,255,0.5)'))\n",
    "\n",
    "    with out3:\n",
    "        out3.clear_output()\n",
    "        fig.show()"
   ]
  },
  {
   "cell_type": "code",
   "execution_count": 24,
   "metadata": {},
   "outputs": [
    {
     "data": {
      "application/vnd.jupyter.widget-view+json": {
       "model_id": "b3085593b9ba4def948f480727807277",
       "version_major": 2,
       "version_minor": 0
      },
      "text/plain": [
       "Output()"
      ]
     },
     "metadata": {},
     "output_type": "display_data"
    }
   ],
   "source": [
    "out4 = widgets.Output()\n",
    "out4"
   ]
  },
  {
   "cell_type": "code",
   "execution_count": 25,
   "metadata": {},
   "outputs": [],
   "source": [
    "def figure_4(start,end):\n",
    "    genericGraph = res2.query(f\"tic>={start} & tic<={end}\").copy()\n",
    "    uniProList = genericGraph['ProjNumber'].unique()\n",
    "    ageIncomeCopy = ageIncome[ageIncome['ProjNumber'].isin(uniProList)].copy()\n",
    "    ageIncomeAgg = ageIncomeCopy.groupby(['simulationState','ageGroup','incomeGroup']).agg({'agentID':'count'}).reset_index()\n",
    "    ageIncomeAgg['Age_income'] = ageIncomeAgg['ageGroup'] + \" \" + ageIncomeAgg['incomeGroup']\n",
    "    ageIncomeAgg.rename(columns={'ageGroup':'Age Group','incomeGroup':'Income Group','agentID':'Count'},inplace=True)\n",
    "\n",
    "    ageIncomeColr = pd.read_excel(colorAgeIncomeExcel,usecols=['Age_income','color'])\n",
    "    ageIncomeColorDict = dict(zip(ageIncomeColr['Age_income'],ageIncomeColr['color']))\n",
    "    title_ = 'Age Group Vs Income Before and After Renewal'\n",
    "    fig = px.scatter(ageIncomeAgg, x=\"Age Group\", y=\"Income Group\",\n",
    "                size=\"Count\",facet_col='simulationState', title=title_,size_max=30,\n",
    "                category_orders={\"Age Group\": [\"Under 65\",\"Above 65\"],\"Income Group\": ['High Income', 'Medium Income', 'Low Income'],\"simulationState\":['Before Renewal','After Renewal']},color='Age_income',color_discrete_map=ageIncomeColorDict,width=700,height=heightD)\n",
    "    fig.update_yaxes(gridwidth=1, gridcolor='#d9d9d9',zerolinewidth=1,zerolinecolor='lightgrey',title='')\n",
    "    fig.update_xaxes(gridwidth=1, gridcolor='#d9d9d9',zerolinewidth=1,zerolinecolor='lightgrey',title='')\n",
    "    fig.update_layout(plot_bgcolor='#f2f7ff')\n",
    "    fig.layout['annotations'][0]['text'] = 'Before Renewal'\n",
    "    fig.layout['annotations'][1]['text'] = 'After Renewal'\n",
    "    fig.update_traces(showlegend=False)\n",
    "    with out4:\n",
    "        out4.clear_output()\n",
    "        fig.show()"
   ]
  },
  {
   "cell_type": "code",
   "execution_count": 26,
   "metadata": {},
   "outputs": [
    {
     "data": {
      "application/vnd.jupyter.widget-view+json": {
       "model_id": "e445846f7d054898bdf11205aa81726a",
       "version_major": 2,
       "version_minor": 0
      },
      "text/plain": [
       "Output()"
      ]
     },
     "metadata": {},
     "output_type": "display_data"
    }
   ],
   "source": [
    "out5 = widgets.Output()\n",
    "out5"
   ]
  },
  {
   "cell_type": "code",
   "execution_count": 27,
   "metadata": {},
   "outputs": [],
   "source": [
    "def figure_5(start,end):\n",
    "    startLine = aggResByTic.query(f'tic=={start}')\n",
    "    endLine = aggResByTic.query(f'tic=={end}')\n",
    "    statsDict = {'aprtmentSizeMean:':{'before':round(startLine['aprtmentSizeMean'].values[0],1),\n",
    "                       'after':round(endLine['aprtmentSizeMean'].values[0],1),\n",
    "                        'title':'Apartment Size',\n",
    "                         'units':'sq meters'},\n",
    "     'yearsInBldgMean:':{'before':round(startLine['yearsInBldgMean'].values[0],1),\n",
    "                       'after':round(endLine['yearsInBldgMean'].values[0],1),\n",
    "                        'title':'Years in Neighborhood',\n",
    "                         'units':'years'},\n",
    "     'CostForStaying:':{'before':round(startLine['CostForStaying'].values[0],1),\n",
    "                       'after':round(endLine['CostForStaying'].values[0],1),\n",
    "                        'title':'Cost For Staying',\n",
    "                         'units':'₪'},\n",
    "     'meanIncomeStay_N_new:':{'before':round(startLine['meanIncomeStay_N_new'].values[0],1),\n",
    "                       'after':round(endLine['meanIncomeStay_N_new'].values[0],1),\n",
    "                        'title':'Mean Income',\n",
    "                         'units':'₪'}\n",
    "    }\n",
    "    htmlText = \"\"\n",
    "    for key in statsDict.keys():\n",
    "        htmlText+=(\"<span><b>\"+f\"{statsDict[key]['title']}</b></span> Start Marker: <b>{statsDict[key]['before']}  {statsDict[key]['units']} </b> End Marker <b> {statsDict[key]['after']} {statsDict[key]['units']}</b><br/>\")\n",
    "    htmlText = \"<div style='font-size:15px'>\"+htmlText+\"</div>\"\n",
    "    Htats = HTML(value=htmlText)\n",
    "    with out5:\n",
    "        out5.clear_output()\n",
    "        display(Htats)"
   ]
  },
  {
   "cell_type": "code",
   "execution_count": 28,
   "metadata": {},
   "outputs": [
    {
     "data": {
      "application/vnd.jupyter.widget-view+json": {
       "model_id": "547fe38e9a93406a9ee9e43345764451",
       "version_major": 2,
       "version_minor": 0
      },
      "text/plain": [
       "Output()"
      ]
     },
     "metadata": {},
     "output_type": "display_data"
    }
   ],
   "source": [
    "out6 = widgets.Output()\n",
    "out6"
   ]
  },
  {
   "cell_type": "code",
   "execution_count": 29,
   "metadata": {},
   "outputs": [],
   "source": [
    "def figure_6(end):\n",
    "    projectMovement = movementsByProject[movementsByProject['Tic']['after']==end]\n",
    "    projType = projectMovement['Type of Project']['after'].values[0]\n",
    "    Leaving_Owners = projectMovement['Leaving Owners']['after'].values[0]\n",
    "    Leaving_Renters = projectMovement['Leaving Renters']['after'].values[0]\n",
    "    New_Owners = projectMovement['New Owners']['after'].values[0]\n",
    "    New_Renters = projectMovement['New Renters']['after'].values[0]\n",
    "    Staying = projectMovement['Staying']['after'].values[0]\n",
    "    Total_Households =New_Owners+New_Renters+Staying\n",
    "    Total_Households_before = projectMovement['Total Households']['before'].values[0]\n",
    "\n",
    "\n",
    "    if projType>1:\n",
    "        bldX =5\n",
    "        bldY = 1.5\n",
    "        oldBldX = 2.5\n",
    "        oldBldY =1.5\n",
    "        outOwnX = 1\n",
    "        outOwnY = 1.25\n",
    "        outRentX = 1\n",
    "        outRentY = 1.85\n",
    "        inOwnX = 4\n",
    "        inOwnY = 2.25\n",
    "        inRentX = 2\n",
    "        inRentY = 2.25\n",
    "        df = pd.DataFrame({'x':[outOwnX,outRentX,oldBldX,oldBldX,inRentX,inOwnX,bldX],\n",
    "                           'y':[outOwnY,outRentY,oldBldY,oldBldY,inRentY,inOwnY,bldY],\n",
    "                           'Agents':[Leaving_Owners,Leaving_Renters,Total_Households_before,Staying,New_Renters,New_Owners,Total_Households],\n",
    "                           'who':['Leaving Owners','Leaving Renters','Total Before','Surviving Owners','New Renters','New Owners','Total After'],\n",
    "                           'color':['cornflowerblue','lightgreen','lemonchiffon','lightskyblue','green','deepskyblue','white']})\n",
    "        colorDict = dict(zip(df['who'],df['color']))\n",
    "        fig = px.scatter(df, x='x', y='y', color=\"who\",color_discrete_map=colorDict,size='Agents',size_max=50)\n",
    "        #building to Leaving Owners\n",
    "        fig.add_annotation(x=outOwnX,y=outOwnY,ax=oldBldX,ay=oldBldY,xref='x',yref='y',axref='x',ayref='y',arrowcolor='lightgray',text='',showarrow=True,arrowhead=3,arrowsize=1,arrowwidth=3)\n",
    "        #Building Leaving Renters\n",
    "        fig.add_annotation(x=outRentX,y=outRentY,ax=oldBldX,ay=oldBldY,xref='x',yref='y',axref='x',ayref='y',arrowcolor='lightgray',text='',showarrow=True,arrowhead=3,arrowsize=1,arrowwidth=3)\n",
    "        #Entering Owners\n",
    "        fig.add_annotation(x=bldX,y=bldY,ax=inOwnX,ay=inOwnY,xref='x',yref='y',axref='x',ayref='y',arrowcolor='lightgray',text='',showarrow=True,arrowhead=3,arrowsize=1,arrowwidth=3)\n",
    "        #Entering Renters\n",
    "        fig.add_annotation(x=bldX,y=bldY,ax=inRentX,ay=inRentY,xref='x',yref='y',axref='x',ayref='y',arrowcolor='lightgray',text='',showarrow=True,arrowhead=3,arrowsize=1,arrowwidth=3)\n",
    "        # From Old Building to New Building\n",
    "        fig.add_annotation(x=bldX,y=bldY,ax=oldBldX,ay=oldBldY,xref='x',yref='y',axref='x',ayref='y',arrowcolor='lightgray',text='',showarrow=True,arrowhead=3,arrowsize=1,arrowwidth=3)\n",
    "\n",
    "\n",
    "    else:\n",
    "        bldX =1.3\n",
    "        bldY = 1.3\n",
    "        outOwnX = 1\n",
    "        outOwnY = 1.25\n",
    "        outRentX = 1.1\n",
    "        outRentY = 1.85\n",
    "        inOwnX = 1.25\n",
    "        inOwnY = 2.25\n",
    "        inRentX = 1.1\n",
    "        inRentY = 2.25\n",
    "        df = pd.DataFrame({'x':[outOwnX,outRentX,bldX,bldX,inRentX,inOwnX,bldX],\n",
    "                           'y':[outOwnY,outRentY,bldY,bldY,inRentY,inRentY,bldY],\n",
    "                           'Agents':[Leaving_Owners,Leaving_Renters,Total_Households_before,Staying,New_Renters,New_Owners,Total_Households],\n",
    "                           'who':['Leaving Owners','Leaving Renters','Total Before','Surviving Owners','New Renters','New Owners','Total After'],\n",
    "                           'color':['cornflowerblue','lightgreen','lemonchiffon','lightskyblue','green','deepskyblue','white']})\n",
    "        colorDict = dict(zip(df['who'],df['color']))\n",
    "        fig = px.scatter(df, x='x', y='y', color=\"who\",color_discrete_map=colorDict,size='Agents',size_max=50)\n",
    "        #building to Leaving Owners\n",
    "        fig.add_annotation(x=outOwnX,y=outOwnY,ax=bldX,ay=bldY,xref='x',yref='y',axref='x',ayref='y',arrowcolor='lightgray',text='',showarrow=True,arrowhead=3,arrowsize=1,arrowwidth=3)\n",
    "        #Building Leaving Renters\n",
    "        fig.add_annotation(x=outRentX,y=outRentY,ax=bldX,ay=bldY,xref='x',yref='y',axref='x',ayref='y',arrowcolor='lightgray',text='',showarrow=True,arrowhead=3,arrowsize=1,arrowwidth=3)\n",
    "        #Entering Owners\n",
    "        fig.add_annotation(x=bldX,y=bldY,ax=inOwnX,ay=inOwnY,xref='x',yref='y',axref='x',ayref='y',arrowcolor='lightgray',text='',showarrow=True,arrowhead=3,arrowsize=1,arrowwidth=3)\n",
    "        #Entering Renters\n",
    "        fig.add_annotation(x=bldX,y=bldY,ax=inRentX,ay=inRentY,xref='x',yref='y',axref='x',ayref='y',arrowcolor='lightgray',text='',showarrow=True,arrowhead=3,arrowsize=1,arrowwidth=3)\n",
    "\n",
    "\n",
    "    #old house to displaced owner\n",
    "\n",
    "\n",
    "    fig.add_trace(go.Scatter(x=df['x'],y=df['y'],text=df['Agents'],mode=\"text\"))\n",
    "\n",
    "    fig.update_layout(\n",
    "        margin=dict(l=0, r=0, b=0),\n",
    "        height=400, width=600,\n",
    "        plot_bgcolor=\"white\",\n",
    "        legend=dict(yanchor=\"top\", y=0.95, xanchor=\"left\", x=0.95)\n",
    "    )\n",
    "    fig.update_traces(marker=dict(line=dict(width=2,color='DarkSlateGrey')))\n",
    "    fig.update_yaxes(visible=False, showticklabels=False)\n",
    "    fig.update_xaxes(visible=False, showticklabels=False)\n",
    "    with out6:\n",
    "        out6.clear_output()\n",
    "        fig.show()"
   ]
  },
  {
   "cell_type": "code",
   "execution_count": 38,
   "metadata": {},
   "outputs": [
    {
     "data": {
      "application/vnd.jupyter.widget-view+json": {
       "model_id": "ebfe72f89c8643a9976a69d2707e5bc3",
       "version_major": 2,
       "version_minor": 0
      },
      "text/plain": [
       "Output()"
      ]
     },
     "metadata": {},
     "output_type": "display_data"
    }
   ],
   "source": [
    "out7 = widgets.Output()\n",
    "out7"
   ]
  },
  {
   "cell_type": "code",
   "execution_count": 31,
   "metadata": {},
   "outputs": [],
   "source": [
    "def figure_7(end):\n",
    "    projectMovement = movementsByProject[movementsByProject['Tic']['after']==end].copy()\n",
    "    projType = projectMovement['Type of Project']['after'].values[0]\n",
    "    bldBefore = projectMovement['bldCode']['before'].values[0]\n",
    "    bldAfter = projectMovement['bldCode']['after'].values[0]\n",
    "    floorsBefore = projectMovement['Avg Floors']['before'].values[0]\n",
    "    floorsAfter = projectMovement['Avg Floors']['after'].values[0]\n",
    "\n",
    "    bldNumList = [i for i in range(1,int(bldBefore)+1)] + [i for i in range(1,int(bldAfter)+1)]\n",
    "    if projType>1:\n",
    "        floorList = [4 for i in range(1,int(bldBefore)+1)] + [floorsAfter for i in range(1,int(bldAfter)+1)]\n",
    "    else:\n",
    "        floorList = [4 for i in range(1,int(bldBefore)+1)] + [floorsAfter-4 for i in range(1,int(bldAfter)+1)]\n",
    "    beforeAfterList = ['Before' for i in range(1,int(bldBefore)+1)]+ ['after' for i in range(1,int(bldAfter)+1)]\n",
    "    df = pd.DataFrame({'bldCount':bldNumList,'beforeAfter':beforeAfterList,'floors':floorList})\n",
    "    if projType>1:\n",
    "        fig = px.bar(df, x='bldCount', y='floors',color='beforeAfter',facet_col='beforeAfter')\n",
    "    else:\n",
    "        fig = px.bar(df, x='bldCount', y='floors',color='beforeAfter')\n",
    "    fig.update_layout(\n",
    "        margin=dict(l=0, r=0, b=0),\n",
    "        height=300, width=600,\n",
    "        plot_bgcolor=\"oldlace\",\n",
    "        legend=dict(yanchor=\"top\", y=0.95, xanchor=\"left\", x=0.05)\n",
    "    )\n",
    "    fig.update_traces(marker=dict(line=dict(width=2,color='DarkSlateGrey')))\n",
    "\n",
    "    with out7:\n",
    "        out7.clear_output()\n",
    "        fig.show()"
   ]
  },
  {
   "cell_type": "code",
   "execution_count": 32,
   "metadata": {},
   "outputs": [
    {
     "data": {
      "application/vnd.jupyter.widget-view+json": {
       "model_id": "b5313bffd00b459cbdbe2001effe7a53",
       "version_major": 2,
       "version_minor": 0
      },
      "text/plain": [
       "Output()"
      ]
     },
     "metadata": {},
     "output_type": "display_data"
    }
   ],
   "source": [
    "out8 = widgets.Output()\n",
    "out8"
   ]
  },
  {
   "cell_type": "code",
   "execution_count": 33,
   "metadata": {},
   "outputs": [],
   "source": [
    "    htmlText = '<iframe src=\"https://technion-gis.maps.arcgis.com/apps/instant/3dviewer/index.html?appid=73d48240324e45eea139ea9e0c2fe6e1\" width=\"800\" height=\"450\" frameborder=\"0\" style=\"border:0\" allowfullscreen>iFrames are not supported on this page.</iframe>'\n",
    "    webAppHTML = HTML(value=htmlText)\n",
    "    with out8:\n",
    "        out8.clear_output()\n",
    "        display(webAppHTML)"
   ]
  },
  {
   "cell_type": "code",
   "execution_count": 34,
   "metadata": {},
   "outputs": [],
   "source": [
    "def webmapSetup():\n",
    "    webmap = gis.content.get('8a44060b70d243179d6dbd38513cfd70')\n",
    "    wm = WebMap(webmap)\n",
    "    map1 = gis.map()\n",
    "    map1.zoom=16\n",
    "    map1.center = [32.028, 34.743]\n",
    "    map1.basemap='dark-gray-vector'\n",
    "    for item in wm.layers[2:]:\n",
    "        add_item = gis.content.get(item['itemId'])\n",
    "        map1.add_layer(add_item)\n",
    "    add_item = gis.content.get('49d0351f66e341d388eb086c8e575720')\n",
    "    map1.add_layer(add_item)\n",
    "    return map1"
   ]
  },
  {
   "cell_type": "code",
   "execution_count": 35,
   "metadata": {},
   "outputs": [],
   "source": [
    "map1 = webmapSetup()"
   ]
  },
  {
   "cell_type": "code",
   "execution_count": 36,
   "metadata": {},
   "outputs": [
    {
     "data": {
      "application/vnd.jupyter.widget-view+json": {
       "model_id": "8de25ef9da30474dbd9db8b693f4a902",
       "version_major": 2,
       "version_minor": 0
      },
      "text/plain": [
       "Output()"
      ]
     },
     "metadata": {},
     "output_type": "display_data"
    }
   ],
   "source": [
    "out9 = widgets.Output()\n",
    "out9\n"
   ]
  },
  {
   "cell_type": "code",
   "execution_count": 37,
   "metadata": {},
   "outputs": [],
   "source": [
    "def figure_9(projRef):\n",
    "    geom = bldgsInwgs84.query(f'project_nu==\"{projRef}\"').copy()\n",
    "    geom['x'] = geom['geometry'].apply(lambda x: x.centroid.x)\n",
    "    geom['y'] = geom['geometry'].apply(lambda x: x.centroid.y)\n",
    "    x = geom['x'].mean()\n",
    "    y = geom['y'].mean()\n",
    "    map1.center = [y,x]\n",
    "    map1.zoom = 17\n",
    "    with out9:\n",
    "        out9.clear_output()\n",
    "        display(map1)\n"
   ]
  },
  {
   "cell_type": "code",
   "execution_count": null,
   "metadata": {},
   "outputs": [],
   "source": []
  }
 ],
 "metadata": {
  "kernelspec": {
   "display_name": "geo_env",
   "language": "python",
   "name": "geo_env"
  },
  "language_info": {
   "codemirror_mode": {
    "name": "ipython",
    "version": 3
   },
   "file_extension": ".py",
   "mimetype": "text/x-python",
   "name": "python",
   "nbconvert_exporter": "python",
   "pygments_lexer": "ipython3",
   "version": "3.7.9"
  },
  "widgets": {
   "application/vnd.jupyter.widget-state+json": {
    "state": {
     "03244bb5f5954205874134632a701e68": {
      "model_module": "@jupyter-widgets/base",
      "model_module_version": "1.2.0",
      "model_name": "LayoutModel",
      "state": {}
     },
     "06043047876244efa49494a2fe8ee15a": {
      "model_module": "@jupyter-widgets/base",
      "model_module_version": "1.2.0",
      "model_name": "LayoutModel",
      "state": {}
     },
     "082bd9882f334ef0bc84db7c6a4bdac4": {
      "model_module": "@jupyter-widgets/base",
      "model_module_version": "1.2.0",
      "model_name": "LayoutModel",
      "state": {}
     },
     "09d37d33f01f48729a9a8d52115a4b54": {
      "model_module": "@jupyter-widgets/controls",
      "model_module_version": "1.5.0",
      "model_name": "HTMLModel",
      "state": {
       "layout": "IPY_MODEL_bf84bb90824c4457b78ccd5a94fb7d26",
       "style": "IPY_MODEL_759d077391a34d21835325d326ef7603",
       "value": "<h2>Execution: 14 &nbsp; Project Number: 20120894<br/> Hebrew Address: ארלוזורוב 8-12, בת ים<br/>Project Type: Addition</h2>"
      }
     },
     "09d93252723247bbaa74824d487e7daa": {
      "model_module": "@jupyter-widgets/controls",
      "model_module_version": "1.5.0",
      "model_name": "DescriptionStyleModel",
      "state": {
       "description_width": ""
      }
     },
     "0c28d55e3da84874abb28cd3f477ba6c": {
      "model_module": "@jupyter-widgets/controls",
      "model_module_version": "1.5.0",
      "model_name": "HTMLModel",
      "state": {
       "layout": "IPY_MODEL_edee74157e89499f99a6be88af646cbf",
       "style": "IPY_MODEL_2c97424192364ee69e1f0caa92ab2f3f",
       "value": "<h2>Execution: 1 &nbsp; Project Number: 20180988<br/> Hebrew Address: הרצל 19, בת ים<br/>Project Type: Addition</h2>"
      }
     },
     "0da32c681f7040c7b67989ac7141ee1f": {
      "model_module": "@jupyter-widgets/base",
      "model_module_version": "1.2.0",
      "model_name": "LayoutModel",
      "state": {
       "height": "400px",
       "width": "100%"
      }
     },
     "0f045f83a5cc4f52aa137da4c77044df": {
      "model_module": "@jupyter-widgets/controls",
      "model_module_version": "1.5.0",
      "model_name": "HTMLModel",
      "state": {
       "layout": "IPY_MODEL_8379c0b56f374900bacd3fa990a02757",
       "style": "IPY_MODEL_d57a65d99ded48e3a22de2f07d1a1d58",
       "value": "<div style='font-size:15px'><span><b>Apartment Size</b></span> Start Marker: <b>77.2  sq meters </b> End Marker <b> 86.8 sq meters</b><br/><span><b>Years in Neighborhood</b></span> Start Marker: <b>19.0  years </b> End Marker <b> 8.5 years</b><br/><span><b>Cost For Staying</b></span> Start Marker: <b>1351.5  ₪ </b> End Marker <b> 4810.9 ₪</b><br/><span><b>Mean Income</b></span> Start Marker: <b>10086.3  ₪ </b> End Marker <b> 17208.7 ₪</b><br/></div>"
      }
     },
     "0ffe4907a3c344608fe03bdf57477eac": {
      "model_module": "@jupyter-widgets/base",
      "model_module_version": "1.2.0",
      "model_name": "LayoutModel",
      "state": {}
     },
     "101d5f65a30e4698a13697dae197f5ae": {
      "model_module": "@jupyter-widgets/base",
      "model_module_version": "1.2.0",
      "model_name": "LayoutModel",
      "state": {
       "width": "100%"
      }
     },
     "10ecdf0889454b5e9326e8e9de4e95ab": {
      "model_module": "@jupyter-widgets/base",
      "model_module_version": "1.2.0",
      "model_name": "LayoutModel",
      "state": {}
     },
     "1170760ed5904cb3866309c625b8eb8f": {
      "model_module": "@jupyter-widgets/controls",
      "model_module_version": "1.5.0",
      "model_name": "ButtonStyleModel",
      "state": {}
     },
     "1538157e33b44c349b84212774ee98c2": {
      "model_module": "@jupyter-widgets/base",
      "model_module_version": "1.2.0",
      "model_name": "LayoutModel",
      "state": {}
     },
     "15556b13935743d697bb5ff3d59cef4a": {
      "model_module": "@jupyter-widgets/controls",
      "model_module_version": "1.5.0",
      "model_name": "ButtonModel",
      "state": {
       "description": "Submit",
       "layout": "IPY_MODEL_6e377145db4b425fac88386b686a8a64",
       "style": "IPY_MODEL_6c6d766b630244cd92ca3f4462c9bf2c"
      }
     },
     "18990c88b9cc453481d36bc12c5f2076": {
      "model_module": "@jupyter-widgets/controls",
      "model_module_version": "1.5.0",
      "model_name": "HTMLModel",
      "state": {
       "layout": "IPY_MODEL_f957db32605a4d0e8d0b18b0f9961b35",
       "style": "IPY_MODEL_d521f9b7b04b4ab390f363602b4a9a36",
       "value": "<div style='font-size:15px'><span><b>Apartment Size</b></span> Start Marker: <b>77.2  sq meters </b> End Marker <b> 87.5 sq meters</b><br/><span><b>Years in Neighborhood</b></span> Start Marker: <b>19.0  years </b> End Marker <b> 7.2 years</b><br/><span><b>Cost For Staying</b></span> Start Marker: <b>1351.5  ₪ </b> End Marker <b> 5191.0 ₪</b><br/><span><b>Mean Income</b></span> Start Marker: <b>10086.3  ₪ </b> End Marker <b> 17915.0 ₪</b><br/></div>"
      }
     },
     "1a210ac86c234d5aba9502b5bd4bfe85": {
      "model_module": "@jupyter-widgets/base",
      "model_module_version": "1.2.0",
      "model_name": "LayoutModel",
      "state": {}
     },
     "1cf818329bfd40248cdd4494a0a3201a": {
      "model_module": "@jupyter-widgets/controls",
      "model_module_version": "1.5.0",
      "model_name": "HTMLModel",
      "state": {
       "layout": "IPY_MODEL_53d2777208024610bd39bd75b5c3dd85",
       "style": "IPY_MODEL_98cdf2fa422d498d8b9fbd14a5dbcc07",
       "value": "<h2>Execution: 14 &nbsp; Project Number: 20120894<br/> Hebrew Address: ארלוזורוב 8-12, בת ים<br/>Project Type: Addition</h2>"
      }
     },
     "1d442e8857f94c588a855553bda401d9": {
      "model_module": "@jupyter-widgets/controls",
      "model_module_version": "1.5.0",
      "model_name": "DescriptionStyleModel",
      "state": {
       "description_width": ""
      }
     },
     "1d7047c0ea5244da8f1dbac52285801c": {
      "model_module": "@jupyter-widgets/controls",
      "model_module_version": "1.5.0",
      "model_name": "HTMLModel",
      "state": {
       "layout": "IPY_MODEL_a2554be50ffc4a96b653be04f738a839",
       "style": "IPY_MODEL_56342c2c96a84e708a0d541acb035271",
       "value": "<h2>Execution: 8 &nbsp; Project Number: 20170076<br/> Hebrew Address: חנה סנש 19, בת ים<br/>Project Type: Reconstruction</h2>"
      }
     },
     "1e344602caa94092be5044b4a557f2ea": {
      "model_module": "@jupyter-widgets/controls",
      "model_module_version": "1.5.0",
      "model_name": "HTMLModel",
      "state": {
       "layout": "IPY_MODEL_a779da4f80694e278af82752455593f5",
       "style": "IPY_MODEL_c5353410bc664d7bb7bfa35a3b69a2f9",
       "value": "<h2>Execution: 18 &nbsp; Project Number: 20140467<br/> Hebrew Address: אבא ברדיצב 5, בת ים<br/>Project Type: Addition</h2>"
      }
     },
     "1f2ef83cf331417f85f6365cd36e9186": {
      "model_module": "@jupyter-widgets/controls",
      "model_module_version": "1.5.0",
      "model_name": "HTMLModel",
      "state": {
       "layout": "IPY_MODEL_8bbbfbf63f9746febf96861718b73efd",
       "style": "IPY_MODEL_5d63d0b0acc84edda4c2b3a3e6f1a101",
       "value": "<div style='font-size:15px'><span><b>Apartment Size</b></span> Start Marker: <b>75.6  sq meters </b> End Marker <b> 77.3 sq meters</b><br/><span><b>Years in Neighborhood</b></span> Start Marker: <b>22.1  years </b> End Marker <b> 16.6 years</b><br/><span><b>Cost For Staying</b></span> Start Marker: <b>441.1  ₪ </b> End Marker <b> 1989.8 ₪</b><br/><span><b>Mean Income</b></span> Start Marker: <b>8504.2  ₪ </b> End Marker <b> 11267.1 ₪</b><br/></div>"
      }
     },
     "23bf12fad2d74c5ba9d55f71b5f28b5f": {
      "model_module": "@jupyter-widgets/base",
      "model_module_version": "1.2.0",
      "model_name": "LayoutModel",
      "state": {}
     },
     "27100e792d8a4d88a88d8c8536fd0a46": {
      "model_module": "@jupyter-widgets/controls",
      "model_module_version": "1.5.0",
      "model_name": "HTMLModel",
      "state": {
       "layout": "IPY_MODEL_1a210ac86c234d5aba9502b5bd4bfe85",
       "style": "IPY_MODEL_4722c11452c945f6b5d9d629d6cadc6f",
       "value": "<h2>Execution: 14 &nbsp; Project Number: 20120894<br/> Hebrew Address: ארלוזורוב 8-12, בת ים<br/>Project Type: Addition</h2>"
      }
     },
     "27917789b85445fdb80e4acb8b98be09": {
      "model_module": "@jupyter-widgets/base",
      "model_module_version": "1.2.0",
      "model_name": "LayoutModel",
      "state": {}
     },
     "299defab704a4cbd8f818b8c85a191f4": {
      "model_module": "@jupyter-widgets/controls",
      "model_module_version": "1.5.0",
      "model_name": "DescriptionStyleModel",
      "state": {
       "description_width": ""
      }
     },
     "29a61a1a05234e7ea76b9103210d7b93": {
      "model_module": "@jupyter-widgets/controls",
      "model_module_version": "1.5.0",
      "model_name": "DescriptionStyleModel",
      "state": {
       "description_width": ""
      }
     },
     "2a29a0982762452eb0a1f93527b4f2ba": {
      "model_module": "@jupyter-widgets/base",
      "model_module_version": "1.2.0",
      "model_name": "LayoutModel",
      "state": {}
     },
     "2c555fce5570459a9ecd6651920e2208": {
      "model_module": "@jupyter-widgets/controls",
      "model_module_version": "1.5.0",
      "model_name": "VBoxModel",
      "state": {
       "_dom_classes": [
        "widget-interact"
       ],
       "children": [
        "IPY_MODEL_8b96c0c2777d4b90a9e75b1d6616e6fd",
        "IPY_MODEL_6686f0936c184b1fb48e5f97f050e216",
        "IPY_MODEL_3f9ce9b65b3044d093bb440b2a4098ba"
       ],
       "layout": "IPY_MODEL_03244bb5f5954205874134632a701e68"
      }
     },
     "2c97424192364ee69e1f0caa92ab2f3f": {
      "model_module": "@jupyter-widgets/controls",
      "model_module_version": "1.5.0",
      "model_name": "DescriptionStyleModel",
      "state": {
       "description_width": ""
      }
     },
     "39c54d2cfa8e44c783886f90361c30d8": {
      "model_module": "@jupyter-widgets/controls",
      "model_module_version": "1.5.0",
      "model_name": "HTMLModel",
      "state": {
       "layout": "IPY_MODEL_082bd9882f334ef0bc84db7c6a4bdac4",
       "style": "IPY_MODEL_8658250a37b04111a01002311a5c872b",
       "value": "<div style='font-size:15px'><span><b>Apartment Size</b></span> Start Marker: <b>75.6  sq meters </b> End Marker <b> 86.8 sq meters</b><br/><span><b>Years in Neighborhood</b></span> Start Marker: <b>22.1  years </b> End Marker <b> 8.5 years</b><br/><span><b>Cost For Staying</b></span> Start Marker: <b>441.1  ₪ </b> End Marker <b> 4810.9 ₪</b><br/><span><b>Mean Income</b></span> Start Marker: <b>8504.2  ₪ </b> End Marker <b> 17208.7 ₪</b><br/></div>"
      }
     },
     "3a6ce7a7975b441dbd9c8a729ec33251": {
      "model_module": "@jupyter-widgets/controls",
      "model_module_version": "1.5.0",
      "model_name": "DescriptionStyleModel",
      "state": {
       "description_width": ""
      }
     },
     "3cfa2291de934b538e91c8b67c404c55": {
      "model_module": "@jupyter-widgets/controls",
      "model_module_version": "1.5.0",
      "model_name": "HTMLModel",
      "state": {
       "layout": "IPY_MODEL_7357a3b8152248d6a3d03148f6e6b0c9",
       "style": "IPY_MODEL_d3ef7f49de944289b68c7f3f80d8f2a4",
       "value": "<iframe src=\"https://technion-gis.maps.arcgis.com/apps/instant/3dviewer/index.html?appid=73d48240324e45eea139ea9e0c2fe6e1\" width=\"800\" height=\"450\" frameborder=\"0\" style=\"border:0\" allowfullscreen>iFrames are not supported on this page.</iframe>"
      }
     },
     "3f798c204d804d45834a378f99be670f": {
      "model_module": "@jupyter-widgets/output",
      "model_module_version": "1.0.0",
      "model_name": "OutputModel",
      "state": {
       "layout": "IPY_MODEL_811223566cfa472fa98b14d14d31ee36",
       "outputs": [
        {
         "data": {
          "application/vnd.jupyter.widget-view+json": {
           "model_id": "",
           "version_major": 2,
           "version_minor": 0
          },
          "text/plain": "HTML(value='<h2>Execution: 18 &nbsp; Project Number: 20140467<br/> Hebrew Address: אבא ברדיצב 5, בת ים<br/>Pro…"
         },
         "metadata": {},
         "output_type": "display_data"
        },
        {
         "ename": "IndexError",
         "evalue": "list index out of range",
         "output_type": "error",
         "traceback": [
          "\u001b[0;31m---------------------------------------------------------------------------\u001b[0m",
          "\u001b[0;31mIndexError\u001b[0m                                Traceback (most recent call last)",
          "\u001b[0;32m~/anaconda3/envs/geo_env/lib/python3.7/site-packages/ipywidgets/widgets/interaction.py\u001b[0m in \u001b[0;36mupdate\u001b[0;34m(self, *args)\u001b[0m\n\u001b[1;32m    254\u001b[0m                     \u001b[0mvalue\u001b[0m \u001b[0;34m=\u001b[0m \u001b[0mwidget\u001b[0m\u001b[0;34m.\u001b[0m\u001b[0mget_interact_value\u001b[0m\u001b[0;34m(\u001b[0m\u001b[0;34m)\u001b[0m\u001b[0;34m\u001b[0m\u001b[0;34m\u001b[0m\u001b[0m\n\u001b[1;32m    255\u001b[0m                     \u001b[0mself\u001b[0m\u001b[0;34m.\u001b[0m\u001b[0mkwargs\u001b[0m\u001b[0;34m[\u001b[0m\u001b[0mwidget\u001b[0m\u001b[0;34m.\u001b[0m\u001b[0m_kwarg\u001b[0m\u001b[0;34m]\u001b[0m \u001b[0;34m=\u001b[0m \u001b[0mvalue\u001b[0m\u001b[0;34m\u001b[0m\u001b[0;34m\u001b[0m\u001b[0m\n\u001b[0;32m--> 256\u001b[0;31m                 \u001b[0mself\u001b[0m\u001b[0;34m.\u001b[0m\u001b[0mresult\u001b[0m \u001b[0;34m=\u001b[0m \u001b[0mself\u001b[0m\u001b[0;34m.\u001b[0m\u001b[0mf\u001b[0m\u001b[0;34m(\u001b[0m\u001b[0;34m**\u001b[0m\u001b[0mself\u001b[0m\u001b[0;34m.\u001b[0m\u001b[0mkwargs\u001b[0m\u001b[0;34m)\u001b[0m\u001b[0;34m\u001b[0m\u001b[0;34m\u001b[0m\u001b[0m\n\u001b[0m\u001b[1;32m    257\u001b[0m                 \u001b[0mshow_inline_matplotlib_plots\u001b[0m\u001b[0;34m(\u001b[0m\u001b[0;34m)\u001b[0m\u001b[0;34m\u001b[0m\u001b[0;34m\u001b[0m\u001b[0m\n\u001b[1;32m    258\u001b[0m                 \u001b[0;32mif\u001b[0m \u001b[0mself\u001b[0m\u001b[0;34m.\u001b[0m\u001b[0mauto_display\u001b[0m \u001b[0;32mand\u001b[0m \u001b[0mself\u001b[0m\u001b[0;34m.\u001b[0m\u001b[0mresult\u001b[0m \u001b[0;32mis\u001b[0m \u001b[0;32mnot\u001b[0m \u001b[0;32mNone\u001b[0m\u001b[0;34m:\u001b[0m\u001b[0;34m\u001b[0m\u001b[0;34m\u001b[0m\u001b[0m\n",
          "\u001b[0;32m<ipython-input-48-9ab48ad7ae09>\u001b[0m in \u001b[0;36mg\u001b[0;34m(x)\u001b[0m\n\u001b[1;32m     20\u001b[0m         \u001b[0mfigure_6\u001b[0m\u001b[0;34m(\u001b[0m\u001b[0mlastTic\u001b[0m\u001b[0;34m)\u001b[0m\u001b[0;34m\u001b[0m\u001b[0;34m\u001b[0m\u001b[0m\n\u001b[1;32m     21\u001b[0m         \u001b[0mfigure_7\u001b[0m\u001b[0;34m(\u001b[0m\u001b[0mlastTic\u001b[0m\u001b[0;34m)\u001b[0m\u001b[0;34m\u001b[0m\u001b[0;34m\u001b[0m\u001b[0m\n\u001b[0;32m---> 22\u001b[0;31m         \u001b[0mfigure_9\u001b[0m\u001b[0;34m(\u001b[0m\u001b[0mprojectNum\u001b[0m\u001b[0;34m)\u001b[0m\u001b[0;34m\u001b[0m\u001b[0;34m\u001b[0m\u001b[0m\n\u001b[0m\u001b[1;32m     23\u001b[0m \u001b[0;34m\u001b[0m\u001b[0m\n\u001b[1;32m     24\u001b[0m     \u001b[0;32melse\u001b[0m\u001b[0;34m:\u001b[0m\u001b[0;34m\u001b[0m\u001b[0;34m\u001b[0m\u001b[0m\n",
          "\u001b[0;32m<ipython-input-37-3890185178dc>\u001b[0m in \u001b[0;36mfigure_9\u001b[0;34m(projRef)\u001b[0m\n\u001b[1;32m      1\u001b[0m \u001b[0;32mdef\u001b[0m \u001b[0mfigure_9\u001b[0m\u001b[0;34m(\u001b[0m\u001b[0mprojRef\u001b[0m\u001b[0;34m)\u001b[0m\u001b[0;34m:\u001b[0m\u001b[0;34m\u001b[0m\u001b[0;34m\u001b[0m\u001b[0m\n\u001b[1;32m      2\u001b[0m     \u001b[0mgeom\u001b[0m \u001b[0;34m=\u001b[0m \u001b[0mbldgsInwgs84\u001b[0m\u001b[0;34m.\u001b[0m\u001b[0mquery\u001b[0m\u001b[0;34m(\u001b[0m\u001b[0;34mf'project_nu==\"{projRef}\"'\u001b[0m\u001b[0;34m)\u001b[0m\u001b[0;34m.\u001b[0m\u001b[0mcopy\u001b[0m\u001b[0;34m(\u001b[0m\u001b[0;34m)\u001b[0m\u001b[0;34m\u001b[0m\u001b[0;34m\u001b[0m\u001b[0m\n\u001b[0;32m----> 3\u001b[0;31m     \u001b[0mgeom\u001b[0m\u001b[0;34m[\u001b[0m\u001b[0;34m'x'\u001b[0m\u001b[0;34m]\u001b[0m \u001b[0;34m=\u001b[0m \u001b[0mgeom\u001b[0m\u001b[0;34m[\u001b[0m\u001b[0;34m'geometry'\u001b[0m\u001b[0;34m]\u001b[0m\u001b[0;34m.\u001b[0m\u001b[0mapply\u001b[0m\u001b[0;34m(\u001b[0m\u001b[0;32mlambda\u001b[0m \u001b[0mx\u001b[0m\u001b[0;34m:\u001b[0m \u001b[0mx\u001b[0m\u001b[0;34m.\u001b[0m\u001b[0mcentroid\u001b[0m\u001b[0;34m.\u001b[0m\u001b[0mx\u001b[0m\u001b[0;34m)\u001b[0m\u001b[0;34m\u001b[0m\u001b[0;34m\u001b[0m\u001b[0m\n\u001b[0m\u001b[1;32m      4\u001b[0m     \u001b[0mgeom\u001b[0m\u001b[0;34m[\u001b[0m\u001b[0;34m'y'\u001b[0m\u001b[0;34m]\u001b[0m \u001b[0;34m=\u001b[0m \u001b[0mgeom\u001b[0m\u001b[0;34m[\u001b[0m\u001b[0;34m'geometry'\u001b[0m\u001b[0;34m]\u001b[0m\u001b[0;34m.\u001b[0m\u001b[0mapply\u001b[0m\u001b[0;34m(\u001b[0m\u001b[0;32mlambda\u001b[0m \u001b[0mx\u001b[0m\u001b[0;34m:\u001b[0m \u001b[0mx\u001b[0m\u001b[0;34m.\u001b[0m\u001b[0mcentroid\u001b[0m\u001b[0;34m.\u001b[0m\u001b[0my\u001b[0m\u001b[0;34m)\u001b[0m\u001b[0;34m\u001b[0m\u001b[0;34m\u001b[0m\u001b[0m\n\u001b[1;32m      5\u001b[0m     \u001b[0mx\u001b[0m \u001b[0;34m=\u001b[0m \u001b[0mgeom\u001b[0m\u001b[0;34m[\u001b[0m\u001b[0;34m'x'\u001b[0m\u001b[0;34m]\u001b[0m\u001b[0;34m.\u001b[0m\u001b[0mmean\u001b[0m\u001b[0;34m(\u001b[0m\u001b[0;34m)\u001b[0m\u001b[0;34m\u001b[0m\u001b[0;34m\u001b[0m\u001b[0m\n",
          "\u001b[0;32m~/anaconda3/envs/geo_env/lib/python3.7/site-packages/geopandas/geoseries.py\u001b[0m in \u001b[0;36mapply\u001b[0;34m(self, func, args, **kwargs)\u001b[0m\n\u001b[1;32m    317\u001b[0m     \u001b[0;34m@\u001b[0m\u001b[0minherit_doc\u001b[0m\u001b[0;34m(\u001b[0m\u001b[0mpd\u001b[0m\u001b[0;34m.\u001b[0m\u001b[0mSeries\u001b[0m\u001b[0;34m)\u001b[0m\u001b[0;34m\u001b[0m\u001b[0;34m\u001b[0m\u001b[0m\n\u001b[1;32m    318\u001b[0m     \u001b[0;32mdef\u001b[0m \u001b[0mapply\u001b[0m\u001b[0;34m(\u001b[0m\u001b[0mself\u001b[0m\u001b[0;34m,\u001b[0m \u001b[0mfunc\u001b[0m\u001b[0;34m,\u001b[0m \u001b[0margs\u001b[0m\u001b[0;34m=\u001b[0m\u001b[0;34m(\u001b[0m\u001b[0;34m)\u001b[0m\u001b[0;34m,\u001b[0m \u001b[0;34m**\u001b[0m\u001b[0mkwargs\u001b[0m\u001b[0;34m)\u001b[0m\u001b[0;34m:\u001b[0m\u001b[0;34m\u001b[0m\u001b[0;34m\u001b[0m\u001b[0m\n\u001b[0;32m--> 319\u001b[0;31m         \u001b[0mresult\u001b[0m \u001b[0;34m=\u001b[0m \u001b[0msuper\u001b[0m\u001b[0;34m(\u001b[0m\u001b[0;34m)\u001b[0m\u001b[0;34m.\u001b[0m\u001b[0mapply\u001b[0m\u001b[0;34m(\u001b[0m\u001b[0mfunc\u001b[0m\u001b[0;34m,\u001b[0m \u001b[0margs\u001b[0m\u001b[0;34m=\u001b[0m\u001b[0margs\u001b[0m\u001b[0;34m,\u001b[0m \u001b[0;34m**\u001b[0m\u001b[0mkwargs\u001b[0m\u001b[0;34m)\u001b[0m\u001b[0;34m\u001b[0m\u001b[0;34m\u001b[0m\u001b[0m\n\u001b[0m\u001b[1;32m    320\u001b[0m         \u001b[0;32mif\u001b[0m \u001b[0misinstance\u001b[0m\u001b[0;34m(\u001b[0m\u001b[0mresult\u001b[0m\u001b[0;34m,\u001b[0m \u001b[0mGeoSeries\u001b[0m\u001b[0;34m)\u001b[0m\u001b[0;34m:\u001b[0m\u001b[0;34m\u001b[0m\u001b[0;34m\u001b[0m\u001b[0m\n\u001b[1;32m    321\u001b[0m             \u001b[0;32mif\u001b[0m \u001b[0mself\u001b[0m\u001b[0;34m.\u001b[0m\u001b[0mcrs\u001b[0m \u001b[0;32mis\u001b[0m \u001b[0;32mnot\u001b[0m \u001b[0;32mNone\u001b[0m\u001b[0;34m:\u001b[0m\u001b[0;34m\u001b[0m\u001b[0;34m\u001b[0m\u001b[0m\n",
          "\u001b[0;32m~/anaconda3/envs/geo_env/lib/python3.7/site-packages/pandas/core/series.py\u001b[0m in \u001b[0;36mapply\u001b[0;34m(self, func, convert_dtype, args, **kwds)\u001b[0m\n\u001b[1;32m   4106\u001b[0m             \u001b[0;32melse\u001b[0m\u001b[0;34m:\u001b[0m\u001b[0;34m\u001b[0m\u001b[0;34m\u001b[0m\u001b[0m\n\u001b[1;32m   4107\u001b[0m                 \u001b[0mvalues\u001b[0m \u001b[0;34m=\u001b[0m \u001b[0mself\u001b[0m\u001b[0;34m.\u001b[0m\u001b[0mastype\u001b[0m\u001b[0;34m(\u001b[0m\u001b[0mobject\u001b[0m\u001b[0;34m)\u001b[0m\u001b[0;34m.\u001b[0m\u001b[0m_values\u001b[0m\u001b[0;34m\u001b[0m\u001b[0;34m\u001b[0m\u001b[0m\n\u001b[0;32m-> 4108\u001b[0;31m                 \u001b[0mmapped\u001b[0m \u001b[0;34m=\u001b[0m \u001b[0mlib\u001b[0m\u001b[0;34m.\u001b[0m\u001b[0mmap_infer\u001b[0m\u001b[0;34m(\u001b[0m\u001b[0mvalues\u001b[0m\u001b[0;34m,\u001b[0m \u001b[0mf\u001b[0m\u001b[0;34m,\u001b[0m \u001b[0mconvert\u001b[0m\u001b[0;34m=\u001b[0m\u001b[0mconvert_dtype\u001b[0m\u001b[0;34m)\u001b[0m\u001b[0;34m\u001b[0m\u001b[0;34m\u001b[0m\u001b[0m\n\u001b[0m\u001b[1;32m   4109\u001b[0m \u001b[0;34m\u001b[0m\u001b[0m\n\u001b[1;32m   4110\u001b[0m         \u001b[0;32mif\u001b[0m \u001b[0mlen\u001b[0m\u001b[0;34m(\u001b[0m\u001b[0mmapped\u001b[0m\u001b[0;34m)\u001b[0m \u001b[0;32mand\u001b[0m \u001b[0misinstance\u001b[0m\u001b[0;34m(\u001b[0m\u001b[0mmapped\u001b[0m\u001b[0;34m[\u001b[0m\u001b[0;36m0\u001b[0m\u001b[0;34m]\u001b[0m\u001b[0;34m,\u001b[0m \u001b[0mSeries\u001b[0m\u001b[0;34m)\u001b[0m\u001b[0;34m:\u001b[0m\u001b[0;34m\u001b[0m\u001b[0;34m\u001b[0m\u001b[0m\n",
          "\u001b[0;32mpandas/_libs/lib.pyx\u001b[0m in \u001b[0;36mpandas._libs.lib.map_infer\u001b[0;34m()\u001b[0m\n",
          "\u001b[0;32m<ipython-input-37-3890185178dc>\u001b[0m in \u001b[0;36m<lambda>\u001b[0;34m(x)\u001b[0m\n\u001b[1;32m      1\u001b[0m \u001b[0;32mdef\u001b[0m \u001b[0mfigure_9\u001b[0m\u001b[0;34m(\u001b[0m\u001b[0mprojRef\u001b[0m\u001b[0;34m)\u001b[0m\u001b[0;34m:\u001b[0m\u001b[0;34m\u001b[0m\u001b[0;34m\u001b[0m\u001b[0m\n\u001b[1;32m      2\u001b[0m     \u001b[0mgeom\u001b[0m \u001b[0;34m=\u001b[0m \u001b[0mbldgsInwgs84\u001b[0m\u001b[0;34m.\u001b[0m\u001b[0mquery\u001b[0m\u001b[0;34m(\u001b[0m\u001b[0;34mf'project_nu==\"{projRef}\"'\u001b[0m\u001b[0;34m)\u001b[0m\u001b[0;34m.\u001b[0m\u001b[0mcopy\u001b[0m\u001b[0;34m(\u001b[0m\u001b[0;34m)\u001b[0m\u001b[0;34m\u001b[0m\u001b[0;34m\u001b[0m\u001b[0m\n\u001b[0;32m----> 3\u001b[0;31m     \u001b[0mgeom\u001b[0m\u001b[0;34m[\u001b[0m\u001b[0;34m'x'\u001b[0m\u001b[0;34m]\u001b[0m \u001b[0;34m=\u001b[0m \u001b[0mgeom\u001b[0m\u001b[0;34m[\u001b[0m\u001b[0;34m'geometry'\u001b[0m\u001b[0;34m]\u001b[0m\u001b[0;34m.\u001b[0m\u001b[0mapply\u001b[0m\u001b[0;34m(\u001b[0m\u001b[0;32mlambda\u001b[0m \u001b[0mx\u001b[0m\u001b[0;34m:\u001b[0m \u001b[0mx\u001b[0m\u001b[0;34m.\u001b[0m\u001b[0mcentroid\u001b[0m\u001b[0;34m.\u001b[0m\u001b[0mx\u001b[0m\u001b[0;34m)\u001b[0m\u001b[0;34m\u001b[0m\u001b[0;34m\u001b[0m\u001b[0m\n\u001b[0m\u001b[1;32m      4\u001b[0m     \u001b[0mgeom\u001b[0m\u001b[0;34m[\u001b[0m\u001b[0;34m'y'\u001b[0m\u001b[0;34m]\u001b[0m \u001b[0;34m=\u001b[0m \u001b[0mgeom\u001b[0m\u001b[0;34m[\u001b[0m\u001b[0;34m'geometry'\u001b[0m\u001b[0;34m]\u001b[0m\u001b[0;34m.\u001b[0m\u001b[0mapply\u001b[0m\u001b[0;34m(\u001b[0m\u001b[0;32mlambda\u001b[0m \u001b[0mx\u001b[0m\u001b[0;34m:\u001b[0m \u001b[0mx\u001b[0m\u001b[0;34m.\u001b[0m\u001b[0mcentroid\u001b[0m\u001b[0;34m.\u001b[0m\u001b[0my\u001b[0m\u001b[0;34m)\u001b[0m\u001b[0;34m\u001b[0m\u001b[0;34m\u001b[0m\u001b[0m\n\u001b[1;32m      5\u001b[0m     \u001b[0mx\u001b[0m \u001b[0;34m=\u001b[0m \u001b[0mgeom\u001b[0m\u001b[0;34m[\u001b[0m\u001b[0;34m'x'\u001b[0m\u001b[0;34m]\u001b[0m\u001b[0;34m.\u001b[0m\u001b[0mmean\u001b[0m\u001b[0;34m(\u001b[0m\u001b[0;34m)\u001b[0m\u001b[0;34m\u001b[0m\u001b[0;34m\u001b[0m\u001b[0m\n",
          "\u001b[0;32m~/anaconda3/envs/geo_env/lib/python3.7/site-packages/shapely/geometry/point.py\u001b[0m in \u001b[0;36mx\u001b[0;34m(self)\u001b[0m\n\u001b[1;32m     53\u001b[0m     \u001b[0;32mdef\u001b[0m \u001b[0mx\u001b[0m\u001b[0;34m(\u001b[0m\u001b[0mself\u001b[0m\u001b[0;34m)\u001b[0m\u001b[0;34m:\u001b[0m\u001b[0;34m\u001b[0m\u001b[0;34m\u001b[0m\u001b[0m\n\u001b[1;32m     54\u001b[0m         \u001b[0;34m\"\"\"Return x coordinate.\"\"\"\u001b[0m\u001b[0;34m\u001b[0m\u001b[0;34m\u001b[0m\u001b[0m\n\u001b[0;32m---> 55\u001b[0;31m         \u001b[0;32mreturn\u001b[0m \u001b[0mself\u001b[0m\u001b[0;34m.\u001b[0m\u001b[0mcoords\u001b[0m\u001b[0;34m[\u001b[0m\u001b[0;36m0\u001b[0m\u001b[0;34m]\u001b[0m\u001b[0;34m[\u001b[0m\u001b[0;36m0\u001b[0m\u001b[0;34m]\u001b[0m\u001b[0;34m\u001b[0m\u001b[0;34m\u001b[0m\u001b[0m\n\u001b[0m\u001b[1;32m     56\u001b[0m \u001b[0;34m\u001b[0m\u001b[0m\n\u001b[1;32m     57\u001b[0m     \u001b[0;34m@\u001b[0m\u001b[0mproperty\u001b[0m\u001b[0;34m\u001b[0m\u001b[0;34m\u001b[0m\u001b[0m\n",
          "\u001b[0;31mIndexError\u001b[0m: list index out of range"
         ]
        }
       ]
      }
     },
     "3f9ce9b65b3044d093bb440b2a4098ba": {
      "model_module": "@jupyter-widgets/output",
      "model_module_version": "1.0.0",
      "model_name": "OutputModel",
      "state": {
       "layout": "IPY_MODEL_dc25479ef35e407798bc62e0672576db",
       "outputs": [
        {
         "data": {
          "application/vnd.jupyter.widget-view+json": {
           "model_id": "435e6324b3ae46dba784e9f1b517738f",
           "version_major": 2,
           "version_minor": 0
          },
          "text/plain": "HTML(value='<h2>Execution: 18 &nbsp; Project Number: 20140467<br/> Hebrew Address: אבא ברדיצב 5, בת ים<br/>Pro…"
         },
         "metadata": {},
         "output_type": "display_data"
        }
       ]
      }
     },
     "40039595397b4ba0b261590f3fde015f": {
      "model_module": "@jupyter-widgets/base",
      "model_module_version": "1.2.0",
      "model_name": "LayoutModel",
      "state": {}
     },
     "419254d9872049d9bdc5565224fdddbf": {
      "model_module": "@jupyter-widgets/base",
      "model_module_version": "1.2.0",
      "model_name": "LayoutModel",
      "state": {}
     },
     "435e6324b3ae46dba784e9f1b517738f": {
      "model_module": "@jupyter-widgets/controls",
      "model_module_version": "1.5.0",
      "model_name": "HTMLModel",
      "state": {
       "layout": "IPY_MODEL_c3c158c95b47403f877a633e38b65aad",
       "style": "IPY_MODEL_ebf70f4c88154726b81a119cc14fe7e6",
       "value": "<h2>Execution: 18 &nbsp; Project Number: 20140467<br/> Hebrew Address: אבא ברדיצב 5, בת ים<br/>Project Type: Addition</h2>"
      }
     },
     "439af90502684ef28aaf4fd8fb9264b8": {
      "model_module": "@jupyter-widgets/controls",
      "model_module_version": "1.5.0",
      "model_name": "HTMLModel",
      "state": {
       "layout": "IPY_MODEL_73d3e2fc454d4b99ad21fccfdfc663a2",
       "style": "IPY_MODEL_c1f204013eda437cbbd42495b40c4340",
       "value": "<div style='font-size:15px'><span><b>Apartment Size</b></span> Start Marker: <b>75.6  sq meters </b> End Marker <b> 86.5 sq meters</b><br/><span><b>Years in Neighborhood</b></span> Start Marker: <b>22.1  years </b> End Marker <b> 9.4 years</b><br/><span><b>Cost For Staying</b></span> Start Marker: <b>441.1  ₪ </b> End Marker <b> 4533.6 ₪</b><br/><span><b>Mean Income</b></span> Start Marker: <b>8504.2  ₪ </b> End Marker <b> 16736.6 ₪</b><br/></div>"
      }
     },
     "45adecdec952493487089e49f70a2528": {
      "model_module": "@jupyter-widgets/output",
      "model_module_version": "1.0.0",
      "model_name": "OutputModel",
      "state": {
       "layout": "IPY_MODEL_b3afd4394eab4e48acf52cc19882013a",
       "outputs": [
        {
         "data": {
          "application/vnd.plotly.v1+json": {
           "config": {
            "plotlyServerURL": "https://plot.ly"
           },
           "data": [
            {
             "legendgroup": "Staying",
             "line": {
              "color": "hsv(206,81%,71%)",
              "width": 2
             },
             "name": "Under 65 Stay",
             "type": "scatter",
             "x": [
              6,
              7,
              8,
              9,
              10,
              12,
              13,
              14,
              15,
              16,
              17,
              18
             ],
             "y": [
              0.5851703406813628,
              0.5662055335968379,
              0.5116487455197133,
              0.3130081300813008,
              0.302727877578177,
              0.2957377049180328,
              0.2859897172236504,
              0.2732919254658385,
              0.26084300549786194,
              0.25484261501210653,
              0.2465506898620276,
              0.23778307508939214
             ]
            },
            {
             "legendgroup": "Staying",
             "line": {
              "color": "hsv(193,29%,90%)",
              "width": 2
             },
             "name": "Above 65 Stay",
             "type": "scatter",
             "x": [
              6,
              7,
              8,
              9,
              10,
              12,
              13,
              14,
              15,
              16,
              17,
              18
             ],
             "y": [
              0.21943887775551102,
              0.2124505928853755,
              0.19086021505376344,
              0.10975609756097561,
              0.10645375914836992,
              0.10360655737704919,
              0.10025706940874037,
              0.09503105590062112,
              0.09040928527794746,
              0.08656174334140436,
              0.08278344331133773,
              0.08045292014302742
             ]
            },
            {
             "legendgroup": "New Comers",
             "line": {
              "color": "hsv(206,81%,71%)",
              "width": 4
             },
             "name": "Under 65 New Comers",
             "type": "scatter",
             "x": [
              6,
              7,
              8,
              9,
              10,
              12,
              13,
              14,
              15,
              16,
              17,
              18
             ],
             "y": [
              0.1492985971943888,
              0.17292490118577075,
              0.23207885304659498,
              0.46476964769647694,
              0.4750499001996008,
              0.4839344262295082,
              0.49421593830334193,
              0.5105590062111801,
              0.5241295051924252,
              0.5308716707021792,
              0.5422915416916617,
              0.5506555423122765
             ]
            },
            {
             "legendgroup": "New Comers",
             "line": {
              "color": "hsv(193,29%,90%)",
              "width": 4
             },
             "name": "Above 65 New Comers",
             "type": "scatter",
             "x": [
              6,
              7,
              8,
              9,
              10,
              12,
              13,
              14,
              15,
              16,
              17,
              18
             ],
             "y": [
              0.04609218436873747,
              0.04841897233201581,
              0.06541218637992832,
              0.11246612466124661,
              0.1157684630738523,
              0.11672131147540983,
              0.11953727506426735,
              0.12111801242236025,
              0.12461820403176542,
              0.12772397094430993,
              0.12837432513497302,
              0.13110846245530394
             ]
            },
            {
             "legendgroup": "Average",
             "line": {
              "color": "hsv(198,63%,81%)",
              "dash": "dash"
             },
             "name": "Under 65 (Average)",
             "type": "scatter",
             "x": [
              6,
              7,
              8,
              9,
              10,
              12,
              13,
              14,
              15,
              16,
              17,
              18
             ],
             "y": [
              0.7344689378757515,
              0.7391304347826086,
              0.7437275985663082,
              0.7777777777777778,
              0.7777777777777778,
              0.779672131147541,
              0.7802056555269923,
              0.7838509316770186,
              0.7849725106902871,
              0.7857142857142857,
              0.7888422315536893,
              0.7884386174016687
             ]
            },
            {
             "legendgroup": "Average",
             "line": {
              "color": "hsv(203,9%,96%)",
              "dash": "dash"
             },
             "name": "Above 65 (Average)",
             "type": "scatter",
             "x": [
              6,
              7,
              8,
              9,
              10,
              12,
              13,
              14,
              15,
              16,
              17,
              18
             ],
             "y": [
              0.2655310621242485,
              0.2608695652173913,
              0.25627240143369173,
              0.2222222222222222,
              0.2222222222222222,
              0.22032786885245903,
              0.21979434447300772,
              0.21614906832298136,
              0.21502748930971288,
              0.21428571428571427,
              0.21115776844631073,
              0.21156138259833135
             ]
            },
            {
             "legendgroup": "Building Type",
             "marker": {
              "color": "hsv(210,100%,75%)"
             },
             "mode": "markers",
             "name": "Addition",
             "type": "scatter",
             "x": [
              6,
              7,
              13,
              14,
              15,
              16,
              17,
              18
             ],
             "y": [
              -0.02,
              -0.02,
              -0.02,
              -0.02,
              -0.02,
              -0.02,
              -0.02,
              -0.02
             ]
            },
            {
             "legendgroup": "Building Type",
             "marker": {
              "color": "hsv(210,100%,100%)"
             },
             "mode": "markers",
             "name": "Reconstruction",
             "type": "scatter",
             "x": [
              8,
              10,
              12
             ],
             "y": [
              -0.02,
              -0.02,
              -0.02
             ]
            },
            {
             "legendgroup": "Building Type",
             "marker": {
              "color": "hsv(210,50%,100%)"
             },
             "mode": "markers",
             "name": "Raze and Rebuild",
             "type": "scatter",
             "x": [
              9
             ],
             "y": [
              -0.02
             ]
            }
           ],
           "layout": {
            "height": 375,
            "legend": {
             "bgcolor": "rgba(255,255,255,0.5)",
             "orientation": "h",
             "x": 0.03,
             "xanchor": "left",
             "y": 1,
             "yanchor": "top"
            },
            "plot_bgcolor": "rgba(0,0,0,0)",
            "shapes": [
             {
              "layer": "below",
              "line": {
               "color": "hsv(210,100%,75%)",
               "dash": "dot",
               "width": 1.5
              },
              "type": "line",
              "x0": 6,
              "x1": 6,
              "y0": 0,
              "y1": 1
             },
             {
              "layer": "below",
              "line": {
               "color": "hsv(210,100%,75%)",
               "dash": "dot",
               "width": 1.5
              },
              "type": "line",
              "x0": 7,
              "x1": 7,
              "y0": 0,
              "y1": 1
             },
             {
              "layer": "below",
              "line": {
               "color": "hsv(210,100%,75%)",
               "dash": "dot",
               "width": 1.5
              },
              "type": "line",
              "x0": 13,
              "x1": 13,
              "y0": 0,
              "y1": 1
             },
             {
              "layer": "below",
              "line": {
               "color": "hsv(210,100%,75%)",
               "dash": "dot",
               "width": 1.5
              },
              "type": "line",
              "x0": 14,
              "x1": 14,
              "y0": 0,
              "y1": 1
             },
             {
              "layer": "below",
              "line": {
               "color": "hsv(210,100%,75%)",
               "dash": "dot",
               "width": 1.5
              },
              "type": "line",
              "x0": 15,
              "x1": 15,
              "y0": 0,
              "y1": 1
             },
             {
              "layer": "below",
              "line": {
               "color": "hsv(210,100%,75%)",
               "dash": "dot",
               "width": 1.5
              },
              "type": "line",
              "x0": 16,
              "x1": 16,
              "y0": 0,
              "y1": 1
             },
             {
              "layer": "below",
              "line": {
               "color": "hsv(210,100%,75%)",
               "dash": "dot",
               "width": 1.5
              },
              "type": "line",
              "x0": 17,
              "x1": 17,
              "y0": 0,
              "y1": 1
             },
             {
              "layer": "below",
              "line": {
               "color": "hsv(210,100%,75%)",
               "dash": "dot",
               "width": 1.5
              },
              "type": "line",
              "x0": 18,
              "x1": 18,
              "y0": 0,
              "y1": 1
             },
             {
              "layer": "below",
              "line": {
               "color": "hsv(210,100%,100%)",
               "dash": "dot",
               "width": 1.5
              },
              "type": "line",
              "x0": 8,
              "x1": 8,
              "y0": 0,
              "y1": 1
             },
             {
              "layer": "below",
              "line": {
               "color": "hsv(210,100%,100%)",
               "dash": "dot",
               "width": 1.5
              },
              "type": "line",
              "x0": 10,
              "x1": 10,
              "y0": 0,
              "y1": 1
             },
             {
              "layer": "below",
              "line": {
               "color": "hsv(210,100%,100%)",
               "dash": "dot",
               "width": 1.5
              },
              "type": "line",
              "x0": 12,
              "x1": 12,
              "y0": 0,
              "y1": 1
             },
             {
              "layer": "below",
              "line": {
               "color": "hsv(210,50%,100%)",
               "dash": "dot",
               "width": 1.5
              },
              "type": "line",
              "x0": 9,
              "x1": 9,
              "y0": 0,
              "y1": 1
             }
            ],
            "showlegend": true,
            "template": {
             "data": {
              "bar": [
               {
                "error_x": {
                 "color": "#2a3f5f"
                },
                "error_y": {
                 "color": "#2a3f5f"
                },
                "marker": {
                 "line": {
                  "color": "#E5ECF6",
                  "width": 0.5
                 }
                },
                "type": "bar"
               }
              ],
              "barpolar": [
               {
                "marker": {
                 "line": {
                  "color": "#E5ECF6",
                  "width": 0.5
                 }
                },
                "type": "barpolar"
               }
              ],
              "carpet": [
               {
                "aaxis": {
                 "endlinecolor": "#2a3f5f",
                 "gridcolor": "white",
                 "linecolor": "white",
                 "minorgridcolor": "white",
                 "startlinecolor": "#2a3f5f"
                },
                "baxis": {
                 "endlinecolor": "#2a3f5f",
                 "gridcolor": "white",
                 "linecolor": "white",
                 "minorgridcolor": "white",
                 "startlinecolor": "#2a3f5f"
                },
                "type": "carpet"
               }
              ],
              "choropleth": [
               {
                "colorbar": {
                 "outlinewidth": 0,
                 "ticks": ""
                },
                "type": "choropleth"
               }
              ],
              "contour": [
               {
                "colorbar": {
                 "outlinewidth": 0,
                 "ticks": ""
                },
                "colorscale": [
                 [
                  0,
                  "#0d0887"
                 ],
                 [
                  0.1111111111111111,
                  "#46039f"
                 ],
                 [
                  0.2222222222222222,
                  "#7201a8"
                 ],
                 [
                  0.3333333333333333,
                  "#9c179e"
                 ],
                 [
                  0.4444444444444444,
                  "#bd3786"
                 ],
                 [
                  0.5555555555555556,
                  "#d8576b"
                 ],
                 [
                  0.6666666666666666,
                  "#ed7953"
                 ],
                 [
                  0.7777777777777778,
                  "#fb9f3a"
                 ],
                 [
                  0.8888888888888888,
                  "#fdca26"
                 ],
                 [
                  1,
                  "#f0f921"
                 ]
                ],
                "type": "contour"
               }
              ],
              "contourcarpet": [
               {
                "colorbar": {
                 "outlinewidth": 0,
                 "ticks": ""
                },
                "type": "contourcarpet"
               }
              ],
              "heatmap": [
               {
                "colorbar": {
                 "outlinewidth": 0,
                 "ticks": ""
                },
                "colorscale": [
                 [
                  0,
                  "#0d0887"
                 ],
                 [
                  0.1111111111111111,
                  "#46039f"
                 ],
                 [
                  0.2222222222222222,
                  "#7201a8"
                 ],
                 [
                  0.3333333333333333,
                  "#9c179e"
                 ],
                 [
                  0.4444444444444444,
                  "#bd3786"
                 ],
                 [
                  0.5555555555555556,
                  "#d8576b"
                 ],
                 [
                  0.6666666666666666,
                  "#ed7953"
                 ],
                 [
                  0.7777777777777778,
                  "#fb9f3a"
                 ],
                 [
                  0.8888888888888888,
                  "#fdca26"
                 ],
                 [
                  1,
                  "#f0f921"
                 ]
                ],
                "type": "heatmap"
               }
              ],
              "heatmapgl": [
               {
                "colorbar": {
                 "outlinewidth": 0,
                 "ticks": ""
                },
                "colorscale": [
                 [
                  0,
                  "#0d0887"
                 ],
                 [
                  0.1111111111111111,
                  "#46039f"
                 ],
                 [
                  0.2222222222222222,
                  "#7201a8"
                 ],
                 [
                  0.3333333333333333,
                  "#9c179e"
                 ],
                 [
                  0.4444444444444444,
                  "#bd3786"
                 ],
                 [
                  0.5555555555555556,
                  "#d8576b"
                 ],
                 [
                  0.6666666666666666,
                  "#ed7953"
                 ],
                 [
                  0.7777777777777778,
                  "#fb9f3a"
                 ],
                 [
                  0.8888888888888888,
                  "#fdca26"
                 ],
                 [
                  1,
                  "#f0f921"
                 ]
                ],
                "type": "heatmapgl"
               }
              ],
              "histogram": [
               {
                "marker": {
                 "colorbar": {
                  "outlinewidth": 0,
                  "ticks": ""
                 }
                },
                "type": "histogram"
               }
              ],
              "histogram2d": [
               {
                "colorbar": {
                 "outlinewidth": 0,
                 "ticks": ""
                },
                "colorscale": [
                 [
                  0,
                  "#0d0887"
                 ],
                 [
                  0.1111111111111111,
                  "#46039f"
                 ],
                 [
                  0.2222222222222222,
                  "#7201a8"
                 ],
                 [
                  0.3333333333333333,
                  "#9c179e"
                 ],
                 [
                  0.4444444444444444,
                  "#bd3786"
                 ],
                 [
                  0.5555555555555556,
                  "#d8576b"
                 ],
                 [
                  0.6666666666666666,
                  "#ed7953"
                 ],
                 [
                  0.7777777777777778,
                  "#fb9f3a"
                 ],
                 [
                  0.8888888888888888,
                  "#fdca26"
                 ],
                 [
                  1,
                  "#f0f921"
                 ]
                ],
                "type": "histogram2d"
               }
              ],
              "histogram2dcontour": [
               {
                "colorbar": {
                 "outlinewidth": 0,
                 "ticks": ""
                },
                "colorscale": [
                 [
                  0,
                  "#0d0887"
                 ],
                 [
                  0.1111111111111111,
                  "#46039f"
                 ],
                 [
                  0.2222222222222222,
                  "#7201a8"
                 ],
                 [
                  0.3333333333333333,
                  "#9c179e"
                 ],
                 [
                  0.4444444444444444,
                  "#bd3786"
                 ],
                 [
                  0.5555555555555556,
                  "#d8576b"
                 ],
                 [
                  0.6666666666666666,
                  "#ed7953"
                 ],
                 [
                  0.7777777777777778,
                  "#fb9f3a"
                 ],
                 [
                  0.8888888888888888,
                  "#fdca26"
                 ],
                 [
                  1,
                  "#f0f921"
                 ]
                ],
                "type": "histogram2dcontour"
               }
              ],
              "mesh3d": [
               {
                "colorbar": {
                 "outlinewidth": 0,
                 "ticks": ""
                },
                "type": "mesh3d"
               }
              ],
              "parcoords": [
               {
                "line": {
                 "colorbar": {
                  "outlinewidth": 0,
                  "ticks": ""
                 }
                },
                "type": "parcoords"
               }
              ],
              "pie": [
               {
                "automargin": true,
                "type": "pie"
               }
              ],
              "scatter": [
               {
                "marker": {
                 "colorbar": {
                  "outlinewidth": 0,
                  "ticks": ""
                 }
                },
                "type": "scatter"
               }
              ],
              "scatter3d": [
               {
                "line": {
                 "colorbar": {
                  "outlinewidth": 0,
                  "ticks": ""
                 }
                },
                "marker": {
                 "colorbar": {
                  "outlinewidth": 0,
                  "ticks": ""
                 }
                },
                "type": "scatter3d"
               }
              ],
              "scattercarpet": [
               {
                "marker": {
                 "colorbar": {
                  "outlinewidth": 0,
                  "ticks": ""
                 }
                },
                "type": "scattercarpet"
               }
              ],
              "scattergeo": [
               {
                "marker": {
                 "colorbar": {
                  "outlinewidth": 0,
                  "ticks": ""
                 }
                },
                "type": "scattergeo"
               }
              ],
              "scattergl": [
               {
                "marker": {
                 "colorbar": {
                  "outlinewidth": 0,
                  "ticks": ""
                 }
                },
                "type": "scattergl"
               }
              ],
              "scattermapbox": [
               {
                "marker": {
                 "colorbar": {
                  "outlinewidth": 0,
                  "ticks": ""
                 }
                },
                "type": "scattermapbox"
               }
              ],
              "scatterpolar": [
               {
                "marker": {
                 "colorbar": {
                  "outlinewidth": 0,
                  "ticks": ""
                 }
                },
                "type": "scatterpolar"
               }
              ],
              "scatterpolargl": [
               {
                "marker": {
                 "colorbar": {
                  "outlinewidth": 0,
                  "ticks": ""
                 }
                },
                "type": "scatterpolargl"
               }
              ],
              "scatterternary": [
               {
                "marker": {
                 "colorbar": {
                  "outlinewidth": 0,
                  "ticks": ""
                 }
                },
                "type": "scatterternary"
               }
              ],
              "surface": [
               {
                "colorbar": {
                 "outlinewidth": 0,
                 "ticks": ""
                },
                "colorscale": [
                 [
                  0,
                  "#0d0887"
                 ],
                 [
                  0.1111111111111111,
                  "#46039f"
                 ],
                 [
                  0.2222222222222222,
                  "#7201a8"
                 ],
                 [
                  0.3333333333333333,
                  "#9c179e"
                 ],
                 [
                  0.4444444444444444,
                  "#bd3786"
                 ],
                 [
                  0.5555555555555556,
                  "#d8576b"
                 ],
                 [
                  0.6666666666666666,
                  "#ed7953"
                 ],
                 [
                  0.7777777777777778,
                  "#fb9f3a"
                 ],
                 [
                  0.8888888888888888,
                  "#fdca26"
                 ],
                 [
                  1,
                  "#f0f921"
                 ]
                ],
                "type": "surface"
               }
              ],
              "table": [
               {
                "cells": {
                 "fill": {
                  "color": "#EBF0F8"
                 },
                 "line": {
                  "color": "white"
                 }
                },
                "header": {
                 "fill": {
                  "color": "#C8D4E3"
                 },
                 "line": {
                  "color": "white"
                 }
                },
                "type": "table"
               }
              ]
             },
             "layout": {
              "annotationdefaults": {
               "arrowcolor": "#2a3f5f",
               "arrowhead": 0,
               "arrowwidth": 1
              },
              "autotypenumbers": "strict",
              "coloraxis": {
               "colorbar": {
                "outlinewidth": 0,
                "ticks": ""
               }
              },
              "colorscale": {
               "diverging": [
                [
                 0,
                 "#8e0152"
                ],
                [
                 0.1,
                 "#c51b7d"
                ],
                [
                 0.2,
                 "#de77ae"
                ],
                [
                 0.3,
                 "#f1b6da"
                ],
                [
                 0.4,
                 "#fde0ef"
                ],
                [
                 0.5,
                 "#f7f7f7"
                ],
                [
                 0.6,
                 "#e6f5d0"
                ],
                [
                 0.7,
                 "#b8e186"
                ],
                [
                 0.8,
                 "#7fbc41"
                ],
                [
                 0.9,
                 "#4d9221"
                ],
                [
                 1,
                 "#276419"
                ]
               ],
               "sequential": [
                [
                 0,
                 "#0d0887"
                ],
                [
                 0.1111111111111111,
                 "#46039f"
                ],
                [
                 0.2222222222222222,
                 "#7201a8"
                ],
                [
                 0.3333333333333333,
                 "#9c179e"
                ],
                [
                 0.4444444444444444,
                 "#bd3786"
                ],
                [
                 0.5555555555555556,
                 "#d8576b"
                ],
                [
                 0.6666666666666666,
                 "#ed7953"
                ],
                [
                 0.7777777777777778,
                 "#fb9f3a"
                ],
                [
                 0.8888888888888888,
                 "#fdca26"
                ],
                [
                 1,
                 "#f0f921"
                ]
               ],
               "sequentialminus": [
                [
                 0,
                 "#0d0887"
                ],
                [
                 0.1111111111111111,
                 "#46039f"
                ],
                [
                 0.2222222222222222,
                 "#7201a8"
                ],
                [
                 0.3333333333333333,
                 "#9c179e"
                ],
                [
                 0.4444444444444444,
                 "#bd3786"
                ],
                [
                 0.5555555555555556,
                 "#d8576b"
                ],
                [
                 0.6666666666666666,
                 "#ed7953"
                ],
                [
                 0.7777777777777778,
                 "#fb9f3a"
                ],
                [
                 0.8888888888888888,
                 "#fdca26"
                ],
                [
                 1,
                 "#f0f921"
                ]
               ]
              },
              "colorway": [
               "#636efa",
               "#EF553B",
               "#00cc96",
               "#ab63fa",
               "#FFA15A",
               "#19d3f3",
               "#FF6692",
               "#B6E880",
               "#FF97FF",
               "#FECB52"
              ],
              "font": {
               "color": "#2a3f5f"
              },
              "geo": {
               "bgcolor": "white",
               "lakecolor": "white",
               "landcolor": "#E5ECF6",
               "showlakes": true,
               "showland": true,
               "subunitcolor": "white"
              },
              "hoverlabel": {
               "align": "left"
              },
              "hovermode": "closest",
              "mapbox": {
               "style": "light"
              },
              "paper_bgcolor": "white",
              "plot_bgcolor": "#E5ECF6",
              "polar": {
               "angularaxis": {
                "gridcolor": "white",
                "linecolor": "white",
                "ticks": ""
               },
               "bgcolor": "#E5ECF6",
               "radialaxis": {
                "gridcolor": "white",
                "linecolor": "white",
                "ticks": ""
               }
              },
              "scene": {
               "xaxis": {
                "backgroundcolor": "#E5ECF6",
                "gridcolor": "white",
                "gridwidth": 2,
                "linecolor": "white",
                "showbackground": true,
                "ticks": "",
                "zerolinecolor": "white"
               },
               "yaxis": {
                "backgroundcolor": "#E5ECF6",
                "gridcolor": "white",
                "gridwidth": 2,
                "linecolor": "white",
                "showbackground": true,
                "ticks": "",
                "zerolinecolor": "white"
               },
               "zaxis": {
                "backgroundcolor": "#E5ECF6",
                "gridcolor": "white",
                "gridwidth": 2,
                "linecolor": "white",
                "showbackground": true,
                "ticks": "",
                "zerolinecolor": "white"
               }
              },
              "shapedefaults": {
               "line": {
                "color": "#2a3f5f"
               }
              },
              "ternary": {
               "aaxis": {
                "gridcolor": "white",
                "linecolor": "white",
                "ticks": ""
               },
               "baxis": {
                "gridcolor": "white",
                "linecolor": "white",
                "ticks": ""
               },
               "bgcolor": "#E5ECF6",
               "caxis": {
                "gridcolor": "white",
                "linecolor": "white",
                "ticks": ""
               }
              },
              "title": {
               "x": 0.05
              },
              "xaxis": {
               "automargin": true,
               "gridcolor": "white",
               "linecolor": "white",
               "ticks": "",
               "title": {
                "standoff": 15
               },
               "zerolinecolor": "white",
               "zerolinewidth": 2
              },
              "yaxis": {
               "automargin": true,
               "gridcolor": "white",
               "linecolor": "white",
               "ticks": "",
               "title": {
                "standoff": 15
               },
               "zerolinecolor": "white",
               "zerolinewidth": 2
              }
             }
            },
            "title": {
             "text": "Above and Below 65 troughout the simulation"
            },
            "width": 800,
            "xaxis": {
             "gridcolor": "#f2f2f2",
             "gridwidth": 1,
             "title": {
              "text": "Simulation tic"
             },
             "zerolinecolor": "lightgrey",
             "zerolinewidth": 1
            },
            "yaxis": {
             "gridcolor": "#f2f2f2",
             "gridwidth": 1,
             "range": [
              -0.05,
              1
             ],
             "title": {
              "text": "Household Percent"
             },
             "zerolinecolor": "lightgrey",
             "zerolinewidth": 1
            }
           }
          },
          "text/html": "<div>                            <div id=\"c2f6e8fc-e225-4584-8f7a-487fece2f5b2\" class=\"plotly-graph-div\" style=\"height:375px; width:800px;\"></div>            <script type=\"text/javascript\">                require([\"plotly\"], function(Plotly) {                    window.PLOTLYENV=window.PLOTLYENV || {};                                    if (document.getElementById(\"c2f6e8fc-e225-4584-8f7a-487fece2f5b2\")) {                    Plotly.newPlot(                        \"c2f6e8fc-e225-4584-8f7a-487fece2f5b2\",                        [{\"legendgroup\": \"Staying\", \"line\": {\"color\": \"hsv(206,81%,71%)\", \"width\": 2}, \"name\": \"Under 65 Stay\", \"type\": \"scatter\", \"x\": [6, 7, 8, 9, 10, 12, 13, 14, 15, 16, 17, 18], \"y\": [0.5851703406813628, 0.5662055335968379, 0.5116487455197133, 0.3130081300813008, 0.302727877578177, 0.2957377049180328, 0.2859897172236504, 0.2732919254658385, 0.26084300549786194, 0.25484261501210653, 0.2465506898620276, 0.23778307508939214]}, {\"legendgroup\": \"Staying\", \"line\": {\"color\": \"hsv(193,29%,90%)\", \"width\": 2}, \"name\": \"Above 65 Stay\", \"type\": \"scatter\", \"x\": [6, 7, 8, 9, 10, 12, 13, 14, 15, 16, 17, 18], \"y\": [0.21943887775551102, 0.2124505928853755, 0.19086021505376344, 0.10975609756097561, 0.10645375914836992, 0.10360655737704919, 0.10025706940874037, 0.09503105590062112, 0.09040928527794746, 0.08656174334140436, 0.08278344331133773, 0.08045292014302742]}, {\"legendgroup\": \"New Comers\", \"line\": {\"color\": \"hsv(206,81%,71%)\", \"width\": 4}, \"name\": \"Under 65 New Comers\", \"type\": \"scatter\", \"x\": [6, 7, 8, 9, 10, 12, 13, 14, 15, 16, 17, 18], \"y\": [0.1492985971943888, 0.17292490118577075, 0.23207885304659498, 0.46476964769647694, 0.4750499001996008, 0.4839344262295082, 0.49421593830334193, 0.5105590062111801, 0.5241295051924252, 0.5308716707021792, 0.5422915416916617, 0.5506555423122765]}, {\"legendgroup\": \"New Comers\", \"line\": {\"color\": \"hsv(193,29%,90%)\", \"width\": 4}, \"name\": \"Above 65 New Comers\", \"type\": \"scatter\", \"x\": [6, 7, 8, 9, 10, 12, 13, 14, 15, 16, 17, 18], \"y\": [0.04609218436873747, 0.04841897233201581, 0.06541218637992832, 0.11246612466124661, 0.1157684630738523, 0.11672131147540983, 0.11953727506426735, 0.12111801242236025, 0.12461820403176542, 0.12772397094430993, 0.12837432513497302, 0.13110846245530394]}, {\"legendgroup\": \"Average\", \"line\": {\"color\": \"hsv(198,63%,81%)\", \"dash\": \"dash\"}, \"name\": \"Under 65 (Average)\", \"type\": \"scatter\", \"x\": [6, 7, 8, 9, 10, 12, 13, 14, 15, 16, 17, 18], \"y\": [0.7344689378757515, 0.7391304347826086, 0.7437275985663082, 0.7777777777777778, 0.7777777777777778, 0.779672131147541, 0.7802056555269923, 0.7838509316770186, 0.7849725106902871, 0.7857142857142857, 0.7888422315536893, 0.7884386174016687]}, {\"legendgroup\": \"Average\", \"line\": {\"color\": \"hsv(203,9%,96%)\", \"dash\": \"dash\"}, \"name\": \"Above 65 (Average)\", \"type\": \"scatter\", \"x\": [6, 7, 8, 9, 10, 12, 13, 14, 15, 16, 17, 18], \"y\": [0.2655310621242485, 0.2608695652173913, 0.25627240143369173, 0.2222222222222222, 0.2222222222222222, 0.22032786885245903, 0.21979434447300772, 0.21614906832298136, 0.21502748930971288, 0.21428571428571427, 0.21115776844631073, 0.21156138259833135]}, {\"legendgroup\": \"Building Type\", \"marker\": {\"color\": \"hsv(210,100%,75%)\"}, \"mode\": \"markers\", \"name\": \"Addition\", \"type\": \"scatter\", \"x\": [6, 7, 13, 14, 15, 16, 17, 18], \"y\": [-0.02, -0.02, -0.02, -0.02, -0.02, -0.02, -0.02, -0.02]}, {\"legendgroup\": \"Building Type\", \"marker\": {\"color\": \"hsv(210,100%,100%)\"}, \"mode\": \"markers\", \"name\": \"Reconstruction\", \"type\": \"scatter\", \"x\": [8, 10, 12], \"y\": [-0.02, -0.02, -0.02]}, {\"legendgroup\": \"Building Type\", \"marker\": {\"color\": \"hsv(210,50%,100%)\"}, \"mode\": \"markers\", \"name\": \"Raze and Rebuild\", \"type\": \"scatter\", \"x\": [9], \"y\": [-0.02]}],                        {\"height\": 375, \"legend\": {\"bgcolor\": \"rgba(255,255,255,0.5)\", \"orientation\": \"h\", \"x\": 0.03, \"xanchor\": \"left\", \"y\": 1.0, \"yanchor\": \"top\"}, \"plot_bgcolor\": \"rgba(0,0,0,0)\", \"shapes\": [{\"layer\": \"below\", \"line\": {\"color\": \"hsv(210,100%,75%)\", \"dash\": \"dot\", \"width\": 1.5}, \"type\": \"line\", \"x0\": 6, \"x1\": 6, \"y0\": 0, \"y1\": 1}, {\"layer\": \"below\", \"line\": {\"color\": \"hsv(210,100%,75%)\", \"dash\": \"dot\", \"width\": 1.5}, \"type\": \"line\", \"x0\": 7, \"x1\": 7, \"y0\": 0, \"y1\": 1}, {\"layer\": \"below\", \"line\": {\"color\": \"hsv(210,100%,75%)\", \"dash\": \"dot\", \"width\": 1.5}, \"type\": \"line\", \"x0\": 13, \"x1\": 13, \"y0\": 0, \"y1\": 1}, {\"layer\": \"below\", \"line\": {\"color\": \"hsv(210,100%,75%)\", \"dash\": \"dot\", \"width\": 1.5}, \"type\": \"line\", \"x0\": 14, \"x1\": 14, \"y0\": 0, \"y1\": 1}, {\"layer\": \"below\", \"line\": {\"color\": \"hsv(210,100%,75%)\", \"dash\": \"dot\", \"width\": 1.5}, \"type\": \"line\", \"x0\": 15, \"x1\": 15, \"y0\": 0, \"y1\": 1}, {\"layer\": \"below\", \"line\": {\"color\": \"hsv(210,100%,75%)\", \"dash\": \"dot\", \"width\": 1.5}, \"type\": \"line\", \"x0\": 16, \"x1\": 16, \"y0\": 0, \"y1\": 1}, {\"layer\": \"below\", \"line\": {\"color\": \"hsv(210,100%,75%)\", \"dash\": \"dot\", \"width\": 1.5}, \"type\": \"line\", \"x0\": 17, \"x1\": 17, \"y0\": 0, \"y1\": 1}, {\"layer\": \"below\", \"line\": {\"color\": \"hsv(210,100%,75%)\", \"dash\": \"dot\", \"width\": 1.5}, \"type\": \"line\", \"x0\": 18, \"x1\": 18, \"y0\": 0, \"y1\": 1}, {\"layer\": \"below\", \"line\": {\"color\": \"hsv(210,100%,100%)\", \"dash\": \"dot\", \"width\": 1.5}, \"type\": \"line\", \"x0\": 8, \"x1\": 8, \"y0\": 0, \"y1\": 1}, {\"layer\": \"below\", \"line\": {\"color\": \"hsv(210,100%,100%)\", \"dash\": \"dot\", \"width\": 1.5}, \"type\": \"line\", \"x0\": 10, \"x1\": 10, \"y0\": 0, \"y1\": 1}, {\"layer\": \"below\", \"line\": {\"color\": \"hsv(210,100%,100%)\", \"dash\": \"dot\", \"width\": 1.5}, \"type\": \"line\", \"x0\": 12, \"x1\": 12, \"y0\": 0, \"y1\": 1}, {\"layer\": \"below\", \"line\": {\"color\": \"hsv(210,50%,100%)\", \"dash\": \"dot\", \"width\": 1.5}, \"type\": \"line\", \"x0\": 9, \"x1\": 9, \"y0\": 0, \"y1\": 1}], \"showlegend\": true, \"template\": {\"data\": {\"bar\": [{\"error_x\": {\"color\": \"#2a3f5f\"}, \"error_y\": {\"color\": \"#2a3f5f\"}, \"marker\": {\"line\": {\"color\": \"#E5ECF6\", \"width\": 0.5}}, \"type\": \"bar\"}], \"barpolar\": [{\"marker\": {\"line\": {\"color\": \"#E5ECF6\", \"width\": 0.5}}, \"type\": \"barpolar\"}], \"carpet\": [{\"aaxis\": {\"endlinecolor\": \"#2a3f5f\", \"gridcolor\": \"white\", \"linecolor\": \"white\", \"minorgridcolor\": \"white\", \"startlinecolor\": \"#2a3f5f\"}, \"baxis\": {\"endlinecolor\": \"#2a3f5f\", \"gridcolor\": \"white\", \"linecolor\": \"white\", \"minorgridcolor\": \"white\", \"startlinecolor\": \"#2a3f5f\"}, \"type\": \"carpet\"}], \"choropleth\": [{\"colorbar\": {\"outlinewidth\": 0, \"ticks\": \"\"}, \"type\": \"choropleth\"}], \"contour\": [{\"colorbar\": {\"outlinewidth\": 0, \"ticks\": \"\"}, \"colorscale\": [[0.0, \"#0d0887\"], [0.1111111111111111, \"#46039f\"], [0.2222222222222222, \"#7201a8\"], [0.3333333333333333, \"#9c179e\"], [0.4444444444444444, \"#bd3786\"], [0.5555555555555556, \"#d8576b\"], [0.6666666666666666, \"#ed7953\"], [0.7777777777777778, \"#fb9f3a\"], [0.8888888888888888, \"#fdca26\"], [1.0, \"#f0f921\"]], \"type\": \"contour\"}], \"contourcarpet\": [{\"colorbar\": {\"outlinewidth\": 0, \"ticks\": \"\"}, \"type\": \"contourcarpet\"}], \"heatmap\": [{\"colorbar\": {\"outlinewidth\": 0, \"ticks\": \"\"}, \"colorscale\": [[0.0, \"#0d0887\"], [0.1111111111111111, \"#46039f\"], [0.2222222222222222, \"#7201a8\"], [0.3333333333333333, \"#9c179e\"], [0.4444444444444444, \"#bd3786\"], [0.5555555555555556, \"#d8576b\"], [0.6666666666666666, \"#ed7953\"], [0.7777777777777778, \"#fb9f3a\"], [0.8888888888888888, \"#fdca26\"], [1.0, \"#f0f921\"]], \"type\": \"heatmap\"}], \"heatmapgl\": [{\"colorbar\": {\"outlinewidth\": 0, \"ticks\": \"\"}, \"colorscale\": [[0.0, \"#0d0887\"], [0.1111111111111111, \"#46039f\"], [0.2222222222222222, \"#7201a8\"], [0.3333333333333333, \"#9c179e\"], [0.4444444444444444, \"#bd3786\"], [0.5555555555555556, \"#d8576b\"], [0.6666666666666666, \"#ed7953\"], [0.7777777777777778, \"#fb9f3a\"], [0.8888888888888888, \"#fdca26\"], [1.0, \"#f0f921\"]], \"type\": \"heatmapgl\"}], \"histogram\": [{\"marker\": {\"colorbar\": {\"outlinewidth\": 0, \"ticks\": \"\"}}, \"type\": \"histogram\"}], \"histogram2d\": [{\"colorbar\": {\"outlinewidth\": 0, \"ticks\": \"\"}, \"colorscale\": [[0.0, \"#0d0887\"], [0.1111111111111111, \"#46039f\"], [0.2222222222222222, \"#7201a8\"], [0.3333333333333333, \"#9c179e\"], [0.4444444444444444, \"#bd3786\"], [0.5555555555555556, \"#d8576b\"], [0.6666666666666666, \"#ed7953\"], [0.7777777777777778, \"#fb9f3a\"], [0.8888888888888888, \"#fdca26\"], [1.0, \"#f0f921\"]], \"type\": \"histogram2d\"}], \"histogram2dcontour\": [{\"colorbar\": {\"outlinewidth\": 0, \"ticks\": \"\"}, \"colorscale\": [[0.0, \"#0d0887\"], [0.1111111111111111, \"#46039f\"], [0.2222222222222222, \"#7201a8\"], [0.3333333333333333, \"#9c179e\"], [0.4444444444444444, \"#bd3786\"], [0.5555555555555556, \"#d8576b\"], [0.6666666666666666, \"#ed7953\"], [0.7777777777777778, \"#fb9f3a\"], [0.8888888888888888, \"#fdca26\"], [1.0, \"#f0f921\"]], \"type\": \"histogram2dcontour\"}], \"mesh3d\": [{\"colorbar\": {\"outlinewidth\": 0, \"ticks\": \"\"}, \"type\": \"mesh3d\"}], \"parcoords\": [{\"line\": {\"colorbar\": {\"outlinewidth\": 0, \"ticks\": \"\"}}, \"type\": \"parcoords\"}], \"pie\": [{\"automargin\": true, \"type\": \"pie\"}], \"scatter\": [{\"marker\": {\"colorbar\": {\"outlinewidth\": 0, \"ticks\": \"\"}}, \"type\": \"scatter\"}], \"scatter3d\": [{\"line\": {\"colorbar\": {\"outlinewidth\": 0, \"ticks\": \"\"}}, \"marker\": {\"colorbar\": {\"outlinewidth\": 0, \"ticks\": \"\"}}, \"type\": \"scatter3d\"}], \"scattercarpet\": [{\"marker\": {\"colorbar\": {\"outlinewidth\": 0, \"ticks\": \"\"}}, \"type\": \"scattercarpet\"}], \"scattergeo\": [{\"marker\": {\"colorbar\": {\"outlinewidth\": 0, \"ticks\": \"\"}}, \"type\": \"scattergeo\"}], \"scattergl\": [{\"marker\": {\"colorbar\": {\"outlinewidth\": 0, \"ticks\": \"\"}}, \"type\": \"scattergl\"}], \"scattermapbox\": [{\"marker\": {\"colorbar\": {\"outlinewidth\": 0, \"ticks\": \"\"}}, \"type\": \"scattermapbox\"}], \"scatterpolar\": [{\"marker\": {\"colorbar\": {\"outlinewidth\": 0, \"ticks\": \"\"}}, \"type\": \"scatterpolar\"}], \"scatterpolargl\": [{\"marker\": {\"colorbar\": {\"outlinewidth\": 0, \"ticks\": \"\"}}, \"type\": \"scatterpolargl\"}], \"scatterternary\": [{\"marker\": {\"colorbar\": {\"outlinewidth\": 0, \"ticks\": \"\"}}, \"type\": \"scatterternary\"}], \"surface\": [{\"colorbar\": {\"outlinewidth\": 0, \"ticks\": \"\"}, \"colorscale\": [[0.0, \"#0d0887\"], [0.1111111111111111, \"#46039f\"], [0.2222222222222222, \"#7201a8\"], [0.3333333333333333, \"#9c179e\"], [0.4444444444444444, \"#bd3786\"], [0.5555555555555556, \"#d8576b\"], [0.6666666666666666, \"#ed7953\"], [0.7777777777777778, \"#fb9f3a\"], [0.8888888888888888, \"#fdca26\"], [1.0, \"#f0f921\"]], \"type\": \"surface\"}], \"table\": [{\"cells\": {\"fill\": {\"color\": \"#EBF0F8\"}, \"line\": {\"color\": \"white\"}}, \"header\": {\"fill\": {\"color\": \"#C8D4E3\"}, \"line\": {\"color\": \"white\"}}, \"type\": \"table\"}]}, \"layout\": {\"annotationdefaults\": {\"arrowcolor\": \"#2a3f5f\", \"arrowhead\": 0, \"arrowwidth\": 1}, \"autotypenumbers\": \"strict\", \"coloraxis\": {\"colorbar\": {\"outlinewidth\": 0, \"ticks\": \"\"}}, \"colorscale\": {\"diverging\": [[0, \"#8e0152\"], [0.1, \"#c51b7d\"], [0.2, \"#de77ae\"], [0.3, \"#f1b6da\"], [0.4, \"#fde0ef\"], [0.5, \"#f7f7f7\"], [0.6, \"#e6f5d0\"], [0.7, \"#b8e186\"], [0.8, \"#7fbc41\"], [0.9, \"#4d9221\"], [1, \"#276419\"]], \"sequential\": [[0.0, \"#0d0887\"], [0.1111111111111111, \"#46039f\"], [0.2222222222222222, \"#7201a8\"], [0.3333333333333333, \"#9c179e\"], [0.4444444444444444, \"#bd3786\"], [0.5555555555555556, \"#d8576b\"], [0.6666666666666666, \"#ed7953\"], [0.7777777777777778, \"#fb9f3a\"], [0.8888888888888888, \"#fdca26\"], [1.0, \"#f0f921\"]], \"sequentialminus\": [[0.0, \"#0d0887\"], [0.1111111111111111, \"#46039f\"], [0.2222222222222222, \"#7201a8\"], [0.3333333333333333, \"#9c179e\"], [0.4444444444444444, \"#bd3786\"], [0.5555555555555556, \"#d8576b\"], [0.6666666666666666, \"#ed7953\"], [0.7777777777777778, \"#fb9f3a\"], [0.8888888888888888, \"#fdca26\"], [1.0, \"#f0f921\"]]}, \"colorway\": [\"#636efa\", \"#EF553B\", \"#00cc96\", \"#ab63fa\", \"#FFA15A\", \"#19d3f3\", \"#FF6692\", \"#B6E880\", \"#FF97FF\", \"#FECB52\"], \"font\": {\"color\": \"#2a3f5f\"}, \"geo\": {\"bgcolor\": \"white\", \"lakecolor\": \"white\", \"landcolor\": \"#E5ECF6\", \"showlakes\": true, \"showland\": true, \"subunitcolor\": \"white\"}, \"hoverlabel\": {\"align\": \"left\"}, \"hovermode\": \"closest\", \"mapbox\": {\"style\": \"light\"}, \"paper_bgcolor\": \"white\", \"plot_bgcolor\": \"#E5ECF6\", \"polar\": {\"angularaxis\": {\"gridcolor\": \"white\", \"linecolor\": \"white\", \"ticks\": \"\"}, \"bgcolor\": \"#E5ECF6\", \"radialaxis\": {\"gridcolor\": \"white\", \"linecolor\": \"white\", \"ticks\": \"\"}}, \"scene\": {\"xaxis\": {\"backgroundcolor\": \"#E5ECF6\", \"gridcolor\": \"white\", \"gridwidth\": 2, \"linecolor\": \"white\", \"showbackground\": true, \"ticks\": \"\", \"zerolinecolor\": \"white\"}, \"yaxis\": {\"backgroundcolor\": \"#E5ECF6\", \"gridcolor\": \"white\", \"gridwidth\": 2, \"linecolor\": \"white\", \"showbackground\": true, \"ticks\": \"\", \"zerolinecolor\": \"white\"}, \"zaxis\": {\"backgroundcolor\": \"#E5ECF6\", \"gridcolor\": \"white\", \"gridwidth\": 2, \"linecolor\": \"white\", \"showbackground\": true, \"ticks\": \"\", \"zerolinecolor\": \"white\"}}, \"shapedefaults\": {\"line\": {\"color\": \"#2a3f5f\"}}, \"ternary\": {\"aaxis\": {\"gridcolor\": \"white\", \"linecolor\": \"white\", \"ticks\": \"\"}, \"baxis\": {\"gridcolor\": \"white\", \"linecolor\": \"white\", \"ticks\": \"\"}, \"bgcolor\": \"#E5ECF6\", \"caxis\": {\"gridcolor\": \"white\", \"linecolor\": \"white\", \"ticks\": \"\"}}, \"title\": {\"x\": 0.05}, \"xaxis\": {\"automargin\": true, \"gridcolor\": \"white\", \"linecolor\": \"white\", \"ticks\": \"\", \"title\": {\"standoff\": 15}, \"zerolinecolor\": \"white\", \"zerolinewidth\": 2}, \"yaxis\": {\"automargin\": true, \"gridcolor\": \"white\", \"linecolor\": \"white\", \"ticks\": \"\", \"title\": {\"standoff\": 15}, \"zerolinecolor\": \"white\", \"zerolinewidth\": 2}}}, \"title\": {\"text\": \"Above and Below 65 troughout the simulation\"}, \"width\": 800, \"xaxis\": {\"gridcolor\": \"#f2f2f2\", \"gridwidth\": 1, \"title\": {\"text\": \"Simulation tic\"}, \"zerolinecolor\": \"lightgrey\", \"zerolinewidth\": 1}, \"yaxis\": {\"gridcolor\": \"#f2f2f2\", \"gridwidth\": 1, \"range\": [-0.05, 1], \"title\": {\"text\": \"Household Percent\"}, \"zerolinecolor\": \"lightgrey\", \"zerolinewidth\": 1}},                        {\"responsive\": true}                    ).then(function(){\n                            \nvar gd = document.getElementById('c2f6e8fc-e225-4584-8f7a-487fece2f5b2');\nvar x = new MutationObserver(function (mutations, observer) {{\n        var display = window.getComputedStyle(gd).display;\n        if (!display || display === 'none') {{\n            console.log([gd, 'removed!']);\n            Plotly.purge(gd);\n            observer.disconnect();\n        }}\n}});\n\n// Listen for the removal of the full notebook cells\nvar notebookContainer = gd.closest('#notebook-container');\nif (notebookContainer) {{\n    x.observe(notebookContainer, {childList: true});\n}}\n\n// Listen for the clearing of the current output cell\nvar outputEl = gd.closest('.output');\nif (outputEl) {{\n    x.observe(outputEl, {childList: true});\n}}\n\n                        })                };                });            </script>        </div>"
         },
         "metadata": {},
         "output_type": "display_data"
        }
       ]
      }
     },
     "4722c11452c945f6b5d9d629d6cadc6f": {
      "model_module": "@jupyter-widgets/controls",
      "model_module_version": "1.5.0",
      "model_name": "DescriptionStyleModel",
      "state": {
       "description_width": ""
      }
     },
     "47b1a9c85f444cb9a2b0d85adc533270": {
      "model_module": "@jupyter-widgets/output",
      "model_module_version": "1.0.0",
      "model_name": "OutputModel",
      "state": {
       "layout": "IPY_MODEL_06043047876244efa49494a2fe8ee15a",
       "outputs": [
        {
         "ename": "IndexError",
         "evalue": "list index out of range",
         "output_type": "error",
         "traceback": [
          "\u001b[0;31m---------------------------------------------------------------------------\u001b[0m",
          "\u001b[0;31mIndexError\u001b[0m                                Traceback (most recent call last)",
          "\u001b[0;32m~/anaconda3/envs/geo_env/lib/python3.7/site-packages/ipywidgets/widgets/interaction.py\u001b[0m in \u001b[0;36mupdate\u001b[0;34m(self, *args)\u001b[0m\n\u001b[1;32m    254\u001b[0m                     \u001b[0mvalue\u001b[0m \u001b[0;34m=\u001b[0m \u001b[0mwidget\u001b[0m\u001b[0;34m.\u001b[0m\u001b[0mget_interact_value\u001b[0m\u001b[0;34m(\u001b[0m\u001b[0;34m)\u001b[0m\u001b[0;34m\u001b[0m\u001b[0;34m\u001b[0m\u001b[0m\n\u001b[1;32m    255\u001b[0m                     \u001b[0mself\u001b[0m\u001b[0;34m.\u001b[0m\u001b[0mkwargs\u001b[0m\u001b[0;34m[\u001b[0m\u001b[0mwidget\u001b[0m\u001b[0;34m.\u001b[0m\u001b[0m_kwarg\u001b[0m\u001b[0;34m]\u001b[0m \u001b[0;34m=\u001b[0m \u001b[0mvalue\u001b[0m\u001b[0;34m\u001b[0m\u001b[0;34m\u001b[0m\u001b[0m\n\u001b[0;32m--> 256\u001b[0;31m                 \u001b[0mself\u001b[0m\u001b[0;34m.\u001b[0m\u001b[0mresult\u001b[0m \u001b[0;34m=\u001b[0m \u001b[0mself\u001b[0m\u001b[0;34m.\u001b[0m\u001b[0mf\u001b[0m\u001b[0;34m(\u001b[0m\u001b[0;34m**\u001b[0m\u001b[0mself\u001b[0m\u001b[0;34m.\u001b[0m\u001b[0mkwargs\u001b[0m\u001b[0;34m)\u001b[0m\u001b[0;34m\u001b[0m\u001b[0;34m\u001b[0m\u001b[0m\n\u001b[0m\u001b[1;32m    257\u001b[0m                 \u001b[0mshow_inline_matplotlib_plots\u001b[0m\u001b[0;34m(\u001b[0m\u001b[0;34m)\u001b[0m\u001b[0;34m\u001b[0m\u001b[0;34m\u001b[0m\u001b[0m\n\u001b[1;32m    258\u001b[0m                 \u001b[0;32mif\u001b[0m \u001b[0mself\u001b[0m\u001b[0;34m.\u001b[0m\u001b[0mauto_display\u001b[0m \u001b[0;32mand\u001b[0m \u001b[0mself\u001b[0m\u001b[0;34m.\u001b[0m\u001b[0mresult\u001b[0m \u001b[0;32mis\u001b[0m \u001b[0;32mnot\u001b[0m \u001b[0;32mNone\u001b[0m\u001b[0;34m:\u001b[0m\u001b[0;34m\u001b[0m\u001b[0;34m\u001b[0m\u001b[0m\n",
          "\u001b[0;32m<ipython-input-39-3bcbc9f9e52e>\u001b[0m in \u001b[0;36mg\u001b[0;34m(x)\u001b[0m\n\u001b[1;32m     19\u001b[0m         \u001b[0mfigure_6\u001b[0m\u001b[0;34m(\u001b[0m\u001b[0mlastTic\u001b[0m\u001b[0;34m)\u001b[0m\u001b[0;34m\u001b[0m\u001b[0;34m\u001b[0m\u001b[0m\n\u001b[1;32m     20\u001b[0m         \u001b[0mfigure_7\u001b[0m\u001b[0;34m(\u001b[0m\u001b[0mlastTic\u001b[0m\u001b[0;34m)\u001b[0m\u001b[0;34m\u001b[0m\u001b[0;34m\u001b[0m\u001b[0m\n\u001b[0;32m---> 21\u001b[0;31m         \u001b[0mfigure_9\u001b[0m\u001b[0;34m(\u001b[0m\u001b[0mprojectNum\u001b[0m\u001b[0;34m)\u001b[0m\u001b[0;34m\u001b[0m\u001b[0;34m\u001b[0m\u001b[0m\n\u001b[0m\u001b[1;32m     22\u001b[0m         \u001b[0mdisplay\u001b[0m\u001b[0;34m(\u001b[0m\u001b[0mh\u001b[0m\u001b[0;34m)\u001b[0m\u001b[0;34m\u001b[0m\u001b[0;34m\u001b[0m\u001b[0m\n\u001b[1;32m     23\u001b[0m     \u001b[0;32melse\u001b[0m\u001b[0;34m:\u001b[0m\u001b[0;34m\u001b[0m\u001b[0;34m\u001b[0m\u001b[0m\n",
          "\u001b[0;32m<ipython-input-37-3890185178dc>\u001b[0m in \u001b[0;36mfigure_9\u001b[0;34m(projRef)\u001b[0m\n\u001b[1;32m      1\u001b[0m \u001b[0;32mdef\u001b[0m \u001b[0mfigure_9\u001b[0m\u001b[0;34m(\u001b[0m\u001b[0mprojRef\u001b[0m\u001b[0;34m)\u001b[0m\u001b[0;34m:\u001b[0m\u001b[0;34m\u001b[0m\u001b[0;34m\u001b[0m\u001b[0m\n\u001b[1;32m      2\u001b[0m     \u001b[0mgeom\u001b[0m \u001b[0;34m=\u001b[0m \u001b[0mbldgsInwgs84\u001b[0m\u001b[0;34m.\u001b[0m\u001b[0mquery\u001b[0m\u001b[0;34m(\u001b[0m\u001b[0;34mf'project_nu==\"{projRef}\"'\u001b[0m\u001b[0;34m)\u001b[0m\u001b[0;34m.\u001b[0m\u001b[0mcopy\u001b[0m\u001b[0;34m(\u001b[0m\u001b[0;34m)\u001b[0m\u001b[0;34m\u001b[0m\u001b[0;34m\u001b[0m\u001b[0m\n\u001b[0;32m----> 3\u001b[0;31m     \u001b[0mgeom\u001b[0m\u001b[0;34m[\u001b[0m\u001b[0;34m'x'\u001b[0m\u001b[0;34m]\u001b[0m \u001b[0;34m=\u001b[0m \u001b[0mgeom\u001b[0m\u001b[0;34m[\u001b[0m\u001b[0;34m'geometry'\u001b[0m\u001b[0;34m]\u001b[0m\u001b[0;34m.\u001b[0m\u001b[0mapply\u001b[0m\u001b[0;34m(\u001b[0m\u001b[0;32mlambda\u001b[0m \u001b[0mx\u001b[0m\u001b[0;34m:\u001b[0m \u001b[0mx\u001b[0m\u001b[0;34m.\u001b[0m\u001b[0mcentroid\u001b[0m\u001b[0;34m.\u001b[0m\u001b[0mx\u001b[0m\u001b[0;34m)\u001b[0m\u001b[0;34m\u001b[0m\u001b[0;34m\u001b[0m\u001b[0m\n\u001b[0m\u001b[1;32m      4\u001b[0m     \u001b[0mgeom\u001b[0m\u001b[0;34m[\u001b[0m\u001b[0;34m'y'\u001b[0m\u001b[0;34m]\u001b[0m \u001b[0;34m=\u001b[0m \u001b[0mgeom\u001b[0m\u001b[0;34m[\u001b[0m\u001b[0;34m'geometry'\u001b[0m\u001b[0;34m]\u001b[0m\u001b[0;34m.\u001b[0m\u001b[0mapply\u001b[0m\u001b[0;34m(\u001b[0m\u001b[0;32mlambda\u001b[0m \u001b[0mx\u001b[0m\u001b[0;34m:\u001b[0m \u001b[0mx\u001b[0m\u001b[0;34m.\u001b[0m\u001b[0mcentroid\u001b[0m\u001b[0;34m.\u001b[0m\u001b[0my\u001b[0m\u001b[0;34m)\u001b[0m\u001b[0;34m\u001b[0m\u001b[0;34m\u001b[0m\u001b[0m\n\u001b[1;32m      5\u001b[0m     \u001b[0mx\u001b[0m \u001b[0;34m=\u001b[0m \u001b[0mgeom\u001b[0m\u001b[0;34m[\u001b[0m\u001b[0;34m'x'\u001b[0m\u001b[0;34m]\u001b[0m\u001b[0;34m.\u001b[0m\u001b[0mmean\u001b[0m\u001b[0;34m(\u001b[0m\u001b[0;34m)\u001b[0m\u001b[0;34m\u001b[0m\u001b[0;34m\u001b[0m\u001b[0m\n",
          "\u001b[0;32m~/anaconda3/envs/geo_env/lib/python3.7/site-packages/geopandas/geoseries.py\u001b[0m in \u001b[0;36mapply\u001b[0;34m(self, func, args, **kwargs)\u001b[0m\n\u001b[1;32m    317\u001b[0m     \u001b[0;34m@\u001b[0m\u001b[0minherit_doc\u001b[0m\u001b[0;34m(\u001b[0m\u001b[0mpd\u001b[0m\u001b[0;34m.\u001b[0m\u001b[0mSeries\u001b[0m\u001b[0;34m)\u001b[0m\u001b[0;34m\u001b[0m\u001b[0;34m\u001b[0m\u001b[0m\n\u001b[1;32m    318\u001b[0m     \u001b[0;32mdef\u001b[0m \u001b[0mapply\u001b[0m\u001b[0;34m(\u001b[0m\u001b[0mself\u001b[0m\u001b[0;34m,\u001b[0m \u001b[0mfunc\u001b[0m\u001b[0;34m,\u001b[0m \u001b[0margs\u001b[0m\u001b[0;34m=\u001b[0m\u001b[0;34m(\u001b[0m\u001b[0;34m)\u001b[0m\u001b[0;34m,\u001b[0m \u001b[0;34m**\u001b[0m\u001b[0mkwargs\u001b[0m\u001b[0;34m)\u001b[0m\u001b[0;34m:\u001b[0m\u001b[0;34m\u001b[0m\u001b[0;34m\u001b[0m\u001b[0m\n\u001b[0;32m--> 319\u001b[0;31m         \u001b[0mresult\u001b[0m \u001b[0;34m=\u001b[0m \u001b[0msuper\u001b[0m\u001b[0;34m(\u001b[0m\u001b[0;34m)\u001b[0m\u001b[0;34m.\u001b[0m\u001b[0mapply\u001b[0m\u001b[0;34m(\u001b[0m\u001b[0mfunc\u001b[0m\u001b[0;34m,\u001b[0m \u001b[0margs\u001b[0m\u001b[0;34m=\u001b[0m\u001b[0margs\u001b[0m\u001b[0;34m,\u001b[0m \u001b[0;34m**\u001b[0m\u001b[0mkwargs\u001b[0m\u001b[0;34m)\u001b[0m\u001b[0;34m\u001b[0m\u001b[0;34m\u001b[0m\u001b[0m\n\u001b[0m\u001b[1;32m    320\u001b[0m         \u001b[0;32mif\u001b[0m \u001b[0misinstance\u001b[0m\u001b[0;34m(\u001b[0m\u001b[0mresult\u001b[0m\u001b[0;34m,\u001b[0m \u001b[0mGeoSeries\u001b[0m\u001b[0;34m)\u001b[0m\u001b[0;34m:\u001b[0m\u001b[0;34m\u001b[0m\u001b[0;34m\u001b[0m\u001b[0m\n\u001b[1;32m    321\u001b[0m             \u001b[0;32mif\u001b[0m \u001b[0mself\u001b[0m\u001b[0;34m.\u001b[0m\u001b[0mcrs\u001b[0m \u001b[0;32mis\u001b[0m \u001b[0;32mnot\u001b[0m \u001b[0;32mNone\u001b[0m\u001b[0;34m:\u001b[0m\u001b[0;34m\u001b[0m\u001b[0;34m\u001b[0m\u001b[0m\n",
          "\u001b[0;32m~/anaconda3/envs/geo_env/lib/python3.7/site-packages/pandas/core/series.py\u001b[0m in \u001b[0;36mapply\u001b[0;34m(self, func, convert_dtype, args, **kwds)\u001b[0m\n\u001b[1;32m   4106\u001b[0m             \u001b[0;32melse\u001b[0m\u001b[0;34m:\u001b[0m\u001b[0;34m\u001b[0m\u001b[0;34m\u001b[0m\u001b[0m\n\u001b[1;32m   4107\u001b[0m                 \u001b[0mvalues\u001b[0m \u001b[0;34m=\u001b[0m \u001b[0mself\u001b[0m\u001b[0;34m.\u001b[0m\u001b[0mastype\u001b[0m\u001b[0;34m(\u001b[0m\u001b[0mobject\u001b[0m\u001b[0;34m)\u001b[0m\u001b[0;34m.\u001b[0m\u001b[0m_values\u001b[0m\u001b[0;34m\u001b[0m\u001b[0;34m\u001b[0m\u001b[0m\n\u001b[0;32m-> 4108\u001b[0;31m                 \u001b[0mmapped\u001b[0m \u001b[0;34m=\u001b[0m \u001b[0mlib\u001b[0m\u001b[0;34m.\u001b[0m\u001b[0mmap_infer\u001b[0m\u001b[0;34m(\u001b[0m\u001b[0mvalues\u001b[0m\u001b[0;34m,\u001b[0m \u001b[0mf\u001b[0m\u001b[0;34m,\u001b[0m \u001b[0mconvert\u001b[0m\u001b[0;34m=\u001b[0m\u001b[0mconvert_dtype\u001b[0m\u001b[0;34m)\u001b[0m\u001b[0;34m\u001b[0m\u001b[0;34m\u001b[0m\u001b[0m\n\u001b[0m\u001b[1;32m   4109\u001b[0m \u001b[0;34m\u001b[0m\u001b[0m\n\u001b[1;32m   4110\u001b[0m         \u001b[0;32mif\u001b[0m \u001b[0mlen\u001b[0m\u001b[0;34m(\u001b[0m\u001b[0mmapped\u001b[0m\u001b[0;34m)\u001b[0m \u001b[0;32mand\u001b[0m \u001b[0misinstance\u001b[0m\u001b[0;34m(\u001b[0m\u001b[0mmapped\u001b[0m\u001b[0;34m[\u001b[0m\u001b[0;36m0\u001b[0m\u001b[0;34m]\u001b[0m\u001b[0;34m,\u001b[0m \u001b[0mSeries\u001b[0m\u001b[0;34m)\u001b[0m\u001b[0;34m:\u001b[0m\u001b[0;34m\u001b[0m\u001b[0;34m\u001b[0m\u001b[0m\n",
          "\u001b[0;32mpandas/_libs/lib.pyx\u001b[0m in \u001b[0;36mpandas._libs.lib.map_infer\u001b[0;34m()\u001b[0m\n",
          "\u001b[0;32m<ipython-input-37-3890185178dc>\u001b[0m in \u001b[0;36m<lambda>\u001b[0;34m(x)\u001b[0m\n\u001b[1;32m      1\u001b[0m \u001b[0;32mdef\u001b[0m \u001b[0mfigure_9\u001b[0m\u001b[0;34m(\u001b[0m\u001b[0mprojRef\u001b[0m\u001b[0;34m)\u001b[0m\u001b[0;34m:\u001b[0m\u001b[0;34m\u001b[0m\u001b[0;34m\u001b[0m\u001b[0m\n\u001b[1;32m      2\u001b[0m     \u001b[0mgeom\u001b[0m \u001b[0;34m=\u001b[0m \u001b[0mbldgsInwgs84\u001b[0m\u001b[0;34m.\u001b[0m\u001b[0mquery\u001b[0m\u001b[0;34m(\u001b[0m\u001b[0;34mf'project_nu==\"{projRef}\"'\u001b[0m\u001b[0;34m)\u001b[0m\u001b[0;34m.\u001b[0m\u001b[0mcopy\u001b[0m\u001b[0;34m(\u001b[0m\u001b[0;34m)\u001b[0m\u001b[0;34m\u001b[0m\u001b[0;34m\u001b[0m\u001b[0m\n\u001b[0;32m----> 3\u001b[0;31m     \u001b[0mgeom\u001b[0m\u001b[0;34m[\u001b[0m\u001b[0;34m'x'\u001b[0m\u001b[0;34m]\u001b[0m \u001b[0;34m=\u001b[0m \u001b[0mgeom\u001b[0m\u001b[0;34m[\u001b[0m\u001b[0;34m'geometry'\u001b[0m\u001b[0;34m]\u001b[0m\u001b[0;34m.\u001b[0m\u001b[0mapply\u001b[0m\u001b[0;34m(\u001b[0m\u001b[0;32mlambda\u001b[0m \u001b[0mx\u001b[0m\u001b[0;34m:\u001b[0m \u001b[0mx\u001b[0m\u001b[0;34m.\u001b[0m\u001b[0mcentroid\u001b[0m\u001b[0;34m.\u001b[0m\u001b[0mx\u001b[0m\u001b[0;34m)\u001b[0m\u001b[0;34m\u001b[0m\u001b[0;34m\u001b[0m\u001b[0m\n\u001b[0m\u001b[1;32m      4\u001b[0m     \u001b[0mgeom\u001b[0m\u001b[0;34m[\u001b[0m\u001b[0;34m'y'\u001b[0m\u001b[0;34m]\u001b[0m \u001b[0;34m=\u001b[0m \u001b[0mgeom\u001b[0m\u001b[0;34m[\u001b[0m\u001b[0;34m'geometry'\u001b[0m\u001b[0;34m]\u001b[0m\u001b[0;34m.\u001b[0m\u001b[0mapply\u001b[0m\u001b[0;34m(\u001b[0m\u001b[0;32mlambda\u001b[0m \u001b[0mx\u001b[0m\u001b[0;34m:\u001b[0m \u001b[0mx\u001b[0m\u001b[0;34m.\u001b[0m\u001b[0mcentroid\u001b[0m\u001b[0;34m.\u001b[0m\u001b[0my\u001b[0m\u001b[0;34m)\u001b[0m\u001b[0;34m\u001b[0m\u001b[0;34m\u001b[0m\u001b[0m\n\u001b[1;32m      5\u001b[0m     \u001b[0mx\u001b[0m \u001b[0;34m=\u001b[0m \u001b[0mgeom\u001b[0m\u001b[0;34m[\u001b[0m\u001b[0;34m'x'\u001b[0m\u001b[0;34m]\u001b[0m\u001b[0;34m.\u001b[0m\u001b[0mmean\u001b[0m\u001b[0;34m(\u001b[0m\u001b[0;34m)\u001b[0m\u001b[0;34m\u001b[0m\u001b[0;34m\u001b[0m\u001b[0m\n",
          "\u001b[0;32m~/anaconda3/envs/geo_env/lib/python3.7/site-packages/shapely/geometry/point.py\u001b[0m in \u001b[0;36mx\u001b[0;34m(self)\u001b[0m\n\u001b[1;32m     53\u001b[0m     \u001b[0;32mdef\u001b[0m \u001b[0mx\u001b[0m\u001b[0;34m(\u001b[0m\u001b[0mself\u001b[0m\u001b[0;34m)\u001b[0m\u001b[0;34m:\u001b[0m\u001b[0;34m\u001b[0m\u001b[0;34m\u001b[0m\u001b[0m\n\u001b[1;32m     54\u001b[0m         \u001b[0;34m\"\"\"Return x coordinate.\"\"\"\u001b[0m\u001b[0;34m\u001b[0m\u001b[0;34m\u001b[0m\u001b[0m\n\u001b[0;32m---> 55\u001b[0;31m         \u001b[0;32mreturn\u001b[0m \u001b[0mself\u001b[0m\u001b[0;34m.\u001b[0m\u001b[0mcoords\u001b[0m\u001b[0;34m[\u001b[0m\u001b[0;36m0\u001b[0m\u001b[0;34m]\u001b[0m\u001b[0;34m[\u001b[0m\u001b[0;36m0\u001b[0m\u001b[0;34m]\u001b[0m\u001b[0;34m\u001b[0m\u001b[0;34m\u001b[0m\u001b[0m\n\u001b[0m\u001b[1;32m     56\u001b[0m \u001b[0;34m\u001b[0m\u001b[0m\n\u001b[1;32m     57\u001b[0m     \u001b[0;34m@\u001b[0m\u001b[0mproperty\u001b[0m\u001b[0;34m\u001b[0m\u001b[0;34m\u001b[0m\u001b[0m\n",
          "\u001b[0;31mIndexError\u001b[0m: list index out of range"
         ]
        }
       ]
      }
     },
     "492a24bb51fe42469423bb763731a3c0": {
      "model_module": "@jupyter-widgets/output",
      "model_module_version": "1.0.0",
      "model_name": "OutputModel",
      "state": {
       "layout": "IPY_MODEL_1538157e33b44c349b84212774ee98c2",
       "outputs": [
        {
         "ename": "IndexError",
         "evalue": "list index out of range",
         "output_type": "error",
         "traceback": [
          "\u001b[0;31m---------------------------------------------------------------------------\u001b[0m",
          "\u001b[0;31mIndexError\u001b[0m                                Traceback (most recent call last)",
          "\u001b[0;32m~/anaconda3/envs/geo_env/lib/python3.7/site-packages/ipywidgets/widgets/interaction.py\u001b[0m in \u001b[0;36mupdate\u001b[0;34m(self, *args)\u001b[0m\n\u001b[1;32m    254\u001b[0m                     \u001b[0mvalue\u001b[0m \u001b[0;34m=\u001b[0m \u001b[0mwidget\u001b[0m\u001b[0;34m.\u001b[0m\u001b[0mget_interact_value\u001b[0m\u001b[0;34m(\u001b[0m\u001b[0;34m)\u001b[0m\u001b[0;34m\u001b[0m\u001b[0;34m\u001b[0m\u001b[0m\n\u001b[1;32m    255\u001b[0m                     \u001b[0mself\u001b[0m\u001b[0;34m.\u001b[0m\u001b[0mkwargs\u001b[0m\u001b[0;34m[\u001b[0m\u001b[0mwidget\u001b[0m\u001b[0;34m.\u001b[0m\u001b[0m_kwarg\u001b[0m\u001b[0;34m]\u001b[0m \u001b[0;34m=\u001b[0m \u001b[0mvalue\u001b[0m\u001b[0;34m\u001b[0m\u001b[0;34m\u001b[0m\u001b[0m\n\u001b[0;32m--> 256\u001b[0;31m                 \u001b[0mself\u001b[0m\u001b[0;34m.\u001b[0m\u001b[0mresult\u001b[0m \u001b[0;34m=\u001b[0m \u001b[0mself\u001b[0m\u001b[0;34m.\u001b[0m\u001b[0mf\u001b[0m\u001b[0;34m(\u001b[0m\u001b[0;34m**\u001b[0m\u001b[0mself\u001b[0m\u001b[0;34m.\u001b[0m\u001b[0mkwargs\u001b[0m\u001b[0;34m)\u001b[0m\u001b[0;34m\u001b[0m\u001b[0;34m\u001b[0m\u001b[0m\n\u001b[0m\u001b[1;32m    257\u001b[0m                 \u001b[0mshow_inline_matplotlib_plots\u001b[0m\u001b[0;34m(\u001b[0m\u001b[0;34m)\u001b[0m\u001b[0;34m\u001b[0m\u001b[0;34m\u001b[0m\u001b[0m\n\u001b[1;32m    258\u001b[0m                 \u001b[0;32mif\u001b[0m \u001b[0mself\u001b[0m\u001b[0;34m.\u001b[0m\u001b[0mauto_display\u001b[0m \u001b[0;32mand\u001b[0m \u001b[0mself\u001b[0m\u001b[0;34m.\u001b[0m\u001b[0mresult\u001b[0m \u001b[0;32mis\u001b[0m \u001b[0;32mnot\u001b[0m \u001b[0;32mNone\u001b[0m\u001b[0;34m:\u001b[0m\u001b[0;34m\u001b[0m\u001b[0;34m\u001b[0m\u001b[0m\n",
          "\u001b[0;32m<ipython-input-12-3bcbc9f9e52e>\u001b[0m in \u001b[0;36mg\u001b[0;34m(x)\u001b[0m\n\u001b[1;32m     19\u001b[0m         \u001b[0mfigure_6\u001b[0m\u001b[0;34m(\u001b[0m\u001b[0mlastTic\u001b[0m\u001b[0;34m)\u001b[0m\u001b[0;34m\u001b[0m\u001b[0;34m\u001b[0m\u001b[0m\n\u001b[1;32m     20\u001b[0m         \u001b[0mfigure_7\u001b[0m\u001b[0;34m(\u001b[0m\u001b[0mlastTic\u001b[0m\u001b[0;34m)\u001b[0m\u001b[0;34m\u001b[0m\u001b[0;34m\u001b[0m\u001b[0m\n\u001b[0;32m---> 21\u001b[0;31m         \u001b[0mfigure_9\u001b[0m\u001b[0;34m(\u001b[0m\u001b[0mprojectNum\u001b[0m\u001b[0;34m)\u001b[0m\u001b[0;34m\u001b[0m\u001b[0;34m\u001b[0m\u001b[0m\n\u001b[0m\u001b[1;32m     22\u001b[0m         \u001b[0mdisplay\u001b[0m\u001b[0;34m(\u001b[0m\u001b[0mh\u001b[0m\u001b[0;34m)\u001b[0m\u001b[0;34m\u001b[0m\u001b[0;34m\u001b[0m\u001b[0m\n\u001b[1;32m     23\u001b[0m     \u001b[0;32melse\u001b[0m\u001b[0;34m:\u001b[0m\u001b[0;34m\u001b[0m\u001b[0;34m\u001b[0m\u001b[0m\n",
          "\u001b[0;32m<ipython-input-37-3890185178dc>\u001b[0m in \u001b[0;36mfigure_9\u001b[0;34m(projRef)\u001b[0m\n\u001b[1;32m      1\u001b[0m \u001b[0;32mdef\u001b[0m \u001b[0mfigure_9\u001b[0m\u001b[0;34m(\u001b[0m\u001b[0mprojRef\u001b[0m\u001b[0;34m)\u001b[0m\u001b[0;34m:\u001b[0m\u001b[0;34m\u001b[0m\u001b[0;34m\u001b[0m\u001b[0m\n\u001b[1;32m      2\u001b[0m     \u001b[0mgeom\u001b[0m \u001b[0;34m=\u001b[0m \u001b[0mbldgsInwgs84\u001b[0m\u001b[0;34m.\u001b[0m\u001b[0mquery\u001b[0m\u001b[0;34m(\u001b[0m\u001b[0;34mf'project_nu==\"{projRef}\"'\u001b[0m\u001b[0;34m)\u001b[0m\u001b[0;34m.\u001b[0m\u001b[0mcopy\u001b[0m\u001b[0;34m(\u001b[0m\u001b[0;34m)\u001b[0m\u001b[0;34m\u001b[0m\u001b[0;34m\u001b[0m\u001b[0m\n\u001b[0;32m----> 3\u001b[0;31m     \u001b[0mgeom\u001b[0m\u001b[0;34m[\u001b[0m\u001b[0;34m'x'\u001b[0m\u001b[0;34m]\u001b[0m \u001b[0;34m=\u001b[0m \u001b[0mgeom\u001b[0m\u001b[0;34m[\u001b[0m\u001b[0;34m'geometry'\u001b[0m\u001b[0;34m]\u001b[0m\u001b[0;34m.\u001b[0m\u001b[0mapply\u001b[0m\u001b[0;34m(\u001b[0m\u001b[0;32mlambda\u001b[0m \u001b[0mx\u001b[0m\u001b[0;34m:\u001b[0m \u001b[0mx\u001b[0m\u001b[0;34m.\u001b[0m\u001b[0mcentroid\u001b[0m\u001b[0;34m.\u001b[0m\u001b[0mx\u001b[0m\u001b[0;34m)\u001b[0m\u001b[0;34m\u001b[0m\u001b[0;34m\u001b[0m\u001b[0m\n\u001b[0m\u001b[1;32m      4\u001b[0m     \u001b[0mgeom\u001b[0m\u001b[0;34m[\u001b[0m\u001b[0;34m'y'\u001b[0m\u001b[0;34m]\u001b[0m \u001b[0;34m=\u001b[0m \u001b[0mgeom\u001b[0m\u001b[0;34m[\u001b[0m\u001b[0;34m'geometry'\u001b[0m\u001b[0;34m]\u001b[0m\u001b[0;34m.\u001b[0m\u001b[0mapply\u001b[0m\u001b[0;34m(\u001b[0m\u001b[0;32mlambda\u001b[0m \u001b[0mx\u001b[0m\u001b[0;34m:\u001b[0m \u001b[0mx\u001b[0m\u001b[0;34m.\u001b[0m\u001b[0mcentroid\u001b[0m\u001b[0;34m.\u001b[0m\u001b[0my\u001b[0m\u001b[0;34m)\u001b[0m\u001b[0;34m\u001b[0m\u001b[0;34m\u001b[0m\u001b[0m\n\u001b[1;32m      5\u001b[0m     \u001b[0mx\u001b[0m \u001b[0;34m=\u001b[0m \u001b[0mgeom\u001b[0m\u001b[0;34m[\u001b[0m\u001b[0;34m'x'\u001b[0m\u001b[0;34m]\u001b[0m\u001b[0;34m.\u001b[0m\u001b[0mmean\u001b[0m\u001b[0;34m(\u001b[0m\u001b[0;34m)\u001b[0m\u001b[0;34m\u001b[0m\u001b[0;34m\u001b[0m\u001b[0m\n",
          "\u001b[0;32m~/anaconda3/envs/geo_env/lib/python3.7/site-packages/geopandas/geoseries.py\u001b[0m in \u001b[0;36mapply\u001b[0;34m(self, func, args, **kwargs)\u001b[0m\n\u001b[1;32m    317\u001b[0m     \u001b[0;34m@\u001b[0m\u001b[0minherit_doc\u001b[0m\u001b[0;34m(\u001b[0m\u001b[0mpd\u001b[0m\u001b[0;34m.\u001b[0m\u001b[0mSeries\u001b[0m\u001b[0;34m)\u001b[0m\u001b[0;34m\u001b[0m\u001b[0;34m\u001b[0m\u001b[0m\n\u001b[1;32m    318\u001b[0m     \u001b[0;32mdef\u001b[0m \u001b[0mapply\u001b[0m\u001b[0;34m(\u001b[0m\u001b[0mself\u001b[0m\u001b[0;34m,\u001b[0m \u001b[0mfunc\u001b[0m\u001b[0;34m,\u001b[0m \u001b[0margs\u001b[0m\u001b[0;34m=\u001b[0m\u001b[0;34m(\u001b[0m\u001b[0;34m)\u001b[0m\u001b[0;34m,\u001b[0m \u001b[0;34m**\u001b[0m\u001b[0mkwargs\u001b[0m\u001b[0;34m)\u001b[0m\u001b[0;34m:\u001b[0m\u001b[0;34m\u001b[0m\u001b[0;34m\u001b[0m\u001b[0m\n\u001b[0;32m--> 319\u001b[0;31m         \u001b[0mresult\u001b[0m \u001b[0;34m=\u001b[0m \u001b[0msuper\u001b[0m\u001b[0;34m(\u001b[0m\u001b[0;34m)\u001b[0m\u001b[0;34m.\u001b[0m\u001b[0mapply\u001b[0m\u001b[0;34m(\u001b[0m\u001b[0mfunc\u001b[0m\u001b[0;34m,\u001b[0m \u001b[0margs\u001b[0m\u001b[0;34m=\u001b[0m\u001b[0margs\u001b[0m\u001b[0;34m,\u001b[0m \u001b[0;34m**\u001b[0m\u001b[0mkwargs\u001b[0m\u001b[0;34m)\u001b[0m\u001b[0;34m\u001b[0m\u001b[0;34m\u001b[0m\u001b[0m\n\u001b[0m\u001b[1;32m    320\u001b[0m         \u001b[0;32mif\u001b[0m \u001b[0misinstance\u001b[0m\u001b[0;34m(\u001b[0m\u001b[0mresult\u001b[0m\u001b[0;34m,\u001b[0m \u001b[0mGeoSeries\u001b[0m\u001b[0;34m)\u001b[0m\u001b[0;34m:\u001b[0m\u001b[0;34m\u001b[0m\u001b[0;34m\u001b[0m\u001b[0m\n\u001b[1;32m    321\u001b[0m             \u001b[0;32mif\u001b[0m \u001b[0mself\u001b[0m\u001b[0;34m.\u001b[0m\u001b[0mcrs\u001b[0m \u001b[0;32mis\u001b[0m \u001b[0;32mnot\u001b[0m \u001b[0;32mNone\u001b[0m\u001b[0;34m:\u001b[0m\u001b[0;34m\u001b[0m\u001b[0;34m\u001b[0m\u001b[0m\n",
          "\u001b[0;32m~/anaconda3/envs/geo_env/lib/python3.7/site-packages/pandas/core/series.py\u001b[0m in \u001b[0;36mapply\u001b[0;34m(self, func, convert_dtype, args, **kwds)\u001b[0m\n\u001b[1;32m   4106\u001b[0m             \u001b[0;32melse\u001b[0m\u001b[0;34m:\u001b[0m\u001b[0;34m\u001b[0m\u001b[0;34m\u001b[0m\u001b[0m\n\u001b[1;32m   4107\u001b[0m                 \u001b[0mvalues\u001b[0m \u001b[0;34m=\u001b[0m \u001b[0mself\u001b[0m\u001b[0;34m.\u001b[0m\u001b[0mastype\u001b[0m\u001b[0;34m(\u001b[0m\u001b[0mobject\u001b[0m\u001b[0;34m)\u001b[0m\u001b[0;34m.\u001b[0m\u001b[0m_values\u001b[0m\u001b[0;34m\u001b[0m\u001b[0;34m\u001b[0m\u001b[0m\n\u001b[0;32m-> 4108\u001b[0;31m                 \u001b[0mmapped\u001b[0m \u001b[0;34m=\u001b[0m \u001b[0mlib\u001b[0m\u001b[0;34m.\u001b[0m\u001b[0mmap_infer\u001b[0m\u001b[0;34m(\u001b[0m\u001b[0mvalues\u001b[0m\u001b[0;34m,\u001b[0m \u001b[0mf\u001b[0m\u001b[0;34m,\u001b[0m \u001b[0mconvert\u001b[0m\u001b[0;34m=\u001b[0m\u001b[0mconvert_dtype\u001b[0m\u001b[0;34m)\u001b[0m\u001b[0;34m\u001b[0m\u001b[0;34m\u001b[0m\u001b[0m\n\u001b[0m\u001b[1;32m   4109\u001b[0m \u001b[0;34m\u001b[0m\u001b[0m\n\u001b[1;32m   4110\u001b[0m         \u001b[0;32mif\u001b[0m \u001b[0mlen\u001b[0m\u001b[0;34m(\u001b[0m\u001b[0mmapped\u001b[0m\u001b[0;34m)\u001b[0m \u001b[0;32mand\u001b[0m \u001b[0misinstance\u001b[0m\u001b[0;34m(\u001b[0m\u001b[0mmapped\u001b[0m\u001b[0;34m[\u001b[0m\u001b[0;36m0\u001b[0m\u001b[0;34m]\u001b[0m\u001b[0;34m,\u001b[0m \u001b[0mSeries\u001b[0m\u001b[0;34m)\u001b[0m\u001b[0;34m:\u001b[0m\u001b[0;34m\u001b[0m\u001b[0;34m\u001b[0m\u001b[0m\n",
          "\u001b[0;32mpandas/_libs/lib.pyx\u001b[0m in \u001b[0;36mpandas._libs.lib.map_infer\u001b[0;34m()\u001b[0m\n",
          "\u001b[0;32m<ipython-input-37-3890185178dc>\u001b[0m in \u001b[0;36m<lambda>\u001b[0;34m(x)\u001b[0m\n\u001b[1;32m      1\u001b[0m \u001b[0;32mdef\u001b[0m \u001b[0mfigure_9\u001b[0m\u001b[0;34m(\u001b[0m\u001b[0mprojRef\u001b[0m\u001b[0;34m)\u001b[0m\u001b[0;34m:\u001b[0m\u001b[0;34m\u001b[0m\u001b[0;34m\u001b[0m\u001b[0m\n\u001b[1;32m      2\u001b[0m     \u001b[0mgeom\u001b[0m \u001b[0;34m=\u001b[0m \u001b[0mbldgsInwgs84\u001b[0m\u001b[0;34m.\u001b[0m\u001b[0mquery\u001b[0m\u001b[0;34m(\u001b[0m\u001b[0;34mf'project_nu==\"{projRef}\"'\u001b[0m\u001b[0;34m)\u001b[0m\u001b[0;34m.\u001b[0m\u001b[0mcopy\u001b[0m\u001b[0;34m(\u001b[0m\u001b[0;34m)\u001b[0m\u001b[0;34m\u001b[0m\u001b[0;34m\u001b[0m\u001b[0m\n\u001b[0;32m----> 3\u001b[0;31m     \u001b[0mgeom\u001b[0m\u001b[0;34m[\u001b[0m\u001b[0;34m'x'\u001b[0m\u001b[0;34m]\u001b[0m \u001b[0;34m=\u001b[0m \u001b[0mgeom\u001b[0m\u001b[0;34m[\u001b[0m\u001b[0;34m'geometry'\u001b[0m\u001b[0;34m]\u001b[0m\u001b[0;34m.\u001b[0m\u001b[0mapply\u001b[0m\u001b[0;34m(\u001b[0m\u001b[0;32mlambda\u001b[0m \u001b[0mx\u001b[0m\u001b[0;34m:\u001b[0m \u001b[0mx\u001b[0m\u001b[0;34m.\u001b[0m\u001b[0mcentroid\u001b[0m\u001b[0;34m.\u001b[0m\u001b[0mx\u001b[0m\u001b[0;34m)\u001b[0m\u001b[0;34m\u001b[0m\u001b[0;34m\u001b[0m\u001b[0m\n\u001b[0m\u001b[1;32m      4\u001b[0m     \u001b[0mgeom\u001b[0m\u001b[0;34m[\u001b[0m\u001b[0;34m'y'\u001b[0m\u001b[0;34m]\u001b[0m \u001b[0;34m=\u001b[0m \u001b[0mgeom\u001b[0m\u001b[0;34m[\u001b[0m\u001b[0;34m'geometry'\u001b[0m\u001b[0;34m]\u001b[0m\u001b[0;34m.\u001b[0m\u001b[0mapply\u001b[0m\u001b[0;34m(\u001b[0m\u001b[0;32mlambda\u001b[0m \u001b[0mx\u001b[0m\u001b[0;34m:\u001b[0m \u001b[0mx\u001b[0m\u001b[0;34m.\u001b[0m\u001b[0mcentroid\u001b[0m\u001b[0;34m.\u001b[0m\u001b[0my\u001b[0m\u001b[0;34m)\u001b[0m\u001b[0;34m\u001b[0m\u001b[0;34m\u001b[0m\u001b[0m\n\u001b[1;32m      5\u001b[0m     \u001b[0mx\u001b[0m \u001b[0;34m=\u001b[0m \u001b[0mgeom\u001b[0m\u001b[0;34m[\u001b[0m\u001b[0;34m'x'\u001b[0m\u001b[0;34m]\u001b[0m\u001b[0;34m.\u001b[0m\u001b[0mmean\u001b[0m\u001b[0;34m(\u001b[0m\u001b[0;34m)\u001b[0m\u001b[0;34m\u001b[0m\u001b[0;34m\u001b[0m\u001b[0m\n",
          "\u001b[0;32m~/anaconda3/envs/geo_env/lib/python3.7/site-packages/shapely/geometry/point.py\u001b[0m in \u001b[0;36mx\u001b[0;34m(self)\u001b[0m\n\u001b[1;32m     53\u001b[0m     \u001b[0;32mdef\u001b[0m \u001b[0mx\u001b[0m\u001b[0;34m(\u001b[0m\u001b[0mself\u001b[0m\u001b[0;34m)\u001b[0m\u001b[0;34m:\u001b[0m\u001b[0;34m\u001b[0m\u001b[0;34m\u001b[0m\u001b[0m\n\u001b[1;32m     54\u001b[0m         \u001b[0;34m\"\"\"Return x coordinate.\"\"\"\u001b[0m\u001b[0;34m\u001b[0m\u001b[0;34m\u001b[0m\u001b[0m\n\u001b[0;32m---> 55\u001b[0;31m         \u001b[0;32mreturn\u001b[0m \u001b[0mself\u001b[0m\u001b[0;34m.\u001b[0m\u001b[0mcoords\u001b[0m\u001b[0;34m[\u001b[0m\u001b[0;36m0\u001b[0m\u001b[0;34m]\u001b[0m\u001b[0;34m[\u001b[0m\u001b[0;36m0\u001b[0m\u001b[0;34m]\u001b[0m\u001b[0;34m\u001b[0m\u001b[0;34m\u001b[0m\u001b[0m\n\u001b[0m\u001b[1;32m     56\u001b[0m \u001b[0;34m\u001b[0m\u001b[0m\n\u001b[1;32m     57\u001b[0m     \u001b[0;34m@\u001b[0m\u001b[0mproperty\u001b[0m\u001b[0;34m\u001b[0m\u001b[0;34m\u001b[0m\u001b[0m\n",
          "\u001b[0;31mIndexError\u001b[0m: list index out of range"
         ]
        }
       ]
      }
     },
     "4dbcc243551c466f92f9f24f9c3f21af": {
      "model_module": "@jupyter-widgets/controls",
      "model_module_version": "1.5.0",
      "model_name": "HTMLModel",
      "state": {
       "layout": "IPY_MODEL_66b4d875338143ac85062a70cca9d27a",
       "style": "IPY_MODEL_299defab704a4cbd8f818b8c85a191f4",
       "value": "<div style='font-size:15px'><span><b>Apartment Size</b></span> Start Marker: <b>77.2  sq meters </b> End Marker <b> 87.5 sq meters</b><br/><span><b>Years in Neighborhood</b></span> Start Marker: <b>19.0  years </b> End Marker <b> 7.2 years</b><br/><span><b>Cost For Staying</b></span> Start Marker: <b>1351.5  ₪ </b> End Marker <b> 5191.0 ₪</b><br/><span><b>Mean Income</b></span> Start Marker: <b>10086.3  ₪ </b> End Marker <b> 17915.0 ₪</b><br/></div>"
      }
     },
     "53d2777208024610bd39bd75b5c3dd85": {
      "model_module": "@jupyter-widgets/base",
      "model_module_version": "1.2.0",
      "model_name": "LayoutModel",
      "state": {}
     },
     "547fe38e9a93406a9ee9e43345764451": {
      "model_module": "@jupyter-widgets/output",
      "model_module_version": "1.0.0",
      "model_name": "OutputModel",
      "state": {
       "layout": "IPY_MODEL_a089a29354764261a81c8fe81ea7edb2",
       "outputs": [
        {
         "data": {
          "application/vnd.plotly.v1+json": {
           "config": {
            "plotlyServerURL": "https://plot.ly"
           },
           "data": [
            {
             "hovertemplate": "who=Leaving Owners<br>x=%{x}<br>y=%{y}<br>Agents=%{marker.size}<extra></extra>",
             "legendgroup": "Leaving Owners",
             "marker": {
              "color": "cornflowerblue",
              "line": {
               "color": "DarkSlateGrey",
               "width": 2
              },
              "size": [
               8
              ],
              "sizemode": "area",
              "sizeref": 0.0108,
              "symbol": "circle"
             },
             "mode": "markers",
             "name": "Leaving Owners",
             "orientation": "v",
             "showlegend": true,
             "type": "scatter",
             "x": [
              1
             ],
             "xaxis": "x",
             "y": [
              1.25
             ],
             "yaxis": "y"
            },
            {
             "hovertemplate": "who=Leaving Renters<br>x=%{x}<br>y=%{y}<br>Agents=%{marker.size}<extra></extra>",
             "legendgroup": "Leaving Renters",
             "marker": {
              "color": "lightgreen",
              "line": {
               "color": "DarkSlateGrey",
               "width": 2
              },
              "size": [
               6
              ],
              "sizemode": "area",
              "sizeref": 0.0108,
              "symbol": "circle"
             },
             "mode": "markers",
             "name": "Leaving Renters",
             "orientation": "v",
             "showlegend": true,
             "type": "scatter",
             "x": [
              1.1
             ],
             "xaxis": "x",
             "y": [
              1.85
             ],
             "yaxis": "y"
            },
            {
             "hovertemplate": "who=Total Before<br>x=%{x}<br>y=%{y}<br>Agents=%{marker.size}<extra></extra>",
             "legendgroup": "Total Before",
             "marker": {
              "color": "lemonchiffon",
              "line": {
               "color": "DarkSlateGrey",
               "width": 2
              },
              "size": [
               16
              ],
              "sizemode": "area",
              "sizeref": 0.0108,
              "symbol": "circle"
             },
             "mode": "markers",
             "name": "Total Before",
             "orientation": "v",
             "showlegend": true,
             "type": "scatter",
             "x": [
              1.3
             ],
             "xaxis": "x",
             "y": [
              1.3
             ],
             "yaxis": "y"
            },
            {
             "hovertemplate": "who=Surviving Owners<br>x=%{x}<br>y=%{y}<br>Agents=%{marker.size}<extra></extra>",
             "legendgroup": "Surviving Owners",
             "marker": {
              "color": "lightskyblue",
              "line": {
               "color": "DarkSlateGrey",
               "width": 2
              },
              "size": [
               2
              ],
              "sizemode": "area",
              "sizeref": 0.0108,
              "symbol": "circle"
             },
             "mode": "markers",
             "name": "Surviving Owners",
             "orientation": "v",
             "showlegend": true,
             "type": "scatter",
             "x": [
              1.3
             ],
             "xaxis": "x",
             "y": [
              1.3
             ],
             "yaxis": "y"
            },
            {
             "hovertemplate": "who=New Renters<br>x=%{x}<br>y=%{y}<br>Agents=%{marker.size}<extra></extra>",
             "legendgroup": "New Renters",
             "marker": {
              "color": "green",
              "line": {
               "color": "DarkSlateGrey",
               "width": 2
              },
              "size": [
               6
              ],
              "sizemode": "area",
              "sizeref": 0.0108,
              "symbol": "circle"
             },
             "mode": "markers",
             "name": "New Renters",
             "orientation": "v",
             "showlegend": true,
             "type": "scatter",
             "x": [
              1.1
             ],
             "xaxis": "x",
             "y": [
              2.25
             ],
             "yaxis": "y"
            },
            {
             "hovertemplate": "who=New Owners<br>x=%{x}<br>y=%{y}<br>Agents=%{marker.size}<extra></extra>",
             "legendgroup": "New Owners",
             "marker": {
              "color": "deepskyblue",
              "line": {
               "color": "DarkSlateGrey",
               "width": 2
              },
              "size": [
               19
              ],
              "sizemode": "area",
              "sizeref": 0.0108,
              "symbol": "circle"
             },
             "mode": "markers",
             "name": "New Owners",
             "orientation": "v",
             "showlegend": true,
             "type": "scatter",
             "x": [
              1.25
             ],
             "xaxis": "x",
             "y": [
              2.25
             ],
             "yaxis": "y"
            },
            {
             "hovertemplate": "who=Total After<br>x=%{x}<br>y=%{y}<br>Agents=%{marker.size}<extra></extra>",
             "legendgroup": "Total After",
             "marker": {
              "color": "white",
              "line": {
               "color": "DarkSlateGrey",
               "width": 2
              },
              "size": [
               27
              ],
              "sizemode": "area",
              "sizeref": 0.0108,
              "symbol": "circle"
             },
             "mode": "markers",
             "name": "Total After",
             "orientation": "v",
             "showlegend": true,
             "type": "scatter",
             "x": [
              1.3
             ],
             "xaxis": "x",
             "y": [
              1.3
             ],
             "yaxis": "y"
            },
            {
             "marker": {
              "line": {
               "color": "DarkSlateGrey",
               "width": 2
              }
             },
             "mode": "text",
             "text": [
              8,
              6,
              16,
              2,
              6,
              19,
              27
             ],
             "type": "scatter",
             "x": [
              1,
              1.1,
              1.3,
              1.3,
              1.1,
              1.25,
              1.3
             ],
             "y": [
              1.25,
              1.85,
              1.3,
              1.3,
              2.25,
              2.25,
              1.3
             ]
            }
           ],
           "layout": {
            "annotations": [
             {
              "arrowcolor": "lightgray",
              "arrowhead": 3,
              "arrowsize": 1,
              "arrowwidth": 3,
              "ax": 1.3,
              "axref": "x",
              "ay": 1.3,
              "ayref": "y",
              "showarrow": true,
              "text": "",
              "x": 1,
              "xref": "x",
              "y": 1.25,
              "yref": "y"
             },
             {
              "arrowcolor": "lightgray",
              "arrowhead": 3,
              "arrowsize": 1,
              "arrowwidth": 3,
              "ax": 1.3,
              "axref": "x",
              "ay": 1.3,
              "ayref": "y",
              "showarrow": true,
              "text": "",
              "x": 1.1,
              "xref": "x",
              "y": 1.85,
              "yref": "y"
             },
             {
              "arrowcolor": "lightgray",
              "arrowhead": 3,
              "arrowsize": 1,
              "arrowwidth": 3,
              "ax": 1.25,
              "axref": "x",
              "ay": 2.25,
              "ayref": "y",
              "showarrow": true,
              "text": "",
              "x": 1.3,
              "xref": "x",
              "y": 1.3,
              "yref": "y"
             },
             {
              "arrowcolor": "lightgray",
              "arrowhead": 3,
              "arrowsize": 1,
              "arrowwidth": 3,
              "ax": 1.1,
              "axref": "x",
              "ay": 2.25,
              "ayref": "y",
              "showarrow": true,
              "text": "",
              "x": 1.3,
              "xref": "x",
              "y": 1.3,
              "yref": "y"
             }
            ],
            "height": 400,
            "legend": {
             "itemsizing": "constant",
             "title": {
              "text": "who"
             },
             "tracegroupgap": 0,
             "x": 0.95,
             "xanchor": "left",
             "y": 0.95,
             "yanchor": "top"
            },
            "margin": {
             "b": 0,
             "l": 0,
             "r": 0,
             "t": 60
            },
            "plot_bgcolor": "white",
            "template": {
             "data": {
              "bar": [
               {
                "error_x": {
                 "color": "#2a3f5f"
                },
                "error_y": {
                 "color": "#2a3f5f"
                },
                "marker": {
                 "line": {
                  "color": "#E5ECF6",
                  "width": 0.5
                 }
                },
                "type": "bar"
               }
              ],
              "barpolar": [
               {
                "marker": {
                 "line": {
                  "color": "#E5ECF6",
                  "width": 0.5
                 }
                },
                "type": "barpolar"
               }
              ],
              "carpet": [
               {
                "aaxis": {
                 "endlinecolor": "#2a3f5f",
                 "gridcolor": "white",
                 "linecolor": "white",
                 "minorgridcolor": "white",
                 "startlinecolor": "#2a3f5f"
                },
                "baxis": {
                 "endlinecolor": "#2a3f5f",
                 "gridcolor": "white",
                 "linecolor": "white",
                 "minorgridcolor": "white",
                 "startlinecolor": "#2a3f5f"
                },
                "type": "carpet"
               }
              ],
              "choropleth": [
               {
                "colorbar": {
                 "outlinewidth": 0,
                 "ticks": ""
                },
                "type": "choropleth"
               }
              ],
              "contour": [
               {
                "colorbar": {
                 "outlinewidth": 0,
                 "ticks": ""
                },
                "colorscale": [
                 [
                  0,
                  "#0d0887"
                 ],
                 [
                  0.1111111111111111,
                  "#46039f"
                 ],
                 [
                  0.2222222222222222,
                  "#7201a8"
                 ],
                 [
                  0.3333333333333333,
                  "#9c179e"
                 ],
                 [
                  0.4444444444444444,
                  "#bd3786"
                 ],
                 [
                  0.5555555555555556,
                  "#d8576b"
                 ],
                 [
                  0.6666666666666666,
                  "#ed7953"
                 ],
                 [
                  0.7777777777777778,
                  "#fb9f3a"
                 ],
                 [
                  0.8888888888888888,
                  "#fdca26"
                 ],
                 [
                  1,
                  "#f0f921"
                 ]
                ],
                "type": "contour"
               }
              ],
              "contourcarpet": [
               {
                "colorbar": {
                 "outlinewidth": 0,
                 "ticks": ""
                },
                "type": "contourcarpet"
               }
              ],
              "heatmap": [
               {
                "colorbar": {
                 "outlinewidth": 0,
                 "ticks": ""
                },
                "colorscale": [
                 [
                  0,
                  "#0d0887"
                 ],
                 [
                  0.1111111111111111,
                  "#46039f"
                 ],
                 [
                  0.2222222222222222,
                  "#7201a8"
                 ],
                 [
                  0.3333333333333333,
                  "#9c179e"
                 ],
                 [
                  0.4444444444444444,
                  "#bd3786"
                 ],
                 [
                  0.5555555555555556,
                  "#d8576b"
                 ],
                 [
                  0.6666666666666666,
                  "#ed7953"
                 ],
                 [
                  0.7777777777777778,
                  "#fb9f3a"
                 ],
                 [
                  0.8888888888888888,
                  "#fdca26"
                 ],
                 [
                  1,
                  "#f0f921"
                 ]
                ],
                "type": "heatmap"
               }
              ],
              "heatmapgl": [
               {
                "colorbar": {
                 "outlinewidth": 0,
                 "ticks": ""
                },
                "colorscale": [
                 [
                  0,
                  "#0d0887"
                 ],
                 [
                  0.1111111111111111,
                  "#46039f"
                 ],
                 [
                  0.2222222222222222,
                  "#7201a8"
                 ],
                 [
                  0.3333333333333333,
                  "#9c179e"
                 ],
                 [
                  0.4444444444444444,
                  "#bd3786"
                 ],
                 [
                  0.5555555555555556,
                  "#d8576b"
                 ],
                 [
                  0.6666666666666666,
                  "#ed7953"
                 ],
                 [
                  0.7777777777777778,
                  "#fb9f3a"
                 ],
                 [
                  0.8888888888888888,
                  "#fdca26"
                 ],
                 [
                  1,
                  "#f0f921"
                 ]
                ],
                "type": "heatmapgl"
               }
              ],
              "histogram": [
               {
                "marker": {
                 "colorbar": {
                  "outlinewidth": 0,
                  "ticks": ""
                 }
                },
                "type": "histogram"
               }
              ],
              "histogram2d": [
               {
                "colorbar": {
                 "outlinewidth": 0,
                 "ticks": ""
                },
                "colorscale": [
                 [
                  0,
                  "#0d0887"
                 ],
                 [
                  0.1111111111111111,
                  "#46039f"
                 ],
                 [
                  0.2222222222222222,
                  "#7201a8"
                 ],
                 [
                  0.3333333333333333,
                  "#9c179e"
                 ],
                 [
                  0.4444444444444444,
                  "#bd3786"
                 ],
                 [
                  0.5555555555555556,
                  "#d8576b"
                 ],
                 [
                  0.6666666666666666,
                  "#ed7953"
                 ],
                 [
                  0.7777777777777778,
                  "#fb9f3a"
                 ],
                 [
                  0.8888888888888888,
                  "#fdca26"
                 ],
                 [
                  1,
                  "#f0f921"
                 ]
                ],
                "type": "histogram2d"
               }
              ],
              "histogram2dcontour": [
               {
                "colorbar": {
                 "outlinewidth": 0,
                 "ticks": ""
                },
                "colorscale": [
                 [
                  0,
                  "#0d0887"
                 ],
                 [
                  0.1111111111111111,
                  "#46039f"
                 ],
                 [
                  0.2222222222222222,
                  "#7201a8"
                 ],
                 [
                  0.3333333333333333,
                  "#9c179e"
                 ],
                 [
                  0.4444444444444444,
                  "#bd3786"
                 ],
                 [
                  0.5555555555555556,
                  "#d8576b"
                 ],
                 [
                  0.6666666666666666,
                  "#ed7953"
                 ],
                 [
                  0.7777777777777778,
                  "#fb9f3a"
                 ],
                 [
                  0.8888888888888888,
                  "#fdca26"
                 ],
                 [
                  1,
                  "#f0f921"
                 ]
                ],
                "type": "histogram2dcontour"
               }
              ],
              "mesh3d": [
               {
                "colorbar": {
                 "outlinewidth": 0,
                 "ticks": ""
                },
                "type": "mesh3d"
               }
              ],
              "parcoords": [
               {
                "line": {
                 "colorbar": {
                  "outlinewidth": 0,
                  "ticks": ""
                 }
                },
                "type": "parcoords"
               }
              ],
              "pie": [
               {
                "automargin": true,
                "type": "pie"
               }
              ],
              "scatter": [
               {
                "marker": {
                 "colorbar": {
                  "outlinewidth": 0,
                  "ticks": ""
                 }
                },
                "type": "scatter"
               }
              ],
              "scatter3d": [
               {
                "line": {
                 "colorbar": {
                  "outlinewidth": 0,
                  "ticks": ""
                 }
                },
                "marker": {
                 "colorbar": {
                  "outlinewidth": 0,
                  "ticks": ""
                 }
                },
                "type": "scatter3d"
               }
              ],
              "scattercarpet": [
               {
                "marker": {
                 "colorbar": {
                  "outlinewidth": 0,
                  "ticks": ""
                 }
                },
                "type": "scattercarpet"
               }
              ],
              "scattergeo": [
               {
                "marker": {
                 "colorbar": {
                  "outlinewidth": 0,
                  "ticks": ""
                 }
                },
                "type": "scattergeo"
               }
              ],
              "scattergl": [
               {
                "marker": {
                 "colorbar": {
                  "outlinewidth": 0,
                  "ticks": ""
                 }
                },
                "type": "scattergl"
               }
              ],
              "scattermapbox": [
               {
                "marker": {
                 "colorbar": {
                  "outlinewidth": 0,
                  "ticks": ""
                 }
                },
                "type": "scattermapbox"
               }
              ],
              "scatterpolar": [
               {
                "marker": {
                 "colorbar": {
                  "outlinewidth": 0,
                  "ticks": ""
                 }
                },
                "type": "scatterpolar"
               }
              ],
              "scatterpolargl": [
               {
                "marker": {
                 "colorbar": {
                  "outlinewidth": 0,
                  "ticks": ""
                 }
                },
                "type": "scatterpolargl"
               }
              ],
              "scatterternary": [
               {
                "marker": {
                 "colorbar": {
                  "outlinewidth": 0,
                  "ticks": ""
                 }
                },
                "type": "scatterternary"
               }
              ],
              "surface": [
               {
                "colorbar": {
                 "outlinewidth": 0,
                 "ticks": ""
                },
                "colorscale": [
                 [
                  0,
                  "#0d0887"
                 ],
                 [
                  0.1111111111111111,
                  "#46039f"
                 ],
                 [
                  0.2222222222222222,
                  "#7201a8"
                 ],
                 [
                  0.3333333333333333,
                  "#9c179e"
                 ],
                 [
                  0.4444444444444444,
                  "#bd3786"
                 ],
                 [
                  0.5555555555555556,
                  "#d8576b"
                 ],
                 [
                  0.6666666666666666,
                  "#ed7953"
                 ],
                 [
                  0.7777777777777778,
                  "#fb9f3a"
                 ],
                 [
                  0.8888888888888888,
                  "#fdca26"
                 ],
                 [
                  1,
                  "#f0f921"
                 ]
                ],
                "type": "surface"
               }
              ],
              "table": [
               {
                "cells": {
                 "fill": {
                  "color": "#EBF0F8"
                 },
                 "line": {
                  "color": "white"
                 }
                },
                "header": {
                 "fill": {
                  "color": "#C8D4E3"
                 },
                 "line": {
                  "color": "white"
                 }
                },
                "type": "table"
               }
              ]
             },
             "layout": {
              "annotationdefaults": {
               "arrowcolor": "#2a3f5f",
               "arrowhead": 0,
               "arrowwidth": 1
              },
              "autotypenumbers": "strict",
              "coloraxis": {
               "colorbar": {
                "outlinewidth": 0,
                "ticks": ""
               }
              },
              "colorscale": {
               "diverging": [
                [
                 0,
                 "#8e0152"
                ],
                [
                 0.1,
                 "#c51b7d"
                ],
                [
                 0.2,
                 "#de77ae"
                ],
                [
                 0.3,
                 "#f1b6da"
                ],
                [
                 0.4,
                 "#fde0ef"
                ],
                [
                 0.5,
                 "#f7f7f7"
                ],
                [
                 0.6,
                 "#e6f5d0"
                ],
                [
                 0.7,
                 "#b8e186"
                ],
                [
                 0.8,
                 "#7fbc41"
                ],
                [
                 0.9,
                 "#4d9221"
                ],
                [
                 1,
                 "#276419"
                ]
               ],
               "sequential": [
                [
                 0,
                 "#0d0887"
                ],
                [
                 0.1111111111111111,
                 "#46039f"
                ],
                [
                 0.2222222222222222,
                 "#7201a8"
                ],
                [
                 0.3333333333333333,
                 "#9c179e"
                ],
                [
                 0.4444444444444444,
                 "#bd3786"
                ],
                [
                 0.5555555555555556,
                 "#d8576b"
                ],
                [
                 0.6666666666666666,
                 "#ed7953"
                ],
                [
                 0.7777777777777778,
                 "#fb9f3a"
                ],
                [
                 0.8888888888888888,
                 "#fdca26"
                ],
                [
                 1,
                 "#f0f921"
                ]
               ],
               "sequentialminus": [
                [
                 0,
                 "#0d0887"
                ],
                [
                 0.1111111111111111,
                 "#46039f"
                ],
                [
                 0.2222222222222222,
                 "#7201a8"
                ],
                [
                 0.3333333333333333,
                 "#9c179e"
                ],
                [
                 0.4444444444444444,
                 "#bd3786"
                ],
                [
                 0.5555555555555556,
                 "#d8576b"
                ],
                [
                 0.6666666666666666,
                 "#ed7953"
                ],
                [
                 0.7777777777777778,
                 "#fb9f3a"
                ],
                [
                 0.8888888888888888,
                 "#fdca26"
                ],
                [
                 1,
                 "#f0f921"
                ]
               ]
              },
              "colorway": [
               "#636efa",
               "#EF553B",
               "#00cc96",
               "#ab63fa",
               "#FFA15A",
               "#19d3f3",
               "#FF6692",
               "#B6E880",
               "#FF97FF",
               "#FECB52"
              ],
              "font": {
               "color": "#2a3f5f"
              },
              "geo": {
               "bgcolor": "white",
               "lakecolor": "white",
               "landcolor": "#E5ECF6",
               "showlakes": true,
               "showland": true,
               "subunitcolor": "white"
              },
              "hoverlabel": {
               "align": "left"
              },
              "hovermode": "closest",
              "mapbox": {
               "style": "light"
              },
              "paper_bgcolor": "white",
              "plot_bgcolor": "#E5ECF6",
              "polar": {
               "angularaxis": {
                "gridcolor": "white",
                "linecolor": "white",
                "ticks": ""
               },
               "bgcolor": "#E5ECF6",
               "radialaxis": {
                "gridcolor": "white",
                "linecolor": "white",
                "ticks": ""
               }
              },
              "scene": {
               "xaxis": {
                "backgroundcolor": "#E5ECF6",
                "gridcolor": "white",
                "gridwidth": 2,
                "linecolor": "white",
                "showbackground": true,
                "ticks": "",
                "zerolinecolor": "white"
               },
               "yaxis": {
                "backgroundcolor": "#E5ECF6",
                "gridcolor": "white",
                "gridwidth": 2,
                "linecolor": "white",
                "showbackground": true,
                "ticks": "",
                "zerolinecolor": "white"
               },
               "zaxis": {
                "backgroundcolor": "#E5ECF6",
                "gridcolor": "white",
                "gridwidth": 2,
                "linecolor": "white",
                "showbackground": true,
                "ticks": "",
                "zerolinecolor": "white"
               }
              },
              "shapedefaults": {
               "line": {
                "color": "#2a3f5f"
               }
              },
              "ternary": {
               "aaxis": {
                "gridcolor": "white",
                "linecolor": "white",
                "ticks": ""
               },
               "baxis": {
                "gridcolor": "white",
                "linecolor": "white",
                "ticks": ""
               },
               "bgcolor": "#E5ECF6",
               "caxis": {
                "gridcolor": "white",
                "linecolor": "white",
                "ticks": ""
               }
              },
              "title": {
               "x": 0.05
              },
              "xaxis": {
               "automargin": true,
               "gridcolor": "white",
               "linecolor": "white",
               "ticks": "",
               "title": {
                "standoff": 15
               },
               "zerolinecolor": "white",
               "zerolinewidth": 2
              },
              "yaxis": {
               "automargin": true,
               "gridcolor": "white",
               "linecolor": "white",
               "ticks": "",
               "title": {
                "standoff": 15
               },
               "zerolinecolor": "white",
               "zerolinewidth": 2
              }
             }
            },
            "width": 600,
            "xaxis": {
             "anchor": "y",
             "domain": [
              0,
              1
             ],
             "showticklabels": false,
             "title": {
              "text": "x"
             },
             "visible": false
            },
            "yaxis": {
             "anchor": "x",
             "domain": [
              0,
              1
             ],
             "showticklabels": false,
             "title": {
              "text": "y"
             },
             "visible": false
            }
           }
          },
          "text/html": "<div>                            <div id=\"66957a6e-1bb2-43ca-964a-00b41b08b4c3\" class=\"plotly-graph-div\" style=\"height:400px; width:600px;\"></div>            <script type=\"text/javascript\">                require([\"plotly\"], function(Plotly) {                    window.PLOTLYENV=window.PLOTLYENV || {};                                    if (document.getElementById(\"66957a6e-1bb2-43ca-964a-00b41b08b4c3\")) {                    Plotly.newPlot(                        \"66957a6e-1bb2-43ca-964a-00b41b08b4c3\",                        [{\"hovertemplate\": \"who=Leaving Owners<br>x=%{x}<br>y=%{y}<br>Agents=%{marker.size}<extra></extra>\", \"legendgroup\": \"Leaving Owners\", \"marker\": {\"color\": \"cornflowerblue\", \"line\": {\"color\": \"DarkSlateGrey\", \"width\": 2}, \"size\": [8.0], \"sizemode\": \"area\", \"sizeref\": 0.0108, \"symbol\": \"circle\"}, \"mode\": \"markers\", \"name\": \"Leaving Owners\", \"orientation\": \"v\", \"showlegend\": true, \"type\": \"scatter\", \"x\": [1.0], \"xaxis\": \"x\", \"y\": [1.25], \"yaxis\": \"y\"}, {\"hovertemplate\": \"who=Leaving Renters<br>x=%{x}<br>y=%{y}<br>Agents=%{marker.size}<extra></extra>\", \"legendgroup\": \"Leaving Renters\", \"marker\": {\"color\": \"lightgreen\", \"line\": {\"color\": \"DarkSlateGrey\", \"width\": 2}, \"size\": [6.0], \"sizemode\": \"area\", \"sizeref\": 0.0108, \"symbol\": \"circle\"}, \"mode\": \"markers\", \"name\": \"Leaving Renters\", \"orientation\": \"v\", \"showlegend\": true, \"type\": \"scatter\", \"x\": [1.1], \"xaxis\": \"x\", \"y\": [1.85], \"yaxis\": \"y\"}, {\"hovertemplate\": \"who=Total Before<br>x=%{x}<br>y=%{y}<br>Agents=%{marker.size}<extra></extra>\", \"legendgroup\": \"Total Before\", \"marker\": {\"color\": \"lemonchiffon\", \"line\": {\"color\": \"DarkSlateGrey\", \"width\": 2}, \"size\": [16.0], \"sizemode\": \"area\", \"sizeref\": 0.0108, \"symbol\": \"circle\"}, \"mode\": \"markers\", \"name\": \"Total Before\", \"orientation\": \"v\", \"showlegend\": true, \"type\": \"scatter\", \"x\": [1.3], \"xaxis\": \"x\", \"y\": [1.3], \"yaxis\": \"y\"}, {\"hovertemplate\": \"who=Surviving Owners<br>x=%{x}<br>y=%{y}<br>Agents=%{marker.size}<extra></extra>\", \"legendgroup\": \"Surviving Owners\", \"marker\": {\"color\": \"lightskyblue\", \"line\": {\"color\": \"DarkSlateGrey\", \"width\": 2}, \"size\": [2.0], \"sizemode\": \"area\", \"sizeref\": 0.0108, \"symbol\": \"circle\"}, \"mode\": \"markers\", \"name\": \"Surviving Owners\", \"orientation\": \"v\", \"showlegend\": true, \"type\": \"scatter\", \"x\": [1.3], \"xaxis\": \"x\", \"y\": [1.3], \"yaxis\": \"y\"}, {\"hovertemplate\": \"who=New Renters<br>x=%{x}<br>y=%{y}<br>Agents=%{marker.size}<extra></extra>\", \"legendgroup\": \"New Renters\", \"marker\": {\"color\": \"green\", \"line\": {\"color\": \"DarkSlateGrey\", \"width\": 2}, \"size\": [6.0], \"sizemode\": \"area\", \"sizeref\": 0.0108, \"symbol\": \"circle\"}, \"mode\": \"markers\", \"name\": \"New Renters\", \"orientation\": \"v\", \"showlegend\": true, \"type\": \"scatter\", \"x\": [1.1], \"xaxis\": \"x\", \"y\": [2.25], \"yaxis\": \"y\"}, {\"hovertemplate\": \"who=New Owners<br>x=%{x}<br>y=%{y}<br>Agents=%{marker.size}<extra></extra>\", \"legendgroup\": \"New Owners\", \"marker\": {\"color\": \"deepskyblue\", \"line\": {\"color\": \"DarkSlateGrey\", \"width\": 2}, \"size\": [19.0], \"sizemode\": \"area\", \"sizeref\": 0.0108, \"symbol\": \"circle\"}, \"mode\": \"markers\", \"name\": \"New Owners\", \"orientation\": \"v\", \"showlegend\": true, \"type\": \"scatter\", \"x\": [1.25], \"xaxis\": \"x\", \"y\": [2.25], \"yaxis\": \"y\"}, {\"hovertemplate\": \"who=Total After<br>x=%{x}<br>y=%{y}<br>Agents=%{marker.size}<extra></extra>\", \"legendgroup\": \"Total After\", \"marker\": {\"color\": \"white\", \"line\": {\"color\": \"DarkSlateGrey\", \"width\": 2}, \"size\": [27.0], \"sizemode\": \"area\", \"sizeref\": 0.0108, \"symbol\": \"circle\"}, \"mode\": \"markers\", \"name\": \"Total After\", \"orientation\": \"v\", \"showlegend\": true, \"type\": \"scatter\", \"x\": [1.3], \"xaxis\": \"x\", \"y\": [1.3], \"yaxis\": \"y\"}, {\"marker\": {\"line\": {\"color\": \"DarkSlateGrey\", \"width\": 2}}, \"mode\": \"text\", \"text\": [8.0, 6.0, 16.0, 2.0, 6.0, 19.0, 27.0], \"type\": \"scatter\", \"x\": [1.0, 1.1, 1.3, 1.3, 1.1, 1.25, 1.3], \"y\": [1.25, 1.85, 1.3, 1.3, 2.25, 2.25, 1.3]}],                        {\"annotations\": [{\"arrowcolor\": \"lightgray\", \"arrowhead\": 3, \"arrowsize\": 1, \"arrowwidth\": 3, \"ax\": 1.3, \"axref\": \"x\", \"ay\": 1.3, \"ayref\": \"y\", \"showarrow\": true, \"text\": \"\", \"x\": 1, \"xref\": \"x\", \"y\": 1.25, \"yref\": \"y\"}, {\"arrowcolor\": \"lightgray\", \"arrowhead\": 3, \"arrowsize\": 1, \"arrowwidth\": 3, \"ax\": 1.3, \"axref\": \"x\", \"ay\": 1.3, \"ayref\": \"y\", \"showarrow\": true, \"text\": \"\", \"x\": 1.1, \"xref\": \"x\", \"y\": 1.85, \"yref\": \"y\"}, {\"arrowcolor\": \"lightgray\", \"arrowhead\": 3, \"arrowsize\": 1, \"arrowwidth\": 3, \"ax\": 1.25, \"axref\": \"x\", \"ay\": 2.25, \"ayref\": \"y\", \"showarrow\": true, \"text\": \"\", \"x\": 1.3, \"xref\": \"x\", \"y\": 1.3, \"yref\": \"y\"}, {\"arrowcolor\": \"lightgray\", \"arrowhead\": 3, \"arrowsize\": 1, \"arrowwidth\": 3, \"ax\": 1.1, \"axref\": \"x\", \"ay\": 2.25, \"ayref\": \"y\", \"showarrow\": true, \"text\": \"\", \"x\": 1.3, \"xref\": \"x\", \"y\": 1.3, \"yref\": \"y\"}], \"height\": 400, \"legend\": {\"itemsizing\": \"constant\", \"title\": {\"text\": \"who\"}, \"tracegroupgap\": 0, \"x\": 0.95, \"xanchor\": \"left\", \"y\": 0.95, \"yanchor\": \"top\"}, \"margin\": {\"b\": 0, \"l\": 0, \"r\": 0, \"t\": 60}, \"plot_bgcolor\": \"white\", \"template\": {\"data\": {\"bar\": [{\"error_x\": {\"color\": \"#2a3f5f\"}, \"error_y\": {\"color\": \"#2a3f5f\"}, \"marker\": {\"line\": {\"color\": \"#E5ECF6\", \"width\": 0.5}}, \"type\": \"bar\"}], \"barpolar\": [{\"marker\": {\"line\": {\"color\": \"#E5ECF6\", \"width\": 0.5}}, \"type\": \"barpolar\"}], \"carpet\": [{\"aaxis\": {\"endlinecolor\": \"#2a3f5f\", \"gridcolor\": \"white\", \"linecolor\": \"white\", \"minorgridcolor\": \"white\", \"startlinecolor\": \"#2a3f5f\"}, \"baxis\": {\"endlinecolor\": \"#2a3f5f\", \"gridcolor\": \"white\", \"linecolor\": \"white\", \"minorgridcolor\": \"white\", \"startlinecolor\": \"#2a3f5f\"}, \"type\": \"carpet\"}], \"choropleth\": [{\"colorbar\": {\"outlinewidth\": 0, \"ticks\": \"\"}, \"type\": \"choropleth\"}], \"contour\": [{\"colorbar\": {\"outlinewidth\": 0, \"ticks\": \"\"}, \"colorscale\": [[0.0, \"#0d0887\"], [0.1111111111111111, \"#46039f\"], [0.2222222222222222, \"#7201a8\"], [0.3333333333333333, \"#9c179e\"], [0.4444444444444444, \"#bd3786\"], [0.5555555555555556, \"#d8576b\"], [0.6666666666666666, \"#ed7953\"], [0.7777777777777778, \"#fb9f3a\"], [0.8888888888888888, \"#fdca26\"], [1.0, \"#f0f921\"]], \"type\": \"contour\"}], \"contourcarpet\": [{\"colorbar\": {\"outlinewidth\": 0, \"ticks\": \"\"}, \"type\": \"contourcarpet\"}], \"heatmap\": [{\"colorbar\": {\"outlinewidth\": 0, \"ticks\": \"\"}, \"colorscale\": [[0.0, \"#0d0887\"], [0.1111111111111111, \"#46039f\"], [0.2222222222222222, \"#7201a8\"], [0.3333333333333333, \"#9c179e\"], [0.4444444444444444, \"#bd3786\"], [0.5555555555555556, \"#d8576b\"], [0.6666666666666666, \"#ed7953\"], [0.7777777777777778, \"#fb9f3a\"], [0.8888888888888888, \"#fdca26\"], [1.0, \"#f0f921\"]], \"type\": \"heatmap\"}], \"heatmapgl\": [{\"colorbar\": {\"outlinewidth\": 0, \"ticks\": \"\"}, \"colorscale\": [[0.0, \"#0d0887\"], [0.1111111111111111, \"#46039f\"], [0.2222222222222222, \"#7201a8\"], [0.3333333333333333, \"#9c179e\"], [0.4444444444444444, \"#bd3786\"], [0.5555555555555556, \"#d8576b\"], [0.6666666666666666, \"#ed7953\"], [0.7777777777777778, \"#fb9f3a\"], [0.8888888888888888, \"#fdca26\"], [1.0, \"#f0f921\"]], \"type\": \"heatmapgl\"}], \"histogram\": [{\"marker\": {\"colorbar\": {\"outlinewidth\": 0, \"ticks\": \"\"}}, \"type\": \"histogram\"}], \"histogram2d\": [{\"colorbar\": {\"outlinewidth\": 0, \"ticks\": \"\"}, \"colorscale\": [[0.0, \"#0d0887\"], [0.1111111111111111, \"#46039f\"], [0.2222222222222222, \"#7201a8\"], [0.3333333333333333, \"#9c179e\"], [0.4444444444444444, \"#bd3786\"], [0.5555555555555556, \"#d8576b\"], [0.6666666666666666, \"#ed7953\"], [0.7777777777777778, \"#fb9f3a\"], [0.8888888888888888, \"#fdca26\"], [1.0, \"#f0f921\"]], \"type\": \"histogram2d\"}], \"histogram2dcontour\": [{\"colorbar\": {\"outlinewidth\": 0, \"ticks\": \"\"}, \"colorscale\": [[0.0, \"#0d0887\"], [0.1111111111111111, \"#46039f\"], [0.2222222222222222, \"#7201a8\"], [0.3333333333333333, \"#9c179e\"], [0.4444444444444444, \"#bd3786\"], [0.5555555555555556, \"#d8576b\"], [0.6666666666666666, \"#ed7953\"], [0.7777777777777778, \"#fb9f3a\"], [0.8888888888888888, \"#fdca26\"], [1.0, \"#f0f921\"]], \"type\": \"histogram2dcontour\"}], \"mesh3d\": [{\"colorbar\": {\"outlinewidth\": 0, \"ticks\": \"\"}, \"type\": \"mesh3d\"}], \"parcoords\": [{\"line\": {\"colorbar\": {\"outlinewidth\": 0, \"ticks\": \"\"}}, \"type\": \"parcoords\"}], \"pie\": [{\"automargin\": true, \"type\": \"pie\"}], \"scatter\": [{\"marker\": {\"colorbar\": {\"outlinewidth\": 0, \"ticks\": \"\"}}, \"type\": \"scatter\"}], \"scatter3d\": [{\"line\": {\"colorbar\": {\"outlinewidth\": 0, \"ticks\": \"\"}}, \"marker\": {\"colorbar\": {\"outlinewidth\": 0, \"ticks\": \"\"}}, \"type\": \"scatter3d\"}], \"scattercarpet\": [{\"marker\": {\"colorbar\": {\"outlinewidth\": 0, \"ticks\": \"\"}}, \"type\": \"scattercarpet\"}], \"scattergeo\": [{\"marker\": {\"colorbar\": {\"outlinewidth\": 0, \"ticks\": \"\"}}, \"type\": \"scattergeo\"}], \"scattergl\": [{\"marker\": {\"colorbar\": {\"outlinewidth\": 0, \"ticks\": \"\"}}, \"type\": \"scattergl\"}], \"scattermapbox\": [{\"marker\": {\"colorbar\": {\"outlinewidth\": 0, \"ticks\": \"\"}}, \"type\": \"scattermapbox\"}], \"scatterpolar\": [{\"marker\": {\"colorbar\": {\"outlinewidth\": 0, \"ticks\": \"\"}}, \"type\": \"scatterpolar\"}], \"scatterpolargl\": [{\"marker\": {\"colorbar\": {\"outlinewidth\": 0, \"ticks\": \"\"}}, \"type\": \"scatterpolargl\"}], \"scatterternary\": [{\"marker\": {\"colorbar\": {\"outlinewidth\": 0, \"ticks\": \"\"}}, \"type\": \"scatterternary\"}], \"surface\": [{\"colorbar\": {\"outlinewidth\": 0, \"ticks\": \"\"}, \"colorscale\": [[0.0, \"#0d0887\"], [0.1111111111111111, \"#46039f\"], [0.2222222222222222, \"#7201a8\"], [0.3333333333333333, \"#9c179e\"], [0.4444444444444444, \"#bd3786\"], [0.5555555555555556, \"#d8576b\"], [0.6666666666666666, \"#ed7953\"], [0.7777777777777778, \"#fb9f3a\"], [0.8888888888888888, \"#fdca26\"], [1.0, \"#f0f921\"]], \"type\": \"surface\"}], \"table\": [{\"cells\": {\"fill\": {\"color\": \"#EBF0F8\"}, \"line\": {\"color\": \"white\"}}, \"header\": {\"fill\": {\"color\": \"#C8D4E3\"}, \"line\": {\"color\": \"white\"}}, \"type\": \"table\"}]}, \"layout\": {\"annotationdefaults\": {\"arrowcolor\": \"#2a3f5f\", \"arrowhead\": 0, \"arrowwidth\": 1}, \"autotypenumbers\": \"strict\", \"coloraxis\": {\"colorbar\": {\"outlinewidth\": 0, \"ticks\": \"\"}}, \"colorscale\": {\"diverging\": [[0, \"#8e0152\"], [0.1, \"#c51b7d\"], [0.2, \"#de77ae\"], [0.3, \"#f1b6da\"], [0.4, \"#fde0ef\"], [0.5, \"#f7f7f7\"], [0.6, \"#e6f5d0\"], [0.7, \"#b8e186\"], [0.8, \"#7fbc41\"], [0.9, \"#4d9221\"], [1, \"#276419\"]], \"sequential\": [[0.0, \"#0d0887\"], [0.1111111111111111, \"#46039f\"], [0.2222222222222222, \"#7201a8\"], [0.3333333333333333, \"#9c179e\"], [0.4444444444444444, \"#bd3786\"], [0.5555555555555556, \"#d8576b\"], [0.6666666666666666, \"#ed7953\"], [0.7777777777777778, \"#fb9f3a\"], [0.8888888888888888, \"#fdca26\"], [1.0, \"#f0f921\"]], \"sequentialminus\": [[0.0, \"#0d0887\"], [0.1111111111111111, \"#46039f\"], [0.2222222222222222, \"#7201a8\"], [0.3333333333333333, \"#9c179e\"], [0.4444444444444444, \"#bd3786\"], [0.5555555555555556, \"#d8576b\"], [0.6666666666666666, \"#ed7953\"], [0.7777777777777778, \"#fb9f3a\"], [0.8888888888888888, \"#fdca26\"], [1.0, \"#f0f921\"]]}, \"colorway\": [\"#636efa\", \"#EF553B\", \"#00cc96\", \"#ab63fa\", \"#FFA15A\", \"#19d3f3\", \"#FF6692\", \"#B6E880\", \"#FF97FF\", \"#FECB52\"], \"font\": {\"color\": \"#2a3f5f\"}, \"geo\": {\"bgcolor\": \"white\", \"lakecolor\": \"white\", \"landcolor\": \"#E5ECF6\", \"showlakes\": true, \"showland\": true, \"subunitcolor\": \"white\"}, \"hoverlabel\": {\"align\": \"left\"}, \"hovermode\": \"closest\", \"mapbox\": {\"style\": \"light\"}, \"paper_bgcolor\": \"white\", \"plot_bgcolor\": \"#E5ECF6\", \"polar\": {\"angularaxis\": {\"gridcolor\": \"white\", \"linecolor\": \"white\", \"ticks\": \"\"}, \"bgcolor\": \"#E5ECF6\", \"radialaxis\": {\"gridcolor\": \"white\", \"linecolor\": \"white\", \"ticks\": \"\"}}, \"scene\": {\"xaxis\": {\"backgroundcolor\": \"#E5ECF6\", \"gridcolor\": \"white\", \"gridwidth\": 2, \"linecolor\": \"white\", \"showbackground\": true, \"ticks\": \"\", \"zerolinecolor\": \"white\"}, \"yaxis\": {\"backgroundcolor\": \"#E5ECF6\", \"gridcolor\": \"white\", \"gridwidth\": 2, \"linecolor\": \"white\", \"showbackground\": true, \"ticks\": \"\", \"zerolinecolor\": \"white\"}, \"zaxis\": {\"backgroundcolor\": \"#E5ECF6\", \"gridcolor\": \"white\", \"gridwidth\": 2, \"linecolor\": \"white\", \"showbackground\": true, \"ticks\": \"\", \"zerolinecolor\": \"white\"}}, \"shapedefaults\": {\"line\": {\"color\": \"#2a3f5f\"}}, \"ternary\": {\"aaxis\": {\"gridcolor\": \"white\", \"linecolor\": \"white\", \"ticks\": \"\"}, \"baxis\": {\"gridcolor\": \"white\", \"linecolor\": \"white\", \"ticks\": \"\"}, \"bgcolor\": \"#E5ECF6\", \"caxis\": {\"gridcolor\": \"white\", \"linecolor\": \"white\", \"ticks\": \"\"}}, \"title\": {\"x\": 0.05}, \"xaxis\": {\"automargin\": true, \"gridcolor\": \"white\", \"linecolor\": \"white\", \"ticks\": \"\", \"title\": {\"standoff\": 15}, \"zerolinecolor\": \"white\", \"zerolinewidth\": 2}, \"yaxis\": {\"automargin\": true, \"gridcolor\": \"white\", \"linecolor\": \"white\", \"ticks\": \"\", \"title\": {\"standoff\": 15}, \"zerolinecolor\": \"white\", \"zerolinewidth\": 2}}}, \"width\": 600, \"xaxis\": {\"anchor\": \"y\", \"domain\": [0.0, 1.0], \"showticklabels\": false, \"title\": {\"text\": \"x\"}, \"visible\": false}, \"yaxis\": {\"anchor\": \"x\", \"domain\": [0.0, 1.0], \"showticklabels\": false, \"title\": {\"text\": \"y\"}, \"visible\": false}},                        {\"responsive\": true}                    ).then(function(){\n                            \nvar gd = document.getElementById('66957a6e-1bb2-43ca-964a-00b41b08b4c3');\nvar x = new MutationObserver(function (mutations, observer) {{\n        var display = window.getComputedStyle(gd).display;\n        if (!display || display === 'none') {{\n            console.log([gd, 'removed!']);\n            Plotly.purge(gd);\n            observer.disconnect();\n        }}\n}});\n\n// Listen for the removal of the full notebook cells\nvar notebookContainer = gd.closest('#notebook-container');\nif (notebookContainer) {{\n    x.observe(notebookContainer, {childList: true});\n}}\n\n// Listen for the clearing of the current output cell\nvar outputEl = gd.closest('.output');\nif (outputEl) {{\n    x.observe(outputEl, {childList: true});\n}}\n\n                        })                };                });            </script>        </div>"
         },
         "metadata": {},
         "output_type": "display_data"
        }
       ]
      }
     },
     "56342c2c96a84e708a0d541acb035271": {
      "model_module": "@jupyter-widgets/controls",
      "model_module_version": "1.5.0",
      "model_name": "DescriptionStyleModel",
      "state": {
       "description_width": ""
      }
     },
     "58cf2296064f431babb64e8caf11d4a1": {
      "model_module": "@jupyter-widgets/base",
      "model_module_version": "1.2.0",
      "model_name": "LayoutModel",
      "state": {}
     },
     "5a58697cb7b84f9ca08fd1b3d362ba97": {
      "model_module": "@jupyter-widgets/controls",
      "model_module_version": "1.5.0",
      "model_name": "HTMLModel",
      "state": {
       "layout": "IPY_MODEL_da14dcd924424ee099e0d4d63f7ff913",
       "style": "IPY_MODEL_b1ed769566b7461aa5d4f289d148ea29",
       "value": "<h2>Execution: 18 &nbsp; Project Number: 20140467<br/> Hebrew Address: אבא ברדיצב 5, בת ים<br/>Project Type: Addition</h2>"
      }
     },
     "5d63d0b0acc84edda4c2b3a3e6f1a101": {
      "model_module": "@jupyter-widgets/controls",
      "model_module_version": "1.5.0",
      "model_name": "DescriptionStyleModel",
      "state": {
       "description_width": ""
      }
     },
     "5deb44f566bc4c15bf94be66a3d859ed": {
      "model_module": "@jupyter-widgets/base",
      "model_module_version": "1.2.0",
      "model_name": "LayoutModel",
      "state": {}
     },
     "633fade5365c4e5795d29565d74ed081": {
      "model_module": "@jupyter-widgets/controls",
      "model_module_version": "1.5.0",
      "model_name": "SliderStyleModel",
      "state": {
       "description_width": "initial"
      }
     },
     "6364c0e88b064332bca3a56671ef2cfd": {
      "model_module": "@jupyter-widgets/controls",
      "model_module_version": "1.5.0",
      "model_name": "DescriptionStyleModel",
      "state": {
       "description_width": ""
      }
     },
     "6686f0936c184b1fb48e5f97f050e216": {
      "model_module": "@jupyter-widgets/controls",
      "model_module_version": "1.5.0",
      "model_name": "ButtonModel",
      "state": {
       "description": "Submit",
       "layout": "IPY_MODEL_40039595397b4ba0b261590f3fde015f",
       "style": "IPY_MODEL_a883cfc180db436e92f86890cef24152"
      }
     },
     "66b4d875338143ac85062a70cca9d27a": {
      "model_module": "@jupyter-widgets/base",
      "model_module_version": "1.2.0",
      "model_name": "LayoutModel",
      "state": {}
     },
     "68f11defa4ba4b91b358a8c8f97af8c6": {
      "model_module": "@jupyter-widgets/output",
      "model_module_version": "1.0.0",
      "model_name": "OutputModel",
      "state": {
       "layout": "IPY_MODEL_bc1cc7fba5934379bef999f42a4881de"
      }
     },
     "6a837192beda42edb93b81de3b025387": {
      "model_module": "@jupyter-widgets/controls",
      "model_module_version": "1.5.0",
      "model_name": "DescriptionStyleModel",
      "state": {
       "description_width": ""
      }
     },
     "6c6d766b630244cd92ca3f4462c9bf2c": {
      "model_module": "@jupyter-widgets/controls",
      "model_module_version": "1.5.0",
      "model_name": "ButtonStyleModel",
      "state": {}
     },
     "6e377145db4b425fac88386b686a8a64": {
      "model_module": "@jupyter-widgets/base",
      "model_module_version": "1.2.0",
      "model_name": "LayoutModel",
      "state": {}
     },
     "717101a14800449390d5bb47e3f22efc": {
      "model_module": "@jupyter-widgets/controls",
      "model_module_version": "1.5.0",
      "model_name": "HTMLModel",
      "state": {
       "layout": "IPY_MODEL_f19ba2f17a9e412f9c770d51131edeb0",
       "style": "IPY_MODEL_29a61a1a05234e7ea76b9103210d7b93",
       "value": "<h2>Execution: 8 &nbsp; Project Number: 20170076<br/> Hebrew Address: חנה סנש 19, בת ים<br/>Project Type: Reconstruction</h2>"
      }
     },
     "724ad1a3ce354452ab767f4f0735da94": {
      "model_module": "@jupyter-widgets/base",
      "model_module_version": "1.2.0",
      "model_name": "LayoutModel",
      "state": {}
     },
     "7357a3b8152248d6a3d03148f6e6b0c9": {
      "model_module": "@jupyter-widgets/base",
      "model_module_version": "1.2.0",
      "model_name": "LayoutModel",
      "state": {}
     },
     "73d3e2fc454d4b99ad21fccfdfc663a2": {
      "model_module": "@jupyter-widgets/base",
      "model_module_version": "1.2.0",
      "model_name": "LayoutModel",
      "state": {}
     },
     "7496fc368e0c499f9a167a0859f39624": {
      "model_module": "@jupyter-widgets/base",
      "model_module_version": "1.2.0",
      "model_name": "LayoutModel",
      "state": {}
     },
     "759d077391a34d21835325d326ef7603": {
      "model_module": "@jupyter-widgets/controls",
      "model_module_version": "1.5.0",
      "model_name": "DescriptionStyleModel",
      "state": {
       "description_width": ""
      }
     },
     "7635401bbf674b868071f2ef8b871629": {
      "model_module": "@jupyter-widgets/controls",
      "model_module_version": "1.5.0",
      "model_name": "HTMLModel",
      "state": {
       "layout": "IPY_MODEL_23bf12fad2d74c5ba9d55f71b5f28b5f",
       "style": "IPY_MODEL_8a2ec9187baa4870b4254ca3f12b85e2",
       "value": "<div style='font-size:15px'><span><b>Apartment Size</b></span> Start Marker: <b>77.2  sq meters </b> End Marker <b> 87.5 sq meters</b><br/><span><b>Years in Neighborhood</b></span> Start Marker: <b>19.0  years </b> End Marker <b> 7.2 years</b><br/><span><b>Cost For Staying</b></span> Start Marker: <b>1351.5  ₪ </b> End Marker <b> 5191.0 ₪</b><br/><span><b>Mean Income</b></span> Start Marker: <b>10086.3  ₪ </b> End Marker <b> 17915.0 ₪</b><br/></div>"
      }
     },
     "7803b889068f4c698efdfa32b480d8d5": {
      "model_module": "@jupyter-widgets/base",
      "model_module_version": "1.2.0",
      "model_name": "LayoutModel",
      "state": {}
     },
     "790f3193aff54724b2fe28df18c68610": {
      "model_module": "@jupyter-widgets/controls",
      "model_module_version": "1.5.0",
      "model_name": "ButtonModel",
      "state": {
       "description": "Submit",
       "layout": "IPY_MODEL_89397b38b7a34f8ab210568d655f23c7",
       "style": "IPY_MODEL_c8c3c1e80d0e4e00a0dadce7ae20a8bb"
      }
     },
     "79567eb45e0c4fc8b35fe034adb41ac8": {
      "model_module": "@jupyter-widgets/controls",
      "model_module_version": "1.5.0",
      "model_name": "VBoxModel",
      "state": {
       "_dom_classes": [
        "widget-interact"
       ],
       "children": [
        "IPY_MODEL_8b96c0c2777d4b90a9e75b1d6616e6fd",
        "IPY_MODEL_e2e9c8930aa2405597f48bab07988096",
        "IPY_MODEL_47b1a9c85f444cb9a2b0d85adc533270"
       ],
       "layout": "IPY_MODEL_724ad1a3ce354452ab767f4f0735da94"
      }
     },
     "7a31c91885194b6182ef821fe373af87": {
      "model_module": "@jupyter-widgets/base",
      "model_module_version": "1.2.0",
      "model_name": "LayoutModel",
      "state": {}
     },
     "7e1d178965ce4c3fb822aa168286a87a": {
      "model_module": "@jupyter-widgets/controls",
      "model_module_version": "1.5.0",
      "model_name": "ButtonStyleModel",
      "state": {}
     },
     "7e44bc728e88493c90e1a98c49dd88de": {
      "model_module": "@jupyter-widgets/controls",
      "model_module_version": "1.5.0",
      "model_name": "HTMLModel",
      "state": {
       "layout": "IPY_MODEL_58cf2296064f431babb64e8caf11d4a1",
       "style": "IPY_MODEL_faac5d3455cb4f898ed49cce2fcb5121",
       "value": "<div style='font-size:15px'><span><b>Apartment Size</b></span> Start Marker: <b>74.9  sq meters </b> End Marker <b> 75.3 sq meters</b><br/><span><b>Years in Neighborhood</b></span> Start Marker: <b>23.5  years </b> End Marker <b> 22.8 years</b><br/><span><b>Cost For Staying</b></span> Start Marker: <b>nan  ₪ </b> End Marker <b> 255.6 ₪</b><br/><span><b>Mean Income</b></span> Start Marker: <b>nan  ₪ </b> End Marker <b> 8164.0 ₪</b><br/></div>"
      }
     },
     "8002f53934d24760bd402756392eedbf": {
      "model_module": "@jupyter-widgets/base",
      "model_module_version": "1.2.0",
      "model_name": "LayoutModel",
      "state": {}
     },
     "80936d4c6122451fac0831d7d5385729": {
      "model_module": "@jupyter-widgets/controls",
      "model_module_version": "1.5.0",
      "model_name": "DescriptionStyleModel",
      "state": {
       "description_width": ""
      }
     },
     "811223566cfa472fa98b14d14d31ee36": {
      "model_module": "@jupyter-widgets/base",
      "model_module_version": "1.2.0",
      "model_name": "LayoutModel",
      "state": {}
     },
     "83025e8a5f544c23abd9b7fff0d79a08": {
      "model_module": "@jupyter-widgets/controls",
      "model_module_version": "1.5.0",
      "model_name": "VBoxModel",
      "state": {
       "_dom_classes": [
        "widget-interact"
       ],
       "children": [
        "IPY_MODEL_8b96c0c2777d4b90a9e75b1d6616e6fd",
        "IPY_MODEL_15556b13935743d697bb5ff3d59cef4a",
        "IPY_MODEL_e08234e23ee14eff9d6a765fbddc9307"
       ],
       "layout": "IPY_MODEL_8b9393bcd6a2413183043d491f5a93f9"
      }
     },
     "8379c0b56f374900bacd3fa990a02757": {
      "model_module": "@jupyter-widgets/base",
      "model_module_version": "1.2.0",
      "model_name": "LayoutModel",
      "state": {}
     },
     "85ef96b0046c4675b917600c5f3762f9": {
      "model_module": "@jupyter-widgets/output",
      "model_module_version": "1.0.0",
      "model_name": "OutputModel",
      "state": {
       "layout": "IPY_MODEL_9bed56d38e43466c9052526284fd375d",
       "outputs": [
        {
         "data": {
          "application/vnd.plotly.v1+json": {
           "config": {
            "plotlyServerURL": "https://plot.ly"
           },
           "data": [
            {
             "line": {
              "color": "hsv(0,100%,100%)",
              "width": 4
             },
             "name": "Staying",
             "type": "scatter",
             "x": [
              6,
              7,
              8,
              9,
              10,
              12,
              13,
              14,
              15,
              16,
              17,
              18
             ],
             "y": [
              803,
              788,
              784,
              624,
              615,
              609,
              601,
              593,
              575,
              564,
              549,
              534
             ]
            },
            {
             "line": {
              "color": "hsv(0,100%,75%)",
              "width": 4
             },
             "name": "New Comers",
             "type": "scatter",
             "x": [
              6,
              7,
              8,
              9,
              10,
              12,
              13,
              14,
              15,
              16,
              17,
              18
             ],
             "y": [
              195,
              224,
              332,
              852,
              888,
              916,
              955,
              1017,
              1062,
              1088,
              1118,
              1144
             ]
            },
            {
             "line": {
              "color": "hsv(30,100%, 100%)",
              "dash": "dash"
             },
             "name": "Total (Staying+New Comers)",
             "type": "scatter",
             "x": [
              6,
              7,
              8,
              9,
              10,
              12,
              13,
              14,
              15,
              16,
              17,
              18
             ],
             "y": [
              998,
              1012,
              1116,
              1476,
              1503,
              1525,
              1556,
              1610,
              1637,
              1652,
              1667,
              1678
             ]
            },
            {
             "marker": {
              "color": "hsv(210,100%,75%)"
             },
             "mode": "markers",
             "name": "Addition",
             "type": "scatter",
             "x": [
              6,
              7,
              13,
              14,
              15,
              16,
              17,
              18
             ],
             "y": [
              -20,
              -20,
              -20,
              -20,
              -20,
              -20,
              -20,
              -20
             ]
            },
            {
             "marker": {
              "color": "hsv(210,100%,100%)"
             },
             "mode": "markers",
             "name": "Reconstruction",
             "type": "scatter",
             "x": [
              8,
              10,
              12
             ],
             "y": [
              -20,
              -20,
              -20
             ]
            },
            {
             "marker": {
              "color": "hsv(210,50%,100%)"
             },
             "mode": "markers",
             "name": "Raze and Rebuild",
             "type": "scatter",
             "x": [
              9
             ],
             "y": [
              -20
             ]
            }
           ],
           "layout": {
            "height": 375,
            "legend": {
             "bgcolor": "rgba(255,255,255,0.75)",
             "x": 0.01,
             "xanchor": "left",
             "y": 0.99,
             "yanchor": "top"
            },
            "plot_bgcolor": "rgba(0,0,0,0)",
            "shapes": [
             {
              "layer": "below",
              "line": {
               "color": "hsv(210,100%,75%)",
               "dash": "dot",
               "width": 1.5
              },
              "type": "line",
              "x0": 6,
              "x1": 6,
              "y0": 0,
              "y1": 3300
             },
             {
              "layer": "below",
              "line": {
               "color": "hsv(210,100%,75%)",
               "dash": "dot",
               "width": 1.5
              },
              "type": "line",
              "x0": 7,
              "x1": 7,
              "y0": 0,
              "y1": 3300
             },
             {
              "layer": "below",
              "line": {
               "color": "hsv(210,100%,75%)",
               "dash": "dot",
               "width": 1.5
              },
              "type": "line",
              "x0": 13,
              "x1": 13,
              "y0": 0,
              "y1": 3300
             },
             {
              "layer": "below",
              "line": {
               "color": "hsv(210,100%,75%)",
               "dash": "dot",
               "width": 1.5
              },
              "type": "line",
              "x0": 14,
              "x1": 14,
              "y0": 0,
              "y1": 3300
             },
             {
              "layer": "below",
              "line": {
               "color": "hsv(210,100%,75%)",
               "dash": "dot",
               "width": 1.5
              },
              "type": "line",
              "x0": 15,
              "x1": 15,
              "y0": 0,
              "y1": 3300
             },
             {
              "layer": "below",
              "line": {
               "color": "hsv(210,100%,75%)",
               "dash": "dot",
               "width": 1.5
              },
              "type": "line",
              "x0": 16,
              "x1": 16,
              "y0": 0,
              "y1": 3300
             },
             {
              "layer": "below",
              "line": {
               "color": "hsv(210,100%,75%)",
               "dash": "dot",
               "width": 1.5
              },
              "type": "line",
              "x0": 17,
              "x1": 17,
              "y0": 0,
              "y1": 3300
             },
             {
              "layer": "below",
              "line": {
               "color": "hsv(210,100%,75%)",
               "dash": "dot",
               "width": 1.5
              },
              "type": "line",
              "x0": 18,
              "x1": 18,
              "y0": 0,
              "y1": 3300
             },
             {
              "layer": "below",
              "line": {
               "color": "hsv(210,100%,100%)",
               "dash": "dot",
               "width": 1.5
              },
              "type": "line",
              "x0": 8,
              "x1": 8,
              "y0": 0,
              "y1": 3300
             },
             {
              "layer": "below",
              "line": {
               "color": "hsv(210,100%,100%)",
               "dash": "dot",
               "width": 1.5
              },
              "type": "line",
              "x0": 10,
              "x1": 10,
              "y0": 0,
              "y1": 3300
             },
             {
              "layer": "below",
              "line": {
               "color": "hsv(210,100%,100%)",
               "dash": "dot",
               "width": 1.5
              },
              "type": "line",
              "x0": 12,
              "x1": 12,
              "y0": 0,
              "y1": 3300
             },
             {
              "layer": "below",
              "line": {
               "color": "hsv(210,50%,100%)",
               "dash": "dot",
               "width": 1.5
              },
              "type": "line",
              "x0": 9,
              "x1": 9,
              "y0": 0,
              "y1": 3300
             }
            ],
            "showlegend": true,
            "template": {
             "data": {
              "bar": [
               {
                "error_x": {
                 "color": "#2a3f5f"
                },
                "error_y": {
                 "color": "#2a3f5f"
                },
                "marker": {
                 "line": {
                  "color": "#E5ECF6",
                  "width": 0.5
                 }
                },
                "type": "bar"
               }
              ],
              "barpolar": [
               {
                "marker": {
                 "line": {
                  "color": "#E5ECF6",
                  "width": 0.5
                 }
                },
                "type": "barpolar"
               }
              ],
              "carpet": [
               {
                "aaxis": {
                 "endlinecolor": "#2a3f5f",
                 "gridcolor": "white",
                 "linecolor": "white",
                 "minorgridcolor": "white",
                 "startlinecolor": "#2a3f5f"
                },
                "baxis": {
                 "endlinecolor": "#2a3f5f",
                 "gridcolor": "white",
                 "linecolor": "white",
                 "minorgridcolor": "white",
                 "startlinecolor": "#2a3f5f"
                },
                "type": "carpet"
               }
              ],
              "choropleth": [
               {
                "colorbar": {
                 "outlinewidth": 0,
                 "ticks": ""
                },
                "type": "choropleth"
               }
              ],
              "contour": [
               {
                "colorbar": {
                 "outlinewidth": 0,
                 "ticks": ""
                },
                "colorscale": [
                 [
                  0,
                  "#0d0887"
                 ],
                 [
                  0.1111111111111111,
                  "#46039f"
                 ],
                 [
                  0.2222222222222222,
                  "#7201a8"
                 ],
                 [
                  0.3333333333333333,
                  "#9c179e"
                 ],
                 [
                  0.4444444444444444,
                  "#bd3786"
                 ],
                 [
                  0.5555555555555556,
                  "#d8576b"
                 ],
                 [
                  0.6666666666666666,
                  "#ed7953"
                 ],
                 [
                  0.7777777777777778,
                  "#fb9f3a"
                 ],
                 [
                  0.8888888888888888,
                  "#fdca26"
                 ],
                 [
                  1,
                  "#f0f921"
                 ]
                ],
                "type": "contour"
               }
              ],
              "contourcarpet": [
               {
                "colorbar": {
                 "outlinewidth": 0,
                 "ticks": ""
                },
                "type": "contourcarpet"
               }
              ],
              "heatmap": [
               {
                "colorbar": {
                 "outlinewidth": 0,
                 "ticks": ""
                },
                "colorscale": [
                 [
                  0,
                  "#0d0887"
                 ],
                 [
                  0.1111111111111111,
                  "#46039f"
                 ],
                 [
                  0.2222222222222222,
                  "#7201a8"
                 ],
                 [
                  0.3333333333333333,
                  "#9c179e"
                 ],
                 [
                  0.4444444444444444,
                  "#bd3786"
                 ],
                 [
                  0.5555555555555556,
                  "#d8576b"
                 ],
                 [
                  0.6666666666666666,
                  "#ed7953"
                 ],
                 [
                  0.7777777777777778,
                  "#fb9f3a"
                 ],
                 [
                  0.8888888888888888,
                  "#fdca26"
                 ],
                 [
                  1,
                  "#f0f921"
                 ]
                ],
                "type": "heatmap"
               }
              ],
              "heatmapgl": [
               {
                "colorbar": {
                 "outlinewidth": 0,
                 "ticks": ""
                },
                "colorscale": [
                 [
                  0,
                  "#0d0887"
                 ],
                 [
                  0.1111111111111111,
                  "#46039f"
                 ],
                 [
                  0.2222222222222222,
                  "#7201a8"
                 ],
                 [
                  0.3333333333333333,
                  "#9c179e"
                 ],
                 [
                  0.4444444444444444,
                  "#bd3786"
                 ],
                 [
                  0.5555555555555556,
                  "#d8576b"
                 ],
                 [
                  0.6666666666666666,
                  "#ed7953"
                 ],
                 [
                  0.7777777777777778,
                  "#fb9f3a"
                 ],
                 [
                  0.8888888888888888,
                  "#fdca26"
                 ],
                 [
                  1,
                  "#f0f921"
                 ]
                ],
                "type": "heatmapgl"
               }
              ],
              "histogram": [
               {
                "marker": {
                 "colorbar": {
                  "outlinewidth": 0,
                  "ticks": ""
                 }
                },
                "type": "histogram"
               }
              ],
              "histogram2d": [
               {
                "colorbar": {
                 "outlinewidth": 0,
                 "ticks": ""
                },
                "colorscale": [
                 [
                  0,
                  "#0d0887"
                 ],
                 [
                  0.1111111111111111,
                  "#46039f"
                 ],
                 [
                  0.2222222222222222,
                  "#7201a8"
                 ],
                 [
                  0.3333333333333333,
                  "#9c179e"
                 ],
                 [
                  0.4444444444444444,
                  "#bd3786"
                 ],
                 [
                  0.5555555555555556,
                  "#d8576b"
                 ],
                 [
                  0.6666666666666666,
                  "#ed7953"
                 ],
                 [
                  0.7777777777777778,
                  "#fb9f3a"
                 ],
                 [
                  0.8888888888888888,
                  "#fdca26"
                 ],
                 [
                  1,
                  "#f0f921"
                 ]
                ],
                "type": "histogram2d"
               }
              ],
              "histogram2dcontour": [
               {
                "colorbar": {
                 "outlinewidth": 0,
                 "ticks": ""
                },
                "colorscale": [
                 [
                  0,
                  "#0d0887"
                 ],
                 [
                  0.1111111111111111,
                  "#46039f"
                 ],
                 [
                  0.2222222222222222,
                  "#7201a8"
                 ],
                 [
                  0.3333333333333333,
                  "#9c179e"
                 ],
                 [
                  0.4444444444444444,
                  "#bd3786"
                 ],
                 [
                  0.5555555555555556,
                  "#d8576b"
                 ],
                 [
                  0.6666666666666666,
                  "#ed7953"
                 ],
                 [
                  0.7777777777777778,
                  "#fb9f3a"
                 ],
                 [
                  0.8888888888888888,
                  "#fdca26"
                 ],
                 [
                  1,
                  "#f0f921"
                 ]
                ],
                "type": "histogram2dcontour"
               }
              ],
              "mesh3d": [
               {
                "colorbar": {
                 "outlinewidth": 0,
                 "ticks": ""
                },
                "type": "mesh3d"
               }
              ],
              "parcoords": [
               {
                "line": {
                 "colorbar": {
                  "outlinewidth": 0,
                  "ticks": ""
                 }
                },
                "type": "parcoords"
               }
              ],
              "pie": [
               {
                "automargin": true,
                "type": "pie"
               }
              ],
              "scatter": [
               {
                "marker": {
                 "colorbar": {
                  "outlinewidth": 0,
                  "ticks": ""
                 }
                },
                "type": "scatter"
               }
              ],
              "scatter3d": [
               {
                "line": {
                 "colorbar": {
                  "outlinewidth": 0,
                  "ticks": ""
                 }
                },
                "marker": {
                 "colorbar": {
                  "outlinewidth": 0,
                  "ticks": ""
                 }
                },
                "type": "scatter3d"
               }
              ],
              "scattercarpet": [
               {
                "marker": {
                 "colorbar": {
                  "outlinewidth": 0,
                  "ticks": ""
                 }
                },
                "type": "scattercarpet"
               }
              ],
              "scattergeo": [
               {
                "marker": {
                 "colorbar": {
                  "outlinewidth": 0,
                  "ticks": ""
                 }
                },
                "type": "scattergeo"
               }
              ],
              "scattergl": [
               {
                "marker": {
                 "colorbar": {
                  "outlinewidth": 0,
                  "ticks": ""
                 }
                },
                "type": "scattergl"
               }
              ],
              "scattermapbox": [
               {
                "marker": {
                 "colorbar": {
                  "outlinewidth": 0,
                  "ticks": ""
                 }
                },
                "type": "scattermapbox"
               }
              ],
              "scatterpolar": [
               {
                "marker": {
                 "colorbar": {
                  "outlinewidth": 0,
                  "ticks": ""
                 }
                },
                "type": "scatterpolar"
               }
              ],
              "scatterpolargl": [
               {
                "marker": {
                 "colorbar": {
                  "outlinewidth": 0,
                  "ticks": ""
                 }
                },
                "type": "scatterpolargl"
               }
              ],
              "scatterternary": [
               {
                "marker": {
                 "colorbar": {
                  "outlinewidth": 0,
                  "ticks": ""
                 }
                },
                "type": "scatterternary"
               }
              ],
              "surface": [
               {
                "colorbar": {
                 "outlinewidth": 0,
                 "ticks": ""
                },
                "colorscale": [
                 [
                  0,
                  "#0d0887"
                 ],
                 [
                  0.1111111111111111,
                  "#46039f"
                 ],
                 [
                  0.2222222222222222,
                  "#7201a8"
                 ],
                 [
                  0.3333333333333333,
                  "#9c179e"
                 ],
                 [
                  0.4444444444444444,
                  "#bd3786"
                 ],
                 [
                  0.5555555555555556,
                  "#d8576b"
                 ],
                 [
                  0.6666666666666666,
                  "#ed7953"
                 ],
                 [
                  0.7777777777777778,
                  "#fb9f3a"
                 ],
                 [
                  0.8888888888888888,
                  "#fdca26"
                 ],
                 [
                  1,
                  "#f0f921"
                 ]
                ],
                "type": "surface"
               }
              ],
              "table": [
               {
                "cells": {
                 "fill": {
                  "color": "#EBF0F8"
                 },
                 "line": {
                  "color": "white"
                 }
                },
                "header": {
                 "fill": {
                  "color": "#C8D4E3"
                 },
                 "line": {
                  "color": "white"
                 }
                },
                "type": "table"
               }
              ]
             },
             "layout": {
              "annotationdefaults": {
               "arrowcolor": "#2a3f5f",
               "arrowhead": 0,
               "arrowwidth": 1
              },
              "autotypenumbers": "strict",
              "coloraxis": {
               "colorbar": {
                "outlinewidth": 0,
                "ticks": ""
               }
              },
              "colorscale": {
               "diverging": [
                [
                 0,
                 "#8e0152"
                ],
                [
                 0.1,
                 "#c51b7d"
                ],
                [
                 0.2,
                 "#de77ae"
                ],
                [
                 0.3,
                 "#f1b6da"
                ],
                [
                 0.4,
                 "#fde0ef"
                ],
                [
                 0.5,
                 "#f7f7f7"
                ],
                [
                 0.6,
                 "#e6f5d0"
                ],
                [
                 0.7,
                 "#b8e186"
                ],
                [
                 0.8,
                 "#7fbc41"
                ],
                [
                 0.9,
                 "#4d9221"
                ],
                [
                 1,
                 "#276419"
                ]
               ],
               "sequential": [
                [
                 0,
                 "#0d0887"
                ],
                [
                 0.1111111111111111,
                 "#46039f"
                ],
                [
                 0.2222222222222222,
                 "#7201a8"
                ],
                [
                 0.3333333333333333,
                 "#9c179e"
                ],
                [
                 0.4444444444444444,
                 "#bd3786"
                ],
                [
                 0.5555555555555556,
                 "#d8576b"
                ],
                [
                 0.6666666666666666,
                 "#ed7953"
                ],
                [
                 0.7777777777777778,
                 "#fb9f3a"
                ],
                [
                 0.8888888888888888,
                 "#fdca26"
                ],
                [
                 1,
                 "#f0f921"
                ]
               ],
               "sequentialminus": [
                [
                 0,
                 "#0d0887"
                ],
                [
                 0.1111111111111111,
                 "#46039f"
                ],
                [
                 0.2222222222222222,
                 "#7201a8"
                ],
                [
                 0.3333333333333333,
                 "#9c179e"
                ],
                [
                 0.4444444444444444,
                 "#bd3786"
                ],
                [
                 0.5555555555555556,
                 "#d8576b"
                ],
                [
                 0.6666666666666666,
                 "#ed7953"
                ],
                [
                 0.7777777777777778,
                 "#fb9f3a"
                ],
                [
                 0.8888888888888888,
                 "#fdca26"
                ],
                [
                 1,
                 "#f0f921"
                ]
               ]
              },
              "colorway": [
               "#636efa",
               "#EF553B",
               "#00cc96",
               "#ab63fa",
               "#FFA15A",
               "#19d3f3",
               "#FF6692",
               "#B6E880",
               "#FF97FF",
               "#FECB52"
              ],
              "font": {
               "color": "#2a3f5f"
              },
              "geo": {
               "bgcolor": "white",
               "lakecolor": "white",
               "landcolor": "#E5ECF6",
               "showlakes": true,
               "showland": true,
               "subunitcolor": "white"
              },
              "hoverlabel": {
               "align": "left"
              },
              "hovermode": "closest",
              "mapbox": {
               "style": "light"
              },
              "paper_bgcolor": "white",
              "plot_bgcolor": "#E5ECF6",
              "polar": {
               "angularaxis": {
                "gridcolor": "white",
                "linecolor": "white",
                "ticks": ""
               },
               "bgcolor": "#E5ECF6",
               "radialaxis": {
                "gridcolor": "white",
                "linecolor": "white",
                "ticks": ""
               }
              },
              "scene": {
               "xaxis": {
                "backgroundcolor": "#E5ECF6",
                "gridcolor": "white",
                "gridwidth": 2,
                "linecolor": "white",
                "showbackground": true,
                "ticks": "",
                "zerolinecolor": "white"
               },
               "yaxis": {
                "backgroundcolor": "#E5ECF6",
                "gridcolor": "white",
                "gridwidth": 2,
                "linecolor": "white",
                "showbackground": true,
                "ticks": "",
                "zerolinecolor": "white"
               },
               "zaxis": {
                "backgroundcolor": "#E5ECF6",
                "gridcolor": "white",
                "gridwidth": 2,
                "linecolor": "white",
                "showbackground": true,
                "ticks": "",
                "zerolinecolor": "white"
               }
              },
              "shapedefaults": {
               "line": {
                "color": "#2a3f5f"
               }
              },
              "ternary": {
               "aaxis": {
                "gridcolor": "white",
                "linecolor": "white",
                "ticks": ""
               },
               "baxis": {
                "gridcolor": "white",
                "linecolor": "white",
                "ticks": ""
               },
               "bgcolor": "#E5ECF6",
               "caxis": {
                "gridcolor": "white",
                "linecolor": "white",
                "ticks": ""
               }
              },
              "title": {
               "x": 0.05
              },
              "xaxis": {
               "automargin": true,
               "gridcolor": "white",
               "linecolor": "white",
               "ticks": "",
               "title": {
                "standoff": 15
               },
               "zerolinecolor": "white",
               "zerolinewidth": 2
              },
              "yaxis": {
               "automargin": true,
               "gridcolor": "white",
               "linecolor": "white",
               "ticks": "",
               "title": {
                "standoff": 15
               },
               "zerolinecolor": "white",
               "zerolinewidth": 2
              }
             }
            },
            "title": {
             "text": "Household Absolute change within simulation tics"
            },
            "width": 800,
            "xaxis": {
             "gridcolor": "#f2f2f2",
             "gridwidth": 1,
             "title": {
              "text": "Simulation tic"
             },
             "zerolinecolor": "lightgrey",
             "zerolinewidth": 1
            },
            "yaxis": {
             "gridcolor": "#f2f2f2",
             "gridwidth": 1,
             "range": [
              -100,
              3300
             ],
             "title": {
              "text": "Household Count"
             },
             "zerolinecolor": "lightgrey",
             "zerolinewidth": 1
            }
           }
          },
          "text/html": "<div>                            <div id=\"74c89d39-e484-42e6-b7af-d348c401811e\" class=\"plotly-graph-div\" style=\"height:375px; width:800px;\"></div>            <script type=\"text/javascript\">                require([\"plotly\"], function(Plotly) {                    window.PLOTLYENV=window.PLOTLYENV || {};                                    if (document.getElementById(\"74c89d39-e484-42e6-b7af-d348c401811e\")) {                    Plotly.newPlot(                        \"74c89d39-e484-42e6-b7af-d348c401811e\",                        [{\"line\": {\"color\": \"hsv(0,100%,100%)\", \"width\": 4}, \"name\": \"Staying\", \"type\": \"scatter\", \"x\": [6, 7, 8, 9, 10, 12, 13, 14, 15, 16, 17, 18], \"y\": [803, 788, 784, 624, 615, 609, 601, 593, 575, 564, 549, 534]}, {\"line\": {\"color\": \"hsv(0,100%,75%)\", \"width\": 4}, \"name\": \"New Comers\", \"type\": \"scatter\", \"x\": [6, 7, 8, 9, 10, 12, 13, 14, 15, 16, 17, 18], \"y\": [195.0, 224.0, 332.0, 852.0, 888.0, 916.0, 955.0, 1017.0, 1062.0, 1088.0, 1118.0, 1144.0]}, {\"line\": {\"color\": \"hsv(30,100%, 100%)\", \"dash\": \"dash\"}, \"name\": \"Total (Staying+New Comers)\", \"type\": \"scatter\", \"x\": [6, 7, 8, 9, 10, 12, 13, 14, 15, 16, 17, 18], \"y\": [998, 1012, 1116, 1476, 1503, 1525, 1556, 1610, 1637, 1652, 1667, 1678]}, {\"marker\": {\"color\": \"hsv(210,100%,75%)\"}, \"mode\": \"markers\", \"name\": \"Addition\", \"type\": \"scatter\", \"x\": [6, 7, 13, 14, 15, 16, 17, 18], \"y\": [-20, -20, -20, -20, -20, -20, -20, -20]}, {\"marker\": {\"color\": \"hsv(210,100%,100%)\"}, \"mode\": \"markers\", \"name\": \"Reconstruction\", \"type\": \"scatter\", \"x\": [8, 10, 12], \"y\": [-20, -20, -20]}, {\"marker\": {\"color\": \"hsv(210,50%,100%)\"}, \"mode\": \"markers\", \"name\": \"Raze and Rebuild\", \"type\": \"scatter\", \"x\": [9], \"y\": [-20]}],                        {\"height\": 375, \"legend\": {\"bgcolor\": \"rgba(255,255,255,0.75)\", \"x\": 0.01, \"xanchor\": \"left\", \"y\": 0.99, \"yanchor\": \"top\"}, \"plot_bgcolor\": \"rgba(0,0,0,0)\", \"shapes\": [{\"layer\": \"below\", \"line\": {\"color\": \"hsv(210,100%,75%)\", \"dash\": \"dot\", \"width\": 1.5}, \"type\": \"line\", \"x0\": 6, \"x1\": 6, \"y0\": 0, \"y1\": 3300}, {\"layer\": \"below\", \"line\": {\"color\": \"hsv(210,100%,75%)\", \"dash\": \"dot\", \"width\": 1.5}, \"type\": \"line\", \"x0\": 7, \"x1\": 7, \"y0\": 0, \"y1\": 3300}, {\"layer\": \"below\", \"line\": {\"color\": \"hsv(210,100%,75%)\", \"dash\": \"dot\", \"width\": 1.5}, \"type\": \"line\", \"x0\": 13, \"x1\": 13, \"y0\": 0, \"y1\": 3300}, {\"layer\": \"below\", \"line\": {\"color\": \"hsv(210,100%,75%)\", \"dash\": \"dot\", \"width\": 1.5}, \"type\": \"line\", \"x0\": 14, \"x1\": 14, \"y0\": 0, \"y1\": 3300}, {\"layer\": \"below\", \"line\": {\"color\": \"hsv(210,100%,75%)\", \"dash\": \"dot\", \"width\": 1.5}, \"type\": \"line\", \"x0\": 15, \"x1\": 15, \"y0\": 0, \"y1\": 3300}, {\"layer\": \"below\", \"line\": {\"color\": \"hsv(210,100%,75%)\", \"dash\": \"dot\", \"width\": 1.5}, \"type\": \"line\", \"x0\": 16, \"x1\": 16, \"y0\": 0, \"y1\": 3300}, {\"layer\": \"below\", \"line\": {\"color\": \"hsv(210,100%,75%)\", \"dash\": \"dot\", \"width\": 1.5}, \"type\": \"line\", \"x0\": 17, \"x1\": 17, \"y0\": 0, \"y1\": 3300}, {\"layer\": \"below\", \"line\": {\"color\": \"hsv(210,100%,75%)\", \"dash\": \"dot\", \"width\": 1.5}, \"type\": \"line\", \"x0\": 18, \"x1\": 18, \"y0\": 0, \"y1\": 3300}, {\"layer\": \"below\", \"line\": {\"color\": \"hsv(210,100%,100%)\", \"dash\": \"dot\", \"width\": 1.5}, \"type\": \"line\", \"x0\": 8, \"x1\": 8, \"y0\": 0, \"y1\": 3300}, {\"layer\": \"below\", \"line\": {\"color\": \"hsv(210,100%,100%)\", \"dash\": \"dot\", \"width\": 1.5}, \"type\": \"line\", \"x0\": 10, \"x1\": 10, \"y0\": 0, \"y1\": 3300}, {\"layer\": \"below\", \"line\": {\"color\": \"hsv(210,100%,100%)\", \"dash\": \"dot\", \"width\": 1.5}, \"type\": \"line\", \"x0\": 12, \"x1\": 12, \"y0\": 0, \"y1\": 3300}, {\"layer\": \"below\", \"line\": {\"color\": \"hsv(210,50%,100%)\", \"dash\": \"dot\", \"width\": 1.5}, \"type\": \"line\", \"x0\": 9, \"x1\": 9, \"y0\": 0, \"y1\": 3300}], \"showlegend\": true, \"template\": {\"data\": {\"bar\": [{\"error_x\": {\"color\": \"#2a3f5f\"}, \"error_y\": {\"color\": \"#2a3f5f\"}, \"marker\": {\"line\": {\"color\": \"#E5ECF6\", \"width\": 0.5}}, \"type\": \"bar\"}], \"barpolar\": [{\"marker\": {\"line\": {\"color\": \"#E5ECF6\", \"width\": 0.5}}, \"type\": \"barpolar\"}], \"carpet\": [{\"aaxis\": {\"endlinecolor\": \"#2a3f5f\", \"gridcolor\": \"white\", \"linecolor\": \"white\", \"minorgridcolor\": \"white\", \"startlinecolor\": \"#2a3f5f\"}, \"baxis\": {\"endlinecolor\": \"#2a3f5f\", \"gridcolor\": \"white\", \"linecolor\": \"white\", \"minorgridcolor\": \"white\", \"startlinecolor\": \"#2a3f5f\"}, \"type\": \"carpet\"}], \"choropleth\": [{\"colorbar\": {\"outlinewidth\": 0, \"ticks\": \"\"}, \"type\": \"choropleth\"}], \"contour\": [{\"colorbar\": {\"outlinewidth\": 0, \"ticks\": \"\"}, \"colorscale\": [[0.0, \"#0d0887\"], [0.1111111111111111, \"#46039f\"], [0.2222222222222222, \"#7201a8\"], [0.3333333333333333, \"#9c179e\"], [0.4444444444444444, \"#bd3786\"], [0.5555555555555556, \"#d8576b\"], [0.6666666666666666, \"#ed7953\"], [0.7777777777777778, \"#fb9f3a\"], [0.8888888888888888, \"#fdca26\"], [1.0, \"#f0f921\"]], \"type\": \"contour\"}], \"contourcarpet\": [{\"colorbar\": {\"outlinewidth\": 0, \"ticks\": \"\"}, \"type\": \"contourcarpet\"}], \"heatmap\": [{\"colorbar\": {\"outlinewidth\": 0, \"ticks\": \"\"}, \"colorscale\": [[0.0, \"#0d0887\"], [0.1111111111111111, \"#46039f\"], [0.2222222222222222, \"#7201a8\"], [0.3333333333333333, \"#9c179e\"], [0.4444444444444444, \"#bd3786\"], [0.5555555555555556, \"#d8576b\"], [0.6666666666666666, \"#ed7953\"], [0.7777777777777778, \"#fb9f3a\"], [0.8888888888888888, \"#fdca26\"], [1.0, \"#f0f921\"]], \"type\": \"heatmap\"}], \"heatmapgl\": [{\"colorbar\": {\"outlinewidth\": 0, \"ticks\": \"\"}, \"colorscale\": [[0.0, \"#0d0887\"], [0.1111111111111111, \"#46039f\"], [0.2222222222222222, \"#7201a8\"], [0.3333333333333333, \"#9c179e\"], [0.4444444444444444, \"#bd3786\"], [0.5555555555555556, \"#d8576b\"], [0.6666666666666666, \"#ed7953\"], [0.7777777777777778, \"#fb9f3a\"], [0.8888888888888888, \"#fdca26\"], [1.0, \"#f0f921\"]], \"type\": \"heatmapgl\"}], \"histogram\": [{\"marker\": {\"colorbar\": {\"outlinewidth\": 0, \"ticks\": \"\"}}, \"type\": \"histogram\"}], \"histogram2d\": [{\"colorbar\": {\"outlinewidth\": 0, \"ticks\": \"\"}, \"colorscale\": [[0.0, \"#0d0887\"], [0.1111111111111111, \"#46039f\"], [0.2222222222222222, \"#7201a8\"], [0.3333333333333333, \"#9c179e\"], [0.4444444444444444, \"#bd3786\"], [0.5555555555555556, \"#d8576b\"], [0.6666666666666666, \"#ed7953\"], [0.7777777777777778, \"#fb9f3a\"], [0.8888888888888888, \"#fdca26\"], [1.0, \"#f0f921\"]], \"type\": \"histogram2d\"}], \"histogram2dcontour\": [{\"colorbar\": {\"outlinewidth\": 0, \"ticks\": \"\"}, \"colorscale\": [[0.0, \"#0d0887\"], [0.1111111111111111, \"#46039f\"], [0.2222222222222222, \"#7201a8\"], [0.3333333333333333, \"#9c179e\"], [0.4444444444444444, \"#bd3786\"], [0.5555555555555556, \"#d8576b\"], [0.6666666666666666, \"#ed7953\"], [0.7777777777777778, \"#fb9f3a\"], [0.8888888888888888, \"#fdca26\"], [1.0, \"#f0f921\"]], \"type\": \"histogram2dcontour\"}], \"mesh3d\": [{\"colorbar\": {\"outlinewidth\": 0, \"ticks\": \"\"}, \"type\": \"mesh3d\"}], \"parcoords\": [{\"line\": {\"colorbar\": {\"outlinewidth\": 0, \"ticks\": \"\"}}, \"type\": \"parcoords\"}], \"pie\": [{\"automargin\": true, \"type\": \"pie\"}], \"scatter\": [{\"marker\": {\"colorbar\": {\"outlinewidth\": 0, \"ticks\": \"\"}}, \"type\": \"scatter\"}], \"scatter3d\": [{\"line\": {\"colorbar\": {\"outlinewidth\": 0, \"ticks\": \"\"}}, \"marker\": {\"colorbar\": {\"outlinewidth\": 0, \"ticks\": \"\"}}, \"type\": \"scatter3d\"}], \"scattercarpet\": [{\"marker\": {\"colorbar\": {\"outlinewidth\": 0, \"ticks\": \"\"}}, \"type\": \"scattercarpet\"}], \"scattergeo\": [{\"marker\": {\"colorbar\": {\"outlinewidth\": 0, \"ticks\": \"\"}}, \"type\": \"scattergeo\"}], \"scattergl\": [{\"marker\": {\"colorbar\": {\"outlinewidth\": 0, \"ticks\": \"\"}}, \"type\": \"scattergl\"}], \"scattermapbox\": [{\"marker\": {\"colorbar\": {\"outlinewidth\": 0, \"ticks\": \"\"}}, \"type\": \"scattermapbox\"}], \"scatterpolar\": [{\"marker\": {\"colorbar\": {\"outlinewidth\": 0, \"ticks\": \"\"}}, \"type\": \"scatterpolar\"}], \"scatterpolargl\": [{\"marker\": {\"colorbar\": {\"outlinewidth\": 0, \"ticks\": \"\"}}, \"type\": \"scatterpolargl\"}], \"scatterternary\": [{\"marker\": {\"colorbar\": {\"outlinewidth\": 0, \"ticks\": \"\"}}, \"type\": \"scatterternary\"}], \"surface\": [{\"colorbar\": {\"outlinewidth\": 0, \"ticks\": \"\"}, \"colorscale\": [[0.0, \"#0d0887\"], [0.1111111111111111, \"#46039f\"], [0.2222222222222222, \"#7201a8\"], [0.3333333333333333, \"#9c179e\"], [0.4444444444444444, \"#bd3786\"], [0.5555555555555556, \"#d8576b\"], [0.6666666666666666, \"#ed7953\"], [0.7777777777777778, \"#fb9f3a\"], [0.8888888888888888, \"#fdca26\"], [1.0, \"#f0f921\"]], \"type\": \"surface\"}], \"table\": [{\"cells\": {\"fill\": {\"color\": \"#EBF0F8\"}, \"line\": {\"color\": \"white\"}}, \"header\": {\"fill\": {\"color\": \"#C8D4E3\"}, \"line\": {\"color\": \"white\"}}, \"type\": \"table\"}]}, \"layout\": {\"annotationdefaults\": {\"arrowcolor\": \"#2a3f5f\", \"arrowhead\": 0, \"arrowwidth\": 1}, \"autotypenumbers\": \"strict\", \"coloraxis\": {\"colorbar\": {\"outlinewidth\": 0, \"ticks\": \"\"}}, \"colorscale\": {\"diverging\": [[0, \"#8e0152\"], [0.1, \"#c51b7d\"], [0.2, \"#de77ae\"], [0.3, \"#f1b6da\"], [0.4, \"#fde0ef\"], [0.5, \"#f7f7f7\"], [0.6, \"#e6f5d0\"], [0.7, \"#b8e186\"], [0.8, \"#7fbc41\"], [0.9, \"#4d9221\"], [1, \"#276419\"]], \"sequential\": [[0.0, \"#0d0887\"], [0.1111111111111111, \"#46039f\"], [0.2222222222222222, \"#7201a8\"], [0.3333333333333333, \"#9c179e\"], [0.4444444444444444, \"#bd3786\"], [0.5555555555555556, \"#d8576b\"], [0.6666666666666666, \"#ed7953\"], [0.7777777777777778, \"#fb9f3a\"], [0.8888888888888888, \"#fdca26\"], [1.0, \"#f0f921\"]], \"sequentialminus\": [[0.0, \"#0d0887\"], [0.1111111111111111, \"#46039f\"], [0.2222222222222222, \"#7201a8\"], [0.3333333333333333, \"#9c179e\"], [0.4444444444444444, \"#bd3786\"], [0.5555555555555556, \"#d8576b\"], [0.6666666666666666, \"#ed7953\"], [0.7777777777777778, \"#fb9f3a\"], [0.8888888888888888, \"#fdca26\"], [1.0, \"#f0f921\"]]}, \"colorway\": [\"#636efa\", \"#EF553B\", \"#00cc96\", \"#ab63fa\", \"#FFA15A\", \"#19d3f3\", \"#FF6692\", \"#B6E880\", \"#FF97FF\", \"#FECB52\"], \"font\": {\"color\": \"#2a3f5f\"}, \"geo\": {\"bgcolor\": \"white\", \"lakecolor\": \"white\", \"landcolor\": \"#E5ECF6\", \"showlakes\": true, \"showland\": true, \"subunitcolor\": \"white\"}, \"hoverlabel\": {\"align\": \"left\"}, \"hovermode\": \"closest\", \"mapbox\": {\"style\": \"light\"}, \"paper_bgcolor\": \"white\", \"plot_bgcolor\": \"#E5ECF6\", \"polar\": {\"angularaxis\": {\"gridcolor\": \"white\", \"linecolor\": \"white\", \"ticks\": \"\"}, \"bgcolor\": \"#E5ECF6\", \"radialaxis\": {\"gridcolor\": \"white\", \"linecolor\": \"white\", \"ticks\": \"\"}}, \"scene\": {\"xaxis\": {\"backgroundcolor\": \"#E5ECF6\", \"gridcolor\": \"white\", \"gridwidth\": 2, \"linecolor\": \"white\", \"showbackground\": true, \"ticks\": \"\", \"zerolinecolor\": \"white\"}, \"yaxis\": {\"backgroundcolor\": \"#E5ECF6\", \"gridcolor\": \"white\", \"gridwidth\": 2, \"linecolor\": \"white\", \"showbackground\": true, \"ticks\": \"\", \"zerolinecolor\": \"white\"}, \"zaxis\": {\"backgroundcolor\": \"#E5ECF6\", \"gridcolor\": \"white\", \"gridwidth\": 2, \"linecolor\": \"white\", \"showbackground\": true, \"ticks\": \"\", \"zerolinecolor\": \"white\"}}, \"shapedefaults\": {\"line\": {\"color\": \"#2a3f5f\"}}, \"ternary\": {\"aaxis\": {\"gridcolor\": \"white\", \"linecolor\": \"white\", \"ticks\": \"\"}, \"baxis\": {\"gridcolor\": \"white\", \"linecolor\": \"white\", \"ticks\": \"\"}, \"bgcolor\": \"#E5ECF6\", \"caxis\": {\"gridcolor\": \"white\", \"linecolor\": \"white\", \"ticks\": \"\"}}, \"title\": {\"x\": 0.05}, \"xaxis\": {\"automargin\": true, \"gridcolor\": \"white\", \"linecolor\": \"white\", \"ticks\": \"\", \"title\": {\"standoff\": 15}, \"zerolinecolor\": \"white\", \"zerolinewidth\": 2}, \"yaxis\": {\"automargin\": true, \"gridcolor\": \"white\", \"linecolor\": \"white\", \"ticks\": \"\", \"title\": {\"standoff\": 15}, \"zerolinecolor\": \"white\", \"zerolinewidth\": 2}}}, \"title\": {\"text\": \"Household Absolute change within simulation tics\"}, \"width\": 800, \"xaxis\": {\"gridcolor\": \"#f2f2f2\", \"gridwidth\": 1, \"title\": {\"text\": \"Simulation tic\"}, \"zerolinecolor\": \"lightgrey\", \"zerolinewidth\": 1}, \"yaxis\": {\"gridcolor\": \"#f2f2f2\", \"gridwidth\": 1, \"range\": [-100, 3300], \"title\": {\"text\": \"Household Count\"}, \"zerolinecolor\": \"lightgrey\", \"zerolinewidth\": 1}},                        {\"responsive\": true}                    ).then(function(){\n                            \nvar gd = document.getElementById('74c89d39-e484-42e6-b7af-d348c401811e');\nvar x = new MutationObserver(function (mutations, observer) {{\n        var display = window.getComputedStyle(gd).display;\n        if (!display || display === 'none') {{\n            console.log([gd, 'removed!']);\n            Plotly.purge(gd);\n            observer.disconnect();\n        }}\n}});\n\n// Listen for the removal of the full notebook cells\nvar notebookContainer = gd.closest('#notebook-container');\nif (notebookContainer) {{\n    x.observe(notebookContainer, {childList: true});\n}}\n\n// Listen for the clearing of the current output cell\nvar outputEl = gd.closest('.output');\nif (outputEl) {{\n    x.observe(outputEl, {childList: true});\n}}\n\n                        })                };                });            </script>        </div>"
         },
         "metadata": {},
         "output_type": "display_data"
        }
       ]
      }
     },
     "8658250a37b04111a01002311a5c872b": {
      "model_module": "@jupyter-widgets/controls",
      "model_module_version": "1.5.0",
      "model_name": "DescriptionStyleModel",
      "state": {
       "description_width": ""
      }
     },
     "89397b38b7a34f8ab210568d655f23c7": {
      "model_module": "@jupyter-widgets/base",
      "model_module_version": "1.2.0",
      "model_name": "LayoutModel",
      "state": {}
     },
     "8a2ec9187baa4870b4254ca3f12b85e2": {
      "model_module": "@jupyter-widgets/controls",
      "model_module_version": "1.5.0",
      "model_name": "DescriptionStyleModel",
      "state": {
       "description_width": ""
      }
     },
     "8b878225638b488680b158934fda6a1e": {
      "model_module": "@jupyter-widgets/controls",
      "model_module_version": "1.5.0",
      "model_name": "ButtonModel",
      "state": {
       "description": "Submit",
       "layout": "IPY_MODEL_7496fc368e0c499f9a167a0859f39624",
       "style": "IPY_MODEL_1170760ed5904cb3866309c625b8eb8f"
      }
     },
     "8b9393bcd6a2413183043d491f5a93f9": {
      "model_module": "@jupyter-widgets/base",
      "model_module_version": "1.2.0",
      "model_name": "LayoutModel",
      "state": {}
     },
     "8b96c0c2777d4b90a9e75b1d6616e6fd": {
      "model_module": "@jupyter-widgets/controls",
      "model_module_version": "1.5.0",
      "model_name": "IntRangeSliderModel",
      "state": {
       "_model_name": "IntRangeSliderModel",
       "_view_name": "IntRangeSliderView",
       "continuous_update": false,
       "description": "Simulation Tics:",
       "layout": "IPY_MODEL_101d5f65a30e4698a13697dae197f5ae",
       "max": 32,
       "style": "IPY_MODEL_633fade5365c4e5795d29565d74ed081",
       "value": [
        6,
        18
       ]
      }
     },
     "8bbbfbf63f9746febf96861718b73efd": {
      "model_module": "@jupyter-widgets/base",
      "model_module_version": "1.2.0",
      "model_name": "LayoutModel",
      "state": {}
     },
     "8cb41642691c48ee8835bf696729f155": {
      "model_module": "@jupyter-widgets/controls",
      "model_module_version": "1.5.0",
      "model_name": "HTMLModel",
      "state": {
       "layout": "IPY_MODEL_b6ae62a1ea76433eb3b4bf4f671f36ad",
       "style": "IPY_MODEL_1d442e8857f94c588a855553bda401d9",
       "value": "<div style='font-size:15px'><span><b>Apartment Size</b></span> Start Marker: <b>77.2  sq meters </b> End Marker <b> 87.5 sq meters</b><br/><span><b>Years in Neighborhood</b></span> Start Marker: <b>19.0  years </b> End Marker <b> 7.2 years</b><br/><span><b>Cost For Staying</b></span> Start Marker: <b>1351.5  ₪ </b> End Marker <b> 5191.0 ₪</b><br/><span><b>Mean Income</b></span> Start Marker: <b>10086.3  ₪ </b> End Marker <b> 17915.0 ₪</b><br/></div>"
      }
     },
     "8de25ef9da30474dbd9db8b693f4a902": {
      "model_module": "@jupyter-widgets/output",
      "model_module_version": "1.0.0",
      "model_name": "OutputModel",
      "state": {
       "layout": "IPY_MODEL_8002f53934d24760bd402756392eedbf",
       "outputs": [
        {
         "data": {
          "application/vnd.jupyter.widget-view+json": {
           "model_id": "7f184a623b0d4c819c89cb27d0b3081f",
           "version_major": 2,
           "version_minor": 0
          },
          "text/plain": "MapView(layout=Layout(height='400px', width='100%'))"
         },
         "metadata": {},
         "output_type": "display_data"
        },
        {
         "data": {
          "text/html": "<div class=\"map-static-img-preview-98e57b2a-23b6-430b-a5a3-6c7411693af4\"><img src=\"\"></img></div>",
          "text/plain": "<IPython.core.display.HTML object>"
         },
         "metadata": {},
         "output_type": "display_data"
        },
        {
         "data": {
          "text/html": "<div class=\"map-html-embed-preview-98e57b2a-23b6-430b-a5a3-6c7411693af4\"></div>",
          "text/plain": "<IPython.core.display.HTML object>"
         },
         "metadata": {},
         "output_type": "display_data"
        }
       ]
      }
     },
     "8f845e5b89364c51b83e7b00e5c35121": {
      "model_module": "@jupyter-widgets/controls",
      "model_module_version": "1.5.0",
      "model_name": "HTMLModel",
      "state": {
       "layout": "IPY_MODEL_5deb44f566bc4c15bf94be66a3d859ed",
       "style": "IPY_MODEL_09d93252723247bbaa74824d487e7daa",
       "value": "<div style='font-size:15px'><span><b>Apartment Size</b></span> Start Marker: <b>75.6  sq meters </b> End Marker <b> 86.8 sq meters</b><br/><span><b>Years in Neighborhood</b></span> Start Marker: <b>22.1  years </b> End Marker <b> 8.5 years</b><br/><span><b>Cost For Staying</b></span> Start Marker: <b>441.1  ₪ </b> End Marker <b> 4810.9 ₪</b><br/><span><b>Mean Income</b></span> Start Marker: <b>8504.2  ₪ </b> End Marker <b> 17208.7 ₪</b><br/></div>"
      }
     },
     "92c0000979994b1484eef7b8ff51c92e": {
      "model_module": "@jupyter-widgets/base",
      "model_module_version": "1.2.0",
      "model_name": "LayoutModel",
      "state": {}
     },
     "95502b81625c4fd994626eeee7304d36": {
      "model_module": "@jupyter-widgets/controls",
      "model_module_version": "1.5.0",
      "model_name": "HTMLModel",
      "state": {
       "layout": "IPY_MODEL_fd1b327b1d7846cdaee82767c30b6afe",
       "style": "IPY_MODEL_3a6ce7a7975b441dbd9c8a729ec33251",
       "value": "<div style='font-size:15px'><span><b>Apartment Size</b></span> Start Marker: <b>75.6  sq meters </b> End Marker <b> 77.3 sq meters</b><br/><span><b>Years in Neighborhood</b></span> Start Marker: <b>22.1  years </b> End Marker <b> 16.6 years</b><br/><span><b>Cost For Staying</b></span> Start Marker: <b>441.1  ₪ </b> End Marker <b> 1989.8 ₪</b><br/><span><b>Mean Income</b></span> Start Marker: <b>8504.2  ₪ </b> End Marker <b> 11267.1 ₪</b><br/></div>"
      }
     },
     "95ff6c37b74344119f6607d7b9486e4a": {
      "model_module": "@jupyter-widgets/controls",
      "model_module_version": "1.5.0",
      "model_name": "HTMLModel",
      "state": {
       "layout": "IPY_MODEL_c2121c67c48e43758730271cb3579abf",
       "style": "IPY_MODEL_6a837192beda42edb93b81de3b025387",
       "value": "<h2>Execution: 10 &nbsp; Project Number: 20150857<br/> Hebrew Address: סוקולוב 6, בת ים<br/>Project Type: Reconstruction</h2>"
      }
     },
     "96c3d0b096e04a969e99e96d66b3423b": {
      "model_module": "@jupyter-widgets/controls",
      "model_module_version": "1.5.0",
      "model_name": "ButtonModel",
      "state": {
       "description": "Submit",
       "layout": "IPY_MODEL_2a29a0982762452eb0a1f93527b4f2ba",
       "style": "IPY_MODEL_c474fddb4dec4e298a4aa44e9d44c80d"
      }
     },
     "98cdf2fa422d498d8b9fbd14a5dbcc07": {
      "model_module": "@jupyter-widgets/controls",
      "model_module_version": "1.5.0",
      "model_name": "DescriptionStyleModel",
      "state": {
       "description_width": ""
      }
     },
     "9a667e2cdf07472d8cafa29ac2dce861": {
      "model_module": "@jupyter-widgets/base",
      "model_module_version": "1.2.0",
      "model_name": "LayoutModel",
      "state": {}
     },
     "9bed56d38e43466c9052526284fd375d": {
      "model_module": "@jupyter-widgets/base",
      "model_module_version": "1.2.0",
      "model_name": "LayoutModel",
      "state": {}
     },
     "a089a29354764261a81c8fe81ea7edb2": {
      "model_module": "@jupyter-widgets/base",
      "model_module_version": "1.2.0",
      "model_name": "LayoutModel",
      "state": {}
     },
     "a090553163e546409fcff0ca233d3550": {
      "model_module": "@jupyter-widgets/controls",
      "model_module_version": "1.5.0",
      "model_name": "DescriptionStyleModel",
      "state": {
       "description_width": ""
      }
     },
     "a2554be50ffc4a96b653be04f738a839": {
      "model_module": "@jupyter-widgets/base",
      "model_module_version": "1.2.0",
      "model_name": "LayoutModel",
      "state": {}
     },
     "a634a080d00a4c5c93bfcf0598c930b5": {
      "model_module": "@jupyter-widgets/base",
      "model_module_version": "1.2.0",
      "model_name": "LayoutModel",
      "state": {}
     },
     "a779da4f80694e278af82752455593f5": {
      "model_module": "@jupyter-widgets/base",
      "model_module_version": "1.2.0",
      "model_name": "LayoutModel",
      "state": {}
     },
     "a883cfc180db436e92f86890cef24152": {
      "model_module": "@jupyter-widgets/controls",
      "model_module_version": "1.5.0",
      "model_name": "ButtonStyleModel",
      "state": {}
     },
     "b1ed769566b7461aa5d4f289d148ea29": {
      "model_module": "@jupyter-widgets/controls",
      "model_module_version": "1.5.0",
      "model_name": "DescriptionStyleModel",
      "state": {
       "description_width": ""
      }
     },
     "b3085593b9ba4def948f480727807277": {
      "model_module": "@jupyter-widgets/output",
      "model_module_version": "1.0.0",
      "model_name": "OutputModel",
      "state": {
       "layout": "IPY_MODEL_ffbaad9583094cbfa52bba8936ee0c5f",
       "outputs": [
        {
         "data": {
          "application/vnd.plotly.v1+json": {
           "config": {
            "plotlyServerURL": "https://plot.ly"
           },
           "data": [
            {
             "hovertemplate": "Age_income=Above 65 High Income<br>simulationState=After Renewal<br>Age Group=%{x}<br>Income Group=%{y}<br>Count=%{marker.size}<extra></extra>",
             "legendgroup": "Above 65 High Income",
             "marker": {
              "color": "HSV(280, 28%, 58%)",
              "size": [
               168
              ],
              "sizemode": "area",
              "sizeref": 0.7588888888888888,
              "symbol": "circle"
             },
             "mode": "markers",
             "name": "Above 65 High Income",
             "orientation": "v",
             "showlegend": false,
             "type": "scatter",
             "x": [
              "Above 65"
             ],
             "xaxis": "x2",
             "y": [
              "High Income"
             ],
             "yaxis": "y2"
            },
            {
             "hovertemplate": "Age_income=Above 65 Low Income<br>simulationState=Before Renewal<br>Age Group=%{x}<br>Income Group=%{y}<br>Count=%{marker.size}<extra></extra>",
             "legendgroup": "Above 65 Low Income",
             "marker": {
              "color": "HSV(83, 13%, 72%)",
              "size": [
               59
              ],
              "sizemode": "area",
              "sizeref": 0.7588888888888888,
              "symbol": "circle"
             },
             "mode": "markers",
             "name": "Above 65 Low Income",
             "orientation": "v",
             "showlegend": false,
             "type": "scatter",
             "x": [
              "Above 65"
             ],
             "xaxis": "x",
             "y": [
              "Low Income"
             ],
             "yaxis": "y"
            },
            {
             "hovertemplate": "Age_income=Above 65 Low Income<br>simulationState=After Renewal<br>Age Group=%{x}<br>Income Group=%{y}<br>Count=%{marker.size}<extra></extra>",
             "legendgroup": "Above 65 Low Income",
             "marker": {
              "color": "HSV(83, 13%, 72%)",
              "size": [
               2
              ],
              "sizemode": "area",
              "sizeref": 0.7588888888888888,
              "symbol": "circle"
             },
             "mode": "markers",
             "name": "Above 65 Low Income",
             "orientation": "v",
             "showlegend": false,
             "type": "scatter",
             "x": [
              "Above 65"
             ],
             "xaxis": "x2",
             "y": [
              "Low Income"
             ],
             "yaxis": "y2"
            },
            {
             "hovertemplate": "Age_income=Above 65 Medium Income<br>simulationState=Before Renewal<br>Age Group=%{x}<br>Income Group=%{y}<br>Count=%{marker.size}<extra></extra>",
             "legendgroup": "Above 65 Medium Income",
             "marker": {
              "color": "HSV(312, 34%, 65%)",
              "size": [
               29
              ],
              "sizemode": "area",
              "sizeref": 0.7588888888888888,
              "symbol": "circle"
             },
             "mode": "markers",
             "name": "Above 65 Medium Income",
             "orientation": "v",
             "showlegend": false,
             "type": "scatter",
             "x": [
              "Above 65"
             ],
             "xaxis": "x",
             "y": [
              "Medium Income"
             ],
             "yaxis": "y"
            },
            {
             "hovertemplate": "Age_income=Above 65 Medium Income<br>simulationState=After Renewal<br>Age Group=%{x}<br>Income Group=%{y}<br>Count=%{marker.size}<extra></extra>",
             "legendgroup": "Above 65 Medium Income",
             "marker": {
              "color": "HSV(312, 34%, 65%)",
              "size": [
               26
              ],
              "sizemode": "area",
              "sizeref": 0.7588888888888888,
              "symbol": "circle"
             },
             "mode": "markers",
             "name": "Above 65 Medium Income",
             "orientation": "v",
             "showlegend": false,
             "type": "scatter",
             "x": [
              "Above 65"
             ],
             "xaxis": "x2",
             "y": [
              "Medium Income"
             ],
             "yaxis": "y2"
            },
            {
             "hovertemplate": "Age_income=Under 65 High Income<br>simulationState=After Renewal<br>Age Group=%{x}<br>Income Group=%{y}<br>Count=%{marker.size}<extra></extra>",
             "legendgroup": "Under 65 High Income",
             "marker": {
              "color": "HSV(323,57%,39%)",
              "size": [
               683
              ],
              "sizemode": "area",
              "sizeref": 0.7588888888888888,
              "symbol": "circle"
             },
             "mode": "markers",
             "name": "Under 65 High Income",
             "orientation": "v",
             "showlegend": false,
             "type": "scatter",
             "x": [
              "Under 65"
             ],
             "xaxis": "x2",
             "y": [
              "High Income"
             ],
             "yaxis": "y2"
            },
            {
             "hovertemplate": "Age_income=Under 65 Low Income<br>simulationState=Before Renewal<br>Age Group=%{x}<br>Income Group=%{y}<br>Count=%{marker.size}<extra></extra>",
             "legendgroup": "Under 65 Low Income",
             "marker": {
              "color": "HSV(44,37%, 55%)",
              "size": [
               205
              ],
              "sizemode": "area",
              "sizeref": 0.7588888888888888,
              "symbol": "circle"
             },
             "mode": "markers",
             "name": "Under 65 Low Income",
             "orientation": "v",
             "showlegend": false,
             "type": "scatter",
             "x": [
              "Under 65"
             ],
             "xaxis": "x",
             "y": [
              "Low Income"
             ],
             "yaxis": "y"
            },
            {
             "hovertemplate": "Age_income=Under 65 Low Income<br>simulationState=After Renewal<br>Age Group=%{x}<br>Income Group=%{y}<br>Count=%{marker.size}<extra></extra>",
             "legendgroup": "Under 65 Low Income",
             "marker": {
              "color": "HSV(44,37%, 55%)",
              "size": [
               44
              ],
              "sizemode": "area",
              "sizeref": 0.7588888888888888,
              "symbol": "circle"
             },
             "mode": "markers",
             "name": "Under 65 Low Income",
             "orientation": "v",
             "showlegend": false,
             "type": "scatter",
             "x": [
              "Under 65"
             ],
             "xaxis": "x2",
             "y": [
              "Low Income"
             ],
             "yaxis": "y2"
            },
            {
             "hovertemplate": "Age_income=Under 65 Medium Income<br>simulationState=Before Renewal<br>Age Group=%{x}<br>Income Group=%{y}<br>Count=%{marker.size}<extra></extra>",
             "legendgroup": "Under 65 Medium Income",
             "marker": {
              "color": "HSV(333, 65%, 51%)",
              "size": [
               85
              ],
              "sizemode": "area",
              "sizeref": 0.7588888888888888,
              "symbol": "circle"
             },
             "mode": "markers",
             "name": "Under 65 Medium Income",
             "orientation": "v",
             "showlegend": false,
             "type": "scatter",
             "x": [
              "Under 65"
             ],
             "xaxis": "x",
             "y": [
              "Medium Income"
             ],
             "yaxis": "y"
            },
            {
             "hovertemplate": "Age_income=Under 65 Medium Income<br>simulationState=After Renewal<br>Age Group=%{x}<br>Income Group=%{y}<br>Count=%{marker.size}<extra></extra>",
             "legendgroup": "Under 65 Medium Income",
             "marker": {
              "color": "HSV(333, 65%, 51%)",
              "size": [
               144
              ],
              "sizemode": "area",
              "sizeref": 0.7588888888888888,
              "symbol": "circle"
             },
             "mode": "markers",
             "name": "Under 65 Medium Income",
             "orientation": "v",
             "showlegend": false,
             "type": "scatter",
             "x": [
              "Under 65"
             ],
             "xaxis": "x2",
             "y": [
              "Medium Income"
             ],
             "yaxis": "y2"
            }
           ],
           "layout": {
            "annotations": [
             {
              "font": {},
              "showarrow": false,
              "text": "Before Renewal",
              "x": 0.245,
              "xanchor": "center",
              "xref": "paper",
              "y": 1,
              "yanchor": "bottom",
              "yref": "paper"
             },
             {
              "font": {},
              "showarrow": false,
              "text": "After Renewal",
              "x": 0.755,
              "xanchor": "center",
              "xref": "paper",
              "y": 1,
              "yanchor": "bottom",
              "yref": "paper"
             }
            ],
            "height": 375,
            "legend": {
             "itemsizing": "constant",
             "title": {
              "text": "Age_income"
             },
             "tracegroupgap": 0
            },
            "plot_bgcolor": "#f2f7ff",
            "template": {
             "data": {
              "bar": [
               {
                "error_x": {
                 "color": "#2a3f5f"
                },
                "error_y": {
                 "color": "#2a3f5f"
                },
                "marker": {
                 "line": {
                  "color": "#E5ECF6",
                  "width": 0.5
                 }
                },
                "type": "bar"
               }
              ],
              "barpolar": [
               {
                "marker": {
                 "line": {
                  "color": "#E5ECF6",
                  "width": 0.5
                 }
                },
                "type": "barpolar"
               }
              ],
              "carpet": [
               {
                "aaxis": {
                 "endlinecolor": "#2a3f5f",
                 "gridcolor": "white",
                 "linecolor": "white",
                 "minorgridcolor": "white",
                 "startlinecolor": "#2a3f5f"
                },
                "baxis": {
                 "endlinecolor": "#2a3f5f",
                 "gridcolor": "white",
                 "linecolor": "white",
                 "minorgridcolor": "white",
                 "startlinecolor": "#2a3f5f"
                },
                "type": "carpet"
               }
              ],
              "choropleth": [
               {
                "colorbar": {
                 "outlinewidth": 0,
                 "ticks": ""
                },
                "type": "choropleth"
               }
              ],
              "contour": [
               {
                "colorbar": {
                 "outlinewidth": 0,
                 "ticks": ""
                },
                "colorscale": [
                 [
                  0,
                  "#0d0887"
                 ],
                 [
                  0.1111111111111111,
                  "#46039f"
                 ],
                 [
                  0.2222222222222222,
                  "#7201a8"
                 ],
                 [
                  0.3333333333333333,
                  "#9c179e"
                 ],
                 [
                  0.4444444444444444,
                  "#bd3786"
                 ],
                 [
                  0.5555555555555556,
                  "#d8576b"
                 ],
                 [
                  0.6666666666666666,
                  "#ed7953"
                 ],
                 [
                  0.7777777777777778,
                  "#fb9f3a"
                 ],
                 [
                  0.8888888888888888,
                  "#fdca26"
                 ],
                 [
                  1,
                  "#f0f921"
                 ]
                ],
                "type": "contour"
               }
              ],
              "contourcarpet": [
               {
                "colorbar": {
                 "outlinewidth": 0,
                 "ticks": ""
                },
                "type": "contourcarpet"
               }
              ],
              "heatmap": [
               {
                "colorbar": {
                 "outlinewidth": 0,
                 "ticks": ""
                },
                "colorscale": [
                 [
                  0,
                  "#0d0887"
                 ],
                 [
                  0.1111111111111111,
                  "#46039f"
                 ],
                 [
                  0.2222222222222222,
                  "#7201a8"
                 ],
                 [
                  0.3333333333333333,
                  "#9c179e"
                 ],
                 [
                  0.4444444444444444,
                  "#bd3786"
                 ],
                 [
                  0.5555555555555556,
                  "#d8576b"
                 ],
                 [
                  0.6666666666666666,
                  "#ed7953"
                 ],
                 [
                  0.7777777777777778,
                  "#fb9f3a"
                 ],
                 [
                  0.8888888888888888,
                  "#fdca26"
                 ],
                 [
                  1,
                  "#f0f921"
                 ]
                ],
                "type": "heatmap"
               }
              ],
              "heatmapgl": [
               {
                "colorbar": {
                 "outlinewidth": 0,
                 "ticks": ""
                },
                "colorscale": [
                 [
                  0,
                  "#0d0887"
                 ],
                 [
                  0.1111111111111111,
                  "#46039f"
                 ],
                 [
                  0.2222222222222222,
                  "#7201a8"
                 ],
                 [
                  0.3333333333333333,
                  "#9c179e"
                 ],
                 [
                  0.4444444444444444,
                  "#bd3786"
                 ],
                 [
                  0.5555555555555556,
                  "#d8576b"
                 ],
                 [
                  0.6666666666666666,
                  "#ed7953"
                 ],
                 [
                  0.7777777777777778,
                  "#fb9f3a"
                 ],
                 [
                  0.8888888888888888,
                  "#fdca26"
                 ],
                 [
                  1,
                  "#f0f921"
                 ]
                ],
                "type": "heatmapgl"
               }
              ],
              "histogram": [
               {
                "marker": {
                 "colorbar": {
                  "outlinewidth": 0,
                  "ticks": ""
                 }
                },
                "type": "histogram"
               }
              ],
              "histogram2d": [
               {
                "colorbar": {
                 "outlinewidth": 0,
                 "ticks": ""
                },
                "colorscale": [
                 [
                  0,
                  "#0d0887"
                 ],
                 [
                  0.1111111111111111,
                  "#46039f"
                 ],
                 [
                  0.2222222222222222,
                  "#7201a8"
                 ],
                 [
                  0.3333333333333333,
                  "#9c179e"
                 ],
                 [
                  0.4444444444444444,
                  "#bd3786"
                 ],
                 [
                  0.5555555555555556,
                  "#d8576b"
                 ],
                 [
                  0.6666666666666666,
                  "#ed7953"
                 ],
                 [
                  0.7777777777777778,
                  "#fb9f3a"
                 ],
                 [
                  0.8888888888888888,
                  "#fdca26"
                 ],
                 [
                  1,
                  "#f0f921"
                 ]
                ],
                "type": "histogram2d"
               }
              ],
              "histogram2dcontour": [
               {
                "colorbar": {
                 "outlinewidth": 0,
                 "ticks": ""
                },
                "colorscale": [
                 [
                  0,
                  "#0d0887"
                 ],
                 [
                  0.1111111111111111,
                  "#46039f"
                 ],
                 [
                  0.2222222222222222,
                  "#7201a8"
                 ],
                 [
                  0.3333333333333333,
                  "#9c179e"
                 ],
                 [
                  0.4444444444444444,
                  "#bd3786"
                 ],
                 [
                  0.5555555555555556,
                  "#d8576b"
                 ],
                 [
                  0.6666666666666666,
                  "#ed7953"
                 ],
                 [
                  0.7777777777777778,
                  "#fb9f3a"
                 ],
                 [
                  0.8888888888888888,
                  "#fdca26"
                 ],
                 [
                  1,
                  "#f0f921"
                 ]
                ],
                "type": "histogram2dcontour"
               }
              ],
              "mesh3d": [
               {
                "colorbar": {
                 "outlinewidth": 0,
                 "ticks": ""
                },
                "type": "mesh3d"
               }
              ],
              "parcoords": [
               {
                "line": {
                 "colorbar": {
                  "outlinewidth": 0,
                  "ticks": ""
                 }
                },
                "type": "parcoords"
               }
              ],
              "pie": [
               {
                "automargin": true,
                "type": "pie"
               }
              ],
              "scatter": [
               {
                "marker": {
                 "colorbar": {
                  "outlinewidth": 0,
                  "ticks": ""
                 }
                },
                "type": "scatter"
               }
              ],
              "scatter3d": [
               {
                "line": {
                 "colorbar": {
                  "outlinewidth": 0,
                  "ticks": ""
                 }
                },
                "marker": {
                 "colorbar": {
                  "outlinewidth": 0,
                  "ticks": ""
                 }
                },
                "type": "scatter3d"
               }
              ],
              "scattercarpet": [
               {
                "marker": {
                 "colorbar": {
                  "outlinewidth": 0,
                  "ticks": ""
                 }
                },
                "type": "scattercarpet"
               }
              ],
              "scattergeo": [
               {
                "marker": {
                 "colorbar": {
                  "outlinewidth": 0,
                  "ticks": ""
                 }
                },
                "type": "scattergeo"
               }
              ],
              "scattergl": [
               {
                "marker": {
                 "colorbar": {
                  "outlinewidth": 0,
                  "ticks": ""
                 }
                },
                "type": "scattergl"
               }
              ],
              "scattermapbox": [
               {
                "marker": {
                 "colorbar": {
                  "outlinewidth": 0,
                  "ticks": ""
                 }
                },
                "type": "scattermapbox"
               }
              ],
              "scatterpolar": [
               {
                "marker": {
                 "colorbar": {
                  "outlinewidth": 0,
                  "ticks": ""
                 }
                },
                "type": "scatterpolar"
               }
              ],
              "scatterpolargl": [
               {
                "marker": {
                 "colorbar": {
                  "outlinewidth": 0,
                  "ticks": ""
                 }
                },
                "type": "scatterpolargl"
               }
              ],
              "scatterternary": [
               {
                "marker": {
                 "colorbar": {
                  "outlinewidth": 0,
                  "ticks": ""
                 }
                },
                "type": "scatterternary"
               }
              ],
              "surface": [
               {
                "colorbar": {
                 "outlinewidth": 0,
                 "ticks": ""
                },
                "colorscale": [
                 [
                  0,
                  "#0d0887"
                 ],
                 [
                  0.1111111111111111,
                  "#46039f"
                 ],
                 [
                  0.2222222222222222,
                  "#7201a8"
                 ],
                 [
                  0.3333333333333333,
                  "#9c179e"
                 ],
                 [
                  0.4444444444444444,
                  "#bd3786"
                 ],
                 [
                  0.5555555555555556,
                  "#d8576b"
                 ],
                 [
                  0.6666666666666666,
                  "#ed7953"
                 ],
                 [
                  0.7777777777777778,
                  "#fb9f3a"
                 ],
                 [
                  0.8888888888888888,
                  "#fdca26"
                 ],
                 [
                  1,
                  "#f0f921"
                 ]
                ],
                "type": "surface"
               }
              ],
              "table": [
               {
                "cells": {
                 "fill": {
                  "color": "#EBF0F8"
                 },
                 "line": {
                  "color": "white"
                 }
                },
                "header": {
                 "fill": {
                  "color": "#C8D4E3"
                 },
                 "line": {
                  "color": "white"
                 }
                },
                "type": "table"
               }
              ]
             },
             "layout": {
              "annotationdefaults": {
               "arrowcolor": "#2a3f5f",
               "arrowhead": 0,
               "arrowwidth": 1
              },
              "autotypenumbers": "strict",
              "coloraxis": {
               "colorbar": {
                "outlinewidth": 0,
                "ticks": ""
               }
              },
              "colorscale": {
               "diverging": [
                [
                 0,
                 "#8e0152"
                ],
                [
                 0.1,
                 "#c51b7d"
                ],
                [
                 0.2,
                 "#de77ae"
                ],
                [
                 0.3,
                 "#f1b6da"
                ],
                [
                 0.4,
                 "#fde0ef"
                ],
                [
                 0.5,
                 "#f7f7f7"
                ],
                [
                 0.6,
                 "#e6f5d0"
                ],
                [
                 0.7,
                 "#b8e186"
                ],
                [
                 0.8,
                 "#7fbc41"
                ],
                [
                 0.9,
                 "#4d9221"
                ],
                [
                 1,
                 "#276419"
                ]
               ],
               "sequential": [
                [
                 0,
                 "#0d0887"
                ],
                [
                 0.1111111111111111,
                 "#46039f"
                ],
                [
                 0.2222222222222222,
                 "#7201a8"
                ],
                [
                 0.3333333333333333,
                 "#9c179e"
                ],
                [
                 0.4444444444444444,
                 "#bd3786"
                ],
                [
                 0.5555555555555556,
                 "#d8576b"
                ],
                [
                 0.6666666666666666,
                 "#ed7953"
                ],
                [
                 0.7777777777777778,
                 "#fb9f3a"
                ],
                [
                 0.8888888888888888,
                 "#fdca26"
                ],
                [
                 1,
                 "#f0f921"
                ]
               ],
               "sequentialminus": [
                [
                 0,
                 "#0d0887"
                ],
                [
                 0.1111111111111111,
                 "#46039f"
                ],
                [
                 0.2222222222222222,
                 "#7201a8"
                ],
                [
                 0.3333333333333333,
                 "#9c179e"
                ],
                [
                 0.4444444444444444,
                 "#bd3786"
                ],
                [
                 0.5555555555555556,
                 "#d8576b"
                ],
                [
                 0.6666666666666666,
                 "#ed7953"
                ],
                [
                 0.7777777777777778,
                 "#fb9f3a"
                ],
                [
                 0.8888888888888888,
                 "#fdca26"
                ],
                [
                 1,
                 "#f0f921"
                ]
               ]
              },
              "colorway": [
               "#636efa",
               "#EF553B",
               "#00cc96",
               "#ab63fa",
               "#FFA15A",
               "#19d3f3",
               "#FF6692",
               "#B6E880",
               "#FF97FF",
               "#FECB52"
              ],
              "font": {
               "color": "#2a3f5f"
              },
              "geo": {
               "bgcolor": "white",
               "lakecolor": "white",
               "landcolor": "#E5ECF6",
               "showlakes": true,
               "showland": true,
               "subunitcolor": "white"
              },
              "hoverlabel": {
               "align": "left"
              },
              "hovermode": "closest",
              "mapbox": {
               "style": "light"
              },
              "paper_bgcolor": "white",
              "plot_bgcolor": "#E5ECF6",
              "polar": {
               "angularaxis": {
                "gridcolor": "white",
                "linecolor": "white",
                "ticks": ""
               },
               "bgcolor": "#E5ECF6",
               "radialaxis": {
                "gridcolor": "white",
                "linecolor": "white",
                "ticks": ""
               }
              },
              "scene": {
               "xaxis": {
                "backgroundcolor": "#E5ECF6",
                "gridcolor": "white",
                "gridwidth": 2,
                "linecolor": "white",
                "showbackground": true,
                "ticks": "",
                "zerolinecolor": "white"
               },
               "yaxis": {
                "backgroundcolor": "#E5ECF6",
                "gridcolor": "white",
                "gridwidth": 2,
                "linecolor": "white",
                "showbackground": true,
                "ticks": "",
                "zerolinecolor": "white"
               },
               "zaxis": {
                "backgroundcolor": "#E5ECF6",
                "gridcolor": "white",
                "gridwidth": 2,
                "linecolor": "white",
                "showbackground": true,
                "ticks": "",
                "zerolinecolor": "white"
               }
              },
              "shapedefaults": {
               "line": {
                "color": "#2a3f5f"
               }
              },
              "ternary": {
               "aaxis": {
                "gridcolor": "white",
                "linecolor": "white",
                "ticks": ""
               },
               "baxis": {
                "gridcolor": "white",
                "linecolor": "white",
                "ticks": ""
               },
               "bgcolor": "#E5ECF6",
               "caxis": {
                "gridcolor": "white",
                "linecolor": "white",
                "ticks": ""
               }
              },
              "title": {
               "x": 0.05
              },
              "xaxis": {
               "automargin": true,
               "gridcolor": "white",
               "linecolor": "white",
               "ticks": "",
               "title": {
                "standoff": 15
               },
               "zerolinecolor": "white",
               "zerolinewidth": 2
              },
              "yaxis": {
               "automargin": true,
               "gridcolor": "white",
               "linecolor": "white",
               "ticks": "",
               "title": {
                "standoff": 15
               },
               "zerolinecolor": "white",
               "zerolinewidth": 2
              }
             }
            },
            "title": {
             "text": "Age Group Vs Income Before and After Renewal"
            },
            "width": 700,
            "xaxis": {
             "anchor": "y",
             "categoryarray": [
              "Under 65",
              "Above 65"
             ],
             "categoryorder": "array",
             "domain": [
              0,
              0.49
             ],
             "gridcolor": "#d9d9d9",
             "gridwidth": 1,
             "title": {
              "text": ""
             },
             "zerolinecolor": "lightgrey",
             "zerolinewidth": 1
            },
            "xaxis2": {
             "anchor": "y2",
             "categoryarray": [
              "Under 65",
              "Above 65"
             ],
             "categoryorder": "array",
             "domain": [
              0.51,
              1
             ],
             "gridcolor": "#d9d9d9",
             "gridwidth": 1,
             "matches": "x",
             "title": {
              "text": ""
             },
             "zerolinecolor": "lightgrey",
             "zerolinewidth": 1
            },
            "yaxis": {
             "anchor": "x",
             "categoryarray": [
              "Low Income",
              "Medium Income",
              "High Income"
             ],
             "categoryorder": "array",
             "domain": [
              0,
              1
             ],
             "gridcolor": "#d9d9d9",
             "gridwidth": 1,
             "title": {
              "text": ""
             },
             "zerolinecolor": "lightgrey",
             "zerolinewidth": 1
            },
            "yaxis2": {
             "anchor": "x2",
             "domain": [
              0,
              1
             ],
             "gridcolor": "#d9d9d9",
             "gridwidth": 1,
             "matches": "y",
             "showticklabels": false,
             "title": {
              "text": ""
             },
             "zerolinecolor": "lightgrey",
             "zerolinewidth": 1
            }
           }
          },
          "text/html": "<div>                            <div id=\"fd581321-e6f8-4180-a6a0-0445397b30c2\" class=\"plotly-graph-div\" style=\"height:375px; width:700px;\"></div>            <script type=\"text/javascript\">                require([\"plotly\"], function(Plotly) {                    window.PLOTLYENV=window.PLOTLYENV || {};                                    if (document.getElementById(\"fd581321-e6f8-4180-a6a0-0445397b30c2\")) {                    Plotly.newPlot(                        \"fd581321-e6f8-4180-a6a0-0445397b30c2\",                        [{\"hovertemplate\": \"Age_income=Above 65 High Income<br>simulationState=After Renewal<br>Age Group=%{x}<br>Income Group=%{y}<br>Count=%{marker.size}<extra></extra>\", \"legendgroup\": \"Above 65 High Income\", \"marker\": {\"color\": \"HSV(280, 28%, 58%)\", \"size\": [168], \"sizemode\": \"area\", \"sizeref\": 0.7588888888888888, \"symbol\": \"circle\"}, \"mode\": \"markers\", \"name\": \"Above 65 High Income\", \"orientation\": \"v\", \"showlegend\": false, \"type\": \"scatter\", \"x\": [\"Above 65\"], \"xaxis\": \"x2\", \"y\": [\"High Income\"], \"yaxis\": \"y2\"}, {\"hovertemplate\": \"Age_income=Above 65 Low Income<br>simulationState=Before Renewal<br>Age Group=%{x}<br>Income Group=%{y}<br>Count=%{marker.size}<extra></extra>\", \"legendgroup\": \"Above 65 Low Income\", \"marker\": {\"color\": \"HSV(83, 13%, 72%)\", \"size\": [59], \"sizemode\": \"area\", \"sizeref\": 0.7588888888888888, \"symbol\": \"circle\"}, \"mode\": \"markers\", \"name\": \"Above 65 Low Income\", \"orientation\": \"v\", \"showlegend\": false, \"type\": \"scatter\", \"x\": [\"Above 65\"], \"xaxis\": \"x\", \"y\": [\"Low Income\"], \"yaxis\": \"y\"}, {\"hovertemplate\": \"Age_income=Above 65 Low Income<br>simulationState=After Renewal<br>Age Group=%{x}<br>Income Group=%{y}<br>Count=%{marker.size}<extra></extra>\", \"legendgroup\": \"Above 65 Low Income\", \"marker\": {\"color\": \"HSV(83, 13%, 72%)\", \"size\": [2], \"sizemode\": \"area\", \"sizeref\": 0.7588888888888888, \"symbol\": \"circle\"}, \"mode\": \"markers\", \"name\": \"Above 65 Low Income\", \"orientation\": \"v\", \"showlegend\": false, \"type\": \"scatter\", \"x\": [\"Above 65\"], \"xaxis\": \"x2\", \"y\": [\"Low Income\"], \"yaxis\": \"y2\"}, {\"hovertemplate\": \"Age_income=Above 65 Medium Income<br>simulationState=Before Renewal<br>Age Group=%{x}<br>Income Group=%{y}<br>Count=%{marker.size}<extra></extra>\", \"legendgroup\": \"Above 65 Medium Income\", \"marker\": {\"color\": \"HSV(312, 34%, 65%)\", \"size\": [29], \"sizemode\": \"area\", \"sizeref\": 0.7588888888888888, \"symbol\": \"circle\"}, \"mode\": \"markers\", \"name\": \"Above 65 Medium Income\", \"orientation\": \"v\", \"showlegend\": false, \"type\": \"scatter\", \"x\": [\"Above 65\"], \"xaxis\": \"x\", \"y\": [\"Medium Income\"], \"yaxis\": \"y\"}, {\"hovertemplate\": \"Age_income=Above 65 Medium Income<br>simulationState=After Renewal<br>Age Group=%{x}<br>Income Group=%{y}<br>Count=%{marker.size}<extra></extra>\", \"legendgroup\": \"Above 65 Medium Income\", \"marker\": {\"color\": \"HSV(312, 34%, 65%)\", \"size\": [26], \"sizemode\": \"area\", \"sizeref\": 0.7588888888888888, \"symbol\": \"circle\"}, \"mode\": \"markers\", \"name\": \"Above 65 Medium Income\", \"orientation\": \"v\", \"showlegend\": false, \"type\": \"scatter\", \"x\": [\"Above 65\"], \"xaxis\": \"x2\", \"y\": [\"Medium Income\"], \"yaxis\": \"y2\"}, {\"hovertemplate\": \"Age_income=Under 65 High Income<br>simulationState=After Renewal<br>Age Group=%{x}<br>Income Group=%{y}<br>Count=%{marker.size}<extra></extra>\", \"legendgroup\": \"Under 65 High Income\", \"marker\": {\"color\": \"HSV(323,57%,39%)\", \"size\": [683], \"sizemode\": \"area\", \"sizeref\": 0.7588888888888888, \"symbol\": \"circle\"}, \"mode\": \"markers\", \"name\": \"Under 65 High Income\", \"orientation\": \"v\", \"showlegend\": false, \"type\": \"scatter\", \"x\": [\"Under 65\"], \"xaxis\": \"x2\", \"y\": [\"High Income\"], \"yaxis\": \"y2\"}, {\"hovertemplate\": \"Age_income=Under 65 Low Income<br>simulationState=Before Renewal<br>Age Group=%{x}<br>Income Group=%{y}<br>Count=%{marker.size}<extra></extra>\", \"legendgroup\": \"Under 65 Low Income\", \"marker\": {\"color\": \"HSV(44,37%, 55%)\", \"size\": [205], \"sizemode\": \"area\", \"sizeref\": 0.7588888888888888, \"symbol\": \"circle\"}, \"mode\": \"markers\", \"name\": \"Under 65 Low Income\", \"orientation\": \"v\", \"showlegend\": false, \"type\": \"scatter\", \"x\": [\"Under 65\"], \"xaxis\": \"x\", \"y\": [\"Low Income\"], \"yaxis\": \"y\"}, {\"hovertemplate\": \"Age_income=Under 65 Low Income<br>simulationState=After Renewal<br>Age Group=%{x}<br>Income Group=%{y}<br>Count=%{marker.size}<extra></extra>\", \"legendgroup\": \"Under 65 Low Income\", \"marker\": {\"color\": \"HSV(44,37%, 55%)\", \"size\": [44], \"sizemode\": \"area\", \"sizeref\": 0.7588888888888888, \"symbol\": \"circle\"}, \"mode\": \"markers\", \"name\": \"Under 65 Low Income\", \"orientation\": \"v\", \"showlegend\": false, \"type\": \"scatter\", \"x\": [\"Under 65\"], \"xaxis\": \"x2\", \"y\": [\"Low Income\"], \"yaxis\": \"y2\"}, {\"hovertemplate\": \"Age_income=Under 65 Medium Income<br>simulationState=Before Renewal<br>Age Group=%{x}<br>Income Group=%{y}<br>Count=%{marker.size}<extra></extra>\", \"legendgroup\": \"Under 65 Medium Income\", \"marker\": {\"color\": \"HSV(333, 65%, 51%)\", \"size\": [85], \"sizemode\": \"area\", \"sizeref\": 0.7588888888888888, \"symbol\": \"circle\"}, \"mode\": \"markers\", \"name\": \"Under 65 Medium Income\", \"orientation\": \"v\", \"showlegend\": false, \"type\": \"scatter\", \"x\": [\"Under 65\"], \"xaxis\": \"x\", \"y\": [\"Medium Income\"], \"yaxis\": \"y\"}, {\"hovertemplate\": \"Age_income=Under 65 Medium Income<br>simulationState=After Renewal<br>Age Group=%{x}<br>Income Group=%{y}<br>Count=%{marker.size}<extra></extra>\", \"legendgroup\": \"Under 65 Medium Income\", \"marker\": {\"color\": \"HSV(333, 65%, 51%)\", \"size\": [144], \"sizemode\": \"area\", \"sizeref\": 0.7588888888888888, \"symbol\": \"circle\"}, \"mode\": \"markers\", \"name\": \"Under 65 Medium Income\", \"orientation\": \"v\", \"showlegend\": false, \"type\": \"scatter\", \"x\": [\"Under 65\"], \"xaxis\": \"x2\", \"y\": [\"Medium Income\"], \"yaxis\": \"y2\"}],                        {\"annotations\": [{\"font\": {}, \"showarrow\": false, \"text\": \"Before Renewal\", \"x\": 0.245, \"xanchor\": \"center\", \"xref\": \"paper\", \"y\": 1.0, \"yanchor\": \"bottom\", \"yref\": \"paper\"}, {\"font\": {}, \"showarrow\": false, \"text\": \"After Renewal\", \"x\": 0.755, \"xanchor\": \"center\", \"xref\": \"paper\", \"y\": 1.0, \"yanchor\": \"bottom\", \"yref\": \"paper\"}], \"height\": 375, \"legend\": {\"itemsizing\": \"constant\", \"title\": {\"text\": \"Age_income\"}, \"tracegroupgap\": 0}, \"plot_bgcolor\": \"#f2f7ff\", \"template\": {\"data\": {\"bar\": [{\"error_x\": {\"color\": \"#2a3f5f\"}, \"error_y\": {\"color\": \"#2a3f5f\"}, \"marker\": {\"line\": {\"color\": \"#E5ECF6\", \"width\": 0.5}}, \"type\": \"bar\"}], \"barpolar\": [{\"marker\": {\"line\": {\"color\": \"#E5ECF6\", \"width\": 0.5}}, \"type\": \"barpolar\"}], \"carpet\": [{\"aaxis\": {\"endlinecolor\": \"#2a3f5f\", \"gridcolor\": \"white\", \"linecolor\": \"white\", \"minorgridcolor\": \"white\", \"startlinecolor\": \"#2a3f5f\"}, \"baxis\": {\"endlinecolor\": \"#2a3f5f\", \"gridcolor\": \"white\", \"linecolor\": \"white\", \"minorgridcolor\": \"white\", \"startlinecolor\": \"#2a3f5f\"}, \"type\": \"carpet\"}], \"choropleth\": [{\"colorbar\": {\"outlinewidth\": 0, \"ticks\": \"\"}, \"type\": \"choropleth\"}], \"contour\": [{\"colorbar\": {\"outlinewidth\": 0, \"ticks\": \"\"}, \"colorscale\": [[0.0, \"#0d0887\"], [0.1111111111111111, \"#46039f\"], [0.2222222222222222, \"#7201a8\"], [0.3333333333333333, \"#9c179e\"], [0.4444444444444444, \"#bd3786\"], [0.5555555555555556, \"#d8576b\"], [0.6666666666666666, \"#ed7953\"], [0.7777777777777778, \"#fb9f3a\"], [0.8888888888888888, \"#fdca26\"], [1.0, \"#f0f921\"]], \"type\": \"contour\"}], \"contourcarpet\": [{\"colorbar\": {\"outlinewidth\": 0, \"ticks\": \"\"}, \"type\": \"contourcarpet\"}], \"heatmap\": [{\"colorbar\": {\"outlinewidth\": 0, \"ticks\": \"\"}, \"colorscale\": [[0.0, \"#0d0887\"], [0.1111111111111111, \"#46039f\"], [0.2222222222222222, \"#7201a8\"], [0.3333333333333333, \"#9c179e\"], [0.4444444444444444, \"#bd3786\"], [0.5555555555555556, \"#d8576b\"], [0.6666666666666666, \"#ed7953\"], [0.7777777777777778, \"#fb9f3a\"], [0.8888888888888888, \"#fdca26\"], [1.0, \"#f0f921\"]], \"type\": \"heatmap\"}], \"heatmapgl\": [{\"colorbar\": {\"outlinewidth\": 0, \"ticks\": \"\"}, \"colorscale\": [[0.0, \"#0d0887\"], [0.1111111111111111, \"#46039f\"], [0.2222222222222222, \"#7201a8\"], [0.3333333333333333, \"#9c179e\"], [0.4444444444444444, \"#bd3786\"], [0.5555555555555556, \"#d8576b\"], [0.6666666666666666, \"#ed7953\"], [0.7777777777777778, \"#fb9f3a\"], [0.8888888888888888, \"#fdca26\"], [1.0, \"#f0f921\"]], \"type\": \"heatmapgl\"}], \"histogram\": [{\"marker\": {\"colorbar\": {\"outlinewidth\": 0, \"ticks\": \"\"}}, \"type\": \"histogram\"}], \"histogram2d\": [{\"colorbar\": {\"outlinewidth\": 0, \"ticks\": \"\"}, \"colorscale\": [[0.0, \"#0d0887\"], [0.1111111111111111, \"#46039f\"], [0.2222222222222222, \"#7201a8\"], [0.3333333333333333, \"#9c179e\"], [0.4444444444444444, \"#bd3786\"], [0.5555555555555556, \"#d8576b\"], [0.6666666666666666, \"#ed7953\"], [0.7777777777777778, \"#fb9f3a\"], [0.8888888888888888, \"#fdca26\"], [1.0, \"#f0f921\"]], \"type\": \"histogram2d\"}], \"histogram2dcontour\": [{\"colorbar\": {\"outlinewidth\": 0, \"ticks\": \"\"}, \"colorscale\": [[0.0, \"#0d0887\"], [0.1111111111111111, \"#46039f\"], [0.2222222222222222, \"#7201a8\"], [0.3333333333333333, \"#9c179e\"], [0.4444444444444444, \"#bd3786\"], [0.5555555555555556, \"#d8576b\"], [0.6666666666666666, \"#ed7953\"], [0.7777777777777778, \"#fb9f3a\"], [0.8888888888888888, \"#fdca26\"], [1.0, \"#f0f921\"]], \"type\": \"histogram2dcontour\"}], \"mesh3d\": [{\"colorbar\": {\"outlinewidth\": 0, \"ticks\": \"\"}, \"type\": \"mesh3d\"}], \"parcoords\": [{\"line\": {\"colorbar\": {\"outlinewidth\": 0, \"ticks\": \"\"}}, \"type\": \"parcoords\"}], \"pie\": [{\"automargin\": true, \"type\": \"pie\"}], \"scatter\": [{\"marker\": {\"colorbar\": {\"outlinewidth\": 0, \"ticks\": \"\"}}, \"type\": \"scatter\"}], \"scatter3d\": [{\"line\": {\"colorbar\": {\"outlinewidth\": 0, \"ticks\": \"\"}}, \"marker\": {\"colorbar\": {\"outlinewidth\": 0, \"ticks\": \"\"}}, \"type\": \"scatter3d\"}], \"scattercarpet\": [{\"marker\": {\"colorbar\": {\"outlinewidth\": 0, \"ticks\": \"\"}}, \"type\": \"scattercarpet\"}], \"scattergeo\": [{\"marker\": {\"colorbar\": {\"outlinewidth\": 0, \"ticks\": \"\"}}, \"type\": \"scattergeo\"}], \"scattergl\": [{\"marker\": {\"colorbar\": {\"outlinewidth\": 0, \"ticks\": \"\"}}, \"type\": \"scattergl\"}], \"scattermapbox\": [{\"marker\": {\"colorbar\": {\"outlinewidth\": 0, \"ticks\": \"\"}}, \"type\": \"scattermapbox\"}], \"scatterpolar\": [{\"marker\": {\"colorbar\": {\"outlinewidth\": 0, \"ticks\": \"\"}}, \"type\": \"scatterpolar\"}], \"scatterpolargl\": [{\"marker\": {\"colorbar\": {\"outlinewidth\": 0, \"ticks\": \"\"}}, \"type\": \"scatterpolargl\"}], \"scatterternary\": [{\"marker\": {\"colorbar\": {\"outlinewidth\": 0, \"ticks\": \"\"}}, \"type\": \"scatterternary\"}], \"surface\": [{\"colorbar\": {\"outlinewidth\": 0, \"ticks\": \"\"}, \"colorscale\": [[0.0, \"#0d0887\"], [0.1111111111111111, \"#46039f\"], [0.2222222222222222, \"#7201a8\"], [0.3333333333333333, \"#9c179e\"], [0.4444444444444444, \"#bd3786\"], [0.5555555555555556, \"#d8576b\"], [0.6666666666666666, \"#ed7953\"], [0.7777777777777778, \"#fb9f3a\"], [0.8888888888888888, \"#fdca26\"], [1.0, \"#f0f921\"]], \"type\": \"surface\"}], \"table\": [{\"cells\": {\"fill\": {\"color\": \"#EBF0F8\"}, \"line\": {\"color\": \"white\"}}, \"header\": {\"fill\": {\"color\": \"#C8D4E3\"}, \"line\": {\"color\": \"white\"}}, \"type\": \"table\"}]}, \"layout\": {\"annotationdefaults\": {\"arrowcolor\": \"#2a3f5f\", \"arrowhead\": 0, \"arrowwidth\": 1}, \"autotypenumbers\": \"strict\", \"coloraxis\": {\"colorbar\": {\"outlinewidth\": 0, \"ticks\": \"\"}}, \"colorscale\": {\"diverging\": [[0, \"#8e0152\"], [0.1, \"#c51b7d\"], [0.2, \"#de77ae\"], [0.3, \"#f1b6da\"], [0.4, \"#fde0ef\"], [0.5, \"#f7f7f7\"], [0.6, \"#e6f5d0\"], [0.7, \"#b8e186\"], [0.8, \"#7fbc41\"], [0.9, \"#4d9221\"], [1, \"#276419\"]], \"sequential\": [[0.0, \"#0d0887\"], [0.1111111111111111, \"#46039f\"], [0.2222222222222222, \"#7201a8\"], [0.3333333333333333, \"#9c179e\"], [0.4444444444444444, \"#bd3786\"], [0.5555555555555556, \"#d8576b\"], [0.6666666666666666, \"#ed7953\"], [0.7777777777777778, \"#fb9f3a\"], [0.8888888888888888, \"#fdca26\"], [1.0, \"#f0f921\"]], \"sequentialminus\": [[0.0, \"#0d0887\"], [0.1111111111111111, \"#46039f\"], [0.2222222222222222, \"#7201a8\"], [0.3333333333333333, \"#9c179e\"], [0.4444444444444444, \"#bd3786\"], [0.5555555555555556, \"#d8576b\"], [0.6666666666666666, \"#ed7953\"], [0.7777777777777778, \"#fb9f3a\"], [0.8888888888888888, \"#fdca26\"], [1.0, \"#f0f921\"]]}, \"colorway\": [\"#636efa\", \"#EF553B\", \"#00cc96\", \"#ab63fa\", \"#FFA15A\", \"#19d3f3\", \"#FF6692\", \"#B6E880\", \"#FF97FF\", \"#FECB52\"], \"font\": {\"color\": \"#2a3f5f\"}, \"geo\": {\"bgcolor\": \"white\", \"lakecolor\": \"white\", \"landcolor\": \"#E5ECF6\", \"showlakes\": true, \"showland\": true, \"subunitcolor\": \"white\"}, \"hoverlabel\": {\"align\": \"left\"}, \"hovermode\": \"closest\", \"mapbox\": {\"style\": \"light\"}, \"paper_bgcolor\": \"white\", \"plot_bgcolor\": \"#E5ECF6\", \"polar\": {\"angularaxis\": {\"gridcolor\": \"white\", \"linecolor\": \"white\", \"ticks\": \"\"}, \"bgcolor\": \"#E5ECF6\", \"radialaxis\": {\"gridcolor\": \"white\", \"linecolor\": \"white\", \"ticks\": \"\"}}, \"scene\": {\"xaxis\": {\"backgroundcolor\": \"#E5ECF6\", \"gridcolor\": \"white\", \"gridwidth\": 2, \"linecolor\": \"white\", \"showbackground\": true, \"ticks\": \"\", \"zerolinecolor\": \"white\"}, \"yaxis\": {\"backgroundcolor\": \"#E5ECF6\", \"gridcolor\": \"white\", \"gridwidth\": 2, \"linecolor\": \"white\", \"showbackground\": true, \"ticks\": \"\", \"zerolinecolor\": \"white\"}, \"zaxis\": {\"backgroundcolor\": \"#E5ECF6\", \"gridcolor\": \"white\", \"gridwidth\": 2, \"linecolor\": \"white\", \"showbackground\": true, \"ticks\": \"\", \"zerolinecolor\": \"white\"}}, \"shapedefaults\": {\"line\": {\"color\": \"#2a3f5f\"}}, \"ternary\": {\"aaxis\": {\"gridcolor\": \"white\", \"linecolor\": \"white\", \"ticks\": \"\"}, \"baxis\": {\"gridcolor\": \"white\", \"linecolor\": \"white\", \"ticks\": \"\"}, \"bgcolor\": \"#E5ECF6\", \"caxis\": {\"gridcolor\": \"white\", \"linecolor\": \"white\", \"ticks\": \"\"}}, \"title\": {\"x\": 0.05}, \"xaxis\": {\"automargin\": true, \"gridcolor\": \"white\", \"linecolor\": \"white\", \"ticks\": \"\", \"title\": {\"standoff\": 15}, \"zerolinecolor\": \"white\", \"zerolinewidth\": 2}, \"yaxis\": {\"automargin\": true, \"gridcolor\": \"white\", \"linecolor\": \"white\", \"ticks\": \"\", \"title\": {\"standoff\": 15}, \"zerolinecolor\": \"white\", \"zerolinewidth\": 2}}}, \"title\": {\"text\": \"Age Group Vs Income Before and After Renewal\"}, \"width\": 700, \"xaxis\": {\"anchor\": \"y\", \"categoryarray\": [\"Under 65\", \"Above 65\"], \"categoryorder\": \"array\", \"domain\": [0.0, 0.49], \"gridcolor\": \"#d9d9d9\", \"gridwidth\": 1, \"title\": {\"text\": \"\"}, \"zerolinecolor\": \"lightgrey\", \"zerolinewidth\": 1}, \"xaxis2\": {\"anchor\": \"y2\", \"categoryarray\": [\"Under 65\", \"Above 65\"], \"categoryorder\": \"array\", \"domain\": [0.51, 1.0], \"gridcolor\": \"#d9d9d9\", \"gridwidth\": 1, \"matches\": \"x\", \"title\": {\"text\": \"\"}, \"zerolinecolor\": \"lightgrey\", \"zerolinewidth\": 1}, \"yaxis\": {\"anchor\": \"x\", \"categoryarray\": [\"Low Income\", \"Medium Income\", \"High Income\"], \"categoryorder\": \"array\", \"domain\": [0.0, 1.0], \"gridcolor\": \"#d9d9d9\", \"gridwidth\": 1, \"title\": {\"text\": \"\"}, \"zerolinecolor\": \"lightgrey\", \"zerolinewidth\": 1}, \"yaxis2\": {\"anchor\": \"x2\", \"domain\": [0.0, 1.0], \"gridcolor\": \"#d9d9d9\", \"gridwidth\": 1, \"matches\": \"y\", \"showticklabels\": false, \"title\": {\"text\": \"\"}, \"zerolinecolor\": \"lightgrey\", \"zerolinewidth\": 1}},                        {\"responsive\": true}                    ).then(function(){\n                            \nvar gd = document.getElementById('fd581321-e6f8-4180-a6a0-0445397b30c2');\nvar x = new MutationObserver(function (mutations, observer) {{\n        var display = window.getComputedStyle(gd).display;\n        if (!display || display === 'none') {{\n            console.log([gd, 'removed!']);\n            Plotly.purge(gd);\n            observer.disconnect();\n        }}\n}});\n\n// Listen for the removal of the full notebook cells\nvar notebookContainer = gd.closest('#notebook-container');\nif (notebookContainer) {{\n    x.observe(notebookContainer, {childList: true});\n}}\n\n// Listen for the clearing of the current output cell\nvar outputEl = gd.closest('.output');\nif (outputEl) {{\n    x.observe(outputEl, {childList: true});\n}}\n\n                        })                };                });            </script>        </div>"
         },
         "metadata": {},
         "output_type": "display_data"
        }
       ]
      }
     },
     "b3afd4394eab4e48acf52cc19882013a": {
      "model_module": "@jupyter-widgets/base",
      "model_module_version": "1.2.0",
      "model_name": "LayoutModel",
      "state": {}
     },
     "b4588a3881cb4bc9beaca5c47451b8bb": {
      "model_module": "@jupyter-widgets/base",
      "model_module_version": "1.2.0",
      "model_name": "LayoutModel",
      "state": {
       "height": "400px",
       "width": "100%"
      }
     },
     "b5313bffd00b459cbdbe2001effe7a53": {
      "model_module": "@jupyter-widgets/output",
      "model_module_version": "1.0.0",
      "model_name": "OutputModel",
      "state": {
       "layout": "IPY_MODEL_7a31c91885194b6182ef821fe373af87",
       "outputs": [
        {
         "data": {
          "application/vnd.jupyter.widget-view+json": {
           "model_id": "3cfa2291de934b538e91c8b67c404c55",
           "version_major": 2,
           "version_minor": 0
          },
          "text/plain": "HTML(value='<iframe src=\"https://technion-gis.maps.arcgis.com/apps/instant/3dviewer/index.html?appid=73d482403…"
         },
         "metadata": {},
         "output_type": "display_data"
        }
       ]
      }
     },
     "b6ae62a1ea76433eb3b4bf4f671f36ad": {
      "model_module": "@jupyter-widgets/base",
      "model_module_version": "1.2.0",
      "model_name": "LayoutModel",
      "state": {}
     },
     "bc1cc7fba5934379bef999f42a4881de": {
      "model_module": "@jupyter-widgets/base",
      "model_module_version": "1.2.0",
      "model_name": "LayoutModel",
      "state": {}
     },
     "bf84bb90824c4457b78ccd5a94fb7d26": {
      "model_module": "@jupyter-widgets/base",
      "model_module_version": "1.2.0",
      "model_name": "LayoutModel",
      "state": {}
     },
     "c1f204013eda437cbbd42495b40c4340": {
      "model_module": "@jupyter-widgets/controls",
      "model_module_version": "1.5.0",
      "model_name": "DescriptionStyleModel",
      "state": {
       "description_width": ""
      }
     },
     "c2121c67c48e43758730271cb3579abf": {
      "model_module": "@jupyter-widgets/base",
      "model_module_version": "1.2.0",
      "model_name": "LayoutModel",
      "state": {}
     },
     "c3c158c95b47403f877a633e38b65aad": {
      "model_module": "@jupyter-widgets/base",
      "model_module_version": "1.2.0",
      "model_name": "LayoutModel",
      "state": {}
     },
     "c474fddb4dec4e298a4aa44e9d44c80d": {
      "model_module": "@jupyter-widgets/controls",
      "model_module_version": "1.5.0",
      "model_name": "ButtonStyleModel",
      "state": {}
     },
     "c5353410bc664d7bb7bfa35a3b69a2f9": {
      "model_module": "@jupyter-widgets/controls",
      "model_module_version": "1.5.0",
      "model_name": "DescriptionStyleModel",
      "state": {
       "description_width": ""
      }
     },
     "c8c3c1e80d0e4e00a0dadce7ae20a8bb": {
      "model_module": "@jupyter-widgets/controls",
      "model_module_version": "1.5.0",
      "model_name": "ButtonStyleModel",
      "state": {}
     },
     "d2c38bd360c54d51909e0a75ccc0dbfb": {
      "model_module": "@jupyter-widgets/base",
      "model_module_version": "1.2.0",
      "model_name": "LayoutModel",
      "state": {}
     },
     "d34e7ecc3d0b461881f5bffa6bc22f8f": {
      "model_module": "@jupyter-widgets/controls",
      "model_module_version": "1.5.0",
      "model_name": "HTMLModel",
      "state": {
       "layout": "IPY_MODEL_27917789b85445fdb80e4acb8b98be09",
       "style": "IPY_MODEL_a090553163e546409fcff0ca233d3550",
       "value": "<h2>Execution: 18 &nbsp; Project Number: 20140467<br/> Hebrew Address: אבא ברדיצב 5, בת ים<br/>Project Type: Addition</h2>"
      }
     },
     "d3ef7f49de944289b68c7f3f80d8f2a4": {
      "model_module": "@jupyter-widgets/controls",
      "model_module_version": "1.5.0",
      "model_name": "DescriptionStyleModel",
      "state": {
       "description_width": ""
      }
     },
     "d521f9b7b04b4ab390f363602b4a9a36": {
      "model_module": "@jupyter-widgets/controls",
      "model_module_version": "1.5.0",
      "model_name": "DescriptionStyleModel",
      "state": {
       "description_width": ""
      }
     },
     "d57a65d99ded48e3a22de2f07d1a1d58": {
      "model_module": "@jupyter-widgets/controls",
      "model_module_version": "1.5.0",
      "model_name": "DescriptionStyleModel",
      "state": {
       "description_width": ""
      }
     },
     "d897bfcc52a04f55ac4a575ed3d32e6b": {
      "model_module": "@jupyter-widgets/base",
      "model_module_version": "1.2.0",
      "model_name": "LayoutModel",
      "state": {}
     },
     "da14dcd924424ee099e0d4d63f7ff913": {
      "model_module": "@jupyter-widgets/base",
      "model_module_version": "1.2.0",
      "model_name": "LayoutModel",
      "state": {}
     },
     "dc25479ef35e407798bc62e0672576db": {
      "model_module": "@jupyter-widgets/base",
      "model_module_version": "1.2.0",
      "model_name": "LayoutModel",
      "state": {}
     },
     "e08234e23ee14eff9d6a765fbddc9307": {
      "model_module": "@jupyter-widgets/output",
      "model_module_version": "1.0.0",
      "model_name": "OutputModel",
      "state": {
       "layout": "IPY_MODEL_92c0000979994b1484eef7b8ff51c92e",
       "outputs": [
        {
         "data": {
          "application/vnd.jupyter.widget-view+json": {
           "model_id": "",
           "version_major": 2,
           "version_minor": 0
          },
          "text/plain": "HTML(value='<h2>Execution: 18 &nbsp; Project Number: 20140467<br/> Hebrew Address: אבא ברדיצב 5, בת ים<br/>Pro…"
         },
         "metadata": {},
         "output_type": "display_data"
        }
       ]
      }
     },
     "e2e9c8930aa2405597f48bab07988096": {
      "model_module": "@jupyter-widgets/controls",
      "model_module_version": "1.5.0",
      "model_name": "ButtonModel",
      "state": {
       "description": "Submit",
       "layout": "IPY_MODEL_a634a080d00a4c5c93bfcf0598c930b5",
       "style": "IPY_MODEL_7e1d178965ce4c3fb822aa168286a87a"
      }
     },
     "e445846f7d054898bdf11205aa81726a": {
      "model_module": "@jupyter-widgets/output",
      "model_module_version": "1.0.0",
      "model_name": "OutputModel",
      "state": {
       "layout": "IPY_MODEL_d897bfcc52a04f55ac4a575ed3d32e6b",
       "outputs": [
        {
         "data": {
          "application/vnd.jupyter.widget-view+json": {
           "model_id": "7635401bbf674b868071f2ef8b871629",
           "version_major": 2,
           "version_minor": 0
          },
          "text/plain": "HTML(value=\"<div style='font-size:15px'><span><b>Apartment Size</b></span> Start Marker: <b>77.2  sq meters </…"
         },
         "metadata": {},
         "output_type": "display_data"
        }
       ]
      }
     },
     "e57bcba193254c9b91857764a41e8241": {
      "model_module": "@jupyter-widgets/base",
      "model_module_version": "1.2.0",
      "model_name": "LayoutModel",
      "state": {}
     },
     "e5c4bd89b43446e589574a14db714433": {
      "model_module": "@jupyter-widgets/controls",
      "model_module_version": "1.5.0",
      "model_name": "VBoxModel",
      "state": {
       "_dom_classes": [
        "widget-interact"
       ],
       "children": [
        "IPY_MODEL_8b96c0c2777d4b90a9e75b1d6616e6fd",
        "IPY_MODEL_790f3193aff54724b2fe28df18c68610",
        "IPY_MODEL_3f798c204d804d45834a378f99be670f"
       ],
       "layout": "IPY_MODEL_e57bcba193254c9b91857764a41e8241"
      }
     },
     "e803c7dfeb3e4d06b3e21dba5d6c2114": {
      "model_module": "@jupyter-widgets/controls",
      "model_module_version": "1.5.0",
      "model_name": "VBoxModel",
      "state": {
       "_dom_classes": [
        "widget-interact"
       ],
       "children": [
        "IPY_MODEL_8b96c0c2777d4b90a9e75b1d6616e6fd",
        "IPY_MODEL_8b878225638b488680b158934fda6a1e",
        "IPY_MODEL_f9312c24025345448f27d4ed226c2027"
       ],
       "layout": "IPY_MODEL_10ecdf0889454b5e9326e8e9de4e95ab"
      }
     },
     "eb55a5962b074c0ebf81adf32f8b2a3d": {
      "model_module": "@jupyter-widgets/controls",
      "model_module_version": "1.5.0",
      "model_name": "HTMLModel",
      "state": {
       "layout": "IPY_MODEL_419254d9872049d9bdc5565224fdddbf",
       "style": "IPY_MODEL_6364c0e88b064332bca3a56671ef2cfd",
       "value": "<div style='font-size:15px'><span><b>Apartment Size</b></span> Start Marker: <b>75.6  sq meters </b> End Marker <b> 77.3 sq meters</b><br/><span><b>Years in Neighborhood</b></span> Start Marker: <b>22.1  years </b> End Marker <b> 16.6 years</b><br/><span><b>Cost For Staying</b></span> Start Marker: <b>441.1  ₪ </b> End Marker <b> 1989.8 ₪</b><br/><span><b>Mean Income</b></span> Start Marker: <b>8504.2  ₪ </b> End Marker <b> 11267.1 ₪</b><br/></div>"
      }
     },
     "ebf70f4c88154726b81a119cc14fe7e6": {
      "model_module": "@jupyter-widgets/controls",
      "model_module_version": "1.5.0",
      "model_name": "DescriptionStyleModel",
      "state": {
       "description_width": ""
      }
     },
     "ebfe72f89c8643a9976a69d2707e5bc3": {
      "model_module": "@jupyter-widgets/output",
      "model_module_version": "1.0.0",
      "model_name": "OutputModel",
      "state": {
       "layout": "IPY_MODEL_0ffe4907a3c344608fe03bdf57477eac",
       "outputs": [
        {
         "data": {
          "application/vnd.plotly.v1+json": {
           "config": {
            "plotlyServerURL": "https://plot.ly"
           },
           "data": [
            {
             "alignmentgroup": "True",
             "hovertemplate": "beforeAfter=Before<br>bldCount=%{x}<br>floors=%{y}<extra></extra>",
             "legendgroup": "Before",
             "marker": {
              "color": "#636efa",
              "line": {
               "color": "DarkSlateGrey",
               "width": 2
              }
             },
             "name": "Before",
             "offsetgroup": "Before",
             "orientation": "v",
             "showlegend": true,
             "textposition": "auto",
             "type": "bar",
             "x": [
              1
             ],
             "xaxis": "x",
             "y": [
              4
             ],
             "yaxis": "y"
            },
            {
             "alignmentgroup": "True",
             "hovertemplate": "beforeAfter=after<br>bldCount=%{x}<br>floors=%{y}<extra></extra>",
             "legendgroup": "after",
             "marker": {
              "color": "#EF553B",
              "line": {
               "color": "DarkSlateGrey",
               "width": 2
              }
             },
             "name": "after",
             "offsetgroup": "after",
             "orientation": "v",
             "showlegend": true,
             "textposition": "auto",
             "type": "bar",
             "x": [
              1
             ],
             "xaxis": "x",
             "y": [
              3
             ],
             "yaxis": "y"
            }
           ],
           "layout": {
            "barmode": "relative",
            "height": 300,
            "legend": {
             "title": {
              "text": "beforeAfter"
             },
             "tracegroupgap": 0,
             "x": 0.05,
             "xanchor": "left",
             "y": 0.95,
             "yanchor": "top"
            },
            "margin": {
             "b": 0,
             "l": 0,
             "r": 0,
             "t": 60
            },
            "plot_bgcolor": "oldlace",
            "template": {
             "data": {
              "bar": [
               {
                "error_x": {
                 "color": "#2a3f5f"
                },
                "error_y": {
                 "color": "#2a3f5f"
                },
                "marker": {
                 "line": {
                  "color": "#E5ECF6",
                  "width": 0.5
                 }
                },
                "type": "bar"
               }
              ],
              "barpolar": [
               {
                "marker": {
                 "line": {
                  "color": "#E5ECF6",
                  "width": 0.5
                 }
                },
                "type": "barpolar"
               }
              ],
              "carpet": [
               {
                "aaxis": {
                 "endlinecolor": "#2a3f5f",
                 "gridcolor": "white",
                 "linecolor": "white",
                 "minorgridcolor": "white",
                 "startlinecolor": "#2a3f5f"
                },
                "baxis": {
                 "endlinecolor": "#2a3f5f",
                 "gridcolor": "white",
                 "linecolor": "white",
                 "minorgridcolor": "white",
                 "startlinecolor": "#2a3f5f"
                },
                "type": "carpet"
               }
              ],
              "choropleth": [
               {
                "colorbar": {
                 "outlinewidth": 0,
                 "ticks": ""
                },
                "type": "choropleth"
               }
              ],
              "contour": [
               {
                "colorbar": {
                 "outlinewidth": 0,
                 "ticks": ""
                },
                "colorscale": [
                 [
                  0,
                  "#0d0887"
                 ],
                 [
                  0.1111111111111111,
                  "#46039f"
                 ],
                 [
                  0.2222222222222222,
                  "#7201a8"
                 ],
                 [
                  0.3333333333333333,
                  "#9c179e"
                 ],
                 [
                  0.4444444444444444,
                  "#bd3786"
                 ],
                 [
                  0.5555555555555556,
                  "#d8576b"
                 ],
                 [
                  0.6666666666666666,
                  "#ed7953"
                 ],
                 [
                  0.7777777777777778,
                  "#fb9f3a"
                 ],
                 [
                  0.8888888888888888,
                  "#fdca26"
                 ],
                 [
                  1,
                  "#f0f921"
                 ]
                ],
                "type": "contour"
               }
              ],
              "contourcarpet": [
               {
                "colorbar": {
                 "outlinewidth": 0,
                 "ticks": ""
                },
                "type": "contourcarpet"
               }
              ],
              "heatmap": [
               {
                "colorbar": {
                 "outlinewidth": 0,
                 "ticks": ""
                },
                "colorscale": [
                 [
                  0,
                  "#0d0887"
                 ],
                 [
                  0.1111111111111111,
                  "#46039f"
                 ],
                 [
                  0.2222222222222222,
                  "#7201a8"
                 ],
                 [
                  0.3333333333333333,
                  "#9c179e"
                 ],
                 [
                  0.4444444444444444,
                  "#bd3786"
                 ],
                 [
                  0.5555555555555556,
                  "#d8576b"
                 ],
                 [
                  0.6666666666666666,
                  "#ed7953"
                 ],
                 [
                  0.7777777777777778,
                  "#fb9f3a"
                 ],
                 [
                  0.8888888888888888,
                  "#fdca26"
                 ],
                 [
                  1,
                  "#f0f921"
                 ]
                ],
                "type": "heatmap"
               }
              ],
              "heatmapgl": [
               {
                "colorbar": {
                 "outlinewidth": 0,
                 "ticks": ""
                },
                "colorscale": [
                 [
                  0,
                  "#0d0887"
                 ],
                 [
                  0.1111111111111111,
                  "#46039f"
                 ],
                 [
                  0.2222222222222222,
                  "#7201a8"
                 ],
                 [
                  0.3333333333333333,
                  "#9c179e"
                 ],
                 [
                  0.4444444444444444,
                  "#bd3786"
                 ],
                 [
                  0.5555555555555556,
                  "#d8576b"
                 ],
                 [
                  0.6666666666666666,
                  "#ed7953"
                 ],
                 [
                  0.7777777777777778,
                  "#fb9f3a"
                 ],
                 [
                  0.8888888888888888,
                  "#fdca26"
                 ],
                 [
                  1,
                  "#f0f921"
                 ]
                ],
                "type": "heatmapgl"
               }
              ],
              "histogram": [
               {
                "marker": {
                 "colorbar": {
                  "outlinewidth": 0,
                  "ticks": ""
                 }
                },
                "type": "histogram"
               }
              ],
              "histogram2d": [
               {
                "colorbar": {
                 "outlinewidth": 0,
                 "ticks": ""
                },
                "colorscale": [
                 [
                  0,
                  "#0d0887"
                 ],
                 [
                  0.1111111111111111,
                  "#46039f"
                 ],
                 [
                  0.2222222222222222,
                  "#7201a8"
                 ],
                 [
                  0.3333333333333333,
                  "#9c179e"
                 ],
                 [
                  0.4444444444444444,
                  "#bd3786"
                 ],
                 [
                  0.5555555555555556,
                  "#d8576b"
                 ],
                 [
                  0.6666666666666666,
                  "#ed7953"
                 ],
                 [
                  0.7777777777777778,
                  "#fb9f3a"
                 ],
                 [
                  0.8888888888888888,
                  "#fdca26"
                 ],
                 [
                  1,
                  "#f0f921"
                 ]
                ],
                "type": "histogram2d"
               }
              ],
              "histogram2dcontour": [
               {
                "colorbar": {
                 "outlinewidth": 0,
                 "ticks": ""
                },
                "colorscale": [
                 [
                  0,
                  "#0d0887"
                 ],
                 [
                  0.1111111111111111,
                  "#46039f"
                 ],
                 [
                  0.2222222222222222,
                  "#7201a8"
                 ],
                 [
                  0.3333333333333333,
                  "#9c179e"
                 ],
                 [
                  0.4444444444444444,
                  "#bd3786"
                 ],
                 [
                  0.5555555555555556,
                  "#d8576b"
                 ],
                 [
                  0.6666666666666666,
                  "#ed7953"
                 ],
                 [
                  0.7777777777777778,
                  "#fb9f3a"
                 ],
                 [
                  0.8888888888888888,
                  "#fdca26"
                 ],
                 [
                  1,
                  "#f0f921"
                 ]
                ],
                "type": "histogram2dcontour"
               }
              ],
              "mesh3d": [
               {
                "colorbar": {
                 "outlinewidth": 0,
                 "ticks": ""
                },
                "type": "mesh3d"
               }
              ],
              "parcoords": [
               {
                "line": {
                 "colorbar": {
                  "outlinewidth": 0,
                  "ticks": ""
                 }
                },
                "type": "parcoords"
               }
              ],
              "pie": [
               {
                "automargin": true,
                "type": "pie"
               }
              ],
              "scatter": [
               {
                "marker": {
                 "colorbar": {
                  "outlinewidth": 0,
                  "ticks": ""
                 }
                },
                "type": "scatter"
               }
              ],
              "scatter3d": [
               {
                "line": {
                 "colorbar": {
                  "outlinewidth": 0,
                  "ticks": ""
                 }
                },
                "marker": {
                 "colorbar": {
                  "outlinewidth": 0,
                  "ticks": ""
                 }
                },
                "type": "scatter3d"
               }
              ],
              "scattercarpet": [
               {
                "marker": {
                 "colorbar": {
                  "outlinewidth": 0,
                  "ticks": ""
                 }
                },
                "type": "scattercarpet"
               }
              ],
              "scattergeo": [
               {
                "marker": {
                 "colorbar": {
                  "outlinewidth": 0,
                  "ticks": ""
                 }
                },
                "type": "scattergeo"
               }
              ],
              "scattergl": [
               {
                "marker": {
                 "colorbar": {
                  "outlinewidth": 0,
                  "ticks": ""
                 }
                },
                "type": "scattergl"
               }
              ],
              "scattermapbox": [
               {
                "marker": {
                 "colorbar": {
                  "outlinewidth": 0,
                  "ticks": ""
                 }
                },
                "type": "scattermapbox"
               }
              ],
              "scatterpolar": [
               {
                "marker": {
                 "colorbar": {
                  "outlinewidth": 0,
                  "ticks": ""
                 }
                },
                "type": "scatterpolar"
               }
              ],
              "scatterpolargl": [
               {
                "marker": {
                 "colorbar": {
                  "outlinewidth": 0,
                  "ticks": ""
                 }
                },
                "type": "scatterpolargl"
               }
              ],
              "scatterternary": [
               {
                "marker": {
                 "colorbar": {
                  "outlinewidth": 0,
                  "ticks": ""
                 }
                },
                "type": "scatterternary"
               }
              ],
              "surface": [
               {
                "colorbar": {
                 "outlinewidth": 0,
                 "ticks": ""
                },
                "colorscale": [
                 [
                  0,
                  "#0d0887"
                 ],
                 [
                  0.1111111111111111,
                  "#46039f"
                 ],
                 [
                  0.2222222222222222,
                  "#7201a8"
                 ],
                 [
                  0.3333333333333333,
                  "#9c179e"
                 ],
                 [
                  0.4444444444444444,
                  "#bd3786"
                 ],
                 [
                  0.5555555555555556,
                  "#d8576b"
                 ],
                 [
                  0.6666666666666666,
                  "#ed7953"
                 ],
                 [
                  0.7777777777777778,
                  "#fb9f3a"
                 ],
                 [
                  0.8888888888888888,
                  "#fdca26"
                 ],
                 [
                  1,
                  "#f0f921"
                 ]
                ],
                "type": "surface"
               }
              ],
              "table": [
               {
                "cells": {
                 "fill": {
                  "color": "#EBF0F8"
                 },
                 "line": {
                  "color": "white"
                 }
                },
                "header": {
                 "fill": {
                  "color": "#C8D4E3"
                 },
                 "line": {
                  "color": "white"
                 }
                },
                "type": "table"
               }
              ]
             },
             "layout": {
              "annotationdefaults": {
               "arrowcolor": "#2a3f5f",
               "arrowhead": 0,
               "arrowwidth": 1
              },
              "autotypenumbers": "strict",
              "coloraxis": {
               "colorbar": {
                "outlinewidth": 0,
                "ticks": ""
               }
              },
              "colorscale": {
               "diverging": [
                [
                 0,
                 "#8e0152"
                ],
                [
                 0.1,
                 "#c51b7d"
                ],
                [
                 0.2,
                 "#de77ae"
                ],
                [
                 0.3,
                 "#f1b6da"
                ],
                [
                 0.4,
                 "#fde0ef"
                ],
                [
                 0.5,
                 "#f7f7f7"
                ],
                [
                 0.6,
                 "#e6f5d0"
                ],
                [
                 0.7,
                 "#b8e186"
                ],
                [
                 0.8,
                 "#7fbc41"
                ],
                [
                 0.9,
                 "#4d9221"
                ],
                [
                 1,
                 "#276419"
                ]
               ],
               "sequential": [
                [
                 0,
                 "#0d0887"
                ],
                [
                 0.1111111111111111,
                 "#46039f"
                ],
                [
                 0.2222222222222222,
                 "#7201a8"
                ],
                [
                 0.3333333333333333,
                 "#9c179e"
                ],
                [
                 0.4444444444444444,
                 "#bd3786"
                ],
                [
                 0.5555555555555556,
                 "#d8576b"
                ],
                [
                 0.6666666666666666,
                 "#ed7953"
                ],
                [
                 0.7777777777777778,
                 "#fb9f3a"
                ],
                [
                 0.8888888888888888,
                 "#fdca26"
                ],
                [
                 1,
                 "#f0f921"
                ]
               ],
               "sequentialminus": [
                [
                 0,
                 "#0d0887"
                ],
                [
                 0.1111111111111111,
                 "#46039f"
                ],
                [
                 0.2222222222222222,
                 "#7201a8"
                ],
                [
                 0.3333333333333333,
                 "#9c179e"
                ],
                [
                 0.4444444444444444,
                 "#bd3786"
                ],
                [
                 0.5555555555555556,
                 "#d8576b"
                ],
                [
                 0.6666666666666666,
                 "#ed7953"
                ],
                [
                 0.7777777777777778,
                 "#fb9f3a"
                ],
                [
                 0.8888888888888888,
                 "#fdca26"
                ],
                [
                 1,
                 "#f0f921"
                ]
               ]
              },
              "colorway": [
               "#636efa",
               "#EF553B",
               "#00cc96",
               "#ab63fa",
               "#FFA15A",
               "#19d3f3",
               "#FF6692",
               "#B6E880",
               "#FF97FF",
               "#FECB52"
              ],
              "font": {
               "color": "#2a3f5f"
              },
              "geo": {
               "bgcolor": "white",
               "lakecolor": "white",
               "landcolor": "#E5ECF6",
               "showlakes": true,
               "showland": true,
               "subunitcolor": "white"
              },
              "hoverlabel": {
               "align": "left"
              },
              "hovermode": "closest",
              "mapbox": {
               "style": "light"
              },
              "paper_bgcolor": "white",
              "plot_bgcolor": "#E5ECF6",
              "polar": {
               "angularaxis": {
                "gridcolor": "white",
                "linecolor": "white",
                "ticks": ""
               },
               "bgcolor": "#E5ECF6",
               "radialaxis": {
                "gridcolor": "white",
                "linecolor": "white",
                "ticks": ""
               }
              },
              "scene": {
               "xaxis": {
                "backgroundcolor": "#E5ECF6",
                "gridcolor": "white",
                "gridwidth": 2,
                "linecolor": "white",
                "showbackground": true,
                "ticks": "",
                "zerolinecolor": "white"
               },
               "yaxis": {
                "backgroundcolor": "#E5ECF6",
                "gridcolor": "white",
                "gridwidth": 2,
                "linecolor": "white",
                "showbackground": true,
                "ticks": "",
                "zerolinecolor": "white"
               },
               "zaxis": {
                "backgroundcolor": "#E5ECF6",
                "gridcolor": "white",
                "gridwidth": 2,
                "linecolor": "white",
                "showbackground": true,
                "ticks": "",
                "zerolinecolor": "white"
               }
              },
              "shapedefaults": {
               "line": {
                "color": "#2a3f5f"
               }
              },
              "ternary": {
               "aaxis": {
                "gridcolor": "white",
                "linecolor": "white",
                "ticks": ""
               },
               "baxis": {
                "gridcolor": "white",
                "linecolor": "white",
                "ticks": ""
               },
               "bgcolor": "#E5ECF6",
               "caxis": {
                "gridcolor": "white",
                "linecolor": "white",
                "ticks": ""
               }
              },
              "title": {
               "x": 0.05
              },
              "xaxis": {
               "automargin": true,
               "gridcolor": "white",
               "linecolor": "white",
               "ticks": "",
               "title": {
                "standoff": 15
               },
               "zerolinecolor": "white",
               "zerolinewidth": 2
              },
              "yaxis": {
               "automargin": true,
               "gridcolor": "white",
               "linecolor": "white",
               "ticks": "",
               "title": {
                "standoff": 15
               },
               "zerolinecolor": "white",
               "zerolinewidth": 2
              }
             }
            },
            "width": 600,
            "xaxis": {
             "anchor": "y",
             "domain": [
              0,
              1
             ],
             "title": {
              "text": "bldCount"
             }
            },
            "yaxis": {
             "anchor": "x",
             "domain": [
              0,
              1
             ],
             "title": {
              "text": "floors"
             }
            }
           }
          },
          "text/html": "<div>                            <div id=\"cae584ed-7f17-44f8-80db-bc31b8893cf3\" class=\"plotly-graph-div\" style=\"height:300px; width:600px;\"></div>            <script type=\"text/javascript\">                require([\"plotly\"], function(Plotly) {                    window.PLOTLYENV=window.PLOTLYENV || {};                                    if (document.getElementById(\"cae584ed-7f17-44f8-80db-bc31b8893cf3\")) {                    Plotly.newPlot(                        \"cae584ed-7f17-44f8-80db-bc31b8893cf3\",                        [{\"alignmentgroup\": \"True\", \"hovertemplate\": \"beforeAfter=Before<br>bldCount=%{x}<br>floors=%{y}<extra></extra>\", \"legendgroup\": \"Before\", \"marker\": {\"color\": \"#636efa\", \"line\": {\"color\": \"DarkSlateGrey\", \"width\": 2}}, \"name\": \"Before\", \"offsetgroup\": \"Before\", \"orientation\": \"v\", \"showlegend\": true, \"textposition\": \"auto\", \"type\": \"bar\", \"x\": [1], \"xaxis\": \"x\", \"y\": [4.0], \"yaxis\": \"y\"}, {\"alignmentgroup\": \"True\", \"hovertemplate\": \"beforeAfter=after<br>bldCount=%{x}<br>floors=%{y}<extra></extra>\", \"legendgroup\": \"after\", \"marker\": {\"color\": \"#EF553B\", \"line\": {\"color\": \"DarkSlateGrey\", \"width\": 2}}, \"name\": \"after\", \"offsetgroup\": \"after\", \"orientation\": \"v\", \"showlegend\": true, \"textposition\": \"auto\", \"type\": \"bar\", \"x\": [1], \"xaxis\": \"x\", \"y\": [3.0], \"yaxis\": \"y\"}],                        {\"barmode\": \"relative\", \"height\": 300, \"legend\": {\"title\": {\"text\": \"beforeAfter\"}, \"tracegroupgap\": 0, \"x\": 0.05, \"xanchor\": \"left\", \"y\": 0.95, \"yanchor\": \"top\"}, \"margin\": {\"b\": 0, \"l\": 0, \"r\": 0, \"t\": 60}, \"plot_bgcolor\": \"oldlace\", \"template\": {\"data\": {\"bar\": [{\"error_x\": {\"color\": \"#2a3f5f\"}, \"error_y\": {\"color\": \"#2a3f5f\"}, \"marker\": {\"line\": {\"color\": \"#E5ECF6\", \"width\": 0.5}}, \"type\": \"bar\"}], \"barpolar\": [{\"marker\": {\"line\": {\"color\": \"#E5ECF6\", \"width\": 0.5}}, \"type\": \"barpolar\"}], \"carpet\": [{\"aaxis\": {\"endlinecolor\": \"#2a3f5f\", \"gridcolor\": \"white\", \"linecolor\": \"white\", \"minorgridcolor\": \"white\", \"startlinecolor\": \"#2a3f5f\"}, \"baxis\": {\"endlinecolor\": \"#2a3f5f\", \"gridcolor\": \"white\", \"linecolor\": \"white\", \"minorgridcolor\": \"white\", \"startlinecolor\": \"#2a3f5f\"}, \"type\": \"carpet\"}], \"choropleth\": [{\"colorbar\": {\"outlinewidth\": 0, \"ticks\": \"\"}, \"type\": \"choropleth\"}], \"contour\": [{\"colorbar\": {\"outlinewidth\": 0, \"ticks\": \"\"}, \"colorscale\": [[0.0, \"#0d0887\"], [0.1111111111111111, \"#46039f\"], [0.2222222222222222, \"#7201a8\"], [0.3333333333333333, \"#9c179e\"], [0.4444444444444444, \"#bd3786\"], [0.5555555555555556, \"#d8576b\"], [0.6666666666666666, \"#ed7953\"], [0.7777777777777778, \"#fb9f3a\"], [0.8888888888888888, \"#fdca26\"], [1.0, \"#f0f921\"]], \"type\": \"contour\"}], \"contourcarpet\": [{\"colorbar\": {\"outlinewidth\": 0, \"ticks\": \"\"}, \"type\": \"contourcarpet\"}], \"heatmap\": [{\"colorbar\": {\"outlinewidth\": 0, \"ticks\": \"\"}, \"colorscale\": [[0.0, \"#0d0887\"], [0.1111111111111111, \"#46039f\"], [0.2222222222222222, \"#7201a8\"], [0.3333333333333333, \"#9c179e\"], [0.4444444444444444, \"#bd3786\"], [0.5555555555555556, \"#d8576b\"], [0.6666666666666666, \"#ed7953\"], [0.7777777777777778, \"#fb9f3a\"], [0.8888888888888888, \"#fdca26\"], [1.0, \"#f0f921\"]], \"type\": \"heatmap\"}], \"heatmapgl\": [{\"colorbar\": {\"outlinewidth\": 0, \"ticks\": \"\"}, \"colorscale\": [[0.0, \"#0d0887\"], [0.1111111111111111, \"#46039f\"], [0.2222222222222222, \"#7201a8\"], [0.3333333333333333, \"#9c179e\"], [0.4444444444444444, \"#bd3786\"], [0.5555555555555556, \"#d8576b\"], [0.6666666666666666, \"#ed7953\"], [0.7777777777777778, \"#fb9f3a\"], [0.8888888888888888, \"#fdca26\"], [1.0, \"#f0f921\"]], \"type\": \"heatmapgl\"}], \"histogram\": [{\"marker\": {\"colorbar\": {\"outlinewidth\": 0, \"ticks\": \"\"}}, \"type\": \"histogram\"}], \"histogram2d\": [{\"colorbar\": {\"outlinewidth\": 0, \"ticks\": \"\"}, \"colorscale\": [[0.0, \"#0d0887\"], [0.1111111111111111, \"#46039f\"], [0.2222222222222222, \"#7201a8\"], [0.3333333333333333, \"#9c179e\"], [0.4444444444444444, \"#bd3786\"], [0.5555555555555556, \"#d8576b\"], [0.6666666666666666, \"#ed7953\"], [0.7777777777777778, \"#fb9f3a\"], [0.8888888888888888, \"#fdca26\"], [1.0, \"#f0f921\"]], \"type\": \"histogram2d\"}], \"histogram2dcontour\": [{\"colorbar\": {\"outlinewidth\": 0, \"ticks\": \"\"}, \"colorscale\": [[0.0, \"#0d0887\"], [0.1111111111111111, \"#46039f\"], [0.2222222222222222, \"#7201a8\"], [0.3333333333333333, \"#9c179e\"], [0.4444444444444444, \"#bd3786\"], [0.5555555555555556, \"#d8576b\"], [0.6666666666666666, \"#ed7953\"], [0.7777777777777778, \"#fb9f3a\"], [0.8888888888888888, \"#fdca26\"], [1.0, \"#f0f921\"]], \"type\": \"histogram2dcontour\"}], \"mesh3d\": [{\"colorbar\": {\"outlinewidth\": 0, \"ticks\": \"\"}, \"type\": \"mesh3d\"}], \"parcoords\": [{\"line\": {\"colorbar\": {\"outlinewidth\": 0, \"ticks\": \"\"}}, \"type\": \"parcoords\"}], \"pie\": [{\"automargin\": true, \"type\": \"pie\"}], \"scatter\": [{\"marker\": {\"colorbar\": {\"outlinewidth\": 0, \"ticks\": \"\"}}, \"type\": \"scatter\"}], \"scatter3d\": [{\"line\": {\"colorbar\": {\"outlinewidth\": 0, \"ticks\": \"\"}}, \"marker\": {\"colorbar\": {\"outlinewidth\": 0, \"ticks\": \"\"}}, \"type\": \"scatter3d\"}], \"scattercarpet\": [{\"marker\": {\"colorbar\": {\"outlinewidth\": 0, \"ticks\": \"\"}}, \"type\": \"scattercarpet\"}], \"scattergeo\": [{\"marker\": {\"colorbar\": {\"outlinewidth\": 0, \"ticks\": \"\"}}, \"type\": \"scattergeo\"}], \"scattergl\": [{\"marker\": {\"colorbar\": {\"outlinewidth\": 0, \"ticks\": \"\"}}, \"type\": \"scattergl\"}], \"scattermapbox\": [{\"marker\": {\"colorbar\": {\"outlinewidth\": 0, \"ticks\": \"\"}}, \"type\": \"scattermapbox\"}], \"scatterpolar\": [{\"marker\": {\"colorbar\": {\"outlinewidth\": 0, \"ticks\": \"\"}}, \"type\": \"scatterpolar\"}], \"scatterpolargl\": [{\"marker\": {\"colorbar\": {\"outlinewidth\": 0, \"ticks\": \"\"}}, \"type\": \"scatterpolargl\"}], \"scatterternary\": [{\"marker\": {\"colorbar\": {\"outlinewidth\": 0, \"ticks\": \"\"}}, \"type\": \"scatterternary\"}], \"surface\": [{\"colorbar\": {\"outlinewidth\": 0, \"ticks\": \"\"}, \"colorscale\": [[0.0, \"#0d0887\"], [0.1111111111111111, \"#46039f\"], [0.2222222222222222, \"#7201a8\"], [0.3333333333333333, \"#9c179e\"], [0.4444444444444444, \"#bd3786\"], [0.5555555555555556, \"#d8576b\"], [0.6666666666666666, \"#ed7953\"], [0.7777777777777778, \"#fb9f3a\"], [0.8888888888888888, \"#fdca26\"], [1.0, \"#f0f921\"]], \"type\": \"surface\"}], \"table\": [{\"cells\": {\"fill\": {\"color\": \"#EBF0F8\"}, \"line\": {\"color\": \"white\"}}, \"header\": {\"fill\": {\"color\": \"#C8D4E3\"}, \"line\": {\"color\": \"white\"}}, \"type\": \"table\"}]}, \"layout\": {\"annotationdefaults\": {\"arrowcolor\": \"#2a3f5f\", \"arrowhead\": 0, \"arrowwidth\": 1}, \"autotypenumbers\": \"strict\", \"coloraxis\": {\"colorbar\": {\"outlinewidth\": 0, \"ticks\": \"\"}}, \"colorscale\": {\"diverging\": [[0, \"#8e0152\"], [0.1, \"#c51b7d\"], [0.2, \"#de77ae\"], [0.3, \"#f1b6da\"], [0.4, \"#fde0ef\"], [0.5, \"#f7f7f7\"], [0.6, \"#e6f5d0\"], [0.7, \"#b8e186\"], [0.8, \"#7fbc41\"], [0.9, \"#4d9221\"], [1, \"#276419\"]], \"sequential\": [[0.0, \"#0d0887\"], [0.1111111111111111, \"#46039f\"], [0.2222222222222222, \"#7201a8\"], [0.3333333333333333, \"#9c179e\"], [0.4444444444444444, \"#bd3786\"], [0.5555555555555556, \"#d8576b\"], [0.6666666666666666, \"#ed7953\"], [0.7777777777777778, \"#fb9f3a\"], [0.8888888888888888, \"#fdca26\"], [1.0, \"#f0f921\"]], \"sequentialminus\": [[0.0, \"#0d0887\"], [0.1111111111111111, \"#46039f\"], [0.2222222222222222, \"#7201a8\"], [0.3333333333333333, \"#9c179e\"], [0.4444444444444444, \"#bd3786\"], [0.5555555555555556, \"#d8576b\"], [0.6666666666666666, \"#ed7953\"], [0.7777777777777778, \"#fb9f3a\"], [0.8888888888888888, \"#fdca26\"], [1.0, \"#f0f921\"]]}, \"colorway\": [\"#636efa\", \"#EF553B\", \"#00cc96\", \"#ab63fa\", \"#FFA15A\", \"#19d3f3\", \"#FF6692\", \"#B6E880\", \"#FF97FF\", \"#FECB52\"], \"font\": {\"color\": \"#2a3f5f\"}, \"geo\": {\"bgcolor\": \"white\", \"lakecolor\": \"white\", \"landcolor\": \"#E5ECF6\", \"showlakes\": true, \"showland\": true, \"subunitcolor\": \"white\"}, \"hoverlabel\": {\"align\": \"left\"}, \"hovermode\": \"closest\", \"mapbox\": {\"style\": \"light\"}, \"paper_bgcolor\": \"white\", \"plot_bgcolor\": \"#E5ECF6\", \"polar\": {\"angularaxis\": {\"gridcolor\": \"white\", \"linecolor\": \"white\", \"ticks\": \"\"}, \"bgcolor\": \"#E5ECF6\", \"radialaxis\": {\"gridcolor\": \"white\", \"linecolor\": \"white\", \"ticks\": \"\"}}, \"scene\": {\"xaxis\": {\"backgroundcolor\": \"#E5ECF6\", \"gridcolor\": \"white\", \"gridwidth\": 2, \"linecolor\": \"white\", \"showbackground\": true, \"ticks\": \"\", \"zerolinecolor\": \"white\"}, \"yaxis\": {\"backgroundcolor\": \"#E5ECF6\", \"gridcolor\": \"white\", \"gridwidth\": 2, \"linecolor\": \"white\", \"showbackground\": true, \"ticks\": \"\", \"zerolinecolor\": \"white\"}, \"zaxis\": {\"backgroundcolor\": \"#E5ECF6\", \"gridcolor\": \"white\", \"gridwidth\": 2, \"linecolor\": \"white\", \"showbackground\": true, \"ticks\": \"\", \"zerolinecolor\": \"white\"}}, \"shapedefaults\": {\"line\": {\"color\": \"#2a3f5f\"}}, \"ternary\": {\"aaxis\": {\"gridcolor\": \"white\", \"linecolor\": \"white\", \"ticks\": \"\"}, \"baxis\": {\"gridcolor\": \"white\", \"linecolor\": \"white\", \"ticks\": \"\"}, \"bgcolor\": \"#E5ECF6\", \"caxis\": {\"gridcolor\": \"white\", \"linecolor\": \"white\", \"ticks\": \"\"}}, \"title\": {\"x\": 0.05}, \"xaxis\": {\"automargin\": true, \"gridcolor\": \"white\", \"linecolor\": \"white\", \"ticks\": \"\", \"title\": {\"standoff\": 15}, \"zerolinecolor\": \"white\", \"zerolinewidth\": 2}, \"yaxis\": {\"automargin\": true, \"gridcolor\": \"white\", \"linecolor\": \"white\", \"ticks\": \"\", \"title\": {\"standoff\": 15}, \"zerolinecolor\": \"white\", \"zerolinewidth\": 2}}}, \"width\": 600, \"xaxis\": {\"anchor\": \"y\", \"domain\": [0.0, 1.0], \"title\": {\"text\": \"bldCount\"}}, \"yaxis\": {\"anchor\": \"x\", \"domain\": [0.0, 1.0], \"title\": {\"text\": \"floors\"}}},                        {\"responsive\": true}                    ).then(function(){\n                            \nvar gd = document.getElementById('cae584ed-7f17-44f8-80db-bc31b8893cf3');\nvar x = new MutationObserver(function (mutations, observer) {{\n        var display = window.getComputedStyle(gd).display;\n        if (!display || display === 'none') {{\n            console.log([gd, 'removed!']);\n            Plotly.purge(gd);\n            observer.disconnect();\n        }}\n}});\n\n// Listen for the removal of the full notebook cells\nvar notebookContainer = gd.closest('#notebook-container');\nif (notebookContainer) {{\n    x.observe(notebookContainer, {childList: true});\n}}\n\n// Listen for the clearing of the current output cell\nvar outputEl = gd.closest('.output');\nif (outputEl) {{\n    x.observe(outputEl, {childList: true});\n}}\n\n                        })                };                });            </script>        </div>"
         },
         "metadata": {},
         "output_type": "display_data"
        }
       ]
      }
     },
     "edee74157e89499f99a6be88af646cbf": {
      "model_module": "@jupyter-widgets/base",
      "model_module_version": "1.2.0",
      "model_name": "LayoutModel",
      "state": {}
     },
     "ef4e378e4c424249ad3e2e8ff7c22a5d": {
      "model_module": "@jupyter-widgets/base",
      "model_module_version": "1.2.0",
      "model_name": "LayoutModel",
      "state": {}
     },
     "f19ba2f17a9e412f9c770d51131edeb0": {
      "model_module": "@jupyter-widgets/base",
      "model_module_version": "1.2.0",
      "model_name": "LayoutModel",
      "state": {}
     },
     "f49bf40e5f224195917c51a6dfacdb2e": {
      "model_module": "@jupyter-widgets/controls",
      "model_module_version": "1.5.0",
      "model_name": "VBoxModel",
      "state": {
       "_dom_classes": [
        "widget-interact"
       ],
       "children": [
        "IPY_MODEL_8b96c0c2777d4b90a9e75b1d6616e6fd",
        "IPY_MODEL_96c3d0b096e04a969e99e96d66b3423b",
        "IPY_MODEL_492a24bb51fe42469423bb763731a3c0"
       ],
       "layout": "IPY_MODEL_7803b889068f4c698efdfa32b480d8d5"
      }
     },
     "f6ac29f12d6b4aee858f35c29c5e4b88": {
      "model_module": "@jupyter-widgets/output",
      "model_module_version": "1.0.0",
      "model_name": "OutputModel",
      "state": {
       "layout": "IPY_MODEL_ef4e378e4c424249ad3e2e8ff7c22a5d",
       "outputs": [
        {
         "data": {
          "application/vnd.plotly.v1+json": {
           "config": {
            "plotlyServerURL": "https://plot.ly"
           },
           "data": [
            {
             "legendgroup": "Staying",
             "line": {
              "color": "hsv(349,89%,74%)",
              "width": 2
             },
             "name": "High Stay",
             "type": "scatter",
             "x": [
              6,
              7,
              8,
              9,
              10,
              12,
              13,
              14,
              15,
              16,
              17,
              18
             ],
             "y": [
              0,
              0,
              0,
              0,
              0,
              0,
              0,
              0,
              0,
              0,
              0,
              0
             ]
            },
            {
             "legendgroup": "Staying",
             "line": {
              "color": "hsv(6,64%,89%)",
              "width": 2
             },
             "name": "Med Stay",
             "type": "scatter",
             "x": [
              6,
              7,
              8,
              9,
              10,
              12,
              13,
              14,
              15,
              16,
              17,
              18
             ],
             "y": [
              0.33567134268537074,
              0.3300395256916996,
              0.2974910394265233,
              0.21138211382113822,
              0.2055888223552894,
              0.2019672131147541,
              0.19473007712082263,
              0.18633540372670807,
              0.18142944410507025,
              0.1761501210653753,
              0.17276544691061788,
              0.16746126340882003
             ]
            },
            {
             "legendgroup": "Staying",
             "line": {
              "color": "hsv(16,41%,98%)",
              "width": 2
             },
             "name": "Low Stay",
             "type": "scatter",
             "x": [
              6,
              7,
              8,
              9,
              10,
              12,
              13,
              14,
              15,
              16,
              17,
              18
             ],
             "y": [
              0.46893787575150303,
              0.44861660079051385,
              0.4050179211469534,
              0.21138211382113822,
              0.20359281437125748,
              0.19737704918032786,
              0.19151670951156813,
              0.18198757763975154,
              0.16982284667073916,
              0.1652542372881356,
              0.15656868626274745,
              0.15077473182359952
             ]
            },
            {
             "legendgroup": "New Comers",
             "line": {
              "color": "hsv(349,89%,74%)",
              "width": 4
             },
             "name": "High New Comer",
             "type": "scatter",
             "x": [
              6,
              7,
              8,
              9,
              10,
              12,
              13,
              14,
              15,
              16,
              17,
              18
             ],
             "y": [
              0.1342685370741483,
              0.15217391304347827,
              0.18100358422939067,
              0.489159891598916,
              0.5043246839654025,
              0.5154098360655738,
              0.5282776349614395,
              0.5180124223602485,
              0.5369578497251069,
              0.5423728813559322,
              0.5536892621475705,
              0.5655542312276519
             ]
            },
            {
             "legendgroup": "New Comers",
             "line": {
              "color": "hsv(6,64%,89%)",
              "width": 4
             },
             "name": "Med New Comer",
             "type": "scatter",
             "x": [
              6,
              7,
              8,
              9,
              10,
              12,
              13,
              14,
              15,
              16,
              17,
              18
             ],
             "y": [
              0.061122244488977955,
              0.0691699604743083,
              0.11648745519713262,
              0.08807588075880758,
              0.08649367930805056,
              0.08524590163934426,
              0.08547557840616966,
              0.11366459627329192,
              0.1117898594990837,
              0.1162227602905569,
              0.11697660467906419,
              0.1162097735399285
             ]
            },
            {
             "legendgroup": "New Comers",
             "line": {
              "color": "hsv(16,41%,98%)",
              "width": 4
             },
             "name": "Low New Comer",
             "type": "scatter",
             "x": [
              6,
              7,
              8,
              9,
              10,
              12,
              13,
              14,
              15,
              16,
              17,
              18
             ],
             "y": [
              0,
              0,
              0,
              0,
              0,
              0,
              0,
              0,
              0,
              0,
              0,
              0
             ]
            },
            {
             "legendgroup": "Average",
             "line": {
              "color": "hsv(30,50%,100%)",
              "dash": "dash"
             },
             "name": "High (average)",
             "type": "scatter",
             "x": [
              6,
              7,
              8,
              9,
              10,
              12,
              13,
              14,
              15,
              16,
              17,
              18
             ],
             "y": [
              0.1342685370741483,
              0.15217391304347827,
              0.18100358422939067,
              0.489159891598916,
              0.5043246839654025,
              0.5154098360655738,
              0.5282776349614395,
              0.5180124223602485,
              0.5369578497251069,
              0.5423728813559322,
              0.5536892621475705,
              0.5655542312276519
             ]
            },
            {
             "legendgroup": "Average",
             "line": {
              "color": "hsv(30,75%,100%)",
              "dash": "dash"
             },
             "name": "Medium (average)",
             "type": "scatter",
             "x": [
              6,
              7,
              8,
              9,
              10,
              12,
              13,
              14,
              15,
              16,
              17,
              18
             ],
             "y": [
              0.3967935871743487,
              0.39920948616600793,
              0.41397849462365593,
              0.2994579945799458,
              0.29208250166334,
              0.2872131147540984,
              0.2802056555269923,
              0.3,
              0.29321930360415394,
              0.2923728813559322,
              0.2897420515896821,
              0.2836710369487485
             ]
            },
            {
             "legendgroup": "Average",
             "line": {
              "color": "hsv(30,100%,50%)",
              "dash": "dash"
             },
             "name": "Low (average)",
             "type": "scatter",
             "x": [
              6,
              7,
              8,
              9,
              10,
              12,
              13,
              14,
              15,
              16,
              17,
              18
             ],
             "y": [
              0.46893787575150303,
              0.44861660079051385,
              0.4050179211469534,
              0.21138211382113822,
              0.20359281437125748,
              0.19737704918032786,
              0.19151670951156813,
              0.18198757763975154,
              0.16982284667073916,
              0.1652542372881356,
              0.15656868626274745,
              0.15077473182359952
             ]
            },
            {
             "legendgroup": "Building Type",
             "marker": {
              "color": "hsv(210,100%,75%)"
             },
             "mode": "markers",
             "name": "Addition",
             "type": "scatter",
             "x": [
              6,
              7,
              13,
              14,
              15,
              16,
              17,
              18
             ],
             "y": [
              -0.02,
              -0.02,
              -0.02,
              -0.02,
              -0.02,
              -0.02,
              -0.02,
              -0.02
             ]
            },
            {
             "legendgroup": "Building Type",
             "marker": {
              "color": "hsv(210,100%,100%)"
             },
             "mode": "markers",
             "name": "Reconstruction",
             "type": "scatter",
             "x": [
              8,
              10,
              12
             ],
             "y": [
              -0.02,
              -0.02,
              -0.02
             ]
            },
            {
             "legendgroup": "Building Type",
             "marker": {
              "color": "hsv(210,50%,100%)"
             },
             "mode": "markers",
             "name": "Raze and Rebuild",
             "type": "scatter",
             "x": [
              9
             ],
             "y": [
              -0.02
             ]
            }
           ],
           "layout": {
            "height": 375,
            "legend": {
             "bgcolor": "rgba(255,255,255,0.5)",
             "orientation": "h",
             "x": 0.03,
             "xanchor": "left",
             "y": 1,
             "yanchor": "top"
            },
            "plot_bgcolor": "rgba(0,0,0,0)",
            "shapes": [
             {
              "layer": "below",
              "line": {
               "color": "hsv(210,100%,75%)",
               "dash": "dot",
               "width": 1.5
              },
              "type": "line",
              "x0": 6,
              "x1": 6,
              "y0": 0,
              "y1": 1
             },
             {
              "layer": "below",
              "line": {
               "color": "hsv(210,100%,75%)",
               "dash": "dot",
               "width": 1.5
              },
              "type": "line",
              "x0": 7,
              "x1": 7,
              "y0": 0,
              "y1": 1
             },
             {
              "layer": "below",
              "line": {
               "color": "hsv(210,100%,75%)",
               "dash": "dot",
               "width": 1.5
              },
              "type": "line",
              "x0": 13,
              "x1": 13,
              "y0": 0,
              "y1": 1
             },
             {
              "layer": "below",
              "line": {
               "color": "hsv(210,100%,75%)",
               "dash": "dot",
               "width": 1.5
              },
              "type": "line",
              "x0": 14,
              "x1": 14,
              "y0": 0,
              "y1": 1
             },
             {
              "layer": "below",
              "line": {
               "color": "hsv(210,100%,75%)",
               "dash": "dot",
               "width": 1.5
              },
              "type": "line",
              "x0": 15,
              "x1": 15,
              "y0": 0,
              "y1": 1
             },
             {
              "layer": "below",
              "line": {
               "color": "hsv(210,100%,75%)",
               "dash": "dot",
               "width": 1.5
              },
              "type": "line",
              "x0": 16,
              "x1": 16,
              "y0": 0,
              "y1": 1
             },
             {
              "layer": "below",
              "line": {
               "color": "hsv(210,100%,75%)",
               "dash": "dot",
               "width": 1.5
              },
              "type": "line",
              "x0": 17,
              "x1": 17,
              "y0": 0,
              "y1": 1
             },
             {
              "layer": "below",
              "line": {
               "color": "hsv(210,100%,75%)",
               "dash": "dot",
               "width": 1.5
              },
              "type": "line",
              "x0": 18,
              "x1": 18,
              "y0": 0,
              "y1": 1
             },
             {
              "layer": "below",
              "line": {
               "color": "hsv(210,100%,100%)",
               "dash": "dot",
               "width": 1.5
              },
              "type": "line",
              "x0": 8,
              "x1": 8,
              "y0": 0,
              "y1": 1
             },
             {
              "layer": "below",
              "line": {
               "color": "hsv(210,100%,100%)",
               "dash": "dot",
               "width": 1.5
              },
              "type": "line",
              "x0": 10,
              "x1": 10,
              "y0": 0,
              "y1": 1
             },
             {
              "layer": "below",
              "line": {
               "color": "hsv(210,100%,100%)",
               "dash": "dot",
               "width": 1.5
              },
              "type": "line",
              "x0": 12,
              "x1": 12,
              "y0": 0,
              "y1": 1
             },
             {
              "layer": "below",
              "line": {
               "color": "hsv(210,50%,100%)",
               "dash": "dot",
               "width": 1.5
              },
              "type": "line",
              "x0": 9,
              "x1": 9,
              "y0": 0,
              "y1": 1
             }
            ],
            "showlegend": true,
            "template": {
             "data": {
              "bar": [
               {
                "error_x": {
                 "color": "#2a3f5f"
                },
                "error_y": {
                 "color": "#2a3f5f"
                },
                "marker": {
                 "line": {
                  "color": "#E5ECF6",
                  "width": 0.5
                 }
                },
                "type": "bar"
               }
              ],
              "barpolar": [
               {
                "marker": {
                 "line": {
                  "color": "#E5ECF6",
                  "width": 0.5
                 }
                },
                "type": "barpolar"
               }
              ],
              "carpet": [
               {
                "aaxis": {
                 "endlinecolor": "#2a3f5f",
                 "gridcolor": "white",
                 "linecolor": "white",
                 "minorgridcolor": "white",
                 "startlinecolor": "#2a3f5f"
                },
                "baxis": {
                 "endlinecolor": "#2a3f5f",
                 "gridcolor": "white",
                 "linecolor": "white",
                 "minorgridcolor": "white",
                 "startlinecolor": "#2a3f5f"
                },
                "type": "carpet"
               }
              ],
              "choropleth": [
               {
                "colorbar": {
                 "outlinewidth": 0,
                 "ticks": ""
                },
                "type": "choropleth"
               }
              ],
              "contour": [
               {
                "colorbar": {
                 "outlinewidth": 0,
                 "ticks": ""
                },
                "colorscale": [
                 [
                  0,
                  "#0d0887"
                 ],
                 [
                  0.1111111111111111,
                  "#46039f"
                 ],
                 [
                  0.2222222222222222,
                  "#7201a8"
                 ],
                 [
                  0.3333333333333333,
                  "#9c179e"
                 ],
                 [
                  0.4444444444444444,
                  "#bd3786"
                 ],
                 [
                  0.5555555555555556,
                  "#d8576b"
                 ],
                 [
                  0.6666666666666666,
                  "#ed7953"
                 ],
                 [
                  0.7777777777777778,
                  "#fb9f3a"
                 ],
                 [
                  0.8888888888888888,
                  "#fdca26"
                 ],
                 [
                  1,
                  "#f0f921"
                 ]
                ],
                "type": "contour"
               }
              ],
              "contourcarpet": [
               {
                "colorbar": {
                 "outlinewidth": 0,
                 "ticks": ""
                },
                "type": "contourcarpet"
               }
              ],
              "heatmap": [
               {
                "colorbar": {
                 "outlinewidth": 0,
                 "ticks": ""
                },
                "colorscale": [
                 [
                  0,
                  "#0d0887"
                 ],
                 [
                  0.1111111111111111,
                  "#46039f"
                 ],
                 [
                  0.2222222222222222,
                  "#7201a8"
                 ],
                 [
                  0.3333333333333333,
                  "#9c179e"
                 ],
                 [
                  0.4444444444444444,
                  "#bd3786"
                 ],
                 [
                  0.5555555555555556,
                  "#d8576b"
                 ],
                 [
                  0.6666666666666666,
                  "#ed7953"
                 ],
                 [
                  0.7777777777777778,
                  "#fb9f3a"
                 ],
                 [
                  0.8888888888888888,
                  "#fdca26"
                 ],
                 [
                  1,
                  "#f0f921"
                 ]
                ],
                "type": "heatmap"
               }
              ],
              "heatmapgl": [
               {
                "colorbar": {
                 "outlinewidth": 0,
                 "ticks": ""
                },
                "colorscale": [
                 [
                  0,
                  "#0d0887"
                 ],
                 [
                  0.1111111111111111,
                  "#46039f"
                 ],
                 [
                  0.2222222222222222,
                  "#7201a8"
                 ],
                 [
                  0.3333333333333333,
                  "#9c179e"
                 ],
                 [
                  0.4444444444444444,
                  "#bd3786"
                 ],
                 [
                  0.5555555555555556,
                  "#d8576b"
                 ],
                 [
                  0.6666666666666666,
                  "#ed7953"
                 ],
                 [
                  0.7777777777777778,
                  "#fb9f3a"
                 ],
                 [
                  0.8888888888888888,
                  "#fdca26"
                 ],
                 [
                  1,
                  "#f0f921"
                 ]
                ],
                "type": "heatmapgl"
               }
              ],
              "histogram": [
               {
                "marker": {
                 "colorbar": {
                  "outlinewidth": 0,
                  "ticks": ""
                 }
                },
                "type": "histogram"
               }
              ],
              "histogram2d": [
               {
                "colorbar": {
                 "outlinewidth": 0,
                 "ticks": ""
                },
                "colorscale": [
                 [
                  0,
                  "#0d0887"
                 ],
                 [
                  0.1111111111111111,
                  "#46039f"
                 ],
                 [
                  0.2222222222222222,
                  "#7201a8"
                 ],
                 [
                  0.3333333333333333,
                  "#9c179e"
                 ],
                 [
                  0.4444444444444444,
                  "#bd3786"
                 ],
                 [
                  0.5555555555555556,
                  "#d8576b"
                 ],
                 [
                  0.6666666666666666,
                  "#ed7953"
                 ],
                 [
                  0.7777777777777778,
                  "#fb9f3a"
                 ],
                 [
                  0.8888888888888888,
                  "#fdca26"
                 ],
                 [
                  1,
                  "#f0f921"
                 ]
                ],
                "type": "histogram2d"
               }
              ],
              "histogram2dcontour": [
               {
                "colorbar": {
                 "outlinewidth": 0,
                 "ticks": ""
                },
                "colorscale": [
                 [
                  0,
                  "#0d0887"
                 ],
                 [
                  0.1111111111111111,
                  "#46039f"
                 ],
                 [
                  0.2222222222222222,
                  "#7201a8"
                 ],
                 [
                  0.3333333333333333,
                  "#9c179e"
                 ],
                 [
                  0.4444444444444444,
                  "#bd3786"
                 ],
                 [
                  0.5555555555555556,
                  "#d8576b"
                 ],
                 [
                  0.6666666666666666,
                  "#ed7953"
                 ],
                 [
                  0.7777777777777778,
                  "#fb9f3a"
                 ],
                 [
                  0.8888888888888888,
                  "#fdca26"
                 ],
                 [
                  1,
                  "#f0f921"
                 ]
                ],
                "type": "histogram2dcontour"
               }
              ],
              "mesh3d": [
               {
                "colorbar": {
                 "outlinewidth": 0,
                 "ticks": ""
                },
                "type": "mesh3d"
               }
              ],
              "parcoords": [
               {
                "line": {
                 "colorbar": {
                  "outlinewidth": 0,
                  "ticks": ""
                 }
                },
                "type": "parcoords"
               }
              ],
              "pie": [
               {
                "automargin": true,
                "type": "pie"
               }
              ],
              "scatter": [
               {
                "marker": {
                 "colorbar": {
                  "outlinewidth": 0,
                  "ticks": ""
                 }
                },
                "type": "scatter"
               }
              ],
              "scatter3d": [
               {
                "line": {
                 "colorbar": {
                  "outlinewidth": 0,
                  "ticks": ""
                 }
                },
                "marker": {
                 "colorbar": {
                  "outlinewidth": 0,
                  "ticks": ""
                 }
                },
                "type": "scatter3d"
               }
              ],
              "scattercarpet": [
               {
                "marker": {
                 "colorbar": {
                  "outlinewidth": 0,
                  "ticks": ""
                 }
                },
                "type": "scattercarpet"
               }
              ],
              "scattergeo": [
               {
                "marker": {
                 "colorbar": {
                  "outlinewidth": 0,
                  "ticks": ""
                 }
                },
                "type": "scattergeo"
               }
              ],
              "scattergl": [
               {
                "marker": {
                 "colorbar": {
                  "outlinewidth": 0,
                  "ticks": ""
                 }
                },
                "type": "scattergl"
               }
              ],
              "scattermapbox": [
               {
                "marker": {
                 "colorbar": {
                  "outlinewidth": 0,
                  "ticks": ""
                 }
                },
                "type": "scattermapbox"
               }
              ],
              "scatterpolar": [
               {
                "marker": {
                 "colorbar": {
                  "outlinewidth": 0,
                  "ticks": ""
                 }
                },
                "type": "scatterpolar"
               }
              ],
              "scatterpolargl": [
               {
                "marker": {
                 "colorbar": {
                  "outlinewidth": 0,
                  "ticks": ""
                 }
                },
                "type": "scatterpolargl"
               }
              ],
              "scatterternary": [
               {
                "marker": {
                 "colorbar": {
                  "outlinewidth": 0,
                  "ticks": ""
                 }
                },
                "type": "scatterternary"
               }
              ],
              "surface": [
               {
                "colorbar": {
                 "outlinewidth": 0,
                 "ticks": ""
                },
                "colorscale": [
                 [
                  0,
                  "#0d0887"
                 ],
                 [
                  0.1111111111111111,
                  "#46039f"
                 ],
                 [
                  0.2222222222222222,
                  "#7201a8"
                 ],
                 [
                  0.3333333333333333,
                  "#9c179e"
                 ],
                 [
                  0.4444444444444444,
                  "#bd3786"
                 ],
                 [
                  0.5555555555555556,
                  "#d8576b"
                 ],
                 [
                  0.6666666666666666,
                  "#ed7953"
                 ],
                 [
                  0.7777777777777778,
                  "#fb9f3a"
                 ],
                 [
                  0.8888888888888888,
                  "#fdca26"
                 ],
                 [
                  1,
                  "#f0f921"
                 ]
                ],
                "type": "surface"
               }
              ],
              "table": [
               {
                "cells": {
                 "fill": {
                  "color": "#EBF0F8"
                 },
                 "line": {
                  "color": "white"
                 }
                },
                "header": {
                 "fill": {
                  "color": "#C8D4E3"
                 },
                 "line": {
                  "color": "white"
                 }
                },
                "type": "table"
               }
              ]
             },
             "layout": {
              "annotationdefaults": {
               "arrowcolor": "#2a3f5f",
               "arrowhead": 0,
               "arrowwidth": 1
              },
              "autotypenumbers": "strict",
              "coloraxis": {
               "colorbar": {
                "outlinewidth": 0,
                "ticks": ""
               }
              },
              "colorscale": {
               "diverging": [
                [
                 0,
                 "#8e0152"
                ],
                [
                 0.1,
                 "#c51b7d"
                ],
                [
                 0.2,
                 "#de77ae"
                ],
                [
                 0.3,
                 "#f1b6da"
                ],
                [
                 0.4,
                 "#fde0ef"
                ],
                [
                 0.5,
                 "#f7f7f7"
                ],
                [
                 0.6,
                 "#e6f5d0"
                ],
                [
                 0.7,
                 "#b8e186"
                ],
                [
                 0.8,
                 "#7fbc41"
                ],
                [
                 0.9,
                 "#4d9221"
                ],
                [
                 1,
                 "#276419"
                ]
               ],
               "sequential": [
                [
                 0,
                 "#0d0887"
                ],
                [
                 0.1111111111111111,
                 "#46039f"
                ],
                [
                 0.2222222222222222,
                 "#7201a8"
                ],
                [
                 0.3333333333333333,
                 "#9c179e"
                ],
                [
                 0.4444444444444444,
                 "#bd3786"
                ],
                [
                 0.5555555555555556,
                 "#d8576b"
                ],
                [
                 0.6666666666666666,
                 "#ed7953"
                ],
                [
                 0.7777777777777778,
                 "#fb9f3a"
                ],
                [
                 0.8888888888888888,
                 "#fdca26"
                ],
                [
                 1,
                 "#f0f921"
                ]
               ],
               "sequentialminus": [
                [
                 0,
                 "#0d0887"
                ],
                [
                 0.1111111111111111,
                 "#46039f"
                ],
                [
                 0.2222222222222222,
                 "#7201a8"
                ],
                [
                 0.3333333333333333,
                 "#9c179e"
                ],
                [
                 0.4444444444444444,
                 "#bd3786"
                ],
                [
                 0.5555555555555556,
                 "#d8576b"
                ],
                [
                 0.6666666666666666,
                 "#ed7953"
                ],
                [
                 0.7777777777777778,
                 "#fb9f3a"
                ],
                [
                 0.8888888888888888,
                 "#fdca26"
                ],
                [
                 1,
                 "#f0f921"
                ]
               ]
              },
              "colorway": [
               "#636efa",
               "#EF553B",
               "#00cc96",
               "#ab63fa",
               "#FFA15A",
               "#19d3f3",
               "#FF6692",
               "#B6E880",
               "#FF97FF",
               "#FECB52"
              ],
              "font": {
               "color": "#2a3f5f"
              },
              "geo": {
               "bgcolor": "white",
               "lakecolor": "white",
               "landcolor": "#E5ECF6",
               "showlakes": true,
               "showland": true,
               "subunitcolor": "white"
              },
              "hoverlabel": {
               "align": "left"
              },
              "hovermode": "closest",
              "mapbox": {
               "style": "light"
              },
              "paper_bgcolor": "white",
              "plot_bgcolor": "#E5ECF6",
              "polar": {
               "angularaxis": {
                "gridcolor": "white",
                "linecolor": "white",
                "ticks": ""
               },
               "bgcolor": "#E5ECF6",
               "radialaxis": {
                "gridcolor": "white",
                "linecolor": "white",
                "ticks": ""
               }
              },
              "scene": {
               "xaxis": {
                "backgroundcolor": "#E5ECF6",
                "gridcolor": "white",
                "gridwidth": 2,
                "linecolor": "white",
                "showbackground": true,
                "ticks": "",
                "zerolinecolor": "white"
               },
               "yaxis": {
                "backgroundcolor": "#E5ECF6",
                "gridcolor": "white",
                "gridwidth": 2,
                "linecolor": "white",
                "showbackground": true,
                "ticks": "",
                "zerolinecolor": "white"
               },
               "zaxis": {
                "backgroundcolor": "#E5ECF6",
                "gridcolor": "white",
                "gridwidth": 2,
                "linecolor": "white",
                "showbackground": true,
                "ticks": "",
                "zerolinecolor": "white"
               }
              },
              "shapedefaults": {
               "line": {
                "color": "#2a3f5f"
               }
              },
              "ternary": {
               "aaxis": {
                "gridcolor": "white",
                "linecolor": "white",
                "ticks": ""
               },
               "baxis": {
                "gridcolor": "white",
                "linecolor": "white",
                "ticks": ""
               },
               "bgcolor": "#E5ECF6",
               "caxis": {
                "gridcolor": "white",
                "linecolor": "white",
                "ticks": ""
               }
              },
              "title": {
               "x": 0.05
              },
              "xaxis": {
               "automargin": true,
               "gridcolor": "white",
               "linecolor": "white",
               "ticks": "",
               "title": {
                "standoff": 15
               },
               "zerolinecolor": "white",
               "zerolinewidth": 2
              },
              "yaxis": {
               "automargin": true,
               "gridcolor": "white",
               "linecolor": "white",
               "ticks": "",
               "title": {
                "standoff": 15
               },
               "zerolinecolor": "white",
               "zerolinewidth": 2
              }
             }
            },
            "title": {
             "text": "Percent Income by Group Staying Vs New Comers"
            },
            "width": 800,
            "xaxis": {
             "gridcolor": "#f2f2f2",
             "gridwidth": 1,
             "title": {
              "text": "Simulation tic"
             },
             "zerolinecolor": "lightgrey",
             "zerolinewidth": 1
            },
            "yaxis": {
             "gridcolor": "#f2f2f2",
             "gridwidth": 1,
             "range": [
              -0.05,
              1
             ],
             "title": {
              "text": "Household Percent"
             },
             "zerolinecolor": "lightgrey",
             "zerolinewidth": 1
            }
           }
          },
          "text/html": "<div>                            <div id=\"6ce19c56-2185-487a-b669-90b0c239bfb6\" class=\"plotly-graph-div\" style=\"height:375px; width:800px;\"></div>            <script type=\"text/javascript\">                require([\"plotly\"], function(Plotly) {                    window.PLOTLYENV=window.PLOTLYENV || {};                                    if (document.getElementById(\"6ce19c56-2185-487a-b669-90b0c239bfb6\")) {                    Plotly.newPlot(                        \"6ce19c56-2185-487a-b669-90b0c239bfb6\",                        [{\"legendgroup\": \"Staying\", \"line\": {\"color\": \"hsv(349,89%,74%)\", \"width\": 2}, \"name\": \"High Stay\", \"type\": \"scatter\", \"x\": [6, 7, 8, 9, 10, 12, 13, 14, 15, 16, 17, 18], \"y\": [0.0, 0.0, 0.0, 0.0, 0.0, 0.0, 0.0, 0.0, 0.0, 0.0, 0.0, 0.0]}, {\"legendgroup\": \"Staying\", \"line\": {\"color\": \"hsv(6,64%,89%)\", \"width\": 2}, \"name\": \"Med Stay\", \"type\": \"scatter\", \"x\": [6, 7, 8, 9, 10, 12, 13, 14, 15, 16, 17, 18], \"y\": [0.33567134268537074, 0.3300395256916996, 0.2974910394265233, 0.21138211382113822, 0.2055888223552894, 0.2019672131147541, 0.19473007712082263, 0.18633540372670807, 0.18142944410507025, 0.1761501210653753, 0.17276544691061788, 0.16746126340882003]}, {\"legendgroup\": \"Staying\", \"line\": {\"color\": \"hsv(16,41%,98%)\", \"width\": 2}, \"name\": \"Low Stay\", \"type\": \"scatter\", \"x\": [6, 7, 8, 9, 10, 12, 13, 14, 15, 16, 17, 18], \"y\": [0.46893787575150303, 0.44861660079051385, 0.4050179211469534, 0.21138211382113822, 0.20359281437125748, 0.19737704918032786, 0.19151670951156813, 0.18198757763975154, 0.16982284667073916, 0.1652542372881356, 0.15656868626274745, 0.15077473182359952]}, {\"legendgroup\": \"New Comers\", \"line\": {\"color\": \"hsv(349,89%,74%)\", \"width\": 4}, \"name\": \"High New Comer\", \"type\": \"scatter\", \"x\": [6, 7, 8, 9, 10, 12, 13, 14, 15, 16, 17, 18], \"y\": [0.1342685370741483, 0.15217391304347827, 0.18100358422939067, 0.489159891598916, 0.5043246839654025, 0.5154098360655738, 0.5282776349614395, 0.5180124223602485, 0.5369578497251069, 0.5423728813559322, 0.5536892621475705, 0.5655542312276519]}, {\"legendgroup\": \"New Comers\", \"line\": {\"color\": \"hsv(6,64%,89%)\", \"width\": 4}, \"name\": \"Med New Comer\", \"type\": \"scatter\", \"x\": [6, 7, 8, 9, 10, 12, 13, 14, 15, 16, 17, 18], \"y\": [0.061122244488977955, 0.0691699604743083, 0.11648745519713262, 0.08807588075880758, 0.08649367930805056, 0.08524590163934426, 0.08547557840616966, 0.11366459627329192, 0.1117898594990837, 0.1162227602905569, 0.11697660467906419, 0.1162097735399285]}, {\"legendgroup\": \"New Comers\", \"line\": {\"color\": \"hsv(16,41%,98%)\", \"width\": 4}, \"name\": \"Low New Comer\", \"type\": \"scatter\", \"x\": [6, 7, 8, 9, 10, 12, 13, 14, 15, 16, 17, 18], \"y\": [0.0, 0.0, 0.0, 0.0, 0.0, 0.0, 0.0, 0.0, 0.0, 0.0, 0.0, 0.0]}, {\"legendgroup\": \"Average\", \"line\": {\"color\": \"hsv(30,50%,100%)\", \"dash\": \"dash\"}, \"name\": \"High (average)\", \"type\": \"scatter\", \"x\": [6, 7, 8, 9, 10, 12, 13, 14, 15, 16, 17, 18], \"y\": [0.1342685370741483, 0.15217391304347827, 0.18100358422939067, 0.489159891598916, 0.5043246839654025, 0.5154098360655738, 0.5282776349614395, 0.5180124223602485, 0.5369578497251069, 0.5423728813559322, 0.5536892621475705, 0.5655542312276519]}, {\"legendgroup\": \"Average\", \"line\": {\"color\": \"hsv(30,75%,100%)\", \"dash\": \"dash\"}, \"name\": \"Medium (average)\", \"type\": \"scatter\", \"x\": [6, 7, 8, 9, 10, 12, 13, 14, 15, 16, 17, 18], \"y\": [0.3967935871743487, 0.39920948616600793, 0.41397849462365593, 0.2994579945799458, 0.29208250166334, 0.2872131147540984, 0.2802056555269923, 0.3, 0.29321930360415394, 0.2923728813559322, 0.2897420515896821, 0.2836710369487485]}, {\"legendgroup\": \"Average\", \"line\": {\"color\": \"hsv(30,100%,50%)\", \"dash\": \"dash\"}, \"name\": \"Low (average)\", \"type\": \"scatter\", \"x\": [6, 7, 8, 9, 10, 12, 13, 14, 15, 16, 17, 18], \"y\": [0.46893787575150303, 0.44861660079051385, 0.4050179211469534, 0.21138211382113822, 0.20359281437125748, 0.19737704918032786, 0.19151670951156813, 0.18198757763975154, 0.16982284667073916, 0.1652542372881356, 0.15656868626274745, 0.15077473182359952]}, {\"legendgroup\": \"Building Type\", \"marker\": {\"color\": \"hsv(210,100%,75%)\"}, \"mode\": \"markers\", \"name\": \"Addition\", \"type\": \"scatter\", \"x\": [6, 7, 13, 14, 15, 16, 17, 18], \"y\": [-0.02, -0.02, -0.02, -0.02, -0.02, -0.02, -0.02, -0.02]}, {\"legendgroup\": \"Building Type\", \"marker\": {\"color\": \"hsv(210,100%,100%)\"}, \"mode\": \"markers\", \"name\": \"Reconstruction\", \"type\": \"scatter\", \"x\": [8, 10, 12], \"y\": [-0.02, -0.02, -0.02]}, {\"legendgroup\": \"Building Type\", \"marker\": {\"color\": \"hsv(210,50%,100%)\"}, \"mode\": \"markers\", \"name\": \"Raze and Rebuild\", \"type\": \"scatter\", \"x\": [9], \"y\": [-0.02]}],                        {\"height\": 375, \"legend\": {\"bgcolor\": \"rgba(255,255,255,0.5)\", \"orientation\": \"h\", \"x\": 0.03, \"xanchor\": \"left\", \"y\": 1.0, \"yanchor\": \"top\"}, \"plot_bgcolor\": \"rgba(0,0,0,0)\", \"shapes\": [{\"layer\": \"below\", \"line\": {\"color\": \"hsv(210,100%,75%)\", \"dash\": \"dot\", \"width\": 1.5}, \"type\": \"line\", \"x0\": 6, \"x1\": 6, \"y0\": 0, \"y1\": 1}, {\"layer\": \"below\", \"line\": {\"color\": \"hsv(210,100%,75%)\", \"dash\": \"dot\", \"width\": 1.5}, \"type\": \"line\", \"x0\": 7, \"x1\": 7, \"y0\": 0, \"y1\": 1}, {\"layer\": \"below\", \"line\": {\"color\": \"hsv(210,100%,75%)\", \"dash\": \"dot\", \"width\": 1.5}, \"type\": \"line\", \"x0\": 13, \"x1\": 13, \"y0\": 0, \"y1\": 1}, {\"layer\": \"below\", \"line\": {\"color\": \"hsv(210,100%,75%)\", \"dash\": \"dot\", \"width\": 1.5}, \"type\": \"line\", \"x0\": 14, \"x1\": 14, \"y0\": 0, \"y1\": 1}, {\"layer\": \"below\", \"line\": {\"color\": \"hsv(210,100%,75%)\", \"dash\": \"dot\", \"width\": 1.5}, \"type\": \"line\", \"x0\": 15, \"x1\": 15, \"y0\": 0, \"y1\": 1}, {\"layer\": \"below\", \"line\": {\"color\": \"hsv(210,100%,75%)\", \"dash\": \"dot\", \"width\": 1.5}, \"type\": \"line\", \"x0\": 16, \"x1\": 16, \"y0\": 0, \"y1\": 1}, {\"layer\": \"below\", \"line\": {\"color\": \"hsv(210,100%,75%)\", \"dash\": \"dot\", \"width\": 1.5}, \"type\": \"line\", \"x0\": 17, \"x1\": 17, \"y0\": 0, \"y1\": 1}, {\"layer\": \"below\", \"line\": {\"color\": \"hsv(210,100%,75%)\", \"dash\": \"dot\", \"width\": 1.5}, \"type\": \"line\", \"x0\": 18, \"x1\": 18, \"y0\": 0, \"y1\": 1}, {\"layer\": \"below\", \"line\": {\"color\": \"hsv(210,100%,100%)\", \"dash\": \"dot\", \"width\": 1.5}, \"type\": \"line\", \"x0\": 8, \"x1\": 8, \"y0\": 0, \"y1\": 1}, {\"layer\": \"below\", \"line\": {\"color\": \"hsv(210,100%,100%)\", \"dash\": \"dot\", \"width\": 1.5}, \"type\": \"line\", \"x0\": 10, \"x1\": 10, \"y0\": 0, \"y1\": 1}, {\"layer\": \"below\", \"line\": {\"color\": \"hsv(210,100%,100%)\", \"dash\": \"dot\", \"width\": 1.5}, \"type\": \"line\", \"x0\": 12, \"x1\": 12, \"y0\": 0, \"y1\": 1}, {\"layer\": \"below\", \"line\": {\"color\": \"hsv(210,50%,100%)\", \"dash\": \"dot\", \"width\": 1.5}, \"type\": \"line\", \"x0\": 9, \"x1\": 9, \"y0\": 0, \"y1\": 1}], \"showlegend\": true, \"template\": {\"data\": {\"bar\": [{\"error_x\": {\"color\": \"#2a3f5f\"}, \"error_y\": {\"color\": \"#2a3f5f\"}, \"marker\": {\"line\": {\"color\": \"#E5ECF6\", \"width\": 0.5}}, \"type\": \"bar\"}], \"barpolar\": [{\"marker\": {\"line\": {\"color\": \"#E5ECF6\", \"width\": 0.5}}, \"type\": \"barpolar\"}], \"carpet\": [{\"aaxis\": {\"endlinecolor\": \"#2a3f5f\", \"gridcolor\": \"white\", \"linecolor\": \"white\", \"minorgridcolor\": \"white\", \"startlinecolor\": \"#2a3f5f\"}, \"baxis\": {\"endlinecolor\": \"#2a3f5f\", \"gridcolor\": \"white\", \"linecolor\": \"white\", \"minorgridcolor\": \"white\", \"startlinecolor\": \"#2a3f5f\"}, \"type\": \"carpet\"}], \"choropleth\": [{\"colorbar\": {\"outlinewidth\": 0, \"ticks\": \"\"}, \"type\": \"choropleth\"}], \"contour\": [{\"colorbar\": {\"outlinewidth\": 0, \"ticks\": \"\"}, \"colorscale\": [[0.0, \"#0d0887\"], [0.1111111111111111, \"#46039f\"], [0.2222222222222222, \"#7201a8\"], [0.3333333333333333, \"#9c179e\"], [0.4444444444444444, \"#bd3786\"], [0.5555555555555556, \"#d8576b\"], [0.6666666666666666, \"#ed7953\"], [0.7777777777777778, \"#fb9f3a\"], [0.8888888888888888, \"#fdca26\"], [1.0, \"#f0f921\"]], \"type\": \"contour\"}], \"contourcarpet\": [{\"colorbar\": {\"outlinewidth\": 0, \"ticks\": \"\"}, \"type\": \"contourcarpet\"}], \"heatmap\": [{\"colorbar\": {\"outlinewidth\": 0, \"ticks\": \"\"}, \"colorscale\": [[0.0, \"#0d0887\"], [0.1111111111111111, \"#46039f\"], [0.2222222222222222, \"#7201a8\"], [0.3333333333333333, \"#9c179e\"], [0.4444444444444444, \"#bd3786\"], [0.5555555555555556, \"#d8576b\"], [0.6666666666666666, \"#ed7953\"], [0.7777777777777778, \"#fb9f3a\"], [0.8888888888888888, \"#fdca26\"], [1.0, \"#f0f921\"]], \"type\": \"heatmap\"}], \"heatmapgl\": [{\"colorbar\": {\"outlinewidth\": 0, \"ticks\": \"\"}, \"colorscale\": [[0.0, \"#0d0887\"], [0.1111111111111111, \"#46039f\"], [0.2222222222222222, \"#7201a8\"], [0.3333333333333333, \"#9c179e\"], [0.4444444444444444, \"#bd3786\"], [0.5555555555555556, \"#d8576b\"], [0.6666666666666666, \"#ed7953\"], [0.7777777777777778, \"#fb9f3a\"], [0.8888888888888888, \"#fdca26\"], [1.0, \"#f0f921\"]], \"type\": \"heatmapgl\"}], \"histogram\": [{\"marker\": {\"colorbar\": {\"outlinewidth\": 0, \"ticks\": \"\"}}, \"type\": \"histogram\"}], \"histogram2d\": [{\"colorbar\": {\"outlinewidth\": 0, \"ticks\": \"\"}, \"colorscale\": [[0.0, \"#0d0887\"], [0.1111111111111111, \"#46039f\"], [0.2222222222222222, \"#7201a8\"], [0.3333333333333333, \"#9c179e\"], [0.4444444444444444, \"#bd3786\"], [0.5555555555555556, \"#d8576b\"], [0.6666666666666666, \"#ed7953\"], [0.7777777777777778, \"#fb9f3a\"], [0.8888888888888888, \"#fdca26\"], [1.0, \"#f0f921\"]], \"type\": \"histogram2d\"}], \"histogram2dcontour\": [{\"colorbar\": {\"outlinewidth\": 0, \"ticks\": \"\"}, \"colorscale\": [[0.0, \"#0d0887\"], [0.1111111111111111, \"#46039f\"], [0.2222222222222222, \"#7201a8\"], [0.3333333333333333, \"#9c179e\"], [0.4444444444444444, \"#bd3786\"], [0.5555555555555556, \"#d8576b\"], [0.6666666666666666, \"#ed7953\"], [0.7777777777777778, \"#fb9f3a\"], [0.8888888888888888, \"#fdca26\"], [1.0, \"#f0f921\"]], \"type\": \"histogram2dcontour\"}], \"mesh3d\": [{\"colorbar\": {\"outlinewidth\": 0, \"ticks\": \"\"}, \"type\": \"mesh3d\"}], \"parcoords\": [{\"line\": {\"colorbar\": {\"outlinewidth\": 0, \"ticks\": \"\"}}, \"type\": \"parcoords\"}], \"pie\": [{\"automargin\": true, \"type\": \"pie\"}], \"scatter\": [{\"marker\": {\"colorbar\": {\"outlinewidth\": 0, \"ticks\": \"\"}}, \"type\": \"scatter\"}], \"scatter3d\": [{\"line\": {\"colorbar\": {\"outlinewidth\": 0, \"ticks\": \"\"}}, \"marker\": {\"colorbar\": {\"outlinewidth\": 0, \"ticks\": \"\"}}, \"type\": \"scatter3d\"}], \"scattercarpet\": [{\"marker\": {\"colorbar\": {\"outlinewidth\": 0, \"ticks\": \"\"}}, \"type\": \"scattercarpet\"}], \"scattergeo\": [{\"marker\": {\"colorbar\": {\"outlinewidth\": 0, \"ticks\": \"\"}}, \"type\": \"scattergeo\"}], \"scattergl\": [{\"marker\": {\"colorbar\": {\"outlinewidth\": 0, \"ticks\": \"\"}}, \"type\": \"scattergl\"}], \"scattermapbox\": [{\"marker\": {\"colorbar\": {\"outlinewidth\": 0, \"ticks\": \"\"}}, \"type\": \"scattermapbox\"}], \"scatterpolar\": [{\"marker\": {\"colorbar\": {\"outlinewidth\": 0, \"ticks\": \"\"}}, \"type\": \"scatterpolar\"}], \"scatterpolargl\": [{\"marker\": {\"colorbar\": {\"outlinewidth\": 0, \"ticks\": \"\"}}, \"type\": \"scatterpolargl\"}], \"scatterternary\": [{\"marker\": {\"colorbar\": {\"outlinewidth\": 0, \"ticks\": \"\"}}, \"type\": \"scatterternary\"}], \"surface\": [{\"colorbar\": {\"outlinewidth\": 0, \"ticks\": \"\"}, \"colorscale\": [[0.0, \"#0d0887\"], [0.1111111111111111, \"#46039f\"], [0.2222222222222222, \"#7201a8\"], [0.3333333333333333, \"#9c179e\"], [0.4444444444444444, \"#bd3786\"], [0.5555555555555556, \"#d8576b\"], [0.6666666666666666, \"#ed7953\"], [0.7777777777777778, \"#fb9f3a\"], [0.8888888888888888, \"#fdca26\"], [1.0, \"#f0f921\"]], \"type\": \"surface\"}], \"table\": [{\"cells\": {\"fill\": {\"color\": \"#EBF0F8\"}, \"line\": {\"color\": \"white\"}}, \"header\": {\"fill\": {\"color\": \"#C8D4E3\"}, \"line\": {\"color\": \"white\"}}, \"type\": \"table\"}]}, \"layout\": {\"annotationdefaults\": {\"arrowcolor\": \"#2a3f5f\", \"arrowhead\": 0, \"arrowwidth\": 1}, \"autotypenumbers\": \"strict\", \"coloraxis\": {\"colorbar\": {\"outlinewidth\": 0, \"ticks\": \"\"}}, \"colorscale\": {\"diverging\": [[0, \"#8e0152\"], [0.1, \"#c51b7d\"], [0.2, \"#de77ae\"], [0.3, \"#f1b6da\"], [0.4, \"#fde0ef\"], [0.5, \"#f7f7f7\"], [0.6, \"#e6f5d0\"], [0.7, \"#b8e186\"], [0.8, \"#7fbc41\"], [0.9, \"#4d9221\"], [1, \"#276419\"]], \"sequential\": [[0.0, \"#0d0887\"], [0.1111111111111111, \"#46039f\"], [0.2222222222222222, \"#7201a8\"], [0.3333333333333333, \"#9c179e\"], [0.4444444444444444, \"#bd3786\"], [0.5555555555555556, \"#d8576b\"], [0.6666666666666666, \"#ed7953\"], [0.7777777777777778, \"#fb9f3a\"], [0.8888888888888888, \"#fdca26\"], [1.0, \"#f0f921\"]], \"sequentialminus\": [[0.0, \"#0d0887\"], [0.1111111111111111, \"#46039f\"], [0.2222222222222222, \"#7201a8\"], [0.3333333333333333, \"#9c179e\"], [0.4444444444444444, \"#bd3786\"], [0.5555555555555556, \"#d8576b\"], [0.6666666666666666, \"#ed7953\"], [0.7777777777777778, \"#fb9f3a\"], [0.8888888888888888, \"#fdca26\"], [1.0, \"#f0f921\"]]}, \"colorway\": [\"#636efa\", \"#EF553B\", \"#00cc96\", \"#ab63fa\", \"#FFA15A\", \"#19d3f3\", \"#FF6692\", \"#B6E880\", \"#FF97FF\", \"#FECB52\"], \"font\": {\"color\": \"#2a3f5f\"}, \"geo\": {\"bgcolor\": \"white\", \"lakecolor\": \"white\", \"landcolor\": \"#E5ECF6\", \"showlakes\": true, \"showland\": true, \"subunitcolor\": \"white\"}, \"hoverlabel\": {\"align\": \"left\"}, \"hovermode\": \"closest\", \"mapbox\": {\"style\": \"light\"}, \"paper_bgcolor\": \"white\", \"plot_bgcolor\": \"#E5ECF6\", \"polar\": {\"angularaxis\": {\"gridcolor\": \"white\", \"linecolor\": \"white\", \"ticks\": \"\"}, \"bgcolor\": \"#E5ECF6\", \"radialaxis\": {\"gridcolor\": \"white\", \"linecolor\": \"white\", \"ticks\": \"\"}}, \"scene\": {\"xaxis\": {\"backgroundcolor\": \"#E5ECF6\", \"gridcolor\": \"white\", \"gridwidth\": 2, \"linecolor\": \"white\", \"showbackground\": true, \"ticks\": \"\", \"zerolinecolor\": \"white\"}, \"yaxis\": {\"backgroundcolor\": \"#E5ECF6\", \"gridcolor\": \"white\", \"gridwidth\": 2, \"linecolor\": \"white\", \"showbackground\": true, \"ticks\": \"\", \"zerolinecolor\": \"white\"}, \"zaxis\": {\"backgroundcolor\": \"#E5ECF6\", \"gridcolor\": \"white\", \"gridwidth\": 2, \"linecolor\": \"white\", \"showbackground\": true, \"ticks\": \"\", \"zerolinecolor\": \"white\"}}, \"shapedefaults\": {\"line\": {\"color\": \"#2a3f5f\"}}, \"ternary\": {\"aaxis\": {\"gridcolor\": \"white\", \"linecolor\": \"white\", \"ticks\": \"\"}, \"baxis\": {\"gridcolor\": \"white\", \"linecolor\": \"white\", \"ticks\": \"\"}, \"bgcolor\": \"#E5ECF6\", \"caxis\": {\"gridcolor\": \"white\", \"linecolor\": \"white\", \"ticks\": \"\"}}, \"title\": {\"x\": 0.05}, \"xaxis\": {\"automargin\": true, \"gridcolor\": \"white\", \"linecolor\": \"white\", \"ticks\": \"\", \"title\": {\"standoff\": 15}, \"zerolinecolor\": \"white\", \"zerolinewidth\": 2}, \"yaxis\": {\"automargin\": true, \"gridcolor\": \"white\", \"linecolor\": \"white\", \"ticks\": \"\", \"title\": {\"standoff\": 15}, \"zerolinecolor\": \"white\", \"zerolinewidth\": 2}}}, \"title\": {\"text\": \"Percent Income by Group Staying Vs New Comers\"}, \"width\": 800, \"xaxis\": {\"gridcolor\": \"#f2f2f2\", \"gridwidth\": 1, \"title\": {\"text\": \"Simulation tic\"}, \"zerolinecolor\": \"lightgrey\", \"zerolinewidth\": 1}, \"yaxis\": {\"gridcolor\": \"#f2f2f2\", \"gridwidth\": 1, \"range\": [-0.05, 1], \"title\": {\"text\": \"Household Percent\"}, \"zerolinecolor\": \"lightgrey\", \"zerolinewidth\": 1}},                        {\"responsive\": true}                    ).then(function(){\n                            \nvar gd = document.getElementById('6ce19c56-2185-487a-b669-90b0c239bfb6');\nvar x = new MutationObserver(function (mutations, observer) {{\n        var display = window.getComputedStyle(gd).display;\n        if (!display || display === 'none') {{\n            console.log([gd, 'removed!']);\n            Plotly.purge(gd);\n            observer.disconnect();\n        }}\n}});\n\n// Listen for the removal of the full notebook cells\nvar notebookContainer = gd.closest('#notebook-container');\nif (notebookContainer) {{\n    x.observe(notebookContainer, {childList: true});\n}}\n\n// Listen for the clearing of the current output cell\nvar outputEl = gd.closest('.output');\nif (outputEl) {{\n    x.observe(outputEl, {childList: true});\n}}\n\n                        })                };                });            </script>        </div>"
         },
         "metadata": {},
         "output_type": "display_data"
        }
       ]
      }
     },
     "f9312c24025345448f27d4ed226c2027": {
      "model_module": "@jupyter-widgets/output",
      "model_module_version": "1.0.0",
      "model_name": "OutputModel",
      "state": {
       "layout": "IPY_MODEL_d2c38bd360c54d51909e0a75ccc0dbfb",
       "outputs": [
        {
         "ename": "IndexError",
         "evalue": "list index out of range",
         "output_type": "error",
         "traceback": [
          "\u001b[0;31m---------------------------------------------------------------------------\u001b[0m",
          "\u001b[0;31mIndexError\u001b[0m                                Traceback (most recent call last)",
          "\u001b[0;32m~/anaconda3/envs/geo_env/lib/python3.7/site-packages/ipywidgets/widgets/interaction.py\u001b[0m in \u001b[0;36mupdate\u001b[0;34m(self, *args)\u001b[0m\n\u001b[1;32m    254\u001b[0m                     \u001b[0mvalue\u001b[0m \u001b[0;34m=\u001b[0m \u001b[0mwidget\u001b[0m\u001b[0;34m.\u001b[0m\u001b[0mget_interact_value\u001b[0m\u001b[0;34m(\u001b[0m\u001b[0;34m)\u001b[0m\u001b[0;34m\u001b[0m\u001b[0;34m\u001b[0m\u001b[0m\n\u001b[1;32m    255\u001b[0m                     \u001b[0mself\u001b[0m\u001b[0;34m.\u001b[0m\u001b[0mkwargs\u001b[0m\u001b[0;34m[\u001b[0m\u001b[0mwidget\u001b[0m\u001b[0;34m.\u001b[0m\u001b[0m_kwarg\u001b[0m\u001b[0;34m]\u001b[0m \u001b[0;34m=\u001b[0m \u001b[0mvalue\u001b[0m\u001b[0;34m\u001b[0m\u001b[0;34m\u001b[0m\u001b[0m\n\u001b[0;32m--> 256\u001b[0;31m                 \u001b[0mself\u001b[0m\u001b[0;34m.\u001b[0m\u001b[0mresult\u001b[0m \u001b[0;34m=\u001b[0m \u001b[0mself\u001b[0m\u001b[0;34m.\u001b[0m\u001b[0mf\u001b[0m\u001b[0;34m(\u001b[0m\u001b[0;34m**\u001b[0m\u001b[0mself\u001b[0m\u001b[0;34m.\u001b[0m\u001b[0mkwargs\u001b[0m\u001b[0;34m)\u001b[0m\u001b[0;34m\u001b[0m\u001b[0;34m\u001b[0m\u001b[0m\n\u001b[0m\u001b[1;32m    257\u001b[0m                 \u001b[0mshow_inline_matplotlib_plots\u001b[0m\u001b[0;34m(\u001b[0m\u001b[0;34m)\u001b[0m\u001b[0;34m\u001b[0m\u001b[0;34m\u001b[0m\u001b[0m\n\u001b[1;32m    258\u001b[0m                 \u001b[0;32mif\u001b[0m \u001b[0mself\u001b[0m\u001b[0;34m.\u001b[0m\u001b[0mauto_display\u001b[0m \u001b[0;32mand\u001b[0m \u001b[0mself\u001b[0m\u001b[0;34m.\u001b[0m\u001b[0mresult\u001b[0m \u001b[0;32mis\u001b[0m \u001b[0;32mnot\u001b[0m \u001b[0;32mNone\u001b[0m\u001b[0;34m:\u001b[0m\u001b[0;34m\u001b[0m\u001b[0;34m\u001b[0m\u001b[0m\n",
          "\u001b[0;32m<ipython-input-42-3bcbc9f9e52e>\u001b[0m in \u001b[0;36mg\u001b[0;34m(x)\u001b[0m\n\u001b[1;32m     19\u001b[0m         \u001b[0mfigure_6\u001b[0m\u001b[0;34m(\u001b[0m\u001b[0mlastTic\u001b[0m\u001b[0;34m)\u001b[0m\u001b[0;34m\u001b[0m\u001b[0;34m\u001b[0m\u001b[0m\n\u001b[1;32m     20\u001b[0m         \u001b[0mfigure_7\u001b[0m\u001b[0;34m(\u001b[0m\u001b[0mlastTic\u001b[0m\u001b[0;34m)\u001b[0m\u001b[0;34m\u001b[0m\u001b[0;34m\u001b[0m\u001b[0m\n\u001b[0;32m---> 21\u001b[0;31m         \u001b[0mfigure_9\u001b[0m\u001b[0;34m(\u001b[0m\u001b[0mprojectNum\u001b[0m\u001b[0;34m)\u001b[0m\u001b[0;34m\u001b[0m\u001b[0;34m\u001b[0m\u001b[0m\n\u001b[0m\u001b[1;32m     22\u001b[0m         \u001b[0mdisplay\u001b[0m\u001b[0;34m(\u001b[0m\u001b[0mh\u001b[0m\u001b[0;34m)\u001b[0m\u001b[0;34m\u001b[0m\u001b[0;34m\u001b[0m\u001b[0m\n\u001b[1;32m     23\u001b[0m     \u001b[0;32melse\u001b[0m\u001b[0;34m:\u001b[0m\u001b[0;34m\u001b[0m\u001b[0;34m\u001b[0m\u001b[0m\n",
          "\u001b[0;32m<ipython-input-37-3890185178dc>\u001b[0m in \u001b[0;36mfigure_9\u001b[0;34m(projRef)\u001b[0m\n\u001b[1;32m      1\u001b[0m \u001b[0;32mdef\u001b[0m \u001b[0mfigure_9\u001b[0m\u001b[0;34m(\u001b[0m\u001b[0mprojRef\u001b[0m\u001b[0;34m)\u001b[0m\u001b[0;34m:\u001b[0m\u001b[0;34m\u001b[0m\u001b[0;34m\u001b[0m\u001b[0m\n\u001b[1;32m      2\u001b[0m     \u001b[0mgeom\u001b[0m \u001b[0;34m=\u001b[0m \u001b[0mbldgsInwgs84\u001b[0m\u001b[0;34m.\u001b[0m\u001b[0mquery\u001b[0m\u001b[0;34m(\u001b[0m\u001b[0;34mf'project_nu==\"{projRef}\"'\u001b[0m\u001b[0;34m)\u001b[0m\u001b[0;34m.\u001b[0m\u001b[0mcopy\u001b[0m\u001b[0;34m(\u001b[0m\u001b[0;34m)\u001b[0m\u001b[0;34m\u001b[0m\u001b[0;34m\u001b[0m\u001b[0m\n\u001b[0;32m----> 3\u001b[0;31m     \u001b[0mgeom\u001b[0m\u001b[0;34m[\u001b[0m\u001b[0;34m'x'\u001b[0m\u001b[0;34m]\u001b[0m \u001b[0;34m=\u001b[0m \u001b[0mgeom\u001b[0m\u001b[0;34m[\u001b[0m\u001b[0;34m'geometry'\u001b[0m\u001b[0;34m]\u001b[0m\u001b[0;34m.\u001b[0m\u001b[0mapply\u001b[0m\u001b[0;34m(\u001b[0m\u001b[0;32mlambda\u001b[0m \u001b[0mx\u001b[0m\u001b[0;34m:\u001b[0m \u001b[0mx\u001b[0m\u001b[0;34m.\u001b[0m\u001b[0mcentroid\u001b[0m\u001b[0;34m.\u001b[0m\u001b[0mx\u001b[0m\u001b[0;34m)\u001b[0m\u001b[0;34m\u001b[0m\u001b[0;34m\u001b[0m\u001b[0m\n\u001b[0m\u001b[1;32m      4\u001b[0m     \u001b[0mgeom\u001b[0m\u001b[0;34m[\u001b[0m\u001b[0;34m'y'\u001b[0m\u001b[0;34m]\u001b[0m \u001b[0;34m=\u001b[0m \u001b[0mgeom\u001b[0m\u001b[0;34m[\u001b[0m\u001b[0;34m'geometry'\u001b[0m\u001b[0;34m]\u001b[0m\u001b[0;34m.\u001b[0m\u001b[0mapply\u001b[0m\u001b[0;34m(\u001b[0m\u001b[0;32mlambda\u001b[0m \u001b[0mx\u001b[0m\u001b[0;34m:\u001b[0m \u001b[0mx\u001b[0m\u001b[0;34m.\u001b[0m\u001b[0mcentroid\u001b[0m\u001b[0;34m.\u001b[0m\u001b[0my\u001b[0m\u001b[0;34m)\u001b[0m\u001b[0;34m\u001b[0m\u001b[0;34m\u001b[0m\u001b[0m\n\u001b[1;32m      5\u001b[0m     \u001b[0mx\u001b[0m \u001b[0;34m=\u001b[0m \u001b[0mgeom\u001b[0m\u001b[0;34m[\u001b[0m\u001b[0;34m'x'\u001b[0m\u001b[0;34m]\u001b[0m\u001b[0;34m.\u001b[0m\u001b[0mmean\u001b[0m\u001b[0;34m(\u001b[0m\u001b[0;34m)\u001b[0m\u001b[0;34m\u001b[0m\u001b[0;34m\u001b[0m\u001b[0m\n",
          "\u001b[0;32m~/anaconda3/envs/geo_env/lib/python3.7/site-packages/geopandas/geoseries.py\u001b[0m in \u001b[0;36mapply\u001b[0;34m(self, func, args, **kwargs)\u001b[0m\n\u001b[1;32m    317\u001b[0m     \u001b[0;34m@\u001b[0m\u001b[0minherit_doc\u001b[0m\u001b[0;34m(\u001b[0m\u001b[0mpd\u001b[0m\u001b[0;34m.\u001b[0m\u001b[0mSeries\u001b[0m\u001b[0;34m)\u001b[0m\u001b[0;34m\u001b[0m\u001b[0;34m\u001b[0m\u001b[0m\n\u001b[1;32m    318\u001b[0m     \u001b[0;32mdef\u001b[0m \u001b[0mapply\u001b[0m\u001b[0;34m(\u001b[0m\u001b[0mself\u001b[0m\u001b[0;34m,\u001b[0m \u001b[0mfunc\u001b[0m\u001b[0;34m,\u001b[0m \u001b[0margs\u001b[0m\u001b[0;34m=\u001b[0m\u001b[0;34m(\u001b[0m\u001b[0;34m)\u001b[0m\u001b[0;34m,\u001b[0m \u001b[0;34m**\u001b[0m\u001b[0mkwargs\u001b[0m\u001b[0;34m)\u001b[0m\u001b[0;34m:\u001b[0m\u001b[0;34m\u001b[0m\u001b[0;34m\u001b[0m\u001b[0m\n\u001b[0;32m--> 319\u001b[0;31m         \u001b[0mresult\u001b[0m \u001b[0;34m=\u001b[0m \u001b[0msuper\u001b[0m\u001b[0;34m(\u001b[0m\u001b[0;34m)\u001b[0m\u001b[0;34m.\u001b[0m\u001b[0mapply\u001b[0m\u001b[0;34m(\u001b[0m\u001b[0mfunc\u001b[0m\u001b[0;34m,\u001b[0m \u001b[0margs\u001b[0m\u001b[0;34m=\u001b[0m\u001b[0margs\u001b[0m\u001b[0;34m,\u001b[0m \u001b[0;34m**\u001b[0m\u001b[0mkwargs\u001b[0m\u001b[0;34m)\u001b[0m\u001b[0;34m\u001b[0m\u001b[0;34m\u001b[0m\u001b[0m\n\u001b[0m\u001b[1;32m    320\u001b[0m         \u001b[0;32mif\u001b[0m \u001b[0misinstance\u001b[0m\u001b[0;34m(\u001b[0m\u001b[0mresult\u001b[0m\u001b[0;34m,\u001b[0m \u001b[0mGeoSeries\u001b[0m\u001b[0;34m)\u001b[0m\u001b[0;34m:\u001b[0m\u001b[0;34m\u001b[0m\u001b[0;34m\u001b[0m\u001b[0m\n\u001b[1;32m    321\u001b[0m             \u001b[0;32mif\u001b[0m \u001b[0mself\u001b[0m\u001b[0;34m.\u001b[0m\u001b[0mcrs\u001b[0m \u001b[0;32mis\u001b[0m \u001b[0;32mnot\u001b[0m \u001b[0;32mNone\u001b[0m\u001b[0;34m:\u001b[0m\u001b[0;34m\u001b[0m\u001b[0;34m\u001b[0m\u001b[0m\n",
          "\u001b[0;32m~/anaconda3/envs/geo_env/lib/python3.7/site-packages/pandas/core/series.py\u001b[0m in \u001b[0;36mapply\u001b[0;34m(self, func, convert_dtype, args, **kwds)\u001b[0m\n\u001b[1;32m   4106\u001b[0m             \u001b[0;32melse\u001b[0m\u001b[0;34m:\u001b[0m\u001b[0;34m\u001b[0m\u001b[0;34m\u001b[0m\u001b[0m\n\u001b[1;32m   4107\u001b[0m                 \u001b[0mvalues\u001b[0m \u001b[0;34m=\u001b[0m \u001b[0mself\u001b[0m\u001b[0;34m.\u001b[0m\u001b[0mastype\u001b[0m\u001b[0;34m(\u001b[0m\u001b[0mobject\u001b[0m\u001b[0;34m)\u001b[0m\u001b[0;34m.\u001b[0m\u001b[0m_values\u001b[0m\u001b[0;34m\u001b[0m\u001b[0;34m\u001b[0m\u001b[0m\n\u001b[0;32m-> 4108\u001b[0;31m                 \u001b[0mmapped\u001b[0m \u001b[0;34m=\u001b[0m \u001b[0mlib\u001b[0m\u001b[0;34m.\u001b[0m\u001b[0mmap_infer\u001b[0m\u001b[0;34m(\u001b[0m\u001b[0mvalues\u001b[0m\u001b[0;34m,\u001b[0m \u001b[0mf\u001b[0m\u001b[0;34m,\u001b[0m \u001b[0mconvert\u001b[0m\u001b[0;34m=\u001b[0m\u001b[0mconvert_dtype\u001b[0m\u001b[0;34m)\u001b[0m\u001b[0;34m\u001b[0m\u001b[0;34m\u001b[0m\u001b[0m\n\u001b[0m\u001b[1;32m   4109\u001b[0m \u001b[0;34m\u001b[0m\u001b[0m\n\u001b[1;32m   4110\u001b[0m         \u001b[0;32mif\u001b[0m \u001b[0mlen\u001b[0m\u001b[0;34m(\u001b[0m\u001b[0mmapped\u001b[0m\u001b[0;34m)\u001b[0m \u001b[0;32mand\u001b[0m \u001b[0misinstance\u001b[0m\u001b[0;34m(\u001b[0m\u001b[0mmapped\u001b[0m\u001b[0;34m[\u001b[0m\u001b[0;36m0\u001b[0m\u001b[0;34m]\u001b[0m\u001b[0;34m,\u001b[0m \u001b[0mSeries\u001b[0m\u001b[0;34m)\u001b[0m\u001b[0;34m:\u001b[0m\u001b[0;34m\u001b[0m\u001b[0;34m\u001b[0m\u001b[0m\n",
          "\u001b[0;32mpandas/_libs/lib.pyx\u001b[0m in \u001b[0;36mpandas._libs.lib.map_infer\u001b[0;34m()\u001b[0m\n",
          "\u001b[0;32m<ipython-input-37-3890185178dc>\u001b[0m in \u001b[0;36m<lambda>\u001b[0;34m(x)\u001b[0m\n\u001b[1;32m      1\u001b[0m \u001b[0;32mdef\u001b[0m \u001b[0mfigure_9\u001b[0m\u001b[0;34m(\u001b[0m\u001b[0mprojRef\u001b[0m\u001b[0;34m)\u001b[0m\u001b[0;34m:\u001b[0m\u001b[0;34m\u001b[0m\u001b[0;34m\u001b[0m\u001b[0m\n\u001b[1;32m      2\u001b[0m     \u001b[0mgeom\u001b[0m \u001b[0;34m=\u001b[0m \u001b[0mbldgsInwgs84\u001b[0m\u001b[0;34m.\u001b[0m\u001b[0mquery\u001b[0m\u001b[0;34m(\u001b[0m\u001b[0;34mf'project_nu==\"{projRef}\"'\u001b[0m\u001b[0;34m)\u001b[0m\u001b[0;34m.\u001b[0m\u001b[0mcopy\u001b[0m\u001b[0;34m(\u001b[0m\u001b[0;34m)\u001b[0m\u001b[0;34m\u001b[0m\u001b[0;34m\u001b[0m\u001b[0m\n\u001b[0;32m----> 3\u001b[0;31m     \u001b[0mgeom\u001b[0m\u001b[0;34m[\u001b[0m\u001b[0;34m'x'\u001b[0m\u001b[0;34m]\u001b[0m \u001b[0;34m=\u001b[0m \u001b[0mgeom\u001b[0m\u001b[0;34m[\u001b[0m\u001b[0;34m'geometry'\u001b[0m\u001b[0;34m]\u001b[0m\u001b[0;34m.\u001b[0m\u001b[0mapply\u001b[0m\u001b[0;34m(\u001b[0m\u001b[0;32mlambda\u001b[0m \u001b[0mx\u001b[0m\u001b[0;34m:\u001b[0m \u001b[0mx\u001b[0m\u001b[0;34m.\u001b[0m\u001b[0mcentroid\u001b[0m\u001b[0;34m.\u001b[0m\u001b[0mx\u001b[0m\u001b[0;34m)\u001b[0m\u001b[0;34m\u001b[0m\u001b[0;34m\u001b[0m\u001b[0m\n\u001b[0m\u001b[1;32m      4\u001b[0m     \u001b[0mgeom\u001b[0m\u001b[0;34m[\u001b[0m\u001b[0;34m'y'\u001b[0m\u001b[0;34m]\u001b[0m \u001b[0;34m=\u001b[0m \u001b[0mgeom\u001b[0m\u001b[0;34m[\u001b[0m\u001b[0;34m'geometry'\u001b[0m\u001b[0;34m]\u001b[0m\u001b[0;34m.\u001b[0m\u001b[0mapply\u001b[0m\u001b[0;34m(\u001b[0m\u001b[0;32mlambda\u001b[0m \u001b[0mx\u001b[0m\u001b[0;34m:\u001b[0m \u001b[0mx\u001b[0m\u001b[0;34m.\u001b[0m\u001b[0mcentroid\u001b[0m\u001b[0;34m.\u001b[0m\u001b[0my\u001b[0m\u001b[0;34m)\u001b[0m\u001b[0;34m\u001b[0m\u001b[0;34m\u001b[0m\u001b[0m\n\u001b[1;32m      5\u001b[0m     \u001b[0mx\u001b[0m \u001b[0;34m=\u001b[0m \u001b[0mgeom\u001b[0m\u001b[0;34m[\u001b[0m\u001b[0;34m'x'\u001b[0m\u001b[0;34m]\u001b[0m\u001b[0;34m.\u001b[0m\u001b[0mmean\u001b[0m\u001b[0;34m(\u001b[0m\u001b[0;34m)\u001b[0m\u001b[0;34m\u001b[0m\u001b[0;34m\u001b[0m\u001b[0m\n",
          "\u001b[0;32m~/anaconda3/envs/geo_env/lib/python3.7/site-packages/shapely/geometry/point.py\u001b[0m in \u001b[0;36mx\u001b[0;34m(self)\u001b[0m\n\u001b[1;32m     53\u001b[0m     \u001b[0;32mdef\u001b[0m \u001b[0mx\u001b[0m\u001b[0;34m(\u001b[0m\u001b[0mself\u001b[0m\u001b[0;34m)\u001b[0m\u001b[0;34m:\u001b[0m\u001b[0;34m\u001b[0m\u001b[0;34m\u001b[0m\u001b[0m\n\u001b[1;32m     54\u001b[0m         \u001b[0;34m\"\"\"Return x coordinate.\"\"\"\u001b[0m\u001b[0;34m\u001b[0m\u001b[0;34m\u001b[0m\u001b[0m\n\u001b[0;32m---> 55\u001b[0;31m         \u001b[0;32mreturn\u001b[0m \u001b[0mself\u001b[0m\u001b[0;34m.\u001b[0m\u001b[0mcoords\u001b[0m\u001b[0;34m[\u001b[0m\u001b[0;36m0\u001b[0m\u001b[0;34m]\u001b[0m\u001b[0;34m[\u001b[0m\u001b[0;36m0\u001b[0m\u001b[0;34m]\u001b[0m\u001b[0;34m\u001b[0m\u001b[0;34m\u001b[0m\u001b[0m\n\u001b[0m\u001b[1;32m     56\u001b[0m \u001b[0;34m\u001b[0m\u001b[0m\n\u001b[1;32m     57\u001b[0m     \u001b[0;34m@\u001b[0m\u001b[0mproperty\u001b[0m\u001b[0;34m\u001b[0m\u001b[0;34m\u001b[0m\u001b[0m\n",
          "\u001b[0;31mIndexError\u001b[0m: list index out of range"
         ]
        }
       ]
      }
     },
     "f957db32605a4d0e8d0b18b0f9961b35": {
      "model_module": "@jupyter-widgets/base",
      "model_module_version": "1.2.0",
      "model_name": "LayoutModel",
      "state": {}
     },
     "faac5d3455cb4f898ed49cce2fcb5121": {
      "model_module": "@jupyter-widgets/controls",
      "model_module_version": "1.5.0",
      "model_name": "DescriptionStyleModel",
      "state": {
       "description_width": ""
      }
     },
     "fd1b327b1d7846cdaee82767c30b6afe": {
      "model_module": "@jupyter-widgets/base",
      "model_module_version": "1.2.0",
      "model_name": "LayoutModel",
      "state": {}
     },
     "fe57fcd16c174d0a932f513471b6b922": {
      "model_module": "@jupyter-widgets/controls",
      "model_module_version": "1.5.0",
      "model_name": "HTMLModel",
      "state": {
       "layout": "IPY_MODEL_9a667e2cdf07472d8cafa29ac2dce861",
       "style": "IPY_MODEL_80936d4c6122451fac0831d7d5385729",
       "value": "<h2>Execution: 8 &nbsp; Project Number: 20170076<br/> Hebrew Address: חנה סנש 19, בת ים<br/>Project Type: Reconstruction</h2>"
      }
     },
     "ff71fdb896d64f5a87ef40be223a5352": {
      "model_module": "@jupyter-widgets/base",
      "model_module_version": "1.2.0",
      "model_name": "LayoutModel",
      "state": {
       "height": "400px",
       "width": "100%"
      }
     },
     "ffbaad9583094cbfa52bba8936ee0c5f": {
      "model_module": "@jupyter-widgets/base",
      "model_module_version": "1.2.0",
      "model_name": "LayoutModel",
      "state": {}
     }
    },
    "version_major": 2,
    "version_minor": 0
   }
  }
 },
 "nbformat": 4,
 "nbformat_minor": 4
}
