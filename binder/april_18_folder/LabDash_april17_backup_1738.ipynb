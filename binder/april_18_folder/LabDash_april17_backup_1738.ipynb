{
 "cells": [
  {
   "cell_type": "code",
   "execution_count": 10,
   "metadata": {},
   "outputs": [],
   "source": [
    "import geopandas as gpd\n",
    "import pandas as pd\n",
    "import numpy as np\n",
    "pd.options.display.max_columns=100\n",
    "import plotly.graph_objects as go\n",
    "import plotly.express as px\n",
    "import ipywidgets as widgets\n",
    "from ipywidgets import Layout,interact,interact_manual,HTML\n",
    "import pyproj\n",
    "pyproj.datadir.set_data_dir('/Users/shai/anaconda3/envs/geo_env/share/proj')\n"
   ]
  },
  {
   "cell_type": "code",
   "execution_count": 156,
   "metadata": {},
   "outputs": [],
   "source": [
    "incomeDict = {'Low':9000,'Medium':19500,'High':1000000}\n",
    "Age = {'Under 65':65,\n",
    "      'Above 65':65}\n",
    "gridBG = '#f2f2f2'\n",
    "heightD=375\n",
    "projectDict = {1:'Addition',\n",
    "              2:'Reconstruction',\n",
    "              3:'Raze and Rebuild'}"
   ]
  },
  {
   "cell_type": "code",
   "execution_count": 312,
   "metadata": {},
   "outputs": [],
   "source": [
    "geoDF = gpd.read_file('simBldgsData09042021.geojson',driver='GeoJSON')\n",
    "bldDictAddress = dict(zip(geoDF['bld_addres'],geoDF['hebrew_adr']))\n",
    "aggResByTic = pd.read_excel('aggregated_results_by_project_april17.xlsx')\n",
    "agentsFile = 'AgentsTimeSeries_Results_april12_1435.xlsx'\n",
    "res_df = pd.read_excel(agentsFile)\n",
    "colorFile ='colors_dict_April_13_2021.xlsx'\n",
    "colorAgeIncomeExcel='age_income_by_color_april_14.xlsx'\n",
    "colorExcel = pd.read_excel(colorFile)\n",
    "movementsByProject = pd.read_excel('AggByProjectBeforeAfter_april_18.xlsx', header=[0,1])\n",
    "projNumberTicDict = dict(zip(aggResByTic['tic'],aggResByTic['ProjNumber']))\n",
    "projBldNumberDict = dict(zip(geoDF[['project_nu','bld_addres']].groupby('project_nu').agg({'bld_addres':lambda x: x.value_counts().index[0]}).reset_index()['project_nu'],\n",
    "         geoDF[['project_nu','bld_addres']].groupby('project_nu').agg({'bld_addres':lambda x: x.value_counts().index[0]}).reset_index()['bld_addres']))\n",
    "#TICS\n",
    "ticsIndex = aggResByTic['tic']"
   ]
  },
  {
   "cell_type": "code",
   "execution_count": 44,
   "metadata": {},
   "outputs": [],
   "source": [
    "res_df['stay'] = 0\n",
    "res_df['stay'] = res_df['status'].apply(lambda x: 1 if x=='stay' else 0)\n",
    "res_df['leave'] = 0\n",
    "res_df['leave'] = res_df['status'].apply(lambda x: 1 if x=='leave' else 0)\n",
    "res_df['New Comers'] = 0\n",
    "res_df['New Comers'] = res_df['status'].apply(lambda x: 1 if x=='New Comers' else 0)\n",
    "res_df.fillna(0,inplace=True)\n",
    "res_df['Under 65'] = 0\n",
    "res_df['Above 65'] = 0\n",
    "res_df['Low Income'] = 0\n",
    "res_df['Medium Income'] = 0\n",
    "res_df['High Income'] = 0\n",
    "\n",
    "res_df['Under 65'] = res_df['age'].apply(lambda x: 1 if x<65 else 0)\n",
    "res_df['Above 65'] = res_df['age'].apply(lambda x: 1 if x>=65 else 0)\n",
    "res_df['Low Income'] = res_df['income'].apply(lambda x: 1 if (x<incomeDict['Low'])   else 0)\n",
    "res_df['Medium Income'] = res_df['income'].apply(lambda x: 1 if (x>=incomeDict['Low']) & (x<incomeDict['Medium'])  else 0)\n",
    "res_df['High Income'] =  res_df['income'].apply(lambda x: 1 if (x>=incomeDict['Medium'])  else 0)\n",
    "subset_before_after = res_df.copy()\n",
    "subset_before_after = subset_before_after[subset_before_after['status']!='leave']\n",
    "subset_before_after['simulationState'] =subset_before_after['tic'].apply(lambda x: 'Before Renewal' if x==0 else 'After Renewal')"
   ]
  },
  {
   "cell_type": "code",
   "execution_count": 122,
   "metadata": {},
   "outputs": [],
   "source": [
    "ageIncome = subset_before_after[['simulationState','income','age','agentID','tic','ProjNumber']].copy()\n",
    "ageIncome['ageGroup'] = ageIncome['age'].apply(lambda x: 'Under 65' if x<65 else 'Above 65')\n",
    "ageIncome['incomeGroup'] = ageIncome['income'].apply(lambda x: 'High Income' if x>=19500  \n",
    "                                                   else  ('Medium Income' if ((x>=9000)&(x<19500)) else 'Low Income'))\n",
    "\n",
    "ageIncome = ageIncome[['simulationState','incomeGroup','agentID','ageGroup','tic','ProjNumber']].copy()"
   ]
  },
  {
   "cell_type": "code",
   "execution_count": 157,
   "metadata": {},
   "outputs": [],
   "source": [
    "res2 = aggResByTic.loc[1:].copy()\n",
    "res2 = res2[res2.columns[res2.notnull().loc[1].values]].copy()\n",
    "res2['ProjectTypeDesc'] = res2['prjectType'].apply(lambda x:projectDict[x])"
   ]
  },
  {
   "cell_type": "code",
   "execution_count": 158,
   "metadata": {},
   "outputs": [
    {
     "data": {
      "text/html": [
       "<div>\n",
       "<style scoped>\n",
       "    .dataframe tbody tr th:only-of-type {\n",
       "        vertical-align: middle;\n",
       "    }\n",
       "\n",
       "    .dataframe tbody tr th {\n",
       "        vertical-align: top;\n",
       "    }\n",
       "\n",
       "    .dataframe thead th {\n",
       "        text-align: right;\n",
       "    }\n",
       "</style>\n",
       "<table border=\"1\" class=\"dataframe\">\n",
       "  <thead>\n",
       "    <tr style=\"text-align: right;\">\n",
       "      <th></th>\n",
       "      <th>Unnamed: 0</th>\n",
       "      <th>aprtmentSizeMean</th>\n",
       "      <th>ProjNumber</th>\n",
       "      <th>yearsInBldgMean</th>\n",
       "      <th>aprtmentSizeMeanStay</th>\n",
       "      <th>aprtmentSizeNewComer</th>\n",
       "      <th>AgeMean</th>\n",
       "      <th>AgeMeanNew</th>\n",
       "      <th>AgeMeanStay</th>\n",
       "      <th>AgeOldStayNew</th>\n",
       "      <th>AgeYoungStayNew</th>\n",
       "      <th>AgeOldStay</th>\n",
       "      <th>AgeYoungStay</th>\n",
       "      <th>AgeOldNew</th>\n",
       "      <th>AgeYoungNew</th>\n",
       "      <th>IncomeHighStay</th>\n",
       "      <th>IncomeMedStay</th>\n",
       "      <th>IncomeLowStay</th>\n",
       "      <th>IncomeHighNew</th>\n",
       "      <th>IncomeMedNew</th>\n",
       "      <th>IncomeLowNew</th>\n",
       "      <th>IncomeHighStayNew</th>\n",
       "      <th>IncomeMedStayNew</th>\n",
       "      <th>IncomeLowStayNew</th>\n",
       "      <th>meanIncomeStay</th>\n",
       "      <th>meanIncomeNewComers</th>\n",
       "      <th>meanIncomeStay_N_new</th>\n",
       "      <th>rentCount</th>\n",
       "      <th>ownCount</th>\n",
       "      <th>rentStayCount</th>\n",
       "      <th>rentNewCount</th>\n",
       "      <th>ownStayCount</th>\n",
       "      <th>ownNewCount</th>\n",
       "      <th>TotalAgentsCount</th>\n",
       "      <th>prjectType</th>\n",
       "      <th>tic</th>\n",
       "      <th>stay</th>\n",
       "      <th>new comers</th>\n",
       "      <th>CostForStaying</th>\n",
       "      <th>rentPrice</th>\n",
       "      <th>leave</th>\n",
       "      <th>ProjectTypeDesc</th>\n",
       "    </tr>\n",
       "  </thead>\n",
       "  <tbody>\n",
       "    <tr>\n",
       "      <th>1</th>\n",
       "      <td>1</td>\n",
       "      <td>75.337691</td>\n",
       "      <td>20180988</td>\n",
       "      <td>22.810458</td>\n",
       "      <td>75.081448</td>\n",
       "      <td>82.000000</td>\n",
       "      <td>48.409586</td>\n",
       "      <td>48.470588</td>\n",
       "      <td>48.407240</td>\n",
       "      <td>255.0</td>\n",
       "      <td>663.0</td>\n",
       "      <td>248.0</td>\n",
       "      <td>636.0</td>\n",
       "      <td>7.0</td>\n",
       "      <td>27.0</td>\n",
       "      <td>0.0</td>\n",
       "      <td>369.0</td>\n",
       "      <td>515.0</td>\n",
       "      <td>23.0</td>\n",
       "      <td>11.0</td>\n",
       "      <td>0.0</td>\n",
       "      <td>23.0</td>\n",
       "      <td>380.0</td>\n",
       "      <td>515.0</td>\n",
       "      <td>7699.251131</td>\n",
       "      <td>20246.763158</td>\n",
       "      <td>8163.973799</td>\n",
       "      <td>321</td>\n",
       "      <td>597</td>\n",
       "      <td>310.0</td>\n",
       "      <td>11.0</td>\n",
       "      <td>574.0</td>\n",
       "      <td>23.0</td>\n",
       "      <td>918</td>\n",
       "      <td>1</td>\n",
       "      <td>1</td>\n",
       "      <td>884</td>\n",
       "      <td>34.0</td>\n",
       "      <td>255.628170</td>\n",
       "      <td>0</td>\n",
       "      <td>13</td>\n",
       "      <td>Addition</td>\n",
       "    </tr>\n",
       "    <tr>\n",
       "      <th>2</th>\n",
       "      <td>2</td>\n",
       "      <td>75.616379</td>\n",
       "      <td>20100133</td>\n",
       "      <td>22.141164</td>\n",
       "      <td>75.175115</td>\n",
       "      <td>82.000000</td>\n",
       "      <td>48.483836</td>\n",
       "      <td>48.483333</td>\n",
       "      <td>48.483871</td>\n",
       "      <td>256.0</td>\n",
       "      <td>672.0</td>\n",
       "      <td>243.0</td>\n",
       "      <td>625.0</td>\n",
       "      <td>13.0</td>\n",
       "      <td>47.0</td>\n",
       "      <td>0.0</td>\n",
       "      <td>364.0</td>\n",
       "      <td>504.0</td>\n",
       "      <td>40.0</td>\n",
       "      <td>20.0</td>\n",
       "      <td>0.0</td>\n",
       "      <td>40.0</td>\n",
       "      <td>384.0</td>\n",
       "      <td>504.0</td>\n",
       "      <td>7697.449309</td>\n",
       "      <td>20174.978070</td>\n",
       "      <td>8504.186082</td>\n",
       "      <td>325</td>\n",
       "      <td>603</td>\n",
       "      <td>304.0</td>\n",
       "      <td>21.0</td>\n",
       "      <td>564.0</td>\n",
       "      <td>39.0</td>\n",
       "      <td>928</td>\n",
       "      <td>1</td>\n",
       "      <td>2</td>\n",
       "      <td>868</td>\n",
       "      <td>60.0</td>\n",
       "      <td>441.070496</td>\n",
       "      <td>0</td>\n",
       "      <td>29</td>\n",
       "      <td>Addition</td>\n",
       "    </tr>\n",
       "    <tr>\n",
       "      <th>3</th>\n",
       "      <td>3</td>\n",
       "      <td>75.587302</td>\n",
       "      <td>20180812</td>\n",
       "      <td>21.439153</td>\n",
       "      <td>75.629977</td>\n",
       "      <td>75.186813</td>\n",
       "      <td>48.366138</td>\n",
       "      <td>49.307692</td>\n",
       "      <td>48.265808</td>\n",
       "      <td>256.0</td>\n",
       "      <td>689.0</td>\n",
       "      <td>236.0</td>\n",
       "      <td>618.0</td>\n",
       "      <td>20.0</td>\n",
       "      <td>71.0</td>\n",
       "      <td>0.0</td>\n",
       "      <td>356.0</td>\n",
       "      <td>498.0</td>\n",
       "      <td>40.0</td>\n",
       "      <td>51.0</td>\n",
       "      <td>0.0</td>\n",
       "      <td>40.0</td>\n",
       "      <td>407.0</td>\n",
       "      <td>498.0</td>\n",
       "      <td>7658.194379</td>\n",
       "      <td>18781.043378</td>\n",
       "      <td>8729.283542</td>\n",
       "      <td>324</td>\n",
       "      <td>621</td>\n",
       "      <td>297.0</td>\n",
       "      <td>27.0</td>\n",
       "      <td>557.0</td>\n",
       "      <td>64.0</td>\n",
       "      <td>945</td>\n",
       "      <td>1</td>\n",
       "      <td>3</td>\n",
       "      <td>854</td>\n",
       "      <td>91.0</td>\n",
       "      <td>606.108847</td>\n",
       "      <td>0</td>\n",
       "      <td>43</td>\n",
       "      <td>Addition</td>\n",
       "    </tr>\n",
       "    <tr>\n",
       "      <th>4</th>\n",
       "      <td>4</td>\n",
       "      <td>76.027112</td>\n",
       "      <td>20181092</td>\n",
       "      <td>20.617310</td>\n",
       "      <td>75.605232</td>\n",
       "      <td>79.033898</td>\n",
       "      <td>48.442127</td>\n",
       "      <td>50.067797</td>\n",
       "      <td>48.214031</td>\n",
       "      <td>258.0</td>\n",
       "      <td>701.0</td>\n",
       "      <td>231.0</td>\n",
       "      <td>610.0</td>\n",
       "      <td>27.0</td>\n",
       "      <td>91.0</td>\n",
       "      <td>0.0</td>\n",
       "      <td>350.0</td>\n",
       "      <td>491.0</td>\n",
       "      <td>66.0</td>\n",
       "      <td>52.0</td>\n",
       "      <td>0.0</td>\n",
       "      <td>66.0</td>\n",
       "      <td>402.0</td>\n",
       "      <td>491.0</td>\n",
       "      <td>7639.385256</td>\n",
       "      <td>19569.922391</td>\n",
       "      <td>9107.376269</td>\n",
       "      <td>329</td>\n",
       "      <td>630</td>\n",
       "      <td>291.0</td>\n",
       "      <td>38.0</td>\n",
       "      <td>550.0</td>\n",
       "      <td>80.0</td>\n",
       "      <td>959</td>\n",
       "      <td>1</td>\n",
       "      <td>4</td>\n",
       "      <td>841</td>\n",
       "      <td>118.0</td>\n",
       "      <td>810.857831</td>\n",
       "      <td>0</td>\n",
       "      <td>56</td>\n",
       "      <td>Addition</td>\n",
       "    </tr>\n",
       "    <tr>\n",
       "      <th>5</th>\n",
       "      <td>5</td>\n",
       "      <td>76.627907</td>\n",
       "      <td>20171974</td>\n",
       "      <td>19.788675</td>\n",
       "      <td>75.894231</td>\n",
       "      <td>80.515924</td>\n",
       "      <td>48.542973</td>\n",
       "      <td>50.254777</td>\n",
       "      <td>48.219952</td>\n",
       "      <td>264.0</td>\n",
       "      <td>725.0</td>\n",
       "      <td>228.0</td>\n",
       "      <td>604.0</td>\n",
       "      <td>36.0</td>\n",
       "      <td>121.0</td>\n",
       "      <td>0.0</td>\n",
       "      <td>346.0</td>\n",
       "      <td>486.0</td>\n",
       "      <td>98.0</td>\n",
       "      <td>59.0</td>\n",
       "      <td>0.0</td>\n",
       "      <td>98.0</td>\n",
       "      <td>405.0</td>\n",
       "      <td>486.0</td>\n",
       "      <td>7620.582933</td>\n",
       "      <td>19983.318304</td>\n",
       "      <td>9583.120297</td>\n",
       "      <td>339</td>\n",
       "      <td>650</td>\n",
       "      <td>286.0</td>\n",
       "      <td>53.0</td>\n",
       "      <td>546.0</td>\n",
       "      <td>104.0</td>\n",
       "      <td>989</td>\n",
       "      <td>2</td>\n",
       "      <td>5</td>\n",
       "      <td>832</td>\n",
       "      <td>157.0</td>\n",
       "      <td>1067.265228</td>\n",
       "      <td>0</td>\n",
       "      <td>65</td>\n",
       "      <td>Reconstruction</td>\n",
       "    </tr>\n",
       "  </tbody>\n",
       "</table>\n",
       "</div>"
      ],
      "text/plain": [
       "   Unnamed: 0  aprtmentSizeMean ProjNumber  yearsInBldgMean  \\\n",
       "1           1         75.337691   20180988        22.810458   \n",
       "2           2         75.616379   20100133        22.141164   \n",
       "3           3         75.587302   20180812        21.439153   \n",
       "4           4         76.027112   20181092        20.617310   \n",
       "5           5         76.627907   20171974        19.788675   \n",
       "\n",
       "   aprtmentSizeMeanStay  aprtmentSizeNewComer    AgeMean  AgeMeanNew  \\\n",
       "1             75.081448             82.000000  48.409586   48.470588   \n",
       "2             75.175115             82.000000  48.483836   48.483333   \n",
       "3             75.629977             75.186813  48.366138   49.307692   \n",
       "4             75.605232             79.033898  48.442127   50.067797   \n",
       "5             75.894231             80.515924  48.542973   50.254777   \n",
       "\n",
       "   AgeMeanStay  AgeOldStayNew  AgeYoungStayNew  AgeOldStay  AgeYoungStay  \\\n",
       "1    48.407240          255.0            663.0       248.0         636.0   \n",
       "2    48.483871          256.0            672.0       243.0         625.0   \n",
       "3    48.265808          256.0            689.0       236.0         618.0   \n",
       "4    48.214031          258.0            701.0       231.0         610.0   \n",
       "5    48.219952          264.0            725.0       228.0         604.0   \n",
       "\n",
       "   AgeOldNew  AgeYoungNew  IncomeHighStay  IncomeMedStay  IncomeLowStay  \\\n",
       "1        7.0         27.0             0.0          369.0          515.0   \n",
       "2       13.0         47.0             0.0          364.0          504.0   \n",
       "3       20.0         71.0             0.0          356.0          498.0   \n",
       "4       27.0         91.0             0.0          350.0          491.0   \n",
       "5       36.0        121.0             0.0          346.0          486.0   \n",
       "\n",
       "   IncomeHighNew  IncomeMedNew  IncomeLowNew  IncomeHighStayNew  \\\n",
       "1           23.0          11.0           0.0               23.0   \n",
       "2           40.0          20.0           0.0               40.0   \n",
       "3           40.0          51.0           0.0               40.0   \n",
       "4           66.0          52.0           0.0               66.0   \n",
       "5           98.0          59.0           0.0               98.0   \n",
       "\n",
       "   IncomeMedStayNew  IncomeLowStayNew  meanIncomeStay  meanIncomeNewComers  \\\n",
       "1             380.0             515.0     7699.251131         20246.763158   \n",
       "2             384.0             504.0     7697.449309         20174.978070   \n",
       "3             407.0             498.0     7658.194379         18781.043378   \n",
       "4             402.0             491.0     7639.385256         19569.922391   \n",
       "5             405.0             486.0     7620.582933         19983.318304   \n",
       "\n",
       "   meanIncomeStay_N_new  rentCount  ownCount  rentStayCount  rentNewCount  \\\n",
       "1           8163.973799        321       597          310.0          11.0   \n",
       "2           8504.186082        325       603          304.0          21.0   \n",
       "3           8729.283542        324       621          297.0          27.0   \n",
       "4           9107.376269        329       630          291.0          38.0   \n",
       "5           9583.120297        339       650          286.0          53.0   \n",
       "\n",
       "   ownStayCount  ownNewCount  TotalAgentsCount  prjectType  tic  stay  \\\n",
       "1         574.0         23.0               918           1    1   884   \n",
       "2         564.0         39.0               928           1    2   868   \n",
       "3         557.0         64.0               945           1    3   854   \n",
       "4         550.0         80.0               959           1    4   841   \n",
       "5         546.0        104.0               989           2    5   832   \n",
       "\n",
       "   new comers  CostForStaying  rentPrice  leave ProjectTypeDesc  \n",
       "1        34.0      255.628170          0     13        Addition  \n",
       "2        60.0      441.070496          0     29        Addition  \n",
       "3        91.0      606.108847          0     43        Addition  \n",
       "4       118.0      810.857831          0     56        Addition  \n",
       "5       157.0     1067.265228          0     65  Reconstruction  "
      ]
     },
     "execution_count": 158,
     "metadata": {},
     "output_type": "execute_result"
    }
   ],
   "source": [
    "res2.head()"
   ]
  },
  {
   "cell_type": "code",
   "execution_count": 13,
   "metadata": {},
   "outputs": [],
   "source": [
    "class simWidgets:\n",
    "    styled = {'description_width': 'initial'}\n",
    "    def __init__(self):\n",
    "        self.tics =widgets.IntRangeSlider(\n",
    "            value=[0, 1],\n",
    "            min=0,\n",
    "            max=30,\n",
    "            step=1,\n",
    "            description='Simulation Tics:',\n",
    "            disabled=False,\n",
    "            continuous_update=False,\n",
    "            orientation='horizontal',\n",
    "            readout=True,\n",
    "            readout_format='d',\n",
    "            layout=Layout(width='100%'),\n",
    "            style=simWidgets.styled\n",
    "        )\n"
   ]
  },
  {
   "cell_type": "code",
   "execution_count": 14,
   "metadata": {},
   "outputs": [],
   "source": [
    "simWidg = simWidgets()\n",
    "simWidg.tics.min = ticsIndex.values.min()\n",
    "simWidg.tics.max = ticsIndex.values.max()"
   ]
  },
  {
   "cell_type": "code",
   "execution_count": 450,
   "metadata": {},
   "outputs": [],
   "source": [
    "def g(x):\n",
    "    startTic = x[0]\n",
    "    lastTic = x[1]\n",
    "    if lastTic>0:\n",
    "        if startTic==11:\n",
    "            startTic=12\n",
    "        if lastTic==11:\n",
    "            lastTic=12\n",
    "        projectNum = projNumberTicDict[lastTic]\n",
    "        bldNumber = projBldNumberDict[projectNum]\n",
    "        hebAddres = bldDictAddress[bldNumber]\n",
    "        projectTypeDesc = res2.query(f'tic=={lastTic}')['ProjectTypeDesc'].values[0]\n",
    "        h = HTML(value=f\"<h2>Execution: {x[1]} &nbsp; Project Number: {projectNum}<br/> Hebrew Address: {hebAddres}<br/>Project Type: {projectTypeDesc}</h2>\")\n",
    "        figure_1(startTic,lastTic)\n",
    "        figure_2(startTic,lastTic)\n",
    "        figure_3(startTic,lastTic)\n",
    "        figure_4(startTic,lastTic)\n",
    "        figure_5(startTic,lastTic)\n",
    "        figure_6(lastTic)\n",
    "        display(h)\n",
    "    else:\n",
    "        h = HTML(value=f\"<h2>Tick: {x[1]}</h2>\")\n",
    "        display(h)\n",
    "    #return (x[0]*2)"
   ]
  },
  {
   "cell_type": "code",
   "execution_count": 451,
   "metadata": {},
   "outputs": [
    {
     "data": {
      "application/vnd.jupyter.widget-view+json": {
       "model_id": "cf14b11474574963b3665653fcbeb818",
       "version_major": 2,
       "version_minor": 0
      },
      "text/plain": [
       "interactive(children=(IntRangeSlider(value=(1, 13), continuous_update=False, description='Simulation Tics:', l…"
      ]
     },
     "metadata": {},
     "output_type": "display_data"
    }
   ],
   "source": [
    "i = interact_manual(g, x=simWidg.tics)\n",
    "i.widget.children[1].description = 'Submit'\n"
   ]
  },
  {
   "cell_type": "code",
   "execution_count": 163,
   "metadata": {},
   "outputs": [
    {
     "data": {
      "text/plain": [
       "'Reconstruction'"
      ]
     },
     "execution_count": 163,
     "metadata": {},
     "output_type": "execute_result"
    }
   ],
   "source": [
    "res2.query(f'tic=={10}')['ProjectTypeDesc'].values[0]"
   ]
  },
  {
   "cell_type": "code",
   "execution_count": 17,
   "metadata": {},
   "outputs": [
    {
     "data": {
      "text/html": [
       "<div>\n",
       "<style scoped>\n",
       "    .dataframe tbody tr th:only-of-type {\n",
       "        vertical-align: middle;\n",
       "    }\n",
       "\n",
       "    .dataframe tbody tr th {\n",
       "        vertical-align: top;\n",
       "    }\n",
       "\n",
       "    .dataframe thead th {\n",
       "        text-align: right;\n",
       "    }\n",
       "</style>\n",
       "<table border=\"1\" class=\"dataframe\">\n",
       "  <thead>\n",
       "    <tr style=\"text-align: right;\">\n",
       "      <th></th>\n",
       "      <th>Unnamed: 0</th>\n",
       "      <th>aprtmentSizeMean</th>\n",
       "      <th>ProjNumber</th>\n",
       "      <th>yearsInBldgMean</th>\n",
       "      <th>aprtmentSizeMeanStay</th>\n",
       "      <th>aprtmentSizeNewComer</th>\n",
       "      <th>AgeMean</th>\n",
       "      <th>AgeMeanNew</th>\n",
       "      <th>AgeMeanStay</th>\n",
       "      <th>AgeOldStayNew</th>\n",
       "      <th>AgeYoungStayNew</th>\n",
       "      <th>AgeOldStay</th>\n",
       "      <th>AgeYoungStay</th>\n",
       "      <th>AgeOldNew</th>\n",
       "      <th>AgeYoungNew</th>\n",
       "      <th>IncomeHighStay</th>\n",
       "      <th>IncomeMedStay</th>\n",
       "      <th>IncomeLowStay</th>\n",
       "      <th>IncomeHighNew</th>\n",
       "      <th>IncomeMedNew</th>\n",
       "      <th>IncomeLowNew</th>\n",
       "      <th>IncomeHighStayNew</th>\n",
       "      <th>IncomeMedStayNew</th>\n",
       "      <th>IncomeLowStayNew</th>\n",
       "      <th>meanIncomeStay</th>\n",
       "      <th>meanIncomeNewComers</th>\n",
       "      <th>meanIncomeStay_N_new</th>\n",
       "      <th>rentCount</th>\n",
       "      <th>ownCount</th>\n",
       "      <th>rentStayCount</th>\n",
       "      <th>rentNewCount</th>\n",
       "      <th>ownStayCount</th>\n",
       "      <th>ownNewCount</th>\n",
       "      <th>TotalAgentsCount</th>\n",
       "      <th>prjectType</th>\n",
       "      <th>tic</th>\n",
       "      <th>stay</th>\n",
       "      <th>new comers</th>\n",
       "      <th>CostForStaying</th>\n",
       "      <th>rentPrice</th>\n",
       "      <th>leave</th>\n",
       "    </tr>\n",
       "  </thead>\n",
       "  <tbody>\n",
       "    <tr>\n",
       "      <th>0</th>\n",
       "      <td>0</td>\n",
       "      <td>74.914158</td>\n",
       "      <td>NaN</td>\n",
       "      <td>23.526198</td>\n",
       "      <td>NaN</td>\n",
       "      <td>NaN</td>\n",
       "      <td>48.357860</td>\n",
       "      <td>NaN</td>\n",
       "      <td>NaN</td>\n",
       "      <td>NaN</td>\n",
       "      <td>NaN</td>\n",
       "      <td>NaN</td>\n",
       "      <td>NaN</td>\n",
       "      <td>NaN</td>\n",
       "      <td>NaN</td>\n",
       "      <td>NaN</td>\n",
       "      <td>NaN</td>\n",
       "      <td>NaN</td>\n",
       "      <td>NaN</td>\n",
       "      <td>NaN</td>\n",
       "      <td>NaN</td>\n",
       "      <td>NaN</td>\n",
       "      <td>NaN</td>\n",
       "      <td>NaN</td>\n",
       "      <td>NaN</td>\n",
       "      <td>NaN</td>\n",
       "      <td>NaN</td>\n",
       "      <td>318</td>\n",
       "      <td>579</td>\n",
       "      <td>NaN</td>\n",
       "      <td>NaN</td>\n",
       "      <td>NaN</td>\n",
       "      <td>NaN</td>\n",
       "      <td>897</td>\n",
       "      <td>0</td>\n",
       "      <td>0</td>\n",
       "      <td>897</td>\n",
       "      <td>NaN</td>\n",
       "      <td>NaN</td>\n",
       "      <td>0</td>\n",
       "      <td>0</td>\n",
       "    </tr>\n",
       "    <tr>\n",
       "      <th>1</th>\n",
       "      <td>1</td>\n",
       "      <td>75.337691</td>\n",
       "      <td>20180988</td>\n",
       "      <td>22.810458</td>\n",
       "      <td>75.081448</td>\n",
       "      <td>82.000000</td>\n",
       "      <td>48.409586</td>\n",
       "      <td>48.470588</td>\n",
       "      <td>48.407240</td>\n",
       "      <td>255.0</td>\n",
       "      <td>663.0</td>\n",
       "      <td>248.0</td>\n",
       "      <td>636.0</td>\n",
       "      <td>7.0</td>\n",
       "      <td>27.0</td>\n",
       "      <td>0.0</td>\n",
       "      <td>369.0</td>\n",
       "      <td>515.0</td>\n",
       "      <td>23.0</td>\n",
       "      <td>11.0</td>\n",
       "      <td>0.0</td>\n",
       "      <td>23.0</td>\n",
       "      <td>380.0</td>\n",
       "      <td>515.0</td>\n",
       "      <td>7699.251131</td>\n",
       "      <td>20246.763158</td>\n",
       "      <td>8163.973799</td>\n",
       "      <td>321</td>\n",
       "      <td>597</td>\n",
       "      <td>310.0</td>\n",
       "      <td>11.0</td>\n",
       "      <td>574.0</td>\n",
       "      <td>23.0</td>\n",
       "      <td>918</td>\n",
       "      <td>1</td>\n",
       "      <td>1</td>\n",
       "      <td>884</td>\n",
       "      <td>34.0</td>\n",
       "      <td>255.628170</td>\n",
       "      <td>0</td>\n",
       "      <td>13</td>\n",
       "    </tr>\n",
       "    <tr>\n",
       "      <th>2</th>\n",
       "      <td>2</td>\n",
       "      <td>75.616379</td>\n",
       "      <td>20100133</td>\n",
       "      <td>22.141164</td>\n",
       "      <td>75.175115</td>\n",
       "      <td>82.000000</td>\n",
       "      <td>48.483836</td>\n",
       "      <td>48.483333</td>\n",
       "      <td>48.483871</td>\n",
       "      <td>256.0</td>\n",
       "      <td>672.0</td>\n",
       "      <td>243.0</td>\n",
       "      <td>625.0</td>\n",
       "      <td>13.0</td>\n",
       "      <td>47.0</td>\n",
       "      <td>0.0</td>\n",
       "      <td>364.0</td>\n",
       "      <td>504.0</td>\n",
       "      <td>40.0</td>\n",
       "      <td>20.0</td>\n",
       "      <td>0.0</td>\n",
       "      <td>40.0</td>\n",
       "      <td>384.0</td>\n",
       "      <td>504.0</td>\n",
       "      <td>7697.449309</td>\n",
       "      <td>20174.978070</td>\n",
       "      <td>8504.186082</td>\n",
       "      <td>325</td>\n",
       "      <td>603</td>\n",
       "      <td>304.0</td>\n",
       "      <td>21.0</td>\n",
       "      <td>564.0</td>\n",
       "      <td>39.0</td>\n",
       "      <td>928</td>\n",
       "      <td>1</td>\n",
       "      <td>2</td>\n",
       "      <td>868</td>\n",
       "      <td>60.0</td>\n",
       "      <td>441.070496</td>\n",
       "      <td>0</td>\n",
       "      <td>29</td>\n",
       "    </tr>\n",
       "    <tr>\n",
       "      <th>3</th>\n",
       "      <td>3</td>\n",
       "      <td>75.587302</td>\n",
       "      <td>20180812</td>\n",
       "      <td>21.439153</td>\n",
       "      <td>75.629977</td>\n",
       "      <td>75.186813</td>\n",
       "      <td>48.366138</td>\n",
       "      <td>49.307692</td>\n",
       "      <td>48.265808</td>\n",
       "      <td>256.0</td>\n",
       "      <td>689.0</td>\n",
       "      <td>236.0</td>\n",
       "      <td>618.0</td>\n",
       "      <td>20.0</td>\n",
       "      <td>71.0</td>\n",
       "      <td>0.0</td>\n",
       "      <td>356.0</td>\n",
       "      <td>498.0</td>\n",
       "      <td>40.0</td>\n",
       "      <td>51.0</td>\n",
       "      <td>0.0</td>\n",
       "      <td>40.0</td>\n",
       "      <td>407.0</td>\n",
       "      <td>498.0</td>\n",
       "      <td>7658.194379</td>\n",
       "      <td>18781.043378</td>\n",
       "      <td>8729.283542</td>\n",
       "      <td>324</td>\n",
       "      <td>621</td>\n",
       "      <td>297.0</td>\n",
       "      <td>27.0</td>\n",
       "      <td>557.0</td>\n",
       "      <td>64.0</td>\n",
       "      <td>945</td>\n",
       "      <td>1</td>\n",
       "      <td>3</td>\n",
       "      <td>854</td>\n",
       "      <td>91.0</td>\n",
       "      <td>606.108847</td>\n",
       "      <td>0</td>\n",
       "      <td>43</td>\n",
       "    </tr>\n",
       "    <tr>\n",
       "      <th>4</th>\n",
       "      <td>4</td>\n",
       "      <td>76.027112</td>\n",
       "      <td>20181092</td>\n",
       "      <td>20.617310</td>\n",
       "      <td>75.605232</td>\n",
       "      <td>79.033898</td>\n",
       "      <td>48.442127</td>\n",
       "      <td>50.067797</td>\n",
       "      <td>48.214031</td>\n",
       "      <td>258.0</td>\n",
       "      <td>701.0</td>\n",
       "      <td>231.0</td>\n",
       "      <td>610.0</td>\n",
       "      <td>27.0</td>\n",
       "      <td>91.0</td>\n",
       "      <td>0.0</td>\n",
       "      <td>350.0</td>\n",
       "      <td>491.0</td>\n",
       "      <td>66.0</td>\n",
       "      <td>52.0</td>\n",
       "      <td>0.0</td>\n",
       "      <td>66.0</td>\n",
       "      <td>402.0</td>\n",
       "      <td>491.0</td>\n",
       "      <td>7639.385256</td>\n",
       "      <td>19569.922391</td>\n",
       "      <td>9107.376269</td>\n",
       "      <td>329</td>\n",
       "      <td>630</td>\n",
       "      <td>291.0</td>\n",
       "      <td>38.0</td>\n",
       "      <td>550.0</td>\n",
       "      <td>80.0</td>\n",
       "      <td>959</td>\n",
       "      <td>1</td>\n",
       "      <td>4</td>\n",
       "      <td>841</td>\n",
       "      <td>118.0</td>\n",
       "      <td>810.857831</td>\n",
       "      <td>0</td>\n",
       "      <td>56</td>\n",
       "    </tr>\n",
       "  </tbody>\n",
       "</table>\n",
       "</div>"
      ],
      "text/plain": [
       "   Unnamed: 0  aprtmentSizeMean ProjNumber  yearsInBldgMean  \\\n",
       "0           0         74.914158        NaN        23.526198   \n",
       "1           1         75.337691   20180988        22.810458   \n",
       "2           2         75.616379   20100133        22.141164   \n",
       "3           3         75.587302   20180812        21.439153   \n",
       "4           4         76.027112   20181092        20.617310   \n",
       "\n",
       "   aprtmentSizeMeanStay  aprtmentSizeNewComer    AgeMean  AgeMeanNew  \\\n",
       "0                   NaN                   NaN  48.357860         NaN   \n",
       "1             75.081448             82.000000  48.409586   48.470588   \n",
       "2             75.175115             82.000000  48.483836   48.483333   \n",
       "3             75.629977             75.186813  48.366138   49.307692   \n",
       "4             75.605232             79.033898  48.442127   50.067797   \n",
       "\n",
       "   AgeMeanStay  AgeOldStayNew  AgeYoungStayNew  AgeOldStay  AgeYoungStay  \\\n",
       "0          NaN            NaN              NaN         NaN           NaN   \n",
       "1    48.407240          255.0            663.0       248.0         636.0   \n",
       "2    48.483871          256.0            672.0       243.0         625.0   \n",
       "3    48.265808          256.0            689.0       236.0         618.0   \n",
       "4    48.214031          258.0            701.0       231.0         610.0   \n",
       "\n",
       "   AgeOldNew  AgeYoungNew  IncomeHighStay  IncomeMedStay  IncomeLowStay  \\\n",
       "0        NaN          NaN             NaN            NaN            NaN   \n",
       "1        7.0         27.0             0.0          369.0          515.0   \n",
       "2       13.0         47.0             0.0          364.0          504.0   \n",
       "3       20.0         71.0             0.0          356.0          498.0   \n",
       "4       27.0         91.0             0.0          350.0          491.0   \n",
       "\n",
       "   IncomeHighNew  IncomeMedNew  IncomeLowNew  IncomeHighStayNew  \\\n",
       "0            NaN           NaN           NaN                NaN   \n",
       "1           23.0          11.0           0.0               23.0   \n",
       "2           40.0          20.0           0.0               40.0   \n",
       "3           40.0          51.0           0.0               40.0   \n",
       "4           66.0          52.0           0.0               66.0   \n",
       "\n",
       "   IncomeMedStayNew  IncomeLowStayNew  meanIncomeStay  meanIncomeNewComers  \\\n",
       "0               NaN               NaN             NaN                  NaN   \n",
       "1             380.0             515.0     7699.251131         20246.763158   \n",
       "2             384.0             504.0     7697.449309         20174.978070   \n",
       "3             407.0             498.0     7658.194379         18781.043378   \n",
       "4             402.0             491.0     7639.385256         19569.922391   \n",
       "\n",
       "   meanIncomeStay_N_new  rentCount  ownCount  rentStayCount  rentNewCount  \\\n",
       "0                   NaN        318       579            NaN           NaN   \n",
       "1           8163.973799        321       597          310.0          11.0   \n",
       "2           8504.186082        325       603          304.0          21.0   \n",
       "3           8729.283542        324       621          297.0          27.0   \n",
       "4           9107.376269        329       630          291.0          38.0   \n",
       "\n",
       "   ownStayCount  ownNewCount  TotalAgentsCount  prjectType  tic  stay  \\\n",
       "0           NaN          NaN               897           0    0   897   \n",
       "1         574.0         23.0               918           1    1   884   \n",
       "2         564.0         39.0               928           1    2   868   \n",
       "3         557.0         64.0               945           1    3   854   \n",
       "4         550.0         80.0               959           1    4   841   \n",
       "\n",
       "   new comers  CostForStaying  rentPrice  leave  \n",
       "0         NaN             NaN          0      0  \n",
       "1        34.0      255.628170          0     13  \n",
       "2        60.0      441.070496          0     29  \n",
       "3        91.0      606.108847          0     43  \n",
       "4       118.0      810.857831          0     56  "
      ]
     },
     "execution_count": 17,
     "metadata": {},
     "output_type": "execute_result"
    }
   ],
   "source": [
    "aggResByTic.head()"
   ]
  },
  {
   "cell_type": "code",
   "execution_count": 18,
   "metadata": {},
   "outputs": [],
   "source": []
  },
  {
   "cell_type": "code",
   "execution_count": null,
   "metadata": {},
   "outputs": [],
   "source": [
    "\n"
   ]
  },
  {
   "cell_type": "code",
   "execution_count": 19,
   "metadata": {},
   "outputs": [],
   "source": [
    "    stayingC = colorExcel.query('label==\"Staying\"')['colors_'].values[0]\n",
    "    leavingC = colorExcel.query('label==\"Leaving\"')['colors_'].values[0]\n",
    "    newComerC = colorExcel.query('label==\"New Comers\"')['colors_'].values[0]\n",
    "    aC = colorExcel.query('label==\"Addition\"')['colors_'].values[0]\n",
    "    rC = colorExcel.query('label==\"Reconstruction\"')['colors_'].values[0]\n",
    "    rrC = colorExcel.query('label==\"Raze and Rebuild\"')['colors_'].values[0]\n",
    "    totalPopC = colorExcel.query('label==\"Total Pop\"')['colors_'].values[0]\n",
    "\n",
    "    lowIncomeC = colorExcel.loc[colorExcel['label']=='Moderate','colors_'].values[0]\n",
    "    medIncomeC = colorExcel.loc[colorExcel['label']=='Middle','colors_'].values[0]\n",
    "    upIncomeC = colorExcel.loc[colorExcel['label']=='Upper','colors_'].values[0]\n"
   ]
  },
  {
   "cell_type": "code",
   "execution_count": 38,
   "metadata": {},
   "outputs": [],
   "source": [
    "def figure_1(start=1,end=1):\n",
    "    widthD=800\n",
    "    genericGraph = res2.query(f\"tic>={start} & tic<={end}\").copy()\n",
    "    genericGraph.loc[genericGraph['prjectType']==1,'Project Type '] = 'Addition'\n",
    "    genericGraph.loc[genericGraph['prjectType']==2,'Project Type '] = 'Reconstruction'\n",
    "    genericGraph.loc[genericGraph['prjectType']==3,'Project Type '] = 'Raze and Rebuild'\n",
    "    genericGraph['y_shift'] =-20\n",
    "    # Change the bar mode\n",
    "    aTics = genericGraph.loc[genericGraph['prjectType'] == 1, 'tic']\n",
    "    aYshift =genericGraph.loc[genericGraph['prjectType'] == 1, 'y_shift']\n",
    "\n",
    "    rTics = genericGraph.loc[genericGraph['prjectType'] == 2, 'tic']\n",
    "    rYshift = genericGraph.loc[genericGraph['prjectType'] == 2, 'y_shift']\n",
    "\n",
    "    rrTics = genericGraph.loc[genericGraph['prjectType'] == 3, 'tic']\n",
    "    rrYshift = genericGraph.loc[genericGraph['prjectType'] == 3, 'y_shift']\n",
    "    titlesList = ['Staying','New Comers','Total (Staying+New Comers)']\n",
    "    colList = ['stay','new comers','TotalAgentsCount']\n",
    "    colorList = [stayingC,newComerC,totalPopC]\n",
    "    styleList = [dict(color=stayingC, width=4), dict(color=newComerC, width=4), dict(color=totalPopC, dash='dash')] \n",
    "\n",
    "\n",
    "    fig = go.Figure()\n",
    "    for i in range(3):\n",
    "        fig.add_trace(go.Scatter(\n",
    "            x=genericGraph['tic'],\n",
    "            y=genericGraph[colList[i]],\n",
    "            line=styleList[i],\n",
    "            name=titlesList[i]\n",
    "        ))\n",
    "\n",
    "\n",
    "    maxY=3300\n",
    "    for xtic in aTics:\n",
    "        fig.add_shape(type=\"line\", x0=xtic, y0=0, x1=xtic, y1=maxY, line=dict(\n",
    "            color=aC, width=1.5, dash=\"dot\"), layer=\"below\")\n",
    "\n",
    "    for xtic in rTics:\n",
    "        fig.add_shape(type=\"line\", x0=xtic, y0=0, x1=xtic, y1=maxY, line=dict(\n",
    "            color=rC, width=1.5, dash=\"dot\"), layer=\"below\")\n",
    "\n",
    "    for xtic in rrTics:\n",
    "        fig.add_shape(type=\"line\", x0=xtic, y0=0, x1=xtic, y1=maxY,\n",
    "                      line=dict(color=rrC, width=1.5, dash=\"dot\"), layer=\"below\")\n",
    "\n",
    "\n",
    "    fig.add_trace(go.Scatter(name='Addition', x=aTics, y=aYshift,\n",
    "                             mode='markers', marker=dict(color=aC)))\n",
    "    fig.add_trace(go.Scatter(name='Reconstruction', x=rTics, y=rYshift,\n",
    "                             mode='markers', marker=dict(color=rC)))\n",
    "    fig.add_trace(go.Scatter(name='Raze and Rebuild', x=rrTics,\n",
    "                             y=rrYshift, mode='markers', marker=dict(color=rrC)))\n",
    "\n",
    "    fig.update_layout(width=widthD,height=heightD, title='Household Absolute change within simulation tics')\n",
    "    fig.update_yaxes(title='Household Count',range=[-100, maxY],gridwidth=1, gridcolor=gridBG,zerolinewidth=1,zerolinecolor='lightgrey')\n",
    "    fig.update_xaxes(title='Simulation tic',gridwidth=1, gridcolor=gridBG,zerolinewidth=1,zerolinecolor='lightgrey')\n",
    "    fig.update_layout(showlegend=True,plot_bgcolor='rgba(0,0,0,0)',legend=dict(yanchor=\"top\", y=0.99, xanchor=\"left\", x=0.01,bgcolor='rgba(255,255,255,0.75)'))\n",
    "    with out1:\n",
    "        out1.clear_output()\n",
    "        fig.show()"
   ]
  },
  {
   "cell_type": "code",
   "execution_count": 21,
   "metadata": {},
   "outputs": [
    {
     "data": {
      "application/vnd.jupyter.widget-view+json": {
       "model_id": "c541554f6a444bff8285e5f5dd359dfc",
       "version_major": 2,
       "version_minor": 0
      },
      "text/plain": [
       "Output()"
      ]
     },
     "metadata": {},
     "output_type": "display_data"
    }
   ],
   "source": [
    "out1 = widgets.Output()\n",
    "out1"
   ]
  },
  {
   "cell_type": "code",
   "execution_count": 39,
   "metadata": {},
   "outputs": [],
   "source": [
    "def figure_2(start,end):\n",
    "    widthD=800\n",
    "    genericGraph = res2.query(f\"tic>={start} & tic<={end}\").copy()\n",
    "    title_ ='Percent Income by Group Staying Vs New Comers'\n",
    "    y_title = 'Household Percent'\n",
    "    columnsList = ['IncomeHighStay','IncomeMedStay','IncomeLowStay','IncomeHighNew','IncomeMedNew','IncomeLowNew','IncomeHighStayNew','IncomeMedStayNew','IncomeLowStayNew']\n",
    "    titlesList = ['High Stay','Med Stay','Low Stay','High New Comer','Med New Comer','Low New Comer','High (average)','Medium (average)','Low (average)']\n",
    "    legendGroup =['Staying','Staying','Staying','New Comers','New Comers','New Comers','Average','Average','Average']\n",
    "    styleList = [dict(color=upIncomeC,width=2),\n",
    "                 dict(color=medIncomeC,width=2),\n",
    "                 dict(color=lowIncomeC,width=2),\n",
    "                 dict(color=upIncomeC,width=4),\n",
    "                 dict(color=medIncomeC,width=4),\n",
    "                 dict(color=lowIncomeC,width=4),\n",
    "                 dict(color='hsv(30,50%,100%)',dash='dash'),\n",
    "                 dict(color='hsv(30,75%,100%)', dash='dash'),\n",
    "                 dict(color='hsv(30,100%,50%)', dash='dash')]\n",
    "    percentList=[]\n",
    "    for i in range(9):\n",
    "        percentList.append(f'{columnsList[i]}Percent')\n",
    "        genericGraph[percentList[i]] = genericGraph[columnsList[i]]/genericGraph['TotalAgentsCount']\n",
    "    genericGraph['y_shift'] =-0.02\n",
    "    # Change the bar mode\n",
    "    aTics = genericGraph.loc[genericGraph['prjectType'] == 1, 'tic']\n",
    "    rTics = genericGraph.loc[genericGraph['prjectType'] == 2, 'tic']\n",
    "    rrTics = genericGraph.loc[genericGraph['prjectType'] == 3, 'tic']\n",
    "    \n",
    "    aYshift =genericGraph.loc[genericGraph['prjectType'] == 1, 'y_shift']\n",
    "    rYshift = genericGraph.loc[genericGraph['prjectType'] == 2, 'y_shift']\n",
    "    rrYshift = genericGraph.loc[genericGraph['prjectType'] == 3, 'y_shift']\n",
    "    maxY=1\n",
    "    fig = go.Figure()\n",
    "    for i in range(9):\n",
    "        fig.add_trace(go.Scatter(\n",
    "            x=genericGraph['tic'],\n",
    "            y=genericGraph[percentList[i]],\n",
    "            legendgroup = legendGroup[i],\n",
    "            line=styleList[i],\n",
    "            name=titlesList[i]\n",
    "        ))\n",
    "    for xtic in aTics:\n",
    "        fig.add_shape(type=\"line\", x0=xtic, y0=0, x1=xtic, y1=maxY, line=dict(\n",
    "            color=aC, width=1.5, dash=\"dot\"), layer=\"below\")\n",
    "\n",
    "    for xtic in rTics:\n",
    "        fig.add_shape(type=\"line\", x0=xtic, y0=0, x1=xtic, y1=maxY, line=dict(\n",
    "            color=rC, width=1.5, dash=\"dot\"), layer=\"below\")\n",
    "\n",
    "    for xtic in rrTics:\n",
    "        fig.add_shape(type=\"line\", x0=xtic, y0=0, x1=xtic, y1=maxY,\n",
    "                      line=dict(color=rrC, width=1.5, dash=\"dot\"), layer=\"below\")\n",
    "\n",
    "    fig.add_trace(go.Scatter(name='Addition', x=aTics, y=aYshift,\n",
    "                             mode='markers', legendgroup='Building Type', marker=dict(color=aC)))\n",
    "    fig.add_trace(go.Scatter(name='Reconstruction',legendgroup='Building Type',  x=rTics, y=rYshift,\n",
    "                             mode='markers', marker=dict(color=rC)))\n",
    "    fig.add_trace(go.Scatter(name='Raze and Rebuild',legendgroup='Building Type',  x=rrTics,\n",
    "                             y=rrYshift, mode='markers', marker=dict(color=rrC)))\n",
    "\n",
    "\n",
    "    fig.update_layout(width=widthD,height=heightD, title=title_)\n",
    "    fig.update_yaxes(title=y_title,range=[-0.05, maxY],gridwidth=1, gridcolor=gridBG,zerolinewidth=1,zerolinecolor='lightgrey')\n",
    "\n",
    "    fig.update_xaxes(title='Simulation tic',gridwidth=1, gridcolor=gridBG,zerolinewidth=1,zerolinecolor='lightgrey')\n",
    "    fig.update_layout(showlegend=True,plot_bgcolor='rgba(0,0,0,0)',legend=dict(orientation='h',yanchor=\"top\", y=1.0, xanchor=\"left\", x=0.03,bgcolor='rgba(255,255,255,0.5)'))\n",
    "\n",
    "    with out2:\n",
    "        out2.clear_output()\n",
    "        fig.show()"
   ]
  },
  {
   "cell_type": "code",
   "execution_count": 23,
   "metadata": {},
   "outputs": [
    {
     "data": {
      "application/vnd.jupyter.widget-view+json": {
       "model_id": "22bc1f0864894b92b403d3cb59146aa4",
       "version_major": 2,
       "version_minor": 0
      },
      "text/plain": [
       "Output()"
      ]
     },
     "metadata": {},
     "output_type": "display_data"
    }
   ],
   "source": [
    "out2 = widgets.Output()\n",
    "out2"
   ]
  },
  {
   "cell_type": "code",
   "execution_count": 375,
   "metadata": {},
   "outputs": [],
   "source": [
    "figure_2(1,10)"
   ]
  },
  {
   "cell_type": "code",
   "execution_count": 135,
   "metadata": {},
   "outputs": [],
   "source": [
    "def figure_3(start,end):\n",
    "    widthD=800\n",
    "\n",
    "    genericGraph = res2.query(f\"tic>={start} & tic<={end}\").copy()\n",
    "    above65C = colorExcel.loc[colorExcel['label']=='65-84','colors_'].values[0]\n",
    "    below65C = colorExcel.loc[colorExcel['label']=='18-44','colors_'].values[0]\n",
    "    averageBelowAgeC = colorExcel.loc[colorExcel['label']=='45-64','colors_'].values[0]\n",
    "    averageAboveAgeC = colorExcel.loc[colorExcel['label']=='85+','colors_'].values[0]\n",
    "    \n",
    "    title_ ='Above and Below 65 troughout the simulation'\n",
    "    y_title = 'Household Percent'\n",
    "    #totalPopC\n",
    "    columnsList = ['AgeYoungStay','AgeOldStay','AgeYoungNew','AgeOldNew','AgeYoungStayNew','AgeOldStayNew']\n",
    "    titlesList = ['Under 65 Stay','Above 65 Stay','Under 65 New Comers','Above 65 New Comers','Under 65 (Average)','Above 65 (Average)']\n",
    "    legendGroup =['Staying','Staying','New Comers','New Comers','Average','Average']\n",
    "    styleList = [dict(color=below65C,width=2),\n",
    "                 dict(color=above65C,width=2),\n",
    "                 dict(color=below65C,width=4),\n",
    "                 dict(color=above65C,width=4),\n",
    "                 dict(color=averageBelowAgeC,dash='dash'),\n",
    "                 dict(color=averageAboveAgeC, dash='dash')]\n",
    "    percentList=[]\n",
    "    for i in range(6):\n",
    "        percentList.append(f'{columnsList[i]}Percent')\n",
    "        genericGraph[percentList[i]] = genericGraph[columnsList[i]]/genericGraph['TotalAgentsCount']\n",
    "    genericGraph['y_shift'] =-0.02\n",
    "    # Change the bar mode\n",
    "    aTics = genericGraph.loc[genericGraph['prjectType'] == 1, 'tic']\n",
    "    rTics = genericGraph.loc[genericGraph['prjectType'] == 2, 'tic']\n",
    "    rrTics = genericGraph.loc[genericGraph['prjectType'] == 3, 'tic']\n",
    "    \n",
    "    aYshift =genericGraph.loc[genericGraph['prjectType'] == 1, 'y_shift']\n",
    "    rYshift = genericGraph.loc[genericGraph['prjectType'] == 2, 'y_shift']\n",
    "    rrYshift = genericGraph.loc[genericGraph['prjectType'] == 3, 'y_shift']\n",
    "    maxY=1\n",
    "    fig = go.Figure()\n",
    "    for i in range(6):\n",
    "        fig.add_trace(go.Scatter(\n",
    "            x=genericGraph['tic'],\n",
    "            y=genericGraph[percentList[i]],\n",
    "            legendgroup = legendGroup[i],\n",
    "            line=styleList[i],\n",
    "            name=titlesList[i]\n",
    "        ))\n",
    "    for xtic in aTics:\n",
    "        fig.add_shape(type=\"line\", x0=xtic, y0=0, x1=xtic, y1=maxY, line=dict(\n",
    "            color=aC, width=1.5, dash=\"dot\"), layer=\"below\")\n",
    "\n",
    "    for xtic in rTics:\n",
    "        fig.add_shape(type=\"line\", x0=xtic, y0=0, x1=xtic, y1=maxY, line=dict(\n",
    "            color=rC, width=1.5, dash=\"dot\"), layer=\"below\")\n",
    "\n",
    "    for xtic in rrTics:\n",
    "        fig.add_shape(type=\"line\", x0=xtic, y0=0, x1=xtic, y1=maxY,\n",
    "                      line=dict(color=rrC, width=1.5, dash=\"dot\"), layer=\"below\")\n",
    "\n",
    "    fig.add_trace(go.Scatter(name='Addition', x=aTics, y=aYshift,\n",
    "                             mode='markers', legendgroup='Building Type', marker=dict(color=aC)))\n",
    "    fig.add_trace(go.Scatter(name='Reconstruction',legendgroup='Building Type',  x=rTics, y=rYshift,\n",
    "                             mode='markers', marker=dict(color=rC)))\n",
    "    fig.add_trace(go.Scatter(name='Raze and Rebuild',legendgroup='Building Type',  x=rrTics,\n",
    "                             y=rrYshift, mode='markers', marker=dict(color=rrC)))\n",
    "\n",
    "\n",
    "    fig.update_layout(width=widthD,height=heightD, title=title_)\n",
    "    fig.update_yaxes(title=y_title,range=[-0.05, maxY],gridwidth=1, gridcolor=gridBG,zerolinewidth=1,zerolinecolor='lightgrey')\n",
    "\n",
    "    fig.update_xaxes(title='Simulation tic',gridwidth=1, gridcolor=gridBG,zerolinewidth=1,zerolinecolor='lightgrey')\n",
    "    fig.update_layout(showlegend=True,plot_bgcolor='rgba(0,0,0,0)',legend=dict(orientation='h',yanchor=\"top\", y=1.0, xanchor=\"left\", x=0.03,bgcolor='rgba(255,255,255,0.5)'))\n",
    "\n",
    "    with out3:\n",
    "        out3.clear_output()\n",
    "        fig.show()"
   ]
  },
  {
   "cell_type": "code",
   "execution_count": 136,
   "metadata": {},
   "outputs": [
    {
     "data": {
      "application/vnd.jupyter.widget-view+json": {
       "model_id": "47e26523649440d3b37b89eef2da2de2",
       "version_major": 2,
       "version_minor": 0
      },
      "text/plain": [
       "Output()"
      ]
     },
     "metadata": {},
     "output_type": "display_data"
    }
   ],
   "source": [
    "out3 = widgets.Output()\n",
    "out3"
   ]
  },
  {
   "cell_type": "code",
   "execution_count": 145,
   "metadata": {},
   "outputs": [],
   "source": [
    "def figure_4(start,end):\n",
    "    genericGraph = res2.query(f\"tic>={start} & tic<={end}\").copy()\n",
    "    uniProList = genericGraph['ProjNumber'].unique()\n",
    "    ageIncomeCopy = ageIncome[ageIncome['ProjNumber'].isin(uniProList)].copy()\n",
    "    ageIncomeAgg = ageIncomeCopy.groupby(['simulationState','ageGroup','incomeGroup']).agg({'agentID':'count'}).reset_index()\n",
    "    ageIncomeAgg['Age_income'] = ageIncomeAgg['ageGroup'] + \" \" + ageIncomeAgg['incomeGroup']\n",
    "    ageIncomeAgg.rename(columns={'ageGroup':'Age Group','incomeGroup':'Income Group','agentID':'Count'},inplace=True)\n",
    "\n",
    "    ageIncomeColr = pd.read_excel(colorAgeIncomeExcel,usecols=['Age_income','color'])\n",
    "    ageIncomeColorDict = dict(zip(ageIncomeColr['Age_income'],ageIncomeColr['color']))\n",
    "    title_ = 'Age Group Vs Income Before and After Renewal'\n",
    "    fig = px.scatter(ageIncomeAgg, x=\"Age Group\", y=\"Income Group\",\n",
    "                size=\"Count\",facet_col='simulationState', title=title_,size_max=30,\n",
    "                category_orders={\"Age Group\": [\"Under 65\",\"Above 65\"],\"Income Group\": ['High Income', 'Medium Income', 'Low Income'],\"simulationState\":['Before Renewal','After Renewal']},color='Age_income',color_discrete_map=ageIncomeColorDict,width=700,height=heightD)\n",
    "    fig.update_yaxes(gridwidth=1, gridcolor='#d9d9d9',zerolinewidth=1,zerolinecolor='lightgrey',title='')\n",
    "    fig.update_xaxes(gridwidth=1, gridcolor='#d9d9d9',zerolinewidth=1,zerolinecolor='lightgrey',title='')\n",
    "    fig.update_layout(plot_bgcolor='#f2f7ff')\n",
    "    fig.layout['annotations'][0]['text'] = 'Before Renewal'\n",
    "    fig.layout['annotations'][1]['text'] = 'After Renewal'\n",
    "    fig.update_traces(showlegend=False)\n",
    "    with out4:\n",
    "        out4.clear_output()\n",
    "        fig.show()"
   ]
  },
  {
   "cell_type": "code",
   "execution_count": 146,
   "metadata": {},
   "outputs": [
    {
     "data": {
      "application/vnd.jupyter.widget-view+json": {
       "model_id": "ee2f11a81320468a8838fd5bdf8af24d",
       "version_major": 2,
       "version_minor": 0
      },
      "text/plain": [
       "Output()"
      ]
     },
     "metadata": {},
     "output_type": "display_data"
    }
   ],
   "source": [
    "out4 = widgets.Output()\n",
    "out4"
   ]
  },
  {
   "cell_type": "code",
   "execution_count": 440,
   "metadata": {},
   "outputs": [],
   "source": [
    "def figure_5(start,end):\n",
    "    startLine = aggResByTic.query(f'tic=={start}')\n",
    "    endLine = aggResByTic.query(f'tic=={end}')\n",
    "    statsDict = {'aprtmentSizeMean:':{'before':round(startLine['aprtmentSizeMean'].values[0],1),\n",
    "                       'after':round(endLine['aprtmentSizeMean'].values[0],1),\n",
    "                        'title':'Apartment Size',\n",
    "                         'units':'sq meters'},\n",
    "     'yearsInBldgMean:':{'before':round(startLine['yearsInBldgMean'].values[0],1),\n",
    "                       'after':round(endLine['yearsInBldgMean'].values[0],1),\n",
    "                        'title':'Years in Neighborhood',\n",
    "                         'units':'years'},\n",
    "     'CostForStaying:':{'before':round(startLine['CostForStaying'].values[0],1),\n",
    "                       'after':round(endLine['CostForStaying'].values[0],1),\n",
    "                        'title':'Cost For Staying',\n",
    "                         'units':'₪'},\n",
    "     'meanIncomeStay_N_new:':{'before':round(startLine['meanIncomeStay_N_new'].values[0],1),\n",
    "                       'after':round(endLine['meanIncomeStay_N_new'].values[0],1),\n",
    "                        'title':'Mean Income',\n",
    "                         'units':'₪'}\n",
    "    }\n",
    "    htmlText = \"\"\n",
    "    for key in statsDict.keys():\n",
    "        htmlText+=(\"<span><b>\"+f\"{statsDict[key]['title']}</b></span> Start Marker: <b>{statsDict[key]['before']}  {statsDict[key]['units']} </b> End Marker <b> {statsDict[key]['after']} {statsDict[key]['units']}</b><br/>\")\n",
    "    htmlText = \"<div style='font-size:15px'>\"+htmlText+\"</div>\"\n",
    "    Htats = HTML(value=htmlText)\n",
    "    with out5:\n",
    "        out5.clear_output()\n",
    "        display(Htats)"
   ]
  },
  {
   "cell_type": "code",
   "execution_count": 441,
   "metadata": {},
   "outputs": [
    {
     "data": {
      "application/vnd.jupyter.widget-view+json": {
       "model_id": "dd967278cb894669a1e9ac4a41aac927",
       "version_major": 2,
       "version_minor": 0
      },
      "text/plain": [
       "Output()"
      ]
     },
     "metadata": {},
     "output_type": "display_data"
    }
   ],
   "source": [
    "out5 = widgets.Output()\n",
    "out5"
   ]
  },
  {
   "cell_type": "code",
   "execution_count": null,
   "metadata": {},
   "outputs": [],
   "source": []
  },
  {
   "cell_type": "code",
   "execution_count": 447,
   "metadata": {},
   "outputs": [],
   "source": [
    "def figure_6(end):\n",
    "    projectMovement = movementsByProject[movementsByProject['Tic']['after']==end]\n",
    "    projType = projectMovement['Type of Project']['after'].values[0]\n",
    "    Leaving_Owners = projectMovement['Leaving Owners']['after'].values[0]\n",
    "    Leaving_Renters = projectMovement['Leaving Renters']['after'].values[0]\n",
    "    New_Owners = projectMovement['New Owners']['after'].values[0]\n",
    "    New_Renters = projectMovement['New Renters']['after'].values[0]\n",
    "    Staying = projectMovement['Staying']['after'].values[0]\n",
    "    Total_Households =New_Owners+New_Renters+Staying\n",
    "    Total_Households_before = projectMovement['Total Households']['before'].values[0]\n",
    "\n",
    "\n",
    "    if projType>1:\n",
    "        bldX =5\n",
    "        bldY = 1.5\n",
    "        oldBldX = 2.5\n",
    "        oldBldY =1.5\n",
    "        outOwnX = 1\n",
    "        outOwnY = 1.25\n",
    "        outRentX = 1\n",
    "        outRentY = 1.85\n",
    "        inOwnX = 4\n",
    "        inOwnY = 2.25\n",
    "        inRentX = 2\n",
    "        inRentY = 2.25\n",
    "        df = pd.DataFrame({'x':[outOwnX,outRentX,oldBldX,oldBldX,inRentX,inOwnX,bldX],\n",
    "                           'y':[outOwnY,outRentY,oldBldY,oldBldY,inRentY,inOwnY,bldY],\n",
    "                           'Agents':[Leaving_Owners,Leaving_Renters,Total_Households_before,Staying,New_Renters,New_Owners,Total_Households],\n",
    "                           'who':['Leaving Owners','Leaving Renters','Total Before','Surviving Owners','New Renters','New Owners','Total After'],\n",
    "                           'color':['cornflowerblue','lightgreen','lemonchiffon','lightskyblue','green','deepskyblue','white']})\n",
    "        colorDict = dict(zip(df['who'],df['color']))\n",
    "        fig = px.scatter(df, x='x', y='y', color=\"who\",color_discrete_map=colorDict,size='Agents',size_max=50)\n",
    "        #building to Leaving Owners\n",
    "        fig.add_annotation(x=outOwnX,y=outOwnY,ax=oldBldX,ay=oldBldY,xref='x',yref='y',axref='x',ayref='y',arrowcolor='lightgray',text='',showarrow=True,arrowhead=3,arrowsize=1,arrowwidth=3)\n",
    "        #Building Leaving Renters\n",
    "        fig.add_annotation(x=outRentX,y=outRentY,ax=oldBldX,ay=oldBldY,xref='x',yref='y',axref='x',ayref='y',arrowcolor='lightgray',text='',showarrow=True,arrowhead=3,arrowsize=1,arrowwidth=3)\n",
    "        #Entering Owners\n",
    "        fig.add_annotation(x=bldX,y=bldY,ax=inOwnX,ay=inOwnY,xref='x',yref='y',axref='x',ayref='y',arrowcolor='lightgray',text='',showarrow=True,arrowhead=3,arrowsize=1,arrowwidth=3)\n",
    "        #Entering Renters\n",
    "        fig.add_annotation(x=bldX,y=bldY,ax=inRentX,ay=inRentY,xref='x',yref='y',axref='x',ayref='y',arrowcolor='lightgray',text='',showarrow=True,arrowhead=3,arrowsize=1,arrowwidth=3)\n",
    "        # From Old Building to New Building\n",
    "        fig.add_annotation(x=bldX,y=bldY,ax=oldBldX,ay=oldBldY,xref='x',yref='y',axref='x',ayref='y',arrowcolor='lightgray',text='',showarrow=True,arrowhead=3,arrowsize=1,arrowwidth=3)\n",
    "\n",
    "\n",
    "    else:\n",
    "        bldX =1.3\n",
    "        bldY = 1.3\n",
    "        outOwnX = 1\n",
    "        outOwnY = 1.25\n",
    "        outRentX = 1.1\n",
    "        outRentY = 1.85\n",
    "        inOwnX = 1.25\n",
    "        inOwnY = 2.25\n",
    "        inRentX = 1.1\n",
    "        inRentY = 2.25\n",
    "        df = pd.DataFrame({'x':[outOwnX,outRentX,bldX,bldX,inRentX,inOwnX,bldX],\n",
    "                           'y':[outOwnY,outRentY,bldY,bldY,inRentY,inRentY,bldY],\n",
    "                           'Agents':[Leaving_Owners,Leaving_Renters,Total_Households_before,Staying,New_Renters,New_Owners,Total_Households],\n",
    "                           'who':['Leaving Owners','Leaving Renters','Total Before','Surviving Owners','New Renters','New Owners','Total After'],\n",
    "                           'color':['cornflowerblue','lightgreen','lemonchiffon','lightskyblue','green','deepskyblue','white']})\n",
    "        colorDict = dict(zip(df['who'],df['color']))\n",
    "        fig = px.scatter(df, x='x', y='y', color=\"who\",color_discrete_map=colorDict,size='Agents',size_max=50)\n",
    "        #building to Leaving Owners\n",
    "        fig.add_annotation(x=outOwnX,y=outOwnY,ax=bldX,ay=bldY,xref='x',yref='y',axref='x',ayref='y',arrowcolor='lightgray',text='',showarrow=True,arrowhead=3,arrowsize=1,arrowwidth=3)\n",
    "        #Building Leaving Renters\n",
    "        fig.add_annotation(x=outRentX,y=outRentY,ax=bldX,ay=bldY,xref='x',yref='y',axref='x',ayref='y',arrowcolor='lightgray',text='',showarrow=True,arrowhead=3,arrowsize=1,arrowwidth=3)\n",
    "        #Entering Owners\n",
    "        fig.add_annotation(x=bldX,y=bldY,ax=inOwnX,ay=inOwnY,xref='x',yref='y',axref='x',ayref='y',arrowcolor='lightgray',text='',showarrow=True,arrowhead=3,arrowsize=1,arrowwidth=3)\n",
    "        #Entering Renters\n",
    "        fig.add_annotation(x=bldX,y=bldY,ax=inRentX,ay=inRentY,xref='x',yref='y',axref='x',ayref='y',arrowcolor='lightgray',text='',showarrow=True,arrowhead=3,arrowsize=1,arrowwidth=3)\n",
    "\n",
    "\n",
    "    #old house to displaced owner\n",
    "\n",
    "\n",
    "    fig.add_trace(go.Scatter(x=df['x'],y=df['y'],text=df['Agents'],mode=\"text\"))\n",
    "\n",
    "    fig.update_layout(\n",
    "        margin=dict(l=0, r=0, b=0),\n",
    "        height=400, width=600,\n",
    "        plot_bgcolor=\"white\",\n",
    "        legend=dict(yanchor=\"top\", y=0.95, xanchor=\"left\", x=0.95)\n",
    "    )\n",
    "    fig.update_traces(marker=dict(line=dict(width=2,color='DarkSlateGrey')))\n",
    "    fig.update_yaxes(visible=False, showticklabels=False)\n",
    "    fig.update_xaxes(visible=False, showticklabels=False)\n",
    "    with out6:\n",
    "        out6.clear_output()\n",
    "        fig.show()"
   ]
  },
  {
   "cell_type": "code",
   "execution_count": 448,
   "metadata": {},
   "outputs": [
    {
     "data": {
      "application/vnd.jupyter.widget-view+json": {
       "model_id": "94812d7cd6344b40900dadfc9b6c8a4f",
       "version_major": 2,
       "version_minor": 0
      },
      "text/plain": [
       "Output()"
      ]
     },
     "metadata": {},
     "output_type": "display_data"
    }
   ],
   "source": [
    "out6 = widgets.Output()\n",
    "out6"
   ]
  },
  {
   "cell_type": "code",
   "execution_count": 488,
   "metadata": {},
   "outputs": [],
   "source": [
    "figure_6(32)"
   ]
  },
  {
   "cell_type": "code",
   "execution_count": 540,
   "metadata": {},
   "outputs": [],
   "source": []
  },
  {
   "cell_type": "code",
   "execution_count": 541,
   "metadata": {},
   "outputs": [
    {
     "data": {
      "text/html": [
       "<div>\n",
       "<style scoped>\n",
       "    .dataframe tbody tr th:only-of-type {\n",
       "        vertical-align: middle;\n",
       "    }\n",
       "\n",
       "    .dataframe tbody tr th {\n",
       "        vertical-align: top;\n",
       "    }\n",
       "\n",
       "    .dataframe thead tr th {\n",
       "        text-align: left;\n",
       "    }\n",
       "</style>\n",
       "<table border=\"1\" class=\"dataframe\">\n",
       "  <thead>\n",
       "    <tr>\n",
       "      <th></th>\n",
       "      <th>Unnamed: 0_level_0</th>\n",
       "      <th colspan=\"2\" halign=\"left\">Total Households</th>\n",
       "      <th colspan=\"2\" halign=\"left\">bldCode</th>\n",
       "      <th colspan=\"2\" halign=\"left\">Avg Floors</th>\n",
       "      <th colspan=\"2\" halign=\"left\">Apartment Size Sq Meters</th>\n",
       "      <th colspan=\"2\" halign=\"left\">Years in Building</th>\n",
       "      <th colspan=\"2\" halign=\"left\">Average Age</th>\n",
       "      <th colspan=\"2\" halign=\"left\">average income</th>\n",
       "      <th colspan=\"2\" halign=\"left\">Nubmer of renters</th>\n",
       "      <th colspan=\"2\" halign=\"left\">Number of owners</th>\n",
       "      <th colspan=\"2\" halign=\"left\">Leaving Renters</th>\n",
       "      <th colspan=\"2\" halign=\"left\">Leaving Owners</th>\n",
       "      <th colspan=\"2\" halign=\"left\">New Renters</th>\n",
       "      <th colspan=\"2\" halign=\"left\">New Owners</th>\n",
       "      <th colspan=\"2\" halign=\"left\">Type of Project</th>\n",
       "      <th colspan=\"2\" halign=\"left\">Tic</th>\n",
       "      <th colspan=\"2\" halign=\"left\">Cost For Staying</th>\n",
       "      <th colspan=\"2\" halign=\"left\">Ratio Cost For Staying</th>\n",
       "      <th colspan=\"2\" halign=\"left\">Staying</th>\n",
       "      <th colspan=\"2\" halign=\"left\">New Comers</th>\n",
       "      <th colspan=\"2\" halign=\"left\">Leaving</th>\n",
       "      <th colspan=\"2\" halign=\"left\">Under 65</th>\n",
       "      <th colspan=\"2\" halign=\"left\">Above 65</th>\n",
       "      <th colspan=\"2\" halign=\"left\">Low Income</th>\n",
       "      <th colspan=\"2\" halign=\"left\">Medium Income</th>\n",
       "      <th colspan=\"2\" halign=\"left\">High Income</th>\n",
       "      <th colspan=\"2\" halign=\"left\">Before or After Renewal</th>\n",
       "    </tr>\n",
       "    <tr>\n",
       "      <th></th>\n",
       "      <th>bldStaus</th>\n",
       "      <th>after</th>\n",
       "      <th>before</th>\n",
       "      <th>after</th>\n",
       "      <th>before</th>\n",
       "      <th>after</th>\n",
       "      <th>before</th>\n",
       "      <th>after</th>\n",
       "      <th>before</th>\n",
       "      <th>after</th>\n",
       "      <th>before</th>\n",
       "      <th>after</th>\n",
       "      <th>before</th>\n",
       "      <th>after</th>\n",
       "      <th>before</th>\n",
       "      <th>after</th>\n",
       "      <th>before</th>\n",
       "      <th>after</th>\n",
       "      <th>before</th>\n",
       "      <th>after</th>\n",
       "      <th>before</th>\n",
       "      <th>after</th>\n",
       "      <th>before</th>\n",
       "      <th>after</th>\n",
       "      <th>before</th>\n",
       "      <th>after</th>\n",
       "      <th>before</th>\n",
       "      <th>after</th>\n",
       "      <th>before</th>\n",
       "      <th>after</th>\n",
       "      <th>before</th>\n",
       "      <th>after</th>\n",
       "      <th>before</th>\n",
       "      <th>after</th>\n",
       "      <th>before</th>\n",
       "      <th>after</th>\n",
       "      <th>before</th>\n",
       "      <th>after</th>\n",
       "      <th>before</th>\n",
       "      <th>after</th>\n",
       "      <th>before</th>\n",
       "      <th>after</th>\n",
       "      <th>before</th>\n",
       "      <th>after</th>\n",
       "      <th>before</th>\n",
       "      <th>after</th>\n",
       "      <th>before</th>\n",
       "      <th>after</th>\n",
       "      <th>before</th>\n",
       "      <th>after</th>\n",
       "      <th>before</th>\n",
       "      <th>after</th>\n",
       "      <th>before</th>\n",
       "    </tr>\n",
       "  </thead>\n",
       "  <tbody>\n",
       "    <tr>\n",
       "      <th>23</th>\n",
       "      <td>502-0196659</td>\n",
       "      <td>712.0</td>\n",
       "      <td>200.0</td>\n",
       "      <td>4.0</td>\n",
       "      <td>10.0</td>\n",
       "      <td>30.0</td>\n",
       "      <td>0.0</td>\n",
       "      <td>98.0</td>\n",
       "      <td>73.0</td>\n",
       "      <td>7.0</td>\n",
       "      <td>24.9</td>\n",
       "      <td>47.9</td>\n",
       "      <td>45.4</td>\n",
       "      <td>18281.0</td>\n",
       "      <td>3927.0</td>\n",
       "      <td>269.0</td>\n",
       "      <td>90.0</td>\n",
       "      <td>443.0</td>\n",
       "      <td>110.0</td>\n",
       "      <td>90.0</td>\n",
       "      <td>0.0</td>\n",
       "      <td>62.0</td>\n",
       "      <td>0.0</td>\n",
       "      <td>179.0</td>\n",
       "      <td>0.0</td>\n",
       "      <td>333.0</td>\n",
       "      <td>0.0</td>\n",
       "      <td>3.0</td>\n",
       "      <td>0.0</td>\n",
       "      <td>9.0</td>\n",
       "      <td>0.0</td>\n",
       "      <td>6111.0</td>\n",
       "      <td>0.0</td>\n",
       "      <td>0.26</td>\n",
       "      <td>0.0</td>\n",
       "      <td>48.0</td>\n",
       "      <td>200.0</td>\n",
       "      <td>512.0</td>\n",
       "      <td>0.0</td>\n",
       "      <td>152.0</td>\n",
       "      <td>0.0</td>\n",
       "      <td>556.0</td>\n",
       "      <td>154.0</td>\n",
       "      <td>156.0</td>\n",
       "      <td>46.0</td>\n",
       "      <td>174.0</td>\n",
       "      <td>174.0</td>\n",
       "      <td>26.0</td>\n",
       "      <td>26.0</td>\n",
       "      <td>512.0</td>\n",
       "      <td>0.0</td>\n",
       "      <td>after</td>\n",
       "      <td>before</td>\n",
       "    </tr>\n",
       "  </tbody>\n",
       "</table>\n",
       "</div>"
      ],
      "text/plain": [
       "   Unnamed: 0_level_0 Total Households        bldCode        Avg Floors  \\\n",
       "             bldStaus            after before   after before      after   \n",
       "23        502-0196659            712.0  200.0     4.0   10.0       30.0   \n",
       "\n",
       "          Apartment Size Sq Meters        Years in Building         \\\n",
       "   before                    after before             after before   \n",
       "23    0.0                     98.0   73.0               7.0   24.9   \n",
       "\n",
       "   Average Age        average income         Nubmer of renters         \\\n",
       "         after before          after  before             after before   \n",
       "23        47.9   45.4        18281.0  3927.0             269.0   90.0   \n",
       "\n",
       "   Number of owners        Leaving Renters        Leaving Owners         \\\n",
       "              after before           after before          after before   \n",
       "23            443.0  110.0            90.0    0.0           62.0    0.0   \n",
       "\n",
       "   New Renters        New Owners        Type of Project          Tic         \\\n",
       "         after before      after before           after before after before   \n",
       "23       179.0    0.0      333.0    0.0             3.0    0.0   9.0    0.0   \n",
       "\n",
       "   Cost For Staying        Ratio Cost For Staying        Staying         \\\n",
       "              after before                  after before   after before   \n",
       "23           6111.0    0.0                   0.26    0.0    48.0  200.0   \n",
       "\n",
       "   New Comers        Leaving        Under 65        Above 65         \\\n",
       "        after before   after before    after before    after before   \n",
       "23      512.0    0.0   152.0    0.0    556.0  154.0    156.0   46.0   \n",
       "\n",
       "   Low Income        Medium Income        High Income         \\\n",
       "        after before         after before       after before   \n",
       "23      174.0  174.0          26.0   26.0       512.0    0.0   \n",
       "\n",
       "   Before or After Renewal          \n",
       "                     after  before  \n",
       "23                   after  before  "
      ]
     },
     "execution_count": 541,
     "metadata": {},
     "output_type": "execute_result"
    }
   ],
   "source": [
    "projectMovement"
   ]
  },
  {
   "cell_type": "code",
   "execution_count": 542,
   "metadata": {},
   "outputs": [],
   "source": []
  },
  {
   "cell_type": "code",
   "execution_count": 543,
   "metadata": {},
   "outputs": [
    {
     "data": {
      "text/plain": [
       "30.0"
      ]
     },
     "execution_count": 543,
     "metadata": {},
     "output_type": "execute_result"
    }
   ],
   "source": [
    "floorsAfter"
   ]
  },
  {
   "cell_type": "code",
   "execution_count": 544,
   "metadata": {},
   "outputs": [
    {
     "data": {
      "text/plain": [
       "4.0"
      ]
     },
     "execution_count": 544,
     "metadata": {},
     "output_type": "execute_result"
    }
   ],
   "source": [
    "bldAfter"
   ]
  },
  {
   "cell_type": "code",
   "execution_count": 545,
   "metadata": {},
   "outputs": [
    {
     "data": {
      "text/plain": [
       "3.0"
      ]
     },
     "execution_count": 545,
     "metadata": {},
     "output_type": "execute_result"
    }
   ],
   "source": [
    "projType"
   ]
  },
  {
   "cell_type": "code",
   "execution_count": 554,
   "metadata": {},
   "outputs": [
    {
     "data": {
      "application/vnd.plotly.v1+json": {
       "config": {
        "plotlyServerURL": "https://plot.ly"
       },
       "data": [
        {
         "alignmentgroup": "True",
         "hovertemplate": "beforeAfter=Before<br>bldCount=%{x}<br>floors=%{y}<extra></extra>",
         "legendgroup": "Before",
         "marker": {
          "color": "#636efa"
         },
         "name": "Before",
         "offsetgroup": "Before",
         "orientation": "v",
         "showlegend": true,
         "textposition": "auto",
         "type": "bar",
         "x": [
          1,
          2,
          3,
          4,
          5,
          6,
          7,
          8,
          9,
          10
         ],
         "xaxis": "x",
         "y": [
          4,
          4,
          4,
          4,
          4,
          4,
          4,
          4,
          4,
          4
         ],
         "yaxis": "y"
        },
        {
         "alignmentgroup": "True",
         "hovertemplate": "beforeAfter=after<br>bldCount=%{x}<br>floors=%{y}<extra></extra>",
         "legendgroup": "after",
         "marker": {
          "color": "#EF553B"
         },
         "name": "after",
         "offsetgroup": "after",
         "orientation": "v",
         "showlegend": true,
         "textposition": "auto",
         "type": "bar",
         "x": [
          1,
          2,
          3,
          4
         ],
         "xaxis": "x2",
         "y": [
          30,
          30,
          30,
          30
         ],
         "yaxis": "y2"
        }
       ],
       "layout": {
        "annotations": [
         {
          "font": {},
          "showarrow": false,
          "text": "beforeAfter=Before",
          "x": 0.245,
          "xanchor": "center",
          "xref": "paper",
          "y": 1,
          "yanchor": "bottom",
          "yref": "paper"
         },
         {
          "font": {},
          "showarrow": false,
          "text": "beforeAfter=after",
          "x": 0.755,
          "xanchor": "center",
          "xref": "paper",
          "y": 1,
          "yanchor": "bottom",
          "yref": "paper"
         }
        ],
        "autosize": true,
        "barmode": "relative",
        "legend": {
         "title": {
          "text": "beforeAfter"
         },
         "tracegroupgap": 0
        },
        "margin": {
         "t": 60
        },
        "template": {
         "data": {
          "bar": [
           {
            "error_x": {
             "color": "#2a3f5f"
            },
            "error_y": {
             "color": "#2a3f5f"
            },
            "marker": {
             "line": {
              "color": "#E5ECF6",
              "width": 0.5
             }
            },
            "type": "bar"
           }
          ],
          "barpolar": [
           {
            "marker": {
             "line": {
              "color": "#E5ECF6",
              "width": 0.5
             }
            },
            "type": "barpolar"
           }
          ],
          "carpet": [
           {
            "aaxis": {
             "endlinecolor": "#2a3f5f",
             "gridcolor": "white",
             "linecolor": "white",
             "minorgridcolor": "white",
             "startlinecolor": "#2a3f5f"
            },
            "baxis": {
             "endlinecolor": "#2a3f5f",
             "gridcolor": "white",
             "linecolor": "white",
             "minorgridcolor": "white",
             "startlinecolor": "#2a3f5f"
            },
            "type": "carpet"
           }
          ],
          "choropleth": [
           {
            "colorbar": {
             "outlinewidth": 0,
             "ticks": ""
            },
            "type": "choropleth"
           }
          ],
          "contour": [
           {
            "colorbar": {
             "outlinewidth": 0,
             "ticks": ""
            },
            "colorscale": [
             [
              0,
              "#0d0887"
             ],
             [
              0.1111111111111111,
              "#46039f"
             ],
             [
              0.2222222222222222,
              "#7201a8"
             ],
             [
              0.3333333333333333,
              "#9c179e"
             ],
             [
              0.4444444444444444,
              "#bd3786"
             ],
             [
              0.5555555555555556,
              "#d8576b"
             ],
             [
              0.6666666666666666,
              "#ed7953"
             ],
             [
              0.7777777777777778,
              "#fb9f3a"
             ],
             [
              0.8888888888888888,
              "#fdca26"
             ],
             [
              1,
              "#f0f921"
             ]
            ],
            "type": "contour"
           }
          ],
          "contourcarpet": [
           {
            "colorbar": {
             "outlinewidth": 0,
             "ticks": ""
            },
            "type": "contourcarpet"
           }
          ],
          "heatmap": [
           {
            "colorbar": {
             "outlinewidth": 0,
             "ticks": ""
            },
            "colorscale": [
             [
              0,
              "#0d0887"
             ],
             [
              0.1111111111111111,
              "#46039f"
             ],
             [
              0.2222222222222222,
              "#7201a8"
             ],
             [
              0.3333333333333333,
              "#9c179e"
             ],
             [
              0.4444444444444444,
              "#bd3786"
             ],
             [
              0.5555555555555556,
              "#d8576b"
             ],
             [
              0.6666666666666666,
              "#ed7953"
             ],
             [
              0.7777777777777778,
              "#fb9f3a"
             ],
             [
              0.8888888888888888,
              "#fdca26"
             ],
             [
              1,
              "#f0f921"
             ]
            ],
            "type": "heatmap"
           }
          ],
          "heatmapgl": [
           {
            "colorbar": {
             "outlinewidth": 0,
             "ticks": ""
            },
            "colorscale": [
             [
              0,
              "#0d0887"
             ],
             [
              0.1111111111111111,
              "#46039f"
             ],
             [
              0.2222222222222222,
              "#7201a8"
             ],
             [
              0.3333333333333333,
              "#9c179e"
             ],
             [
              0.4444444444444444,
              "#bd3786"
             ],
             [
              0.5555555555555556,
              "#d8576b"
             ],
             [
              0.6666666666666666,
              "#ed7953"
             ],
             [
              0.7777777777777778,
              "#fb9f3a"
             ],
             [
              0.8888888888888888,
              "#fdca26"
             ],
             [
              1,
              "#f0f921"
             ]
            ],
            "type": "heatmapgl"
           }
          ],
          "histogram": [
           {
            "marker": {
             "colorbar": {
              "outlinewidth": 0,
              "ticks": ""
             }
            },
            "type": "histogram"
           }
          ],
          "histogram2d": [
           {
            "colorbar": {
             "outlinewidth": 0,
             "ticks": ""
            },
            "colorscale": [
             [
              0,
              "#0d0887"
             ],
             [
              0.1111111111111111,
              "#46039f"
             ],
             [
              0.2222222222222222,
              "#7201a8"
             ],
             [
              0.3333333333333333,
              "#9c179e"
             ],
             [
              0.4444444444444444,
              "#bd3786"
             ],
             [
              0.5555555555555556,
              "#d8576b"
             ],
             [
              0.6666666666666666,
              "#ed7953"
             ],
             [
              0.7777777777777778,
              "#fb9f3a"
             ],
             [
              0.8888888888888888,
              "#fdca26"
             ],
             [
              1,
              "#f0f921"
             ]
            ],
            "type": "histogram2d"
           }
          ],
          "histogram2dcontour": [
           {
            "colorbar": {
             "outlinewidth": 0,
             "ticks": ""
            },
            "colorscale": [
             [
              0,
              "#0d0887"
             ],
             [
              0.1111111111111111,
              "#46039f"
             ],
             [
              0.2222222222222222,
              "#7201a8"
             ],
             [
              0.3333333333333333,
              "#9c179e"
             ],
             [
              0.4444444444444444,
              "#bd3786"
             ],
             [
              0.5555555555555556,
              "#d8576b"
             ],
             [
              0.6666666666666666,
              "#ed7953"
             ],
             [
              0.7777777777777778,
              "#fb9f3a"
             ],
             [
              0.8888888888888888,
              "#fdca26"
             ],
             [
              1,
              "#f0f921"
             ]
            ],
            "type": "histogram2dcontour"
           }
          ],
          "mesh3d": [
           {
            "colorbar": {
             "outlinewidth": 0,
             "ticks": ""
            },
            "type": "mesh3d"
           }
          ],
          "parcoords": [
           {
            "line": {
             "colorbar": {
              "outlinewidth": 0,
              "ticks": ""
             }
            },
            "type": "parcoords"
           }
          ],
          "pie": [
           {
            "automargin": true,
            "type": "pie"
           }
          ],
          "scatter": [
           {
            "marker": {
             "colorbar": {
              "outlinewidth": 0,
              "ticks": ""
             }
            },
            "type": "scatter"
           }
          ],
          "scatter3d": [
           {
            "line": {
             "colorbar": {
              "outlinewidth": 0,
              "ticks": ""
             }
            },
            "marker": {
             "colorbar": {
              "outlinewidth": 0,
              "ticks": ""
             }
            },
            "type": "scatter3d"
           }
          ],
          "scattercarpet": [
           {
            "marker": {
             "colorbar": {
              "outlinewidth": 0,
              "ticks": ""
             }
            },
            "type": "scattercarpet"
           }
          ],
          "scattergeo": [
           {
            "marker": {
             "colorbar": {
              "outlinewidth": 0,
              "ticks": ""
             }
            },
            "type": "scattergeo"
           }
          ],
          "scattergl": [
           {
            "marker": {
             "colorbar": {
              "outlinewidth": 0,
              "ticks": ""
             }
            },
            "type": "scattergl"
           }
          ],
          "scattermapbox": [
           {
            "marker": {
             "colorbar": {
              "outlinewidth": 0,
              "ticks": ""
             }
            },
            "type": "scattermapbox"
           }
          ],
          "scatterpolar": [
           {
            "marker": {
             "colorbar": {
              "outlinewidth": 0,
              "ticks": ""
             }
            },
            "type": "scatterpolar"
           }
          ],
          "scatterpolargl": [
           {
            "marker": {
             "colorbar": {
              "outlinewidth": 0,
              "ticks": ""
             }
            },
            "type": "scatterpolargl"
           }
          ],
          "scatterternary": [
           {
            "marker": {
             "colorbar": {
              "outlinewidth": 0,
              "ticks": ""
             }
            },
            "type": "scatterternary"
           }
          ],
          "surface": [
           {
            "colorbar": {
             "outlinewidth": 0,
             "ticks": ""
            },
            "colorscale": [
             [
              0,
              "#0d0887"
             ],
             [
              0.1111111111111111,
              "#46039f"
             ],
             [
              0.2222222222222222,
              "#7201a8"
             ],
             [
              0.3333333333333333,
              "#9c179e"
             ],
             [
              0.4444444444444444,
              "#bd3786"
             ],
             [
              0.5555555555555556,
              "#d8576b"
             ],
             [
              0.6666666666666666,
              "#ed7953"
             ],
             [
              0.7777777777777778,
              "#fb9f3a"
             ],
             [
              0.8888888888888888,
              "#fdca26"
             ],
             [
              1,
              "#f0f921"
             ]
            ],
            "type": "surface"
           }
          ],
          "table": [
           {
            "cells": {
             "fill": {
              "color": "#EBF0F8"
             },
             "line": {
              "color": "white"
             }
            },
            "header": {
             "fill": {
              "color": "#C8D4E3"
             },
             "line": {
              "color": "white"
             }
            },
            "type": "table"
           }
          ]
         },
         "layout": {
          "annotationdefaults": {
           "arrowcolor": "#2a3f5f",
           "arrowhead": 0,
           "arrowwidth": 1
          },
          "autotypenumbers": "strict",
          "coloraxis": {
           "colorbar": {
            "outlinewidth": 0,
            "ticks": ""
           }
          },
          "colorscale": {
           "diverging": [
            [
             0,
             "#8e0152"
            ],
            [
             0.1,
             "#c51b7d"
            ],
            [
             0.2,
             "#de77ae"
            ],
            [
             0.3,
             "#f1b6da"
            ],
            [
             0.4,
             "#fde0ef"
            ],
            [
             0.5,
             "#f7f7f7"
            ],
            [
             0.6,
             "#e6f5d0"
            ],
            [
             0.7,
             "#b8e186"
            ],
            [
             0.8,
             "#7fbc41"
            ],
            [
             0.9,
             "#4d9221"
            ],
            [
             1,
             "#276419"
            ]
           ],
           "sequential": [
            [
             0,
             "#0d0887"
            ],
            [
             0.1111111111111111,
             "#46039f"
            ],
            [
             0.2222222222222222,
             "#7201a8"
            ],
            [
             0.3333333333333333,
             "#9c179e"
            ],
            [
             0.4444444444444444,
             "#bd3786"
            ],
            [
             0.5555555555555556,
             "#d8576b"
            ],
            [
             0.6666666666666666,
             "#ed7953"
            ],
            [
             0.7777777777777778,
             "#fb9f3a"
            ],
            [
             0.8888888888888888,
             "#fdca26"
            ],
            [
             1,
             "#f0f921"
            ]
           ],
           "sequentialminus": [
            [
             0,
             "#0d0887"
            ],
            [
             0.1111111111111111,
             "#46039f"
            ],
            [
             0.2222222222222222,
             "#7201a8"
            ],
            [
             0.3333333333333333,
             "#9c179e"
            ],
            [
             0.4444444444444444,
             "#bd3786"
            ],
            [
             0.5555555555555556,
             "#d8576b"
            ],
            [
             0.6666666666666666,
             "#ed7953"
            ],
            [
             0.7777777777777778,
             "#fb9f3a"
            ],
            [
             0.8888888888888888,
             "#fdca26"
            ],
            [
             1,
             "#f0f921"
            ]
           ]
          },
          "colorway": [
           "#636efa",
           "#EF553B",
           "#00cc96",
           "#ab63fa",
           "#FFA15A",
           "#19d3f3",
           "#FF6692",
           "#B6E880",
           "#FF97FF",
           "#FECB52"
          ],
          "font": {
           "color": "#2a3f5f"
          },
          "geo": {
           "bgcolor": "white",
           "lakecolor": "white",
           "landcolor": "#E5ECF6",
           "showlakes": true,
           "showland": true,
           "subunitcolor": "white"
          },
          "hoverlabel": {
           "align": "left"
          },
          "hovermode": "closest",
          "mapbox": {
           "style": "light"
          },
          "paper_bgcolor": "white",
          "plot_bgcolor": "#E5ECF6",
          "polar": {
           "angularaxis": {
            "gridcolor": "white",
            "linecolor": "white",
            "ticks": ""
           },
           "bgcolor": "#E5ECF6",
           "radialaxis": {
            "gridcolor": "white",
            "linecolor": "white",
            "ticks": ""
           }
          },
          "scene": {
           "xaxis": {
            "backgroundcolor": "#E5ECF6",
            "gridcolor": "white",
            "gridwidth": 2,
            "linecolor": "white",
            "showbackground": true,
            "ticks": "",
            "zerolinecolor": "white"
           },
           "yaxis": {
            "backgroundcolor": "#E5ECF6",
            "gridcolor": "white",
            "gridwidth": 2,
            "linecolor": "white",
            "showbackground": true,
            "ticks": "",
            "zerolinecolor": "white"
           },
           "zaxis": {
            "backgroundcolor": "#E5ECF6",
            "gridcolor": "white",
            "gridwidth": 2,
            "linecolor": "white",
            "showbackground": true,
            "ticks": "",
            "zerolinecolor": "white"
           }
          },
          "shapedefaults": {
           "line": {
            "color": "#2a3f5f"
           }
          },
          "ternary": {
           "aaxis": {
            "gridcolor": "white",
            "linecolor": "white",
            "ticks": ""
           },
           "baxis": {
            "gridcolor": "white",
            "linecolor": "white",
            "ticks": ""
           },
           "bgcolor": "#E5ECF6",
           "caxis": {
            "gridcolor": "white",
            "linecolor": "white",
            "ticks": ""
           }
          },
          "title": {
           "x": 0.05
          },
          "xaxis": {
           "automargin": true,
           "gridcolor": "white",
           "linecolor": "white",
           "ticks": "",
           "title": {
            "standoff": 15
           },
           "zerolinecolor": "white",
           "zerolinewidth": 2
          },
          "yaxis": {
           "automargin": true,
           "gridcolor": "white",
           "linecolor": "white",
           "ticks": "",
           "title": {
            "standoff": 15
           },
           "zerolinecolor": "white",
           "zerolinewidth": 2
          }
         }
        },
        "xaxis": {
         "anchor": "y",
         "autorange": true,
         "domain": [
          0,
          0.49
         ],
         "range": [
          0.5,
          10.5
         ],
         "title": {
          "text": "bldCount"
         },
         "type": "linear"
        },
        "xaxis2": {
         "anchor": "y2",
         "autorange": true,
         "domain": [
          0.51,
          1
         ],
         "matches": "x",
         "range": [
          0.5,
          10.5
         ],
         "title": {
          "text": "bldCount"
         },
         "type": "linear"
        },
        "yaxis": {
         "anchor": "x",
         "autorange": true,
         "domain": [
          0,
          1
         ],
         "range": [
          0,
          31.57894736842105
         ],
         "title": {
          "text": "floors"
         },
         "type": "linear"
        },
        "yaxis2": {
         "anchor": "x2",
         "autorange": true,
         "domain": [
          0,
          1
         ],
         "matches": "y",
         "range": [
          0,
          31.57894736842105
         ],
         "showticklabels": false,
         "type": "linear"
        }
       }
      },
      "image/png": "[encoded data removed]",
      "text/html": [
       "<div>                            <div id=\"43de5437-f693-4268-ba85-e6df07419206\" class=\"plotly-graph-div\" style=\"height:525px; width:100%;\"></div>            <script type=\"text/javascript\">                require([\"plotly\"], function(Plotly) {                    window.PLOTLYENV=window.PLOTLYENV || {};                                    if (document.getElementById(\"43de5437-f693-4268-ba85-e6df07419206\")) {                    Plotly.newPlot(                        \"43de5437-f693-4268-ba85-e6df07419206\",                        [{\"alignmentgroup\": \"True\", \"hovertemplate\": \"beforeAfter=Before<br>bldCount=%{x}<br>floors=%{y}<extra></extra>\", \"legendgroup\": \"Before\", \"marker\": {\"color\": \"#636efa\"}, \"name\": \"Before\", \"offsetgroup\": \"Before\", \"orientation\": \"v\", \"showlegend\": true, \"textposition\": \"auto\", \"type\": \"bar\", \"x\": [1, 2, 3, 4, 5, 6, 7, 8, 9, 10], \"xaxis\": \"x\", \"y\": [4.0, 4.0, 4.0, 4.0, 4.0, 4.0, 4.0, 4.0, 4.0, 4.0], \"yaxis\": \"y\"}, {\"alignmentgroup\": \"True\", \"hovertemplate\": \"beforeAfter=after<br>bldCount=%{x}<br>floors=%{y}<extra></extra>\", \"legendgroup\": \"after\", \"marker\": {\"color\": \"#EF553B\"}, \"name\": \"after\", \"offsetgroup\": \"after\", \"orientation\": \"v\", \"showlegend\": true, \"textposition\": \"auto\", \"type\": \"bar\", \"x\": [1, 2, 3, 4], \"xaxis\": \"x2\", \"y\": [30.0, 30.0, 30.0, 30.0], \"yaxis\": \"y2\"}],                        {\"annotations\": [{\"font\": {}, \"showarrow\": false, \"text\": \"beforeAfter=Before\", \"x\": 0.245, \"xanchor\": \"center\", \"xref\": \"paper\", \"y\": 1.0, \"yanchor\": \"bottom\", \"yref\": \"paper\"}, {\"font\": {}, \"showarrow\": false, \"text\": \"beforeAfter=after\", \"x\": 0.755, \"xanchor\": \"center\", \"xref\": \"paper\", \"y\": 1.0, \"yanchor\": \"bottom\", \"yref\": \"paper\"}], \"barmode\": \"relative\", \"legend\": {\"title\": {\"text\": \"beforeAfter\"}, \"tracegroupgap\": 0}, \"margin\": {\"t\": 60}, \"template\": {\"data\": {\"bar\": [{\"error_x\": {\"color\": \"#2a3f5f\"}, \"error_y\": {\"color\": \"#2a3f5f\"}, \"marker\": {\"line\": {\"color\": \"#E5ECF6\", \"width\": 0.5}}, \"type\": \"bar\"}], \"barpolar\": [{\"marker\": {\"line\": {\"color\": \"#E5ECF6\", \"width\": 0.5}}, \"type\": \"barpolar\"}], \"carpet\": [{\"aaxis\": {\"endlinecolor\": \"#2a3f5f\", \"gridcolor\": \"white\", \"linecolor\": \"white\", \"minorgridcolor\": \"white\", \"startlinecolor\": \"#2a3f5f\"}, \"baxis\": {\"endlinecolor\": \"#2a3f5f\", \"gridcolor\": \"white\", \"linecolor\": \"white\", \"minorgridcolor\": \"white\", \"startlinecolor\": \"#2a3f5f\"}, \"type\": \"carpet\"}], \"choropleth\": [{\"colorbar\": {\"outlinewidth\": 0, \"ticks\": \"\"}, \"type\": \"choropleth\"}], \"contour\": [{\"colorbar\": {\"outlinewidth\": 0, \"ticks\": \"\"}, \"colorscale\": [[0.0, \"#0d0887\"], [0.1111111111111111, \"#46039f\"], [0.2222222222222222, \"#7201a8\"], [0.3333333333333333, \"#9c179e\"], [0.4444444444444444, \"#bd3786\"], [0.5555555555555556, \"#d8576b\"], [0.6666666666666666, \"#ed7953\"], [0.7777777777777778, \"#fb9f3a\"], [0.8888888888888888, \"#fdca26\"], [1.0, \"#f0f921\"]], \"type\": \"contour\"}], \"contourcarpet\": [{\"colorbar\": {\"outlinewidth\": 0, \"ticks\": \"\"}, \"type\": \"contourcarpet\"}], \"heatmap\": [{\"colorbar\": {\"outlinewidth\": 0, \"ticks\": \"\"}, \"colorscale\": [[0.0, \"#0d0887\"], [0.1111111111111111, \"#46039f\"], [0.2222222222222222, \"#7201a8\"], [0.3333333333333333, \"#9c179e\"], [0.4444444444444444, \"#bd3786\"], [0.5555555555555556, \"#d8576b\"], [0.6666666666666666, \"#ed7953\"], [0.7777777777777778, \"#fb9f3a\"], [0.8888888888888888, \"#fdca26\"], [1.0, \"#f0f921\"]], \"type\": \"heatmap\"}], \"heatmapgl\": [{\"colorbar\": {\"outlinewidth\": 0, \"ticks\": \"\"}, \"colorscale\": [[0.0, \"#0d0887\"], [0.1111111111111111, \"#46039f\"], [0.2222222222222222, \"#7201a8\"], [0.3333333333333333, \"#9c179e\"], [0.4444444444444444, \"#bd3786\"], [0.5555555555555556, \"#d8576b\"], [0.6666666666666666, \"#ed7953\"], [0.7777777777777778, \"#fb9f3a\"], [0.8888888888888888, \"#fdca26\"], [1.0, \"#f0f921\"]], \"type\": \"heatmapgl\"}], \"histogram\": [{\"marker\": {\"colorbar\": {\"outlinewidth\": 0, \"ticks\": \"\"}}, \"type\": \"histogram\"}], \"histogram2d\": [{\"colorbar\": {\"outlinewidth\": 0, \"ticks\": \"\"}, \"colorscale\": [[0.0, \"#0d0887\"], [0.1111111111111111, \"#46039f\"], [0.2222222222222222, \"#7201a8\"], [0.3333333333333333, \"#9c179e\"], [0.4444444444444444, \"#bd3786\"], [0.5555555555555556, \"#d8576b\"], [0.6666666666666666, \"#ed7953\"], [0.7777777777777778, \"#fb9f3a\"], [0.8888888888888888, \"#fdca26\"], [1.0, \"#f0f921\"]], \"type\": \"histogram2d\"}], \"histogram2dcontour\": [{\"colorbar\": {\"outlinewidth\": 0, \"ticks\": \"\"}, \"colorscale\": [[0.0, \"#0d0887\"], [0.1111111111111111, \"#46039f\"], [0.2222222222222222, \"#7201a8\"], [0.3333333333333333, \"#9c179e\"], [0.4444444444444444, \"#bd3786\"], [0.5555555555555556, \"#d8576b\"], [0.6666666666666666, \"#ed7953\"], [0.7777777777777778, \"#fb9f3a\"], [0.8888888888888888, \"#fdca26\"], [1.0, \"#f0f921\"]], \"type\": \"histogram2dcontour\"}], \"mesh3d\": [{\"colorbar\": {\"outlinewidth\": 0, \"ticks\": \"\"}, \"type\": \"mesh3d\"}], \"parcoords\": [{\"line\": {\"colorbar\": {\"outlinewidth\": 0, \"ticks\": \"\"}}, \"type\": \"parcoords\"}], \"pie\": [{\"automargin\": true, \"type\": \"pie\"}], \"scatter\": [{\"marker\": {\"colorbar\": {\"outlinewidth\": 0, \"ticks\": \"\"}}, \"type\": \"scatter\"}], \"scatter3d\": [{\"line\": {\"colorbar\": {\"outlinewidth\": 0, \"ticks\": \"\"}}, \"marker\": {\"colorbar\": {\"outlinewidth\": 0, \"ticks\": \"\"}}, \"type\": \"scatter3d\"}], \"scattercarpet\": [{\"marker\": {\"colorbar\": {\"outlinewidth\": 0, \"ticks\": \"\"}}, \"type\": \"scattercarpet\"}], \"scattergeo\": [{\"marker\": {\"colorbar\": {\"outlinewidth\": 0, \"ticks\": \"\"}}, \"type\": \"scattergeo\"}], \"scattergl\": [{\"marker\": {\"colorbar\": {\"outlinewidth\": 0, \"ticks\": \"\"}}, \"type\": \"scattergl\"}], \"scattermapbox\": [{\"marker\": {\"colorbar\": {\"outlinewidth\": 0, \"ticks\": \"\"}}, \"type\": \"scattermapbox\"}], \"scatterpolar\": [{\"marker\": {\"colorbar\": {\"outlinewidth\": 0, \"ticks\": \"\"}}, \"type\": \"scatterpolar\"}], \"scatterpolargl\": [{\"marker\": {\"colorbar\": {\"outlinewidth\": 0, \"ticks\": \"\"}}, \"type\": \"scatterpolargl\"}], \"scatterternary\": [{\"marker\": {\"colorbar\": {\"outlinewidth\": 0, \"ticks\": \"\"}}, \"type\": \"scatterternary\"}], \"surface\": [{\"colorbar\": {\"outlinewidth\": 0, \"ticks\": \"\"}, \"colorscale\": [[0.0, \"#0d0887\"], [0.1111111111111111, \"#46039f\"], [0.2222222222222222, \"#7201a8\"], [0.3333333333333333, \"#9c179e\"], [0.4444444444444444, \"#bd3786\"], [0.5555555555555556, \"#d8576b\"], [0.6666666666666666, \"#ed7953\"], [0.7777777777777778, \"#fb9f3a\"], [0.8888888888888888, \"#fdca26\"], [1.0, \"#f0f921\"]], \"type\": \"surface\"}], \"table\": [{\"cells\": {\"fill\": {\"color\": \"#EBF0F8\"}, \"line\": {\"color\": \"white\"}}, \"header\": {\"fill\": {\"color\": \"#C8D4E3\"}, \"line\": {\"color\": \"white\"}}, \"type\": \"table\"}]}, \"layout\": {\"annotationdefaults\": {\"arrowcolor\": \"#2a3f5f\", \"arrowhead\": 0, \"arrowwidth\": 1}, \"autotypenumbers\": \"strict\", \"coloraxis\": {\"colorbar\": {\"outlinewidth\": 0, \"ticks\": \"\"}}, \"colorscale\": {\"diverging\": [[0, \"#8e0152\"], [0.1, \"#c51b7d\"], [0.2, \"#de77ae\"], [0.3, \"#f1b6da\"], [0.4, \"#fde0ef\"], [0.5, \"#f7f7f7\"], [0.6, \"#e6f5d0\"], [0.7, \"#b8e186\"], [0.8, \"#7fbc41\"], [0.9, \"#4d9221\"], [1, \"#276419\"]], \"sequential\": [[0.0, \"#0d0887\"], [0.1111111111111111, \"#46039f\"], [0.2222222222222222, \"#7201a8\"], [0.3333333333333333, \"#9c179e\"], [0.4444444444444444, \"#bd3786\"], [0.5555555555555556, \"#d8576b\"], [0.6666666666666666, \"#ed7953\"], [0.7777777777777778, \"#fb9f3a\"], [0.8888888888888888, \"#fdca26\"], [1.0, \"#f0f921\"]], \"sequentialminus\": [[0.0, \"#0d0887\"], [0.1111111111111111, \"#46039f\"], [0.2222222222222222, \"#7201a8\"], [0.3333333333333333, \"#9c179e\"], [0.4444444444444444, \"#bd3786\"], [0.5555555555555556, \"#d8576b\"], [0.6666666666666666, \"#ed7953\"], [0.7777777777777778, \"#fb9f3a\"], [0.8888888888888888, \"#fdca26\"], [1.0, \"#f0f921\"]]}, \"colorway\": [\"#636efa\", \"#EF553B\", \"#00cc96\", \"#ab63fa\", \"#FFA15A\", \"#19d3f3\", \"#FF6692\", \"#B6E880\", \"#FF97FF\", \"#FECB52\"], \"font\": {\"color\": \"#2a3f5f\"}, \"geo\": {\"bgcolor\": \"white\", \"lakecolor\": \"white\", \"landcolor\": \"#E5ECF6\", \"showlakes\": true, \"showland\": true, \"subunitcolor\": \"white\"}, \"hoverlabel\": {\"align\": \"left\"}, \"hovermode\": \"closest\", \"mapbox\": {\"style\": \"light\"}, \"paper_bgcolor\": \"white\", \"plot_bgcolor\": \"#E5ECF6\", \"polar\": {\"angularaxis\": {\"gridcolor\": \"white\", \"linecolor\": \"white\", \"ticks\": \"\"}, \"bgcolor\": \"#E5ECF6\", \"radialaxis\": {\"gridcolor\": \"white\", \"linecolor\": \"white\", \"ticks\": \"\"}}, \"scene\": {\"xaxis\": {\"backgroundcolor\": \"#E5ECF6\", \"gridcolor\": \"white\", \"gridwidth\": 2, \"linecolor\": \"white\", \"showbackground\": true, \"ticks\": \"\", \"zerolinecolor\": \"white\"}, \"yaxis\": {\"backgroundcolor\": \"#E5ECF6\", \"gridcolor\": \"white\", \"gridwidth\": 2, \"linecolor\": \"white\", \"showbackground\": true, \"ticks\": \"\", \"zerolinecolor\": \"white\"}, \"zaxis\": {\"backgroundcolor\": \"#E5ECF6\", \"gridcolor\": \"white\", \"gridwidth\": 2, \"linecolor\": \"white\", \"showbackground\": true, \"ticks\": \"\", \"zerolinecolor\": \"white\"}}, \"shapedefaults\": {\"line\": {\"color\": \"#2a3f5f\"}}, \"ternary\": {\"aaxis\": {\"gridcolor\": \"white\", \"linecolor\": \"white\", \"ticks\": \"\"}, \"baxis\": {\"gridcolor\": \"white\", \"linecolor\": \"white\", \"ticks\": \"\"}, \"bgcolor\": \"#E5ECF6\", \"caxis\": {\"gridcolor\": \"white\", \"linecolor\": \"white\", \"ticks\": \"\"}}, \"title\": {\"x\": 0.05}, \"xaxis\": {\"automargin\": true, \"gridcolor\": \"white\", \"linecolor\": \"white\", \"ticks\": \"\", \"title\": {\"standoff\": 15}, \"zerolinecolor\": \"white\", \"zerolinewidth\": 2}, \"yaxis\": {\"automargin\": true, \"gridcolor\": \"white\", \"linecolor\": \"white\", \"ticks\": \"\", \"title\": {\"standoff\": 15}, \"zerolinecolor\": \"white\", \"zerolinewidth\": 2}}}, \"xaxis\": {\"anchor\": \"y\", \"domain\": [0.0, 0.49], \"title\": {\"text\": \"bldCount\"}}, \"xaxis2\": {\"anchor\": \"y2\", \"domain\": [0.51, 1.0], \"matches\": \"x\", \"title\": {\"text\": \"bldCount\"}}, \"yaxis\": {\"anchor\": \"x\", \"domain\": [0.0, 1.0], \"title\": {\"text\": \"floors\"}}, \"yaxis2\": {\"anchor\": \"x2\", \"domain\": [0.0, 1.0], \"matches\": \"y\", \"showticklabels\": false}},                        {\"responsive\": true}                    ).then(function(){\n",
       "                            \n",
       "var gd = document.getElementById('43de5437-f693-4268-ba85-e6df07419206');\n",
       "var x = new MutationObserver(function (mutations, observer) {{\n",
       "        var display = window.getComputedStyle(gd).display;\n",
       "        if (!display || display === 'none') {{\n",
       "            console.log([gd, 'removed!']);\n",
       "            Plotly.purge(gd);\n",
       "            observer.disconnect();\n",
       "        }}\n",
       "}});\n",
       "\n",
       "// Listen for the removal of the full notebook cells\n",
       "var notebookContainer = gd.closest('#notebook-container');\n",
       "if (notebookContainer) {{\n",
       "    x.observe(notebookContainer, {childList: true});\n",
       "}}\n",
       "\n",
       "// Listen for the clearing of the current output cell\n",
       "var outputEl = gd.closest('.output');\n",
       "if (outputEl) {{\n",
       "    x.observe(outputEl, {childList: true});\n",
       "}}\n",
       "\n",
       "                        })                };                });            </script>        </div>"
      ]
     },
     "metadata": {},
     "output_type": "display_data"
    }
   ],
   "source": [
    "projectMovement = movementsByProject[movementsByProject['Tic']['after']==9].copy()\n",
    "projType = projectMovement['Type of Project']['after'].values[0]\n",
    "bldBefore = projectMovement['bldCode']['before'].values[0]\n",
    "bldAfter = projectMovement['bldCode']['after'].values[0]\n",
    "floorsBefore = projectMovement['Avg Floors']['before'].values[0]\n",
    "floorsAfter = projectMovement['Avg Floors']['after'].values[0]\n",
    "\n",
    "bldNumList = [i for i in range(1,int(bldBefore)+1)] + [i for i in range(1,int(bldAfter)+1)]\n",
    "if projType>1:\n",
    "    floorList = [4 for i in range(1,int(bldBefore)+1)] + [floorsAfter for i in range(1,int(bldAfter)+1)]\n",
    "else:\n",
    "    floorList = [4 for i in range(1,int(bldBefore)+1)] + [floorsAfter-4 for i in range(1,int(bldAfter)+1)]\n",
    "beforeAfterList = ['Before' for i in range(1,int(bldBefore)+1)]+ ['after' for i in range(1,int(bldAfter)+1)]\n",
    "df = pd.DataFrame({'bldCount':bldNumList,'beforeAfter':beforeAfterList,'floors':floorList})\n",
    "if projType>1:\n",
    "    fig = px.bar(df, x='bldCount', y='floors',color='beforeAfter',facet_col='beforeAfter')\n",
    "else:\n",
    "    fig = px.bar(df, x='bldCount', y='floors',color='beforeAfter')\n",
    "fig.show()"
   ]
  },
  {
   "cell_type": "code",
   "execution_count": null,
   "metadata": {},
   "outputs": [],
   "source": []
  },
  {
   "cell_type": "code",
   "execution_count": 547,
   "metadata": {},
   "outputs": [
    {
     "data": {
      "text/plain": [
       "[4, 4, 4, 4, 4, 4, 4, 4, 4, 4, 30.0, 30.0, 30.0, 30.0]"
      ]
     },
     "execution_count": 547,
     "metadata": {},
     "output_type": "execute_result"
    }
   ],
   "source": [
    "floorList"
   ]
  },
  {
   "cell_type": "code",
   "execution_count": 548,
   "metadata": {},
   "outputs": [
    {
     "data": {
      "text/plain": [
       "[1, 2, 3, 4, 5, 6, 7, 8, 9, 10, 1, 2, 3, 4]"
      ]
     },
     "execution_count": 548,
     "metadata": {},
     "output_type": "execute_result"
    }
   ],
   "source": [
    "bldNumList"
   ]
  },
  {
   "cell_type": "code",
   "execution_count": 549,
   "metadata": {},
   "outputs": [],
   "source": []
  },
  {
   "cell_type": "code",
   "execution_count": 550,
   "metadata": {},
   "outputs": [
    {
     "data": {
      "text/html": [
       "<div>\n",
       "<style scoped>\n",
       "    .dataframe tbody tr th:only-of-type {\n",
       "        vertical-align: middle;\n",
       "    }\n",
       "\n",
       "    .dataframe tbody tr th {\n",
       "        vertical-align: top;\n",
       "    }\n",
       "\n",
       "    .dataframe thead th {\n",
       "        text-align: right;\n",
       "    }\n",
       "</style>\n",
       "<table border=\"1\" class=\"dataframe\">\n",
       "  <thead>\n",
       "    <tr style=\"text-align: right;\">\n",
       "      <th></th>\n",
       "      <th>bldCount</th>\n",
       "      <th>beforeAfter</th>\n",
       "      <th>floors</th>\n",
       "    </tr>\n",
       "  </thead>\n",
       "  <tbody>\n",
       "    <tr>\n",
       "      <th>0</th>\n",
       "      <td>1</td>\n",
       "      <td>Before</td>\n",
       "      <td>4.0</td>\n",
       "    </tr>\n",
       "    <tr>\n",
       "      <th>1</th>\n",
       "      <td>2</td>\n",
       "      <td>Before</td>\n",
       "      <td>4.0</td>\n",
       "    </tr>\n",
       "    <tr>\n",
       "      <th>2</th>\n",
       "      <td>3</td>\n",
       "      <td>Before</td>\n",
       "      <td>4.0</td>\n",
       "    </tr>\n",
       "    <tr>\n",
       "      <th>3</th>\n",
       "      <td>4</td>\n",
       "      <td>Before</td>\n",
       "      <td>4.0</td>\n",
       "    </tr>\n",
       "    <tr>\n",
       "      <th>4</th>\n",
       "      <td>5</td>\n",
       "      <td>Before</td>\n",
       "      <td>4.0</td>\n",
       "    </tr>\n",
       "    <tr>\n",
       "      <th>5</th>\n",
       "      <td>6</td>\n",
       "      <td>Before</td>\n",
       "      <td>4.0</td>\n",
       "    </tr>\n",
       "    <tr>\n",
       "      <th>6</th>\n",
       "      <td>7</td>\n",
       "      <td>Before</td>\n",
       "      <td>4.0</td>\n",
       "    </tr>\n",
       "    <tr>\n",
       "      <th>7</th>\n",
       "      <td>8</td>\n",
       "      <td>Before</td>\n",
       "      <td>4.0</td>\n",
       "    </tr>\n",
       "    <tr>\n",
       "      <th>8</th>\n",
       "      <td>9</td>\n",
       "      <td>Before</td>\n",
       "      <td>4.0</td>\n",
       "    </tr>\n",
       "    <tr>\n",
       "      <th>9</th>\n",
       "      <td>10</td>\n",
       "      <td>Before</td>\n",
       "      <td>4.0</td>\n",
       "    </tr>\n",
       "    <tr>\n",
       "      <th>10</th>\n",
       "      <td>1</td>\n",
       "      <td>after</td>\n",
       "      <td>30.0</td>\n",
       "    </tr>\n",
       "    <tr>\n",
       "      <th>11</th>\n",
       "      <td>2</td>\n",
       "      <td>after</td>\n",
       "      <td>30.0</td>\n",
       "    </tr>\n",
       "    <tr>\n",
       "      <th>12</th>\n",
       "      <td>3</td>\n",
       "      <td>after</td>\n",
       "      <td>30.0</td>\n",
       "    </tr>\n",
       "    <tr>\n",
       "      <th>13</th>\n",
       "      <td>4</td>\n",
       "      <td>after</td>\n",
       "      <td>30.0</td>\n",
       "    </tr>\n",
       "  </tbody>\n",
       "</table>\n",
       "</div>"
      ],
      "text/plain": [
       "    bldCount beforeAfter  floors\n",
       "0          1      Before     4.0\n",
       "1          2      Before     4.0\n",
       "2          3      Before     4.0\n",
       "3          4      Before     4.0\n",
       "4          5      Before     4.0\n",
       "5          6      Before     4.0\n",
       "6          7      Before     4.0\n",
       "7          8      Before     4.0\n",
       "8          9      Before     4.0\n",
       "9         10      Before     4.0\n",
       "10         1       after    30.0\n",
       "11         2       after    30.0\n",
       "12         3       after    30.0\n",
       "13         4       after    30.0"
      ]
     },
     "execution_count": 550,
     "metadata": {},
     "output_type": "execute_result"
    }
   ],
   "source": [
    "df"
   ]
  },
  {
   "cell_type": "code",
   "execution_count": 551,
   "metadata": {},
   "outputs": [
    {
     "data": {
      "application/vnd.plotly.v1+json": {
       "config": {
        "plotlyServerURL": "https://plot.ly"
       },
       "data": [
        {
         "alignmentgroup": "True",
         "hovertemplate": "beforeAfter=Before<br>bldCount=%{x}<br>floors=%{y}<extra></extra>",
         "legendgroup": "Before",
         "marker": {
          "color": "#636efa"
         },
         "name": "Before",
         "offsetgroup": "Before",
         "orientation": "v",
         "showlegend": true,
         "textposition": "auto",
         "type": "bar",
         "x": [
          1,
          2,
          3,
          4,
          5,
          6,
          7,
          8,
          9,
          10
         ],
         "xaxis": "x",
         "y": [
          4,
          4,
          4,
          4,
          4,
          4,
          4,
          4,
          4,
          4
         ],
         "yaxis": "y"
        },
        {
         "alignmentgroup": "True",
         "hovertemplate": "beforeAfter=after<br>bldCount=%{x}<br>floors=%{y}<extra></extra>",
         "legendgroup": "after",
         "marker": {
          "color": "#EF553B"
         },
         "name": "after",
         "offsetgroup": "after",
         "orientation": "v",
         "showlegend": true,
         "textposition": "auto",
         "type": "bar",
         "x": [
          1,
          2,
          3,
          4
         ],
         "xaxis": "x2",
         "y": [
          30,
          30,
          30,
          30
         ],
         "yaxis": "y2"
        }
       ],
       "layout": {
        "annotations": [
         {
          "font": {},
          "showarrow": false,
          "text": "beforeAfter=Before",
          "x": 0.245,
          "xanchor": "center",
          "xref": "paper",
          "y": 1,
          "yanchor": "bottom",
          "yref": "paper"
         },
         {
          "font": {},
          "showarrow": false,
          "text": "beforeAfter=after",
          "x": 0.755,
          "xanchor": "center",
          "xref": "paper",
          "y": 1,
          "yanchor": "bottom",
          "yref": "paper"
         }
        ],
        "autosize": true,
        "barmode": "relative",
        "legend": {
         "title": {
          "text": "beforeAfter"
         },
         "tracegroupgap": 0
        },
        "margin": {
         "t": 60
        },
        "template": {
         "data": {
          "bar": [
           {
            "error_x": {
             "color": "#2a3f5f"
            },
            "error_y": {
             "color": "#2a3f5f"
            },
            "marker": {
             "line": {
              "color": "#E5ECF6",
              "width": 0.5
             }
            },
            "type": "bar"
           }
          ],
          "barpolar": [
           {
            "marker": {
             "line": {
              "color": "#E5ECF6",
              "width": 0.5
             }
            },
            "type": "barpolar"
           }
          ],
          "carpet": [
           {
            "aaxis": {
             "endlinecolor": "#2a3f5f",
             "gridcolor": "white",
             "linecolor": "white",
             "minorgridcolor": "white",
             "startlinecolor": "#2a3f5f"
            },
            "baxis": {
             "endlinecolor": "#2a3f5f",
             "gridcolor": "white",
             "linecolor": "white",
             "minorgridcolor": "white",
             "startlinecolor": "#2a3f5f"
            },
            "type": "carpet"
           }
          ],
          "choropleth": [
           {
            "colorbar": {
             "outlinewidth": 0,
             "ticks": ""
            },
            "type": "choropleth"
           }
          ],
          "contour": [
           {
            "colorbar": {
             "outlinewidth": 0,
             "ticks": ""
            },
            "colorscale": [
             [
              0,
              "#0d0887"
             ],
             [
              0.1111111111111111,
              "#46039f"
             ],
             [
              0.2222222222222222,
              "#7201a8"
             ],
             [
              0.3333333333333333,
              "#9c179e"
             ],
             [
              0.4444444444444444,
              "#bd3786"
             ],
             [
              0.5555555555555556,
              "#d8576b"
             ],
             [
              0.6666666666666666,
              "#ed7953"
             ],
             [
              0.7777777777777778,
              "#fb9f3a"
             ],
             [
              0.8888888888888888,
              "#fdca26"
             ],
             [
              1,
              "#f0f921"
             ]
            ],
            "type": "contour"
           }
          ],
          "contourcarpet": [
           {
            "colorbar": {
             "outlinewidth": 0,
             "ticks": ""
            },
            "type": "contourcarpet"
           }
          ],
          "heatmap": [
           {
            "colorbar": {
             "outlinewidth": 0,
             "ticks": ""
            },
            "colorscale": [
             [
              0,
              "#0d0887"
             ],
             [
              0.1111111111111111,
              "#46039f"
             ],
             [
              0.2222222222222222,
              "#7201a8"
             ],
             [
              0.3333333333333333,
              "#9c179e"
             ],
             [
              0.4444444444444444,
              "#bd3786"
             ],
             [
              0.5555555555555556,
              "#d8576b"
             ],
             [
              0.6666666666666666,
              "#ed7953"
             ],
             [
              0.7777777777777778,
              "#fb9f3a"
             ],
             [
              0.8888888888888888,
              "#fdca26"
             ],
             [
              1,
              "#f0f921"
             ]
            ],
            "type": "heatmap"
           }
          ],
          "heatmapgl": [
           {
            "colorbar": {
             "outlinewidth": 0,
             "ticks": ""
            },
            "colorscale": [
             [
              0,
              "#0d0887"
             ],
             [
              0.1111111111111111,
              "#46039f"
             ],
             [
              0.2222222222222222,
              "#7201a8"
             ],
             [
              0.3333333333333333,
              "#9c179e"
             ],
             [
              0.4444444444444444,
              "#bd3786"
             ],
             [
              0.5555555555555556,
              "#d8576b"
             ],
             [
              0.6666666666666666,
              "#ed7953"
             ],
             [
              0.7777777777777778,
              "#fb9f3a"
             ],
             [
              0.8888888888888888,
              "#fdca26"
             ],
             [
              1,
              "#f0f921"
             ]
            ],
            "type": "heatmapgl"
           }
          ],
          "histogram": [
           {
            "marker": {
             "colorbar": {
              "outlinewidth": 0,
              "ticks": ""
             }
            },
            "type": "histogram"
           }
          ],
          "histogram2d": [
           {
            "colorbar": {
             "outlinewidth": 0,
             "ticks": ""
            },
            "colorscale": [
             [
              0,
              "#0d0887"
             ],
             [
              0.1111111111111111,
              "#46039f"
             ],
             [
              0.2222222222222222,
              "#7201a8"
             ],
             [
              0.3333333333333333,
              "#9c179e"
             ],
             [
              0.4444444444444444,
              "#bd3786"
             ],
             [
              0.5555555555555556,
              "#d8576b"
             ],
             [
              0.6666666666666666,
              "#ed7953"
             ],
             [
              0.7777777777777778,
              "#fb9f3a"
             ],
             [
              0.8888888888888888,
              "#fdca26"
             ],
             [
              1,
              "#f0f921"
             ]
            ],
            "type": "histogram2d"
           }
          ],
          "histogram2dcontour": [
           {
            "colorbar": {
             "outlinewidth": 0,
             "ticks": ""
            },
            "colorscale": [
             [
              0,
              "#0d0887"
             ],
             [
              0.1111111111111111,
              "#46039f"
             ],
             [
              0.2222222222222222,
              "#7201a8"
             ],
             [
              0.3333333333333333,
              "#9c179e"
             ],
             [
              0.4444444444444444,
              "#bd3786"
             ],
             [
              0.5555555555555556,
              "#d8576b"
             ],
             [
              0.6666666666666666,
              "#ed7953"
             ],
             [
              0.7777777777777778,
              "#fb9f3a"
             ],
             [
              0.8888888888888888,
              "#fdca26"
             ],
             [
              1,
              "#f0f921"
             ]
            ],
            "type": "histogram2dcontour"
           }
          ],
          "mesh3d": [
           {
            "colorbar": {
             "outlinewidth": 0,
             "ticks": ""
            },
            "type": "mesh3d"
           }
          ],
          "parcoords": [
           {
            "line": {
             "colorbar": {
              "outlinewidth": 0,
              "ticks": ""
             }
            },
            "type": "parcoords"
           }
          ],
          "pie": [
           {
            "automargin": true,
            "type": "pie"
           }
          ],
          "scatter": [
           {
            "marker": {
             "colorbar": {
              "outlinewidth": 0,
              "ticks": ""
             }
            },
            "type": "scatter"
           }
          ],
          "scatter3d": [
           {
            "line": {
             "colorbar": {
              "outlinewidth": 0,
              "ticks": ""
             }
            },
            "marker": {
             "colorbar": {
              "outlinewidth": 0,
              "ticks": ""
             }
            },
            "type": "scatter3d"
           }
          ],
          "scattercarpet": [
           {
            "marker": {
             "colorbar": {
              "outlinewidth": 0,
              "ticks": ""
             }
            },
            "type": "scattercarpet"
           }
          ],
          "scattergeo": [
           {
            "marker": {
             "colorbar": {
              "outlinewidth": 0,
              "ticks": ""
             }
            },
            "type": "scattergeo"
           }
          ],
          "scattergl": [
           {
            "marker": {
             "colorbar": {
              "outlinewidth": 0,
              "ticks": ""
             }
            },
            "type": "scattergl"
           }
          ],
          "scattermapbox": [
           {
            "marker": {
             "colorbar": {
              "outlinewidth": 0,
              "ticks": ""
             }
            },
            "type": "scattermapbox"
           }
          ],
          "scatterpolar": [
           {
            "marker": {
             "colorbar": {
              "outlinewidth": 0,
              "ticks": ""
             }
            },
            "type": "scatterpolar"
           }
          ],
          "scatterpolargl": [
           {
            "marker": {
             "colorbar": {
              "outlinewidth": 0,
              "ticks": ""
             }
            },
            "type": "scatterpolargl"
           }
          ],
          "scatterternary": [
           {
            "marker": {
             "colorbar": {
              "outlinewidth": 0,
              "ticks": ""
             }
            },
            "type": "scatterternary"
           }
          ],
          "surface": [
           {
            "colorbar": {
             "outlinewidth": 0,
             "ticks": ""
            },
            "colorscale": [
             [
              0,
              "#0d0887"
             ],
             [
              0.1111111111111111,
              "#46039f"
             ],
             [
              0.2222222222222222,
              "#7201a8"
             ],
             [
              0.3333333333333333,
              "#9c179e"
             ],
             [
              0.4444444444444444,
              "#bd3786"
             ],
             [
              0.5555555555555556,
              "#d8576b"
             ],
             [
              0.6666666666666666,
              "#ed7953"
             ],
             [
              0.7777777777777778,
              "#fb9f3a"
             ],
             [
              0.8888888888888888,
              "#fdca26"
             ],
             [
              1,
              "#f0f921"
             ]
            ],
            "type": "surface"
           }
          ],
          "table": [
           {
            "cells": {
             "fill": {
              "color": "#EBF0F8"
             },
             "line": {
              "color": "white"
             }
            },
            "header": {
             "fill": {
              "color": "#C8D4E3"
             },
             "line": {
              "color": "white"
             }
            },
            "type": "table"
           }
          ]
         },
         "layout": {
          "annotationdefaults": {
           "arrowcolor": "#2a3f5f",
           "arrowhead": 0,
           "arrowwidth": 1
          },
          "autotypenumbers": "strict",
          "coloraxis": {
           "colorbar": {
            "outlinewidth": 0,
            "ticks": ""
           }
          },
          "colorscale": {
           "diverging": [
            [
             0,
             "#8e0152"
            ],
            [
             0.1,
             "#c51b7d"
            ],
            [
             0.2,
             "#de77ae"
            ],
            [
             0.3,
             "#f1b6da"
            ],
            [
             0.4,
             "#fde0ef"
            ],
            [
             0.5,
             "#f7f7f7"
            ],
            [
             0.6,
             "#e6f5d0"
            ],
            [
             0.7,
             "#b8e186"
            ],
            [
             0.8,
             "#7fbc41"
            ],
            [
             0.9,
             "#4d9221"
            ],
            [
             1,
             "#276419"
            ]
           ],
           "sequential": [
            [
             0,
             "#0d0887"
            ],
            [
             0.1111111111111111,
             "#46039f"
            ],
            [
             0.2222222222222222,
             "#7201a8"
            ],
            [
             0.3333333333333333,
             "#9c179e"
            ],
            [
             0.4444444444444444,
             "#bd3786"
            ],
            [
             0.5555555555555556,
             "#d8576b"
            ],
            [
             0.6666666666666666,
             "#ed7953"
            ],
            [
             0.7777777777777778,
             "#fb9f3a"
            ],
            [
             0.8888888888888888,
             "#fdca26"
            ],
            [
             1,
             "#f0f921"
            ]
           ],
           "sequentialminus": [
            [
             0,
             "#0d0887"
            ],
            [
             0.1111111111111111,
             "#46039f"
            ],
            [
             0.2222222222222222,
             "#7201a8"
            ],
            [
             0.3333333333333333,
             "#9c179e"
            ],
            [
             0.4444444444444444,
             "#bd3786"
            ],
            [
             0.5555555555555556,
             "#d8576b"
            ],
            [
             0.6666666666666666,
             "#ed7953"
            ],
            [
             0.7777777777777778,
             "#fb9f3a"
            ],
            [
             0.8888888888888888,
             "#fdca26"
            ],
            [
             1,
             "#f0f921"
            ]
           ]
          },
          "colorway": [
           "#636efa",
           "#EF553B",
           "#00cc96",
           "#ab63fa",
           "#FFA15A",
           "#19d3f3",
           "#FF6692",
           "#B6E880",
           "#FF97FF",
           "#FECB52"
          ],
          "font": {
           "color": "#2a3f5f"
          },
          "geo": {
           "bgcolor": "white",
           "lakecolor": "white",
           "landcolor": "#E5ECF6",
           "showlakes": true,
           "showland": true,
           "subunitcolor": "white"
          },
          "hoverlabel": {
           "align": "left"
          },
          "hovermode": "closest",
          "mapbox": {
           "style": "light"
          },
          "paper_bgcolor": "white",
          "plot_bgcolor": "#E5ECF6",
          "polar": {
           "angularaxis": {
            "gridcolor": "white",
            "linecolor": "white",
            "ticks": ""
           },
           "bgcolor": "#E5ECF6",
           "radialaxis": {
            "gridcolor": "white",
            "linecolor": "white",
            "ticks": ""
           }
          },
          "scene": {
           "xaxis": {
            "backgroundcolor": "#E5ECF6",
            "gridcolor": "white",
            "gridwidth": 2,
            "linecolor": "white",
            "showbackground": true,
            "ticks": "",
            "zerolinecolor": "white"
           },
           "yaxis": {
            "backgroundcolor": "#E5ECF6",
            "gridcolor": "white",
            "gridwidth": 2,
            "linecolor": "white",
            "showbackground": true,
            "ticks": "",
            "zerolinecolor": "white"
           },
           "zaxis": {
            "backgroundcolor": "#E5ECF6",
            "gridcolor": "white",
            "gridwidth": 2,
            "linecolor": "white",
            "showbackground": true,
            "ticks": "",
            "zerolinecolor": "white"
           }
          },
          "shapedefaults": {
           "line": {
            "color": "#2a3f5f"
           }
          },
          "ternary": {
           "aaxis": {
            "gridcolor": "white",
            "linecolor": "white",
            "ticks": ""
           },
           "baxis": {
            "gridcolor": "white",
            "linecolor": "white",
            "ticks": ""
           },
           "bgcolor": "#E5ECF6",
           "caxis": {
            "gridcolor": "white",
            "linecolor": "white",
            "ticks": ""
           }
          },
          "title": {
           "x": 0.05
          },
          "xaxis": {
           "automargin": true,
           "gridcolor": "white",
           "linecolor": "white",
           "ticks": "",
           "title": {
            "standoff": 15
           },
           "zerolinecolor": "white",
           "zerolinewidth": 2
          },
          "yaxis": {
           "automargin": true,
           "gridcolor": "white",
           "linecolor": "white",
           "ticks": "",
           "title": {
            "standoff": 15
           },
           "zerolinecolor": "white",
           "zerolinewidth": 2
          }
         }
        },
        "xaxis": {
         "anchor": "y",
         "autorange": true,
         "domain": [
          0,
          0.49
         ],
         "range": [
          0.5,
          10.5
         ],
         "title": {
          "text": "bldCount"
         },
         "type": "linear"
        },
        "xaxis2": {
         "anchor": "y2",
         "autorange": true,
         "domain": [
          0.51,
          1
         ],
         "matches": "x",
         "range": [
          0.5,
          10.5
         ],
         "title": {
          "text": "bldCount"
         },
         "type": "linear"
        },
        "yaxis": {
         "anchor": "x",
         "autorange": true,
         "domain": [
          0,
          1
         ],
         "range": [
          0,
          31.57894736842105
         ],
         "title": {
          "text": "floors"
         },
         "type": "linear"
        },
        "yaxis2": {
         "anchor": "x2",
         "autorange": true,
         "domain": [
          0,
          1
         ],
         "matches": "y",
         "range": [
          0,
          31.57894736842105
         ],
         "showticklabels": false,
         "type": "linear"
        }
       }
      },
      "image/png": "[encoded data removed]",
      "text/html": [
       "<div>                            <div id=\"8df6d3e9-6812-463d-ac31-81d9af7caaaa\" class=\"plotly-graph-div\" style=\"height:525px; width:100%;\"></div>            <script type=\"text/javascript\">                require([\"plotly\"], function(Plotly) {                    window.PLOTLYENV=window.PLOTLYENV || {};                                    if (document.getElementById(\"8df6d3e9-6812-463d-ac31-81d9af7caaaa\")) {                    Plotly.newPlot(                        \"8df6d3e9-6812-463d-ac31-81d9af7caaaa\",                        [{\"alignmentgroup\": \"True\", \"hovertemplate\": \"beforeAfter=Before<br>bldCount=%{x}<br>floors=%{y}<extra></extra>\", \"legendgroup\": \"Before\", \"marker\": {\"color\": \"#636efa\"}, \"name\": \"Before\", \"offsetgroup\": \"Before\", \"orientation\": \"v\", \"showlegend\": true, \"textposition\": \"auto\", \"type\": \"bar\", \"x\": [1, 2, 3, 4, 5, 6, 7, 8, 9, 10], \"xaxis\": \"x\", \"y\": [4.0, 4.0, 4.0, 4.0, 4.0, 4.0, 4.0, 4.0, 4.0, 4.0], \"yaxis\": \"y\"}, {\"alignmentgroup\": \"True\", \"hovertemplate\": \"beforeAfter=after<br>bldCount=%{x}<br>floors=%{y}<extra></extra>\", \"legendgroup\": \"after\", \"marker\": {\"color\": \"#EF553B\"}, \"name\": \"after\", \"offsetgroup\": \"after\", \"orientation\": \"v\", \"showlegend\": true, \"textposition\": \"auto\", \"type\": \"bar\", \"x\": [1, 2, 3, 4], \"xaxis\": \"x2\", \"y\": [30.0, 30.0, 30.0, 30.0], \"yaxis\": \"y2\"}],                        {\"annotations\": [{\"font\": {}, \"showarrow\": false, \"text\": \"beforeAfter=Before\", \"x\": 0.245, \"xanchor\": \"center\", \"xref\": \"paper\", \"y\": 1.0, \"yanchor\": \"bottom\", \"yref\": \"paper\"}, {\"font\": {}, \"showarrow\": false, \"text\": \"beforeAfter=after\", \"x\": 0.755, \"xanchor\": \"center\", \"xref\": \"paper\", \"y\": 1.0, \"yanchor\": \"bottom\", \"yref\": \"paper\"}], \"barmode\": \"relative\", \"legend\": {\"title\": {\"text\": \"beforeAfter\"}, \"tracegroupgap\": 0}, \"margin\": {\"t\": 60}, \"template\": {\"data\": {\"bar\": [{\"error_x\": {\"color\": \"#2a3f5f\"}, \"error_y\": {\"color\": \"#2a3f5f\"}, \"marker\": {\"line\": {\"color\": \"#E5ECF6\", \"width\": 0.5}}, \"type\": \"bar\"}], \"barpolar\": [{\"marker\": {\"line\": {\"color\": \"#E5ECF6\", \"width\": 0.5}}, \"type\": \"barpolar\"}], \"carpet\": [{\"aaxis\": {\"endlinecolor\": \"#2a3f5f\", \"gridcolor\": \"white\", \"linecolor\": \"white\", \"minorgridcolor\": \"white\", \"startlinecolor\": \"#2a3f5f\"}, \"baxis\": {\"endlinecolor\": \"#2a3f5f\", \"gridcolor\": \"white\", \"linecolor\": \"white\", \"minorgridcolor\": \"white\", \"startlinecolor\": \"#2a3f5f\"}, \"type\": \"carpet\"}], \"choropleth\": [{\"colorbar\": {\"outlinewidth\": 0, \"ticks\": \"\"}, \"type\": \"choropleth\"}], \"contour\": [{\"colorbar\": {\"outlinewidth\": 0, \"ticks\": \"\"}, \"colorscale\": [[0.0, \"#0d0887\"], [0.1111111111111111, \"#46039f\"], [0.2222222222222222, \"#7201a8\"], [0.3333333333333333, \"#9c179e\"], [0.4444444444444444, \"#bd3786\"], [0.5555555555555556, \"#d8576b\"], [0.6666666666666666, \"#ed7953\"], [0.7777777777777778, \"#fb9f3a\"], [0.8888888888888888, \"#fdca26\"], [1.0, \"#f0f921\"]], \"type\": \"contour\"}], \"contourcarpet\": [{\"colorbar\": {\"outlinewidth\": 0, \"ticks\": \"\"}, \"type\": \"contourcarpet\"}], \"heatmap\": [{\"colorbar\": {\"outlinewidth\": 0, \"ticks\": \"\"}, \"colorscale\": [[0.0, \"#0d0887\"], [0.1111111111111111, \"#46039f\"], [0.2222222222222222, \"#7201a8\"], [0.3333333333333333, \"#9c179e\"], [0.4444444444444444, \"#bd3786\"], [0.5555555555555556, \"#d8576b\"], [0.6666666666666666, \"#ed7953\"], [0.7777777777777778, \"#fb9f3a\"], [0.8888888888888888, \"#fdca26\"], [1.0, \"#f0f921\"]], \"type\": \"heatmap\"}], \"heatmapgl\": [{\"colorbar\": {\"outlinewidth\": 0, \"ticks\": \"\"}, \"colorscale\": [[0.0, \"#0d0887\"], [0.1111111111111111, \"#46039f\"], [0.2222222222222222, \"#7201a8\"], [0.3333333333333333, \"#9c179e\"], [0.4444444444444444, \"#bd3786\"], [0.5555555555555556, \"#d8576b\"], [0.6666666666666666, \"#ed7953\"], [0.7777777777777778, \"#fb9f3a\"], [0.8888888888888888, \"#fdca26\"], [1.0, \"#f0f921\"]], \"type\": \"heatmapgl\"}], \"histogram\": [{\"marker\": {\"colorbar\": {\"outlinewidth\": 0, \"ticks\": \"\"}}, \"type\": \"histogram\"}], \"histogram2d\": [{\"colorbar\": {\"outlinewidth\": 0, \"ticks\": \"\"}, \"colorscale\": [[0.0, \"#0d0887\"], [0.1111111111111111, \"#46039f\"], [0.2222222222222222, \"#7201a8\"], [0.3333333333333333, \"#9c179e\"], [0.4444444444444444, \"#bd3786\"], [0.5555555555555556, \"#d8576b\"], [0.6666666666666666, \"#ed7953\"], [0.7777777777777778, \"#fb9f3a\"], [0.8888888888888888, \"#fdca26\"], [1.0, \"#f0f921\"]], \"type\": \"histogram2d\"}], \"histogram2dcontour\": [{\"colorbar\": {\"outlinewidth\": 0, \"ticks\": \"\"}, \"colorscale\": [[0.0, \"#0d0887\"], [0.1111111111111111, \"#46039f\"], [0.2222222222222222, \"#7201a8\"], [0.3333333333333333, \"#9c179e\"], [0.4444444444444444, \"#bd3786\"], [0.5555555555555556, \"#d8576b\"], [0.6666666666666666, \"#ed7953\"], [0.7777777777777778, \"#fb9f3a\"], [0.8888888888888888, \"#fdca26\"], [1.0, \"#f0f921\"]], \"type\": \"histogram2dcontour\"}], \"mesh3d\": [{\"colorbar\": {\"outlinewidth\": 0, \"ticks\": \"\"}, \"type\": \"mesh3d\"}], \"parcoords\": [{\"line\": {\"colorbar\": {\"outlinewidth\": 0, \"ticks\": \"\"}}, \"type\": \"parcoords\"}], \"pie\": [{\"automargin\": true, \"type\": \"pie\"}], \"scatter\": [{\"marker\": {\"colorbar\": {\"outlinewidth\": 0, \"ticks\": \"\"}}, \"type\": \"scatter\"}], \"scatter3d\": [{\"line\": {\"colorbar\": {\"outlinewidth\": 0, \"ticks\": \"\"}}, \"marker\": {\"colorbar\": {\"outlinewidth\": 0, \"ticks\": \"\"}}, \"type\": \"scatter3d\"}], \"scattercarpet\": [{\"marker\": {\"colorbar\": {\"outlinewidth\": 0, \"ticks\": \"\"}}, \"type\": \"scattercarpet\"}], \"scattergeo\": [{\"marker\": {\"colorbar\": {\"outlinewidth\": 0, \"ticks\": \"\"}}, \"type\": \"scattergeo\"}], \"scattergl\": [{\"marker\": {\"colorbar\": {\"outlinewidth\": 0, \"ticks\": \"\"}}, \"type\": \"scattergl\"}], \"scattermapbox\": [{\"marker\": {\"colorbar\": {\"outlinewidth\": 0, \"ticks\": \"\"}}, \"type\": \"scattermapbox\"}], \"scatterpolar\": [{\"marker\": {\"colorbar\": {\"outlinewidth\": 0, \"ticks\": \"\"}}, \"type\": \"scatterpolar\"}], \"scatterpolargl\": [{\"marker\": {\"colorbar\": {\"outlinewidth\": 0, \"ticks\": \"\"}}, \"type\": \"scatterpolargl\"}], \"scatterternary\": [{\"marker\": {\"colorbar\": {\"outlinewidth\": 0, \"ticks\": \"\"}}, \"type\": \"scatterternary\"}], \"surface\": [{\"colorbar\": {\"outlinewidth\": 0, \"ticks\": \"\"}, \"colorscale\": [[0.0, \"#0d0887\"], [0.1111111111111111, \"#46039f\"], [0.2222222222222222, \"#7201a8\"], [0.3333333333333333, \"#9c179e\"], [0.4444444444444444, \"#bd3786\"], [0.5555555555555556, \"#d8576b\"], [0.6666666666666666, \"#ed7953\"], [0.7777777777777778, \"#fb9f3a\"], [0.8888888888888888, \"#fdca26\"], [1.0, \"#f0f921\"]], \"type\": \"surface\"}], \"table\": [{\"cells\": {\"fill\": {\"color\": \"#EBF0F8\"}, \"line\": {\"color\": \"white\"}}, \"header\": {\"fill\": {\"color\": \"#C8D4E3\"}, \"line\": {\"color\": \"white\"}}, \"type\": \"table\"}]}, \"layout\": {\"annotationdefaults\": {\"arrowcolor\": \"#2a3f5f\", \"arrowhead\": 0, \"arrowwidth\": 1}, \"autotypenumbers\": \"strict\", \"coloraxis\": {\"colorbar\": {\"outlinewidth\": 0, \"ticks\": \"\"}}, \"colorscale\": {\"diverging\": [[0, \"#8e0152\"], [0.1, \"#c51b7d\"], [0.2, \"#de77ae\"], [0.3, \"#f1b6da\"], [0.4, \"#fde0ef\"], [0.5, \"#f7f7f7\"], [0.6, \"#e6f5d0\"], [0.7, \"#b8e186\"], [0.8, \"#7fbc41\"], [0.9, \"#4d9221\"], [1, \"#276419\"]], \"sequential\": [[0.0, \"#0d0887\"], [0.1111111111111111, \"#46039f\"], [0.2222222222222222, \"#7201a8\"], [0.3333333333333333, \"#9c179e\"], [0.4444444444444444, \"#bd3786\"], [0.5555555555555556, \"#d8576b\"], [0.6666666666666666, \"#ed7953\"], [0.7777777777777778, \"#fb9f3a\"], [0.8888888888888888, \"#fdca26\"], [1.0, \"#f0f921\"]], \"sequentialminus\": [[0.0, \"#0d0887\"], [0.1111111111111111, \"#46039f\"], [0.2222222222222222, \"#7201a8\"], [0.3333333333333333, \"#9c179e\"], [0.4444444444444444, \"#bd3786\"], [0.5555555555555556, \"#d8576b\"], [0.6666666666666666, \"#ed7953\"], [0.7777777777777778, \"#fb9f3a\"], [0.8888888888888888, \"#fdca26\"], [1.0, \"#f0f921\"]]}, \"colorway\": [\"#636efa\", \"#EF553B\", \"#00cc96\", \"#ab63fa\", \"#FFA15A\", \"#19d3f3\", \"#FF6692\", \"#B6E880\", \"#FF97FF\", \"#FECB52\"], \"font\": {\"color\": \"#2a3f5f\"}, \"geo\": {\"bgcolor\": \"white\", \"lakecolor\": \"white\", \"landcolor\": \"#E5ECF6\", \"showlakes\": true, \"showland\": true, \"subunitcolor\": \"white\"}, \"hoverlabel\": {\"align\": \"left\"}, \"hovermode\": \"closest\", \"mapbox\": {\"style\": \"light\"}, \"paper_bgcolor\": \"white\", \"plot_bgcolor\": \"#E5ECF6\", \"polar\": {\"angularaxis\": {\"gridcolor\": \"white\", \"linecolor\": \"white\", \"ticks\": \"\"}, \"bgcolor\": \"#E5ECF6\", \"radialaxis\": {\"gridcolor\": \"white\", \"linecolor\": \"white\", \"ticks\": \"\"}}, \"scene\": {\"xaxis\": {\"backgroundcolor\": \"#E5ECF6\", \"gridcolor\": \"white\", \"gridwidth\": 2, \"linecolor\": \"white\", \"showbackground\": true, \"ticks\": \"\", \"zerolinecolor\": \"white\"}, \"yaxis\": {\"backgroundcolor\": \"#E5ECF6\", \"gridcolor\": \"white\", \"gridwidth\": 2, \"linecolor\": \"white\", \"showbackground\": true, \"ticks\": \"\", \"zerolinecolor\": \"white\"}, \"zaxis\": {\"backgroundcolor\": \"#E5ECF6\", \"gridcolor\": \"white\", \"gridwidth\": 2, \"linecolor\": \"white\", \"showbackground\": true, \"ticks\": \"\", \"zerolinecolor\": \"white\"}}, \"shapedefaults\": {\"line\": {\"color\": \"#2a3f5f\"}}, \"ternary\": {\"aaxis\": {\"gridcolor\": \"white\", \"linecolor\": \"white\", \"ticks\": \"\"}, \"baxis\": {\"gridcolor\": \"white\", \"linecolor\": \"white\", \"ticks\": \"\"}, \"bgcolor\": \"#E5ECF6\", \"caxis\": {\"gridcolor\": \"white\", \"linecolor\": \"white\", \"ticks\": \"\"}}, \"title\": {\"x\": 0.05}, \"xaxis\": {\"automargin\": true, \"gridcolor\": \"white\", \"linecolor\": \"white\", \"ticks\": \"\", \"title\": {\"standoff\": 15}, \"zerolinecolor\": \"white\", \"zerolinewidth\": 2}, \"yaxis\": {\"automargin\": true, \"gridcolor\": \"white\", \"linecolor\": \"white\", \"ticks\": \"\", \"title\": {\"standoff\": 15}, \"zerolinecolor\": \"white\", \"zerolinewidth\": 2}}}, \"xaxis\": {\"anchor\": \"y\", \"domain\": [0.0, 0.49], \"title\": {\"text\": \"bldCount\"}}, \"xaxis2\": {\"anchor\": \"y2\", \"domain\": [0.51, 1.0], \"matches\": \"x\", \"title\": {\"text\": \"bldCount\"}}, \"yaxis\": {\"anchor\": \"x\", \"domain\": [0.0, 1.0], \"title\": {\"text\": \"floors\"}}, \"yaxis2\": {\"anchor\": \"x2\", \"domain\": [0.0, 1.0], \"matches\": \"y\", \"showticklabels\": false}},                        {\"responsive\": true}                    ).then(function(){\n",
       "                            \n",
       "var gd = document.getElementById('8df6d3e9-6812-463d-ac31-81d9af7caaaa');\n",
       "var x = new MutationObserver(function (mutations, observer) {{\n",
       "        var display = window.getComputedStyle(gd).display;\n",
       "        if (!display || display === 'none') {{\n",
       "            console.log([gd, 'removed!']);\n",
       "            Plotly.purge(gd);\n",
       "            observer.disconnect();\n",
       "        }}\n",
       "}});\n",
       "\n",
       "// Listen for the removal of the full notebook cells\n",
       "var notebookContainer = gd.closest('#notebook-container');\n",
       "if (notebookContainer) {{\n",
       "    x.observe(notebookContainer, {childList: true});\n",
       "}}\n",
       "\n",
       "// Listen for the clearing of the current output cell\n",
       "var outputEl = gd.closest('.output');\n",
       "if (outputEl) {{\n",
       "    x.observe(outputEl, {childList: true});\n",
       "}}\n",
       "\n",
       "                        })                };                });            </script>        </div>"
      ]
     },
     "metadata": {},
     "output_type": "display_data"
    }
   ],
   "source": []
  },
  {
   "cell_type": "code",
   "execution_count": null,
   "metadata": {},
   "outputs": [],
   "source": []
  },
  {
   "cell_type": "code",
   "execution_count": 459,
   "metadata": {},
   "outputs": [
    {
     "data": {
      "text/html": [
       "<div>\n",
       "<style scoped>\n",
       "    .dataframe tbody tr th:only-of-type {\n",
       "        vertical-align: middle;\n",
       "    }\n",
       "\n",
       "    .dataframe tbody tr th {\n",
       "        vertical-align: top;\n",
       "    }\n",
       "\n",
       "    .dataframe thead tr th {\n",
       "        text-align: left;\n",
       "    }\n",
       "</style>\n",
       "<table border=\"1\" class=\"dataframe\">\n",
       "  <thead>\n",
       "    <tr>\n",
       "      <th></th>\n",
       "      <th>Unnamed: 0_level_0</th>\n",
       "      <th colspan=\"2\" halign=\"left\">Total Households</th>\n",
       "      <th colspan=\"2\" halign=\"left\">bldCode</th>\n",
       "      <th colspan=\"2\" halign=\"left\">Avg Floors</th>\n",
       "      <th colspan=\"2\" halign=\"left\">Apartment Size Sq Meters</th>\n",
       "      <th colspan=\"2\" halign=\"left\">Years in Building</th>\n",
       "      <th colspan=\"2\" halign=\"left\">Average Age</th>\n",
       "      <th colspan=\"2\" halign=\"left\">average income</th>\n",
       "      <th colspan=\"2\" halign=\"left\">Nubmer of renters</th>\n",
       "      <th colspan=\"2\" halign=\"left\">Number of owners</th>\n",
       "      <th colspan=\"2\" halign=\"left\">Leaving Renters</th>\n",
       "      <th colspan=\"2\" halign=\"left\">Leaving Owners</th>\n",
       "      <th colspan=\"2\" halign=\"left\">New Renters</th>\n",
       "      <th colspan=\"2\" halign=\"left\">New Owners</th>\n",
       "      <th colspan=\"2\" halign=\"left\">Type of Project</th>\n",
       "      <th colspan=\"2\" halign=\"left\">Tic</th>\n",
       "      <th colspan=\"2\" halign=\"left\">Cost For Staying</th>\n",
       "      <th colspan=\"2\" halign=\"left\">Ratio Cost For Staying</th>\n",
       "      <th colspan=\"2\" halign=\"left\">Staying</th>\n",
       "      <th colspan=\"2\" halign=\"left\">New Comers</th>\n",
       "      <th colspan=\"2\" halign=\"left\">Leaving</th>\n",
       "      <th colspan=\"2\" halign=\"left\">Under 65</th>\n",
       "      <th colspan=\"2\" halign=\"left\">Above 65</th>\n",
       "      <th colspan=\"2\" halign=\"left\">Low Income</th>\n",
       "      <th colspan=\"2\" halign=\"left\">Medium Income</th>\n",
       "      <th colspan=\"2\" halign=\"left\">High Income</th>\n",
       "      <th colspan=\"2\" halign=\"left\">Before or After Renewal</th>\n",
       "    </tr>\n",
       "    <tr>\n",
       "      <th></th>\n",
       "      <th>bldStaus</th>\n",
       "      <th>after</th>\n",
       "      <th>before</th>\n",
       "      <th>after</th>\n",
       "      <th>before</th>\n",
       "      <th>after</th>\n",
       "      <th>before</th>\n",
       "      <th>after</th>\n",
       "      <th>before</th>\n",
       "      <th>after</th>\n",
       "      <th>before</th>\n",
       "      <th>after</th>\n",
       "      <th>before</th>\n",
       "      <th>after</th>\n",
       "      <th>before</th>\n",
       "      <th>after</th>\n",
       "      <th>before</th>\n",
       "      <th>after</th>\n",
       "      <th>before</th>\n",
       "      <th>after</th>\n",
       "      <th>before</th>\n",
       "      <th>after</th>\n",
       "      <th>before</th>\n",
       "      <th>after</th>\n",
       "      <th>before</th>\n",
       "      <th>after</th>\n",
       "      <th>before</th>\n",
       "      <th>after</th>\n",
       "      <th>before</th>\n",
       "      <th>after</th>\n",
       "      <th>before</th>\n",
       "      <th>after</th>\n",
       "      <th>before</th>\n",
       "      <th>after</th>\n",
       "      <th>before</th>\n",
       "      <th>after</th>\n",
       "      <th>before</th>\n",
       "      <th>after</th>\n",
       "      <th>before</th>\n",
       "      <th>after</th>\n",
       "      <th>before</th>\n",
       "      <th>after</th>\n",
       "      <th>before</th>\n",
       "      <th>after</th>\n",
       "      <th>before</th>\n",
       "      <th>after</th>\n",
       "      <th>before</th>\n",
       "      <th>after</th>\n",
       "      <th>before</th>\n",
       "      <th>after</th>\n",
       "      <th>before</th>\n",
       "      <th>after</th>\n",
       "      <th>before</th>\n",
       "    </tr>\n",
       "  </thead>\n",
       "  <tbody>\n",
       "    <tr>\n",
       "      <th>0</th>\n",
       "      <td>ProjNumber</td>\n",
       "      <td>NaN</td>\n",
       "      <td>NaN</td>\n",
       "      <td>NaN</td>\n",
       "      <td>NaN</td>\n",
       "      <td>NaN</td>\n",
       "      <td>NaN</td>\n",
       "      <td>NaN</td>\n",
       "      <td>NaN</td>\n",
       "      <td>NaN</td>\n",
       "      <td>NaN</td>\n",
       "      <td>NaN</td>\n",
       "      <td>NaN</td>\n",
       "      <td>NaN</td>\n",
       "      <td>NaN</td>\n",
       "      <td>NaN</td>\n",
       "      <td>NaN</td>\n",
       "      <td>NaN</td>\n",
       "      <td>NaN</td>\n",
       "      <td>NaN</td>\n",
       "      <td>NaN</td>\n",
       "      <td>NaN</td>\n",
       "      <td>NaN</td>\n",
       "      <td>NaN</td>\n",
       "      <td>NaN</td>\n",
       "      <td>NaN</td>\n",
       "      <td>NaN</td>\n",
       "      <td>NaN</td>\n",
       "      <td>NaN</td>\n",
       "      <td>NaN</td>\n",
       "      <td>NaN</td>\n",
       "      <td>NaN</td>\n",
       "      <td>NaN</td>\n",
       "      <td>NaN</td>\n",
       "      <td>NaN</td>\n",
       "      <td>NaN</td>\n",
       "      <td>NaN</td>\n",
       "      <td>NaN</td>\n",
       "      <td>NaN</td>\n",
       "      <td>NaN</td>\n",
       "      <td>NaN</td>\n",
       "      <td>NaN</td>\n",
       "      <td>NaN</td>\n",
       "      <td>NaN</td>\n",
       "      <td>NaN</td>\n",
       "      <td>NaN</td>\n",
       "      <td>NaN</td>\n",
       "      <td>NaN</td>\n",
       "      <td>NaN</td>\n",
       "      <td>NaN</td>\n",
       "      <td>NaN</td>\n",
       "      <td>NaN</td>\n",
       "      <td>NaN</td>\n",
       "    </tr>\n",
       "    <tr>\n",
       "      <th>1</th>\n",
       "      <td>20100133</td>\n",
       "      <td>40.0</td>\n",
       "      <td>16.0</td>\n",
       "      <td>1.0</td>\n",
       "      <td>1.0</td>\n",
       "      <td>6.0</td>\n",
       "      <td>0.0</td>\n",
       "      <td>82.0</td>\n",
       "      <td>70.0</td>\n",
       "      <td>11.8</td>\n",
       "      <td>29.6</td>\n",
       "      <td>44.0</td>\n",
       "      <td>40.1</td>\n",
       "      <td>15291.0</td>\n",
       "      <td>7703.0</td>\n",
       "      <td>16.0</td>\n",
       "      <td>6.0</td>\n",
       "      <td>24.0</td>\n",
       "      <td>10.0</td>\n",
       "      <td>6.0</td>\n",
       "      <td>0.0</td>\n",
       "      <td>8.0</td>\n",
       "      <td>0.0</td>\n",
       "      <td>10.0</td>\n",
       "      <td>0.0</td>\n",
       "      <td>14.0</td>\n",
       "      <td>0.0</td>\n",
       "      <td>1.0</td>\n",
       "      <td>0.0</td>\n",
       "      <td>2.0</td>\n",
       "      <td>0.0</td>\n",
       "      <td>4334.0</td>\n",
       "      <td>0.0</td>\n",
       "      <td>0.24</td>\n",
       "      <td>0.0</td>\n",
       "      <td>2.0</td>\n",
       "      <td>16.0</td>\n",
       "      <td>24.0</td>\n",
       "      <td>0.0</td>\n",
       "      <td>14.0</td>\n",
       "      <td>0.0</td>\n",
       "      <td>32.0</td>\n",
       "      <td>13.0</td>\n",
       "      <td>8.0</td>\n",
       "      <td>3.0</td>\n",
       "      <td>11.0</td>\n",
       "      <td>11.0</td>\n",
       "      <td>10.0</td>\n",
       "      <td>5.0</td>\n",
       "      <td>19.0</td>\n",
       "      <td>0.0</td>\n",
       "      <td>after</td>\n",
       "      <td>before</td>\n",
       "    </tr>\n",
       "    <tr>\n",
       "      <th>2</th>\n",
       "      <td>20110270</td>\n",
       "      <td>48.0</td>\n",
       "      <td>18.0</td>\n",
       "      <td>1.0</td>\n",
       "      <td>1.0</td>\n",
       "      <td>7.0</td>\n",
       "      <td>0.0</td>\n",
       "      <td>92.0</td>\n",
       "      <td>80.0</td>\n",
       "      <td>10.4</td>\n",
       "      <td>27.8</td>\n",
       "      <td>50.8</td>\n",
       "      <td>52.3</td>\n",
       "      <td>17147.0</td>\n",
       "      <td>8263.0</td>\n",
       "      <td>15.0</td>\n",
       "      <td>5.0</td>\n",
       "      <td>33.0</td>\n",
       "      <td>13.0</td>\n",
       "      <td>5.0</td>\n",
       "      <td>0.0</td>\n",
       "      <td>10.0</td>\n",
       "      <td>0.0</td>\n",
       "      <td>10.0</td>\n",
       "      <td>0.0</td>\n",
       "      <td>20.0</td>\n",
       "      <td>0.0</td>\n",
       "      <td>1.0</td>\n",
       "      <td>0.0</td>\n",
       "      <td>17.0</td>\n",
       "      <td>0.0</td>\n",
       "      <td>5005.0</td>\n",
       "      <td>0.0</td>\n",
       "      <td>0.25</td>\n",
       "      <td>0.0</td>\n",
       "      <td>3.0</td>\n",
       "      <td>18.0</td>\n",
       "      <td>30.0</td>\n",
       "      <td>0.0</td>\n",
       "      <td>15.0</td>\n",
       "      <td>0.0</td>\n",
       "      <td>35.0</td>\n",
       "      <td>11.0</td>\n",
       "      <td>13.0</td>\n",
       "      <td>7.0</td>\n",
       "      <td>12.0</td>\n",
       "      <td>12.0</td>\n",
       "      <td>8.0</td>\n",
       "      <td>6.0</td>\n",
       "      <td>28.0</td>\n",
       "      <td>0.0</td>\n",
       "      <td>after</td>\n",
       "      <td>before</td>\n",
       "    </tr>\n",
       "    <tr>\n",
       "      <th>3</th>\n",
       "      <td>20120894</td>\n",
       "      <td>77.0</td>\n",
       "      <td>16.0</td>\n",
       "      <td>1.0</td>\n",
       "      <td>1.0</td>\n",
       "      <td>6.0</td>\n",
       "      <td>0.0</td>\n",
       "      <td>72.0</td>\n",
       "      <td>60.0</td>\n",
       "      <td>5.0</td>\n",
       "      <td>23.9</td>\n",
       "      <td>47.2</td>\n",
       "      <td>40.3</td>\n",
       "      <td>16484.0</td>\n",
       "      <td>10213.0</td>\n",
       "      <td>27.0</td>\n",
       "      <td>2.0</td>\n",
       "      <td>50.0</td>\n",
       "      <td>14.0</td>\n",
       "      <td>2.0</td>\n",
       "      <td>0.0</td>\n",
       "      <td>5.0</td>\n",
       "      <td>0.0</td>\n",
       "      <td>25.0</td>\n",
       "      <td>0.0</td>\n",
       "      <td>36.0</td>\n",
       "      <td>0.0</td>\n",
       "      <td>1.0</td>\n",
       "      <td>0.0</td>\n",
       "      <td>14.0</td>\n",
       "      <td>0.0</td>\n",
       "      <td>4847.0</td>\n",
       "      <td>0.0</td>\n",
       "      <td>0.28</td>\n",
       "      <td>0.0</td>\n",
       "      <td>9.0</td>\n",
       "      <td>16.0</td>\n",
       "      <td>61.0</td>\n",
       "      <td>0.0</td>\n",
       "      <td>7.0</td>\n",
       "      <td>0.0</td>\n",
       "      <td>63.0</td>\n",
       "      <td>14.0</td>\n",
       "      <td>14.0</td>\n",
       "      <td>2.0</td>\n",
       "      <td>5.0</td>\n",
       "      <td>5.0</td>\n",
       "      <td>61.0</td>\n",
       "      <td>11.0</td>\n",
       "      <td>11.0</td>\n",
       "      <td>0.0</td>\n",
       "      <td>after</td>\n",
       "      <td>before</td>\n",
       "    </tr>\n",
       "    <tr>\n",
       "      <th>4</th>\n",
       "      <td>20140060</td>\n",
       "      <td>40.0</td>\n",
       "      <td>15.0</td>\n",
       "      <td>1.0</td>\n",
       "      <td>1.0</td>\n",
       "      <td>7.0</td>\n",
       "      <td>0.0</td>\n",
       "      <td>82.0</td>\n",
       "      <td>70.0</td>\n",
       "      <td>10.0</td>\n",
       "      <td>26.5</td>\n",
       "      <td>47.7</td>\n",
       "      <td>52.1</td>\n",
       "      <td>16404.0</td>\n",
       "      <td>9366.0</td>\n",
       "      <td>14.0</td>\n",
       "      <td>6.0</td>\n",
       "      <td>26.0</td>\n",
       "      <td>9.0</td>\n",
       "      <td>6.0</td>\n",
       "      <td>0.0</td>\n",
       "      <td>4.0</td>\n",
       "      <td>0.0</td>\n",
       "      <td>8.0</td>\n",
       "      <td>0.0</td>\n",
       "      <td>17.0</td>\n",
       "      <td>0.0</td>\n",
       "      <td>1.0</td>\n",
       "      <td>0.0</td>\n",
       "      <td>16.0</td>\n",
       "      <td>0.0</td>\n",
       "      <td>4503.0</td>\n",
       "      <td>0.0</td>\n",
       "      <td>0.24</td>\n",
       "      <td>0.0</td>\n",
       "      <td>5.0</td>\n",
       "      <td>15.0</td>\n",
       "      <td>25.0</td>\n",
       "      <td>0.0</td>\n",
       "      <td>10.0</td>\n",
       "      <td>0.0</td>\n",
       "      <td>31.0</td>\n",
       "      <td>11.0</td>\n",
       "      <td>9.0</td>\n",
       "      <td>4.0</td>\n",
       "      <td>6.0</td>\n",
       "      <td>6.0</td>\n",
       "      <td>17.0</td>\n",
       "      <td>9.0</td>\n",
       "      <td>17.0</td>\n",
       "      <td>0.0</td>\n",
       "      <td>after</td>\n",
       "      <td>before</td>\n",
       "    </tr>\n",
       "    <tr>\n",
       "      <th>5</th>\n",
       "      <td>20140231</td>\n",
       "      <td>34.0</td>\n",
       "      <td>6.0</td>\n",
       "      <td>1.0</td>\n",
       "      <td>1.0</td>\n",
       "      <td>9.0</td>\n",
       "      <td>0.0</td>\n",
       "      <td>115.0</td>\n",
       "      <td>90.0</td>\n",
       "      <td>1.9</td>\n",
       "      <td>10.7</td>\n",
       "      <td>45.7</td>\n",
       "      <td>42.2</td>\n",
       "      <td>23819.0</td>\n",
       "      <td>7270.0</td>\n",
       "      <td>12.0</td>\n",
       "      <td>0.0</td>\n",
       "      <td>22.0</td>\n",
       "      <td>6.0</td>\n",
       "      <td>0.0</td>\n",
       "      <td>0.0</td>\n",
       "      <td>6.0</td>\n",
       "      <td>0.0</td>\n",
       "      <td>12.0</td>\n",
       "      <td>0.0</td>\n",
       "      <td>16.0</td>\n",
       "      <td>0.0</td>\n",
       "      <td>2.0</td>\n",
       "      <td>0.0</td>\n",
       "      <td>12.0</td>\n",
       "      <td>0.0</td>\n",
       "      <td>7886.0</td>\n",
       "      <td>0.0</td>\n",
       "      <td>0.31</td>\n",
       "      <td>0.0</td>\n",
       "      <td>0.0</td>\n",
       "      <td>6.0</td>\n",
       "      <td>28.0</td>\n",
       "      <td>0.0</td>\n",
       "      <td>6.0</td>\n",
       "      <td>0.0</td>\n",
       "      <td>28.0</td>\n",
       "      <td>5.0</td>\n",
       "      <td>6.0</td>\n",
       "      <td>1.0</td>\n",
       "      <td>5.0</td>\n",
       "      <td>5.0</td>\n",
       "      <td>1.0</td>\n",
       "      <td>1.0</td>\n",
       "      <td>28.0</td>\n",
       "      <td>0.0</td>\n",
       "      <td>after</td>\n",
       "      <td>before</td>\n",
       "    </tr>\n",
       "    <tr>\n",
       "      <th>6</th>\n",
       "      <td>20140467</td>\n",
       "      <td>41.0</td>\n",
       "      <td>16.0</td>\n",
       "      <td>1.0</td>\n",
       "      <td>1.0</td>\n",
       "      <td>7.0</td>\n",
       "      <td>0.0</td>\n",
       "      <td>102.0</td>\n",
       "      <td>90.0</td>\n",
       "      <td>9.5</td>\n",
       "      <td>24.4</td>\n",
       "      <td>38.8</td>\n",
       "      <td>42.8</td>\n",
       "      <td>18647.0</td>\n",
       "      <td>9476.0</td>\n",
       "      <td>12.0</td>\n",
       "      <td>6.0</td>\n",
       "      <td>29.0</td>\n",
       "      <td>10.0</td>\n",
       "      <td>6.0</td>\n",
       "      <td>0.0</td>\n",
       "      <td>8.0</td>\n",
       "      <td>0.0</td>\n",
       "      <td>6.0</td>\n",
       "      <td>0.0</td>\n",
       "      <td>19.0</td>\n",
       "      <td>0.0</td>\n",
       "      <td>1.0</td>\n",
       "      <td>0.0</td>\n",
       "      <td>18.0</td>\n",
       "      <td>0.0</td>\n",
       "      <td>5432.0</td>\n",
       "      <td>0.0</td>\n",
       "      <td>0.25</td>\n",
       "      <td>0.0</td>\n",
       "      <td>2.0</td>\n",
       "      <td>16.0</td>\n",
       "      <td>25.0</td>\n",
       "      <td>0.0</td>\n",
       "      <td>14.0</td>\n",
       "      <td>0.0</td>\n",
       "      <td>37.0</td>\n",
       "      <td>12.0</td>\n",
       "      <td>4.0</td>\n",
       "      <td>4.0</td>\n",
       "      <td>8.0</td>\n",
       "      <td>8.0</td>\n",
       "      <td>8.0</td>\n",
       "      <td>8.0</td>\n",
       "      <td>25.0</td>\n",
       "      <td>0.0</td>\n",
       "      <td>after</td>\n",
       "      <td>before</td>\n",
       "    </tr>\n",
       "    <tr>\n",
       "      <th>7</th>\n",
       "      <td>20140556</td>\n",
       "      <td>45.0</td>\n",
       "      <td>16.0</td>\n",
       "      <td>1.0</td>\n",
       "      <td>1.0</td>\n",
       "      <td>7.0</td>\n",
       "      <td>0.0</td>\n",
       "      <td>82.0</td>\n",
       "      <td>70.0</td>\n",
       "      <td>10.7</td>\n",
       "      <td>30.0</td>\n",
       "      <td>53.2</td>\n",
       "      <td>55.7</td>\n",
       "      <td>15533.0</td>\n",
       "      <td>6697.0</td>\n",
       "      <td>15.0</td>\n",
       "      <td>6.0</td>\n",
       "      <td>30.0</td>\n",
       "      <td>10.0</td>\n",
       "      <td>6.0</td>\n",
       "      <td>0.0</td>\n",
       "      <td>9.0</td>\n",
       "      <td>0.0</td>\n",
       "      <td>9.0</td>\n",
       "      <td>0.0</td>\n",
       "      <td>20.0</td>\n",
       "      <td>0.0</td>\n",
       "      <td>1.0</td>\n",
       "      <td>0.0</td>\n",
       "      <td>7.0</td>\n",
       "      <td>0.0</td>\n",
       "      <td>4622.0</td>\n",
       "      <td>0.0</td>\n",
       "      <td>0.26</td>\n",
       "      <td>0.0</td>\n",
       "      <td>1.0</td>\n",
       "      <td>16.0</td>\n",
       "      <td>29.0</td>\n",
       "      <td>0.0</td>\n",
       "      <td>15.0</td>\n",
       "      <td>0.0</td>\n",
       "      <td>30.0</td>\n",
       "      <td>10.0</td>\n",
       "      <td>15.0</td>\n",
       "      <td>6.0</td>\n",
       "      <td>15.0</td>\n",
       "      <td>15.0</td>\n",
       "      <td>10.0</td>\n",
       "      <td>1.0</td>\n",
       "      <td>20.0</td>\n",
       "      <td>0.0</td>\n",
       "      <td>after</td>\n",
       "      <td>before</td>\n",
       "    </tr>\n",
       "    <tr>\n",
       "      <th>8</th>\n",
       "      <td>20141182</td>\n",
       "      <td>40.0</td>\n",
       "      <td>12.0</td>\n",
       "      <td>1.0</td>\n",
       "      <td>1.0</td>\n",
       "      <td>3.0</td>\n",
       "      <td>0.0</td>\n",
       "      <td>112.0</td>\n",
       "      <td>100.0</td>\n",
       "      <td>7.0</td>\n",
       "      <td>23.5</td>\n",
       "      <td>43.4</td>\n",
       "      <td>52.8</td>\n",
       "      <td>20643.0</td>\n",
       "      <td>8426.0</td>\n",
       "      <td>16.0</td>\n",
       "      <td>5.0</td>\n",
       "      <td>24.0</td>\n",
       "      <td>7.0</td>\n",
       "      <td>5.0</td>\n",
       "      <td>0.0</td>\n",
       "      <td>5.0</td>\n",
       "      <td>0.0</td>\n",
       "      <td>11.0</td>\n",
       "      <td>0.0</td>\n",
       "      <td>17.0</td>\n",
       "      <td>0.0</td>\n",
       "      <td>1.0</td>\n",
       "      <td>0.0</td>\n",
       "      <td>20.0</td>\n",
       "      <td>0.0</td>\n",
       "      <td>6551.0</td>\n",
       "      <td>0.0</td>\n",
       "      <td>0.28</td>\n",
       "      <td>0.0</td>\n",
       "      <td>2.0</td>\n",
       "      <td>12.0</td>\n",
       "      <td>28.0</td>\n",
       "      <td>0.0</td>\n",
       "      <td>10.0</td>\n",
       "      <td>0.0</td>\n",
       "      <td>30.0</td>\n",
       "      <td>6.0</td>\n",
       "      <td>10.0</td>\n",
       "      <td>6.0</td>\n",
       "      <td>6.0</td>\n",
       "      <td>6.0</td>\n",
       "      <td>6.0</td>\n",
       "      <td>6.0</td>\n",
       "      <td>28.0</td>\n",
       "      <td>0.0</td>\n",
       "      <td>after</td>\n",
       "      <td>before</td>\n",
       "    </tr>\n",
       "    <tr>\n",
       "      <th>9</th>\n",
       "      <td>20150274</td>\n",
       "      <td>50.0</td>\n",
       "      <td>12.0</td>\n",
       "      <td>1.0</td>\n",
       "      <td>1.0</td>\n",
       "      <td>3.0</td>\n",
       "      <td>0.0</td>\n",
       "      <td>92.0</td>\n",
       "      <td>80.0</td>\n",
       "      <td>8.1</td>\n",
       "      <td>33.9</td>\n",
       "      <td>44.6</td>\n",
       "      <td>33.9</td>\n",
       "      <td>19515.0</td>\n",
       "      <td>11023.0</td>\n",
       "      <td>16.0</td>\n",
       "      <td>4.0</td>\n",
       "      <td>34.0</td>\n",
       "      <td>8.0</td>\n",
       "      <td>4.0</td>\n",
       "      <td>0.0</td>\n",
       "      <td>3.0</td>\n",
       "      <td>0.0</td>\n",
       "      <td>12.0</td>\n",
       "      <td>0.0</td>\n",
       "      <td>26.0</td>\n",
       "      <td>0.0</td>\n",
       "      <td>1.0</td>\n",
       "      <td>0.0</td>\n",
       "      <td>13.0</td>\n",
       "      <td>0.0</td>\n",
       "      <td>5849.0</td>\n",
       "      <td>0.0</td>\n",
       "      <td>0.27</td>\n",
       "      <td>0.0</td>\n",
       "      <td>5.0</td>\n",
       "      <td>12.0</td>\n",
       "      <td>38.0</td>\n",
       "      <td>0.0</td>\n",
       "      <td>7.0</td>\n",
       "      <td>0.0</td>\n",
       "      <td>42.0</td>\n",
       "      <td>11.0</td>\n",
       "      <td>8.0</td>\n",
       "      <td>1.0</td>\n",
       "      <td>3.0</td>\n",
       "      <td>3.0</td>\n",
       "      <td>12.0</td>\n",
       "      <td>9.0</td>\n",
       "      <td>35.0</td>\n",
       "      <td>0.0</td>\n",
       "      <td>after</td>\n",
       "      <td>before</td>\n",
       "    </tr>\n",
       "    <tr>\n",
       "      <th>10</th>\n",
       "      <td>20150857</td>\n",
       "      <td>47.0</td>\n",
       "      <td>12.0</td>\n",
       "      <td>1.0</td>\n",
       "      <td>1.0</td>\n",
       "      <td>8.0</td>\n",
       "      <td>0.0</td>\n",
       "      <td>115.0</td>\n",
       "      <td>90.0</td>\n",
       "      <td>7.3</td>\n",
       "      <td>28.4</td>\n",
       "      <td>47.0</td>\n",
       "      <td>34.7</td>\n",
       "      <td>22752.0</td>\n",
       "      <td>10391.0</td>\n",
       "      <td>14.0</td>\n",
       "      <td>4.0</td>\n",
       "      <td>33.0</td>\n",
       "      <td>8.0</td>\n",
       "      <td>4.0</td>\n",
       "      <td>0.0</td>\n",
       "      <td>4.0</td>\n",
       "      <td>0.0</td>\n",
       "      <td>10.0</td>\n",
       "      <td>0.0</td>\n",
       "      <td>25.0</td>\n",
       "      <td>0.0</td>\n",
       "      <td>2.0</td>\n",
       "      <td>0.0</td>\n",
       "      <td>10.0</td>\n",
       "      <td>0.0</td>\n",
       "      <td>7198.0</td>\n",
       "      <td>0.0</td>\n",
       "      <td>0.29</td>\n",
       "      <td>0.0</td>\n",
       "      <td>4.0</td>\n",
       "      <td>12.0</td>\n",
       "      <td>35.0</td>\n",
       "      <td>0.0</td>\n",
       "      <td>8.0</td>\n",
       "      <td>0.0</td>\n",
       "      <td>35.0</td>\n",
       "      <td>11.0</td>\n",
       "      <td>12.0</td>\n",
       "      <td>1.0</td>\n",
       "      <td>6.0</td>\n",
       "      <td>6.0</td>\n",
       "      <td>6.0</td>\n",
       "      <td>6.0</td>\n",
       "      <td>35.0</td>\n",
       "      <td>0.0</td>\n",
       "      <td>after</td>\n",
       "      <td>before</td>\n",
       "    </tr>\n",
       "    <tr>\n",
       "      <th>11</th>\n",
       "      <td>20160319</td>\n",
       "      <td>62.0</td>\n",
       "      <td>33.0</td>\n",
       "      <td>1.0</td>\n",
       "      <td>1.0</td>\n",
       "      <td>6.0</td>\n",
       "      <td>0.0</td>\n",
       "      <td>102.0</td>\n",
       "      <td>90.0</td>\n",
       "      <td>13.0</td>\n",
       "      <td>24.5</td>\n",
       "      <td>46.6</td>\n",
       "      <td>42.4</td>\n",
       "      <td>16181.0</td>\n",
       "      <td>9395.0</td>\n",
       "      <td>17.0</td>\n",
       "      <td>7.0</td>\n",
       "      <td>45.0</td>\n",
       "      <td>26.0</td>\n",
       "      <td>7.0</td>\n",
       "      <td>0.0</td>\n",
       "      <td>17.0</td>\n",
       "      <td>0.0</td>\n",
       "      <td>10.0</td>\n",
       "      <td>0.0</td>\n",
       "      <td>19.0</td>\n",
       "      <td>0.0</td>\n",
       "      <td>1.0</td>\n",
       "      <td>0.0</td>\n",
       "      <td>19.0</td>\n",
       "      <td>0.0</td>\n",
       "      <td>4347.0</td>\n",
       "      <td>0.0</td>\n",
       "      <td>0.22</td>\n",
       "      <td>0.0</td>\n",
       "      <td>9.0</td>\n",
       "      <td>33.0</td>\n",
       "      <td>29.0</td>\n",
       "      <td>0.0</td>\n",
       "      <td>24.0</td>\n",
       "      <td>0.0</td>\n",
       "      <td>50.0</td>\n",
       "      <td>29.0</td>\n",
       "      <td>12.0</td>\n",
       "      <td>4.0</td>\n",
       "      <td>19.0</td>\n",
       "      <td>19.0</td>\n",
       "      <td>14.0</td>\n",
       "      <td>14.0</td>\n",
       "      <td>29.0</td>\n",
       "      <td>0.0</td>\n",
       "      <td>after</td>\n",
       "      <td>before</td>\n",
       "    </tr>\n",
       "    <tr>\n",
       "      <th>12</th>\n",
       "      <td>20170076</td>\n",
       "      <td>112.0</td>\n",
       "      <td>4.0</td>\n",
       "      <td>3.0</td>\n",
       "      <td>1.0</td>\n",
       "      <td>10.0</td>\n",
       "      <td>0.0</td>\n",
       "      <td>75.0</td>\n",
       "      <td>50.0</td>\n",
       "      <td>0.2</td>\n",
       "      <td>6.8</td>\n",
       "      <td>50.1</td>\n",
       "      <td>63.2</td>\n",
       "      <td>18520.0</td>\n",
       "      <td>9680.0</td>\n",
       "      <td>51.0</td>\n",
       "      <td>2.0</td>\n",
       "      <td>61.0</td>\n",
       "      <td>2.0</td>\n",
       "      <td>2.0</td>\n",
       "      <td>0.0</td>\n",
       "      <td>2.0</td>\n",
       "      <td>0.0</td>\n",
       "      <td>49.0</td>\n",
       "      <td>0.0</td>\n",
       "      <td>59.0</td>\n",
       "      <td>0.0</td>\n",
       "      <td>2.0</td>\n",
       "      <td>0.0</td>\n",
       "      <td>8.0</td>\n",
       "      <td>0.0</td>\n",
       "      <td>6037.0</td>\n",
       "      <td>0.0</td>\n",
       "      <td>0.32</td>\n",
       "      <td>0.0</td>\n",
       "      <td>0.0</td>\n",
       "      <td>4.0</td>\n",
       "      <td>108.0</td>\n",
       "      <td>0.0</td>\n",
       "      <td>4.0</td>\n",
       "      <td>0.0</td>\n",
       "      <td>88.0</td>\n",
       "      <td>1.0</td>\n",
       "      <td>24.0</td>\n",
       "      <td>3.0</td>\n",
       "      <td>2.0</td>\n",
       "      <td>2.0</td>\n",
       "      <td>71.0</td>\n",
       "      <td>2.0</td>\n",
       "      <td>39.0</td>\n",
       "      <td>0.0</td>\n",
       "      <td>after</td>\n",
       "      <td>before</td>\n",
       "    </tr>\n",
       "    <tr>\n",
       "      <th>13</th>\n",
       "      <td>20171974</td>\n",
       "      <td>54.0</td>\n",
       "      <td>13.0</td>\n",
       "      <td>1.0</td>\n",
       "      <td>1.0</td>\n",
       "      <td>10.0</td>\n",
       "      <td>0.0</td>\n",
       "      <td>85.0</td>\n",
       "      <td>60.0</td>\n",
       "      <td>3.6</td>\n",
       "      <td>15.2</td>\n",
       "      <td>47.9</td>\n",
       "      <td>43.1</td>\n",
       "      <td>18077.0</td>\n",
       "      <td>9417.0</td>\n",
       "      <td>15.0</td>\n",
       "      <td>5.0</td>\n",
       "      <td>39.0</td>\n",
       "      <td>8.0</td>\n",
       "      <td>5.0</td>\n",
       "      <td>0.0</td>\n",
       "      <td>6.0</td>\n",
       "      <td>0.0</td>\n",
       "      <td>10.0</td>\n",
       "      <td>0.0</td>\n",
       "      <td>31.0</td>\n",
       "      <td>0.0</td>\n",
       "      <td>2.0</td>\n",
       "      <td>0.0</td>\n",
       "      <td>5.0</td>\n",
       "      <td>0.0</td>\n",
       "      <td>5589.0</td>\n",
       "      <td>0.0</td>\n",
       "      <td>0.28</td>\n",
       "      <td>0.0</td>\n",
       "      <td>2.0</td>\n",
       "      <td>13.0</td>\n",
       "      <td>41.0</td>\n",
       "      <td>0.0</td>\n",
       "      <td>11.0</td>\n",
       "      <td>0.0</td>\n",
       "      <td>44.0</td>\n",
       "      <td>12.0</td>\n",
       "      <td>10.0</td>\n",
       "      <td>1.0</td>\n",
       "      <td>5.0</td>\n",
       "      <td>5.0</td>\n",
       "      <td>17.0</td>\n",
       "      <td>8.0</td>\n",
       "      <td>32.0</td>\n",
       "      <td>0.0</td>\n",
       "      <td>after</td>\n",
       "      <td>before</td>\n",
       "    </tr>\n",
       "    <tr>\n",
       "      <th>14</th>\n",
       "      <td>20180345</td>\n",
       "      <td>76.0</td>\n",
       "      <td>39.0</td>\n",
       "      <td>1.0</td>\n",
       "      <td>1.0</td>\n",
       "      <td>8.0</td>\n",
       "      <td>0.0</td>\n",
       "      <td>92.0</td>\n",
       "      <td>80.0</td>\n",
       "      <td>13.1</td>\n",
       "      <td>25.5</td>\n",
       "      <td>48.1</td>\n",
       "      <td>47.5</td>\n",
       "      <td>15860.0</td>\n",
       "      <td>9648.0</td>\n",
       "      <td>22.0</td>\n",
       "      <td>12.0</td>\n",
       "      <td>54.0</td>\n",
       "      <td>27.0</td>\n",
       "      <td>12.0</td>\n",
       "      <td>0.0</td>\n",
       "      <td>16.0</td>\n",
       "      <td>0.0</td>\n",
       "      <td>10.0</td>\n",
       "      <td>0.0</td>\n",
       "      <td>27.0</td>\n",
       "      <td>0.0</td>\n",
       "      <td>1.0</td>\n",
       "      <td>0.0</td>\n",
       "      <td>6.0</td>\n",
       "      <td>0.0</td>\n",
       "      <td>4094.0</td>\n",
       "      <td>0.0</td>\n",
       "      <td>0.21</td>\n",
       "      <td>0.0</td>\n",
       "      <td>11.0</td>\n",
       "      <td>39.0</td>\n",
       "      <td>37.0</td>\n",
       "      <td>0.0</td>\n",
       "      <td>28.0</td>\n",
       "      <td>0.0</td>\n",
       "      <td>58.0</td>\n",
       "      <td>30.0</td>\n",
       "      <td>18.0</td>\n",
       "      <td>9.0</td>\n",
       "      <td>17.0</td>\n",
       "      <td>17.0</td>\n",
       "      <td>23.0</td>\n",
       "      <td>22.0</td>\n",
       "      <td>36.0</td>\n",
       "      <td>0.0</td>\n",
       "      <td>after</td>\n",
       "      <td>before</td>\n",
       "    </tr>\n",
       "    <tr>\n",
       "      <th>15</th>\n",
       "      <td>20180812</td>\n",
       "      <td>47.0</td>\n",
       "      <td>17.0</td>\n",
       "      <td>1.0</td>\n",
       "      <td>1.0</td>\n",
       "      <td>7.0</td>\n",
       "      <td>0.0</td>\n",
       "      <td>62.0</td>\n",
       "      <td>50.0</td>\n",
       "      <td>6.7</td>\n",
       "      <td>18.6</td>\n",
       "      <td>53.0</td>\n",
       "      <td>56.9</td>\n",
       "      <td>13503.0</td>\n",
       "      <td>9853.0</td>\n",
       "      <td>22.0</td>\n",
       "      <td>7.0</td>\n",
       "      <td>25.0</td>\n",
       "      <td>10.0</td>\n",
       "      <td>7.0</td>\n",
       "      <td>0.0</td>\n",
       "      <td>6.0</td>\n",
       "      <td>0.0</td>\n",
       "      <td>15.0</td>\n",
       "      <td>0.0</td>\n",
       "      <td>15.0</td>\n",
       "      <td>0.0</td>\n",
       "      <td>1.0</td>\n",
       "      <td>0.0</td>\n",
       "      <td>3.0</td>\n",
       "      <td>0.0</td>\n",
       "      <td>3509.0</td>\n",
       "      <td>0.0</td>\n",
       "      <td>0.24</td>\n",
       "      <td>0.0</td>\n",
       "      <td>4.0</td>\n",
       "      <td>17.0</td>\n",
       "      <td>30.0</td>\n",
       "      <td>0.0</td>\n",
       "      <td>13.0</td>\n",
       "      <td>0.0</td>\n",
       "      <td>31.0</td>\n",
       "      <td>10.0</td>\n",
       "      <td>16.0</td>\n",
       "      <td>7.0</td>\n",
       "      <td>6.0</td>\n",
       "      <td>6.0</td>\n",
       "      <td>41.0</td>\n",
       "      <td>11.0</td>\n",
       "      <td>0.0</td>\n",
       "      <td>0.0</td>\n",
       "      <td>after</td>\n",
       "      <td>before</td>\n",
       "    </tr>\n",
       "    <tr>\n",
       "      <th>16</th>\n",
       "      <td>20180845</td>\n",
       "      <td>48.0</td>\n",
       "      <td>22.0</td>\n",
       "      <td>1.0</td>\n",
       "      <td>1.0</td>\n",
       "      <td>7.0</td>\n",
       "      <td>0.0</td>\n",
       "      <td>98.0</td>\n",
       "      <td>86.0</td>\n",
       "      <td>6.5</td>\n",
       "      <td>14.2</td>\n",
       "      <td>42.6</td>\n",
       "      <td>40.0</td>\n",
       "      <td>17871.0</td>\n",
       "      <td>11196.0</td>\n",
       "      <td>15.0</td>\n",
       "      <td>6.0</td>\n",
       "      <td>33.0</td>\n",
       "      <td>16.0</td>\n",
       "      <td>6.0</td>\n",
       "      <td>0.0</td>\n",
       "      <td>6.0</td>\n",
       "      <td>0.0</td>\n",
       "      <td>9.0</td>\n",
       "      <td>0.0</td>\n",
       "      <td>17.0</td>\n",
       "      <td>0.0</td>\n",
       "      <td>1.0</td>\n",
       "      <td>0.0</td>\n",
       "      <td>31.0</td>\n",
       "      <td>0.0</td>\n",
       "      <td>4718.0</td>\n",
       "      <td>0.0</td>\n",
       "      <td>0.22</td>\n",
       "      <td>0.0</td>\n",
       "      <td>10.0</td>\n",
       "      <td>22.0</td>\n",
       "      <td>26.0</td>\n",
       "      <td>0.0</td>\n",
       "      <td>12.0</td>\n",
       "      <td>0.0</td>\n",
       "      <td>42.0</td>\n",
       "      <td>20.0</td>\n",
       "      <td>6.0</td>\n",
       "      <td>2.0</td>\n",
       "      <td>5.0</td>\n",
       "      <td>5.0</td>\n",
       "      <td>17.0</td>\n",
       "      <td>17.0</td>\n",
       "      <td>26.0</td>\n",
       "      <td>0.0</td>\n",
       "      <td>after</td>\n",
       "      <td>before</td>\n",
       "    </tr>\n",
       "    <tr>\n",
       "      <th>17</th>\n",
       "      <td>20180988</td>\n",
       "      <td>56.0</td>\n",
       "      <td>20.0</td>\n",
       "      <td>1.0</td>\n",
       "      <td>1.0</td>\n",
       "      <td>7.0</td>\n",
       "      <td>0.0</td>\n",
       "      <td>82.0</td>\n",
       "      <td>70.0</td>\n",
       "      <td>7.1</td>\n",
       "      <td>19.8</td>\n",
       "      <td>51.9</td>\n",
       "      <td>48.2</td>\n",
       "      <td>16998.0</td>\n",
       "      <td>11002.0</td>\n",
       "      <td>22.0</td>\n",
       "      <td>8.0</td>\n",
       "      <td>34.0</td>\n",
       "      <td>12.0</td>\n",
       "      <td>8.0</td>\n",
       "      <td>0.0</td>\n",
       "      <td>7.0</td>\n",
       "      <td>0.0</td>\n",
       "      <td>14.0</td>\n",
       "      <td>0.0</td>\n",
       "      <td>22.0</td>\n",
       "      <td>0.0</td>\n",
       "      <td>1.0</td>\n",
       "      <td>0.0</td>\n",
       "      <td>1.0</td>\n",
       "      <td>0.0</td>\n",
       "      <td>4593.0</td>\n",
       "      <td>0.0</td>\n",
       "      <td>0.24</td>\n",
       "      <td>0.0</td>\n",
       "      <td>5.0</td>\n",
       "      <td>20.0</td>\n",
       "      <td>36.0</td>\n",
       "      <td>0.0</td>\n",
       "      <td>15.0</td>\n",
       "      <td>0.0</td>\n",
       "      <td>37.0</td>\n",
       "      <td>14.0</td>\n",
       "      <td>19.0</td>\n",
       "      <td>6.0</td>\n",
       "      <td>5.0</td>\n",
       "      <td>5.0</td>\n",
       "      <td>27.0</td>\n",
       "      <td>15.0</td>\n",
       "      <td>24.0</td>\n",
       "      <td>0.0</td>\n",
       "      <td>after</td>\n",
       "      <td>before</td>\n",
       "    </tr>\n",
       "    <tr>\n",
       "      <th>18</th>\n",
       "      <td>20181092</td>\n",
       "      <td>45.0</td>\n",
       "      <td>16.0</td>\n",
       "      <td>1.0</td>\n",
       "      <td>1.0</td>\n",
       "      <td>7.0</td>\n",
       "      <td>0.0</td>\n",
       "      <td>92.0</td>\n",
       "      <td>80.0</td>\n",
       "      <td>10.4</td>\n",
       "      <td>29.4</td>\n",
       "      <td>48.3</td>\n",
       "      <td>47.1</td>\n",
       "      <td>18051.0</td>\n",
       "      <td>9259.0</td>\n",
       "      <td>14.0</td>\n",
       "      <td>6.0</td>\n",
       "      <td>31.0</td>\n",
       "      <td>10.0</td>\n",
       "      <td>6.0</td>\n",
       "      <td>0.0</td>\n",
       "      <td>9.0</td>\n",
       "      <td>0.0</td>\n",
       "      <td>8.0</td>\n",
       "      <td>0.0</td>\n",
       "      <td>21.0</td>\n",
       "      <td>0.0</td>\n",
       "      <td>1.0</td>\n",
       "      <td>0.0</td>\n",
       "      <td>4.0</td>\n",
       "      <td>0.0</td>\n",
       "      <td>5152.0</td>\n",
       "      <td>0.0</td>\n",
       "      <td>0.25</td>\n",
       "      <td>0.0</td>\n",
       "      <td>1.0</td>\n",
       "      <td>16.0</td>\n",
       "      <td>29.0</td>\n",
       "      <td>0.0</td>\n",
       "      <td>15.0</td>\n",
       "      <td>0.0</td>\n",
       "      <td>36.0</td>\n",
       "      <td>12.0</td>\n",
       "      <td>9.0</td>\n",
       "      <td>4.0</td>\n",
       "      <td>6.0</td>\n",
       "      <td>6.0</td>\n",
       "      <td>10.0</td>\n",
       "      <td>10.0</td>\n",
       "      <td>29.0</td>\n",
       "      <td>0.0</td>\n",
       "      <td>after</td>\n",
       "      <td>before</td>\n",
       "    </tr>\n",
       "    <tr>\n",
       "      <th>19</th>\n",
       "      <td>20181295</td>\n",
       "      <td>71.0</td>\n",
       "      <td>24.0</td>\n",
       "      <td>1.0</td>\n",
       "      <td>1.0</td>\n",
       "      <td>7.0</td>\n",
       "      <td>0.0</td>\n",
       "      <td>92.0</td>\n",
       "      <td>80.0</td>\n",
       "      <td>8.1</td>\n",
       "      <td>23.8</td>\n",
       "      <td>46.6</td>\n",
       "      <td>42.7</td>\n",
       "      <td>17445.0</td>\n",
       "      <td>8181.0</td>\n",
       "      <td>22.0</td>\n",
       "      <td>7.0</td>\n",
       "      <td>49.0</td>\n",
       "      <td>17.0</td>\n",
       "      <td>7.0</td>\n",
       "      <td>0.0</td>\n",
       "      <td>13.0</td>\n",
       "      <td>0.0</td>\n",
       "      <td>15.0</td>\n",
       "      <td>0.0</td>\n",
       "      <td>32.0</td>\n",
       "      <td>0.0</td>\n",
       "      <td>1.0</td>\n",
       "      <td>0.0</td>\n",
       "      <td>15.0</td>\n",
       "      <td>0.0</td>\n",
       "      <td>5261.0</td>\n",
       "      <td>0.0</td>\n",
       "      <td>0.26</td>\n",
       "      <td>0.0</td>\n",
       "      <td>4.0</td>\n",
       "      <td>24.0</td>\n",
       "      <td>47.0</td>\n",
       "      <td>0.0</td>\n",
       "      <td>20.0</td>\n",
       "      <td>0.0</td>\n",
       "      <td>60.0</td>\n",
       "      <td>20.0</td>\n",
       "      <td>11.0</td>\n",
       "      <td>4.0</td>\n",
       "      <td>16.0</td>\n",
       "      <td>16.0</td>\n",
       "      <td>11.0</td>\n",
       "      <td>8.0</td>\n",
       "      <td>44.0</td>\n",
       "      <td>0.0</td>\n",
       "      <td>after</td>\n",
       "      <td>before</td>\n",
       "    </tr>\n",
       "    <tr>\n",
       "      <th>20</th>\n",
       "      <td>502-0147678</td>\n",
       "      <td>232.0</td>\n",
       "      <td>12.0</td>\n",
       "      <td>2.0</td>\n",
       "      <td>1.0</td>\n",
       "      <td>18.0</td>\n",
       "      <td>0.0</td>\n",
       "      <td>115.0</td>\n",
       "      <td>90.0</td>\n",
       "      <td>1.1</td>\n",
       "      <td>20.3</td>\n",
       "      <td>47.2</td>\n",
       "      <td>49.0</td>\n",
       "      <td>26305.0</td>\n",
       "      <td>11717.0</td>\n",
       "      <td>80.0</td>\n",
       "      <td>0.0</td>\n",
       "      <td>152.0</td>\n",
       "      <td>12.0</td>\n",
       "      <td>0.0</td>\n",
       "      <td>0.0</td>\n",
       "      <td>8.0</td>\n",
       "      <td>0.0</td>\n",
       "      <td>80.0</td>\n",
       "      <td>0.0</td>\n",
       "      <td>140.0</td>\n",
       "      <td>0.0</td>\n",
       "      <td>3.0</td>\n",
       "      <td>0.0</td>\n",
       "      <td>26.0</td>\n",
       "      <td>0.0</td>\n",
       "      <td>8898.0</td>\n",
       "      <td>0.0</td>\n",
       "      <td>0.33</td>\n",
       "      <td>0.0</td>\n",
       "      <td>4.0</td>\n",
       "      <td>12.0</td>\n",
       "      <td>220.0</td>\n",
       "      <td>0.0</td>\n",
       "      <td>8.0</td>\n",
       "      <td>0.0</td>\n",
       "      <td>180.0</td>\n",
       "      <td>9.0</td>\n",
       "      <td>52.0</td>\n",
       "      <td>3.0</td>\n",
       "      <td>1.0</td>\n",
       "      <td>1.0</td>\n",
       "      <td>11.0</td>\n",
       "      <td>11.0</td>\n",
       "      <td>220.0</td>\n",
       "      <td>0.0</td>\n",
       "      <td>after</td>\n",
       "      <td>before</td>\n",
       "    </tr>\n",
       "    <tr>\n",
       "      <th>21</th>\n",
       "      <td>502-0178285</td>\n",
       "      <td>293.0</td>\n",
       "      <td>84.0</td>\n",
       "      <td>2.0</td>\n",
       "      <td>3.0</td>\n",
       "      <td>34.0</td>\n",
       "      <td>0.0</td>\n",
       "      <td>85.0</td>\n",
       "      <td>60.0</td>\n",
       "      <td>7.9</td>\n",
       "      <td>27.6</td>\n",
       "      <td>46.7</td>\n",
       "      <td>43.4</td>\n",
       "      <td>17171.0</td>\n",
       "      <td>6851.0</td>\n",
       "      <td>120.0</td>\n",
       "      <td>36.0</td>\n",
       "      <td>173.0</td>\n",
       "      <td>48.0</td>\n",
       "      <td>36.0</td>\n",
       "      <td>0.0</td>\n",
       "      <td>23.0</td>\n",
       "      <td>0.0</td>\n",
       "      <td>84.0</td>\n",
       "      <td>0.0</td>\n",
       "      <td>125.0</td>\n",
       "      <td>0.0</td>\n",
       "      <td>3.0</td>\n",
       "      <td>0.0</td>\n",
       "      <td>27.0</td>\n",
       "      <td>0.0</td>\n",
       "      <td>5311.0</td>\n",
       "      <td>0.0</td>\n",
       "      <td>0.26</td>\n",
       "      <td>0.0</td>\n",
       "      <td>25.0</td>\n",
       "      <td>84.0</td>\n",
       "      <td>209.0</td>\n",
       "      <td>0.0</td>\n",
       "      <td>59.0</td>\n",
       "      <td>0.0</td>\n",
       "      <td>235.0</td>\n",
       "      <td>69.0</td>\n",
       "      <td>58.0</td>\n",
       "      <td>15.0</td>\n",
       "      <td>52.0</td>\n",
       "      <td>52.0</td>\n",
       "      <td>63.0</td>\n",
       "      <td>32.0</td>\n",
       "      <td>178.0</td>\n",
       "      <td>0.0</td>\n",
       "      <td>after</td>\n",
       "      <td>before</td>\n",
       "    </tr>\n",
       "    <tr>\n",
       "      <th>22</th>\n",
       "      <td>502-0189720</td>\n",
       "      <td>207.0</td>\n",
       "      <td>27.0</td>\n",
       "      <td>3.0</td>\n",
       "      <td>3.0</td>\n",
       "      <td>20.0</td>\n",
       "      <td>0.0</td>\n",
       "      <td>89.0</td>\n",
       "      <td>64.0</td>\n",
       "      <td>2.5</td>\n",
       "      <td>18.9</td>\n",
       "      <td>47.4</td>\n",
       "      <td>44.6</td>\n",
       "      <td>20062.0</td>\n",
       "      <td>7264.0</td>\n",
       "      <td>80.0</td>\n",
       "      <td>12.0</td>\n",
       "      <td>127.0</td>\n",
       "      <td>15.0</td>\n",
       "      <td>12.0</td>\n",
       "      <td>0.0</td>\n",
       "      <td>9.0</td>\n",
       "      <td>0.0</td>\n",
       "      <td>68.0</td>\n",
       "      <td>0.0</td>\n",
       "      <td>112.0</td>\n",
       "      <td>0.0</td>\n",
       "      <td>3.0</td>\n",
       "      <td>0.0</td>\n",
       "      <td>29.0</td>\n",
       "      <td>0.0</td>\n",
       "      <td>6520.0</td>\n",
       "      <td>0.0</td>\n",
       "      <td>0.30</td>\n",
       "      <td>0.0</td>\n",
       "      <td>6.0</td>\n",
       "      <td>27.0</td>\n",
       "      <td>180.0</td>\n",
       "      <td>0.0</td>\n",
       "      <td>21.0</td>\n",
       "      <td>0.0</td>\n",
       "      <td>166.0</td>\n",
       "      <td>21.0</td>\n",
       "      <td>41.0</td>\n",
       "      <td>6.0</td>\n",
       "      <td>15.0</td>\n",
       "      <td>15.0</td>\n",
       "      <td>20.0</td>\n",
       "      <td>12.0</td>\n",
       "      <td>172.0</td>\n",
       "      <td>0.0</td>\n",
       "      <td>after</td>\n",
       "      <td>before</td>\n",
       "    </tr>\n",
       "    <tr>\n",
       "      <th>23</th>\n",
       "      <td>502-0196659</td>\n",
       "      <td>712.0</td>\n",
       "      <td>200.0</td>\n",
       "      <td>4.0</td>\n",
       "      <td>10.0</td>\n",
       "      <td>30.0</td>\n",
       "      <td>0.0</td>\n",
       "      <td>98.0</td>\n",
       "      <td>73.0</td>\n",
       "      <td>7.0</td>\n",
       "      <td>24.9</td>\n",
       "      <td>47.9</td>\n",
       "      <td>45.4</td>\n",
       "      <td>18281.0</td>\n",
       "      <td>3927.0</td>\n",
       "      <td>269.0</td>\n",
       "      <td>90.0</td>\n",
       "      <td>443.0</td>\n",
       "      <td>110.0</td>\n",
       "      <td>90.0</td>\n",
       "      <td>0.0</td>\n",
       "      <td>62.0</td>\n",
       "      <td>0.0</td>\n",
       "      <td>179.0</td>\n",
       "      <td>0.0</td>\n",
       "      <td>333.0</td>\n",
       "      <td>0.0</td>\n",
       "      <td>3.0</td>\n",
       "      <td>0.0</td>\n",
       "      <td>9.0</td>\n",
       "      <td>0.0</td>\n",
       "      <td>6111.0</td>\n",
       "      <td>0.0</td>\n",
       "      <td>0.26</td>\n",
       "      <td>0.0</td>\n",
       "      <td>48.0</td>\n",
       "      <td>200.0</td>\n",
       "      <td>512.0</td>\n",
       "      <td>0.0</td>\n",
       "      <td>152.0</td>\n",
       "      <td>0.0</td>\n",
       "      <td>556.0</td>\n",
       "      <td>154.0</td>\n",
       "      <td>156.0</td>\n",
       "      <td>46.0</td>\n",
       "      <td>174.0</td>\n",
       "      <td>174.0</td>\n",
       "      <td>26.0</td>\n",
       "      <td>26.0</td>\n",
       "      <td>512.0</td>\n",
       "      <td>0.0</td>\n",
       "      <td>after</td>\n",
       "      <td>before</td>\n",
       "    </tr>\n",
       "    <tr>\n",
       "      <th>24</th>\n",
       "      <td>502-0201483</td>\n",
       "      <td>234.0</td>\n",
       "      <td>17.0</td>\n",
       "      <td>2.0</td>\n",
       "      <td>1.0</td>\n",
       "      <td>15.0</td>\n",
       "      <td>0.0</td>\n",
       "      <td>108.0</td>\n",
       "      <td>83.0</td>\n",
       "      <td>1.6</td>\n",
       "      <td>22.6</td>\n",
       "      <td>46.1</td>\n",
       "      <td>40.7</td>\n",
       "      <td>24450.0</td>\n",
       "      <td>9841.0</td>\n",
       "      <td>74.0</td>\n",
       "      <td>5.0</td>\n",
       "      <td>160.0</td>\n",
       "      <td>12.0</td>\n",
       "      <td>5.0</td>\n",
       "      <td>0.0</td>\n",
       "      <td>9.0</td>\n",
       "      <td>0.0</td>\n",
       "      <td>69.0</td>\n",
       "      <td>0.0</td>\n",
       "      <td>148.0</td>\n",
       "      <td>0.0</td>\n",
       "      <td>3.0</td>\n",
       "      <td>0.0</td>\n",
       "      <td>23.0</td>\n",
       "      <td>0.0</td>\n",
       "      <td>8234.0</td>\n",
       "      <td>0.0</td>\n",
       "      <td>0.33</td>\n",
       "      <td>0.0</td>\n",
       "      <td>3.0</td>\n",
       "      <td>17.0</td>\n",
       "      <td>217.0</td>\n",
       "      <td>0.0</td>\n",
       "      <td>14.0</td>\n",
       "      <td>0.0</td>\n",
       "      <td>194.0</td>\n",
       "      <td>14.0</td>\n",
       "      <td>40.0</td>\n",
       "      <td>3.0</td>\n",
       "      <td>6.0</td>\n",
       "      <td>6.0</td>\n",
       "      <td>11.0</td>\n",
       "      <td>11.0</td>\n",
       "      <td>217.0</td>\n",
       "      <td>0.0</td>\n",
       "      <td>after</td>\n",
       "      <td>before</td>\n",
       "    </tr>\n",
       "    <tr>\n",
       "      <th>25</th>\n",
       "      <td>502-0316588</td>\n",
       "      <td>193.0</td>\n",
       "      <td>38.0</td>\n",
       "      <td>3.0</td>\n",
       "      <td>2.0</td>\n",
       "      <td>16.0</td>\n",
       "      <td>0.0</td>\n",
       "      <td>93.0</td>\n",
       "      <td>68.0</td>\n",
       "      <td>4.0</td>\n",
       "      <td>20.1</td>\n",
       "      <td>47.8</td>\n",
       "      <td>42.4</td>\n",
       "      <td>19817.0</td>\n",
       "      <td>8973.0</td>\n",
       "      <td>65.0</td>\n",
       "      <td>8.0</td>\n",
       "      <td>128.0</td>\n",
       "      <td>30.0</td>\n",
       "      <td>8.0</td>\n",
       "      <td>0.0</td>\n",
       "      <td>17.0</td>\n",
       "      <td>0.0</td>\n",
       "      <td>57.0</td>\n",
       "      <td>0.0</td>\n",
       "      <td>98.0</td>\n",
       "      <td>0.0</td>\n",
       "      <td>3.0</td>\n",
       "      <td>0.0</td>\n",
       "      <td>30.0</td>\n",
       "      <td>0.0</td>\n",
       "      <td>6325.0</td>\n",
       "      <td>0.0</td>\n",
       "      <td>0.29</td>\n",
       "      <td>0.0</td>\n",
       "      <td>13.0</td>\n",
       "      <td>38.0</td>\n",
       "      <td>155.0</td>\n",
       "      <td>0.0</td>\n",
       "      <td>25.0</td>\n",
       "      <td>0.0</td>\n",
       "      <td>156.0</td>\n",
       "      <td>33.0</td>\n",
       "      <td>37.0</td>\n",
       "      <td>5.0</td>\n",
       "      <td>16.0</td>\n",
       "      <td>16.0</td>\n",
       "      <td>24.0</td>\n",
       "      <td>22.0</td>\n",
       "      <td>153.0</td>\n",
       "      <td>0.0</td>\n",
       "      <td>after</td>\n",
       "      <td>before</td>\n",
       "    </tr>\n",
       "    <tr>\n",
       "      <th>26</th>\n",
       "      <td>502-0316752</td>\n",
       "      <td>72.0</td>\n",
       "      <td>2.0</td>\n",
       "      <td>2.0</td>\n",
       "      <td>2.0</td>\n",
       "      <td>6.0</td>\n",
       "      <td>0.0</td>\n",
       "      <td>120.0</td>\n",
       "      <td>95.0</td>\n",
       "      <td>0.2</td>\n",
       "      <td>7.0</td>\n",
       "      <td>49.7</td>\n",
       "      <td>49.0</td>\n",
       "      <td>27383.0</td>\n",
       "      <td>12078.0</td>\n",
       "      <td>28.0</td>\n",
       "      <td>2.0</td>\n",
       "      <td>44.0</td>\n",
       "      <td>0.0</td>\n",
       "      <td>2.0</td>\n",
       "      <td>0.0</td>\n",
       "      <td>0.0</td>\n",
       "      <td>0.0</td>\n",
       "      <td>26.0</td>\n",
       "      <td>0.0</td>\n",
       "      <td>44.0</td>\n",
       "      <td>0.0</td>\n",
       "      <td>3.0</td>\n",
       "      <td>0.0</td>\n",
       "      <td>22.0</td>\n",
       "      <td>0.0</td>\n",
       "      <td>9451.0</td>\n",
       "      <td>0.0</td>\n",
       "      <td>0.34</td>\n",
       "      <td>0.0</td>\n",
       "      <td>0.0</td>\n",
       "      <td>2.0</td>\n",
       "      <td>70.0</td>\n",
       "      <td>0.0</td>\n",
       "      <td>2.0</td>\n",
       "      <td>0.0</td>\n",
       "      <td>53.0</td>\n",
       "      <td>2.0</td>\n",
       "      <td>19.0</td>\n",
       "      <td>0.0</td>\n",
       "      <td>0.0</td>\n",
       "      <td>0.0</td>\n",
       "      <td>2.0</td>\n",
       "      <td>2.0</td>\n",
       "      <td>70.0</td>\n",
       "      <td>0.0</td>\n",
       "      <td>after</td>\n",
       "      <td>before</td>\n",
       "    </tr>\n",
       "    <tr>\n",
       "      <th>27</th>\n",
       "      <td>502-0317495</td>\n",
       "      <td>269.0</td>\n",
       "      <td>70.0</td>\n",
       "      <td>2.0</td>\n",
       "      <td>5.0</td>\n",
       "      <td>28.0</td>\n",
       "      <td>0.0</td>\n",
       "      <td>91.0</td>\n",
       "      <td>66.0</td>\n",
       "      <td>5.3</td>\n",
       "      <td>20.3</td>\n",
       "      <td>49.5</td>\n",
       "      <td>46.2</td>\n",
       "      <td>17933.0</td>\n",
       "      <td>5350.0</td>\n",
       "      <td>89.0</td>\n",
       "      <td>25.0</td>\n",
       "      <td>180.0</td>\n",
       "      <td>45.0</td>\n",
       "      <td>25.0</td>\n",
       "      <td>0.0</td>\n",
       "      <td>24.0</td>\n",
       "      <td>0.0</td>\n",
       "      <td>64.0</td>\n",
       "      <td>0.0</td>\n",
       "      <td>135.0</td>\n",
       "      <td>0.0</td>\n",
       "      <td>3.0</td>\n",
       "      <td>0.0</td>\n",
       "      <td>28.0</td>\n",
       "      <td>0.0</td>\n",
       "      <td>5850.0</td>\n",
       "      <td>0.0</td>\n",
       "      <td>0.27</td>\n",
       "      <td>0.0</td>\n",
       "      <td>21.0</td>\n",
       "      <td>70.0</td>\n",
       "      <td>199.0</td>\n",
       "      <td>0.0</td>\n",
       "      <td>49.0</td>\n",
       "      <td>0.0</td>\n",
       "      <td>208.0</td>\n",
       "      <td>54.0</td>\n",
       "      <td>61.0</td>\n",
       "      <td>16.0</td>\n",
       "      <td>51.0</td>\n",
       "      <td>51.0</td>\n",
       "      <td>23.0</td>\n",
       "      <td>19.0</td>\n",
       "      <td>195.0</td>\n",
       "      <td>0.0</td>\n",
       "      <td>after</td>\n",
       "      <td>before</td>\n",
       "    </tr>\n",
       "    <tr>\n",
       "      <th>28</th>\n",
       "      <td>502-0368860</td>\n",
       "      <td>153.0</td>\n",
       "      <td>29.0</td>\n",
       "      <td>1.0</td>\n",
       "      <td>1.0</td>\n",
       "      <td>32.0</td>\n",
       "      <td>0.0</td>\n",
       "      <td>112.0</td>\n",
       "      <td>87.0</td>\n",
       "      <td>3.9</td>\n",
       "      <td>20.7</td>\n",
       "      <td>47.9</td>\n",
       "      <td>41.3</td>\n",
       "      <td>23749.0</td>\n",
       "      <td>10471.0</td>\n",
       "      <td>43.0</td>\n",
       "      <td>4.0</td>\n",
       "      <td>110.0</td>\n",
       "      <td>25.0</td>\n",
       "      <td>4.0</td>\n",
       "      <td>0.0</td>\n",
       "      <td>19.0</td>\n",
       "      <td>0.0</td>\n",
       "      <td>39.0</td>\n",
       "      <td>0.0</td>\n",
       "      <td>85.0</td>\n",
       "      <td>0.0</td>\n",
       "      <td>3.0</td>\n",
       "      <td>0.0</td>\n",
       "      <td>32.0</td>\n",
       "      <td>0.0</td>\n",
       "      <td>7680.0</td>\n",
       "      <td>0.0</td>\n",
       "      <td>0.30</td>\n",
       "      <td>0.0</td>\n",
       "      <td>6.0</td>\n",
       "      <td>29.0</td>\n",
       "      <td>124.0</td>\n",
       "      <td>0.0</td>\n",
       "      <td>23.0</td>\n",
       "      <td>0.0</td>\n",
       "      <td>121.0</td>\n",
       "      <td>24.0</td>\n",
       "      <td>32.0</td>\n",
       "      <td>5.0</td>\n",
       "      <td>10.0</td>\n",
       "      <td>10.0</td>\n",
       "      <td>19.0</td>\n",
       "      <td>19.0</td>\n",
       "      <td>124.0</td>\n",
       "      <td>0.0</td>\n",
       "      <td>after</td>\n",
       "      <td>before</td>\n",
       "    </tr>\n",
       "    <tr>\n",
       "      <th>29</th>\n",
       "      <td>502-0424911</td>\n",
       "      <td>115.0</td>\n",
       "      <td>18.0</td>\n",
       "      <td>2.0</td>\n",
       "      <td>2.0</td>\n",
       "      <td>13.0</td>\n",
       "      <td>0.0</td>\n",
       "      <td>105.0</td>\n",
       "      <td>80.0</td>\n",
       "      <td>4.8</td>\n",
       "      <td>30.8</td>\n",
       "      <td>47.2</td>\n",
       "      <td>47.1</td>\n",
       "      <td>22655.0</td>\n",
       "      <td>9015.0</td>\n",
       "      <td>38.0</td>\n",
       "      <td>10.0</td>\n",
       "      <td>77.0</td>\n",
       "      <td>8.0</td>\n",
       "      <td>10.0</td>\n",
       "      <td>0.0</td>\n",
       "      <td>5.0</td>\n",
       "      <td>0.0</td>\n",
       "      <td>28.0</td>\n",
       "      <td>0.0</td>\n",
       "      <td>69.0</td>\n",
       "      <td>0.0</td>\n",
       "      <td>3.0</td>\n",
       "      <td>0.0</td>\n",
       "      <td>25.0</td>\n",
       "      <td>0.0</td>\n",
       "      <td>7463.0</td>\n",
       "      <td>0.0</td>\n",
       "      <td>0.31</td>\n",
       "      <td>0.0</td>\n",
       "      <td>3.0</td>\n",
       "      <td>18.0</td>\n",
       "      <td>97.0</td>\n",
       "      <td>0.0</td>\n",
       "      <td>15.0</td>\n",
       "      <td>0.0</td>\n",
       "      <td>87.0</td>\n",
       "      <td>16.0</td>\n",
       "      <td>28.0</td>\n",
       "      <td>2.0</td>\n",
       "      <td>8.0</td>\n",
       "      <td>8.0</td>\n",
       "      <td>10.0</td>\n",
       "      <td>10.0</td>\n",
       "      <td>97.0</td>\n",
       "      <td>0.0</td>\n",
       "      <td>after</td>\n",
       "      <td>before</td>\n",
       "    </tr>\n",
       "    <tr>\n",
       "      <th>30</th>\n",
       "      <td>502-0583948</td>\n",
       "      <td>78.0</td>\n",
       "      <td>9.0</td>\n",
       "      <td>2.0</td>\n",
       "      <td>1.0</td>\n",
       "      <td>11.0</td>\n",
       "      <td>0.0</td>\n",
       "      <td>125.0</td>\n",
       "      <td>100.0</td>\n",
       "      <td>1.5</td>\n",
       "      <td>13.3</td>\n",
       "      <td>48.0</td>\n",
       "      <td>33.8</td>\n",
       "      <td>26965.0</td>\n",
       "      <td>10646.0</td>\n",
       "      <td>29.0</td>\n",
       "      <td>2.0</td>\n",
       "      <td>49.0</td>\n",
       "      <td>7.0</td>\n",
       "      <td>2.0</td>\n",
       "      <td>0.0</td>\n",
       "      <td>6.0</td>\n",
       "      <td>0.0</td>\n",
       "      <td>27.0</td>\n",
       "      <td>0.0</td>\n",
       "      <td>42.0</td>\n",
       "      <td>0.0</td>\n",
       "      <td>3.0</td>\n",
       "      <td>0.0</td>\n",
       "      <td>24.0</td>\n",
       "      <td>0.0</td>\n",
       "      <td>9109.0</td>\n",
       "      <td>0.0</td>\n",
       "      <td>0.32</td>\n",
       "      <td>0.0</td>\n",
       "      <td>1.0</td>\n",
       "      <td>9.0</td>\n",
       "      <td>69.0</td>\n",
       "      <td>0.0</td>\n",
       "      <td>8.0</td>\n",
       "      <td>0.0</td>\n",
       "      <td>61.0</td>\n",
       "      <td>8.0</td>\n",
       "      <td>17.0</td>\n",
       "      <td>1.0</td>\n",
       "      <td>3.0</td>\n",
       "      <td>3.0</td>\n",
       "      <td>6.0</td>\n",
       "      <td>6.0</td>\n",
       "      <td>69.0</td>\n",
       "      <td>0.0</td>\n",
       "      <td>after</td>\n",
       "      <td>before</td>\n",
       "    </tr>\n",
       "    <tr>\n",
       "      <th>31</th>\n",
       "      <td>502-0654715</td>\n",
       "      <td>337.0</td>\n",
       "      <td>64.0</td>\n",
       "      <td>3.0</td>\n",
       "      <td>2.0</td>\n",
       "      <td>24.0</td>\n",
       "      <td>0.0</td>\n",
       "      <td>115.0</td>\n",
       "      <td>90.0</td>\n",
       "      <td>4.9</td>\n",
       "      <td>25.8</td>\n",
       "      <td>45.5</td>\n",
       "      <td>48.0</td>\n",
       "      <td>23852.0</td>\n",
       "      <td>9600.0</td>\n",
       "      <td>134.0</td>\n",
       "      <td>20.0</td>\n",
       "      <td>203.0</td>\n",
       "      <td>44.0</td>\n",
       "      <td>20.0</td>\n",
       "      <td>0.0</td>\n",
       "      <td>32.0</td>\n",
       "      <td>0.0</td>\n",
       "      <td>114.0</td>\n",
       "      <td>0.0</td>\n",
       "      <td>159.0</td>\n",
       "      <td>0.0</td>\n",
       "      <td>3.0</td>\n",
       "      <td>0.0</td>\n",
       "      <td>21.0</td>\n",
       "      <td>0.0</td>\n",
       "      <td>7813.0</td>\n",
       "      <td>0.0</td>\n",
       "      <td>0.30</td>\n",
       "      <td>0.0</td>\n",
       "      <td>12.0</td>\n",
       "      <td>64.0</td>\n",
       "      <td>273.0</td>\n",
       "      <td>0.0</td>\n",
       "      <td>52.0</td>\n",
       "      <td>0.0</td>\n",
       "      <td>274.0</td>\n",
       "      <td>48.0</td>\n",
       "      <td>63.0</td>\n",
       "      <td>16.0</td>\n",
       "      <td>24.0</td>\n",
       "      <td>24.0</td>\n",
       "      <td>40.0</td>\n",
       "      <td>40.0</td>\n",
       "      <td>273.0</td>\n",
       "      <td>0.0</td>\n",
       "      <td>after</td>\n",
       "      <td>before</td>\n",
       "    </tr>\n",
       "  </tbody>\n",
       "</table>\n",
       "</div>"
      ],
      "text/plain": [
       "   Unnamed: 0_level_0 Total Households        bldCode        Avg Floors  \\\n",
       "             bldStaus            after before   after before      after   \n",
       "0          ProjNumber              NaN    NaN     NaN    NaN        NaN   \n",
       "1            20100133             40.0   16.0     1.0    1.0        6.0   \n",
       "2            20110270             48.0   18.0     1.0    1.0        7.0   \n",
       "3            20120894             77.0   16.0     1.0    1.0        6.0   \n",
       "4            20140060             40.0   15.0     1.0    1.0        7.0   \n",
       "5            20140231             34.0    6.0     1.0    1.0        9.0   \n",
       "6            20140467             41.0   16.0     1.0    1.0        7.0   \n",
       "7            20140556             45.0   16.0     1.0    1.0        7.0   \n",
       "8            20141182             40.0   12.0     1.0    1.0        3.0   \n",
       "9            20150274             50.0   12.0     1.0    1.0        3.0   \n",
       "10           20150857             47.0   12.0     1.0    1.0        8.0   \n",
       "11           20160319             62.0   33.0     1.0    1.0        6.0   \n",
       "12           20170076            112.0    4.0     3.0    1.0       10.0   \n",
       "13           20171974             54.0   13.0     1.0    1.0       10.0   \n",
       "14           20180345             76.0   39.0     1.0    1.0        8.0   \n",
       "15           20180812             47.0   17.0     1.0    1.0        7.0   \n",
       "16           20180845             48.0   22.0     1.0    1.0        7.0   \n",
       "17           20180988             56.0   20.0     1.0    1.0        7.0   \n",
       "18           20181092             45.0   16.0     1.0    1.0        7.0   \n",
       "19           20181295             71.0   24.0     1.0    1.0        7.0   \n",
       "20        502-0147678            232.0   12.0     2.0    1.0       18.0   \n",
       "21        502-0178285            293.0   84.0     2.0    3.0       34.0   \n",
       "22        502-0189720            207.0   27.0     3.0    3.0       20.0   \n",
       "23        502-0196659            712.0  200.0     4.0   10.0       30.0   \n",
       "24        502-0201483            234.0   17.0     2.0    1.0       15.0   \n",
       "25        502-0316588            193.0   38.0     3.0    2.0       16.0   \n",
       "26        502-0316752             72.0    2.0     2.0    2.0        6.0   \n",
       "27        502-0317495            269.0   70.0     2.0    5.0       28.0   \n",
       "28        502-0368860            153.0   29.0     1.0    1.0       32.0   \n",
       "29        502-0424911            115.0   18.0     2.0    2.0       13.0   \n",
       "30        502-0583948             78.0    9.0     2.0    1.0       11.0   \n",
       "31        502-0654715            337.0   64.0     3.0    2.0       24.0   \n",
       "\n",
       "          Apartment Size Sq Meters        Years in Building         \\\n",
       "   before                    after before             after before   \n",
       "0     NaN                      NaN    NaN               NaN    NaN   \n",
       "1     0.0                     82.0   70.0              11.8   29.6   \n",
       "2     0.0                     92.0   80.0              10.4   27.8   \n",
       "3     0.0                     72.0   60.0               5.0   23.9   \n",
       "4     0.0                     82.0   70.0              10.0   26.5   \n",
       "5     0.0                    115.0   90.0               1.9   10.7   \n",
       "6     0.0                    102.0   90.0               9.5   24.4   \n",
       "7     0.0                     82.0   70.0              10.7   30.0   \n",
       "8     0.0                    112.0  100.0               7.0   23.5   \n",
       "9     0.0                     92.0   80.0               8.1   33.9   \n",
       "10    0.0                    115.0   90.0               7.3   28.4   \n",
       "11    0.0                    102.0   90.0              13.0   24.5   \n",
       "12    0.0                     75.0   50.0               0.2    6.8   \n",
       "13    0.0                     85.0   60.0               3.6   15.2   \n",
       "14    0.0                     92.0   80.0              13.1   25.5   \n",
       "15    0.0                     62.0   50.0               6.7   18.6   \n",
       "16    0.0                     98.0   86.0               6.5   14.2   \n",
       "17    0.0                     82.0   70.0               7.1   19.8   \n",
       "18    0.0                     92.0   80.0              10.4   29.4   \n",
       "19    0.0                     92.0   80.0               8.1   23.8   \n",
       "20    0.0                    115.0   90.0               1.1   20.3   \n",
       "21    0.0                     85.0   60.0               7.9   27.6   \n",
       "22    0.0                     89.0   64.0               2.5   18.9   \n",
       "23    0.0                     98.0   73.0               7.0   24.9   \n",
       "24    0.0                    108.0   83.0               1.6   22.6   \n",
       "25    0.0                     93.0   68.0               4.0   20.1   \n",
       "26    0.0                    120.0   95.0               0.2    7.0   \n",
       "27    0.0                     91.0   66.0               5.3   20.3   \n",
       "28    0.0                    112.0   87.0               3.9   20.7   \n",
       "29    0.0                    105.0   80.0               4.8   30.8   \n",
       "30    0.0                    125.0  100.0               1.5   13.3   \n",
       "31    0.0                    115.0   90.0               4.9   25.8   \n",
       "\n",
       "   Average Age        average income          Nubmer of renters         \\\n",
       "         after before          after   before             after before   \n",
       "0          NaN    NaN            NaN      NaN               NaN    NaN   \n",
       "1         44.0   40.1        15291.0   7703.0              16.0    6.0   \n",
       "2         50.8   52.3        17147.0   8263.0              15.0    5.0   \n",
       "3         47.2   40.3        16484.0  10213.0              27.0    2.0   \n",
       "4         47.7   52.1        16404.0   9366.0              14.0    6.0   \n",
       "5         45.7   42.2        23819.0   7270.0              12.0    0.0   \n",
       "6         38.8   42.8        18647.0   9476.0              12.0    6.0   \n",
       "7         53.2   55.7        15533.0   6697.0              15.0    6.0   \n",
       "8         43.4   52.8        20643.0   8426.0              16.0    5.0   \n",
       "9         44.6   33.9        19515.0  11023.0              16.0    4.0   \n",
       "10        47.0   34.7        22752.0  10391.0              14.0    4.0   \n",
       "11        46.6   42.4        16181.0   9395.0              17.0    7.0   \n",
       "12        50.1   63.2        18520.0   9680.0              51.0    2.0   \n",
       "13        47.9   43.1        18077.0   9417.0              15.0    5.0   \n",
       "14        48.1   47.5        15860.0   9648.0              22.0   12.0   \n",
       "15        53.0   56.9        13503.0   9853.0              22.0    7.0   \n",
       "16        42.6   40.0        17871.0  11196.0              15.0    6.0   \n",
       "17        51.9   48.2        16998.0  11002.0              22.0    8.0   \n",
       "18        48.3   47.1        18051.0   9259.0              14.0    6.0   \n",
       "19        46.6   42.7        17445.0   8181.0              22.0    7.0   \n",
       "20        47.2   49.0        26305.0  11717.0              80.0    0.0   \n",
       "21        46.7   43.4        17171.0   6851.0             120.0   36.0   \n",
       "22        47.4   44.6        20062.0   7264.0              80.0   12.0   \n",
       "23        47.9   45.4        18281.0   3927.0             269.0   90.0   \n",
       "24        46.1   40.7        24450.0   9841.0              74.0    5.0   \n",
       "25        47.8   42.4        19817.0   8973.0              65.0    8.0   \n",
       "26        49.7   49.0        27383.0  12078.0              28.0    2.0   \n",
       "27        49.5   46.2        17933.0   5350.0              89.0   25.0   \n",
       "28        47.9   41.3        23749.0  10471.0              43.0    4.0   \n",
       "29        47.2   47.1        22655.0   9015.0              38.0   10.0   \n",
       "30        48.0   33.8        26965.0  10646.0              29.0    2.0   \n",
       "31        45.5   48.0        23852.0   9600.0             134.0   20.0   \n",
       "\n",
       "   Number of owners        Leaving Renters        Leaving Owners         \\\n",
       "              after before           after before          after before   \n",
       "0               NaN    NaN             NaN    NaN            NaN    NaN   \n",
       "1              24.0   10.0             6.0    0.0            8.0    0.0   \n",
       "2              33.0   13.0             5.0    0.0           10.0    0.0   \n",
       "3              50.0   14.0             2.0    0.0            5.0    0.0   \n",
       "4              26.0    9.0             6.0    0.0            4.0    0.0   \n",
       "5              22.0    6.0             0.0    0.0            6.0    0.0   \n",
       "6              29.0   10.0             6.0    0.0            8.0    0.0   \n",
       "7              30.0   10.0             6.0    0.0            9.0    0.0   \n",
       "8              24.0    7.0             5.0    0.0            5.0    0.0   \n",
       "9              34.0    8.0             4.0    0.0            3.0    0.0   \n",
       "10             33.0    8.0             4.0    0.0            4.0    0.0   \n",
       "11             45.0   26.0             7.0    0.0           17.0    0.0   \n",
       "12             61.0    2.0             2.0    0.0            2.0    0.0   \n",
       "13             39.0    8.0             5.0    0.0            6.0    0.0   \n",
       "14             54.0   27.0            12.0    0.0           16.0    0.0   \n",
       "15             25.0   10.0             7.0    0.0            6.0    0.0   \n",
       "16             33.0   16.0             6.0    0.0            6.0    0.0   \n",
       "17             34.0   12.0             8.0    0.0            7.0    0.0   \n",
       "18             31.0   10.0             6.0    0.0            9.0    0.0   \n",
       "19             49.0   17.0             7.0    0.0           13.0    0.0   \n",
       "20            152.0   12.0             0.0    0.0            8.0    0.0   \n",
       "21            173.0   48.0            36.0    0.0           23.0    0.0   \n",
       "22            127.0   15.0            12.0    0.0            9.0    0.0   \n",
       "23            443.0  110.0            90.0    0.0           62.0    0.0   \n",
       "24            160.0   12.0             5.0    0.0            9.0    0.0   \n",
       "25            128.0   30.0             8.0    0.0           17.0    0.0   \n",
       "26             44.0    0.0             2.0    0.0            0.0    0.0   \n",
       "27            180.0   45.0            25.0    0.0           24.0    0.0   \n",
       "28            110.0   25.0             4.0    0.0           19.0    0.0   \n",
       "29             77.0    8.0            10.0    0.0            5.0    0.0   \n",
       "30             49.0    7.0             2.0    0.0            6.0    0.0   \n",
       "31            203.0   44.0            20.0    0.0           32.0    0.0   \n",
       "\n",
       "   New Renters        New Owners        Type of Project          Tic         \\\n",
       "         after before      after before           after before after before   \n",
       "0          NaN    NaN        NaN    NaN             NaN    NaN   NaN    NaN   \n",
       "1         10.0    0.0       14.0    0.0             1.0    0.0   2.0    0.0   \n",
       "2         10.0    0.0       20.0    0.0             1.0    0.0  17.0    0.0   \n",
       "3         25.0    0.0       36.0    0.0             1.0    0.0  14.0    0.0   \n",
       "4          8.0    0.0       17.0    0.0             1.0    0.0  16.0    0.0   \n",
       "5         12.0    0.0       16.0    0.0             2.0    0.0  12.0    0.0   \n",
       "6          6.0    0.0       19.0    0.0             1.0    0.0  18.0    0.0   \n",
       "7          9.0    0.0       20.0    0.0             1.0    0.0   7.0    0.0   \n",
       "8         11.0    0.0       17.0    0.0             1.0    0.0  20.0    0.0   \n",
       "9         12.0    0.0       26.0    0.0             1.0    0.0  13.0    0.0   \n",
       "10        10.0    0.0       25.0    0.0             2.0    0.0  10.0    0.0   \n",
       "11        10.0    0.0       19.0    0.0             1.0    0.0  19.0    0.0   \n",
       "12        49.0    0.0       59.0    0.0             2.0    0.0   8.0    0.0   \n",
       "13        10.0    0.0       31.0    0.0             2.0    0.0   5.0    0.0   \n",
       "14        10.0    0.0       27.0    0.0             1.0    0.0   6.0    0.0   \n",
       "15        15.0    0.0       15.0    0.0             1.0    0.0   3.0    0.0   \n",
       "16         9.0    0.0       17.0    0.0             1.0    0.0  31.0    0.0   \n",
       "17        14.0    0.0       22.0    0.0             1.0    0.0   1.0    0.0   \n",
       "18         8.0    0.0       21.0    0.0             1.0    0.0   4.0    0.0   \n",
       "19        15.0    0.0       32.0    0.0             1.0    0.0  15.0    0.0   \n",
       "20        80.0    0.0      140.0    0.0             3.0    0.0  26.0    0.0   \n",
       "21        84.0    0.0      125.0    0.0             3.0    0.0  27.0    0.0   \n",
       "22        68.0    0.0      112.0    0.0             3.0    0.0  29.0    0.0   \n",
       "23       179.0    0.0      333.0    0.0             3.0    0.0   9.0    0.0   \n",
       "24        69.0    0.0      148.0    0.0             3.0    0.0  23.0    0.0   \n",
       "25        57.0    0.0       98.0    0.0             3.0    0.0  30.0    0.0   \n",
       "26        26.0    0.0       44.0    0.0             3.0    0.0  22.0    0.0   \n",
       "27        64.0    0.0      135.0    0.0             3.0    0.0  28.0    0.0   \n",
       "28        39.0    0.0       85.0    0.0             3.0    0.0  32.0    0.0   \n",
       "29        28.0    0.0       69.0    0.0             3.0    0.0  25.0    0.0   \n",
       "30        27.0    0.0       42.0    0.0             3.0    0.0  24.0    0.0   \n",
       "31       114.0    0.0      159.0    0.0             3.0    0.0  21.0    0.0   \n",
       "\n",
       "   Cost For Staying        Ratio Cost For Staying        Staying         \\\n",
       "              after before                  after before   after before   \n",
       "0               NaN    NaN                    NaN    NaN     NaN    NaN   \n",
       "1            4334.0    0.0                   0.24    0.0     2.0   16.0   \n",
       "2            5005.0    0.0                   0.25    0.0     3.0   18.0   \n",
       "3            4847.0    0.0                   0.28    0.0     9.0   16.0   \n",
       "4            4503.0    0.0                   0.24    0.0     5.0   15.0   \n",
       "5            7886.0    0.0                   0.31    0.0     0.0    6.0   \n",
       "6            5432.0    0.0                   0.25    0.0     2.0   16.0   \n",
       "7            4622.0    0.0                   0.26    0.0     1.0   16.0   \n",
       "8            6551.0    0.0                   0.28    0.0     2.0   12.0   \n",
       "9            5849.0    0.0                   0.27    0.0     5.0   12.0   \n",
       "10           7198.0    0.0                   0.29    0.0     4.0   12.0   \n",
       "11           4347.0    0.0                   0.22    0.0     9.0   33.0   \n",
       "12           6037.0    0.0                   0.32    0.0     0.0    4.0   \n",
       "13           5589.0    0.0                   0.28    0.0     2.0   13.0   \n",
       "14           4094.0    0.0                   0.21    0.0    11.0   39.0   \n",
       "15           3509.0    0.0                   0.24    0.0     4.0   17.0   \n",
       "16           4718.0    0.0                   0.22    0.0    10.0   22.0   \n",
       "17           4593.0    0.0                   0.24    0.0     5.0   20.0   \n",
       "18           5152.0    0.0                   0.25    0.0     1.0   16.0   \n",
       "19           5261.0    0.0                   0.26    0.0     4.0   24.0   \n",
       "20           8898.0    0.0                   0.33    0.0     4.0   12.0   \n",
       "21           5311.0    0.0                   0.26    0.0    25.0   84.0   \n",
       "22           6520.0    0.0                   0.30    0.0     6.0   27.0   \n",
       "23           6111.0    0.0                   0.26    0.0    48.0  200.0   \n",
       "24           8234.0    0.0                   0.33    0.0     3.0   17.0   \n",
       "25           6325.0    0.0                   0.29    0.0    13.0   38.0   \n",
       "26           9451.0    0.0                   0.34    0.0     0.0    2.0   \n",
       "27           5850.0    0.0                   0.27    0.0    21.0   70.0   \n",
       "28           7680.0    0.0                   0.30    0.0     6.0   29.0   \n",
       "29           7463.0    0.0                   0.31    0.0     3.0   18.0   \n",
       "30           9109.0    0.0                   0.32    0.0     1.0    9.0   \n",
       "31           7813.0    0.0                   0.30    0.0    12.0   64.0   \n",
       "\n",
       "   New Comers        Leaving        Under 65        Above 65         \\\n",
       "        after before   after before    after before    after before   \n",
       "0         NaN    NaN     NaN    NaN      NaN    NaN      NaN    NaN   \n",
       "1        24.0    0.0    14.0    0.0     32.0   13.0      8.0    3.0   \n",
       "2        30.0    0.0    15.0    0.0     35.0   11.0     13.0    7.0   \n",
       "3        61.0    0.0     7.0    0.0     63.0   14.0     14.0    2.0   \n",
       "4        25.0    0.0    10.0    0.0     31.0   11.0      9.0    4.0   \n",
       "5        28.0    0.0     6.0    0.0     28.0    5.0      6.0    1.0   \n",
       "6        25.0    0.0    14.0    0.0     37.0   12.0      4.0    4.0   \n",
       "7        29.0    0.0    15.0    0.0     30.0   10.0     15.0    6.0   \n",
       "8        28.0    0.0    10.0    0.0     30.0    6.0     10.0    6.0   \n",
       "9        38.0    0.0     7.0    0.0     42.0   11.0      8.0    1.0   \n",
       "10       35.0    0.0     8.0    0.0     35.0   11.0     12.0    1.0   \n",
       "11       29.0    0.0    24.0    0.0     50.0   29.0     12.0    4.0   \n",
       "12      108.0    0.0     4.0    0.0     88.0    1.0     24.0    3.0   \n",
       "13       41.0    0.0    11.0    0.0     44.0   12.0     10.0    1.0   \n",
       "14       37.0    0.0    28.0    0.0     58.0   30.0     18.0    9.0   \n",
       "15       30.0    0.0    13.0    0.0     31.0   10.0     16.0    7.0   \n",
       "16       26.0    0.0    12.0    0.0     42.0   20.0      6.0    2.0   \n",
       "17       36.0    0.0    15.0    0.0     37.0   14.0     19.0    6.0   \n",
       "18       29.0    0.0    15.0    0.0     36.0   12.0      9.0    4.0   \n",
       "19       47.0    0.0    20.0    0.0     60.0   20.0     11.0    4.0   \n",
       "20      220.0    0.0     8.0    0.0    180.0    9.0     52.0    3.0   \n",
       "21      209.0    0.0    59.0    0.0    235.0   69.0     58.0   15.0   \n",
       "22      180.0    0.0    21.0    0.0    166.0   21.0     41.0    6.0   \n",
       "23      512.0    0.0   152.0    0.0    556.0  154.0    156.0   46.0   \n",
       "24      217.0    0.0    14.0    0.0    194.0   14.0     40.0    3.0   \n",
       "25      155.0    0.0    25.0    0.0    156.0   33.0     37.0    5.0   \n",
       "26       70.0    0.0     2.0    0.0     53.0    2.0     19.0    0.0   \n",
       "27      199.0    0.0    49.0    0.0    208.0   54.0     61.0   16.0   \n",
       "28      124.0    0.0    23.0    0.0    121.0   24.0     32.0    5.0   \n",
       "29       97.0    0.0    15.0    0.0     87.0   16.0     28.0    2.0   \n",
       "30       69.0    0.0     8.0    0.0     61.0    8.0     17.0    1.0   \n",
       "31      273.0    0.0    52.0    0.0    274.0   48.0     63.0   16.0   \n",
       "\n",
       "   Low Income        Medium Income        High Income         \\\n",
       "        after before         after before       after before   \n",
       "0         NaN    NaN           NaN    NaN         NaN    NaN   \n",
       "1        11.0   11.0          10.0    5.0        19.0    0.0   \n",
       "2        12.0   12.0           8.0    6.0        28.0    0.0   \n",
       "3         5.0    5.0          61.0   11.0        11.0    0.0   \n",
       "4         6.0    6.0          17.0    9.0        17.0    0.0   \n",
       "5         5.0    5.0           1.0    1.0        28.0    0.0   \n",
       "6         8.0    8.0           8.0    8.0        25.0    0.0   \n",
       "7        15.0   15.0          10.0    1.0        20.0    0.0   \n",
       "8         6.0    6.0           6.0    6.0        28.0    0.0   \n",
       "9         3.0    3.0          12.0    9.0        35.0    0.0   \n",
       "10        6.0    6.0           6.0    6.0        35.0    0.0   \n",
       "11       19.0   19.0          14.0   14.0        29.0    0.0   \n",
       "12        2.0    2.0          71.0    2.0        39.0    0.0   \n",
       "13        5.0    5.0          17.0    8.0        32.0    0.0   \n",
       "14       17.0   17.0          23.0   22.0        36.0    0.0   \n",
       "15        6.0    6.0          41.0   11.0         0.0    0.0   \n",
       "16        5.0    5.0          17.0   17.0        26.0    0.0   \n",
       "17        5.0    5.0          27.0   15.0        24.0    0.0   \n",
       "18        6.0    6.0          10.0   10.0        29.0    0.0   \n",
       "19       16.0   16.0          11.0    8.0        44.0    0.0   \n",
       "20        1.0    1.0          11.0   11.0       220.0    0.0   \n",
       "21       52.0   52.0          63.0   32.0       178.0    0.0   \n",
       "22       15.0   15.0          20.0   12.0       172.0    0.0   \n",
       "23      174.0  174.0          26.0   26.0       512.0    0.0   \n",
       "24        6.0    6.0          11.0   11.0       217.0    0.0   \n",
       "25       16.0   16.0          24.0   22.0       153.0    0.0   \n",
       "26        0.0    0.0           2.0    2.0        70.0    0.0   \n",
       "27       51.0   51.0          23.0   19.0       195.0    0.0   \n",
       "28       10.0   10.0          19.0   19.0       124.0    0.0   \n",
       "29        8.0    8.0          10.0   10.0        97.0    0.0   \n",
       "30        3.0    3.0           6.0    6.0        69.0    0.0   \n",
       "31       24.0   24.0          40.0   40.0       273.0    0.0   \n",
       "\n",
       "   Before or After Renewal          \n",
       "                     after  before  \n",
       "0                      NaN     NaN  \n",
       "1                    after  before  \n",
       "2                    after  before  \n",
       "3                    after  before  \n",
       "4                    after  before  \n",
       "5                    after  before  \n",
       "6                    after  before  \n",
       "7                    after  before  \n",
       "8                    after  before  \n",
       "9                    after  before  \n",
       "10                   after  before  \n",
       "11                   after  before  \n",
       "12                   after  before  \n",
       "13                   after  before  \n",
       "14                   after  before  \n",
       "15                   after  before  \n",
       "16                   after  before  \n",
       "17                   after  before  \n",
       "18                   after  before  \n",
       "19                   after  before  \n",
       "20                   after  before  \n",
       "21                   after  before  \n",
       "22                   after  before  \n",
       "23                   after  before  \n",
       "24                   after  before  \n",
       "25                   after  before  \n",
       "26                   after  before  \n",
       "27                   after  before  \n",
       "28                   after  before  \n",
       "29                   after  before  \n",
       "30                   after  before  \n",
       "31                   after  before  "
      ]
     },
     "execution_count": 459,
     "metadata": {},
     "output_type": "execute_result"
    }
   ],
   "source": [
    "movementsByProject"
   ]
  },
  {
   "cell_type": "code",
   "execution_count": null,
   "metadata": {},
   "outputs": [],
   "source": []
  }
 ],
 "metadata": {
  "kernelspec": {
   "display_name": "geo_env",
   "language": "python",
   "name": "geo_env"
  },
  "language_info": {
   "codemirror_mode": {
    "name": "ipython",
    "version": 3
   },
   "file_extension": ".py",
   "mimetype": "text/x-python",
   "name": "python",
   "nbconvert_exporter": "python",
   "pygments_lexer": "ipython3",
   "version": "3.7.9"
  }
 },
 "nbformat": 4,
 "nbformat_minor": 4
}
